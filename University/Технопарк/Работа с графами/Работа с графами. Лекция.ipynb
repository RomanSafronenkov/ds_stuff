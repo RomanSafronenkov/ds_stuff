{
 "cells": [
  {
   "cell_type": "markdown",
   "metadata": {
    "id": "sCUvMfSk3FSJ"
   },
   "source": [
    "## Графы. NextworkX\n",
    "\n",
    "### Создание графа\n",
    "\n",
    "Создание пустого графа без вершин и рёбер:"
   ]
  },
  {
   "cell_type": "code",
   "execution_count": 2,
   "metadata": {
    "id": "XNKtqDd73FSJ"
   },
   "outputs": [],
   "source": [
    "import networkx as nx\n",
    "import matplotlib.pyplot as plt\n",
    "G = nx.Graph()"
   ]
  },
  {
   "cell_type": "markdown",
   "metadata": {
    "id": "exI718mc3FSJ"
   },
   "source": [
    "По определению, `Граф` - набор вершин и свящей между ними.  В NetworkX вершинами может быть что угодно, но мы будем работать с интами.\n",
    "\n",
    "# Nodes\n",
    "Можно просто добавить одну вершину:"
   ]
  },
  {
   "cell_type": "code",
   "execution_count": 3,
   "metadata": {
    "id": "S6B6hYEK3FSJ"
   },
   "outputs": [],
   "source": [
    "G.add_node(1)"
   ]
  },
  {
   "cell_type": "markdown",
   "metadata": {
    "id": "dg3ZN7y93FSK"
   },
   "source": [
    "Или добавить сразу несколько:"
   ]
  },
  {
   "cell_type": "code",
   "execution_count": 4,
   "metadata": {
    "id": "i5uAq7ms3FSK"
   },
   "outputs": [],
   "source": [
    "G.add_nodes_from([2, 3])"
   ]
  },
  {
   "cell_type": "markdown",
   "metadata": {
    "id": "ktMMWSoj3FSK"
   },
   "source": [
    "Можно перетаскивать вершины из одного графа в другой:"
   ]
  },
  {
   "cell_type": "code",
   "execution_count": 5,
   "metadata": {
    "id": "q87HXbl73FSK"
   },
   "outputs": [],
   "source": [
    "H = nx.path_graph(10)\n",
    "G.add_nodes_from(H)"
   ]
  },
  {
   "cell_type": "markdown",
   "metadata": {
    "id": "ATzfiI3W3FSK"
   },
   "source": [
    "`G` теперь включает вершины `H` как вершины `G`.\n",
    "Но можно сделать так, чтобы граф `H` был просто частичкой `G`."
   ]
  },
  {
   "cell_type": "code",
   "execution_count": 6,
   "metadata": {
    "id": "lY3tCYLx3FSK"
   },
   "outputs": [],
   "source": [
    "G.add_node(H)"
   ]
  },
  {
   "cell_type": "markdown",
   "metadata": {
    "id": "bcvr6eV_3FSK"
   },
   "source": [
    "Теперь граф `G` содержит `H` как вершину.  \n",
    "\n",
    "# Рёбра\n",
    "\n",
    "Рёбра тоже можно добавлять по одному:"
   ]
  },
  {
   "cell_type": "code",
   "execution_count": 7,
   "metadata": {
    "id": "ikrQ8hQO3FSK"
   },
   "outputs": [],
   "source": [
    "G.add_edge(1, 2)\n",
    "e = (2, 3)\n",
    "G.add_edge(*e)  # unpack edge tuple*"
   ]
  },
  {
   "cell_type": "markdown",
   "metadata": {
    "id": "rtL_GWo43FSK"
   },
   "source": [
    "или единым списком:"
   ]
  },
  {
   "cell_type": "code",
   "execution_count": 8,
   "metadata": {
    "id": "gWG__Bxf3FSK"
   },
   "outputs": [],
   "source": [
    "G.add_edges_from([(1, 2), (1, 3)])"
   ]
  },
  {
   "cell_type": "markdown",
   "metadata": {
    "id": "cJk8j0Xw3FSK"
   },
   "source": [
    "Кроме того, в один граф можно добавлять рёбра из другого:"
   ]
  },
  {
   "cell_type": "code",
   "execution_count": 9,
   "metadata": {
    "id": "QivlaK7A3FSK"
   },
   "outputs": [],
   "source": [
    "G.add_edges_from(H.edges)"
   ]
  },
  {
   "cell_type": "markdown",
   "metadata": {
    "id": "DDjQpMgA3FSK"
   },
   "source": [
    "Очистить граф:"
   ]
  },
  {
   "cell_type": "code",
   "execution_count": 10,
   "metadata": {
    "id": "R4nJJ-yF3FSK"
   },
   "outputs": [],
   "source": [
    "G.clear()"
   ]
  },
  {
   "cell_type": "markdown",
   "metadata": {
    "id": "Wy5NLZXJ3FSL"
   },
   "source": [
    "Как и говорилось, графы можно создавать из разных объектов:"
   ]
  },
  {
   "cell_type": "code",
   "execution_count": 11,
   "metadata": {
    "id": "cJs_z6gk3FSL"
   },
   "outputs": [],
   "source": [
    "G.add_edges_from([(1, 2), (1, 3)])\n",
    "G.add_node(1)\n",
    "G.add_edge(1, 2)\n",
    "G.add_node(\"spam\")        # adds node \"spam\"\n",
    "G.add_nodes_from(\"spam\")  # adds 4 nodes: 's', 'p', 'a', 'm'\n",
    "G.add_edge(3, 'm')"
   ]
  },
  {
   "cell_type": "code",
   "execution_count": 13,
   "metadata": {
    "colab": {
     "base_uri": "https://localhost:8080/",
     "height": 319
    },
    "id": "Zvuz70-Y4_7b",
    "outputId": "61371995-ba23-49d7-8456-002f640eb04e"
   },
   "outputs": [
    {
     "data": {
      "image/png": "[encoded data removed]",
      "text/plain": [
       "<Figure size 432x288 with 1 Axes>"
      ]
     },
     "metadata": {},
     "output_type": "display_data"
    }
   ],
   "source": [
    "nx.draw(G, with_labels=True, font_weight='bold')"
   ]
  },
  {
   "cell_type": "markdown",
   "metadata": {
    "id": "UQ_3D4Fj3FSL"
   },
   "source": [
    "Число вершин и число рёбер:"
   ]
  },
  {
   "cell_type": "code",
   "execution_count": 14,
   "metadata": {
    "colab": {
     "base_uri": "https://localhost:8080/"
    },
    "id": "dp5ZZ8lT3FSL",
    "outputId": "f37ca05a-32d1-4a00-b158-9df064f41567"
   },
   "outputs": [
    {
     "data": {
      "text/plain": [
       "8"
      ]
     },
     "execution_count": 14,
     "metadata": {},
     "output_type": "execute_result"
    }
   ],
   "source": [
    "G.number_of_nodes()"
   ]
  },
  {
   "cell_type": "code",
   "execution_count": 15,
   "metadata": {
    "colab": {
     "base_uri": "https://localhost:8080/"
    },
    "id": "GWg8oXTk_veL",
    "outputId": "15872cf9-c4ce-4c03-d343-f2cf85eae847"
   },
   "outputs": [
    {
     "data": {
      "text/plain": [
       "3"
      ]
     },
     "execution_count": 15,
     "metadata": {},
     "output_type": "execute_result"
    }
   ],
   "source": [
    "G.number_of_edges()"
   ]
  },
  {
   "cell_type": "markdown",
   "metadata": {
    "id": "haFw180F3FSL"
   },
   "source": [
    "# Смотрим элементы графа\n"
   ]
  },
  {
   "cell_type": "code",
   "execution_count": 16,
   "metadata": {
    "colab": {
     "base_uri": "https://localhost:8080/"
    },
    "id": "aPfNVVEi_8E8",
    "outputId": "cbbbaa81-2004-4d9b-9245-044e1951d14a"
   },
   "outputs": [
    {
     "data": {
      "text/plain": [
       "[1, 2, 3, 'spam', 's', 'p', 'a', 'm']"
      ]
     },
     "execution_count": 16,
     "metadata": {},
     "output_type": "execute_result"
    }
   ],
   "source": [
    "list(G.nodes)"
   ]
  },
  {
   "cell_type": "code",
   "execution_count": 17,
   "metadata": {
    "colab": {
     "base_uri": "https://localhost:8080/"
    },
    "id": "x1z9czAb_9iR",
    "outputId": "12348b5c-da38-4da5-b07f-17a126a2bc7e"
   },
   "outputs": [
    {
     "data": {
      "text/plain": [
       "[(1, 2), (1, 3), (3, 'm')]"
      ]
     },
     "execution_count": 17,
     "metadata": {},
     "output_type": "execute_result"
    }
   ],
   "source": [
    "list(G.edges)"
   ]
  },
  {
   "cell_type": "code",
   "execution_count": 18,
   "metadata": {
    "colab": {
     "base_uri": "https://localhost:8080/"
    },
    "id": "SI5H94Qq__G1",
    "outputId": "f74c3861-18d4-41c6-afd0-3d885ab7f229"
   },
   "outputs": [
    {
     "data": {
      "text/plain": [
       "[2, 3]"
      ]
     },
     "execution_count": 18,
     "metadata": {},
     "output_type": "execute_result"
    }
   ],
   "source": [
    "list(G.adj[1])  # соседи [1]"
   ]
  },
  {
   "cell_type": "code",
   "execution_count": 30,
   "metadata": {
    "colab": {
     "base_uri": "https://localhost:8080/"
    },
    "id": "B123nl-b3FSL",
    "outputId": "74818b8e-383e-44bb-c4b2-6b9e4639bcb9"
   },
   "outputs": [
    {
     "data": {
      "text/plain": [
       "1"
      ]
     },
     "execution_count": 30,
     "metadata": {},
     "output_type": "execute_result"
    }
   ],
   "source": [
    "G.degree[1]  # Число вершин с 1 соседом"
   ]
  },
  {
   "cell_type": "markdown",
   "metadata": {
    "id": "ung-Hxqi3FSM"
   },
   "source": [
    "# Удаляем элементы графа"
   ]
  },
  {
   "cell_type": "code",
   "execution_count": 23,
   "metadata": {
    "id": "ewJTAYdQAcjA"
   },
   "outputs": [],
   "source": [
    "G.remove_node(2)"
   ]
  },
  {
   "cell_type": "code",
   "execution_count": 24,
   "metadata": {
    "id": "QRkZDLonAeXx"
   },
   "outputs": [],
   "source": [
    "G.remove_nodes_from(\"spam\")"
   ]
  },
  {
   "cell_type": "code",
   "execution_count": 25,
   "metadata": {
    "colab": {
     "base_uri": "https://localhost:8080/"
    },
    "id": "X99sdCfKAhBX",
    "outputId": "bf6bef1c-1d36-43b4-ebf8-f49d7abc0ee1"
   },
   "outputs": [
    {
     "data": {
      "text/plain": [
       "[1, 3, 'spam']"
      ]
     },
     "execution_count": 25,
     "metadata": {},
     "output_type": "execute_result"
    }
   ],
   "source": [
    "list(G.nodes)"
   ]
  },
  {
   "cell_type": "code",
   "execution_count": 26,
   "metadata": {
    "colab": {
     "base_uri": "https://localhost:8080/",
     "height": 319
    },
    "id": "KF7YPpAwAjE2",
    "outputId": "174fc828-40b8-43a8-c2c1-34cd05f437cd"
   },
   "outputs": [
    {
     "data": {
      "image/png": "[encoded data removed]",
      "text/plain": [
       "<Figure size 432x288 with 1 Axes>"
      ]
     },
     "metadata": {},
     "output_type": "display_data"
    }
   ],
   "source": [
    "nx.draw(G, with_labels=True, font_weight='bold')"
   ]
  },
  {
   "cell_type": "code",
   "execution_count": 31,
   "metadata": {
    "id": "C4a14yCq3FSM"
   },
   "outputs": [],
   "source": [
    "G.remove_edge(1, 3)"
   ]
  },
  {
   "cell_type": "code",
   "execution_count": 32,
   "metadata": {
    "colab": {
     "base_uri": "https://localhost:8080/",
     "height": 319
    },
    "id": "bevHbJpABmZE",
    "outputId": "a9b4f5ff-989c-4ae2-ae73-af531a293d63"
   },
   "outputs": [
    {
     "data": {
      "image/png": "[encoded data removed]",
      "text/plain": [
       "<Figure size 432x288 with 1 Axes>"
      ]
     },
     "metadata": {},
     "output_type": "display_data"
    }
   ],
   "source": [
    "nx.draw(G, with_labels=True, font_weight='bold')\n"
   ]
  },
  {
   "cell_type": "markdown",
   "metadata": {
    "id": "HYMqAODB3FSM"
   },
   "source": [
    "# Добавление характеристик к вершинам\n"
   ]
  },
  {
   "cell_type": "code",
   "execution_count": 33,
   "metadata": {
    "colab": {
     "base_uri": "https://localhost:8080/"
    },
    "id": "lDlpPhG23FSM",
    "outputId": "323ceffc-a8c5-45cd-a0d6-b59859a508c0"
   },
   "outputs": [
    {
     "data": {
      "text/plain": [
       "AtlasView({2: {'color': 'yellow'}})"
      ]
     },
     "execution_count": 33,
     "metadata": {},
     "output_type": "execute_result"
    }
   ],
   "source": [
    "G = nx.Graph([(1, 2, {\"color\": \"yellow\"})])\n",
    "G[1]  # same as G.adj[1]"
   ]
  },
  {
   "cell_type": "code",
   "execution_count": 34,
   "metadata": {
    "colab": {
     "base_uri": "https://localhost:8080/"
    },
    "id": "aZFxqfMuG52H",
    "outputId": "c51695ea-ba17-4bb3-da0b-24ee914b61fa"
   },
   "outputs": [
    {
     "data": {
      "text/plain": [
       "{'color': 'yellow'}"
      ]
     },
     "execution_count": 34,
     "metadata": {},
     "output_type": "execute_result"
    }
   ],
   "source": [
    "G[1][2]"
   ]
  },
  {
   "cell_type": "markdown",
   "metadata": {
    "id": "up0CfipI3FSM"
   },
   "source": [
    "Характеристику связи можно менять:"
   ]
  },
  {
   "cell_type": "code",
   "execution_count": 35,
   "metadata": {
    "colab": {
     "base_uri": "https://localhost:8080/"
    },
    "id": "8LF6LRO13FSM",
    "outputId": "f96e53c2-cbda-41e3-a9a6-101d36bf5979"
   },
   "outputs": [
    {
     "data": {
      "text/plain": [
       "{'color': 'red'}"
      ]
     },
     "execution_count": 35,
     "metadata": {},
     "output_type": "execute_result"
    }
   ],
   "source": [
    "G.add_edge(1, 3)\n",
    "G[1][3]['color'] = \"blue\"\n",
    "G.edges[1, 2]['color'] = \"red\"\n",
    "G.edges[1, 2]"
   ]
  },
  {
   "cell_type": "markdown",
   "metadata": {
    "id": "SktRd0MW3FSN"
   },
   "source": [
    "Быстро посмотреть все элементы графа можно с помощью\n",
    "`G.adjacency()` или `G.adj.items()`.\n",
    "Важно помнить, что в ненаправленных графах в матрице смежности все связи встречаются дважды."
   ]
  },
  {
   "cell_type": "code",
   "execution_count": 37,
   "metadata": {
    "colab": {
     "base_uri": "https://localhost:8080/"
    },
    "id": "sqp8kor33FSN",
    "outputId": "e4032130-8826-4d6c-ca15-70c382f035b9"
   },
   "outputs": [
    {
     "name": "stdout",
     "output_type": "stream",
     "text": [
      "(1, 2, 0.125)\n",
      "(2, 1, 0.125)\n",
      "(3, 4, 0.375)\n",
      "(4, 3, 0.375)\n"
     ]
    }
   ],
   "source": [
    "FG = nx.Graph()\n",
    "FG.add_weighted_edges_from([(1, 2, 0.125), (1, 3, 0.75), (2, 4, 1.2), (3, 4, 0.375)])\n",
    "for n, nbrs in FG.adj.items():\n",
    "    for nbr, eattr in nbrs.items():\n",
    "        wt = eattr['weight']\n",
    "        if wt < 0.5: print(f\"({n}, {nbr}, {wt:.3})\")"
   ]
  },
  {
   "cell_type": "code",
   "execution_count": 38,
   "metadata": {
    "id": "wfaZL7r43FSN",
    "outputId": "e4591929-90a8-4d22-9297-4ad365b77991"
   },
   "outputs": [
    {
     "name": "stdout",
     "output_type": "stream",
     "text": [
      "(1, 2, 0.125)\n",
      "(3, 4, 0.375)\n"
     ]
    }
   ],
   "source": [
    "for (u, v, wt) in FG.edges.data('weight'):\n",
    "    if wt < 0.5:\n",
    "        print(f\"({u}, {v}, {wt:.3})\")"
   ]
  },
  {
   "cell_type": "markdown",
   "metadata": {
    "id": "9UHKRSbQ3FSN"
   },
   "source": [
    "# Добавление атрибутов к графам, вершинам и рёбрам\n",
    "\n",
    "Атрибуты, такие как веса, метки, цвета или любые Python объекты могут быть прицеплены к графам, вершинам и рёбрам.\n",
    "\n",
    "*Each graph, node, and edge can hold key/value attribute pairs in an associated\n",
    "attribute dictionary (the keys must be hashable).  By default these are empty,\n",
    "but attributes can be added or changed using `add_edge`, `add_node` or direct\n",
    "manipulation of the attribute dictionaries named `G.graph`, `G.nodes`, and\n",
    "`G.edges` for a graph `G`.*\n",
    "\n",
    "## Атрибуты графа\n",
    "При создании:"
   ]
  },
  {
   "cell_type": "code",
   "execution_count": 39,
   "metadata": {
    "id": "ukXV0a273FSN",
    "outputId": "7f616d7f-68b9-4de3-ecc5-64a051d8ba5e"
   },
   "outputs": [
    {
     "data": {
      "text/plain": [
       "{'day': 'Friday'}"
      ]
     },
     "execution_count": 39,
     "metadata": {},
     "output_type": "execute_result"
    }
   ],
   "source": [
    "G = nx.Graph(day=\"Friday\")\n",
    "G.graph"
   ]
  },
  {
   "cell_type": "markdown",
   "metadata": {
    "id": "Md7aCUGr3FSO"
   },
   "source": [
    "Изменение уже созданного атрибута"
   ]
  },
  {
   "cell_type": "code",
   "execution_count": null,
   "metadata": {
    "id": "rzhXqnrK3FSO",
    "outputId": "3bb6ce17-c6b3-4173-af63-8fd4ae70eee6"
   },
   "outputs": [
    {
     "data": {
      "text/plain": [
       "{'day': 'Monday'}"
      ]
     },
     "execution_count": 21,
     "metadata": {
      "tags": []
     },
     "output_type": "execute_result"
    }
   ],
   "source": [
    "G.graph['day'] = \"Monday\"\n",
    "G.graph"
   ]
  },
  {
   "cell_type": "markdown",
   "metadata": {
    "id": "kNhggDB03FSO"
   },
   "source": [
    "# Атрибуты вершин"
   ]
  },
  {
   "cell_type": "code",
   "execution_count": 3,
   "metadata": {
    "id": "jRjpM8q_3FSO"
   },
   "outputs": [],
   "source": [
    "G.add_node(1, time='5pm')\n",
    "G.add_nodes_from([3], time='2pm')"
   ]
  },
  {
   "cell_type": "code",
   "execution_count": 4,
   "metadata": {
    "colab": {
     "base_uri": "https://localhost:8080/"
    },
    "id": "YMXow1RKAdZb",
    "outputId": "da969ab3-e334-4ec4-c0dc-a30da6a3c03d"
   },
   "outputs": [
    {
     "data": {
      "text/plain": [
       "{'time': '5pm'}"
      ]
     },
     "execution_count": 4,
     "metadata": {
      "tags": []
     },
     "output_type": "execute_result"
    }
   ],
   "source": [
    "G.nodes[1]"
   ]
  },
  {
   "cell_type": "code",
   "execution_count": 5,
   "metadata": {
    "colab": {
     "base_uri": "https://localhost:8080/"
    },
    "id": "21PAEqZqAlh6",
    "outputId": "0f8d61df-4a58-4c83-eaad-bd3cd07ef009"
   },
   "outputs": [
    {
     "data": {
      "text/plain": [
       "NodeDataView({1: {'time': '5pm', 'room': 714}, 3: {'time': '2pm'}})"
      ]
     },
     "execution_count": 5,
     "metadata": {
      "tags": []
     },
     "output_type": "execute_result"
    }
   ],
   "source": [
    "G.nodes[1]['room'] = 714\n",
    "G.nodes.data()"
   ]
  },
  {
   "cell_type": "markdown",
   "metadata": {
    "id": "nJjSanMw3FSO"
   },
   "source": [
    "\n",
    "\n",
    "# Атрибуты рёбер"
   ]
  },
  {
   "cell_type": "code",
   "execution_count": 6,
   "metadata": {
    "id": "T8z3CovR3FSO"
   },
   "outputs": [],
   "source": [
    "G.add_edge(1, 2, weight=4.7 )\n",
    "G.add_edges_from([(3, 4), (4, 5)], color='red')\n",
    "G.add_edges_from([(1, 2, {'color': 'blue'}), (2, 3, {'weight': 8})])\n",
    "G[1][2]['weight'] = 4.7\n",
    "G.edges[3, 4]['weight'] = 4.2"
   ]
  },
  {
   "cell_type": "markdown",
   "metadata": {
    "id": "gbfiF77y3FSO"
   },
   "source": [
    "Атрибут  `weight` должен быть числовым, т.к. может использоваться в ряде алгоритмов.\n",
    "\n",
    "# Направленные графы\n"
   ]
  },
  {
   "cell_type": "code",
   "execution_count": 28,
   "metadata": {
    "colab": {
     "base_uri": "https://localhost:8080/"
    },
    "id": "-44MBtDA3FSO",
    "outputId": "b9f7e589-1648-4169-951d-dfc7df9184e3"
   },
   "outputs": [
    {
     "data": {
      "text/plain": [
       "0.8"
      ]
     },
     "execution_count": 28,
     "metadata": {
      "tags": []
     },
     "output_type": "execute_result"
    }
   ],
   "source": [
    "DG = nx.DiGraph()\n",
    "DG.add_weighted_edges_from([(1, 2, 0.5), (3, 1, 10), (5, 1, 0.1), (1, 4, 0.3)])\n",
    "DG.out_degree(1, weight='weight')"
   ]
  },
  {
   "cell_type": "code",
   "execution_count": 29,
   "metadata": {
    "colab": {
     "base_uri": "https://localhost:8080/"
    },
    "id": "-tbVx_rLDaQ7",
    "outputId": "e3837bd7-bf43-4fb4-ef39-4b2f2543c12d"
   },
   "outputs": [
    {
     "data": {
      "text/plain": [
       "10.9"
      ]
     },
     "execution_count": 29,
     "metadata": {
      "tags": []
     },
     "output_type": "execute_result"
    }
   ],
   "source": [
    "DG.degree(1, weight='weight')"
   ]
  },
  {
   "cell_type": "code",
   "execution_count": 30,
   "metadata": {
    "colab": {
     "base_uri": "https://localhost:8080/"
    },
    "id": "Nx_RiyHgDYhR",
    "outputId": "efc51eda-15c4-43a9-ecb6-73d74677044c"
   },
   "outputs": [
    {
     "data": {
      "text/plain": [
       "[2, 4]"
      ]
     },
     "execution_count": 30,
     "metadata": {
      "tags": []
     },
     "output_type": "execute_result"
    }
   ],
   "source": [
    "list(DG.neighbors(1))"
   ]
  },
  {
   "cell_type": "code",
   "execution_count": 31,
   "metadata": {
    "colab": {
     "base_uri": "https://localhost:8080/",
     "height": 248
    },
    "id": "aUSpavkcCMD-",
    "outputId": "76802db0-8ae5-41e5-ad2d-4fd08eee838e"
   },
   "outputs": [
    {
     "data": {
      "image/png": "[encoded data removed]",
      "text/plain": [
       "<Figure size 432x288 with 1 Axes>"
      ]
     },
     "metadata": {
      "tags": []
     },
     "output_type": "display_data"
    }
   ],
   "source": [
    "plt.subplot(121)\n",
    "nx.draw(DG, with_labels=True, font_weight='bold')"
   ]
  },
  {
   "cell_type": "markdown",
   "metadata": {
    "id": "c4NfLbCm3FSP"
   },
   "source": [
    "Иногда бывает удобно переделать направленный граф в ненаправленный. Это можно сделать с помощью  `Graph.to_undirected()` или вот так:"
   ]
  },
  {
   "cell_type": "code",
   "execution_count": 34,
   "metadata": {
    "id": "yT4deANE3FSP"
   },
   "outputs": [],
   "source": [
    "H = nx.Graph(G)  # create an undirected graph H from a directed graph G"
   ]
  },
  {
   "cell_type": "markdown",
   "metadata": {
    "id": "ILBMA2943FSP"
   },
   "source": [
    "# Multigraphs\n",
    "\n",
    "NetworkX позволяет создавать графы, которые могут содержать любое количество рёбер между любыми двумя вершинами.  Это можно сделать с помощью  `MultiGraph` и \n",
    "`MultiDiGraph`. Это бывает удобно в небольшом классе задач, но большинство алгоритмов на такое не заточены."
   ]
  },
  {
   "cell_type": "code",
   "execution_count": 36,
   "metadata": {
    "id": "KmN-L9Mf3FSP"
   },
   "outputs": [],
   "source": [
    "MG = nx.MultiGraph()\n",
    "MG.add_weighted_edges_from([(1, 2, 0.5), (1, 2, 0.75), (1, 2, 0.85), (2, 3, 0.5)])"
   ]
  },
  {
   "cell_type": "code",
   "execution_count": 37,
   "metadata": {
    "colab": {
     "base_uri": "https://localhost:8080/"
    },
    "id": "OqVpmgKJEirf",
    "outputId": "b7d199e7-6217-4e80-d403-458187e47689"
   },
   "outputs": [
    {
     "data": {
      "text/plain": [
       "{1: 2.1, 2: 2.6, 3: 0.5}"
      ]
     },
     "execution_count": 37,
     "metadata": {
      "tags": []
     },
     "output_type": "execute_result"
    }
   ],
   "source": [
    "dict(MG.degree(weight='weight'))"
   ]
  },
  {
   "cell_type": "code",
   "execution_count": 38,
   "metadata": {
    "colab": {
     "base_uri": "https://localhost:8080/"
    },
    "id": "QZJqEr1JElUl",
    "outputId": "b365d37e-3edb-4172-e1b0-bd054ec9449f"
   },
   "outputs": [
    {
     "data": {
      "text/plain": [
       "[1, 2, 3]"
      ]
     },
     "execution_count": 38,
     "metadata": {
      "tags": []
     },
     "output_type": "execute_result"
    }
   ],
   "source": [
    "#Способ перейти от мультиграфа к обычному в задаче поиска кратчайшего пути:\n",
    "GG = nx.Graph()\n",
    "for n, nbrs in MG.adjacency():\n",
    "   for nbr, edict in nbrs.items():\n",
    "       minvalue = min([d['weight'] for d in edict.values()])\n",
    "       GG.add_edge(n, nbr, weight = minvalue)\n",
    "\n",
    "nx.shortest_path(GG, 1, 3)"
   ]
  },
  {
   "cell_type": "markdown",
   "metadata": {
    "id": "v76BSDFj3FSP"
   },
   "source": [
    "# Генерация графов\n",
    "\n",
    "В дополнение к созданию графа вершина-за-вершиной есть ряд формирующих их алгоритмов, например \n",
    "\n",
    "1. Применение классических графовых операций, таких как объединение графов, выделение подграфов и т.д.\n",
    "\n",
    "2. Использование моделей генерации малых графов, таких как Petersen graph, Tutte graph и т.д.\n",
    "\n",
    "3. Классические графовые генераторы \n"
   ]
  },
  {
   "cell_type": "code",
   "execution_count": 41,
   "metadata": {
    "colab": {
     "base_uri": "https://localhost:8080/",
     "height": 319
    },
    "id": "Xo8Fb4aM3FSP",
    "outputId": "30fe958a-25e9-466e-bcee-b375ceb776ec"
   },
   "outputs": [
    {
     "data": {
      "image/png": "[encoded data removed]",
      "text/plain": [
       "<Figure size 432x288 with 1 Axes>"
      ]
     },
     "metadata": {
      "tags": []
     },
     "output_type": "display_data"
    }
   ],
   "source": [
    "K_5 = nx.complete_graph(5)\n",
    "nx.draw(K_5, with_labels=True, font_weight='bold')"
   ]
  },
  {
   "cell_type": "code",
   "execution_count": 43,
   "metadata": {
    "colab": {
     "base_uri": "https://localhost:8080/",
     "height": 319
    },
    "id": "brRuIibiGnNl",
    "outputId": "038c3a65-6a79-4443-b1cd-0773969267d8"
   },
   "outputs": [
    {
     "data": {
      "image/png": "[encoded data removed]",
      "text/plain": [
       "<Figure size 432x288 with 1 Axes>"
      ]
     },
     "metadata": {
      "tags": []
     },
     "output_type": "display_data"
    }
   ],
   "source": [
    "K_3_5 = nx.complete_bipartite_graph(3, 5)\n",
    "nx.draw(K_3_5, with_labels=True, font_weight='bold')"
   ]
  },
  {
   "cell_type": "code",
   "execution_count": 46,
   "metadata": {
    "colab": {
     "base_uri": "https://localhost:8080/",
     "height": 319
    },
    "id": "s974dz-DGeSU",
    "outputId": "f1f7c3b9-97f3-4389-e61d-b2900f30eb2b"
   },
   "outputs": [
    {
     "data": {
      "image/png": "[encoded data removed]",
      "text/plain": [
       "<Figure size 432x288 with 1 Axes>"
      ]
     },
     "metadata": {
      "tags": []
     },
     "output_type": "display_data"
    }
   ],
   "source": [
    "barbell = nx.barbell_graph(3, 10)\n",
    "nx.draw(barbell, with_labels=True, font_weight='bold')"
   ]
  },
  {
   "cell_type": "markdown",
   "metadata": {
    "id": "7LApx3Zt3FSP"
   },
   "source": [
    "Использование классических графовых генераторов, например:"
   ]
  },
  {
   "cell_type": "code",
   "execution_count": 50,
   "metadata": {
    "id": "Vv5ZRyYL3FSP"
   },
   "outputs": [],
   "source": [
    "er = nx.erdos_renyi_graph(100, 0.15)\n",
    "ws = nx.watts_strogatz_graph(30, 3, 0.1)\n",
    "ba = nx.barabasi_albert_graph(100, 5)\n",
    "red = nx.random_lobster(10, 0.9, 0.9)"
   ]
  },
  {
   "cell_type": "markdown",
   "metadata": {
    "id": "Mm3wCbra3FSP"
   },
   "source": [
    "Сохранение и считывание графов из файлов различных форматов"
   ]
  },
  {
   "cell_type": "code",
   "execution_count": 49,
   "metadata": {
    "id": "MI9U1KV_3FSP"
   },
   "outputs": [],
   "source": [
    "nx.write_gml(red, \"red.xml\")\n",
    "mygraph = nx.read_gml(\"red.xml\")"
   ]
  },
  {
   "cell_type": "markdown",
   "metadata": {
    "id": "UAMYGhSh3FSP"
   },
   "source": [
    "\n",
    "\n",
    "# Analyzing graphs\n",
    "\n",
    "Структуру графа можно анализировать различными функциями:"
   ]
  },
  {
   "cell_type": "code",
   "execution_count": 54,
   "metadata": {
    "id": "sCf4Kw0Y3FSP"
   },
   "outputs": [],
   "source": [
    "G = nx.Graph()\n",
    "G.add_edges_from([(1, 2), (1, 3)])\n",
    "G.add_node(\"spam\")       # adds node \"spam\""
   ]
  },
  {
   "cell_type": "code",
   "execution_count": 56,
   "metadata": {
    "colab": {
     "base_uri": "https://localhost:8080/",
     "height": 319
    },
    "id": "clTVZX5iH6Xn",
    "outputId": "7aaaba6f-3431-4e26-c43b-2d8b4954f5f0"
   },
   "outputs": [
    {
     "data": {
      "image/png": "[encoded data removed]",
      "text/plain": [
       "<Figure size 432x288 with 1 Axes>"
      ]
     },
     "metadata": {
      "tags": []
     },
     "output_type": "display_data"
    }
   ],
   "source": [
    "nx.draw(G, with_labels=True, font_weight='bold')"
   ]
  },
  {
   "cell_type": "code",
   "execution_count": 55,
   "metadata": {
    "colab": {
     "base_uri": "https://localhost:8080/"
    },
    "id": "84tmw_BSH5Ae",
    "outputId": "7c46d92d-0dff-44f1-95db-9784cf11d54a"
   },
   "outputs": [
    {
     "data": {
      "text/plain": [
       "[{1, 2, 3}, {'spam'}]"
      ]
     },
     "execution_count": 55,
     "metadata": {
      "tags": []
     },
     "output_type": "execute_result"
    }
   ],
   "source": [
    "list(nx.connected_components(G))"
   ]
  },
  {
   "cell_type": "code",
   "execution_count": 57,
   "metadata": {
    "colab": {
     "base_uri": "https://localhost:8080/"
    },
    "id": "lSikTyd1H1bY",
    "outputId": "d0892022-a2e6-48aa-f0d6-48f663970153"
   },
   "outputs": [
    {
     "data": {
      "text/plain": [
       "{1: 0, 2: 0, 3: 0, 'spam': 0}"
      ]
     },
     "execution_count": 57,
     "metadata": {
      "tags": []
     },
     "output_type": "execute_result"
    }
   ],
   "source": [
    "sorted(d for n, d in G.degree())\n",
    "nx.clustering(G)"
   ]
  },
  {
   "cell_type": "code",
   "execution_count": 60,
   "metadata": {
    "id": "tsLmLXv5IDFO"
   },
   "outputs": [],
   "source": [
    "G.add_edges_from([(3, 2)])"
   ]
  },
  {
   "cell_type": "code",
   "execution_count": 61,
   "metadata": {
    "colab": {
     "base_uri": "https://localhost:8080/"
    },
    "id": "M6rlqAf1IIL5",
    "outputId": "28c1bca9-90ec-4561-c10d-3ffa2f41a843"
   },
   "outputs": [
    {
     "data": {
      "text/plain": [
       "{1: 1.0, 2: 1.0, 3: 1.0, 'spam': 0}"
      ]
     },
     "execution_count": 61,
     "metadata": {
      "tags": []
     },
     "output_type": "execute_result"
    }
   ],
   "source": [
    "sorted(d for n, d in G.degree())\n",
    "nx.clustering(G)\n"
   ]
  },
  {
   "cell_type": "code",
   "execution_count": 62,
   "metadata": {
    "id": "-PtHuXDYIP8_"
   },
   "outputs": [],
   "source": [
    "G.add_edges_from([(3, \"spam\")])"
   ]
  },
  {
   "cell_type": "code",
   "execution_count": 63,
   "metadata": {
    "colab": {
     "base_uri": "https://localhost:8080/"
    },
    "id": "l0ehWZkIIUs5",
    "outputId": "60208e9c-090d-4235-f8f3-87c067d24c39"
   },
   "outputs": [
    {
     "data": {
      "text/plain": [
       "{1: 1.0, 2: 1.0, 3: 0.3333333333333333, 'spam': 0}"
      ]
     },
     "execution_count": 63,
     "metadata": {
      "tags": []
     },
     "output_type": "execute_result"
    }
   ],
   "source": [
    "sorted(d for n, d in G.degree())\n",
    "nx.clustering(G)"
   ]
  },
  {
   "cell_type": "markdown",
   "metadata": {
    "id": "NQ37yYNz3FSQ"
   },
   "source": [
    "Вообще говоря, можно считать большое количество характеристик, подробнее этот вопрос лучше изучать в документации\n",
    "\n",
    "# Рисование графов\n",
    "\n",
    "NetworkX в связке с matplotlib.pyplot позволяет рисовать графы. Но лучше для этих целей использовать программы [из статьи](https://habr.com/ru/company/ods/blog/464715/)"
   ]
  },
  {
   "cell_type": "code",
   "execution_count": 12,
   "metadata": {
    "id": "XXDRVsoK3FSQ"
   },
   "outputs": [],
   "source": [
    "import matplotlib.pyplot as plt"
   ]
  },
  {
   "cell_type": "code",
   "execution_count": 67,
   "metadata": {
    "colab": {
     "base_uri": "https://localhost:8080/",
     "height": 248
    },
    "id": "dcvBmMmV3FSQ",
    "outputId": "2512da84-2fa4-4e5f-d5d5-00f07d1af9ad"
   },
   "outputs": [
    {
     "data": {
      "image/png": "[encoded data removed]",
      "text/plain": [
       "<Figure size 432x288 with 2 Axes>"
      ]
     },
     "metadata": {
      "tags": []
     },
     "output_type": "display_data"
    }
   ],
   "source": [
    "G = nx.petersen_graph()\n",
    "plt.subplot(121)\n",
    "nx.draw(G, with_labels=True, font_weight='bold')\n",
    "plt.subplot(122)\n",
    "nx.draw_shell(G, nlist=[range(5, 10), range(5)], with_labels=True, font_weight='bold')"
   ]
  },
  {
   "cell_type": "code",
   "execution_count": 68,
   "metadata": {
    "id": "Xw5sj01k3FSQ"
   },
   "outputs": [],
   "source": [
    "plt.show()"
   ]
  },
  {
   "cell_type": "code",
   "execution_count": 69,
   "metadata": {
    "colab": {
     "base_uri": "https://localhost:8080/",
     "height": 248
    },
    "id": "Rl_rMynB3FSQ",
    "outputId": "4e08f797-ca11-4a69-b8a2-048f59a8e902"
   },
   "outputs": [
    {
     "data": {
      "image/png": "[encoded data removed]",
      "text/plain": [
       "<Figure size 432x288 with 4 Axes>"
      ]
     },
     "metadata": {
      "tags": []
     },
     "output_type": "display_data"
    }
   ],
   "source": [
    "options = {\n",
    "    'node_color': 'black',\n",
    "    'node_size': 100,\n",
    "    'width': 3,\n",
    "}\n",
    "plt.subplot(221)\n",
    "nx.draw_random(G, **options)\n",
    "plt.subplot(222)\n",
    "nx.draw_circular(G, **options)\n",
    "plt.subplot(223)\n",
    "nx.draw_spectral(G, **options)\n",
    "plt.subplot(224)\n",
    "nx.draw_shell(G, nlist=[range(5,10), range(5)], **options)"
   ]
  },
  {
   "cell_type": "code",
   "execution_count": 70,
   "metadata": {
    "colab": {
     "base_uri": "https://localhost:8080/",
     "height": 319
    },
    "id": "d3uDZ5wG3FSR",
    "outputId": "609b13db-9418-4741-e9b6-b7d0e23b2fd2"
   },
   "outputs": [
    {
     "data": {
      "image/png": "[encoded data removed]",
      "text/plain": [
       "<Figure size 432x288 with 1 Axes>"
      ]
     },
     "metadata": {
      "tags": []
     },
     "output_type": "display_data"
    }
   ],
   "source": [
    "G = nx.dodecahedral_graph()\n",
    "shells = [[2, 3, 4, 5, 6], [8, 1, 0, 19, 18, 17, 16, 15, 14, 7], [9, 10, 11, 12, 13]]\n",
    "nx.draw_shell(G, nlist=shells, **options)"
   ]
  },
  {
   "cell_type": "markdown",
   "metadata": {
    "id": "QPLorvSi3FSR"
   },
   "source": [
    "Картинки можно сохранять:"
   ]
  },
  {
   "cell_type": "code",
   "execution_count": 71,
   "metadata": {
    "colab": {
     "base_uri": "https://localhost:8080/",
     "height": 319
    },
    "id": "yTkovXoH3FSR",
    "outputId": "9d54c5ec-531e-49d3-ec6f-4ee099d32e67"
   },
   "outputs": [
    {
     "data": {
      "image/png": "[encoded data removed]",
      "text/plain": [
       "<Figure size 432x288 with 1 Axes>"
      ]
     },
     "metadata": {
      "tags": []
     },
     "output_type": "display_data"
    }
   ],
   "source": [
    "nx.draw(G)\n",
    "plt.savefig(\"path.png\")"
   ]
  },
  {
   "cell_type": "markdown",
   "metadata": {
    "id": "UL3OIeFfQAc6"
   },
   "source": [
    "# Zachary Karate Club\n",
    "https://ru.qaz.wiki/wiki/Zachary's_karate_club"
   ]
  },
  {
   "cell_type": "code",
   "execution_count": 73,
   "metadata": {
    "id": "8RooK3GkQDgu"
   },
   "outputs": [],
   "source": [
    "G = nx.karate_club_graph()"
   ]
  },
  {
   "cell_type": "code",
   "execution_count": 94,
   "metadata": {
    "colab": {
     "base_uri": "https://localhost:8080/",
     "height": 248
    },
    "id": "ttcs2K6hQHXj",
    "outputId": "10e2ed47-ee43-401c-aa4f-c4de0a4a9085"
   },
   "outputs": [
    {
     "data": {
      "image/png": "[encoded data removed]",
      "text/plain": [
       "<Figure size 432x288 with 1 Axes>"
      ]
     },
     "metadata": {
      "tags": []
     },
     "output_type": "display_data"
    }
   ],
   "source": [
    "nx.draw_networkx(G, node_color = sc.labels_)"
   ]
  },
  {
   "cell_type": "code",
   "execution_count": 76,
   "metadata": {
    "colab": {
     "base_uri": "https://localhost:8080/"
    },
    "id": "P988r6gWQOJC",
    "outputId": "0310dcac-3c5e-4a28-a5e1-f6c422eb152d"
   },
   "outputs": [
    {
     "data": {
      "text/plain": [
       "{0: 'Mr. Hi',\n",
       " 1: 'Mr. Hi',\n",
       " 2: 'Mr. Hi',\n",
       " 3: 'Mr. Hi',\n",
       " 4: 'Mr. Hi',\n",
       " 5: 'Mr. Hi',\n",
       " 6: 'Mr. Hi',\n",
       " 7: 'Mr. Hi',\n",
       " 8: 'Mr. Hi',\n",
       " 9: 'Officer',\n",
       " 10: 'Mr. Hi',\n",
       " 11: 'Mr. Hi',\n",
       " 12: 'Mr. Hi',\n",
       " 13: 'Mr. Hi',\n",
       " 14: 'Officer',\n",
       " 15: 'Officer',\n",
       " 16: 'Mr. Hi',\n",
       " 17: 'Mr. Hi',\n",
       " 18: 'Officer',\n",
       " 19: 'Mr. Hi',\n",
       " 20: 'Officer',\n",
       " 21: 'Mr. Hi',\n",
       " 22: 'Officer',\n",
       " 23: 'Officer',\n",
       " 24: 'Officer',\n",
       " 25: 'Officer',\n",
       " 26: 'Officer',\n",
       " 27: 'Officer',\n",
       " 28: 'Officer',\n",
       " 29: 'Officer',\n",
       " 30: 'Officer',\n",
       " 31: 'Officer',\n",
       " 32: 'Officer',\n",
       " 33: 'Officer'}"
      ]
     },
     "execution_count": 76,
     "metadata": {
      "tags": []
     },
     "output_type": "execute_result"
    }
   ],
   "source": [
    "gt_dict = nx.get_node_attributes(G, 'club')\n",
    "gt_dict"
   ]
  },
  {
   "cell_type": "code",
   "execution_count": 90,
   "metadata": {
    "id": "JkjqiD9gT1Ek"
   },
   "outputs": [],
   "source": [
    "import numpy as np\n",
    "from sklearn.cluster import SpectralClustering\n",
    "from sklearn import metrics"
   ]
  },
  {
   "cell_type": "code",
   "execution_count": 79,
   "metadata": {
    "id": "9XtAkXutThVJ"
   },
   "outputs": [],
   "source": [
    "gt = [gt_dict[i] for i in G.nodes()]\n",
    "gt = np.array([0 if i == 'Mr. Hi' else 1 for i in gt])"
   ]
  },
  {
   "cell_type": "code",
   "execution_count": 83,
   "metadata": {
    "id": "1NbFqYfdT3gT"
   },
   "outputs": [],
   "source": [
    "adj_mat = nx.to_numpy_matrix(G)"
   ]
  },
  {
   "cell_type": "code",
   "execution_count": 85,
   "metadata": {
    "colab": {
     "base_uri": "https://localhost:8080/"
    },
    "id": "LMqi4TBRUEvg",
    "outputId": "3efd2b52-936b-4879-a15a-c83bbe37ccbf"
   },
   "outputs": [
    {
     "data": {
      "text/plain": [
       "SpectralClustering(affinity='precomputed', assign_labels='kmeans', coef0=1,\n",
       "                   degree=3, eigen_solver=None, eigen_tol=0.0, gamma=1.0,\n",
       "                   kernel_params=None, n_clusters=2, n_components=None,\n",
       "                   n_init=100, n_jobs=None, n_neighbors=10, random_state=None)"
      ]
     },
     "execution_count": 85,
     "metadata": {
      "tags": []
     },
     "output_type": "execute_result"
    }
   ],
   "source": [
    "sc = SpectralClustering(2, affinity='precomputed', n_init=100)\n",
    "sc.fit(adj_mat)"
   ]
  },
  {
   "cell_type": "code",
   "execution_count": 88,
   "metadata": {
    "colab": {
     "base_uri": "https://localhost:8080/"
    },
    "id": "XwAiT2vmUNG3",
    "outputId": "7c99de9d-1298-4b2f-ebf5-562abd757a44"
   },
   "outputs": [
    {
     "name": "stdout",
     "output_type": "stream",
     "text": [
      "spectral clustering\n",
      "[0 0 1 0 0 0 0 0 1 1 0 0 0 0 1 1 0 0 1 0 1 0 1 1 1 1 1 1 1 1 1 1 1 1]\n",
      "just for better-visualization: invert clusters (permutation)\n",
      "[1 1 0 1 1 1 1 1 0 0 1 1 1 1 0 0 1 1 0 1 0 1 0 0 0 0 0 0 0 0 0 0 0 0]\n"
     ]
    }
   ],
   "source": [
    "print('spectral clustering')\n",
    "print(sc.labels_)\n",
    "print('just for better-visualization: invert clusters (permutation)')\n",
    "print(np.abs(sc.labels_ - 1))\n"
   ]
  },
  {
   "cell_type": "code",
   "execution_count": 92,
   "metadata": {
    "colab": {
     "base_uri": "https://localhost:8080/"
    },
    "id": "BkWPxzflUZln",
    "outputId": "024fdf82-2da6-4336-cbf4-54934c5558c6"
   },
   "outputs": [
    {
     "name": "stdout",
     "output_type": "stream",
     "text": [
      "0.7717250324254216\n",
      "0.7262625905568267\n"
     ]
    }
   ],
   "source": [
    "\n",
    "# Calculate some clustering metrics\n",
    "print(metrics.adjusted_rand_score(gt, sc.labels_))\n",
    "print(metrics.adjusted_mutual_info_score(gt, sc.labels_))"
   ]
  },
  {
   "cell_type": "markdown",
   "metadata": {
    "id": "w6NQb9VXHk83"
   },
   "source": [
    "\n",
    "\n",
    "*   https://networkx.org/documentation/stable/index.html\n",
    "*   Старая, но хорошая статья: https://habr.com/ru/post/125898/\n",
    "*   Про визуализацию: https://habr.com/ru/company/ods/blog/464715/\n"
   ]
  }
 ],
 "metadata": {
  "colab": {
   "collapsed_sections": [],
   "name": "tutorial_full.ipynb",
   "provenance": []
  },
  "kernelspec": {
   "display_name": "Python 3",
   "language": "python",
   "name": "python3"
  },
  "language_info": {
   "codemirror_mode": {
    "name": "ipython",
    "version": 3
   },
   "file_extension": ".py",
   "mimetype": "text/x-python",
   "name": "python",
   "nbconvert_exporter": "python",
   "pygments_lexer": "ipython3",
   "version": "3.7.6"
  }
 },
 "nbformat": 4,
 "nbformat_minor": 1
}
