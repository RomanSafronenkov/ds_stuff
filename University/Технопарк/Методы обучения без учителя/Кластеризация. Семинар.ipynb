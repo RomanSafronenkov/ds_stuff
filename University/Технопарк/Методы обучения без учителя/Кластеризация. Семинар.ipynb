{
 "cells": [
  {
   "cell_type": "markdown",
   "metadata": {
    "slideshow": {
     "slide_type": "slide"
    }
   },
   "source": [
    "<center><img src=\"images/header.png\" width=400></center>\n",
    "\n",
    "<h1><center>Основы машинного обучения</center></h1>\n",
    "<hr>\n",
    "<h2><center>Методы обучения без учителя: Кластеризация (практика)</center></h2>\n",
    "<h3><center>Шестаков Андрей</center></h3>"
   ]
  },
  {
   "cell_type": "code",
   "execution_count": 2,
   "metadata": {},
   "outputs": [],
   "source": [
    "%matplotlib inline"
   ]
  },
  {
   "cell_type": "code",
   "execution_count": 3,
   "metadata": {
    "slideshow": {
     "slide_type": "notes"
    }
   },
   "outputs": [],
   "source": [
    "import pandas as pd\n",
    "import numpy as np\n",
    "import matplotlib.pyplot as plt\n",
    "\n",
    "plt.style.use('seaborn-talk')\n",
    "plt.rcParams['figure.figsize'] = (12,8)\n",
    "\n",
    "# Для кириллицы на графиках\n",
    "font = {'family': 'Verdana',\n",
    "        'weight': 'normal'}\n",
    "plt.rc('font', **font)"
   ]
  },
  {
   "cell_type": "code",
   "execution_count": 4,
   "metadata": {},
   "outputs": [],
   "source": [
    "# Uncomment if you are using colab\n",
    "# !mkdir ./data\n",
    "# !wget https://github.com/vadim0912/park_ML/blob/master/lecture04/data/diet.csv -O ./data/diet.csv\n",
    "# !wget https://github.com/vadim0912/park_ML/blob/master/lecture04/data/snsdata.csv -O ./data/snsdata.csv"
   ]
  },
  {
   "cell_type": "markdown",
   "metadata": {},
   "source": [
    "# Применение K-means"
   ]
  },
  {
   "cell_type": "markdown",
   "metadata": {},
   "source": [
    "Загрузите [данные](https://github.com/brenden17/sklearnlab/blob/master/facebook/snsdata.csv) в которых содержится описание интересов профилей учеников старшей школы США."
   ]
  },
  {
   "cell_type": "code",
   "execution_count": 5,
   "metadata": {},
   "outputs": [
    {
     "data": {
      "text/html": [
       "<div>\n",
       "<style scoped>\n",
       "    .dataframe tbody tr th:only-of-type {\n",
       "        vertical-align: middle;\n",
       "    }\n",
       "\n",
       "    .dataframe tbody tr th {\n",
       "        vertical-align: top;\n",
       "    }\n",
       "\n",
       "    .dataframe thead th {\n",
       "        text-align: right;\n",
       "    }\n",
       "</style>\n",
       "<table border=\"1\" class=\"dataframe\">\n",
       "  <thead>\n",
       "    <tr style=\"text-align: right;\">\n",
       "      <th></th>\n",
       "      <th>gradyear</th>\n",
       "      <th>gender</th>\n",
       "      <th>age</th>\n",
       "      <th>friends</th>\n",
       "      <th>basketball</th>\n",
       "      <th>football</th>\n",
       "      <th>soccer</th>\n",
       "      <th>softball</th>\n",
       "      <th>volleyball</th>\n",
       "      <th>swimming</th>\n",
       "      <th>...</th>\n",
       "      <th>blonde</th>\n",
       "      <th>mall</th>\n",
       "      <th>shopping</th>\n",
       "      <th>clothes</th>\n",
       "      <th>hollister</th>\n",
       "      <th>abercrombie</th>\n",
       "      <th>die</th>\n",
       "      <th>death</th>\n",
       "      <th>drunk</th>\n",
       "      <th>drugs</th>\n",
       "    </tr>\n",
       "  </thead>\n",
       "  <tbody>\n",
       "    <tr>\n",
       "      <th>0</th>\n",
       "      <td>2006</td>\n",
       "      <td>M</td>\n",
       "      <td>18.982</td>\n",
       "      <td>7</td>\n",
       "      <td>0</td>\n",
       "      <td>0</td>\n",
       "      <td>0</td>\n",
       "      <td>0</td>\n",
       "      <td>0</td>\n",
       "      <td>0</td>\n",
       "      <td>...</td>\n",
       "      <td>0</td>\n",
       "      <td>0</td>\n",
       "      <td>0</td>\n",
       "      <td>0</td>\n",
       "      <td>0</td>\n",
       "      <td>0</td>\n",
       "      <td>0</td>\n",
       "      <td>0</td>\n",
       "      <td>0</td>\n",
       "      <td>0</td>\n",
       "    </tr>\n",
       "    <tr>\n",
       "      <th>1</th>\n",
       "      <td>2006</td>\n",
       "      <td>F</td>\n",
       "      <td>18.801</td>\n",
       "      <td>0</td>\n",
       "      <td>0</td>\n",
       "      <td>1</td>\n",
       "      <td>0</td>\n",
       "      <td>0</td>\n",
       "      <td>0</td>\n",
       "      <td>0</td>\n",
       "      <td>...</td>\n",
       "      <td>0</td>\n",
       "      <td>1</td>\n",
       "      <td>0</td>\n",
       "      <td>0</td>\n",
       "      <td>0</td>\n",
       "      <td>0</td>\n",
       "      <td>0</td>\n",
       "      <td>0</td>\n",
       "      <td>0</td>\n",
       "      <td>0</td>\n",
       "    </tr>\n",
       "    <tr>\n",
       "      <th>2</th>\n",
       "      <td>2006</td>\n",
       "      <td>M</td>\n",
       "      <td>18.335</td>\n",
       "      <td>69</td>\n",
       "      <td>0</td>\n",
       "      <td>1</td>\n",
       "      <td>0</td>\n",
       "      <td>0</td>\n",
       "      <td>0</td>\n",
       "      <td>0</td>\n",
       "      <td>...</td>\n",
       "      <td>0</td>\n",
       "      <td>0</td>\n",
       "      <td>0</td>\n",
       "      <td>0</td>\n",
       "      <td>0</td>\n",
       "      <td>0</td>\n",
       "      <td>0</td>\n",
       "      <td>1</td>\n",
       "      <td>0</td>\n",
       "      <td>0</td>\n",
       "    </tr>\n",
       "    <tr>\n",
       "      <th>3</th>\n",
       "      <td>2006</td>\n",
       "      <td>F</td>\n",
       "      <td>18.875</td>\n",
       "      <td>0</td>\n",
       "      <td>0</td>\n",
       "      <td>0</td>\n",
       "      <td>0</td>\n",
       "      <td>0</td>\n",
       "      <td>0</td>\n",
       "      <td>0</td>\n",
       "      <td>...</td>\n",
       "      <td>0</td>\n",
       "      <td>0</td>\n",
       "      <td>0</td>\n",
       "      <td>0</td>\n",
       "      <td>0</td>\n",
       "      <td>0</td>\n",
       "      <td>0</td>\n",
       "      <td>0</td>\n",
       "      <td>0</td>\n",
       "      <td>0</td>\n",
       "    </tr>\n",
       "    <tr>\n",
       "      <th>4</th>\n",
       "      <td>2006</td>\n",
       "      <td>NaN</td>\n",
       "      <td>18.995</td>\n",
       "      <td>10</td>\n",
       "      <td>0</td>\n",
       "      <td>0</td>\n",
       "      <td>0</td>\n",
       "      <td>0</td>\n",
       "      <td>0</td>\n",
       "      <td>0</td>\n",
       "      <td>...</td>\n",
       "      <td>0</td>\n",
       "      <td>0</td>\n",
       "      <td>2</td>\n",
       "      <td>0</td>\n",
       "      <td>0</td>\n",
       "      <td>0</td>\n",
       "      <td>0</td>\n",
       "      <td>0</td>\n",
       "      <td>1</td>\n",
       "      <td>1</td>\n",
       "    </tr>\n",
       "  </tbody>\n",
       "</table>\n",
       "<p>5 rows × 40 columns</p>\n",
       "</div>"
      ],
      "text/plain": [
       "   gradyear gender     age  friends  basketball  football  soccer  softball  \\\n",
       "0      2006      M  18.982        7           0         0       0         0   \n",
       "1      2006      F  18.801        0           0         1       0         0   \n",
       "2      2006      M  18.335       69           0         1       0         0   \n",
       "3      2006      F  18.875        0           0         0       0         0   \n",
       "4      2006    NaN  18.995       10           0         0       0         0   \n",
       "\n",
       "   volleyball  swimming  ...  blonde  mall  shopping  clothes  hollister  \\\n",
       "0           0         0  ...       0     0         0        0          0   \n",
       "1           0         0  ...       0     1         0        0          0   \n",
       "2           0         0  ...       0     0         0        0          0   \n",
       "3           0         0  ...       0     0         0        0          0   \n",
       "4           0         0  ...       0     0         2        0          0   \n",
       "\n",
       "   abercrombie  die  death  drunk  drugs  \n",
       "0            0    0      0      0      0  \n",
       "1            0    0      0      0      0  \n",
       "2            0    0      1      0      0  \n",
       "3            0    0      0      0      0  \n",
       "4            0    0      0      1      1  \n",
       "\n",
       "[5 rows x 40 columns]"
      ]
     },
     "execution_count": 5,
     "metadata": {},
     "output_type": "execute_result"
    }
   ],
   "source": [
    "df_sns = pd.read_csv('data/snsdata.csv', sep=',')\n",
    "df_sns.head()"
   ]
  },
  {
   "cell_type": "markdown",
   "metadata": {},
   "source": [
    "Данные устроены так: \n",
    "* Год выпуска\n",
    "* Пол\n",
    "* Возраст\n",
    "* Количество друзей\n",
    "* 36 ключевых слов, которые встречаются в профилe facebook (интересы, сообщества, встречи)"
   ]
  },
  {
   "cell_type": "markdown",
   "metadata": {},
   "source": [
    "#### Задание\n",
    "\n",
    "* Удалите все признаки кроме 36 ключевых слов.\n",
    "* Нормализуйте данные - из каждого столбца вычтите его среднее значение и поделите на стандартное отклонение.\n",
    "* Используйте метод k-means чтобы выделить 9 кластеров\n",
    "* Попробуйте проинтерпретировать каждый кластер проанализировав полученные центройды (Некоторые кластеры могут быть очень большие и очень маленькие - плохо интерпретируются)"
   ]
  },
  {
   "cell_type": "code",
   "execution_count": 18,
   "metadata": {},
   "outputs": [
    {
     "data": {
      "text/plain": [
       "array([[0, 0, 0, ..., 0, 0, 0],\n",
       "       [0, 1, 0, ..., 0, 0, 0],\n",
       "       [0, 1, 0, ..., 1, 0, 0],\n",
       "       ...,\n",
       "       [0, 1, 0, ..., 0, 0, 0],\n",
       "       [0, 0, 0, ..., 0, 0, 0],\n",
       "       [2, 0, 0, ..., 0, 0, 0]], dtype=int64)"
      ]
     },
     "execution_count": 18,
     "metadata": {},
     "output_type": "execute_result"
    }
   ],
   "source": [
    "## Your Code Here\n",
    "X = df_sns.iloc[:, 4:].values\n",
    "X"
   ]
  },
  {
   "cell_type": "code",
   "execution_count": 20,
   "metadata": {},
   "outputs": [
    {
     "data": {
      "text/plain": [
       "array([[-0.33221726, -0.35769737, -0.2428741 , ..., -0.26153016,\n",
       "        -0.22040264, -0.1749076 ],\n",
       "       [-0.33221726,  1.06004883, -0.2428741 , ..., -0.26153016,\n",
       "        -0.22040264, -0.1749076 ],\n",
       "       [-0.33221726,  1.06004883, -0.2428741 , ...,  2.02790809,\n",
       "        -0.22040264, -0.1749076 ],\n",
       "       ...,\n",
       "       [-0.33221726,  1.06004883, -0.2428741 , ..., -0.26153016,\n",
       "        -0.22040264, -0.1749076 ],\n",
       "       [-0.33221726, -0.35769737, -0.2428741 , ..., -0.26153016,\n",
       "        -0.22040264, -0.1749076 ],\n",
       "       [ 2.15319868, -0.35769737, -0.2428741 , ..., -0.26153016,\n",
       "        -0.22040264, -0.1749076 ]])"
      ]
     },
     "execution_count": 20,
     "metadata": {},
     "output_type": "execute_result"
    }
   ],
   "source": [
    "X_norm = (X - X.mean(axis=0)) / X.std(axis=0)\n",
    "X_norm"
   ]
  },
  {
   "cell_type": "code",
   "execution_count": 21,
   "metadata": {},
   "outputs": [],
   "source": [
    "from sklearn.cluster import KMeans"
   ]
  },
  {
   "cell_type": "code",
   "execution_count": 22,
   "metadata": {},
   "outputs": [],
   "source": [
    "kmeans = KMeans(n_clusters=9, random_state=123)"
   ]
  },
  {
   "cell_type": "code",
   "execution_count": 23,
   "metadata": {},
   "outputs": [
    {
     "data": {
      "text/plain": [
       "KMeans(n_clusters=9, random_state=123)"
      ]
     },
     "execution_count": 23,
     "metadata": {},
     "output_type": "execute_result"
    }
   ],
   "source": [
    "kmeans.fit(X_norm)"
   ]
  },
  {
   "cell_type": "code",
   "execution_count": 24,
   "metadata": {},
   "outputs": [
    {
     "data": {
      "text/plain": [
       "array([0, 7, 0, ..., 0, 0, 0])"
      ]
     },
     "execution_count": 24,
     "metadata": {},
     "output_type": "execute_result"
    }
   ],
   "source": [
    "kmeans.labels_"
   ]
  },
  {
   "cell_type": "code",
   "execution_count": 27,
   "metadata": {},
   "outputs": [
    {
     "data": {
      "text/plain": [
       "(9, 36)"
      ]
     },
     "execution_count": 27,
     "metadata": {},
     "output_type": "execute_result"
    }
   ],
   "source": [
    "kmeans.cluster_centers_.shape"
   ]
  },
  {
   "cell_type": "code",
   "execution_count": 28,
   "metadata": {},
   "outputs": [
    {
     "data": {
      "text/plain": [
       "857207.4996345129"
      ]
     },
     "execution_count": 28,
     "metadata": {},
     "output_type": "execute_result"
    }
   ],
   "source": [
    "kmeans.inertia_"
   ]
  },
  {
   "cell_type": "code",
   "execution_count": 29,
   "metadata": {},
   "outputs": [],
   "source": [
    "df_keywords = df_sns.iloc[:, 4:].assign(labels = kmeans.labels_)"
   ]
  },
  {
   "cell_type": "code",
   "execution_count": 30,
   "metadata": {},
   "outputs": [
    {
     "data": {
      "text/html": [
       "<div>\n",
       "<style scoped>\n",
       "    .dataframe tbody tr th:only-of-type {\n",
       "        vertical-align: middle;\n",
       "    }\n",
       "\n",
       "    .dataframe tbody tr th {\n",
       "        vertical-align: top;\n",
       "    }\n",
       "\n",
       "    .dataframe thead th {\n",
       "        text-align: right;\n",
       "    }\n",
       "</style>\n",
       "<table border=\"1\" class=\"dataframe\">\n",
       "  <thead>\n",
       "    <tr style=\"text-align: right;\">\n",
       "      <th></th>\n",
       "      <th>basketball</th>\n",
       "      <th>football</th>\n",
       "      <th>soccer</th>\n",
       "      <th>softball</th>\n",
       "      <th>volleyball</th>\n",
       "      <th>swimming</th>\n",
       "      <th>cheerleading</th>\n",
       "      <th>baseball</th>\n",
       "      <th>tennis</th>\n",
       "      <th>sports</th>\n",
       "      <th>...</th>\n",
       "      <th>mall</th>\n",
       "      <th>shopping</th>\n",
       "      <th>clothes</th>\n",
       "      <th>hollister</th>\n",
       "      <th>abercrombie</th>\n",
       "      <th>die</th>\n",
       "      <th>death</th>\n",
       "      <th>drunk</th>\n",
       "      <th>drugs</th>\n",
       "      <th>labels</th>\n",
       "    </tr>\n",
       "  </thead>\n",
       "  <tbody>\n",
       "    <tr>\n",
       "      <th>0</th>\n",
       "      <td>0</td>\n",
       "      <td>0</td>\n",
       "      <td>0</td>\n",
       "      <td>0</td>\n",
       "      <td>0</td>\n",
       "      <td>0</td>\n",
       "      <td>0</td>\n",
       "      <td>0</td>\n",
       "      <td>0</td>\n",
       "      <td>0</td>\n",
       "      <td>...</td>\n",
       "      <td>0</td>\n",
       "      <td>0</td>\n",
       "      <td>0</td>\n",
       "      <td>0</td>\n",
       "      <td>0</td>\n",
       "      <td>0</td>\n",
       "      <td>0</td>\n",
       "      <td>0</td>\n",
       "      <td>0</td>\n",
       "      <td>0</td>\n",
       "    </tr>\n",
       "    <tr>\n",
       "      <th>1</th>\n",
       "      <td>0</td>\n",
       "      <td>1</td>\n",
       "      <td>0</td>\n",
       "      <td>0</td>\n",
       "      <td>0</td>\n",
       "      <td>0</td>\n",
       "      <td>0</td>\n",
       "      <td>0</td>\n",
       "      <td>0</td>\n",
       "      <td>0</td>\n",
       "      <td>...</td>\n",
       "      <td>1</td>\n",
       "      <td>0</td>\n",
       "      <td>0</td>\n",
       "      <td>0</td>\n",
       "      <td>0</td>\n",
       "      <td>0</td>\n",
       "      <td>0</td>\n",
       "      <td>0</td>\n",
       "      <td>0</td>\n",
       "      <td>7</td>\n",
       "    </tr>\n",
       "    <tr>\n",
       "      <th>2</th>\n",
       "      <td>0</td>\n",
       "      <td>1</td>\n",
       "      <td>0</td>\n",
       "      <td>0</td>\n",
       "      <td>0</td>\n",
       "      <td>0</td>\n",
       "      <td>0</td>\n",
       "      <td>0</td>\n",
       "      <td>0</td>\n",
       "      <td>0</td>\n",
       "      <td>...</td>\n",
       "      <td>0</td>\n",
       "      <td>0</td>\n",
       "      <td>0</td>\n",
       "      <td>0</td>\n",
       "      <td>0</td>\n",
       "      <td>0</td>\n",
       "      <td>1</td>\n",
       "      <td>0</td>\n",
       "      <td>0</td>\n",
       "      <td>0</td>\n",
       "    </tr>\n",
       "    <tr>\n",
       "      <th>3</th>\n",
       "      <td>0</td>\n",
       "      <td>0</td>\n",
       "      <td>0</td>\n",
       "      <td>0</td>\n",
       "      <td>0</td>\n",
       "      <td>0</td>\n",
       "      <td>0</td>\n",
       "      <td>0</td>\n",
       "      <td>0</td>\n",
       "      <td>0</td>\n",
       "      <td>...</td>\n",
       "      <td>0</td>\n",
       "      <td>0</td>\n",
       "      <td>0</td>\n",
       "      <td>0</td>\n",
       "      <td>0</td>\n",
       "      <td>0</td>\n",
       "      <td>0</td>\n",
       "      <td>0</td>\n",
       "      <td>0</td>\n",
       "      <td>0</td>\n",
       "    </tr>\n",
       "    <tr>\n",
       "      <th>4</th>\n",
       "      <td>0</td>\n",
       "      <td>0</td>\n",
       "      <td>0</td>\n",
       "      <td>0</td>\n",
       "      <td>0</td>\n",
       "      <td>0</td>\n",
       "      <td>0</td>\n",
       "      <td>0</td>\n",
       "      <td>0</td>\n",
       "      <td>0</td>\n",
       "      <td>...</td>\n",
       "      <td>0</td>\n",
       "      <td>2</td>\n",
       "      <td>0</td>\n",
       "      <td>0</td>\n",
       "      <td>0</td>\n",
       "      <td>0</td>\n",
       "      <td>0</td>\n",
       "      <td>1</td>\n",
       "      <td>1</td>\n",
       "      <td>5</td>\n",
       "    </tr>\n",
       "    <tr>\n",
       "      <th>...</th>\n",
       "      <td>...</td>\n",
       "      <td>...</td>\n",
       "      <td>...</td>\n",
       "      <td>...</td>\n",
       "      <td>...</td>\n",
       "      <td>...</td>\n",
       "      <td>...</td>\n",
       "      <td>...</td>\n",
       "      <td>...</td>\n",
       "      <td>...</td>\n",
       "      <td>...</td>\n",
       "      <td>...</td>\n",
       "      <td>...</td>\n",
       "      <td>...</td>\n",
       "      <td>...</td>\n",
       "      <td>...</td>\n",
       "      <td>...</td>\n",
       "      <td>...</td>\n",
       "      <td>...</td>\n",
       "      <td>...</td>\n",
       "      <td>...</td>\n",
       "    </tr>\n",
       "    <tr>\n",
       "      <th>29995</th>\n",
       "      <td>0</td>\n",
       "      <td>0</td>\n",
       "      <td>0</td>\n",
       "      <td>0</td>\n",
       "      <td>0</td>\n",
       "      <td>0</td>\n",
       "      <td>0</td>\n",
       "      <td>0</td>\n",
       "      <td>0</td>\n",
       "      <td>0</td>\n",
       "      <td>...</td>\n",
       "      <td>0</td>\n",
       "      <td>0</td>\n",
       "      <td>0</td>\n",
       "      <td>0</td>\n",
       "      <td>0</td>\n",
       "      <td>0</td>\n",
       "      <td>0</td>\n",
       "      <td>0</td>\n",
       "      <td>0</td>\n",
       "      <td>0</td>\n",
       "    </tr>\n",
       "    <tr>\n",
       "      <th>29996</th>\n",
       "      <td>0</td>\n",
       "      <td>1</td>\n",
       "      <td>0</td>\n",
       "      <td>0</td>\n",
       "      <td>0</td>\n",
       "      <td>0</td>\n",
       "      <td>0</td>\n",
       "      <td>0</td>\n",
       "      <td>0</td>\n",
       "      <td>0</td>\n",
       "      <td>...</td>\n",
       "      <td>0</td>\n",
       "      <td>0</td>\n",
       "      <td>0</td>\n",
       "      <td>0</td>\n",
       "      <td>0</td>\n",
       "      <td>0</td>\n",
       "      <td>0</td>\n",
       "      <td>0</td>\n",
       "      <td>0</td>\n",
       "      <td>0</td>\n",
       "    </tr>\n",
       "    <tr>\n",
       "      <th>29997</th>\n",
       "      <td>0</td>\n",
       "      <td>1</td>\n",
       "      <td>0</td>\n",
       "      <td>0</td>\n",
       "      <td>0</td>\n",
       "      <td>0</td>\n",
       "      <td>0</td>\n",
       "      <td>1</td>\n",
       "      <td>0</td>\n",
       "      <td>0</td>\n",
       "      <td>...</td>\n",
       "      <td>0</td>\n",
       "      <td>0</td>\n",
       "      <td>0</td>\n",
       "      <td>0</td>\n",
       "      <td>0</td>\n",
       "      <td>0</td>\n",
       "      <td>0</td>\n",
       "      <td>0</td>\n",
       "      <td>0</td>\n",
       "      <td>0</td>\n",
       "    </tr>\n",
       "    <tr>\n",
       "      <th>29998</th>\n",
       "      <td>0</td>\n",
       "      <td>0</td>\n",
       "      <td>0</td>\n",
       "      <td>0</td>\n",
       "      <td>0</td>\n",
       "      <td>0</td>\n",
       "      <td>0</td>\n",
       "      <td>0</td>\n",
       "      <td>0</td>\n",
       "      <td>0</td>\n",
       "      <td>...</td>\n",
       "      <td>0</td>\n",
       "      <td>0</td>\n",
       "      <td>0</td>\n",
       "      <td>0</td>\n",
       "      <td>0</td>\n",
       "      <td>0</td>\n",
       "      <td>0</td>\n",
       "      <td>0</td>\n",
       "      <td>0</td>\n",
       "      <td>0</td>\n",
       "    </tr>\n",
       "    <tr>\n",
       "      <th>29999</th>\n",
       "      <td>2</td>\n",
       "      <td>0</td>\n",
       "      <td>0</td>\n",
       "      <td>1</td>\n",
       "      <td>0</td>\n",
       "      <td>0</td>\n",
       "      <td>0</td>\n",
       "      <td>0</td>\n",
       "      <td>0</td>\n",
       "      <td>0</td>\n",
       "      <td>...</td>\n",
       "      <td>0</td>\n",
       "      <td>0</td>\n",
       "      <td>0</td>\n",
       "      <td>0</td>\n",
       "      <td>0</td>\n",
       "      <td>0</td>\n",
       "      <td>0</td>\n",
       "      <td>0</td>\n",
       "      <td>0</td>\n",
       "      <td>0</td>\n",
       "    </tr>\n",
       "  </tbody>\n",
       "</table>\n",
       "<p>30000 rows × 37 columns</p>\n",
       "</div>"
      ],
      "text/plain": [
       "       basketball  football  soccer  softball  volleyball  swimming  \\\n",
       "0               0         0       0         0           0         0   \n",
       "1               0         1       0         0           0         0   \n",
       "2               0         1       0         0           0         0   \n",
       "3               0         0       0         0           0         0   \n",
       "4               0         0       0         0           0         0   \n",
       "...           ...       ...     ...       ...         ...       ...   \n",
       "29995           0         0       0         0           0         0   \n",
       "29996           0         1       0         0           0         0   \n",
       "29997           0         1       0         0           0         0   \n",
       "29998           0         0       0         0           0         0   \n",
       "29999           2         0       0         1           0         0   \n",
       "\n",
       "       cheerleading  baseball  tennis  sports  ...  mall  shopping  clothes  \\\n",
       "0                 0         0       0       0  ...     0         0        0   \n",
       "1                 0         0       0       0  ...     1         0        0   \n",
       "2                 0         0       0       0  ...     0         0        0   \n",
       "3                 0         0       0       0  ...     0         0        0   \n",
       "4                 0         0       0       0  ...     0         2        0   \n",
       "...             ...       ...     ...     ...  ...   ...       ...      ...   \n",
       "29995             0         0       0       0  ...     0         0        0   \n",
       "29996             0         0       0       0  ...     0         0        0   \n",
       "29997             0         1       0       0  ...     0         0        0   \n",
       "29998             0         0       0       0  ...     0         0        0   \n",
       "29999             0         0       0       0  ...     0         0        0   \n",
       "\n",
       "       hollister  abercrombie  die  death  drunk  drugs  labels  \n",
       "0              0            0    0      0      0      0       0  \n",
       "1              0            0    0      0      0      0       7  \n",
       "2              0            0    0      1      0      0       0  \n",
       "3              0            0    0      0      0      0       0  \n",
       "4              0            0    0      0      1      1       5  \n",
       "...          ...          ...  ...    ...    ...    ...     ...  \n",
       "29995          0            0    0      0      0      0       0  \n",
       "29996          0            0    0      0      0      0       0  \n",
       "29997          0            0    0      0      0      0       0  \n",
       "29998          0            0    0      0      0      0       0  \n",
       "29999          0            0    0      0      0      0       0  \n",
       "\n",
       "[30000 rows x 37 columns]"
      ]
     },
     "execution_count": 30,
     "metadata": {},
     "output_type": "execute_result"
    }
   ],
   "source": [
    "df_keywords"
   ]
  },
  {
   "cell_type": "code",
   "execution_count": 32,
   "metadata": {},
   "outputs": [
    {
     "name": "stdout",
     "output_type": "stream",
     "text": [
      "==========\n",
      "cluster = 0\n",
      "music         0.540477\n",
      "god           0.312362\n",
      "dance         0.213320\n",
      "hair          0.180487\n",
      "shopping      0.167117\n",
      "basketball    0.160777\n",
      "football      0.158073\n",
      "band          0.154239\n",
      "cute          0.148783\n",
      "rock          0.147161\n",
      "dtype: float64\n",
      "==========\n",
      "cluster = 1\n",
      "god           4.742925\n",
      "jesus         2.018868\n",
      "church        1.740566\n",
      "bible         1.108491\n",
      "music         1.084906\n",
      "hair          0.459906\n",
      "band          0.410377\n",
      "dance         0.389151\n",
      "die           0.360849\n",
      "basketball    0.351415\n",
      "dtype: float64\n",
      "==========\n",
      "cluster = 2\n",
      "hollister      1.522892\n",
      "abercrombie    1.168675\n",
      "shopping       0.920482\n",
      "hair           0.913253\n",
      "music          0.906024\n",
      "dance          0.693976\n",
      "mall           0.669880\n",
      "cute           0.610843\n",
      "god            0.457831\n",
      "clothes        0.415663\n",
      "dtype: float64\n",
      "==========\n",
      "cluster = 3\n",
      "blonde      327.0\n",
      "sex          22.0\n",
      "hair         12.0\n",
      "god          10.0\n",
      "death         6.0\n",
      "die           6.0\n",
      "drunk         6.0\n",
      "football      2.0\n",
      "dress         2.0\n",
      "sexy          1.0\n",
      "dtype: float64\n",
      "==========\n",
      "cluster = 4\n",
      "softball      2.548733\n",
      "volleyball    1.967836\n",
      "basketball    1.029240\n",
      "music         0.727096\n",
      "shopping      0.518519\n",
      "god           0.517544\n",
      "dance         0.447368\n",
      "sports        0.443470\n",
      "hair          0.442495\n",
      "football      0.431774\n",
      "dtype: float64\n",
      "==========\n",
      "cluster = 5\n",
      "hair      3.267167\n",
      "sex       2.608369\n",
      "music     2.210300\n",
      "kissed    1.723176\n",
      "die       1.285408\n",
      "rock      1.157725\n",
      "drugs     1.057940\n",
      "god       0.937768\n",
      "dance     0.917382\n",
      "drunk     0.825107\n",
      "dtype: float64\n",
      "==========\n",
      "cluster = 6\n",
      "cheerleading    2.920807\n",
      "shopping        0.703416\n",
      "music           0.700311\n",
      "dance           0.611801\n",
      "cute            0.545031\n",
      "hair            0.531056\n",
      "football        0.527950\n",
      "god             0.523292\n",
      "basketball      0.417702\n",
      "mall            0.409938\n",
      "dtype: float64\n",
      "==========\n",
      "cluster = 7\n",
      "music       1.138856\n",
      "dance       1.116607\n",
      "shopping    0.911601\n",
      "cute        0.880016\n",
      "hair        0.777712\n",
      "mall        0.681367\n",
      "god         0.609257\n",
      "church      0.563369\n",
      "soccer      0.518673\n",
      "football    0.482718\n",
      "dtype: float64\n",
      "==========\n",
      "cluster = 8\n",
      "band        4.056283\n",
      "marching    1.413613\n",
      "music       1.226440\n",
      "god         0.515707\n",
      "dance       0.450262\n",
      "hair        0.371728\n",
      "rock        0.356021\n",
      "shopping    0.290576\n",
      "football    0.273560\n",
      "cute        0.267016\n",
      "dtype: float64\n"
     ]
    }
   ],
   "source": [
    "for c, df_group in df_keywords.groupby('labels'):\n",
    "    print('='*10)\n",
    "    print('cluster = {}'.format(c))\n",
    "    \n",
    "    print(\n",
    "        df_group.drop(['labels'], axis=1)\\\n",
    "        .mean().\\\n",
    "        sort_values(ascending=False).\\\n",
    "        head(10)\n",
    "    )"
   ]
  },
  {
   "cell_type": "code",
   "execution_count": 33,
   "metadata": {},
   "outputs": [
    {
     "data": {
      "text/plain": [
       "0    20345\n",
       "7     5034\n",
       "4     1026\n",
       "5      932\n",
       "2      830\n",
       "8      764\n",
       "6      644\n",
       "1      424\n",
       "3        1\n",
       "Name: labels, dtype: int64"
      ]
     },
     "execution_count": 33,
     "metadata": {},
     "output_type": "execute_result"
    }
   ],
   "source": [
    "df_keywords.labels.value_counts()"
   ]
  },
  {
   "cell_type": "markdown",
   "metadata": {},
   "source": [
    "# Рационы питания в странах"
   ]
  },
  {
   "cell_type": "markdown",
   "metadata": {},
   "source": [
    "Загрузите набор данных о пищевом рационе в разных странах мира `diet.csv`"
   ]
  },
  {
   "cell_type": "code",
   "execution_count": 34,
   "metadata": {},
   "outputs": [],
   "source": [
    "from sklearn.preprocessing import StandardScaler\n",
    "from sklearn.cluster import DBSCAN, KMeans\n",
    "from sklearn.metrics import silhouette_score, adjusted_rand_score"
   ]
  },
  {
   "cell_type": "code",
   "execution_count": 35,
   "metadata": {},
   "outputs": [],
   "source": [
    "df = pd.read_csv('data/diet.csv', sep=';').iloc[:, :-1]"
   ]
  },
  {
   "cell_type": "code",
   "execution_count": 36,
   "metadata": {},
   "outputs": [
    {
     "data": {
      "text/html": [
       "<div>\n",
       "<style scoped>\n",
       "    .dataframe tbody tr th:only-of-type {\n",
       "        vertical-align: middle;\n",
       "    }\n",
       "\n",
       "    .dataframe tbody tr th {\n",
       "        vertical-align: top;\n",
       "    }\n",
       "\n",
       "    .dataframe thead th {\n",
       "        text-align: right;\n",
       "    }\n",
       "</style>\n",
       "<table border=\"1\" class=\"dataframe\">\n",
       "  <thead>\n",
       "    <tr style=\"text-align: right;\">\n",
       "      <th></th>\n",
       "      <th>Countries</th>\n",
       "      <th>Energy (kcal/day)</th>\n",
       "      <th>Protein (g/day)</th>\n",
       "      <th>Fats (g/day)</th>\n",
       "      <th>Carbohydrates (g/day)</th>\n",
       "      <th>Animal Products + (kcal/day)</th>\n",
       "      <th>Animal Fats (kcal/day)</th>\n",
       "      <th>Bovine Meat (kcal/day)</th>\n",
       "      <th>Butter, Ghee (kcal/day)</th>\n",
       "      <th>Cheese (kcal/day)</th>\n",
       "      <th>...</th>\n",
       "      <th>Soyabean Oil (kcal/day)</th>\n",
       "      <th>Starchy Roots (kcal/day)</th>\n",
       "      <th>Sugar &amp; Sweeteners (kcal/day)</th>\n",
       "      <th>Sugar (Raw Equivalent) (kcal/day)</th>\n",
       "      <th>Sugar, Raw Equivalent (kcal/day)</th>\n",
       "      <th>Sugar, Refined Equiv (kcal/day)</th>\n",
       "      <th>Vegetable Oils (kcal/day)</th>\n",
       "      <th>Vegetables (kcal/day)</th>\n",
       "      <th>Wheat (kcal/day)</th>\n",
       "      <th>Wine (kcal/day)</th>\n",
       "    </tr>\n",
       "  </thead>\n",
       "  <tbody>\n",
       "    <tr>\n",
       "      <th>0</th>\n",
       "      <td>Albania</td>\n",
       "      <td>2860.0</td>\n",
       "      <td>96</td>\n",
       "      <td>86</td>\n",
       "      <td>425.50</td>\n",
       "      <td>813.0</td>\n",
       "      <td>49</td>\n",
       "      <td>62</td>\n",
       "      <td>11</td>\n",
       "      <td>50</td>\n",
       "      <td>...</td>\n",
       "      <td>2</td>\n",
       "      <td>57</td>\n",
       "      <td>193</td>\n",
       "      <td>187</td>\n",
       "      <td>191</td>\n",
       "      <td>187</td>\n",
       "      <td>174</td>\n",
       "      <td>94</td>\n",
       "      <td>1166</td>\n",
       "      <td>6</td>\n",
       "    </tr>\n",
       "    <tr>\n",
       "      <th>1</th>\n",
       "      <td>Argentina</td>\n",
       "      <td>2980.0</td>\n",
       "      <td>94</td>\n",
       "      <td>100</td>\n",
       "      <td>426.00</td>\n",
       "      <td>823.0</td>\n",
       "      <td>72</td>\n",
       "      <td>342</td>\n",
       "      <td>28</td>\n",
       "      <td>90</td>\n",
       "      <td>...</td>\n",
       "      <td>43</td>\n",
       "      <td>100</td>\n",
       "      <td>406</td>\n",
       "      <td>337</td>\n",
       "      <td>405</td>\n",
       "      <td>337</td>\n",
       "      <td>311</td>\n",
       "      <td>51</td>\n",
       "      <td>914</td>\n",
       "      <td>59</td>\n",
       "    </tr>\n",
       "    <tr>\n",
       "      <th>2</th>\n",
       "      <td>Australia</td>\n",
       "      <td>3120.0</td>\n",
       "      <td>107</td>\n",
       "      <td>134</td>\n",
       "      <td>371.50</td>\n",
       "      <td>1033.0</td>\n",
       "      <td>124</td>\n",
       "      <td>142</td>\n",
       "      <td>62</td>\n",
       "      <td>107</td>\n",
       "      <td>...</td>\n",
       "      <td>17</td>\n",
       "      <td>87</td>\n",
       "      <td>423</td>\n",
       "      <td>407</td>\n",
       "      <td>415</td>\n",
       "      <td>407</td>\n",
       "      <td>435</td>\n",
       "      <td>67</td>\n",
       "      <td>559</td>\n",
       "      <td>39</td>\n",
       "    </tr>\n",
       "    <tr>\n",
       "      <th>3</th>\n",
       "      <td>Austria</td>\n",
       "      <td>3740.0</td>\n",
       "      <td>111</td>\n",
       "      <td>162</td>\n",
       "      <td>459.50</td>\n",
       "      <td>1219.0</td>\n",
       "      <td>320</td>\n",
       "      <td>59</td>\n",
       "      <td>102</td>\n",
       "      <td>193</td>\n",
       "      <td>...</td>\n",
       "      <td>89</td>\n",
       "      <td>113</td>\n",
       "      <td>437</td>\n",
       "      <td>404</td>\n",
       "      <td>424</td>\n",
       "      <td>404</td>\n",
       "      <td>442</td>\n",
       "      <td>61</td>\n",
       "      <td>617</td>\n",
       "      <td>55</td>\n",
       "    </tr>\n",
       "    <tr>\n",
       "      <th>4</th>\n",
       "      <td>Bangladesh</td>\n",
       "      <td>2200.0</td>\n",
       "      <td>48</td>\n",
       "      <td>25</td>\n",
       "      <td>445.75</td>\n",
       "      <td>65.0</td>\n",
       "      <td>5</td>\n",
       "      <td>5</td>\n",
       "      <td>3</td>\n",
       "      <td>0</td>\n",
       "      <td>...</td>\n",
       "      <td>48</td>\n",
       "      <td>42</td>\n",
       "      <td>59</td>\n",
       "      <td>29</td>\n",
       "      <td>59</td>\n",
       "      <td>29</td>\n",
       "      <td>131</td>\n",
       "      <td>10</td>\n",
       "      <td>180</td>\n",
       "      <td>0</td>\n",
       "    </tr>\n",
       "  </tbody>\n",
       "</table>\n",
       "<p>5 rows × 50 columns</p>\n",
       "</div>"
      ],
      "text/plain": [
       "    Countries  Energy (kcal/day)  Protein (g/day)  Fats (g/day)  \\\n",
       "0     Albania             2860.0               96            86   \n",
       "1   Argentina             2980.0               94           100   \n",
       "2   Australia             3120.0              107           134   \n",
       "3     Austria             3740.0              111           162   \n",
       "4  Bangladesh             2200.0               48            25   \n",
       "\n",
       "   Carbohydrates (g/day)  Animal Products + (kcal/day)  \\\n",
       "0                 425.50                         813.0   \n",
       "1                 426.00                         823.0   \n",
       "2                 371.50                        1033.0   \n",
       "3                 459.50                        1219.0   \n",
       "4                 445.75                          65.0   \n",
       "\n",
       "   Animal Fats (kcal/day)  Bovine Meat (kcal/day)  Butter, Ghee (kcal/day)  \\\n",
       "0                      49                      62                       11   \n",
       "1                      72                     342                       28   \n",
       "2                     124                     142                       62   \n",
       "3                     320                      59                      102   \n",
       "4                       5                       5                        3   \n",
       "\n",
       "   Cheese (kcal/day)  ...  Soyabean Oil (kcal/day)  Starchy Roots (kcal/day)  \\\n",
       "0                 50  ...                        2                        57   \n",
       "1                 90  ...                       43                       100   \n",
       "2                107  ...                       17                        87   \n",
       "3                193  ...                       89                       113   \n",
       "4                  0  ...                       48                        42   \n",
       "\n",
       "   Sugar & Sweeteners (kcal/day)  Sugar (Raw Equivalent) (kcal/day)  \\\n",
       "0                            193                                187   \n",
       "1                            406                                337   \n",
       "2                            423                                407   \n",
       "3                            437                                404   \n",
       "4                             59                                 29   \n",
       "\n",
       "   Sugar, Raw Equivalent (kcal/day)  Sugar, Refined Equiv (kcal/day)  \\\n",
       "0                               191                              187   \n",
       "1                               405                              337   \n",
       "2                               415                              407   \n",
       "3                               424                              404   \n",
       "4                                59                               29   \n",
       "\n",
       "   Vegetable Oils (kcal/day)  Vegetables (kcal/day)  Wheat (kcal/day)  \\\n",
       "0                        174                     94              1166   \n",
       "1                        311                     51               914   \n",
       "2                        435                     67               559   \n",
       "3                        442                     61               617   \n",
       "4                        131                     10               180   \n",
       "\n",
       "   Wine (kcal/day)  \n",
       "0                6  \n",
       "1               59  \n",
       "2               39  \n",
       "3               55  \n",
       "4                0  \n",
       "\n",
       "[5 rows x 50 columns]"
      ]
     },
     "execution_count": 36,
     "metadata": {},
     "output_type": "execute_result"
    }
   ],
   "source": [
    "df.head()"
   ]
  },
  {
   "cell_type": "code",
   "execution_count": 37,
   "metadata": {},
   "outputs": [],
   "source": [
    "scaler = StandardScaler()\n",
    "X = df.iloc[:, 1:].values\n",
    "X_norm = scaler.fit_transform(X)"
   ]
  },
  {
   "cell_type": "markdown",
   "metadata": {},
   "source": [
    "\n",
    "1. Отнормируйте данные с помощью `RobustScaler` или `StandardScaler`\n",
    "2. Используйте метод K-средних. Выберите число кластеров с помощью критерия силуэта\n",
    "3. Найдите выборосы и проинтерпретируйте кластеры"
   ]
  },
  {
   "cell_type": "code",
   "execution_count": null,
   "metadata": {},
   "outputs": [],
   "source": [
    "## Your Code Here"
   ]
  },
  {
   "cell_type": "markdown",
   "metadata": {},
   "source": [
    "## Оценка `epsilon` для DBSCAN"
   ]
  },
  {
   "cell_type": "markdown",
   "metadata": {},
   "source": [
    "То что нам не нужно определять количество выходных кластеров в DBSCAN - это конечно хорошо, но как определить `min_pts` и `epsilon`?) Есть одна методика"
   ]
  },
  {
   "cell_type": "markdown",
   "metadata": {},
   "source": [
    "Будем считать, что MinPts нам дан свыше (например MinPts = 2). Воспользуемся следующим способом оценки:\n",
    "\n",
    "* Нормализуем признаки, например с помощью `RobustScaler` или `StandartScaler`\n",
    "* Расчитаем расстояние до k=MinPts ближайшего соседа каждой точки (класс `NearestNeighbors` и метод `kneighbors`)\n",
    "* Отсортируем полученный массив и выведите его на график\n",
    "* По графику будет примерно понятно, сколько точек уйдет в шум, а сколько попадет в полноценный кластер"
   ]
  },
  {
   "cell_type": "code",
   "execution_count": 38,
   "metadata": {},
   "outputs": [],
   "source": [
    "from sklearn.neighbors import NearestNeighbors"
   ]
  },
  {
   "cell_type": "code",
   "execution_count": 39,
   "metadata": {},
   "outputs": [
    {
     "data": {
      "text/plain": [
       "NearestNeighbors(n_neighbors=2)"
      ]
     },
     "execution_count": 39,
     "metadata": {},
     "output_type": "execute_result"
    }
   ],
   "source": [
    "minpts = 2\n",
    "nn = NearestNeighbors(n_neighbors=minpts)\n",
    "nn.fit(X_norm)"
   ]
  },
  {
   "cell_type": "code",
   "execution_count": 42,
   "metadata": {},
   "outputs": [],
   "source": [
    "d, idx = nn.kneighbors(X_norm, return_distance=True)"
   ]
  },
  {
   "cell_type": "code",
   "execution_count": 46,
   "metadata": {},
   "outputs": [],
   "source": [
    "d2 = d[:, 1]\n",
    "d2 = np.sort(d2)"
   ]
  },
  {
   "cell_type": "code",
   "execution_count": 47,
   "metadata": {},
   "outputs": [
    {
     "data": {
      "text/plain": [
       "[<matplotlib.lines.Line2D at 0x239bde6c148>]"
      ]
     },
     "execution_count": 47,
     "metadata": {},
     "output_type": "execute_result"
    },
    {
     "data": {
      "image/png": "[encoded data removed]",
      "text/plain": [
       "<Figure size 864x576 with 1 Axes>"
      ]
     },
     "metadata": {
      "needs_background": "light"
     },
     "output_type": "display_data"
    }
   ],
   "source": [
    "plt.plot(d2)"
   ]
  },
  {
   "cell_type": "code",
   "execution_count": 68,
   "metadata": {},
   "outputs": [
    {
     "data": {
      "text/plain": [
       "DBSCAN(eps=8, min_samples=2)"
      ]
     },
     "execution_count": 68,
     "metadata": {},
     "output_type": "execute_result"
    }
   ],
   "source": [
    "eps = 8\n",
    "dbscan = DBSCAN(eps=eps, min_samples=minpts)\n",
    "dbscan.fit(X_norm)"
   ]
  },
  {
   "cell_type": "code",
   "execution_count": 69,
   "metadata": {},
   "outputs": [
    {
     "data": {
      "text/plain": [
       "array([ 0,  0,  0,  0,  0,  0,  0,  0,  0,  0,  0,  0,  0,  0,  0,  0,  0,\n",
       "        0,  0,  0,  0,  0,  0,  0,  0,  0,  0,  0,  0,  0,  0,  0,  0,  0,\n",
       "        0,  0,  0,  0,  0, -1,  0,  0,  0,  0,  0,  0,  0,  0,  0,  0,  0,\n",
       "        0,  0, -1,  0,  0,  0,  0,  0,  0,  0,  0,  0,  0,  0,  0, -1, -1,\n",
       "        0,  0,  0,  0,  0,  0,  0,  0,  0,  0,  0,  0,  0,  0,  0,  0,  0,\n",
       "        0], dtype=int64)"
      ]
     },
     "execution_count": 69,
     "metadata": {},
     "output_type": "execute_result"
    }
   ],
   "source": [
    "dbscan.labels_"
   ]
  },
  {
   "cell_type": "code",
   "execution_count": 70,
   "metadata": {},
   "outputs": [],
   "source": [
    "df.loc[:, 'labels'] = dbscan.labels_"
   ]
  },
  {
   "cell_type": "code",
   "execution_count": 71,
   "metadata": {},
   "outputs": [
    {
     "data": {
      "text/plain": [
       " 0    82\n",
       "-1     4\n",
       "Name: labels, dtype: int64"
      ]
     },
     "execution_count": 71,
     "metadata": {},
     "output_type": "execute_result"
    }
   ],
   "source": [
    "df.labels.value_counts()"
   ]
  },
  {
   "cell_type": "code",
   "execution_count": 72,
   "metadata": {},
   "outputs": [
    {
     "data": {
      "text/html": [
       "<div>\n",
       "<style scoped>\n",
       "    .dataframe tbody tr th:only-of-type {\n",
       "        vertical-align: middle;\n",
       "    }\n",
       "\n",
       "    .dataframe tbody tr th {\n",
       "        vertical-align: top;\n",
       "    }\n",
       "\n",
       "    .dataframe thead th {\n",
       "        text-align: right;\n",
       "    }\n",
       "</style>\n",
       "<table border=\"1\" class=\"dataframe\">\n",
       "  <thead>\n",
       "    <tr style=\"text-align: right;\">\n",
       "      <th></th>\n",
       "      <th>39</th>\n",
       "      <th>53</th>\n",
       "      <th>66</th>\n",
       "      <th>67</th>\n",
       "    </tr>\n",
       "  </thead>\n",
       "  <tbody>\n",
       "    <tr>\n",
       "      <th>Countries</th>\n",
       "      <td>Iran</td>\n",
       "      <td>Mongolia</td>\n",
       "      <td>Saint Lucia</td>\n",
       "      <td>Samoa</td>\n",
       "    </tr>\n",
       "    <tr>\n",
       "      <th>Energy (kcal/day)</th>\n",
       "      <td>360.2</td>\n",
       "      <td>2250</td>\n",
       "      <td>2960</td>\n",
       "      <td>2910</td>\n",
       "    </tr>\n",
       "    <tr>\n",
       "      <th>Protein (g/day)</th>\n",
       "      <td>3090</td>\n",
       "      <td>79</td>\n",
       "      <td>95</td>\n",
       "      <td>84</td>\n",
       "    </tr>\n",
       "    <tr>\n",
       "      <th>Fats (g/day)</th>\n",
       "      <td>83</td>\n",
       "      <td>84</td>\n",
       "      <td>81</td>\n",
       "      <td>133</td>\n",
       "    </tr>\n",
       "    <tr>\n",
       "      <th>Carbohydrates (g/day)</th>\n",
       "      <td>61</td>\n",
       "      <td>294.5</td>\n",
       "      <td>462.75</td>\n",
       "      <td>344.25</td>\n",
       "    </tr>\n",
       "    <tr>\n",
       "      <th>Animal Products + (kcal/day)</th>\n",
       "      <td>552.25</td>\n",
       "      <td>872</td>\n",
       "      <td>816</td>\n",
       "      <td>826</td>\n",
       "    </tr>\n",
       "    <tr>\n",
       "      <th>Animal Fats (kcal/day)</th>\n",
       "      <td>297</td>\n",
       "      <td>72</td>\n",
       "      <td>78</td>\n",
       "      <td>125</td>\n",
       "    </tr>\n",
       "    <tr>\n",
       "      <th>Bovine Meat (kcal/day)</th>\n",
       "      <td>49</td>\n",
       "      <td>159</td>\n",
       "      <td>35</td>\n",
       "      <td>39</td>\n",
       "    </tr>\n",
       "    <tr>\n",
       "      <th>Butter, Ghee (kcal/day)</th>\n",
       "      <td>29</td>\n",
       "      <td>4</td>\n",
       "      <td>25</td>\n",
       "      <td>34</td>\n",
       "    </tr>\n",
       "    <tr>\n",
       "      <th>Cheese (kcal/day)</th>\n",
       "      <td>49</td>\n",
       "      <td>5</td>\n",
       "      <td>54</td>\n",
       "      <td>2</td>\n",
       "    </tr>\n",
       "    <tr>\n",
       "      <th>Eggs (kcal/day)</th>\n",
       "      <td>12</td>\n",
       "      <td>3</td>\n",
       "      <td>11</td>\n",
       "      <td>13</td>\n",
       "    </tr>\n",
       "    <tr>\n",
       "      <th>Fats, Animals, Raw (kcal/day)</th>\n",
       "      <td>27</td>\n",
       "      <td>67</td>\n",
       "      <td>47</td>\n",
       "      <td>91</td>\n",
       "    </tr>\n",
       "    <tr>\n",
       "      <th>Fish, Seafood (kcal/day)</th>\n",
       "      <td>0</td>\n",
       "      <td>0</td>\n",
       "      <td>61</td>\n",
       "      <td>167</td>\n",
       "    </tr>\n",
       "    <tr>\n",
       "      <th>Freshwater Fish (kcal/day)</th>\n",
       "      <td>11</td>\n",
       "      <td>0</td>\n",
       "      <td>0</td>\n",
       "      <td>0</td>\n",
       "    </tr>\n",
       "    <tr>\n",
       "      <th>Honey (kcal/day)</th>\n",
       "      <td>3</td>\n",
       "      <td>0</td>\n",
       "      <td>0</td>\n",
       "      <td>17</td>\n",
       "    </tr>\n",
       "    <tr>\n",
       "      <th>Meat (kcal/day)</th>\n",
       "      <td>3</td>\n",
       "      <td>554</td>\n",
       "      <td>385</td>\n",
       "      <td>476</td>\n",
       "    </tr>\n",
       "    <tr>\n",
       "      <th>Milk - Excluding Butter (kcal/day)</th>\n",
       "      <td>114</td>\n",
       "      <td>206</td>\n",
       "      <td>193</td>\n",
       "      <td>36</td>\n",
       "    </tr>\n",
       "    <tr>\n",
       "      <th>Milk, Whole (kcal/day)</th>\n",
       "      <td>87</td>\n",
       "      <td>193</td>\n",
       "      <td>125</td>\n",
       "      <td>34</td>\n",
       "    </tr>\n",
       "    <tr>\n",
       "      <th>Mutton &amp; Goat Meat (kcal/day)</th>\n",
       "      <td>59</td>\n",
       "      <td>346</td>\n",
       "      <td>47</td>\n",
       "      <td>115</td>\n",
       "    </tr>\n",
       "    <tr>\n",
       "      <th>Offals, Edible (kcal/day)</th>\n",
       "      <td>42</td>\n",
       "      <td>34</td>\n",
       "      <td>86</td>\n",
       "      <td>7</td>\n",
       "    </tr>\n",
       "    <tr>\n",
       "      <th>Pelagic Fish (kcal/day)</th>\n",
       "      <td>7</td>\n",
       "      <td>0</td>\n",
       "      <td>42</td>\n",
       "      <td>91</td>\n",
       "    </tr>\n",
       "    <tr>\n",
       "      <th>Pigmeat (kcal/day)</th>\n",
       "      <td>6</td>\n",
       "      <td>2</td>\n",
       "      <td>108</td>\n",
       "      <td>205</td>\n",
       "    </tr>\n",
       "    <tr>\n",
       "      <th>Poultry Meat (kcal/day)</th>\n",
       "      <td>0</td>\n",
       "      <td>0</td>\n",
       "      <td>193</td>\n",
       "      <td>115</td>\n",
       "    </tr>\n",
       "    <tr>\n",
       "      <th>Vegetal Products + (kcal/day)</th>\n",
       "      <td>41</td>\n",
       "      <td>1377</td>\n",
       "      <td>2157</td>\n",
       "      <td>2093</td>\n",
       "    </tr>\n",
       "    <tr>\n",
       "      <th>Alcoholic Beverages (kcal/day)</th>\n",
       "      <td>2807</td>\n",
       "      <td>42</td>\n",
       "      <td>167</td>\n",
       "      <td>27</td>\n",
       "    </tr>\n",
       "    <tr>\n",
       "      <th>Apples (kcal/day)</th>\n",
       "      <td>0</td>\n",
       "      <td>9</td>\n",
       "      <td>10</td>\n",
       "      <td>0</td>\n",
       "    </tr>\n",
       "    <tr>\n",
       "      <th>Bananas (kcal/day)</th>\n",
       "      <td>39</td>\n",
       "      <td>0</td>\n",
       "      <td>114</td>\n",
       "      <td>134</td>\n",
       "    </tr>\n",
       "    <tr>\n",
       "      <th>Beans (kcal/day)</th>\n",
       "      <td>6</td>\n",
       "      <td>0</td>\n",
       "      <td>21</td>\n",
       "      <td>0</td>\n",
       "    </tr>\n",
       "    <tr>\n",
       "      <th>Cereals - Excluding Beer (kcal/day)</th>\n",
       "      <td>20</td>\n",
       "      <td>956</td>\n",
       "      <td>847</td>\n",
       "      <td>644</td>\n",
       "    </tr>\n",
       "    <tr>\n",
       "      <th>Coconut Oil (kcal/day)</th>\n",
       "      <td>1832</td>\n",
       "      <td>0</td>\n",
       "      <td>122</td>\n",
       "      <td>88</td>\n",
       "    </tr>\n",
       "    <tr>\n",
       "      <th>Coffee (kcal/day)</th>\n",
       "      <td>0</td>\n",
       "      <td>0</td>\n",
       "      <td>2</td>\n",
       "      <td>15</td>\n",
       "    </tr>\n",
       "    <tr>\n",
       "      <th>Fruits - Excluding Wine (kcal/day)</th>\n",
       "      <td>0</td>\n",
       "      <td>15</td>\n",
       "      <td>265</td>\n",
       "      <td>221</td>\n",
       "    </tr>\n",
       "    <tr>\n",
       "      <th>Nuts (kcal/day)</th>\n",
       "      <td>225</td>\n",
       "      <td>2</td>\n",
       "      <td>13</td>\n",
       "      <td>0</td>\n",
       "    </tr>\n",
       "    <tr>\n",
       "      <th>Olive Oil (kcal/day)</th>\n",
       "      <td>40</td>\n",
       "      <td>0</td>\n",
       "      <td>5</td>\n",
       "      <td>0</td>\n",
       "    </tr>\n",
       "    <tr>\n",
       "      <th>Palm Oil (kcal/day)</th>\n",
       "      <td>0</td>\n",
       "      <td>5</td>\n",
       "      <td>0</td>\n",
       "      <td>34</td>\n",
       "    </tr>\n",
       "    <tr>\n",
       "      <th>Potatoes (kcal/day)</th>\n",
       "      <td>0</td>\n",
       "      <td>58</td>\n",
       "      <td>30</td>\n",
       "      <td>7</td>\n",
       "    </tr>\n",
       "    <tr>\n",
       "      <th>Pulses (kcal/day)</th>\n",
       "      <td>94</td>\n",
       "      <td>3</td>\n",
       "      <td>79</td>\n",
       "      <td>0</td>\n",
       "    </tr>\n",
       "    <tr>\n",
       "      <th>Rice (Milled Equivalent) (kcal/day)</th>\n",
       "      <td>45</td>\n",
       "      <td>56</td>\n",
       "      <td>121</td>\n",
       "      <td>259</td>\n",
       "    </tr>\n",
       "    <tr>\n",
       "      <th>Rice (Paddy Equivalent) (kcal/day)</th>\n",
       "      <td>341</td>\n",
       "      <td>56</td>\n",
       "      <td>121</td>\n",
       "      <td>259</td>\n",
       "    </tr>\n",
       "    <tr>\n",
       "      <th>Roots &amp; Tuber Dry Equiv (kcal/day)</th>\n",
       "      <td>341</td>\n",
       "      <td>62</td>\n",
       "      <td>159</td>\n",
       "      <td>272</td>\n",
       "    </tr>\n",
       "    <tr>\n",
       "      <th>Soyabean Oil (kcal/day)</th>\n",
       "      <td>94</td>\n",
       "      <td>90</td>\n",
       "      <td>0</td>\n",
       "      <td>0</td>\n",
       "    </tr>\n",
       "    <tr>\n",
       "      <th>Starchy Roots (kcal/day)</th>\n",
       "      <td>145</td>\n",
       "      <td>62</td>\n",
       "      <td>159</td>\n",
       "      <td>272</td>\n",
       "    </tr>\n",
       "    <tr>\n",
       "      <th>Sugar &amp; Sweeteners (kcal/day)</th>\n",
       "      <td>94</td>\n",
       "      <td>133</td>\n",
       "      <td>352</td>\n",
       "      <td>250</td>\n",
       "    </tr>\n",
       "    <tr>\n",
       "      <th>Sugar (Raw Equivalent) (kcal/day)</th>\n",
       "      <td>258</td>\n",
       "      <td>131</td>\n",
       "      <td>343</td>\n",
       "      <td>232</td>\n",
       "    </tr>\n",
       "    <tr>\n",
       "      <th>Sugar, Raw Equivalent (kcal/day)</th>\n",
       "      <td>254</td>\n",
       "      <td>133</td>\n",
       "      <td>351</td>\n",
       "      <td>233</td>\n",
       "    </tr>\n",
       "    <tr>\n",
       "      <th>Sugar, Refined Equiv (kcal/day)</th>\n",
       "      <td>254</td>\n",
       "      <td>131</td>\n",
       "      <td>343</td>\n",
       "      <td>232</td>\n",
       "    </tr>\n",
       "    <tr>\n",
       "      <th>Vegetable Oils (kcal/day)</th>\n",
       "      <td>254</td>\n",
       "      <td>120</td>\n",
       "      <td>140</td>\n",
       "      <td>129</td>\n",
       "    </tr>\n",
       "    <tr>\n",
       "      <th>Vegetables (kcal/day)</th>\n",
       "      <td>200</td>\n",
       "      <td>13</td>\n",
       "      <td>37</td>\n",
       "      <td>6</td>\n",
       "    </tr>\n",
       "    <tr>\n",
       "      <th>Wheat (kcal/day)</th>\n",
       "      <td>98</td>\n",
       "      <td>891</td>\n",
       "      <td>698</td>\n",
       "      <td>384</td>\n",
       "    </tr>\n",
       "    <tr>\n",
       "      <th>Wine (kcal/day)</th>\n",
       "      <td>1468</td>\n",
       "      <td>2</td>\n",
       "      <td>16</td>\n",
       "      <td>0</td>\n",
       "    </tr>\n",
       "    <tr>\n",
       "      <th>labels</th>\n",
       "      <td>-1</td>\n",
       "      <td>-1</td>\n",
       "      <td>-1</td>\n",
       "      <td>-1</td>\n",
       "    </tr>\n",
       "  </tbody>\n",
       "</table>\n",
       "</div>"
      ],
      "text/plain": [
       "                                         39        53           66      67\n",
       "Countries                              Iran  Mongolia  Saint Lucia   Samoa\n",
       "Energy (kcal/day)                     360.2      2250         2960    2910\n",
       "Protein (g/day)                        3090        79           95      84\n",
       "Fats (g/day)                             83        84           81     133\n",
       "Carbohydrates (g/day)                    61     294.5       462.75  344.25\n",
       "Animal Products + (kcal/day)         552.25       872          816     826\n",
       "Animal Fats (kcal/day)                  297        72           78     125\n",
       "Bovine Meat (kcal/day)                   49       159           35      39\n",
       "Butter, Ghee (kcal/day)                  29         4           25      34\n",
       "Cheese (kcal/day)                        49         5           54       2\n",
       "Eggs (kcal/day)                          12         3           11      13\n",
       "Fats, Animals, Raw (kcal/day)            27        67           47      91\n",
       "Fish, Seafood (kcal/day)                  0         0           61     167\n",
       "Freshwater Fish (kcal/day)               11         0            0       0\n",
       "Honey (kcal/day)                          3         0            0      17\n",
       "Meat (kcal/day)                           3       554          385     476\n",
       "Milk - Excluding Butter (kcal/day)      114       206          193      36\n",
       "Milk, Whole (kcal/day)                   87       193          125      34\n",
       "Mutton & Goat Meat (kcal/day)            59       346           47     115\n",
       "Offals, Edible (kcal/day)                42        34           86       7\n",
       "Pelagic Fish (kcal/day)                   7         0           42      91\n",
       "Pigmeat (kcal/day)                        6         2          108     205\n",
       "Poultry Meat (kcal/day)                   0         0          193     115\n",
       "Vegetal Products + (kcal/day)            41      1377         2157    2093\n",
       "Alcoholic Beverages (kcal/day)         2807        42          167      27\n",
       "Apples (kcal/day)                         0         9           10       0\n",
       "Bananas (kcal/day)                       39         0          114     134\n",
       "Beans (kcal/day)                          6         0           21       0\n",
       "Cereals - Excluding Beer (kcal/day)      20       956          847     644\n",
       "Coconut Oil (kcal/day)                 1832         0          122      88\n",
       "Coffee (kcal/day)                         0         0            2      15\n",
       "Fruits - Excluding Wine (kcal/day)        0        15          265     221\n",
       "Nuts (kcal/day)                         225         2           13       0\n",
       "Olive Oil (kcal/day)                     40         0            5       0\n",
       "Palm Oil (kcal/day)                       0         5            0      34\n",
       "Potatoes (kcal/day)                       0        58           30       7\n",
       "Pulses (kcal/day)                        94         3           79       0\n",
       "Rice (Milled Equivalent) (kcal/day)      45        56          121     259\n",
       "Rice (Paddy Equivalent) (kcal/day)      341        56          121     259\n",
       "Roots & Tuber Dry Equiv (kcal/day)      341        62          159     272\n",
       "Soyabean Oil (kcal/day)                  94        90            0       0\n",
       "Starchy Roots (kcal/day)                145        62          159     272\n",
       "Sugar & Sweeteners (kcal/day)            94       133          352     250\n",
       "Sugar (Raw Equivalent) (kcal/day)       258       131          343     232\n",
       "Sugar, Raw Equivalent (kcal/day)        254       133          351     233\n",
       "Sugar, Refined Equiv (kcal/day)         254       131          343     232\n",
       "Vegetable Oils (kcal/day)               254       120          140     129\n",
       "Vegetables (kcal/day)                   200        13           37       6\n",
       "Wheat (kcal/day)                         98       891          698     384\n",
       "Wine (kcal/day)                        1468         2           16       0\n",
       "labels                                   -1        -1           -1      -1"
      ]
     },
     "execution_count": 72,
     "metadata": {},
     "output_type": "execute_result"
    }
   ],
   "source": [
    "df[df.labels == -1].T"
   ]
  },
  {
   "cell_type": "markdown",
   "metadata": {},
   "source": [
    "# Задача про кластеризацию текстов (ДЗ)"
   ]
  },
  {
   "cell_type": "markdown",
   "metadata": {
    "slideshow": {
     "slide_type": "subslide"
    }
   },
   "source": [
    "Рассмотрим коллекцию новостных сообщений за первую половину 2017 года. Про каждое новостное сообщение известны:\n",
    "* его заголовок и текст\n",
    "* дата его публикации\n",
    "* событие, о котором это новостное сообщение написано \n",
    "* его рубрика "
   ]
  },
  {
   "cell_type": "code",
   "execution_count": null,
   "metadata": {
    "slideshow": {
     "slide_type": "subslide"
    }
   },
   "outputs": [],
   "source": [
    "df = pd.read_csv('./data/news.csv', encoding='utf8')\n",
    "df.head()"
   ]
  },
  {
   "cell_type": "code",
   "execution_count": null,
   "metadata": {},
   "outputs": [],
   "source": [
    "df.loc[:, 'class'].value_counts()"
   ]
  },
  {
   "cell_type": "markdown",
   "metadata": {},
   "source": [
    "Попробуем кластеризовать документы (каким-либо методом) и сравним полученное разбиение с данными рубликами с помощью ARI"
   ]
  },
  {
   "cell_type": "markdown",
   "metadata": {},
   "source": [
    "### Стандартная предобработка текстов"
   ]
  },
  {
   "cell_type": "code",
   "execution_count": null,
   "metadata": {
    "slideshow": {
     "slide_type": "subslide"
    }
   },
   "outputs": [],
   "source": [
    "import re\n",
    "\n",
    "# Оставляем только кириллические символы\n",
    "regex = re.compile(u\"[А-Яа-я]+\")\n",
    "\n",
    "def words_only(text, regex=regex):\n",
    "    return \" \".join(regex.findall(text))\n",
    "\n",
    "\n",
    "df.text = df.text.str.lower()\n",
    "df.loc[:, 'text'] = df.text.apply(words_only)"
   ]
  },
  {
   "cell_type": "code",
   "execution_count": null,
   "metadata": {},
   "outputs": [],
   "source": [
    "import nltk"
   ]
  },
  {
   "cell_type": "code",
   "execution_count": null,
   "metadata": {
    "slideshow": {
     "slide_type": "subslide"
    }
   },
   "outputs": [],
   "source": [
    "from nltk.corpus import stopwords\n",
    "\n",
    "# Удаляем стоп-слова\n",
    "mystopwords = stopwords.words('russian') + ['это', 'наш' , 'тыс', 'млн', 'млрд', u'также',  'т', 'д', '-', '-']\n",
    "\n",
    "def  remove_stopwords(text, mystopwords = mystopwords):\n",
    "    try:\n",
    "        return u\" \".join([token for token in text.split() if not token in mystopwords])\n",
    "    except:\n",
    "        return u\"\"\n",
    "    \n",
    "df.text = df.text.apply(remove_stopwords)   "
   ]
  },
  {
   "cell_type": "code",
   "execution_count": 1,
   "metadata": {
    "slideshow": {
     "slide_type": "subslide"
    }
   },
   "outputs": [
    {
     "ename": "ModuleNotFoundError",
     "evalue": "No module named 'pymystem3'",
     "output_type": "error",
     "traceback": [
      "\u001b[1;31m---------------------------------------------------------------------------\u001b[0m",
      "\u001b[1;31mModuleNotFoundError\u001b[0m                       Traceback (most recent call last)",
      "\u001b[1;32m<timed exec>\u001b[0m in \u001b[0;36m<module>\u001b[1;34m\u001b[0m\n",
      "\u001b[1;31mModuleNotFoundError\u001b[0m: No module named 'pymystem3'"
     ]
    }
   ],
   "source": [
    "%%time \n",
    "from pymystem3 import Mystem\n",
    "\n",
    "\n",
    "# нормализуем текст\n",
    "m = Mystem()\n",
    "def lemmatize(text, mystem=m):\n",
    "    try:\n",
    "        return \"\".join(m.lemmatize(text)).strip()  \n",
    "    except:\n",
    "        return \" \"\n",
    "\n",
    "df.text = df.text.apply(lemmatize)"
   ]
  },
  {
   "cell_type": "code",
   "execution_count": null,
   "metadata": {
    "slideshow": {
     "slide_type": "subslide"
    }
   },
   "outputs": [],
   "source": [
    "mystoplemmas = [u'который', u'прошлый', u'сей', u'свой', u'наш', u'мочь']\n",
    "\n",
    "# Еще кое-что удаляем\n",
    "def  remove_stoplemmas(text, mystoplemmas = mystoplemmas):\n",
    "    try:\n",
    "        return \" \".join([token for token in text.split() if not token in mystoplemmas])\n",
    "    except:\n",
    "        return \"\"\n",
    "\n",
    "df.text = df.text.apply(remove_stoplemmas)  "
   ]
  },
  {
   "cell_type": "code",
   "execution_count": null,
   "metadata": {},
   "outputs": [],
   "source": [
    "df.text[0]"
   ]
  },
  {
   "cell_type": "markdown",
   "metadata": {},
   "source": [
    "## Вычисление сходства"
   ]
  },
  {
   "cell_type": "markdown",
   "metadata": {},
   "source": [
    "С помощью `TfidfVectorizer` и `pairwise_distances` расчитайте косинусное расстояние между всеми парами документов к корпусе\n",
    "\n",
    "Запишите результат в переменную `S`"
   ]
  },
  {
   "cell_type": "code",
   "execution_count": null,
   "metadata": {},
   "outputs": [],
   "source": [
    "import seaborn as sns\n",
    "from sklearn.feature_extraction.text import TfidfVectorizer\n",
    "from sklearn.metrics import pairwise_distances"
   ]
  },
  {
   "cell_type": "code",
   "execution_count": null,
   "metadata": {},
   "outputs": [],
   "source": [
    "vect = TfidfVectorizer()\n",
    "texts = df.text.values"
   ]
  },
  {
   "cell_type": "code",
   "execution_count": null,
   "metadata": {},
   "outputs": [],
   "source": [
    "# Your Code Here"
   ]
  },
  {
   "cell_type": "code",
   "execution_count": null,
   "metadata": {},
   "outputs": [],
   "source": [
    "S = ..."
   ]
  },
  {
   "cell_type": "code",
   "execution_count": null,
   "metadata": {},
   "outputs": [],
   "source": [
    "plt.figure(figsize = (10,10))\n",
    "sns.heatmap(data=S, cmap = 'Spectral').set(xticklabels=[],yticklabels=[])\n"
   ]
  },
  {
   "cell_type": "markdown",
   "metadata": {},
   "source": [
    "Вы должны пронаблюдать, что между некоторыми текстами есть довольно выскокое сходство по содержанию слов. \n",
    "\n",
    "Попробуем их кластеризовать"
   ]
  },
  {
   "cell_type": "markdown",
   "metadata": {},
   "source": [
    "## DBSCAN или KMeans\n",
    "* Воспользуйтесь методикой оценки параметров для алгоритма DBSCAN. Используйте косинусную меру близости\n",
    "* Выделите кластеры. Для каждого кластера (кроме -1, если он будет) выведите несколько текстов и умозрительно определите его тематику\n",
    "* Оцените сходство с изначальными рубриками визуально (с помощью матрицы перемешивания) и с помощью ARI"
   ]
  },
  {
   "cell_type": "code",
   "execution_count": null,
   "metadata": {},
   "outputs": [],
   "source": [
    "# Your Code Here"
   ]
  },
  {
   "cell_type": "code",
   "execution_count": null,
   "metadata": {},
   "outputs": [],
   "source": [
    "labels = ..."
   ]
  },
  {
   "cell_type": "code",
   "execution_count": null,
   "metadata": {},
   "outputs": [],
   "source": [
    "adjusted_rand_score(true_label, labels)"
   ]
  },
  {
   "cell_type": "code",
   "execution_count": null,
   "metadata": {
    "scrolled": false
   },
   "outputs": [],
   "source": [
    "pd.crosstab(df.loc[:, 'class'], labels)"
   ]
  }
 ],
 "metadata": {
  "anaconda-cloud": {},
  "kernelspec": {
   "display_name": "Python 3",
   "language": "python",
   "name": "python3"
  },
  "language_info": {
   "codemirror_mode": {
    "name": "ipython",
    "version": 3
   },
   "file_extension": ".py",
   "mimetype": "text/x-python",
   "name": "python",
   "nbconvert_exporter": "python",
   "pygments_lexer": "ipython3",
   "version": "3.7.8"
  },
  "livereveal": {
   "theme": "serif",
   "transition": "concave",
   "width": "1024px"
  },
  "nav_menu": {},
  "toc": {
   "base_numbering": 1,
   "nav_menu": {
    "height": "105px",
    "width": "253px"
   },
   "number_sections": false,
   "sideBar": false,
   "skip_h1_title": false,
   "title_cell": "Table of Contents",
   "title_sidebar": "Contents",
   "toc_cell": false,
   "toc_position": {},
   "toc_section_display": "block",
   "toc_window_display": false
  },
  "toc_position": {
   "height": "32px",
   "left": "9px",
   "right": "1379px",
   "top": "33px",
   "width": "212px"
  }
 },
 "nbformat": 4,
 "nbformat_minor": 2
}
