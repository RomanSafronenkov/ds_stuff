{
 "cells": [
  {
   "cell_type": "code",
   "execution_count": null,
   "metadata": {
    "colab": {
     "base_uri": "https://localhost:8080/",
     "height": 1000
    },
    "id": "vy-k6Eeo4AjN",
    "outputId": "8936f979-7406-4171-9078-31f6e11b67eb"
   },
   "outputs": [
    {
     "name": "stdout",
     "output_type": "stream",
     "text": [
      "Collecting geopandas\n",
      "\u001b[?25l  Downloading https://files.pythonhosted.org/packages/f7/a4/e66aafbefcbb717813bf3a355c8c4fc3ed04ea1dd7feb2920f2f4f868921/geopandas-0.8.1-py2.py3-none-any.whl (962kB)\n",
      "\u001b[K     |████████████████████████████████| 972kB 6.0MB/s \n",
      "\u001b[?25hCollecting fiona\n",
      "\u001b[?25l  Downloading https://files.pythonhosted.org/packages/37/94/4910fd55246c1d963727b03885ead6ef1cd3748a465f7b0239ab25dfc9a3/Fiona-1.8.18-cp36-cp36m-manylinux1_x86_64.whl (14.8MB)\n",
      "\u001b[K     |████████████████████████████████| 14.8MB 317kB/s \n",
      "\u001b[?25hRequirement already satisfied: shapely in /usr/local/lib/python3.6/dist-packages (from geopandas) (1.7.1)\n",
      "Collecting pyproj>=2.2.0\n",
      "\u001b[?25l  Downloading https://files.pythonhosted.org/packages/e4/ab/280e80a67cfc109d15428c0ec56391fc03a65857b7727cf4e6e6f99a4204/pyproj-3.0.0.post1-cp36-cp36m-manylinux2010_x86_64.whl (6.4MB)\n",
      "\u001b[K     |████████████████████████████████| 6.5MB 50.4MB/s \n",
      "\u001b[?25hRequirement already satisfied: pandas>=0.23.0 in /usr/local/lib/python3.6/dist-packages (from geopandas) (1.1.5)\n",
      "Requirement already satisfied: click<8,>=4.0 in /usr/local/lib/python3.6/dist-packages (from fiona->geopandas) (7.1.2)\n",
      "Collecting cligj>=0.5\n",
      "  Downloading https://files.pythonhosted.org/packages/42/1e/947eadf10d6804bf276eb8a038bd5307996dceaaa41cfd21b7a15ec62f5d/cligj-0.7.1-py3-none-any.whl\n",
      "Collecting munch\n",
      "  Downloading https://files.pythonhosted.org/packages/cc/ab/85d8da5c9a45e072301beb37ad7f833cd344e04c817d97e0cc75681d248f/munch-2.5.0-py2.py3-none-any.whl\n",
      "Collecting click-plugins>=1.0\n",
      "  Downloading https://files.pythonhosted.org/packages/e9/da/824b92d9942f4e472702488857914bdd50f73021efea15b4cad9aca8ecef/click_plugins-1.1.1-py2.py3-none-any.whl\n",
      "Requirement already satisfied: attrs>=17 in /usr/local/lib/python3.6/dist-packages (from fiona->geopandas) (20.3.0)\n",
      "Requirement already satisfied: certifi in /usr/local/lib/python3.6/dist-packages (from fiona->geopandas) (2020.12.5)\n",
      "Requirement already satisfied: six>=1.7 in /usr/local/lib/python3.6/dist-packages (from fiona->geopandas) (1.15.0)\n",
      "Requirement already satisfied: python-dateutil>=2.7.3 in /usr/local/lib/python3.6/dist-packages (from pandas>=0.23.0->geopandas) (2.8.1)\n",
      "Requirement already satisfied: pytz>=2017.2 in /usr/local/lib/python3.6/dist-packages (from pandas>=0.23.0->geopandas) (2018.9)\n",
      "Requirement already satisfied: numpy>=1.15.4 in /usr/local/lib/python3.6/dist-packages (from pandas>=0.23.0->geopandas) (1.19.4)\n",
      "Installing collected packages: cligj, munch, click-plugins, fiona, pyproj, geopandas\n",
      "Successfully installed click-plugins-1.1.1 cligj-0.7.1 fiona-1.8.18 geopandas-0.8.1 munch-2.5.0 pyproj-3.0.0.post1\n",
      "Reading package lists... Done\n",
      "Building dependency tree       \n",
      "Reading state information... Done\n",
      "The following additional packages will be installed:\n",
      "  libspatialindex-c4v5 libspatialindex4v5\n",
      "The following NEW packages will be installed:\n",
      "  libspatialindex-c4v5 libspatialindex-dev libspatialindex4v5\n",
      "0 upgraded, 3 newly installed, 0 to remove and 14 not upgraded.\n",
      "Need to get 555 kB of archives.\n",
      "After this operation, 3,308 kB of additional disk space will be used.\n",
      "Get:1 http://archive.ubuntu.com/ubuntu bionic/universe amd64 libspatialindex4v5 amd64 1.8.5-5 [219 kB]\n",
      "Get:2 http://archive.ubuntu.com/ubuntu bionic/universe amd64 libspatialindex-c4v5 amd64 1.8.5-5 [51.7 kB]\n",
      "Get:3 http://archive.ubuntu.com/ubuntu bionic/universe amd64 libspatialindex-dev amd64 1.8.5-5 [285 kB]\n",
      "Fetched 555 kB in 1s (656 kB/s)\n",
      "Selecting previously unselected package libspatialindex4v5:amd64.\n",
      "(Reading database ... 144865 files and directories currently installed.)\n",
      "Preparing to unpack .../libspatialindex4v5_1.8.5-5_amd64.deb ...\n",
      "Unpacking libspatialindex4v5:amd64 (1.8.5-5) ...\n",
      "Selecting previously unselected package libspatialindex-c4v5:amd64.\n",
      "Preparing to unpack .../libspatialindex-c4v5_1.8.5-5_amd64.deb ...\n",
      "Unpacking libspatialindex-c4v5:amd64 (1.8.5-5) ...\n",
      "Selecting previously unselected package libspatialindex-dev:amd64.\n",
      "Preparing to unpack .../libspatialindex-dev_1.8.5-5_amd64.deb ...\n",
      "Unpacking libspatialindex-dev:amd64 (1.8.5-5) ...\n",
      "Setting up libspatialindex4v5:amd64 (1.8.5-5) ...\n",
      "Setting up libspatialindex-c4v5:amd64 (1.8.5-5) ...\n",
      "Setting up libspatialindex-dev:amd64 (1.8.5-5) ...\n",
      "Processing triggers for libc-bin (2.27-3ubuntu1.2) ...\n",
      "/sbin/ldconfig.real: /usr/local/lib/python3.6/dist-packages/ideep4py/lib/libmkldnn.so.0 is not a symbolic link\n",
      "\n",
      "Collecting rtree\n",
      "\u001b[?25l  Downloading https://files.pythonhosted.org/packages/cf/9d/b424a18f5443996121104817e61aadcc7a45d47fe8dcdff0a5dadd6f9a66/Rtree-0.9.5.tar.gz (44kB)\n",
      "\u001b[K     |████████████████████████████████| 51kB 2.8MB/s \n",
      "\u001b[?25h  Installing build dependencies ... \u001b[?25l\u001b[?25hdone\n",
      "  Getting requirements to build wheel ... \u001b[?25l\u001b[?25hdone\n",
      "    Preparing wheel metadata ... \u001b[?25l\u001b[?25hdone\n",
      "Building wheels for collected packages: rtree\n",
      "  Building wheel for rtree (PEP 517) ... \u001b[?25l\u001b[?25hdone\n",
      "  Created wheel for rtree: filename=Rtree-0.9.5-cp36-cp36m-linux_x86_64.whl size=22573 sha256=b53b926bb624aaece65422544e68c144528a540890a2706dd0414634a3185c1b\n",
      "  Stored in directory: /root/.cache/pip/wheels/94/2f/91/43fc12793530a37d764a794277edb9d63d77ac331067ffc583\n",
      "Successfully built rtree\n",
      "Installing collected packages: rtree\n",
      "Successfully installed rtree-0.9.5\n",
      "Collecting pygeos\n",
      "\u001b[?25l  Downloading https://files.pythonhosted.org/packages/66/06/2cfcf6e90814da1fdb4585534f03a36531f00cbad65f11b417337d69fe60/pygeos-0.8-cp36-cp36m-manylinux1_x86_64.whl (1.6MB)\n",
      "\u001b[K     |████████████████████████████████| 1.6MB 5.7MB/s \n",
      "\u001b[?25hRequirement already satisfied: numpy>=1.10 in /usr/local/lib/python3.6/dist-packages (from pygeos) (1.19.4)\n",
      "Installing collected packages: pygeos\n",
      "Successfully installed pygeos-0.8\n",
      "Collecting pysal\n",
      "\u001b[?25l  Downloading https://files.pythonhosted.org/packages/ae/81/15c6ee658197330923cbd892b82323c4b8ac276503f9d38620343acb3822/pysal-2.3.0.tar.gz (108kB)\n",
      "\u001b[K     |████████████████████████████████| 112kB 4.3MB/s \n",
      "\u001b[?25hCollecting libpysal>=4.3.0\n",
      "\u001b[?25l  Downloading https://files.pythonhosted.org/packages/98/b8/90e8d8a1cf8e5d38c89debf40d5bc89496395b5e2014a1de22228ead4b55/libpysal-4.3.0.tar.gz (2.4MB)\n",
      "\u001b[K     |████████████████████████████████| 2.4MB 13.0MB/s \n",
      "\u001b[?25hCollecting access>=1.1.1\n",
      "  Downloading https://files.pythonhosted.org/packages/41/50/d7fb5466976af95e4c3481f8408f29744e9411e46a3f9d610a95e741f57b/access-1.1.3-py3-none-any.whl\n",
      "Collecting esda>=2.3.1\n",
      "\u001b[?25l  Downloading https://files.pythonhosted.org/packages/c1/ee/80d6c041e4b5b81a41058efcb4b92b03bc13d6005dd5263f8a7896ee8804/esda-2.3.1.tar.gz (71kB)\n",
      "\u001b[K     |████████████████████████████████| 71kB 8.5MB/s \n",
      "\u001b[?25hCollecting giddy>=2.3.3\n",
      "\u001b[?25l  Downloading https://files.pythonhosted.org/packages/5c/71/f7fc2b41e36b2a06bac30937435d2dedd125f74f3157213ec121ff52d961/giddy-2.3.3-py3-none-any.whl (60kB)\n",
      "\u001b[K     |████████████████████████████████| 61kB 8.2MB/s \n",
      "\u001b[?25hCollecting inequality>=1.0.0\n",
      "  Downloading https://files.pythonhosted.org/packages/74/0f/9ed2d097f29160d0c873f33ffc0b9806c1083e3611acb2143eb66adcf580/inequality-1.0.0.tar.gz\n",
      "Collecting pointpats>=2.2.0\n",
      "\u001b[?25l  Downloading https://files.pythonhosted.org/packages/5f/2b/a3e99c42b37c3e848eb8e55f2ee2b2d281ae0d49df261f13eaaeba7171a5/pointpats-2.2.0.tar.gz (55kB)\n",
      "\u001b[K     |████████████████████████████████| 61kB 7.5MB/s \n",
      "\u001b[?25hCollecting segregation>=1.3.0\n",
      "\u001b[?25l  Downloading https://files.pythonhosted.org/packages/68/7f/ec23f5cfdcfe6d92f29ce1a4f2e59e06f43ebfbbd02b98b90dab90d73922/segregation-1.4.0-py3-none-any.whl (83kB)\n",
      "\u001b[K     |████████████████████████████████| 92kB 10.2MB/s \n",
      "\u001b[?25hCollecting spaghetti>=1.5.0\n",
      "\u001b[?25l  Downloading https://files.pythonhosted.org/packages/94/97/b85cc632d31ce8fdbca370aac9c9d1da99b271dfb5e937ed2c8559428984/spaghetti-1.5.3-py3-none-any.whl (43kB)\n",
      "\u001b[K     |████████████████████████████████| 51kB 6.5MB/s \n",
      "\u001b[?25hCollecting mgwr>=2.1.1\n",
      "\u001b[?25l  Downloading https://files.pythonhosted.org/packages/8e/14/e18342b62655ec7f37624ff936d6f273f82b51913cd558110fd4d670794e/mgwr-2.1.2.tar.gz (41kB)\n",
      "\u001b[K     |████████████████████████████████| 51kB 6.8MB/s \n",
      "\u001b[?25hCollecting spglm>=1.0.7\n",
      "  Downloading https://files.pythonhosted.org/packages/07/8f/03f07807967595d2632dbe0f7c442511a5ff422103b49c76557f9eed40c5/spglm-1.0.8.tar.gz\n",
      "Collecting spint>=1.0.6\n",
      "  Downloading https://files.pythonhosted.org/packages/7e/c5/e4862ab3f745a1886135b07e498e77504c14e468d0a6b89f7270f5def979/spint-1.0.7.tar.gz\n",
      "Collecting spreg>=1.1.1\n",
      "\u001b[?25l  Downloading https://files.pythonhosted.org/packages/d6/37/6789fbf602e1ad27ebf5e1a6ec05b7553c5630e3bd0a34a521832da169a8/spreg-1.1.2.post1-py3-none-any.whl (265kB)\n",
      "\u001b[K     |████████████████████████████████| 266kB 20.7MB/s \n",
      "\u001b[?25hCollecting spvcm==0.3.0\n",
      "\u001b[?25l  Downloading https://files.pythonhosted.org/packages/b4/c9/43fb98bc60728b76fceee175119a1ff7e5033ed9012d07570e34a2a19a8f/spvcm-0.3.0.tar.gz (5.7MB)\n",
      "\u001b[K     |████████████████████████████████| 5.7MB 21.5MB/s \n",
      "\u001b[?25hCollecting tobler>=0.3.1\n",
      "  Downloading https://files.pythonhosted.org/packages/05/2a/d40c1c9dc8c83f5f87889a8ca4cb252124b11fb26ebf437ee2561e898f25/tobler-0.4.0-py3-none-any.whl\n",
      "Collecting mapclassify>=2.3.0\n",
      "  Downloading https://files.pythonhosted.org/packages/a4/24/fa7512ea4c4a07eb05f845023275edcbb73f08f9150662acbfd31bf5e047/mapclassify-2.4.0-py3-none-any.whl\n",
      "Collecting splot>=1.1.3\n",
      "  Downloading https://files.pythonhosted.org/packages/83/1c/afb3e3eeeda4eef065f0b3249ca74cbcc44af3bc59ddb5a21b5445753955/splot-1.1.3.tar.gz\n",
      "Requirement already satisfied: urllib3<1.25 in /usr/local/lib/python3.6/dist-packages (from pysal) (1.24.3)\n",
      "Collecting python-dateutil<=2.8.0\n",
      "\u001b[?25l  Downloading https://files.pythonhosted.org/packages/41/17/c62faccbfbd163c7f57f3844689e3a78bae1f403648a6afb1d0866d87fbb/python_dateutil-2.8.0-py2.py3-none-any.whl (226kB)\n",
      "\u001b[K     |████████████████████████████████| 235kB 42.8MB/s \n",
      "\u001b[?25hRequirement already satisfied: pytest in /usr/local/lib/python3.6/dist-packages (from pysal) (3.6.4)\n",
      "Collecting pytest-cov\n",
      "  Downloading https://files.pythonhosted.org/packages/e5/18/401594af67eda194a8b9167208621761927c937db7d60292608342bbac0a/pytest_cov-2.10.1-py2.py3-none-any.whl\n",
      "Requirement already satisfied: coverage in /usr/local/lib/python3.6/dist-packages (from pysal) (3.7.1)\n",
      "Requirement already satisfied: scipy>=0.11 in /usr/local/lib/python3.6/dist-packages (from libpysal>=4.3.0->pysal) (1.4.1)\n",
      "Requirement already satisfied: numpy>=1.3 in /usr/local/lib/python3.6/dist-packages (from libpysal>=4.3.0->pysal) (1.19.4)\n",
      "Requirement already satisfied: pandas in /usr/local/lib/python3.6/dist-packages (from libpysal>=4.3.0->pysal) (1.1.5)\n",
      "Requirement already satisfied: beautifulsoup4 in /usr/local/lib/python3.6/dist-packages (from libpysal>=4.3.0->pysal) (4.6.3)\n",
      "Requirement already satisfied: requests in /usr/local/lib/python3.6/dist-packages (from libpysal>=4.3.0->pysal) (2.23.0)\n",
      "Requirement already satisfied: jinja2 in /usr/local/lib/python3.6/dist-packages (from libpysal>=4.3.0->pysal) (2.11.2)\n",
      "Requirement already satisfied: scikit-learn in /usr/local/lib/python3.6/dist-packages (from esda>=2.3.1->pysal) (0.22.2.post1)\n",
      "Collecting quantecon>=0.4.7\n",
      "\u001b[?25l  Downloading https://files.pythonhosted.org/packages/5d/e3/4fd5f948de917036b5696347b28fa25da7bd7df995e4f9f42db1c3070eb8/quantecon-0.4.8-py3-none-any.whl (230kB)\n",
      "\u001b[K     |████████████████████████████████| 235kB 45.0MB/s \n",
      "\u001b[?25hRequirement already satisfied: matplotlib in /usr/local/lib/python3.6/dist-packages (from pointpats>=2.2.0->pysal) (3.2.2)\n",
      "Collecting opencv-contrib-python>=4.2.0\n",
      "\u001b[?25l  Downloading https://files.pythonhosted.org/packages/b4/ec/a66505cb25704066235369c8a1c1ed8d37b21f260f7b66d2cfa3264f0724/opencv_contrib_python-4.4.0.46-cp36-cp36m-manylinux2014_x86_64.whl (55.7MB)\n",
      "\u001b[K     |████████████████████████████████| 55.7MB 60kB/s \n",
      "\u001b[?25hRequirement already satisfied: geopandas in /usr/local/lib/python3.6/dist-packages (from segregation>=1.3.0->pysal) (0.8.1)\n",
      "Requirement already satisfied: tqdm in /usr/local/lib/python3.6/dist-packages (from segregation>=1.3.0->pysal) (4.41.1)\n",
      "Requirement already satisfied: seaborn in /usr/local/lib/python3.6/dist-packages (from segregation>=1.3.0->pysal) (0.11.0)\n",
      "Requirement already satisfied: rtree in /usr/local/lib/python3.6/dist-packages (from spaghetti>=1.5.0->pysal) (0.9.5)\n",
      "Collecting rasterstats\n",
      "  Downloading https://files.pythonhosted.org/packages/9f/52/055b2b736e4aa1126c4619a561b44c3bc30fbe48025e6f3275b92928a0a0/rasterstats-0.15.0-py3-none-any.whl\n",
      "Requirement already satisfied: statsmodels in /usr/local/lib/python3.6/dist-packages (from tobler>=0.3.1->pysal) (0.10.2)\n",
      "Collecting rasterio\n",
      "\u001b[?25l  Downloading https://files.pythonhosted.org/packages/33/1a/51baddc8581ead98fcef591624b4b2521b581943a9178912a2ac576e0235/rasterio-1.1.8-1-cp36-cp36m-manylinux1_x86_64.whl (18.3MB)\n",
      "\u001b[K     |████████████████████████████████| 18.3MB 1.3MB/s \n",
      "\u001b[?25hRequirement already satisfied: networkx in /usr/local/lib/python3.6/dist-packages (from mapclassify>=2.3.0->pysal) (2.5)\n",
      "Requirement already satisfied: descartes in /usr/local/lib/python3.6/dist-packages (from splot>=1.1.3->pysal) (1.1.0)\n",
      "Requirement already satisfied: six>=1.5 in /usr/local/lib/python3.6/dist-packages (from python-dateutil<=2.8.0->pysal) (1.15.0)\n",
      "Requirement already satisfied: atomicwrites>=1.0 in /usr/local/lib/python3.6/dist-packages (from pytest->pysal) (1.4.0)\n",
      "Requirement already satisfied: setuptools in /usr/local/lib/python3.6/dist-packages (from pytest->pysal) (50.3.2)\n",
      "Requirement already satisfied: attrs>=17.4.0 in /usr/local/lib/python3.6/dist-packages (from pytest->pysal) (20.3.0)\n",
      "Requirement already satisfied: more-itertools>=4.0.0 in /usr/local/lib/python3.6/dist-packages (from pytest->pysal) (8.6.0)\n",
      "Requirement already satisfied: pluggy<0.8,>=0.5 in /usr/local/lib/python3.6/dist-packages (from pytest->pysal) (0.7.1)\n",
      "Requirement already satisfied: py>=1.5.0 in /usr/local/lib/python3.6/dist-packages (from pytest->pysal) (1.10.0)\n",
      "Requirement already satisfied: pytz>=2017.2 in /usr/local/lib/python3.6/dist-packages (from pandas->libpysal>=4.3.0->pysal) (2018.9)\n",
      "Requirement already satisfied: chardet<4,>=3.0.2 in /usr/local/lib/python3.6/dist-packages (from requests->libpysal>=4.3.0->pysal) (3.0.4)\n",
      "Requirement already satisfied: idna<3,>=2.5 in /usr/local/lib/python3.6/dist-packages (from requests->libpysal>=4.3.0->pysal) (2.10)\n",
      "Requirement already satisfied: certifi>=2017.4.17 in /usr/local/lib/python3.6/dist-packages (from requests->libpysal>=4.3.0->pysal) (2020.12.5)\n",
      "Requirement already satisfied: MarkupSafe>=0.23 in /usr/local/lib/python3.6/dist-packages (from jinja2->libpysal>=4.3.0->pysal) (1.1.1)\n",
      "Requirement already satisfied: joblib>=0.11 in /usr/local/lib/python3.6/dist-packages (from scikit-learn->esda>=2.3.1->pysal) (1.0.0)\n",
      "Requirement already satisfied: numba>=0.38 in /usr/local/lib/python3.6/dist-packages (from quantecon>=0.4.7->giddy>=2.3.3->pysal) (0.48.0)\n",
      "Requirement already satisfied: sympy in /usr/local/lib/python3.6/dist-packages (from quantecon>=0.4.7->giddy>=2.3.3->pysal) (1.1.1)\n",
      "Requirement already satisfied: pyparsing!=2.0.4,!=2.1.2,!=2.1.6,>=2.0.1 in /usr/local/lib/python3.6/dist-packages (from matplotlib->pointpats>=2.2.0->pysal) (2.4.7)\n",
      "Requirement already satisfied: kiwisolver>=1.0.1 in /usr/local/lib/python3.6/dist-packages (from matplotlib->pointpats>=2.2.0->pysal) (1.3.1)\n",
      "Requirement already satisfied: cycler>=0.10 in /usr/local/lib/python3.6/dist-packages (from matplotlib->pointpats>=2.2.0->pysal) (0.10.0)\n",
      "Requirement already satisfied: fiona in /usr/local/lib/python3.6/dist-packages (from geopandas->segregation>=1.3.0->pysal) (1.8.18)\n",
      "Requirement already satisfied: pyproj>=2.2.0 in /usr/local/lib/python3.6/dist-packages (from geopandas->segregation>=1.3.0->pysal) (3.0.0.post1)\n",
      "Requirement already satisfied: shapely in /usr/local/lib/python3.6/dist-packages (from geopandas->segregation>=1.3.0->pysal) (1.7.1)\n",
      "Collecting simplejson\n",
      "\u001b[?25l  Downloading https://files.pythonhosted.org/packages/73/96/1e6b19045375890068d7342cbe280dd64ae73fd90b9735b5efb8d1e044a1/simplejson-3.17.2-cp36-cp36m-manylinux2010_x86_64.whl (127kB)\n",
      "\u001b[K     |████████████████████████████████| 133kB 54.7MB/s \n",
      "\u001b[?25hRequirement already satisfied: cligj>=0.4 in /usr/local/lib/python3.6/dist-packages (from rasterstats->tobler>=0.3.1->pysal) (0.7.1)\n",
      "Collecting affine<3.0\n",
      "  Downloading https://files.pythonhosted.org/packages/ac/a6/1a39a1ede71210e3ddaf623982b06ecfc5c5c03741ae659073159184cd3e/affine-2.3.0-py2.py3-none-any.whl\n",
      "Requirement already satisfied: patsy>=0.4.0 in /usr/local/lib/python3.6/dist-packages (from statsmodels->tobler>=0.3.1->pysal) (0.5.1)\n",
      "Requirement already satisfied: click-plugins in /usr/local/lib/python3.6/dist-packages (from rasterio->tobler>=0.3.1->pysal) (1.1.1)\n",
      "Requirement already satisfied: click<8,>=4.0 in /usr/local/lib/python3.6/dist-packages (from rasterio->tobler>=0.3.1->pysal) (7.1.2)\n",
      "Collecting snuggs>=1.4.1\n",
      "  Downloading https://files.pythonhosted.org/packages/cc/0e/d27d6e806d6c0d1a2cfdc5d1f088e42339a0a54a09c3343f7f81ec8947ea/snuggs-1.4.7-py3-none-any.whl\n",
      "Requirement already satisfied: decorator>=4.3.0 in /usr/local/lib/python3.6/dist-packages (from networkx->mapclassify>=2.3.0->pysal) (4.4.2)\n",
      "Requirement already satisfied: llvmlite<0.32.0,>=0.31.0dev0 in /usr/local/lib/python3.6/dist-packages (from numba>=0.38->quantecon>=0.4.7->giddy>=2.3.3->pysal) (0.31.0)\n",
      "Requirement already satisfied: mpmath>=0.19 in /usr/local/lib/python3.6/dist-packages (from sympy->quantecon>=0.4.7->giddy>=2.3.3->pysal) (1.1.0)\n",
      "Requirement already satisfied: munch in /usr/local/lib/python3.6/dist-packages (from fiona->geopandas->segregation>=1.3.0->pysal) (2.5.0)\n",
      "Building wheels for collected packages: pysal, libpysal, esda, inequality, pointpats, mgwr, spglm, spint, spvcm, splot\n",
      "  Building wheel for pysal (setup.py) ... \u001b[?25l\u001b[?25hdone\n",
      "  Created wheel for pysal: filename=pysal-2.3.0-cp36-none-any.whl size=18421 sha256=b265da341c3320434bad46e99b6ce3e9f265d68490b62f3dc2c173bb5311cc30\n",
      "  Stored in directory: /root/.cache/pip/wheels/ec/51/8f/4fd7e7088448f99c3a26c2cf434b60ba18b6fef695dd72f439\n",
      "  Building wheel for libpysal (setup.py) ... \u001b[?25l\u001b[?25hdone\n",
      "  Created wheel for libpysal: filename=libpysal-4.3.0-py2.py3-none-any.whl size=2379082 sha256=857128d7276ece06b517e495976da87b5a0b59fa45bb5728dfe995b3c4544718\n",
      "  Stored in directory: /root/.cache/pip/wheels/68/44/db/3d7a8b7d9ae5dba0cfcfb37f14e2a6e6f26b03557bdf1cf06d\n",
      "  Building wheel for esda (setup.py) ... \u001b[?25l\u001b[?25hdone\n",
      "  Created wheel for esda: filename=esda-2.3.1-cp36-none-any.whl size=82449 sha256=45632709faced2845f4c30d81a9337ce2fe2086d3e456a1fc17c86d403132279\n",
      "  Stored in directory: /root/.cache/pip/wheels/0f/7e/49/fe3abdfe85019a1390c7bf70af56275139fa7f99a57ff5333f\n",
      "  Building wheel for inequality (setup.py) ... \u001b[?25l\u001b[?25hdone\n",
      "  Created wheel for inequality: filename=inequality-1.0.0-cp36-none-any.whl size=11801 sha256=20107f05f533643438c64970ec44e1df8b14468e8d744befec5493815485feea\n",
      "  Stored in directory: /root/.cache/pip/wheels/0e/cc/44/666696f89f7c7b13cc477bd9c1a9aef180be238550419007f2\n",
      "  Building wheel for pointpats (setup.py) ... \u001b[?25l\u001b[?25hdone\n",
      "  Created wheel for pointpats: filename=pointpats-2.2.0-cp36-none-any.whl size=60819 sha256=9c4eaa5b419a40a179b0af7401c1e8e41eaaf41f9f3c33c1e8d4b9b7acd961fc\n",
      "  Stored in directory: /root/.cache/pip/wheels/f9/28/f2/65c0993e68e25cef954ecd20abff91c6b11f0419f31b60e2ff\n",
      "  Building wheel for mgwr (setup.py) ... \u001b[?25l\u001b[?25hdone\n",
      "  Created wheel for mgwr: filename=mgwr-2.1.2-cp36-none-any.whl size=46372 sha256=e82b4faad2415db0c82dbf71f330600f65bcb5880f84efb4c2dad9d481ffbd4a\n",
      "  Stored in directory: /root/.cache/pip/wheels/cf/11/e3/68692f1c637b23a8e2c6e200f6183c3502718b5f7de6dc630d\n",
      "  Building wheel for spglm (setup.py) ... \u001b[?25l\u001b[?25hdone\n",
      "  Created wheel for spglm: filename=spglm-1.0.8-cp36-none-any.whl size=38808 sha256=43bff823606ec1a8182624fcd8c6a5bb198c81baaa37a354d7c4a52a9c648d0f\n",
      "  Stored in directory: /root/.cache/pip/wheels/cd/1e/e3/c68bde79087fdc97cf65ec86e6d1d7ed2171e1baa1b0482363\n",
      "  Building wheel for spint (setup.py) ... \u001b[?25l\u001b[?25hdone\n",
      "  Created wheel for spint: filename=spint-1.0.7-cp36-none-any.whl size=31373 sha256=9119969d6b29bcee7e12319273e92dde2b61ae463289360b5cd58e7627ae42c4\n",
      "  Stored in directory: /root/.cache/pip/wheels/e1/f0/fe/754baccec76ae29184c37ea6112d881a883e044977bd963d08\n",
      "  Building wheel for spvcm (setup.py) ... \u001b[?25l\u001b[?25hdone\n",
      "  Created wheel for spvcm: filename=spvcm-0.3.0-cp36-none-any.whl size=5777201 sha256=cc0e8561e0291949fd5e7d8cff42d596de38523475409df2d52db82d71b71538\n",
      "  Stored in directory: /root/.cache/pip/wheels/8f/2e/c8/35a9abbb5c8508cfc597cdd2217c1b9b2cb82fc2f7fe18c11c\n",
      "  Building wheel for splot (setup.py) ... \u001b[?25l\u001b[?25hdone\n",
      "  Created wheel for splot: filename=splot-1.1.3-cp36-none-any.whl size=37869 sha256=7991bb36a9615498b5250e47053ceec2be9882441290e20b1790f7466e7c288f\n",
      "  Stored in directory: /root/.cache/pip/wheels/bd/4f/94/71caf6a544f341a1ef2788a7c96272e7e9dfebb04a1aecc24f\n",
      "Successfully built pysal libpysal esda inequality pointpats mgwr spglm spint spvcm splot\n",
      "\u001b[31mERROR: albumentations 0.1.12 has requirement imgaug<0.2.7,>=0.2.5, but you'll have imgaug 0.2.9 which is incompatible.\u001b[0m\n",
      "\u001b[31mERROR: pytest-cov 2.10.1 has requirement coverage>=4.4, but you'll have coverage 3.7.1 which is incompatible.\u001b[0m\n",
      "\u001b[31mERROR: pytest-cov 2.10.1 has requirement pytest>=4.6, but you'll have pytest 3.6.4 which is incompatible.\u001b[0m\n",
      "Installing collected packages: libpysal, access, esda, quantecon, mapclassify, giddy, inequality, opencv-contrib-python, pointpats, segregation, spaghetti, spreg, spglm, mgwr, spint, spvcm, simplejson, affine, snuggs, rasterio, rasterstats, tobler, splot, python-dateutil, pytest-cov, pysal\n",
      "  Found existing installation: opencv-contrib-python 4.1.2.30\n",
      "    Uninstalling opencv-contrib-python-4.1.2.30:\n",
      "      Successfully uninstalled opencv-contrib-python-4.1.2.30\n",
      "  Found existing installation: python-dateutil 2.8.1\n",
      "    Uninstalling python-dateutil-2.8.1:\n",
      "      Successfully uninstalled python-dateutil-2.8.1\n",
      "Successfully installed access-1.1.3 affine-2.3.0 esda-2.3.1 giddy-2.3.3 inequality-1.0.0 libpysal-4.3.0 mapclassify-2.4.0 mgwr-2.1.2 opencv-contrib-python-4.4.0.46 pointpats-2.2.0 pysal-2.3.0 pytest-cov-2.10.1 python-dateutil-2.8.0 quantecon-0.4.8 rasterio-1.1.8 rasterstats-0.15.0 segregation-1.4.0 simplejson-3.17.2 snuggs-1.4.7 spaghetti-1.5.3 spglm-1.0.8 spint-1.0.7 splot-1.1.3 spreg-1.1.2.post1 spvcm-0.3.0 tobler-0.4.0\n"
     ]
    },
    {
     "data": {
      "application/vnd.colab-display-data+json": {
       "pip_warning": {
        "packages": [
         "dateutil"
        ]
       }
      }
     },
     "metadata": {
      "tags": []
     },
     "output_type": "display_data"
    },
    {
     "name": "stdout",
     "output_type": "stream",
     "text": [
      "Collecting osmtogeojson\n",
      "  Downloading https://files.pythonhosted.org/packages/fd/79/8cc523426eaa6c394fae8e1f0d9e4904f5a9dd90e29360e2437d137eb364/osmtogeojson-0.0.2.tar.gz\n",
      "Building wheels for collected packages: osmtogeojson\n",
      "  Building wheel for osmtogeojson (setup.py) ... \u001b[?25l\u001b[?25hdone\n",
      "  Created wheel for osmtogeojson: filename=osmtogeojson-0.0.2-cp36-none-any.whl size=4072 sha256=6e6b331aa05ec1eb4bf709c961b916674545c57d26f76322b4ab32e4ed34aea0\n",
      "  Stored in directory: /root/.cache/pip/wheels/66/8f/b9/3d6a6b99dad98d578bb3bcbd3ddc7dbf12ae526e028e4c1a8f\n",
      "Successfully built osmtogeojson\n",
      "Installing collected packages: osmtogeojson\n",
      "Successfully installed osmtogeojson-0.0.2\n"
     ]
    }
   ],
   "source": [
    "!pip install geopandas\n",
    "!apt install libspatialindex-dev\n",
    "!pip install rtree\n",
    "!pip install pygeos\n",
    "!pip install pysal\n",
    "!pip install osmtogeojson"
   ]
  },
  {
   "cell_type": "code",
   "execution_count": null,
   "metadata": {
    "id": "vP3iI6zg3Ywt"
   },
   "outputs": [],
   "source": [
    "import warnings\n",
    "warnings.filterwarnings('ignore')\n",
    "\n",
    "import pandas as pd\n",
    "import numpy as np\n",
    "import geopandas as gpd\n",
    "import shapely\n",
    "import requests\n",
    "from osmtogeojson import osmtogeojson\n",
    "from tqdm.notebook import tqdm\n",
    "from geopy.geocoders import Nominatim\n",
    "from geopy import distance\n",
    "import matplotlib.pyplot as plt\n",
    "import re\n",
    "\n",
    "import folium\n",
    "from folium.plugins import HeatMap\n",
    "\n",
    "from sklearn.model_selection import train_test_split\n",
    "from sklearn.metrics import mean_absolute_error\n",
    "from sklearn.linear_model import LinearRegression"
   ]
  },
  {
   "cell_type": "markdown",
   "metadata": {
    "id": "rj35Cc_23Ywx"
   },
   "source": [
    "### Задача:\n",
    "\n",
    "Прогноз продаж одной из популярных моделей [фичерфонов](https://ru.wikipedia.org/wiki/%D0%A4%D0%B8%D1%87%D0%B5%D1%80%D1%84%D0%BE%D0%BD) (на картинке ниже пример похожего устройства) в салонах МегаФона\n",
    "![](https://39.img.avito.st/640x480/8468720439.jpg)"
   ]
  },
  {
   "cell_type": "markdown",
   "metadata": {
    "id": "cyWmOOmj3Ywx"
   },
   "source": [
    "### Исходные данные:\n",
    "\n",
    "Датасет содержит следующие поля:\n",
    "\n",
    "1. `point_id` - Индентификатор салона\n",
    "2. `lon` - Долгота точки\n",
    "3. `lat` - Широта точки\n",
    "4. `target` - Значение таргета, усредненное за несколько месяцев и отнормированное"
   ]
  },
  {
   "cell_type": "markdown",
   "metadata": {
    "id": "AlydFrty3Ywx"
   },
   "source": [
    "### Требования к решению и советы:\n",
    "\n",
    "Ниже приведен список из нескольких важных пунктов, необходимых для решения задания. Выполнение каждого из пунктов влияет на итоговую оценку. Вы можете выполнить каждый из пунктов разными способами, самым лучшим будет считаться вариант, когда всё получение и обработка данных будут реализованы на Питоне (пример: вы можете скачать данные из OSM через интерфейс на сайте overpass-turbo или с помощью библиотек `overpass`/`requests`. Оба варианта будут зачтены, но больше баллов можно заработать во втором случае)\n",
    "\n",
    "\n",
    "\n",
    "1. Салоны расположены в нескольких разных городах, вам необходимо **определить город для каждого салона** (это понадобится во многих частях задания). К этому есть разные подходы. Вы можете провести [обратное геокодирование](https://en.wikipedia.org/wiki/Reverse_geocoding) с помощью геокодера [Nominatim](https://nominatim.org/), доступного через библиотеку `geopy` примерно вот так:\n",
    "```python\n",
    "from geopy.geocoders import Nominatim\n",
    "geolocator = Nominatim(user_agent=\"specify_your_app_name_here\")\n",
    "location = geolocator.reverse(\"52.509669, 13.376294\")\n",
    "print(location.address)\n",
    "```\n",
    "В таком случае, вам придется обрабатывать полученную строку адреса, чтобы извлечь название города. Также вы можете скачать из OSM или найти в любом другом источнике границы административно территориальных границ России и пересечь с ними датасет с помощью `geopandas.sjoin` (этот вариант более надежный, но нужно будет разобраться с тем, как устроены границы АТД в OSM, обратите внимание на [этот тег](https://wiki.openstreetmap.org/wiki/Key:admin_level))"
   ]
  },
  {
   "cell_type": "markdown",
   "metadata": {
    "id": "gI8gvKWs3Ywx"
   },
   "source": [
    "\n",
    "2. **Используйте данные OSM**: подумайте, какие объекты могут влиять на продажи фичерфонов. Гипотеза: такие телефоны покупают люди, приезжающие в город или страну ненадолго, чтобы вставить туда отдельную симкарту для роуминга. Можно попробовать использовать местоположения железнодорожных вокзалов (изучите [этот тег](https://wiki.openstreetmap.org/wiki/Tag:railway%3Dstation)). Необходимо использовать хотя бы 5 разных типов объектов из OSM. Скорее всего, вам придется качать данные OSM отдельно для разных городов (см. пример для Нью-Йорка из лекции)\n",
    "\n",
    "\n",
    "3. **Используйте разные способы генерации признаков**: описать положение салона МегаФона относительно станций метро можно разными способами - найти ***расстояние до ближайшей станции***, или же посчитать, сколько станций попадает в ***500 метровую буферную зону*** вокруг салона. Такие признаки будут нести разную информацию. Так же попробуйте поэкспериментировать с размерами буферных зон (представьте, что значат в реальности радиусы 100, 500, 1000 метров). Попробуйте посчитать расстояние до центра города, до других объектов."
   ]
  },
  {
   "cell_type": "markdown",
   "metadata": {
    "id": "eidzQBGP3Ywx"
   },
   "source": [
    "4. **Сделайте визуализации**: постройте 2-3 карты для какого нибудь из городов - как распределен в пространстве таргет, где находятся объекты, полученные вами из OSM. Можете использовать любой инструмент - обычный `plot()`, `folium`, `keplergl`. Если выберете Кеплер, обязательно сохраните в файл конфиг карты, чтобы ее можно было воспроизвести. Сделать это можно вот так:\n",
    "\n",
    "```python\n",
    "import json\n",
    "json_data = kepler_map.config\n",
    "with open('kepler_config.json', 'w') as outfile:\n",
    "    json.dump(json_data, outfile)\n",
    "```\n",
    "5. Задание не ограничено приведенными выше пунктами, попробуйте нагенерировать интересных признаков, найти в интернете дополнительные данные (в таком случае в комментарии к коду укажите ссылку на ресурс, откуда взяли данные)\n",
    "\n",
    "\n",
    "\n",
    "6. Это довольно сложная задача - датасет очень маленький, данные по своей природе довольно случайны. Поэтому место и скор на Kaggle не будут играть решающую роль в оценке, но позволят заработать дополнительные баллы"
   ]
  },
  {
   "cell_type": "markdown",
   "metadata": {
    "id": "Fza1DiMZ3Ywx"
   },
   "source": [
    "### Read data"
   ]
  },
  {
   "cell_type": "markdown",
   "metadata": {
    "id": "Tpa7GocR8Rur"
   },
   "source": [
    "### Пункт 1. Определим город для каждого салона.\n",
    "### Для этого я использовал Nominatim. Я скачивал сырые данные для каждых координат и затем из них доставал информацию о городе или населенном пункте. Так как это происходит достаточно долго, я сохранил эту информацию в отдельные файлы, чтобы не ждать загрузки каждый раз заново.\n",
    "Так же я пробовал делать это с помощью OSM, но были проблемы с полигонами некоторых городов. Некоторые города скачивались как надо, полигонами, некоторые в виде linestring, а некоторые в виде GeometryCollection. С linestring я еще разобрался, но GeometryCollection я не смог осилить и поэтому вернулся к способу с Nomimatim"
   ]
  },
  {
   "cell_type": "code",
   "execution_count": null,
   "metadata": {
    "id": "gjInpwDO3Ywy"
   },
   "outputs": [],
   "source": [
    "# train = pd.read_csv('mf_geo_train.csv')\n",
    "# test = pd.read_csv('mf_geo_test.csv')"
   ]
  },
  {
   "cell_type": "code",
   "execution_count": null,
   "metadata": {
    "id": "vplP5rEt3Ywy"
   },
   "outputs": [],
   "source": [
    "# train.head(2)"
   ]
  },
  {
   "cell_type": "code",
   "execution_count": null,
   "metadata": {
    "id": "0lxnFbjz5M0D"
   },
   "outputs": [],
   "source": [
    "# user_agent_ ='Mozilla/5.0 (Windows NT 10.0; WOW64) AppleWebKit/537.36 (KHTML, like Gecko) Chrome/86.0.4240.185 YaBrowser/20.11.2.80 Yowser/2.5 Safari/537.36'\n",
    "# geolocator = Nominatim(scheme='http', timeout=30, user_agent=user_agent_)"
   ]
  },
  {
   "cell_type": "code",
   "execution_count": null,
   "metadata": {
    "id": "ThQ7FTFa2MZy"
   },
   "outputs": [],
   "source": [
    "# addresses_train = {}\n",
    "# addresses = []\n",
    "# for i in tqdm(range(len(train[['lat', 'lon']].values))):\n",
    "#     adr = geolocator.reverse(train[['lat', 'lon']].values[i])\n",
    "#     addresses_train[i] = adr.raw\n",
    "#     addresses.append(adr.address)\n",
    "# train['address'] = addresses"
   ]
  },
  {
   "cell_type": "code",
   "execution_count": null,
   "metadata": {
    "id": "IjRgnp0kEBU6"
   },
   "outputs": [],
   "source": [
    "# for i, j in addresses_train.items():\n",
    "#     if 'city' in j['address'].keys():\n",
    "#         print(i, j['address']['city'])\n",
    "#     elif 'town' in j['address'].keys():\n",
    "#         print(i, j['address']['town'])\n",
    "#     elif 'village' in j['address'].keys():\n",
    "#         print(i, j['address']['village'])"
   ]
  },
  {
   "cell_type": "code",
   "execution_count": null,
   "metadata": {
    "id": "NCph5HDAFrCs"
   },
   "outputs": [],
   "source": [
    "# cities_train = []\n",
    "# for i, j in addresses_train.items():\n",
    "#     if 'city' in j['address'].keys():\n",
    "#         cities_train.append(j['address']['city'])\n",
    "#     elif 'town' in j['address'].keys():\n",
    "#         cities_train.append(j['address']['town'])\n",
    "#     elif 'village' in j['address'].keys():\n",
    "#         cities_train.append(j['address']['village'])\n",
    "# train['city'] = cities_train"
   ]
  },
  {
   "cell_type": "code",
   "execution_count": null,
   "metadata": {
    "id": "oAfsE96Wm46q"
   },
   "outputs": [],
   "source": [
    "# addresses_test = {}\n",
    "# addresses = []\n",
    "# for i in tqdm(range(len(test[['lat', 'lon']].values))):\n",
    "#     adr = geolocator.reverse(test[['lat', 'lon']].values[i])\n",
    "#     addresses_test[i] = adr.raw\n",
    "#     addresses.append(adr.address)\n",
    "# test['address'] = addresses"
   ]
  },
  {
   "cell_type": "code",
   "execution_count": null,
   "metadata": {
    "id": "H7-8jeX3KcII"
   },
   "outputs": [],
   "source": [
    "# for i, j in addresses_test.items():\n",
    "#     if 'city' in j['address'].keys():\n",
    "#         print(i, j['address']['city'])\n",
    "#         marker_test.append('city')\n",
    "#     elif 'town' in j['address'].keys():\n",
    "#         print(i, j['address']['town'])\n",
    "#         marker_test.append('town')\n",
    "#     elif 'village' in j['address'].keys():\n",
    "#         print(i, j['address']['village'])\n",
    "#         marker_test.append('village')"
   ]
  },
  {
   "cell_type": "code",
   "execution_count": null,
   "metadata": {
    "id": "PMUmkxZ-KkEz"
   },
   "outputs": [],
   "source": [
    "# cities_test = []\n",
    "# for i, j in addresses_test.items():\n",
    "#     if 'city' in j['address'].keys():\n",
    "#         cities_test.append(j['address']['city'])\n",
    "#     elif 'town' in j['address'].keys():\n",
    "#         cities_test.append(j['address']['town'])\n",
    "#     elif 'village' in j['address'].keys():\n",
    "#         cities_test.append(j['address']['village'])\n",
    "# test['city'] = cities_test"
   ]
  },
  {
   "cell_type": "code",
   "execution_count": null,
   "metadata": {
    "id": "2y0b1wXwKto5"
   },
   "outputs": [],
   "source": [
    "# train.to_csv('./addrcitied_train.csv', index=False)\n",
    "# test.to_csv('./addrcitied_test.csv', index=False)"
   ]
  },
  {
   "cell_type": "code",
   "execution_count": null,
   "metadata": {
    "id": "zgezieM9Fhb3"
   },
   "outputs": [],
   "source": [
    "train = pd.read_csv('addrcitied_train.csv')\n",
    "test = pd.read_csv('addrcitied_test.csv')"
   ]
  },
  {
   "cell_type": "code",
   "execution_count": null,
   "metadata": {
    "colab": {
     "base_uri": "https://localhost:8080/",
     "height": 142
    },
    "id": "iS1LLqbmLva6",
    "outputId": "f16b869a-ab12-4132-9aa4-2765a481e685"
   },
   "outputs": [
    {
     "data": {
      "text/html": [
       "<div>\n",
       "<style scoped>\n",
       "    .dataframe tbody tr th:only-of-type {\n",
       "        vertical-align: middle;\n",
       "    }\n",
       "\n",
       "    .dataframe tbody tr th {\n",
       "        vertical-align: top;\n",
       "    }\n",
       "\n",
       "    .dataframe thead th {\n",
       "        text-align: right;\n",
       "    }\n",
       "</style>\n",
       "<table border=\"1\" class=\"dataframe\">\n",
       "  <thead>\n",
       "    <tr style=\"text-align: right;\">\n",
       "      <th></th>\n",
       "      <th>point_id</th>\n",
       "      <th>lon</th>\n",
       "      <th>lat</th>\n",
       "      <th>target</th>\n",
       "      <th>address</th>\n",
       "      <th>city</th>\n",
       "    </tr>\n",
       "  </thead>\n",
       "  <tbody>\n",
       "    <tr>\n",
       "      <th>0</th>\n",
       "      <td>ommNZCUV</td>\n",
       "      <td>37.590776</td>\n",
       "      <td>55.848630</td>\n",
       "      <td>-0.348157</td>\n",
       "      <td>6А, Сигнальный проезд, район Отрадное, Москва,...</td>\n",
       "      <td>Москва</td>\n",
       "    </tr>\n",
       "    <tr>\n",
       "      <th>1</th>\n",
       "      <td>nMe2LHPb</td>\n",
       "      <td>37.784210</td>\n",
       "      <td>55.750271</td>\n",
       "      <td>1.294206</td>\n",
       "      <td>38/18, 2-я Владимирская улица, Владимирский по...</td>\n",
       "      <td>Москва</td>\n",
       "    </tr>\n",
       "    <tr>\n",
       "      <th>2</th>\n",
       "      <td>ZgodVRqB</td>\n",
       "      <td>39.635721</td>\n",
       "      <td>47.213330</td>\n",
       "      <td>-1.039679</td>\n",
       "      <td>18, улица Зорге, 10-й мкр, ЗЖМ, Советский райо...</td>\n",
       "      <td>Ростов-на-Дону</td>\n",
       "    </tr>\n",
       "  </tbody>\n",
       "</table>\n",
       "</div>"
      ],
      "text/plain": [
       "   point_id  ...            city\n",
       "0  ommNZCUV  ...          Москва\n",
       "1  nMe2LHPb  ...          Москва\n",
       "2  ZgodVRqB  ...  Ростов-на-Дону\n",
       "\n",
       "[3 rows x 6 columns]"
      ]
     },
     "execution_count": 14,
     "metadata": {
      "tags": []
     },
     "output_type": "execute_result"
    }
   ],
   "source": [
    "train.head(3)"
   ]
  },
  {
   "cell_type": "markdown",
   "metadata": {
    "id": "W0L8V-1Y-gjA"
   },
   "source": [
    "### Пункт 2. Создание дополнительных признаков с помощью OSM.\n",
    "Я скачал данные всех ЖД станций, и искал расстояние от каждой точки до каждой станции и записывал наименьшее расстояние. Также записал количество станций в пределах 500 метров."
   ]
  },
  {
   "cell_type": "code",
   "execution_count": null,
   "metadata": {
    "id": "6_acW8rW0tcs"
   },
   "outputs": [],
   "source": [
    "query = \"\"\"\n",
    "[out:json][timeout:300];\n",
    "area(3600060189);\n",
    "(\n",
    "  node[\"railway\"=\"station\"](area);\n",
    "  way[\"railway\"=\"station\"](area);\n",
    "  relation[\"railway\"=\"station\"](area);\n",
    ");\n",
    "out body;\n",
    ">;\n",
    "out skel qt;\n",
    "\"\"\"\n",
    "url = \"http://overpass-api.de/api/interpreter\"\n",
    "r = requests.get(url, params={'data': query})\n",
    "\n",
    "result = osmtogeojson.process_osm_json(r.json())"
   ]
  },
  {
   "cell_type": "code",
   "execution_count": null,
   "metadata": {
    "id": "sXFsTWXiVf7b"
   },
   "outputs": [],
   "source": [
    "stations = {}\n",
    "for i in result['features']:\n",
    "    try:\n",
    "        stations[i['properties']['name'] + ' ' + i['properties']['@id']] = shapely.geometry.Point(i['geometry']['coordinates'])\n",
    "    except:\n",
    "        stations[i['properties']['@id']] = shapely.geometry.Point(i['geometry']['coordinates'])"
   ]
  },
  {
   "cell_type": "code",
   "execution_count": null,
   "metadata": {
    "id": "GDCM8BmuXC6L"
   },
   "outputs": [],
   "source": [
    "stations = gpd.GeoDataFrame({'geometry':stations.values()})"
   ]
  },
  {
   "cell_type": "code",
   "execution_count": null,
   "metadata": {
    "id": "JFQ9ov2NY6b5"
   },
   "outputs": [],
   "source": [
    "train_points = []\n",
    "for i in train[['lon', 'lat']].values:\n",
    "    train_points.append(shapely.geometry.Point(i))\n",
    "\n",
    "test_points = []\n",
    "for i in test[['lon', 'lat']].values:\n",
    "    test_points.append(shapely.geometry.Point(i))"
   ]
  },
  {
   "cell_type": "code",
   "execution_count": null,
   "metadata": {
    "id": "8FcOQxIAYvt4"
   },
   "outputs": [],
   "source": [
    "train['geometry'] = train_points\n",
    "test['geometry'] = test_points\n",
    "train = gpd.GeoDataFrame(train)\n",
    "test = gpd.GeoDataFrame(test)"
   ]
  },
  {
   "cell_type": "code",
   "execution_count": null,
   "metadata": {
    "colab": {
     "base_uri": "https://localhost:8080/",
     "height": 390
    },
    "id": "bEmpKBA9Z-1Z",
    "outputId": "a66e0c50-e2d5-48df-9abf-87440af277a8"
   },
   "outputs": [
    {
     "data": {
      "text/plain": [
       "<matplotlib.axes._subplots.AxesSubplot at 0x7f46b9e39898>"
      ]
     },
     "execution_count": 103,
     "metadata": {
      "tags": []
     },
     "output_type": "execute_result"
    },
    {
     "data": {
      "image/png": "[encoded data removed]",
      "text/plain": [
       "<Figure size 4334.4x2937.6 with 1 Axes>"
      ]
     },
     "metadata": {
      "needs_background": "light",
      "tags": []
     },
     "output_type": "display_data"
    }
   ],
   "source": [
    "fig = plt.figure(figsize=(60.20, 40.80))\n",
    "ax = plt.axes()\n",
    "stations.plot(ax=ax)\n",
    "train.plot(ax=ax)"
   ]
  },
  {
   "cell_type": "code",
   "execution_count": null,
   "metadata": {
    "id": "MxVFxs0DmxNn"
   },
   "outputs": [],
   "source": [
    "train_new = train.set_crs(4326)\n",
    "train_new = train_new.to_crs(epsg=32618)\n",
    "\n",
    "test_new = test.set_crs(4326)\n",
    "test_new = test_new.to_crs(epsg=32618)\n",
    "\n",
    "stations_new = stations.set_crs(4326)\n",
    "stations_new = stations_new.to_crs(epsg=32618)"
   ]
  },
  {
   "cell_type": "code",
   "execution_count": null,
   "metadata": {
    "id": "0T7TIKRQJQwa"
   },
   "outputs": [],
   "source": [
    "radius = 0.1 # радиус в котором смотрим количество станций, 100 метров показал себя лучше"
   ]
  },
  {
   "cell_type": "code",
   "execution_count": null,
   "metadata": {
    "id": "c_a5JLYCoHB7"
   },
   "outputs": [],
   "source": [
    "closest = []\n",
    "clos_num = []\n",
    "for i, point in enumerate(train_new.geometry.values):\n",
    "    distances = []\n",
    "    num = 0\n",
    "    for station in stations_new.geometry.values:\n",
    "        distance = point.distance(station) / 1000\n",
    "        distances.append(distance)\n",
    "        if distance <= radius:\n",
    "            num += 1\n",
    "    closest_station_distance = np.min(distances)\n",
    "    closest.append(closest_station_distance)\n",
    "    clos_num.append(num)\n",
    "train['clos_st_dist'] = closest\n",
    "train['close_500_num'] = clos_num"
   ]
  },
  {
   "cell_type": "code",
   "execution_count": null,
   "metadata": {
    "id": "iFRukdPB6qZ6"
   },
   "outputs": [],
   "source": [
    "closest = []\n",
    "clos_num = []\n",
    "for i, point in enumerate(test_new.geometry.values):\n",
    "    distances = []\n",
    "    num = 0\n",
    "    for station in stations_new.geometry.values:\n",
    "        distance = point.distance(station) / 1000\n",
    "        distances.append(distance)\n",
    "        if distance <= radius:\n",
    "            num += 1\n",
    "    closest_station_distance = np.min(distances)\n",
    "    closest.append(closest_station_distance)\n",
    "    clos_num.append(num)\n",
    "test['clos_st_dist'] = closest\n",
    "test['close_500_num'] = clos_num"
   ]
  },
  {
   "cell_type": "code",
   "execution_count": null,
   "metadata": {
    "colab": {
     "base_uri": "https://localhost:8080/",
     "height": 419
    },
    "id": "AtTJ0GouqNkP",
    "outputId": "19f35f33-67ad-405a-c809-4585a9eb6be8"
   },
   "outputs": [
    {
     "data": {
      "text/html": [
       "<div>\n",
       "<style scoped>\n",
       "    .dataframe tbody tr th:only-of-type {\n",
       "        vertical-align: middle;\n",
       "    }\n",
       "\n",
       "    .dataframe tbody tr th {\n",
       "        vertical-align: top;\n",
       "    }\n",
       "\n",
       "    .dataframe thead th {\n",
       "        text-align: right;\n",
       "    }\n",
       "</style>\n",
       "<table border=\"1\" class=\"dataframe\">\n",
       "  <thead>\n",
       "    <tr style=\"text-align: right;\">\n",
       "      <th></th>\n",
       "      <th>point_id</th>\n",
       "      <th>lon</th>\n",
       "      <th>lat</th>\n",
       "      <th>target</th>\n",
       "      <th>address</th>\n",
       "      <th>city</th>\n",
       "      <th>geometry</th>\n",
       "      <th>clos_st_dist</th>\n",
       "      <th>close_500_num</th>\n",
       "    </tr>\n",
       "  </thead>\n",
       "  <tbody>\n",
       "    <tr>\n",
       "      <th>0</th>\n",
       "      <td>ommNZCUV</td>\n",
       "      <td>37.590776</td>\n",
       "      <td>55.848630</td>\n",
       "      <td>-0.348157</td>\n",
       "      <td>6А, Сигнальный проезд, район Отрадное, Москва,...</td>\n",
       "      <td>Москва</td>\n",
       "      <td>POINT (37.59078 55.84863)</td>\n",
       "      <td>0.186289</td>\n",
       "      <td>2</td>\n",
       "    </tr>\n",
       "    <tr>\n",
       "      <th>1</th>\n",
       "      <td>nMe2LHPb</td>\n",
       "      <td>37.784210</td>\n",
       "      <td>55.750271</td>\n",
       "      <td>1.294206</td>\n",
       "      <td>38/18, 2-я Владимирская улица, Владимирский по...</td>\n",
       "      <td>Москва</td>\n",
       "      <td>POINT (37.78421 55.75027)</td>\n",
       "      <td>0.205819</td>\n",
       "      <td>1</td>\n",
       "    </tr>\n",
       "    <tr>\n",
       "      <th>2</th>\n",
       "      <td>ZgodVRqB</td>\n",
       "      <td>39.635721</td>\n",
       "      <td>47.213330</td>\n",
       "      <td>-1.039679</td>\n",
       "      <td>18, улица Зорге, 10-й мкр, ЗЖМ, Советский райо...</td>\n",
       "      <td>Ростов-на-Дону</td>\n",
       "      <td>POINT (39.63572 47.21333)</td>\n",
       "      <td>3.241355</td>\n",
       "      <td>0</td>\n",
       "    </tr>\n",
       "    <tr>\n",
       "      <th>3</th>\n",
       "      <td>0t2jNYdz</td>\n",
       "      <td>37.704570</td>\n",
       "      <td>55.782020</td>\n",
       "      <td>-1.169339</td>\n",
       "      <td>Торговый центр \"Серебряный Дом\", 16, Большая С...</td>\n",
       "      <td>Москва</td>\n",
       "      <td>POINT (37.70457 55.78202)</td>\n",
       "      <td>0.069446</td>\n",
       "      <td>1</td>\n",
       "    </tr>\n",
       "    <tr>\n",
       "      <th>4</th>\n",
       "      <td>U27W4QJ7</td>\n",
       "      <td>37.643983</td>\n",
       "      <td>55.730188</td>\n",
       "      <td>-0.088837</td>\n",
       "      <td>5, Кожевническая улица, Швивая горка, район За...</td>\n",
       "      <td>Москва</td>\n",
       "      <td>POINT (37.64398 55.73019)</td>\n",
       "      <td>0.259479</td>\n",
       "      <td>2</td>\n",
       "    </tr>\n",
       "    <tr>\n",
       "      <th>...</th>\n",
       "      <td>...</td>\n",
       "      <td>...</td>\n",
       "      <td>...</td>\n",
       "      <td>...</td>\n",
       "      <td>...</td>\n",
       "      <td>...</td>\n",
       "      <td>...</td>\n",
       "      <td>...</td>\n",
       "      <td>...</td>\n",
       "    </tr>\n",
       "    <tr>\n",
       "      <th>420</th>\n",
       "      <td>AA8hN7bJ</td>\n",
       "      <td>37.628765</td>\n",
       "      <td>55.740664</td>\n",
       "      <td>0.213704</td>\n",
       "      <td>31 с3, Пятницкая улица, 20-24, район Замосквор...</td>\n",
       "      <td>Москва</td>\n",
       "      <td>POINT (37.62877 55.74066)</td>\n",
       "      <td>0.102662</td>\n",
       "      <td>3</td>\n",
       "    </tr>\n",
       "    <tr>\n",
       "      <th>421</th>\n",
       "      <td>uNw6t6xk</td>\n",
       "      <td>37.586825</td>\n",
       "      <td>55.794233</td>\n",
       "      <td>-0.002397</td>\n",
       "      <td>2/18, Бутырская улица, Бутырский район, Москва...</td>\n",
       "      <td>Москва</td>\n",
       "      <td>POINT (37.58682 55.79423)</td>\n",
       "      <td>0.195993</td>\n",
       "      <td>3</td>\n",
       "    </tr>\n",
       "    <tr>\n",
       "      <th>422</th>\n",
       "      <td>Ap42ei8k</td>\n",
       "      <td>37.678790</td>\n",
       "      <td>55.772910</td>\n",
       "      <td>-0.910019</td>\n",
       "      <td>33/2 с1, Бауманская улица, Бауманка, Москва, Ц...</td>\n",
       "      <td>Москва</td>\n",
       "      <td>POINT (37.67879 55.77291)</td>\n",
       "      <td>0.133261</td>\n",
       "      <td>1</td>\n",
       "    </tr>\n",
       "    <tr>\n",
       "      <th>423</th>\n",
       "      <td>rn9A8r62</td>\n",
       "      <td>37.752130</td>\n",
       "      <td>55.619640</td>\n",
       "      <td>-0.326547</td>\n",
       "      <td>6, Кустанайская улица, Зябликово, район Зяблик...</td>\n",
       "      <td>Москва</td>\n",
       "      <td>POINT (37.75213 55.61964)</td>\n",
       "      <td>0.646836</td>\n",
       "      <td>0</td>\n",
       "    </tr>\n",
       "    <tr>\n",
       "      <th>424</th>\n",
       "      <td>960M6jye</td>\n",
       "      <td>37.705770</td>\n",
       "      <td>55.782950</td>\n",
       "      <td>-1.234169</td>\n",
       "      <td>Торговый центр \"Март\", 17А, Большая Семёновска...</td>\n",
       "      <td>Москва</td>\n",
       "      <td>POINT (37.70577 55.78295)</td>\n",
       "      <td>0.216788</td>\n",
       "      <td>1</td>\n",
       "    </tr>\n",
       "  </tbody>\n",
       "</table>\n",
       "<p>425 rows × 9 columns</p>\n",
       "</div>"
      ],
      "text/plain": [
       "     point_id        lon  ...  clos_st_dist  close_500_num\n",
       "0    ommNZCUV  37.590776  ...      0.186289              2\n",
       "1    nMe2LHPb  37.784210  ...      0.205819              1\n",
       "2    ZgodVRqB  39.635721  ...      3.241355              0\n",
       "3    0t2jNYdz  37.704570  ...      0.069446              1\n",
       "4    U27W4QJ7  37.643983  ...      0.259479              2\n",
       "..        ...        ...  ...           ...            ...\n",
       "420  AA8hN7bJ  37.628765  ...      0.102662              3\n",
       "421  uNw6t6xk  37.586825  ...      0.195993              3\n",
       "422  Ap42ei8k  37.678790  ...      0.133261              1\n",
       "423  rn9A8r62  37.752130  ...      0.646836              0\n",
       "424  960M6jye  37.705770  ...      0.216788              1\n",
       "\n",
       "[425 rows x 9 columns]"
      ]
     },
     "execution_count": 282,
     "metadata": {
      "tags": []
     },
     "output_type": "execute_result"
    }
   ],
   "source": [
    "train"
   ]
  },
  {
   "cell_type": "markdown",
   "metadata": {
    "id": "PlQ5IcLx_vnQ"
   },
   "source": [
    "### Пункт 3. Создание различных признаков, используя OSM.\n",
    "Для начала я наивно скачаю центры всех городов и просто посчитаю расстояние от каждой точки до ближайшего города, буду использовать это как признак.\n",
    "Также посчитал расстояние до ближайшего салона связи и количество салонов в радиусе 500 метров. Но эти признаки не дают особого прироста, если не делют хуже."
   ]
  },
  {
   "cell_type": "code",
   "execution_count": null,
   "metadata": {
    "id": "HoxiMFECMTKg"
   },
   "outputs": [],
   "source": [
    "query = \"\"\"\n",
    "[out:json][timeout:300];\n",
    "area(3600060189);\n",
    "(\n",
    "  node[\"place\"=\"city\"](area);\n",
    ");\n",
    "out body;\n",
    ">;\n",
    "out skel qt;\n",
    "\"\"\"\n",
    "url = \"http://overpass-api.de/api/interpreter\"\n",
    "r = requests.get(url, params={'data': query})\n",
    "\n",
    "result = osmtogeojson.process_osm_json(r.json())"
   ]
  },
  {
   "cell_type": "code",
   "execution_count": null,
   "metadata": {
    "id": "mdjq-xz8-CuI"
   },
   "outputs": [],
   "source": [
    "cities = {}\n",
    "for i in result['features']:\n",
    "    cities[i['properties']['name']] = shapely.geometry.Point(i['geometry']['coordinates'])"
   ]
  },
  {
   "cell_type": "code",
   "execution_count": null,
   "metadata": {
    "id": "jfjKvbPW-3wY"
   },
   "outputs": [],
   "source": [
    "cities = gpd.GeoDataFrame({'geometry':cities.values()})"
   ]
  },
  {
   "cell_type": "code",
   "execution_count": null,
   "metadata": {
    "colab": {
     "base_uri": "https://localhost:8080/",
     "height": 341
    },
    "id": "YWkrQUWZ_hV1",
    "outputId": "8b33e849-7657-48d9-b389-6a331572b075"
   },
   "outputs": [
    {
     "data": {
      "text/plain": [
       "<matplotlib.axes._subplots.AxesSubplot at 0x7f46b75a1518>"
      ]
     },
     "execution_count": 309,
     "metadata": {
      "tags": []
     },
     "output_type": "execute_result"
    },
    {
     "data": {
      "image/png": "[encoded data removed]",
      "text/plain": [
       "<Figure size 4334.4x2937.6 with 1 Axes>"
      ]
     },
     "metadata": {
      "needs_background": "light",
      "tags": []
     },
     "output_type": "display_data"
    }
   ],
   "source": [
    "fig = plt.figure(figsize=(60.20, 40.80))\n",
    "ax = plt.axes()\n",
    "cities.plot(ax=ax)\n",
    "train.plot(ax=ax)"
   ]
  },
  {
   "cell_type": "code",
   "execution_count": null,
   "metadata": {
    "id": "eNzt9UZ9A0HN"
   },
   "outputs": [],
   "source": [
    "cities_new = cities.set_crs(4326)\n",
    "cities_new = cities_new.to_crs(epsg=32618)"
   ]
  },
  {
   "cell_type": "code",
   "execution_count": null,
   "metadata": {
    "id": "MGQ3VwBo_rD9"
   },
   "outputs": [],
   "source": [
    "closest = []\n",
    "for i, point in enumerate(train_new.geometry.values):\n",
    "    distances = []\n",
    "    for city in cities_new.geometry.values:\n",
    "        distance = point.distance(city) / 1000\n",
    "        distances.append(distance)\n",
    "    closest_city_distance = np.min(distances)\n",
    "    closest.append(closest_city_distance)\n",
    "train['city_dist'] = closest"
   ]
  },
  {
   "cell_type": "code",
   "execution_count": null,
   "metadata": {
    "id": "AS_eCW_FCN9q"
   },
   "outputs": [],
   "source": [
    "train['is_moscow'] = [1 if i == 'Москва' or i == 'Санкт-Петербург' else 0 for i in train['city'].values] # бинарный признак Москва или Санкт-Петербург это или нет"
   ]
  },
  {
   "cell_type": "code",
   "execution_count": null,
   "metadata": {
    "id": "KVs8cJ0hGk-V"
   },
   "outputs": [],
   "source": [
    "closest = []\n",
    "closest_num = []\n",
    "for i, point in enumerate(train_new.geometry.values):\n",
    "    distances = []\n",
    "    num = -1 # сам с собой\n",
    "    for p in train_new.geometry.values:\n",
    "        distance = point.distance(p) / 1000\n",
    "        distances.append(distance)\n",
    "        if distance < 0.5:\n",
    "            num += 1\n",
    "    closest_mob_shop_distance = np.sort(distances)[1]\n",
    "    closest.append(closest_mob_shop_distance)\n",
    "    closest_num.append(num)\n",
    "train['shop_dist'] = closest\n",
    "train['shop_num'] = closest_num"
   ]
  },
  {
   "cell_type": "code",
   "execution_count": null,
   "metadata": {
    "colab": {
     "base_uri": "https://localhost:8080/",
     "height": 589
    },
    "id": "CGaz65oIISe7",
    "outputId": "d8c8df20-8422-4b5f-d5ba-c472d9314770"
   },
   "outputs": [
    {
     "data": {
      "text/html": [
       "<div>\n",
       "<style scoped>\n",
       "    .dataframe tbody tr th:only-of-type {\n",
       "        vertical-align: middle;\n",
       "    }\n",
       "\n",
       "    .dataframe tbody tr th {\n",
       "        vertical-align: top;\n",
       "    }\n",
       "\n",
       "    .dataframe thead th {\n",
       "        text-align: right;\n",
       "    }\n",
       "</style>\n",
       "<table border=\"1\" class=\"dataframe\">\n",
       "  <thead>\n",
       "    <tr style=\"text-align: right;\">\n",
       "      <th></th>\n",
       "      <th>point_id</th>\n",
       "      <th>lon</th>\n",
       "      <th>lat</th>\n",
       "      <th>target</th>\n",
       "      <th>address</th>\n",
       "      <th>city</th>\n",
       "      <th>geometry</th>\n",
       "      <th>clos_st_dist</th>\n",
       "      <th>close_500_num</th>\n",
       "      <th>city_dist</th>\n",
       "      <th>is_moscow</th>\n",
       "      <th>shop_dist</th>\n",
       "      <th>shop_num</th>\n",
       "    </tr>\n",
       "  </thead>\n",
       "  <tbody>\n",
       "    <tr>\n",
       "      <th>0</th>\n",
       "      <td>ommNZCUV</td>\n",
       "      <td>37.590776</td>\n",
       "      <td>55.848630</td>\n",
       "      <td>-0.348157</td>\n",
       "      <td>6А, Сигнальный проезд, район Отрадное, Москва,...</td>\n",
       "      <td>Москва</td>\n",
       "      <td>POINT (37.59078 55.84863)</td>\n",
       "      <td>0.186289</td>\n",
       "      <td>2</td>\n",
       "      <td>11.905070</td>\n",
       "      <td>1</td>\n",
       "      <td>0.575093</td>\n",
       "      <td>0</td>\n",
       "    </tr>\n",
       "    <tr>\n",
       "      <th>1</th>\n",
       "      <td>nMe2LHPb</td>\n",
       "      <td>37.784210</td>\n",
       "      <td>55.750271</td>\n",
       "      <td>1.294206</td>\n",
       "      <td>38/18, 2-я Владимирская улица, Владимирский по...</td>\n",
       "      <td>Москва</td>\n",
       "      <td>POINT (37.78421 55.75027)</td>\n",
       "      <td>0.205819</td>\n",
       "      <td>1</td>\n",
       "      <td>12.241460</td>\n",
       "      <td>1</td>\n",
       "      <td>0.105369</td>\n",
       "      <td>1</td>\n",
       "    </tr>\n",
       "    <tr>\n",
       "      <th>2</th>\n",
       "      <td>ZgodVRqB</td>\n",
       "      <td>39.635721</td>\n",
       "      <td>47.213330</td>\n",
       "      <td>-1.039679</td>\n",
       "      <td>18, улица Зорге, 10-й мкр, ЗЖМ, Советский райо...</td>\n",
       "      <td>Ростов-на-Дону</td>\n",
       "      <td>POINT (39.63572 47.21333)</td>\n",
       "      <td>3.241355</td>\n",
       "      <td>0</td>\n",
       "      <td>7.369985</td>\n",
       "      <td>0</td>\n",
       "      <td>0.874965</td>\n",
       "      <td>0</td>\n",
       "    </tr>\n",
       "    <tr>\n",
       "      <th>3</th>\n",
       "      <td>0t2jNYdz</td>\n",
       "      <td>37.704570</td>\n",
       "      <td>55.782020</td>\n",
       "      <td>-1.169339</td>\n",
       "      <td>Торговый центр \"Серебряный Дом\", 16, Большая С...</td>\n",
       "      <td>Москва</td>\n",
       "      <td>POINT (37.70457 55.78202)</td>\n",
       "      <td>0.069446</td>\n",
       "      <td>1</td>\n",
       "      <td>7.598580</td>\n",
       "      <td>1</td>\n",
       "      <td>0.149655</td>\n",
       "      <td>1</td>\n",
       "    </tr>\n",
       "    <tr>\n",
       "      <th>4</th>\n",
       "      <td>U27W4QJ7</td>\n",
       "      <td>37.643983</td>\n",
       "      <td>55.730188</td>\n",
       "      <td>-0.088837</td>\n",
       "      <td>5, Кожевническая улица, Швивая горка, район За...</td>\n",
       "      <td>Москва</td>\n",
       "      <td>POINT (37.64398 55.73019)</td>\n",
       "      <td>0.259479</td>\n",
       "      <td>2</td>\n",
       "      <td>3.278233</td>\n",
       "      <td>1</td>\n",
       "      <td>0.651178</td>\n",
       "      <td>0</td>\n",
       "    </tr>\n",
       "    <tr>\n",
       "      <th>...</th>\n",
       "      <td>...</td>\n",
       "      <td>...</td>\n",
       "      <td>...</td>\n",
       "      <td>...</td>\n",
       "      <td>...</td>\n",
       "      <td>...</td>\n",
       "      <td>...</td>\n",
       "      <td>...</td>\n",
       "      <td>...</td>\n",
       "      <td>...</td>\n",
       "      <td>...</td>\n",
       "      <td>...</td>\n",
       "      <td>...</td>\n",
       "    </tr>\n",
       "    <tr>\n",
       "      <th>420</th>\n",
       "      <td>AA8hN7bJ</td>\n",
       "      <td>37.628765</td>\n",
       "      <td>55.740664</td>\n",
       "      <td>0.213704</td>\n",
       "      <td>31 с3, Пятницкая улица, 20-24, район Замосквор...</td>\n",
       "      <td>Москва</td>\n",
       "      <td>POINT (37.62877 55.74066)</td>\n",
       "      <td>0.102662</td>\n",
       "      <td>3</td>\n",
       "      <td>1.519239</td>\n",
       "      <td>1</td>\n",
       "      <td>1.124532</td>\n",
       "      <td>0</td>\n",
       "    </tr>\n",
       "    <tr>\n",
       "      <th>421</th>\n",
       "      <td>uNw6t6xk</td>\n",
       "      <td>37.586825</td>\n",
       "      <td>55.794233</td>\n",
       "      <td>-0.002397</td>\n",
       "      <td>2/18, Бутырская улица, Бутырский район, Москва...</td>\n",
       "      <td>Москва</td>\n",
       "      <td>POINT (37.58682 55.79423)</td>\n",
       "      <td>0.195993</td>\n",
       "      <td>3</td>\n",
       "      <td>6.129182</td>\n",
       "      <td>1</td>\n",
       "      <td>0.287298</td>\n",
       "      <td>1</td>\n",
       "    </tr>\n",
       "    <tr>\n",
       "      <th>422</th>\n",
       "      <td>Ap42ei8k</td>\n",
       "      <td>37.678790</td>\n",
       "      <td>55.772910</td>\n",
       "      <td>-0.910019</td>\n",
       "      <td>33/2 с1, Бауманская улица, Бауманка, Москва, Ц...</td>\n",
       "      <td>Москва</td>\n",
       "      <td>POINT (37.67879 55.77291)</td>\n",
       "      <td>0.133261</td>\n",
       "      <td>1</td>\n",
       "      <td>5.366584</td>\n",
       "      <td>1</td>\n",
       "      <td>0.086473</td>\n",
       "      <td>1</td>\n",
       "    </tr>\n",
       "    <tr>\n",
       "      <th>423</th>\n",
       "      <td>rn9A8r62</td>\n",
       "      <td>37.752130</td>\n",
       "      <td>55.619640</td>\n",
       "      <td>-0.326547</td>\n",
       "      <td>6, Кустанайская улица, Зябликово, район Зяблик...</td>\n",
       "      <td>Москва</td>\n",
       "      <td>POINT (37.75213 55.61964)</td>\n",
       "      <td>0.646836</td>\n",
       "      <td>0</td>\n",
       "      <td>12.933855</td>\n",
       "      <td>1</td>\n",
       "      <td>1.035579</td>\n",
       "      <td>0</td>\n",
       "    </tr>\n",
       "    <tr>\n",
       "      <th>424</th>\n",
       "      <td>960M6jye</td>\n",
       "      <td>37.705770</td>\n",
       "      <td>55.782950</td>\n",
       "      <td>-1.234169</td>\n",
       "      <td>Торговый центр \"Март\", 17А, Большая Семёновска...</td>\n",
       "      <td>Москва</td>\n",
       "      <td>POINT (37.70577 55.78295)</td>\n",
       "      <td>0.216788</td>\n",
       "      <td>1</td>\n",
       "      <td>7.738227</td>\n",
       "      <td>1</td>\n",
       "      <td>0.149655</td>\n",
       "      <td>1</td>\n",
       "    </tr>\n",
       "  </tbody>\n",
       "</table>\n",
       "<p>425 rows × 13 columns</p>\n",
       "</div>"
      ],
      "text/plain": [
       "     point_id        lon        lat  ...  is_moscow shop_dist shop_num\n",
       "0    ommNZCUV  37.590776  55.848630  ...          1  0.575093        0\n",
       "1    nMe2LHPb  37.784210  55.750271  ...          1  0.105369        1\n",
       "2    ZgodVRqB  39.635721  47.213330  ...          0  0.874965        0\n",
       "3    0t2jNYdz  37.704570  55.782020  ...          1  0.149655        1\n",
       "4    U27W4QJ7  37.643983  55.730188  ...          1  0.651178        0\n",
       "..        ...        ...        ...  ...        ...       ...      ...\n",
       "420  AA8hN7bJ  37.628765  55.740664  ...          1  1.124532        0\n",
       "421  uNw6t6xk  37.586825  55.794233  ...          1  0.287298        1\n",
       "422  Ap42ei8k  37.678790  55.772910  ...          1  0.086473        1\n",
       "423  rn9A8r62  37.752130  55.619640  ...          1  1.035579        0\n",
       "424  960M6jye  37.705770  55.782950  ...          1  0.149655        1\n",
       "\n",
       "[425 rows x 13 columns]"
      ]
     },
     "execution_count": 578,
     "metadata": {
      "tags": []
     },
     "output_type": "execute_result"
    }
   ],
   "source": [
    "train"
   ]
  },
  {
   "cell_type": "markdown",
   "metadata": {
    "id": "5ivq3Hd-No-R"
   },
   "source": [
    "## Пунтк 4. Визуализации"
   ]
  },
  {
   "cell_type": "code",
   "execution_count": null,
   "metadata": {
    "id": "ea64x9kuNuCs"
   },
   "outputs": [],
   "source": [
    "query = \"\"\"\n",
    "[out:json][timeout:300];\n",
    "area(3602555133);\n",
    "(\n",
    "  //way[\"place\"=\"city\"](area);\n",
    "  relation[\"place\"=\"city\"](area);\n",
    ");\n",
    "out body;\n",
    ">;\n",
    "out skel qt;\n",
    "\"\"\"\n",
    "url = \"http://overpass-api.de/api/interpreter\"\n",
    "r = requests.get(url, params={'data': query})\n",
    "\n",
    "result = osmtogeojson.process_osm_json(r.json())"
   ]
  },
  {
   "cell_type": "code",
   "execution_count": null,
   "metadata": {
    "id": "4nDsOqgePbQ3"
   },
   "outputs": [],
   "source": [
    "def linestring_to_polygon(linestring):\n",
    "    geom = [x for x in linestring]\n",
    "    all_coords = shapely.geometry.mapping(geom[0])['coordinates']\n",
    "    lats = [x[1] for x in all_coords]\n",
    "    lons = [x[0] for x in all_coords]\n",
    "    polyg = shapely.geometry.Polygon(zip(lons, lats))\n",
    "    return polyg"
   ]
  },
  {
   "cell_type": "code",
   "execution_count": null,
   "metadata": {
    "id": "AQ98CDmCPbaH"
   },
   "outputs": [],
   "source": [
    "moscow = shapely.geometry.MultiLineString(result['features'][0]['geometry']['coordinates'])\n",
    "moscow = linestring_to_polygon(moscow)\n",
    "moscow = gpd.GeoDataFrame({'geometry':moscow}, index=[0])"
   ]
  },
  {
   "cell_type": "code",
   "execution_count": null,
   "metadata": {
    "colab": {
     "base_uri": "https://localhost:8080/",
     "height": 437
    },
    "id": "BeOUd15_PbEs",
    "outputId": "a66bb2b1-c4e3-466d-fef6-94302f5d4ea8"
   },
   "outputs": [
    {
     "data": {
      "image/png": "[encoded data removed]",
      "text/plain": [
       "<Figure size 720x1080 with 1 Axes>"
      ]
     },
     "metadata": {
      "needs_background": "light",
      "tags": []
     },
     "output_type": "display_data"
    }
   ],
   "source": [
    "fig = plt.figure(figsize=(10, 15))\n",
    "ax = plt.axes()\n",
    "moscow.plot(ax=ax)\n",
    "train[train['city']=='Москва'].plot(ax=ax, color='red')\n",
    "plt.axis('off')\n",
    "plt.show()"
   ]
  },
  {
   "cell_type": "code",
   "execution_count": null,
   "metadata": {
    "colab": {
     "base_uri": "https://localhost:8080/",
     "height": 915
    },
    "id": "uQJez6OuPawm",
    "outputId": "22f68fb6-de05-49eb-8050-88b1473d2714"
   },
   "outputs": [
    {
     "data": {
      "text/html": [
       "<div style=\"width:100%;\"><div style=\"position:relative;width:100%;height:0;padding-bottom:60%;\"><span style=\"color:#565656\">Make this Notebook Trusted to load map: File -> Trust Notebook</span><iframe src=\"about:blank\" style=\"position:absolute;width:100%;height:100%;left:0;top:0;border:none !important;\" data-html=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 onload=\"this.contentDocument.open();this.contentDocument.write(atob(this.getAttribute('data-html')));this.contentDocument.close();\" allowfullscreen webkitallowfullscreen mozallowfullscreen></iframe></div></div>"
      ],
      "text/plain": [
       "<folium.folium.Map at 0x7f46ade69470>"
      ]
     },
     "execution_count": 728,
     "metadata": {
      "tags": []
     },
     "output_type": "execute_result"
    }
   ],
   "source": [
    "m = folium.Map(location=[55.7504461, 37.6174943], \n",
    "               zoom_start=11, \n",
    "               tiles='cartodbpositron')\n",
    "\n",
    "heat_data = [[row['lat'],row['lon']] for index, row in train.iterrows()]\n",
    "\n",
    "\n",
    "HeatMap(heat_data,\n",
    "        radius=10).add_to(m)\n",
    "\n",
    "m"
   ]
  },
  {
   "cell_type": "markdown",
   "metadata": {
    "id": "KXIqyBXW3Yw1"
   },
   "source": [
    "### Fit model"
   ]
  },
  {
   "cell_type": "code",
   "execution_count": null,
   "metadata": {
    "id": "6urv3JDgsRDm"
   },
   "outputs": [],
   "source": [
    "X_train, X_valid, y_train, y_valid = train_test_split(train.drop(['target', 'city', 'address', 'point_id', 'geometry'], axis=1), train[['target']])\n",
    "model = LinearRegression(normalize=True).fit(X_train, y_train)"
   ]
  },
  {
   "cell_type": "code",
   "execution_count": null,
   "metadata": {
    "colab": {
     "base_uri": "https://localhost:8080/",
     "height": 419
    },
    "id": "ldbWDMuAJGD5",
    "outputId": "0a1ec50e-82fa-420b-be67-1ef2ec66dd4d"
   },
   "outputs": [
    {
     "data": {
      "text/html": [
       "<div>\n",
       "<style scoped>\n",
       "    .dataframe tbody tr th:only-of-type {\n",
       "        vertical-align: middle;\n",
       "    }\n",
       "\n",
       "    .dataframe tbody tr th {\n",
       "        vertical-align: top;\n",
       "    }\n",
       "\n",
       "    .dataframe thead th {\n",
       "        text-align: right;\n",
       "    }\n",
       "</style>\n",
       "<table border=\"1\" class=\"dataframe\">\n",
       "  <thead>\n",
       "    <tr style=\"text-align: right;\">\n",
       "      <th></th>\n",
       "      <th>lon</th>\n",
       "      <th>lat</th>\n",
       "      <th>clos_st_dist</th>\n",
       "      <th>close_500_num</th>\n",
       "      <th>city_dist</th>\n",
       "      <th>is_moscow</th>\n",
       "      <th>shop_dist</th>\n",
       "      <th>shop_num</th>\n",
       "    </tr>\n",
       "  </thead>\n",
       "  <tbody>\n",
       "    <tr>\n",
       "      <th>272</th>\n",
       "      <td>83.094496</td>\n",
       "      <td>54.840236</td>\n",
       "      <td>3.409562</td>\n",
       "      <td>0</td>\n",
       "      <td>9.411043</td>\n",
       "      <td>0</td>\n",
       "      <td>14.431292</td>\n",
       "      <td>0</td>\n",
       "    </tr>\n",
       "    <tr>\n",
       "      <th>360</th>\n",
       "      <td>43.864996</td>\n",
       "      <td>56.243009</td>\n",
       "      <td>0.506420</td>\n",
       "      <td>0</td>\n",
       "      <td>14.658892</td>\n",
       "      <td>0</td>\n",
       "      <td>1.357839</td>\n",
       "      <td>0</td>\n",
       "    </tr>\n",
       "    <tr>\n",
       "      <th>180</th>\n",
       "      <td>37.478132</td>\n",
       "      <td>55.854933</td>\n",
       "      <td>0.140869</td>\n",
       "      <td>0</td>\n",
       "      <td>5.085312</td>\n",
       "      <td>1</td>\n",
       "      <td>0.123176</td>\n",
       "      <td>1</td>\n",
       "    </tr>\n",
       "    <tr>\n",
       "      <th>148</th>\n",
       "      <td>49.192958</td>\n",
       "      <td>55.744566</td>\n",
       "      <td>1.292153</td>\n",
       "      <td>0</td>\n",
       "      <td>6.806102</td>\n",
       "      <td>0</td>\n",
       "      <td>1.190475</td>\n",
       "      <td>0</td>\n",
       "    </tr>\n",
       "    <tr>\n",
       "      <th>237</th>\n",
       "      <td>37.622612</td>\n",
       "      <td>55.729331</td>\n",
       "      <td>0.088082</td>\n",
       "      <td>1</td>\n",
       "      <td>2.775414</td>\n",
       "      <td>1</td>\n",
       "      <td>0.395959</td>\n",
       "      <td>1</td>\n",
       "    </tr>\n",
       "    <tr>\n",
       "      <th>...</th>\n",
       "      <td>...</td>\n",
       "      <td>...</td>\n",
       "      <td>...</td>\n",
       "      <td>...</td>\n",
       "      <td>...</td>\n",
       "      <td>...</td>\n",
       "      <td>...</td>\n",
       "      <td>...</td>\n",
       "    </tr>\n",
       "    <tr>\n",
       "      <th>358</th>\n",
       "      <td>37.664147</td>\n",
       "      <td>55.731865</td>\n",
       "      <td>0.127248</td>\n",
       "      <td>0</td>\n",
       "      <td>4.195311</td>\n",
       "      <td>1</td>\n",
       "      <td>1.497779</td>\n",
       "      <td>0</td>\n",
       "    </tr>\n",
       "    <tr>\n",
       "      <th>119</th>\n",
       "      <td>37.411720</td>\n",
       "      <td>55.647053</td>\n",
       "      <td>1.550684</td>\n",
       "      <td>0</td>\n",
       "      <td>10.714548</td>\n",
       "      <td>1</td>\n",
       "      <td>2.020952</td>\n",
       "      <td>0</td>\n",
       "    </tr>\n",
       "    <tr>\n",
       "      <th>306</th>\n",
       "      <td>30.273976</td>\n",
       "      <td>59.900058</td>\n",
       "      <td>0.044884</td>\n",
       "      <td>1</td>\n",
       "      <td>5.610637</td>\n",
       "      <td>1</td>\n",
       "      <td>1.775904</td>\n",
       "      <td>0</td>\n",
       "    </tr>\n",
       "    <tr>\n",
       "      <th>197</th>\n",
       "      <td>50.238669</td>\n",
       "      <td>53.251547</td>\n",
       "      <td>4.402195</td>\n",
       "      <td>0</td>\n",
       "      <td>11.690137</td>\n",
       "      <td>0</td>\n",
       "      <td>1.112390</td>\n",
       "      <td>0</td>\n",
       "    </tr>\n",
       "    <tr>\n",
       "      <th>183</th>\n",
       "      <td>30.622015</td>\n",
       "      <td>59.738771</td>\n",
       "      <td>1.480402</td>\n",
       "      <td>0</td>\n",
       "      <td>1.669576</td>\n",
       "      <td>0</td>\n",
       "      <td>0.778284</td>\n",
       "      <td>0</td>\n",
       "    </tr>\n",
       "  </tbody>\n",
       "</table>\n",
       "<p>318 rows × 8 columns</p>\n",
       "</div>"
      ],
      "text/plain": [
       "           lon        lat  clos_st_dist  ...  is_moscow  shop_dist  shop_num\n",
       "272  83.094496  54.840236      3.409562  ...          0  14.431292         0\n",
       "360  43.864996  56.243009      0.506420  ...          0   1.357839         0\n",
       "180  37.478132  55.854933      0.140869  ...          1   0.123176         1\n",
       "148  49.192958  55.744566      1.292153  ...          0   1.190475         0\n",
       "237  37.622612  55.729331      0.088082  ...          1   0.395959         1\n",
       "..         ...        ...           ...  ...        ...        ...       ...\n",
       "358  37.664147  55.731865      0.127248  ...          1   1.497779         0\n",
       "119  37.411720  55.647053      1.550684  ...          1   2.020952         0\n",
       "306  30.273976  59.900058      0.044884  ...          1   1.775904         0\n",
       "197  50.238669  53.251547      4.402195  ...          0   1.112390         0\n",
       "183  30.622015  59.738771      1.480402  ...          0   0.778284         0\n",
       "\n",
       "[318 rows x 8 columns]"
      ]
     },
     "execution_count": 673,
     "metadata": {
      "tags": []
     },
     "output_type": "execute_result"
    }
   ],
   "source": [
    "X_train"
   ]
  },
  {
   "cell_type": "code",
   "execution_count": null,
   "metadata": {
    "colab": {
     "base_uri": "https://localhost:8080/"
    },
    "id": "_vBQcIx2JB_A",
    "outputId": "aa3f1718-da2e-4d0b-ced6-31f1aaad955a"
   },
   "outputs": [
    {
     "data": {
      "text/plain": [
       "array([[ 0.00260297, -0.09146262, -0.06944134,  0.23646393,  0.01245934,\n",
       "         0.15677137,  0.06827252,  0.25749651]])"
      ]
     },
     "execution_count": 674,
     "metadata": {
      "tags": []
     },
     "output_type": "execute_result"
    }
   ],
   "source": [
    "model.coef_"
   ]
  },
  {
   "cell_type": "code",
   "execution_count": null,
   "metadata": {
    "colab": {
     "base_uri": "https://localhost:8080/"
    },
    "id": "ENuTaQko3Yw1",
    "outputId": "93572a29-9ef8-4bbf-dbb1-900bf2d5b102"
   },
   "outputs": [
    {
     "data": {
      "text/plain": [
       "0.6470854092854136"
      ]
     },
     "execution_count": 675,
     "metadata": {
      "tags": []
     },
     "output_type": "execute_result"
    }
   ],
   "source": [
    "mean_absolute_error(y_valid, model.predict(X_valid))"
   ]
  },
  {
   "cell_type": "markdown",
   "metadata": {
    "id": "RCJ0_xyP3Yw2"
   },
   "source": [
    "### Make submission"
   ]
  },
  {
   "cell_type": "code",
   "execution_count": null,
   "metadata": {
    "id": "yEuUxd9B3Yw2"
   },
   "outputs": [],
   "source": [
    "submission = pd.read_csv('sample_submission.csv')\n",
    "submission['target'] = model.predict(X_valid)\n",
    "submission.to_csv('my_submission_01.csv', index=False)"
   ]
  },
  {
   "cell_type": "code",
   "execution_count": null,
   "metadata": {
    "id": "_OIlBmfLs28H"
   },
   "outputs": [],
   "source": []
  }
 ],
 "metadata": {
  "colab": {
   "collapsed_sections": [],
   "name": "megafon_geo_hw.ipynb",
   "provenance": [],
   "toc_visible": true
  },
  "kernelspec": {
   "display_name": "Python 3",
   "language": "python",
   "name": "python3"
  },
  "language_info": {
   "codemirror_mode": {
    "name": "ipython",
    "version": 3
   },
   "file_extension": ".py",
   "mimetype": "text/x-python",
   "name": "python",
   "nbconvert_exporter": "python",
   "pygments_lexer": "ipython3",
   "version": "3.7.6"
  }
 },
 "nbformat": 4,
 "nbformat_minor": 1
}
