{
 "cells": [
  {
   "cell_type": "markdown",
   "metadata": {
    "id": "jhA98Bxj00xr"
   },
   "source": [
    "## AB Tests Сафроненков Р. С."
   ]
  },
  {
   "cell_type": "markdown",
   "metadata": {
    "id": "SKqAo56q00x4"
   },
   "source": [
    "### 1. Оценка результатов AB теста"
   ]
  },
  {
   "cell_type": "markdown",
   "metadata": {
    "id": "Ac66eUu100x5"
   },
   "source": [
    "В данном задании вам требуется оценить результаты AB теста. Даны результаты на контрольной и тестовой группе после проведения AB теста.\n",
    "Помимо показателей целевой переменной, вам даны также несколько фичей, которые являются характеристиками объектов. Даны целевые показатели (y) и принадлежность к целевой группе (W).\n",
    "\n",
    "</u>Задача:</u>\n",
    "1. Проверьте подходящую для данных гипотезу о равенстве средних в выборках\n",
    "2. Каков treatment effect нашего воздействия? (ATE) \n",
    "3. Примените известные вам методы оценки ATE с учетом особенностей данных.\n",
    "4. Проанализируйте, сравните результаты применения различных методов.\n",
    "5. В явном виде выпишите выводы.\n",
    "\n",
    "</i>Примечание: предположения о рандомизированном эксперименте нуждаются в проверке - независимость treatment от объектов не гарантирована. Все предположения выписывайте явно.</i> \n",
    "\n",
    "Для данной задачи используется dataset:  dataset_part1_students.csv"
   ]
  },
  {
   "cell_type": "markdown",
   "metadata": {
    "id": "2twUx6HY00x6"
   },
   "source": [
    "### 2. Оценка результатов AB теста с показателями до начала эксперимента"
   ]
  },
  {
   "cell_type": "markdown",
   "metadata": {
    "id": "LZA6DhTZ00x7"
   },
   "source": [
    "Необходимо как и ранее оценить результаты AB теста, а именно ATE. Вы располагаете результатами до и после проведения теста (y_0 и y_1), а также вам дан treatment assignment (W). \n",
    "\n",
    "Необходимо: \n",
    "1. Проверить все требуемые гипотезы\n",
    "2. Оценить ATE подходящим для этого случая методом (примените несколько методов)\n",
    "3. Сравнить и проанализировать результаты оценок\n",
    "4. Явно выписать выводы.\n",
    "\n",
    "Как и прежде, все предположения должны быть указаны. Визуализация результатов приветствуется.\n",
    "\n",
    "dataset_part2_students.csv"
   ]
  },
  {
   "cell_type": "markdown",
   "metadata": {
    "id": "95-jCY4200x8"
   },
   "source": [
    "### 3. Построение uplift модели по результатам AB теста."
   ]
  },
  {
   "cell_type": "markdown",
   "metadata": {
    "id": "tpleJ5Ss00x8"
   },
   "source": [
    "Вам даны результаты AB теста для модели конверсии клиента в продукте (conversion). Конверсия может принимать значения 1 или 0, что значит - клиент подключил услугу, либо не подключил соответственно.\n",
    "\n",
    "Задача:\n",
    "1. Оцените ATE по данным.\n",
    "2. Оцените CATE для каждого наблюдения.\n",
    "3. Проставьте рекомендации к воздействию на каждый объект.\n",
    "4. Какая ожидаемая конверсия при оптимальном воздействии?\n",
    "5. Все выводы, предпосылки и методы представляйте в явном виде в ноутбуке.\n",
    "\n",
    "Визуализация результатов также будет приветствоваться.\n",
    "\n",
    "dataset_part3_students.csv"
   ]
  },
  {
   "cell_type": "code",
   "execution_count": 1,
   "metadata": {
    "id": "-O4-i8qFClgd"
   },
   "outputs": [],
   "source": [
    "# !pip install causalml"
   ]
  },
  {
   "cell_type": "code",
   "execution_count": 2,
   "metadata": {
    "colab": {
     "base_uri": "https://localhost:8080/"
    },
    "id": "O8eE7CzG00x9",
    "outputId": "c43eb2b0-6626-4afa-d722-d1d65cac66e7"
   },
   "outputs": [
    {
     "name": "stderr",
     "output_type": "stream",
     "text": [
      "/usr/local/lib/python3.6/dist-packages/statsmodels/tools/_testing.py:19: FutureWarning: pandas.util.testing is deprecated. Use the functions in the public API at pandas.testing instead.\n",
      "  import pandas.util.testing as tm\n",
      "The sklearn.utils.testing module is  deprecated in version 0.22 and will be removed in version 0.24. The corresponding classes / functions should instead be imported from sklearn.utils. Anything that cannot be imported from sklearn.utils is now part of the private API.\n"
     ]
    }
   ],
   "source": [
    "import pandas as pd\n",
    "import numpy as np\n",
    "import matplotlib.pyplot as plt\n",
    "import scipy.stats as st\n",
    "%matplotlib inline\n",
    "\n",
    "from causalml.inference.meta import LRSRegressor\n",
    "from causalml.inference.meta import XGBTRegressor, MLPTRegressor\n",
    "from causalml.inference.meta import BaseXRegressor\n",
    "from causalml.inference.meta import BaseRRegressor\n",
    "from xgboost import XGBRegressor\n",
    "\n",
    "import warnings\n",
    "warnings.filterwarnings('ignore')"
   ]
  },
  {
   "cell_type": "markdown",
   "metadata": {
    "id": "qhqWeRm900x_"
   },
   "source": [
    "### Task 1"
   ]
  },
  {
   "cell_type": "code",
   "execution_count": 3,
   "metadata": {
    "id": "qsOiLTP600x_"
   },
   "outputs": [],
   "source": [
    "task1 = pd.read_csv('./dataset_part1_students.csv', sep='\\t')"
   ]
  },
  {
   "cell_type": "code",
   "execution_count": 4,
   "metadata": {
    "colab": {
     "base_uri": "https://localhost:8080/",
     "height": 222
    },
    "id": "Q59AmPIy00yA",
    "outputId": "92f00fa1-3e36-404d-ce8c-e30b88babd7e"
   },
   "outputs": [
    {
     "data": {
      "text/html": [
       "<div>\n",
       "<style scoped>\n",
       "    .dataframe tbody tr th:only-of-type {\n",
       "        vertical-align: middle;\n",
       "    }\n",
       "\n",
       "    .dataframe tbody tr th {\n",
       "        vertical-align: top;\n",
       "    }\n",
       "\n",
       "    .dataframe thead th {\n",
       "        text-align: right;\n",
       "    }\n",
       "</style>\n",
       "<table border=\"1\" class=\"dataframe\">\n",
       "  <thead>\n",
       "    <tr style=\"text-align: right;\">\n",
       "      <th></th>\n",
       "      <th>y</th>\n",
       "      <th>W</th>\n",
       "      <th>X_1</th>\n",
       "      <th>X_2</th>\n",
       "      <th>X_3</th>\n",
       "      <th>X_4</th>\n",
       "      <th>X_5</th>\n",
       "      <th>X_6</th>\n",
       "      <th>X_7</th>\n",
       "      <th>X_8</th>\n",
       "      <th>X_9</th>\n",
       "      <th>X_10</th>\n",
       "    </tr>\n",
       "  </thead>\n",
       "  <tbody>\n",
       "    <tr>\n",
       "      <th>0</th>\n",
       "      <td>-1.459404</td>\n",
       "      <td>0.0</td>\n",
       "      <td>0.986277</td>\n",
       "      <td>0.873392</td>\n",
       "      <td>0.509746</td>\n",
       "      <td>0.271836</td>\n",
       "      <td>0.336919</td>\n",
       "      <td>0.216954</td>\n",
       "      <td>0.276477</td>\n",
       "      <td>0.343316</td>\n",
       "      <td>0.862159</td>\n",
       "      <td>0.156700</td>\n",
       "    </tr>\n",
       "    <tr>\n",
       "      <th>1</th>\n",
       "      <td>-1.694174</td>\n",
       "      <td>0.0</td>\n",
       "      <td>0.140887</td>\n",
       "      <td>0.757080</td>\n",
       "      <td>0.736325</td>\n",
       "      <td>0.355663</td>\n",
       "      <td>0.341093</td>\n",
       "      <td>0.666803</td>\n",
       "      <td>0.217101</td>\n",
       "      <td>0.561427</td>\n",
       "      <td>0.124179</td>\n",
       "      <td>0.319736</td>\n",
       "    </tr>\n",
       "    <tr>\n",
       "      <th>2</th>\n",
       "      <td>5.378374</td>\n",
       "      <td>0.0</td>\n",
       "      <td>0.953214</td>\n",
       "      <td>0.137357</td>\n",
       "      <td>0.569413</td>\n",
       "      <td>0.975665</td>\n",
       "      <td>0.503367</td>\n",
       "      <td>0.667664</td>\n",
       "      <td>0.034191</td>\n",
       "      <td>0.456119</td>\n",
       "      <td>0.155851</td>\n",
       "      <td>0.476049</td>\n",
       "    </tr>\n",
       "    <tr>\n",
       "      <th>3</th>\n",
       "      <td>2.188189</td>\n",
       "      <td>1.0</td>\n",
       "      <td>0.169702</td>\n",
       "      <td>0.896258</td>\n",
       "      <td>0.373394</td>\n",
       "      <td>0.379693</td>\n",
       "      <td>0.858317</td>\n",
       "      <td>0.646061</td>\n",
       "      <td>0.583462</td>\n",
       "      <td>0.668350</td>\n",
       "      <td>0.177793</td>\n",
       "      <td>0.849248</td>\n",
       "    </tr>\n",
       "    <tr>\n",
       "      <th>4</th>\n",
       "      <td>2.862696</td>\n",
       "      <td>1.0</td>\n",
       "      <td>0.442373</td>\n",
       "      <td>0.831468</td>\n",
       "      <td>0.763921</td>\n",
       "      <td>0.919691</td>\n",
       "      <td>0.070573</td>\n",
       "      <td>0.156165</td>\n",
       "      <td>0.636894</td>\n",
       "      <td>0.555696</td>\n",
       "      <td>0.191929</td>\n",
       "      <td>0.425656</td>\n",
       "    </tr>\n",
       "  </tbody>\n",
       "</table>\n",
       "</div>"
      ],
      "text/plain": [
       "          y    W       X_1       X_2  ...       X_7       X_8       X_9      X_10\n",
       "0 -1.459404  0.0  0.986277  0.873392  ...  0.276477  0.343316  0.862159  0.156700\n",
       "1 -1.694174  0.0  0.140887  0.757080  ...  0.217101  0.561427  0.124179  0.319736\n",
       "2  5.378374  0.0  0.953214  0.137357  ...  0.034191  0.456119  0.155851  0.476049\n",
       "3  2.188189  1.0  0.169702  0.896258  ...  0.583462  0.668350  0.177793  0.849248\n",
       "4  2.862696  1.0  0.442373  0.831468  ...  0.636894  0.555696  0.191929  0.425656\n",
       "\n",
       "[5 rows x 12 columns]"
      ]
     },
     "execution_count": 4,
     "metadata": {
      "tags": []
     },
     "output_type": "execute_result"
    }
   ],
   "source": [
    "task1.head()"
   ]
  },
  {
   "cell_type": "code",
   "execution_count": 5,
   "metadata": {
    "colab": {
     "base_uri": "https://localhost:8080/",
     "height": 437
    },
    "id": "YWIGPs7800yC",
    "outputId": "aee24f28-ca58-4035-9d8a-6ff37186c9fd"
   },
   "outputs": [
    {
     "data": {
      "text/html": [
       "<div>\n",
       "<style scoped>\n",
       "    .dataframe tbody tr th:only-of-type {\n",
       "        vertical-align: middle;\n",
       "    }\n",
       "\n",
       "    .dataframe tbody tr th {\n",
       "        vertical-align: top;\n",
       "    }\n",
       "\n",
       "    .dataframe thead th {\n",
       "        text-align: right;\n",
       "    }\n",
       "</style>\n",
       "<table border=\"1\" class=\"dataframe\">\n",
       "  <thead>\n",
       "    <tr style=\"text-align: right;\">\n",
       "      <th></th>\n",
       "      <th>y</th>\n",
       "      <th>W</th>\n",
       "      <th>X_1</th>\n",
       "      <th>X_2</th>\n",
       "      <th>X_3</th>\n",
       "      <th>X_4</th>\n",
       "      <th>X_5</th>\n",
       "      <th>X_6</th>\n",
       "      <th>X_7</th>\n",
       "      <th>X_8</th>\n",
       "      <th>X_9</th>\n",
       "      <th>X_10</th>\n",
       "    </tr>\n",
       "  </thead>\n",
       "  <tbody>\n",
       "    <tr>\n",
       "      <th>y</th>\n",
       "      <td>1.000000</td>\n",
       "      <td>0.065850</td>\n",
       "      <td>0.008930</td>\n",
       "      <td>-0.004498</td>\n",
       "      <td>-0.011011</td>\n",
       "      <td>0.088885</td>\n",
       "      <td>0.038744</td>\n",
       "      <td>0.017261</td>\n",
       "      <td>0.007687</td>\n",
       "      <td>-0.010386</td>\n",
       "      <td>-0.009748</td>\n",
       "      <td>0.006415</td>\n",
       "    </tr>\n",
       "    <tr>\n",
       "      <th>W</th>\n",
       "      <td>0.065850</td>\n",
       "      <td>1.000000</td>\n",
       "      <td>0.348577</td>\n",
       "      <td>0.350024</td>\n",
       "      <td>-0.013377</td>\n",
       "      <td>0.005773</td>\n",
       "      <td>0.000631</td>\n",
       "      <td>0.004444</td>\n",
       "      <td>0.002942</td>\n",
       "      <td>-0.001003</td>\n",
       "      <td>0.002110</td>\n",
       "      <td>-0.001818</td>\n",
       "    </tr>\n",
       "    <tr>\n",
       "      <th>X_1</th>\n",
       "      <td>0.008930</td>\n",
       "      <td>0.348577</td>\n",
       "      <td>1.000000</td>\n",
       "      <td>-0.000354</td>\n",
       "      <td>0.001252</td>\n",
       "      <td>0.009507</td>\n",
       "      <td>-0.004616</td>\n",
       "      <td>0.011968</td>\n",
       "      <td>0.006329</td>\n",
       "      <td>0.002976</td>\n",
       "      <td>0.002121</td>\n",
       "      <td>0.004894</td>\n",
       "    </tr>\n",
       "    <tr>\n",
       "      <th>X_2</th>\n",
       "      <td>-0.004498</td>\n",
       "      <td>0.350024</td>\n",
       "      <td>-0.000354</td>\n",
       "      <td>1.000000</td>\n",
       "      <td>-0.003164</td>\n",
       "      <td>-0.006788</td>\n",
       "      <td>0.008451</td>\n",
       "      <td>0.002302</td>\n",
       "      <td>0.006326</td>\n",
       "      <td>-0.001646</td>\n",
       "      <td>-0.008786</td>\n",
       "      <td>0.002035</td>\n",
       "    </tr>\n",
       "    <tr>\n",
       "      <th>X_3</th>\n",
       "      <td>-0.011011</td>\n",
       "      <td>-0.013377</td>\n",
       "      <td>0.001252</td>\n",
       "      <td>-0.003164</td>\n",
       "      <td>1.000000</td>\n",
       "      <td>-0.003472</td>\n",
       "      <td>-0.007262</td>\n",
       "      <td>-0.003872</td>\n",
       "      <td>0.004052</td>\n",
       "      <td>-0.006677</td>\n",
       "      <td>-0.000599</td>\n",
       "      <td>-0.009377</td>\n",
       "    </tr>\n",
       "    <tr>\n",
       "      <th>X_4</th>\n",
       "      <td>0.088885</td>\n",
       "      <td>0.005773</td>\n",
       "      <td>0.009507</td>\n",
       "      <td>-0.006788</td>\n",
       "      <td>-0.003472</td>\n",
       "      <td>1.000000</td>\n",
       "      <td>-0.010954</td>\n",
       "      <td>-0.001131</td>\n",
       "      <td>0.001923</td>\n",
       "      <td>-0.002946</td>\n",
       "      <td>0.005611</td>\n",
       "      <td>0.021488</td>\n",
       "    </tr>\n",
       "    <tr>\n",
       "      <th>X_5</th>\n",
       "      <td>0.038744</td>\n",
       "      <td>0.000631</td>\n",
       "      <td>-0.004616</td>\n",
       "      <td>0.008451</td>\n",
       "      <td>-0.007262</td>\n",
       "      <td>-0.010954</td>\n",
       "      <td>1.000000</td>\n",
       "      <td>-0.008475</td>\n",
       "      <td>-0.007144</td>\n",
       "      <td>-0.003614</td>\n",
       "      <td>0.008272</td>\n",
       "      <td>-0.003380</td>\n",
       "    </tr>\n",
       "    <tr>\n",
       "      <th>X_6</th>\n",
       "      <td>0.017261</td>\n",
       "      <td>0.004444</td>\n",
       "      <td>0.011968</td>\n",
       "      <td>0.002302</td>\n",
       "      <td>-0.003872</td>\n",
       "      <td>-0.001131</td>\n",
       "      <td>-0.008475</td>\n",
       "      <td>1.000000</td>\n",
       "      <td>0.000642</td>\n",
       "      <td>0.001326</td>\n",
       "      <td>0.006686</td>\n",
       "      <td>0.005137</td>\n",
       "    </tr>\n",
       "    <tr>\n",
       "      <th>X_7</th>\n",
       "      <td>0.007687</td>\n",
       "      <td>0.002942</td>\n",
       "      <td>0.006329</td>\n",
       "      <td>0.006326</td>\n",
       "      <td>0.004052</td>\n",
       "      <td>0.001923</td>\n",
       "      <td>-0.007144</td>\n",
       "      <td>0.000642</td>\n",
       "      <td>1.000000</td>\n",
       "      <td>-0.006870</td>\n",
       "      <td>0.006863</td>\n",
       "      <td>-0.003441</td>\n",
       "    </tr>\n",
       "    <tr>\n",
       "      <th>X_8</th>\n",
       "      <td>-0.010386</td>\n",
       "      <td>-0.001003</td>\n",
       "      <td>0.002976</td>\n",
       "      <td>-0.001646</td>\n",
       "      <td>-0.006677</td>\n",
       "      <td>-0.002946</td>\n",
       "      <td>-0.003614</td>\n",
       "      <td>0.001326</td>\n",
       "      <td>-0.006870</td>\n",
       "      <td>1.000000</td>\n",
       "      <td>0.000887</td>\n",
       "      <td>-0.004628</td>\n",
       "    </tr>\n",
       "    <tr>\n",
       "      <th>X_9</th>\n",
       "      <td>-0.009748</td>\n",
       "      <td>0.002110</td>\n",
       "      <td>0.002121</td>\n",
       "      <td>-0.008786</td>\n",
       "      <td>-0.000599</td>\n",
       "      <td>0.005611</td>\n",
       "      <td>0.008272</td>\n",
       "      <td>0.006686</td>\n",
       "      <td>0.006863</td>\n",
       "      <td>0.000887</td>\n",
       "      <td>1.000000</td>\n",
       "      <td>-0.008186</td>\n",
       "    </tr>\n",
       "    <tr>\n",
       "      <th>X_10</th>\n",
       "      <td>0.006415</td>\n",
       "      <td>-0.001818</td>\n",
       "      <td>0.004894</td>\n",
       "      <td>0.002035</td>\n",
       "      <td>-0.009377</td>\n",
       "      <td>0.021488</td>\n",
       "      <td>-0.003380</td>\n",
       "      <td>0.005137</td>\n",
       "      <td>-0.003441</td>\n",
       "      <td>-0.004628</td>\n",
       "      <td>-0.008186</td>\n",
       "      <td>1.000000</td>\n",
       "    </tr>\n",
       "  </tbody>\n",
       "</table>\n",
       "</div>"
      ],
      "text/plain": [
       "             y         W       X_1  ...       X_8       X_9      X_10\n",
       "y     1.000000  0.065850  0.008930  ... -0.010386 -0.009748  0.006415\n",
       "W     0.065850  1.000000  0.348577  ... -0.001003  0.002110 -0.001818\n",
       "X_1   0.008930  0.348577  1.000000  ...  0.002976  0.002121  0.004894\n",
       "X_2  -0.004498  0.350024 -0.000354  ... -0.001646 -0.008786  0.002035\n",
       "X_3  -0.011011 -0.013377  0.001252  ... -0.006677 -0.000599 -0.009377\n",
       "X_4   0.088885  0.005773  0.009507  ... -0.002946  0.005611  0.021488\n",
       "X_5   0.038744  0.000631 -0.004616  ... -0.003614  0.008272 -0.003380\n",
       "X_6   0.017261  0.004444  0.011968  ...  0.001326  0.006686  0.005137\n",
       "X_7   0.007687  0.002942  0.006329  ... -0.006870  0.006863 -0.003441\n",
       "X_8  -0.010386 -0.001003  0.002976  ...  1.000000  0.000887 -0.004628\n",
       "X_9  -0.009748  0.002110  0.002121  ...  0.000887  1.000000 -0.008186\n",
       "X_10  0.006415 -0.001818  0.004894  ... -0.004628 -0.008186  1.000000\n",
       "\n",
       "[12 rows x 12 columns]"
      ]
     },
     "execution_count": 5,
     "metadata": {
      "tags": []
     },
     "output_type": "execute_result"
    }
   ],
   "source": [
    "task1.corr()"
   ]
  },
  {
   "cell_type": "code",
   "execution_count": 6,
   "metadata": {
    "colab": {
     "base_uri": "https://localhost:8080/",
     "height": 620
    },
    "id": "OFIEgFVj00yD",
    "outputId": "19fb7e1c-6e52-4baa-c01a-d83d7dcb4d97"
   },
   "outputs": [
    {
     "data": {
      "image/png": "[encoded data removed]",
      "text/plain": [
       "<Figure size 720x720 with 2 Axes>"
      ]
     },
     "metadata": {
      "tags": []
     },
     "output_type": "display_data"
    }
   ],
   "source": [
    "plt.figure(figsize=(10, 10))\n",
    "plt.imshow(task1.corr())\n",
    "plt.colorbar()\n",
    "plt.show()"
   ]
  },
  {
   "cell_type": "markdown",
   "metadata": {
    "id": "dJJg1CeX00yE"
   },
   "source": [
    "По двум X, а именно по X_1 и X_2 есть небольшое расхождение в treatment и control группах, также наблюдается небольшая зависимость W от X_1 и X_2 (коэффициент корреляции порядка 0.35), но не сильная. Во всех же остальных все достаточно равномерно. Тем не менее предположим unconfoundedness"
   ]
  },
  {
   "cell_type": "code",
   "execution_count": 7,
   "metadata": {
    "colab": {
     "base_uri": "https://localhost:8080/",
     "height": 499
    },
    "id": "jIn8zCgX00yF",
    "outputId": "52512299-b88e-4a51-9bf9-5d9621e9db89"
   },
   "outputs": [
    {
     "data": {
      "text/plain": [
       "Text(0.5, 1.0, 'W=1, X_2')"
      ]
     },
     "execution_count": 7,
     "metadata": {
      "tags": []
     },
     "output_type": "execute_result"
    },
    {
     "data": {
      "image/png": "[encoded data removed]",
      "text/plain": [
       "<Figure size 1382.4x777.6 with 4 Axes>"
      ]
     },
     "metadata": {
      "tags": []
     },
     "output_type": "display_data"
    }
   ],
   "source": [
    "fig, ax = plt.subplots(2, 2, figsize=(19.20, 10.80))\n",
    "task1[task1['W'] == 0].X_1.hist(ax=ax[0][0])\n",
    "ax[0][0].set_title('W=0, X_1')\n",
    "task1[task1['W'] == 1].X_1.hist(ax=ax[0][1])\n",
    "ax[0][1].set_title('W=1, X_1')\n",
    "task1[task1['W'] == 0].X_2.hist(ax=ax[1][0])\n",
    "ax[1][0].set_title('W=0, X_2')\n",
    "task1[task1['W'] == 1].X_2.hist(ax=ax[1][1])\n",
    "ax[1][1].set_title('W=1, X_2')"
   ]
  },
  {
   "cell_type": "code",
   "execution_count": 8,
   "metadata": {
    "colab": {
     "base_uri": "https://localhost:8080/",
     "height": 331
    },
    "id": "Q5t2ViUF00yG",
    "outputId": "29c14192-f3ea-463b-c12b-c02dad39adb0"
   },
   "outputs": [
    {
     "data": {
      "text/plain": [
       "<matplotlib.axes._subplots.AxesSubplot at 0x7f9fda520390>"
      ]
     },
     "execution_count": 8,
     "metadata": {
      "tags": []
     },
     "output_type": "execute_result"
    },
    {
     "data": {
      "image/png": "[encoded data removed]",
      "text/plain": [
       "<Figure size 1080x360 with 2 Axes>"
      ]
     },
     "metadata": {
      "tags": []
     },
     "output_type": "display_data"
    }
   ],
   "source": [
    "fig, ax = plt.subplots(1, 2, figsize=(15, 5))\n",
    "ax[0].set_title('Control')\n",
    "ax[1].set_title('Treatment')\n",
    "task1[task1['W'] == 0].y.hist(ax=ax[0])\n",
    "task1[task1['W'] == 1].y.hist(ax=ax[1])"
   ]
  },
  {
   "cell_type": "markdown",
   "metadata": {
    "id": "EIYxMEzJ00yH"
   },
   "source": [
    "Предположим независимость "
   ]
  },
  {
   "cell_type": "code",
   "execution_count": 9,
   "metadata": {
    "colab": {
     "base_uri": "https://localhost:8080/"
    },
    "id": "XLpBjqzx00yH",
    "outputId": "119ec161-7dd5-43cb-cbb6-4f3142bb04d3"
   },
   "outputs": [
    {
     "data": {
      "text/plain": [
       "Ttest_indResult(statistic=-9.332400850259313, pvalue=1.1400916649505329e-20)"
      ]
     },
     "execution_count": 9,
     "metadata": {
      "tags": []
     },
     "output_type": "execute_result"
    }
   ],
   "source": [
    "st.ttest_ind(task1[task1['W'] == 0].y.values, task1[task1['W'] == 1].y.values)"
   ]
  },
  {
   "cell_type": "markdown",
   "metadata": {
    "id": "aMaZTvCt00yI"
   },
   "source": [
    "Значение p-value в t-тесте получилось куда меньше 0.05, а значит мы можем отвергнуть нулевую гипотезу о равенстве средних и принять альтернативную."
   ]
  },
  {
   "cell_type": "markdown",
   "metadata": {
    "id": "qATfF9Zh00yJ"
   },
   "source": [
    "Применив предположение о независимости W от y(0) и y(1), посчитаем наивный ATE"
   ]
  },
  {
   "cell_type": "code",
   "execution_count": 10,
   "metadata": {
    "colab": {
     "base_uri": "https://localhost:8080/"
    },
    "id": "zKNbhQa700yK",
    "outputId": "f7f26e55-de3f-4f7c-d425-28116b8a3da1"
   },
   "outputs": [
    {
     "data": {
      "text/plain": [
       "0.4001031055444413"
      ]
     },
     "execution_count": 10,
     "metadata": {
      "tags": []
     },
     "output_type": "execute_result"
    }
   ],
   "source": [
    "y_mean_control = task1[task1['W'] == 0].y.mean()\n",
    "y_mean_treatment = task1[task1['W'] == 1].y.mean()\n",
    "ATE = y_mean_treatment - y_mean_control\n",
    "ATE"
   ]
  },
  {
   "cell_type": "markdown",
   "metadata": {
    "id": "YxeUEnFK00yL"
   },
   "source": [
    "Посчитаем ATE с помощью линейной регрессии, построим матрицу признаков так, что нас будет интересовать коэффициент с индексом 1, которому будет соответствовать W."
   ]
  },
  {
   "cell_type": "code",
   "execution_count": 11,
   "metadata": {
    "id": "v_1Sws0g00yL"
   },
   "outputs": [],
   "source": [
    "X = task1.drop('y', axis=1).values\n",
    "y = task1.y.values\n",
    "X = np.hstack((np.ones((20000, 1)), X))"
   ]
  },
  {
   "cell_type": "code",
   "execution_count": 12,
   "metadata": {
    "id": "TTnOO56j00yM"
   },
   "outputs": [],
   "source": [
    "def least_squares_weights(x, y):\n",
    "    w = np.linalg.inv(x.T.dot(x)).dot(x.T).dot(y)\n",
    "    return w\n",
    "\n",
    "W = least_squares_weights(X, y)"
   ]
  },
  {
   "cell_type": "code",
   "execution_count": 13,
   "metadata": {
    "colab": {
     "base_uri": "https://localhost:8080/"
    },
    "id": "6n82XsDh00yN",
    "outputId": "eb2b304c-cdb9-4c65-edd3-f29ec1de057f"
   },
   "outputs": [
    {
     "data": {
      "text/plain": [
       "array([ 1.41984951,  0.51338549, -0.2254694 , -0.35712379, -0.09795053,\n",
       "        0.93446704,  0.42135781,  0.18572004,  0.08389393, -0.10409036,\n",
       "       -0.11725869,  0.04936036])"
      ]
     },
     "execution_count": 13,
     "metadata": {
      "tags": []
     },
     "output_type": "execute_result"
    }
   ],
   "source": [
    "W"
   ]
  },
  {
   "cell_type": "code",
   "execution_count": 14,
   "metadata": {
    "colab": {
     "base_uri": "https://localhost:8080/"
    },
    "id": "uBqAvr7I00yN",
    "outputId": "10d2a925-d959-47e3-bfcf-386beb740be9"
   },
   "outputs": [
    {
     "data": {
      "text/plain": [
       "0.5133854882565599"
      ]
     },
     "execution_count": 14,
     "metadata": {
      "tags": []
     },
     "output_type": "execute_result"
    }
   ],
   "source": [
    "ATE_reg = W[1]\n",
    "ATE_reg"
   ]
  },
  {
   "cell_type": "markdown",
   "metadata": {
    "id": "mDrkSDjD00yO"
   },
   "source": [
    "Значения средних treatment и control не равны, наивным способом полученный ATE приблизительно равнен 0.4. в то время как регрессионным способом он равен приблизительно 0.51. В целом можно утверждать, что полученные разными способами ATE отличаются не сильно."
   ]
  },
  {
   "cell_type": "markdown",
   "metadata": {
    "id": "hEnmDZaX00yP"
   },
   "source": [
    "### Task 2"
   ]
  },
  {
   "cell_type": "code",
   "execution_count": 15,
   "metadata": {
    "id": "ua6HxU4t00yP"
   },
   "outputs": [],
   "source": [
    "task2 = pd.read_csv('./dataset_part2_students.csv', sep='\\t')"
   ]
  },
  {
   "cell_type": "code",
   "execution_count": 16,
   "metadata": {
    "colab": {
     "base_uri": "https://localhost:8080/",
     "height": 222
    },
    "id": "zEbGs9px00yP",
    "outputId": "ee4158e9-b6bb-46cc-b342-2d18cf349427"
   },
   "outputs": [
    {
     "data": {
      "text/html": [
       "<div>\n",
       "<style scoped>\n",
       "    .dataframe tbody tr th:only-of-type {\n",
       "        vertical-align: middle;\n",
       "    }\n",
       "\n",
       "    .dataframe tbody tr th {\n",
       "        vertical-align: top;\n",
       "    }\n",
       "\n",
       "    .dataframe thead th {\n",
       "        text-align: right;\n",
       "    }\n",
       "</style>\n",
       "<table border=\"1\" class=\"dataframe\">\n",
       "  <thead>\n",
       "    <tr style=\"text-align: right;\">\n",
       "      <th></th>\n",
       "      <th>y_1</th>\n",
       "      <th>y_0</th>\n",
       "      <th>W</th>\n",
       "      <th>X_1</th>\n",
       "      <th>X_2</th>\n",
       "      <th>X_3</th>\n",
       "      <th>X_4</th>\n",
       "      <th>X_5</th>\n",
       "      <th>X_6</th>\n",
       "      <th>X_7</th>\n",
       "      <th>X_8</th>\n",
       "      <th>X_9</th>\n",
       "      <th>X_10</th>\n",
       "    </tr>\n",
       "  </thead>\n",
       "  <tbody>\n",
       "    <tr>\n",
       "      <th>0</th>\n",
       "      <td>5.887156</td>\n",
       "      <td>2.785060</td>\n",
       "      <td>1.0</td>\n",
       "      <td>0.605978</td>\n",
       "      <td>0.733369</td>\n",
       "      <td>0.138947</td>\n",
       "      <td>0.312673</td>\n",
       "      <td>0.997243</td>\n",
       "      <td>0.128162</td>\n",
       "      <td>0.178993</td>\n",
       "      <td>0.752925</td>\n",
       "      <td>0.662161</td>\n",
       "      <td>0.784310</td>\n",
       "    </tr>\n",
       "    <tr>\n",
       "      <th>1</th>\n",
       "      <td>2.232601</td>\n",
       "      <td>5.533515</td>\n",
       "      <td>0.0</td>\n",
       "      <td>0.096894</td>\n",
       "      <td>0.058571</td>\n",
       "      <td>0.962396</td>\n",
       "      <td>0.616557</td>\n",
       "      <td>0.086630</td>\n",
       "      <td>0.561272</td>\n",
       "      <td>0.616525</td>\n",
       "      <td>0.963843</td>\n",
       "      <td>0.574304</td>\n",
       "      <td>0.371161</td>\n",
       "    </tr>\n",
       "    <tr>\n",
       "      <th>2</th>\n",
       "      <td>0.144419</td>\n",
       "      <td>0.095546</td>\n",
       "      <td>1.0</td>\n",
       "      <td>0.452145</td>\n",
       "      <td>0.201850</td>\n",
       "      <td>0.569305</td>\n",
       "      <td>0.195096</td>\n",
       "      <td>0.583704</td>\n",
       "      <td>0.476313</td>\n",
       "      <td>0.517814</td>\n",
       "      <td>0.823099</td>\n",
       "      <td>0.732225</td>\n",
       "      <td>0.069056</td>\n",
       "    </tr>\n",
       "    <tr>\n",
       "      <th>3</th>\n",
       "      <td>-2.446425</td>\n",
       "      <td>3.590472</td>\n",
       "      <td>1.0</td>\n",
       "      <td>0.672129</td>\n",
       "      <td>0.643485</td>\n",
       "      <td>0.828014</td>\n",
       "      <td>0.204469</td>\n",
       "      <td>0.617489</td>\n",
       "      <td>0.617701</td>\n",
       "      <td>0.301069</td>\n",
       "      <td>0.871741</td>\n",
       "      <td>0.589654</td>\n",
       "      <td>0.981770</td>\n",
       "    </tr>\n",
       "    <tr>\n",
       "      <th>4</th>\n",
       "      <td>2.163090</td>\n",
       "      <td>1.365405</td>\n",
       "      <td>0.0</td>\n",
       "      <td>0.442232</td>\n",
       "      <td>0.126318</td>\n",
       "      <td>0.508831</td>\n",
       "      <td>0.431786</td>\n",
       "      <td>0.915940</td>\n",
       "      <td>0.709016</td>\n",
       "      <td>0.890655</td>\n",
       "      <td>0.588886</td>\n",
       "      <td>0.636830</td>\n",
       "      <td>0.342209</td>\n",
       "    </tr>\n",
       "  </tbody>\n",
       "</table>\n",
       "</div>"
      ],
      "text/plain": [
       "        y_1       y_0    W       X_1  ...       X_7       X_8       X_9      X_10\n",
       "0  5.887156  2.785060  1.0  0.605978  ...  0.178993  0.752925  0.662161  0.784310\n",
       "1  2.232601  5.533515  0.0  0.096894  ...  0.616525  0.963843  0.574304  0.371161\n",
       "2  0.144419  0.095546  1.0  0.452145  ...  0.517814  0.823099  0.732225  0.069056\n",
       "3 -2.446425  3.590472  1.0  0.672129  ...  0.301069  0.871741  0.589654  0.981770\n",
       "4  2.163090  1.365405  0.0  0.442232  ...  0.890655  0.588886  0.636830  0.342209\n",
       "\n",
       "[5 rows x 13 columns]"
      ]
     },
     "execution_count": 16,
     "metadata": {
      "tags": []
     },
     "output_type": "execute_result"
    }
   ],
   "source": [
    "task2.head()"
   ]
  },
  {
   "cell_type": "code",
   "execution_count": 17,
   "metadata": {
    "colab": {
     "base_uri": "https://localhost:8080/",
     "height": 467
    },
    "id": "TvMvOKqb00yQ",
    "outputId": "b23e9396-3026-43a2-a330-a8a1aea8c3c6"
   },
   "outputs": [
    {
     "data": {
      "text/html": [
       "<div>\n",
       "<style scoped>\n",
       "    .dataframe tbody tr th:only-of-type {\n",
       "        vertical-align: middle;\n",
       "    }\n",
       "\n",
       "    .dataframe tbody tr th {\n",
       "        vertical-align: top;\n",
       "    }\n",
       "\n",
       "    .dataframe thead th {\n",
       "        text-align: right;\n",
       "    }\n",
       "</style>\n",
       "<table border=\"1\" class=\"dataframe\">\n",
       "  <thead>\n",
       "    <tr style=\"text-align: right;\">\n",
       "      <th></th>\n",
       "      <th>y_1</th>\n",
       "      <th>y_0</th>\n",
       "      <th>W</th>\n",
       "      <th>X_1</th>\n",
       "      <th>X_2</th>\n",
       "      <th>X_3</th>\n",
       "      <th>X_4</th>\n",
       "      <th>X_5</th>\n",
       "      <th>X_6</th>\n",
       "      <th>X_7</th>\n",
       "      <th>X_8</th>\n",
       "      <th>X_9</th>\n",
       "      <th>X_10</th>\n",
       "    </tr>\n",
       "  </thead>\n",
       "  <tbody>\n",
       "    <tr>\n",
       "      <th>y_1</th>\n",
       "      <td>1.000000</td>\n",
       "      <td>0.026080</td>\n",
       "      <td>0.103788</td>\n",
       "      <td>0.007865</td>\n",
       "      <td>0.003906</td>\n",
       "      <td>-0.019998</td>\n",
       "      <td>0.137762</td>\n",
       "      <td>0.090937</td>\n",
       "      <td>0.010558</td>\n",
       "      <td>0.028195</td>\n",
       "      <td>0.014421</td>\n",
       "      <td>-0.006330</td>\n",
       "      <td>-0.001192</td>\n",
       "    </tr>\n",
       "    <tr>\n",
       "      <th>y_0</th>\n",
       "      <td>0.026080</td>\n",
       "      <td>1.000000</td>\n",
       "      <td>-0.026940</td>\n",
       "      <td>-0.045420</td>\n",
       "      <td>-0.032895</td>\n",
       "      <td>-0.056675</td>\n",
       "      <td>0.120457</td>\n",
       "      <td>0.067586</td>\n",
       "      <td>-0.001475</td>\n",
       "      <td>0.017152</td>\n",
       "      <td>-0.005587</td>\n",
       "      <td>0.001407</td>\n",
       "      <td>0.009914</td>\n",
       "    </tr>\n",
       "    <tr>\n",
       "      <th>W</th>\n",
       "      <td>0.103788</td>\n",
       "      <td>-0.026940</td>\n",
       "      <td>1.000000</td>\n",
       "      <td>0.355977</td>\n",
       "      <td>0.341470</td>\n",
       "      <td>0.011389</td>\n",
       "      <td>-0.008195</td>\n",
       "      <td>0.006970</td>\n",
       "      <td>-0.007141</td>\n",
       "      <td>-0.005273</td>\n",
       "      <td>-0.009837</td>\n",
       "      <td>0.004040</td>\n",
       "      <td>-0.001986</td>\n",
       "    </tr>\n",
       "    <tr>\n",
       "      <th>X_1</th>\n",
       "      <td>0.007865</td>\n",
       "      <td>-0.045420</td>\n",
       "      <td>0.355977</td>\n",
       "      <td>1.000000</td>\n",
       "      <td>0.006024</td>\n",
       "      <td>0.006819</td>\n",
       "      <td>-0.009342</td>\n",
       "      <td>-0.005765</td>\n",
       "      <td>0.008396</td>\n",
       "      <td>-0.008029</td>\n",
       "      <td>-0.009670</td>\n",
       "      <td>-0.005707</td>\n",
       "      <td>0.000291</td>\n",
       "    </tr>\n",
       "    <tr>\n",
       "      <th>X_2</th>\n",
       "      <td>0.003906</td>\n",
       "      <td>-0.032895</td>\n",
       "      <td>0.341470</td>\n",
       "      <td>0.006024</td>\n",
       "      <td>1.000000</td>\n",
       "      <td>-0.016451</td>\n",
       "      <td>-0.008442</td>\n",
       "      <td>0.005985</td>\n",
       "      <td>-0.003123</td>\n",
       "      <td>0.013119</td>\n",
       "      <td>0.001638</td>\n",
       "      <td>0.019367</td>\n",
       "      <td>-0.004514</td>\n",
       "    </tr>\n",
       "    <tr>\n",
       "      <th>X_3</th>\n",
       "      <td>-0.019998</td>\n",
       "      <td>-0.056675</td>\n",
       "      <td>0.011389</td>\n",
       "      <td>0.006819</td>\n",
       "      <td>-0.016451</td>\n",
       "      <td>1.000000</td>\n",
       "      <td>-0.009480</td>\n",
       "      <td>-0.004786</td>\n",
       "      <td>-0.009218</td>\n",
       "      <td>-0.014352</td>\n",
       "      <td>-0.011449</td>\n",
       "      <td>0.008604</td>\n",
       "      <td>-0.007816</td>\n",
       "    </tr>\n",
       "    <tr>\n",
       "      <th>X_4</th>\n",
       "      <td>0.137762</td>\n",
       "      <td>0.120457</td>\n",
       "      <td>-0.008195</td>\n",
       "      <td>-0.009342</td>\n",
       "      <td>-0.008442</td>\n",
       "      <td>-0.009480</td>\n",
       "      <td>1.000000</td>\n",
       "      <td>0.013385</td>\n",
       "      <td>0.012685</td>\n",
       "      <td>-0.001230</td>\n",
       "      <td>-0.006916</td>\n",
       "      <td>0.004548</td>\n",
       "      <td>0.015459</td>\n",
       "    </tr>\n",
       "    <tr>\n",
       "      <th>X_5</th>\n",
       "      <td>0.090937</td>\n",
       "      <td>0.067586</td>\n",
       "      <td>0.006970</td>\n",
       "      <td>-0.005765</td>\n",
       "      <td>0.005985</td>\n",
       "      <td>-0.004786</td>\n",
       "      <td>0.013385</td>\n",
       "      <td>1.000000</td>\n",
       "      <td>-0.012967</td>\n",
       "      <td>0.008335</td>\n",
       "      <td>-0.003052</td>\n",
       "      <td>-0.009575</td>\n",
       "      <td>-0.004140</td>\n",
       "    </tr>\n",
       "    <tr>\n",
       "      <th>X_6</th>\n",
       "      <td>0.010558</td>\n",
       "      <td>-0.001475</td>\n",
       "      <td>-0.007141</td>\n",
       "      <td>0.008396</td>\n",
       "      <td>-0.003123</td>\n",
       "      <td>-0.009218</td>\n",
       "      <td>0.012685</td>\n",
       "      <td>-0.012967</td>\n",
       "      <td>1.000000</td>\n",
       "      <td>-0.000864</td>\n",
       "      <td>0.003833</td>\n",
       "      <td>0.004813</td>\n",
       "      <td>0.016465</td>\n",
       "    </tr>\n",
       "    <tr>\n",
       "      <th>X_7</th>\n",
       "      <td>0.028195</td>\n",
       "      <td>0.017152</td>\n",
       "      <td>-0.005273</td>\n",
       "      <td>-0.008029</td>\n",
       "      <td>0.013119</td>\n",
       "      <td>-0.014352</td>\n",
       "      <td>-0.001230</td>\n",
       "      <td>0.008335</td>\n",
       "      <td>-0.000864</td>\n",
       "      <td>1.000000</td>\n",
       "      <td>0.020473</td>\n",
       "      <td>-0.004533</td>\n",
       "      <td>-0.004545</td>\n",
       "    </tr>\n",
       "    <tr>\n",
       "      <th>X_8</th>\n",
       "      <td>0.014421</td>\n",
       "      <td>-0.005587</td>\n",
       "      <td>-0.009837</td>\n",
       "      <td>-0.009670</td>\n",
       "      <td>0.001638</td>\n",
       "      <td>-0.011449</td>\n",
       "      <td>-0.006916</td>\n",
       "      <td>-0.003052</td>\n",
       "      <td>0.003833</td>\n",
       "      <td>0.020473</td>\n",
       "      <td>1.000000</td>\n",
       "      <td>-0.004131</td>\n",
       "      <td>-0.002760</td>\n",
       "    </tr>\n",
       "    <tr>\n",
       "      <th>X_9</th>\n",
       "      <td>-0.006330</td>\n",
       "      <td>0.001407</td>\n",
       "      <td>0.004040</td>\n",
       "      <td>-0.005707</td>\n",
       "      <td>0.019367</td>\n",
       "      <td>0.008604</td>\n",
       "      <td>0.004548</td>\n",
       "      <td>-0.009575</td>\n",
       "      <td>0.004813</td>\n",
       "      <td>-0.004533</td>\n",
       "      <td>-0.004131</td>\n",
       "      <td>1.000000</td>\n",
       "      <td>-0.018944</td>\n",
       "    </tr>\n",
       "    <tr>\n",
       "      <th>X_10</th>\n",
       "      <td>-0.001192</td>\n",
       "      <td>0.009914</td>\n",
       "      <td>-0.001986</td>\n",
       "      <td>0.000291</td>\n",
       "      <td>-0.004514</td>\n",
       "      <td>-0.007816</td>\n",
       "      <td>0.015459</td>\n",
       "      <td>-0.004140</td>\n",
       "      <td>0.016465</td>\n",
       "      <td>-0.004545</td>\n",
       "      <td>-0.002760</td>\n",
       "      <td>-0.018944</td>\n",
       "      <td>1.000000</td>\n",
       "    </tr>\n",
       "  </tbody>\n",
       "</table>\n",
       "</div>"
      ],
      "text/plain": [
       "           y_1       y_0         W  ...       X_8       X_9      X_10\n",
       "y_1   1.000000  0.026080  0.103788  ...  0.014421 -0.006330 -0.001192\n",
       "y_0   0.026080  1.000000 -0.026940  ... -0.005587  0.001407  0.009914\n",
       "W     0.103788 -0.026940  1.000000  ... -0.009837  0.004040 -0.001986\n",
       "X_1   0.007865 -0.045420  0.355977  ... -0.009670 -0.005707  0.000291\n",
       "X_2   0.003906 -0.032895  0.341470  ...  0.001638  0.019367 -0.004514\n",
       "X_3  -0.019998 -0.056675  0.011389  ... -0.011449  0.008604 -0.007816\n",
       "X_4   0.137762  0.120457 -0.008195  ... -0.006916  0.004548  0.015459\n",
       "X_5   0.090937  0.067586  0.006970  ... -0.003052 -0.009575 -0.004140\n",
       "X_6   0.010558 -0.001475 -0.007141  ...  0.003833  0.004813  0.016465\n",
       "X_7   0.028195  0.017152 -0.005273  ...  0.020473 -0.004533 -0.004545\n",
       "X_8   0.014421 -0.005587 -0.009837  ...  1.000000 -0.004131 -0.002760\n",
       "X_9  -0.006330  0.001407  0.004040  ... -0.004131  1.000000 -0.018944\n",
       "X_10 -0.001192  0.009914 -0.001986  ... -0.002760 -0.018944  1.000000\n",
       "\n",
       "[13 rows x 13 columns]"
      ]
     },
     "execution_count": 17,
     "metadata": {
      "tags": []
     },
     "output_type": "execute_result"
    }
   ],
   "source": [
    "task2.corr()"
   ]
  },
  {
   "cell_type": "code",
   "execution_count": 18,
   "metadata": {
    "colab": {
     "base_uri": "https://localhost:8080/",
     "height": 620
    },
    "id": "fI8AQXKI00yR",
    "outputId": "74a6b078-8029-4c1b-e2c3-3274fec40d9b"
   },
   "outputs": [
    {
     "data": {
      "image/png": "[encoded data removed]",
      "text/plain": [
       "<Figure size 720x720 with 2 Axes>"
      ]
     },
     "metadata": {
      "tags": []
     },
     "output_type": "display_data"
    }
   ],
   "source": [
    "plt.figure(figsize=(10, 10))\n",
    "plt.imshow(task2.corr())\n",
    "plt.colorbar()\n",
    "plt.show()"
   ]
  },
  {
   "cell_type": "markdown",
   "metadata": {
    "id": "o4H31Z4U00yR"
   },
   "source": [
    "Для распределения X_1 и X_2 для treatment и control групп получаем аналогичную первому заданию ситуацию"
   ]
  },
  {
   "cell_type": "code",
   "execution_count": 19,
   "metadata": {
    "colab": {
     "base_uri": "https://localhost:8080/",
     "height": 485
    },
    "id": "xLrN7OlK00yS",
    "outputId": "e443044c-b491-4453-e8ff-33c0c68f5136"
   },
   "outputs": [
    {
     "data": {
      "image/png": "[encoded data removed]",
      "text/plain": [
       "<Figure size 1382.4x777.6 with 4 Axes>"
      ]
     },
     "metadata": {
      "tags": []
     },
     "output_type": "display_data"
    }
   ],
   "source": [
    "fig, ax = plt.subplots(2, 2, figsize=(19.20, 10.80))\n",
    "task2[task2['W'] == 0].X_1.hist(ax=ax[0][0])\n",
    "ax[0][0].set_title('W=0, X_1')\n",
    "task2[task2['W'] == 1].X_1.hist(ax=ax[0][1])\n",
    "ax[0][1].set_title('W=1, X_1')\n",
    "task2[task2['W'] == 0].X_2.hist(ax=ax[1][0])\n",
    "ax[1][0].set_title('W=0, X_2')\n",
    "task2[task2['W'] == 1].X_2.hist(ax=ax[1][1])\n",
    "ax[1][1].set_title('W=1, X_2')\n",
    "plt.show()"
   ]
  },
  {
   "cell_type": "markdown",
   "metadata": {
    "id": "GQ9GE1fQ00yZ"
   },
   "source": [
    "Опять же, предполагаем независимость и делаем t-test для сравнения средних"
   ]
  },
  {
   "cell_type": "code",
   "execution_count": 20,
   "metadata": {
    "colab": {
     "base_uri": "https://localhost:8080/"
    },
    "id": "HtZWY5Ef00yZ",
    "outputId": "62b0a645-4fb7-4571-dafe-8f989e6cdf2b"
   },
   "outputs": [
    {
     "data": {
      "text/plain": [
       "Ttest_indResult(statistic=2.6947405425339337, pvalue=0.007056118548053932)"
      ]
     },
     "execution_count": 20,
     "metadata": {
      "tags": []
     },
     "output_type": "execute_result"
    }
   ],
   "source": [
    "st.ttest_ind(task2[task2['W'] == 0].y_0.values, task2[task2['W'] == 1].y_0.values)"
   ]
  },
  {
   "cell_type": "code",
   "execution_count": 21,
   "metadata": {
    "colab": {
     "base_uri": "https://localhost:8080/"
    },
    "id": "hSfz-CLn00ya",
    "outputId": "5ebaeea2-d68a-43b9-c590-5f823664fbbc"
   },
   "outputs": [
    {
     "data": {
      "text/plain": [
       "Ttest_indResult(statistic=-10.434076818229196, pvalue=2.3383131389683154e-25)"
      ]
     },
     "execution_count": 21,
     "metadata": {
      "tags": []
     },
     "output_type": "execute_result"
    }
   ],
   "source": [
    "st.ttest_ind(task2[task2['W'] == 0].y_1.values, task2[task2['W'] == 1].y_1.values)"
   ]
  },
  {
   "cell_type": "markdown",
   "metadata": {
    "id": "3sRGtdof00yb"
   },
   "source": [
    "В обоих случаях (до и после эксперимента), получаем значимые различия в средних, значит у нас уже перед проведением эксперимента были значимые различия в целевой переменной"
   ]
  },
  {
   "cell_type": "code",
   "execution_count": 22,
   "metadata": {
    "colab": {
     "base_uri": "https://localhost:8080/",
     "height": 473
    },
    "id": "fDsXv0V500yb",
    "outputId": "d9496a62-ef3e-4902-ea31-c2495e4a9c5d"
   },
   "outputs": [
    {
     "data": {
      "image/png": "[encoded data removed]",
      "text/plain": [
       "<Figure size 1382.4x777.6 with 1 Axes>"
      ]
     },
     "metadata": {
      "tags": []
     },
     "output_type": "display_data"
    }
   ],
   "source": [
    "plt.figure(figsize=(19.20, 10.80))\n",
    "plt.plot([task2[task2['W'] == 0].y_0.mean(), task2[task2['W'] == 0].y_1.mean()], 'b--*', lw=2, markersize=15, label='Control')\n",
    "plt.plot([task2[task2['W'] == 1].y_0.mean(), task2[task2['W'] == 1].y_1.mean()], 'r--*', lw=2, markersize=15, label='Treatment')\n",
    "plt.grid(True)\n",
    "plt.legend(loc='upper left')\n",
    "plt.show()"
   ]
  },
  {
   "cell_type": "markdown",
   "metadata": {
    "id": "BSZOH-Do00yc"
   },
   "source": [
    "Также моем оценить наивный ATE"
   ]
  },
  {
   "cell_type": "code",
   "execution_count": 23,
   "metadata": {
    "colab": {
     "base_uri": "https://localhost:8080/"
    },
    "id": "gYTN8vOG00yc",
    "outputId": "3442f5ac-bede-478d-983f-15a8d43bb8ea"
   },
   "outputs": [
    {
     "data": {
      "text/plain": [
       "0.4312515969250956"
      ]
     },
     "execution_count": 23,
     "metadata": {
      "tags": []
     },
     "output_type": "execute_result"
    }
   ],
   "source": [
    "y_mean_control = task2[task2['W'] == 0].y_1.mean()\n",
    "y_mean_treatment = task2[task2['W'] == 1].y_1.mean()\n",
    "ATE = y_mean_treatment - y_mean_control\n",
    "ATE"
   ]
  },
  {
   "cell_type": "markdown",
   "metadata": {
    "id": "VZ7tVRZO00yd"
   },
   "source": [
    "И посчитать ATE регрессией, аналогично первому пункту"
   ]
  },
  {
   "cell_type": "code",
   "execution_count": 24,
   "metadata": {
    "id": "JVNuqDB700yd"
   },
   "outputs": [],
   "source": [
    "X = task2.drop(['y_1', 'y_0'], axis=1).values\n",
    "y = task2.y_1.values\n",
    "X = np.hstack((np.ones((10000, 1)), X))"
   ]
  },
  {
   "cell_type": "code",
   "execution_count": 25,
   "metadata": {
    "id": "JHGueoSD00ye"
   },
   "outputs": [],
   "source": [
    "W = least_squares_weights(X, y)"
   ]
  },
  {
   "cell_type": "code",
   "execution_count": 26,
   "metadata": {
    "colab": {
     "base_uri": "https://localhost:8080/"
    },
    "id": "rKZEgaby00ye",
    "outputId": "575c67f7-0b34-4fbf-bac9-47ab54ccf58c"
   },
   "outputs": [
    {
     "data": {
      "text/plain": [
       "array([ 1.19668021,  0.54819353, -0.26450508, -0.29520182, -0.13939715,\n",
       "        0.98123444,  0.630464  ,  0.07867569,  0.20037582,  0.11304867,\n",
       "       -0.04206806, -0.02257477])"
      ]
     },
     "execution_count": 26,
     "metadata": {
      "tags": []
     },
     "output_type": "execute_result"
    }
   ],
   "source": [
    "W"
   ]
  },
  {
   "cell_type": "code",
   "execution_count": 27,
   "metadata": {
    "colab": {
     "base_uri": "https://localhost:8080/"
    },
    "id": "wmNxXH6s00yf",
    "outputId": "50f205d8-d52c-4cb0-ea79-13a6dfcdd0a7"
   },
   "outputs": [
    {
     "data": {
      "text/plain": [
       "0.5481935343179251"
      ]
     },
     "execution_count": 27,
     "metadata": {
      "tags": []
     },
     "output_type": "execute_result"
    }
   ],
   "source": [
    "ATE_reg = W[1]\n",
    "ATE_reg"
   ]
  },
  {
   "cell_type": "markdown",
   "metadata": {
    "id": "1NTPwGbN00yf"
   },
   "source": [
    "Теперь перейдем к оценкам ATE с использованием данных до эксперимента"
   ]
  },
  {
   "cell_type": "code",
   "execution_count": 28,
   "metadata": {
    "id": "J2igKQRs00yg"
   },
   "outputs": [],
   "source": [
    "task2['vid'] = task2.index.tolist()"
   ]
  },
  {
   "cell_type": "code",
   "execution_count": 29,
   "metadata": {
    "colab": {
     "base_uri": "https://localhost:8080/",
     "height": 222
    },
    "id": "XyVfFLWm00yg",
    "outputId": "3917eb84-f43f-4daf-98a7-5784bad1a4df"
   },
   "outputs": [
    {
     "data": {
      "text/html": [
       "<div>\n",
       "<style scoped>\n",
       "    .dataframe tbody tr th:only-of-type {\n",
       "        vertical-align: middle;\n",
       "    }\n",
       "\n",
       "    .dataframe tbody tr th {\n",
       "        vertical-align: top;\n",
       "    }\n",
       "\n",
       "    .dataframe thead th {\n",
       "        text-align: right;\n",
       "    }\n",
       "</style>\n",
       "<table border=\"1\" class=\"dataframe\">\n",
       "  <thead>\n",
       "    <tr style=\"text-align: right;\">\n",
       "      <th></th>\n",
       "      <th>y_1</th>\n",
       "      <th>y_0</th>\n",
       "      <th>W</th>\n",
       "      <th>X_1</th>\n",
       "      <th>X_2</th>\n",
       "      <th>X_3</th>\n",
       "      <th>X_4</th>\n",
       "      <th>X_5</th>\n",
       "      <th>X_6</th>\n",
       "      <th>X_7</th>\n",
       "      <th>X_8</th>\n",
       "      <th>X_9</th>\n",
       "      <th>X_10</th>\n",
       "      <th>vid</th>\n",
       "    </tr>\n",
       "  </thead>\n",
       "  <tbody>\n",
       "    <tr>\n",
       "      <th>0</th>\n",
       "      <td>5.887156</td>\n",
       "      <td>2.785060</td>\n",
       "      <td>1.0</td>\n",
       "      <td>0.605978</td>\n",
       "      <td>0.733369</td>\n",
       "      <td>0.138947</td>\n",
       "      <td>0.312673</td>\n",
       "      <td>0.997243</td>\n",
       "      <td>0.128162</td>\n",
       "      <td>0.178993</td>\n",
       "      <td>0.752925</td>\n",
       "      <td>0.662161</td>\n",
       "      <td>0.784310</td>\n",
       "      <td>0</td>\n",
       "    </tr>\n",
       "    <tr>\n",
       "      <th>1</th>\n",
       "      <td>2.232601</td>\n",
       "      <td>5.533515</td>\n",
       "      <td>0.0</td>\n",
       "      <td>0.096894</td>\n",
       "      <td>0.058571</td>\n",
       "      <td>0.962396</td>\n",
       "      <td>0.616557</td>\n",
       "      <td>0.086630</td>\n",
       "      <td>0.561272</td>\n",
       "      <td>0.616525</td>\n",
       "      <td>0.963843</td>\n",
       "      <td>0.574304</td>\n",
       "      <td>0.371161</td>\n",
       "      <td>1</td>\n",
       "    </tr>\n",
       "    <tr>\n",
       "      <th>2</th>\n",
       "      <td>0.144419</td>\n",
       "      <td>0.095546</td>\n",
       "      <td>1.0</td>\n",
       "      <td>0.452145</td>\n",
       "      <td>0.201850</td>\n",
       "      <td>0.569305</td>\n",
       "      <td>0.195096</td>\n",
       "      <td>0.583704</td>\n",
       "      <td>0.476313</td>\n",
       "      <td>0.517814</td>\n",
       "      <td>0.823099</td>\n",
       "      <td>0.732225</td>\n",
       "      <td>0.069056</td>\n",
       "      <td>2</td>\n",
       "    </tr>\n",
       "    <tr>\n",
       "      <th>3</th>\n",
       "      <td>-2.446425</td>\n",
       "      <td>3.590472</td>\n",
       "      <td>1.0</td>\n",
       "      <td>0.672129</td>\n",
       "      <td>0.643485</td>\n",
       "      <td>0.828014</td>\n",
       "      <td>0.204469</td>\n",
       "      <td>0.617489</td>\n",
       "      <td>0.617701</td>\n",
       "      <td>0.301069</td>\n",
       "      <td>0.871741</td>\n",
       "      <td>0.589654</td>\n",
       "      <td>0.981770</td>\n",
       "      <td>3</td>\n",
       "    </tr>\n",
       "    <tr>\n",
       "      <th>4</th>\n",
       "      <td>2.163090</td>\n",
       "      <td>1.365405</td>\n",
       "      <td>0.0</td>\n",
       "      <td>0.442232</td>\n",
       "      <td>0.126318</td>\n",
       "      <td>0.508831</td>\n",
       "      <td>0.431786</td>\n",
       "      <td>0.915940</td>\n",
       "      <td>0.709016</td>\n",
       "      <td>0.890655</td>\n",
       "      <td>0.588886</td>\n",
       "      <td>0.636830</td>\n",
       "      <td>0.342209</td>\n",
       "      <td>4</td>\n",
       "    </tr>\n",
       "  </tbody>\n",
       "</table>\n",
       "</div>"
      ],
      "text/plain": [
       "        y_1       y_0    W       X_1  ...       X_8       X_9      X_10  vid\n",
       "0  5.887156  2.785060  1.0  0.605978  ...  0.752925  0.662161  0.784310    0\n",
       "1  2.232601  5.533515  0.0  0.096894  ...  0.963843  0.574304  0.371161    1\n",
       "2  0.144419  0.095546  1.0  0.452145  ...  0.823099  0.732225  0.069056    2\n",
       "3 -2.446425  3.590472  1.0  0.672129  ...  0.871741  0.589654  0.981770    3\n",
       "4  2.163090  1.365405  0.0  0.442232  ...  0.588886  0.636830  0.342209    4\n",
       "\n",
       "[5 rows x 14 columns]"
      ]
     },
     "execution_count": 29,
     "metadata": {
      "tags": []
     },
     "output_type": "execute_result"
    }
   ],
   "source": [
    "task2.head()"
   ]
  },
  {
   "cell_type": "markdown",
   "metadata": {
    "id": "-rz4L6oW00yh"
   },
   "source": [
    "Создадим дополнительный DataFrame, в котором вытянем два значения y в один столбец, и сделаем необходимые дополнительные признаки для difference in differences"
   ]
  },
  {
   "cell_type": "code",
   "execution_count": 30,
   "metadata": {
    "id": "GZQhFVuD00yh"
   },
   "outputs": [],
   "source": [
    "new_task2 = pd.concat((task2['y_1'], task2['y_0'])).to_frame().reset_index().rename({0:'y', 'index':'vid'}, axis=1)\n",
    "new_task2 = new_task2.merge(task2, on='vid').drop(['y_1', 'y_0'], axis=1)"
   ]
  },
  {
   "cell_type": "code",
   "execution_count": 31,
   "metadata": {
    "colab": {
     "base_uri": "https://localhost:8080/",
     "height": 222
    },
    "id": "51EfE-rd00yi",
    "outputId": "5cf4236b-bd2b-43fa-be5b-b07f8327f573"
   },
   "outputs": [
    {
     "data": {
      "text/html": [
       "<div>\n",
       "<style scoped>\n",
       "    .dataframe tbody tr th:only-of-type {\n",
       "        vertical-align: middle;\n",
       "    }\n",
       "\n",
       "    .dataframe tbody tr th {\n",
       "        vertical-align: top;\n",
       "    }\n",
       "\n",
       "    .dataframe thead th {\n",
       "        text-align: right;\n",
       "    }\n",
       "</style>\n",
       "<table border=\"1\" class=\"dataframe\">\n",
       "  <thead>\n",
       "    <tr style=\"text-align: right;\">\n",
       "      <th></th>\n",
       "      <th>vid</th>\n",
       "      <th>y</th>\n",
       "      <th>W</th>\n",
       "      <th>X_1</th>\n",
       "      <th>X_2</th>\n",
       "      <th>X_3</th>\n",
       "      <th>X_4</th>\n",
       "      <th>X_5</th>\n",
       "      <th>X_6</th>\n",
       "      <th>X_7</th>\n",
       "      <th>X_8</th>\n",
       "      <th>X_9</th>\n",
       "      <th>X_10</th>\n",
       "    </tr>\n",
       "  </thead>\n",
       "  <tbody>\n",
       "    <tr>\n",
       "      <th>0</th>\n",
       "      <td>0</td>\n",
       "      <td>5.887156</td>\n",
       "      <td>1.0</td>\n",
       "      <td>0.605978</td>\n",
       "      <td>0.733369</td>\n",
       "      <td>0.138947</td>\n",
       "      <td>0.312673</td>\n",
       "      <td>0.997243</td>\n",
       "      <td>0.128162</td>\n",
       "      <td>0.178993</td>\n",
       "      <td>0.752925</td>\n",
       "      <td>0.662161</td>\n",
       "      <td>0.784310</td>\n",
       "    </tr>\n",
       "    <tr>\n",
       "      <th>1</th>\n",
       "      <td>0</td>\n",
       "      <td>2.785060</td>\n",
       "      <td>1.0</td>\n",
       "      <td>0.605978</td>\n",
       "      <td>0.733369</td>\n",
       "      <td>0.138947</td>\n",
       "      <td>0.312673</td>\n",
       "      <td>0.997243</td>\n",
       "      <td>0.128162</td>\n",
       "      <td>0.178993</td>\n",
       "      <td>0.752925</td>\n",
       "      <td>0.662161</td>\n",
       "      <td>0.784310</td>\n",
       "    </tr>\n",
       "    <tr>\n",
       "      <th>2</th>\n",
       "      <td>1</td>\n",
       "      <td>2.232601</td>\n",
       "      <td>0.0</td>\n",
       "      <td>0.096894</td>\n",
       "      <td>0.058571</td>\n",
       "      <td>0.962396</td>\n",
       "      <td>0.616557</td>\n",
       "      <td>0.086630</td>\n",
       "      <td>0.561272</td>\n",
       "      <td>0.616525</td>\n",
       "      <td>0.963843</td>\n",
       "      <td>0.574304</td>\n",
       "      <td>0.371161</td>\n",
       "    </tr>\n",
       "    <tr>\n",
       "      <th>3</th>\n",
       "      <td>1</td>\n",
       "      <td>5.533515</td>\n",
       "      <td>0.0</td>\n",
       "      <td>0.096894</td>\n",
       "      <td>0.058571</td>\n",
       "      <td>0.962396</td>\n",
       "      <td>0.616557</td>\n",
       "      <td>0.086630</td>\n",
       "      <td>0.561272</td>\n",
       "      <td>0.616525</td>\n",
       "      <td>0.963843</td>\n",
       "      <td>0.574304</td>\n",
       "      <td>0.371161</td>\n",
       "    </tr>\n",
       "    <tr>\n",
       "      <th>4</th>\n",
       "      <td>2</td>\n",
       "      <td>0.144419</td>\n",
       "      <td>1.0</td>\n",
       "      <td>0.452145</td>\n",
       "      <td>0.201850</td>\n",
       "      <td>0.569305</td>\n",
       "      <td>0.195096</td>\n",
       "      <td>0.583704</td>\n",
       "      <td>0.476313</td>\n",
       "      <td>0.517814</td>\n",
       "      <td>0.823099</td>\n",
       "      <td>0.732225</td>\n",
       "      <td>0.069056</td>\n",
       "    </tr>\n",
       "  </tbody>\n",
       "</table>\n",
       "</div>"
      ],
      "text/plain": [
       "   vid         y    W       X_1  ...       X_7       X_8       X_9      X_10\n",
       "0    0  5.887156  1.0  0.605978  ...  0.178993  0.752925  0.662161  0.784310\n",
       "1    0  2.785060  1.0  0.605978  ...  0.178993  0.752925  0.662161  0.784310\n",
       "2    1  2.232601  0.0  0.096894  ...  0.616525  0.963843  0.574304  0.371161\n",
       "3    1  5.533515  0.0  0.096894  ...  0.616525  0.963843  0.574304  0.371161\n",
       "4    2  0.144419  1.0  0.452145  ...  0.517814  0.823099  0.732225  0.069056\n",
       "\n",
       "[5 rows x 13 columns]"
      ]
     },
     "execution_count": 31,
     "metadata": {
      "tags": []
     },
     "output_type": "execute_result"
    }
   ],
   "source": [
    "new_task2.head()"
   ]
  },
  {
   "cell_type": "markdown",
   "metadata": {
    "id": "LeEAQm2000yj"
   },
   "source": [
    "Таким наивным способом (но рабочим, исходя из того как я делал merge), создадим переменную-индикатор для времени, назовем его time, создадим фиктивную переменную для учета intercept, а также создадим переменную-произведение времени и индикатора времени и W"
   ]
  },
  {
   "cell_type": "code",
   "execution_count": 32,
   "metadata": {
    "id": "YzijNow900yj"
   },
   "outputs": [],
   "source": [
    "lst = []\n",
    "for i in range(10000):\n",
    "    lst.extend([1, 0])"
   ]
  },
  {
   "cell_type": "code",
   "execution_count": 33,
   "metadata": {
    "id": "C4lR2Pqv00yk"
   },
   "outputs": [],
   "source": [
    "new_task2['time'] = lst\n",
    "new_task2['intercept'] = 1\n",
    "new_task2['t_w'] = new_task2['time'] * new_task2['W']"
   ]
  },
  {
   "cell_type": "code",
   "execution_count": 34,
   "metadata": {
    "colab": {
     "base_uri": "https://localhost:8080/",
     "height": 222
    },
    "id": "w7_6Yzwh00yk",
    "outputId": "751a6115-eb41-4e38-e822-0d856e36e679"
   },
   "outputs": [
    {
     "data": {
      "text/html": [
       "<div>\n",
       "<style scoped>\n",
       "    .dataframe tbody tr th:only-of-type {\n",
       "        vertical-align: middle;\n",
       "    }\n",
       "\n",
       "    .dataframe tbody tr th {\n",
       "        vertical-align: top;\n",
       "    }\n",
       "\n",
       "    .dataframe thead th {\n",
       "        text-align: right;\n",
       "    }\n",
       "</style>\n",
       "<table border=\"1\" class=\"dataframe\">\n",
       "  <thead>\n",
       "    <tr style=\"text-align: right;\">\n",
       "      <th></th>\n",
       "      <th>vid</th>\n",
       "      <th>y</th>\n",
       "      <th>W</th>\n",
       "      <th>X_1</th>\n",
       "      <th>X_2</th>\n",
       "      <th>X_3</th>\n",
       "      <th>X_4</th>\n",
       "      <th>X_5</th>\n",
       "      <th>X_6</th>\n",
       "      <th>X_7</th>\n",
       "      <th>X_8</th>\n",
       "      <th>X_9</th>\n",
       "      <th>X_10</th>\n",
       "      <th>time</th>\n",
       "      <th>intercept</th>\n",
       "      <th>t_w</th>\n",
       "    </tr>\n",
       "  </thead>\n",
       "  <tbody>\n",
       "    <tr>\n",
       "      <th>0</th>\n",
       "      <td>0</td>\n",
       "      <td>5.887156</td>\n",
       "      <td>1.0</td>\n",
       "      <td>0.605978</td>\n",
       "      <td>0.733369</td>\n",
       "      <td>0.138947</td>\n",
       "      <td>0.312673</td>\n",
       "      <td>0.997243</td>\n",
       "      <td>0.128162</td>\n",
       "      <td>0.178993</td>\n",
       "      <td>0.752925</td>\n",
       "      <td>0.662161</td>\n",
       "      <td>0.784310</td>\n",
       "      <td>1</td>\n",
       "      <td>1</td>\n",
       "      <td>1.0</td>\n",
       "    </tr>\n",
       "    <tr>\n",
       "      <th>1</th>\n",
       "      <td>0</td>\n",
       "      <td>2.785060</td>\n",
       "      <td>1.0</td>\n",
       "      <td>0.605978</td>\n",
       "      <td>0.733369</td>\n",
       "      <td>0.138947</td>\n",
       "      <td>0.312673</td>\n",
       "      <td>0.997243</td>\n",
       "      <td>0.128162</td>\n",
       "      <td>0.178993</td>\n",
       "      <td>0.752925</td>\n",
       "      <td>0.662161</td>\n",
       "      <td>0.784310</td>\n",
       "      <td>0</td>\n",
       "      <td>1</td>\n",
       "      <td>0.0</td>\n",
       "    </tr>\n",
       "    <tr>\n",
       "      <th>2</th>\n",
       "      <td>1</td>\n",
       "      <td>2.232601</td>\n",
       "      <td>0.0</td>\n",
       "      <td>0.096894</td>\n",
       "      <td>0.058571</td>\n",
       "      <td>0.962396</td>\n",
       "      <td>0.616557</td>\n",
       "      <td>0.086630</td>\n",
       "      <td>0.561272</td>\n",
       "      <td>0.616525</td>\n",
       "      <td>0.963843</td>\n",
       "      <td>0.574304</td>\n",
       "      <td>0.371161</td>\n",
       "      <td>1</td>\n",
       "      <td>1</td>\n",
       "      <td>0.0</td>\n",
       "    </tr>\n",
       "    <tr>\n",
       "      <th>3</th>\n",
       "      <td>1</td>\n",
       "      <td>5.533515</td>\n",
       "      <td>0.0</td>\n",
       "      <td>0.096894</td>\n",
       "      <td>0.058571</td>\n",
       "      <td>0.962396</td>\n",
       "      <td>0.616557</td>\n",
       "      <td>0.086630</td>\n",
       "      <td>0.561272</td>\n",
       "      <td>0.616525</td>\n",
       "      <td>0.963843</td>\n",
       "      <td>0.574304</td>\n",
       "      <td>0.371161</td>\n",
       "      <td>0</td>\n",
       "      <td>1</td>\n",
       "      <td>0.0</td>\n",
       "    </tr>\n",
       "    <tr>\n",
       "      <th>4</th>\n",
       "      <td>2</td>\n",
       "      <td>0.144419</td>\n",
       "      <td>1.0</td>\n",
       "      <td>0.452145</td>\n",
       "      <td>0.201850</td>\n",
       "      <td>0.569305</td>\n",
       "      <td>0.195096</td>\n",
       "      <td>0.583704</td>\n",
       "      <td>0.476313</td>\n",
       "      <td>0.517814</td>\n",
       "      <td>0.823099</td>\n",
       "      <td>0.732225</td>\n",
       "      <td>0.069056</td>\n",
       "      <td>1</td>\n",
       "      <td>1</td>\n",
       "      <td>1.0</td>\n",
       "    </tr>\n",
       "  </tbody>\n",
       "</table>\n",
       "</div>"
      ],
      "text/plain": [
       "   vid         y    W       X_1  ...      X_10  time  intercept  t_w\n",
       "0    0  5.887156  1.0  0.605978  ...  0.784310     1          1  1.0\n",
       "1    0  2.785060  1.0  0.605978  ...  0.784310     0          1  0.0\n",
       "2    1  2.232601  0.0  0.096894  ...  0.371161     1          1  0.0\n",
       "3    1  5.533515  0.0  0.096894  ...  0.371161     0          1  0.0\n",
       "4    2  0.144419  1.0  0.452145  ...  0.069056     1          1  1.0\n",
       "\n",
       "[5 rows x 16 columns]"
      ]
     },
     "execution_count": 34,
     "metadata": {
      "tags": []
     },
     "output_type": "execute_result"
    }
   ],
   "source": [
    "new_task2.head()"
   ]
  },
  {
   "cell_type": "markdown",
   "metadata": {
    "id": "boS0RhDt00yl"
   },
   "source": [
    "Теперь создадим переменные для регрессии difference in differences (intercept, индикатор момента времени, индикатор принадлежности к целевой группе и произведение двух последних)"
   ]
  },
  {
   "cell_type": "code",
   "execution_count": 35,
   "metadata": {
    "id": "fxUVYqJR00yl"
   },
   "outputs": [],
   "source": [
    "X = new_task2[['intercept', 'time', 'W', 't_w']].values\n",
    "y = new_task2['y'].values"
   ]
  },
  {
   "cell_type": "markdown",
   "metadata": {
    "id": "hT2wGZwP00ym"
   },
   "source": [
    "Построим регрессионную модель, и получим ATE, он будет коэффициентом при последней переменной"
   ]
  },
  {
   "cell_type": "code",
   "execution_count": 36,
   "metadata": {
    "colab": {
     "base_uri": "https://localhost:8080/"
    },
    "id": "6Nc2AHPQ00ym",
    "outputId": "4b262221-703d-4acd-d98f-96795fbbcb77"
   },
   "outputs": [
    {
     "data": {
      "text/plain": [
       "array([ 0.81618702,  1.06235456, -0.12365317,  0.55490477])"
      ]
     },
     "execution_count": 36,
     "metadata": {
      "tags": []
     },
     "output_type": "execute_result"
    }
   ],
   "source": [
    "W = least_squares_weights(X, y)\n",
    "W"
   ]
  },
  {
   "cell_type": "code",
   "execution_count": 37,
   "metadata": {
    "colab": {
     "base_uri": "https://localhost:8080/"
    },
    "id": "nkznE27s00yn",
    "outputId": "59431ceb-d45c-4b7b-a622-7be6c406da71"
   },
   "outputs": [
    {
     "data": {
      "text/plain": [
       "0.5549047702971186"
      ]
     },
     "execution_count": 37,
     "metadata": {
      "tags": []
     },
     "output_type": "execute_result"
    }
   ],
   "source": [
    "ATE_diff_in_diff = W[3]\n",
    "ATE_diff_in_diff"
   ]
  },
  {
   "cell_type": "markdown",
   "metadata": {
    "id": "qxEnAHRv00yn"
   },
   "source": [
    "Получили ATE с помощью difference in differences, получился очень схожим с оценкой обычной регрессией. Теперь сделаем оценку ANCOVA"
   ]
  },
  {
   "cell_type": "code",
   "execution_count": 38,
   "metadata": {
    "id": "hOtJTfv000yn"
   },
   "outputs": [],
   "source": [
    "task2['intercept'] = 1"
   ]
  },
  {
   "cell_type": "code",
   "execution_count": 39,
   "metadata": {
    "id": "20p_Vmrg00yo"
   },
   "outputs": [],
   "source": [
    "X = task2[['intercept', 'y_0', 'W']]\n",
    "y = task2.y_1.values"
   ]
  },
  {
   "cell_type": "code",
   "execution_count": 40,
   "metadata": {
    "id": "inCw9G5_00yo"
   },
   "outputs": [],
   "source": [
    "W = least_squares_weights(X, y)"
   ]
  },
  {
   "cell_type": "code",
   "execution_count": 41,
   "metadata": {
    "colab": {
     "base_uri": "https://localhost:8080/"
    },
    "id": "ZMup4lMZ00yp",
    "outputId": "66c40969-7fb3-492c-85a1-6dacc798a58b"
   },
   "outputs": [
    {
     "data": {
      "text/plain": [
       "0.43448638144566576"
      ]
     },
     "execution_count": 41,
     "metadata": {
      "tags": []
     },
     "output_type": "execute_result"
    }
   ],
   "source": [
    "ATE_ancova = W[2]\n",
    "ATE_ancova"
   ]
  },
  {
   "cell_type": "markdown",
   "metadata": {
    "id": "jBpWnPfT00yp"
   },
   "source": [
    "Учитывая y_0, получаем оценку, близкую к наивной оценке, попробуем с учетом X_1 и X_2, которые, как показано выше лучше всего коррелируют с y_1"
   ]
  },
  {
   "cell_type": "code",
   "execution_count": 42,
   "metadata": {
    "id": "uQZWW3tN00yq"
   },
   "outputs": [],
   "source": [
    "X = task2[['intercept', 'X_1', 'X_2', 'W']]\n",
    "y = task2.y_1.values"
   ]
  },
  {
   "cell_type": "code",
   "execution_count": 43,
   "metadata": {
    "id": "uw3Vw5Q100yq"
   },
   "outputs": [],
   "source": [
    "W = least_squares_weights(X, y)"
   ]
  },
  {
   "cell_type": "code",
   "execution_count": 44,
   "metadata": {
    "colab": {
     "base_uri": "https://localhost:8080/"
    },
    "id": "IXRJKDUE00yq",
    "outputId": "3a550409-3b34-4070-b840-1d341e7ad2ac"
   },
   "outputs": [
    {
     "data": {
      "text/plain": [
       "0.5463124912303482"
      ]
     },
     "execution_count": 44,
     "metadata": {
      "tags": []
     },
     "output_type": "execute_result"
    }
   ],
   "source": [
    "ATE_ancova = W[3]\n",
    "ATE_ancova"
   ]
  },
  {
   "cell_type": "markdown",
   "metadata": {
    "id": "RVjwW2fB00yr"
   },
   "source": [
    "Получаем оценку, близкую к difference in differences и регрессии."
   ]
  },
  {
   "cell_type": "markdown",
   "metadata": {
    "id": "mvZwDsa100yr"
   },
   "source": [
    "В результате можно сказать, что наиболее применимые в данном случае методы оценки это difference in differences и ANCOVA, оба показали значение около 0.55"
   ]
  },
  {
   "cell_type": "markdown",
   "metadata": {
    "id": "CWQAiEVz00ys"
   },
   "source": [
    "### Task 3"
   ]
  },
  {
   "cell_type": "code",
   "execution_count": 45,
   "metadata": {
    "id": "eMTbqg3H00ys"
   },
   "outputs": [],
   "source": [
    "task3 = pd.read_csv('./dataset_part3_students.csv', sep='\\t')"
   ]
  },
  {
   "cell_type": "code",
   "execution_count": 46,
   "metadata": {
    "colab": {
     "base_uri": "https://localhost:8080/",
     "height": 222
    },
    "id": "1ezVBkis00yt",
    "outputId": "ff5eed6e-b757-4f7c-d8bc-82d09181989a"
   },
   "outputs": [
    {
     "data": {
      "text/html": [
       "<div>\n",
       "<style scoped>\n",
       "    .dataframe tbody tr th:only-of-type {\n",
       "        vertical-align: middle;\n",
       "    }\n",
       "\n",
       "    .dataframe tbody tr th {\n",
       "        vertical-align: top;\n",
       "    }\n",
       "\n",
       "    .dataframe thead th {\n",
       "        text-align: right;\n",
       "    }\n",
       "</style>\n",
       "<table border=\"1\" class=\"dataframe\">\n",
       "  <thead>\n",
       "    <tr style=\"text-align: right;\">\n",
       "      <th></th>\n",
       "      <th>treatment</th>\n",
       "      <th>X_1</th>\n",
       "      <th>X_2</th>\n",
       "      <th>X_3</th>\n",
       "      <th>X_4</th>\n",
       "      <th>X_5</th>\n",
       "      <th>X_6</th>\n",
       "      <th>X_7</th>\n",
       "      <th>X_8</th>\n",
       "      <th>X_9</th>\n",
       "      <th>X_10</th>\n",
       "      <th>X_11</th>\n",
       "      <th>X_12</th>\n",
       "      <th>X_13</th>\n",
       "      <th>X_14</th>\n",
       "      <th>X_15</th>\n",
       "      <th>X_16</th>\n",
       "      <th>X_17</th>\n",
       "      <th>X_18</th>\n",
       "      <th>X_19</th>\n",
       "      <th>X_20</th>\n",
       "      <th>X_21</th>\n",
       "      <th>X_22</th>\n",
       "      <th>conversion</th>\n",
       "    </tr>\n",
       "  </thead>\n",
       "  <tbody>\n",
       "    <tr>\n",
       "      <th>0</th>\n",
       "      <td>control</td>\n",
       "      <td>0.034351</td>\n",
       "      <td>0.550725</td>\n",
       "      <td>-1.348524</td>\n",
       "      <td>-0.029591</td>\n",
       "      <td>0.499535</td>\n",
       "      <td>-0.412464</td>\n",
       "      <td>0.933588</td>\n",
       "      <td>-0.522954</td>\n",
       "      <td>-0.029591</td>\n",
       "      <td>-0.807218</td>\n",
       "      <td>1.318646</td>\n",
       "      <td>-0.065262</td>\n",
       "      <td>-0.956947</td>\n",
       "      <td>-0.314573</td>\n",
       "      <td>-0.879456</td>\n",
       "      <td>0.640264</td>\n",
       "      <td>1.165722</td>\n",
       "      <td>0.570495</td>\n",
       "      <td>0.529443</td>\n",
       "      <td>0.227962</td>\n",
       "      <td>1.929914</td>\n",
       "      <td>0.798664</td>\n",
       "      <td>0</td>\n",
       "    </tr>\n",
       "    <tr>\n",
       "      <th>1</th>\n",
       "      <td>control</td>\n",
       "      <td>-1.059404</td>\n",
       "      <td>0.299404</td>\n",
       "      <td>0.220273</td>\n",
       "      <td>-1.569660</td>\n",
       "      <td>1.084204</td>\n",
       "      <td>-2.167118</td>\n",
       "      <td>1.216469</td>\n",
       "      <td>-0.744547</td>\n",
       "      <td>-1.569660</td>\n",
       "      <td>-0.460971</td>\n",
       "      <td>-1.396720</td>\n",
       "      <td>0.600044</td>\n",
       "      <td>1.000000</td>\n",
       "      <td>0.303664</td>\n",
       "      <td>1.080643</td>\n",
       "      <td>2.646483</td>\n",
       "      <td>-0.329690</td>\n",
       "      <td>1.725636</td>\n",
       "      <td>1.434649</td>\n",
       "      <td>-2.064893</td>\n",
       "      <td>0.188000</td>\n",
       "      <td>-1.134651</td>\n",
       "      <td>0</td>\n",
       "    </tr>\n",
       "    <tr>\n",
       "      <th>2</th>\n",
       "      <td>control</td>\n",
       "      <td>0.051934</td>\n",
       "      <td>2.338729</td>\n",
       "      <td>-0.341017</td>\n",
       "      <td>-1.099362</td>\n",
       "      <td>0.693090</td>\n",
       "      <td>-2.424267</td>\n",
       "      <td>1.572066</td>\n",
       "      <td>-0.212798</td>\n",
       "      <td>-1.099362</td>\n",
       "      <td>-1.430502</td>\n",
       "      <td>0.469694</td>\n",
       "      <td>1.251940</td>\n",
       "      <td>0.943003</td>\n",
       "      <td>-0.083721</td>\n",
       "      <td>-1.981712</td>\n",
       "      <td>0.224777</td>\n",
       "      <td>2.038004</td>\n",
       "      <td>2.516398</td>\n",
       "      <td>2.324280</td>\n",
       "      <td>-3.182196</td>\n",
       "      <td>-0.888490</td>\n",
       "      <td>-1.402561</td>\n",
       "      <td>0</td>\n",
       "    </tr>\n",
       "    <tr>\n",
       "      <th>3</th>\n",
       "      <td>treatment</td>\n",
       "      <td>0.667770</td>\n",
       "      <td>0.539316</td>\n",
       "      <td>0.468719</td>\n",
       "      <td>-0.840885</td>\n",
       "      <td>-0.708331</td>\n",
       "      <td>0.126634</td>\n",
       "      <td>1.275854</td>\n",
       "      <td>-0.954919</td>\n",
       "      <td>-0.840885</td>\n",
       "      <td>0.408691</td>\n",
       "      <td>-0.422736</td>\n",
       "      <td>-1.593407</td>\n",
       "      <td>0.247038</td>\n",
       "      <td>-0.752011</td>\n",
       "      <td>-0.347319</td>\n",
       "      <td>-1.659402</td>\n",
       "      <td>-0.871980</td>\n",
       "      <td>-0.893513</td>\n",
       "      <td>-0.658078</td>\n",
       "      <td>-2.704997</td>\n",
       "      <td>-0.390745</td>\n",
       "      <td>-1.578004</td>\n",
       "      <td>1</td>\n",
       "    </tr>\n",
       "    <tr>\n",
       "      <th>4</th>\n",
       "      <td>control</td>\n",
       "      <td>-1.416158</td>\n",
       "      <td>2.486628</td>\n",
       "      <td>0.496402</td>\n",
       "      <td>-1.174618</td>\n",
       "      <td>2.738267</td>\n",
       "      <td>-4.756755</td>\n",
       "      <td>-0.180918</td>\n",
       "      <td>-1.281432</td>\n",
       "      <td>-1.174618</td>\n",
       "      <td>-0.243256</td>\n",
       "      <td>0.598662</td>\n",
       "      <td>0.750706</td>\n",
       "      <td>0.554053</td>\n",
       "      <td>-1.198151</td>\n",
       "      <td>-0.232961</td>\n",
       "      <td>0.948875</td>\n",
       "      <td>1.210523</td>\n",
       "      <td>1.536723</td>\n",
       "      <td>1.548610</td>\n",
       "      <td>-0.926435</td>\n",
       "      <td>0.972459</td>\n",
       "      <td>-0.711251</td>\n",
       "      <td>0</td>\n",
       "    </tr>\n",
       "  </tbody>\n",
       "</table>\n",
       "</div>"
      ],
      "text/plain": [
       "   treatment       X_1       X_2  ...      X_21      X_22  conversion\n",
       "0    control  0.034351  0.550725  ...  1.929914  0.798664           0\n",
       "1    control -1.059404  0.299404  ...  0.188000 -1.134651           0\n",
       "2    control  0.051934  2.338729  ... -0.888490 -1.402561           0\n",
       "3  treatment  0.667770  0.539316  ... -0.390745 -1.578004           1\n",
       "4    control -1.416158  2.486628  ...  0.972459 -0.711251           0\n",
       "\n",
       "[5 rows x 24 columns]"
      ]
     },
     "execution_count": 46,
     "metadata": {
      "tags": []
     },
     "output_type": "execute_result"
    }
   ],
   "source": [
    "task3.head()"
   ]
  },
  {
   "cell_type": "code",
   "execution_count": 47,
   "metadata": {
    "id": "y3Tb8--300yt"
   },
   "outputs": [],
   "source": [
    "task3['W'] = task3['treatment'].map({'treatment':1, 'control':0})"
   ]
  },
  {
   "cell_type": "code",
   "execution_count": 48,
   "metadata": {
    "colab": {
     "base_uri": "https://localhost:8080/",
     "height": 620
    },
    "id": "lSnFbV9X00yu",
    "outputId": "ee48a05a-159f-4551-b343-c8d7ffcd0f57"
   },
   "outputs": [
    {
     "data": {
      "image/png": "[encoded data removed]",
      "text/plain": [
       "<Figure size 720x720 with 2 Axes>"
      ]
     },
     "metadata": {
      "tags": []
     },
     "output_type": "display_data"
    }
   ],
   "source": [
    "plt.figure(figsize=(10, 10))\n",
    "plt.imshow(task3.corr())\n",
    "plt.colorbar()\n",
    "plt.show()"
   ]
  },
  {
   "cell_type": "code",
   "execution_count": 49,
   "metadata": {
    "colab": {
     "base_uri": "https://localhost:8080/",
     "height": 435
    },
    "id": "nEcwaI1n5Obt",
    "outputId": "0050a538-8c61-4748-a26b-ac3e1ac807a8"
   },
   "outputs": [
    {
     "data": {
      "text/html": [
       "<div>\n",
       "<style scoped>\n",
       "    .dataframe tbody tr th:only-of-type {\n",
       "        vertical-align: middle;\n",
       "    }\n",
       "\n",
       "    .dataframe tbody tr th {\n",
       "        vertical-align: top;\n",
       "    }\n",
       "\n",
       "    .dataframe thead th {\n",
       "        text-align: right;\n",
       "    }\n",
       "</style>\n",
       "<table border=\"1\" class=\"dataframe\">\n",
       "  <thead>\n",
       "    <tr style=\"text-align: right;\">\n",
       "      <th></th>\n",
       "      <th>treatment</th>\n",
       "      <th>X_1</th>\n",
       "      <th>X_2</th>\n",
       "      <th>X_3</th>\n",
       "      <th>X_4</th>\n",
       "      <th>X_5</th>\n",
       "      <th>X_6</th>\n",
       "      <th>X_7</th>\n",
       "      <th>X_8</th>\n",
       "      <th>X_9</th>\n",
       "      <th>X_10</th>\n",
       "      <th>X_11</th>\n",
       "      <th>X_12</th>\n",
       "      <th>X_13</th>\n",
       "      <th>X_14</th>\n",
       "      <th>X_15</th>\n",
       "      <th>X_16</th>\n",
       "      <th>X_17</th>\n",
       "      <th>X_18</th>\n",
       "      <th>X_19</th>\n",
       "      <th>X_20</th>\n",
       "      <th>X_21</th>\n",
       "      <th>X_22</th>\n",
       "      <th>conversion</th>\n",
       "      <th>W</th>\n",
       "    </tr>\n",
       "  </thead>\n",
       "  <tbody>\n",
       "    <tr>\n",
       "      <th>0</th>\n",
       "      <td>control</td>\n",
       "      <td>0.034351</td>\n",
       "      <td>0.550725</td>\n",
       "      <td>-1.348524</td>\n",
       "      <td>-0.029591</td>\n",
       "      <td>0.499535</td>\n",
       "      <td>-0.412464</td>\n",
       "      <td>0.933588</td>\n",
       "      <td>-0.522954</td>\n",
       "      <td>-0.029591</td>\n",
       "      <td>-0.807218</td>\n",
       "      <td>1.318646</td>\n",
       "      <td>-0.065262</td>\n",
       "      <td>-0.956947</td>\n",
       "      <td>-0.314573</td>\n",
       "      <td>-0.879456</td>\n",
       "      <td>0.640264</td>\n",
       "      <td>1.165722</td>\n",
       "      <td>0.570495</td>\n",
       "      <td>0.529443</td>\n",
       "      <td>0.227962</td>\n",
       "      <td>1.929914</td>\n",
       "      <td>0.798664</td>\n",
       "      <td>0</td>\n",
       "      <td>0</td>\n",
       "    </tr>\n",
       "    <tr>\n",
       "      <th>1</th>\n",
       "      <td>control</td>\n",
       "      <td>-1.059404</td>\n",
       "      <td>0.299404</td>\n",
       "      <td>0.220273</td>\n",
       "      <td>-1.569660</td>\n",
       "      <td>1.084204</td>\n",
       "      <td>-2.167118</td>\n",
       "      <td>1.216469</td>\n",
       "      <td>-0.744547</td>\n",
       "      <td>-1.569660</td>\n",
       "      <td>-0.460971</td>\n",
       "      <td>-1.396720</td>\n",
       "      <td>0.600044</td>\n",
       "      <td>1.000000</td>\n",
       "      <td>0.303664</td>\n",
       "      <td>1.080643</td>\n",
       "      <td>2.646483</td>\n",
       "      <td>-0.329690</td>\n",
       "      <td>1.725636</td>\n",
       "      <td>1.434649</td>\n",
       "      <td>-2.064893</td>\n",
       "      <td>0.188000</td>\n",
       "      <td>-1.134651</td>\n",
       "      <td>0</td>\n",
       "      <td>0</td>\n",
       "    </tr>\n",
       "    <tr>\n",
       "      <th>2</th>\n",
       "      <td>control</td>\n",
       "      <td>0.051934</td>\n",
       "      <td>2.338729</td>\n",
       "      <td>-0.341017</td>\n",
       "      <td>-1.099362</td>\n",
       "      <td>0.693090</td>\n",
       "      <td>-2.424267</td>\n",
       "      <td>1.572066</td>\n",
       "      <td>-0.212798</td>\n",
       "      <td>-1.099362</td>\n",
       "      <td>-1.430502</td>\n",
       "      <td>0.469694</td>\n",
       "      <td>1.251940</td>\n",
       "      <td>0.943003</td>\n",
       "      <td>-0.083721</td>\n",
       "      <td>-1.981712</td>\n",
       "      <td>0.224777</td>\n",
       "      <td>2.038004</td>\n",
       "      <td>2.516398</td>\n",
       "      <td>2.324280</td>\n",
       "      <td>-3.182196</td>\n",
       "      <td>-0.888490</td>\n",
       "      <td>-1.402561</td>\n",
       "      <td>0</td>\n",
       "      <td>0</td>\n",
       "    </tr>\n",
       "    <tr>\n",
       "      <th>3</th>\n",
       "      <td>treatment</td>\n",
       "      <td>0.667770</td>\n",
       "      <td>0.539316</td>\n",
       "      <td>0.468719</td>\n",
       "      <td>-0.840885</td>\n",
       "      <td>-0.708331</td>\n",
       "      <td>0.126634</td>\n",
       "      <td>1.275854</td>\n",
       "      <td>-0.954919</td>\n",
       "      <td>-0.840885</td>\n",
       "      <td>0.408691</td>\n",
       "      <td>-0.422736</td>\n",
       "      <td>-1.593407</td>\n",
       "      <td>0.247038</td>\n",
       "      <td>-0.752011</td>\n",
       "      <td>-0.347319</td>\n",
       "      <td>-1.659402</td>\n",
       "      <td>-0.871980</td>\n",
       "      <td>-0.893513</td>\n",
       "      <td>-0.658078</td>\n",
       "      <td>-2.704997</td>\n",
       "      <td>-0.390745</td>\n",
       "      <td>-1.578004</td>\n",
       "      <td>1</td>\n",
       "      <td>1</td>\n",
       "    </tr>\n",
       "    <tr>\n",
       "      <th>4</th>\n",
       "      <td>control</td>\n",
       "      <td>-1.416158</td>\n",
       "      <td>2.486628</td>\n",
       "      <td>0.496402</td>\n",
       "      <td>-1.174618</td>\n",
       "      <td>2.738267</td>\n",
       "      <td>-4.756755</td>\n",
       "      <td>-0.180918</td>\n",
       "      <td>-1.281432</td>\n",
       "      <td>-1.174618</td>\n",
       "      <td>-0.243256</td>\n",
       "      <td>0.598662</td>\n",
       "      <td>0.750706</td>\n",
       "      <td>0.554053</td>\n",
       "      <td>-1.198151</td>\n",
       "      <td>-0.232961</td>\n",
       "      <td>0.948875</td>\n",
       "      <td>1.210523</td>\n",
       "      <td>1.536723</td>\n",
       "      <td>1.548610</td>\n",
       "      <td>-0.926435</td>\n",
       "      <td>0.972459</td>\n",
       "      <td>-0.711251</td>\n",
       "      <td>0</td>\n",
       "      <td>0</td>\n",
       "    </tr>\n",
       "    <tr>\n",
       "      <th>...</th>\n",
       "      <td>...</td>\n",
       "      <td>...</td>\n",
       "      <td>...</td>\n",
       "      <td>...</td>\n",
       "      <td>...</td>\n",
       "      <td>...</td>\n",
       "      <td>...</td>\n",
       "      <td>...</td>\n",
       "      <td>...</td>\n",
       "      <td>...</td>\n",
       "      <td>...</td>\n",
       "      <td>...</td>\n",
       "      <td>...</td>\n",
       "      <td>...</td>\n",
       "      <td>...</td>\n",
       "      <td>...</td>\n",
       "      <td>...</td>\n",
       "      <td>...</td>\n",
       "      <td>...</td>\n",
       "      <td>...</td>\n",
       "      <td>...</td>\n",
       "      <td>...</td>\n",
       "      <td>...</td>\n",
       "      <td>...</td>\n",
       "      <td>...</td>\n",
       "    </tr>\n",
       "    <tr>\n",
       "      <th>199995</th>\n",
       "      <td>control</td>\n",
       "      <td>-1.309691</td>\n",
       "      <td>2.925832</td>\n",
       "      <td>-0.584101</td>\n",
       "      <td>-1.232931</td>\n",
       "      <td>2.601140</td>\n",
       "      <td>-4.943288</td>\n",
       "      <td>0.416758</td>\n",
       "      <td>-0.083626</td>\n",
       "      <td>-1.232931</td>\n",
       "      <td>-0.156886</td>\n",
       "      <td>-0.009209</td>\n",
       "      <td>1.938339</td>\n",
       "      <td>0.374788</td>\n",
       "      <td>1.041399</td>\n",
       "      <td>0.975982</td>\n",
       "      <td>0.636279</td>\n",
       "      <td>1.073711</td>\n",
       "      <td>-0.406603</td>\n",
       "      <td>0.027760</td>\n",
       "      <td>-0.478887</td>\n",
       "      <td>1.265746</td>\n",
       "      <td>0.059865</td>\n",
       "      <td>0</td>\n",
       "      <td>0</td>\n",
       "    </tr>\n",
       "    <tr>\n",
       "      <th>199996</th>\n",
       "      <td>control</td>\n",
       "      <td>-1.131361</td>\n",
       "      <td>1.562317</td>\n",
       "      <td>1.265630</td>\n",
       "      <td>-1.361879</td>\n",
       "      <td>1.169695</td>\n",
       "      <td>-3.247293</td>\n",
       "      <td>1.253718</td>\n",
       "      <td>-1.968727</td>\n",
       "      <td>-1.361879</td>\n",
       "      <td>1.487681</td>\n",
       "      <td>1.341897</td>\n",
       "      <td>-0.042151</td>\n",
       "      <td>0.695421</td>\n",
       "      <td>-0.485884</td>\n",
       "      <td>0.674360</td>\n",
       "      <td>0.892121</td>\n",
       "      <td>0.893261</td>\n",
       "      <td>0.182528</td>\n",
       "      <td>0.338611</td>\n",
       "      <td>1.006028</td>\n",
       "      <td>-1.943045</td>\n",
       "      <td>-0.145377</td>\n",
       "      <td>0</td>\n",
       "      <td>0</td>\n",
       "    </tr>\n",
       "    <tr>\n",
       "      <th>199997</th>\n",
       "      <td>control</td>\n",
       "      <td>0.442433</td>\n",
       "      <td>2.202153</td>\n",
       "      <td>-0.380019</td>\n",
       "      <td>-0.474935</td>\n",
       "      <td>0.766306</td>\n",
       "      <td>-1.722354</td>\n",
       "      <td>0.751083</td>\n",
       "      <td>0.595800</td>\n",
       "      <td>-0.474935</td>\n",
       "      <td>-1.133214</td>\n",
       "      <td>0.474008</td>\n",
       "      <td>-2.370446</td>\n",
       "      <td>-0.496472</td>\n",
       "      <td>1.098074</td>\n",
       "      <td>0.299918</td>\n",
       "      <td>0.718669</td>\n",
       "      <td>1.031289</td>\n",
       "      <td>0.398560</td>\n",
       "      <td>0.591750</td>\n",
       "      <td>1.620529</td>\n",
       "      <td>-1.081292</td>\n",
       "      <td>0.995816</td>\n",
       "      <td>0</td>\n",
       "      <td>0</td>\n",
       "    </tr>\n",
       "    <tr>\n",
       "      <th>199998</th>\n",
       "      <td>treatment</td>\n",
       "      <td>-0.084879</td>\n",
       "      <td>0.423688</td>\n",
       "      <td>0.389931</td>\n",
       "      <td>-1.996510</td>\n",
       "      <td>-0.123098</td>\n",
       "      <td>-1.103408</td>\n",
       "      <td>2.207197</td>\n",
       "      <td>0.402468</td>\n",
       "      <td>-1.996510</td>\n",
       "      <td>-0.251343</td>\n",
       "      <td>-1.136188</td>\n",
       "      <td>0.842605</td>\n",
       "      <td>-0.296565</td>\n",
       "      <td>-0.511203</td>\n",
       "      <td>-0.150816</td>\n",
       "      <td>-0.256026</td>\n",
       "      <td>2.231563</td>\n",
       "      <td>0.848577</td>\n",
       "      <td>0.739235</td>\n",
       "      <td>1.656343</td>\n",
       "      <td>0.436962</td>\n",
       "      <td>0.622010</td>\n",
       "      <td>0</td>\n",
       "      <td>1</td>\n",
       "    </tr>\n",
       "    <tr>\n",
       "      <th>199999</th>\n",
       "      <td>control</td>\n",
       "      <td>0.105915</td>\n",
       "      <td>-0.602186</td>\n",
       "      <td>-1.358102</td>\n",
       "      <td>-1.254886</td>\n",
       "      <td>-0.087760</td>\n",
       "      <td>0.278812</td>\n",
       "      <td>1.719685</td>\n",
       "      <td>-0.027311</td>\n",
       "      <td>-1.254886</td>\n",
       "      <td>1.126681</td>\n",
       "      <td>-0.658104</td>\n",
       "      <td>-0.820247</td>\n",
       "      <td>-1.094436</td>\n",
       "      <td>-0.994671</td>\n",
       "      <td>-1.538281</td>\n",
       "      <td>1.402783</td>\n",
       "      <td>0.555712</td>\n",
       "      <td>0.629730</td>\n",
       "      <td>0.436687</td>\n",
       "      <td>2.087262</td>\n",
       "      <td>0.136364</td>\n",
       "      <td>1.724350</td>\n",
       "      <td>0</td>\n",
       "      <td>0</td>\n",
       "    </tr>\n",
       "  </tbody>\n",
       "</table>\n",
       "<p>200000 rows × 25 columns</p>\n",
       "</div>"
      ],
      "text/plain": [
       "        treatment       X_1       X_2  ...      X_22  conversion  W\n",
       "0         control  0.034351  0.550725  ...  0.798664           0  0\n",
       "1         control -1.059404  0.299404  ... -1.134651           0  0\n",
       "2         control  0.051934  2.338729  ... -1.402561           0  0\n",
       "3       treatment  0.667770  0.539316  ... -1.578004           1  1\n",
       "4         control -1.416158  2.486628  ... -0.711251           0  0\n",
       "...           ...       ...       ...  ...       ...         ... ..\n",
       "199995    control -1.309691  2.925832  ...  0.059865           0  0\n",
       "199996    control -1.131361  1.562317  ... -0.145377           0  0\n",
       "199997    control  0.442433  2.202153  ...  0.995816           0  0\n",
       "199998  treatment -0.084879  0.423688  ...  0.622010           0  1\n",
       "199999    control  0.105915 -0.602186  ...  1.724350           0  0\n",
       "\n",
       "[200000 rows x 25 columns]"
      ]
     },
     "execution_count": 49,
     "metadata": {
      "tags": []
     },
     "output_type": "execute_result"
    }
   ],
   "source": [
    "task3"
   ]
  },
  {
   "cell_type": "markdown",
   "metadata": {
    "id": "j7VUuPfdEblD"
   },
   "source": [
    "Посчитаем ATE, используя библиотеку causalml. Различными способами."
   ]
  },
  {
   "cell_type": "code",
   "execution_count": 51,
   "metadata": {
    "colab": {
     "base_uri": "https://localhost:8080/"
    },
    "id": "37a__H3000y4",
    "outputId": "9ddc94dc-a377-47d6-e01e-a0e7a109a90c"
   },
   "outputs": [
    {
     "name": "stdout",
     "output_type": "stream",
     "text": [
      "Average Treatment Effect (Linear Regression): 0.06 (0.06, 0.06)\n",
      "[16:33:20] WARNING: /workspace/src/objective/regression_obj.cu:152: reg:linear is now deprecated in favor of reg:squarederror.\n",
      "[16:33:38] WARNING: /workspace/src/objective/regression_obj.cu:152: reg:linear is now deprecated in favor of reg:squarederror.\n",
      "Average Treatment Effect (XGBoost): 0.06 (0.06, 0.06)\n",
      "Average Treatment Effect (Neural Network (MLP)): 0.04 (0.04, 0.04)\n"
     ]
    }
   ],
   "source": [
    "X = task3.drop(['treatment', 'conversion', 'W'], axis=1).values\n",
    "treatment = task3['W'].values\n",
    "y = task3['conversion']\n",
    "\n",
    "lr = LRSRegressor()\n",
    "te, lb, ub = lr.estimate_ate(X, treatment, y)\n",
    "print('Average Treatment Effect (Linear Regression): {:.2f} ({:.2f}, {:.2f})'.format(te[0], lb[0], ub[0]))\n",
    "\n",
    "xg = XGBTRegressor(random_state=42)\n",
    "te, lb, ub = xg.estimate_ate(X, treatment, y)\n",
    "print('Average Treatment Effect (XGBoost): {:.2f} ({:.2f}, {:.2f})'.format(te[0], lb[0], ub[0]))\n",
    "\n",
    "nn = MLPTRegressor(hidden_layer_sizes=(10, 10),\n",
    "                 learning_rate_init=.1,\n",
    "                 early_stopping=True,\n",
    "                 random_state=42)\n",
    "te, lb, ub = nn.estimate_ate(X, treatment, y)\n",
    "print('Average Treatment Effect (Neural Network (MLP)): {:.2f} ({:.2f}, {:.2f})'.format(te[0], lb[0], ub[0]))"
   ]
  },
  {
   "cell_type": "markdown",
   "metadata": {},
   "source": [
    "Получим CATE с использованием X learner и XGBRegressor"
   ]
  },
  {
   "cell_type": "code",
   "execution_count": 52,
   "metadata": {
    "colab": {
     "base_uri": "https://localhost:8080/"
    },
    "id": "BpUWHkHv418z",
    "outputId": "3e41b73c-35bf-4d60-e66d-af56c2a233c9"
   },
   "outputs": [
    {
     "name": "stdout",
     "output_type": "stream",
     "text": [
      "[16:36:42] WARNING: /workspace/src/objective/regression_obj.cu:152: reg:linear is now deprecated in favor of reg:squarederror.\n",
      "[16:37:00] WARNING: /workspace/src/objective/regression_obj.cu:152: reg:linear is now deprecated in favor of reg:squarederror.\n",
      "[16:37:19] WARNING: /workspace/src/objective/regression_obj.cu:152: reg:linear is now deprecated in favor of reg:squarederror.\n",
      "[16:37:38] WARNING: /workspace/src/objective/regression_obj.cu:152: reg:linear is now deprecated in favor of reg:squarederror.\n"
     ]
    }
   ],
   "source": [
    "learner_x_no_p = BaseXRegressor(learner=XGBRegressor())\n",
    "cate_x_no_p = learner_x_no_p.fit_predict(X=X, treatment=treatment, y=y)"
   ]
  },
  {
   "cell_type": "code",
   "execution_count": 53,
   "metadata": {
    "id": "oGPqubsyB6Hi"
   },
   "outputs": [],
   "source": [
    "task3['cate_x'] = cate_x_no_p"
   ]
  },
  {
   "cell_type": "code",
   "execution_count": 54,
   "metadata": {
    "colab": {
     "base_uri": "https://localhost:8080/",
     "height": 465
    },
    "id": "6XUYYGX-CFFI",
    "outputId": "18a792ec-e6a5-49f3-9d82-bca23e499ed6"
   },
   "outputs": [
    {
     "data": {
      "image/png": "[encoded data removed]",
      "text/plain": [
       "<Figure size 1382.4x777.6 with 1 Axes>"
      ]
     },
     "metadata": {
      "tags": []
     },
     "output_type": "display_data"
    }
   ],
   "source": [
    "fig = plt.figure(figsize=(19.20, 10.80))\n",
    "ax = plt.axes()\n",
    "task3['cate_x'].hist(ax=ax, bins=50)\n",
    "plt.show()"
   ]
  },
  {
   "cell_type": "code",
   "execution_count": 55,
   "metadata": {
    "colab": {
     "base_uri": "https://localhost:8080/",
     "height": 435
    },
    "id": "AaAbdxqtCQX4",
    "outputId": "13522256-3139-4dff-f0ef-b0ccbf128f44"
   },
   "outputs": [
    {
     "data": {
      "text/html": [
       "<div>\n",
       "<style scoped>\n",
       "    .dataframe tbody tr th:only-of-type {\n",
       "        vertical-align: middle;\n",
       "    }\n",
       "\n",
       "    .dataframe tbody tr th {\n",
       "        vertical-align: top;\n",
       "    }\n",
       "\n",
       "    .dataframe thead th {\n",
       "        text-align: right;\n",
       "    }\n",
       "</style>\n",
       "<table border=\"1\" class=\"dataframe\">\n",
       "  <thead>\n",
       "    <tr style=\"text-align: right;\">\n",
       "      <th></th>\n",
       "      <th>treatment</th>\n",
       "      <th>X_1</th>\n",
       "      <th>X_2</th>\n",
       "      <th>X_3</th>\n",
       "      <th>X_4</th>\n",
       "      <th>X_5</th>\n",
       "      <th>X_6</th>\n",
       "      <th>X_7</th>\n",
       "      <th>X_8</th>\n",
       "      <th>X_9</th>\n",
       "      <th>X_10</th>\n",
       "      <th>X_11</th>\n",
       "      <th>X_12</th>\n",
       "      <th>X_13</th>\n",
       "      <th>X_14</th>\n",
       "      <th>X_15</th>\n",
       "      <th>X_16</th>\n",
       "      <th>X_17</th>\n",
       "      <th>X_18</th>\n",
       "      <th>X_19</th>\n",
       "      <th>X_20</th>\n",
       "      <th>X_21</th>\n",
       "      <th>X_22</th>\n",
       "      <th>conversion</th>\n",
       "      <th>W</th>\n",
       "      <th>cate_x</th>\n",
       "    </tr>\n",
       "  </thead>\n",
       "  <tbody>\n",
       "    <tr>\n",
       "      <th>0</th>\n",
       "      <td>control</td>\n",
       "      <td>0.034351</td>\n",
       "      <td>0.550725</td>\n",
       "      <td>-1.348524</td>\n",
       "      <td>-0.029591</td>\n",
       "      <td>0.499535</td>\n",
       "      <td>-0.412464</td>\n",
       "      <td>0.933588</td>\n",
       "      <td>-0.522954</td>\n",
       "      <td>-0.029591</td>\n",
       "      <td>-0.807218</td>\n",
       "      <td>1.318646</td>\n",
       "      <td>-0.065262</td>\n",
       "      <td>-0.956947</td>\n",
       "      <td>-0.314573</td>\n",
       "      <td>-0.879456</td>\n",
       "      <td>0.640264</td>\n",
       "      <td>1.165722</td>\n",
       "      <td>0.570495</td>\n",
       "      <td>0.529443</td>\n",
       "      <td>0.227962</td>\n",
       "      <td>1.929914</td>\n",
       "      <td>0.798664</td>\n",
       "      <td>0</td>\n",
       "      <td>0</td>\n",
       "      <td>0.023380</td>\n",
       "    </tr>\n",
       "    <tr>\n",
       "      <th>1</th>\n",
       "      <td>control</td>\n",
       "      <td>-1.059404</td>\n",
       "      <td>0.299404</td>\n",
       "      <td>0.220273</td>\n",
       "      <td>-1.569660</td>\n",
       "      <td>1.084204</td>\n",
       "      <td>-2.167118</td>\n",
       "      <td>1.216469</td>\n",
       "      <td>-0.744547</td>\n",
       "      <td>-1.569660</td>\n",
       "      <td>-0.460971</td>\n",
       "      <td>-1.396720</td>\n",
       "      <td>0.600044</td>\n",
       "      <td>1.000000</td>\n",
       "      <td>0.303664</td>\n",
       "      <td>1.080643</td>\n",
       "      <td>2.646483</td>\n",
       "      <td>-0.329690</td>\n",
       "      <td>1.725636</td>\n",
       "      <td>1.434649</td>\n",
       "      <td>-2.064893</td>\n",
       "      <td>0.188000</td>\n",
       "      <td>-1.134651</td>\n",
       "      <td>0</td>\n",
       "      <td>0</td>\n",
       "      <td>0.023806</td>\n",
       "    </tr>\n",
       "    <tr>\n",
       "      <th>2</th>\n",
       "      <td>control</td>\n",
       "      <td>0.051934</td>\n",
       "      <td>2.338729</td>\n",
       "      <td>-0.341017</td>\n",
       "      <td>-1.099362</td>\n",
       "      <td>0.693090</td>\n",
       "      <td>-2.424267</td>\n",
       "      <td>1.572066</td>\n",
       "      <td>-0.212798</td>\n",
       "      <td>-1.099362</td>\n",
       "      <td>-1.430502</td>\n",
       "      <td>0.469694</td>\n",
       "      <td>1.251940</td>\n",
       "      <td>0.943003</td>\n",
       "      <td>-0.083721</td>\n",
       "      <td>-1.981712</td>\n",
       "      <td>0.224777</td>\n",
       "      <td>2.038004</td>\n",
       "      <td>2.516398</td>\n",
       "      <td>2.324280</td>\n",
       "      <td>-3.182196</td>\n",
       "      <td>-0.888490</td>\n",
       "      <td>-1.402561</td>\n",
       "      <td>0</td>\n",
       "      <td>0</td>\n",
       "      <td>0.022708</td>\n",
       "    </tr>\n",
       "    <tr>\n",
       "      <th>3</th>\n",
       "      <td>treatment</td>\n",
       "      <td>0.667770</td>\n",
       "      <td>0.539316</td>\n",
       "      <td>0.468719</td>\n",
       "      <td>-0.840885</td>\n",
       "      <td>-0.708331</td>\n",
       "      <td>0.126634</td>\n",
       "      <td>1.275854</td>\n",
       "      <td>-0.954919</td>\n",
       "      <td>-0.840885</td>\n",
       "      <td>0.408691</td>\n",
       "      <td>-0.422736</td>\n",
       "      <td>-1.593407</td>\n",
       "      <td>0.247038</td>\n",
       "      <td>-0.752011</td>\n",
       "      <td>-0.347319</td>\n",
       "      <td>-1.659402</td>\n",
       "      <td>-0.871980</td>\n",
       "      <td>-0.893513</td>\n",
       "      <td>-0.658078</td>\n",
       "      <td>-2.704997</td>\n",
       "      <td>-0.390745</td>\n",
       "      <td>-1.578004</td>\n",
       "      <td>1</td>\n",
       "      <td>1</td>\n",
       "      <td>0.893564</td>\n",
       "    </tr>\n",
       "    <tr>\n",
       "      <th>4</th>\n",
       "      <td>control</td>\n",
       "      <td>-1.416158</td>\n",
       "      <td>2.486628</td>\n",
       "      <td>0.496402</td>\n",
       "      <td>-1.174618</td>\n",
       "      <td>2.738267</td>\n",
       "      <td>-4.756755</td>\n",
       "      <td>-0.180918</td>\n",
       "      <td>-1.281432</td>\n",
       "      <td>-1.174618</td>\n",
       "      <td>-0.243256</td>\n",
       "      <td>0.598662</td>\n",
       "      <td>0.750706</td>\n",
       "      <td>0.554053</td>\n",
       "      <td>-1.198151</td>\n",
       "      <td>-0.232961</td>\n",
       "      <td>0.948875</td>\n",
       "      <td>1.210523</td>\n",
       "      <td>1.536723</td>\n",
       "      <td>1.548610</td>\n",
       "      <td>-0.926435</td>\n",
       "      <td>0.972459</td>\n",
       "      <td>-0.711251</td>\n",
       "      <td>0</td>\n",
       "      <td>0</td>\n",
       "      <td>0.023378</td>\n",
       "    </tr>\n",
       "    <tr>\n",
       "      <th>...</th>\n",
       "      <td>...</td>\n",
       "      <td>...</td>\n",
       "      <td>...</td>\n",
       "      <td>...</td>\n",
       "      <td>...</td>\n",
       "      <td>...</td>\n",
       "      <td>...</td>\n",
       "      <td>...</td>\n",
       "      <td>...</td>\n",
       "      <td>...</td>\n",
       "      <td>...</td>\n",
       "      <td>...</td>\n",
       "      <td>...</td>\n",
       "      <td>...</td>\n",
       "      <td>...</td>\n",
       "      <td>...</td>\n",
       "      <td>...</td>\n",
       "      <td>...</td>\n",
       "      <td>...</td>\n",
       "      <td>...</td>\n",
       "      <td>...</td>\n",
       "      <td>...</td>\n",
       "      <td>...</td>\n",
       "      <td>...</td>\n",
       "      <td>...</td>\n",
       "      <td>...</td>\n",
       "    </tr>\n",
       "    <tr>\n",
       "      <th>199995</th>\n",
       "      <td>control</td>\n",
       "      <td>-1.309691</td>\n",
       "      <td>2.925832</td>\n",
       "      <td>-0.584101</td>\n",
       "      <td>-1.232931</td>\n",
       "      <td>2.601140</td>\n",
       "      <td>-4.943288</td>\n",
       "      <td>0.416758</td>\n",
       "      <td>-0.083626</td>\n",
       "      <td>-1.232931</td>\n",
       "      <td>-0.156886</td>\n",
       "      <td>-0.009209</td>\n",
       "      <td>1.938339</td>\n",
       "      <td>0.374788</td>\n",
       "      <td>1.041399</td>\n",
       "      <td>0.975982</td>\n",
       "      <td>0.636279</td>\n",
       "      <td>1.073711</td>\n",
       "      <td>-0.406603</td>\n",
       "      <td>0.027760</td>\n",
       "      <td>-0.478887</td>\n",
       "      <td>1.265746</td>\n",
       "      <td>0.059865</td>\n",
       "      <td>0</td>\n",
       "      <td>0</td>\n",
       "      <td>0.043830</td>\n",
       "    </tr>\n",
       "    <tr>\n",
       "      <th>199996</th>\n",
       "      <td>control</td>\n",
       "      <td>-1.131361</td>\n",
       "      <td>1.562317</td>\n",
       "      <td>1.265630</td>\n",
       "      <td>-1.361879</td>\n",
       "      <td>1.169695</td>\n",
       "      <td>-3.247293</td>\n",
       "      <td>1.253718</td>\n",
       "      <td>-1.968727</td>\n",
       "      <td>-1.361879</td>\n",
       "      <td>1.487681</td>\n",
       "      <td>1.341897</td>\n",
       "      <td>-0.042151</td>\n",
       "      <td>0.695421</td>\n",
       "      <td>-0.485884</td>\n",
       "      <td>0.674360</td>\n",
       "      <td>0.892121</td>\n",
       "      <td>0.893261</td>\n",
       "      <td>0.182528</td>\n",
       "      <td>0.338611</td>\n",
       "      <td>1.006028</td>\n",
       "      <td>-1.943045</td>\n",
       "      <td>-0.145377</td>\n",
       "      <td>0</td>\n",
       "      <td>0</td>\n",
       "      <td>-0.089170</td>\n",
       "    </tr>\n",
       "    <tr>\n",
       "      <th>199997</th>\n",
       "      <td>control</td>\n",
       "      <td>0.442433</td>\n",
       "      <td>2.202153</td>\n",
       "      <td>-0.380019</td>\n",
       "      <td>-0.474935</td>\n",
       "      <td>0.766306</td>\n",
       "      <td>-1.722354</td>\n",
       "      <td>0.751083</td>\n",
       "      <td>0.595800</td>\n",
       "      <td>-0.474935</td>\n",
       "      <td>-1.133214</td>\n",
       "      <td>0.474008</td>\n",
       "      <td>-2.370446</td>\n",
       "      <td>-0.496472</td>\n",
       "      <td>1.098074</td>\n",
       "      <td>0.299918</td>\n",
       "      <td>0.718669</td>\n",
       "      <td>1.031289</td>\n",
       "      <td>0.398560</td>\n",
       "      <td>0.591750</td>\n",
       "      <td>1.620529</td>\n",
       "      <td>-1.081292</td>\n",
       "      <td>0.995816</td>\n",
       "      <td>0</td>\n",
       "      <td>0</td>\n",
       "      <td>-0.067830</td>\n",
       "    </tr>\n",
       "    <tr>\n",
       "      <th>199998</th>\n",
       "      <td>treatment</td>\n",
       "      <td>-0.084879</td>\n",
       "      <td>0.423688</td>\n",
       "      <td>0.389931</td>\n",
       "      <td>-1.996510</td>\n",
       "      <td>-0.123098</td>\n",
       "      <td>-1.103408</td>\n",
       "      <td>2.207197</td>\n",
       "      <td>0.402468</td>\n",
       "      <td>-1.996510</td>\n",
       "      <td>-0.251343</td>\n",
       "      <td>-1.136188</td>\n",
       "      <td>0.842605</td>\n",
       "      <td>-0.296565</td>\n",
       "      <td>-0.511203</td>\n",
       "      <td>-0.150816</td>\n",
       "      <td>-0.256026</td>\n",
       "      <td>2.231563</td>\n",
       "      <td>0.848577</td>\n",
       "      <td>0.739235</td>\n",
       "      <td>1.656343</td>\n",
       "      <td>0.436962</td>\n",
       "      <td>0.622010</td>\n",
       "      <td>0</td>\n",
       "      <td>1</td>\n",
       "      <td>-0.048530</td>\n",
       "    </tr>\n",
       "    <tr>\n",
       "      <th>199999</th>\n",
       "      <td>control</td>\n",
       "      <td>0.105915</td>\n",
       "      <td>-0.602186</td>\n",
       "      <td>-1.358102</td>\n",
       "      <td>-1.254886</td>\n",
       "      <td>-0.087760</td>\n",
       "      <td>0.278812</td>\n",
       "      <td>1.719685</td>\n",
       "      <td>-0.027311</td>\n",
       "      <td>-1.254886</td>\n",
       "      <td>1.126681</td>\n",
       "      <td>-0.658104</td>\n",
       "      <td>-0.820247</td>\n",
       "      <td>-1.094436</td>\n",
       "      <td>-0.994671</td>\n",
       "      <td>-1.538281</td>\n",
       "      <td>1.402783</td>\n",
       "      <td>0.555712</td>\n",
       "      <td>0.629730</td>\n",
       "      <td>0.436687</td>\n",
       "      <td>2.087262</td>\n",
       "      <td>0.136364</td>\n",
       "      <td>1.724350</td>\n",
       "      <td>0</td>\n",
       "      <td>0</td>\n",
       "      <td>-0.057567</td>\n",
       "    </tr>\n",
       "  </tbody>\n",
       "</table>\n",
       "<p>200000 rows × 26 columns</p>\n",
       "</div>"
      ],
      "text/plain": [
       "        treatment       X_1       X_2  ...  conversion  W    cate_x\n",
       "0         control  0.034351  0.550725  ...           0  0  0.023380\n",
       "1         control -1.059404  0.299404  ...           0  0  0.023806\n",
       "2         control  0.051934  2.338729  ...           0  0  0.022708\n",
       "3       treatment  0.667770  0.539316  ...           1  1  0.893564\n",
       "4         control -1.416158  2.486628  ...           0  0  0.023378\n",
       "...           ...       ...       ...  ...         ... ..       ...\n",
       "199995    control -1.309691  2.925832  ...           0  0  0.043830\n",
       "199996    control -1.131361  1.562317  ...           0  0 -0.089170\n",
       "199997    control  0.442433  2.202153  ...           0  0 -0.067830\n",
       "199998  treatment -0.084879  0.423688  ...           0  1 -0.048530\n",
       "199999    control  0.105915 -0.602186  ...           0  0 -0.057567\n",
       "\n",
       "[200000 rows x 26 columns]"
      ]
     },
     "execution_count": 55,
     "metadata": {
      "tags": []
     },
     "output_type": "execute_result"
    }
   ],
   "source": [
    "task3"
   ]
  },
  {
   "cell_type": "markdown",
   "metadata": {
    "id": "1NB4Q3tTL19f"
   },
   "source": [
    "Получив CATE, сделаем грубые рекомендации. Пусть мы теперь будем ставить в treatment людей, у которых CATE больше 0.5."
   ]
  },
  {
   "cell_type": "code",
   "execution_count": 58,
   "metadata": {
    "id": "CoMMnnTVEFug"
   },
   "outputs": [],
   "source": [
    "task3['recommendation'] = (task3['cate_x'] > 0.5).astype(int)"
   ]
  },
  {
   "cell_type": "code",
   "execution_count": 59,
   "metadata": {
    "colab": {
     "base_uri": "https://localhost:8080/",
     "height": 435
    },
    "id": "-8ssJssnEGJc",
    "outputId": "24d30fc7-acf8-48f2-fa88-c2ab7dfd9480"
   },
   "outputs": [
    {
     "data": {
      "text/html": [
       "<div>\n",
       "<style scoped>\n",
       "    .dataframe tbody tr th:only-of-type {\n",
       "        vertical-align: middle;\n",
       "    }\n",
       "\n",
       "    .dataframe tbody tr th {\n",
       "        vertical-align: top;\n",
       "    }\n",
       "\n",
       "    .dataframe thead th {\n",
       "        text-align: right;\n",
       "    }\n",
       "</style>\n",
       "<table border=\"1\" class=\"dataframe\">\n",
       "  <thead>\n",
       "    <tr style=\"text-align: right;\">\n",
       "      <th></th>\n",
       "      <th>treatment</th>\n",
       "      <th>X_1</th>\n",
       "      <th>X_2</th>\n",
       "      <th>X_3</th>\n",
       "      <th>X_4</th>\n",
       "      <th>X_5</th>\n",
       "      <th>X_6</th>\n",
       "      <th>X_7</th>\n",
       "      <th>X_8</th>\n",
       "      <th>X_9</th>\n",
       "      <th>X_10</th>\n",
       "      <th>X_11</th>\n",
       "      <th>X_12</th>\n",
       "      <th>X_13</th>\n",
       "      <th>X_14</th>\n",
       "      <th>X_15</th>\n",
       "      <th>X_16</th>\n",
       "      <th>X_17</th>\n",
       "      <th>X_18</th>\n",
       "      <th>X_19</th>\n",
       "      <th>X_20</th>\n",
       "      <th>X_21</th>\n",
       "      <th>X_22</th>\n",
       "      <th>conversion</th>\n",
       "      <th>W</th>\n",
       "      <th>cate_x</th>\n",
       "      <th>recommendation</th>\n",
       "    </tr>\n",
       "  </thead>\n",
       "  <tbody>\n",
       "    <tr>\n",
       "      <th>0</th>\n",
       "      <td>control</td>\n",
       "      <td>0.034351</td>\n",
       "      <td>0.550725</td>\n",
       "      <td>-1.348524</td>\n",
       "      <td>-0.029591</td>\n",
       "      <td>0.499535</td>\n",
       "      <td>-0.412464</td>\n",
       "      <td>0.933588</td>\n",
       "      <td>-0.522954</td>\n",
       "      <td>-0.029591</td>\n",
       "      <td>-0.807218</td>\n",
       "      <td>1.318646</td>\n",
       "      <td>-0.065262</td>\n",
       "      <td>-0.956947</td>\n",
       "      <td>-0.314573</td>\n",
       "      <td>-0.879456</td>\n",
       "      <td>0.640264</td>\n",
       "      <td>1.165722</td>\n",
       "      <td>0.570495</td>\n",
       "      <td>0.529443</td>\n",
       "      <td>0.227962</td>\n",
       "      <td>1.929914</td>\n",
       "      <td>0.798664</td>\n",
       "      <td>0</td>\n",
       "      <td>0</td>\n",
       "      <td>0.023380</td>\n",
       "      <td>0</td>\n",
       "    </tr>\n",
       "    <tr>\n",
       "      <th>1</th>\n",
       "      <td>control</td>\n",
       "      <td>-1.059404</td>\n",
       "      <td>0.299404</td>\n",
       "      <td>0.220273</td>\n",
       "      <td>-1.569660</td>\n",
       "      <td>1.084204</td>\n",
       "      <td>-2.167118</td>\n",
       "      <td>1.216469</td>\n",
       "      <td>-0.744547</td>\n",
       "      <td>-1.569660</td>\n",
       "      <td>-0.460971</td>\n",
       "      <td>-1.396720</td>\n",
       "      <td>0.600044</td>\n",
       "      <td>1.000000</td>\n",
       "      <td>0.303664</td>\n",
       "      <td>1.080643</td>\n",
       "      <td>2.646483</td>\n",
       "      <td>-0.329690</td>\n",
       "      <td>1.725636</td>\n",
       "      <td>1.434649</td>\n",
       "      <td>-2.064893</td>\n",
       "      <td>0.188000</td>\n",
       "      <td>-1.134651</td>\n",
       "      <td>0</td>\n",
       "      <td>0</td>\n",
       "      <td>0.023806</td>\n",
       "      <td>0</td>\n",
       "    </tr>\n",
       "    <tr>\n",
       "      <th>2</th>\n",
       "      <td>control</td>\n",
       "      <td>0.051934</td>\n",
       "      <td>2.338729</td>\n",
       "      <td>-0.341017</td>\n",
       "      <td>-1.099362</td>\n",
       "      <td>0.693090</td>\n",
       "      <td>-2.424267</td>\n",
       "      <td>1.572066</td>\n",
       "      <td>-0.212798</td>\n",
       "      <td>-1.099362</td>\n",
       "      <td>-1.430502</td>\n",
       "      <td>0.469694</td>\n",
       "      <td>1.251940</td>\n",
       "      <td>0.943003</td>\n",
       "      <td>-0.083721</td>\n",
       "      <td>-1.981712</td>\n",
       "      <td>0.224777</td>\n",
       "      <td>2.038004</td>\n",
       "      <td>2.516398</td>\n",
       "      <td>2.324280</td>\n",
       "      <td>-3.182196</td>\n",
       "      <td>-0.888490</td>\n",
       "      <td>-1.402561</td>\n",
       "      <td>0</td>\n",
       "      <td>0</td>\n",
       "      <td>0.022708</td>\n",
       "      <td>0</td>\n",
       "    </tr>\n",
       "    <tr>\n",
       "      <th>3</th>\n",
       "      <td>treatment</td>\n",
       "      <td>0.667770</td>\n",
       "      <td>0.539316</td>\n",
       "      <td>0.468719</td>\n",
       "      <td>-0.840885</td>\n",
       "      <td>-0.708331</td>\n",
       "      <td>0.126634</td>\n",
       "      <td>1.275854</td>\n",
       "      <td>-0.954919</td>\n",
       "      <td>-0.840885</td>\n",
       "      <td>0.408691</td>\n",
       "      <td>-0.422736</td>\n",
       "      <td>-1.593407</td>\n",
       "      <td>0.247038</td>\n",
       "      <td>-0.752011</td>\n",
       "      <td>-0.347319</td>\n",
       "      <td>-1.659402</td>\n",
       "      <td>-0.871980</td>\n",
       "      <td>-0.893513</td>\n",
       "      <td>-0.658078</td>\n",
       "      <td>-2.704997</td>\n",
       "      <td>-0.390745</td>\n",
       "      <td>-1.578004</td>\n",
       "      <td>1</td>\n",
       "      <td>1</td>\n",
       "      <td>0.893564</td>\n",
       "      <td>1</td>\n",
       "    </tr>\n",
       "    <tr>\n",
       "      <th>4</th>\n",
       "      <td>control</td>\n",
       "      <td>-1.416158</td>\n",
       "      <td>2.486628</td>\n",
       "      <td>0.496402</td>\n",
       "      <td>-1.174618</td>\n",
       "      <td>2.738267</td>\n",
       "      <td>-4.756755</td>\n",
       "      <td>-0.180918</td>\n",
       "      <td>-1.281432</td>\n",
       "      <td>-1.174618</td>\n",
       "      <td>-0.243256</td>\n",
       "      <td>0.598662</td>\n",
       "      <td>0.750706</td>\n",
       "      <td>0.554053</td>\n",
       "      <td>-1.198151</td>\n",
       "      <td>-0.232961</td>\n",
       "      <td>0.948875</td>\n",
       "      <td>1.210523</td>\n",
       "      <td>1.536723</td>\n",
       "      <td>1.548610</td>\n",
       "      <td>-0.926435</td>\n",
       "      <td>0.972459</td>\n",
       "      <td>-0.711251</td>\n",
       "      <td>0</td>\n",
       "      <td>0</td>\n",
       "      <td>0.023378</td>\n",
       "      <td>0</td>\n",
       "    </tr>\n",
       "    <tr>\n",
       "      <th>...</th>\n",
       "      <td>...</td>\n",
       "      <td>...</td>\n",
       "      <td>...</td>\n",
       "      <td>...</td>\n",
       "      <td>...</td>\n",
       "      <td>...</td>\n",
       "      <td>...</td>\n",
       "      <td>...</td>\n",
       "      <td>...</td>\n",
       "      <td>...</td>\n",
       "      <td>...</td>\n",
       "      <td>...</td>\n",
       "      <td>...</td>\n",
       "      <td>...</td>\n",
       "      <td>...</td>\n",
       "      <td>...</td>\n",
       "      <td>...</td>\n",
       "      <td>...</td>\n",
       "      <td>...</td>\n",
       "      <td>...</td>\n",
       "      <td>...</td>\n",
       "      <td>...</td>\n",
       "      <td>...</td>\n",
       "      <td>...</td>\n",
       "      <td>...</td>\n",
       "      <td>...</td>\n",
       "      <td>...</td>\n",
       "    </tr>\n",
       "    <tr>\n",
       "      <th>199995</th>\n",
       "      <td>control</td>\n",
       "      <td>-1.309691</td>\n",
       "      <td>2.925832</td>\n",
       "      <td>-0.584101</td>\n",
       "      <td>-1.232931</td>\n",
       "      <td>2.601140</td>\n",
       "      <td>-4.943288</td>\n",
       "      <td>0.416758</td>\n",
       "      <td>-0.083626</td>\n",
       "      <td>-1.232931</td>\n",
       "      <td>-0.156886</td>\n",
       "      <td>-0.009209</td>\n",
       "      <td>1.938339</td>\n",
       "      <td>0.374788</td>\n",
       "      <td>1.041399</td>\n",
       "      <td>0.975982</td>\n",
       "      <td>0.636279</td>\n",
       "      <td>1.073711</td>\n",
       "      <td>-0.406603</td>\n",
       "      <td>0.027760</td>\n",
       "      <td>-0.478887</td>\n",
       "      <td>1.265746</td>\n",
       "      <td>0.059865</td>\n",
       "      <td>0</td>\n",
       "      <td>0</td>\n",
       "      <td>0.043830</td>\n",
       "      <td>0</td>\n",
       "    </tr>\n",
       "    <tr>\n",
       "      <th>199996</th>\n",
       "      <td>control</td>\n",
       "      <td>-1.131361</td>\n",
       "      <td>1.562317</td>\n",
       "      <td>1.265630</td>\n",
       "      <td>-1.361879</td>\n",
       "      <td>1.169695</td>\n",
       "      <td>-3.247293</td>\n",
       "      <td>1.253718</td>\n",
       "      <td>-1.968727</td>\n",
       "      <td>-1.361879</td>\n",
       "      <td>1.487681</td>\n",
       "      <td>1.341897</td>\n",
       "      <td>-0.042151</td>\n",
       "      <td>0.695421</td>\n",
       "      <td>-0.485884</td>\n",
       "      <td>0.674360</td>\n",
       "      <td>0.892121</td>\n",
       "      <td>0.893261</td>\n",
       "      <td>0.182528</td>\n",
       "      <td>0.338611</td>\n",
       "      <td>1.006028</td>\n",
       "      <td>-1.943045</td>\n",
       "      <td>-0.145377</td>\n",
       "      <td>0</td>\n",
       "      <td>0</td>\n",
       "      <td>-0.089170</td>\n",
       "      <td>0</td>\n",
       "    </tr>\n",
       "    <tr>\n",
       "      <th>199997</th>\n",
       "      <td>control</td>\n",
       "      <td>0.442433</td>\n",
       "      <td>2.202153</td>\n",
       "      <td>-0.380019</td>\n",
       "      <td>-0.474935</td>\n",
       "      <td>0.766306</td>\n",
       "      <td>-1.722354</td>\n",
       "      <td>0.751083</td>\n",
       "      <td>0.595800</td>\n",
       "      <td>-0.474935</td>\n",
       "      <td>-1.133214</td>\n",
       "      <td>0.474008</td>\n",
       "      <td>-2.370446</td>\n",
       "      <td>-0.496472</td>\n",
       "      <td>1.098074</td>\n",
       "      <td>0.299918</td>\n",
       "      <td>0.718669</td>\n",
       "      <td>1.031289</td>\n",
       "      <td>0.398560</td>\n",
       "      <td>0.591750</td>\n",
       "      <td>1.620529</td>\n",
       "      <td>-1.081292</td>\n",
       "      <td>0.995816</td>\n",
       "      <td>0</td>\n",
       "      <td>0</td>\n",
       "      <td>-0.067830</td>\n",
       "      <td>0</td>\n",
       "    </tr>\n",
       "    <tr>\n",
       "      <th>199998</th>\n",
       "      <td>treatment</td>\n",
       "      <td>-0.084879</td>\n",
       "      <td>0.423688</td>\n",
       "      <td>0.389931</td>\n",
       "      <td>-1.996510</td>\n",
       "      <td>-0.123098</td>\n",
       "      <td>-1.103408</td>\n",
       "      <td>2.207197</td>\n",
       "      <td>0.402468</td>\n",
       "      <td>-1.996510</td>\n",
       "      <td>-0.251343</td>\n",
       "      <td>-1.136188</td>\n",
       "      <td>0.842605</td>\n",
       "      <td>-0.296565</td>\n",
       "      <td>-0.511203</td>\n",
       "      <td>-0.150816</td>\n",
       "      <td>-0.256026</td>\n",
       "      <td>2.231563</td>\n",
       "      <td>0.848577</td>\n",
       "      <td>0.739235</td>\n",
       "      <td>1.656343</td>\n",
       "      <td>0.436962</td>\n",
       "      <td>0.622010</td>\n",
       "      <td>0</td>\n",
       "      <td>1</td>\n",
       "      <td>-0.048530</td>\n",
       "      <td>0</td>\n",
       "    </tr>\n",
       "    <tr>\n",
       "      <th>199999</th>\n",
       "      <td>control</td>\n",
       "      <td>0.105915</td>\n",
       "      <td>-0.602186</td>\n",
       "      <td>-1.358102</td>\n",
       "      <td>-1.254886</td>\n",
       "      <td>-0.087760</td>\n",
       "      <td>0.278812</td>\n",
       "      <td>1.719685</td>\n",
       "      <td>-0.027311</td>\n",
       "      <td>-1.254886</td>\n",
       "      <td>1.126681</td>\n",
       "      <td>-0.658104</td>\n",
       "      <td>-0.820247</td>\n",
       "      <td>-1.094436</td>\n",
       "      <td>-0.994671</td>\n",
       "      <td>-1.538281</td>\n",
       "      <td>1.402783</td>\n",
       "      <td>0.555712</td>\n",
       "      <td>0.629730</td>\n",
       "      <td>0.436687</td>\n",
       "      <td>2.087262</td>\n",
       "      <td>0.136364</td>\n",
       "      <td>1.724350</td>\n",
       "      <td>0</td>\n",
       "      <td>0</td>\n",
       "      <td>-0.057567</td>\n",
       "      <td>0</td>\n",
       "    </tr>\n",
       "  </tbody>\n",
       "</table>\n",
       "<p>200000 rows × 27 columns</p>\n",
       "</div>"
      ],
      "text/plain": [
       "        treatment       X_1       X_2  ...  W    cate_x  recommendation\n",
       "0         control  0.034351  0.550725  ...  0  0.023380               0\n",
       "1         control -1.059404  0.299404  ...  0  0.023806               0\n",
       "2         control  0.051934  2.338729  ...  0  0.022708               0\n",
       "3       treatment  0.667770  0.539316  ...  1  0.893564               1\n",
       "4         control -1.416158  2.486628  ...  0  0.023378               0\n",
       "...           ...       ...       ...  ... ..       ...             ...\n",
       "199995    control -1.309691  2.925832  ...  0  0.043830               0\n",
       "199996    control -1.131361  1.562317  ...  0 -0.089170               0\n",
       "199997    control  0.442433  2.202153  ...  0 -0.067830               0\n",
       "199998  treatment -0.084879  0.423688  ...  1 -0.048530               0\n",
       "199999    control  0.105915 -0.602186  ...  0 -0.057567               0\n",
       "\n",
       "[200000 rows x 27 columns]"
      ]
     },
     "execution_count": 59,
     "metadata": {
      "tags": []
     },
     "output_type": "execute_result"
    }
   ],
   "source": [
    "task3"
   ]
  },
  {
   "cell_type": "code",
   "execution_count": 62,
   "metadata": {
    "colab": {
     "base_uri": "https://localhost:8080/"
    },
    "id": "NWF_CvpxH27-",
    "outputId": "78b61ea8-8dd7-4695-8cfb-aeb9acadae7b"
   },
   "outputs": [
    {
     "name": "stdout",
     "output_type": "stream",
     "text": [
      "[16:54:56] WARNING: /workspace/src/objective/regression_obj.cu:152: reg:linear is now deprecated in favor of reg:squarederror.\n",
      "[16:55:31] WARNING: /workspace/src/objective/regression_obj.cu:152: reg:linear is now deprecated in favor of reg:squarederror.\n",
      "[16:55:35] WARNING: /workspace/src/objective/regression_obj.cu:152: reg:linear is now deprecated in favor of reg:squarederror.\n",
      "[16:56:11] WARNING: /workspace/src/objective/regression_obj.cu:152: reg:linear is now deprecated in favor of reg:squarederror.\n"
     ]
    }
   ],
   "source": [
    "new_cate = learner_x_no_p.fit_predict(X, task3['recommendation'].values, y)"
   ]
  },
  {
   "cell_type": "code",
   "execution_count": 63,
   "metadata": {
    "colab": {
     "base_uri": "https://localhost:8080/",
     "height": 465
    },
    "id": "eA_Xugl7IJJw",
    "outputId": "b82219fa-fd8e-4473-d41e-287935494a32"
   },
   "outputs": [
    {
     "data": {
      "image/png": "[encoded data removed]",
      "text/plain": [
       "<Figure size 1382.4x777.6 with 1 Axes>"
      ]
     },
     "metadata": {
      "tags": []
     },
     "output_type": "display_data"
    }
   ],
   "source": [
    "fig = plt.figure(figsize=(19.20, 10.80))\n",
    "ax = plt.axes()\n",
    "ax.hist(new_cate, bins=50)\n",
    "plt.show()"
   ]
  }
 ],
 "metadata": {
  "colab": {
   "collapsed_sections": [],
   "name": "ABHomework.ipynb",
   "provenance": [],
   "toc_visible": true
  },
  "kernelspec": {
   "display_name": "Python 3",
   "language": "python",
   "name": "python3"
  },
  "language_info": {
   "codemirror_mode": {
    "name": "ipython",
    "version": 3
   },
   "file_extension": ".py",
   "mimetype": "text/x-python",
   "name": "python",
   "nbconvert_exporter": "python",
   "pygments_lexer": "ipython3",
   "version": "3.7.6"
  }
 },
 "nbformat": 4,
 "nbformat_minor": 1
}
