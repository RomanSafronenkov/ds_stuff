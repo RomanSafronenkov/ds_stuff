{
 "cells": [
  {
   "cell_type": "code",
   "execution_count": 1,
   "id": "d99d1a9a",
   "metadata": {},
   "outputs": [
    {
     "data": {
      "text/plain": [
       "'D:\\\\Dev\\\\jupyter\\\\projects\\\\Data Science\\\\venv\\\\Scripts\\\\python.exe'"
      ]
     },
     "execution_count": 1,
     "metadata": {},
     "output_type": "execute_result"
    }
   ],
   "source": [
    "import sys\n",
    "sys.executable"
   ]
  },
  {
   "cell_type": "code",
   "execution_count": 2,
   "id": "554fb20f",
   "metadata": {},
   "outputs": [],
   "source": [
    "from itertools import permutations, combinations_with_replacement\n",
    "import numpy as np\n",
    "\n",
    "def find_optimum_weights_for_ensemble(models, data_for_models, y_test, metric, target):\n",
    "    assert target in ['minimize', 'maximize']\n",
    "    \n",
    "    n_models = len(models.keys())\n",
    "    preds = {}\n",
    "    for model_name, model in models.items():\n",
    "        preds[model_name] = model.predict(data_for_models[model_name])\n",
    "        \n",
    "    coefs_unique = [\n",
    "        i for i in combinations_with_replacement(np.linspace(0, 1, 11), n_models) if sum(i) == 1\n",
    "    ]\n",
    "    \n",
    "    if target == 'minimize':\n",
    "        best_metric = np.inf\n",
    "    else:\n",
    "        best_metric = -np.inf\n",
    "    best_coefs = None\n",
    "    \n",
    "    for coefs in coefs_unique:\n",
    "        for variant in set(list(permutations(coefs, n_models))):\n",
    "            string = ' '.join([f'{list(models.keys())[i]}: {coef}' for i, coef in enumerate(variant)])\n",
    "            print(string)\n",
    "            \n",
    "            result_predict = np.sum(\n",
    "                [variant[i] * preds[model_name] for i, model_name in enumerate(preds.keys())],\n",
    "                axis=0)\n",
    "            \n",
    "            result_metric = metric(y_test, result_predict)\n",
    "            print(f'Metric: {result_metric}')\n",
    "            \n",
    "            if target == 'minimize':\n",
    "                if result_metric < best_metric:\n",
    "                    best_metric = result_metric\n",
    "                    best_coefs = variant\n",
    "            else:\n",
    "                if result_metric > best_metric:\n",
    "                    best_metric = result_metric\n",
    "                    best_coefs = variant\n",
    "    return best_coefs, best_metric"
   ]
  },
  {
   "cell_type": "code",
   "execution_count": 3,
   "id": "b9b1f0d9",
   "metadata": {},
   "outputs": [],
   "source": [
    "from sklearn.datasets import load_diabetes\n",
    "from sklearn.linear_model import Ridge\n",
    "from sklearn.ensemble import GradientBoostingRegressor\n",
    "from sklearn.svm import SVR\n",
    "from sklearn.model_selection import train_test_split\n",
    "from sklearn.metrics import mean_squared_error, r2_score"
   ]
  },
  {
   "cell_type": "code",
   "execution_count": 4,
   "id": "4ead7870",
   "metadata": {},
   "outputs": [
    {
     "data": {
      "text/plain": [
       "((296, 10), (296,), (146, 10), (146,))"
      ]
     },
     "execution_count": 4,
     "metadata": {},
     "output_type": "execute_result"
    }
   ],
   "source": [
    "x, y = load_diabetes(return_X_y=True)\n",
    "x_train, x_test, y_train, y_test = train_test_split(x, y, test_size=0.33, random_state=42)\n",
    "x_train.shape, y_train.shape, x_test.shape, y_test.shape"
   ]
  },
  {
   "cell_type": "code",
   "execution_count": 5,
   "id": "23af6bc2",
   "metadata": {},
   "outputs": [
    {
     "data": {
      "text/plain": [
       "(3196.982774079495, 0.4445111375735453)"
      ]
     },
     "execution_count": 5,
     "metadata": {},
     "output_type": "execute_result"
    }
   ],
   "source": [
    "linreg = Ridge()\n",
    "linreg.fit(x_train, y_train)\n",
    "linreg_preds = linreg.predict(x_test)\n",
    "mean_squared_error(y_test, linreg_preds), r2_score(y_test, linreg_preds)"
   ]
  },
  {
   "cell_type": "code",
   "execution_count": 6,
   "id": "c2bf6af5",
   "metadata": {},
   "outputs": [
    {
     "data": {
      "text/plain": [
       "(3131.57320735605, 0.4558763179259717)"
      ]
     },
     "execution_count": 6,
     "metadata": {},
     "output_type": "execute_result"
    }
   ],
   "source": [
    "tree = GradientBoostingRegressor(max_depth=3, min_samples_leaf=12, random_state=42)\n",
    "tree.fit(x_train, y_train)\n",
    "tree_preds = tree.predict(x_test)\n",
    "mean_squared_error(y_test, tree_preds), r2_score(y_test, tree_preds)"
   ]
  },
  {
   "cell_type": "code",
   "execution_count": 7,
   "id": "e5d79125",
   "metadata": {},
   "outputs": [
    {
     "data": {
      "text/plain": [
       "(4345.92389814928, 0.24487790739817772)"
      ]
     },
     "execution_count": 7,
     "metadata": {},
     "output_type": "execute_result"
    }
   ],
   "source": [
    "svm = SVR(kernel='poly')\n",
    "svm.fit(x_train, y_train)\n",
    "svm_preds = svm.predict(x_test)\n",
    "mean_squared_error(y_test, svm_preds), r2_score(y_test, svm_preds)"
   ]
  },
  {
   "cell_type": "code",
   "execution_count": 8,
   "id": "7671fdcf",
   "metadata": {},
   "outputs": [
    {
     "name": "stdout",
     "output_type": "stream",
     "text": [
      "Ridge: 1.0 Tree: 0.0 SVM: 0.0\n",
      "Metric: 3196.982774079495\n",
      "Ridge: 0.0 Tree: 0.0 SVM: 1.0\n",
      "Metric: 4345.92389814928\n",
      "Ridge: 0.0 Tree: 1.0 SVM: 0.0\n",
      "Metric: 3131.57320735605\n",
      "Ridge: 0.0 Tree: 0.1 SVM: 0.9\n",
      "Metric: 4016.4625686344402\n",
      "Ridge: 0.0 Tree: 0.9 SVM: 0.1\n",
      "Metric: 3044.9820159998553\n",
      "Ridge: 0.9 Tree: 0.0 SVM: 0.1\n",
      "Metric: 3275.449968953468\n",
      "Ridge: 0.9 Tree: 0.1 SVM: 0.0\n",
      "Metric: 3088.035672600813\n",
      "Ridge: 0.1 Tree: 0.9 SVM: 0.0\n",
      "Metric: 3035.7080192220565\n",
      "Ridge: 0.1 Tree: 0.0 SVM: 0.9\n",
      "Metric: 4194.6028682092965\n",
      "Ridge: 0.8 Tree: 0.0 SVM: 0.2\n",
      "Metric: 3362.0120343903322\n",
      "Ridge: 0.0 Tree: 0.8 SVM: 0.2\n",
      "Metric: 3004.618882518221\n",
      "Ridge: 0.0 Tree: 0.2 SVM: 0.8\n",
      "Metric: 3733.2292969941595\n",
      "Ridge: 0.2 Tree: 0.8 SVM: 0.0\n",
      "Metric: 2962.599752156139\n",
      "Ridge: 0.2 Tree: 0.0 SVM: 0.8\n",
      "Metric: 4051.3767088322033\n",
      "Ridge: 0.8 Tree: 0.2 SVM: 0.0\n",
      "Metric: 3001.845492190206\n",
      "Ridge: 0.30000000000000004 Tree: 0.0 SVM: 0.7000000000000001\n",
      "Metric: 3916.245420017999\n",
      "Ridge: 0.30000000000000004 Tree: 0.7000000000000001 SVM: 0.0\n",
      "Metric: 2912.2484061582963\n",
      "Ridge: 0.0 Tree: 0.30000000000000004 SVM: 0.7000000000000001\n",
      "Metric: 3496.224083228438\n",
      "Ridge: 0.7000000000000001 Tree: 0.0 SVM: 0.30000000000000004\n",
      "Metric: 3456.6689703900856\n",
      "Ridge: 0.7000000000000001 Tree: 0.30000000000000004 SVM: 0.0\n",
      "Metric: 2938.412232847674\n",
      "Ridge: 0.0 Tree: 0.7000000000000001 SVM: 0.30000000000000004\n",
      "Metric: 3010.4838069111456\n",
      "Ridge: 0.6000000000000001 Tree: 0.0 SVM: 0.4\n",
      "Metric: 3559.4207769527284\n",
      "Ridge: 0.4 Tree: 0.6000000000000001 SVM: 0.0\n",
      "Metric: 2884.653981228528\n",
      "Ridge: 0.6000000000000001 Tree: 0.4 SVM: 0.0\n",
      "Metric: 2897.735894573217\n",
      "Ridge: 0.4 Tree: 0.0 SVM: 0.6000000000000001\n",
      "Metric: 3789.209001766685\n",
      "Ridge: 0.0 Tree: 0.4 SVM: 0.6000000000000001\n",
      "Metric: 3305.4469273372756\n",
      "Ridge: 0.0 Tree: 0.6000000000000001 SVM: 0.4\n",
      "Metric: 3062.5767891786295\n",
      "Ridge: 0.5 Tree: 0.5 SVM: 0.0\n",
      "Metric: 2879.816477366835\n",
      "Ridge: 0.0 Tree: 0.5 SVM: 0.5\n",
      "Metric: 3160.897829320673\n",
      "Ridge: 0.5 Tree: 0.0 SVM: 0.5\n",
      "Metric: 3670.267454078263\n",
      "Ridge: 0.1 Tree: 0.1 SVM: 0.8\n",
      "Metric: 3880.9245423791444\n",
      "Ridge: 0.1 Tree: 0.8 SVM: 0.1\n",
      "Metric: 2979.5618820557347\n",
      "Ridge: 0.8 Tree: 0.1 SVM: 0.1\n",
      "Metric: 3158.8147343529895\n",
      "Ridge: 0.7000000000000001 Tree: 0.2 SVM: 0.1\n",
      "Metric: 3064.936420820585\n",
      "Ridge: 0.2 Tree: 0.1 SVM: 0.7000000000000001\n",
      "Metric: 3753.4813866867376\n",
      "Ridge: 0.2 Tree: 0.7000000000000001 SVM: 0.1\n",
      "Metric: 2936.898669179689\n",
      "Ridge: 0.1 Tree: 0.7000000000000001 SVM: 0.2\n",
      "Metric: 2969.6438027639724\n",
      "Ridge: 0.1 Tree: 0.2 SVM: 0.7000000000000001\n",
      "Metric: 3613.47427442355\n",
      "Ridge: 0.7000000000000001 Tree: 0.1 SVM: 0.2\n",
      "Metric: 3237.6886666680557\n",
      "Ridge: 0.30000000000000004 Tree: 0.6000000000000001 SVM: 0.1\n",
      "Metric: 2916.9923773717187\n",
      "Ridge: 0.1 Tree: 0.30000000000000004 SVM: 0.6000000000000001\n",
      "Metric: 3392.2520643425155\n",
      "Ridge: 0.6000000000000001 Tree: 0.1 SVM: 0.30000000000000004\n",
      "Metric: 3324.6574695460113\n",
      "Ridge: 0.6000000000000001 Tree: 0.30000000000000004 SVM: 0.1\n",
      "Metric: 2993.815028356256\n",
      "Ridge: 0.1 Tree: 0.6000000000000001 SVM: 0.30000000000000004\n",
      "Metric: 3005.953781346769\n",
      "Ridge: 0.30000000000000004 Tree: 0.1 SVM: 0.6000000000000001\n",
      "Metric: 3634.1331015572205\n",
      "Ridge: 0.1 Tree: 0.4 SVM: 0.5\n",
      "Metric: 3217.257912136041\n",
      "Ridge: 0.5 Tree: 0.1 SVM: 0.4\n",
      "Metric: 3419.7211429868585\n",
      "Ridge: 0.1 Tree: 0.5 SVM: 0.4\n",
      "Metric: 3088.4918178041253\n",
      "Ridge: 0.4 Tree: 0.1 SVM: 0.5\n",
      "Metric: 3522.8796869905946\n",
      "Ridge: 0.5 Tree: 0.4 SVM: 0.1\n",
      "Metric: 2945.4505569600024\n",
      "Ridge: 0.4 Tree: 0.5 SVM: 0.1\n",
      "Metric: 2919.843006631823\n",
      "Ridge: 0.2 Tree: 0.2 SVM: 0.6000000000000001\n",
      "Metric: 3501.8141224158308\n",
      "Ridge: 0.2 Tree: 0.6000000000000001 SVM: 0.2\n",
      "Metric: 2957.4256440777986\n",
      "Ridge: 0.6000000000000001 Tree: 0.2 SVM: 0.2\n",
      "Metric: 3136.1222200138536\n",
      "Ridge: 0.2 Tree: 0.5 SVM: 0.30000000000000004\n",
      "Metric: 3024.180676850468\n",
      "Ridge: 0.5 Tree: 0.30000000000000004 SVM: 0.2\n",
      "Metric: 3057.312694427728\n",
      "Ridge: 0.30000000000000004 Tree: 0.2 SVM: 0.5\n",
      "Metric: 3398.2488409710013\n",
      "Ridge: 0.5 Tree: 0.2 SVM: 0.30000000000000004\n",
      "Metric: 3215.4028897700136\n",
      "Ridge: 0.30000000000000004 Tree: 0.5 SVM: 0.2\n",
      "Metric: 2967.9644064597\n",
      "Ridge: 0.2 Tree: 0.30000000000000004 SVM: 0.5\n",
      "Metric: 3296.374916019484\n",
      "Ridge: 0.4 Tree: 0.4 SVM: 0.2\n",
      "Metric: 3001.2600899096765\n",
      "Ridge: 0.4 Tree: 0.2 SVM: 0.4\n",
      "Metric: 3302.7784300890626\n",
      "Ridge: 0.2 Tree: 0.4 SVM: 0.4\n",
      "Metric: 3137.1637674976964\n",
      "Ridge: 0.30000000000000004 Tree: 0.30000000000000004 SVM: 0.4\n",
      "Metric: 3208.592638259341\n",
      "Ridge: 0.4 Tree: 0.30000000000000004 SVM: 0.30000000000000004\n",
      "Metric: 3128.905231062089\n",
      "Ridge: 0.30000000000000004 Tree: 0.4 SVM: 0.30000000000000004\n",
      "Metric: 3065.164493422242\n"
     ]
    },
    {
     "data": {
      "text/plain": [
       "((0.5, 0.5, 0.0), 2879.816477366835)"
      ]
     },
     "execution_count": 8,
     "metadata": {},
     "output_type": "execute_result"
    }
   ],
   "source": [
    "models = {\n",
    "    'Ridge': linreg,\n",
    "    'Tree': tree,\n",
    "    'SVM': svm\n",
    "}\n",
    "\n",
    "data_for_models = {\n",
    "    'Ridge': x_test,\n",
    "    'Tree': x_test,\n",
    "    'SVM': x_test\n",
    "}\n",
    "\n",
    "find_optimum_weights_for_ensemble(\n",
    "    models=models,\n",
    "    data_for_models=data_for_models,\n",
    "    y_test=y_test,\n",
    "    metric=mean_squared_error,\n",
    "    target='minimize'\n",
    ")"
   ]
  },
  {
   "cell_type": "code",
   "execution_count": 9,
   "id": "6afaf6d4",
   "metadata": {},
   "outputs": [
    {
     "name": "stdout",
     "output_type": "stream",
     "text": [
      "Ridge: 1.0 Tree: 0.0 SVM: 0.0\n",
      "Metric: 0.4445111375735453\n",
      "Ridge: 0.0 Tree: 0.0 SVM: 1.0\n",
      "Metric: 0.24487790739817772\n",
      "Ridge: 0.0 Tree: 1.0 SVM: 0.0\n",
      "Metric: 0.4558763179259717\n",
      "Ridge: 0.0 Tree: 0.1 SVM: 0.9\n",
      "Metric: 0.302123163966193\n",
      "Ridge: 0.0 Tree: 0.9 SVM: 0.1\n",
      "Metric: 0.4709218923884283\n",
      "Ridge: 0.9 Tree: 0.0 SVM: 0.1\n",
      "Metric: 0.4308771408026718\n",
      "Ridge: 0.9 Tree: 0.1 SVM: 0.0\n",
      "Metric: 0.4634411430636367\n",
      "Ridge: 0.1 Tree: 0.9 SVM: 0.0\n",
      "Metric: 0.472533287345578\n",
      "Ridge: 0.1 Tree: 0.0 SVM: 0.9\n",
      "Metric: 0.27117055666237766\n",
      "Ridge: 0.8 Tree: 0.0 SVM: 0.2\n",
      "Metric: 0.4158366270880951\n",
      "Ridge: 0.0 Tree: 0.8 SVM: 0.2\n",
      "Metric: 0.4779351522919434\n",
      "Ridge: 0.0 Tree: 0.2 SVM: 0.8\n",
      "Metric: 0.351336105975267\n",
      "Ridge: 0.2 Tree: 0.8 SVM: 0.0\n",
      "Metric: 0.48523614844188434\n",
      "Ridge: 0.2 Tree: 0.0 SVM: 0.8\n",
      "Metric: 0.2960566889828745\n",
      "Ridge: 0.8 Tree: 0.2 SVM: 0.0\n",
      "Metric: 0.4784170402304284\n",
      "Ridge: 0.30000000000000004 Tree: 0.0 SVM: 0.7000000000000001\n",
      "Metric: 0.31953630435966873\n",
      "Ridge: 0.30000000000000004 Tree: 0.7000000000000001 SVM: 0.0\n",
      "Metric: 0.493984901214891\n",
      "Ridge: 0.0 Tree: 0.30000000000000004 SVM: 0.7000000000000001\n",
      "Metric: 0.3925167334253996\n",
      "Ridge: 0.7000000000000001 Tree: 0.0 SVM: 0.30000000000000004\n",
      "Metric: 0.39938959642981575\n",
      "Ridge: 0.7000000000000001 Tree: 0.30000000000000004 SVM: 0.0\n",
      "Metric: 0.48943882907392045\n",
      "Ridge: 0.0 Tree: 0.7000000000000001 SVM: 0.30000000000000004\n",
      "Metric: 0.4769160976365173\n",
      "Ridge: 0.6000000000000001 Tree: 0.0 SVM: 0.4\n",
      "Metric: 0.38153604882783343\n",
      "Ridge: 0.4 Tree: 0.6000000000000001 SVM: 0.0\n",
      "Metric: 0.4987795456645979\n",
      "Ridge: 0.6000000000000001 Tree: 0.4 SVM: 0.0\n",
      "Metric: 0.4965065095941127\n",
      "Ridge: 0.4 Tree: 0.0 SVM: 0.6000000000000001\n",
      "Metric: 0.34160940279276\n",
      "Ridge: 0.0 Tree: 0.4 SVM: 0.6000000000000001\n",
      "Metric: 0.42566504631659097\n",
      "Ridge: 0.0 Tree: 0.6000000000000001 SVM: 0.4\n",
      "Metric: 0.46786472842214977\n",
      "Ridge: 0.5 Tree: 0.5 SVM: 0.0\n",
      "Metric: 0.49962008179100514\n",
      "Ridge: 0.0 Tree: 0.5 SVM: 0.5\n",
      "Metric: 0.45078104464884106\n",
      "Ridge: 0.5 Tree: 0.0 SVM: 0.5\n",
      "Metric: 0.3622759842821479\n",
      "Ridge: 0.1 Tree: 0.1 SVM: 0.8\n",
      "Metric: 0.3256734516407205\n",
      "Ridge: 0.1 Tree: 0.8 SVM: 0.1\n",
      "Metric: 0.4822889088387654\n",
      "Ridge: 0.8 Tree: 0.1 SVM: 0.1\n",
      "Metric: 0.45114299093873245\n",
      "Ridge: 0.7000000000000001 Tree: 0.2 SVM: 0.1\n",
      "Metric: 0.4674547327514935\n",
      "Ridge: 0.2 Tree: 0.1 SVM: 0.7000000000000001\n",
      "Metric: 0.34781722237154533\n",
      "Ridge: 0.2 Tree: 0.7000000000000001 SVM: 0.1\n",
      "Metric: 0.4897018169658026\n",
      "Ridge: 0.1 Tree: 0.7000000000000001 SVM: 0.2\n",
      "Metric: 0.48401221577301146\n",
      "Ridge: 0.1 Tree: 0.2 SVM: 0.7000000000000001\n",
      "Metric: 0.37214403206012237\n",
      "Ridge: 0.7000000000000001 Tree: 0.1 SVM: 0.2\n",
      "Metric: 0.4374383218701253\n",
      "Ridge: 0.30000000000000004 Tree: 0.6000000000000001 SVM: 0.1\n",
      "Metric: 0.49316061676954026\n",
      "Ridge: 0.1 Tree: 0.30000000000000004 SVM: 0.6000000000000001\n",
      "Metric: 0.4105822979205829\n",
      "Ridge: 0.6000000000000001 Tree: 0.1 SVM: 0.30000000000000004\n",
      "Metric: 0.42232713585781523\n",
      "Ridge: 0.6000000000000001 Tree: 0.30000000000000004 SVM: 0.1\n",
      "Metric: 0.4798123662409548\n",
      "Ridge: 0.1 Tree: 0.6000000000000001 SVM: 0.30000000000000004\n",
      "Metric: 0.47770320814831624\n",
      "Ridge: 0.30000000000000004 Tree: 0.1 SVM: 0.6000000000000001\n",
      "Metric: 0.3685544761586673\n",
      "Ridge: 0.1 Tree: 0.4 SVM: 0.5\n",
      "Metric: 0.4409882492221019\n",
      "Ridge: 0.5 Tree: 0.1 SVM: 0.4\n",
      "Metric: 0.40580943290180205\n",
      "Ridge: 0.1 Tree: 0.5 SVM: 0.4\n",
      "Metric: 0.46336188596467975\n",
      "Ridge: 0.4 Tree: 0.1 SVM: 0.5\n",
      "Metric: 0.3878852130020861\n",
      "Ridge: 0.5 Tree: 0.4 SVM: 0.1\n",
      "Metric: 0.4882158914071163\n",
      "Ridge: 0.4 Tree: 0.5 SVM: 0.1\n",
      "Metric: 0.49266530824997823\n",
      "Ridge: 0.2 Tree: 0.2 SVM: 0.6000000000000001\n",
      "Metric: 0.3915454412012749\n",
      "Ridge: 0.2 Tree: 0.6000000000000001 SVM: 0.2\n",
      "Metric: 0.48613517093077974\n",
      "Ridge: 0.6000000000000001 Tree: 0.2 SVM: 0.2\n",
      "Metric: 0.45508590832885576\n",
      "Ridge: 0.2 Tree: 0.5 SVM: 0.30000000000000004\n",
      "Metric: 0.4745362103368155\n",
      "Ridge: 0.5 Tree: 0.30000000000000004 SVM: 0.2\n",
      "Metric: 0.4687793864642862\n",
      "Ridge: 0.30000000000000004 Tree: 0.2 SVM: 0.5\n",
      "Metric: 0.4095403333987244\n",
      "Ridge: 0.5 Tree: 0.2 SVM: 0.30000000000000004\n",
      "Metric: 0.4413105669625148\n",
      "Ridge: 0.30000000000000004 Tree: 0.5 SVM: 0.2\n",
      "Metric: 0.48430401776524834\n",
      "Ridge: 0.2 Tree: 0.30000000000000004 SVM: 0.5\n",
      "Metric: 0.42724134547206305\n",
      "Ridge: 0.4 Tree: 0.4 SVM: 0.2\n",
      "Metric: 0.47851875627641716\n",
      "Ridge: 0.4 Tree: 0.2 SVM: 0.4\n",
      "Metric: 0.4261287086524711\n",
      "Ridge: 0.2 Tree: 0.4 SVM: 0.4\n",
      "Metric: 0.45490493518390984\n",
      "Ridge: 0.30000000000000004 Tree: 0.30000000000000004 SVM: 0.4\n",
      "Metric: 0.4424938760798405\n",
      "Ridge: 0.4 Tree: 0.30000000000000004 SVM: 0.30000000000000004\n",
      "Metric: 0.4563398897439148\n",
      "Ridge: 0.30000000000000004 Tree: 0.4 SVM: 0.30000000000000004\n",
      "Metric: 0.46741510420201493\n"
     ]
    },
    {
     "data": {
      "text/plain": [
       "((0.5, 0.5, 0.0), 0.49962008179100514)"
      ]
     },
     "execution_count": 9,
     "metadata": {},
     "output_type": "execute_result"
    }
   ],
   "source": [
    "find_optimum_weights_for_ensemble(\n",
    "    models=models,\n",
    "    data_for_models=data_for_models,\n",
    "    y_test=y_test,\n",
    "    metric=r2_score,\n",
    "    target='maximize'\n",
    ")"
   ]
  },
  {
   "cell_type": "code",
   "execution_count": null,
   "id": "5667ca63",
   "metadata": {},
   "outputs": [],
   "source": []
  }
 ],
 "metadata": {
  "kernelspec": {
   "display_name": "data_science_39",
   "language": "python",
   "name": "data_science_39"
  },
  "language_info": {
   "codemirror_mode": {
    "name": "ipython",
    "version": 3
   },
   "file_extension": ".py",
   "mimetype": "text/x-python",
   "name": "python",
   "nbconvert_exporter": "python",
   "pygments_lexer": "ipython3",
   "version": "3.9.13"
  }
 },
 "nbformat": 4,
 "nbformat_minor": 5
}
