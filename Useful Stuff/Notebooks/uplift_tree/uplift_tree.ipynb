{
 "cells": [
  {
   "cell_type": "code",
   "execution_count": 1,
   "id": "1d9efa7b-4a76-4140-85fd-937324b0e229",
   "metadata": {},
   "outputs": [],
   "source": [
    "import numpy as np\n",
    "\n",
    "from typing import Tuple"
   ]
  },
  {
   "cell_type": "code",
   "execution_count": 2,
   "id": "4b94d9aa-efb6-41d7-9a0f-bedc3633e25f",
   "metadata": {},
   "outputs": [],
   "source": [
    "DATA_PATH = './data'\n",
    "example_X = np.load(f'{DATA_PATH}/example_X.npy')\n",
    "example_treatment = np.load(f'{DATA_PATH}/example_treatment.npy')\n",
    "example_y = np.load(f'{DATA_PATH}/example_y.npy')\n",
    "\n",
    "example_preds = np.load(f'{DATA_PATH}/example_preds.npy')"
   ]
  },
  {
   "cell_type": "code",
   "execution_count": 3,
   "id": "8795e3be-010b-47ab-986e-5bbce4eedf1e",
   "metadata": {},
   "outputs": [
    {
     "data": {
      "text/plain": [
       "(50000, 5)"
      ]
     },
     "execution_count": 3,
     "metadata": {},
     "output_type": "execute_result"
    }
   ],
   "source": [
    "example_X.shape"
   ]
  },
  {
   "cell_type": "code",
   "execution_count": 4,
   "id": "f020bb0d-2fb9-475a-a11a-d702622e8695",
   "metadata": {},
   "outputs": [
    {
     "data": {
      "text/plain": [
       "(array([1, 1, 1, ..., 1, 1, 0], dtype=int64),\n",
       " array([2.8480419 , 1.11098383, 0.24938254, ..., 3.88156137, 0.25859638,\n",
       "        0.50738829]))"
      ]
     },
     "execution_count": 4,
     "metadata": {},
     "output_type": "execute_result"
    }
   ],
   "source": [
    "example_treatment, example_y"
   ]
  },
  {
   "cell_type": "code",
   "execution_count": 5,
   "id": "4aa40ce0-41f4-4b44-9c31-70670a17055c",
   "metadata": {},
   "outputs": [],
   "source": [
    "def criterion(\n",
    "    treatment_target: np.ndarray,  # массив с целевыми значениями в целевой группе\n",
    "    control_target: np.ndarray  # массив с целевыми значениями в контрольной группе\n",
    "):\n",
    "    \"\"\"DeltaDeltaP\"\"\"\n",
    "    return np.mean(treatment_target) - np.mean(control_target)"
   ]
  },
  {
   "cell_type": "code",
   "execution_count": 6,
   "id": "ea89f63d-be62-4c49-8aa7-01ce5bbe567a",
   "metadata": {},
   "outputs": [
    {
     "data": {
      "text/plain": [
       "0.8133621067075112"
      ]
     },
     "execution_count": 6,
     "metadata": {},
     "output_type": "execute_result"
    }
   ],
   "source": [
    "criterion(example_y[example_treatment.astype(bool)], example_y[~example_treatment.astype(bool)])"
   ]
  },
  {
   "cell_type": "code",
   "execution_count": 7,
   "id": "b807b27c-2e8d-456c-aedd-c509b27a5327",
   "metadata": {},
   "outputs": [],
   "source": [
    "def create_threshold_options(column_values: np.ndarray):\n",
    "    unique_values = np.unique(column_values)\n",
    "    if len(unique_values) > 10:\n",
    "        percentiles = np.percentile(column_values, [3, 5, 10, 20, 30, 50, 70, 80, 90, 95, 97])\n",
    "    else:\n",
    "        percentiles = np.percentile(column_values, [10, 50, 90])\n",
    "    threshold_options = np.unique(percentiles)\n",
    "    return threshold_options\n",
    "\n",
    "def find_threshold_to_split(\n",
    "    column_values: np.ndarray,\n",
    "    treatment: np.ndarray,\n",
    "    target: np.ndarray\n",
    "):\n",
    "    threshold_options = create_threshold_options(column_values)\n",
    "    best_threshold = None\n",
    "    best_criterion = float('-inf')\n",
    "    \n",
    "    for option in threshold_options:\n",
    "        condition = column_values <= option\n",
    "        \n",
    "        left_target, right_target = target[condition], target[~condition]\n",
    "        left_treatment, right_treatment = treatment[condition], treatment[~condition]\n",
    "\n",
    "        left_criterion = criterion(left_target[left_treatment.astype(bool)], left_target[~left_treatment.astype(bool)])\n",
    "        right_criterion = criterion(right_target[right_treatment.astype(bool)], right_target[~right_treatment.astype(bool)])\n",
    "        print('*'*30)\n",
    "        print(option)\n",
    "        print(left_criterion)\n",
    "        print(right_criterion)\n",
    "        print(len(left_target), len(right_target))\n",
    "        criterion_value = np.abs(left_criterion - right_criterion)\n",
    "        print(criterion_value)\n",
    "\n",
    "        if criterion_value > best_criterion:\n",
    "            best_threshold = option\n",
    "            best_criterion = criterion_value\n",
    "    return best_threshold, best_criterion"
   ]
  },
  {
   "cell_type": "code",
   "execution_count": 8,
   "id": "8dcf5b9e-b213-4c95-b541-6d5cc244fa83",
   "metadata": {},
   "outputs": [
    {
     "data": {
      "text/plain": [
       "array([-1.88194354, -1.63390068, -1.27255591, -0.83430294, -0.52164123,\n",
       "       -0.00405552,  0.52537453,  0.84283294,  1.28122757,  1.63985338,\n",
       "        1.86980025])"
      ]
     },
     "execution_count": 8,
     "metadata": {},
     "output_type": "execute_result"
    }
   ],
   "source": [
    "create_threshold_options(example_X[:, 0])"
   ]
  },
  {
   "cell_type": "code",
   "execution_count": 9,
   "id": "3b0a6fb3-0326-439f-b4c9-0f8dcbe54557",
   "metadata": {},
   "outputs": [
    {
     "name": "stdout",
     "output_type": "stream",
     "text": [
      "******************************\n",
      "-1.881943541589994\n",
      "-1.4522051530430984\n",
      "0.8813243356997235\n",
      "1500 48500\n",
      "2.3335294887428217\n",
      "******************************\n",
      "-1.633900676779844\n",
      "-1.2349018002809096\n",
      "0.9176303289378266\n",
      "2500 47500\n",
      "2.152532129218736\n",
      "******************************\n",
      "-1.272555905121884\n",
      "-0.9253608754167951\n",
      "1.0026398310581386\n",
      "5000 45000\n",
      "1.9280007064749336\n",
      "******************************\n",
      "-0.8343029365043767\n",
      "-0.5815893044039584\n",
      "1.1523727064437574\n",
      "10000 40000\n",
      "1.7339620108477158\n",
      "******************************\n",
      "-0.521641226833238\n",
      "-0.3423012625893507\n",
      "1.3012505801256338\n",
      "15000 35000\n",
      "1.6435518427149844\n",
      "******************************\n",
      "-0.0040555152405001\n",
      "0.004014882972845135\n",
      "1.6081859478386278\n",
      "25000 25000\n",
      "1.6041710648657825\n",
      "******************************\n",
      "0.5253745251188942\n",
      "0.3079132817051238\n",
      "1.9840915572446947\n",
      "35000 15000\n",
      "1.6761782755395709\n",
      "******************************\n",
      "0.8428329389786856\n",
      "0.45661983599927736\n",
      "2.2242964961219123\n",
      "40000 10000\n",
      "1.767676660122635\n",
      "******************************\n",
      "1.2812275747474238\n",
      "0.6167154452803617\n",
      "2.577791801897137\n",
      "45000 5000\n",
      "1.9610763566167755\n",
      "******************************\n",
      "1.6398533844184269\n",
      "0.7046686756828136\n",
      "2.9045166971679426\n",
      "47500 2500\n",
      "2.199848021485129\n",
      "******************************\n",
      "1.869800250289363\n",
      "0.7453976673033954\n",
      "3.0993996235583836\n",
      "48500 1500\n",
      "2.3540019562549883\n"
     ]
    },
    {
     "data": {
      "text/plain": [
       "(1.869800250289363, 2.3540019562549883)"
      ]
     },
     "execution_count": 9,
     "metadata": {},
     "output_type": "execute_result"
    }
   ],
   "source": [
    "find_threshold_to_split(example_X[:, 0], example_treatment, example_y)  # учесть гиперпараметры"
   ]
  },
  {
   "cell_type": "code",
   "execution_count": 10,
   "id": "30536d18-11f7-4912-a3da-1526e908a41d",
   "metadata": {},
   "outputs": [
    {
     "data": {
      "text/plain": [
       "array([2.8480419 , 1.11098383, 0.24938254, ..., 3.88156137, 0.25859638,\n",
       "       0.50738829])"
      ]
     },
     "execution_count": 10,
     "metadata": {},
     "output_type": "execute_result"
    }
   ],
   "source": [
    "example_y[~(example_X[:, 0]<=-1.88194354)]  # Так можно фильтровать массив по порогу значения"
   ]
  },
  {
   "cell_type": "code",
   "execution_count": 11,
   "id": "d848705f-e734-484d-89c9-e5ae94dda374",
   "metadata": {},
   "outputs": [
    {
     "data": {
      "text/plain": [
       "array([0, 0, 0, ..., 0, 0, 1], dtype=int64)"
      ]
     },
     "execution_count": 11,
     "metadata": {},
     "output_type": "execute_result"
    }
   ],
   "source": [
    "np.abs(example_treatment-1)  # инверсия 0 и 1"
   ]
  },
  {
   "cell_type": "code",
   "execution_count": 12,
   "id": "c5f86de7-8528-4cf4-9804-a1d06a2c09c7",
   "metadata": {},
   "outputs": [],
   "source": [
    "class UpliftTreeRegressor:\n",
    "    def __init__(\n",
    "        self,\n",
    "        max_depth: int = 3,  # максимальная глубина дерева\n",
    "        min_samples_leaf: int = 1000,  # минимальное необходимое число обучающих объектов в листе дерева\n",
    "        min_samples_leaf_treated: int = 300,  # минимальное необходимое число обучающих объектов с T=1 в листе дерева\n",
    "        min_samples_leaf_control: int = 300  # минимальное необходимое число обучающих объектов с T=0 в листе дерева\n",
    "    ) -> None:\n",
    "        self.max_depth = max_depth\n",
    "        self.min_samples_leaf = min_samples_leaf\n",
    "        self.min_samples_leaf_treated = min_samples_leaf_treated\n",
    "        self.min_samples_leaf_control = min_samples_leaf_control\n",
    "\n",
    "        self.tree = {}\n",
    "\n",
    "    @staticmethod\n",
    "    def criterion(\n",
    "        treatment_target: np.ndarray,  # массив с целевыми значениями в целевой группе\n",
    "        control_target: np.ndarray  # массив с целевыми значениями в контрольной группе\n",
    "    ) -> float:\n",
    "        \"\"\"DeltaDeltaP\"\"\"\n",
    "        return np.mean(treatment_target) - np.mean(control_target)\n",
    "\n",
    "    @staticmethod\n",
    "    def create_threshold_options(column_values: np.ndarray) -> np.ndarray:\n",
    "        '''Варианты порогов разбиения''' \n",
    "        unique_values = np.unique(column_values)\n",
    "        if len(unique_values) > 10:\n",
    "            percentiles = np.percentile(column_values, [3, 5, 10, 20, 30, 50, 70, 80, 90, 95, 97])\n",
    "        else:\n",
    "            percentiles = np.percentile(column_values, [10, 50, 90])\n",
    "        threshold_options = np.unique(percentiles)\n",
    "        return threshold_options\n",
    "    \n",
    "    def find_threshold_to_split(\n",
    "        self,\n",
    "        column_values: np.ndarray,\n",
    "        treatment: np.ndarray,\n",
    "        target: np.ndarray\n",
    "    ) -> Tuple[float, float, float, float]:\n",
    "        '''\n",
    "        По заданному признаку ищем порог, который максимизирует критерий разбиения\n",
    "        '''\n",
    "        \n",
    "        threshold_options = self.create_threshold_options(column_values)\n",
    "        best_threshold = None\n",
    "        best_criterion = float('-inf')\n",
    "        best_left_criterion = None\n",
    "        best_right_criterion = None\n",
    "        \n",
    "        for option in threshold_options:\n",
    "            # проходим по всем порогам\n",
    "            condition = column_values <= option  # условие разбиения, все данные, которые <= идут налево, остальные - направо\n",
    "            \n",
    "            left_target, right_target = target[condition], target[~condition]\n",
    "\n",
    "            if len(left_target) < self.min_samples_leaf or len(right_target) < self.min_samples_leaf:\n",
    "                # если число элементов в листе меньше минимального, то не рассматриваем этот порог\n",
    "                continue\n",
    "            \n",
    "            left_treatment, right_treatment = treatment[condition], treatment[~condition]\n",
    "            if sum(left_treatment) < self.min_samples_leaf_treated or sum(right_treatment) < self.min_samples_leaf_treated:\n",
    "                # если число элементов, принадлежащих целевой группе в листе меньше минимального, то не рассматриваем этот порог\n",
    "                continue\n",
    "\n",
    "            if np.sum(np.abs(left_treatment-1)) < self.min_samples_leaf_control or np.sum(np.abs(right_treatment-1)) < self.min_samples_leaf_control:\n",
    "                # если число элементов, принадлежащих контрольной группе в листе меньше минимального, то не рассмтариваем этот порог\n",
    "                continue\n",
    "    \n",
    "            left_criterion = self.criterion(left_target[left_treatment.astype(bool)], left_target[~left_treatment.astype(bool)])\n",
    "            right_criterion = self.criterion(right_target[right_treatment.astype(bool)], right_target[~right_treatment.astype(bool)])\n",
    " \n",
    "            criterion_value = np.abs(left_criterion - right_criterion)\n",
    "\n",
    "            if criterion_value > best_criterion:\n",
    "                best_threshold = option\n",
    "                best_criterion = criterion_value\n",
    "                best_left_criterion = left_criterion\n",
    "                best_right_criterion = right_criterion\n",
    "                \n",
    "        return best_threshold, best_criterion, best_left_criterion, best_right_criterion\n",
    "\n",
    "    def find_split(\n",
    "        self,\n",
    "        X: np.ndarray,\n",
    "        treatment: np.ndarray,\n",
    "        y: np.ndarray\n",
    "    ) -> Tuple[int, float, float, float, float]:\n",
    "        '''\n",
    "        Ищем лучший признак и его порог, что сделать разбиение\n",
    "        '''\n",
    "        \n",
    "        num_features = X.shape[1]\n",
    "        best_i = None\n",
    "        best_threshold = None\n",
    "        best_criterion = float('-inf')\n",
    "        best_left_criterion, best_right_criterion = None, None\n",
    "\n",
    "        # перебираем все признаки\n",
    "        for i in range(num_features):\n",
    "            threshold, criterion_value, left_criterion, right_criterion = self.find_threshold_to_split(X[:, i], treatment, y)\n",
    "            if criterion_value > best_criterion:\n",
    "                # если для текущего признака наша метрика максимальна, запишем его как лучший\n",
    "                best_i = i\n",
    "                best_threshold = threshold\n",
    "                best_criterion = criterion_value\n",
    "                best_left_criterion = left_criterion\n",
    "                best_right_criterion = right_criterion\n",
    "        return best_i, best_threshold, best_criterion, best_left_criterion, best_right_criterion\n",
    "\n",
    "    def build(\n",
    "        self,\n",
    "        X: np.ndarray,\n",
    "        treatment: np.ndarray,\n",
    "        y: np.ndarray,\n",
    "        depth,\n",
    "        ATE,\n",
    "        name\n",
    "    ) -> dict:\n",
    "        \n",
    "        if depth > self.max_depth:\n",
    "            # если достигли максимальной глубины - останавливаемся\n",
    "            return\n",
    "\n",
    "        tree = {}  # строим ноду\n",
    "        tree['name'] = name\n",
    "        tree['ATE'] = ATE  # значение ATE (average treatment effect) в ноде\n",
    "        tree['n_items'] = len(X)  # число значений в ноде\n",
    "\n",
    "        # ищем лучше разбиение\n",
    "        best_i, best_threshold, best_criterion, best_left_criterion, best_right_criterion = self.find_split(X, treatment, y)\n",
    "\n",
    "        tree['split_feat'] = best_i\n",
    "        tree['split_threshold'] = best_threshold\n",
    "        if best_i is None:\n",
    "            # если по каким то условиям у нас не получилось найти лучшее разбиение (например - ограничение на число элементов в листе)\n",
    "            return tree\n",
    "\n",
    "        condition = X[:, best_i] <= best_threshold  # условие для разбиения на левую часть и правую\n",
    "        left_X = X[condition, :]\n",
    "        left_treatment = treatment[condition]\n",
    "        left_y = y[condition]\n",
    "\n",
    "        # сначала строим левую ветвь, используем рекурсию и наши новые найденные подмножества\n",
    "        tree['left'] = self.build(left_X, left_treatment, left_y, depth+1, best_left_criterion, 'LEFT')\n",
    "\n",
    "        right_X = X[~condition, :]\n",
    "        right_treatment = treatment[~condition]\n",
    "        right_y = y[~condition]\n",
    "\n",
    "        # затем строим правую\n",
    "        tree['right'] = self.build(right_X, right_treatment, right_y, depth+1, best_right_criterion, 'RIGHT')\n",
    "\n",
    "        return tree\n",
    "        \n",
    "    def fit(\n",
    "        self,\n",
    "        X: np.ndarray,  # массив (n * k) с признаками\n",
    "        treatment: np.ndarray,  # массив (n) с флагом воздействия\n",
    "        y: np.ndarray  # массив (n) с целевой переменной\n",
    "    ) -> None:\n",
    "        \n",
    "        root_ate = self.criterion(y[treatment.astype(bool)], y[~treatment.astype(bool)])  # исходный ATE в группах\n",
    "        self.tree = self.build(X, treatment, y, 0, root_ate, 'ROOT')\n",
    "\n",
    "    def predict_one(self, X: np.ndarray, node) -> float:\n",
    "        '''\n",
    "        Для предсказания одного элемента\n",
    "        '''\n",
    "        if node['split_feat'] is not None:  # это условие будет невыполнено только в случае терминального листа дерева\n",
    "            if X[node['split_feat']] <= node['split_threshold']:  # идем налево, если <=\n",
    "                if node['left'] is not None:  # если по условию разбиения у нас построилась нода, то спускаемся рекурсивно в нее\n",
    "                    return self.predict_one(X, node['left'])\n",
    "                else:\n",
    "                    return node['ATE']\n",
    "            else:  # аналогично для правой части\n",
    "                if node['right'] is not None:\n",
    "                    return self.predict_one(X, node['right'])\n",
    "                else:\n",
    "                    return node['ATE']\n",
    "        else:\n",
    "            return node['ATE']\n",
    "\n",
    "    def predict(self, X: np.ndarray) -> np.ndarray:\n",
    "        result = []\n",
    "        # проходим по всем элементам выборки и для каждого элемента строим прогноз\n",
    "        for i in range(len(X)):\n",
    "            result.append(self.predict_one(X[i], self.tree))\n",
    "        return np.array(result)"
   ]
  },
  {
   "cell_type": "code",
   "execution_count": 13,
   "id": "85c0086b-fa46-407c-a697-094b22073fbf",
   "metadata": {},
   "outputs": [],
   "source": [
    "uplift_tree = UpliftTreeRegressor(max_depth=3, min_samples_leaf=6000, min_samples_leaf_treated=2500, min_samples_leaf_control=2500)"
   ]
  },
  {
   "cell_type": "code",
   "execution_count": 14,
   "id": "bfd2eda0-8a1f-4fb1-9520-0a3bc5b4e0c2",
   "metadata": {},
   "outputs": [],
   "source": [
    "uplift_tree.fit(example_X, example_treatment, example_y)"
   ]
  },
  {
   "cell_type": "code",
   "execution_count": 15,
   "id": "464d7fe8-5818-4e33-9d46-aa17e8570115",
   "metadata": {},
   "outputs": [
    {
     "data": {
      "text/plain": [
       "{'name': 'ROOT',\n",
       " 'ATE': 0.8133621067075112,\n",
       " 'n_items': 50000,\n",
       " 'split_feat': 0,\n",
       " 'split_threshold': 0.8428329389786856,\n",
       " 'left': {'name': 'LEFT',\n",
       "  'ATE': 0.45661983599927736,\n",
       "  'n_items': 40000,\n",
       "  'split_feat': 0,\n",
       "  'split_threshold': -0.9878097589516122,\n",
       "  'left': {'name': 'LEFT',\n",
       "   'ATE': -0.7089391259816358,\n",
       "   'n_items': 8000,\n",
       "   'split_feat': None,\n",
       "   'split_threshold': None},\n",
       "  'right': {'name': 'RIGHT',\n",
       "   'ATE': 0.7439039464385158,\n",
       "   'n_items': 32000,\n",
       "   'split_feat': 1,\n",
       "   'split_threshold': 0.8401218986161384,\n",
       "   'left': {'name': 'LEFT',\n",
       "    'ATE': 0.5381690182796833,\n",
       "    'n_items': 25600,\n",
       "    'split_feat': 0,\n",
       "    'split_threshold': -0.377394679147196,\n",
       "    'left': None,\n",
       "    'right': None},\n",
       "   'right': {'name': 'RIGHT',\n",
       "    'ATE': 1.5773329275902146,\n",
       "    'n_items': 6400,\n",
       "    'split_feat': None,\n",
       "    'split_threshold': None}}},\n",
       " 'right': {'name': 'RIGHT',\n",
       "  'ATE': 2.2242964961219123,\n",
       "  'n_items': 10000,\n",
       "  'split_feat': None,\n",
       "  'split_threshold': None}}"
      ]
     },
     "execution_count": 15,
     "metadata": {},
     "output_type": "execute_result"
    }
   ],
   "source": [
    "uplift_tree.tree"
   ]
  },
  {
   "cell_type": "code",
   "execution_count": 19,
   "id": "2ec6b6a9-aa37-449a-9469-af8ca8bd9048",
   "metadata": {},
   "outputs": [
    {
     "name": "stdout",
     "output_type": "stream",
     "text": [
      "Root\n",
      "n_items: 50000\n",
      "ATE: 0.8133621067075059\n",
      "split_feat: feat0\n",
      "split_threshold: 0.8428329389786856\n",
      "\n",
      "\tLeft\n",
      "\tn_items: 40000\n",
      "\tATE: 0.45661983599928\n",
      "\tsplit_feat: feat0\n",
      "\tsplit_threshold: -0.9878097589516122\n",
      "\n",
      "\t\tLeft <leaf>\n",
      "\t\tn_items: 8000\n",
      "\t\tATE: -0.708939125981635\n",
      "\t\tsplit_feat: None\n",
      "\t\tsplit_threshold: None\n",
      "\n",
      "\t\tRight\n",
      "\t\tn_items: 32000\n",
      "\t\tATE: 0.7439039464385134\n",
      "\t\tsplit_feat: feat1\n",
      "\t\tsplit_threshold: 0.8401218986161383\n",
      "\n",
      "\t\t\tLeft <leaf>\n",
      "\t\t\tn_items: 25600\n",
      "\t\t\tATE: 0.5381690182796856\n",
      "\t\t\tsplit_feat: None\n",
      "\t\t\tsplit_threshold: None\n",
      "\n",
      "\t\t\tRight <leaf>\n",
      "\t\t\tn_items: 6400\n",
      "\t\t\tATE: 1.5773329275902113\n",
      "\t\t\tsplit_feat: None\n",
      "\t\t\tsplit_threshold: None\n",
      "\n",
      "\tRight <leaf>\n",
      "\tn_items: 10000\n",
      "\tATE: 2.2242964961219096\n",
      "\tsplit_feat: None\n",
      "\tsplit_threshold: None\n"
     ]
    }
   ],
   "source": [
    "with open(f'{DATA_PATH}/example_tree.txt', 'r') as f:\n",
    "    print(f.read())"
   ]
  },
  {
   "cell_type": "code",
   "execution_count": 16,
   "id": "639c05b6-3fe9-4f6a-aa34-e0e458b4d288",
   "metadata": {},
   "outputs": [
    {
     "data": {
      "text/plain": [
       "array([ 0.53816902,  2.2242965 ,  0.53816902, ...,  1.57733293,\n",
       "       -0.70893913,  2.2242965 ])"
      ]
     },
     "execution_count": 16,
     "metadata": {},
     "output_type": "execute_result"
    }
   ],
   "source": [
    "uplift_tree.predict(example_X)"
   ]
  },
  {
   "cell_type": "code",
   "execution_count": 17,
   "id": "e67079ae-3dab-437e-bfe8-cba2b27d72ae",
   "metadata": {},
   "outputs": [
    {
     "data": {
      "text/plain": [
       "array([ 0.53816902,  2.2242965 ,  0.53816902, ...,  1.57733293,\n",
       "       -0.70893913,  2.2242965 ])"
      ]
     },
     "execution_count": 17,
     "metadata": {},
     "output_type": "execute_result"
    }
   ],
   "source": [
    "example_preds"
   ]
  },
  {
   "cell_type": "code",
   "execution_count": 18,
   "id": "ce946818-640c-425c-9f61-8de31cb6be6d",
   "metadata": {},
   "outputs": [
    {
     "data": {
      "text/plain": [
       "True"
      ]
     },
     "execution_count": 18,
     "metadata": {},
     "output_type": "execute_result"
    }
   ],
   "source": [
    "np.allclose(uplift_tree.predict(example_X), example_preds)"
   ]
  },
  {
   "cell_type": "code",
   "execution_count": null,
   "id": "acca00e9-92e8-4008-ab5e-b409d73c2477",
   "metadata": {},
   "outputs": [],
   "source": []
  }
 ],
 "metadata": {
  "kernelspec": {
   "display_name": "hardml",
   "language": "python",
   "name": "hardml"
  },
  "language_info": {
   "codemirror_mode": {
    "name": "ipython",
    "version": 3
   },
   "file_extension": ".py",
   "mimetype": "text/x-python",
   "name": "python",
   "nbconvert_exporter": "python",
   "pygments_lexer": "ipython3",
   "version": "3.9.13"
  }
 },
 "nbformat": 4,
 "nbformat_minor": 5
}
