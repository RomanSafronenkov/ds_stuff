{
 "cells": [
  {
   "cell_type": "markdown",
   "id": "0f4cac5a-8d14-4829-a6fd-31454c44d85e",
   "metadata": {},
   "source": [
    "# Проверка стабильности признаков с использованием подмены задачи"
   ]
  },
  {
   "cell_type": "code",
   "execution_count": 2,
   "id": "5920dde9-5af6-4338-ae29-3b5fab613aa1",
   "metadata": {},
   "outputs": [],
   "source": [
    "from tqdm import tqdm\n",
    "\n",
    "from lightgbm import LGBMClassifier\n",
    "from sklearn.model_selection import train_test_split\n",
    "from sklearn.metrics import roc_auc_score"
   ]
  },
  {
   "cell_type": "code",
   "execution_count": 33,
   "id": "80a5f129-0a72-42d7-9d3d-782a144b2080",
   "metadata": {},
   "outputs": [],
   "source": [
    "# пройдем по всем сочетаниям дат из обучающего набора, чтобы научить модель по каждому признаку отличать одну дату от другой\n",
    "\n",
    "def check_feature_stability(df, date_column, dates, features_list):\n",
    "    results = {}\n",
    "    combs = []\n",
    "\n",
    "    for i, first_date in enumerate(dates):\n",
    "        for second_date in dates[i+1:]:\n",
    "            print(f\"First date: {first_date}, Second date: {second_date}\")\n",
    "            combs.append((first_date, second_date))\n",
    "\n",
    "            for feature in tqdm(features_list, position=0):\n",
    "                print('='*50)\n",
    "                print(f'Feature: {feature}')\n",
    "\n",
    "                if feature not in results.keys():\n",
    "                    results[feature] = []\n",
    "\n",
    "                check_df = df[df[date_column].isin([first_date, second_date])][[date_column, feature]].copy()\n",
    "                check_df['target'] = (check_df[date_column] == second_date).astype(int)\n",
    "\n",
    "                x_train, x_test, y_train, y_test = train_test_split(check_df[[feature]], check_df['target'], test_size=0.33, random_state=42)\n",
    "                estimator = LGBMClassifier(n_estimators=500, max_depth=5, random_state=42, verbose=-1)\n",
    "\n",
    "                estimator.fit(x_train, y_train)\n",
    "\n",
    "                preds = estimator.predict_proba(x_test)[:, 1]\n",
    "\n",
    "                score = roc_auc_score(y_test, preds)\n",
    "                results[feature].append(score)\n",
    "        return results, combs"
   ]
  },
  {
   "cell_type": "code",
   "execution_count": 47,
   "id": "a400b3f5-24b6-43a0-880b-049eb66163d0",
   "metadata": {},
   "outputs": [],
   "source": [
    "# сделаем тестовый датасет, зададим в нем искусственную метку времени\n",
    "\n",
    "from sklearn.datasets import make_classification\n",
    "import pandas as pd\n",
    "\n",
    "x, y = make_classification(n_samples=1000, n_features=10, n_redundant=0, flip_y=0.05, class_sep=0.8, random_state=42)\n",
    "df = pd.DataFrame(x, columns=[f'feature_{i}' for i in range(10)])"
   ]
  },
  {
   "cell_type": "code",
   "execution_count": 48,
   "id": "38a3208a-8cd7-4301-90f6-1624db12abff",
   "metadata": {},
   "outputs": [],
   "source": [
    "date_column = 'fold'\n",
    "df[date_column] = ((df['feature_0'] < 0.5) & (df['feature_8'] > 1)).astype(int)"
   ]
  },
  {
   "cell_type": "code",
   "execution_count": 49,
   "id": "79e66916-7a20-4363-95ee-9808d6c2fec1",
   "metadata": {},
   "outputs": [
    {
     "data": {
      "text/html": [
       "<div>\n",
       "<style scoped>\n",
       "    .dataframe tbody tr th:only-of-type {\n",
       "        vertical-align: middle;\n",
       "    }\n",
       "\n",
       "    .dataframe tbody tr th {\n",
       "        vertical-align: top;\n",
       "    }\n",
       "\n",
       "    .dataframe thead th {\n",
       "        text-align: right;\n",
       "    }\n",
       "</style>\n",
       "<table border=\"1\" class=\"dataframe\">\n",
       "  <thead>\n",
       "    <tr style=\"text-align: right;\">\n",
       "      <th></th>\n",
       "      <th>feature_0</th>\n",
       "      <th>feature_1</th>\n",
       "      <th>feature_2</th>\n",
       "      <th>feature_3</th>\n",
       "      <th>feature_4</th>\n",
       "      <th>feature_5</th>\n",
       "      <th>feature_6</th>\n",
       "      <th>feature_7</th>\n",
       "      <th>feature_8</th>\n",
       "      <th>feature_9</th>\n",
       "      <th>fold</th>\n",
       "    </tr>\n",
       "  </thead>\n",
       "  <tbody>\n",
       "    <tr>\n",
       "      <th>0</th>\n",
       "      <td>-0.245018</td>\n",
       "      <td>-0.924063</td>\n",
       "      <td>2.129718</td>\n",
       "      <td>-0.111319</td>\n",
       "      <td>-0.630249</td>\n",
       "      <td>-2.707544</td>\n",
       "      <td>0.864248</td>\n",
       "      <td>0.833158</td>\n",
       "      <td>0.299086</td>\n",
       "      <td>-0.719990</td>\n",
       "      <td>0</td>\n",
       "    </tr>\n",
       "    <tr>\n",
       "      <th>1</th>\n",
       "      <td>-0.200564</td>\n",
       "      <td>1.074333</td>\n",
       "      <td>-1.302468</td>\n",
       "      <td>-0.177918</td>\n",
       "      <td>0.344054</td>\n",
       "      <td>-0.897830</td>\n",
       "      <td>0.348342</td>\n",
       "      <td>-0.417430</td>\n",
       "      <td>-0.912811</td>\n",
       "      <td>-0.487705</td>\n",
       "      <td>0</td>\n",
       "    </tr>\n",
       "    <tr>\n",
       "      <th>2</th>\n",
       "      <td>2.338034</td>\n",
       "      <td>-0.998212</td>\n",
       "      <td>-1.384227</td>\n",
       "      <td>-0.624510</td>\n",
       "      <td>0.690074</td>\n",
       "      <td>0.691619</td>\n",
       "      <td>1.087710</td>\n",
       "      <td>0.031492</td>\n",
       "      <td>0.746981</td>\n",
       "      <td>0.273118</td>\n",
       "      <td>0</td>\n",
       "    </tr>\n",
       "    <tr>\n",
       "      <th>3</th>\n",
       "      <td>-0.587362</td>\n",
       "      <td>-0.679889</td>\n",
       "      <td>0.279906</td>\n",
       "      <td>0.073863</td>\n",
       "      <td>-0.319826</td>\n",
       "      <td>-1.833706</td>\n",
       "      <td>0.144310</td>\n",
       "      <td>-1.340489</td>\n",
       "      <td>1.193587</td>\n",
       "      <td>-0.833598</td>\n",
       "      <td>1</td>\n",
       "    </tr>\n",
       "    <tr>\n",
       "      <th>4</th>\n",
       "      <td>-0.521330</td>\n",
       "      <td>1.796665</td>\n",
       "      <td>-1.137254</td>\n",
       "      <td>-0.760364</td>\n",
       "      <td>-1.312163</td>\n",
       "      <td>-0.041472</td>\n",
       "      <td>-0.397115</td>\n",
       "      <td>0.382433</td>\n",
       "      <td>-0.393612</td>\n",
       "      <td>-1.099039</td>\n",
       "      <td>0</td>\n",
       "    </tr>\n",
       "  </tbody>\n",
       "</table>\n",
       "</div>"
      ],
      "text/plain": [
       "   feature_0  feature_1  feature_2  ...  feature_8  feature_9  fold\n",
       "0  -0.245018  -0.924063   2.129718  ...   0.299086  -0.719990     0\n",
       "1  -0.200564   1.074333  -1.302468  ...  -0.912811  -0.487705     0\n",
       "2   2.338034  -0.998212  -1.384227  ...   0.746981   0.273118     0\n",
       "3  -0.587362  -0.679889   0.279906  ...   1.193587  -0.833598     1\n",
       "4  -0.521330   1.796665  -1.137254  ...  -0.393612  -1.099039     0\n",
       "\n",
       "[5 rows x 11 columns]"
      ]
     },
     "execution_count": 49,
     "metadata": {},
     "output_type": "execute_result"
    }
   ],
   "source": [
    "df.head()"
   ]
  },
  {
   "cell_type": "code",
   "execution_count": 50,
   "id": "03526c74-9fbe-434f-8c88-862a372d629e",
   "metadata": {},
   "outputs": [
    {
     "name": "stdout",
     "output_type": "stream",
     "text": [
      "First date: 0, Second date: 1\n"
     ]
    },
    {
     "name": "stderr",
     "output_type": "stream",
     "text": [
      "  0%|                                                  | 0/1000 [00:00<?, ?it/s]"
     ]
    },
    {
     "name": "stdout",
     "output_type": "stream",
     "text": [
      "==================================================\n",
      "Feature: feature_0\n"
     ]
    },
    {
     "name": "stderr",
     "output_type": "stream",
     "text": [
      "  0%|                                          | 1/1000 [00:00<05:48,  2.87it/s]"
     ]
    },
    {
     "name": "stdout",
     "output_type": "stream",
     "text": [
      "==================================================\n",
      "Feature: feature_1\n"
     ]
    },
    {
     "name": "stderr",
     "output_type": "stream",
     "text": [
      "  0%|                                          | 2/1000 [00:00<05:19,  3.12it/s]"
     ]
    },
    {
     "name": "stdout",
     "output_type": "stream",
     "text": [
      "==================================================\n",
      "Feature: feature_2\n"
     ]
    },
    {
     "name": "stderr",
     "output_type": "stream",
     "text": [
      "  0%|▏                                         | 3/1000 [00:00<05:11,  3.21it/s]"
     ]
    },
    {
     "name": "stdout",
     "output_type": "stream",
     "text": [
      "==================================================\n",
      "Feature: feature_3\n"
     ]
    },
    {
     "name": "stderr",
     "output_type": "stream",
     "text": [
      "  0%|▏                                         | 4/1000 [00:01<04:56,  3.36it/s]"
     ]
    },
    {
     "name": "stdout",
     "output_type": "stream",
     "text": [
      "==================================================\n",
      "Feature: feature_4\n"
     ]
    },
    {
     "name": "stderr",
     "output_type": "stream",
     "text": [
      "  0%|▏                                         | 5/1000 [00:01<04:50,  3.43it/s]"
     ]
    },
    {
     "name": "stdout",
     "output_type": "stream",
     "text": [
      "==================================================\n",
      "Feature: feature_5\n"
     ]
    },
    {
     "name": "stderr",
     "output_type": "stream",
     "text": [
      "  1%|▎                                         | 6/1000 [00:01<04:46,  3.47it/s]"
     ]
    },
    {
     "name": "stdout",
     "output_type": "stream",
     "text": [
      "==================================================\n",
      "Feature: feature_6\n"
     ]
    },
    {
     "name": "stderr",
     "output_type": "stream",
     "text": [
      "  1%|▎                                         | 7/1000 [00:02<04:56,  3.34it/s]"
     ]
    },
    {
     "name": "stdout",
     "output_type": "stream",
     "text": [
      "==================================================\n",
      "Feature: feature_7\n"
     ]
    },
    {
     "name": "stderr",
     "output_type": "stream",
     "text": [
      "  1%|▎                                         | 8/1000 [00:02<04:55,  3.35it/s]"
     ]
    },
    {
     "name": "stdout",
     "output_type": "stream",
     "text": [
      "==================================================\n",
      "Feature: feature_8\n"
     ]
    },
    {
     "name": "stderr",
     "output_type": "stream",
     "text": [
      "  1%|▍                                         | 9/1000 [00:02<04:33,  3.63it/s]"
     ]
    },
    {
     "name": "stdout",
     "output_type": "stream",
     "text": [
      "==================================================\n",
      "Feature: feature_9\n"
     ]
    },
    {
     "name": "stderr",
     "output_type": "stream",
     "text": [
      "  1%|▍                                        | 10/1000 [00:02<04:49,  3.41it/s]\n"
     ]
    }
   ],
   "source": [
    "dates = sorted(df[date_column].unique())\n",
    "features = df.drop(date_column, axis=1)\n",
    "\n",
    "stability_results, stability_combs = check_feature_stability(df, date_column=date_column, dates=dates, features_list=features)"
   ]
  },
  {
   "cell_type": "code",
   "execution_count": 51,
   "id": "bfc2df50-52f8-47b2-b17b-b2d2cd5dcfb7",
   "metadata": {},
   "outputs": [
    {
     "data": {
      "text/plain": [
       "{'feature_0': [0.6131259936406995],\n",
       " 'feature_1': [0.5614069952305246],\n",
       " 'feature_2': [0.5312003179650238],\n",
       " 'feature_3': [0.49130564387917325],\n",
       " 'feature_4': [0.5753179650238474],\n",
       " 'feature_5': [0.5261824324324325],\n",
       " 'feature_6': [0.4335751192368839],\n",
       " 'feature_7': [0.5226053259141494],\n",
       " 'feature_8': [0.9653716216216217],\n",
       " 'feature_9': [0.5409379968203498]}"
      ]
     },
     "execution_count": 51,
     "metadata": {},
     "output_type": "execute_result"
    }
   ],
   "source": [
    "stability_results"
   ]
  },
  {
   "cell_type": "code",
   "execution_count": 52,
   "id": "433b4712-ac8f-4899-829c-c688f0f3d37a",
   "metadata": {},
   "outputs": [],
   "source": [
    "# видно, что фича 0 и фича 8 нестабильные, так как ROC AUC у них выше 0.6\n",
    "# то есть меняются от одного временного фолда к другому, как мы и задавали"
   ]
  },
  {
   "cell_type": "code",
   "execution_count": null,
   "id": "e9fb46e2-db57-496d-93a9-12f0b6592bff",
   "metadata": {},
   "outputs": [],
   "source": []
  }
 ],
 "metadata": {
  "kernelspec": {
   "display_name": "uplift",
   "language": "python",
   "name": "uplift"
  },
  "language_info": {
   "codemirror_mode": {
    "name": "ipython",
    "version": 3
   },
   "file_extension": ".py",
   "mimetype": "text/x-python",
   "name": "python",
   "nbconvert_exporter": "python",
   "pygments_lexer": "ipython3",
   "version": "3.11.8"
  }
 },
 "nbformat": 4,
 "nbformat_minor": 5
}
