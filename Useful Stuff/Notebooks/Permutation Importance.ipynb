{
 "cells": [
  {
   "cell_type": "code",
   "execution_count": 57,
   "id": "37e9c1e0-3518-4b8f-9fe2-924511b1cd38",
   "metadata": {},
   "outputs": [],
   "source": [
    "from sklearn.datasets import load_diabetes\n",
    "from sklearn.model_selection import train_test_split\n",
    "from sklearn.linear_model import Ridge\n",
    "from sklearn.metrics import r2_score\n",
    "\n",
    "import numpy as np\n",
    "import matplotlib.pyplot as plt\n",
    "%matplotlib inline"
   ]
  },
  {
   "cell_type": "code",
   "execution_count": 11,
   "id": "47f89649-96d9-43fe-8c80-3fbbf7c30d08",
   "metadata": {},
   "outputs": [
    {
     "name": "stdout",
     "output_type": "stream",
     "text": [
      "0.3566675322939421\n"
     ]
    },
    {
     "data": {
      "text/plain": [
       "0.3566675322939421"
      ]
     },
     "execution_count": 11,
     "metadata": {},
     "output_type": "execute_result"
    }
   ],
   "source": [
    "diabetes = load_diabetes()\n",
    "X_train, X_val, y_train, y_val = train_test_split(\n",
    "    diabetes.data, diabetes.target, random_state=0)\n",
    "\n",
    "model = Ridge(alpha=1e-2).fit(X_train, y_train)\n",
    "val_preds = model.predict(X_val)\n",
    "\n",
    "print(r2_score(y_val, val_preds))\n",
    "model.score(X_val, y_val)"
   ]
  },
  {
   "cell_type": "code",
   "execution_count": 71,
   "id": "3cdced51-226b-4434-90c0-452136fd6f32",
   "metadata": {},
   "outputs": [],
   "source": [
    "def permutation_importance(fitted_model, metric, x_val: np.array, y_val: np.array, n_repeats=10):\n",
    "    # предсказываем обученной моделью выборку\n",
    "    preds = fitted_model.predict(x_val)\n",
    "    # считаем метрику\n",
    "    baseline = metric(y_val, preds)\n",
    "    # создаем словарь для каждого признака\n",
    "    imp = {i: [] for i in range(x_val.shape[1])}\n",
    "\n",
    "    # для каждого признака\n",
    "    for col in range(x_val.shape[1]):\n",
    "        # проводим процедуру n_repeats раз, чтобы собрать статистику по каждому признаку\n",
    "        for n in range(n_repeats):\n",
    "            # сохраняем неизмененный признак\n",
    "            save = x_val[:, col].copy()\n",
    "            # случайно перемешиваем признак\n",
    "            x_val[:, col] = np.random.permutation(x_val[:, col])\n",
    "            # предсказываем моделью данные с перемешанным признаком\n",
    "            pred_p = fitted_model.predict(x_val)\n",
    "            # замеряем качество\n",
    "            m = metric(y_val, pred_p)\n",
    "            # возвращаем исходный признак\n",
    "            x_val[:, col] = save\n",
    "            # сохраняем статистику по данному признаку\n",
    "            imp[col].append(baseline - m)\n",
    "    return imp"
   ]
  },
  {
   "cell_type": "code",
   "execution_count": 72,
   "id": "ec5c2268-1933-4967-bf5b-e74c09f6d834",
   "metadata": {},
   "outputs": [],
   "source": [
    "imp = permutation_importance(model, r2_score, X_val, y_val, n_repeats=50)"
   ]
  },
  {
   "cell_type": "code",
   "execution_count": 73,
   "id": "4d3172d0-75b8-4eff-ac2a-0f8dc795432e",
   "metadata": {},
   "outputs": [
    {
     "name": "stdout",
     "output_type": "stream",
     "text": [
      "Col: age\n",
      "Importance=-0.003%±0.004\n",
      "Col: sex\n",
      "Importance=0.048%±0.017\n",
      "Col: bmi\n",
      "Importance=0.168%±0.054\n",
      "Col: bp\n",
      "Importance=0.097%±0.031\n",
      "Col: s1\n",
      "Importance=0.047%±0.024\n",
      "Col: s2\n",
      "Importance=0.003%±0.002\n",
      "Col: s3\n",
      "Importance=0.006%±0.013\n",
      "Col: s4\n",
      "Importance=0.006%±0.007\n",
      "Col: s5\n",
      "Importance=0.223%±0.056\n",
      "Col: s6\n",
      "Importance=0.003%±0.003\n"
     ]
    }
   ],
   "source": [
    "for col, importance in imp.items():\n",
    "    print('Col:', diabetes.feature_names[col])\n",
    "    print(f'Importance={np.mean(importance):.3f}%±{np.std(importance):.3f}')"
   ]
  },
  {
   "cell_type": "code",
   "execution_count": 74,
   "id": "88e3872c-18fa-4437-87b9-22045035026b",
   "metadata": {},
   "outputs": [
    {
     "data": {
      "image/png": "[encoded data removed]",
      "text/plain": [
       "<Figure size 864x864 with 1 Axes>"
      ]
     },
     "metadata": {
      "needs_background": "light"
     },
     "output_type": "display_data"
    }
   ],
   "source": [
    "plt.figure(figsize=(12, 12))\n",
    "plt.boxplot(imp.values(), vert=False)\n",
    "plt.grid(True)\n",
    "plt.yticks(range(X_val.shape[1]+1), labels=['']+diabetes.feature_names);"
   ]
  },
  {
   "cell_type": "code",
   "execution_count": 70,
   "id": "2710abdf-7edd-41a3-9576-a2dfcb58a208",
   "metadata": {},
   "outputs": [
    {
     "name": "stdout",
     "output_type": "stream",
     "text": [
      "s5      0.204 +/- 0.050\n",
      "bmi     0.176 +/- 0.048\n",
      "bp      0.088 +/- 0.033\n",
      "sex     0.056 +/- 0.023\n"
     ]
    }
   ],
   "source": [
    "from sklearn.inspection import permutation_importance\n",
    "r = permutation_importance(model, X_val, y_val,\n",
    "                           n_repeats=30,\n",
    "                           random_state=0)\n",
    "\n",
    "for i in r.importances_mean.argsort()[::-1]:\n",
    "    if r.importances_mean[i] - 2 * r.importances_std[i] > 0:\n",
    "        print(f\"{diabetes.feature_names[i]:<8}\"\n",
    "              f\"{r.importances_mean[i]:.3f}\"\n",
    "              f\" +/- {r.importances_std[i]:.3f}\")"
   ]
  },
  {
   "cell_type": "code",
   "execution_count": null,
   "id": "3d916bd1-339a-42a2-b10b-87b27d0c30bd",
   "metadata": {},
   "outputs": [],
   "source": []
  }
 ],
 "metadata": {
  "kernelspec": {
   "display_name": "data_science_39",
   "language": "python",
   "name": "data_science_39"
  },
  "language_info": {
   "codemirror_mode": {
    "name": "ipython",
    "version": 3
   },
   "file_extension": ".py",
   "mimetype": "text/x-python",
   "name": "python",
   "nbconvert_exporter": "python",
   "pygments_lexer": "ipython3",
   "version": "3.9.13"
  }
 },
 "nbformat": 4,
 "nbformat_minor": 5
}
