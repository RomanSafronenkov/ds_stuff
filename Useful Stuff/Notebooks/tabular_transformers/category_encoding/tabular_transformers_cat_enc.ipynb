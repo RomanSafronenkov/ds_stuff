{
 "cells": [
  {
   "cell_type": "markdown",
   "id": "74f460b3-5a7a-4b59-a1dd-32992e0ac6c1",
   "metadata": {},
   "source": [
    "# Transformers for tabular data. Categorical Encoder"
   ]
  },
  {
   "cell_type": "markdown",
   "id": "2b02dcdc-7bfb-4fc8-a877-3a91565b9cbd",
   "metadata": {},
   "source": [
    "Inspired and based on https://github.com/s-nlp/transformers-course/blob/main/Seminars/15_Tabular_Transformer.ipynb"
   ]
  },
  {
   "cell_type": "code",
   "execution_count": 1,
   "id": "a6efcdb0-b23b-498b-bb39-41053f9eccb8",
   "metadata": {},
   "outputs": [],
   "source": [
    "from typing import List, Tuple\n",
    "import time\n",
    "\n",
    "import torch\n",
    "import torch.nn as nn\n",
    "import torch.nn.functional as F\n",
    "from torch.utils.data import Dataset, DataLoader\n",
    "\n",
    "import numpy as np\n",
    "import pandas as pd\n",
    "from sklearn.datasets import fetch_openml\n",
    "from sklearn.model_selection import train_test_split\n",
    "from sklearn.metrics import accuracy_score, log_loss"
   ]
  },
  {
   "cell_type": "code",
   "execution_count": 2,
   "id": "74c4d5f9-da5c-4a49-8261-0c58633a3226",
   "metadata": {},
   "outputs": [],
   "source": [
    "import warnings\n",
    "# Suppress all user warnings\n",
    "warnings.filterwarnings(\"ignore\")"
   ]
  },
  {
   "cell_type": "code",
   "execution_count": 3,
   "id": "4255fa9b-2413-4f42-89d5-699b4c46a702",
   "metadata": {},
   "outputs": [
    {
     "data": {
      "text/html": [
       "<div>\n",
       "<style scoped>\n",
       "    .dataframe tbody tr th:only-of-type {\n",
       "        vertical-align: middle;\n",
       "    }\n",
       "\n",
       "    .dataframe tbody tr th {\n",
       "        vertical-align: top;\n",
       "    }\n",
       "\n",
       "    .dataframe thead th {\n",
       "        text-align: right;\n",
       "    }\n",
       "</style>\n",
       "<table border=\"1\" class=\"dataframe\">\n",
       "  <thead>\n",
       "    <tr style=\"text-align: right;\">\n",
       "      <th></th>\n",
       "      <th>age</th>\n",
       "      <th>job</th>\n",
       "      <th>marital</th>\n",
       "      <th>education</th>\n",
       "      <th>default</th>\n",
       "      <th>balance</th>\n",
       "      <th>housing</th>\n",
       "      <th>loan</th>\n",
       "      <th>contact</th>\n",
       "      <th>day</th>\n",
       "      <th>month</th>\n",
       "      <th>duration</th>\n",
       "      <th>campaign</th>\n",
       "      <th>pdays</th>\n",
       "      <th>previous</th>\n",
       "      <th>poutcome</th>\n",
       "      <th>y</th>\n",
       "    </tr>\n",
       "  </thead>\n",
       "  <tbody>\n",
       "    <tr>\n",
       "      <th>0</th>\n",
       "      <td>58</td>\n",
       "      <td>management</td>\n",
       "      <td>married</td>\n",
       "      <td>tertiary</td>\n",
       "      <td>no</td>\n",
       "      <td>2143</td>\n",
       "      <td>yes</td>\n",
       "      <td>no</td>\n",
       "      <td>unknown</td>\n",
       "      <td>5</td>\n",
       "      <td>may</td>\n",
       "      <td>261</td>\n",
       "      <td>1</td>\n",
       "      <td>-1</td>\n",
       "      <td>0</td>\n",
       "      <td>unknown</td>\n",
       "      <td>no</td>\n",
       "    </tr>\n",
       "    <tr>\n",
       "      <th>1</th>\n",
       "      <td>44</td>\n",
       "      <td>technician</td>\n",
       "      <td>single</td>\n",
       "      <td>secondary</td>\n",
       "      <td>no</td>\n",
       "      <td>29</td>\n",
       "      <td>yes</td>\n",
       "      <td>no</td>\n",
       "      <td>unknown</td>\n",
       "      <td>5</td>\n",
       "      <td>may</td>\n",
       "      <td>151</td>\n",
       "      <td>1</td>\n",
       "      <td>-1</td>\n",
       "      <td>0</td>\n",
       "      <td>unknown</td>\n",
       "      <td>no</td>\n",
       "    </tr>\n",
       "    <tr>\n",
       "      <th>2</th>\n",
       "      <td>33</td>\n",
       "      <td>entrepreneur</td>\n",
       "      <td>married</td>\n",
       "      <td>secondary</td>\n",
       "      <td>no</td>\n",
       "      <td>2</td>\n",
       "      <td>yes</td>\n",
       "      <td>yes</td>\n",
       "      <td>unknown</td>\n",
       "      <td>5</td>\n",
       "      <td>may</td>\n",
       "      <td>76</td>\n",
       "      <td>1</td>\n",
       "      <td>-1</td>\n",
       "      <td>0</td>\n",
       "      <td>unknown</td>\n",
       "      <td>no</td>\n",
       "    </tr>\n",
       "    <tr>\n",
       "      <th>3</th>\n",
       "      <td>47</td>\n",
       "      <td>blue-collar</td>\n",
       "      <td>married</td>\n",
       "      <td>unknown</td>\n",
       "      <td>no</td>\n",
       "      <td>1506</td>\n",
       "      <td>yes</td>\n",
       "      <td>no</td>\n",
       "      <td>unknown</td>\n",
       "      <td>5</td>\n",
       "      <td>may</td>\n",
       "      <td>92</td>\n",
       "      <td>1</td>\n",
       "      <td>-1</td>\n",
       "      <td>0</td>\n",
       "      <td>unknown</td>\n",
       "      <td>no</td>\n",
       "    </tr>\n",
       "    <tr>\n",
       "      <th>4</th>\n",
       "      <td>33</td>\n",
       "      <td>unknown</td>\n",
       "      <td>single</td>\n",
       "      <td>unknown</td>\n",
       "      <td>no</td>\n",
       "      <td>1</td>\n",
       "      <td>no</td>\n",
       "      <td>no</td>\n",
       "      <td>unknown</td>\n",
       "      <td>5</td>\n",
       "      <td>may</td>\n",
       "      <td>198</td>\n",
       "      <td>1</td>\n",
       "      <td>-1</td>\n",
       "      <td>0</td>\n",
       "      <td>unknown</td>\n",
       "      <td>no</td>\n",
       "    </tr>\n",
       "  </tbody>\n",
       "</table>\n",
       "</div>"
      ],
      "text/plain": [
       "   age           job  marital  education default  balance housing loan  \\\n",
       "0   58    management  married   tertiary      no     2143     yes   no   \n",
       "1   44    technician   single  secondary      no       29     yes   no   \n",
       "2   33  entrepreneur  married  secondary      no        2     yes  yes   \n",
       "3   47   blue-collar  married    unknown      no     1506     yes   no   \n",
       "4   33       unknown   single    unknown      no        1      no   no   \n",
       "\n",
       "   contact  day month  duration  campaign  pdays  previous poutcome   y  \n",
       "0  unknown    5   may       261         1     -1         0  unknown  no  \n",
       "1  unknown    5   may       151         1     -1         0  unknown  no  \n",
       "2  unknown    5   may        76         1     -1         0  unknown  no  \n",
       "3  unknown    5   may        92         1     -1         0  unknown  no  \n",
       "4  unknown    5   may       198         1     -1         0  unknown  no  "
      ]
     },
     "execution_count": 3,
     "metadata": {},
     "output_type": "execute_result"
    }
   ],
   "source": [
    "np.random.seed(42)\n",
    "\n",
    "X, y = fetch_openml(\"Bank_marketing_data_set_UCI\", version=1, as_frame=True, return_X_y=True)\n",
    "data = X.join(y)\n",
    "del X, y\n",
    "data.head()"
   ]
  },
  {
   "cell_type": "code",
   "execution_count": 4,
   "id": "64fd65f3-15fc-42ac-8db4-3c3998d272da",
   "metadata": {},
   "outputs": [],
   "source": [
    "cat_cols = ['job', 'marital', 'education', 'default', 'housing',\n",
    "       'loan', 'contact', 'day', 'month', 'campaign',\n",
    "       'previous', 'poutcome']\n",
    "\n",
    "num_cols = ['age', 'balance', 'duration', 'pdays']\n",
    "target=[\"y\"]"
   ]
  },
  {
   "cell_type": "code",
   "execution_count": 5,
   "id": "202e58d8-c856-4f34-8a17-482cd00bcf56",
   "metadata": {},
   "outputs": [],
   "source": [
    "train, test = train_test_split(data, stratify=data[\"y\"], test_size=0.2, random_state=42)"
   ]
  },
  {
   "cell_type": "markdown",
   "id": "38f651f9-3cf4-4c9f-826b-dd1663e93505",
   "metadata": {},
   "source": [
    "# LightGBM"
   ]
  },
  {
   "cell_type": "code",
   "execution_count": 6,
   "id": "54ce6486-1f3c-4f24-a1a7-e1f72233316b",
   "metadata": {},
   "outputs": [],
   "source": [
    "from lightgbm import LGBMClassifier\n",
    "from sklearn.preprocessing import OrdinalEncoder\n",
    "\n",
    "# LightGBM needs categorical columns encoded as integers\n",
    "train_enc = train.copy()\n",
    "test_enc = test.copy()\n",
    "for col in cat_cols:\n",
    "    enc = OrdinalEncoder(handle_unknown=\"use_encoded_value\", encoded_missing_value=np.nan, unknown_value=np.nan)\n",
    "    train_enc[col] = enc.fit_transform(train_enc[col].values.reshape(-1,1))\n",
    "    test_enc[col] = enc.transform(test_enc[col].values.reshape(-1,1))"
   ]
  },
  {
   "cell_type": "code",
   "execution_count": 7,
   "id": "8b2621c7-c7b0-4744-be92-8f2b6bfdde8f",
   "metadata": {},
   "outputs": [
    {
     "name": "stdout",
     "output_type": "stream",
     "text": [
      "[LightGBM] [Info] Number of positive: 4231, number of negative: 31937\n",
      "[LightGBM] [Info] Auto-choosing row-wise multi-threading, the overhead of testing was 0.001074 seconds.\n",
      "You can set `force_row_wise=true` to remove the overhead.\n",
      "And if memory is not enough, you can set `force_col_wise=true`.\n",
      "[LightGBM] [Info] Total Bins 988\n",
      "[LightGBM] [Info] Number of data points in the train set: 36168, number of used features: 16\n",
      "[LightGBM] [Info] [binary:BoostFromScore]: pavg=0.116982 -> initscore=-2.021327\n",
      "[LightGBM] [Info] Start training from score -2.021327\n",
      "Acc: 0.9083268826716797 | LogLoss: 0.19783125832611875\n"
     ]
    }
   ],
   "source": [
    "clf = LGBMClassifier(random_state=42)\n",
    "clf.fit(train_enc.drop(columns=target[0]), train_enc[target], categorical_feature=cat_cols)\n",
    "test_pred = clf.predict(test_enc.drop(columns=target[0]))\n",
    "test_pred_proba = clf.predict_proba(test_enc.drop(columns=target[0]))\n",
    "\n",
    "acc = accuracy_score(test[target[0]].values, test_pred)\n",
    "loss = log_loss(test[target[0]].values, test_pred_proba)\n",
    "print(f\"Acc: {acc} | LogLoss: {loss}\")"
   ]
  },
  {
   "cell_type": "markdown",
   "id": "8684edab-b0cb-4adb-86af-ae53f022a7fe",
   "metadata": {},
   "source": [
    "# Transformers"
   ]
  },
  {
   "cell_type": "code",
   "execution_count": 8,
   "id": "99b3928f-0639-400a-88cb-9eecaf330cdd",
   "metadata": {},
   "outputs": [],
   "source": [
    "from pytorch_tabular import TabularModel\n",
    "from pytorch_tabular.models import (\n",
    "    CategoryEmbeddingModelConfig,\n",
    "    FTTransformerConfig,\n",
    "    TabNetModelConfig,\n",
    "    GatedAdditiveTreeEnsembleConfig,\n",
    "    TabTransformerConfig,\n",
    "    AutoIntConfig\n",
    ")\n",
    "from pytorch_tabular.config import DataConfig, OptimizerConfig, TrainerConfig, ExperimentConfig\n",
    "from pytorch_tabular.models.common.heads import LinearHeadConfig"
   ]
  },
  {
   "cell_type": "code",
   "execution_count": 9,
   "id": "623cd797-ed61-402b-8927-b5bc5219c7d6",
   "metadata": {},
   "outputs": [],
   "source": [
    "data_config = DataConfig(\n",
    "    target=target, #target should always be a list.\n",
    "    continuous_cols=num_cols,\n",
    "    categorical_cols=cat_cols,\n",
    ")\n",
    "\n",
    "for col in data_config.continuous_cols:\n",
    "    train[col] = train[col].astype(\"float64\")\n",
    "    test[col] = test[col].astype(\"float64\")\n",
    "\n",
    "trainer_config = TrainerConfig(\n",
    "#     auto_lr_find=True, # Runs the LRFinder to automatically derive a learning rate\n",
    "    batch_size=256,\n",
    "    max_epochs=500,\n",
    "    early_stopping=\"valid_loss\", # Monitor valid_loss for early stopping\n",
    "    early_stopping_mode = \"min\", # Set the mode as min because for val_loss, lower is better\n",
    "    early_stopping_patience=5, # No. of epochs of degradation training will wait before terminating\n",
    "    checkpoints=\"valid_loss\", # Save best checkpoint monitoring val_loss\n",
    "    load_best=True, # After training, load the best checkpoint\n",
    ")\n",
    "\n",
    "optimizer_config = OptimizerConfig()\n",
    "\n",
    "head_config = LinearHeadConfig(\n",
    "    layers=\"\", # No additional layer in head, just a mapping layer to output_dim\n",
    "    dropout=0.1,\n",
    "    initialization=\"kaiming\"\n",
    ").__dict__ # Convert to dict to pass to the model config (OmegaConf doesn't accept objects)"
   ]
  },
  {
   "cell_type": "markdown",
   "id": "55e6dbed-856a-406a-af61-af28741bf09d",
   "metadata": {},
   "source": [
    "## Category Embeddings"
   ]
  },
  {
   "cell_type": "markdown",
   "id": "fc8f3742-78fa-4f1b-8215-5c2af59f7a08",
   "metadata": {},
   "source": [
    "![](data:image/png;base64,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)"
   ]
  },
  {
   "cell_type": "code",
   "execution_count": 10,
   "id": "611c7e63-ebdf-47ac-9586-ab5b70b6ae87",
   "metadata": {},
   "outputs": [
    {
     "data": {
      "text/html": [
       "<pre style=\"white-space:pre;overflow-x:auto;line-height:normal;font-family:Menlo,'DejaVu Sans Mono',consolas,'Courier New',monospace\"><span style=\"color: #008080; text-decoration-color: #008080; font-weight: bold\">2025</span>-<span style=\"color: #008080; text-decoration-color: #008080; font-weight: bold\">03</span>-<span style=\"color: #008080; text-decoration-color: #008080; font-weight: bold\">02</span> <span style=\"color: #00ff00; text-decoration-color: #00ff00; font-weight: bold\">00:00:27</span>,<span style=\"color: #008080; text-decoration-color: #008080; font-weight: bold\">226</span> - <span style=\"font-weight: bold\">{</span>pytorch_tabular.tabular_model:<span style=\"color: #008080; text-decoration-color: #008080; font-weight: bold\">146</span><span style=\"font-weight: bold\">}</span> - INFO - Experiment Tracking is turned off           \n",
       "</pre>\n"
      ],
      "text/plain": [
       "\u001b[1;36m2025\u001b[0m-\u001b[1;36m03\u001b[0m-\u001b[1;36m02\u001b[0m \u001b[1;92m00:00:27\u001b[0m,\u001b[1;36m226\u001b[0m - \u001b[1m{\u001b[0mpytorch_tabular.tabular_model:\u001b[1;36m146\u001b[0m\u001b[1m}\u001b[0m - INFO - Experiment Tracking is turned off           \n"
      ]
     },
     "metadata": {},
     "output_type": "display_data"
    },
    {
     "name": "stderr",
     "output_type": "stream",
     "text": [
      "Seed set to 42\n"
     ]
    },
    {
     "data": {
      "text/html": [
       "<pre style=\"white-space:pre;overflow-x:auto;line-height:normal;font-family:Menlo,'DejaVu Sans Mono',consolas,'Courier New',monospace\"><span style=\"color: #008080; text-decoration-color: #008080; font-weight: bold\">2025</span>-<span style=\"color: #008080; text-decoration-color: #008080; font-weight: bold\">03</span>-<span style=\"color: #008080; text-decoration-color: #008080; font-weight: bold\">02</span> <span style=\"color: #00ff00; text-decoration-color: #00ff00; font-weight: bold\">00:00:27</span>,<span style=\"color: #008080; text-decoration-color: #008080; font-weight: bold\">252</span> - <span style=\"font-weight: bold\">{</span>pytorch_tabular.tabular_model:<span style=\"color: #008080; text-decoration-color: #008080; font-weight: bold\">548</span><span style=\"font-weight: bold\">}</span> - INFO - Preparing the DataLoaders                   \n",
       "</pre>\n"
      ],
      "text/plain": [
       "\u001b[1;36m2025\u001b[0m-\u001b[1;36m03\u001b[0m-\u001b[1;36m02\u001b[0m \u001b[1;92m00:00:27\u001b[0m,\u001b[1;36m252\u001b[0m - \u001b[1m{\u001b[0mpytorch_tabular.tabular_model:\u001b[1;36m548\u001b[0m\u001b[1m}\u001b[0m - INFO - Preparing the DataLoaders                   \n"
      ]
     },
     "metadata": {},
     "output_type": "display_data"
    },
    {
     "data": {
      "text/html": [
       "<pre style=\"white-space:pre;overflow-x:auto;line-height:normal;font-family:Menlo,'DejaVu Sans Mono',consolas,'Courier New',monospace\"><span style=\"color: #008080; text-decoration-color: #008080; font-weight: bold\">2025</span>-<span style=\"color: #008080; text-decoration-color: #008080; font-weight: bold\">03</span>-<span style=\"color: #008080; text-decoration-color: #008080; font-weight: bold\">02</span> <span style=\"color: #00ff00; text-decoration-color: #00ff00; font-weight: bold\">00:00:27</span>,<span style=\"color: #008080; text-decoration-color: #008080; font-weight: bold\">368</span> - <span style=\"font-weight: bold\">{</span>pytorch_tabular.tabular_datamodul<span style=\"color: #00ff00; text-decoration-color: #00ff00; font-weight: bold\">e:522</span><span style=\"font-weight: bold\">}</span> - INFO - Setting up the datamodule for          \n",
       "classification task                                                                                                \n",
       "</pre>\n"
      ],
      "text/plain": [
       "\u001b[1;36m2025\u001b[0m-\u001b[1;36m03\u001b[0m-\u001b[1;36m02\u001b[0m \u001b[1;92m00:00:27\u001b[0m,\u001b[1;36m368\u001b[0m - \u001b[1m{\u001b[0mpytorch_tabular.tabular_datamodul\u001b[1;92me:522\u001b[0m\u001b[1m}\u001b[0m - INFO - Setting up the datamodule for          \n",
       "classification task                                                                                                \n"
      ]
     },
     "metadata": {},
     "output_type": "display_data"
    },
    {
     "data": {
      "text/html": [
       "<pre style=\"white-space:pre;overflow-x:auto;line-height:normal;font-family:Menlo,'DejaVu Sans Mono',consolas,'Courier New',monospace\"><span style=\"color: #008080; text-decoration-color: #008080; font-weight: bold\">2025</span>-<span style=\"color: #008080; text-decoration-color: #008080; font-weight: bold\">03</span>-<span style=\"color: #008080; text-decoration-color: #008080; font-weight: bold\">02</span> <span style=\"color: #00ff00; text-decoration-color: #00ff00; font-weight: bold\">00:00:27</span>,<span style=\"color: #008080; text-decoration-color: #008080; font-weight: bold\">574</span> - <span style=\"font-weight: bold\">{</span>pytorch_tabular.tabular_model:<span style=\"color: #008080; text-decoration-color: #008080; font-weight: bold\">599</span><span style=\"font-weight: bold\">}</span> - INFO - Preparing the Model: CategoryEmbeddingModel \n",
       "</pre>\n"
      ],
      "text/plain": [
       "\u001b[1;36m2025\u001b[0m-\u001b[1;36m03\u001b[0m-\u001b[1;36m02\u001b[0m \u001b[1;92m00:00:27\u001b[0m,\u001b[1;36m574\u001b[0m - \u001b[1m{\u001b[0mpytorch_tabular.tabular_model:\u001b[1;36m599\u001b[0m\u001b[1m}\u001b[0m - INFO - Preparing the Model: CategoryEmbeddingModel \n"
      ]
     },
     "metadata": {},
     "output_type": "display_data"
    },
    {
     "data": {
      "text/html": [
       "<pre style=\"white-space:pre;overflow-x:auto;line-height:normal;font-family:Menlo,'DejaVu Sans Mono',consolas,'Courier New',monospace\"><span style=\"color: #008080; text-decoration-color: #008080; font-weight: bold\">2025</span>-<span style=\"color: #008080; text-decoration-color: #008080; font-weight: bold\">03</span>-<span style=\"color: #008080; text-decoration-color: #008080; font-weight: bold\">02</span> <span style=\"color: #00ff00; text-decoration-color: #00ff00; font-weight: bold\">00:00:27</span>,<span style=\"color: #008080; text-decoration-color: #008080; font-weight: bold\">615</span> - <span style=\"font-weight: bold\">{</span>pytorch_tabular.tabular_model:<span style=\"color: #008080; text-decoration-color: #008080; font-weight: bold\">342</span><span style=\"font-weight: bold\">}</span> - INFO - Preparing the Trainer                       \n",
       "</pre>\n"
      ],
      "text/plain": [
       "\u001b[1;36m2025\u001b[0m-\u001b[1;36m03\u001b[0m-\u001b[1;36m02\u001b[0m \u001b[1;92m00:00:27\u001b[0m,\u001b[1;36m615\u001b[0m - \u001b[1m{\u001b[0mpytorch_tabular.tabular_model:\u001b[1;36m342\u001b[0m\u001b[1m}\u001b[0m - INFO - Preparing the Trainer                       \n"
      ]
     },
     "metadata": {},
     "output_type": "display_data"
    },
    {
     "name": "stderr",
     "output_type": "stream",
     "text": [
      "GPU available: True (cuda), used: True\n",
      "TPU available: False, using: 0 TPU cores\n",
      "HPU available: False, using: 0 HPUs\n"
     ]
    },
    {
     "data": {
      "text/html": [
       "<pre style=\"white-space:pre;overflow-x:auto;line-height:normal;font-family:Menlo,'DejaVu Sans Mono',consolas,'Courier New',monospace\"><span style=\"color: #008080; text-decoration-color: #008080; font-weight: bold\">2025</span>-<span style=\"color: #008080; text-decoration-color: #008080; font-weight: bold\">03</span>-<span style=\"color: #008080; text-decoration-color: #008080; font-weight: bold\">02</span> <span style=\"color: #00ff00; text-decoration-color: #00ff00; font-weight: bold\">00:00:27</span>,<span style=\"color: #008080; text-decoration-color: #008080; font-weight: bold\">646</span> - <span style=\"font-weight: bold\">{</span>pytorch_tabular.tabular_model:<span style=\"color: #008080; text-decoration-color: #008080; font-weight: bold\">678</span><span style=\"font-weight: bold\">}</span> - INFO - Training Started                            \n",
       "</pre>\n"
      ],
      "text/plain": [
       "\u001b[1;36m2025\u001b[0m-\u001b[1;36m03\u001b[0m-\u001b[1;36m02\u001b[0m \u001b[1;92m00:00:27\u001b[0m,\u001b[1;36m646\u001b[0m - \u001b[1m{\u001b[0mpytorch_tabular.tabular_model:\u001b[1;36m678\u001b[0m\u001b[1m}\u001b[0m - INFO - Training Started                            \n"
      ]
     },
     "metadata": {},
     "output_type": "display_data"
    },
    {
     "name": "stderr",
     "output_type": "stream",
     "text": [
      "You are using a CUDA device ('NVIDIA GeForce RTX 4070') that has Tensor Cores. To properly utilize them, you should set `torch.set_float32_matmul_precision('medium' | 'high')` which will trade-off precision for performance. For more details, read https://pytorch.org/docs/stable/generated/torch.set_float32_matmul_precision.html#torch.set_float32_matmul_precision\n",
      "LOCAL_RANK: 0 - CUDA_VISIBLE_DEVICES: [0]\n"
     ]
    },
    {
     "data": {
      "text/html": [
       "<pre style=\"white-space:pre;overflow-x:auto;line-height:normal;font-family:Menlo,'DejaVu Sans Mono',consolas,'Courier New',monospace\">┏━━━┳━━━━━━━━━━━━━━━━━━┳━━━━━━━━━━━━━━━━━━━━━━━━━━━┳━━━━━━━━┳━━━━━━━┓\n",
       "┃<span style=\"color: #800080; text-decoration-color: #800080; font-weight: bold\">   </span>┃<span style=\"color: #800080; text-decoration-color: #800080; font-weight: bold\"> Name             </span>┃<span style=\"color: #800080; text-decoration-color: #800080; font-weight: bold\"> Type                      </span>┃<span style=\"color: #800080; text-decoration-color: #800080; font-weight: bold\"> Params </span>┃<span style=\"color: #800080; text-decoration-color: #800080; font-weight: bold\"> Mode  </span>┃\n",
       "┡━━━╇━━━━━━━━━━━━━━━━━━╇━━━━━━━━━━━━━━━━━━━━━━━━━━━╇━━━━━━━━╇━━━━━━━┩\n",
       "│<span style=\"color: #7f7f7f; text-decoration-color: #7f7f7f\"> 0 </span>│ _backbone        │ CategoryEmbeddingBackbone │  8.2 K │ train │\n",
       "│<span style=\"color: #7f7f7f; text-decoration-color: #7f7f7f\"> 1 </span>│ _embedding_layer │ Embedding1dLayer          │  2.7 K │ train │\n",
       "│<span style=\"color: #7f7f7f; text-decoration-color: #7f7f7f\"> 2 </span>│ head             │ LinearHead                │     66 │ train │\n",
       "│<span style=\"color: #7f7f7f; text-decoration-color: #7f7f7f\"> 3 </span>│ loss             │ CrossEntropyLoss          │      0 │ train │\n",
       "└───┴──────────────────┴───────────────────────────┴────────┴───────┘\n",
       "</pre>\n"
      ],
      "text/plain": [
       "┏━━━┳━━━━━━━━━━━━━━━━━━┳━━━━━━━━━━━━━━━━━━━━━━━━━━━┳━━━━━━━━┳━━━━━━━┓\n",
       "┃\u001b[1;35m \u001b[0m\u001b[1;35m \u001b[0m\u001b[1;35m \u001b[0m┃\u001b[1;35m \u001b[0m\u001b[1;35mName            \u001b[0m\u001b[1;35m \u001b[0m┃\u001b[1;35m \u001b[0m\u001b[1;35mType                     \u001b[0m\u001b[1;35m \u001b[0m┃\u001b[1;35m \u001b[0m\u001b[1;35mParams\u001b[0m\u001b[1;35m \u001b[0m┃\u001b[1;35m \u001b[0m\u001b[1;35mMode \u001b[0m\u001b[1;35m \u001b[0m┃\n",
       "┡━━━╇━━━━━━━━━━━━━━━━━━╇━━━━━━━━━━━━━━━━━━━━━━━━━━━╇━━━━━━━━╇━━━━━━━┩\n",
       "│\u001b[2m \u001b[0m\u001b[2m0\u001b[0m\u001b[2m \u001b[0m│ _backbone        │ CategoryEmbeddingBackbone │  8.2 K │ train │\n",
       "│\u001b[2m \u001b[0m\u001b[2m1\u001b[0m\u001b[2m \u001b[0m│ _embedding_layer │ Embedding1dLayer          │  2.7 K │ train │\n",
       "│\u001b[2m \u001b[0m\u001b[2m2\u001b[0m\u001b[2m \u001b[0m│ head             │ LinearHead                │     66 │ train │\n",
       "│\u001b[2m \u001b[0m\u001b[2m3\u001b[0m\u001b[2m \u001b[0m│ loss             │ CrossEntropyLoss          │      0 │ train │\n",
       "└───┴──────────────────┴───────────────────────────┴────────┴───────┘\n"
      ]
     },
     "metadata": {},
     "output_type": "display_data"
    },
    {
     "data": {
      "text/html": [
       "<pre style=\"white-space:pre;overflow-x:auto;line-height:normal;font-family:Menlo,'DejaVu Sans Mono',consolas,'Courier New',monospace\"><span style=\"font-weight: bold\">Trainable params</span>: 10.9 K                                                                                           \n",
       "<span style=\"font-weight: bold\">Non-trainable params</span>: 0                                                                                            \n",
       "<span style=\"font-weight: bold\">Total params</span>: 10.9 K                                                                                               \n",
       "<span style=\"font-weight: bold\">Total estimated model params size (MB)</span>: 0                                                                          \n",
       "<span style=\"font-weight: bold\">Modules in train mode</span>: 26                                                                                          \n",
       "<span style=\"font-weight: bold\">Modules in eval mode</span>: 0                                                                                            \n",
       "</pre>\n"
      ],
      "text/plain": [
       "\u001b[1mTrainable params\u001b[0m: 10.9 K                                                                                           \n",
       "\u001b[1mNon-trainable params\u001b[0m: 0                                                                                            \n",
       "\u001b[1mTotal params\u001b[0m: 10.9 K                                                                                               \n",
       "\u001b[1mTotal estimated model params size (MB)\u001b[0m: 0                                                                          \n",
       "\u001b[1mModules in train mode\u001b[0m: 26                                                                                          \n",
       "\u001b[1mModules in eval mode\u001b[0m: 0                                                                                            \n"
      ]
     },
     "metadata": {},
     "output_type": "display_data"
    },
    {
     "data": {
      "application/vnd.jupyter.widget-view+json": {
       "model_id": "bbb6e910cca04d9397a6e2576e59f3ca",
       "version_major": 2,
       "version_minor": 0
      },
      "text/plain": [
       "Output()"
      ]
     },
     "metadata": {},
     "output_type": "display_data"
    },
    {
     "data": {
      "text/html": [
       "<pre style=\"white-space:pre;overflow-x:auto;line-height:normal;font-family:Menlo,'DejaVu Sans Mono',consolas,'Courier New',monospace\"></pre>\n"
      ],
      "text/plain": []
     },
     "metadata": {},
     "output_type": "display_data"
    },
    {
     "data": {
      "text/html": [
       "<pre style=\"white-space:pre;overflow-x:auto;line-height:normal;font-family:Menlo,'DejaVu Sans Mono',consolas,'Courier New',monospace\"><span style=\"color: #008080; text-decoration-color: #008080; font-weight: bold\">2025</span>-<span style=\"color: #008080; text-decoration-color: #008080; font-weight: bold\">03</span>-<span style=\"color: #008080; text-decoration-color: #008080; font-weight: bold\">02</span> <span style=\"color: #00ff00; text-decoration-color: #00ff00; font-weight: bold\">00:00:49</span>,<span style=\"color: #008080; text-decoration-color: #008080; font-weight: bold\">243</span> - <span style=\"font-weight: bold\">{</span>pytorch_tabular.tabular_model:<span style=\"color: #008080; text-decoration-color: #008080; font-weight: bold\">689</span><span style=\"font-weight: bold\">}</span> - INFO - Training the model completed                \n",
       "</pre>\n"
      ],
      "text/plain": [
       "\u001b[1;36m2025\u001b[0m-\u001b[1;36m03\u001b[0m-\u001b[1;36m02\u001b[0m \u001b[1;92m00:00:49\u001b[0m,\u001b[1;36m243\u001b[0m - \u001b[1m{\u001b[0mpytorch_tabular.tabular_model:\u001b[1;36m689\u001b[0m\u001b[1m}\u001b[0m - INFO - Training the model completed                \n"
      ]
     },
     "metadata": {},
     "output_type": "display_data"
    },
    {
     "data": {
      "text/html": [
       "<pre style=\"white-space:pre;overflow-x:auto;line-height:normal;font-family:Menlo,'DejaVu Sans Mono',consolas,'Courier New',monospace\"><span style=\"color: #008080; text-decoration-color: #008080; font-weight: bold\">2025</span>-<span style=\"color: #008080; text-decoration-color: #008080; font-weight: bold\">03</span>-<span style=\"color: #008080; text-decoration-color: #008080; font-weight: bold\">02</span> <span style=\"color: #00ff00; text-decoration-color: #00ff00; font-weight: bold\">00:00:49</span>,<span style=\"color: #008080; text-decoration-color: #008080; font-weight: bold\">244</span> - <span style=\"font-weight: bold\">{</span>pytorch_tabular.tabular_model:<span style=\"color: #008080; text-decoration-color: #008080; font-weight: bold\">1529</span><span style=\"font-weight: bold\">}</span> - INFO - Loading the best model                     \n",
       "</pre>\n"
      ],
      "text/plain": [
       "\u001b[1;36m2025\u001b[0m-\u001b[1;36m03\u001b[0m-\u001b[1;36m02\u001b[0m \u001b[1;92m00:00:49\u001b[0m,\u001b[1;36m244\u001b[0m - \u001b[1m{\u001b[0mpytorch_tabular.tabular_model:\u001b[1;36m1529\u001b[0m\u001b[1m}\u001b[0m - INFO - Loading the best model                     \n"
      ]
     },
     "metadata": {},
     "output_type": "display_data"
    },
    {
     "name": "stderr",
     "output_type": "stream",
     "text": [
      "LOCAL_RANK: 0 - CUDA_VISIBLE_DEVICES: [0]\n"
     ]
    },
    {
     "data": {
      "application/vnd.jupyter.widget-view+json": {
       "model_id": "a3544e574fb14f10b41fc2ddbafbaeb8",
       "version_major": 2,
       "version_minor": 0
      },
      "text/plain": [
       "Output()"
      ]
     },
     "metadata": {},
     "output_type": "display_data"
    },
    {
     "data": {
      "text/html": [
       "<pre style=\"white-space:pre;overflow-x:auto;line-height:normal;font-family:Menlo,'DejaVu Sans Mono',consolas,'Courier New',monospace\">┏━━━━━━━━━━━━━━━━━━━━━━━━━━━┳━━━━━━━━━━━━━━━━━━━━━━━━━━━┓\n",
       "┃<span style=\"font-weight: bold\">        Test metric        </span>┃<span style=\"font-weight: bold\">       DataLoader 0        </span>┃\n",
       "┡━━━━━━━━━━━━━━━━━━━━━━━━━━━╇━━━━━━━━━━━━━━━━━━━━━━━━━━━┩\n",
       "│<span style=\"color: #008080; text-decoration-color: #008080\">       test_accuracy       </span>│<span style=\"color: #800080; text-decoration-color: #800080\">    0.9018024802207947     </span>│\n",
       "│<span style=\"color: #008080; text-decoration-color: #008080\">         test_loss         </span>│<span style=\"color: #800080; text-decoration-color: #800080\">    0.22049854695796967    </span>│\n",
       "│<span style=\"color: #008080; text-decoration-color: #008080\">        test_loss_0        </span>│<span style=\"color: #800080; text-decoration-color: #800080\">    0.22049854695796967    </span>│\n",
       "└───────────────────────────┴───────────────────────────┘\n",
       "</pre>\n"
      ],
      "text/plain": [
       "┏━━━━━━━━━━━━━━━━━━━━━━━━━━━┳━━━━━━━━━━━━━━━━━━━━━━━━━━━┓\n",
       "┃\u001b[1m \u001b[0m\u001b[1m       Test metric       \u001b[0m\u001b[1m \u001b[0m┃\u001b[1m \u001b[0m\u001b[1m      DataLoader 0       \u001b[0m\u001b[1m \u001b[0m┃\n",
       "┡━━━━━━━━━━━━━━━━━━━━━━━━━━━╇━━━━━━━━━━━━━━━━━━━━━━━━━━━┩\n",
       "│\u001b[36m \u001b[0m\u001b[36m      test_accuracy      \u001b[0m\u001b[36m \u001b[0m│\u001b[35m \u001b[0m\u001b[35m   0.9018024802207947    \u001b[0m\u001b[35m \u001b[0m│\n",
       "│\u001b[36m \u001b[0m\u001b[36m        test_loss        \u001b[0m\u001b[36m \u001b[0m│\u001b[35m \u001b[0m\u001b[35m   0.22049854695796967   \u001b[0m\u001b[35m \u001b[0m│\n",
       "│\u001b[36m \u001b[0m\u001b[36m       test_loss_0       \u001b[0m\u001b[36m \u001b[0m│\u001b[35m \u001b[0m\u001b[35m   0.22049854695796967   \u001b[0m\u001b[35m \u001b[0m│\n",
       "└───────────────────────────┴───────────────────────────┘\n"
      ]
     },
     "metadata": {},
     "output_type": "display_data"
    },
    {
     "data": {
      "text/html": [
       "<pre style=\"white-space:pre;overflow-x:auto;line-height:normal;font-family:Menlo,'DejaVu Sans Mono',consolas,'Courier New',monospace\"></pre>\n"
      ],
      "text/plain": []
     },
     "metadata": {},
     "output_type": "display_data"
    },
    {
     "data": {
      "text/plain": [
       "[{'test_loss_0': 0.22049854695796967,\n",
       "  'test_loss': 0.22049854695796967,\n",
       "  'test_accuracy': 0.9018024802207947}]"
      ]
     },
     "execution_count": 10,
     "metadata": {},
     "output_type": "execute_result"
    }
   ],
   "source": [
    "model_config = CategoryEmbeddingModelConfig(\n",
    "    task=\"classification\",\n",
    "    layers=\"64-32\",  # Number of nodes in each layer\n",
    "    activation=\"ReLU\", # Activation between each layers\n",
    "    learning_rate = 1e-3,\n",
    "    head = \"LinearHead\", #Linear Head\n",
    "    head_config = head_config, # Linear Head Config\n",
    ")\n",
    "\n",
    "tabular_model = TabularModel(\n",
    "    data_config=data_config,\n",
    "    model_config=model_config,\n",
    "    optimizer_config=optimizer_config,\n",
    "    trainer_config=trainer_config,\n",
    ")\n",
    "tabular_model.fit(train=train)\n",
    "tabular_model.evaluate(test)"
   ]
  },
  {
   "cell_type": "code",
   "execution_count": 89,
   "id": "eff54a8e-f16c-432e-bc11-5dfd1073302b",
   "metadata": {},
   "outputs": [
    {
     "data": {
      "text/plain": [
       "['age', 'balance', 'duration', 'pdays']"
      ]
     },
     "execution_count": 89,
     "metadata": {},
     "output_type": "execute_result"
    }
   ],
   "source": [
    "num_cols"
   ]
  },
  {
   "cell_type": "markdown",
   "id": "2c496026-1533-4d1f-9dcd-6db6ffaefa13",
   "metadata": {},
   "source": [
    "### Vanilla"
   ]
  },
  {
   "cell_type": "code",
   "execution_count": 11,
   "id": "40837712-b4f8-4727-b657-89b5fb32d06f",
   "metadata": {},
   "outputs": [],
   "source": [
    "# encode target for convenience\n",
    "train_enc[target[0]] = train_enc[target[0]].map({'yes': 1, 'no': 0})\n",
    "test_enc[target[0]] = test_enc[target[0]].map({'yes': 1, 'no': 0})"
   ]
  },
  {
   "cell_type": "code",
   "execution_count": 12,
   "id": "fa2ba422-848c-4090-8ff2-d15d8385ec70",
   "metadata": {},
   "outputs": [
    {
     "data": {
      "text/plain": [
       "CategoryEmbeddingModel(\n",
       "  (_backbone): CategoryEmbeddingBackbone(\n",
       "    (linear_layers): Sequential(\n",
       "      (0): Linear(in_features=94, out_features=64, bias=True)\n",
       "      (1): ReLU()\n",
       "      (2): Linear(in_features=64, out_features=32, bias=True)\n",
       "      (3): ReLU()\n",
       "    )\n",
       "  )\n",
       "  (_embedding_layer): Embedding1dLayer(\n",
       "    (cat_embedding_layers): ModuleList(\n",
       "      (0): Embedding(13, 7)\n",
       "      (1): Embedding(4, 2)\n",
       "      (2): Embedding(5, 3)\n",
       "      (3-5): 3 x Embedding(3, 2)\n",
       "      (6): Embedding(4, 2)\n",
       "      (7): Embedding(32, 16)\n",
       "      (8): Embedding(13, 7)\n",
       "      (9): Embedding(47, 24)\n",
       "      (10): Embedding(39, 20)\n",
       "      (11): Embedding(5, 3)\n",
       "    )\n",
       "    (normalizing_batch_norm): BatchNorm1d(\n",
       "      (bn): BatchNorm1d(4, eps=1e-05, momentum=0.1, affine=True, track_running_stats=True)\n",
       "    )\n",
       "  )\n",
       "  (head): LinearHead(\n",
       "    (layers): Sequential(\n",
       "      (0): Linear(in_features=32, out_features=2, bias=True)\n",
       "    )\n",
       "  )\n",
       "  (loss): CrossEntropyLoss()\n",
       ")"
      ]
     },
     "execution_count": 12,
     "metadata": {},
     "output_type": "execute_result"
    }
   ],
   "source": [
    "# check the arhitecture of the torch_tabular model\n",
    "tabular_model.model"
   ]
  },
  {
   "cell_type": "code",
   "execution_count": 13,
   "id": "fe005414-58af-469c-96b5-b3a76f0302a7",
   "metadata": {},
   "outputs": [
    {
     "data": {
      "text/plain": [
       "job          12\n",
       "marital       3\n",
       "education     4\n",
       "default       2\n",
       "housing       2\n",
       "loan          2\n",
       "contact       3\n",
       "day          31\n",
       "month        12\n",
       "campaign     47\n",
       "previous     41\n",
       "poutcome      4\n",
       "dtype: int64"
      ]
     },
     "execution_count": 13,
     "metadata": {},
     "output_type": "execute_result"
    }
   ],
   "source": [
    "# unique categories for each feature\n",
    "train_enc[cat_cols].nunique()"
   ]
  },
  {
   "cell_type": "code",
   "execution_count": 90,
   "id": "7718dc51-18f3-41f5-90b0-0bc0780ec60f",
   "metadata": {},
   "outputs": [],
   "source": [
    "config = {\n",
    "    \"train_data_path\": \"data/train.csv\",\n",
    "    \"val_data_path\": \"data/val.csv\",\n",
    "    \"cat_cols\": ['job', 'marital', 'education', 'default', 'housing', 'loan', 'contact', 'day',\n",
    " 'month',\n",
    " 'campaign',\n",
    " 'previous',\n",
    " 'poutcome'],\n",
    "    \"num_cols\": ['age', 'balance', 'duration', 'pdays'],\n",
    "    \"target\": \"y\",\n",
    "    \"batch_size\": 256,\n",
    "    \"lr\": 1e-3,\n",
    "    \"n_epochs\": 100,\n",
    "    \"patience\": 5,\n",
    "    \"best_model_path\": \"best_model.pth\"\n",
    "}"
   ]
  },
  {
   "cell_type": "code",
   "execution_count": 14,
   "id": "fc46de74-25d0-405a-a3cb-4fb1908e3828",
   "metadata": {},
   "outputs": [
    {
     "data": {
      "text/plain": [
       "[(13, 7),\n",
       " (4, 2),\n",
       " (5, 3),\n",
       " (3, 2),\n",
       " (3, 2),\n",
       " (3, 2),\n",
       " (4, 2),\n",
       " (32, 16),\n",
       " (13, 7),\n",
       " (48, 24),\n",
       " (42, 21),\n",
       " (5, 3)]"
      ]
     },
     "execution_count": 14,
     "metadata": {},
     "output_type": "execute_result"
    }
   ],
   "source": [
    "categorical_cardinality = []\n",
    "for col in cat_cols:\n",
    "    categorical_cardinality.append(train_enc[col].nunique() + 1)\n",
    "\n",
    "# to fix embedding dims as it is done in torch_tabular\n",
    "embedding_dims = [(x, min(50, (x + 1) // 2)) for x in categorical_cardinality]\n",
    "embedding_dims"
   ]
  },
  {
   "cell_type": "code",
   "execution_count": 15,
   "id": "94ae02ad-4209-46ad-bd47-80cb2977e03c",
   "metadata": {},
   "outputs": [
    {
     "data": {
      "text/plain": [
       "95"
      ]
     },
     "execution_count": 15,
     "metadata": {},
     "output_type": "execute_result"
    }
   ],
   "source": [
    "len(num_cols) + sum(dim[1] for dim in embedding_dims)  # input size"
   ]
  },
  {
   "cell_type": "code",
   "execution_count": 16,
   "id": "1e17dc8d-87ea-438a-8083-0871ddba6c7a",
   "metadata": {},
   "outputs": [
    {
     "data": {
      "text/plain": [
       "12"
      ]
     },
     "execution_count": 16,
     "metadata": {},
     "output_type": "execute_result"
    }
   ],
   "source": [
    "len(embedding_dims)"
   ]
  },
  {
   "cell_type": "code",
   "execution_count": 17,
   "id": "d45a8d11-9de2-4184-b8bf-7b89e302cbe1",
   "metadata": {},
   "outputs": [],
   "source": [
    "emb = nn.Embedding(12, 4)"
   ]
  },
  {
   "cell_type": "code",
   "execution_count": 18,
   "id": "e1a5e048-b8bb-478a-b9bf-c89bbc6900b7",
   "metadata": {},
   "outputs": [
    {
     "data": {
      "text/plain": [
       "tensor([[ 0.4536, -1.4628,  1.3201,  0.7185],\n",
       "        [ 0.4536, -1.4628,  1.3201,  0.7185],\n",
       "        [-1.0089, -0.0432,  0.1454, -0.4854],\n",
       "        [ 0.3683,  0.2877, -0.5607, -1.2908]], grad_fn=<EmbeddingBackward0>)"
      ]
     },
     "execution_count": 18,
     "metadata": {},
     "output_type": "execute_result"
    }
   ],
   "source": [
    "emb(torch.tensor([0, 0, 11, 3]))"
   ]
  },
  {
   "cell_type": "code",
   "execution_count": 19,
   "id": "cba1edc3-ec39-4607-b17c-08fa97ad9687",
   "metadata": {},
   "outputs": [
    {
     "data": {
      "text/plain": [
       "Parameter containing:\n",
       "tensor([[ 0.4536, -1.4628,  1.3201,  0.7185],\n",
       "        [ 0.4214, -0.4842, -1.4783,  0.5300],\n",
       "        [-0.6308,  0.7035, -1.0806, -0.1798],\n",
       "        [ 0.3683,  0.2877, -0.5607, -1.2908],\n",
       "        [-0.2175, -0.0043, -0.7377, -1.5626],\n",
       "        [ 0.0980,  2.1202,  1.1259, -1.0247],\n",
       "        [ 0.2528, -1.5918,  1.0044,  1.2693],\n",
       "        [ 0.3604, -0.4787, -1.6672, -0.5533],\n",
       "        [ 0.6527, -0.3517,  1.8621,  0.9831],\n",
       "        [ 1.0695,  1.5290,  0.3095,  0.7432],\n",
       "        [-1.0584,  0.5222, -1.0489,  1.2348],\n",
       "        [-1.0089, -0.0432,  0.1454, -0.4854]], requires_grad=True)"
      ]
     },
     "execution_count": 19,
     "metadata": {},
     "output_type": "execute_result"
    }
   ],
   "source": [
    "emb.weight"
   ]
  },
  {
   "cell_type": "code",
   "execution_count": 20,
   "id": "3c5b6b88-9704-4ab1-8552-cb9b273fdf58",
   "metadata": {},
   "outputs": [],
   "source": [
    "class CategoryDataset(Dataset):\n",
    "    def __init__(self, data: pd.DataFrame, cat_cols: List[str], num_cols: List[str], target_col: List[str]) -> None:\n",
    "        \"\"\"\n",
    "        Categorical features should be encoded\n",
    "        \"\"\"\n",
    "        self.data = data\n",
    "        self.cat_cols = cat_cols\n",
    "        self.num_cols = num_cols\n",
    "        self.target_col = target_col\n",
    "\n",
    "        self.cat_data = self.data[self.cat_cols].values\n",
    "        self.num_data = self.data[self.num_cols].values\n",
    "\n",
    "    def __len__(self):\n",
    "        return len(self.data)\n",
    "\n",
    "    def __getitem__(self, index: int) -> Tuple[torch.Tensor, torch.Tensor, torch.Tensor]:\n",
    "        \"\"\"\n",
    "        Return categorical data, numerical data and target\n",
    "        \"\"\"\n",
    "        x_cat = self.cat_data[index]\n",
    "        x_num = self.num_data[index]\n",
    "        y = self.data[self.target_col].values[index]\n",
    "\n",
    "        return torch.tensor(x_cat, dtype=torch.int64), torch.tensor(x_num, dtype=torch.float32), torch.tensor(y, dtype=torch.int64)"
   ]
  },
  {
   "cell_type": "code",
   "execution_count": 21,
   "id": "c17e9eea-a508-4346-9fcf-8e63dc64f7c0",
   "metadata": {},
   "outputs": [],
   "source": [
    "cat_dataset = CategoryDataset(train_enc, cat_cols=cat_cols, num_cols=num_cols, target_col=target)"
   ]
  },
  {
   "cell_type": "code",
   "execution_count": 22,
   "id": "13eff8b5-8602-4b44-b630-c23e27f93ec7",
   "metadata": {},
   "outputs": [
    {
     "data": {
      "text/plain": [
       "tensor([9, 8, 9])"
      ]
     },
     "execution_count": 22,
     "metadata": {},
     "output_type": "execute_result"
    }
   ],
   "source": [
    "cat_dataset[0:3][0][:, 0]"
   ]
  },
  {
   "cell_type": "code",
   "execution_count": 23,
   "id": "aaa72c3e-592a-4f21-8cee-04a58fa4b2c0",
   "metadata": {},
   "outputs": [
    {
     "data": {
      "text/html": [
       "<div>\n",
       "<style scoped>\n",
       "    .dataframe tbody tr th:only-of-type {\n",
       "        vertical-align: middle;\n",
       "    }\n",
       "\n",
       "    .dataframe tbody tr th {\n",
       "        vertical-align: top;\n",
       "    }\n",
       "\n",
       "    .dataframe thead th {\n",
       "        text-align: right;\n",
       "    }\n",
       "</style>\n",
       "<table border=\"1\" class=\"dataframe\">\n",
       "  <thead>\n",
       "    <tr style=\"text-align: right;\">\n",
       "      <th></th>\n",
       "      <th>age</th>\n",
       "      <th>job</th>\n",
       "      <th>marital</th>\n",
       "      <th>education</th>\n",
       "      <th>default</th>\n",
       "      <th>balance</th>\n",
       "      <th>housing</th>\n",
       "      <th>loan</th>\n",
       "      <th>contact</th>\n",
       "      <th>day</th>\n",
       "      <th>month</th>\n",
       "      <th>duration</th>\n",
       "      <th>campaign</th>\n",
       "      <th>pdays</th>\n",
       "      <th>previous</th>\n",
       "      <th>poutcome</th>\n",
       "      <th>y</th>\n",
       "    </tr>\n",
       "  </thead>\n",
       "  <tbody>\n",
       "    <tr>\n",
       "      <th>24001</th>\n",
       "      <td>36</td>\n",
       "      <td>9.0</td>\n",
       "      <td>0.0</td>\n",
       "      <td>1.0</td>\n",
       "      <td>0.0</td>\n",
       "      <td>861</td>\n",
       "      <td>0.0</td>\n",
       "      <td>0.0</td>\n",
       "      <td>1.0</td>\n",
       "      <td>28.0</td>\n",
       "      <td>1.0</td>\n",
       "      <td>140</td>\n",
       "      <td>1.0</td>\n",
       "      <td>-1</td>\n",
       "      <td>0.0</td>\n",
       "      <td>3.0</td>\n",
       "      <td>0</td>\n",
       "    </tr>\n",
       "    <tr>\n",
       "      <th>43409</th>\n",
       "      <td>24</td>\n",
       "      <td>8.0</td>\n",
       "      <td>2.0</td>\n",
       "      <td>1.0</td>\n",
       "      <td>0.0</td>\n",
       "      <td>4126</td>\n",
       "      <td>0.0</td>\n",
       "      <td>0.0</td>\n",
       "      <td>0.0</td>\n",
       "      <td>4.0</td>\n",
       "      <td>0.0</td>\n",
       "      <td>907</td>\n",
       "      <td>3.0</td>\n",
       "      <td>185</td>\n",
       "      <td>7.0</td>\n",
       "      <td>0.0</td>\n",
       "      <td>1</td>\n",
       "    </tr>\n",
       "    <tr>\n",
       "      <th>20669</th>\n",
       "      <td>44</td>\n",
       "      <td>9.0</td>\n",
       "      <td>2.0</td>\n",
       "      <td>1.0</td>\n",
       "      <td>0.0</td>\n",
       "      <td>244</td>\n",
       "      <td>1.0</td>\n",
       "      <td>0.0</td>\n",
       "      <td>0.0</td>\n",
       "      <td>11.0</td>\n",
       "      <td>1.0</td>\n",
       "      <td>1735</td>\n",
       "      <td>3.0</td>\n",
       "      <td>-1</td>\n",
       "      <td>0.0</td>\n",
       "      <td>3.0</td>\n",
       "      <td>1</td>\n",
       "    </tr>\n",
       "  </tbody>\n",
       "</table>\n",
       "</div>"
      ],
      "text/plain": [
       "       age  job  marital  education  default  balance  housing  loan  contact  \\\n",
       "24001   36  9.0      0.0        1.0      0.0      861      0.0   0.0      1.0   \n",
       "43409   24  8.0      2.0        1.0      0.0     4126      0.0   0.0      0.0   \n",
       "20669   44  9.0      2.0        1.0      0.0      244      1.0   0.0      0.0   \n",
       "\n",
       "        day  month  duration  campaign  pdays  previous  poutcome  y  \n",
       "24001  28.0    1.0       140       1.0     -1       0.0       3.0  0  \n",
       "43409   4.0    0.0       907       3.0    185       7.0       0.0  1  \n",
       "20669  11.0    1.0      1735       3.0     -1       0.0       3.0  1  "
      ]
     },
     "execution_count": 23,
     "metadata": {},
     "output_type": "execute_result"
    }
   ],
   "source": [
    "train_enc.head(3)"
   ]
  },
  {
   "cell_type": "code",
   "execution_count": 75,
   "id": "f0fbc7aa-338d-4062-8596-7ce79ce5f4bb",
   "metadata": {},
   "outputs": [],
   "source": [
    "class CategoryEmbeddingModel(nn.Module):\n",
    "    def __init__(self, embedding_dims, n_num_cols):\n",
    "        super().__init__()\n",
    "        self.category_embeddings = nn.ModuleList([nn.Embedding(x, y) for x, y in embedding_dims])  # embedding for each categorical feature\n",
    "\n",
    "        in_features = n_num_cols + sum(dim[1] for dim in embedding_dims)\n",
    "        self.n_cat_cols = len(embedding_dims)\n",
    "        self.n_num_cols = n_num_cols\n",
    "        \n",
    "        self.backbone = nn.Sequential(*[\n",
    "            nn.Linear(in_features, 64, bias=True),\n",
    "            nn.ReLU(),\n",
    "            nn.Linear(64, 32, bias=True),\n",
    "            nn.ReLU()\n",
    "        ])\n",
    "\n",
    "        self.normalizing_batch_norm = nn.BatchNorm1d(n_num_cols)\n",
    "\n",
    "        self.head = nn.Sequential(*[\n",
    "            nn.Linear(32, 2, bias=True)\n",
    "        ])\n",
    "\n",
    "        cat_num_categories = torch.tensor([dim[0] for dim in embedding_dims], dtype=torch.int64)\n",
    "        self.register_buffer(\"cat_num_categories\", cat_num_categories)\n",
    "\n",
    "        # init weights\n",
    "        for layer in self.backbone:\n",
    "            if isinstance(layer, nn.Linear):\n",
    "                nn.init.kaiming_normal_(layer.weight, mode='fan_in', nonlinearity='relu')\n",
    "        for layer in self.head:\n",
    "            if isinstance(layer, nn.Linear):\n",
    "                nn.init.kaiming_normal_(layer.weight, mode='fan_in', nonlinearity='relu')\n",
    "\n",
    "    def forward(self, x_cat, x_num):\n",
    "        # work-around unknown categories\n",
    "        x_cat += 1  # 0 is <UNKNOWN>\n",
    "        expanded_categories = self.cat_num_categories.unsqueeze(0).expand(x_cat.size(0), -1)  # [batch_size, num_cat_features]\n",
    "        x_cat = torch.where(x_cat < expanded_categories, x_cat, 0)\n",
    "        \n",
    "        # x_cat += 1  # 0 is <UNKNOWN>\n",
    "        # mask = x_cat < self.cat_num_categories\n",
    "        # x_cat = x_cat * mask\n",
    "        \n",
    "        # encode each categorical\n",
    "        x_cat_encoded = [self.category_embeddings[i](x_cat[:, i]) for i in range(self.n_cat_cols)]\n",
    "\n",
    "        # concatenate output from each categorical embedder\n",
    "        x_cat_encoded = torch.cat(x_cat_encoded, dim=1)\n",
    "\n",
    "        # preprocess num_features with normalizing\n",
    "        x_num_encoded = self.normalizing_batch_norm(x_num)\n",
    "\n",
    "        # concatenate categorical and numarical\n",
    "        x = torch.cat([x_cat_encoded, x_num_encoded], dim=1)\n",
    "\n",
    "        # pass to the mlp\n",
    "        x = self.backbone(x)\n",
    "        x = self.head(x)\n",
    "        return x"
   ]
  },
  {
   "cell_type": "code",
   "execution_count": 76,
   "id": "34410098-d54e-4db0-8cc1-de35e596b6c9",
   "metadata": {},
   "outputs": [],
   "source": [
    "cat_model = CategoryEmbeddingModel(embedding_dims=embedding_dims, n_num_cols=len(num_cols))"
   ]
  },
  {
   "cell_type": "code",
   "execution_count": 77,
   "id": "cbe98550-3967-42fb-b011-a886458cbd94",
   "metadata": {},
   "outputs": [
    {
     "name": "stdout",
     "output_type": "stream",
     "text": [
      "tensor([[-0.4004, -0.9542],\n",
      "        [ 0.1432,  0.6471],\n",
      "        [ 0.4445, -0.4598]], grad_fn=<AddmmBackward0>)\n"
     ]
    }
   ],
   "source": [
    "sample = cat_dataset[0:3]\n",
    "out = cat_model(sample[0], sample[1])\n",
    "print(out)"
   ]
  },
  {
   "cell_type": "code",
   "execution_count": 27,
   "id": "e56c2a05-5e6b-478e-b9cd-0132575a8217",
   "metadata": {},
   "outputs": [],
   "source": [
    "train_set, val_set = train_test_split(train_enc, stratify=train_enc[\"y\"], test_size=0.2, random_state=42)"
   ]
  },
  {
   "cell_type": "code",
   "execution_count": 28,
   "id": "736361ac-8333-4f30-96ec-848ea6377b65",
   "metadata": {},
   "outputs": [
    {
     "data": {
      "text/plain": [
       "[(13, 7),\n",
       " (4, 2),\n",
       " (5, 3),\n",
       " (3, 2),\n",
       " (3, 2),\n",
       " (3, 2),\n",
       " (4, 2),\n",
       " (32, 16),\n",
       " (13, 7),\n",
       " (47, 24),\n",
       " (41, 21),\n",
       " (5, 3)]"
      ]
     },
     "execution_count": 28,
     "metadata": {},
     "output_type": "execute_result"
    }
   ],
   "source": [
    "categorical_cardinality = []\n",
    "for col in cat_cols:\n",
    "    categorical_cardinality.append(train_set[col].nunique() + 1)\n",
    "\n",
    "# to fix embedding dims as it is done in torch_tabular\n",
    "embedding_dims = [(x, min(50, (x + 1) // 2)) for x in categorical_cardinality]\n",
    "embedding_dims"
   ]
  },
  {
   "cell_type": "code",
   "execution_count": 84,
   "id": "a5bf1caa-13da-4c30-9287-d4eb8f2cb201",
   "metadata": {},
   "outputs": [],
   "source": [
    "# train model\n",
    "device = \"cuda\" if torch.cuda.is_available() else 'cpu'\n",
    "\n",
    "batch_size = 256\n",
    "lr = 1e-3\n",
    "\n",
    "cat_model = CategoryEmbeddingModel(embedding_dims=embedding_dims, n_num_cols=len(num_cols)).to(device)\n",
    "\n",
    "loss = nn.CrossEntropyLoss()\n",
    "optimizer = torch.optim.Adam(cat_model.parameters(), lr=lr)\n",
    "\n",
    "train_dataset = CategoryDataset(train_set, cat_cols=cat_cols, num_cols=num_cols, target_col=target)\n",
    "val_dataset = CategoryDataset(val_set, cat_cols=cat_cols, num_cols=num_cols, target_col=target)\n",
    "\n",
    "train_dataloader = DataLoader(train_dataset, batch_size=batch_size, shuffle=True)\n",
    "val_dataloader = DataLoader(val_dataset, batch_size=batch_size, shuffle=False)"
   ]
  },
  {
   "cell_type": "code",
   "execution_count": 82,
   "id": "c5191989-0c69-423f-9d18-00d12ba0836a",
   "metadata": {},
   "outputs": [],
   "source": [
    "def evaluate(model, dataloader, loss_fn):\n",
    "    model.eval()  # Переводим модель в режим оценки\n",
    "    total_loss = 0\n",
    "    total_correct = 0\n",
    "    total_samples = 0\n",
    "\n",
    "    with torch.no_grad():  # Отключаем вычисление градиентов\n",
    "        for x_cat, x_num, y in dataloader:\n",
    "            x_cat, x_num, y = x_cat.to(device), x_num.to(device), y.to(device)\n",
    "            y_pred = model(x_cat, x_num)  # Получаем logits\n",
    "\n",
    "            # Вычисляем loss\n",
    "            batch_loss = loss_fn(y_pred, y.squeeze())\n",
    "            total_loss += batch_loss.item() * y.size(0)\n",
    "\n",
    "            # Вычисляем accuracy\n",
    "            _, predicted = torch.max(y_pred, 1)  # Получаем предсказанные классы\n",
    "            total_correct += (predicted.squeeze() == y.squeeze()).sum().item()  # Считаем количество правильных предсказаний\n",
    "            total_samples += y.size(0)  # Общее количество примеров\n",
    "\n",
    "    # Средний loss и accuracy\n",
    "    avg_loss = total_loss / total_samples\n",
    "    accuracy = total_correct / total_samples\n",
    "    return avg_loss, accuracy"
   ]
  },
  {
   "cell_type": "code",
   "execution_count": 85,
   "id": "2961c619-562b-49be-95a9-409cd4892955",
   "metadata": {},
   "outputs": [
    {
     "name": "stdout",
     "output_type": "stream",
     "text": [
      "Untrained model scores:\n",
      "loss: 73.87603135724605\n",
      "accuracy: 0.8501520597179983\n",
      "Epoch: 1. Train loss: 0.31675560739740993. Val loss: 0.2536469258950961. Val accuracy: 0.8968758639756704\n",
      "New best model saved with val_loss: 0.2536469258950961\n",
      "Epoch: 2. Train loss: 0.24063782642285028. Val loss: 0.24109656590106313. Val accuracy: 0.8995023500138236\n",
      "New best model saved with val_loss: 0.24109656590106313\n",
      "Epoch: 3. Train loss: 0.22787399224021979. Val loss: 0.2315535154713759. Val accuracy: 0.8983964611556539\n",
      "New best model saved with val_loss: 0.2315535154713759\n",
      "Epoch: 4. Train loss: 0.21969594165944217. Val loss: 0.22595425050232928. Val accuracy: 0.9008847110865358\n",
      "New best model saved with val_loss: 0.22595425050232928\n",
      "Epoch: 5. Train loss: 0.21329594383898534. Val loss: 0.2219634360211773. Val accuracy: 0.8979817528338402\n",
      "New best model saved with val_loss: 0.2219634360211773\n",
      "Epoch: 6. Train loss: 0.21076987919054532. Val loss: 0.22116030684682852. Val accuracy: 0.9021288360519768\n",
      "New best model saved with val_loss: 0.22116030684682852\n",
      "Epoch: 7. Train loss: 0.20316045792577297. Val loss: 0.21899026482349804. Val accuracy: 0.9017141277301631\n",
      "New best model saved with val_loss: 0.21899026482349804\n",
      "Epoch: 8. Train loss: 0.1997187469612088. Val loss: 0.2169981899843514. Val accuracy: 0.9030964888028753\n",
      "New best model saved with val_loss: 0.2169981899843514\n",
      "Epoch: 9. Train loss: 0.1953580370336248. Val loss: 0.21947053181950413. Val accuracy: 0.9030964888028753\n",
      "No improvement for 1 epochs\n",
      "Epoch: 10. Train loss: 0.19257196868982232. Val loss: 0.21778646990644493. Val accuracy: 0.899778822228366\n",
      "No improvement for 2 epochs\n",
      "Epoch: 11. Train loss: 0.1897459183737897. Val loss: 0.21916919046915595. Val accuracy: 0.8981199889411114\n",
      "No improvement for 3 epochs\n",
      "Epoch: 12. Train loss: 0.18899117586644074. Val loss: 0.22027986534794688. Val accuracy: 0.9004700027647221\n",
      "No improvement for 4 epochs\n",
      "Epoch: 13. Train loss: 0.18553670894419938. Val loss: 0.2152392556234259. Val accuracy: 0.9014376555156207\n",
      "New best model saved with val_loss: 0.2152392556234259\n",
      "Epoch: 14. Train loss: 0.18052839755750538. Val loss: 0.21660697170143664. Val accuracy: 0.9015758916228919\n",
      "No improvement for 1 epochs\n",
      "Epoch: 15. Train loss: 0.17832101162588387. Val loss: 0.21628361811023541. Val accuracy: 0.9011611833010782\n",
      "No improvement for 2 epochs\n",
      "Epoch: 16. Train loss: 0.17447218900186973. Val loss: 0.21631122626650554. Val accuracy: 0.8992258777992812\n",
      "No improvement for 3 epochs\n",
      "Epoch: 17. Train loss: 0.1715678130521586. Val loss: 0.2190858782623102. Val accuracy: 0.9001935305501797\n",
      "No improvement for 4 epochs\n",
      "Epoch: 18. Train loss: 0.16954487431467624. Val loss: 0.21961919059897114. Val accuracy: 0.8981199889411114\n",
      "No improvement for 5 epochs\n",
      "Early stopping at epoch 18\n",
      "Training complete. Best model loaded.\n"
     ]
    }
   ],
   "source": [
    "# Оценка модели до обучения\n",
    "val_loss, val_accuracy = evaluate(cat_model, val_dataloader, loss)\n",
    "print(f'Untrained model scores:\\nloss: {val_loss}\\naccuracy: {val_accuracy}')\n",
    "\n",
    "# Обучение модели\n",
    "patience = 5  # Сколько эпох ждать улучшения val_loss\n",
    "best_val_loss = float(\"inf\")  # Лучший val_loss\n",
    "epochs_without_improvement = 0  # Счетчик эпох без улучшения\n",
    "best_model_path = \"best_model.pth\"  # Путь для сохранения лучшей модели\n",
    "\n",
    "N_EPOCHS = 100\n",
    "\n",
    "for epoch in range(N_EPOCHS):\n",
    "    cat_model.train()\n",
    "    train_losses = []\n",
    "    start_time = time.time()\n",
    "\n",
    "    # Обучение на train_dataloader\n",
    "    for x_cat, x_num, y in train_dataloader:\n",
    "        optimizer.zero_grad()\n",
    "\n",
    "        x_cat, x_num, y = x_cat.to(device), x_num.to(device), y.to(device)\n",
    "\n",
    "        y_pred = cat_model(x_cat, x_num)\n",
    "        batch_loss = loss(y_pred, y.squeeze())\n",
    "        train_losses.append(batch_loss.item())\n",
    "\n",
    "        batch_loss.backward()\n",
    "        optimizer.step()\n",
    "\n",
    "    # Оценка на val_dataloader\n",
    "    val_loss, val_accuracy = evaluate(cat_model, val_dataloader, loss)\n",
    "    print(f\"Epoch: {epoch + 1}. Train loss: {np.mean(train_losses)}. Val loss: {val_loss}. Val accuracy: {val_accuracy}\")\n",
    "\n",
    "    # Ранняя остановка и сохранение лучшей модели\n",
    "    if val_loss < best_val_loss:\n",
    "        best_val_loss = val_loss\n",
    "        epochs_without_improvement = 0\n",
    "        torch.save(cat_model.state_dict(), best_model_path)  # Сохраняем веса лучшей модели\n",
    "        print(f\"New best model saved with val_loss: {best_val_loss}\")\n",
    "    else:\n",
    "        epochs_without_improvement += 1\n",
    "        print(f\"No improvement for {epochs_without_improvement} epochs\")\n",
    "\n",
    "    # Прекращаем обучение, если val_loss не улучшается в течение patience эпох\n",
    "    if epochs_without_improvement >= patience:\n",
    "        print(f\"Early stopping at epoch {epoch + 1}\")\n",
    "        break\n",
    "\n",
    "# Загрузка лучшей модели\n",
    "cat_model.load_state_dict(torch.load(best_model_path))\n",
    "print(\"Training complete. Best model loaded.\")"
   ]
  },
  {
   "cell_type": "code",
   "execution_count": null,
   "id": "982c731d-f109-4da4-ad9d-d12b472ca9fb",
   "metadata": {},
   "outputs": [],
   "source": []
  }
 ],
 "metadata": {
  "kernelspec": {
   "display_name": "uplift",
   "language": "python",
   "name": "uplift"
  },
  "language_info": {
   "codemirror_mode": {
    "name": "ipython",
    "version": 3
   },
   "file_extension": ".py",
   "mimetype": "text/x-python",
   "name": "python",
   "nbconvert_exporter": "python",
   "pygments_lexer": "ipython3",
   "version": "3.11.9"
  }
 },
 "nbformat": 4,
 "nbformat_minor": 5
}
