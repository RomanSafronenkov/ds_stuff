{
 "cells": [
  {
   "cell_type": "markdown",
   "id": "74f460b3-5a7a-4b59-a1dd-32992e0ac6c1",
   "metadata": {},
   "source": [
    "# Transformers for tabular data. TabTransformer"
   ]
  },
  {
   "cell_type": "markdown",
   "id": "2b02dcdc-7bfb-4fc8-a877-3a91565b9cbd",
   "metadata": {},
   "source": [
    "Inspired and based on https://github.com/s-nlp/transformers-course/blob/main/Seminars/15_Tabular_Transformer.ipynb\n",
    "\n",
    "https://arxiv.org/pdf/2012.06678"
   ]
  },
  {
   "cell_type": "code",
   "execution_count": 1,
   "id": "a6efcdb0-b23b-498b-bb39-41053f9eccb8",
   "metadata": {},
   "outputs": [],
   "source": [
    "from typing import List, Tuple\n",
    "import time\n",
    "\n",
    "import torch\n",
    "import torch.nn as nn\n",
    "import torch.nn.functional as F\n",
    "from torch.utils.data import Dataset, DataLoader\n",
    "\n",
    "import numpy as np\n",
    "import pandas as pd\n",
    "from sklearn.datasets import fetch_openml\n",
    "from sklearn.model_selection import train_test_split\n",
    "from sklearn.metrics import accuracy_score, log_loss"
   ]
  },
  {
   "cell_type": "code",
   "execution_count": 2,
   "id": "74c4d5f9-da5c-4a49-8261-0c58633a3226",
   "metadata": {},
   "outputs": [],
   "source": [
    "import warnings\n",
    "# Suppress all user warnings\n",
    "warnings.filterwarnings(\"ignore\")"
   ]
  },
  {
   "cell_type": "code",
   "execution_count": 3,
   "id": "4255fa9b-2413-4f42-89d5-699b4c46a702",
   "metadata": {},
   "outputs": [
    {
     "data": {
      "text/html": [
       "<div>\n",
       "<style scoped>\n",
       "    .dataframe tbody tr th:only-of-type {\n",
       "        vertical-align: middle;\n",
       "    }\n",
       "\n",
       "    .dataframe tbody tr th {\n",
       "        vertical-align: top;\n",
       "    }\n",
       "\n",
       "    .dataframe thead th {\n",
       "        text-align: right;\n",
       "    }\n",
       "</style>\n",
       "<table border=\"1\" class=\"dataframe\">\n",
       "  <thead>\n",
       "    <tr style=\"text-align: right;\">\n",
       "      <th></th>\n",
       "      <th>age</th>\n",
       "      <th>job</th>\n",
       "      <th>marital</th>\n",
       "      <th>education</th>\n",
       "      <th>default</th>\n",
       "      <th>balance</th>\n",
       "      <th>housing</th>\n",
       "      <th>loan</th>\n",
       "      <th>contact</th>\n",
       "      <th>day</th>\n",
       "      <th>month</th>\n",
       "      <th>duration</th>\n",
       "      <th>campaign</th>\n",
       "      <th>pdays</th>\n",
       "      <th>previous</th>\n",
       "      <th>poutcome</th>\n",
       "      <th>y</th>\n",
       "    </tr>\n",
       "  </thead>\n",
       "  <tbody>\n",
       "    <tr>\n",
       "      <th>0</th>\n",
       "      <td>58</td>\n",
       "      <td>management</td>\n",
       "      <td>married</td>\n",
       "      <td>tertiary</td>\n",
       "      <td>no</td>\n",
       "      <td>2143</td>\n",
       "      <td>yes</td>\n",
       "      <td>no</td>\n",
       "      <td>unknown</td>\n",
       "      <td>5</td>\n",
       "      <td>may</td>\n",
       "      <td>261</td>\n",
       "      <td>1</td>\n",
       "      <td>-1</td>\n",
       "      <td>0</td>\n",
       "      <td>unknown</td>\n",
       "      <td>no</td>\n",
       "    </tr>\n",
       "    <tr>\n",
       "      <th>1</th>\n",
       "      <td>44</td>\n",
       "      <td>technician</td>\n",
       "      <td>single</td>\n",
       "      <td>secondary</td>\n",
       "      <td>no</td>\n",
       "      <td>29</td>\n",
       "      <td>yes</td>\n",
       "      <td>no</td>\n",
       "      <td>unknown</td>\n",
       "      <td>5</td>\n",
       "      <td>may</td>\n",
       "      <td>151</td>\n",
       "      <td>1</td>\n",
       "      <td>-1</td>\n",
       "      <td>0</td>\n",
       "      <td>unknown</td>\n",
       "      <td>no</td>\n",
       "    </tr>\n",
       "    <tr>\n",
       "      <th>2</th>\n",
       "      <td>33</td>\n",
       "      <td>entrepreneur</td>\n",
       "      <td>married</td>\n",
       "      <td>secondary</td>\n",
       "      <td>no</td>\n",
       "      <td>2</td>\n",
       "      <td>yes</td>\n",
       "      <td>yes</td>\n",
       "      <td>unknown</td>\n",
       "      <td>5</td>\n",
       "      <td>may</td>\n",
       "      <td>76</td>\n",
       "      <td>1</td>\n",
       "      <td>-1</td>\n",
       "      <td>0</td>\n",
       "      <td>unknown</td>\n",
       "      <td>no</td>\n",
       "    </tr>\n",
       "    <tr>\n",
       "      <th>3</th>\n",
       "      <td>47</td>\n",
       "      <td>blue-collar</td>\n",
       "      <td>married</td>\n",
       "      <td>unknown</td>\n",
       "      <td>no</td>\n",
       "      <td>1506</td>\n",
       "      <td>yes</td>\n",
       "      <td>no</td>\n",
       "      <td>unknown</td>\n",
       "      <td>5</td>\n",
       "      <td>may</td>\n",
       "      <td>92</td>\n",
       "      <td>1</td>\n",
       "      <td>-1</td>\n",
       "      <td>0</td>\n",
       "      <td>unknown</td>\n",
       "      <td>no</td>\n",
       "    </tr>\n",
       "    <tr>\n",
       "      <th>4</th>\n",
       "      <td>33</td>\n",
       "      <td>unknown</td>\n",
       "      <td>single</td>\n",
       "      <td>unknown</td>\n",
       "      <td>no</td>\n",
       "      <td>1</td>\n",
       "      <td>no</td>\n",
       "      <td>no</td>\n",
       "      <td>unknown</td>\n",
       "      <td>5</td>\n",
       "      <td>may</td>\n",
       "      <td>198</td>\n",
       "      <td>1</td>\n",
       "      <td>-1</td>\n",
       "      <td>0</td>\n",
       "      <td>unknown</td>\n",
       "      <td>no</td>\n",
       "    </tr>\n",
       "  </tbody>\n",
       "</table>\n",
       "</div>"
      ],
      "text/plain": [
       "   age           job  marital  education default  balance housing loan  \\\n",
       "0   58    management  married   tertiary      no     2143     yes   no   \n",
       "1   44    technician   single  secondary      no       29     yes   no   \n",
       "2   33  entrepreneur  married  secondary      no        2     yes  yes   \n",
       "3   47   blue-collar  married    unknown      no     1506     yes   no   \n",
       "4   33       unknown   single    unknown      no        1      no   no   \n",
       "\n",
       "   contact  day month  duration  campaign  pdays  previous poutcome   y  \n",
       "0  unknown    5   may       261         1     -1         0  unknown  no  \n",
       "1  unknown    5   may       151         1     -1         0  unknown  no  \n",
       "2  unknown    5   may        76         1     -1         0  unknown  no  \n",
       "3  unknown    5   may        92         1     -1         0  unknown  no  \n",
       "4  unknown    5   may       198         1     -1         0  unknown  no  "
      ]
     },
     "execution_count": 3,
     "metadata": {},
     "output_type": "execute_result"
    }
   ],
   "source": [
    "np.random.seed(42)\n",
    "\n",
    "X, y = fetch_openml(\"Bank_marketing_data_set_UCI\", version=1, as_frame=True, return_X_y=True)\n",
    "data = X.join(y)\n",
    "del X, y\n",
    "data.head()"
   ]
  },
  {
   "cell_type": "code",
   "execution_count": 4,
   "id": "64fd65f3-15fc-42ac-8db4-3c3998d272da",
   "metadata": {},
   "outputs": [],
   "source": [
    "cat_cols = ['job', 'marital', 'education', 'default', 'housing',\n",
    "       'loan', 'contact', 'day', 'month', 'campaign',\n",
    "       'previous', 'poutcome']\n",
    "\n",
    "num_cols = ['age', 'balance', 'duration', 'pdays']\n",
    "target=[\"y\"]"
   ]
  },
  {
   "cell_type": "code",
   "execution_count": 5,
   "id": "202e58d8-c856-4f34-8a17-482cd00bcf56",
   "metadata": {},
   "outputs": [],
   "source": [
    "train, test = train_test_split(data, stratify=data[\"y\"], test_size=0.2, random_state=42)"
   ]
  },
  {
   "cell_type": "markdown",
   "id": "38f651f9-3cf4-4c9f-826b-dd1663e93505",
   "metadata": {},
   "source": [
    "# LightGBM"
   ]
  },
  {
   "cell_type": "code",
   "execution_count": 6,
   "id": "54ce6486-1f3c-4f24-a1a7-e1f72233316b",
   "metadata": {},
   "outputs": [],
   "source": [
    "from lightgbm import LGBMClassifier\n",
    "from sklearn.preprocessing import OrdinalEncoder\n",
    "\n",
    "# LightGBM needs categorical columns encoded as integers\n",
    "train_enc = train.copy()\n",
    "test_enc = test.copy()\n",
    "for col in cat_cols:\n",
    "    enc = OrdinalEncoder(handle_unknown=\"use_encoded_value\", encoded_missing_value=np.nan, unknown_value=np.nan)\n",
    "    train_enc[col] = enc.fit_transform(train_enc[col].values.reshape(-1,1))\n",
    "    test_enc[col] = enc.transform(test_enc[col].values.reshape(-1,1))"
   ]
  },
  {
   "cell_type": "code",
   "execution_count": 7,
   "id": "8b2621c7-c7b0-4744-be92-8f2b6bfdde8f",
   "metadata": {},
   "outputs": [
    {
     "name": "stdout",
     "output_type": "stream",
     "text": [
      "[LightGBM] [Info] Number of positive: 4231, number of negative: 31937\n",
      "[LightGBM] [Info] Auto-choosing row-wise multi-threading, the overhead of testing was 0.001370 seconds.\n",
      "You can set `force_row_wise=true` to remove the overhead.\n",
      "And if memory is not enough, you can set `force_col_wise=true`.\n",
      "[LightGBM] [Info] Total Bins 988\n",
      "[LightGBM] [Info] Number of data points in the train set: 36168, number of used features: 16\n",
      "[LightGBM] [Info] [binary:BoostFromScore]: pavg=0.116982 -> initscore=-2.021327\n",
      "[LightGBM] [Info] Start training from score -2.021327\n",
      "Acc: 0.9083268826716797 | LogLoss: 0.19783125832611875\n"
     ]
    }
   ],
   "source": [
    "clf = LGBMClassifier(random_state=42)\n",
    "clf.fit(train_enc.drop(columns=target[0]), train_enc[target], categorical_feature=cat_cols)\n",
    "test_pred = clf.predict(test_enc.drop(columns=target[0]))\n",
    "test_pred_proba = clf.predict_proba(test_enc.drop(columns=target[0]))\n",
    "\n",
    "acc = accuracy_score(test[target[0]].values, test_pred)\n",
    "loss = log_loss(test[target[0]].values, test_pred_proba)\n",
    "print(f\"Acc: {acc} | LogLoss: {loss}\")"
   ]
  },
  {
   "cell_type": "markdown",
   "id": "8684edab-b0cb-4adb-86af-ae53f022a7fe",
   "metadata": {},
   "source": [
    "# Transformers"
   ]
  },
  {
   "cell_type": "code",
   "execution_count": 8,
   "id": "99b3928f-0639-400a-88cb-9eecaf330cdd",
   "metadata": {},
   "outputs": [],
   "source": [
    "from pytorch_tabular import TabularModel\n",
    "from pytorch_tabular.models import (\n",
    "    CategoryEmbeddingModelConfig,\n",
    "    FTTransformerConfig,\n",
    "    TabNetModelConfig,\n",
    "    GatedAdditiveTreeEnsembleConfig,\n",
    "    TabTransformerConfig,\n",
    "    AutoIntConfig\n",
    ")\n",
    "from pytorch_tabular.config import DataConfig, OptimizerConfig, TrainerConfig, ExperimentConfig\n",
    "from pytorch_tabular.models.common.heads import LinearHeadConfig"
   ]
  },
  {
   "cell_type": "code",
   "execution_count": 9,
   "id": "623cd797-ed61-402b-8927-b5bc5219c7d6",
   "metadata": {},
   "outputs": [],
   "source": [
    "data_config = DataConfig(\n",
    "    target=target, #target should always be a list.\n",
    "    continuous_cols=num_cols,\n",
    "    categorical_cols=cat_cols,\n",
    ")\n",
    "\n",
    "for col in data_config.continuous_cols:\n",
    "    train[col] = train[col].astype(\"float64\")\n",
    "    test[col] = test[col].astype(\"float64\")\n",
    "\n",
    "trainer_config = TrainerConfig(\n",
    "#     auto_lr_find=True, # Runs the LRFinder to automatically derive a learning rate\n",
    "    batch_size=256,\n",
    "    max_epochs=500,\n",
    "    early_stopping=\"valid_loss\", # Monitor valid_loss for early stopping\n",
    "    early_stopping_mode = \"min\", # Set the mode as min because for val_loss, lower is better\n",
    "    early_stopping_patience=5, # No. of epochs of degradation training will wait before terminating\n",
    "    checkpoints=\"valid_loss\", # Save best checkpoint monitoring val_loss\n",
    "    load_best=True, # After training, load the best checkpoint\n",
    ")\n",
    "\n",
    "optimizer_config = OptimizerConfig()\n",
    "\n",
    "head_config = LinearHeadConfig(\n",
    "    layers=\"\", # No additional layer in head, just a mapping layer to output_dim\n",
    "    dropout=0.1,\n",
    "    initialization=\"kaiming\"\n",
    ").__dict__ # Convert to dict to pass to the model config (OmegaConf doesn't accept objects)"
   ]
  },
  {
   "cell_type": "markdown",
   "id": "55e6dbed-856a-406a-af61-af28741bf09d",
   "metadata": {},
   "source": [
    "## TabTransformer"
   ]
  },
  {
   "cell_type": "markdown",
   "id": "fc8f3742-78fa-4f1b-8215-5c2af59f7a08",
   "metadata": {},
   "source": [
    "![](data:image/png;base64,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)"
   ]
  },
  {
   "cell_type": "code",
   "execution_count": 10,
   "id": "611c7e63-ebdf-47ac-9586-ab5b70b6ae87",
   "metadata": {},
   "outputs": [
    {
     "data": {
      "text/html": [
       "<pre style=\"white-space:pre;overflow-x:auto;line-height:normal;font-family:Menlo,'DejaVu Sans Mono',consolas,'Courier New',monospace\"><span style=\"color: #008080; text-decoration-color: #008080; font-weight: bold\">2025</span>-<span style=\"color: #008080; text-decoration-color: #008080; font-weight: bold\">03</span>-<span style=\"color: #008080; text-decoration-color: #008080; font-weight: bold\">02</span> <span style=\"color: #00ff00; text-decoration-color: #00ff00; font-weight: bold\">10:21:44</span>,<span style=\"color: #008080; text-decoration-color: #008080; font-weight: bold\">725</span> - <span style=\"font-weight: bold\">{</span>pytorch_tabular.tabular_model:<span style=\"color: #008080; text-decoration-color: #008080; font-weight: bold\">146</span><span style=\"font-weight: bold\">}</span> - INFO - Experiment Tracking is turned off           \n",
       "</pre>\n"
      ],
      "text/plain": [
       "\u001b[1;36m2025\u001b[0m-\u001b[1;36m03\u001b[0m-\u001b[1;36m02\u001b[0m \u001b[1;92m10:21:44\u001b[0m,\u001b[1;36m725\u001b[0m - \u001b[1m{\u001b[0mpytorch_tabular.tabular_model:\u001b[1;36m146\u001b[0m\u001b[1m}\u001b[0m - INFO - Experiment Tracking is turned off           \n"
      ]
     },
     "metadata": {},
     "output_type": "display_data"
    },
    {
     "name": "stderr",
     "output_type": "stream",
     "text": [
      "Seed set to 42\n"
     ]
    },
    {
     "data": {
      "text/html": [
       "<pre style=\"white-space:pre;overflow-x:auto;line-height:normal;font-family:Menlo,'DejaVu Sans Mono',consolas,'Courier New',monospace\"><span style=\"color: #008080; text-decoration-color: #008080; font-weight: bold\">2025</span>-<span style=\"color: #008080; text-decoration-color: #008080; font-weight: bold\">03</span>-<span style=\"color: #008080; text-decoration-color: #008080; font-weight: bold\">02</span> <span style=\"color: #00ff00; text-decoration-color: #00ff00; font-weight: bold\">10:21:44</span>,<span style=\"color: #008080; text-decoration-color: #008080; font-weight: bold\">826</span> - <span style=\"font-weight: bold\">{</span>pytorch_tabular.tabular_model:<span style=\"color: #008080; text-decoration-color: #008080; font-weight: bold\">548</span><span style=\"font-weight: bold\">}</span> - INFO - Preparing the DataLoaders                   \n",
       "</pre>\n"
      ],
      "text/plain": [
       "\u001b[1;36m2025\u001b[0m-\u001b[1;36m03\u001b[0m-\u001b[1;36m02\u001b[0m \u001b[1;92m10:21:44\u001b[0m,\u001b[1;36m826\u001b[0m - \u001b[1m{\u001b[0mpytorch_tabular.tabular_model:\u001b[1;36m548\u001b[0m\u001b[1m}\u001b[0m - INFO - Preparing the DataLoaders                   \n"
      ]
     },
     "metadata": {},
     "output_type": "display_data"
    },
    {
     "data": {
      "text/html": [
       "<pre style=\"white-space:pre;overflow-x:auto;line-height:normal;font-family:Menlo,'DejaVu Sans Mono',consolas,'Courier New',monospace\"><span style=\"color: #008080; text-decoration-color: #008080; font-weight: bold\">2025</span>-<span style=\"color: #008080; text-decoration-color: #008080; font-weight: bold\">03</span>-<span style=\"color: #008080; text-decoration-color: #008080; font-weight: bold\">02</span> <span style=\"color: #00ff00; text-decoration-color: #00ff00; font-weight: bold\">10:21:44</span>,<span style=\"color: #008080; text-decoration-color: #008080; font-weight: bold\">937</span> - <span style=\"font-weight: bold\">{</span>pytorch_tabular.tabular_datamodul<span style=\"color: #00ff00; text-decoration-color: #00ff00; font-weight: bold\">e:522</span><span style=\"font-weight: bold\">}</span> - INFO - Setting up the datamodule for          \n",
       "classification task                                                                                                \n",
       "</pre>\n"
      ],
      "text/plain": [
       "\u001b[1;36m2025\u001b[0m-\u001b[1;36m03\u001b[0m-\u001b[1;36m02\u001b[0m \u001b[1;92m10:21:44\u001b[0m,\u001b[1;36m937\u001b[0m - \u001b[1m{\u001b[0mpytorch_tabular.tabular_datamodul\u001b[1;92me:522\u001b[0m\u001b[1m}\u001b[0m - INFO - Setting up the datamodule for          \n",
       "classification task                                                                                                \n"
      ]
     },
     "metadata": {},
     "output_type": "display_data"
    },
    {
     "data": {
      "text/html": [
       "<pre style=\"white-space:pre;overflow-x:auto;line-height:normal;font-family:Menlo,'DejaVu Sans Mono',consolas,'Courier New',monospace\"><span style=\"color: #008080; text-decoration-color: #008080; font-weight: bold\">2025</span>-<span style=\"color: #008080; text-decoration-color: #008080; font-weight: bold\">03</span>-<span style=\"color: #008080; text-decoration-color: #008080; font-weight: bold\">02</span> <span style=\"color: #00ff00; text-decoration-color: #00ff00; font-weight: bold\">10:21:45</span>,<span style=\"color: #008080; text-decoration-color: #008080; font-weight: bold\">164</span> - <span style=\"font-weight: bold\">{</span>pytorch_tabular.tabular_model:<span style=\"color: #008080; text-decoration-color: #008080; font-weight: bold\">599</span><span style=\"font-weight: bold\">}</span> - INFO - Preparing the Model: TabTransformerModel    \n",
       "</pre>\n"
      ],
      "text/plain": [
       "\u001b[1;36m2025\u001b[0m-\u001b[1;36m03\u001b[0m-\u001b[1;36m02\u001b[0m \u001b[1;92m10:21:45\u001b[0m,\u001b[1;36m164\u001b[0m - \u001b[1m{\u001b[0mpytorch_tabular.tabular_model:\u001b[1;36m599\u001b[0m\u001b[1m}\u001b[0m - INFO - Preparing the Model: TabTransformerModel    \n"
      ]
     },
     "metadata": {},
     "output_type": "display_data"
    },
    {
     "data": {
      "text/html": [
       "<pre style=\"white-space:pre;overflow-x:auto;line-height:normal;font-family:Menlo,'DejaVu Sans Mono',consolas,'Courier New',monospace\"><span style=\"color: #008080; text-decoration-color: #008080; font-weight: bold\">2025</span>-<span style=\"color: #008080; text-decoration-color: #008080; font-weight: bold\">03</span>-<span style=\"color: #008080; text-decoration-color: #008080; font-weight: bold\">02</span> <span style=\"color: #00ff00; text-decoration-color: #00ff00; font-weight: bold\">10:21:45</span>,<span style=\"color: #008080; text-decoration-color: #008080; font-weight: bold\">244</span> - <span style=\"font-weight: bold\">{</span>pytorch_tabular.tabular_model:<span style=\"color: #008080; text-decoration-color: #008080; font-weight: bold\">342</span><span style=\"font-weight: bold\">}</span> - INFO - Preparing the Trainer                       \n",
       "</pre>\n"
      ],
      "text/plain": [
       "\u001b[1;36m2025\u001b[0m-\u001b[1;36m03\u001b[0m-\u001b[1;36m02\u001b[0m \u001b[1;92m10:21:45\u001b[0m,\u001b[1;36m244\u001b[0m - \u001b[1m{\u001b[0mpytorch_tabular.tabular_model:\u001b[1;36m342\u001b[0m\u001b[1m}\u001b[0m - INFO - Preparing the Trainer                       \n"
      ]
     },
     "metadata": {},
     "output_type": "display_data"
    },
    {
     "name": "stderr",
     "output_type": "stream",
     "text": [
      "GPU available: True (cuda), used: True\n",
      "TPU available: False, using: 0 TPU cores\n",
      "HPU available: False, using: 0 HPUs\n"
     ]
    },
    {
     "data": {
      "text/html": [
       "<pre style=\"white-space:pre;overflow-x:auto;line-height:normal;font-family:Menlo,'DejaVu Sans Mono',consolas,'Courier New',monospace\"><span style=\"color: #008080; text-decoration-color: #008080; font-weight: bold\">2025</span>-<span style=\"color: #008080; text-decoration-color: #008080; font-weight: bold\">03</span>-<span style=\"color: #008080; text-decoration-color: #008080; font-weight: bold\">02</span> <span style=\"color: #00ff00; text-decoration-color: #00ff00; font-weight: bold\">10:21:45</span>,<span style=\"color: #008080; text-decoration-color: #008080; font-weight: bold\">380</span> - <span style=\"font-weight: bold\">{</span>pytorch_tabular.tabular_model:<span style=\"color: #008080; text-decoration-color: #008080; font-weight: bold\">678</span><span style=\"font-weight: bold\">}</span> - INFO - Training Started                            \n",
       "</pre>\n"
      ],
      "text/plain": [
       "\u001b[1;36m2025\u001b[0m-\u001b[1;36m03\u001b[0m-\u001b[1;36m02\u001b[0m \u001b[1;92m10:21:45\u001b[0m,\u001b[1;36m380\u001b[0m - \u001b[1m{\u001b[0mpytorch_tabular.tabular_model:\u001b[1;36m678\u001b[0m\u001b[1m}\u001b[0m - INFO - Training Started                            \n"
      ]
     },
     "metadata": {},
     "output_type": "display_data"
    },
    {
     "name": "stderr",
     "output_type": "stream",
     "text": [
      "You are using a CUDA device ('NVIDIA GeForce RTX 4070') that has Tensor Cores. To properly utilize them, you should set `torch.set_float32_matmul_precision('medium' | 'high')` which will trade-off precision for performance. For more details, read https://pytorch.org/docs/stable/generated/torch.set_float32_matmul_precision.html#torch.set_float32_matmul_precision\n",
      "LOCAL_RANK: 0 - CUDA_VISIBLE_DEVICES: [0]\n"
     ]
    },
    {
     "data": {
      "text/html": [
       "<pre style=\"white-space:pre;overflow-x:auto;line-height:normal;font-family:Menlo,'DejaVu Sans Mono',consolas,'Courier New',monospace\">┏━━━┳━━━━━━━━━━━━━━━━━━┳━━━━━━━━━━━━━━━━━━━━━━━━┳━━━━━━━━┳━━━━━━━┓\n",
       "┃<span style=\"color: #800080; text-decoration-color: #800080; font-weight: bold\">   </span>┃<span style=\"color: #800080; text-decoration-color: #800080; font-weight: bold\"> Name             </span>┃<span style=\"color: #800080; text-decoration-color: #800080; font-weight: bold\"> Type                   </span>┃<span style=\"color: #800080; text-decoration-color: #800080; font-weight: bold\"> Params </span>┃<span style=\"color: #800080; text-decoration-color: #800080; font-weight: bold\"> Mode  </span>┃\n",
       "┡━━━╇━━━━━━━━━━━━━━━━━━╇━━━━━━━━━━━━━━━━━━━━━━━━╇━━━━━━━━╇━━━━━━━┩\n",
       "│<span style=\"color: #7f7f7f; text-decoration-color: #7f7f7f\"> 0 </span>│ _backbone        │ TabTransformerBackbone │  271 K │ train │\n",
       "│<span style=\"color: #7f7f7f; text-decoration-color: #7f7f7f\"> 1 </span>│ _embedding_layer │ Embedding2dLayer       │  5.6 K │ train │\n",
       "│<span style=\"color: #7f7f7f; text-decoration-color: #7f7f7f\"> 2 </span>│ _head            │ LinearHead             │    778 │ train │\n",
       "│<span style=\"color: #7f7f7f; text-decoration-color: #7f7f7f\"> 3 </span>│ loss             │ CrossEntropyLoss       │      0 │ train │\n",
       "└───┴──────────────────┴────────────────────────┴────────┴───────┘\n",
       "</pre>\n"
      ],
      "text/plain": [
       "┏━━━┳━━━━━━━━━━━━━━━━━━┳━━━━━━━━━━━━━━━━━━━━━━━━┳━━━━━━━━┳━━━━━━━┓\n",
       "┃\u001b[1;35m \u001b[0m\u001b[1;35m \u001b[0m\u001b[1;35m \u001b[0m┃\u001b[1;35m \u001b[0m\u001b[1;35mName            \u001b[0m\u001b[1;35m \u001b[0m┃\u001b[1;35m \u001b[0m\u001b[1;35mType                  \u001b[0m\u001b[1;35m \u001b[0m┃\u001b[1;35m \u001b[0m\u001b[1;35mParams\u001b[0m\u001b[1;35m \u001b[0m┃\u001b[1;35m \u001b[0m\u001b[1;35mMode \u001b[0m\u001b[1;35m \u001b[0m┃\n",
       "┡━━━╇━━━━━━━━━━━━━━━━━━╇━━━━━━━━━━━━━━━━━━━━━━━━╇━━━━━━━━╇━━━━━━━┩\n",
       "│\u001b[2m \u001b[0m\u001b[2m0\u001b[0m\u001b[2m \u001b[0m│ _backbone        │ TabTransformerBackbone │  271 K │ train │\n",
       "│\u001b[2m \u001b[0m\u001b[2m1\u001b[0m\u001b[2m \u001b[0m│ _embedding_layer │ Embedding2dLayer       │  5.6 K │ train │\n",
       "│\u001b[2m \u001b[0m\u001b[2m2\u001b[0m\u001b[2m \u001b[0m│ _head            │ LinearHead             │    778 │ train │\n",
       "│\u001b[2m \u001b[0m\u001b[2m3\u001b[0m\u001b[2m \u001b[0m│ loss             │ CrossEntropyLoss       │      0 │ train │\n",
       "└───┴──────────────────┴────────────────────────┴────────┴───────┘\n"
      ]
     },
     "metadata": {},
     "output_type": "display_data"
    },
    {
     "data": {
      "text/html": [
       "<pre style=\"white-space:pre;overflow-x:auto;line-height:normal;font-family:Menlo,'DejaVu Sans Mono',consolas,'Courier New',monospace\"><span style=\"font-weight: bold\">Trainable params</span>: 277 K                                                                                            \n",
       "<span style=\"font-weight: bold\">Non-trainable params</span>: 0                                                                                            \n",
       "<span style=\"font-weight: bold\">Total params</span>: 277 K                                                                                                \n",
       "<span style=\"font-weight: bold\">Total estimated model params size (MB)</span>: 1                                                                          \n",
       "<span style=\"font-weight: bold\">Modules in train mode</span>: 143                                                                                         \n",
       "<span style=\"font-weight: bold\">Modules in eval mode</span>: 0                                                                                            \n",
       "</pre>\n"
      ],
      "text/plain": [
       "\u001b[1mTrainable params\u001b[0m: 277 K                                                                                            \n",
       "\u001b[1mNon-trainable params\u001b[0m: 0                                                                                            \n",
       "\u001b[1mTotal params\u001b[0m: 277 K                                                                                                \n",
       "\u001b[1mTotal estimated model params size (MB)\u001b[0m: 1                                                                          \n",
       "\u001b[1mModules in train mode\u001b[0m: 143                                                                                         \n",
       "\u001b[1mModules in eval mode\u001b[0m: 0                                                                                            \n"
      ]
     },
     "metadata": {},
     "output_type": "display_data"
    },
    {
     "data": {
      "application/vnd.jupyter.widget-view+json": {
       "model_id": "57b1ee4d3fe345309127877761468787",
       "version_major": 2,
       "version_minor": 0
      },
      "text/plain": [
       "Output()"
      ]
     },
     "metadata": {},
     "output_type": "display_data"
    },
    {
     "data": {
      "text/html": [
       "<pre style=\"white-space:pre;overflow-x:auto;line-height:normal;font-family:Menlo,'DejaVu Sans Mono',consolas,'Courier New',monospace\"></pre>\n"
      ],
      "text/plain": []
     },
     "metadata": {},
     "output_type": "display_data"
    },
    {
     "data": {
      "text/html": [
       "<pre style=\"white-space:pre;overflow-x:auto;line-height:normal;font-family:Menlo,'DejaVu Sans Mono',consolas,'Courier New',monospace\"><span style=\"color: #008080; text-decoration-color: #008080; font-weight: bold\">2025</span>-<span style=\"color: #008080; text-decoration-color: #008080; font-weight: bold\">03</span>-<span style=\"color: #008080; text-decoration-color: #008080; font-weight: bold\">02</span> <span style=\"color: #00ff00; text-decoration-color: #00ff00; font-weight: bold\">10:22:32</span>,<span style=\"color: #008080; text-decoration-color: #008080; font-weight: bold\">586</span> - <span style=\"font-weight: bold\">{</span>pytorch_tabular.tabular_model:<span style=\"color: #008080; text-decoration-color: #008080; font-weight: bold\">689</span><span style=\"font-weight: bold\">}</span> - INFO - Training the model completed                \n",
       "</pre>\n"
      ],
      "text/plain": [
       "\u001b[1;36m2025\u001b[0m-\u001b[1;36m03\u001b[0m-\u001b[1;36m02\u001b[0m \u001b[1;92m10:22:32\u001b[0m,\u001b[1;36m586\u001b[0m - \u001b[1m{\u001b[0mpytorch_tabular.tabular_model:\u001b[1;36m689\u001b[0m\u001b[1m}\u001b[0m - INFO - Training the model completed                \n"
      ]
     },
     "metadata": {},
     "output_type": "display_data"
    },
    {
     "data": {
      "text/html": [
       "<pre style=\"white-space:pre;overflow-x:auto;line-height:normal;font-family:Menlo,'DejaVu Sans Mono',consolas,'Courier New',monospace\"><span style=\"color: #008080; text-decoration-color: #008080; font-weight: bold\">2025</span>-<span style=\"color: #008080; text-decoration-color: #008080; font-weight: bold\">03</span>-<span style=\"color: #008080; text-decoration-color: #008080; font-weight: bold\">02</span> <span style=\"color: #00ff00; text-decoration-color: #00ff00; font-weight: bold\">10:22:32</span>,<span style=\"color: #008080; text-decoration-color: #008080; font-weight: bold\">587</span> - <span style=\"font-weight: bold\">{</span>pytorch_tabular.tabular_model:<span style=\"color: #008080; text-decoration-color: #008080; font-weight: bold\">1529</span><span style=\"font-weight: bold\">}</span> - INFO - Loading the best model                     \n",
       "</pre>\n"
      ],
      "text/plain": [
       "\u001b[1;36m2025\u001b[0m-\u001b[1;36m03\u001b[0m-\u001b[1;36m02\u001b[0m \u001b[1;92m10:22:32\u001b[0m,\u001b[1;36m587\u001b[0m - \u001b[1m{\u001b[0mpytorch_tabular.tabular_model:\u001b[1;36m1529\u001b[0m\u001b[1m}\u001b[0m - INFO - Loading the best model                     \n"
      ]
     },
     "metadata": {},
     "output_type": "display_data"
    },
    {
     "name": "stderr",
     "output_type": "stream",
     "text": [
      "LOCAL_RANK: 0 - CUDA_VISIBLE_DEVICES: [0]\n"
     ]
    },
    {
     "data": {
      "application/vnd.jupyter.widget-view+json": {
       "model_id": "8165b212fccd4fa5a811db9aee5a5a21",
       "version_major": 2,
       "version_minor": 0
      },
      "text/plain": [
       "Output()"
      ]
     },
     "metadata": {},
     "output_type": "display_data"
    },
    {
     "data": {
      "text/html": [
       "<pre style=\"white-space:pre;overflow-x:auto;line-height:normal;font-family:Menlo,'DejaVu Sans Mono',consolas,'Courier New',monospace\">┏━━━━━━━━━━━━━━━━━━━━━━━━━━━┳━━━━━━━━━━━━━━━━━━━━━━━━━━━┓\n",
       "┃<span style=\"font-weight: bold\">        Test metric        </span>┃<span style=\"font-weight: bold\">       DataLoader 0        </span>┃\n",
       "┡━━━━━━━━━━━━━━━━━━━━━━━━━━━╇━━━━━━━━━━━━━━━━━━━━━━━━━━━┩\n",
       "│<span style=\"color: #008080; text-decoration-color: #008080\">       test_accuracy       </span>│<span style=\"color: #800080; text-decoration-color: #800080\">    0.9043459296226501     </span>│\n",
       "│<span style=\"color: #008080; text-decoration-color: #008080\">         test_loss         </span>│<span style=\"color: #800080; text-decoration-color: #800080\">    0.2296193540096283     </span>│\n",
       "│<span style=\"color: #008080; text-decoration-color: #008080\">        test_loss_0        </span>│<span style=\"color: #800080; text-decoration-color: #800080\">    0.2296193540096283     </span>│\n",
       "└───────────────────────────┴───────────────────────────┘\n",
       "</pre>\n"
      ],
      "text/plain": [
       "┏━━━━━━━━━━━━━━━━━━━━━━━━━━━┳━━━━━━━━━━━━━━━━━━━━━━━━━━━┓\n",
       "┃\u001b[1m \u001b[0m\u001b[1m       Test metric       \u001b[0m\u001b[1m \u001b[0m┃\u001b[1m \u001b[0m\u001b[1m      DataLoader 0       \u001b[0m\u001b[1m \u001b[0m┃\n",
       "┡━━━━━━━━━━━━━━━━━━━━━━━━━━━╇━━━━━━━━━━━━━━━━━━━━━━━━━━━┩\n",
       "│\u001b[36m \u001b[0m\u001b[36m      test_accuracy      \u001b[0m\u001b[36m \u001b[0m│\u001b[35m \u001b[0m\u001b[35m   0.9043459296226501    \u001b[0m\u001b[35m \u001b[0m│\n",
       "│\u001b[36m \u001b[0m\u001b[36m        test_loss        \u001b[0m\u001b[36m \u001b[0m│\u001b[35m \u001b[0m\u001b[35m   0.2296193540096283    \u001b[0m\u001b[35m \u001b[0m│\n",
       "│\u001b[36m \u001b[0m\u001b[36m       test_loss_0       \u001b[0m\u001b[36m \u001b[0m│\u001b[35m \u001b[0m\u001b[35m   0.2296193540096283    \u001b[0m\u001b[35m \u001b[0m│\n",
       "└───────────────────────────┴───────────────────────────┘\n"
      ]
     },
     "metadata": {},
     "output_type": "display_data"
    },
    {
     "data": {
      "text/html": [
       "<pre style=\"white-space:pre;overflow-x:auto;line-height:normal;font-family:Menlo,'DejaVu Sans Mono',consolas,'Courier New',monospace\"></pre>\n"
      ],
      "text/plain": []
     },
     "metadata": {},
     "output_type": "display_data"
    },
    {
     "data": {
      "text/plain": [
       "[{'test_loss_0': 0.2296193540096283,\n",
       "  'test_loss': 0.2296193540096283,\n",
       "  'test_accuracy': 0.9043459296226501}]"
      ]
     },
     "execution_count": 10,
     "metadata": {},
     "output_type": "execute_result"
    }
   ],
   "source": [
    "model_config = TabTransformerConfig(\n",
    "    task=\"classification\",\n",
    "    learning_rate = 1e-3,\n",
    "    head = \"LinearHead\", #Linear Head\n",
    "    head_config = head_config, # Linear Head Config\n",
    ")\n",
    "\n",
    "tabular_model = TabularModel(\n",
    "    data_config=data_config,\n",
    "    model_config=model_config,\n",
    "    optimizer_config=optimizer_config,\n",
    "    trainer_config=trainer_config,\n",
    ")\n",
    "tabular_model.fit(train=train)\n",
    "tabular_model.evaluate(test)"
   ]
  },
  {
   "cell_type": "markdown",
   "id": "2c496026-1533-4d1f-9dcd-6db6ffaefa13",
   "metadata": {},
   "source": [
    "### Vanilla"
   ]
  },
  {
   "cell_type": "code",
   "execution_count": 11,
   "id": "40837712-b4f8-4727-b657-89b5fb32d06f",
   "metadata": {},
   "outputs": [],
   "source": [
    "# encode target for convenience\n",
    "train_enc[target[0]] = train_enc[target[0]].map({'yes': 1, 'no': 0})\n",
    "test_enc[target[0]] = test_enc[target[0]].map({'yes': 1, 'no': 0})"
   ]
  },
  {
   "cell_type": "code",
   "execution_count": 28,
   "id": "45e72262-3f0c-4b15-be86-4f3d1ad74c1d",
   "metadata": {},
   "outputs": [
    {
     "data": {
      "text/plain": [
       "TabTransformerModel(\n",
       "  (_backbone): TabTransformerBackbone(\n",
       "    (transformer_blocks): Sequential(\n",
       "      (mha_block_0): TransformerEncoderBlock(\n",
       "        (mha): MultiHeadedAttention(\n",
       "          (to_qkv): Linear(in_features=32, out_features=768, bias=False)\n",
       "          (to_out): Linear(in_features=256, out_features=32, bias=True)\n",
       "          (dropout): Dropout(p=0.1, inplace=False)\n",
       "        )\n",
       "        (pos_wise_ff): GEGLU(\n",
       "          (ffn): PositionWiseFeedForward(\n",
       "            (layer1): Linear(in_features=32, out_features=128, bias=False)\n",
       "            (layer2): Linear(in_features=128, out_features=32, bias=False)\n",
       "            (dropout): Dropout(p=0.1, inplace=False)\n",
       "            (activation): GELU(approximate='none')\n",
       "            (linear_v): Linear(in_features=32, out_features=128, bias=False)\n",
       "          )\n",
       "        )\n",
       "        (attn_add_norm): AddNorm(\n",
       "          (dropout): Dropout(p=0.1, inplace=False)\n",
       "          (ln): LayerNorm((32,), eps=1e-05, elementwise_affine=True)\n",
       "        )\n",
       "        (ff_add_norm): AddNorm(\n",
       "          (dropout): Dropout(p=0.1, inplace=False)\n",
       "          (ln): LayerNorm((32,), eps=1e-05, elementwise_affine=True)\n",
       "        )\n",
       "      )\n",
       "      (mha_block_1): TransformerEncoderBlock(\n",
       "        (mha): MultiHeadedAttention(\n",
       "          (to_qkv): Linear(in_features=32, out_features=768, bias=False)\n",
       "          (to_out): Linear(in_features=256, out_features=32, bias=True)\n",
       "          (dropout): Dropout(p=0.1, inplace=False)\n",
       "        )\n",
       "        (pos_wise_ff): GEGLU(\n",
       "          (ffn): PositionWiseFeedForward(\n",
       "            (layer1): Linear(in_features=32, out_features=128, bias=False)\n",
       "            (layer2): Linear(in_features=128, out_features=32, bias=False)\n",
       "            (dropout): Dropout(p=0.1, inplace=False)\n",
       "            (activation): GELU(approximate='none')\n",
       "            (linear_v): Linear(in_features=32, out_features=128, bias=False)\n",
       "          )\n",
       "        )\n",
       "        (attn_add_norm): AddNorm(\n",
       "          (dropout): Dropout(p=0.1, inplace=False)\n",
       "          (ln): LayerNorm((32,), eps=1e-05, elementwise_affine=True)\n",
       "        )\n",
       "        (ff_add_norm): AddNorm(\n",
       "          (dropout): Dropout(p=0.1, inplace=False)\n",
       "          (ln): LayerNorm((32,), eps=1e-05, elementwise_affine=True)\n",
       "        )\n",
       "      )\n",
       "      (mha_block_2): TransformerEncoderBlock(\n",
       "        (mha): MultiHeadedAttention(\n",
       "          (to_qkv): Linear(in_features=32, out_features=768, bias=False)\n",
       "          (to_out): Linear(in_features=256, out_features=32, bias=True)\n",
       "          (dropout): Dropout(p=0.1, inplace=False)\n",
       "        )\n",
       "        (pos_wise_ff): GEGLU(\n",
       "          (ffn): PositionWiseFeedForward(\n",
       "            (layer1): Linear(in_features=32, out_features=128, bias=False)\n",
       "            (layer2): Linear(in_features=128, out_features=32, bias=False)\n",
       "            (dropout): Dropout(p=0.1, inplace=False)\n",
       "            (activation): GELU(approximate='none')\n",
       "            (linear_v): Linear(in_features=32, out_features=128, bias=False)\n",
       "          )\n",
       "        )\n",
       "        (attn_add_norm): AddNorm(\n",
       "          (dropout): Dropout(p=0.1, inplace=False)\n",
       "          (ln): LayerNorm((32,), eps=1e-05, elementwise_affine=True)\n",
       "        )\n",
       "        (ff_add_norm): AddNorm(\n",
       "          (dropout): Dropout(p=0.1, inplace=False)\n",
       "          (ln): LayerNorm((32,), eps=1e-05, elementwise_affine=True)\n",
       "        )\n",
       "      )\n",
       "      (mha_block_3): TransformerEncoderBlock(\n",
       "        (mha): MultiHeadedAttention(\n",
       "          (to_qkv): Linear(in_features=32, out_features=768, bias=False)\n",
       "          (to_out): Linear(in_features=256, out_features=32, bias=True)\n",
       "          (dropout): Dropout(p=0.1, inplace=False)\n",
       "        )\n",
       "        (pos_wise_ff): GEGLU(\n",
       "          (ffn): PositionWiseFeedForward(\n",
       "            (layer1): Linear(in_features=32, out_features=128, bias=False)\n",
       "            (layer2): Linear(in_features=128, out_features=32, bias=False)\n",
       "            (dropout): Dropout(p=0.1, inplace=False)\n",
       "            (activation): GELU(approximate='none')\n",
       "            (linear_v): Linear(in_features=32, out_features=128, bias=False)\n",
       "          )\n",
       "        )\n",
       "        (attn_add_norm): AddNorm(\n",
       "          (dropout): Dropout(p=0.1, inplace=False)\n",
       "          (ln): LayerNorm((32,), eps=1e-05, elementwise_affine=True)\n",
       "        )\n",
       "        (ff_add_norm): AddNorm(\n",
       "          (dropout): Dropout(p=0.1, inplace=False)\n",
       "          (ln): LayerNorm((32,), eps=1e-05, elementwise_affine=True)\n",
       "        )\n",
       "      )\n",
       "      (mha_block_4): TransformerEncoderBlock(\n",
       "        (mha): MultiHeadedAttention(\n",
       "          (to_qkv): Linear(in_features=32, out_features=768, bias=False)\n",
       "          (to_out): Linear(in_features=256, out_features=32, bias=True)\n",
       "          (dropout): Dropout(p=0.1, inplace=False)\n",
       "        )\n",
       "        (pos_wise_ff): GEGLU(\n",
       "          (ffn): PositionWiseFeedForward(\n",
       "            (layer1): Linear(in_features=32, out_features=128, bias=False)\n",
       "            (layer2): Linear(in_features=128, out_features=32, bias=False)\n",
       "            (dropout): Dropout(p=0.1, inplace=False)\n",
       "            (activation): GELU(approximate='none')\n",
       "            (linear_v): Linear(in_features=32, out_features=128, bias=False)\n",
       "          )\n",
       "        )\n",
       "        (attn_add_norm): AddNorm(\n",
       "          (dropout): Dropout(p=0.1, inplace=False)\n",
       "          (ln): LayerNorm((32,), eps=1e-05, elementwise_affine=True)\n",
       "        )\n",
       "        (ff_add_norm): AddNorm(\n",
       "          (dropout): Dropout(p=0.1, inplace=False)\n",
       "          (ln): LayerNorm((32,), eps=1e-05, elementwise_affine=True)\n",
       "        )\n",
       "      )\n",
       "      (mha_block_5): TransformerEncoderBlock(\n",
       "        (mha): MultiHeadedAttention(\n",
       "          (to_qkv): Linear(in_features=32, out_features=768, bias=False)\n",
       "          (to_out): Linear(in_features=256, out_features=32, bias=True)\n",
       "          (dropout): Dropout(p=0.1, inplace=False)\n",
       "        )\n",
       "        (pos_wise_ff): GEGLU(\n",
       "          (ffn): PositionWiseFeedForward(\n",
       "            (layer1): Linear(in_features=32, out_features=128, bias=False)\n",
       "            (layer2): Linear(in_features=128, out_features=32, bias=False)\n",
       "            (dropout): Dropout(p=0.1, inplace=False)\n",
       "            (activation): GELU(approximate='none')\n",
       "            (linear_v): Linear(in_features=32, out_features=128, bias=False)\n",
       "          )\n",
       "        )\n",
       "        (attn_add_norm): AddNorm(\n",
       "          (dropout): Dropout(p=0.1, inplace=False)\n",
       "          (ln): LayerNorm((32,), eps=1e-05, elementwise_affine=True)\n",
       "        )\n",
       "        (ff_add_norm): AddNorm(\n",
       "          (dropout): Dropout(p=0.1, inplace=False)\n",
       "          (ln): LayerNorm((32,), eps=1e-05, elementwise_affine=True)\n",
       "        )\n",
       "      )\n",
       "    )\n",
       "    (normalizing_batch_norm): BatchNorm1d(\n",
       "      (bn): BatchNorm1d(4, eps=1e-05, momentum=0.1, affine=True, track_running_stats=True)\n",
       "    )\n",
       "  )\n",
       "  (_embedding_layer): Embedding2dLayer(\n",
       "    (cat_embedding_layers): ModuleList(\n",
       "      (0): SharedEmbeddings(\n",
       "        (embed): Embedding(13, 32, padding_idx=0)\n",
       "      )\n",
       "      (1): SharedEmbeddings(\n",
       "        (embed): Embedding(4, 32, padding_idx=0)\n",
       "      )\n",
       "      (2): SharedEmbeddings(\n",
       "        (embed): Embedding(5, 32, padding_idx=0)\n",
       "      )\n",
       "      (3-5): 3 x SharedEmbeddings(\n",
       "        (embed): Embedding(3, 32, padding_idx=0)\n",
       "      )\n",
       "      (6): SharedEmbeddings(\n",
       "        (embed): Embedding(4, 32, padding_idx=0)\n",
       "      )\n",
       "      (7): SharedEmbeddings(\n",
       "        (embed): Embedding(32, 32, padding_idx=0)\n",
       "      )\n",
       "      (8): SharedEmbeddings(\n",
       "        (embed): Embedding(13, 32, padding_idx=0)\n",
       "      )\n",
       "      (9): SharedEmbeddings(\n",
       "        (embed): Embedding(47, 32, padding_idx=0)\n",
       "      )\n",
       "      (10): SharedEmbeddings(\n",
       "        (embed): Embedding(39, 32, padding_idx=0)\n",
       "      )\n",
       "      (11): SharedEmbeddings(\n",
       "        (embed): Embedding(5, 32, padding_idx=0)\n",
       "      )\n",
       "    )\n",
       "    (cont_embedding_layer): Embedding(0, 32)\n",
       "  )\n",
       "  (_head): LinearHead(\n",
       "    (layers): Sequential(\n",
       "      (0): Linear(in_features=388, out_features=2, bias=True)\n",
       "    )\n",
       "  )\n",
       "  (loss): CrossEntropyLoss()\n",
       ")"
      ]
     },
     "execution_count": 28,
     "metadata": {},
     "output_type": "execute_result"
    }
   ],
   "source": [
    "tabular_model.model"
   ]
  },
  {
   "cell_type": "code",
   "execution_count": 14,
   "id": "fe005414-58af-469c-96b5-b3a76f0302a7",
   "metadata": {},
   "outputs": [
    {
     "data": {
      "text/plain": [
       "job          12\n",
       "marital       3\n",
       "education     4\n",
       "default       2\n",
       "housing       2\n",
       "loan          2\n",
       "contact       3\n",
       "day          31\n",
       "month        12\n",
       "campaign     47\n",
       "previous     41\n",
       "poutcome      4\n",
       "dtype: int64"
      ]
     },
     "execution_count": 14,
     "metadata": {},
     "output_type": "execute_result"
    }
   ],
   "source": [
    "# unique categories for each feature\n",
    "train_enc[cat_cols].nunique()"
   ]
  },
  {
   "cell_type": "code",
   "execution_count": 29,
   "id": "fc46de74-25d0-405a-a3cb-4fb1908e3828",
   "metadata": {},
   "outputs": [
    {
     "data": {
      "text/plain": [
       "[(13, 32),\n",
       " (4, 32),\n",
       " (5, 32),\n",
       " (3, 32),\n",
       " (3, 32),\n",
       " (3, 32),\n",
       " (4, 32),\n",
       " (32, 32),\n",
       " (13, 32),\n",
       " (48, 32),\n",
       " (42, 32),\n",
       " (5, 32)]"
      ]
     },
     "execution_count": 29,
     "metadata": {},
     "output_type": "execute_result"
    }
   ],
   "source": [
    "categorical_cardinality = []\n",
    "for col in cat_cols:\n",
    "    categorical_cardinality.append(train_enc[col].nunique() + 1)\n",
    "\n",
    "# to fix embedding dims as it is done in torch_tabular\n",
    "embedding_dims = [(x, 32) for x in categorical_cardinality]\n",
    "embedding_dims"
   ]
  },
  {
   "cell_type": "code",
   "execution_count": 30,
   "id": "94ae02ad-4209-46ad-bd47-80cb2977e03c",
   "metadata": {},
   "outputs": [
    {
     "data": {
      "text/plain": [
       "388"
      ]
     },
     "execution_count": 30,
     "metadata": {},
     "output_type": "execute_result"
    }
   ],
   "source": [
    "len(num_cols) + sum(dim[1] for dim in embedding_dims)  # input size"
   ]
  },
  {
   "cell_type": "code",
   "execution_count": 31,
   "id": "1e17dc8d-87ea-438a-8083-0871ddba6c7a",
   "metadata": {},
   "outputs": [
    {
     "data": {
      "text/plain": [
       "12"
      ]
     },
     "execution_count": 31,
     "metadata": {},
     "output_type": "execute_result"
    }
   ],
   "source": [
    "len(embedding_dims)"
   ]
  },
  {
   "cell_type": "code",
   "execution_count": 32,
   "id": "d45a8d11-9de2-4184-b8bf-7b89e302cbe1",
   "metadata": {},
   "outputs": [],
   "source": [
    "emb = nn.Embedding(12, 4)"
   ]
  },
  {
   "cell_type": "code",
   "execution_count": 33,
   "id": "e1a5e048-b8bb-478a-b9bf-c89bbc6900b7",
   "metadata": {},
   "outputs": [
    {
     "data": {
      "text/plain": [
       "tensor([[ 1.4355, -0.5974, -0.4962,  1.5555],\n",
       "        [ 1.4355, -0.5974, -0.4962,  1.5555],\n",
       "        [-0.2772, -0.6706,  0.1031,  1.5114],\n",
       "        [-0.1802,  1.2066,  0.7669,  0.8133]], grad_fn=<EmbeddingBackward0>)"
      ]
     },
     "execution_count": 33,
     "metadata": {},
     "output_type": "execute_result"
    }
   ],
   "source": [
    "emb(torch.tensor([0, 0, 11, 3]))"
   ]
  },
  {
   "cell_type": "code",
   "execution_count": 34,
   "id": "cba1edc3-ec39-4607-b17c-08fa97ad9687",
   "metadata": {},
   "outputs": [
    {
     "data": {
      "text/plain": [
       "Parameter containing:\n",
       "tensor([[ 1.4355, -0.5974, -0.4962,  1.5555],\n",
       "        [-0.3724,  1.2594, -1.7828, -1.1924],\n",
       "        [ 1.2357,  0.7530, -0.5461,  0.7066],\n",
       "        [-0.1802,  1.2066,  0.7669,  0.8133],\n",
       "        [ 0.7534,  0.2155,  1.8321, -0.2624],\n",
       "        [-0.8531, -1.3997,  0.2369,  1.1170],\n",
       "        [-1.6131, -0.8603, -1.1494, -1.1322],\n",
       "        [-0.7400,  1.8688, -0.8712, -1.6485],\n",
       "        [ 0.4242,  1.1576, -0.0467, -0.5016],\n",
       "        [ 1.5354,  0.6947, -0.0066,  0.4666],\n",
       "        [-1.0032, -1.9477, -1.1213, -0.0881],\n",
       "        [-0.2772, -0.6706,  0.1031,  1.5114]], requires_grad=True)"
      ]
     },
     "execution_count": 34,
     "metadata": {},
     "output_type": "execute_result"
    }
   ],
   "source": [
    "emb.weight"
   ]
  },
  {
   "cell_type": "code",
   "execution_count": 35,
   "id": "3c5b6b88-9704-4ab1-8552-cb9b273fdf58",
   "metadata": {},
   "outputs": [],
   "source": [
    "class CategoryDataset(Dataset):\n",
    "    def __init__(self, data: pd.DataFrame, cat_cols: List[str], num_cols: List[str], target_col: List[str]) -> None:\n",
    "        \"\"\"\n",
    "        Categorical features should be encoded\n",
    "        \"\"\"\n",
    "        self.data = data\n",
    "        self.cat_cols = cat_cols\n",
    "        self.num_cols = num_cols\n",
    "        self.target_col = target_col\n",
    "\n",
    "        self.cat_data = self.data[self.cat_cols].values\n",
    "        self.num_data = self.data[self.num_cols].values\n",
    "\n",
    "    def __len__(self):\n",
    "        return len(self.data)\n",
    "\n",
    "    def __getitem__(self, index: int) -> Tuple[torch.Tensor, torch.Tensor, torch.Tensor]:\n",
    "        \"\"\"\n",
    "        Return categorical data, numerical data and target\n",
    "        \"\"\"\n",
    "        x_cat = self.cat_data[index]\n",
    "        x_num = self.num_data[index]\n",
    "        y = self.data[self.target_col].values[index]\n",
    "\n",
    "        return torch.tensor(x_cat, dtype=torch.int64), torch.tensor(x_num, dtype=torch.float32), torch.tensor(y, dtype=torch.int64)"
   ]
  },
  {
   "cell_type": "code",
   "execution_count": 36,
   "id": "c17e9eea-a508-4346-9fcf-8e63dc64f7c0",
   "metadata": {},
   "outputs": [],
   "source": [
    "cat_dataset = CategoryDataset(train_enc, cat_cols=cat_cols, num_cols=num_cols, target_col=target)"
   ]
  },
  {
   "cell_type": "code",
   "execution_count": 37,
   "id": "13eff8b5-8602-4b44-b630-c23e27f93ec7",
   "metadata": {},
   "outputs": [
    {
     "data": {
      "text/plain": [
       "tensor([9, 8, 9])"
      ]
     },
     "execution_count": 37,
     "metadata": {},
     "output_type": "execute_result"
    }
   ],
   "source": [
    "cat_dataset[0:3][0][:, 0]"
   ]
  },
  {
   "cell_type": "code",
   "execution_count": 38,
   "id": "aaa72c3e-592a-4f21-8cee-04a58fa4b2c0",
   "metadata": {},
   "outputs": [
    {
     "data": {
      "text/html": [
       "<div>\n",
       "<style scoped>\n",
       "    .dataframe tbody tr th:only-of-type {\n",
       "        vertical-align: middle;\n",
       "    }\n",
       "\n",
       "    .dataframe tbody tr th {\n",
       "        vertical-align: top;\n",
       "    }\n",
       "\n",
       "    .dataframe thead th {\n",
       "        text-align: right;\n",
       "    }\n",
       "</style>\n",
       "<table border=\"1\" class=\"dataframe\">\n",
       "  <thead>\n",
       "    <tr style=\"text-align: right;\">\n",
       "      <th></th>\n",
       "      <th>age</th>\n",
       "      <th>job</th>\n",
       "      <th>marital</th>\n",
       "      <th>education</th>\n",
       "      <th>default</th>\n",
       "      <th>balance</th>\n",
       "      <th>housing</th>\n",
       "      <th>loan</th>\n",
       "      <th>contact</th>\n",
       "      <th>day</th>\n",
       "      <th>month</th>\n",
       "      <th>duration</th>\n",
       "      <th>campaign</th>\n",
       "      <th>pdays</th>\n",
       "      <th>previous</th>\n",
       "      <th>poutcome</th>\n",
       "      <th>y</th>\n",
       "    </tr>\n",
       "  </thead>\n",
       "  <tbody>\n",
       "    <tr>\n",
       "      <th>24001</th>\n",
       "      <td>36</td>\n",
       "      <td>9.0</td>\n",
       "      <td>0.0</td>\n",
       "      <td>1.0</td>\n",
       "      <td>0.0</td>\n",
       "      <td>861</td>\n",
       "      <td>0.0</td>\n",
       "      <td>0.0</td>\n",
       "      <td>1.0</td>\n",
       "      <td>28.0</td>\n",
       "      <td>1.0</td>\n",
       "      <td>140</td>\n",
       "      <td>1.0</td>\n",
       "      <td>-1</td>\n",
       "      <td>0.0</td>\n",
       "      <td>3.0</td>\n",
       "      <td>0</td>\n",
       "    </tr>\n",
       "    <tr>\n",
       "      <th>43409</th>\n",
       "      <td>24</td>\n",
       "      <td>8.0</td>\n",
       "      <td>2.0</td>\n",
       "      <td>1.0</td>\n",
       "      <td>0.0</td>\n",
       "      <td>4126</td>\n",
       "      <td>0.0</td>\n",
       "      <td>0.0</td>\n",
       "      <td>0.0</td>\n",
       "      <td>4.0</td>\n",
       "      <td>0.0</td>\n",
       "      <td>907</td>\n",
       "      <td>3.0</td>\n",
       "      <td>185</td>\n",
       "      <td>7.0</td>\n",
       "      <td>0.0</td>\n",
       "      <td>1</td>\n",
       "    </tr>\n",
       "    <tr>\n",
       "      <th>20669</th>\n",
       "      <td>44</td>\n",
       "      <td>9.0</td>\n",
       "      <td>2.0</td>\n",
       "      <td>1.0</td>\n",
       "      <td>0.0</td>\n",
       "      <td>244</td>\n",
       "      <td>1.0</td>\n",
       "      <td>0.0</td>\n",
       "      <td>0.0</td>\n",
       "      <td>11.0</td>\n",
       "      <td>1.0</td>\n",
       "      <td>1735</td>\n",
       "      <td>3.0</td>\n",
       "      <td>-1</td>\n",
       "      <td>0.0</td>\n",
       "      <td>3.0</td>\n",
       "      <td>1</td>\n",
       "    </tr>\n",
       "  </tbody>\n",
       "</table>\n",
       "</div>"
      ],
      "text/plain": [
       "       age  job  marital  education  default  balance  housing  loan  contact  \\\n",
       "24001   36  9.0      0.0        1.0      0.0      861      0.0   0.0      1.0   \n",
       "43409   24  8.0      2.0        1.0      0.0     4126      0.0   0.0      0.0   \n",
       "20669   44  9.0      2.0        1.0      0.0      244      1.0   0.0      0.0   \n",
       "\n",
       "        day  month  duration  campaign  pdays  previous  poutcome  y  \n",
       "24001  28.0    1.0       140       1.0     -1       0.0       3.0  0  \n",
       "43409   4.0    0.0       907       3.0    185       7.0       0.0  1  \n",
       "20669  11.0    1.0      1735       3.0     -1       0.0       3.0  1  "
      ]
     },
     "execution_count": 38,
     "metadata": {},
     "output_type": "execute_result"
    }
   ],
   "source": [
    "train_enc.head(3)"
   ]
  },
  {
   "cell_type": "code",
   "execution_count": 114,
   "id": "f0fbc7aa-338d-4062-8596-7ce79ce5f4bb",
   "metadata": {},
   "outputs": [],
   "source": [
    "class TabularTransformerModel(nn.Module):\n",
    "    def __init__(self, embedding_dims, n_num_cols):\n",
    "        super().__init__()\n",
    "        self.category_embeddings = nn.ModuleList([nn.Embedding(x, y) for x, y in embedding_dims])  # embedding for each categorical feature\n",
    "\n",
    "        in_features = n_num_cols + sum(dim[1] for dim in embedding_dims)\n",
    "        self.n_cat_cols = len(embedding_dims)\n",
    "        self.n_num_cols = n_num_cols\n",
    "        \n",
    "        self.backbone = nn.Sequential(*[\n",
    "            nn.Linear(in_features, 64, bias=True),\n",
    "            nn.ReLU(),\n",
    "            nn.Linear(64, 32, bias=True),\n",
    "            nn.ReLU()\n",
    "        ])\n",
    "\n",
    "        # transformer encoder blocks to get the contextual features from categorical\n",
    "        self.cat_transformer = nn.TransformerEncoder(\n",
    "            encoder_layer=nn.TransformerEncoderLayer(\n",
    "                d_model=32,  # just some value\n",
    "                nhead=4,  # just some value\n",
    "                dim_feedforward=256,  # just some value\n",
    "                batch_first=True\n",
    "            ),\n",
    "            num_layers=3  # just some value\n",
    "        )\n",
    "\n",
    "        # LayerNorm перед трансформером\n",
    "        self.pre_transformer_norm = nn.LayerNorm(32)  # Нормализуем по EMBEDDING_DIM\n",
    "\n",
    "        self.normalizing_batch_norm = nn.BatchNorm1d(n_num_cols)\n",
    "\n",
    "        self.head = nn.Sequential(*[\n",
    "            nn.Linear(32, 2, bias=True)\n",
    "        ])\n",
    "\n",
    "        cat_num_categories = torch.tensor([dim[0] for dim in embedding_dims], dtype=torch.int64)\n",
    "        self.register_buffer(\"cat_num_categories\", cat_num_categories)\n",
    "\n",
    "        # init weights\n",
    "        for layer in self.backbone:\n",
    "            if isinstance(layer, nn.Linear):\n",
    "                nn.init.kaiming_normal_(layer.weight, mode='fan_in', nonlinearity='relu')\n",
    "        for layer in self.head:\n",
    "            if isinstance(layer, nn.Linear):\n",
    "                nn.init.kaiming_normal_(layer.weight, mode='fan_in', nonlinearity='relu')\n",
    "\n",
    "    def forward(self, x_cat, x_num):\n",
    "        BATCH_SIZE = x_cat.size(0)\n",
    "        \n",
    "        # work-around unknown categories\n",
    "        x_cat += 1  # 0 is <UNKNOWN>\n",
    "        expanded_categories = self.cat_num_categories.unsqueeze(0).expand(x_cat.size(0), -1)  # [batch_size, num_cat_features]\n",
    "        x_cat = torch.where(x_cat < expanded_categories, x_cat, 0)\n",
    "        \n",
    "        # encode each categorical\n",
    "        x_cat_encoded = [self.category_embeddings[i](x_cat[:, i]) for i in range(self.n_cat_cols)]  # List of [BATCH_SIZE, EMBEDDING_DIM]\n",
    "\n",
    "        # Concatenate embeddings and reshape to [BATCH_SIZE, NUM_CAT_FEATURES, EMBEDDING_DIM]\n",
    "        x_cat_encoded = torch.cat(x_cat_encoded, dim=-1).view(BATCH_SIZE, self.n_cat_cols, -1)\n",
    "\n",
    "        # Apply LayerNorm before transformer\n",
    "        x_cat_encoded = self.pre_transformer_norm(x_cat_encoded)\n",
    "        \n",
    "        # pass through transformer layers\n",
    "        x_cat_encoded = self.cat_transformer(x_cat_encoded)\n",
    "\n",
    "        # concatenate context embeddings\n",
    "        x_cat_encoded = x_cat_encoded.view(BATCH_SIZE, -1)\n",
    "\n",
    "        # preprocess num_features with normalizing\n",
    "        x_num_encoded = self.normalizing_batch_norm(x_num)\n",
    "\n",
    "        # concatenate categorical and numarical\n",
    "        x = torch.cat([x_cat_encoded, x_num_encoded], dim=1)\n",
    "\n",
    "        # pass to the mlp\n",
    "        x = self.backbone(x)\n",
    "        x = self.head(x)\n",
    "        return x"
   ]
  },
  {
   "cell_type": "code",
   "execution_count": 115,
   "id": "34410098-d54e-4db0-8cc1-de35e596b6c9",
   "metadata": {},
   "outputs": [],
   "source": [
    "tab_model = TabularTransformerModel(embedding_dims=embedding_dims, n_num_cols=len(num_cols))"
   ]
  },
  {
   "cell_type": "code",
   "execution_count": 116,
   "id": "cbe98550-3967-42fb-b011-a886458cbd94",
   "metadata": {},
   "outputs": [
    {
     "name": "stdout",
     "output_type": "stream",
     "text": [
      "tensor([[-0.3790, -1.6712],\n",
      "        [-1.1469, -3.2747],\n",
      "        [-1.9371, -3.3886]], grad_fn=<AddmmBackward0>)\n"
     ]
    }
   ],
   "source": [
    "sample = cat_dataset[0:3]\n",
    "out = tab_model(sample[0], sample[1])\n",
    "print(out)"
   ]
  },
  {
   "cell_type": "code",
   "execution_count": 117,
   "id": "e56c2a05-5e6b-478e-b9cd-0132575a8217",
   "metadata": {},
   "outputs": [],
   "source": [
    "train_set, val_set = train_test_split(train_enc, stratify=train_enc[\"y\"], test_size=0.2, random_state=42)"
   ]
  },
  {
   "cell_type": "code",
   "execution_count": 118,
   "id": "736361ac-8333-4f30-96ec-848ea6377b65",
   "metadata": {},
   "outputs": [
    {
     "data": {
      "text/plain": [
       "[(13, 32),\n",
       " (4, 32),\n",
       " (5, 32),\n",
       " (3, 32),\n",
       " (3, 32),\n",
       " (3, 32),\n",
       " (4, 32),\n",
       " (32, 32),\n",
       " (13, 32),\n",
       " (47, 32),\n",
       " (41, 32),\n",
       " (5, 32)]"
      ]
     },
     "execution_count": 118,
     "metadata": {},
     "output_type": "execute_result"
    }
   ],
   "source": [
    "categorical_cardinality = []\n",
    "for col in cat_cols:\n",
    "    categorical_cardinality.append(train_set[col].nunique() + 1)\n",
    "\n",
    "# to fix embedding dims as it is done in torch_tabular\n",
    "embedding_dims = [(x, 32) for x in categorical_cardinality]\n",
    "embedding_dims"
   ]
  },
  {
   "cell_type": "code",
   "execution_count": 119,
   "id": "a5bf1caa-13da-4c30-9287-d4eb8f2cb201",
   "metadata": {},
   "outputs": [],
   "source": [
    "# train model\n",
    "device = \"cuda\" if torch.cuda.is_available() else 'cpu'\n",
    "\n",
    "batch_size = 256\n",
    "lr = 1e-3\n",
    "\n",
    "tab_model = TabularTransformerModel(embedding_dims=embedding_dims, n_num_cols=len(num_cols)).to(device)\n",
    "\n",
    "loss = nn.CrossEntropyLoss()\n",
    "optimizer = torch.optim.Adam(tab_model.parameters(), lr=lr)\n",
    "\n",
    "train_dataset = CategoryDataset(train_set, cat_cols=cat_cols, num_cols=num_cols, target_col=target)\n",
    "val_dataset = CategoryDataset(val_set, cat_cols=cat_cols, num_cols=num_cols, target_col=target)\n",
    "\n",
    "train_dataloader = DataLoader(train_dataset, batch_size=batch_size, shuffle=True)\n",
    "val_dataloader = DataLoader(val_dataset, batch_size=batch_size, shuffle=False)"
   ]
  },
  {
   "cell_type": "code",
   "execution_count": 120,
   "id": "c5191989-0c69-423f-9d18-00d12ba0836a",
   "metadata": {},
   "outputs": [],
   "source": [
    "def evaluate(model, dataloader, loss_fn):\n",
    "    model.eval()  # Переводим модель в режим оценки\n",
    "    total_loss = 0\n",
    "    total_correct = 0\n",
    "    total_samples = 0\n",
    "\n",
    "    with torch.no_grad():  # Отключаем вычисление градиентов\n",
    "        for x_cat, x_num, y in dataloader:\n",
    "            x_cat, x_num, y = x_cat.to(device), x_num.to(device), y.to(device)\n",
    "            y_pred = model(x_cat, x_num)  # Получаем logits\n",
    "\n",
    "            # Вычисляем loss\n",
    "            batch_loss = loss_fn(y_pred, y.squeeze())\n",
    "            total_loss += batch_loss.item() * y.size(0)\n",
    "\n",
    "            # Вычисляем accuracy\n",
    "            _, predicted = torch.max(y_pred, 1)  # Получаем предсказанные классы\n",
    "            total_correct += (predicted.squeeze() == y.squeeze()).sum().item()  # Считаем количество правильных предсказаний\n",
    "            total_samples += y.size(0)  # Общее количество примеров\n",
    "\n",
    "    # Средний loss и accuracy\n",
    "    avg_loss = total_loss / total_samples\n",
    "    accuracy = total_correct / total_samples\n",
    "    return avg_loss, accuracy"
   ]
  },
  {
   "cell_type": "code",
   "execution_count": 121,
   "id": "2961c619-562b-49be-95a9-409cd4892955",
   "metadata": {},
   "outputs": [
    {
     "name": "stdout",
     "output_type": "stream",
     "text": [
      "Untrained model scores:\n",
      "loss: 97.16918576815064\n",
      "accuracy: 0.5286148742051424\n",
      "Epoch: 1. Train loss: 0.3020513967463845. Val loss: 0.25988717876088396. Val accuracy: 0.8959082112247719\n",
      "New best model saved with val_loss: 0.25988717876088396\n",
      "Epoch: 2. Train loss: 0.23723515162342473. Val loss: 0.24358127892165676. Val accuracy: 0.901022947193807\n",
      "New best model saved with val_loss: 0.24358127892165676\n",
      "Epoch: 3. Train loss: 0.23049743898343622. Val loss: 0.21833315440591344. Val accuracy: 0.9040641415537738\n",
      "New best model saved with val_loss: 0.21833315440591344\n",
      "Epoch: 4. Train loss: 0.21711740802908153. Val loss: 0.2162739576013305. Val accuracy: 0.9028200165883329\n",
      "New best model saved with val_loss: 0.2162739576013305\n",
      "Epoch: 5. Train loss: 0.21261125437000342. Val loss: 0.21210468508342303. Val accuracy: 0.9065523914846558\n",
      "New best model saved with val_loss: 0.21210468508342303\n",
      "Epoch: 6. Train loss: 0.20918516291860947. Val loss: 0.21260390375278126. Val accuracy: 0.9018523638374344\n",
      "No improvement for 1 epochs\n",
      "Epoch: 7. Train loss: 0.20510906369931864. Val loss: 0.20303881182372652. Val accuracy: 0.9065523914846558\n",
      "New best model saved with val_loss: 0.20303881182372652\n",
      "Epoch: 8. Train loss: 0.20072292079005324. Val loss: 0.2116203519037029. Val accuracy: 0.9021288360519768\n",
      "No improvement for 1 epochs\n",
      "Epoch: 9. Train loss: 0.19914491700106546. Val loss: 0.20012266278464655. Val accuracy: 0.9058612109482997\n",
      "New best model saved with val_loss: 0.20012266278464655\n",
      "Epoch: 10. Train loss: 0.19277409568690418. Val loss: 0.2002161989678063. Val accuracy: 0.9073818081282831\n",
      "No improvement for 1 epochs\n",
      "Epoch: 11. Train loss: 0.1909574353904055. Val loss: 0.19835016028407138. Val accuracy: 0.9075200442355543\n",
      "New best model saved with val_loss: 0.19835016028407138\n",
      "Epoch: 12. Train loss: 0.18802132182999662. Val loss: 0.2007445877416377. Val accuracy: 0.9073818081282831\n",
      "No improvement for 1 epochs\n",
      "Epoch: 13. Train loss: 0.18567748531176334. Val loss: 0.20189232003270244. Val accuracy: 0.907934752557368\n",
      "No improvement for 2 epochs\n",
      "Epoch: 14. Train loss: 0.18330844269509902. Val loss: 0.20472252650718384. Val accuracy: 0.9051700304119435\n",
      "No improvement for 3 epochs\n",
      "Epoch: 15. Train loss: 0.18113276793768532. Val loss: 0.20031900063284794. Val accuracy: 0.9071053359137407\n",
      "No improvement for 4 epochs\n",
      "Epoch: 16. Train loss: 0.181990323686286. Val loss: 0.20619212537138773. Val accuracy: 0.9059994470555709\n",
      "No improvement for 5 epochs\n",
      "Early stopping at epoch 16\n",
      "Training complete. Best model loaded.\n"
     ]
    }
   ],
   "source": [
    "# Оценка модели до обучения\n",
    "val_loss, val_accuracy = evaluate(tab_model, val_dataloader, loss)\n",
    "print(f'Untrained model scores:\\nloss: {val_loss}\\naccuracy: {val_accuracy}')\n",
    "\n",
    "# Обучение модели\n",
    "patience = 5  # Сколько эпох ждать улучшения val_loss\n",
    "best_val_loss = float(\"inf\")  # Лучший val_loss\n",
    "epochs_without_improvement = 0  # Счетчик эпох без улучшения\n",
    "best_model_path = \"best_model.pth\"  # Путь для сохранения лучшей модели\n",
    "\n",
    "N_EPOCHS = 100\n",
    "\n",
    "for epoch in range(N_EPOCHS):\n",
    "    tab_model.train()\n",
    "    train_losses = []\n",
    "    start_time = time.time()\n",
    "\n",
    "    # Обучение на train_dataloader\n",
    "    for x_cat, x_num, y in train_dataloader:\n",
    "        optimizer.zero_grad()\n",
    "\n",
    "        x_cat, x_num, y = x_cat.to(device), x_num.to(device), y.to(device)\n",
    "\n",
    "        y_pred = tab_model(x_cat, x_num)\n",
    "        batch_loss = loss(y_pred, y.squeeze())\n",
    "        train_losses.append(batch_loss.item())\n",
    "\n",
    "        batch_loss.backward()\n",
    "        optimizer.step()\n",
    "\n",
    "    # Оценка на val_dataloader\n",
    "    val_loss, val_accuracy = evaluate(tab_model, val_dataloader, loss)\n",
    "    print(f\"Epoch: {epoch + 1}. Train loss: {np.mean(train_losses)}. Val loss: {val_loss}. Val accuracy: {val_accuracy}\")\n",
    "\n",
    "    # Ранняя остановка и сохранение лучшей модели\n",
    "    if val_loss < best_val_loss:\n",
    "        best_val_loss = val_loss\n",
    "        epochs_without_improvement = 0\n",
    "        torch.save(tab_model.state_dict(), best_model_path)  # Сохраняем веса лучшей модели\n",
    "        print(f\"New best model saved with val_loss: {best_val_loss}\")\n",
    "    else:\n",
    "        epochs_without_improvement += 1\n",
    "        print(f\"No improvement for {epochs_without_improvement} epochs\")\n",
    "\n",
    "    # Прекращаем обучение, если val_loss не улучшается в течение patience эпох\n",
    "    if epochs_without_improvement >= patience:\n",
    "        print(f\"Early stopping at epoch {epoch + 1}\")\n",
    "        break\n",
    "\n",
    "# Загрузка лучшей модели\n",
    "tab_model.load_state_dict(torch.load(best_model_path))\n",
    "print(\"Training complete. Best model loaded.\")"
   ]
  },
  {
   "cell_type": "code",
   "execution_count": 126,
   "id": "63c29764-417a-4d9b-8146-88ee85fd609b",
   "metadata": {},
   "outputs": [
    {
     "name": "stdout",
     "output_type": "stream",
     "text": [
      "Test scores:\n",
      "loss: 0.20806613435302834\n",
      "accuracy: 0.9053411478491651\n"
     ]
    }
   ],
   "source": [
    "# Оценка на тестовых данных\n",
    "test_dataset = CategoryDataset(test_enc, cat_cols=cat_cols, num_cols=num_cols, target_col=target)\n",
    "test_dataloader = DataLoader(test_dataset, batch_size=batch_size, shuffle=False)\n",
    "\n",
    "test_loss, test_accuracy = evaluate(tab_model, test_dataloader, loss)\n",
    "print(f\"Test scores:\\nloss: {test_loss}\\naccuracy: {test_accuracy}\")"
   ]
  },
  {
   "cell_type": "code",
   "execution_count": null,
   "id": "bbd4183b-746c-461a-a47d-781113d82cd3",
   "metadata": {},
   "outputs": [],
   "source": []
  }
 ],
 "metadata": {
  "kernelspec": {
   "display_name": "uplift",
   "language": "python",
   "name": "uplift"
  },
  "language_info": {
   "codemirror_mode": {
    "name": "ipython",
    "version": 3
   },
   "file_extension": ".py",
   "mimetype": "text/x-python",
   "name": "python",
   "nbconvert_exporter": "python",
   "pygments_lexer": "ipython3",
   "version": "3.11.9"
  }
 },
 "nbformat": 4,
 "nbformat_minor": 5
}
