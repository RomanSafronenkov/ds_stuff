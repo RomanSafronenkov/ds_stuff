{
 "cells": [
  {
   "cell_type": "markdown",
   "id": "dd17c474-5bb3-40ed-9f36-e199745ca331",
   "metadata": {},
   "source": [
    "# Метрики ранжирования"
   ]
  },
  {
   "cell_type": "code",
   "execution_count": 1,
   "id": "d2105e94-b3ca-4aa8-abb5-2e5894364036",
   "metadata": {},
   "outputs": [],
   "source": [
    "from math import log2\n",
    "\n",
    "from torch import Tensor, sort\n",
    "import torch"
   ]
  },
  {
   "cell_type": "markdown",
   "id": "6e5a08e3-0041-41bb-9a51-3618609de9cf",
   "metadata": {},
   "source": [
    "## Число неверное расставленных пар (Kendall's Tau)"
   ]
  },
  {
   "cell_type": "code",
   "execution_count": 2,
   "id": "6b670902-2d97-444b-addc-cda3bc1c48d0",
   "metadata": {},
   "outputs": [],
   "source": [
    "N = 20\n",
    "\n",
    "ys_true = torch.rand(N)\n",
    "ys_pred = torch.rand(N)"
   ]
  },
  {
   "cell_type": "code",
   "execution_count": 3,
   "id": "b6d04808-1bed-4e74-a4c9-afc00401fec2",
   "metadata": {},
   "outputs": [],
   "source": [
    "def num_swapped_pairs(ys_true: Tensor, ys_pred: Tensor) -> int:\n",
    "    _, sorted_ys_true_idx = sort(ys_true, descending=True)\n",
    "\n",
    "    sorted_preds_by_true = ys_pred[sort(ys_true, descending=True)[1]]\n",
    "    count = 0\n",
    "    \n",
    "    for i in range(len(sorted_preds_by_true)):\n",
    "        for j in range(i+1, len(sorted_preds_by_true)):\n",
    "            if sorted_preds_by_true[i] < sorted_preds_by_true[j]:\n",
    "                count += 1\n",
    "    return count"
   ]
  },
  {
   "cell_type": "code",
   "execution_count": 4,
   "id": "38b54215-00a5-44b1-9463-3a5f86a95e56",
   "metadata": {},
   "outputs": [],
   "source": [
    "discordant_number = num_swapped_pairs(ys_true, ys_pred)"
   ]
  },
  {
   "cell_type": "code",
   "execution_count": 5,
   "id": "da29a5d6-338c-4261-8d8c-9ec89e4e326b",
   "metadata": {},
   "outputs": [],
   "source": [
    "total_pairs = N*(N-1)/2\n",
    "kndltau = (total_pairs-2*discordant_number) / total_pairs"
   ]
  },
  {
   "cell_type": "code",
   "execution_count": 6,
   "id": "c099d83c-6287-4176-9e20-83d0c97e0aae",
   "metadata": {},
   "outputs": [
    {
     "data": {
      "text/plain": [
       "-0.11578947368421053"
      ]
     },
     "execution_count": 6,
     "metadata": {},
     "output_type": "execute_result"
    }
   ],
   "source": [
    "kndltau"
   ]
  },
  {
   "cell_type": "code",
   "execution_count": 7,
   "id": "48a69c7f-2b85-4120-8748-017b956859e4",
   "metadata": {},
   "outputs": [
    {
     "data": {
      "text/plain": [
       "-0.11578947368421053"
      ]
     },
     "execution_count": 7,
     "metadata": {},
     "output_type": "execute_result"
    }
   ],
   "source": [
    "from scipy import stats as sts\n",
    "sts.kendalltau(ys_true, ys_pred).statistic"
   ]
  },
  {
   "cell_type": "markdown",
   "id": "c8c0295e-294a-4120-9c71-1ec75c084ebb",
   "metadata": {},
   "source": [
    "## DCG"
   ]
  },
  {
   "cell_type": "code",
   "execution_count": 8,
   "id": "35a39a3c-e934-45a3-84ed-8b6259734fdd",
   "metadata": {},
   "outputs": [],
   "source": [
    "def compute_gain(y_value: float, gain_scheme: str) -> float:\n",
    "    assert gain_scheme in ['const', 'exp2']\n",
    "    if gain_scheme == 'const':\n",
    "        return y_value\n",
    "    elif gain_scheme == 'exp2':\n",
    "        return 2 * y_value - 1"
   ]
  },
  {
   "cell_type": "code",
   "execution_count": 9,
   "id": "27b9a75d-89a5-4671-a3a6-c3b54741a98e",
   "metadata": {},
   "outputs": [],
   "source": [
    "def dcg(ys_true: Tensor, ys_pred: Tensor, gain_scheme: str) -> float:\n",
    "    dcg_value = 0\n",
    "    _, sorted_ys_pred_idx = sort(ys_pred, descending=True)\n",
    "    for i, rel in enumerate(ys_true[sorted_ys_pred_idx]):\n",
    "        dcg_value += compute_gain(rel, gain_scheme=gain_scheme) / log2(i+2)\n",
    "    return dcg_value"
   ]
  },
  {
   "cell_type": "code",
   "execution_count": 10,
   "id": "8edd5dac-d5be-466f-9693-06dd9e859150",
   "metadata": {},
   "outputs": [
    {
     "data": {
      "text/plain": [
       "tensor(2.8865)"
      ]
     },
     "execution_count": 10,
     "metadata": {},
     "output_type": "execute_result"
    }
   ],
   "source": [
    "dcg(ys_true, ys_pred, gain_scheme='const')"
   ]
  },
  {
   "cell_type": "code",
   "execution_count": 11,
   "id": "f3782deb-8ebc-48f2-8780-6e3c45f02d62",
   "metadata": {},
   "outputs": [],
   "source": [
    "from sklearn.metrics import dcg_score"
   ]
  },
  {
   "cell_type": "code",
   "execution_count": 12,
   "id": "099cfd0b-3f5d-49d2-8b94-7f7f9e8fff62",
   "metadata": {},
   "outputs": [
    {
     "data": {
      "text/plain": [
       "2.88649124980886"
      ]
     },
     "execution_count": 12,
     "metadata": {},
     "output_type": "execute_result"
    }
   ],
   "source": [
    "dcg_score(ys_true.numpy().reshape(1, -1), ys_pred.numpy().reshape(1, -1))"
   ]
  },
  {
   "cell_type": "markdown",
   "id": "c46c7c13-a35c-47c4-a126-71f9b8dd9fa4",
   "metadata": {},
   "source": [
    "## NDCG"
   ]
  },
  {
   "cell_type": "code",
   "execution_count": 13,
   "id": "c2196df9-f077-4738-9322-16671191ae2d",
   "metadata": {},
   "outputs": [],
   "source": [
    "def ndcg(ys_true: Tensor, ys_pred: Tensor, gain_scheme: str = 'const') -> float:\n",
    "    dcg_value = dcg(ys_true, ys_pred, gain_scheme=gain_scheme)\n",
    "    perfect_dcg = dcg(ys_true, ys_true, gain_scheme=gain_scheme)\n",
    "    \n",
    "    return dcg_value / perfect_dcg"
   ]
  },
  {
   "cell_type": "code",
   "execution_count": 14,
   "id": "21dc464c-0479-47a4-9fa3-a2c41b6020ac",
   "metadata": {},
   "outputs": [
    {
     "data": {
      "text/plain": [
       "tensor(0.7543)"
      ]
     },
     "execution_count": 14,
     "metadata": {},
     "output_type": "execute_result"
    }
   ],
   "source": [
    "ndcg(ys_true, ys_pred)"
   ]
  },
  {
   "cell_type": "code",
   "execution_count": 15,
   "id": "36073583-d7c8-4fe6-be0c-4cd246522ebc",
   "metadata": {},
   "outputs": [],
   "source": [
    "from sklearn.metrics import ndcg_score"
   ]
  },
  {
   "cell_type": "code",
   "execution_count": 16,
   "id": "c4a3d9c1-adad-41e3-ae48-0bd29cf2a199",
   "metadata": {},
   "outputs": [
    {
     "data": {
      "text/plain": [
       "0.754329570849857"
      ]
     },
     "execution_count": 16,
     "metadata": {},
     "output_type": "execute_result"
    }
   ],
   "source": [
    "ndcg_score(ys_true.numpy().reshape(1, -1), ys_pred.numpy().reshape(1, -1))"
   ]
  },
  {
   "cell_type": "markdown",
   "id": "de3717a5-8c0b-4f33-9cac-cfd1394ab082",
   "metadata": {},
   "source": [
    "## Precision at k"
   ]
  },
  {
   "cell_type": "code",
   "execution_count": 17,
   "id": "d128e3fc-1179-4a13-803a-3d2cf59f712a",
   "metadata": {},
   "outputs": [],
   "source": [
    "def precission_at_k(ys_true: Tensor, ys_pred: Tensor, k: int) -> float:\n",
    "    _, sorted_ys_pred_idx = sort(ys_pred, descending=True)\n",
    "    sorted_ys_pred_idx = sorted_ys_pred_idx[:k]\n",
    "\n",
    "    top_k = ys_true[sorted_ys_pred_idx]\n",
    "    if top_k.sum() == 0:\n",
    "        return torch.tensor(-1)\n",
    "    return top_k.mean()"
   ]
  },
  {
   "cell_type": "code",
   "execution_count": 18,
   "id": "3096ed5b-4d86-4c33-8e22-c4077dc530cb",
   "metadata": {},
   "outputs": [
    {
     "data": {
      "text/plain": [
       "tensor(0.6000)"
      ]
     },
     "execution_count": 18,
     "metadata": {},
     "output_type": "execute_result"
    }
   ],
   "source": [
    "precission_at_k((ys_true > 0.5).type(torch.float32), ys_pred, k=10)"
   ]
  },
  {
   "cell_type": "code",
   "execution_count": 19,
   "id": "a4519f61-e1a5-4344-8832-f0c44005daa0",
   "metadata": {},
   "outputs": [
    {
     "data": {
      "text/plain": [
       "tensor([0., 0., 1., 0., 1., 1., 0., 1., 1., 1., 0., 0., 1., 1., 0., 0., 0., 0.,\n",
       "        1., 0.])"
      ]
     },
     "execution_count": 19,
     "metadata": {},
     "output_type": "execute_result"
    }
   ],
   "source": [
    "(ys_true > 0.5).type(torch.float32)"
   ]
  },
  {
   "cell_type": "markdown",
   "id": "c95b1302-28dc-4fec-9869-f38442d0650b",
   "metadata": {},
   "source": [
    "## MRR"
   ]
  },
  {
   "cell_type": "code",
   "execution_count": 20,
   "id": "160f29cb-07d8-4c7d-9b40-361b4a2fbf13",
   "metadata": {},
   "outputs": [],
   "source": [
    "def reciprocal_rank(ys_true: Tensor, ys_pred: Tensor) -> float:\n",
    "    _, sorted_ys_pred_idx = sort(ys_pred, descending=True)\n",
    "    sorted_true = ys_true[sorted_ys_pred_idx]\n",
    "\n",
    "    return 1 / sort(sorted_true, descending=True)[1][0]"
   ]
  },
  {
   "cell_type": "code",
   "execution_count": 21,
   "id": "e72fd06a-1b13-44d4-a0b8-cbddcf173ea3",
   "metadata": {},
   "outputs": [],
   "source": [
    "true_one = Tensor(N).type(torch.float32)\n",
    "true_one.fill_(0)\n",
    "true_one[4] = 1"
   ]
  },
  {
   "cell_type": "code",
   "execution_count": 22,
   "id": "d8c4805d-e762-49b0-9bea-6e8b08a6f898",
   "metadata": {},
   "outputs": [
    {
     "data": {
      "text/plain": [
       "tensor([0., 0., 0., 0., 1., 0., 0., 0., 0., 0., 0., 0., 0., 0., 0., 0., 0., 0.,\n",
       "        0., 0.])"
      ]
     },
     "execution_count": 22,
     "metadata": {},
     "output_type": "execute_result"
    }
   ],
   "source": [
    "true_one"
   ]
  },
  {
   "cell_type": "code",
   "execution_count": 23,
   "id": "d44976ec-54f7-46fc-ba68-77da4a3142db",
   "metadata": {},
   "outputs": [
    {
     "data": {
      "text/plain": [
       "tensor(1.)"
      ]
     },
     "execution_count": 23,
     "metadata": {},
     "output_type": "execute_result"
    }
   ],
   "source": [
    "reciprocal_rank(true_one, ys_pred)"
   ]
  },
  {
   "cell_type": "markdown",
   "id": "a30ea5b9-f7be-477b-a6d3-eb2d3660ff96",
   "metadata": {},
   "source": [
    "## PFound"
   ]
  },
  {
   "cell_type": "code",
   "execution_count": 24,
   "id": "2b5aeb57-b82f-4cca-9cf0-881ad3568b82",
   "metadata": {},
   "outputs": [],
   "source": [
    "def p_found(ys_true: Tensor, ys_pred: Tensor, p_break: float = 0.15 ) -> float:\n",
    "    _, sorted_ys_pred_idx = sort(ys_pred, descending=True)\n",
    "    p_rel = ys_true[sorted_ys_pred_idx]\n",
    "    # p_rel /= p_rel.max()\n",
    "\n",
    "    p_look = Tensor(len(p_rel))\n",
    "    p_look[0] = 1\n",
    "    for i in range(1, len(p_rel)):\n",
    "        p_look[i] = p_look[i-1] * (1 - p_rel[i-1]) * (1 - p_break)\n",
    "\n",
    "    p_found_value = (p_look * p_rel).sum()\n",
    "\n",
    "    return p_found_value"
   ]
  },
  {
   "cell_type": "code",
   "execution_count": 25,
   "id": "0c0bf5e6-505c-43c7-9fa8-2376b944c3f9",
   "metadata": {
    "scrolled": true
   },
   "outputs": [
    {
     "data": {
      "text/plain": [
       "tensor(0.8131)"
      ]
     },
     "execution_count": 25,
     "metadata": {},
     "output_type": "execute_result"
    }
   ],
   "source": [
    "p_found(ys_true, ys_pred)"
   ]
  },
  {
   "cell_type": "markdown",
   "id": "5885ed10-c392-4035-b7d1-b2abda5c8629",
   "metadata": {},
   "source": [
    "## Average Precision"
   ]
  },
  {
   "cell_type": "code",
   "execution_count": 26,
   "id": "e49f4ab5-aeb8-43f9-a7ff-5948af398750",
   "metadata": {},
   "outputs": [],
   "source": [
    "def average_precision(ys_true: Tensor, ys_pred: Tensor) -> float:\n",
    "    ap = 0\n",
    "    _, sorted_ys_pred_idx = sort(ys_pred, descending=True)\n",
    "    ys_true_ranked = ys_true[sorted_ys_pred_idx]\n",
    "\n",
    "    recall = Tensor(len(ys_true_ranked))\n",
    "    recall[0] = 0\n",
    "    precision = Tensor(len(ys_true_ranked))\n",
    "    for k in range(1, len(ys_true_ranked)):\n",
    "        recall[k] = ys_true_ranked[:k].sum() / ys_true_ranked.sum()\n",
    "        precision[k] = ys_true_ranked[:k].sum() / k\n",
    "        ap += (recall[k] - recall[k-1]) * precision[k]\n",
    "\n",
    "    if ap == 0:\n",
    "        return torch.tensor(-1)\n",
    "\n",
    "    return ap"
   ]
  },
  {
   "cell_type": "code",
   "execution_count": 27,
   "id": "85360840-7700-43f5-b758-edf2308f0bde",
   "metadata": {},
   "outputs": [
    {
     "data": {
      "text/plain": [
       "tensor(0.5029)"
      ]
     },
     "execution_count": 27,
     "metadata": {},
     "output_type": "execute_result"
    }
   ],
   "source": [
    "average_precision((ys_true > 0.5).type(torch.float32), ys_pred)"
   ]
  },
  {
   "cell_type": "code",
   "execution_count": 28,
   "id": "e6746af0-d4b1-42b8-b826-a80de2b1e3b0",
   "metadata": {},
   "outputs": [],
   "source": [
    "from sklearn.metrics import average_precision_score"
   ]
  },
  {
   "cell_type": "code",
   "execution_count": 29,
   "id": "d6a2f50c-de0e-4cb3-9e2b-b5a3f11915dc",
   "metadata": {},
   "outputs": [
    {
     "data": {
      "text/plain": [
       "0.5029048656499637"
      ]
     },
     "execution_count": 29,
     "metadata": {},
     "output_type": "execute_result"
    }
   ],
   "source": [
    "average_precision_score((ys_true > 0.5).type(torch.int32).numpy().reshape(1, -1), ys_pred.numpy().reshape(1, -1), average='micro')"
   ]
  },
  {
   "cell_type": "code",
   "execution_count": null,
   "id": "37ec2b35-866d-4700-b9d9-7a6c182b3c15",
   "metadata": {},
   "outputs": [],
   "source": []
  }
 ],
 "metadata": {
  "kernelspec": {
   "display_name": "uplift",
   "language": "python",
   "name": "uplift"
  },
  "language_info": {
   "codemirror_mode": {
    "name": "ipython",
    "version": 3
   },
   "file_extension": ".py",
   "mimetype": "text/x-python",
   "name": "python",
   "nbconvert_exporter": "python",
   "pygments_lexer": "ipython3",
   "version": "3.11.9"
  }
 },
 "nbformat": 4,
 "nbformat_minor": 5
}
