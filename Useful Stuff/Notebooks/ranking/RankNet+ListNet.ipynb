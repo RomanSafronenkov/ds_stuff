{
 "cells": [
  {
   "cell_type": "code",
   "execution_count": 1,
   "metadata": {
    "colab": {
     "base_uri": "https://localhost:8080/"
    },
    "executionInfo": {
     "elapsed": 10497,
     "status": "ok",
     "timestamp": 1737644434493,
     "user": {
      "displayName": "Roman Safronenkov",
      "userId": "04023794386653200418"
     },
     "user_tz": -180
    },
    "id": "eOEz6R1WfGfW",
    "outputId": "a428c442-8378-4d48-ca38-b1f4708cc661"
   },
   "outputs": [],
   "source": [
    "# !pip install catboost"
   ]
  },
  {
   "cell_type": "code",
   "execution_count": 74,
   "metadata": {
    "executionInfo": {
     "elapsed": 18260,
     "status": "ok",
     "timestamp": 1737644452751,
     "user": {
      "displayName": "Roman Safronenkov",
      "userId": "04023794386653200418"
     },
     "user_tz": -180
    },
    "id": "UlfR6Pqz8hc-"
   },
   "outputs": [
    {
     "data": {
      "text/plain": [
       "'cuda:0'"
      ]
     },
     "execution_count": 74,
     "metadata": {},
     "output_type": "execute_result"
    }
   ],
   "source": [
    "import torch\n",
    "import torchvision.utils\n",
    "\n",
    "import numpy as np\n",
    "import pandas as pd\n",
    "from tqdm import tqdm\n",
    "\n",
    "from sklearn.metrics import ndcg_score\n",
    "from scipy import stats as sts\n",
    "\n",
    "device = 'cuda:0' if torch.cuda.is_available() else 'cpu'\n",
    "device"
   ]
  },
  {
   "cell_type": "code",
   "execution_count": 3,
   "metadata": {
    "executionInfo": {
     "elapsed": 9,
     "status": "ok",
     "timestamp": 1737644452752,
     "user": {
      "displayName": "Roman Safronenkov",
      "userId": "04023794386653200418"
     },
     "user_tz": -180
    },
    "id": "5tS4VXSFPC_E"
   },
   "outputs": [],
   "source": [
    "from math import log2\n",
    "from torch import Tensor, sort\n",
    "\n",
    "def num_swapped_pairs(ys_true: Tensor, ys_pred: Tensor) -> int:\n",
    "    _, sorted_ys_true_idx = sort(ys_true, descending=True)\n",
    "\n",
    "    sorted_preds_by_true = ys_pred[sort(ys_true, descending=True)[1]]\n",
    "    count = 0\n",
    "\n",
    "    for i in range(len(sorted_preds_by_true)):\n",
    "        for j in range(i+1, len(sorted_preds_by_true)):\n",
    "            if sorted_preds_by_true[i] < sorted_preds_by_true[j]:\n",
    "                count += 1\n",
    "    return count\n",
    "\n",
    "\n",
    "def compute_gain(y_value: float, gain_scheme: str) -> float:\n",
    "  assert gain_scheme in ['const', 'exp2']\n",
    "  if gain_scheme == 'const':\n",
    "      return y_value\n",
    "  elif gain_scheme == 'exp2':\n",
    "      return 2 ** y_value - 1\n",
    "\n",
    "\n",
    "def dcg(ys_true: Tensor, ys_pred: Tensor, gain_scheme: str) -> float:\n",
    "    dcg_value = 0\n",
    "    _, sorted_ys_pred_idx = sort(ys_pred, descending=True)\n",
    "    for i, rel in enumerate(ys_true[sorted_ys_pred_idx]):\n",
    "        dcg_value += compute_gain(rel, gain_scheme=gain_scheme) / log2(i+2)\n",
    "    return dcg_value\n",
    "\n",
    "\n",
    "def ndcg(ys_true: Tensor, ys_pred: Tensor, gain_scheme: str = 'const') -> float:\n",
    "    \"\"\"\n",
    "    https://en.wikipedia.org/wiki/Discounted_cumulative_gain#cite_note-4\n",
    "    \"\"\"\n",
    "    dcg_value = dcg(ys_true, ys_pred, gain_scheme=gain_scheme)\n",
    "    perfect_dcg = dcg(ys_true, ys_true, gain_scheme=gain_scheme)\n",
    "\n",
    "    return dcg_value / perfect_dcg"
   ]
  },
  {
   "cell_type": "markdown",
   "metadata": {
    "id": "lxolFVjlcF5J"
   },
   "source": [
    "# RankNet"
   ]
  },
  {
   "cell_type": "markdown",
   "metadata": {
    "id": "Cg1d6tQwz96E"
   },
   "source": [
    "Обучается ставить score выше для того, кто должен быть выше в списке. В итоге модель выдает величину, которую можно сравнить и выводить топ, может обучаться на данных одного ранга, тогда таргет = 0.5"
   ]
  },
  {
   "cell_type": "markdown",
   "metadata": {
    "id": "kv1iHEmAcU8P"
   },
   "source": [
    "$$C_{ij}=C(o_{ij})=-\\bar{P_{ij}}log(P_{ij})-(1-\\bar{P_{ij}})log(1-P_{ij})$$\n",
    "\n",
    "$$o_{ij}=f(x_i)-f(x_j)$$\n",
    "\n",
    "$$P_{ij}=\\frac{e^{o_{ij}}}{1+e^{o_{ij}}}$$\n",
    "\n",
    "$$\\text{out}_{i} = \\frac{1}{1 + e^{-\\text{input}_{i}}}$$"
   ]
  },
  {
   "cell_type": "code",
   "execution_count": 4,
   "metadata": {
    "executionInfo": {
     "elapsed": 7,
     "status": "ok",
     "timestamp": 1737644452752,
     "user": {
      "displayName": "Roman Safronenkov",
      "userId": "04023794386653200418"
     },
     "user_tz": -180
    },
    "id": "FDpKIfHdcF5M"
   },
   "outputs": [],
   "source": [
    "class RankNet(torch.nn.Module):\n",
    "    def __init__(self, num_input_features, hidden_dim=16):\n",
    "        super().__init__()\n",
    "        self.hidden_dim = hidden_dim\n",
    "        self.model = torch.nn.Sequential(\n",
    "            torch.nn.Linear(num_input_features, self.hidden_dim),\n",
    "            torch.nn.ReLU(),\n",
    "            torch.nn.Linear(self.hidden_dim, 1),\n",
    "        )\n",
    "\n",
    "        self.out_activation = torch.nn.Sigmoid()\n",
    "\n",
    "    def forward(self, input_1, input_2):\n",
    "        logits_1 = self.predict(input_1)\n",
    "        logits_2 = self.predict(input_2)\n",
    "\n",
    "        logits_diff = logits_1 - logits_2\n",
    "        out = self.out_activation(logits_diff)\n",
    "\n",
    "        return out\n",
    "\n",
    "    def predict(self, inp):\n",
    "        logits = self.model(inp)\n",
    "        return logits"
   ]
  },
  {
   "cell_type": "code",
   "execution_count": 5,
   "metadata": {
    "executionInfo": {
     "elapsed": 7,
     "status": "ok",
     "timestamp": 1737644452752,
     "user": {
      "displayName": "Roman Safronenkov",
      "userId": "04023794386653200418"
     },
     "user_tz": -180
    },
    "id": "-XbuRb1BcF5N"
   },
   "outputs": [],
   "source": [
    "ranknet_model = RankNet(num_input_features=10)"
   ]
  },
  {
   "cell_type": "code",
   "execution_count": 6,
   "metadata": {
    "colab": {
     "base_uri": "https://localhost:8080/"
    },
    "executionInfo": {
     "elapsed": 247,
     "status": "ok",
     "timestamp": 1737644452992,
     "user": {
      "displayName": "Roman Safronenkov",
      "userId": "04023794386653200418"
     },
     "user_tz": -180
    },
    "id": "96EqGFJgcF5N",
    "outputId": "798c43af-e64e-4a59-cf66-aa5a8cf46a47"
   },
   "outputs": [
    {
     "data": {
      "text/plain": [
       "tensor([[0.8161, 0.5248, 0.7568, 0.1942, 0.9722, 0.1711, 0.7715, 0.9777, 0.8148,\n",
       "         0.2025],\n",
       "        [0.7843, 0.1213, 0.2313, 0.8766, 0.3193, 0.9272, 0.1633, 0.6434, 0.1508,\n",
       "         0.8880],\n",
       "        [0.4826, 0.0589, 0.0111, 0.6643, 0.9005, 0.6499, 0.3386, 0.2823, 0.5310,\n",
       "         0.3075],\n",
       "        [0.5934, 0.3708, 0.3285, 0.3355, 0.2387, 0.2685, 0.3257, 0.3929, 0.5490,\n",
       "         0.9919]])"
      ]
     },
     "execution_count": 6,
     "metadata": {},
     "output_type": "execute_result"
    }
   ],
   "source": [
    "inp_1, inp_2 = torch.rand(4, 10), torch.rand(4, 10)\n",
    "# batch_size x input_dim\n",
    "inp_2"
   ]
  },
  {
   "cell_type": "code",
   "execution_count": 7,
   "metadata": {
    "colab": {
     "base_uri": "https://localhost:8080/"
    },
    "executionInfo": {
     "elapsed": 10,
     "status": "ok",
     "timestamp": 1737644452992,
     "user": {
      "displayName": "Roman Safronenkov",
      "userId": "04023794386653200418"
     },
     "user_tz": -180
    },
    "id": "XeaC6qoLcF5N",
    "outputId": "b9b620f8-87be-4538-9c36-5928a69fc59f"
   },
   "outputs": [
    {
     "data": {
      "text/plain": [
       "tensor([[0.5015],\n",
       "        [0.4910],\n",
       "        [0.4852],\n",
       "        [0.4768]], grad_fn=<SigmoidBackward0>)"
      ]
     },
     "execution_count": 7,
     "metadata": {},
     "output_type": "execute_result"
    }
   ],
   "source": [
    "preds = ranknet_model(inp_1, inp_2)\n",
    "preds"
   ]
  },
  {
   "cell_type": "code",
   "execution_count": 8,
   "metadata": {
    "executionInfo": {
     "elapsed": 7,
     "status": "ok",
     "timestamp": 1737644452992,
     "user": {
      "displayName": "Roman Safronenkov",
      "userId": "04023794386653200418"
     },
     "user_tz": -180
    },
    "id": "sI79hKZ9cF5O"
   },
   "outputs": [],
   "source": [
    "first_linear_layer = ranknet_model.model[0]"
   ]
  },
  {
   "cell_type": "code",
   "execution_count": 9,
   "metadata": {
    "executionInfo": {
     "elapsed": 6,
     "status": "ok",
     "timestamp": 1737644452992,
     "user": {
      "displayName": "Roman Safronenkov",
      "userId": "04023794386653200418"
     },
     "user_tz": -180
    },
    "id": "L8OX6Qk1cF5O"
   },
   "outputs": [],
   "source": [
    "first_linear_layer.weight.grad"
   ]
  },
  {
   "cell_type": "code",
   "execution_count": 10,
   "metadata": {
    "executionInfo": {
     "elapsed": 6,
     "status": "ok",
     "timestamp": 1737644452992,
     "user": {
      "displayName": "Roman Safronenkov",
      "userId": "04023794386653200418"
     },
     "user_tz": -180
    },
    "id": "r1U5iEX9cF5O"
   },
   "outputs": [],
   "source": [
    "criterion = torch.nn.BCELoss()\n",
    "loss = criterion(preds, torch.ones_like(preds))\n",
    "loss.backward()"
   ]
  },
  {
   "cell_type": "code",
   "execution_count": 11,
   "metadata": {
    "colab": {
     "base_uri": "https://localhost:8080/"
    },
    "executionInfo": {
     "elapsed": 6,
     "status": "ok",
     "timestamp": 1737644452992,
     "user": {
      "displayName": "Roman Safronenkov",
      "userId": "04023794386653200418"
     },
     "user_tz": -180
    },
    "id": "MjWsaXRCcF5O",
    "outputId": "3b133ccc-06f4-48de-de1d-c90f80bd17f6"
   },
   "outputs": [
    {
     "data": {
      "text/plain": [
       "tensor([[-0.0118,  0.0006, -0.0014, -0.0043, -0.0133, -0.0004, -0.0066, -0.0130,\n",
       "         -0.0051, -0.0046],\n",
       "        [ 0.0175,  0.0027,  0.0052,  0.0196,  0.0071,  0.0207,  0.0037,  0.0144,\n",
       "          0.0034,  0.0199],\n",
       "        [ 0.0099, -0.0031,  0.0039,  0.0060,  0.0100,  0.0084,  0.0024,  0.0142,\n",
       "          0.0060,  0.0132],\n",
       "        [-0.0143,  0.0360,  0.0239,  0.0092, -0.0049,  0.0084,  0.0097, -0.0226,\n",
       "          0.0136, -0.0219],\n",
       "        [-0.0084,  0.0106,  0.0050, -0.0002, -0.0083, -0.0038, -0.0002, -0.0107,\n",
       "         -0.0020, -0.0109],\n",
       "        [-0.0042,  0.0069,  0.0084, -0.0011, -0.0035,  0.0004,  0.0010, -0.0071,\n",
       "          0.0014, -0.0018],\n",
       "        [-0.0036,  0.0011, -0.0014, -0.0022, -0.0037, -0.0031, -0.0009, -0.0052,\n",
       "         -0.0022, -0.0049],\n",
       "        [-0.0045,  0.0113,  0.0075,  0.0029, -0.0015,  0.0026,  0.0030, -0.0071,\n",
       "          0.0043, -0.0069],\n",
       "        [ 0.0089, -0.0223, -0.0148, -0.0057,  0.0030, -0.0052, -0.0060,  0.0140,\n",
       "         -0.0084,  0.0136],\n",
       "        [ 0.0020,  0.0043,  0.0036,  0.0027,  0.0031,  0.0024,  0.0031,  0.0009,\n",
       "          0.0042,  0.0008],\n",
       "        [ 0.0001, -0.0010, -0.0007, -0.0006, -0.0004, -0.0006, -0.0005,  0.0005,\n",
       "         -0.0007,  0.0004],\n",
       "        [ 0.0139, -0.0350, -0.0232, -0.0089,  0.0047, -0.0082, -0.0094,  0.0220,\n",
       "         -0.0132,  0.0213],\n",
       "        [ 0.0043, -0.0108, -0.0072, -0.0027,  0.0015, -0.0025, -0.0029,  0.0068,\n",
       "         -0.0041,  0.0066],\n",
       "        [ 0.0123,  0.0307,  0.0430,  0.0064,  0.0194,  0.0031,  0.0224,  0.0020,\n",
       "          0.0206,  0.0043],\n",
       "        [ 0.0020,  0.0366,  0.0309,  0.0103,  0.0119,  0.0093,  0.0201, -0.0018,\n",
       "          0.0238, -0.0139],\n",
       "        [ 0.0027,  0.0098,  0.0097,  0.0071,  0.0096,  0.0123,  0.0075,  0.0003,\n",
       "          0.0134,  0.0011]])"
      ]
     },
     "execution_count": 11,
     "metadata": {},
     "output_type": "execute_result"
    }
   ],
   "source": [
    "first_linear_layer.weight.grad"
   ]
  },
  {
   "cell_type": "code",
   "execution_count": 12,
   "metadata": {
    "executionInfo": {
     "elapsed": 4,
     "status": "ok",
     "timestamp": 1737644452992,
     "user": {
      "displayName": "Roman Safronenkov",
      "userId": "04023794386653200418"
     },
     "user_tz": -180
    },
    "id": "bbsXyNWpcF5O"
   },
   "outputs": [],
   "source": [
    "ranknet_model.zero_grad()"
   ]
  },
  {
   "cell_type": "markdown",
   "metadata": {
    "executionInfo": {
     "elapsed": 4,
     "status": "ok",
     "timestamp": 1737644452993,
     "user": {
      "displayName": "Roman Safronenkov",
      "userId": "04023794386653200418"
     },
     "user_tz": -180
    },
    "id": "TlphjZlBcF5O"
   },
   "source": [
    "## Попробуем обучить"
   ]
  },
  {
   "cell_type": "code",
   "execution_count": 13,
   "metadata": {
    "colab": {
     "base_uri": "https://localhost:8080/",
     "height": 236
    },
    "executionInfo": {
     "elapsed": 9838,
     "status": "ok",
     "timestamp": 1737644462827,
     "user": {
      "displayName": "Roman Safronenkov",
      "userId": "04023794386653200418"
     },
     "user_tz": -180
    },
    "id": "67DXlMFWcF5O",
    "outputId": "327ae952-1f65-42d4-d98b-abfea46b7d90"
   },
   "outputs": [
    {
     "data": {
      "text/html": [
       "<div>\n",
       "<style scoped>\n",
       "    .dataframe tbody tr th:only-of-type {\n",
       "        vertical-align: middle;\n",
       "    }\n",
       "\n",
       "    .dataframe tbody tr th {\n",
       "        vertical-align: top;\n",
       "    }\n",
       "\n",
       "    .dataframe thead th {\n",
       "        text-align: right;\n",
       "    }\n",
       "</style>\n",
       "<table border=\"1\" class=\"dataframe\">\n",
       "  <thead>\n",
       "    <tr style=\"text-align: right;\">\n",
       "      <th></th>\n",
       "      <th>target</th>\n",
       "      <th>query</th>\n",
       "      <th>feature_2</th>\n",
       "      <th>feature_3</th>\n",
       "      <th>feature_4</th>\n",
       "      <th>feature_5</th>\n",
       "      <th>feature_6</th>\n",
       "      <th>feature_7</th>\n",
       "      <th>feature_8</th>\n",
       "      <th>feature_9</th>\n",
       "      <th>...</th>\n",
       "      <th>feature_128</th>\n",
       "      <th>feature_129</th>\n",
       "      <th>feature_130</th>\n",
       "      <th>feature_131</th>\n",
       "      <th>feature_132</th>\n",
       "      <th>feature_133</th>\n",
       "      <th>feature_134</th>\n",
       "      <th>feature_135</th>\n",
       "      <th>feature_136</th>\n",
       "      <th>feature_137</th>\n",
       "    </tr>\n",
       "  </thead>\n",
       "  <tbody>\n",
       "    <tr>\n",
       "      <th>0</th>\n",
       "      <td>2.0</td>\n",
       "      <td>1.0</td>\n",
       "      <td>3.0</td>\n",
       "      <td>3.0</td>\n",
       "      <td>0.0</td>\n",
       "      <td>0.0</td>\n",
       "      <td>3.0</td>\n",
       "      <td>1.0</td>\n",
       "      <td>1.0</td>\n",
       "      <td>0.000000</td>\n",
       "      <td>...</td>\n",
       "      <td>62.0</td>\n",
       "      <td>11089534.0</td>\n",
       "      <td>2.0</td>\n",
       "      <td>116.0</td>\n",
       "      <td>64034.0</td>\n",
       "      <td>13.0</td>\n",
       "      <td>3.0</td>\n",
       "      <td>0.0</td>\n",
       "      <td>0.0</td>\n",
       "      <td>0.0</td>\n",
       "    </tr>\n",
       "    <tr>\n",
       "      <th>1</th>\n",
       "      <td>2.0</td>\n",
       "      <td>1.0</td>\n",
       "      <td>3.0</td>\n",
       "      <td>0.0</td>\n",
       "      <td>3.0</td>\n",
       "      <td>0.0</td>\n",
       "      <td>3.0</td>\n",
       "      <td>1.0</td>\n",
       "      <td>0.0</td>\n",
       "      <td>1.000000</td>\n",
       "      <td>...</td>\n",
       "      <td>54.0</td>\n",
       "      <td>11089534.0</td>\n",
       "      <td>2.0</td>\n",
       "      <td>124.0</td>\n",
       "      <td>64034.0</td>\n",
       "      <td>1.0</td>\n",
       "      <td>2.0</td>\n",
       "      <td>0.0</td>\n",
       "      <td>0.0</td>\n",
       "      <td>0.0</td>\n",
       "    </tr>\n",
       "    <tr>\n",
       "      <th>2</th>\n",
       "      <td>0.0</td>\n",
       "      <td>1.0</td>\n",
       "      <td>3.0</td>\n",
       "      <td>0.0</td>\n",
       "      <td>2.0</td>\n",
       "      <td>0.0</td>\n",
       "      <td>3.0</td>\n",
       "      <td>1.0</td>\n",
       "      <td>0.0</td>\n",
       "      <td>0.666667</td>\n",
       "      <td>...</td>\n",
       "      <td>45.0</td>\n",
       "      <td>3.0</td>\n",
       "      <td>1.0</td>\n",
       "      <td>124.0</td>\n",
       "      <td>3344.0</td>\n",
       "      <td>14.0</td>\n",
       "      <td>67.0</td>\n",
       "      <td>0.0</td>\n",
       "      <td>0.0</td>\n",
       "      <td>0.0</td>\n",
       "    </tr>\n",
       "    <tr>\n",
       "      <th>3</th>\n",
       "      <td>2.0</td>\n",
       "      <td>1.0</td>\n",
       "      <td>3.0</td>\n",
       "      <td>0.0</td>\n",
       "      <td>3.0</td>\n",
       "      <td>0.0</td>\n",
       "      <td>3.0</td>\n",
       "      <td>1.0</td>\n",
       "      <td>0.0</td>\n",
       "      <td>1.000000</td>\n",
       "      <td>...</td>\n",
       "      <td>56.0</td>\n",
       "      <td>11089534.0</td>\n",
       "      <td>13.0</td>\n",
       "      <td>123.0</td>\n",
       "      <td>63933.0</td>\n",
       "      <td>1.0</td>\n",
       "      <td>3.0</td>\n",
       "      <td>0.0</td>\n",
       "      <td>0.0</td>\n",
       "      <td>0.0</td>\n",
       "    </tr>\n",
       "    <tr>\n",
       "      <th>4</th>\n",
       "      <td>1.0</td>\n",
       "      <td>1.0</td>\n",
       "      <td>3.0</td>\n",
       "      <td>0.0</td>\n",
       "      <td>3.0</td>\n",
       "      <td>0.0</td>\n",
       "      <td>3.0</td>\n",
       "      <td>1.0</td>\n",
       "      <td>0.0</td>\n",
       "      <td>1.000000</td>\n",
       "      <td>...</td>\n",
       "      <td>64.0</td>\n",
       "      <td>5.0</td>\n",
       "      <td>7.0</td>\n",
       "      <td>256.0</td>\n",
       "      <td>49697.0</td>\n",
       "      <td>1.0</td>\n",
       "      <td>13.0</td>\n",
       "      <td>0.0</td>\n",
       "      <td>0.0</td>\n",
       "      <td>0.0</td>\n",
       "    </tr>\n",
       "  </tbody>\n",
       "</table>\n",
       "<p>5 rows × 138 columns</p>\n",
       "</div>"
      ],
      "text/plain": [
       "   target  query  feature_2  feature_3  feature_4  feature_5  feature_6  \\\n",
       "0     2.0    1.0        3.0        3.0        0.0        0.0        3.0   \n",
       "1     2.0    1.0        3.0        0.0        3.0        0.0        3.0   \n",
       "2     0.0    1.0        3.0        0.0        2.0        0.0        3.0   \n",
       "3     2.0    1.0        3.0        0.0        3.0        0.0        3.0   \n",
       "4     1.0    1.0        3.0        0.0        3.0        0.0        3.0   \n",
       "\n",
       "   feature_7  feature_8  feature_9  ...  feature_128  feature_129  \\\n",
       "0        1.0        1.0   0.000000  ...         62.0   11089534.0   \n",
       "1        1.0        0.0   1.000000  ...         54.0   11089534.0   \n",
       "2        1.0        0.0   0.666667  ...         45.0          3.0   \n",
       "3        1.0        0.0   1.000000  ...         56.0   11089534.0   \n",
       "4        1.0        0.0   1.000000  ...         64.0          5.0   \n",
       "\n",
       "   feature_130  feature_131  feature_132  feature_133  feature_134  \\\n",
       "0          2.0        116.0      64034.0         13.0          3.0   \n",
       "1          2.0        124.0      64034.0          1.0          2.0   \n",
       "2          1.0        124.0       3344.0         14.0         67.0   \n",
       "3         13.0        123.0      63933.0          1.0          3.0   \n",
       "4          7.0        256.0      49697.0          1.0         13.0   \n",
       "\n",
       "   feature_135  feature_136  feature_137  \n",
       "0          0.0          0.0          0.0  \n",
       "1          0.0          0.0          0.0  \n",
       "2          0.0          0.0          0.0  \n",
       "3          0.0          0.0          0.0  \n",
       "4          0.0          0.0          0.0  \n",
       "\n",
       "[5 rows x 138 columns]"
      ]
     },
     "execution_count": 13,
     "metadata": {},
     "output_type": "execute_result"
    }
   ],
   "source": [
    "from catboost.datasets import msrank_10k\n",
    "\n",
    "msrank_10k_train, msrank_10k_test = msrank_10k()\n",
    "msrank_10k_train = msrank_10k_train.rename(columns={0: 'target', 1: 'query'}).rename(columns={i: f'feature_{i}' for i in range(2, 138)})\n",
    "msrank_10k_test = msrank_10k_test.rename(columns={0: 'target', 1: 'query'}).rename(columns={i: f'feature_{i}' for i in range(2, 138)})\n",
    "\n",
    "for feature in msrank_10k_train.columns:\n",
    "    msrank_10k_train[feature] = msrank_10k_train[feature].astype(float)\n",
    "\n",
    "for feature in msrank_10k_test.columns:\n",
    "    msrank_10k_test[feature] = msrank_10k_test[feature].astype(float)\n",
    "\n",
    "msrank_10k_train.head()"
   ]
  },
  {
   "cell_type": "markdown",
   "metadata": {},
   "source": [
    "### Надо отнормировать признаки перед подачей в нейросеть, нормировать надо по группам, так как разные признаки соответствуют разным запросам"
   ]
  },
  {
   "cell_type": "code",
   "execution_count": 14,
   "metadata": {},
   "outputs": [
    {
     "data": {
      "text/plain": [
       "array([1.000e+00, 1.600e+01, 3.100e+01, 4.600e+01, 6.100e+01, 7.600e+01,\n",
       "       9.100e+01, 1.060e+02, 1.210e+02, 1.360e+02, 1.510e+02, 1.660e+02,\n",
       "       1.810e+02, 1.960e+02, 2.110e+02, 2.260e+02, 2.410e+02, 2.560e+02,\n",
       "       2.710e+02, 2.860e+02, 3.010e+02, 3.160e+02, 3.310e+02, 3.460e+02,\n",
       "       3.610e+02, 3.760e+02, 3.910e+02, 4.060e+02, 4.210e+02, 4.360e+02,\n",
       "       4.510e+02, 4.660e+02, 4.810e+02, 4.960e+02, 5.110e+02, 5.260e+02,\n",
       "       5.410e+02, 5.560e+02, 5.710e+02, 5.860e+02, 6.010e+02, 6.160e+02,\n",
       "       6.310e+02, 6.460e+02, 6.610e+02, 6.760e+02, 6.910e+02, 7.060e+02,\n",
       "       7.210e+02, 7.360e+02, 7.510e+02, 7.660e+02, 7.810e+02, 7.960e+02,\n",
       "       8.110e+02, 8.260e+02, 8.410e+02, 8.560e+02, 8.710e+02, 8.860e+02,\n",
       "       9.010e+02, 9.160e+02, 9.310e+02, 9.460e+02, 9.610e+02, 9.760e+02,\n",
       "       9.910e+02, 1.006e+03, 1.021e+03, 1.036e+03, 1.051e+03, 1.066e+03,\n",
       "       1.081e+03, 1.096e+03, 1.111e+03, 1.126e+03, 1.141e+03, 1.156e+03,\n",
       "       1.171e+03, 1.186e+03, 1.201e+03, 1.216e+03, 1.231e+03, 1.246e+03,\n",
       "       1.261e+03, 1.276e+03, 1.291e+03])"
      ]
     },
     "execution_count": 14,
     "metadata": {},
     "output_type": "execute_result"
    }
   ],
   "source": [
    "msrank_10k_train['query'].unique()"
   ]
  },
  {
   "cell_type": "code",
   "execution_count": 16,
   "metadata": {},
   "outputs": [],
   "source": [
    "from sklearn.preprocessing import StandardScaler\n",
    "\n",
    "for query in msrank_10k_train['query'].unique():\n",
    "    scaler = StandardScaler()\n",
    "    msrank_10k_train.loc[msrank_10k_train['query'] == query, 'feature_2':] = scaler\\\n",
    "    .fit_transform(msrank_10k_train.loc[msrank_10k_train['query'] == query, 'feature_2':])\n",
    "\n",
    "for query in msrank_10k_test['query'].unique():\n",
    "    scaler = StandardScaler()\n",
    "    msrank_10k_test.loc[msrank_10k_test['query'] == query, 'feature_2':] = scaler\\\n",
    "    .fit_transform(msrank_10k_test.loc[msrank_10k_test['query'] == query, 'feature_2':])"
   ]
  },
  {
   "cell_type": "code",
   "execution_count": 17,
   "metadata": {
    "executionInfo": {
     "elapsed": 10,
     "status": "ok",
     "timestamp": 1737644462827,
     "user": {
      "displayName": "Roman Safronenkov",
      "userId": "04023794386653200418"
     },
     "user_tz": -180
    },
    "id": "qCJrMWdKcF5O"
   },
   "outputs": [],
   "source": [
    "x_train = msrank_10k_train.drop(['target', 'query'], axis=1).values\n",
    "y_train = msrank_10k_train['target'].values\n",
    "query_train = msrank_10k_train['query'].values.astype(int)\n",
    "\n",
    "x_test = msrank_10k_test.drop(['target', 'query'], axis=1).values\n",
    "y_test = msrank_10k_test['target'].values\n",
    "query_test = msrank_10k_test['query'].values.astype(int)"
   ]
  },
  {
   "cell_type": "markdown",
   "metadata": {
    "id": "bBNKZIf55U9t"
   },
   "source": [
    "У нас есть датасет, в котором представлены запросы в 1 колонке, релевантности в 0 колонке, остальные колонки - это признаки. Необходимо для RankNet сделать такой датасет, что в рамках одного запроса мы будем видеть пары, если первый более релевантен, значит таргет 1, иначе 0."
   ]
  },
  {
   "cell_type": "code",
   "execution_count": 18,
   "metadata": {
    "colab": {
     "base_uri": "https://localhost:8080/"
    },
    "executionInfo": {
     "elapsed": 9,
     "status": "ok",
     "timestamp": 1737644462827,
     "user": {
      "displayName": "Roman Safronenkov",
      "userId": "04023794386653200418"
     },
     "user_tz": -180
    },
    "id": "_Z94GctE7Yok",
    "outputId": "989f8002-b3b0-4615-b78c-22517990d4f4"
   },
   "outputs": [
    {
     "data": {
      "text/plain": [
       "array([   1,   16,   31,   46,   61,   76,   91,  106,  121,  136,  151,\n",
       "        166,  181,  196,  211,  226,  241,  256,  271,  286,  301,  316,\n",
       "        331,  346,  361,  376,  391,  406,  421,  436,  451,  466,  481,\n",
       "        496,  511,  526,  541,  556,  571,  586,  601,  616,  631,  646,\n",
       "        661,  676,  691,  706,  721,  736,  751,  766,  781,  796,  811,\n",
       "        826,  841,  856,  871,  886,  901,  916,  931,  946,  961,  976,\n",
       "        991, 1006, 1021, 1036, 1051, 1066, 1081, 1096, 1111, 1126, 1141,\n",
       "       1156, 1171, 1186, 1201, 1216, 1231, 1246, 1261, 1276, 1291])"
      ]
     },
     "execution_count": 18,
     "metadata": {},
     "output_type": "execute_result"
    }
   ],
   "source": [
    "np.unique(query_train)"
   ]
  },
  {
   "cell_type": "code",
   "execution_count": 19,
   "metadata": {
    "colab": {
     "base_uri": "https://localhost:8080/"
    },
    "executionInfo": {
     "elapsed": 17422,
     "status": "ok",
     "timestamp": 1737644480242,
     "user": {
      "displayName": "Roman Safronenkov",
      "userId": "04023794386653200418"
     },
     "user_tz": -180
    },
    "id": "xXEhaUR56kXe",
    "outputId": "9956f60f-b881-4d0e-fa2a-b482dd1300e6"
   },
   "outputs": [],
   "source": [
    "# # 1 if i-th score larger than j-th\n",
    "\n",
    "# comparison = []\n",
    "\n",
    "# for query in tqdm(np.unique(query_train)):\n",
    "#     subset = msrank_10k_train[msrank_10k_train['query'] == query]\n",
    "#     indexes = subset.index\n",
    "\n",
    "#     for i, idx1 in enumerate(indexes):\n",
    "#         for idx2 in indexes[i:]:\n",
    "#             val1 = subset.loc[idx1, 'target']\n",
    "#             val2 = subset.loc[idx2, 'target']\n",
    "#             if val1 > val2:\n",
    "#                 comparison.append((query, idx1, idx2, 1))  # i должен быть отранжирован выше j\n",
    "#             elif val1 < val2:\n",
    "#                 comparison.append((query, idx1, idx2, 0))  # j должен быть отранжирован выше i\n",
    "#             else:\n",
    "#                 comparison.append((query, idx1, idx2, 0.5))  # одинаковый ранг\n",
    "\n",
    "# print(f'Length of comparison: {len(comparison)}')\n",
    "# print(f'Classes balance:\\n{pd.Series(np.array([x[3] for x in comparison])).value_counts()}')\n",
    "\n",
    "# comparison[:10]"
   ]
  },
  {
   "cell_type": "code",
   "execution_count": 63,
   "metadata": {},
   "outputs": [
    {
     "name": "stderr",
     "output_type": "stream",
     "text": [
      "100%|██████████████████████████████████████████████████████████████████████████████████| 87/87 [00:12<00:00,  6.79it/s]\n"
     ]
    },
    {
     "data": {
      "text/plain": [
       "[(1291, 9876, 9876, 0.5),\n",
       " (1291, 9876, 9877, 0.5),\n",
       " (1291, 9876, 9878, 0),\n",
       " (1291, 9876, 9879, 0.5),\n",
       " (1291, 9876, 9880, 0.5),\n",
       " (1291, 9876, 9881, 0.5),\n",
       " (1291, 9876, 9882, 0.5),\n",
       " (1291, 9876, 9883, 0),\n",
       " (1291, 9876, 9884, 0.5),\n",
       " (1291, 9876, 9885, 0.5)]"
      ]
     },
     "execution_count": 63,
     "metadata": {},
     "output_type": "execute_result"
    }
   ],
   "source": [
    "# 1 if i-th score larger than j-th\n",
    "# отдельно для каждого запроса\n",
    "\n",
    "comparisons = {}\n",
    "\n",
    "for query in tqdm(np.unique(query_train), position=0, leave=None):\n",
    "    subset = msrank_10k_train[msrank_10k_train['query'] == query]\n",
    "    indexes = subset.index\n",
    "    comparisons[query] = []\n",
    "\n",
    "    for i, idx1 in enumerate(indexes):\n",
    "        # for idx2 in indexes[i+1:]:\n",
    "        for idx2 in indexes:\n",
    "            val1 = subset.loc[idx1, 'target']\n",
    "            val2 = subset.loc[idx2, 'target']\n",
    "            if val1 > val2:\n",
    "                comparisons[query].append((query, idx1, idx2, 1))  # i должен быть отранжирован выше j\n",
    "            elif val1 < val2:\n",
    "                comparisons[query].append((query, idx1, idx2, 0))  # j должен быть отранжирован выше i\n",
    "            else:\n",
    "                comparisons[query].append((query, idx1, idx2, 0.5))  # одинаковый ранг\n",
    "\n",
    "    # print(f'Length of comparison {query}: {len(comparisons[query])}')\n",
    "    # print(f'Classes balance:\\n{pd.Series(np.array([x[3] for x in comparisons[query]])).value_counts()}')\n",
    "\n",
    "comparisons[query][:10]"
   ]
  },
  {
   "cell_type": "code",
   "execution_count": 64,
   "metadata": {},
   "outputs": [
    {
     "data": {
      "text/html": [
       "<div>\n",
       "<style scoped>\n",
       "    .dataframe tbody tr th:only-of-type {\n",
       "        vertical-align: middle;\n",
       "    }\n",
       "\n",
       "    .dataframe tbody tr th {\n",
       "        vertical-align: top;\n",
       "    }\n",
       "\n",
       "    .dataframe thead th {\n",
       "        text-align: right;\n",
       "    }\n",
       "</style>\n",
       "<table border=\"1\" class=\"dataframe\">\n",
       "  <thead>\n",
       "    <tr style=\"text-align: right;\">\n",
       "      <th></th>\n",
       "      <th>target</th>\n",
       "      <th>query</th>\n",
       "      <th>feature_2</th>\n",
       "      <th>feature_3</th>\n",
       "      <th>feature_4</th>\n",
       "      <th>feature_5</th>\n",
       "      <th>feature_6</th>\n",
       "      <th>feature_7</th>\n",
       "      <th>feature_8</th>\n",
       "      <th>feature_9</th>\n",
       "      <th>...</th>\n",
       "      <th>feature_128</th>\n",
       "      <th>feature_129</th>\n",
       "      <th>feature_130</th>\n",
       "      <th>feature_131</th>\n",
       "      <th>feature_132</th>\n",
       "      <th>feature_133</th>\n",
       "      <th>feature_134</th>\n",
       "      <th>feature_135</th>\n",
       "      <th>feature_136</th>\n",
       "      <th>feature_137</th>\n",
       "    </tr>\n",
       "  </thead>\n",
       "  <tbody>\n",
       "    <tr>\n",
       "      <th>9876</th>\n",
       "      <td>0.0</td>\n",
       "      <td>1291.0</td>\n",
       "      <td>0.478644</td>\n",
       "      <td>-0.412082</td>\n",
       "      <td>-0.067505</td>\n",
       "      <td>-0.767129</td>\n",
       "      <td>0.444457</td>\n",
       "      <td>0.478644</td>\n",
       "      <td>-0.412082</td>\n",
       "      <td>-0.067505</td>\n",
       "      <td>...</td>\n",
       "      <td>-0.751362</td>\n",
       "      <td>-0.234745</td>\n",
       "      <td>-0.335436</td>\n",
       "      <td>-1.257367</td>\n",
       "      <td>1.063976</td>\n",
       "      <td>-0.610280</td>\n",
       "      <td>0.853848</td>\n",
       "      <td>0.0</td>\n",
       "      <td>-0.155194</td>\n",
       "      <td>-0.372095</td>\n",
       "    </tr>\n",
       "    <tr>\n",
       "      <th>9877</th>\n",
       "      <td>0.0</td>\n",
       "      <td>1291.0</td>\n",
       "      <td>0.478644</td>\n",
       "      <td>-0.412082</td>\n",
       "      <td>-0.067505</td>\n",
       "      <td>-0.767129</td>\n",
       "      <td>0.444457</td>\n",
       "      <td>0.478644</td>\n",
       "      <td>-0.412082</td>\n",
       "      <td>-0.067505</td>\n",
       "      <td>...</td>\n",
       "      <td>-1.033051</td>\n",
       "      <td>-0.234745</td>\n",
       "      <td>-0.464210</td>\n",
       "      <td>-1.257326</td>\n",
       "      <td>1.088024</td>\n",
       "      <td>-0.655702</td>\n",
       "      <td>-1.008002</td>\n",
       "      <td>0.0</td>\n",
       "      <td>-0.155194</td>\n",
       "      <td>-0.372095</td>\n",
       "    </tr>\n",
       "    <tr>\n",
       "      <th>9878</th>\n",
       "      <td>1.0</td>\n",
       "      <td>1291.0</td>\n",
       "      <td>0.478644</td>\n",
       "      <td>-0.412082</td>\n",
       "      <td>-0.067505</td>\n",
       "      <td>0.792280</td>\n",
       "      <td>0.444457</td>\n",
       "      <td>0.478644</td>\n",
       "      <td>-0.412082</td>\n",
       "      <td>-0.067505</td>\n",
       "      <td>...</td>\n",
       "      <td>0.868354</td>\n",
       "      <td>-0.226583</td>\n",
       "      <td>-0.464210</td>\n",
       "      <td>-1.259872</td>\n",
       "      <td>0.506192</td>\n",
       "      <td>1.910695</td>\n",
       "      <td>2.048535</td>\n",
       "      <td>0.0</td>\n",
       "      <td>-0.155194</td>\n",
       "      <td>-0.372095</td>\n",
       "    </tr>\n",
       "    <tr>\n",
       "      <th>9879</th>\n",
       "      <td>0.0</td>\n",
       "      <td>1291.0</td>\n",
       "      <td>0.478644</td>\n",
       "      <td>1.717007</td>\n",
       "      <td>-0.067505</td>\n",
       "      <td>0.792280</td>\n",
       "      <td>0.444457</td>\n",
       "      <td>0.478644</td>\n",
       "      <td>1.717007</td>\n",
       "      <td>-0.067505</td>\n",
       "      <td>...</td>\n",
       "      <td>1.502156</td>\n",
       "      <td>-0.233817</td>\n",
       "      <td>-0.206662</td>\n",
       "      <td>-1.110848</td>\n",
       "      <td>1.817741</td>\n",
       "      <td>-0.814683</td>\n",
       "      <td>-1.209702</td>\n",
       "      <td>0.0</td>\n",
       "      <td>-0.155194</td>\n",
       "      <td>-0.372095</td>\n",
       "    </tr>\n",
       "    <tr>\n",
       "      <th>9880</th>\n",
       "      <td>0.0</td>\n",
       "      <td>1291.0</td>\n",
       "      <td>0.478644</td>\n",
       "      <td>-0.412082</td>\n",
       "      <td>1.327604</td>\n",
       "      <td>0.792280</td>\n",
       "      <td>0.444457</td>\n",
       "      <td>0.478644</td>\n",
       "      <td>-0.412082</td>\n",
       "      <td>1.327604</td>\n",
       "      <td>...</td>\n",
       "      <td>-0.187982</td>\n",
       "      <td>-0.234745</td>\n",
       "      <td>-0.464210</td>\n",
       "      <td>-1.259215</td>\n",
       "      <td>0.008214</td>\n",
       "      <td>3.591345</td>\n",
       "      <td>0.838333</td>\n",
       "      <td>0.0</td>\n",
       "      <td>-0.155194</td>\n",
       "      <td>-0.372095</td>\n",
       "    </tr>\n",
       "    <tr>\n",
       "      <th>9881</th>\n",
       "      <td>0.0</td>\n",
       "      <td>1291.0</td>\n",
       "      <td>0.478644</td>\n",
       "      <td>-0.412082</td>\n",
       "      <td>-0.067505</td>\n",
       "      <td>0.792280</td>\n",
       "      <td>0.444457</td>\n",
       "      <td>0.478644</td>\n",
       "      <td>-0.412082</td>\n",
       "      <td>-0.067505</td>\n",
       "      <td>...</td>\n",
       "      <td>0.868354</td>\n",
       "      <td>-0.199377</td>\n",
       "      <td>0.952306</td>\n",
       "      <td>-0.481614</td>\n",
       "      <td>-0.043994</td>\n",
       "      <td>-0.474011</td>\n",
       "      <td>0.621117</td>\n",
       "      <td>0.0</td>\n",
       "      <td>-0.155194</td>\n",
       "      <td>-0.372095</td>\n",
       "    </tr>\n",
       "    <tr>\n",
       "      <th>9882</th>\n",
       "      <td>0.0</td>\n",
       "      <td>1291.0</td>\n",
       "      <td>-1.217124</td>\n",
       "      <td>-0.412082</td>\n",
       "      <td>-0.067505</td>\n",
       "      <td>0.792280</td>\n",
       "      <td>-1.392631</td>\n",
       "      <td>-1.217124</td>\n",
       "      <td>-0.412082</td>\n",
       "      <td>-0.067505</td>\n",
       "      <td>...</td>\n",
       "      <td>-0.892207</td>\n",
       "      <td>-0.234745</td>\n",
       "      <td>-0.464210</td>\n",
       "      <td>1.365270</td>\n",
       "      <td>0.418512</td>\n",
       "      <td>-0.474011</td>\n",
       "      <td>-0.852847</td>\n",
       "      <td>0.0</td>\n",
       "      <td>-0.155194</td>\n",
       "      <td>-0.372095</td>\n",
       "    </tr>\n",
       "    <tr>\n",
       "      <th>9883</th>\n",
       "      <td>1.0</td>\n",
       "      <td>1291.0</td>\n",
       "      <td>0.478644</td>\n",
       "      <td>-0.412082</td>\n",
       "      <td>1.327604</td>\n",
       "      <td>2.351690</td>\n",
       "      <td>0.444457</td>\n",
       "      <td>0.478644</td>\n",
       "      <td>-0.412082</td>\n",
       "      <td>1.327604</td>\n",
       "      <td>...</td>\n",
       "      <td>0.516242</td>\n",
       "      <td>-0.234745</td>\n",
       "      <td>-0.335436</td>\n",
       "      <td>-1.170679</td>\n",
       "      <td>1.426349</td>\n",
       "      <td>-0.337742</td>\n",
       "      <td>1.071064</td>\n",
       "      <td>0.0</td>\n",
       "      <td>-0.155194</td>\n",
       "      <td>-0.372095</td>\n",
       "    </tr>\n",
       "    <tr>\n",
       "      <th>9884</th>\n",
       "      <td>0.0</td>\n",
       "      <td>1291.0</td>\n",
       "      <td>0.478644</td>\n",
       "      <td>-0.412082</td>\n",
       "      <td>-1.462614</td>\n",
       "      <td>-0.767129</td>\n",
       "      <td>0.444457</td>\n",
       "      <td>0.478644</td>\n",
       "      <td>-0.412082</td>\n",
       "      <td>-1.462614</td>\n",
       "      <td>...</td>\n",
       "      <td>-1.033051</td>\n",
       "      <td>-0.234745</td>\n",
       "      <td>-0.464210</td>\n",
       "      <td>-0.305077</td>\n",
       "      <td>-1.228906</td>\n",
       "      <td>0.343603</td>\n",
       "      <td>1.738227</td>\n",
       "      <td>0.0</td>\n",
       "      <td>-0.155194</td>\n",
       "      <td>-0.372095</td>\n",
       "    </tr>\n",
       "  </tbody>\n",
       "</table>\n",
       "<p>9 rows × 138 columns</p>\n",
       "</div>"
      ],
      "text/plain": [
       "      target   query  feature_2  feature_3  feature_4  feature_5  feature_6  \\\n",
       "9876     0.0  1291.0   0.478644  -0.412082  -0.067505  -0.767129   0.444457   \n",
       "9877     0.0  1291.0   0.478644  -0.412082  -0.067505  -0.767129   0.444457   \n",
       "9878     1.0  1291.0   0.478644  -0.412082  -0.067505   0.792280   0.444457   \n",
       "9879     0.0  1291.0   0.478644   1.717007  -0.067505   0.792280   0.444457   \n",
       "9880     0.0  1291.0   0.478644  -0.412082   1.327604   0.792280   0.444457   \n",
       "9881     0.0  1291.0   0.478644  -0.412082  -0.067505   0.792280   0.444457   \n",
       "9882     0.0  1291.0  -1.217124  -0.412082  -0.067505   0.792280  -1.392631   \n",
       "9883     1.0  1291.0   0.478644  -0.412082   1.327604   2.351690   0.444457   \n",
       "9884     0.0  1291.0   0.478644  -0.412082  -1.462614  -0.767129   0.444457   \n",
       "\n",
       "      feature_7  feature_8  feature_9  ...  feature_128  feature_129  \\\n",
       "9876   0.478644  -0.412082  -0.067505  ...    -0.751362    -0.234745   \n",
       "9877   0.478644  -0.412082  -0.067505  ...    -1.033051    -0.234745   \n",
       "9878   0.478644  -0.412082  -0.067505  ...     0.868354    -0.226583   \n",
       "9879   0.478644   1.717007  -0.067505  ...     1.502156    -0.233817   \n",
       "9880   0.478644  -0.412082   1.327604  ...    -0.187982    -0.234745   \n",
       "9881   0.478644  -0.412082  -0.067505  ...     0.868354    -0.199377   \n",
       "9882  -1.217124  -0.412082  -0.067505  ...    -0.892207    -0.234745   \n",
       "9883   0.478644  -0.412082   1.327604  ...     0.516242    -0.234745   \n",
       "9884   0.478644  -0.412082  -1.462614  ...    -1.033051    -0.234745   \n",
       "\n",
       "      feature_130  feature_131  feature_132  feature_133  feature_134  \\\n",
       "9876    -0.335436    -1.257367     1.063976    -0.610280     0.853848   \n",
       "9877    -0.464210    -1.257326     1.088024    -0.655702    -1.008002   \n",
       "9878    -0.464210    -1.259872     0.506192     1.910695     2.048535   \n",
       "9879    -0.206662    -1.110848     1.817741    -0.814683    -1.209702   \n",
       "9880    -0.464210    -1.259215     0.008214     3.591345     0.838333   \n",
       "9881     0.952306    -0.481614    -0.043994    -0.474011     0.621117   \n",
       "9882    -0.464210     1.365270     0.418512    -0.474011    -0.852847   \n",
       "9883    -0.335436    -1.170679     1.426349    -0.337742     1.071064   \n",
       "9884    -0.464210    -0.305077    -1.228906     0.343603     1.738227   \n",
       "\n",
       "      feature_135  feature_136  feature_137  \n",
       "9876          0.0    -0.155194    -0.372095  \n",
       "9877          0.0    -0.155194    -0.372095  \n",
       "9878          0.0    -0.155194    -0.372095  \n",
       "9879          0.0    -0.155194    -0.372095  \n",
       "9880          0.0    -0.155194    -0.372095  \n",
       "9881          0.0    -0.155194    -0.372095  \n",
       "9882          0.0    -0.155194    -0.372095  \n",
       "9883          0.0    -0.155194    -0.372095  \n",
       "9884          0.0    -0.155194    -0.372095  \n",
       "\n",
       "[9 rows x 138 columns]"
      ]
     },
     "execution_count": 64,
     "metadata": {},
     "output_type": "execute_result"
    }
   ],
   "source": [
    "msrank_10k_train.iloc[9876:9885]"
   ]
  },
  {
   "cell_type": "code",
   "execution_count": 65,
   "metadata": {
    "executionInfo": {
     "elapsed": 298,
     "status": "ok",
     "timestamp": 1737644480537,
     "user": {
      "displayName": "Roman Safronenkov",
      "userId": "04023794386653200418"
     },
     "user_tz": -180
    },
    "id": "YDOVxkbh-fHk"
   },
   "outputs": [],
   "source": [
    "class MSRankPairDataset(torch.utils.data.Dataset):\n",
    "    def __init__(self, data, comparison):\n",
    "        super().__init__()\n",
    "        self.data = data\n",
    "        self.comparison = comparison\n",
    "\n",
    "    def __len__(self):\n",
    "        return len(self.comparison)\n",
    "\n",
    "    def __getitem__(self, index):\n",
    "        query, i, j, target = self.comparison[index]\n",
    "        x_i, x_j = self.data.loc[i, 'feature_2':], self.data.loc[j, 'feature_2':]\n",
    "\n",
    "        return torch.as_tensor(query, dtype=torch.float32),\\\n",
    "        torch.as_tensor(x_i.values, dtype=torch.float32),\\\n",
    "        torch.as_tensor(x_j.values, dtype=torch.float32),\\\n",
    "        torch.as_tensor(target, dtype=torch.float32)"
   ]
  },
  {
   "cell_type": "code",
   "execution_count": 66,
   "metadata": {
    "executionInfo": {
     "elapsed": 6,
     "status": "ok",
     "timestamp": 1737644480537,
     "user": {
      "displayName": "Roman Safronenkov",
      "userId": "04023794386653200418"
     },
     "user_tz": -180
    },
    "id": "cc0uSEEv1Gfr"
   },
   "outputs": [],
   "source": [
    "msrank_dataset = MSRankPairDataset(msrank_10k_train, comparisons[query])\n",
    "msrank_dataloader = torch.utils.data.DataLoader(msrank_dataset, batch_size=128, shuffle=True)"
   ]
  },
  {
   "cell_type": "code",
   "execution_count": 67,
   "metadata": {
    "colab": {
     "base_uri": "https://localhost:8080/"
    },
    "executionInfo": {
     "elapsed": 5,
     "status": "ok",
     "timestamp": 1737644480537,
     "user": {
      "displayName": "Roman Safronenkov",
      "userId": "04023794386653200418"
     },
     "user_tz": -180
    },
    "id": "BFxl_Shj4kPQ",
    "outputId": "05ed69a2-aa2c-40d8-b2a0-13836c93eaef"
   },
   "outputs": [
    {
     "name": "stdout",
     "output_type": "stream",
     "text": [
      "tensor([1291., 1291., 1291., 1291., 1291., 1291., 1291., 1291., 1291., 1291.,\n",
      "        1291., 1291., 1291., 1291., 1291., 1291., 1291., 1291., 1291., 1291.,\n",
      "        1291., 1291., 1291., 1291., 1291., 1291., 1291., 1291., 1291., 1291.,\n",
      "        1291., 1291., 1291., 1291., 1291., 1291., 1291., 1291., 1291., 1291.,\n",
      "        1291., 1291., 1291., 1291., 1291., 1291., 1291., 1291., 1291., 1291.,\n",
      "        1291., 1291., 1291., 1291., 1291., 1291., 1291., 1291., 1291., 1291.,\n",
      "        1291., 1291., 1291., 1291., 1291., 1291., 1291., 1291., 1291., 1291.,\n",
      "        1291., 1291., 1291., 1291., 1291., 1291., 1291., 1291., 1291., 1291.,\n",
      "        1291., 1291., 1291., 1291., 1291., 1291., 1291., 1291., 1291., 1291.,\n",
      "        1291., 1291., 1291., 1291., 1291., 1291., 1291., 1291., 1291., 1291.,\n",
      "        1291., 1291., 1291., 1291., 1291., 1291., 1291., 1291., 1291., 1291.,\n",
      "        1291., 1291., 1291., 1291., 1291., 1291., 1291., 1291., 1291., 1291.,\n",
      "        1291., 1291., 1291., 1291., 1291., 1291., 1291., 1291.])\n",
      "tensor([[ 0.4786, -0.4121,  1.3276,  ...,  0.0000, -0.1273,  0.1926],\n",
      "        [ 0.4786, -0.4121,  1.3276,  ...,  0.0000, -0.1552, -0.3721],\n",
      "        [-2.9129, -0.4121, -1.4626,  ...,  0.0000, -0.1552, -0.3721],\n",
      "        ...,\n",
      "        [ 0.4786, -0.4121,  1.3276,  ...,  0.0000, -0.1552, -0.3721],\n",
      "        [ 0.4786, -0.4121, -1.4626,  ...,  0.0000, -0.1420,  0.3397],\n",
      "        [ 0.4786, -0.4121,  1.3276,  ...,  0.0000, -0.1552, -0.3721]])\n",
      "tensor([[ 0.4786, -0.4121, -1.4626,  ...,  0.0000, -0.1552, -0.3721],\n",
      "        [ 0.4786, -0.4121, -0.0675,  ...,  0.0000, -0.1552, -0.3721],\n",
      "        [ 0.4786,  1.7170, -0.0675,  ...,  0.0000, -0.1552, -0.3721],\n",
      "        ...,\n",
      "        [ 0.4786, -0.4121, -0.0675,  ...,  0.0000, -0.1552, -0.3721],\n",
      "        [ 0.4786,  1.7170,  1.3276,  ...,  0.0000, -0.1453,  0.2650],\n",
      "        [ 0.4786, -0.4121, -0.0675,  ...,  0.0000, -0.1552, -0.3721]])\n",
      "tensor([0.5000, 1.0000, 0.5000, 1.0000, 1.0000, 0.0000, 0.5000, 0.5000, 0.0000,\n",
      "        1.0000, 0.5000, 1.0000, 0.0000, 1.0000, 0.0000, 0.0000, 1.0000, 0.0000,\n",
      "        0.0000, 1.0000, 0.5000, 0.5000, 0.0000, 0.5000, 0.0000, 0.0000, 0.5000,\n",
      "        1.0000, 0.0000, 1.0000, 0.0000, 0.0000, 0.0000, 0.0000, 0.0000, 0.5000,\n",
      "        1.0000, 0.5000, 0.5000, 0.0000, 0.0000, 0.5000, 0.5000, 0.0000, 1.0000,\n",
      "        0.5000, 0.0000, 0.0000, 0.5000, 0.5000, 0.0000, 1.0000, 1.0000, 0.0000,\n",
      "        1.0000, 0.0000, 0.0000, 0.0000, 0.0000, 0.5000, 0.0000, 0.0000, 0.5000,\n",
      "        0.0000, 1.0000, 0.5000, 0.5000, 0.5000, 0.5000, 1.0000, 1.0000, 1.0000,\n",
      "        0.5000, 0.5000, 0.0000, 0.5000, 0.5000, 0.5000, 0.0000, 0.5000, 0.5000,\n",
      "        0.5000, 0.0000, 1.0000, 0.5000, 1.0000, 0.5000, 0.5000, 0.5000, 0.5000,\n",
      "        1.0000, 0.0000, 1.0000, 0.5000, 1.0000, 0.5000, 0.5000, 0.0000, 0.5000,\n",
      "        0.0000, 0.5000, 0.5000, 0.5000, 0.5000, 0.0000, 1.0000, 0.0000, 0.5000,\n",
      "        1.0000, 0.0000, 0.0000, 0.0000, 0.0000, 0.5000, 0.5000, 0.5000, 1.0000,\n",
      "        0.5000, 0.5000, 0.5000, 0.5000, 0.5000, 0.0000, 0.5000, 1.0000, 0.5000,\n",
      "        0.0000, 1.0000])\n"
     ]
    }
   ],
   "source": [
    "for query, first, second, tgt in msrank_dataloader:\n",
    "    print(query)\n",
    "    print(first)\n",
    "    print(second)\n",
    "    print(tgt)\n",
    "    break"
   ]
  },
  {
   "cell_type": "code",
   "execution_count": 68,
   "metadata": {
    "executionInfo": {
     "elapsed": 4,
     "status": "ok",
     "timestamp": 1737644480537,
     "user": {
      "displayName": "Roman Safronenkov",
      "userId": "04023794386653200418"
     },
     "user_tz": -180
    },
    "id": "_oLFLIEX4j54"
   },
   "outputs": [
    {
     "data": {
      "text/plain": [
       "tensor(0.6999, grad_fn=<BinaryCrossEntropyBackward0>)"
      ]
     },
     "execution_count": 68,
     "metadata": {},
     "output_type": "execute_result"
    }
   ],
   "source": [
    "# test the model works\n",
    "\n",
    "ranknet_model = RankNet(num_input_features=136)\n",
    "\n",
    "criterion = torch.nn.BCELoss()\n",
    "\n",
    "preds = ranknet_model(first, second)\n",
    "criterion(preds, tgt.view(-1, 1))"
   ]
  },
  {
   "cell_type": "markdown",
   "metadata": {},
   "source": [
    "### Нужно пройтись по каждому запросу в обучении"
   ]
  },
  {
   "cell_type": "code",
   "execution_count": 69,
   "metadata": {},
   "outputs": [],
   "source": [
    "datasets = {}\n",
    "dataloaders = {}\n",
    "\n",
    "for query in np.unique(query_train):\n",
    "    subset = msrank_10k_train.loc[msrank_10k_train['query'] == query]\n",
    "    dataset = MSRankPairDataset(data=subset, comparison=comparisons[query])\n",
    "    datasets[query] = dataset\n",
    "    dataloaders[query] = torch.utils.data.DataLoader(dataset, batch_size=128, shuffle=True)"
   ]
  },
  {
   "cell_type": "code",
   "execution_count": 70,
   "metadata": {
    "executionInfo": {
     "elapsed": 3,
     "status": "ok",
     "timestamp": 1737644480537,
     "user": {
      "displayName": "Roman Safronenkov",
      "userId": "04023794386653200418"
     },
     "user_tz": -180
    },
    "id": "RanRTdNKOk_W"
   },
   "outputs": [],
   "source": [
    "# случайная подвыборка тестового датасета\n",
    "\n",
    "# idx = np.random.choice(msrank_10k_test.shape[0], 1000)\n",
    "# test_x = torch.as_tensor(msrank_10k_test.loc[idx, 'feature_2':].values, dtype=torch.float32).to(device)\n",
    "# test_y = torch.as_tensor(msrank_10k_test.loc[idx, 'target'].values, dtype=torch.float32).to(device)\n",
    "# test_query = msrank_10k_test.loc[idx, 'query'].values\n",
    "\n",
    "# N_valid = test_x.shape[0]"
   ]
  },
  {
   "cell_type": "code",
   "execution_count": 71,
   "metadata": {},
   "outputs": [],
   "source": [
    "def compute_gain(y_value: float, gain_scheme: str) -> float:\n",
    "  assert gain_scheme in ['const', 'exp2']\n",
    "  if gain_scheme == 'const':\n",
    "      return y_value\n",
    "  elif gain_scheme == 'exp2':\n",
    "      return 2 ** y_value - 1\n",
    "\n",
    "\n",
    "def dcg_k(ys_true: Tensor, ys_pred: Tensor, gain_scheme: str, k: int) -> float:\n",
    "    dcg_value = 0\n",
    "    _, sorted_ys_pred_idx = sort(ys_pred, descending=True)\n",
    "    for i, rel in enumerate(ys_true[sorted_ys_pred_idx][:k]):\n",
    "        dcg_value += compute_gain(rel, gain_scheme=gain_scheme) / log2(i+2)\n",
    "    return dcg_value\n",
    "\n",
    "\n",
    "def ndcg_k(ys_true: Tensor, ys_pred: Tensor, gain_scheme: str = 'const', k=5) -> float:\n",
    "    dcg_value = dcg_k(ys_true, ys_pred, gain_scheme=gain_scheme, k=k)\n",
    "    perfect_dcg = dcg_k(ys_true, ys_true, gain_scheme=gain_scheme, k=k)\n",
    "\n",
    "    return dcg_value / perfect_dcg"
   ]
  },
  {
   "cell_type": "code",
   "execution_count": 75,
   "metadata": {},
   "outputs": [],
   "source": [
    "ranknet_model = RankNet(num_input_features=136, hidden_dim=32)\n",
    "ranknet_model.to(device)\n",
    "\n",
    "criterion = torch.nn.BCELoss()\n",
    "optimizer = torch.optim.Adam(ranknet_model.parameters())"
   ]
  },
  {
   "cell_type": "code",
   "execution_count": 76,
   "metadata": {},
   "outputs": [
    {
     "name": "stdout",
     "output_type": "stream",
     "text": [
      "Epoch: 0\n",
      "Train loss: 0.5657872904218946\n",
      "epoch: 1.\tNumber of swapped pairs: 4608.0/9453\tnDCG_at_10: 0.2531\n",
      "epoch: 1.\tNumber of swapped pairs: 1550.0/4371\tnDCG_at_10: 0.3187\n",
      "epoch: 1.\tNumber of swapped pairs: 1832.0/3655\tnDCG_at_10: 0.0881\n",
      "epoch: 1.\tNumber of swapped pairs: 4735.0/10878\tnDCG_at_10: 0.3027\n",
      "epoch: 1.\tNumber of swapped pairs: 3109.0/7503\tnDCG_at_10: 0.6334\n",
      "epoch: 1.\tNumber of swapped pairs: 5050.0/14028\tnDCG_at_10: 0.5545\n",
      "epoch: 1.\tNumber of swapped pairs: 3579.0/7260\tnDCG_at_10: 0.3395\n",
      "epoch: 1.\tNumber of swapped pairs: 3492.0/9316\tnDCG_at_10: 0.4362\n",
      "epoch: 1.\tNumber of swapped pairs: 641.0/1711\tnDCG_at_10: 0.3176\n",
      "epoch: 1.\tNumber of swapped pairs: 2766.0/6555\tnDCG_at_10: 0.0000\n",
      "epoch: 1.\tNumber of swapped pairs: 4067.0/8646\tnDCG_at_10: 0.1328\n",
      "epoch: 1.\tNumber of swapped pairs: 1596.0/3570\tnDCG_at_10: 0.2582\n",
      "epoch: 1.\tNumber of swapped pairs: 8558.0/19503\tnDCG_at_10: 0.2516\n",
      "epoch: 1.\tNumber of swapped pairs: 3646.0/7875\tnDCG_at_10: 0.0848\n",
      "epoch: 1.\tNumber of swapped pairs: 4086.0/7875\tnDCG_at_10: 0.1299\n",
      "epoch: 1.\tNumber of swapped pairs: 4633.0/9591\tnDCG_at_10: 0.4392\n",
      "epoch: 1.\tNumber of swapped pairs: 1753.0/4005\tnDCG_at_10: 0.1357\n",
      "epoch: 1.\tNumber of swapped pairs: 3343.0/7503\tnDCG_at_10: 0.2996\n",
      "epoch: 1.\tNumber of swapped pairs: 7680.0/17205\tnDCG_at_10: 0.4702\n",
      "epoch: 1.\tNumber of swapped pairs: 2698.0/6903\tnDCG_at_10: 0.5794\n",
      "epoch: 1.\tNumber of swapped pairs: 183.0/435\tnDCG_at_10: 0.5525\n",
      "epoch: 1.\tNumber of swapped pairs: 3447.0/7875\tnDCG_at_10: 0.3237\n",
      "epoch: 1.\tNumber of swapped pairs: 455.0/861\tnDCG_at_10: 0.2456\n",
      "epoch: 1.\tNumber of swapped pairs: 7002.0/13695\tnDCG_at_10: 0.4797\n",
      "epoch: 1.\tNumber of swapped pairs: 1481.0/3003\tnDCG_at_10: 0.3284\n",
      "epoch: 1.\tNumber of swapped pairs: 1418.0/2926\tnDCG_at_10: 0.1008\n",
      "epoch: 1.\tNumber of swapped pairs: 5442.0/11628\tnDCG_at_10: 0.4165\n",
      "epoch: 1.\tNumber of swapped pairs: 1477.0/3321\tnDCG_at_10: 0.6171\n",
      "epoch: 1.\tNumber of swapped pairs: 3152.0/7021\tnDCG_at_10: 0.1471\n",
      "epoch: 1.\tNumber of swapped pairs: 2189.0/4371\tnDCG_at_10: 0.0864\n",
      "epoch: 1.\tNumber of swapped pairs: 454.0/903\tnDCG_at_10: 0.2977\n",
      "epoch: 1.\tNumber of swapped pairs: 2579.0/6903\tnDCG_at_10: 0.8170\n",
      "epoch: 1.\tNumber of swapped pairs: 3399.0/6786\tnDCG_at_10: 0.5026\n",
      "epoch: 1.\tNumber of swapped pairs: 13393.0/26106\tnDCG_at_10: 0.0313\n",
      "epoch: 1.\tNumber of swapped pairs: 7988.0/16836\tnDCG_at_10: 0.2496\n",
      "epoch: 1.\tNumber of swapped pairs: 2403.0/4465\tnDCG_at_10: 0.3791\n",
      "epoch: 1.\tNumber of swapped pairs: 1708.0/4095\tnDCG_at_10: 0.5378\n",
      "epoch: 1.\tNumber of swapped pairs: 2389.0/5995\tnDCG_at_10: 0.2459\n",
      "epoch: 1.\tNumber of swapped pairs: 4612.0/11781\tnDCG_at_10: 0.6097\n",
      "epoch: 1.\tNumber of swapped pairs: 5655.0/13041\tnDCG_at_10: 0.3382\n",
      "epoch: 1.\tNumber of swapped pairs: 3504.0/9045\tnDCG_at_10: 0.5696\n",
      "epoch: 1.\tNumber of swapped pairs: 517.0/1596\tnDCG_at_10: 0.6910\n",
      "epoch: 1.\tNumber of swapped pairs: 1008.0/2211\tnDCG_at_10: 0.2622\n",
      "epoch: 1.\tNumber of swapped pairs: 34451.0/68265\tnDCG_at_10: 0.2708\n",
      "epoch: 1.\tNumber of swapped pairs: 2227.0/5151\tnDCG_at_10: 0.0000\n",
      "epoch: 1.\tNumber of swapped pairs: 2191.0/4950\tnDCG_at_10: 0.3568\n",
      "epoch: 1.\tNumber of swapped pairs: 1052.0/2556\tnDCG_at_10: 0.3832\n",
      "epoch: 1.\tNumber of swapped pairs: 7654.0/16471\tnDCG_at_10: 0.4547\n",
      "epoch: 1.\tNumber of swapped pairs: 1144.0/3570\tnDCG_at_10: 0.5317\n",
      "epoch: 1.\tNumber of swapped pairs: 12038.0/25425\tnDCG_at_10: 0.1325\n",
      "epoch: 1.\tNumber of swapped pairs: 11827.0/26565\tnDCG_at_10: 0.0384\n",
      "epoch: 1.\tNumber of swapped pairs: 743.0/1596\tnDCG_at_10: 0.0000\n",
      "epoch: 1.\tNumber of swapped pairs: 3954.0/8256\tnDCG_at_10: 0.1984\n",
      "epoch: 1.\tNumber of swapped pairs: 824.0/2850\tnDCG_at_10: 0.6882\n",
      "epoch: 1.\tNumber of swapped pairs: 1583.0/3240\tnDCG_at_10: 0.1138\n",
      "epoch: 1.\tNumber of swapped pairs: 783.0/1540\tnDCG_at_10: 0.5654\n",
      "epoch: 1.\tNumber of swapped pairs: 1003.0/2145\tnDCG_at_10: 0.4129\n",
      "epoch: 1.\tNumber of swapped pairs: 3792.0/7503\tnDCG_at_10: 0.0633\n",
      "epoch: 1.\tNumber of swapped pairs: 3288.0/7626\tnDCG_at_10: 0.4912\n",
      "epoch: 1.\tNumber of swapped pairs: 2641.0/6555\tnDCG_at_10: 0.3821\n",
      "epoch: 1.\tNumber of swapped pairs: 6906.0/15576\tnDCG_at_10: 0.4081\n",
      "epoch: 1.\tNumber of swapped pairs: 2053.0/4005\tnDCG_at_10: 0.3949\n",
      "epoch: 1.\tNumber of swapped pairs: 2033.0/4656\tnDCG_at_10: 0.4566\n",
      "epoch: 1.\tNumber of swapped pairs: 545.0/1326\tnDCG_at_10: 0.2745\n",
      "epoch: 1.\tNumber of swapped pairs: 1688.0/4560\tnDCG_at_10: 0.6905\n",
      "epoch: 1.\tNumber of swapped pairs: 2128.0/5356\tnDCG_at_10: 0.5653\n",
      "epoch: 1.\tNumber of swapped pairs: 5103.0/10011\tnDCG_at_10: 0.0318\n",
      "epoch: 1.\tNumber of swapped pairs: 1621.0/3741\tnDCG_at_10: 0.4616\n",
      "epoch: 1.\tNumber of swapped pairs: 2543.0/5050\tnDCG_at_10: 0.6397\n",
      "epoch: 1.\tNumber of swapped pairs: 1605.0/3916\tnDCG_at_10: 0.5163\n",
      "epoch: 1.\tNumber of swapped pairs: 1217.0/2628\tnDCG_at_10: 0.2583\n",
      "epoch: 1.\tNumber of swapped pairs: 6170.0/14028\tnDCG_at_10: 0.5083\n",
      "epoch: 1.\tNumber of swapped pairs: 347.0/903\tnDCG_at_10: 0.3809\n",
      "epoch: 1.\tNumber of swapped pairs: 3785.0/8911\tnDCG_at_10: 0.2354\n",
      "epoch: 1.\tNumber of swapped pairs: 693.0/1275\tnDCG_at_10: 0.0762\n",
      "epoch: 1.\tNumber of swapped pairs: 978.0/2211\tnDCG_at_10: 0.5338\n",
      "epoch: 1.\tNumber of swapped pairs: 376.0/820\tnDCG_at_10: 0.3195\n",
      "epoch: 1.\tNumber of swapped pairs: 2887.0/6786\tnDCG_at_10: 0.3516\n",
      "epoch: 1.\tNumber of swapped pairs: 1382.0/3240\tnDCG_at_10: 0.6937\n",
      "epoch: 1.\tNumber of swapped pairs: 1368.0/3160\tnDCG_at_10: 0.5181\n",
      "epoch: 1.\tNumber of swapped pairs: 2003.0/4560\tnDCG_at_10: 0.1803\n",
      "epoch: 1.\tNumber of swapped pairs: 5783.0/13203\tnDCG_at_10: 0.2515\n",
      "epoch: 1.\tNumber of swapped pairs: 1502.0/4186\tnDCG_at_10: 0.4155\n",
      "epoch: 1.\tNumber of swapped pairs: 5795.0/13695\tnDCG_at_10: 0.6693\n",
      "epoch: 1.\tNumber of swapped pairs: 266.0/861\tnDCG_at_10: 0.6361\n",
      "epoch: 1.\tNumber of swapped pairs: 5495.0/12090\tnDCG_at_10: 0.3783\n",
      "epoch: 1.\tNumber of swapped pairs: 4901.0/12246\tnDCG_at_10: 0.5748\n",
      "epoch: 1.\tNumber of swapped pairs: nan/1\tnDCG_at_10: 1.0000\n",
      "Mean NDCG: 0.3677160143852234\n",
      "Epoch: 1\n",
      "Train loss: 0.5680790420582511\n",
      "epoch: 2.\tNumber of swapped pairs: 4585.0/9453\tnDCG_at_10: 0.2242\n",
      "epoch: 2.\tNumber of swapped pairs: 1664.0/4371\tnDCG_at_10: 0.5253\n",
      "epoch: 2.\tNumber of swapped pairs: 1722.0/3655\tnDCG_at_10: 0.1145\n",
      "epoch: 2.\tNumber of swapped pairs: 4507.0/10878\tnDCG_at_10: 0.4975\n",
      "epoch: 2.\tNumber of swapped pairs: 2928.0/7503\tnDCG_at_10: 0.5129\n",
      "epoch: 2.\tNumber of swapped pairs: 5007.0/14028\tnDCG_at_10: 0.5538\n",
      "epoch: 2.\tNumber of swapped pairs: 3326.0/7260\tnDCG_at_10: 0.3700\n",
      "epoch: 2.\tNumber of swapped pairs: 3421.0/9316\tnDCG_at_10: 0.5113\n",
      "epoch: 2.\tNumber of swapped pairs: 612.0/1711\tnDCG_at_10: 0.3047\n",
      "epoch: 2.\tNumber of swapped pairs: 2638.0/6555\tnDCG_at_10: 0.4335\n",
      "epoch: 2.\tNumber of swapped pairs: 3454.0/8646\tnDCG_at_10: 0.2704\n",
      "epoch: 2.\tNumber of swapped pairs: 1423.0/3570\tnDCG_at_10: 0.3496\n",
      "epoch: 2.\tNumber of swapped pairs: 8866.0/19503\tnDCG_at_10: 0.2672\n",
      "epoch: 2.\tNumber of swapped pairs: 3602.0/7875\tnDCG_at_10: 0.0959\n",
      "epoch: 2.\tNumber of swapped pairs: 4201.0/7875\tnDCG_at_10: 0.2394\n",
      "epoch: 2.\tNumber of swapped pairs: 3894.0/9591\tnDCG_at_10: 0.4950\n",
      "epoch: 2.\tNumber of swapped pairs: 1698.0/4005\tnDCG_at_10: 0.1815\n",
      "epoch: 2.\tNumber of swapped pairs: 3218.0/7503\tnDCG_at_10: 0.2280\n",
      "epoch: 2.\tNumber of swapped pairs: 8114.0/17205\tnDCG_at_10: 0.4724\n",
      "epoch: 2.\tNumber of swapped pairs: 3066.0/6903\tnDCG_at_10: 0.5281\n",
      "epoch: 2.\tNumber of swapped pairs: 167.0/435\tnDCG_at_10: 0.5423\n",
      "epoch: 2.\tNumber of swapped pairs: 3432.0/7875\tnDCG_at_10: 0.3508\n",
      "epoch: 2.\tNumber of swapped pairs: 412.0/861\tnDCG_at_10: 0.3149\n",
      "epoch: 2.\tNumber of swapped pairs: 7017.0/13695\tnDCG_at_10: 0.3333\n",
      "epoch: 2.\tNumber of swapped pairs: 1356.0/3003\tnDCG_at_10: 0.2660\n",
      "epoch: 2.\tNumber of swapped pairs: 1166.0/2926\tnDCG_at_10: 0.1835\n",
      "epoch: 2.\tNumber of swapped pairs: 5185.0/11628\tnDCG_at_10: 0.3514\n",
      "epoch: 2.\tNumber of swapped pairs: 1533.0/3321\tnDCG_at_10: 0.6023\n",
      "epoch: 2.\tNumber of swapped pairs: 3014.0/7021\tnDCG_at_10: 0.0975\n",
      "epoch: 2.\tNumber of swapped pairs: 1950.0/4371\tnDCG_at_10: 0.1459\n",
      "epoch: 2.\tNumber of swapped pairs: 341.0/903\tnDCG_at_10: 0.3402\n",
      "epoch: 2.\tNumber of swapped pairs: 2768.0/6903\tnDCG_at_10: 0.7192\n",
      "epoch: 2.\tNumber of swapped pairs: 3327.0/6786\tnDCG_at_10: 0.4652\n",
      "epoch: 2.\tNumber of swapped pairs: 12966.0/26106\tnDCG_at_10: 0.2313\n",
      "epoch: 2.\tNumber of swapped pairs: 7472.0/16836\tnDCG_at_10: 0.3196\n",
      "epoch: 2.\tNumber of swapped pairs: 2088.0/4465\tnDCG_at_10: 0.2608\n",
      "epoch: 2.\tNumber of swapped pairs: 1571.0/4095\tnDCG_at_10: 0.5922\n",
      "epoch: 2.\tNumber of swapped pairs: 2351.0/5995\tnDCG_at_10: 0.1870\n",
      "epoch: 2.\tNumber of swapped pairs: 4898.0/11781\tnDCG_at_10: 0.4292\n",
      "epoch: 2.\tNumber of swapped pairs: 5981.0/13041\tnDCG_at_10: 0.3084\n",
      "epoch: 2.\tNumber of swapped pairs: 3401.0/9045\tnDCG_at_10: 0.4749\n",
      "epoch: 2.\tNumber of swapped pairs: 414.0/1596\tnDCG_at_10: 0.5253\n",
      "epoch: 2.\tNumber of swapped pairs: 966.0/2211\tnDCG_at_10: 0.3828\n",
      "epoch: 2.\tNumber of swapped pairs: 36507.0/68265\tnDCG_at_10: 0.3496\n",
      "epoch: 2.\tNumber of swapped pairs: 2551.0/5151\tnDCG_at_10: 0.0000\n",
      "epoch: 2.\tNumber of swapped pairs: 2249.0/4950\tnDCG_at_10: 0.3508\n",
      "epoch: 2.\tNumber of swapped pairs: 961.0/2556\tnDCG_at_10: 0.4415\n",
      "epoch: 2.\tNumber of swapped pairs: 7066.0/16471\tnDCG_at_10: 0.7693\n",
      "epoch: 2.\tNumber of swapped pairs: 1214.0/3570\tnDCG_at_10: 0.5064\n",
      "epoch: 2.\tNumber of swapped pairs: 12074.0/25425\tnDCG_at_10: 0.2627\n",
      "epoch: 2.\tNumber of swapped pairs: 12300.0/26565\tnDCG_at_10: 0.0714\n",
      "epoch: 2.\tNumber of swapped pairs: 733.0/1596\tnDCG_at_10: 0.3059\n",
      "epoch: 2.\tNumber of swapped pairs: 3738.0/8256\tnDCG_at_10: 0.1766\n",
      "epoch: 2.\tNumber of swapped pairs: 882.0/2850\tnDCG_at_10: 0.4108\n",
      "epoch: 2.\tNumber of swapped pairs: 1593.0/3240\tnDCG_at_10: 0.1804\n",
      "epoch: 2.\tNumber of swapped pairs: 706.0/1540\tnDCG_at_10: 0.3189\n",
      "epoch: 2.\tNumber of swapped pairs: 810.0/2145\tnDCG_at_10: 0.5410\n",
      "epoch: 2.\tNumber of swapped pairs: 3875.0/7503\tnDCG_at_10: 0.1999\n",
      "epoch: 2.\tNumber of swapped pairs: 3044.0/7626\tnDCG_at_10: 0.7050\n",
      "epoch: 2.\tNumber of swapped pairs: 3020.0/6555\tnDCG_at_10: 0.5160\n",
      "epoch: 2.\tNumber of swapped pairs: 7348.0/15576\tnDCG_at_10: 0.3371\n",
      "epoch: 2.\tNumber of swapped pairs: 1805.0/4005\tnDCG_at_10: 0.1678\n",
      "epoch: 2.\tNumber of swapped pairs: 2164.0/4656\tnDCG_at_10: 0.1284\n",
      "epoch: 2.\tNumber of swapped pairs: 557.0/1326\tnDCG_at_10: 0.2057\n",
      "epoch: 2.\tNumber of swapped pairs: 1714.0/4560\tnDCG_at_10: 0.8219\n",
      "epoch: 2.\tNumber of swapped pairs: 2501.0/5356\tnDCG_at_10: 0.2491\n",
      "epoch: 2.\tNumber of swapped pairs: 4758.0/10011\tnDCG_at_10: 0.0000\n",
      "epoch: 2.\tNumber of swapped pairs: 1595.0/3741\tnDCG_at_10: 0.5042\n",
      "epoch: 2.\tNumber of swapped pairs: 2304.0/5050\tnDCG_at_10: 0.4677\n",
      "epoch: 2.\tNumber of swapped pairs: 1698.0/3916\tnDCG_at_10: 0.3615\n",
      "epoch: 2.\tNumber of swapped pairs: 1157.0/2628\tnDCG_at_10: 0.2973\n",
      "epoch: 2.\tNumber of swapped pairs: 6169.0/14028\tnDCG_at_10: 0.3796\n",
      "epoch: 2.\tNumber of swapped pairs: 333.0/903\tnDCG_at_10: 0.4820\n",
      "epoch: 2.\tNumber of swapped pairs: 3572.0/8911\tnDCG_at_10: 0.2857\n",
      "epoch: 2.\tNumber of swapped pairs: 562.0/1275\tnDCG_at_10: 0.1688\n",
      "epoch: 2.\tNumber of swapped pairs: 939.0/2211\tnDCG_at_10: 0.6112\n",
      "epoch: 2.\tNumber of swapped pairs: 313.0/820\tnDCG_at_10: 0.4021\n",
      "epoch: 2.\tNumber of swapped pairs: 2746.0/6786\tnDCG_at_10: 0.6098\n",
      "epoch: 2.\tNumber of swapped pairs: 1263.0/3240\tnDCG_at_10: 0.7042\n",
      "epoch: 2.\tNumber of swapped pairs: 1310.0/3160\tnDCG_at_10: 0.4774\n",
      "epoch: 2.\tNumber of swapped pairs: 2053.0/4560\tnDCG_at_10: 0.0807\n",
      "epoch: 2.\tNumber of swapped pairs: 5325.0/13203\tnDCG_at_10: 0.2934\n",
      "epoch: 2.\tNumber of swapped pairs: 1732.0/4186\tnDCG_at_10: 0.4144\n",
      "epoch: 2.\tNumber of swapped pairs: 5656.0/13695\tnDCG_at_10: 0.7540\n",
      "epoch: 2.\tNumber of swapped pairs: 236.0/861\tnDCG_at_10: 0.7353\n",
      "epoch: 2.\tNumber of swapped pairs: 5340.0/12090\tnDCG_at_10: 0.3600\n",
      "epoch: 2.\tNumber of swapped pairs: 5114.0/12246\tnDCG_at_10: 0.4047\n",
      "epoch: 2.\tNumber of swapped pairs: nan/1\tnDCG_at_10: 1.0000\n",
      "Mean NDCG: 0.3796537518501282\n",
      "Epoch: 2\n",
      "Train loss: 0.5717386586403966\n",
      "epoch: 3.\tNumber of swapped pairs: 4159.0/9453\tnDCG_at_10: 0.2453\n",
      "epoch: 3.\tNumber of swapped pairs: 1734.0/4371\tnDCG_at_10: 0.2311\n",
      "epoch: 3.\tNumber of swapped pairs: 1804.0/3655\tnDCG_at_10: 0.3988\n",
      "epoch: 3.\tNumber of swapped pairs: 5012.0/10878\tnDCG_at_10: 0.3095\n",
      "epoch: 3.\tNumber of swapped pairs: 3340.0/7503\tnDCG_at_10: 0.4847\n",
      "epoch: 3.\tNumber of swapped pairs: 5155.0/14028\tnDCG_at_10: 0.5078\n",
      "epoch: 3.\tNumber of swapped pairs: 3463.0/7260\tnDCG_at_10: 0.3148\n",
      "epoch: 3.\tNumber of swapped pairs: 3234.0/9316\tnDCG_at_10: 0.6639\n",
      "epoch: 3.\tNumber of swapped pairs: 600.0/1711\tnDCG_at_10: 0.3232\n",
      "epoch: 3.\tNumber of swapped pairs: 2810.0/6555\tnDCG_at_10: 0.0839\n",
      "epoch: 3.\tNumber of swapped pairs: 3918.0/8646\tnDCG_at_10: 0.3156\n",
      "epoch: 3.\tNumber of swapped pairs: 1455.0/3570\tnDCG_at_10: 0.2919\n",
      "epoch: 3.\tNumber of swapped pairs: 8685.0/19503\tnDCG_at_10: 0.3112\n",
      "epoch: 3.\tNumber of swapped pairs: 3414.0/7875\tnDCG_at_10: 0.1651\n",
      "epoch: 3.\tNumber of swapped pairs: 4095.0/7875\tnDCG_at_10: 0.2368\n",
      "epoch: 3.\tNumber of swapped pairs: 4318.0/9591\tnDCG_at_10: 0.4171\n",
      "epoch: 3.\tNumber of swapped pairs: 1828.0/4005\tnDCG_at_10: 0.1357\n",
      "epoch: 3.\tNumber of swapped pairs: 3329.0/7503\tnDCG_at_10: 0.2462\n",
      "epoch: 3.\tNumber of swapped pairs: 8076.0/17205\tnDCG_at_10: 0.2812\n",
      "epoch: 3.\tNumber of swapped pairs: 2667.0/6903\tnDCG_at_10: 0.6817\n",
      "epoch: 3.\tNumber of swapped pairs: 188.0/435\tnDCG_at_10: 0.3936\n",
      "epoch: 3.\tNumber of swapped pairs: 3126.0/7875\tnDCG_at_10: 0.2315\n",
      "epoch: 3.\tNumber of swapped pairs: 458.0/861\tnDCG_at_10: 0.1714\n",
      "epoch: 3.\tNumber of swapped pairs: 7065.0/13695\tnDCG_at_10: 0.2429\n",
      "epoch: 3.\tNumber of swapped pairs: 1382.0/3003\tnDCG_at_10: 0.3096\n",
      "epoch: 3.\tNumber of swapped pairs: 1384.0/2926\tnDCG_at_10: 0.3879\n",
      "epoch: 3.\tNumber of swapped pairs: 5156.0/11628\tnDCG_at_10: 0.4134\n",
      "epoch: 3.\tNumber of swapped pairs: 1467.0/3321\tnDCG_at_10: 0.7127\n",
      "epoch: 3.\tNumber of swapped pairs: 2779.0/7021\tnDCG_at_10: 0.4039\n",
      "epoch: 3.\tNumber of swapped pairs: 1937.0/4371\tnDCG_at_10: 0.3122\n",
      "epoch: 3.\tNumber of swapped pairs: 377.0/903\tnDCG_at_10: 0.4374\n",
      "epoch: 3.\tNumber of swapped pairs: 2522.0/6903\tnDCG_at_10: 0.6428\n",
      "epoch: 3.\tNumber of swapped pairs: 3239.0/6786\tnDCG_at_10: 0.5057\n",
      "epoch: 3.\tNumber of swapped pairs: 12974.0/26106\tnDCG_at_10: 0.2242\n",
      "epoch: 3.\tNumber of swapped pairs: 7378.0/16836\tnDCG_at_10: 0.3698\n",
      "epoch: 3.\tNumber of swapped pairs: 1895.0/4465\tnDCG_at_10: 0.3053\n",
      "epoch: 3.\tNumber of swapped pairs: 1670.0/4095\tnDCG_at_10: 0.6622\n",
      "epoch: 3.\tNumber of swapped pairs: 2406.0/5995\tnDCG_at_10: 0.1302\n",
      "epoch: 3.\tNumber of swapped pairs: 4577.0/11781\tnDCG_at_10: 0.6901\n",
      "epoch: 3.\tNumber of swapped pairs: 6013.0/13041\tnDCG_at_10: 0.3855\n",
      "epoch: 3.\tNumber of swapped pairs: 3717.0/9045\tnDCG_at_10: 0.4286\n",
      "epoch: 3.\tNumber of swapped pairs: 399.0/1596\tnDCG_at_10: 0.5952\n",
      "epoch: 3.\tNumber of swapped pairs: 871.0/2211\tnDCG_at_10: 0.6721\n",
      "epoch: 3.\tNumber of swapped pairs: 33922.0/68265\tnDCG_at_10: 0.3376\n",
      "epoch: 3.\tNumber of swapped pairs: 2436.0/5151\tnDCG_at_10: 0.1083\n",
      "epoch: 3.\tNumber of swapped pairs: 1979.0/4950\tnDCG_at_10: 0.4457\n",
      "epoch: 3.\tNumber of swapped pairs: 911.0/2556\tnDCG_at_10: 0.7594\n",
      "epoch: 3.\tNumber of swapped pairs: 7508.0/16471\tnDCG_at_10: 0.5225\n",
      "epoch: 3.\tNumber of swapped pairs: 1179.0/3570\tnDCG_at_10: 0.5613\n",
      "epoch: 3.\tNumber of swapped pairs: 13067.0/25425\tnDCG_at_10: 0.2054\n",
      "epoch: 3.\tNumber of swapped pairs: 11873.0/26565\tnDCG_at_10: 0.0330\n",
      "epoch: 3.\tNumber of swapped pairs: 709.0/1596\tnDCG_at_10: 0.2309\n",
      "epoch: 3.\tNumber of swapped pairs: 3661.0/8256\tnDCG_at_10: 0.3672\n",
      "epoch: 3.\tNumber of swapped pairs: 746.0/2850\tnDCG_at_10: 0.3860\n",
      "epoch: 3.\tNumber of swapped pairs: 1599.0/3240\tnDCG_at_10: 0.1123\n",
      "epoch: 3.\tNumber of swapped pairs: 860.0/1540\tnDCG_at_10: 0.3968\n",
      "epoch: 3.\tNumber of swapped pairs: 859.0/2145\tnDCG_at_10: 0.5261\n",
      "epoch: 3.\tNumber of swapped pairs: 3375.0/7503\tnDCG_at_10: 0.1134\n",
      "epoch: 3.\tNumber of swapped pairs: 3461.0/7626\tnDCG_at_10: 0.6404\n",
      "epoch: 3.\tNumber of swapped pairs: 2698.0/6555\tnDCG_at_10: 0.5949\n",
      "epoch: 3.\tNumber of swapped pairs: 7106.0/15576\tnDCG_at_10: 0.4639\n",
      "epoch: 3.\tNumber of swapped pairs: 1773.0/4005\tnDCG_at_10: 0.2956\n",
      "epoch: 3.\tNumber of swapped pairs: 2172.0/4656\tnDCG_at_10: 0.1186\n",
      "epoch: 3.\tNumber of swapped pairs: 536.0/1326\tnDCG_at_10: 0.3829\n",
      "epoch: 3.\tNumber of swapped pairs: 1712.0/4560\tnDCG_at_10: 0.7624\n",
      "epoch: 3.\tNumber of swapped pairs: 2243.0/5356\tnDCG_at_10: 0.3401\n",
      "epoch: 3.\tNumber of swapped pairs: 4434.0/10011\tnDCG_at_10: 0.1965\n",
      "epoch: 3.\tNumber of swapped pairs: 1696.0/3741\tnDCG_at_10: 0.6510\n",
      "epoch: 3.\tNumber of swapped pairs: 2282.0/5050\tnDCG_at_10: 0.6064\n",
      "epoch: 3.\tNumber of swapped pairs: 1648.0/3916\tnDCG_at_10: 0.4823\n",
      "epoch: 3.\tNumber of swapped pairs: 1271.0/2628\tnDCG_at_10: 0.3989\n",
      "epoch: 3.\tNumber of swapped pairs: 6618.0/14028\tnDCG_at_10: 0.4007\n",
      "epoch: 3.\tNumber of swapped pairs: 391.0/903\tnDCG_at_10: 0.5511\n",
      "epoch: 3.\tNumber of swapped pairs: 4179.0/8911\tnDCG_at_10: 0.2844\n",
      "epoch: 3.\tNumber of swapped pairs: 649.0/1275\tnDCG_at_10: 0.0000\n",
      "epoch: 3.\tNumber of swapped pairs: 1080.0/2211\tnDCG_at_10: 0.3513\n",
      "epoch: 3.\tNumber of swapped pairs: 377.0/820\tnDCG_at_10: 0.2327\n",
      "epoch: 3.\tNumber of swapped pairs: 2788.0/6786\tnDCG_at_10: 0.6754\n",
      "epoch: 3.\tNumber of swapped pairs: 1215.0/3240\tnDCG_at_10: 0.8822\n",
      "epoch: 3.\tNumber of swapped pairs: 1335.0/3160\tnDCG_at_10: 0.4741\n",
      "epoch: 3.\tNumber of swapped pairs: 2056.0/4560\tnDCG_at_10: 0.1263\n",
      "epoch: 3.\tNumber of swapped pairs: 4878.0/13203\tnDCG_at_10: 0.5583\n",
      "epoch: 3.\tNumber of swapped pairs: 1716.0/4186\tnDCG_at_10: 0.6305\n",
      "epoch: 3.\tNumber of swapped pairs: 5558.0/13695\tnDCG_at_10: 0.8627\n",
      "epoch: 3.\tNumber of swapped pairs: 241.0/861\tnDCG_at_10: 0.6196\n",
      "epoch: 3.\tNumber of swapped pairs: 4704.0/12090\tnDCG_at_10: 0.4156\n",
      "epoch: 3.\tNumber of swapped pairs: 5274.0/12246\tnDCG_at_10: 0.3959\n",
      "epoch: 3.\tNumber of swapped pairs: nan/1\tnDCG_at_10: 1.0000\n",
      "Mean NDCG: 0.40651893615722656\n",
      "Epoch: 3\n",
      "Train loss: 0.5734809035095442\n",
      "epoch: 4.\tNumber of swapped pairs: 4324.0/9453\tnDCG_at_10: 0.2452\n",
      "epoch: 4.\tNumber of swapped pairs: 1595.0/4371\tnDCG_at_10: 0.2996\n",
      "epoch: 4.\tNumber of swapped pairs: 1882.0/3655\tnDCG_at_10: 0.1195\n",
      "epoch: 4.\tNumber of swapped pairs: 4606.0/10878\tnDCG_at_10: 0.0358\n",
      "epoch: 4.\tNumber of swapped pairs: 3307.0/7503\tnDCG_at_10: 0.2658\n",
      "epoch: 4.\tNumber of swapped pairs: 4952.0/14028\tnDCG_at_10: 0.5974\n",
      "epoch: 4.\tNumber of swapped pairs: 3664.0/7260\tnDCG_at_10: 0.3540\n",
      "epoch: 4.\tNumber of swapped pairs: 3677.0/9316\tnDCG_at_10: 0.3415\n",
      "epoch: 4.\tNumber of swapped pairs: 600.0/1711\tnDCG_at_10: 0.3334\n",
      "epoch: 4.\tNumber of swapped pairs: 2669.0/6555\tnDCG_at_10: 0.3657\n",
      "epoch: 4.\tNumber of swapped pairs: 3746.0/8646\tnDCG_at_10: 0.2453\n",
      "epoch: 4.\tNumber of swapped pairs: 1519.0/3570\tnDCG_at_10: 0.2817\n",
      "epoch: 4.\tNumber of swapped pairs: 8587.0/19503\tnDCG_at_10: 0.3010\n",
      "epoch: 4.\tNumber of swapped pairs: 3488.0/7875\tnDCG_at_10: 0.2929\n",
      "epoch: 4.\tNumber of swapped pairs: 4293.0/7875\tnDCG_at_10: 0.2867\n",
      "epoch: 4.\tNumber of swapped pairs: 4644.0/9591\tnDCG_at_10: 0.2738\n",
      "epoch: 4.\tNumber of swapped pairs: 1620.0/4005\tnDCG_at_10: 0.3434\n",
      "epoch: 4.\tNumber of swapped pairs: 3382.0/7503\tnDCG_at_10: 0.2575\n",
      "epoch: 4.\tNumber of swapped pairs: 8551.0/17205\tnDCG_at_10: 0.1772\n",
      "epoch: 4.\tNumber of swapped pairs: 2799.0/6903\tnDCG_at_10: 0.5664\n",
      "epoch: 4.\tNumber of swapped pairs: 220.0/435\tnDCG_at_10: 0.3073\n",
      "epoch: 4.\tNumber of swapped pairs: 3513.0/7875\tnDCG_at_10: 0.0000\n",
      "epoch: 4.\tNumber of swapped pairs: 426.0/861\tnDCG_at_10: 0.2724\n",
      "epoch: 4.\tNumber of swapped pairs: 7111.0/13695\tnDCG_at_10: 0.4006\n",
      "epoch: 4.\tNumber of swapped pairs: 1556.0/3003\tnDCG_at_10: 0.2326\n",
      "epoch: 4.\tNumber of swapped pairs: 1291.0/2926\tnDCG_at_10: 0.3149\n",
      "epoch: 4.\tNumber of swapped pairs: 5264.0/11628\tnDCG_at_10: 0.4119\n",
      "epoch: 4.\tNumber of swapped pairs: 1623.0/3321\tnDCG_at_10: 0.3672\n",
      "epoch: 4.\tNumber of swapped pairs: 3040.0/7021\tnDCG_at_10: 0.2818\n",
      "epoch: 4.\tNumber of swapped pairs: 2036.0/4371\tnDCG_at_10: 0.0988\n",
      "epoch: 4.\tNumber of swapped pairs: 431.0/903\tnDCG_at_10: 0.4361\n",
      "epoch: 4.\tNumber of swapped pairs: 2691.0/6903\tnDCG_at_10: 0.5279\n",
      "epoch: 4.\tNumber of swapped pairs: 3176.0/6786\tnDCG_at_10: 0.4803\n",
      "epoch: 4.\tNumber of swapped pairs: 13096.0/26106\tnDCG_at_10: 0.1723\n",
      "epoch: 4.\tNumber of swapped pairs: 7457.0/16836\tnDCG_at_10: 0.2416\n",
      "epoch: 4.\tNumber of swapped pairs: 2219.0/4465\tnDCG_at_10: 0.2531\n",
      "epoch: 4.\tNumber of swapped pairs: 1841.0/4095\tnDCG_at_10: 0.5146\n",
      "epoch: 4.\tNumber of swapped pairs: 2674.0/5995\tnDCG_at_10: 0.1419\n",
      "epoch: 4.\tNumber of swapped pairs: 5096.0/11781\tnDCG_at_10: 0.5671\n",
      "epoch: 4.\tNumber of swapped pairs: 6039.0/13041\tnDCG_at_10: 0.2373\n",
      "epoch: 4.\tNumber of swapped pairs: 4647.0/9045\tnDCG_at_10: 0.2352\n",
      "epoch: 4.\tNumber of swapped pairs: 560.0/1596\tnDCG_at_10: 0.3978\n",
      "epoch: 4.\tNumber of swapped pairs: 882.0/2211\tnDCG_at_10: 0.4359\n",
      "epoch: 4.\tNumber of swapped pairs: 34455.0/68265\tnDCG_at_10: 0.1969\n",
      "epoch: 4.\tNumber of swapped pairs: 2453.0/5151\tnDCG_at_10: 0.1415\n",
      "epoch: 4.\tNumber of swapped pairs: 2107.0/4950\tnDCG_at_10: 0.4665\n",
      "epoch: 4.\tNumber of swapped pairs: 1001.0/2556\tnDCG_at_10: 0.6098\n",
      "epoch: 4.\tNumber of swapped pairs: 7089.0/16471\tnDCG_at_10: 0.5702\n",
      "epoch: 4.\tNumber of swapped pairs: 1335.0/3570\tnDCG_at_10: 0.3807\n",
      "epoch: 4.\tNumber of swapped pairs: 12460.0/25425\tnDCG_at_10: 0.1412\n",
      "epoch: 4.\tNumber of swapped pairs: 12222.0/26565\tnDCG_at_10: 0.2158\n",
      "epoch: 4.\tNumber of swapped pairs: 670.0/1596\tnDCG_at_10: 0.4086\n",
      "epoch: 4.\tNumber of swapped pairs: 3488.0/8256\tnDCG_at_10: 0.3219\n",
      "epoch: 4.\tNumber of swapped pairs: 865.0/2850\tnDCG_at_10: 0.4551\n",
      "epoch: 4.\tNumber of swapped pairs: 1738.0/3240\tnDCG_at_10: 0.0000\n",
      "epoch: 4.\tNumber of swapped pairs: 641.0/1540\tnDCG_at_10: 0.4714\n",
      "epoch: 4.\tNumber of swapped pairs: 947.0/2145\tnDCG_at_10: 0.3833\n",
      "epoch: 4.\tNumber of swapped pairs: 3705.0/7503\tnDCG_at_10: 0.1027\n",
      "epoch: 4.\tNumber of swapped pairs: 3127.0/7626\tnDCG_at_10: 0.6584\n",
      "epoch: 4.\tNumber of swapped pairs: 2704.0/6555\tnDCG_at_10: 0.5586\n",
      "epoch: 4.\tNumber of swapped pairs: 7227.0/15576\tnDCG_at_10: 0.4159\n",
      "epoch: 4.\tNumber of swapped pairs: 1729.0/4005\tnDCG_at_10: 0.1157\n",
      "epoch: 4.\tNumber of swapped pairs: 2098.0/4656\tnDCG_at_10: 0.2711\n",
      "epoch: 4.\tNumber of swapped pairs: 482.0/1326\tnDCG_at_10: 0.4802\n",
      "epoch: 4.\tNumber of swapped pairs: 1737.0/4560\tnDCG_at_10: 0.5259\n",
      "epoch: 4.\tNumber of swapped pairs: 2359.0/5356\tnDCG_at_10: 0.5133\n",
      "epoch: 4.\tNumber of swapped pairs: 4834.0/10011\tnDCG_at_10: 0.0000\n",
      "epoch: 4.\tNumber of swapped pairs: 1510.0/3741\tnDCG_at_10: 0.5203\n",
      "epoch: 4.\tNumber of swapped pairs: 2280.0/5050\tnDCG_at_10: 0.4614\n",
      "epoch: 4.\tNumber of swapped pairs: 1622.0/3916\tnDCG_at_10: 0.3308\n",
      "epoch: 4.\tNumber of swapped pairs: 956.0/2628\tnDCG_at_10: 0.4250\n",
      "epoch: 4.\tNumber of swapped pairs: 5815.0/14028\tnDCG_at_10: 0.3918\n",
      "epoch: 4.\tNumber of swapped pairs: 354.0/903\tnDCG_at_10: 0.4494\n",
      "epoch: 4.\tNumber of swapped pairs: 3462.0/8911\tnDCG_at_10: 0.4516\n",
      "epoch: 4.\tNumber of swapped pairs: 555.0/1275\tnDCG_at_10: 0.0762\n",
      "epoch: 4.\tNumber of swapped pairs: 1002.0/2211\tnDCG_at_10: 0.5765\n",
      "epoch: 4.\tNumber of swapped pairs: 309.0/820\tnDCG_at_10: 0.3675\n",
      "epoch: 4.\tNumber of swapped pairs: 2905.0/6786\tnDCG_at_10: 0.6040\n",
      "epoch: 4.\tNumber of swapped pairs: 1246.0/3240\tnDCG_at_10: 0.6184\n",
      "epoch: 4.\tNumber of swapped pairs: 1269.0/3160\tnDCG_at_10: 0.4707\n",
      "epoch: 4.\tNumber of swapped pairs: 1858.0/4560\tnDCG_at_10: 0.1514\n",
      "epoch: 4.\tNumber of swapped pairs: 5308.0/13203\tnDCG_at_10: 0.4756\n",
      "epoch: 4.\tNumber of swapped pairs: 1731.0/4186\tnDCG_at_10: 0.3934\n",
      "epoch: 4.\tNumber of swapped pairs: 5351.0/13695\tnDCG_at_10: 0.8059\n",
      "epoch: 4.\tNumber of swapped pairs: 338.0/861\tnDCG_at_10: 0.4726\n",
      "epoch: 4.\tNumber of swapped pairs: 5949.0/12090\tnDCG_at_10: 0.3170\n",
      "epoch: 4.\tNumber of swapped pairs: 5253.0/12246\tnDCG_at_10: 0.3448\n",
      "epoch: 4.\tNumber of swapped pairs: nan/1\tnDCG_at_10: 1.0000\n",
      "Mean NDCG: 0.357060045003891\n",
      "Epoch: 4\n",
      "Train loss: 0.5717600816185896\n",
      "epoch: 5.\tNumber of swapped pairs: 4571.0/9453\tnDCG_at_10: 0.2228\n",
      "epoch: 5.\tNumber of swapped pairs: 1541.0/4371\tnDCG_at_10: 0.3841\n",
      "epoch: 5.\tNumber of swapped pairs: 1866.0/3655\tnDCG_at_10: 0.2707\n",
      "epoch: 5.\tNumber of swapped pairs: 4854.0/10878\tnDCG_at_10: 0.1700\n",
      "epoch: 5.\tNumber of swapped pairs: 2996.0/7503\tnDCG_at_10: 0.5947\n",
      "epoch: 5.\tNumber of swapped pairs: 5282.0/14028\tnDCG_at_10: 0.5025\n",
      "epoch: 5.\tNumber of swapped pairs: 3686.0/7260\tnDCG_at_10: 0.1991\n",
      "epoch: 5.\tNumber of swapped pairs: 3424.0/9316\tnDCG_at_10: 0.3804\n",
      "epoch: 5.\tNumber of swapped pairs: 546.0/1711\tnDCG_at_10: 0.6444\n",
      "epoch: 5.\tNumber of swapped pairs: 2828.0/6555\tnDCG_at_10: 0.1600\n",
      "epoch: 5.\tNumber of swapped pairs: 3668.0/8646\tnDCG_at_10: 0.2056\n",
      "epoch: 5.\tNumber of swapped pairs: 1443.0/3570\tnDCG_at_10: 0.3419\n",
      "epoch: 5.\tNumber of swapped pairs: 8497.0/19503\tnDCG_at_10: 0.3878\n",
      "epoch: 5.\tNumber of swapped pairs: 3053.0/7875\tnDCG_at_10: 0.1912\n",
      "epoch: 5.\tNumber of swapped pairs: 3964.0/7875\tnDCG_at_10: 0.0851\n",
      "epoch: 5.\tNumber of swapped pairs: 4716.0/9591\tnDCG_at_10: 0.4282\n",
      "epoch: 5.\tNumber of swapped pairs: 1785.0/4005\tnDCG_at_10: 0.0000\n",
      "epoch: 5.\tNumber of swapped pairs: 3662.0/7503\tnDCG_at_10: 0.1934\n",
      "epoch: 5.\tNumber of swapped pairs: 8193.0/17205\tnDCG_at_10: 0.3984\n",
      "epoch: 5.\tNumber of swapped pairs: 2812.0/6903\tnDCG_at_10: 0.5390\n",
      "epoch: 5.\tNumber of swapped pairs: 186.0/435\tnDCG_at_10: 0.5664\n",
      "epoch: 5.\tNumber of swapped pairs: 3408.0/7875\tnDCG_at_10: 0.5249\n",
      "epoch: 5.\tNumber of swapped pairs: 400.0/861\tnDCG_at_10: 0.2483\n",
      "epoch: 5.\tNumber of swapped pairs: 7326.0/13695\tnDCG_at_10: 0.2430\n",
      "epoch: 5.\tNumber of swapped pairs: 1682.0/3003\tnDCG_at_10: 0.2108\n",
      "epoch: 5.\tNumber of swapped pairs: 1305.0/2926\tnDCG_at_10: 0.2645\n",
      "epoch: 5.\tNumber of swapped pairs: 5430.0/11628\tnDCG_at_10: 0.3431\n",
      "epoch: 5.\tNumber of swapped pairs: 1404.0/3321\tnDCG_at_10: 0.5784\n",
      "epoch: 5.\tNumber of swapped pairs: 3341.0/7021\tnDCG_at_10: 0.2713\n",
      "epoch: 5.\tNumber of swapped pairs: 2021.0/4371\tnDCG_at_10: 0.0684\n",
      "epoch: 5.\tNumber of swapped pairs: 437.0/903\tnDCG_at_10: 0.4521\n",
      "epoch: 5.\tNumber of swapped pairs: 2650.0/6903\tnDCG_at_10: 0.6457\n",
      "epoch: 5.\tNumber of swapped pairs: 3372.0/6786\tnDCG_at_10: 0.4150\n",
      "epoch: 5.\tNumber of swapped pairs: 12929.0/26106\tnDCG_at_10: 0.2301\n",
      "epoch: 5.\tNumber of swapped pairs: 7596.0/16836\tnDCG_at_10: 0.1948\n",
      "epoch: 5.\tNumber of swapped pairs: 2340.0/4465\tnDCG_at_10: 0.2154\n",
      "epoch: 5.\tNumber of swapped pairs: 1623.0/4095\tnDCG_at_10: 0.5706\n",
      "epoch: 5.\tNumber of swapped pairs: 2819.0/5995\tnDCG_at_10: 0.1226\n",
      "epoch: 5.\tNumber of swapped pairs: 4938.0/11781\tnDCG_at_10: 0.7686\n",
      "epoch: 5.\tNumber of swapped pairs: 5886.0/13041\tnDCG_at_10: 0.2893\n",
      "epoch: 5.\tNumber of swapped pairs: 3485.0/9045\tnDCG_at_10: 0.5312\n",
      "epoch: 5.\tNumber of swapped pairs: 459.0/1596\tnDCG_at_10: 0.4843\n",
      "epoch: 5.\tNumber of swapped pairs: 1062.0/2211\tnDCG_at_10: 0.0797\n",
      "epoch: 5.\tNumber of swapped pairs: 33687.0/68265\tnDCG_at_10: 0.2591\n",
      "epoch: 5.\tNumber of swapped pairs: 2222.0/5151\tnDCG_at_10: 0.1491\n",
      "epoch: 5.\tNumber of swapped pairs: 2103.0/4950\tnDCG_at_10: 0.5027\n",
      "epoch: 5.\tNumber of swapped pairs: 838.0/2556\tnDCG_at_10: 0.5955\n",
      "epoch: 5.\tNumber of swapped pairs: 7795.0/16471\tnDCG_at_10: 0.3922\n",
      "epoch: 5.\tNumber of swapped pairs: 1338.0/3570\tnDCG_at_10: 0.4547\n",
      "epoch: 5.\tNumber of swapped pairs: 13413.0/25425\tnDCG_at_10: 0.0714\n",
      "epoch: 5.\tNumber of swapped pairs: 11717.0/26565\tnDCG_at_10: 0.2392\n",
      "epoch: 5.\tNumber of swapped pairs: 753.0/1596\tnDCG_at_10: 0.0000\n",
      "epoch: 5.\tNumber of swapped pairs: 3893.0/8256\tnDCG_at_10: 0.2162\n",
      "epoch: 5.\tNumber of swapped pairs: 859.0/2850\tnDCG_at_10: 0.3694\n",
      "epoch: 5.\tNumber of swapped pairs: 1626.0/3240\tnDCG_at_10: 0.0521\n",
      "epoch: 5.\tNumber of swapped pairs: 896.0/1540\tnDCG_at_10: 0.2187\n",
      "epoch: 5.\tNumber of swapped pairs: 1085.0/2145\tnDCG_at_10: 0.3039\n",
      "epoch: 5.\tNumber of swapped pairs: 3618.0/7503\tnDCG_at_10: 0.1441\n",
      "epoch: 5.\tNumber of swapped pairs: 3199.0/7626\tnDCG_at_10: 0.5748\n",
      "epoch: 5.\tNumber of swapped pairs: 2634.0/6555\tnDCG_at_10: 0.5805\n",
      "epoch: 5.\tNumber of swapped pairs: 7409.0/15576\tnDCG_at_10: 0.4442\n",
      "epoch: 5.\tNumber of swapped pairs: 1827.0/4005\tnDCG_at_10: 0.1949\n",
      "epoch: 5.\tNumber of swapped pairs: 1969.0/4656\tnDCG_at_10: 0.3974\n",
      "epoch: 5.\tNumber of swapped pairs: 566.0/1326\tnDCG_at_10: 0.5644\n",
      "epoch: 5.\tNumber of swapped pairs: 1772.0/4560\tnDCG_at_10: 0.6457\n",
      "epoch: 5.\tNumber of swapped pairs: 2500.0/5356\tnDCG_at_10: 0.5329\n",
      "epoch: 5.\tNumber of swapped pairs: 4671.0/10011\tnDCG_at_10: 0.0367\n",
      "epoch: 5.\tNumber of swapped pairs: 1524.0/3741\tnDCG_at_10: 0.5496\n",
      "epoch: 5.\tNumber of swapped pairs: 2275.0/5050\tnDCG_at_10: 0.2856\n",
      "epoch: 5.\tNumber of swapped pairs: 1616.0/3916\tnDCG_at_10: 0.4910\n",
      "epoch: 5.\tNumber of swapped pairs: 1215.0/2628\tnDCG_at_10: 0.1966\n",
      "epoch: 5.\tNumber of swapped pairs: 5999.0/14028\tnDCG_at_10: 0.3743\n",
      "epoch: 5.\tNumber of swapped pairs: 355.0/903\tnDCG_at_10: 0.5205\n",
      "epoch: 5.\tNumber of swapped pairs: 4205.0/8911\tnDCG_at_10: 0.1898\n",
      "epoch: 5.\tNumber of swapped pairs: 621.0/1275\tnDCG_at_10: 0.1643\n",
      "epoch: 5.\tNumber of swapped pairs: 958.0/2211\tnDCG_at_10: 0.5898\n",
      "epoch: 5.\tNumber of swapped pairs: 356.0/820\tnDCG_at_10: 0.1532\n",
      "epoch: 5.\tNumber of swapped pairs: 2928.0/6786\tnDCG_at_10: 0.4090\n",
      "epoch: 5.\tNumber of swapped pairs: 1322.0/3240\tnDCG_at_10: 0.4514\n",
      "epoch: 5.\tNumber of swapped pairs: 1240.0/3160\tnDCG_at_10: 0.5377\n",
      "epoch: 5.\tNumber of swapped pairs: 2137.0/4560\tnDCG_at_10: 0.2026\n",
      "epoch: 5.\tNumber of swapped pairs: 5068.0/13203\tnDCG_at_10: 0.4995\n",
      "epoch: 5.\tNumber of swapped pairs: 1555.0/4186\tnDCG_at_10: 0.4255\n",
      "epoch: 5.\tNumber of swapped pairs: 5554.0/13695\tnDCG_at_10: 0.7240\n",
      "epoch: 5.\tNumber of swapped pairs: 269.0/861\tnDCG_at_10: 0.5038\n",
      "epoch: 5.\tNumber of swapped pairs: 5027.0/12090\tnDCG_at_10: 0.4525\n",
      "epoch: 5.\tNumber of swapped pairs: 5526.0/12246\tnDCG_at_10: 0.2995\n",
      "epoch: 5.\tNumber of swapped pairs: nan/1\tnDCG_at_10: 1.0000\n",
      "Mean NDCG: 0.35884028673171997\n"
     ]
    }
   ],
   "source": [
    "epochs = 5\n",
    "num_batches = sum([len(dataset) for dataset in datasets.values()])\n",
    "\n",
    "for epoch in range(epochs):\n",
    "    print(f'Epoch: {epoch}')\n",
    "    train_losses = []\n",
    "    for query, msrank_dataloader in dataloaders.items():\n",
    "        for it, (_, batch_x1, batch_x2, tgt) in enumerate(msrank_dataloader):\n",
    "    \n",
    "            optimizer.zero_grad()\n",
    "            batch_x1 = batch_x1.to(device)\n",
    "            batch_x2 = batch_x2.to(device)\n",
    "            tgt = tgt.to(device)\n",
    "    \n",
    "            batch_pred = ranknet_model(batch_x1, batch_x2)\n",
    "            batch_loss = criterion(batch_pred, tgt.view(-1, 1))\n",
    "            batch_loss.backward()\n",
    "    \n",
    "            optimizer.step()\n",
    "\n",
    "            train_losses.append(batch_loss.item() * len(batch_x1))\n",
    "\n",
    "            \n",
    "    print(f'Train loss: {np.sum(train_losses) / num_batches}')\n",
    "    \n",
    "    ndcg_scores = []\n",
    "    with torch.no_grad():\n",
    "        for query_test in msrank_10k_test['query'].unique():\n",
    "            test_x = torch.as_tensor(msrank_10k_test.loc[msrank_10k_test['query']==query_test, 'feature_2':].values, dtype=torch.float32).to(device)\n",
    "            test_y = torch.as_tensor(msrank_10k_test.loc[msrank_10k_test['query']==query_test, 'target'].values, dtype=torch.float32).to(device)\n",
    "\n",
    "            total_pairs = len(test_x) * (len(test_x) - 1) // 2\n",
    "            \n",
    "            valid_pred = ranknet_model.predict(test_x).cpu().flatten()\n",
    "            \n",
    "            valid_swapped_pairs = -(sts.kendalltau(test_y.cpu().numpy(), valid_pred.numpy()).statistic * total_pairs - total_pairs) // 2\n",
    "            ndcg_score_ = ndcg_k(test_y.cpu().flatten(), valid_pred, gain_scheme='const', k=10)\n",
    "            ndcg_scores.append(ndcg_score_)\n",
    "            print(f\"epoch: {epoch + 1}.\\tNumber of swapped pairs: \"\n",
    "                  f\"{valid_swapped_pairs}/{total_pairs}\\t\"\n",
    "            f\"nDCG_at_10: {ndcg_score_:.4f}\")\n",
    "        \n",
    "    print(f'Mean NDCG: {np.mean(ndcg_scores)}')"
   ]
  },
  {
   "cell_type": "code",
   "execution_count": 31,
   "metadata": {},
   "outputs": [
    {
     "name": "stdout",
     "output_type": "stream",
     "text": [
      "epoch: 1.\tNumber of swapped pairs: 4242.0/9453\tnDCG_at_10: 0.3823\n",
      "epoch: 1.\tNumber of swapped pairs: 1608.0/4371\tnDCG_at_10: 0.3889\n",
      "epoch: 1.\tNumber of swapped pairs: 1890.0/3655\tnDCG_at_10: 0.2322\n",
      "epoch: 1.\tNumber of swapped pairs: 5014.0/10878\tnDCG_at_10: 0.3858\n",
      "epoch: 1.\tNumber of swapped pairs: 3418.0/7503\tnDCG_at_10: 0.3377\n",
      "epoch: 1.\tNumber of swapped pairs: 4907.0/14028\tnDCG_at_10: 0.4049\n",
      "epoch: 1.\tNumber of swapped pairs: 3515.0/7260\tnDCG_at_10: 0.2354\n",
      "epoch: 1.\tNumber of swapped pairs: 3376.0/9316\tnDCG_at_10: 0.5581\n",
      "epoch: 1.\tNumber of swapped pairs: 611.0/1711\tnDCG_at_10: 0.3101\n",
      "epoch: 1.\tNumber of swapped pairs: 2731.0/6555\tnDCG_at_10: 0.0000\n",
      "epoch: 1.\tNumber of swapped pairs: 4213.0/8646\tnDCG_at_10: 0.2755\n",
      "epoch: 1.\tNumber of swapped pairs: 1305.0/3570\tnDCG_at_10: 0.4272\n",
      "epoch: 1.\tNumber of swapped pairs: 8367.0/19503\tnDCG_at_10: 0.2839\n",
      "epoch: 1.\tNumber of swapped pairs: 3232.0/7875\tnDCG_at_10: 0.1878\n",
      "epoch: 1.\tNumber of swapped pairs: 3534.0/7875\tnDCG_at_10: 0.2985\n",
      "epoch: 1.\tNumber of swapped pairs: 4157.0/9591\tnDCG_at_10: 0.5052\n",
      "epoch: 1.\tNumber of swapped pairs: 1859.0/4005\tnDCG_at_10: 0.0000\n",
      "epoch: 1.\tNumber of swapped pairs: 3165.0/7503\tnDCG_at_10: 0.3120\n",
      "epoch: 1.\tNumber of swapped pairs: 7501.0/17205\tnDCG_at_10: 0.5063\n",
      "epoch: 1.\tNumber of swapped pairs: 2783.0/6903\tnDCG_at_10: 0.4045\n",
      "epoch: 1.\tNumber of swapped pairs: 178.0/435\tnDCG_at_10: 0.4782\n",
      "epoch: 1.\tNumber of swapped pairs: 3452.0/7875\tnDCG_at_10: 0.4427\n",
      "epoch: 1.\tNumber of swapped pairs: 382.0/861\tnDCG_at_10: 0.3547\n",
      "epoch: 1.\tNumber of swapped pairs: 7243.0/13695\tnDCG_at_10: 0.2616\n",
      "epoch: 1.\tNumber of swapped pairs: 1339.0/3003\tnDCG_at_10: 0.2813\n",
      "epoch: 1.\tNumber of swapped pairs: 1225.0/2926\tnDCG_at_10: 0.2230\n",
      "epoch: 1.\tNumber of swapped pairs: 5259.0/11628\tnDCG_at_10: 0.2048\n",
      "epoch: 1.\tNumber of swapped pairs: 1395.0/3321\tnDCG_at_10: 0.6233\n",
      "epoch: 1.\tNumber of swapped pairs: 2923.0/7021\tnDCG_at_10: 0.2730\n",
      "epoch: 1.\tNumber of swapped pairs: 2087.0/4371\tnDCG_at_10: 0.3239\n",
      "epoch: 1.\tNumber of swapped pairs: 307.0/903\tnDCG_at_10: 0.4332\n",
      "epoch: 1.\tNumber of swapped pairs: 2583.0/6903\tnDCG_at_10: 0.6665\n",
      "epoch: 1.\tNumber of swapped pairs: 3504.0/6786\tnDCG_at_10: 0.4687\n",
      "epoch: 1.\tNumber of swapped pairs: 13347.0/26106\tnDCG_at_10: 0.0714\n",
      "epoch: 1.\tNumber of swapped pairs: 7743.0/16836\tnDCG_at_10: 0.3595\n",
      "epoch: 1.\tNumber of swapped pairs: 2220.0/4465\tnDCG_at_10: 0.2889\n",
      "epoch: 1.\tNumber of swapped pairs: 1396.0/4095\tnDCG_at_10: 0.6123\n",
      "epoch: 1.\tNumber of swapped pairs: 2495.0/5995\tnDCG_at_10: 0.0702\n",
      "epoch: 1.\tNumber of swapped pairs: 4512.0/11781\tnDCG_at_10: 0.7761\n",
      "epoch: 1.\tNumber of swapped pairs: 5922.0/13041\tnDCG_at_10: 0.5068\n",
      "epoch: 1.\tNumber of swapped pairs: 3545.0/9045\tnDCG_at_10: 0.3625\n",
      "epoch: 1.\tNumber of swapped pairs: 443.0/1596\tnDCG_at_10: 0.6233\n",
      "epoch: 1.\tNumber of swapped pairs: 947.0/2211\tnDCG_at_10: 0.4988\n",
      "epoch: 1.\tNumber of swapped pairs: 33735.0/68265\tnDCG_at_10: 0.3616\n",
      "epoch: 1.\tNumber of swapped pairs: 2455.0/5151\tnDCG_at_10: 0.0629\n",
      "epoch: 1.\tNumber of swapped pairs: 2085.0/4950\tnDCG_at_10: 0.3047\n",
      "epoch: 1.\tNumber of swapped pairs: 968.0/2556\tnDCG_at_10: 0.6708\n",
      "epoch: 1.\tNumber of swapped pairs: 7661.0/16471\tnDCG_at_10: 0.3803\n",
      "epoch: 1.\tNumber of swapped pairs: 1228.0/3570\tnDCG_at_10: 0.5946\n",
      "epoch: 1.\tNumber of swapped pairs: 12649.0/25425\tnDCG_at_10: 0.2463\n",
      "epoch: 1.\tNumber of swapped pairs: 11892.0/26565\tnDCG_at_10: 0.1000\n",
      "epoch: 1.\tNumber of swapped pairs: 711.0/1596\tnDCG_at_10: 0.2261\n",
      "epoch: 1.\tNumber of swapped pairs: 3687.0/8256\tnDCG_at_10: 0.2220\n",
      "epoch: 1.\tNumber of swapped pairs: 871.0/2850\tnDCG_at_10: 0.6078\n",
      "epoch: 1.\tNumber of swapped pairs: 1528.0/3240\tnDCG_at_10: 0.1320\n",
      "epoch: 1.\tNumber of swapped pairs: 760.0/1540\tnDCG_at_10: 0.5654\n",
      "epoch: 1.\tNumber of swapped pairs: 979.0/2145\tnDCG_at_10: 0.5411\n",
      "epoch: 1.\tNumber of swapped pairs: 3755.0/7503\tnDCG_at_10: 0.2194\n",
      "epoch: 1.\tNumber of swapped pairs: 3518.0/7626\tnDCG_at_10: 0.3998\n",
      "epoch: 1.\tNumber of swapped pairs: 2645.0/6555\tnDCG_at_10: 0.5078\n",
      "epoch: 1.\tNumber of swapped pairs: 7501.0/15576\tnDCG_at_10: 0.4773\n",
      "epoch: 1.\tNumber of swapped pairs: 1896.0/4005\tnDCG_at_10: 0.4081\n",
      "epoch: 1.\tNumber of swapped pairs: 1796.0/4656\tnDCG_at_10: 0.5548\n",
      "epoch: 1.\tNumber of swapped pairs: 542.0/1326\tnDCG_at_10: 0.3890\n",
      "epoch: 1.\tNumber of swapped pairs: 1768.0/4560\tnDCG_at_10: 0.5659\n",
      "epoch: 1.\tNumber of swapped pairs: 2104.0/5356\tnDCG_at_10: 0.6765\n",
      "epoch: 1.\tNumber of swapped pairs: 4805.0/10011\tnDCG_at_10: 0.1544\n",
      "epoch: 1.\tNumber of swapped pairs: 1406.0/3741\tnDCG_at_10: 0.6216\n",
      "epoch: 1.\tNumber of swapped pairs: 2383.0/5050\tnDCG_at_10: 0.3729\n",
      "epoch: 1.\tNumber of swapped pairs: 1525.0/3916\tnDCG_at_10: 0.5424\n",
      "epoch: 1.\tNumber of swapped pairs: 1165.0/2628\tnDCG_at_10: 0.2241\n",
      "epoch: 1.\tNumber of swapped pairs: 6561.0/14028\tnDCG_at_10: 0.2211\n",
      "epoch: 1.\tNumber of swapped pairs: 308.0/903\tnDCG_at_10: 0.5773\n",
      "epoch: 1.\tNumber of swapped pairs: 3620.0/8911\tnDCG_at_10: 0.3560\n",
      "epoch: 1.\tNumber of swapped pairs: 721.0/1275\tnDCG_at_10: 0.0000\n",
      "epoch: 1.\tNumber of swapped pairs: 1038.0/2211\tnDCG_at_10: 0.5414\n",
      "epoch: 1.\tNumber of swapped pairs: 415.0/820\tnDCG_at_10: 0.1317\n",
      "epoch: 1.\tNumber of swapped pairs: 2978.0/6786\tnDCG_at_10: 0.6058\n",
      "epoch: 1.\tNumber of swapped pairs: 1231.0/3240\tnDCG_at_10: 0.4396\n",
      "epoch: 1.\tNumber of swapped pairs: 1273.0/3160\tnDCG_at_10: 0.6783\n",
      "epoch: 1.\tNumber of swapped pairs: 2006.0/4560\tnDCG_at_10: 0.0421\n",
      "epoch: 1.\tNumber of swapped pairs: 5419.0/13203\tnDCG_at_10: 0.3021\n",
      "epoch: 1.\tNumber of swapped pairs: 1498.0/4186\tnDCG_at_10: 0.4169\n",
      "epoch: 1.\tNumber of swapped pairs: 5464.0/13695\tnDCG_at_10: 0.7317\n",
      "epoch: 1.\tNumber of swapped pairs: 200.0/861\tnDCG_at_10: 0.8012\n",
      "epoch: 1.\tNumber of swapped pairs: 5545.0/12090\tnDCG_at_10: 0.2592\n",
      "epoch: 1.\tNumber of swapped pairs: 5095.0/12246\tnDCG_at_10: 0.3943\n",
      "epoch: 1.\tNumber of swapped pairs: nan/1\tnDCG_at_10: 1.0000\n",
      "Mean NDCG: 0.38942623138427734\n"
     ]
    }
   ],
   "source": [
    "with torch.no_grad():\n",
    "    for query_test in msrank_10k_test['query'].unique():\n",
    "            test_x = torch.as_tensor(msrank_10k_test.loc[msrank_10k_test['query']==query_test, 'feature_2':].values, dtype=torch.float32).to(device)\n",
    "            test_y = torch.as_tensor(msrank_10k_test.loc[msrank_10k_test['query']==query_test, 'target'].values, dtype=torch.float32).to(device)\n",
    "\n",
    "            total_pairs = len(test_x) * (len(test_x) - 1) // 2\n",
    "            \n",
    "            valid_pred = ranknet_model.predict(test_x).cpu().flatten()\n",
    "            \n",
    "            valid_swapped_pairs = -(sts.kendalltau(test_y.cpu().numpy(), valid_pred.numpy()).statistic * total_pairs - total_pairs) // 2\n",
    "            ndcg_score_ = ndcg_k(test_y.cpu().flatten(), valid_pred, gain_scheme='const', k=10)\n",
    "            ndcg_scores.append(ndcg_score_)\n",
    "            print(f\"epoch: {epoch + 1}.\\tNumber of swapped pairs: \"\n",
    "                  f\"{valid_swapped_pairs}/{total_pairs}\\t\"\n",
    "            f\"nDCG_at_10: {ndcg_score_:.4f}\")\n",
    "        \n",
    "print(f'Mean NDCG: {np.mean(ndcg_scores)}')"
   ]
  },
  {
   "cell_type": "markdown",
   "metadata": {},
   "source": [
    "### Синтетические данные"
   ]
  },
  {
   "cell_type": "code",
   "execution_count": 32,
   "metadata": {},
   "outputs": [],
   "source": [
    "def make_dataset(N_train, N_valid, vector_dim):\n",
    "    fake_weights = torch.randn(vector_dim, 1)\n",
    "\n",
    "    X_train = torch.randn(N_train, vector_dim)\n",
    "    X_valid = torch.randn(N_valid, vector_dim)\n",
    "\n",
    "    ys_train_score = torch.mm(X_train, fake_weights)\n",
    "    ys_train_score += torch.randn_like(ys_train_score)\n",
    "\n",
    "    ys_valid_score = torch.mm(X_valid, fake_weights)\n",
    "    ys_valid_score += torch.randn_like(ys_valid_score)\n",
    "\n",
    "#     bins = [-1, 1]  # 3 relevances\n",
    "    bins = [-1, 0, 1, 2]  # 5 relevances\n",
    "    ys_train_rel = torch.Tensor(\n",
    "        np.digitize(ys_train_score.clone().detach().numpy(), bins=bins)\n",
    "    )\n",
    "    ys_valid_rel = torch.Tensor(\n",
    "        np.digitize(ys_valid_score.clone().detach().numpy(), bins=bins)\n",
    "    )\n",
    "\n",
    "    return X_train, X_valid, ys_train_rel, ys_valid_rel"
   ]
  },
  {
   "cell_type": "code",
   "execution_count": 33,
   "metadata": {},
   "outputs": [],
   "source": [
    "N_train = 1000\n",
    "N_valid = 500\n",
    "\n",
    "vector_dim = 100\n",
    "epochs = 2\n",
    "\n",
    "batch_size = 16\n",
    "\n",
    "X_train, X_valid, ys_train, ys_valid = make_dataset(N_train, N_valid, vector_dim)"
   ]
  },
  {
   "cell_type": "code",
   "execution_count": 34,
   "metadata": {},
   "outputs": [
    {
     "name": "stdout",
     "output_type": "stream",
     "text": [
      "Length of comparison: 499500\n",
      "Classes balance:\n",
      "0.5    191760\n",
      "0.0    160154\n",
      "1.0    147586\n",
      "Name: count, dtype: int64\n"
     ]
    },
    {
     "data": {
      "text/plain": [
       "[(0, 1, 0),\n",
       " (0, 2, 0.5),\n",
       " (0, 3, 0),\n",
       " (0, 4, 0),\n",
       " (0, 5, 0.5),\n",
       " (0, 6, 0),\n",
       " (0, 7, 0.5),\n",
       " (0, 8, 0),\n",
       " (0, 9, 0),\n",
       " (0, 10, 0.5)]"
      ]
     },
     "execution_count": 34,
     "metadata": {},
     "output_type": "execute_result"
    }
   ],
   "source": [
    "# 1 if i-th score larger than j-th\n",
    "\n",
    "comparison = []\n",
    "ys_to_check = ys_train.flatten().numpy()\n",
    "\n",
    "for i, idx1 in enumerate(ys_to_check):\n",
    "    for j, idx2 in enumerate(ys_to_check):\n",
    "        if i >= j:\n",
    "            continue\n",
    "        if idx1 > idx2:\n",
    "            comparison.append((i, j, 1))  # i должен быть отранжирован выше j\n",
    "        elif idx1 < idx2:\n",
    "            comparison.append((i, j, 0))  # j должен быть отранжирован выше i\n",
    "        else:\n",
    "            comparison.append((i, j, 0.5))  # одинаковый ранг\n",
    "\n",
    "print(f'Length of comparison: {len(comparison)}')\n",
    "print(f'Classes balance:\\n{pd.Series(np.array([x[2] for x in comparison])).value_counts()}')\n",
    "\n",
    "comparison[:10]"
   ]
  },
  {
   "cell_type": "code",
   "execution_count": 35,
   "metadata": {},
   "outputs": [
    {
     "data": {
      "text/plain": [
       "499500.0"
      ]
     },
     "execution_count": 35,
     "metadata": {},
     "output_type": "execute_result"
    }
   ],
   "source": [
    "(1000 * 999) / 2"
   ]
  },
  {
   "cell_type": "code",
   "execution_count": 36,
   "metadata": {},
   "outputs": [],
   "source": [
    "class SynthPairDataset(torch.utils.data.Dataset):\n",
    "    def __init__(self, data, comparison):\n",
    "        super().__init__()\n",
    "        self.data = data\n",
    "        self.comparison = comparison\n",
    "\n",
    "    def __len__(self):\n",
    "        return len(self.comparison)\n",
    "\n",
    "    def __getitem__(self, index):\n",
    "        i, j, target = self.comparison[index]\n",
    "        x_i, x_j = self.data[i], self.data[j]\n",
    "\n",
    "        return torch.as_tensor(x_i, dtype=torch.float32),\\\n",
    "        torch.as_tensor(x_j, dtype=torch.float32),\\\n",
    "        torch.as_tensor(target, dtype=torch.float32)"
   ]
  },
  {
   "cell_type": "code",
   "execution_count": 37,
   "metadata": {},
   "outputs": [],
   "source": [
    "synth_dataset = SynthPairDataset(X_train, comparison)\n",
    "synth_dataloader = torch.utils.data.DataLoader(synth_dataset, batch_size=32, shuffle=True)"
   ]
  },
  {
   "cell_type": "code",
   "execution_count": 38,
   "metadata": {},
   "outputs": [
    {
     "name": "stdout",
     "output_type": "stream",
     "text": [
      "tensor([[-0.7833, -0.9256, -0.3572,  ..., -1.3975,  0.2452, -0.3351],\n",
      "        [-0.0642,  1.2438,  0.1781,  ..., -0.1576,  0.6264,  0.9809],\n",
      "        [ 0.0308, -0.6891,  0.8141,  ...,  0.9109, -1.0071,  0.4412],\n",
      "        ...,\n",
      "        [ 1.9322,  0.5748, -0.9847,  ..., -0.9142, -0.6096,  0.1959],\n",
      "        [-0.4562,  0.3792, -0.6419,  ...,  1.8431,  0.3598, -0.5866],\n",
      "        [-0.0494,  1.9040,  1.1757,  ..., -1.1783,  0.9214,  1.1035]])\n",
      "tensor([[-5.8592e-02, -1.3301e+00,  1.5334e+00,  ..., -1.3745e-01,\n",
      "          1.0013e+00,  5.8660e-01],\n",
      "        [ 7.3646e-01,  3.6403e-01,  1.3213e+00,  ..., -5.2435e-02,\n",
      "         -2.0775e+00,  1.5789e+00],\n",
      "        [-1.1648e-01, -8.1707e-01, -5.2319e-01,  ..., -1.0099e+00,\n",
      "          1.7143e-01,  5.4690e-01],\n",
      "        ...,\n",
      "        [-1.1360e+00, -1.3855e+00,  4.1111e-01,  ...,  3.7682e-01,\n",
      "          1.0825e-03,  6.8818e-01],\n",
      "        [ 1.6941e-01,  2.8234e-01, -1.2595e+00,  ..., -5.0628e-01,\n",
      "         -1.3584e+00, -6.5198e-02],\n",
      "        [ 6.5739e-01,  5.4291e-01, -5.6936e-03,  ..., -1.4344e+00,\n",
      "          2.7365e-01,  5.0319e-01]])\n",
      "tensor([0.5000, 0.5000, 0.0000, 0.5000, 1.0000, 0.5000, 0.5000, 0.5000, 0.5000,\n",
      "        0.5000, 1.0000, 1.0000, 1.0000, 0.0000, 0.5000, 0.5000, 0.0000, 0.0000,\n",
      "        0.0000, 0.0000, 0.0000, 0.5000, 0.5000, 1.0000, 1.0000, 0.0000, 1.0000,\n",
      "        1.0000, 0.5000, 1.0000, 0.5000, 0.0000])\n"
     ]
    }
   ],
   "source": [
    "for first, second, tgt in synth_dataloader:\n",
    "    print(first)\n",
    "    print(second)\n",
    "    print(tgt)\n",
    "    break"
   ]
  },
  {
   "cell_type": "code",
   "execution_count": 39,
   "metadata": {},
   "outputs": [
    {
     "data": {
      "text/plain": [
       "tensor(0.7355, grad_fn=<BinaryCrossEntropyBackward0>)"
      ]
     },
     "execution_count": 39,
     "metadata": {},
     "output_type": "execute_result"
    }
   ],
   "source": [
    "# test the model works\n",
    "\n",
    "ranknet_model = RankNet(num_input_features=100)\n",
    "\n",
    "criterion = torch.nn.BCELoss()\n",
    "\n",
    "preds = ranknet_model(first, second)\n",
    "criterion(preds, tgt.view(-1, 1))"
   ]
  },
  {
   "cell_type": "code",
   "execution_count": 40,
   "metadata": {},
   "outputs": [],
   "source": [
    "ranknet_model = RankNet(num_input_features=100, hidden_dim=16)\n",
    "ranknet_model.to(device)\n",
    "\n",
    "criterion = torch.nn.BCELoss()\n",
    "optimizer = torch.optim.Adam(ranknet_model.parameters())\n",
    "\n",
    "synth_dataset = SynthPairDataset(X_train, comparison)\n",
    "synth_dataloader = torch.utils.data.DataLoader(synth_dataset, batch_size=32, shuffle=True)"
   ]
  },
  {
   "cell_type": "code",
   "execution_count": 41,
   "metadata": {},
   "outputs": [
    {
     "name": "stdout",
     "output_type": "stream",
     "text": [
      "Epoch: 0\n",
      "Number of swapped pairs: 67424.0/124750\tnDCG_at_100: 0.4230\n",
      "Number of swapped pairs: 18891.0/124750\tnDCG_at_100: 1.0000\n",
      "Number of swapped pairs: 21212.0/124750\tnDCG_at_100: 1.0000\n",
      "Number of swapped pairs: 22988.0/124750\tnDCG_at_100: 0.9907\n",
      "Number of swapped pairs: 24157.0/124750\tnDCG_at_100: 0.9907\n",
      "Number of swapped pairs: 24407.0/124750\tnDCG_at_100: 0.9904\n",
      "Number of swapped pairs: 24976.0/124750\tnDCG_at_100: 0.9827\n",
      "Number of swapped pairs: 24986.0/124750\tnDCG_at_100: 0.9865\n",
      "Number of swapped pairs: 25162.0/124750\tnDCG_at_100: 0.9863\n",
      "Number of swapped pairs: 25264.0/124750\tnDCG_at_100: 0.9864\n",
      "Number of swapped pairs: 25568.0/124750\tnDCG_at_100: 0.9865\n",
      "Number of swapped pairs: 25708.0/124750\tnDCG_at_100: 0.9863\n",
      "Number of swapped pairs: 25790.0/124750\tnDCG_at_100: 0.9844\n",
      "Number of swapped pairs: 25788.0/124750\tnDCG_at_100: 0.9847\n",
      "Number of swapped pairs: 25749.0/124750\tnDCG_at_100: 0.9847\n",
      "Number of swapped pairs: 25911.0/124750\tnDCG_at_100: 0.9848\n",
      "Train loss: 0.29744707984299035\n"
     ]
    }
   ],
   "source": [
    "epochs = 1\n",
    "num_batches = len(synth_dataset)\n",
    "\n",
    "for epoch in range(epochs):\n",
    "    print(f'Epoch: {epoch}')\n",
    "    train_losses = []\n",
    "    for it, (batch_x1, batch_x2, tgt) in enumerate(synth_dataloader):\n",
    "\n",
    "        optimizer.zero_grad()\n",
    "        batch_x1 = batch_x1.to(device)\n",
    "        batch_x2 = batch_x2.to(device)\n",
    "        tgt = tgt.to(device)\n",
    "\n",
    "        batch_pred = ranknet_model(batch_x1, batch_x2)\n",
    "        batch_loss = criterion(batch_pred, tgt.view(-1, 1))\n",
    "        batch_loss.backward()\n",
    "\n",
    "        optimizer.step()\n",
    "\n",
    "        train_losses.append(batch_loss.item() * len(batch_x1))\n",
    "\n",
    "        if it % 1000 == 0:\n",
    "            with torch.no_grad():\n",
    "                total_pairs = len(X_valid) * (len(X_valid) - 1) // 2\n",
    "                \n",
    "                valid_pred = ranknet_model.predict(X_valid.to(device)).cpu().flatten()\n",
    "                \n",
    "                valid_swapped_pairs = -(sts.kendalltau(ys_valid.numpy(), valid_pred.numpy()).statistic * total_pairs - total_pairs) // 2\n",
    "                ndcg_score_ = ndcg_k(ys_valid.flatten(), valid_pred, gain_scheme='const', k=100)\n",
    "                print(f\"Number of swapped pairs: \"\n",
    "                      f\"{valid_swapped_pairs}/{total_pairs}\\t\"\n",
    "                f\"nDCG_at_100: {ndcg_score_:.4f}\")\n",
    "                \n",
    "    print(f'Train loss: {np.sum(train_losses) / num_batches}')"
   ]
  },
  {
   "cell_type": "markdown",
   "metadata": {
    "id": "I1VndCJKcF5O"
   },
   "source": [
    "# ListNet"
   ]
  },
  {
   "cell_type": "code",
   "execution_count": 42,
   "metadata": {
    "executionInfo": {
     "elapsed": 209,
     "status": "ok",
     "timestamp": 1737623870490,
     "user": {
      "displayName": "Roman Safronenkov",
      "userId": "04023794386653200418"
     },
     "user_tz": -180
    },
    "id": "Z8-WfsdxcF5O"
   },
   "outputs": [],
   "source": [
    "from itertools import combinations\n",
    "import numpy as np"
   ]
  },
  {
   "cell_type": "code",
   "execution_count": 43,
   "metadata": {
    "executionInfo": {
     "elapsed": 318,
     "status": "ok",
     "timestamp": 1737623961825,
     "user": {
      "displayName": "Roman Safronenkov",
      "userId": "04023794386653200418"
     },
     "user_tz": -180
    },
    "id": "0np813CAcF5O"
   },
   "outputs": [],
   "source": [
    "class ListNet(torch.nn.Module):\n",
    "    def __init__(self, num_input_features, hidden_dim=10):\n",
    "        super().__init__()\n",
    "        self.hidden_dim = hidden_dim\n",
    "        self.model = torch.nn.Sequential(\n",
    "            torch.nn.Linear(num_input_features, self.hidden_dim),\n",
    "            torch.nn.ReLU(),\n",
    "            torch.nn.Linear(self.hidden_dim, 1),\n",
    "        )\n",
    "\n",
    "\n",
    "    def forward(self, input_1):\n",
    "        logits = self.model(input_1)\n",
    "        return logits\n"
   ]
  },
  {
   "cell_type": "markdown",
   "metadata": {
    "id": "yD3Vzn8QdZUi"
   },
   "source": [
    "$$CE = -\\sum ^{N}_{j=1} (P_y^i(j) * log(P_z^i(j)))$$\n",
    "\n",
    "$$\\text{Softmax}(x_{i}) = \\frac{\\exp(x_i)}{\\sum_j \\exp(x_j)}$$"
   ]
  },
  {
   "cell_type": "code",
   "execution_count": 44,
   "metadata": {
    "executionInfo": {
     "elapsed": 251,
     "status": "ok",
     "timestamp": 1737624014031,
     "user": {
      "displayName": "Roman Safronenkov",
      "userId": "04023794386653200418"
     },
     "user_tz": -180
    },
    "id": "vEjM7O4ocF5P"
   },
   "outputs": [],
   "source": [
    "def listnet_ce_loss(y_i, z_i):\n",
    "    \"\"\"\n",
    "    y_i: (n_i, 1) GT\n",
    "    z_i: (n_i, 1) preds\n",
    "    \"\"\"\n",
    "\n",
    "    P_y_i = torch.softmax(y_i, dim=0)\n",
    "    P_z_i = torch.softmax(z_i, dim=0)\n",
    "    return -torch.sum(P_y_i * torch.log(P_z_i))\n",
    "\n",
    "def listnet_kl_loss(y_i, z_i):\n",
    "    \"\"\"\n",
    "    y_i: (n_i, 1) GT\n",
    "    z_i: (n_i, 1) preds\n",
    "    \"\"\"\n",
    "    P_y_i = torch.softmax(y_i, dim=0)\n",
    "    P_z_i = torch.softmax(z_i, dim=0)\n",
    "    return -torch.sum(P_y_i * torch.log(P_z_i/P_y_i))\n",
    "\n",
    "\n",
    "def make_dataset(N_train, N_valid, vector_dim):\n",
    "    fake_weights = torch.randn(vector_dim, 1)\n",
    "\n",
    "    X_train = torch.randn(N_train, vector_dim)\n",
    "    X_valid = torch.randn(N_valid, vector_dim)\n",
    "\n",
    "    ys_train_score = torch.mm(X_train, fake_weights)\n",
    "    ys_train_score += torch.randn_like(ys_train_score)\n",
    "\n",
    "    ys_valid_score = torch.mm(X_valid, fake_weights)\n",
    "    ys_valid_score += torch.randn_like(ys_valid_score)\n",
    "\n",
    "#     bins = [-1, 1]  # 3 relevances\n",
    "    bins = [-1, 0, 1, 2]  # 5 relevances\n",
    "    ys_train_rel = torch.Tensor(\n",
    "        np.digitize(ys_train_score.clone().detach().numpy(), bins=bins)\n",
    "    )\n",
    "    ys_valid_rel = torch.Tensor(\n",
    "        np.digitize(ys_valid_score.clone().detach().numpy(), bins=bins)\n",
    "    )\n",
    "\n",
    "    return X_train, X_valid, ys_train_rel, ys_valid_rel"
   ]
  },
  {
   "cell_type": "code",
   "execution_count": 45,
   "metadata": {
    "executionInfo": {
     "elapsed": 5643,
     "status": "ok",
     "timestamp": 1737624025567,
     "user": {
      "displayName": "Roman Safronenkov",
      "userId": "04023794386653200418"
     },
     "user_tz": -180
    },
    "id": "-8p3lZEqcF5P"
   },
   "outputs": [],
   "source": [
    "N_train = 1000\n",
    "N_valid = 500\n",
    "\n",
    "vector_dim = 100\n",
    "epochs = 2\n",
    "\n",
    "batch_size = 16\n",
    "\n",
    "X_train, X_valid, ys_train, ys_valid = make_dataset(N_train, N_valid, vector_dim)\n",
    "\n",
    "net = ListNet(num_input_features=vector_dim)\n",
    "opt = torch.optim.Adam(net.parameters())\n"
   ]
  },
  {
   "cell_type": "code",
   "execution_count": 46,
   "metadata": {
    "colab": {
     "base_uri": "https://localhost:8080/"
    },
    "executionInfo": {
     "elapsed": 4,
     "status": "ok",
     "timestamp": 1737624025568,
     "user": {
      "displayName": "Roman Safronenkov",
      "userId": "04023794386653200418"
     },
     "user_tz": -180
    },
    "id": "EXuUWyKacF5P",
    "outputId": "408c67aa-33ce-4fc4-984e-80804e894f28"
   },
   "outputs": [
    {
     "data": {
      "text/plain": [
       "tensor([0., 1., 2., 3., 4.])"
      ]
     },
     "execution_count": 46,
     "metadata": {},
     "output_type": "execute_result"
    }
   ],
   "source": [
    "torch.unique(ys_train)"
   ]
  },
  {
   "cell_type": "code",
   "execution_count": 47,
   "metadata": {
    "colab": {
     "base_uri": "https://localhost:8080/"
    },
    "executionInfo": {
     "elapsed": 16757,
     "status": "ok",
     "timestamp": 1737624094188,
     "user": {
      "displayName": "Roman Safronenkov",
      "userId": "04023794386653200418"
     },
     "user_tz": -180
    },
    "id": "XxDX1FXncF5P",
    "outputId": "645ffea2-08c2-41f4-e174-8bbbbf6e77f5"
   },
   "outputs": [
    {
     "name": "stdout",
     "output_type": "stream",
     "text": [
      "epoch: 1.\tNumber of swapped pairs: 55083/124750\tnDCG: 0.9127\n",
      "epoch: 1.\tNumber of swapped pairs: 52399/124750\tnDCG: 0.9272\n",
      "epoch: 1.\tNumber of swapped pairs: 50034/124750\tnDCG: 0.9373\n",
      "epoch: 1.\tNumber of swapped pairs: 47562/124750\tnDCG: 0.9448\n",
      "epoch: 1.\tNumber of swapped pairs: 45282/124750\tnDCG: 0.9522\n",
      "epoch: 1.\tNumber of swapped pairs: 42893/124750\tnDCG: 0.9595\n",
      "epoch: 1.\tNumber of swapped pairs: 40969/124750\tnDCG: 0.9654\n",
      "epoch: 2.\tNumber of swapped pairs: 40608/124750\tnDCG: 0.9664\n",
      "epoch: 2.\tNumber of swapped pairs: 39256/124750\tnDCG: 0.9703\n",
      "epoch: 2.\tNumber of swapped pairs: 38130/124750\tnDCG: 0.9732\n",
      "epoch: 2.\tNumber of swapped pairs: 37106/124750\tnDCG: 0.9758\n",
      "epoch: 2.\tNumber of swapped pairs: 36152/124750\tnDCG: 0.9780\n",
      "epoch: 2.\tNumber of swapped pairs: 35198/124750\tnDCG: 0.9804\n",
      "epoch: 2.\tNumber of swapped pairs: 34187/124750\tnDCG: 0.9826\n"
     ]
    }
   ],
   "source": [
    "for epoch in range(epochs):\n",
    "    idx = torch.randperm(N_train)\n",
    "\n",
    "    X_train = X_train[idx]\n",
    "    ys_train = ys_train[idx]\n",
    "\n",
    "    cur_batch = 0\n",
    "    for it in range(N_train // batch_size):\n",
    "        batch_X = X_train[cur_batch: cur_batch + batch_size]\n",
    "        batch_ys = ys_train[cur_batch: cur_batch + batch_size]\n",
    "        cur_batch += batch_size\n",
    "\n",
    "        opt.zero_grad()\n",
    "        if len(batch_X) > 0:\n",
    "            batch_pred = net(batch_X)\n",
    "            batch_loss = listnet_kl_loss(batch_ys, batch_pred)\n",
    "#             batch_loss = listnet_ce_loss(batch_ys, batch_pred)\n",
    "            batch_loss.backward(retain_graph=True)\n",
    "            opt.step()\n",
    "\n",
    "        if it % 10 == 0:\n",
    "            with torch.no_grad():\n",
    "                valid_pred = net(X_valid)\n",
    "                valid_swapped_pairs = num_swapped_pairs(ys_valid.flatten(),\n",
    "                                                        valid_pred.flatten())\n",
    "                ndcg_score = ndcg(ys_valid.flatten(), valid_pred.flatten())\n",
    "            print(f\"epoch: {epoch + 1}.\\tNumber of swapped pairs: \"\n",
    "                  f\"{valid_swapped_pairs}/{N_valid * (N_valid - 1) // 2}\\t\"\n",
    "                  f\"nDCG: {ndcg_score:.4f}\")"
   ]
  },
  {
   "cell_type": "markdown",
   "metadata": {
    "id": "YgakHYb-e5FZ"
   },
   "source": [
    "# Task solution"
   ]
  },
  {
   "cell_type": "code",
   "execution_count": 48,
   "metadata": {
    "colab": {
     "base_uri": "https://localhost:8080/",
     "height": 393
    },
    "executionInfo": {
     "elapsed": 251,
     "status": "error",
     "timestamp": 1737624385009,
     "user": {
      "displayName": "Roman Safronenkov",
      "userId": "04023794386653200418"
     },
     "user_tz": -180
    },
    "id": "ayfgP4vse2V_",
    "outputId": "9431a9b0-01f1-4361-a06c-27b757aaf7be"
   },
   "outputs": [],
   "source": [
    "import math\n",
    "\n",
    "import numpy as np\n",
    "import torch\n",
    "from catboost.datasets import msrank_10k\n",
    "from sklearn.preprocessing import StandardScaler\n",
    "\n",
    "from typing import List\n",
    "\n",
    "\n",
    "class ListNet(torch.nn.Module):\n",
    "    def __init__(self, num_input_features: int, hidden_dim: int):\n",
    "        super().__init__()\n",
    "        self.hidden_dim = hidden_dim\n",
    "        self.model = torch.nn.Sequential(\n",
    "            torch.nn.Linear(num_input_features, hidden_dim),\n",
    "            torch.nn.Dropout(0.3),\n",
    "            torch.nn.ReLU(),\n",
    "            torch.nn.Linear(hidden_dim, 1)\n",
    "        )\n",
    "\n",
    "    def forward(self, input_1: torch.Tensor) -> torch.Tensor:\n",
    "        logits = self.model(input_1)\n",
    "        return logits\n",
    "\n",
    "\n",
    "class Solution:\n",
    "    def __init__(self, n_epochs: int = 5, listnet_hidden_dim: int = 30,\n",
    "                 lr: float = 0.001, ndcg_top_k: int = 10):\n",
    "        self._prepare_data()\n",
    "        self.num_input_features = self.X_train.shape[1]\n",
    "        self.ndcg_top_k = ndcg_top_k\n",
    "        self.n_epochs = n_epochs\n",
    "\n",
    "        self.model = self._create_model(\n",
    "            self.num_input_features, listnet_hidden_dim)\n",
    "        self.optimizer = torch.optim.Adam(self.model.parameters(), lr=lr)\n",
    "\n",
    "    def _get_data(self) -> List[np.ndarray]:\n",
    "        train_df, test_df = msrank_10k()\n",
    "\n",
    "        X_train = train_df.drop([0, 1], axis=1).values\n",
    "        y_train = train_df[0].values\n",
    "        query_ids_train = train_df[1].values.astype(int)\n",
    "\n",
    "        X_test = test_df.drop([0, 1], axis=1).values\n",
    "        y_test = test_df[0].values\n",
    "        query_ids_test = test_df[1].values.astype(int)\n",
    "\n",
    "        return [X_train, y_train, query_ids_train, X_test, y_test, query_ids_test]\n",
    "\n",
    "    def _prepare_data(self) -> None:\n",
    "        (X_train, y_train, self.query_ids_train,\n",
    "            X_test, y_test, self.query_ids_test) = self._get_data()\n",
    "        \n",
    "        self.X_train = self._scale_features_in_query_groups(X_train, self.query_ids_train)\n",
    "        self.X_test = self._scale_features_in_query_groups(X_test, self.query_ids_test)\n",
    "\n",
    "        self.ys_train = torch.as_tensor(y_train, dtype=torch.float32)\n",
    "        self.ys_test = torch.as_tensor(y_test, dtype=torch.float32)\n",
    "\n",
    "    def _scale_features_in_query_groups(self, inp_feat_array: np.ndarray,\n",
    "                                        inp_query_ids: np.ndarray) -> np.ndarray:\n",
    "\n",
    "        scaled_features = np.zeros_like(inp_feat_array)\n",
    "        \n",
    "        for query in np.unique(inp_query_ids):\n",
    "            idxs = np.where(inp_query_ids == query)[0]\n",
    "            scaled_features[idxs] = StandardScaler().fit_transform(inp_feat_array[idxs])\n",
    "        return torch.as_tensor(scaled_features, dtype=torch.float32)\n",
    "\n",
    "    def _create_model(self, listnet_num_input_features: int,\n",
    "                      listnet_hidden_dim: int) -> torch.nn.Module:\n",
    "        torch.manual_seed(0)\n",
    "        net = ListNet(listnet_num_input_features, listnet_hidden_dim)\n",
    "        return net\n",
    "\n",
    "    def fit(self) -> List[float]:\n",
    "        ndcgs = []\n",
    "        for epoch in range(self.n_epochs):\n",
    "            self._train_one_epoch()\n",
    "\n",
    "            ndcg = self._eval_test_set()\n",
    "            ndcgs.append(ndcg)\n",
    "            print(f'Epoch: {epoch+1}. NDCG_{self.ndcg_top_k}: {ndcg}')\n",
    "        return ndcgs\n",
    "\n",
    "    def _calc_loss(self, batch_ys: torch.FloatTensor,\n",
    "                   batch_pred: torch.FloatTensor) -> torch.FloatTensor:\n",
    "        P_y_i = torch.softmax(batch_ys, dim=0)\n",
    "        P_z_i = torch.softmax(batch_pred, dim=0)\n",
    "        return -torch.sum(P_y_i * torch.log(P_z_i))\n",
    "\n",
    "    def _train_one_epoch(self) -> None:\n",
    "        self.model.train()\n",
    "        for query in np.unique(self.query_ids_train):\n",
    "            query_idxs = np.where(self.query_ids_train == query)[0]\n",
    "            query_x = self.X_train[query_idxs]\n",
    "            query_y = self.ys_train[query_idxs]\n",
    "            \n",
    "            # здесь можно добавить итерацию по батчам\n",
    "            self.optimizer.zero_grad()\n",
    "            \n",
    "            preds = self.model(query_x).flatten()\n",
    "            loss = self._calc_loss(query_y, preds)\n",
    "            loss.backward()\n",
    "            self.optimizer.step()\n",
    "\n",
    "    def _eval_test_set(self) -> float:\n",
    "        with torch.no_grad():\n",
    "            self.model.eval()\n",
    "            ndcgs = []\n",
    "            for query in np.unique(self.query_ids_test):\n",
    "                query_idxs = np.where(self.query_ids_test == query)[0]\n",
    "                query_x = self.X_test[query_idxs]\n",
    "                query_y = self.ys_test[query_idxs].flatten()\n",
    "                \n",
    "                preds = self.model(query_x).flatten()\n",
    "                ndcg = self._ndcg_k(query_y, preds, ndcg_top_k=self.ndcg_top_k)\n",
    "\n",
    "                ndcgs.append(ndcg)\n",
    "            return np.mean(ndcgs)\n",
    "\n",
    "    def _ndcg_k(self, ys_true: torch.Tensor, ys_pred: torch.Tensor,\n",
    "                ndcg_top_k: int) -> float:\n",
    "        \n",
    "        def compute_gain(y_value: float, gain_scheme: str) -> float:\n",
    "            assert gain_scheme in ['const', 'exp2']\n",
    "            if gain_scheme == 'const':\n",
    "                return y_value\n",
    "            elif gain_scheme == 'exp2':\n",
    "                return 2 ** y_value - 1\n",
    "        \n",
    "        \n",
    "        def dcg_k(ys_true: Tensor, ys_pred: Tensor, gain_scheme: str, k: int) -> float:\n",
    "            dcg_value = 0\n",
    "            _, sorted_ys_pred_idx = sort(ys_pred, descending=True)\n",
    "            for i, rel in enumerate(ys_true[sorted_ys_pred_idx][:k]):\n",
    "                dcg_value += compute_gain(rel, gain_scheme=gain_scheme) / log2(i+2)\n",
    "            return dcg_value\n",
    "\n",
    "        # расчет по экспоненциальной формуле\n",
    "        dcg_value = dcg_k(ys_true, ys_pred, gain_scheme='exp2', k=ndcg_top_k)\n",
    "        perfect_dcg = dcg_k(ys_true, ys_true, gain_scheme='exp2', k=ndcg_top_k)\n",
    "        \n",
    "        return dcg_value / perfect_dcg\n"
   ]
  },
  {
   "cell_type": "code",
   "execution_count": 49,
   "metadata": {
    "id": "dsLw4YTje_Nu"
   },
   "outputs": [],
   "source": [
    "solution = Solution(listnet_hidden_dim=30)"
   ]
  },
  {
   "cell_type": "code",
   "execution_count": 50,
   "metadata": {},
   "outputs": [
    {
     "name": "stdout",
     "output_type": "stream",
     "text": [
      "Epoch: 1. NDCG_10: 0.41444405913352966\n",
      "Epoch: 2. NDCG_10: 0.43271610140800476\n",
      "Epoch: 3. NDCG_10: 0.4335741698741913\n",
      "Epoch: 4. NDCG_10: 0.4383959472179413\n",
      "Epoch: 5. NDCG_10: 0.43431270122528076\n"
     ]
    },
    {
     "data": {
      "text/plain": [
       "[0.41444406, 0.4327161, 0.43357417, 0.43839595, 0.4343127]"
      ]
     },
     "execution_count": 50,
     "metadata": {},
     "output_type": "execute_result"
    }
   ],
   "source": [
    "solution.fit()"
   ]
  },
  {
   "cell_type": "code",
   "execution_count": null,
   "metadata": {},
   "outputs": [],
   "source": []
  }
 ],
 "metadata": {
  "colab": {
   "name": "",
   "toc_visible": true,
   "version": ""
  },
  "kernelspec": {
   "display_name": "uplift",
   "language": "python",
   "name": "uplift"
  },
  "language_info": {
   "codemirror_mode": {
    "name": "ipython",
    "version": 3
   },
   "file_extension": ".py",
   "mimetype": "text/x-python",
   "name": "python",
   "nbconvert_exporter": "python",
   "pygments_lexer": "ipython3",
   "version": "3.11.9"
  }
 },
 "nbformat": 4,
 "nbformat_minor": 4
}
