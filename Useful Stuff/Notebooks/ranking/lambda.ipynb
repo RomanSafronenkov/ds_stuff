{
 "cells": [
  {
   "cell_type": "code",
   "execution_count": 58,
   "metadata": {},
   "outputs": [],
   "source": [
    "# https://www.microsoft.com/en-us/research/uploads/prod/2016/02/MSR-TR-2010-82.pdf"
   ]
  },
  {
   "cell_type": "code",
   "execution_count": 1,
   "metadata": {},
   "outputs": [],
   "source": [
    "import torch\n",
    "import numpy as np\n",
    "from utils import ndcg, compute_ideal_dcg"
   ]
  },
  {
   "cell_type": "code",
   "execution_count": 31,
   "metadata": {},
   "outputs": [],
   "source": [
    "# в y_true лежат оценки релевантности\n",
    "y_true = torch.LongTensor([[5, 3, 2, 5, 1, 1]]).reshape(-1, 1)\n",
    "y_pred = torch.FloatTensor([3.2, 0.4, -0.1, -2.1, 0.5, 0.01]).reshape(-1, 1)"
   ]
  },
  {
   "cell_type": "code",
   "execution_count": 32,
   "metadata": {},
   "outputs": [
    {
     "data": {
      "text/plain": [
       "tensor([[ 3.2000],\n",
       "        [ 0.4000],\n",
       "        [-0.1000],\n",
       "        [-2.1000],\n",
       "        [ 0.5000],\n",
       "        [ 0.0100]])"
      ]
     },
     "execution_count": 32,
     "metadata": {},
     "output_type": "execute_result"
    }
   ],
   "source": [
    "y_pred"
   ]
  },
  {
   "cell_type": "markdown",
   "metadata": {
    "scrolled": true
   },
   "source": [
    "$$\\lambda = \\left(0.5 * (1 - S_{ij}) - \\frac {1} {1 + e^{s_i - s_j}}\\right) |\\Delta nDCG|$$\n",
    "\n",
    "$$\\Delta nDCG = \\frac {1} {IdealDCG} (2^i - 2^j) \\left(\\frac {1} {log_2(1+i)} - \\frac {1} {log_2(1+j)}\\right)$$"
   ]
  },
  {
   "cell_type": "code",
   "execution_count": 35,
   "metadata": {},
   "outputs": [],
   "source": [
    "def compute_lambdas(y_true, y_pred, gain_scheme='exp2'):\n",
    "    # рассчитаем нормировку, IdealDCG\n",
    "    ideal_dcg = compute_ideal_dcg(y_true, gain_scheme=gain_scheme)\n",
    "    N = 1 / ideal_dcg\n",
    "    \n",
    "    # рассчитаем порядок документов согласно оценкам релевантности\n",
    "    _, rank_order = torch.sort(y_true, descending=True, axis=0)\n",
    "    rank_order += 1\n",
    "    \n",
    "    with torch.no_grad():\n",
    "        # получаем все попарные разницы скоров в батче\n",
    "        pos_pairs_score_diff = 1.0 + torch.exp((y_pred - y_pred.t()))\n",
    "        \n",
    "        # поставим разметку для пар, 1 если первый документ релевантнее\n",
    "        # -1 если второй документ релевантнее\n",
    "        Sij = compute_labels_in_batch(y_true)\n",
    "        # посчитаем изменение gain из-за перестановок\n",
    "        gain_diff = compute_gain_diff(y_true, gain_scheme)\n",
    "        \n",
    "        # посчитаем изменение знаменателей-дискаунтеров\n",
    "        decay_diff = (1.0 / torch.log2(rank_order + 1.0)) - (1.0 / torch.log2(rank_order.t() + 1.0))\n",
    "        # посчитаем непосредственное изменение nDCG\n",
    "        delta_ndcg = torch.abs(N * gain_diff * decay_diff)\n",
    "        # посчитаем лямбды\n",
    "        lambda_update =  (0.5 * (1 - Sij) - 1 / pos_pairs_score_diff) * delta_ndcg\n",
    "        lambda_update = torch.sum(lambda_update, dim=1, keepdim=True)\n",
    "        \n",
    "        return Sij, gain_diff, decay_diff, delta_ndcg, lambda_update\n",
    "    \n",
    "    \n",
    "def compute_labels_in_batch(y_true):\n",
    "    \n",
    "    # разница релевантностей каждого с каждым объектом\n",
    "    rel_diff = y_true - y_true.t()\n",
    "    \n",
    "    # 1 в этой матрице - объект более релевантен\n",
    "    pos_pairs = (rel_diff > 0).type(torch.float32)\n",
    "    \n",
    "    # 1 тут - объект менее релевантен\n",
    "    neg_pairs = (rel_diff < 0).type(torch.float32)\n",
    "    Sij = pos_pairs - neg_pairs\n",
    "    return Sij\n",
    "\n",
    "def compute_gain_diff(y_true, gain_scheme):\n",
    "    if gain_scheme == \"exp2\":\n",
    "        gain_diff = torch.pow(2.0, y_true) - torch.pow(2.0, y_true.t())\n",
    "    elif gain_scheme == \"const\":\n",
    "        gain_diff = y_true - y_true.t()\n",
    "    else:\n",
    "        raise ValueError(f\"{gain_scheme} method not supported\")\n",
    "    return gain_diff"
   ]
  },
  {
   "cell_type": "code",
   "execution_count": 36,
   "metadata": {},
   "outputs": [
    {
     "name": "stdout",
     "output_type": "stream",
     "text": [
      "Ideal DCG:56.09391403198242\n",
      "\n",
      "True and predicted:\n",
      "tensor([[5],\n",
      "        [3],\n",
      "        [2],\n",
      "        [5],\n",
      "        [1],\n",
      "        [1]])\n",
      "tensor([[ 3.2000],\n",
      "        [ 0.4000],\n",
      "        [-0.1000],\n",
      "        [-2.1000],\n",
      "        [ 0.5000],\n",
      "        [ 0.0100]])\n",
      "\n",
      "Correct ranking indexes:\n",
      "tensor([[0],\n",
      "        [3],\n",
      "        [1],\n",
      "        [2],\n",
      "        [4],\n",
      "        [5]])\n",
      "S_ij for elem=0:\n",
      "tensor([[0.],\n",
      "        [1.],\n",
      "        [1.],\n",
      "        [0.],\n",
      "        [1.],\n",
      "        [1.]])\n",
      "\n",
      "Diff preds:\n",
      "tensor([[0.0000],\n",
      "        [2.8000],\n",
      "        [3.3000],\n",
      "        [5.3000],\n",
      "        [2.7000],\n",
      "        [3.1900]])\n",
      "\n",
      "Diff in gain:\n",
      "tensor([[ 0.],\n",
      "        [24.],\n",
      "        [28.],\n",
      "        [ 0.],\n",
      "        [30.],\n",
      "        [30.]])\n",
      "\n",
      "Decay diff:\n",
      "tensor([[0.0000],\n",
      "        [0.5693],\n",
      "        [0.3691],\n",
      "        [0.5000],\n",
      "        [0.6131],\n",
      "        [0.6438]])\n",
      "\n",
      "Lambda_i for each j:\n",
      "tensor([[ 0.0000],\n",
      "        [-0.0140],\n",
      "        [-0.0066],\n",
      "        [ 0.0000],\n",
      "        [-0.0207],\n",
      "        [-0.0136]])\n",
      "\n",
      "Lambda_i:\n",
      "-0.05478230118751526\n",
      "\n"
     ]
    }
   ],
   "source": [
    "# вручную\n",
    "\n",
    "# считаем идеальный DCG\n",
    "ideal_dcg = compute_ideal_dcg(y_true, gain_scheme='exp2')\n",
    "print(f'Ideal DCG:{ideal_dcg}', end='\\n\\n')\n",
    "\n",
    "correct_ranks = torch.sort(y_true, descending=True, axis=0)[1]\n",
    "\n",
    "print('True and predicted:', y_true, y_pred, sep='\\n', end='\\n\\n')\n",
    "elem = 0\n",
    "\n",
    "print(f'Correct ranking indexes:\\n{correct_ranks}')\n",
    "\n",
    "s_ij = (y_true < y_true[elem]).type(torch.float32)\n",
    "print(f'S_ij for elem={elem}:', s_ij, sep='\\n', end='\\n\\n')\n",
    "\n",
    "s_i_j = y_pred[elem] - y_pred\n",
    "print(f'Diff preds:\\n{s_i_j}', end='\\n\\n')\n",
    "\n",
    "gain_diff = torch.pow(2.0, y_true[elem]) - torch.pow(2.0, y_true)\n",
    "print(f'Diff in gain:\\n{gain_diff}', end='\\n\\n')\n",
    "\n",
    "decay_diff = (1.0 / torch.log2(correct_ranks[elem]+2)) - (1.0 / torch.log2(correct_ranks+2))\n",
    "print(f'Decay diff:\\n{decay_diff}', end='\\n\\n')\n",
    "\n",
    "lambda_i = (0.5 * (1 - s_ij) - 1/(1+torch.exp(s_i_j))) * (1/ideal_dcg) * gain_diff * decay_diff\n",
    "print(f'Lambda_i for each j:\\n{lambda_i}', end='\\n\\n')\n",
    "\n",
    "lambda_i = torch.sum(lambda_i)\n",
    "print(f'Lambda_i:\\n{lambda_i}', end='\\n\\n')"
   ]
  },
  {
   "cell_type": "code",
   "execution_count": 37,
   "metadata": {},
   "outputs": [
    {
     "data": {
      "text/plain": [
       "tensor([[ 0.0000,  2.8000,  3.3000,  5.3000,  2.7000,  3.1900],\n",
       "        [-2.8000,  0.0000,  0.5000,  2.5000, -0.1000,  0.3900],\n",
       "        [-3.3000, -0.5000,  0.0000,  2.0000, -0.6000, -0.1100],\n",
       "        [-5.3000, -2.5000, -2.0000,  0.0000, -2.6000, -2.1100],\n",
       "        [-2.7000,  0.1000,  0.6000,  2.6000,  0.0000,  0.4900],\n",
       "        [-3.1900, -0.3900,  0.1100,  2.1100, -0.4900,  0.0000]])"
      ]
     },
     "execution_count": 37,
     "metadata": {},
     "output_type": "execute_result"
    }
   ],
   "source": [
    "y_pred - y_pred.t()"
   ]
  },
  {
   "cell_type": "code",
   "execution_count": 38,
   "metadata": {},
   "outputs": [
    {
     "data": {
      "text/plain": [
       "tensor([[ 0,  2,  3,  0,  4,  4],\n",
       "        [-2,  0,  1, -2,  2,  2],\n",
       "        [-3, -1,  0, -3,  1,  1],\n",
       "        [ 0,  2,  3,  0,  4,  4],\n",
       "        [-4, -2, -1, -4,  0,  0],\n",
       "        [-4, -2, -1, -4,  0,  0]])"
      ]
     },
     "execution_count": 38,
     "metadata": {},
     "output_type": "execute_result"
    }
   ],
   "source": [
    "y_true - y_true.t()"
   ]
  },
  {
   "cell_type": "code",
   "execution_count": 39,
   "metadata": {},
   "outputs": [],
   "source": [
    "Sij, gain_diff, decay_diff, delta_ndcg, lambda_update = compute_lambdas(y_true, y_pred)"
   ]
  },
  {
   "cell_type": "code",
   "execution_count": 40,
   "metadata": {},
   "outputs": [
    {
     "data": {
      "text/plain": [
       "tensor([[-0.0548],\n",
       "        [ 0.0303],\n",
       "        [ 0.0587],\n",
       "        [-0.2099],\n",
       "        [ 0.0851],\n",
       "        [ 0.0906]])"
      ]
     },
     "execution_count": 40,
     "metadata": {},
     "output_type": "execute_result"
    }
   ],
   "source": [
    "lambda_update"
   ]
  },
  {
   "cell_type": "code",
   "execution_count": 41,
   "metadata": {},
   "outputs": [
    {
     "data": {
      "text/plain": [
       "tensor([[ 0.,  1.,  1.,  0.,  1.,  1.],\n",
       "        [-1.,  0.,  1., -1.,  1.,  1.],\n",
       "        [-1., -1.,  0., -1.,  1.,  1.],\n",
       "        [ 0.,  1.,  1.,  0.,  1.,  1.],\n",
       "        [-1., -1., -1., -1.,  0.,  0.],\n",
       "        [-1., -1., -1., -1.,  0.,  0.]])"
      ]
     },
     "execution_count": 41,
     "metadata": {},
     "output_type": "execute_result"
    }
   ],
   "source": [
    "Sij"
   ]
  },
  {
   "cell_type": "code",
   "execution_count": 42,
   "metadata": {},
   "outputs": [
    {
     "data": {
      "text/plain": [
       "tensor([[  0.,  24.,  28.,   0.,  30.,  30.],\n",
       "        [-24.,   0.,   4., -24.,   6.,   6.],\n",
       "        [-28.,  -4.,   0., -28.,   2.,   2.],\n",
       "        [  0.,  24.,  28.,   0.,  30.,  30.],\n",
       "        [-30.,  -6.,  -2., -30.,   0.,   0.],\n",
       "        [-30.,  -6.,  -2., -30.,   0.,   0.]])"
      ]
     },
     "execution_count": 42,
     "metadata": {},
     "output_type": "execute_result"
    }
   ],
   "source": [
    "gain_diff"
   ]
  },
  {
   "cell_type": "code",
   "execution_count": 43,
   "metadata": {},
   "outputs": [
    {
     "data": {
      "text/plain": [
       "(30, 24)"
      ]
     },
     "execution_count": 43,
     "metadata": {},
     "output_type": "execute_result"
    }
   ],
   "source": [
    "# пример вычисления элемента gain diff для первого (релевантность 5) и последнего документа (1); \n",
    "# для первого (5) и второго (3) документа\n",
    "(2**5 - 1) - (2**1 -1), (2**5 - 1) - (2**3-1)"
   ]
  },
  {
   "cell_type": "code",
   "execution_count": 44,
   "metadata": {},
   "outputs": [
    {
     "data": {
      "text/plain": [
       "tensor([[ 0.0000,  0.5693,  0.3691,  0.5000,  0.6131,  0.6438],\n",
       "        [-0.5693,  0.0000, -0.2003, -0.0693,  0.0438,  0.0745],\n",
       "        [-0.3691,  0.2003,  0.0000,  0.1309,  0.2441,  0.2747],\n",
       "        [-0.5000,  0.0693, -0.1309,  0.0000,  0.1131,  0.1438],\n",
       "        [-0.6131, -0.0438, -0.2441, -0.1131,  0.0000,  0.0306],\n",
       "        [-0.6438, -0.0745, -0.2747, -0.1438, -0.0306,  0.0000]])"
      ]
     },
     "execution_count": 44,
     "metadata": {},
     "output_type": "execute_result"
    }
   ],
   "source": [
    "decay_diff"
   ]
  },
  {
   "cell_type": "code",
   "execution_count": 45,
   "metadata": {},
   "outputs": [
    {
     "data": {
      "text/plain": [
       "0.6437928128919779"
      ]
     },
     "execution_count": 45,
     "metadata": {},
     "output_type": "execute_result"
    }
   ],
   "source": [
    "# посчитаем изменение знаменателей-дискаунтеров для первого и последнего документа\n",
    "(1 / np.log2(1+1)) - (1 / np.log2(1+6))"
   ]
  },
  {
   "cell_type": "code",
   "execution_count": 46,
   "metadata": {},
   "outputs": [
    {
     "data": {
      "text/plain": [
       "tensor([[0.0000, 0.2436, 0.1842, 0.0000, 0.3279, 0.3443],\n",
       "        [0.2436, 0.0000, 0.0143, 0.0297, 0.0047, 0.0080],\n",
       "        [0.1842, 0.0143, 0.0000, 0.0654, 0.0087, 0.0098],\n",
       "        [0.0000, 0.0297, 0.0654, 0.0000, 0.0605, 0.0769],\n",
       "        [0.3279, 0.0047, 0.0087, 0.0605, 0.0000, 0.0000],\n",
       "        [0.3443, 0.0080, 0.0098, 0.0769, 0.0000, 0.0000]])"
      ]
     },
     "execution_count": 46,
     "metadata": {},
     "output_type": "execute_result"
    }
   ],
   "source": [
    "delta_ndcg"
   ]
  },
  {
   "cell_type": "code",
   "execution_count": 47,
   "metadata": {},
   "outputs": [
    {
     "data": {
      "text/plain": [
       "tensor([[-0.0548],\n",
       "        [ 0.0303],\n",
       "        [ 0.0587],\n",
       "        [-0.2099],\n",
       "        [ 0.0851],\n",
       "        [ 0.0906]])"
      ]
     },
     "execution_count": 47,
     "metadata": {},
     "output_type": "execute_result"
    }
   ],
   "source": [
    "lambda_update"
   ]
  },
  {
   "cell_type": "code",
   "execution_count": 48,
   "metadata": {},
   "outputs": [],
   "source": [
    "for _ in range(100):\n",
    "    _, _, _, _, lambda_update = compute_lambdas(y_true, y_pred)\n",
    "    y_pred -= lambda_update"
   ]
  },
  {
   "cell_type": "code",
   "execution_count": 49,
   "metadata": {},
   "outputs": [],
   "source": [
    "rank_indexes = torch.argsort(y_pred, dim=0, descending=True)"
   ]
  },
  {
   "cell_type": "code",
   "execution_count": 50,
   "metadata": {},
   "outputs": [
    {
     "data": {
      "text/plain": [
       "tensor([[ 4.3905],\n",
       "        [-0.1219],\n",
       "        [-1.0463],\n",
       "        [ 2.0759],\n",
       "        [-1.5135],\n",
       "        [-1.8746]])"
      ]
     },
     "execution_count": 50,
     "metadata": {},
     "output_type": "execute_result"
    }
   ],
   "source": [
    "y_pred"
   ]
  },
  {
   "cell_type": "code",
   "execution_count": 51,
   "metadata": {},
   "outputs": [
    {
     "data": {
      "text/plain": [
       "tensor([[[5]],\n",
       "\n",
       "        [[5]],\n",
       "\n",
       "        [[3]],\n",
       "\n",
       "        [[2]],\n",
       "\n",
       "        [[1]],\n",
       "\n",
       "        [[1]]])"
      ]
     },
     "execution_count": 51,
     "metadata": {},
     "output_type": "execute_result"
    }
   ],
   "source": [
    "y_true[rank_indexes]"
   ]
  },
  {
   "cell_type": "code",
   "execution_count": 52,
   "metadata": {},
   "outputs": [
    {
     "data": {
      "text/plain": [
       "tensor([[5],\n",
       "        [5],\n",
       "        [3],\n",
       "        [2],\n",
       "        [1],\n",
       "        [1]])"
      ]
     },
     "execution_count": 52,
     "metadata": {},
     "output_type": "execute_result"
    }
   ],
   "source": [
    "# полностью правильное ранжирование\n",
    "torch.sort(y_true, dim=0, descending=True)[0]"
   ]
  },
  {
   "cell_type": "code",
   "execution_count": 53,
   "metadata": {},
   "outputs": [],
   "source": [
    "y_true = torch.LongTensor([[5,3,2,5,1,1]]).reshape(-1,1)\n",
    "\n",
    "# совсем плохие предсказанные скоры в начале\n",
    "y_pred = torch.FloatTensor([-3.0, 2.0, 3.0, -4.0, 6.0, 8.5]).reshape(-1,1)"
   ]
  },
  {
   "cell_type": "code",
   "execution_count": 54,
   "metadata": {},
   "outputs": [
    {
     "data": {
      "text/plain": [
       "0.6784099365897729"
      ]
     },
     "execution_count": 54,
     "metadata": {},
     "output_type": "execute_result"
    }
   ],
   "source": [
    "ndcg(y_true, y_pred)"
   ]
  },
  {
   "cell_type": "code",
   "execution_count": 55,
   "metadata": {},
   "outputs": [],
   "source": [
    "for _ in range(100):\n",
    "    _, _, _, _, lambda_update = compute_lambdas(y_true, y_pred)\n",
    "    y_pred -= lambda_update"
   ]
  },
  {
   "cell_type": "code",
   "execution_count": 56,
   "metadata": {},
   "outputs": [
    {
     "data": {
      "text/plain": [
       "1.0"
      ]
     },
     "execution_count": 56,
     "metadata": {},
     "output_type": "execute_result"
    }
   ],
   "source": [
    "ndcg(y_true, y_pred)"
   ]
  },
  {
   "cell_type": "code",
   "execution_count": 57,
   "metadata": {},
   "outputs": [
    {
     "data": {
      "text/plain": [
       "tensor([[6.2690],\n",
       "        [1.2374],\n",
       "        [0.5772],\n",
       "        [3.6842],\n",
       "        [0.3482],\n",
       "        [0.3840]])"
      ]
     },
     "execution_count": 57,
     "metadata": {},
     "output_type": "execute_result"
    }
   ],
   "source": [
    "# полностью правильное ранжирование при увеличении количества итераций\n",
    "y_pred"
   ]
  },
  {
   "cell_type": "code",
   "execution_count": null,
   "metadata": {},
   "outputs": [],
   "source": []
  }
 ],
 "metadata": {
  "kernelspec": {
   "display_name": "uplift",
   "language": "python",
   "name": "uplift"
  },
  "language_info": {
   "codemirror_mode": {
    "name": "ipython",
    "version": 3
   },
   "file_extension": ".py",
   "mimetype": "text/x-python",
   "name": "python",
   "nbconvert_exporter": "python",
   "pygments_lexer": "ipython3",
   "version": "3.11.9"
  }
 },
 "nbformat": 4,
 "nbformat_minor": 4
}
