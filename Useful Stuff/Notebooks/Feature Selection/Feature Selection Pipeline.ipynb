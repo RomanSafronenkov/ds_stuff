{
 "cells": [
  {
   "cell_type": "markdown",
   "id": "b880fede",
   "metadata": {},
   "source": [
    "# Ноутбук по отбору признаков. Все вместе"
   ]
  },
  {
   "cell_type": "code",
   "execution_count": 1,
   "id": "97701d39",
   "metadata": {},
   "outputs": [],
   "source": [
    "from abc import ABC, abstractmethod\n",
    "import copy\n",
    "\n",
    "import pandas as pd\n",
    "import numpy as np\n",
    "\n",
    "from sklearn.datasets import make_classification\n",
    "from sklearn.metrics import accuracy_score, classification_report, f1_score\n",
    "from sklearn.model_selection import cross_val_score, StratifiedKFold, KFold, train_test_split\n",
    "from sklearn.inspection import permutation_importance\n",
    "\n",
    "from lightgbm import LGBMClassifier\n",
    "\n",
    "import matplotlib.pyplot as plt\n",
    "%matplotlib inline\n",
    "\n",
    "import shap\n",
    "\n",
    "import warnings\n",
    "warnings.filterwarnings('ignore')"
   ]
  },
  {
   "cell_type": "code",
   "execution_count": 2,
   "id": "9e451a03",
   "metadata": {},
   "outputs": [],
   "source": [
    "x, y = make_classification(\n",
    "    n_samples=10000,\n",
    "    n_features=100,\n",
    "    n_informative=15,\n",
    "    n_redundant=5,\n",
    "    weights=(0.8, 0.1, 0.1),\n",
    "    n_classes=3,\n",
    "    n_repeated=5,\n",
    "    n_clusters_per_class=4,\n",
    "    shift=0.8,\n",
    "    scale=3.0,\n",
    "    shuffle=False)"
   ]
  },
  {
   "cell_type": "code",
   "execution_count": 3,
   "id": "6aea0ab4",
   "metadata": {},
   "outputs": [
    {
     "data": {
      "text/plain": [
       "0.625690108791336"
      ]
     },
     "execution_count": 3,
     "metadata": {},
     "output_type": "execute_result"
    }
   ],
   "source": [
    "cross_val_score(\n",
    "    LGBMClassifier(verbose=-100), x, y, cv=StratifiedKFold(n_splits=5, shuffle=True), scoring='f1_macro').mean()"
   ]
  },
  {
   "cell_type": "code",
   "execution_count": 4,
   "id": "1c7b63b0",
   "metadata": {},
   "outputs": [],
   "source": [
    "x_train, x_val, y_train, y_val = train_test_split(x, y, test_size=0.3, stratify=y)"
   ]
  },
  {
   "cell_type": "code",
   "execution_count": 5,
   "id": "573ddaff",
   "metadata": {},
   "outputs": [
    {
     "data": {
      "text/html": [
       "<style>#sk-container-id-1 {color: black;}#sk-container-id-1 pre{padding: 0;}#sk-container-id-1 div.sk-toggleable {background-color: white;}#sk-container-id-1 label.sk-toggleable__label {cursor: pointer;display: block;width: 100%;margin-bottom: 0;padding: 0.3em;box-sizing: border-box;text-align: center;}#sk-container-id-1 label.sk-toggleable__label-arrow:before {content: \"▸\";float: left;margin-right: 0.25em;color: #696969;}#sk-container-id-1 label.sk-toggleable__label-arrow:hover:before {color: black;}#sk-container-id-1 div.sk-estimator:hover label.sk-toggleable__label-arrow:before {color: black;}#sk-container-id-1 div.sk-toggleable__content {max-height: 0;max-width: 0;overflow: hidden;text-align: left;background-color: #f0f8ff;}#sk-container-id-1 div.sk-toggleable__content pre {margin: 0.2em;color: black;border-radius: 0.25em;background-color: #f0f8ff;}#sk-container-id-1 input.sk-toggleable__control:checked~div.sk-toggleable__content {max-height: 200px;max-width: 100%;overflow: auto;}#sk-container-id-1 input.sk-toggleable__control:checked~label.sk-toggleable__label-arrow:before {content: \"▾\";}#sk-container-id-1 div.sk-estimator input.sk-toggleable__control:checked~label.sk-toggleable__label {background-color: #d4ebff;}#sk-container-id-1 div.sk-label input.sk-toggleable__control:checked~label.sk-toggleable__label {background-color: #d4ebff;}#sk-container-id-1 input.sk-hidden--visually {border: 0;clip: rect(1px 1px 1px 1px);clip: rect(1px, 1px, 1px, 1px);height: 1px;margin: -1px;overflow: hidden;padding: 0;position: absolute;width: 1px;}#sk-container-id-1 div.sk-estimator {font-family: monospace;background-color: #f0f8ff;border: 1px dotted black;border-radius: 0.25em;box-sizing: border-box;margin-bottom: 0.5em;}#sk-container-id-1 div.sk-estimator:hover {background-color: #d4ebff;}#sk-container-id-1 div.sk-parallel-item::after {content: \"\";width: 100%;border-bottom: 1px solid gray;flex-grow: 1;}#sk-container-id-1 div.sk-label:hover label.sk-toggleable__label {background-color: #d4ebff;}#sk-container-id-1 div.sk-serial::before {content: \"\";position: absolute;border-left: 1px solid gray;box-sizing: border-box;top: 0;bottom: 0;left: 50%;z-index: 0;}#sk-container-id-1 div.sk-serial {display: flex;flex-direction: column;align-items: center;background-color: white;padding-right: 0.2em;padding-left: 0.2em;position: relative;}#sk-container-id-1 div.sk-item {position: relative;z-index: 1;}#sk-container-id-1 div.sk-parallel {display: flex;align-items: stretch;justify-content: center;background-color: white;position: relative;}#sk-container-id-1 div.sk-item::before, #sk-container-id-1 div.sk-parallel-item::before {content: \"\";position: absolute;border-left: 1px solid gray;box-sizing: border-box;top: 0;bottom: 0;left: 50%;z-index: -1;}#sk-container-id-1 div.sk-parallel-item {display: flex;flex-direction: column;z-index: 1;position: relative;background-color: white;}#sk-container-id-1 div.sk-parallel-item:first-child::after {align-self: flex-end;width: 50%;}#sk-container-id-1 div.sk-parallel-item:last-child::after {align-self: flex-start;width: 50%;}#sk-container-id-1 div.sk-parallel-item:only-child::after {width: 0;}#sk-container-id-1 div.sk-dashed-wrapped {border: 1px dashed gray;margin: 0 0.4em 0.5em 0.4em;box-sizing: border-box;padding-bottom: 0.4em;background-color: white;}#sk-container-id-1 div.sk-label label {font-family: monospace;font-weight: bold;display: inline-block;line-height: 1.2em;}#sk-container-id-1 div.sk-label-container {text-align: center;}#sk-container-id-1 div.sk-container {/* jupyter's `normalize.less` sets `[hidden] { display: none; }` but bootstrap.min.css set `[hidden] { display: none !important; }` so we also need the `!important` here to be able to override the default hidden behavior on the sphinx rendered scikit-learn.org. See: https://github.com/scikit-learn/scikit-learn/issues/21755 */display: inline-block !important;position: relative;}#sk-container-id-1 div.sk-text-repr-fallback {display: none;}</style><div id=\"sk-container-id-1\" class=\"sk-top-container\"><div class=\"sk-text-repr-fallback\"><pre>LGBMClassifier(learning_rate=0.05, max_depth=5, n_estimators=500, verbose=-100)</pre><b>In a Jupyter environment, please rerun this cell to show the HTML representation or trust the notebook. <br />On GitHub, the HTML representation is unable to render, please try loading this page with nbviewer.org.</b></div><div class=\"sk-container\" hidden><div class=\"sk-item\"><div class=\"sk-estimator sk-toggleable\"><input class=\"sk-toggleable__control sk-hidden--visually\" id=\"sk-estimator-id-1\" type=\"checkbox\" checked><label for=\"sk-estimator-id-1\" class=\"sk-toggleable__label sk-toggleable__label-arrow\">LGBMClassifier</label><div class=\"sk-toggleable__content\"><pre>LGBMClassifier(learning_rate=0.05, max_depth=5, n_estimators=500, verbose=-100)</pre></div></div></div></div></div>"
      ],
      "text/plain": [
       "LGBMClassifier(learning_rate=0.05, max_depth=5, n_estimators=500, verbose=-100)"
      ]
     },
     "execution_count": 5,
     "metadata": {},
     "output_type": "execute_result"
    }
   ],
   "source": [
    "model = LGBMClassifier(max_depth=5, n_estimators=500, learning_rate=0.05, verbose=-100)\n",
    "model.fit(x_train, y_train)"
   ]
  },
  {
   "cell_type": "code",
   "execution_count": 6,
   "id": "25c326a5",
   "metadata": {},
   "outputs": [
    {
     "name": "stdout",
     "output_type": "stream",
     "text": [
      "              precision    recall  f1-score   support\n",
      "\n",
      "           0       0.86      1.00      0.92      2383\n",
      "           1       0.76      0.32      0.45       307\n",
      "           2       0.83      0.27      0.40       310\n",
      "\n",
      "    accuracy                           0.85      3000\n",
      "   macro avg       0.81      0.53      0.59      3000\n",
      "weighted avg       0.84      0.85      0.82      3000\n",
      "\n"
     ]
    }
   ],
   "source": [
    "print(classification_report(y_val, model.predict(x_val)))"
   ]
  },
  {
   "cell_type": "code",
   "execution_count": 7,
   "id": "756424cd",
   "metadata": {},
   "outputs": [],
   "source": [
    "class BaseFeatureSelector(ABC):\n",
    "    def __init__(self, n_folds=5):\n",
    "        self.n_folds = n_folds\n",
    "        self.importances = None\n",
    "\n",
    "    def fit(self, x, y, **importances_kwargs):\n",
    "        skf = StratifiedKFold(n_splits=self.n_folds, shuffle=True)  # можно число фолдов и прочие параметры\n",
    "\n",
    "        self.importances = pd.DataFrame({'feature': np.arange(x.shape[1])})\n",
    "\n",
    "        for i, (train_index, val_index) in enumerate(skf.split(x, y)):\n",
    "            x_train, y_train = x[train_index], y[train_index]\n",
    "            x_val, y_val = x[val_index], y[val_index]\n",
    "\n",
    "            model = LGBMClassifier(max_depth=5, n_estimators=500, learning_rate=0.05, verbose=-100)\n",
    "            model.fit(x_train, y_train, eval_set=(x_val, y_val))\n",
    "\n",
    "            imp = self._get_importances_from_model(model, x_val, y_val, **importances_kwargs)\n",
    "\n",
    "            self.importances[f'importance_{i}'] = imp\n",
    "\n",
    "    def get_selected_features(self, threshold):\n",
    "        assert self.importances is not None, 'Сначала нужно обучить, вызвав метод fit'\n",
    "\n",
    "        # сделаем отдельно для 0 итерации\n",
    "        imps = self.importances.loc[:, ['feature', 'importance_0']].sort_values('importance_0', ascending=False)  # выберем важности признаков с 0 итерации\n",
    "        imps['importance_0'] /= imps['importance_0'].sum()\n",
    "        imps['cumsum'] = imps['importance_0'].cumsum()  # так как мы их отнормировали, может посчитать кумулятивную сумму\n",
    "        features = imps.loc[imps['cumsum'] <= threshold, 'feature'].tolist()  # возьмем только те признаки, которые по кумулятивной сумме удовлетворяют\n",
    "        \n",
    "        best_features = set(features)  # сделаем множество\n",
    "        for i in range(1, self.n_folds):\n",
    "            imps = self.importances.loc[:, ['feature', f'importance_{i}']].sort_values(f'importance_{i}', ascending=False)\n",
    "            imps[f'importance_{i}'] /= imps[f'importance_{i}'].sum()\n",
    "            imps['cumsum'] = imps[f'importance_{i}'].cumsum()\n",
    "            features = imps.loc[imps['cumsum'] <= threshold, 'feature'].tolist()\n",
    "\n",
    "            best_features &= set(features)  # смотрим на пересечения множеств на разных итерациях кросс-валидации\n",
    "\n",
    "        return list(best_features)\n",
    "        \n",
    "    @abstractmethod\n",
    "    def _get_importances_from_model(self, model, x, y, **kwargs):\n",
    "        pass\n",
    "    \n",
    "    \n",
    "class LGMFeatureSelection(BaseFeatureSelector):\n",
    "    def __init__(self, n_folds=5):\n",
    "        super().__init__(n_folds)\n",
    "\n",
    "    def _get_importances_from_model(self, model, x, y, importance_type='split'):\n",
    "        return model.booster_.feature_importance(importance_type=importance_type)\n",
    "    \n",
    "\n",
    "class ShapFeatureSelection(BaseFeatureSelector):\n",
    "    def __init__(self, n_folds=5):\n",
    "        super().__init__(n_folds)\n",
    "\n",
    "    def _get_importances_from_model(self, model, x, y, \n",
    "                                    is_multiclass=False, feature_perturbation='tree_path_dependent'):\n",
    "        explainer = shap.TreeExplainer(model, feature_perturbation=feature_perturbation)\n",
    "        shap_values = explainer.shap_values(x)  # for each class, for each instance\n",
    "\n",
    "        if is_multiclass:\n",
    "            if isinstance(shap_values, list):\n",
    "                # if shap_values in list of n_classes np.arrays of shape [n_samples, n_features]\n",
    "                importances = []\n",
    "                for cls_ in shap_values:\n",
    "                    cls_value = np.abs(cls_).mean(axis=0)\n",
    "                    importances.append(cls_value.reshape(1, -1))\n",
    "                    \n",
    "                importances = np.concatenate(importances).mean(axis=0)\n",
    "            else:\n",
    "                # if shap_values in np.array of shape [n_samples, n_features, n_classes]\n",
    "                importances = np.abs(shap_values).mean(axis=(0, 2))\n",
    "        else:\n",
    "            if isinstance(shap_values, list):\n",
    "                # if shap_values in list of n_classes np.arrays of shape [n_samples, n_features]\n",
    "                importances = np.abs(shap_values[1]).mean(axis=0)\n",
    "            else:\n",
    "                # if shap_values in np.array of shape [n_samples, n_features]\n",
    "                importances = np.abs(shap_values).mean(axis=0)\n",
    "        return importances"
   ]
  },
  {
   "cell_type": "markdown",
   "id": "de463cbc",
   "metadata": {},
   "source": [
    "# Первый этап: отбираем признаки с помощью FeatureImportance и SHAP"
   ]
  },
  {
   "cell_type": "code",
   "execution_count": 8,
   "id": "dda997aa",
   "metadata": {},
   "outputs": [],
   "source": [
    "lgm_fs = LGMFeatureSelection()\n",
    "lgm_fs.fit(x, y)"
   ]
  },
  {
   "cell_type": "code",
   "execution_count": 9,
   "id": "46c7642c",
   "metadata": {},
   "outputs": [],
   "source": [
    "shap_fs = ShapFeatureSelection()\n",
    "shap_fs.fit(x, y, is_multiclass=True)"
   ]
  },
  {
   "cell_type": "code",
   "execution_count": 10,
   "id": "cce0e574",
   "metadata": {},
   "outputs": [
    {
     "data": {
      "text/plain": [
       "43"
      ]
     },
     "execution_count": 10,
     "metadata": {},
     "output_type": "execute_result"
    }
   ],
   "source": [
    "lgm_features = lgm_fs.get_selected_features(threshold=0.95)\n",
    "shap_features = shap_fs.get_selected_features(threshold=0.95)\n",
    "\n",
    "selected = set(lgm_features) & set(shap_features)\n",
    "len(selected)"
   ]
  },
  {
   "cell_type": "code",
   "execution_count": 11,
   "id": "cbef2630",
   "metadata": {},
   "outputs": [
    {
     "data": {
      "text/html": [
       "<style>#sk-container-id-2 {color: black;}#sk-container-id-2 pre{padding: 0;}#sk-container-id-2 div.sk-toggleable {background-color: white;}#sk-container-id-2 label.sk-toggleable__label {cursor: pointer;display: block;width: 100%;margin-bottom: 0;padding: 0.3em;box-sizing: border-box;text-align: center;}#sk-container-id-2 label.sk-toggleable__label-arrow:before {content: \"▸\";float: left;margin-right: 0.25em;color: #696969;}#sk-container-id-2 label.sk-toggleable__label-arrow:hover:before {color: black;}#sk-container-id-2 div.sk-estimator:hover label.sk-toggleable__label-arrow:before {color: black;}#sk-container-id-2 div.sk-toggleable__content {max-height: 0;max-width: 0;overflow: hidden;text-align: left;background-color: #f0f8ff;}#sk-container-id-2 div.sk-toggleable__content pre {margin: 0.2em;color: black;border-radius: 0.25em;background-color: #f0f8ff;}#sk-container-id-2 input.sk-toggleable__control:checked~div.sk-toggleable__content {max-height: 200px;max-width: 100%;overflow: auto;}#sk-container-id-2 input.sk-toggleable__control:checked~label.sk-toggleable__label-arrow:before {content: \"▾\";}#sk-container-id-2 div.sk-estimator input.sk-toggleable__control:checked~label.sk-toggleable__label {background-color: #d4ebff;}#sk-container-id-2 div.sk-label input.sk-toggleable__control:checked~label.sk-toggleable__label {background-color: #d4ebff;}#sk-container-id-2 input.sk-hidden--visually {border: 0;clip: rect(1px 1px 1px 1px);clip: rect(1px, 1px, 1px, 1px);height: 1px;margin: -1px;overflow: hidden;padding: 0;position: absolute;width: 1px;}#sk-container-id-2 div.sk-estimator {font-family: monospace;background-color: #f0f8ff;border: 1px dotted black;border-radius: 0.25em;box-sizing: border-box;margin-bottom: 0.5em;}#sk-container-id-2 div.sk-estimator:hover {background-color: #d4ebff;}#sk-container-id-2 div.sk-parallel-item::after {content: \"\";width: 100%;border-bottom: 1px solid gray;flex-grow: 1;}#sk-container-id-2 div.sk-label:hover label.sk-toggleable__label {background-color: #d4ebff;}#sk-container-id-2 div.sk-serial::before {content: \"\";position: absolute;border-left: 1px solid gray;box-sizing: border-box;top: 0;bottom: 0;left: 50%;z-index: 0;}#sk-container-id-2 div.sk-serial {display: flex;flex-direction: column;align-items: center;background-color: white;padding-right: 0.2em;padding-left: 0.2em;position: relative;}#sk-container-id-2 div.sk-item {position: relative;z-index: 1;}#sk-container-id-2 div.sk-parallel {display: flex;align-items: stretch;justify-content: center;background-color: white;position: relative;}#sk-container-id-2 div.sk-item::before, #sk-container-id-2 div.sk-parallel-item::before {content: \"\";position: absolute;border-left: 1px solid gray;box-sizing: border-box;top: 0;bottom: 0;left: 50%;z-index: -1;}#sk-container-id-2 div.sk-parallel-item {display: flex;flex-direction: column;z-index: 1;position: relative;background-color: white;}#sk-container-id-2 div.sk-parallel-item:first-child::after {align-self: flex-end;width: 50%;}#sk-container-id-2 div.sk-parallel-item:last-child::after {align-self: flex-start;width: 50%;}#sk-container-id-2 div.sk-parallel-item:only-child::after {width: 0;}#sk-container-id-2 div.sk-dashed-wrapped {border: 1px dashed gray;margin: 0 0.4em 0.5em 0.4em;box-sizing: border-box;padding-bottom: 0.4em;background-color: white;}#sk-container-id-2 div.sk-label label {font-family: monospace;font-weight: bold;display: inline-block;line-height: 1.2em;}#sk-container-id-2 div.sk-label-container {text-align: center;}#sk-container-id-2 div.sk-container {/* jupyter's `normalize.less` sets `[hidden] { display: none; }` but bootstrap.min.css set `[hidden] { display: none !important; }` so we also need the `!important` here to be able to override the default hidden behavior on the sphinx rendered scikit-learn.org. See: https://github.com/scikit-learn/scikit-learn/issues/21755 */display: inline-block !important;position: relative;}#sk-container-id-2 div.sk-text-repr-fallback {display: none;}</style><div id=\"sk-container-id-2\" class=\"sk-top-container\"><div class=\"sk-text-repr-fallback\"><pre>LGBMClassifier(learning_rate=0.05, max_depth=5, n_estimators=500, verbose=-100)</pre><b>In a Jupyter environment, please rerun this cell to show the HTML representation or trust the notebook. <br />On GitHub, the HTML representation is unable to render, please try loading this page with nbviewer.org.</b></div><div class=\"sk-container\" hidden><div class=\"sk-item\"><div class=\"sk-estimator sk-toggleable\"><input class=\"sk-toggleable__control sk-hidden--visually\" id=\"sk-estimator-id-2\" type=\"checkbox\" checked><label for=\"sk-estimator-id-2\" class=\"sk-toggleable__label sk-toggleable__label-arrow\">LGBMClassifier</label><div class=\"sk-toggleable__content\"><pre>LGBMClassifier(learning_rate=0.05, max_depth=5, n_estimators=500, verbose=-100)</pre></div></div></div></div></div>"
      ],
      "text/plain": [
       "LGBMClassifier(learning_rate=0.05, max_depth=5, n_estimators=500, verbose=-100)"
      ]
     },
     "execution_count": 11,
     "metadata": {},
     "output_type": "execute_result"
    }
   ],
   "source": [
    "model = LGBMClassifier(max_depth=5, n_estimators=500, learning_rate=0.05, verbose=-100)\n",
    "model.fit(x_train[:, list(selected)], y_train)"
   ]
  },
  {
   "cell_type": "code",
   "execution_count": 12,
   "id": "7c501024",
   "metadata": {},
   "outputs": [
    {
     "name": "stdout",
     "output_type": "stream",
     "text": [
      "              precision    recall  f1-score   support\n",
      "\n",
      "           0       0.87      0.99      0.92      2383\n",
      "           1       0.77      0.39      0.52       307\n",
      "           2       0.85      0.35      0.49       310\n",
      "\n",
      "    accuracy                           0.86      3000\n",
      "   macro avg       0.83      0.57      0.64      3000\n",
      "weighted avg       0.86      0.86      0.84      3000\n",
      "\n"
     ]
    }
   ],
   "source": [
    "print(classification_report(y_val, model.predict(x_val[:, list(selected)])))"
   ]
  },
  {
   "cell_type": "markdown",
   "id": "f9280d64",
   "metadata": {},
   "source": [
    "# Второй этап: пройдем по отобранным признакам жадным алгоритмом"
   ]
  },
  {
   "cell_type": "code",
   "execution_count": 13,
   "id": "3101054d",
   "metadata": {},
   "outputs": [],
   "source": [
    "from catboost import CatBoostClassifier, Pool, EFeaturesSelectionAlgorithm, EShapCalcType\n",
    "\n",
    "# удалим все признаки по очереди, пока не останется 1, чтобы посмотреть как ухудшается лосс\n",
    "model = CatBoostClassifier(iterations=1000, verbose=False)\n",
    "summary = model.select_features(\n",
    "    x_train,\n",
    "    y_train,\n",
    "    eval_set=(x_val, y_val),\n",
    "    features_for_select=list(selected),     # we will select from all features\n",
    "    num_features_to_select=1,  # we want to select exactly important features\n",
    "    steps=len(selected)-1,                                     # more steps - more accurate selection\n",
    "    algorithm=EFeaturesSelectionAlgorithm.RecursiveByShapValues,\n",
    "    shap_calc_type=EShapCalcType.Regular,            # can be Approximate, Regular and Exact\n",
    "    train_final_model=False,                          # to train model with selected features\n",
    "    logging_level='Silent',\n",
    "    plot=False\n",
    ")"
   ]
  },
  {
   "cell_type": "code",
   "execution_count": 14,
   "id": "0d65995a",
   "metadata": {},
   "outputs": [
    {
     "data": {
      "text/plain": [
       "{'selected_features': [0],\n",
       " 'eliminated_features_names': ['',\n",
       "  '',\n",
       "  '',\n",
       "  '',\n",
       "  '',\n",
       "  '',\n",
       "  '',\n",
       "  '',\n",
       "  '',\n",
       "  '',\n",
       "  '',\n",
       "  '',\n",
       "  '',\n",
       "  '',\n",
       "  '',\n",
       "  '',\n",
       "  '',\n",
       "  '',\n",
       "  '',\n",
       "  '',\n",
       "  '',\n",
       "  '',\n",
       "  '',\n",
       "  '',\n",
       "  '',\n",
       "  '',\n",
       "  '',\n",
       "  '',\n",
       "  '',\n",
       "  '',\n",
       "  '',\n",
       "  '',\n",
       "  '',\n",
       "  '',\n",
       "  '',\n",
       "  '',\n",
       "  '',\n",
       "  '',\n",
       "  '',\n",
       "  '',\n",
       "  '',\n",
       "  ''],\n",
       " 'loss_graph': {'main_indices': [0,\n",
       "   4,\n",
       "   7,\n",
       "   10,\n",
       "   13,\n",
       "   16,\n",
       "   18,\n",
       "   20,\n",
       "   22,\n",
       "   24,\n",
       "   25,\n",
       "   27,\n",
       "   28,\n",
       "   30,\n",
       "   31,\n",
       "   32,\n",
       "   33,\n",
       "   34,\n",
       "   34,\n",
       "   35,\n",
       "   36,\n",
       "   36,\n",
       "   37,\n",
       "   38,\n",
       "   38,\n",
       "   38,\n",
       "   39,\n",
       "   39,\n",
       "   39,\n",
       "   40,\n",
       "   40,\n",
       "   40,\n",
       "   41,\n",
       "   41,\n",
       "   41,\n",
       "   41,\n",
       "   41,\n",
       "   41,\n",
       "   42,\n",
       "   42,\n",
       "   42,\n",
       "   42],\n",
       "  'removed_features_count': [0,\n",
       "   1,\n",
       "   2,\n",
       "   3,\n",
       "   4,\n",
       "   5,\n",
       "   6,\n",
       "   7,\n",
       "   8,\n",
       "   9,\n",
       "   10,\n",
       "   11,\n",
       "   12,\n",
       "   13,\n",
       "   14,\n",
       "   15,\n",
       "   16,\n",
       "   17,\n",
       "   18,\n",
       "   19,\n",
       "   20,\n",
       "   21,\n",
       "   22,\n",
       "   23,\n",
       "   24,\n",
       "   25,\n",
       "   26,\n",
       "   27,\n",
       "   28,\n",
       "   29,\n",
       "   30,\n",
       "   31,\n",
       "   32,\n",
       "   33,\n",
       "   34,\n",
       "   35,\n",
       "   36,\n",
       "   37,\n",
       "   38,\n",
       "   39,\n",
       "   40,\n",
       "   41,\n",
       "   42],\n",
       "  'loss_values': [0.395682924407252,\n",
       "   0.3955436863797375,\n",
       "   0.3954257001476041,\n",
       "   0.39533119720622145,\n",
       "   0.39523994066328694,\n",
       "   0.39277468657067427,\n",
       "   0.3904498440583718,\n",
       "   0.38816948259308,\n",
       "   0.38485477136434587,\n",
       "   0.3834812969212482,\n",
       "   0.3830541082736624,\n",
       "   0.38359731348581444,\n",
       "   0.3840963769789743,\n",
       "   0.38434847415253837,\n",
       "   0.3842124640126122,\n",
       "   0.38414212724198105,\n",
       "   0.38415529199748,\n",
       "   0.3815502175839211,\n",
       "   0.3772905300838333,\n",
       "   0.37829822367495297,\n",
       "   0.37934401791114253,\n",
       "   0.3811257272154224,\n",
       "   0.384192971700065,\n",
       "   0.3838208213789341,\n",
       "   0.382076495651564,\n",
       "   0.3769108036263777,\n",
       "   0.3801885491940142,\n",
       "   0.3835986092625193,\n",
       "   0.3906044206938628,\n",
       "   0.39534139882562747,\n",
       "   0.40093391688074825,\n",
       "   0.4051374950102474,\n",
       "   0.4080527714263451,\n",
       "   0.413411184996284,\n",
       "   0.43454925842028747,\n",
       "   0.4424271931891548,\n",
       "   0.45800530111355525,\n",
       "   0.4693870670419963,\n",
       "   0.4868336009853643,\n",
       "   0.5054982603704106,\n",
       "   0.5341000462056884,\n",
       "   0.566608049715983,\n",
       "   0.5942963887209307]},\n",
       " 'eliminated_features': [62,\n",
       "  52,\n",
       "  84,\n",
       "  89,\n",
       "  56,\n",
       "  75,\n",
       "  73,\n",
       "  67,\n",
       "  31,\n",
       "  48,\n",
       "  63,\n",
       "  51,\n",
       "  49,\n",
       "  99,\n",
       "  41,\n",
       "  69,\n",
       "  42,\n",
       "  66,\n",
       "  77,\n",
       "  61,\n",
       "  86,\n",
       "  88,\n",
       "  27,\n",
       "  9,\n",
       "  16,\n",
       "  15,\n",
       "  10,\n",
       "  14,\n",
       "  18,\n",
       "  1,\n",
       "  5,\n",
       "  3,\n",
       "  4,\n",
       "  12,\n",
       "  7,\n",
       "  17,\n",
       "  8,\n",
       "  19,\n",
       "  11,\n",
       "  6,\n",
       "  13,\n",
       "  2],\n",
       " 'selected_features_names': ['']}"
      ]
     },
     "execution_count": 14,
     "metadata": {},
     "output_type": "execute_result"
    }
   ],
   "source": [
    "summary"
   ]
  },
  {
   "cell_type": "code",
   "execution_count": 52,
   "id": "c0828156",
   "metadata": {},
   "outputs": [],
   "source": [
    "def get_feature_to_drop(model, x, features, feature_perturbation='tree_path_dependent'):\n",
    "    explainer = shap.TreeExplainer(model, feature_perturbation=feature_perturbation)\n",
    "    shap_values = explainer.shap_values(x)\n",
    "\n",
    "#     importances = np.abs(shap_values)[:, :, 1].mean(axis=(0))\n",
    "    importances = np.abs(shap_values).mean(axis=(0, 2))  # mean overall for multiclass\n",
    "#     importances = model.booster_.feature_importance(importance_type='split')\n",
    "    imps = pd.DataFrame({'feature': features, 'importance': importances})\\\n",
    "    .sort_values('importance', ascending=False).reset_index(drop=True)\n",
    "    \n",
    "    \n",
    "    return imps, imps.iloc[-1]['feature']\n",
    "\n",
    "\n",
    "def recursive_feature_elimination(model, x_train, y_train, x_val, y_val, k, features=None):\n",
    "    n_features = x.shape[1]\n",
    "    features = features or list(range(x.shape[1]))\n",
    "    history = {\n",
    "        'loss_values': [],\n",
    "        'eliminated_features': [],\n",
    "        'metrics': []\n",
    "    }\n",
    "    feature_to_delete = ''\n",
    "    history['eliminated_features'].append(feature_to_delete)  # сначала ничего не удаляем и замеряем метрики\n",
    "    \n",
    "    while len(features) > k:\n",
    "        print(f'Eliminated feature: {feature_to_delete}')\n",
    "        model_ = copy.deepcopy(model)\n",
    "        model_.fit(x_train[:, features], y_train, eval_set=(x_val, y_val))\n",
    "        score = model_.best_score_['valid_0']\n",
    "        history['loss_values'].append(score)\n",
    "        \n",
    "        imps, feature_to_delete = get_feature_to_drop(model_, x_val[:, features], features)\n",
    "        \n",
    "        metric = f1_score(y_val, model_.predict(x_val[:, features]), average=\"macro\")\n",
    "        history['metrics'].append(metric)\n",
    "        \n",
    "        print(imps.tail(5))\n",
    "        print(f'F1 macro: {metric}')\n",
    "        print(f'Loss: {score}')\n",
    "        \n",
    "        history['eliminated_features'].append(feature_to_delete)\n",
    "        features.remove(feature_to_delete)\n",
    "    \n",
    "    # ---------------------------------------------------------\n",
    "    # Финальный замер\n",
    "    model_ = copy.deepcopy(model)\n",
    "    model_.fit(x_train[:, features], y_train, eval_set=(x_val, y_val))\n",
    "    score = model_.best_score_['valid_0']\n",
    "    history['loss_values'].append(score)\n",
    "\n",
    "    metric = f1_score(y_val, model_.predict(x_val[:, features]), average=\"macro\")\n",
    "    history['metrics'].append(metric)\n",
    "    # ---------------------------------------------------------\n",
    "    \n",
    "    history['selected_features'] = features\n",
    "    return history"
   ]
  },
  {
   "cell_type": "code",
   "execution_count": 53,
   "id": "4d5542fc",
   "metadata": {},
   "outputs": [
    {
     "name": "stdout",
     "output_type": "stream",
     "text": [
      "Eliminated feature: \n",
      "    feature  importance\n",
      "38       89    0.037067\n",
      "39       77    0.035225\n",
      "40       41    0.033966\n",
      "41       49    0.033000\n",
      "42       51    0.026256\n",
      "F1 macro: 0.6440135928939711\n",
      "Loss: OrderedDict([('multi_logloss', 0.42717932087377325)])\n",
      "Eliminated feature: 51.0\n",
      "    feature  importance\n",
      "37       88    0.041004\n",
      "38       77    0.038793\n",
      "39       89    0.038350\n",
      "40       41    0.035155\n",
      "41       49    0.032454\n",
      "F1 macro: 0.6472239296944591\n",
      "Loss: OrderedDict([('multi_logloss', 0.43568457360404544)])\n",
      "Eliminated feature: 49.0\n",
      "    feature  importance\n",
      "36       88    0.043405\n",
      "37       77    0.042989\n",
      "38       69    0.039606\n",
      "39       89    0.037904\n",
      "40       41    0.035145\n",
      "F1 macro: 0.6412591227909672\n",
      "Loss: OrderedDict([('multi_logloss', 0.4377025051236701)])\n",
      "Eliminated feature: 41.0\n",
      "    feature  importance\n",
      "35       56    0.044378\n",
      "36       89    0.043228\n",
      "37       62    0.042031\n",
      "38       77    0.041379\n",
      "39       84    0.041160\n",
      "F1 macro: 0.6415075523251311\n",
      "Loss: OrderedDict([('multi_logloss', 0.44209582017596805)])\n",
      "Eliminated feature: 84.0\n",
      "    feature  importance\n",
      "34       56    0.046093\n",
      "35       88    0.044826\n",
      "36       77    0.043370\n",
      "37       27    0.040161\n",
      "38       89    0.036939\n",
      "F1 macro: 0.6388337766463832\n",
      "Loss: OrderedDict([('multi_logloss', 0.44004963210074377)])\n",
      "Eliminated feature: 89.0\n",
      "    feature  importance\n",
      "33       56    0.046674\n",
      "34       62    0.045984\n",
      "35       27    0.043568\n",
      "36       77    0.042733\n",
      "37       61    0.042677\n",
      "F1 macro: 0.6537676249481628\n",
      "Loss: OrderedDict([('multi_logloss', 0.42928774551682464)])\n",
      "Eliminated feature: 61.0\n",
      "    feature  importance\n",
      "32       48    0.048929\n",
      "33       86    0.048720\n",
      "34       27    0.047233\n",
      "35       77    0.041672\n",
      "36       69    0.041241\n",
      "F1 macro: 0.6460582877613682\n",
      "Loss: OrderedDict([('multi_logloss', 0.44012047005798915)])\n",
      "Eliminated feature: 69.0\n",
      "    feature  importance\n",
      "31       77    0.049767\n",
      "32       75    0.048153\n",
      "33       27    0.047653\n",
      "34       48    0.047278\n",
      "35       88    0.041436\n",
      "F1 macro: 0.6560517384213558\n",
      "Loss: OrderedDict([('multi_logloss', 0.4249167652140137)])\n",
      "Eliminated feature: 88.0\n",
      "    feature  importance\n",
      "30       63    0.050671\n",
      "31       86    0.050461\n",
      "32       75    0.048934\n",
      "33       77    0.047333\n",
      "34       27    0.046266\n",
      "F1 macro: 0.6513204775520046\n",
      "Loss: OrderedDict([('multi_logloss', 0.4198967708528964)])\n",
      "Eliminated feature: 27.0\n",
      "    feature  importance\n",
      "29       48    0.050216\n",
      "30       56    0.049925\n",
      "31       62    0.049425\n",
      "32       63    0.047302\n",
      "33       77    0.045903\n",
      "F1 macro: 0.6575208302594634\n",
      "Loss: OrderedDict([('multi_logloss', 0.45607705765175116)])\n",
      "Eliminated feature: 77.0\n",
      "    feature  importance\n",
      "28       48    0.053105\n",
      "29       99    0.052705\n",
      "30       63    0.052603\n",
      "31       75    0.052234\n",
      "32       62    0.049634\n",
      "F1 macro: 0.664254601185351\n",
      "Loss: OrderedDict([('multi_logloss', 0.45929946911662817)])\n",
      "Eliminated feature: 62.0\n",
      "    feature  importance\n",
      "27       48    0.056493\n",
      "28       56    0.055739\n",
      "29       67    0.054894\n",
      "30       75    0.054518\n",
      "31       63    0.050528\n",
      "F1 macro: 0.6714195456738841\n",
      "Loss: OrderedDict([('multi_logloss', 0.4610842169960521)])\n",
      "Eliminated feature: 63.0\n",
      "    feature  importance\n",
      "26       31    0.060755\n",
      "27       52    0.058951\n",
      "28       56    0.058160\n",
      "29       99    0.057218\n",
      "30       75    0.051448\n",
      "F1 macro: 0.6580467944101188\n",
      "Loss: OrderedDict([('multi_logloss', 0.45528141149990686)])\n",
      "Eliminated feature: 75.0\n",
      "    feature  importance\n",
      "25       52    0.061137\n",
      "26       67    0.059433\n",
      "27       66    0.058043\n",
      "28       86    0.056712\n",
      "29       56    0.056280\n",
      "F1 macro: 0.6763410593427005\n",
      "Loss: OrderedDict([('multi_logloss', 0.45078902858917186)])\n",
      "Eliminated feature: 56.0\n",
      "    feature  importance\n",
      "24       52    0.063524\n",
      "25       31    0.058412\n",
      "26       67    0.056882\n",
      "27       99    0.056549\n",
      "28       86    0.053579\n",
      "F1 macro: 0.679163871469597\n",
      "Loss: OrderedDict([('multi_logloss', 0.43988511727729196)])\n",
      "Eliminated feature: 86.0\n",
      "    feature  importance\n",
      "23       31    0.065167\n",
      "24       66    0.063562\n",
      "25       99    0.062255\n",
      "26       52    0.060948\n",
      "27       67    0.057141\n",
      "F1 macro: 0.673453465987532\n",
      "Loss: OrderedDict([('multi_logloss', 0.4490382615384873)])\n",
      "Eliminated feature: 67.0\n",
      "    feature  importance\n",
      "22       66    0.067669\n",
      "23       31    0.064107\n",
      "24       15    0.063530\n",
      "25       52    0.062621\n",
      "26       99    0.058714\n",
      "F1 macro: 0.6741409884164119\n",
      "Loss: OrderedDict([('multi_logloss', 0.4373239133428363)])\n",
      "Eliminated feature: 99.0\n",
      "    feature  importance\n",
      "21       66    0.068057\n",
      "22       15    0.063949\n",
      "23       52    0.061321\n",
      "24       48    0.061292\n",
      "25       31    0.060943\n",
      "F1 macro: 0.6917408685056862\n",
      "Loss: OrderedDict([('multi_logloss', 0.4299108272575741)])\n",
      "Eliminated feature: 31.0\n",
      "    feature  importance\n",
      "20       42    0.076696\n",
      "21       66    0.071346\n",
      "22       15    0.070492\n",
      "23       52    0.068269\n",
      "24       48    0.067933\n",
      "F1 macro: 0.6973437365514029\n",
      "Loss: OrderedDict([('multi_logloss', 0.4078748758145433)])\n",
      "Eliminated feature: 48.0\n",
      "    feature  importance\n",
      "19       66    0.076777\n",
      "20       42    0.076162\n",
      "21       73    0.075949\n",
      "22       15    0.075578\n",
      "23       52    0.068272\n",
      "F1 macro: 0.6882762487842359\n",
      "Loss: OrderedDict([('multi_logloss', 0.4038919055142351)])\n",
      "Eliminated feature: 52.0\n",
      "    feature  importance\n",
      "18        1    0.117127\n",
      "19       42    0.082107\n",
      "20       15    0.076621\n",
      "21       73    0.075144\n",
      "22       66    0.074643\n",
      "F1 macro: 0.6945052730965351\n",
      "Loss: OrderedDict([('multi_logloss', 0.3956269810237189)])\n",
      "Eliminated feature: 66.0\n",
      "    feature  importance\n",
      "17       10    0.126345\n",
      "18        1    0.117263\n",
      "19       42    0.084082\n",
      "20       15    0.081051\n",
      "21       73    0.076255\n",
      "F1 macro: 0.6931409102330565\n",
      "Loss: OrderedDict([('multi_logloss', 0.37740133886354826)])\n",
      "Eliminated feature: 73.0\n",
      "    feature  importance\n",
      "16       19    0.138284\n",
      "17       10    0.127249\n",
      "18        1    0.117001\n",
      "19       42    0.090637\n",
      "20       15    0.088576\n",
      "F1 macro: 0.7005848909025243\n",
      "Loss: OrderedDict([('multi_logloss', 0.3652690589187259)])\n",
      "Eliminated feature: 15.0\n",
      "    feature  importance\n",
      "15       19    0.137128\n",
      "16       14    0.135665\n",
      "17        1    0.130812\n",
      "18       10    0.129661\n",
      "19       42    0.083798\n",
      "F1 macro: 0.7092832959712417\n",
      "Loss: OrderedDict([('multi_logloss', 0.48182228149464223)])\n",
      "Eliminated feature: 42.0\n",
      "    feature  importance\n",
      "14       17    0.148726\n",
      "15       14    0.142578\n",
      "16       19    0.142467\n",
      "17       10    0.123716\n",
      "18        1    0.122736\n",
      "F1 macro: 0.7102657840262863\n",
      "Loss: OrderedDict([('multi_logloss', 0.4291476470251752)])\n",
      "Eliminated feature: 1.0\n",
      "    feature  importance\n",
      "13        9    0.163930\n",
      "14       19    0.145876\n",
      "15       18    0.143945\n",
      "16       14    0.136955\n",
      "17       10    0.127864\n",
      "F1 macro: 0.7100674833723031\n",
      "Loss: OrderedDict([('multi_logloss', 1.1892274288070612)])\n",
      "Eliminated feature: 10.0\n",
      "    feature  importance\n",
      "12        3    0.182537\n",
      "13       18    0.162471\n",
      "14        9    0.159042\n",
      "15       19    0.155106\n",
      "16       14    0.141774\n",
      "F1 macro: 0.7012018897739889\n",
      "Loss: OrderedDict([('multi_logloss', 1.0653214213596933)])\n",
      "Eliminated feature: 14.0\n",
      "    feature  importance\n",
      "11       11    0.198183\n",
      "12       19    0.197170\n",
      "13        3    0.183996\n",
      "14       18    0.173964\n",
      "15        9    0.142067\n",
      "F1 macro: 0.6860358926581934\n",
      "Loss: OrderedDict([('multi_logloss', 1.1424087267234886)])\n",
      "Eliminated feature: 9.0\n",
      "    feature  importance\n",
      "10       11    0.208362\n",
      "11       12    0.208060\n",
      "12       17    0.203769\n",
      "13        3    0.191214\n",
      "14       18    0.164602\n",
      "F1 macro: 0.6882222618578023\n",
      "Loss: OrderedDict([('multi_logloss', 1.069278315964205)])\n",
      "Eliminated feature: 18.0\n",
      "    feature  importance\n",
      "9         2    0.208413\n",
      "10       19    0.202174\n",
      "11       17    0.198959\n",
      "12       11    0.191585\n",
      "13        3    0.186817\n",
      "F1 macro: 0.6742609681327328\n",
      "Loss: OrderedDict([('multi_logloss', 1.0794245399637663)])\n",
      "Eliminated feature: 3.0\n",
      "    feature  importance\n",
      "8        17    0.219912\n",
      "9         0    0.216081\n",
      "10       19    0.214747\n",
      "11        2    0.208365\n",
      "12       16    0.187227\n",
      "F1 macro: 0.6544966435886553\n",
      "Loss: OrderedDict([('multi_logloss', 1.0282312584369349)])\n",
      "Eliminated feature: 16.0\n",
      "    feature  importance\n",
      "7        11    0.246075\n",
      "8        19    0.245260\n",
      "9        17    0.220409\n",
      "10        2    0.214987\n",
      "11        0    0.204166\n",
      "F1 macro: 0.6399259063383131\n",
      "Loss: OrderedDict([('multi_logloss', 1.0738524377367702)])\n",
      "Eliminated feature: 0.0\n"
     ]
    },
    {
     "name": "stdout",
     "output_type": "stream",
     "text": [
      "    feature  importance\n",
      "6        12    0.285812\n",
      "7        11    0.278092\n",
      "8        19    0.273712\n",
      "9         2    0.220255\n",
      "10       17    0.209474\n",
      "F1 macro: 0.6189451878081395\n",
      "Loss: OrderedDict([('multi_logloss', 1.0477299950231171)])\n",
      "Eliminated feature: 17.0\n",
      "   feature  importance\n",
      "5        4    0.283818\n",
      "6       11    0.281665\n",
      "7       19    0.257387\n",
      "8        2    0.243314\n",
      "9       12    0.235731\n",
      "F1 macro: 0.6064670536656286\n",
      "Loss: OrderedDict([('multi_logloss', 1.146066528902129)])\n",
      "Eliminated feature: 12.0\n",
      "   feature  importance\n",
      "4        7    0.286986\n",
      "5        6    0.275547\n",
      "6        4    0.263228\n",
      "7       19    0.251329\n",
      "8        2    0.241811\n",
      "F1 macro: 0.5716564928480838\n",
      "Loss: OrderedDict([('multi_logloss', 1.076106218654181)])\n",
      "Eliminated feature: 2.0\n",
      "   feature  importance\n",
      "3        7    0.307472\n",
      "4       19    0.300790\n",
      "5        6    0.295607\n",
      "6       11    0.278337\n",
      "7        4    0.275437\n",
      "F1 macro: 0.5300343397341355\n",
      "Loss: OrderedDict([('multi_logloss', 1.08942005965531)])\n",
      "Eliminated feature: 4.0\n",
      "   feature  importance\n",
      "2        7    0.332633\n",
      "3       19    0.324045\n",
      "4       13    0.317954\n",
      "5        6    0.295027\n",
      "6       11    0.292916\n",
      "F1 macro: 0.4946914315590402\n",
      "Loss: OrderedDict([('multi_logloss', 0.9071698655726105)])\n",
      "Eliminated feature: 11.0\n",
      "   feature  importance\n",
      "1        7    0.327557\n",
      "2        6    0.322833\n",
      "3        8    0.321891\n",
      "4       13    0.304846\n",
      "5       19    0.246969\n",
      "F1 macro: 0.4472656843431795\n",
      "Loss: OrderedDict([('multi_logloss', 0.8721236462299172)])\n",
      "Eliminated feature: 19.0\n",
      "   feature  importance\n",
      "0        5    0.376452\n",
      "1        7    0.345240\n",
      "2        6    0.326162\n",
      "3        8    0.314300\n",
      "4       13    0.312963\n",
      "F1 macro: 0.39542138445908126\n",
      "Loss: OrderedDict([('multi_logloss', 0.8671734847520223)])\n",
      "Eliminated feature: 13.0\n",
      "   feature  importance\n",
      "0        5    0.407190\n",
      "1        7    0.367448\n",
      "2        6    0.349399\n",
      "3        8    0.318074\n",
      "F1 macro: 0.3459794166406723\n",
      "Loss: OrderedDict([('multi_logloss', 0.8069583807570452)])\n",
      "Eliminated feature: 8.0\n",
      "   feature  importance\n",
      "0        5    0.455544\n",
      "1        6    0.401656\n",
      "2        7    0.377946\n",
      "F1 macro: 0.32270007295470593\n",
      "Loss: OrderedDict([('multi_logloss', 0.7938838185420335)])\n",
      "Eliminated feature: 7.0\n",
      "   feature  importance\n",
      "0        5    0.451827\n",
      "1        6    0.397244\n",
      "F1 macro: 0.3168474653722598\n",
      "Loss: OrderedDict([('multi_logloss', 0.7540046380469991)])\n"
     ]
    }
   ],
   "source": [
    "model = LGBMClassifier(max_depth=5, n_estimators=500, learning_rate=0.05, verbose=-100)\n",
    "summary_lgm = recursive_feature_elimination(model, x_train, y_train, x_val, y_val, features=list(selected), k=1)"
   ]
  },
  {
   "cell_type": "markdown",
   "id": "e8e2f97b",
   "metadata": {},
   "source": [
    "# Смотрим какие фичи дают максимальную метрику + минимальный лосс, обрежем"
   ]
  },
  {
   "cell_type": "markdown",
   "id": "9999bee0",
   "metadata": {},
   "source": [
    "## Cat"
   ]
  },
  {
   "cell_type": "code",
   "execution_count": 44,
   "id": "00582e16",
   "metadata": {},
   "outputs": [
    {
     "data": {
      "image/png": "[encoded data removed]",
      "text/plain": [
       "<Figure size 1900x1000 with 1 Axes>"
      ]
     },
     "metadata": {},
     "output_type": "display_data"
    }
   ],
   "source": [
    "losses = summary['loss_graph']['loss_values'][1:]\n",
    "plt.figure(figsize=(19, 10))\n",
    "plt.plot(range(len(losses)), losses, '*-')\n",
    "plt.xticks(ticks=range(len(losses)), labels=summary['eliminated_features'])\n",
    "plt.grid(True);"
   ]
  },
  {
   "cell_type": "code",
   "execution_count": 72,
   "id": "1bc673b5",
   "metadata": {},
   "outputs": [],
   "source": [
    "# Видно, что минимум лосса приходится на признак 16, значит признаки до него включительно можно удалить"
   ]
  },
  {
   "cell_type": "code",
   "execution_count": 76,
   "id": "042c99b4",
   "metadata": {},
   "outputs": [
    {
     "data": {
      "text/plain": [
       "-18"
      ]
     },
     "execution_count": 76,
     "metadata": {},
     "output_type": "execute_result"
    }
   ],
   "source": [
    "len(summary) - summary['eliminated_features'].index(16) + 1"
   ]
  },
  {
   "cell_type": "code",
   "execution_count": 56,
   "id": "30a7a5ec",
   "metadata": {},
   "outputs": [],
   "source": [
    "# но я удалю с запасом в 2 признака\n",
    "summary_selected_cat = selected - set(summary['eliminated_features'][:-16])"
   ]
  },
  {
   "cell_type": "code",
   "execution_count": 57,
   "id": "51a2caf8",
   "metadata": {},
   "outputs": [
    {
     "data": {
      "text/html": [
       "<style>#sk-container-id-6 {color: black;}#sk-container-id-6 pre{padding: 0;}#sk-container-id-6 div.sk-toggleable {background-color: white;}#sk-container-id-6 label.sk-toggleable__label {cursor: pointer;display: block;width: 100%;margin-bottom: 0;padding: 0.3em;box-sizing: border-box;text-align: center;}#sk-container-id-6 label.sk-toggleable__label-arrow:before {content: \"▸\";float: left;margin-right: 0.25em;color: #696969;}#sk-container-id-6 label.sk-toggleable__label-arrow:hover:before {color: black;}#sk-container-id-6 div.sk-estimator:hover label.sk-toggleable__label-arrow:before {color: black;}#sk-container-id-6 div.sk-toggleable__content {max-height: 0;max-width: 0;overflow: hidden;text-align: left;background-color: #f0f8ff;}#sk-container-id-6 div.sk-toggleable__content pre {margin: 0.2em;color: black;border-radius: 0.25em;background-color: #f0f8ff;}#sk-container-id-6 input.sk-toggleable__control:checked~div.sk-toggleable__content {max-height: 200px;max-width: 100%;overflow: auto;}#sk-container-id-6 input.sk-toggleable__control:checked~label.sk-toggleable__label-arrow:before {content: \"▾\";}#sk-container-id-6 div.sk-estimator input.sk-toggleable__control:checked~label.sk-toggleable__label {background-color: #d4ebff;}#sk-container-id-6 div.sk-label input.sk-toggleable__control:checked~label.sk-toggleable__label {background-color: #d4ebff;}#sk-container-id-6 input.sk-hidden--visually {border: 0;clip: rect(1px 1px 1px 1px);clip: rect(1px, 1px, 1px, 1px);height: 1px;margin: -1px;overflow: hidden;padding: 0;position: absolute;width: 1px;}#sk-container-id-6 div.sk-estimator {font-family: monospace;background-color: #f0f8ff;border: 1px dotted black;border-radius: 0.25em;box-sizing: border-box;margin-bottom: 0.5em;}#sk-container-id-6 div.sk-estimator:hover {background-color: #d4ebff;}#sk-container-id-6 div.sk-parallel-item::after {content: \"\";width: 100%;border-bottom: 1px solid gray;flex-grow: 1;}#sk-container-id-6 div.sk-label:hover label.sk-toggleable__label {background-color: #d4ebff;}#sk-container-id-6 div.sk-serial::before {content: \"\";position: absolute;border-left: 1px solid gray;box-sizing: border-box;top: 0;bottom: 0;left: 50%;z-index: 0;}#sk-container-id-6 div.sk-serial {display: flex;flex-direction: column;align-items: center;background-color: white;padding-right: 0.2em;padding-left: 0.2em;position: relative;}#sk-container-id-6 div.sk-item {position: relative;z-index: 1;}#sk-container-id-6 div.sk-parallel {display: flex;align-items: stretch;justify-content: center;background-color: white;position: relative;}#sk-container-id-6 div.sk-item::before, #sk-container-id-6 div.sk-parallel-item::before {content: \"\";position: absolute;border-left: 1px solid gray;box-sizing: border-box;top: 0;bottom: 0;left: 50%;z-index: -1;}#sk-container-id-6 div.sk-parallel-item {display: flex;flex-direction: column;z-index: 1;position: relative;background-color: white;}#sk-container-id-6 div.sk-parallel-item:first-child::after {align-self: flex-end;width: 50%;}#sk-container-id-6 div.sk-parallel-item:last-child::after {align-self: flex-start;width: 50%;}#sk-container-id-6 div.sk-parallel-item:only-child::after {width: 0;}#sk-container-id-6 div.sk-dashed-wrapped {border: 1px dashed gray;margin: 0 0.4em 0.5em 0.4em;box-sizing: border-box;padding-bottom: 0.4em;background-color: white;}#sk-container-id-6 div.sk-label label {font-family: monospace;font-weight: bold;display: inline-block;line-height: 1.2em;}#sk-container-id-6 div.sk-label-container {text-align: center;}#sk-container-id-6 div.sk-container {/* jupyter's `normalize.less` sets `[hidden] { display: none; }` but bootstrap.min.css set `[hidden] { display: none !important; }` so we also need the `!important` here to be able to override the default hidden behavior on the sphinx rendered scikit-learn.org. See: https://github.com/scikit-learn/scikit-learn/issues/21755 */display: inline-block !important;position: relative;}#sk-container-id-6 div.sk-text-repr-fallback {display: none;}</style><div id=\"sk-container-id-6\" class=\"sk-top-container\"><div class=\"sk-text-repr-fallback\"><pre>LGBMClassifier(learning_rate=0.05, max_depth=5, n_estimators=500, verbose=-100)</pre><b>In a Jupyter environment, please rerun this cell to show the HTML representation or trust the notebook. <br />On GitHub, the HTML representation is unable to render, please try loading this page with nbviewer.org.</b></div><div class=\"sk-container\" hidden><div class=\"sk-item\"><div class=\"sk-estimator sk-toggleable\"><input class=\"sk-toggleable__control sk-hidden--visually\" id=\"sk-estimator-id-6\" type=\"checkbox\" checked><label for=\"sk-estimator-id-6\" class=\"sk-toggleable__label sk-toggleable__label-arrow\">LGBMClassifier</label><div class=\"sk-toggleable__content\"><pre>LGBMClassifier(learning_rate=0.05, max_depth=5, n_estimators=500, verbose=-100)</pre></div></div></div></div></div>"
      ],
      "text/plain": [
       "LGBMClassifier(learning_rate=0.05, max_depth=5, n_estimators=500, verbose=-100)"
      ]
     },
     "execution_count": 57,
     "metadata": {},
     "output_type": "execute_result"
    }
   ],
   "source": [
    "model = LGBMClassifier(max_depth=5, n_estimators=500, learning_rate=0.05, verbose=-100)\n",
    "model.fit(x_train[:, list(summary_selected_cat)], y_train)"
   ]
  },
  {
   "cell_type": "code",
   "execution_count": 58,
   "id": "59a00dbb",
   "metadata": {},
   "outputs": [
    {
     "name": "stdout",
     "output_type": "stream",
     "text": [
      "              precision    recall  f1-score   support\n",
      "\n",
      "           0       0.90      0.99      0.94      2383\n",
      "           1       0.77      0.51      0.62       307\n",
      "           2       0.82      0.45      0.59       310\n",
      "\n",
      "    accuracy                           0.88      3000\n",
      "   macro avg       0.83      0.65      0.71      3000\n",
      "weighted avg       0.88      0.88      0.87      3000\n",
      "\n"
     ]
    }
   ],
   "source": [
    "print(classification_report(y_val, model.predict(x_val[:, list(summary_selected_cat)])))"
   ]
  },
  {
   "cell_type": "markdown",
   "id": "48e2111d",
   "metadata": {},
   "source": [
    "## LGM"
   ]
  },
  {
   "cell_type": "code",
   "execution_count": 54,
   "id": "26ec4ede",
   "metadata": {},
   "outputs": [
    {
     "data": {
      "image/png": "[encoded data removed]",
      "text/plain": [
       "<Figure size 1900x1000 with 1 Axes>"
      ]
     },
     "metadata": {},
     "output_type": "display_data"
    }
   ],
   "source": [
    "losses = [col['multi_logloss'] for col in summary_lgm['loss_values']]\n",
    "plt.figure(figsize=(19, 10))\n",
    "plt.plot(range(len(losses)), losses, '*-')\n",
    "plt.xticks(ticks=range(len(losses)), labels=summary_lgm['eliminated_features'])\n",
    "plt.grid(True);"
   ]
  },
  {
   "cell_type": "code",
   "execution_count": 59,
   "id": "ba1f40aa",
   "metadata": {},
   "outputs": [
    {
     "data": {
      "text/plain": [
       "['',\n",
       " 51.0,\n",
       " 49.0,\n",
       " 41.0,\n",
       " 84.0,\n",
       " 89.0,\n",
       " 61.0,\n",
       " 69.0,\n",
       " 88.0,\n",
       " 27.0,\n",
       " 77.0,\n",
       " 62.0,\n",
       " 63.0,\n",
       " 75.0,\n",
       " 56.0,\n",
       " 86.0,\n",
       " 67.0,\n",
       " 99.0,\n",
       " 31.0,\n",
       " 48.0,\n",
       " 52.0,\n",
       " 66.0,\n",
       " 73.0,\n",
       " 15.0,\n",
       " 42.0,\n",
       " 1.0,\n",
       " 10.0,\n",
       " 14.0,\n",
       " 9.0,\n",
       " 18.0,\n",
       " 3.0,\n",
       " 16.0,\n",
       " 0.0,\n",
       " 17.0,\n",
       " 12.0,\n",
       " 2.0,\n",
       " 4.0,\n",
       " 11.0,\n",
       " 19.0,\n",
       " 13.0,\n",
       " 8.0,\n",
       " 7.0,\n",
       " 6.0]"
      ]
     },
     "execution_count": 59,
     "metadata": {},
     "output_type": "execute_result"
    }
   ],
   "source": [
    "summary_lgm['eliminated_features']"
   ]
  },
  {
   "cell_type": "code",
   "execution_count": 71,
   "id": "c83f7c33",
   "metadata": {},
   "outputs": [],
   "source": [
    "# Видно, что с признака 1 начинает увеличиваться резко лосс и падать метрика"
   ]
  },
  {
   "cell_type": "code",
   "execution_count": 70,
   "id": "8457d8f6",
   "metadata": {},
   "outputs": [
    {
     "data": {
      "image/png": "[encoded data removed]",
      "text/plain": [
       "<Figure size 1900x1000 with 1 Axes>"
      ]
     },
     "metadata": {},
     "output_type": "display_data"
    }
   ],
   "source": [
    "metrics = summary_lgm['metrics']\n",
    "plt.figure(figsize=(19, 10))\n",
    "plt.plot(range(len(metrics)), metrics, '*-')\n",
    "plt.xticks(ticks=range(len(metrics)), labels=summary_lgm['eliminated_features'])\n",
    "plt.grid(True);"
   ]
  },
  {
   "cell_type": "code",
   "execution_count": 60,
   "id": "1a0a3264",
   "metadata": {},
   "outputs": [],
   "source": [
    "summary_selected_lgm = selected - set(summary_lgm['eliminated_features'][:-18])"
   ]
  },
  {
   "cell_type": "code",
   "execution_count": 61,
   "id": "91a2a88f",
   "metadata": {},
   "outputs": [
    {
     "data": {
      "text/html": [
       "<style>#sk-container-id-7 {color: black;}#sk-container-id-7 pre{padding: 0;}#sk-container-id-7 div.sk-toggleable {background-color: white;}#sk-container-id-7 label.sk-toggleable__label {cursor: pointer;display: block;width: 100%;margin-bottom: 0;padding: 0.3em;box-sizing: border-box;text-align: center;}#sk-container-id-7 label.sk-toggleable__label-arrow:before {content: \"▸\";float: left;margin-right: 0.25em;color: #696969;}#sk-container-id-7 label.sk-toggleable__label-arrow:hover:before {color: black;}#sk-container-id-7 div.sk-estimator:hover label.sk-toggleable__label-arrow:before {color: black;}#sk-container-id-7 div.sk-toggleable__content {max-height: 0;max-width: 0;overflow: hidden;text-align: left;background-color: #f0f8ff;}#sk-container-id-7 div.sk-toggleable__content pre {margin: 0.2em;color: black;border-radius: 0.25em;background-color: #f0f8ff;}#sk-container-id-7 input.sk-toggleable__control:checked~div.sk-toggleable__content {max-height: 200px;max-width: 100%;overflow: auto;}#sk-container-id-7 input.sk-toggleable__control:checked~label.sk-toggleable__label-arrow:before {content: \"▾\";}#sk-container-id-7 div.sk-estimator input.sk-toggleable__control:checked~label.sk-toggleable__label {background-color: #d4ebff;}#sk-container-id-7 div.sk-label input.sk-toggleable__control:checked~label.sk-toggleable__label {background-color: #d4ebff;}#sk-container-id-7 input.sk-hidden--visually {border: 0;clip: rect(1px 1px 1px 1px);clip: rect(1px, 1px, 1px, 1px);height: 1px;margin: -1px;overflow: hidden;padding: 0;position: absolute;width: 1px;}#sk-container-id-7 div.sk-estimator {font-family: monospace;background-color: #f0f8ff;border: 1px dotted black;border-radius: 0.25em;box-sizing: border-box;margin-bottom: 0.5em;}#sk-container-id-7 div.sk-estimator:hover {background-color: #d4ebff;}#sk-container-id-7 div.sk-parallel-item::after {content: \"\";width: 100%;border-bottom: 1px solid gray;flex-grow: 1;}#sk-container-id-7 div.sk-label:hover label.sk-toggleable__label {background-color: #d4ebff;}#sk-container-id-7 div.sk-serial::before {content: \"\";position: absolute;border-left: 1px solid gray;box-sizing: border-box;top: 0;bottom: 0;left: 50%;z-index: 0;}#sk-container-id-7 div.sk-serial {display: flex;flex-direction: column;align-items: center;background-color: white;padding-right: 0.2em;padding-left: 0.2em;position: relative;}#sk-container-id-7 div.sk-item {position: relative;z-index: 1;}#sk-container-id-7 div.sk-parallel {display: flex;align-items: stretch;justify-content: center;background-color: white;position: relative;}#sk-container-id-7 div.sk-item::before, #sk-container-id-7 div.sk-parallel-item::before {content: \"\";position: absolute;border-left: 1px solid gray;box-sizing: border-box;top: 0;bottom: 0;left: 50%;z-index: -1;}#sk-container-id-7 div.sk-parallel-item {display: flex;flex-direction: column;z-index: 1;position: relative;background-color: white;}#sk-container-id-7 div.sk-parallel-item:first-child::after {align-self: flex-end;width: 50%;}#sk-container-id-7 div.sk-parallel-item:last-child::after {align-self: flex-start;width: 50%;}#sk-container-id-7 div.sk-parallel-item:only-child::after {width: 0;}#sk-container-id-7 div.sk-dashed-wrapped {border: 1px dashed gray;margin: 0 0.4em 0.5em 0.4em;box-sizing: border-box;padding-bottom: 0.4em;background-color: white;}#sk-container-id-7 div.sk-label label {font-family: monospace;font-weight: bold;display: inline-block;line-height: 1.2em;}#sk-container-id-7 div.sk-label-container {text-align: center;}#sk-container-id-7 div.sk-container {/* jupyter's `normalize.less` sets `[hidden] { display: none; }` but bootstrap.min.css set `[hidden] { display: none !important; }` so we also need the `!important` here to be able to override the default hidden behavior on the sphinx rendered scikit-learn.org. See: https://github.com/scikit-learn/scikit-learn/issues/21755 */display: inline-block !important;position: relative;}#sk-container-id-7 div.sk-text-repr-fallback {display: none;}</style><div id=\"sk-container-id-7\" class=\"sk-top-container\"><div class=\"sk-text-repr-fallback\"><pre>LGBMClassifier(learning_rate=0.05, max_depth=5, n_estimators=500, verbose=-100)</pre><b>In a Jupyter environment, please rerun this cell to show the HTML representation or trust the notebook. <br />On GitHub, the HTML representation is unable to render, please try loading this page with nbviewer.org.</b></div><div class=\"sk-container\" hidden><div class=\"sk-item\"><div class=\"sk-estimator sk-toggleable\"><input class=\"sk-toggleable__control sk-hidden--visually\" id=\"sk-estimator-id-7\" type=\"checkbox\" checked><label for=\"sk-estimator-id-7\" class=\"sk-toggleable__label sk-toggleable__label-arrow\">LGBMClassifier</label><div class=\"sk-toggleable__content\"><pre>LGBMClassifier(learning_rate=0.05, max_depth=5, n_estimators=500, verbose=-100)</pre></div></div></div></div></div>"
      ],
      "text/plain": [
       "LGBMClassifier(learning_rate=0.05, max_depth=5, n_estimators=500, verbose=-100)"
      ]
     },
     "execution_count": 61,
     "metadata": {},
     "output_type": "execute_result"
    }
   ],
   "source": [
    "model = LGBMClassifier(max_depth=5, n_estimators=500, learning_rate=0.05, verbose=-100)\n",
    "model.fit(x_train[:, list(summary_selected_lgm)], y_train)"
   ]
  },
  {
   "cell_type": "code",
   "execution_count": 62,
   "id": "ae557633",
   "metadata": {},
   "outputs": [
    {
     "name": "stdout",
     "output_type": "stream",
     "text": [
      "              precision    recall  f1-score   support\n",
      "\n",
      "           0       0.89      0.99      0.94      2383\n",
      "           1       0.77      0.51      0.62       307\n",
      "           2       0.87      0.43      0.58       310\n",
      "\n",
      "    accuracy                           0.88      3000\n",
      "   macro avg       0.84      0.64      0.71      3000\n",
      "weighted avg       0.88      0.88      0.87      3000\n",
      "\n"
     ]
    }
   ],
   "source": [
    "print(classification_report(y_val, model.predict(x_val[:, list(summary_selected_lgm)])))"
   ]
  },
  {
   "cell_type": "code",
   "execution_count": 67,
   "id": "aea8cf98",
   "metadata": {},
   "outputs": [
    {
     "data": {
      "text/plain": [
       "set()"
      ]
     },
     "execution_count": 67,
     "metadata": {},
     "output_type": "execute_result"
    }
   ],
   "source": [
    "summary_selected_cat - summary_selected_lgm"
   ]
  },
  {
   "cell_type": "code",
   "execution_count": 68,
   "id": "37c2de90",
   "metadata": {},
   "outputs": [
    {
     "data": {
      "text/plain": [
       "{0, 1, 2, 3, 4, 5, 6, 7, 8, 10, 11, 12, 13, 14, 17, 18, 19}"
      ]
     },
     "execution_count": 68,
     "metadata": {},
     "output_type": "execute_result"
    }
   ],
   "source": [
    "summary_selected_cat"
   ]
  },
  {
   "cell_type": "code",
   "execution_count": 69,
   "id": "1a69fe09",
   "metadata": {},
   "outputs": [
    {
     "data": {
      "text/plain": [
       "{0, 1, 2, 3, 4, 5, 6, 7, 8, 9, 10, 11, 12, 13, 14, 16, 17, 18, 19}"
      ]
     },
     "execution_count": 69,
     "metadata": {},
     "output_type": "execute_result"
    }
   ],
   "source": [
    "summary_selected_lgm"
   ]
  }
 ],
 "metadata": {
  "kernelspec": {
   "display_name": "uplift",
   "language": "python",
   "name": "uplift"
  },
  "language_info": {
   "codemirror_mode": {
    "name": "ipython",
    "version": 3
   },
   "file_extension": ".py",
   "mimetype": "text/x-python",
   "name": "python",
   "nbconvert_exporter": "python",
   "pygments_lexer": "ipython3",
   "version": "3.10.12"
  }
 },
 "nbformat": 4,
 "nbformat_minor": 5
}
