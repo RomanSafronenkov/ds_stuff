{
 "cells": [
  {
   "cell_type": "markdown",
   "id": "b880fede",
   "metadata": {},
   "source": [
    "# Ноутбук по отбору признаков. Все вместе"
   ]
  },
  {
   "cell_type": "code",
   "execution_count": 70,
   "id": "97701d39",
   "metadata": {},
   "outputs": [],
   "source": [
    "from abc import ABC, abstractmethod\n",
    "import copy\n",
    "\n",
    "import pandas as pd\n",
    "import numpy as np\n",
    "\n",
    "from sklearn.datasets import make_classification\n",
    "from sklearn.metrics import accuracy_score, classification_report, f1_score\n",
    "from sklearn.model_selection import cross_val_score, StratifiedKFold, KFold, train_test_split\n",
    "from sklearn.inspection import permutation_importance\n",
    "\n",
    "from lightgbm import LGBMClassifier\n",
    "\n",
    "import matplotlib.pyplot as plt\n",
    "%matplotlib inline\n",
    "\n",
    "import shap\n",
    "\n",
    "import warnings\n",
    "warnings.filterwarnings('ignore')"
   ]
  },
  {
   "cell_type": "code",
   "execution_count": 14,
   "id": "9e451a03",
   "metadata": {},
   "outputs": [],
   "source": [
    "x, y = make_classification(\n",
    "    n_samples=10000,\n",
    "    n_features=100,\n",
    "    n_informative=15,\n",
    "    n_redundant=5,\n",
    "    weights=(0.8, 0.1, 0.1),\n",
    "    n_classes=3,\n",
    "    n_repeated=5,\n",
    "    n_clusters_per_class=4,\n",
    "    shift=0.8,\n",
    "    scale=3.0,\n",
    "    shuffle=False)"
   ]
  },
  {
   "cell_type": "code",
   "execution_count": 31,
   "id": "6aea0ab4",
   "metadata": {},
   "outputs": [
    {
     "data": {
      "text/plain": [
       "0.6416290405617843"
      ]
     },
     "execution_count": 31,
     "metadata": {},
     "output_type": "execute_result"
    }
   ],
   "source": [
    "cross_val_score(\n",
    "    LGBMClassifier(verbose=-100), x, y, cv=StratifiedKFold(n_splits=5, shuffle=True), scoring='f1_macro').mean()"
   ]
  },
  {
   "cell_type": "code",
   "execution_count": 26,
   "id": "1c7b63b0",
   "metadata": {},
   "outputs": [],
   "source": [
    "x_train, x_val, y_train, y_val = train_test_split(x, y, test_size=0.3, stratify=y)"
   ]
  },
  {
   "cell_type": "code",
   "execution_count": 36,
   "id": "573ddaff",
   "metadata": {},
   "outputs": [
    {
     "data": {
      "text/html": [
       "<style>#sk-container-id-2 {color: black;}#sk-container-id-2 pre{padding: 0;}#sk-container-id-2 div.sk-toggleable {background-color: white;}#sk-container-id-2 label.sk-toggleable__label {cursor: pointer;display: block;width: 100%;margin-bottom: 0;padding: 0.3em;box-sizing: border-box;text-align: center;}#sk-container-id-2 label.sk-toggleable__label-arrow:before {content: \"▸\";float: left;margin-right: 0.25em;color: #696969;}#sk-container-id-2 label.sk-toggleable__label-arrow:hover:before {color: black;}#sk-container-id-2 div.sk-estimator:hover label.sk-toggleable__label-arrow:before {color: black;}#sk-container-id-2 div.sk-toggleable__content {max-height: 0;max-width: 0;overflow: hidden;text-align: left;background-color: #f0f8ff;}#sk-container-id-2 div.sk-toggleable__content pre {margin: 0.2em;color: black;border-radius: 0.25em;background-color: #f0f8ff;}#sk-container-id-2 input.sk-toggleable__control:checked~div.sk-toggleable__content {max-height: 200px;max-width: 100%;overflow: auto;}#sk-container-id-2 input.sk-toggleable__control:checked~label.sk-toggleable__label-arrow:before {content: \"▾\";}#sk-container-id-2 div.sk-estimator input.sk-toggleable__control:checked~label.sk-toggleable__label {background-color: #d4ebff;}#sk-container-id-2 div.sk-label input.sk-toggleable__control:checked~label.sk-toggleable__label {background-color: #d4ebff;}#sk-container-id-2 input.sk-hidden--visually {border: 0;clip: rect(1px 1px 1px 1px);clip: rect(1px, 1px, 1px, 1px);height: 1px;margin: -1px;overflow: hidden;padding: 0;position: absolute;width: 1px;}#sk-container-id-2 div.sk-estimator {font-family: monospace;background-color: #f0f8ff;border: 1px dotted black;border-radius: 0.25em;box-sizing: border-box;margin-bottom: 0.5em;}#sk-container-id-2 div.sk-estimator:hover {background-color: #d4ebff;}#sk-container-id-2 div.sk-parallel-item::after {content: \"\";width: 100%;border-bottom: 1px solid gray;flex-grow: 1;}#sk-container-id-2 div.sk-label:hover label.sk-toggleable__label {background-color: #d4ebff;}#sk-container-id-2 div.sk-serial::before {content: \"\";position: absolute;border-left: 1px solid gray;box-sizing: border-box;top: 0;bottom: 0;left: 50%;z-index: 0;}#sk-container-id-2 div.sk-serial {display: flex;flex-direction: column;align-items: center;background-color: white;padding-right: 0.2em;padding-left: 0.2em;position: relative;}#sk-container-id-2 div.sk-item {position: relative;z-index: 1;}#sk-container-id-2 div.sk-parallel {display: flex;align-items: stretch;justify-content: center;background-color: white;position: relative;}#sk-container-id-2 div.sk-item::before, #sk-container-id-2 div.sk-parallel-item::before {content: \"\";position: absolute;border-left: 1px solid gray;box-sizing: border-box;top: 0;bottom: 0;left: 50%;z-index: -1;}#sk-container-id-2 div.sk-parallel-item {display: flex;flex-direction: column;z-index: 1;position: relative;background-color: white;}#sk-container-id-2 div.sk-parallel-item:first-child::after {align-self: flex-end;width: 50%;}#sk-container-id-2 div.sk-parallel-item:last-child::after {align-self: flex-start;width: 50%;}#sk-container-id-2 div.sk-parallel-item:only-child::after {width: 0;}#sk-container-id-2 div.sk-dashed-wrapped {border: 1px dashed gray;margin: 0 0.4em 0.5em 0.4em;box-sizing: border-box;padding-bottom: 0.4em;background-color: white;}#sk-container-id-2 div.sk-label label {font-family: monospace;font-weight: bold;display: inline-block;line-height: 1.2em;}#sk-container-id-2 div.sk-label-container {text-align: center;}#sk-container-id-2 div.sk-container {/* jupyter's `normalize.less` sets `[hidden] { display: none; }` but bootstrap.min.css set `[hidden] { display: none !important; }` so we also need the `!important` here to be able to override the default hidden behavior on the sphinx rendered scikit-learn.org. See: https://github.com/scikit-learn/scikit-learn/issues/21755 */display: inline-block !important;position: relative;}#sk-container-id-2 div.sk-text-repr-fallback {display: none;}</style><div id=\"sk-container-id-2\" class=\"sk-top-container\"><div class=\"sk-text-repr-fallback\"><pre>LGBMClassifier(learning_rate=0.05, max_depth=5, n_estimators=500, verbose=-100)</pre><b>In a Jupyter environment, please rerun this cell to show the HTML representation or trust the notebook. <br />On GitHub, the HTML representation is unable to render, please try loading this page with nbviewer.org.</b></div><div class=\"sk-container\" hidden><div class=\"sk-item\"><div class=\"sk-estimator sk-toggleable\"><input class=\"sk-toggleable__control sk-hidden--visually\" id=\"sk-estimator-id-2\" type=\"checkbox\" checked><label for=\"sk-estimator-id-2\" class=\"sk-toggleable__label sk-toggleable__label-arrow\">LGBMClassifier</label><div class=\"sk-toggleable__content\"><pre>LGBMClassifier(learning_rate=0.05, max_depth=5, n_estimators=500, verbose=-100)</pre></div></div></div></div></div>"
      ],
      "text/plain": [
       "LGBMClassifier(learning_rate=0.05, max_depth=5, n_estimators=500, verbose=-100)"
      ]
     },
     "execution_count": 36,
     "metadata": {},
     "output_type": "execute_result"
    }
   ],
   "source": [
    "model = LGBMClassifier(max_depth=5, n_estimators=500, learning_rate=0.05, verbose=-100)\n",
    "model.fit(x_train, y_train)"
   ]
  },
  {
   "cell_type": "code",
   "execution_count": 37,
   "id": "25c326a5",
   "metadata": {},
   "outputs": [
    {
     "name": "stdout",
     "output_type": "stream",
     "text": [
      "              precision    recall  f1-score   support\n",
      "\n",
      "           0       0.86      0.99      0.92      2382\n",
      "           1       0.71      0.33      0.45       308\n",
      "           2       0.78      0.27      0.41       310\n",
      "\n",
      "    accuracy                           0.85      3000\n",
      "   macro avg       0.78      0.53      0.59      3000\n",
      "weighted avg       0.84      0.85      0.82      3000\n",
      "\n"
     ]
    }
   ],
   "source": [
    "print(classification_report(y_val, model.predict(x_val)))"
   ]
  },
  {
   "cell_type": "code",
   "execution_count": 32,
   "id": "756424cd",
   "metadata": {},
   "outputs": [],
   "source": [
    "class BaseFeatureSelector(ABC):\n",
    "    def __init__(self, n_folds=5):\n",
    "        self.n_folds = n_folds\n",
    "        self.importances = None\n",
    "\n",
    "    def fit(self, x, y, **importances_kwargs):\n",
    "        skf = StratifiedKFold(n_splits=self.n_folds, shuffle=True)  # можно число фолдов и прочие параметры\n",
    "\n",
    "        self.importances = pd.DataFrame({'feature': np.arange(x.shape[1])})\n",
    "\n",
    "        for i, (train_index, val_index) in enumerate(skf.split(x, y)):\n",
    "            x_train, y_train = x[train_index], y[train_index]\n",
    "            x_val, y_val = x[val_index], y[val_index]\n",
    "\n",
    "            model = LGBMClassifier(max_depth=5, n_estimators=500, learning_rate=0.05, verbose=-100)\n",
    "            model.fit(x_train, y_train, eval_set=(x_val, y_val))\n",
    "\n",
    "            imp = self._get_importances_from_model(model, x_val, y_val, **importances_kwargs)\n",
    "\n",
    "            self.importances[f'importance_{i}'] = imp\n",
    "\n",
    "    def get_selected_features(self, threshold):\n",
    "        assert self.importances is not None, 'Сначала нужно обучить, вызвав метод fit'\n",
    "\n",
    "        # сделаем отдельно для 0 итерации\n",
    "        imps = self.importances.loc[:, ['feature', 'importance_0']].sort_values('importance_0', ascending=False)  # выберем важности признаков с 0 итерации\n",
    "        imps['importance_0'] /= imps['importance_0'].sum()\n",
    "        imps['cumsum'] = imps['importance_0'].cumsum()  # так как мы их отнормировали, может посчитать кумулятивную сумму\n",
    "        features = imps.loc[imps['cumsum'] <= threshold, 'feature'].tolist()  # возьмем только те признаки, которые по кумулятивной сумме удовлетворяют\n",
    "        \n",
    "        best_features = set(features)  # сделаем множество\n",
    "        for i in range(1, self.n_folds):\n",
    "            imps = self.importances.loc[:, ['feature', f'importance_{i}']].sort_values(f'importance_{i}', ascending=False)\n",
    "            imps[f'importance_{i}'] /= imps[f'importance_{i}'].sum()\n",
    "            imps['cumsum'] = imps[f'importance_{i}'].cumsum()\n",
    "            features = imps.loc[imps['cumsum'] <= threshold, 'feature'].tolist()\n",
    "\n",
    "            best_features &= set(features)  # смотрим на пересечения множеств на разных итерациях кросс-валидации\n",
    "\n",
    "        return list(best_features)\n",
    "        \n",
    "    @abstractmethod\n",
    "    def _get_importances_from_model(self, model, x, y, **kwargs):\n",
    "        pass\n",
    "    \n",
    "    \n",
    "class LGMFeatureSelection(BaseFeatureSelector):\n",
    "    def __init__(self, n_folds=5):\n",
    "        super().__init__(n_folds)\n",
    "\n",
    "    def _get_importances_from_model(self, model, x, y, importance_type='split'):\n",
    "        return model.booster_.feature_importance(importance_type=importance_type)\n",
    "    \n",
    "\n",
    "class ShapFeatureSelection(BaseFeatureSelector):\n",
    "    def __init__(self, n_folds=5):\n",
    "        super().__init__(n_folds)\n",
    "\n",
    "    def _get_importances_from_model(self, model, x, y, \n",
    "                                    is_multiclass=False, feature_perturbation='tree_path_dependent'):\n",
    "        explainer = shap.TreeExplainer(model, feature_perturbation=feature_perturbation)\n",
    "        shap_values = explainer.shap_values(x)  # for each class, for each instance\n",
    "\n",
    "        if is_multiclass:\n",
    "            if isinstance(shap_values, list):\n",
    "                # if shap_values in list of n_classes np.arrays of shape [n_samples, n_features]\n",
    "                importances = []\n",
    "                for cls_ in shap_values:\n",
    "                    cls_value = np.abs(cls_).mean(axis=0)\n",
    "                    importances.append(cls_value.reshape(1, -1))\n",
    "                    \n",
    "                importances = np.concatenate(importances).mean(axis=0)\n",
    "            else:\n",
    "                # if shap_values in np.array of shape [n_samples, n_features, n_classes]\n",
    "                importances = np.abs(shap_values).mean(axis=(0, 2))\n",
    "        else:\n",
    "            if isinstance(shap_values, list):\n",
    "                # if shap_values in list of n_classes np.arrays of shape [n_samples, n_features]\n",
    "                importances = np.abs(shap_values[1]).mean(axis=0)\n",
    "            else:\n",
    "                # if shap_values in np.array of shape [n_samples, n_features]\n",
    "                importances = np.abs(shap_values).mean(axis=0)\n",
    "        return importances"
   ]
  },
  {
   "cell_type": "markdown",
   "id": "de463cbc",
   "metadata": {},
   "source": [
    "# Первый этап: отбираем признаки с помощью FeatureImportance и SHAP"
   ]
  },
  {
   "cell_type": "code",
   "execution_count": 33,
   "id": "dda997aa",
   "metadata": {},
   "outputs": [],
   "source": [
    "lgm_fs = LGMFeatureSelection()\n",
    "lgm_fs.fit(x, y)"
   ]
  },
  {
   "cell_type": "code",
   "execution_count": 34,
   "id": "46c7642c",
   "metadata": {},
   "outputs": [],
   "source": [
    "shap_fs = ShapFeatureSelection()\n",
    "shap_fs.fit(x, y, is_multiclass=True)"
   ]
  },
  {
   "cell_type": "code",
   "execution_count": 35,
   "id": "cce0e574",
   "metadata": {},
   "outputs": [
    {
     "data": {
      "text/plain": [
       "23"
      ]
     },
     "execution_count": 35,
     "metadata": {},
     "output_type": "execute_result"
    }
   ],
   "source": [
    "lgm_features = lgm_fs.get_selected_features(threshold=0.85)\n",
    "shap_features = shap_fs.get_selected_features(threshold=0.85)\n",
    "\n",
    "selected = set(lgm_features) & set(shap_features)\n",
    "len(selected)"
   ]
  },
  {
   "cell_type": "code",
   "execution_count": 38,
   "id": "cbef2630",
   "metadata": {},
   "outputs": [
    {
     "data": {
      "text/html": [
       "<style>#sk-container-id-3 {color: black;}#sk-container-id-3 pre{padding: 0;}#sk-container-id-3 div.sk-toggleable {background-color: white;}#sk-container-id-3 label.sk-toggleable__label {cursor: pointer;display: block;width: 100%;margin-bottom: 0;padding: 0.3em;box-sizing: border-box;text-align: center;}#sk-container-id-3 label.sk-toggleable__label-arrow:before {content: \"▸\";float: left;margin-right: 0.25em;color: #696969;}#sk-container-id-3 label.sk-toggleable__label-arrow:hover:before {color: black;}#sk-container-id-3 div.sk-estimator:hover label.sk-toggleable__label-arrow:before {color: black;}#sk-container-id-3 div.sk-toggleable__content {max-height: 0;max-width: 0;overflow: hidden;text-align: left;background-color: #f0f8ff;}#sk-container-id-3 div.sk-toggleable__content pre {margin: 0.2em;color: black;border-radius: 0.25em;background-color: #f0f8ff;}#sk-container-id-3 input.sk-toggleable__control:checked~div.sk-toggleable__content {max-height: 200px;max-width: 100%;overflow: auto;}#sk-container-id-3 input.sk-toggleable__control:checked~label.sk-toggleable__label-arrow:before {content: \"▾\";}#sk-container-id-3 div.sk-estimator input.sk-toggleable__control:checked~label.sk-toggleable__label {background-color: #d4ebff;}#sk-container-id-3 div.sk-label input.sk-toggleable__control:checked~label.sk-toggleable__label {background-color: #d4ebff;}#sk-container-id-3 input.sk-hidden--visually {border: 0;clip: rect(1px 1px 1px 1px);clip: rect(1px, 1px, 1px, 1px);height: 1px;margin: -1px;overflow: hidden;padding: 0;position: absolute;width: 1px;}#sk-container-id-3 div.sk-estimator {font-family: monospace;background-color: #f0f8ff;border: 1px dotted black;border-radius: 0.25em;box-sizing: border-box;margin-bottom: 0.5em;}#sk-container-id-3 div.sk-estimator:hover {background-color: #d4ebff;}#sk-container-id-3 div.sk-parallel-item::after {content: \"\";width: 100%;border-bottom: 1px solid gray;flex-grow: 1;}#sk-container-id-3 div.sk-label:hover label.sk-toggleable__label {background-color: #d4ebff;}#sk-container-id-3 div.sk-serial::before {content: \"\";position: absolute;border-left: 1px solid gray;box-sizing: border-box;top: 0;bottom: 0;left: 50%;z-index: 0;}#sk-container-id-3 div.sk-serial {display: flex;flex-direction: column;align-items: center;background-color: white;padding-right: 0.2em;padding-left: 0.2em;position: relative;}#sk-container-id-3 div.sk-item {position: relative;z-index: 1;}#sk-container-id-3 div.sk-parallel {display: flex;align-items: stretch;justify-content: center;background-color: white;position: relative;}#sk-container-id-3 div.sk-item::before, #sk-container-id-3 div.sk-parallel-item::before {content: \"\";position: absolute;border-left: 1px solid gray;box-sizing: border-box;top: 0;bottom: 0;left: 50%;z-index: -1;}#sk-container-id-3 div.sk-parallel-item {display: flex;flex-direction: column;z-index: 1;position: relative;background-color: white;}#sk-container-id-3 div.sk-parallel-item:first-child::after {align-self: flex-end;width: 50%;}#sk-container-id-3 div.sk-parallel-item:last-child::after {align-self: flex-start;width: 50%;}#sk-container-id-3 div.sk-parallel-item:only-child::after {width: 0;}#sk-container-id-3 div.sk-dashed-wrapped {border: 1px dashed gray;margin: 0 0.4em 0.5em 0.4em;box-sizing: border-box;padding-bottom: 0.4em;background-color: white;}#sk-container-id-3 div.sk-label label {font-family: monospace;font-weight: bold;display: inline-block;line-height: 1.2em;}#sk-container-id-3 div.sk-label-container {text-align: center;}#sk-container-id-3 div.sk-container {/* jupyter's `normalize.less` sets `[hidden] { display: none; }` but bootstrap.min.css set `[hidden] { display: none !important; }` so we also need the `!important` here to be able to override the default hidden behavior on the sphinx rendered scikit-learn.org. See: https://github.com/scikit-learn/scikit-learn/issues/21755 */display: inline-block !important;position: relative;}#sk-container-id-3 div.sk-text-repr-fallback {display: none;}</style><div id=\"sk-container-id-3\" class=\"sk-top-container\"><div class=\"sk-text-repr-fallback\"><pre>LGBMClassifier(learning_rate=0.05, max_depth=5, n_estimators=500, verbose=-100)</pre><b>In a Jupyter environment, please rerun this cell to show the HTML representation or trust the notebook. <br />On GitHub, the HTML representation is unable to render, please try loading this page with nbviewer.org.</b></div><div class=\"sk-container\" hidden><div class=\"sk-item\"><div class=\"sk-estimator sk-toggleable\"><input class=\"sk-toggleable__control sk-hidden--visually\" id=\"sk-estimator-id-3\" type=\"checkbox\" checked><label for=\"sk-estimator-id-3\" class=\"sk-toggleable__label sk-toggleable__label-arrow\">LGBMClassifier</label><div class=\"sk-toggleable__content\"><pre>LGBMClassifier(learning_rate=0.05, max_depth=5, n_estimators=500, verbose=-100)</pre></div></div></div></div></div>"
      ],
      "text/plain": [
       "LGBMClassifier(learning_rate=0.05, max_depth=5, n_estimators=500, verbose=-100)"
      ]
     },
     "execution_count": 38,
     "metadata": {},
     "output_type": "execute_result"
    }
   ],
   "source": [
    "model = LGBMClassifier(max_depth=5, n_estimators=500, learning_rate=0.05, verbose=-100)\n",
    "model.fit(x_train[:, list(selected)], y_train)"
   ]
  },
  {
   "cell_type": "code",
   "execution_count": 39,
   "id": "7c501024",
   "metadata": {},
   "outputs": [
    {
     "name": "stdout",
     "output_type": "stream",
     "text": [
      "              precision    recall  f1-score   support\n",
      "\n",
      "           0       0.90      0.99      0.94      2382\n",
      "           1       0.76      0.48      0.59       308\n",
      "           2       0.82      0.49      0.61       310\n",
      "\n",
      "    accuracy                           0.88      3000\n",
      "   macro avg       0.83      0.65      0.71      3000\n",
      "weighted avg       0.87      0.88      0.87      3000\n",
      "\n"
     ]
    }
   ],
   "source": [
    "print(classification_report(y_val, model.predict(x_val[:, list(selected)])))"
   ]
  },
  {
   "cell_type": "markdown",
   "id": "f9280d64",
   "metadata": {},
   "source": [
    "# Второй этап: пройдем по отобранным признакам жадным алгоритмом"
   ]
  },
  {
   "cell_type": "code",
   "execution_count": 40,
   "id": "3101054d",
   "metadata": {},
   "outputs": [],
   "source": [
    "from catboost import CatBoostClassifier, Pool, EFeaturesSelectionAlgorithm, EShapCalcType\n",
    "\n",
    "model = CatBoostClassifier(iterations=1000, verbose=False)\n",
    "summary = model.select_features(\n",
    "    x_train,\n",
    "    y_train,\n",
    "    eval_set=(x_val, y_val),\n",
    "    features_for_select=list(selected),     # we will select from all features\n",
    "    num_features_to_select=15,  # we want to select exactly important features\n",
    "    steps=len(selected)-15,                                     # more steps - more accurate selection\n",
    "    algorithm=EFeaturesSelectionAlgorithm.RecursiveByShapValues,\n",
    "    shap_calc_type=EShapCalcType.Regular,            # can be Approximate, Regular and Exact\n",
    "    train_final_model=False,                          # to train model with selected features\n",
    "    logging_level='Silent',\n",
    "    plot=False\n",
    ")"
   ]
  },
  {
   "cell_type": "code",
   "execution_count": 41,
   "id": "0d65995a",
   "metadata": {},
   "outputs": [
    {
     "data": {
      "text/plain": [
       "{'selected_features': [0, 1, 2, 3, 4, 5, 7, 8, 9, 10, 11, 12, 13, 14, 17],\n",
       " 'eliminated_features_names': ['', '', '', '', '', '', '', ''],\n",
       " 'loss_graph': {'main_indices': [0, 1, 2, 3, 4, 5, 6, 7],\n",
       "  'removed_features_count': [0, 1, 2, 3, 4, 5, 6, 7, 8],\n",
       "  'loss_values': [0.35820846120472627,\n",
       "   0.3543908311093811,\n",
       "   0.3484200519187857,\n",
       "   0.3546469304158924,\n",
       "   0.3578820160975885,\n",
       "   0.3540652244856185,\n",
       "   0.3519230538950761,\n",
       "   0.3591183702395144,\n",
       "   0.3637786238206219]},\n",
       " 'eliminated_features': [59, 40, 46, 15, 16, 18, 6, 19],\n",
       " 'selected_features_names': ['',\n",
       "  '',\n",
       "  '',\n",
       "  '',\n",
       "  '',\n",
       "  '',\n",
       "  '',\n",
       "  '',\n",
       "  '',\n",
       "  '',\n",
       "  '',\n",
       "  '',\n",
       "  '',\n",
       "  '',\n",
       "  '']}"
      ]
     },
     "execution_count": 41,
     "metadata": {},
     "output_type": "execute_result"
    }
   ],
   "source": [
    "summary"
   ]
  },
  {
   "cell_type": "code",
   "execution_count": 77,
   "id": "c0828156",
   "metadata": {},
   "outputs": [],
   "source": [
    "def get_feature_to_drop(model, x, features, feature_perturbation='tree_path_dependent'):\n",
    "    explainer = shap.TreeExplainer(model, feature_perturbation=feature_perturbation)\n",
    "    shap_values = explainer.shap_values(x)\n",
    "\n",
    "#     importances = np.abs(shap_values)[:, :, 1].mean(axis=(0))\n",
    "    importances = np.abs(shap_values).mean(axis=(0, 2))  # mean overall for multiclass\n",
    "#     importances = model.booster_.feature_importance(importance_type='split')\n",
    "    imps = pd.DataFrame({'feature': features, 'importance': importances})\\\n",
    "    .sort_values('importance', ascending=False).reset_index(drop=True)\n",
    "    \n",
    "    \n",
    "    return imps, imps.iloc[-1]['feature']\n",
    "\n",
    "\n",
    "def recursive_feature_elimination(model, x_train, y_train, x_val, y_val, k, features=None):\n",
    "    n_features = x.shape[1]\n",
    "    features = features or list(range(x.shape[1]))\n",
    "    \n",
    "    while len(features) > k:\n",
    "        model_ = copy.deepcopy(model)\n",
    "        model_.fit(x_train[:, features], y_train, eval_set=(x_val, y_val))\n",
    "        score = model_.best_score_['valid_0']\n",
    "        \n",
    "        imps, feature_to_delete = get_feature_to_drop(model_, x_val[:, features], features)\n",
    "        \n",
    "        print(imps.tail(5))\n",
    "        print(f'F1 macro: {f1_score(y_val, model_.predict(x_val[:, features]), average=\"macro\")}')\n",
    "        print(f'Eliminated feature: {feature_to_delete}, score: {score}')\n",
    "        features.remove(feature_to_delete)\n",
    "    return features"
   ]
  },
  {
   "cell_type": "code",
   "execution_count": 78,
   "id": "4d5542fc",
   "metadata": {},
   "outputs": [
    {
     "name": "stdout",
     "output_type": "stream",
     "text": [
      "    feature  importance\n",
      "18       16    0.091313\n",
      "19       19    0.088026\n",
      "20       40    0.080657\n",
      "21       59    0.079456\n",
      "22       15    0.056376\n",
      "F1 macro: 0.7129263408057088\n",
      "Eliminated feature: 15.0, score: OrderedDict([('multi_logloss', 0.3511714414253112)])\n",
      "    feature  importance\n",
      "17       18    0.108647\n",
      "18       46    0.093642\n",
      "19       19    0.089021\n",
      "20       40    0.082309\n",
      "21       59    0.080921\n",
      "F1 macro: 0.71236241781039\n",
      "Eliminated feature: 59.0, score: OrderedDict([('multi_logloss', 0.4482648872221985)])\n",
      "    feature  importance\n",
      "16       13    0.118919\n",
      "17       46    0.095389\n",
      "18       16    0.094524\n",
      "19       19    0.092853\n",
      "20       40    0.080854\n",
      "F1 macro: 0.718121515388447\n",
      "Eliminated feature: 40.0, score: OrderedDict([('multi_logloss', 0.4222725326088195)])\n",
      "    feature  importance\n",
      "15       13    0.127045\n",
      "16       16    0.119332\n",
      "17       18    0.108027\n",
      "18       46    0.098294\n",
      "19       19    0.092632\n",
      "F1 macro: 0.7273602434231928\n",
      "Eliminated feature: 19.0, score: OrderedDict([('multi_logloss', 0.4014606438587536)])\n",
      "    feature  importance\n",
      "14       13    0.128348\n",
      "15        9    0.127369\n",
      "16       16    0.121252\n",
      "17       46    0.105867\n",
      "18       18    0.102267\n",
      "F1 macro: 0.7350144038496088\n",
      "Eliminated feature: 18.0, score: OrderedDict([('multi_logloss', 0.38618773948777396)])\n",
      "    feature  importance\n",
      "13       14    0.143944\n",
      "14        9    0.136181\n",
      "15       13    0.130202\n",
      "16       16    0.124714\n",
      "17       46    0.096014\n",
      "F1 macro: 0.7362346207436102\n",
      "Eliminated feature: 46.0, score: OrderedDict([('multi_logloss', 0.35542859579353064)])\n",
      "    feature  importance\n",
      "12        6    0.154337\n",
      "13       14    0.147567\n",
      "14       13    0.126036\n",
      "15        9    0.125670\n",
      "16       16    0.116707\n",
      "F1 macro: 0.741037943226656\n",
      "Eliminated feature: 16.0, score: OrderedDict([('multi_logloss', 0.34310082789464436)])\n",
      "    feature  importance\n",
      "11        6    0.165311\n",
      "12       14    0.159602\n",
      "13       10    0.154908\n",
      "14        9    0.142395\n",
      "15       13    0.129087\n",
      "F1 macro: 0.7318666648146109\n",
      "Eliminated feature: 13.0, score: OrderedDict([('multi_logloss', 0.3452458779511353)])\n",
      "    feature  importance\n",
      "10       12    0.193247\n",
      "11       14    0.175940\n",
      "12        6    0.172075\n",
      "13       10    0.160365\n",
      "14        9    0.143276\n",
      "F1 macro: 0.7202920327285421\n",
      "Eliminated feature: 9.0, score: OrderedDict([('multi_logloss', 0.37786617243150916)])\n",
      "    feature  importance\n",
      "9        11    0.203464\n",
      "10       12    0.193998\n",
      "11       10    0.176272\n",
      "12        6    0.171667\n",
      "13       14    0.168922\n",
      "F1 macro: 0.7078504779842701\n",
      "Eliminated feature: 14.0, score: OrderedDict([('multi_logloss', 0.6079193890708512)])\n",
      "    feature  importance\n",
      "8         4    0.209545\n",
      "9        11    0.204745\n",
      "10       12    0.194428\n",
      "11       10    0.189658\n",
      "12        6    0.176029\n",
      "F1 macro: 0.6910200328959376\n",
      "Eliminated feature: 6.0, score: OrderedDict([('multi_logloss', 0.5475580518950626)])\n",
      "    feature  importance\n",
      "7         2    0.233536\n",
      "8        11    0.215226\n",
      "9         8    0.213496\n",
      "10       12    0.206506\n",
      "11       10    0.201261\n",
      "F1 macro: 0.6807528004733375\n",
      "Eliminated feature: 10.0, score: OrderedDict([('multi_logloss', 0.8137851393876883)])\n",
      "    feature  importance\n",
      "6         8    0.234285\n",
      "7         4    0.226145\n",
      "8        11    0.219884\n",
      "9         0    0.216687\n",
      "10       12    0.212352\n",
      "F1 macro: 0.6503857006293717\n",
      "Eliminated feature: 12.0, score: OrderedDict([('multi_logloss', 0.8258464770284012)])\n"
     ]
    }
   ],
   "source": [
    "model = LGBMClassifier(max_depth=5, n_estimators=500, learning_rate=0.05, verbose=-100)\n",
    "bf = recursive_feature_elimination(model, x_train, y_train, x_val, y_val, features=list(selected), k=10)"
   ]
  },
  {
   "cell_type": "markdown",
   "id": "e8e2f97b",
   "metadata": {},
   "source": [
    "# Смотрим какие фичи дают максимальную метрику + минимальный лосс, обрежем"
   ]
  },
  {
   "cell_type": "code",
   "execution_count": 79,
   "id": "d8fdadd9",
   "metadata": {},
   "outputs": [
    {
     "data": {
      "text/plain": [
       "[0, 1, 2, 3, 4, 5, 7, 8, 11, 17]"
      ]
     },
     "execution_count": 79,
     "metadata": {},
     "output_type": "execute_result"
    }
   ],
   "source": [
    "bf"
   ]
  },
  {
   "cell_type": "code",
   "execution_count": 84,
   "id": "30a7a5ec",
   "metadata": {},
   "outputs": [
    {
     "data": {
      "text/plain": [
       "{0, 1, 2, 3, 4, 5, 6, 7, 8, 9, 10, 11, 12, 13, 14, 16, 17}"
      ]
     },
     "execution_count": 84,
     "metadata": {},
     "output_type": "execute_result"
    }
   ],
   "source": [
    "selected - set([15, 59, 40, 19, 18, 46])"
   ]
  },
  {
   "cell_type": "code",
   "execution_count": 85,
   "id": "51a2caf8",
   "metadata": {},
   "outputs": [
    {
     "data": {
      "text/html": [
       "<style>#sk-container-id-7 {color: black;}#sk-container-id-7 pre{padding: 0;}#sk-container-id-7 div.sk-toggleable {background-color: white;}#sk-container-id-7 label.sk-toggleable__label {cursor: pointer;display: block;width: 100%;margin-bottom: 0;padding: 0.3em;box-sizing: border-box;text-align: center;}#sk-container-id-7 label.sk-toggleable__label-arrow:before {content: \"▸\";float: left;margin-right: 0.25em;color: #696969;}#sk-container-id-7 label.sk-toggleable__label-arrow:hover:before {color: black;}#sk-container-id-7 div.sk-estimator:hover label.sk-toggleable__label-arrow:before {color: black;}#sk-container-id-7 div.sk-toggleable__content {max-height: 0;max-width: 0;overflow: hidden;text-align: left;background-color: #f0f8ff;}#sk-container-id-7 div.sk-toggleable__content pre {margin: 0.2em;color: black;border-radius: 0.25em;background-color: #f0f8ff;}#sk-container-id-7 input.sk-toggleable__control:checked~div.sk-toggleable__content {max-height: 200px;max-width: 100%;overflow: auto;}#sk-container-id-7 input.sk-toggleable__control:checked~label.sk-toggleable__label-arrow:before {content: \"▾\";}#sk-container-id-7 div.sk-estimator input.sk-toggleable__control:checked~label.sk-toggleable__label {background-color: #d4ebff;}#sk-container-id-7 div.sk-label input.sk-toggleable__control:checked~label.sk-toggleable__label {background-color: #d4ebff;}#sk-container-id-7 input.sk-hidden--visually {border: 0;clip: rect(1px 1px 1px 1px);clip: rect(1px, 1px, 1px, 1px);height: 1px;margin: -1px;overflow: hidden;padding: 0;position: absolute;width: 1px;}#sk-container-id-7 div.sk-estimator {font-family: monospace;background-color: #f0f8ff;border: 1px dotted black;border-radius: 0.25em;box-sizing: border-box;margin-bottom: 0.5em;}#sk-container-id-7 div.sk-estimator:hover {background-color: #d4ebff;}#sk-container-id-7 div.sk-parallel-item::after {content: \"\";width: 100%;border-bottom: 1px solid gray;flex-grow: 1;}#sk-container-id-7 div.sk-label:hover label.sk-toggleable__label {background-color: #d4ebff;}#sk-container-id-7 div.sk-serial::before {content: \"\";position: absolute;border-left: 1px solid gray;box-sizing: border-box;top: 0;bottom: 0;left: 50%;z-index: 0;}#sk-container-id-7 div.sk-serial {display: flex;flex-direction: column;align-items: center;background-color: white;padding-right: 0.2em;padding-left: 0.2em;position: relative;}#sk-container-id-7 div.sk-item {position: relative;z-index: 1;}#sk-container-id-7 div.sk-parallel {display: flex;align-items: stretch;justify-content: center;background-color: white;position: relative;}#sk-container-id-7 div.sk-item::before, #sk-container-id-7 div.sk-parallel-item::before {content: \"\";position: absolute;border-left: 1px solid gray;box-sizing: border-box;top: 0;bottom: 0;left: 50%;z-index: -1;}#sk-container-id-7 div.sk-parallel-item {display: flex;flex-direction: column;z-index: 1;position: relative;background-color: white;}#sk-container-id-7 div.sk-parallel-item:first-child::after {align-self: flex-end;width: 50%;}#sk-container-id-7 div.sk-parallel-item:last-child::after {align-self: flex-start;width: 50%;}#sk-container-id-7 div.sk-parallel-item:only-child::after {width: 0;}#sk-container-id-7 div.sk-dashed-wrapped {border: 1px dashed gray;margin: 0 0.4em 0.5em 0.4em;box-sizing: border-box;padding-bottom: 0.4em;background-color: white;}#sk-container-id-7 div.sk-label label {font-family: monospace;font-weight: bold;display: inline-block;line-height: 1.2em;}#sk-container-id-7 div.sk-label-container {text-align: center;}#sk-container-id-7 div.sk-container {/* jupyter's `normalize.less` sets `[hidden] { display: none; }` but bootstrap.min.css set `[hidden] { display: none !important; }` so we also need the `!important` here to be able to override the default hidden behavior on the sphinx rendered scikit-learn.org. See: https://github.com/scikit-learn/scikit-learn/issues/21755 */display: inline-block !important;position: relative;}#sk-container-id-7 div.sk-text-repr-fallback {display: none;}</style><div id=\"sk-container-id-7\" class=\"sk-top-container\"><div class=\"sk-text-repr-fallback\"><pre>LGBMClassifier(learning_rate=0.05, max_depth=5, n_estimators=500, verbose=-100)</pre><b>In a Jupyter environment, please rerun this cell to show the HTML representation or trust the notebook. <br />On GitHub, the HTML representation is unable to render, please try loading this page with nbviewer.org.</b></div><div class=\"sk-container\" hidden><div class=\"sk-item\"><div class=\"sk-estimator sk-toggleable\"><input class=\"sk-toggleable__control sk-hidden--visually\" id=\"sk-estimator-id-7\" type=\"checkbox\" checked><label for=\"sk-estimator-id-7\" class=\"sk-toggleable__label sk-toggleable__label-arrow\">LGBMClassifier</label><div class=\"sk-toggleable__content\"><pre>LGBMClassifier(learning_rate=0.05, max_depth=5, n_estimators=500, verbose=-100)</pre></div></div></div></div></div>"
      ],
      "text/plain": [
       "LGBMClassifier(learning_rate=0.05, max_depth=5, n_estimators=500, verbose=-100)"
      ]
     },
     "execution_count": 85,
     "metadata": {},
     "output_type": "execute_result"
    }
   ],
   "source": [
    "model = LGBMClassifier(max_depth=5, n_estimators=500, learning_rate=0.05, verbose=-100)\n",
    "model.fit(x_train[:, list(selected - set([15, 59, 40, 19, 18, 46]))], y_train)"
   ]
  },
  {
   "cell_type": "code",
   "execution_count": 86,
   "id": "59a00dbb",
   "metadata": {},
   "outputs": [
    {
     "name": "stdout",
     "output_type": "stream",
     "text": [
      "              precision    recall  f1-score   support\n",
      "\n",
      "           0       0.91      0.99      0.95      2382\n",
      "           1       0.77      0.55      0.64       308\n",
      "           2       0.84      0.51      0.63       310\n",
      "\n",
      "    accuracy                           0.89      3000\n",
      "   macro avg       0.84      0.68      0.74      3000\n",
      "weighted avg       0.89      0.89      0.88      3000\n",
      "\n"
     ]
    }
   ],
   "source": [
    "print(classification_report(y_val, model.predict(x_val[:, list(selected - set([15, 59, 40, 19, 18, 46]))])))"
   ]
  },
  {
   "cell_type": "code",
   "execution_count": null,
   "id": "db1dff4d",
   "metadata": {},
   "outputs": [],
   "source": []
  }
 ],
 "metadata": {
  "kernelspec": {
   "display_name": "uplift",
   "language": "python",
   "name": "uplift"
  },
  "language_info": {
   "codemirror_mode": {
    "name": "ipython",
    "version": 3
   },
   "file_extension": ".py",
   "mimetype": "text/x-python",
   "name": "python",
   "nbconvert_exporter": "python",
   "pygments_lexer": "ipython3",
   "version": "3.10.12"
  }
 },
 "nbformat": 4,
 "nbformat_minor": 5
}
