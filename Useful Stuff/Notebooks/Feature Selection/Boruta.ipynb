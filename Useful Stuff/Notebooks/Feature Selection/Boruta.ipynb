{
 "cells": [
  {
   "cell_type": "markdown",
   "id": "54d9d29d-f19e-49bb-8c61-a3bcff15ee6b",
   "metadata": {},
   "source": [
    "# Boruta Feature Importance\n",
    "\n",
    "Про способ: https://towardsdatascience.com/boruta-explained-the-way-i-wish-someone-explained-it-to-me-4489d70e154a"
   ]
  },
  {
   "cell_type": "code",
   "execution_count": 52,
   "id": "af73ed88-4f49-4ac3-9f35-5820df940f3e",
   "metadata": {},
   "outputs": [],
   "source": [
    "from abc import ABC, abstractmethod\n",
    "import copy\n",
    "\n",
    "import pandas as pd\n",
    "import numpy as np\n",
    "\n",
    "from sklearn.datasets import make_classification\n",
    "from sklearn.metrics import accuracy_score, classification_report, f1_score\n",
    "from sklearn.model_selection import cross_val_score, StratifiedKFold, KFold, train_test_split\n",
    "from sklearn.inspection import permutation_importance\n",
    "\n",
    "from lightgbm import LGBMClassifier\n",
    "\n",
    "from tqdm import tqdm\n",
    "\n",
    "import matplotlib.pyplot as plt\n",
    "%matplotlib inline\n",
    "\n",
    "import shap\n",
    "\n",
    "from BorutaShap import BorutaShap\n",
    "\n",
    "import warnings\n",
    "warnings.filterwarnings('ignore')"
   ]
  },
  {
   "cell_type": "code",
   "execution_count": 2,
   "id": "3cd4be55-2214-4b1c-a601-57bb6d32637c",
   "metadata": {},
   "outputs": [],
   "source": [
    "x, y = make_classification(\n",
    "    n_samples=10000,\n",
    "    n_features=100,\n",
    "    n_informative=15,\n",
    "    n_redundant=5,\n",
    "    weights=(0.95, 0.05),\n",
    "    n_classes=2,\n",
    "    n_repeated=5,\n",
    "    n_clusters_per_class=4,\n",
    "    shift=0.8,\n",
    "    scale=3.0,\n",
    "    shuffle=False)"
   ]
  },
  {
   "cell_type": "code",
   "execution_count": 3,
   "id": "2851e8b2-abfc-4519-a339-6dfe98890ede",
   "metadata": {},
   "outputs": [
    {
     "data": {
      "text/plain": [
       "0.7082634171812725"
      ]
     },
     "execution_count": 3,
     "metadata": {},
     "output_type": "execute_result"
    }
   ],
   "source": [
    "cross_val_score(\n",
    "    LGBMClassifier(verbose=-100), x, y, cv=StratifiedKFold(n_splits=5, shuffle=True), scoring='f1_macro').mean()"
   ]
  },
  {
   "cell_type": "code",
   "execution_count": 4,
   "id": "26307a45-33ba-49ad-9403-d9655a65e180",
   "metadata": {},
   "outputs": [],
   "source": [
    "x_train, x_val, y_train, y_val = train_test_split(x, y, test_size=0.3, stratify=y)"
   ]
  },
  {
   "cell_type": "code",
   "execution_count": 5,
   "id": "801d3575-6083-45cf-8aff-da0ee6b70467",
   "metadata": {},
   "outputs": [
    {
     "data": {
      "text/html": [
       "<style>#sk-container-id-1 {color: black;}#sk-container-id-1 pre{padding: 0;}#sk-container-id-1 div.sk-toggleable {background-color: white;}#sk-container-id-1 label.sk-toggleable__label {cursor: pointer;display: block;width: 100%;margin-bottom: 0;padding: 0.3em;box-sizing: border-box;text-align: center;}#sk-container-id-1 label.sk-toggleable__label-arrow:before {content: \"▸\";float: left;margin-right: 0.25em;color: #696969;}#sk-container-id-1 label.sk-toggleable__label-arrow:hover:before {color: black;}#sk-container-id-1 div.sk-estimator:hover label.sk-toggleable__label-arrow:before {color: black;}#sk-container-id-1 div.sk-toggleable__content {max-height: 0;max-width: 0;overflow: hidden;text-align: left;background-color: #f0f8ff;}#sk-container-id-1 div.sk-toggleable__content pre {margin: 0.2em;color: black;border-radius: 0.25em;background-color: #f0f8ff;}#sk-container-id-1 input.sk-toggleable__control:checked~div.sk-toggleable__content {max-height: 200px;max-width: 100%;overflow: auto;}#sk-container-id-1 input.sk-toggleable__control:checked~label.sk-toggleable__label-arrow:before {content: \"▾\";}#sk-container-id-1 div.sk-estimator input.sk-toggleable__control:checked~label.sk-toggleable__label {background-color: #d4ebff;}#sk-container-id-1 div.sk-label input.sk-toggleable__control:checked~label.sk-toggleable__label {background-color: #d4ebff;}#sk-container-id-1 input.sk-hidden--visually {border: 0;clip: rect(1px 1px 1px 1px);clip: rect(1px, 1px, 1px, 1px);height: 1px;margin: -1px;overflow: hidden;padding: 0;position: absolute;width: 1px;}#sk-container-id-1 div.sk-estimator {font-family: monospace;background-color: #f0f8ff;border: 1px dotted black;border-radius: 0.25em;box-sizing: border-box;margin-bottom: 0.5em;}#sk-container-id-1 div.sk-estimator:hover {background-color: #d4ebff;}#sk-container-id-1 div.sk-parallel-item::after {content: \"\";width: 100%;border-bottom: 1px solid gray;flex-grow: 1;}#sk-container-id-1 div.sk-label:hover label.sk-toggleable__label {background-color: #d4ebff;}#sk-container-id-1 div.sk-serial::before {content: \"\";position: absolute;border-left: 1px solid gray;box-sizing: border-box;top: 0;bottom: 0;left: 50%;z-index: 0;}#sk-container-id-1 div.sk-serial {display: flex;flex-direction: column;align-items: center;background-color: white;padding-right: 0.2em;padding-left: 0.2em;position: relative;}#sk-container-id-1 div.sk-item {position: relative;z-index: 1;}#sk-container-id-1 div.sk-parallel {display: flex;align-items: stretch;justify-content: center;background-color: white;position: relative;}#sk-container-id-1 div.sk-item::before, #sk-container-id-1 div.sk-parallel-item::before {content: \"\";position: absolute;border-left: 1px solid gray;box-sizing: border-box;top: 0;bottom: 0;left: 50%;z-index: -1;}#sk-container-id-1 div.sk-parallel-item {display: flex;flex-direction: column;z-index: 1;position: relative;background-color: white;}#sk-container-id-1 div.sk-parallel-item:first-child::after {align-self: flex-end;width: 50%;}#sk-container-id-1 div.sk-parallel-item:last-child::after {align-self: flex-start;width: 50%;}#sk-container-id-1 div.sk-parallel-item:only-child::after {width: 0;}#sk-container-id-1 div.sk-dashed-wrapped {border: 1px dashed gray;margin: 0 0.4em 0.5em 0.4em;box-sizing: border-box;padding-bottom: 0.4em;background-color: white;}#sk-container-id-1 div.sk-label label {font-family: monospace;font-weight: bold;display: inline-block;line-height: 1.2em;}#sk-container-id-1 div.sk-label-container {text-align: center;}#sk-container-id-1 div.sk-container {/* jupyter's `normalize.less` sets `[hidden] { display: none; }` but bootstrap.min.css set `[hidden] { display: none !important; }` so we also need the `!important` here to be able to override the default hidden behavior on the sphinx rendered scikit-learn.org. See: https://github.com/scikit-learn/scikit-learn/issues/21755 */display: inline-block !important;position: relative;}#sk-container-id-1 div.sk-text-repr-fallback {display: none;}</style><div id=\"sk-container-id-1\" class=\"sk-top-container\"><div class=\"sk-text-repr-fallback\"><pre>LGBMClassifier(learning_rate=0.05, max_depth=5, n_estimators=500, verbose=-100)</pre><b>In a Jupyter environment, please rerun this cell to show the HTML representation or trust the notebook. <br />On GitHub, the HTML representation is unable to render, please try loading this page with nbviewer.org.</b></div><div class=\"sk-container\" hidden><div class=\"sk-item\"><div class=\"sk-estimator sk-toggleable\"><input class=\"sk-toggleable__control sk-hidden--visually\" id=\"sk-estimator-id-1\" type=\"checkbox\" checked><label for=\"sk-estimator-id-1\" class=\"sk-toggleable__label sk-toggleable__label-arrow\">LGBMClassifier</label><div class=\"sk-toggleable__content\"><pre>LGBMClassifier(learning_rate=0.05, max_depth=5, n_estimators=500, verbose=-100)</pre></div></div></div></div></div>"
      ],
      "text/plain": [
       "LGBMClassifier(learning_rate=0.05, max_depth=5, n_estimators=500, verbose=-100)"
      ]
     },
     "execution_count": 5,
     "metadata": {},
     "output_type": "execute_result"
    }
   ],
   "source": [
    "model = LGBMClassifier(max_depth=5, n_estimators=500, learning_rate=0.05, verbose=-100)\n",
    "model.fit(x_train, y_train)"
   ]
  },
  {
   "cell_type": "code",
   "execution_count": 6,
   "id": "43aa258a-01a8-42d4-9f8e-214e09ea8069",
   "metadata": {},
   "outputs": [
    {
     "name": "stdout",
     "output_type": "stream",
     "text": [
      "              precision    recall  f1-score   support\n",
      "\n",
      "           0       0.96      1.00      0.98      2840\n",
      "           1       0.97      0.24      0.38       160\n",
      "\n",
      "    accuracy                           0.96      3000\n",
      "   macro avg       0.97      0.62      0.68      3000\n",
      "weighted avg       0.96      0.96      0.95      3000\n",
      "\n"
     ]
    }
   ],
   "source": [
    "print(classification_report(y_val, model.predict(x_val)))"
   ]
  },
  {
   "cell_type": "markdown",
   "id": "588a3ab4-2845-412c-be11-6d5b6b952a92",
   "metadata": {},
   "source": [
    "# Отбор с помощью BorutaShap"
   ]
  },
  {
   "cell_type": "code",
   "execution_count": 7,
   "id": "ff2d1b42-76d6-4602-ba57-ca08af23d1a4",
   "metadata": {},
   "outputs": [],
   "source": [
    "x_train = pd.DataFrame(x_train, columns=[f'feature_{i}' for i in range(x_train.shape[1])])"
   ]
  },
  {
   "cell_type": "code",
   "execution_count": 8,
   "id": "e87679db-05b7-4959-a5f3-d4d21d96ec9b",
   "metadata": {},
   "outputs": [
    {
     "name": "stderr",
     "output_type": "stream",
     "text": [
      "100%|██████████████████████████████████████████████████████████████████████████████████| 50/50 [02:03<00:00,  2.48s/it]"
     ]
    },
    {
     "name": "stdout",
     "output_type": "stream",
     "text": [
      "11 attributes confirmed important: ['feature_1', 'feature_4', 'feature_8', 'feature_79', 'feature_6', 'feature_0', 'feature_2', 'feature_5', 'feature_11', 'feature_12', 'feature_10']\n",
      "86 attributes confirmed unimportant: ['feature_85', 'feature_74', 'feature_76', 'feature_88', 'feature_18', 'feature_59', 'feature_71', 'feature_32', 'feature_96', 'feature_46', 'feature_29', 'feature_38', 'feature_26', 'feature_67', 'feature_52', 'feature_3', 'feature_45', 'feature_23', 'feature_94', 'feature_16', 'feature_21', 'feature_86', 'feature_51', 'feature_20', 'feature_49', 'feature_17', 'feature_66', 'feature_28', 'feature_27', 'feature_58', 'feature_93', 'feature_68', 'feature_50', 'feature_47', 'feature_95', 'feature_61', 'feature_73', 'feature_81', 'feature_84', 'feature_77', 'feature_64', 'feature_9', 'feature_63', 'feature_97', 'feature_31', 'feature_78', 'feature_57', 'feature_24', 'feature_35', 'feature_60', 'feature_43', 'feature_48', 'feature_33', 'feature_89', 'feature_92', 'feature_90', 'feature_56', 'feature_30', 'feature_82', 'feature_80', 'feature_87', 'feature_13', 'feature_39', 'feature_19', 'feature_36', 'feature_53', 'feature_40', 'feature_98', 'feature_62', 'feature_25', 'feature_37', 'feature_83', 'feature_91', 'feature_65', 'feature_99', 'feature_70', 'feature_41', 'feature_34', 'feature_44', 'feature_54', 'feature_42', 'feature_22', 'feature_69', 'feature_55', 'feature_7', 'feature_75']\n",
      "3 tentative attributes remains: ['feature_72', 'feature_15', 'feature_14']\n"
     ]
    },
    {
     "name": "stderr",
     "output_type": "stream",
     "text": [
      "\n"
     ]
    }
   ],
   "source": [
    "fs_boruta = BorutaShap(\n",
    "    model=LGBMClassifier(max_depth=5, n_estimators=500, learning_rate=0.05, verbose=-100),\n",
    "    importance_measure='shap',\n",
    "    classification=True)\n",
    "\n",
    "fs_boruta.fit(X=x_train, y=y_train, n_trials=50, random_state=0)"
   ]
  },
  {
   "cell_type": "code",
   "execution_count": 11,
   "id": "4c91fdb8-29a1-41f1-b1a5-c7a663b89fd9",
   "metadata": {},
   "outputs": [
    {
     "data": {
      "image/png": "[encoded data removed]",
      "text/plain": [
       "<Figure size 1600x1200 with 1 Axes>"
      ]
     },
     "metadata": {},
     "output_type": "display_data"
    }
   ],
   "source": [
    "fs_boruta.plot(which_features='all', figsize=(16, 12))"
   ]
  },
  {
   "cell_type": "code",
   "execution_count": 12,
   "id": "0a3dd276-b9f3-471f-96f2-7cbba5a53afb",
   "metadata": {},
   "outputs": [
    {
     "data": {
      "text/html": [
       "<style>#sk-container-id-2 {color: black;}#sk-container-id-2 pre{padding: 0;}#sk-container-id-2 div.sk-toggleable {background-color: white;}#sk-container-id-2 label.sk-toggleable__label {cursor: pointer;display: block;width: 100%;margin-bottom: 0;padding: 0.3em;box-sizing: border-box;text-align: center;}#sk-container-id-2 label.sk-toggleable__label-arrow:before {content: \"▸\";float: left;margin-right: 0.25em;color: #696969;}#sk-container-id-2 label.sk-toggleable__label-arrow:hover:before {color: black;}#sk-container-id-2 div.sk-estimator:hover label.sk-toggleable__label-arrow:before {color: black;}#sk-container-id-2 div.sk-toggleable__content {max-height: 0;max-width: 0;overflow: hidden;text-align: left;background-color: #f0f8ff;}#sk-container-id-2 div.sk-toggleable__content pre {margin: 0.2em;color: black;border-radius: 0.25em;background-color: #f0f8ff;}#sk-container-id-2 input.sk-toggleable__control:checked~div.sk-toggleable__content {max-height: 200px;max-width: 100%;overflow: auto;}#sk-container-id-2 input.sk-toggleable__control:checked~label.sk-toggleable__label-arrow:before {content: \"▾\";}#sk-container-id-2 div.sk-estimator input.sk-toggleable__control:checked~label.sk-toggleable__label {background-color: #d4ebff;}#sk-container-id-2 div.sk-label input.sk-toggleable__control:checked~label.sk-toggleable__label {background-color: #d4ebff;}#sk-container-id-2 input.sk-hidden--visually {border: 0;clip: rect(1px 1px 1px 1px);clip: rect(1px, 1px, 1px, 1px);height: 1px;margin: -1px;overflow: hidden;padding: 0;position: absolute;width: 1px;}#sk-container-id-2 div.sk-estimator {font-family: monospace;background-color: #f0f8ff;border: 1px dotted black;border-radius: 0.25em;box-sizing: border-box;margin-bottom: 0.5em;}#sk-container-id-2 div.sk-estimator:hover {background-color: #d4ebff;}#sk-container-id-2 div.sk-parallel-item::after {content: \"\";width: 100%;border-bottom: 1px solid gray;flex-grow: 1;}#sk-container-id-2 div.sk-label:hover label.sk-toggleable__label {background-color: #d4ebff;}#sk-container-id-2 div.sk-serial::before {content: \"\";position: absolute;border-left: 1px solid gray;box-sizing: border-box;top: 0;bottom: 0;left: 50%;z-index: 0;}#sk-container-id-2 div.sk-serial {display: flex;flex-direction: column;align-items: center;background-color: white;padding-right: 0.2em;padding-left: 0.2em;position: relative;}#sk-container-id-2 div.sk-item {position: relative;z-index: 1;}#sk-container-id-2 div.sk-parallel {display: flex;align-items: stretch;justify-content: center;background-color: white;position: relative;}#sk-container-id-2 div.sk-item::before, #sk-container-id-2 div.sk-parallel-item::before {content: \"\";position: absolute;border-left: 1px solid gray;box-sizing: border-box;top: 0;bottom: 0;left: 50%;z-index: -1;}#sk-container-id-2 div.sk-parallel-item {display: flex;flex-direction: column;z-index: 1;position: relative;background-color: white;}#sk-container-id-2 div.sk-parallel-item:first-child::after {align-self: flex-end;width: 50%;}#sk-container-id-2 div.sk-parallel-item:last-child::after {align-self: flex-start;width: 50%;}#sk-container-id-2 div.sk-parallel-item:only-child::after {width: 0;}#sk-container-id-2 div.sk-dashed-wrapped {border: 1px dashed gray;margin: 0 0.4em 0.5em 0.4em;box-sizing: border-box;padding-bottom: 0.4em;background-color: white;}#sk-container-id-2 div.sk-label label {font-family: monospace;font-weight: bold;display: inline-block;line-height: 1.2em;}#sk-container-id-2 div.sk-label-container {text-align: center;}#sk-container-id-2 div.sk-container {/* jupyter's `normalize.less` sets `[hidden] { display: none; }` but bootstrap.min.css set `[hidden] { display: none !important; }` so we also need the `!important` here to be able to override the default hidden behavior on the sphinx rendered scikit-learn.org. See: https://github.com/scikit-learn/scikit-learn/issues/21755 */display: inline-block !important;position: relative;}#sk-container-id-2 div.sk-text-repr-fallback {display: none;}</style><div id=\"sk-container-id-2\" class=\"sk-top-container\"><div class=\"sk-text-repr-fallback\"><pre>LGBMClassifier(learning_rate=0.05, max_depth=5, n_estimators=500, verbose=-100)</pre><b>In a Jupyter environment, please rerun this cell to show the HTML representation or trust the notebook. <br />On GitHub, the HTML representation is unable to render, please try loading this page with nbviewer.org.</b></div><div class=\"sk-container\" hidden><div class=\"sk-item\"><div class=\"sk-estimator sk-toggleable\"><input class=\"sk-toggleable__control sk-hidden--visually\" id=\"sk-estimator-id-2\" type=\"checkbox\" checked><label for=\"sk-estimator-id-2\" class=\"sk-toggleable__label sk-toggleable__label-arrow\">LGBMClassifier</label><div class=\"sk-toggleable__content\"><pre>LGBMClassifier(learning_rate=0.05, max_depth=5, n_estimators=500, verbose=-100)</pre></div></div></div></div></div>"
      ],
      "text/plain": [
       "LGBMClassifier(learning_rate=0.05, max_depth=5, n_estimators=500, verbose=-100)"
      ]
     },
     "execution_count": 12,
     "metadata": {},
     "output_type": "execute_result"
    }
   ],
   "source": [
    "model = LGBMClassifier(max_depth=5, n_estimators=500, learning_rate=0.05, verbose=-100)\n",
    "model.fit(x_train[fs_boruta.accepted], y_train)"
   ]
  },
  {
   "cell_type": "code",
   "execution_count": 13,
   "id": "24ca79ab-b1c6-47ed-8b42-2e5a94651bd2",
   "metadata": {},
   "outputs": [],
   "source": [
    "x_val = pd.DataFrame(x_val, columns=[f'feature_{i}' for i in range(x_val.shape[1])])"
   ]
  },
  {
   "cell_type": "code",
   "execution_count": 14,
   "id": "2a1a9710-3ef1-442d-8ac6-c04241f60504",
   "metadata": {},
   "outputs": [
    {
     "name": "stdout",
     "output_type": "stream",
     "text": [
      "              precision    recall  f1-score   support\n",
      "\n",
      "           0       0.96      1.00      0.98      2840\n",
      "           1       0.86      0.36      0.50       160\n",
      "\n",
      "    accuracy                           0.96      3000\n",
      "   macro avg       0.91      0.68      0.74      3000\n",
      "weighted avg       0.96      0.96      0.96      3000\n",
      "\n"
     ]
    }
   ],
   "source": [
    "print(classification_report(y_val, model.predict(x_val[fs_boruta.accepted])))"
   ]
  },
  {
   "cell_type": "markdown",
   "id": "5911bd71-0d93-43c4-8416-841aeda1572a",
   "metadata": {},
   "source": [
    "# Vanilla"
   ]
  },
  {
   "cell_type": "markdown",
   "id": "d0b5f3df-3f2b-43a2-8ae5-6dbbee11ea28",
   "metadata": {},
   "source": [
    "## Сначала создадим копии всех признаков, перешая значения в них, это будут теневые признаки"
   ]
  },
  {
   "cell_type": "code",
   "execution_count": 19,
   "id": "88fa3969-258e-4a33-9412-8124f80e12ef",
   "metadata": {},
   "outputs": [
    {
     "data": {
      "text/html": [
       "<div>\n",
       "<style scoped>\n",
       "    .dataframe tbody tr th:only-of-type {\n",
       "        vertical-align: middle;\n",
       "    }\n",
       "\n",
       "    .dataframe tbody tr th {\n",
       "        vertical-align: top;\n",
       "    }\n",
       "\n",
       "    .dataframe thead th {\n",
       "        text-align: right;\n",
       "    }\n",
       "</style>\n",
       "<table border=\"1\" class=\"dataframe\">\n",
       "  <thead>\n",
       "    <tr style=\"text-align: right;\">\n",
       "      <th></th>\n",
       "      <th>shadow_feature_0</th>\n",
       "      <th>shadow_feature_1</th>\n",
       "      <th>shadow_feature_2</th>\n",
       "      <th>shadow_feature_3</th>\n",
       "      <th>shadow_feature_4</th>\n",
       "      <th>shadow_feature_5</th>\n",
       "      <th>shadow_feature_6</th>\n",
       "      <th>shadow_feature_7</th>\n",
       "      <th>shadow_feature_8</th>\n",
       "      <th>shadow_feature_9</th>\n",
       "      <th>...</th>\n",
       "      <th>shadow_feature_90</th>\n",
       "      <th>shadow_feature_91</th>\n",
       "      <th>shadow_feature_92</th>\n",
       "      <th>shadow_feature_93</th>\n",
       "      <th>shadow_feature_94</th>\n",
       "      <th>shadow_feature_95</th>\n",
       "      <th>shadow_feature_96</th>\n",
       "      <th>shadow_feature_97</th>\n",
       "      <th>shadow_feature_98</th>\n",
       "      <th>shadow_feature_99</th>\n",
       "    </tr>\n",
       "  </thead>\n",
       "  <tbody>\n",
       "    <tr>\n",
       "      <th>0</th>\n",
       "      <td>-9.103803</td>\n",
       "      <td>-6.510469</td>\n",
       "      <td>4.012235</td>\n",
       "      <td>13.989281</td>\n",
       "      <td>-12.562109</td>\n",
       "      <td>8.648470</td>\n",
       "      <td>0.291413</td>\n",
       "      <td>8.041604</td>\n",
       "      <td>2.164326</td>\n",
       "      <td>3.783481</td>\n",
       "      <td>...</td>\n",
       "      <td>1.417680</td>\n",
       "      <td>-3.899675</td>\n",
       "      <td>0.856464</td>\n",
       "      <td>2.037382</td>\n",
       "      <td>2.668215</td>\n",
       "      <td>2.887091</td>\n",
       "      <td>3.116444</td>\n",
       "      <td>0.143887</td>\n",
       "      <td>1.295805</td>\n",
       "      <td>7.376207</td>\n",
       "    </tr>\n",
       "    <tr>\n",
       "      <th>1</th>\n",
       "      <td>8.046436</td>\n",
       "      <td>-2.790032</td>\n",
       "      <td>3.555243</td>\n",
       "      <td>7.263791</td>\n",
       "      <td>3.804703</td>\n",
       "      <td>2.412002</td>\n",
       "      <td>3.925176</td>\n",
       "      <td>3.733354</td>\n",
       "      <td>6.231635</td>\n",
       "      <td>0.938239</td>\n",
       "      <td>...</td>\n",
       "      <td>6.350571</td>\n",
       "      <td>-1.579367</td>\n",
       "      <td>2.302414</td>\n",
       "      <td>-4.647766</td>\n",
       "      <td>0.751961</td>\n",
       "      <td>10.627104</td>\n",
       "      <td>4.595147</td>\n",
       "      <td>6.639962</td>\n",
       "      <td>1.188366</td>\n",
       "      <td>-1.784877</td>\n",
       "    </tr>\n",
       "    <tr>\n",
       "      <th>2</th>\n",
       "      <td>5.945580</td>\n",
       "      <td>-13.345209</td>\n",
       "      <td>9.078174</td>\n",
       "      <td>-3.024366</td>\n",
       "      <td>-4.105406</td>\n",
       "      <td>-0.838684</td>\n",
       "      <td>15.369042</td>\n",
       "      <td>16.168455</td>\n",
       "      <td>-1.134780</td>\n",
       "      <td>13.584621</td>\n",
       "      <td>...</td>\n",
       "      <td>5.061237</td>\n",
       "      <td>-1.838742</td>\n",
       "      <td>4.139956</td>\n",
       "      <td>5.189579</td>\n",
       "      <td>0.627217</td>\n",
       "      <td>4.205423</td>\n",
       "      <td>7.984847</td>\n",
       "      <td>1.105637</td>\n",
       "      <td>1.106014</td>\n",
       "      <td>0.173217</td>\n",
       "    </tr>\n",
       "    <tr>\n",
       "      <th>3</th>\n",
       "      <td>13.508087</td>\n",
       "      <td>-3.960814</td>\n",
       "      <td>-0.140697</td>\n",
       "      <td>9.970617</td>\n",
       "      <td>-2.543720</td>\n",
       "      <td>-1.789342</td>\n",
       "      <td>12.176759</td>\n",
       "      <td>5.499550</td>\n",
       "      <td>-2.850412</td>\n",
       "      <td>-4.679179</td>\n",
       "      <td>...</td>\n",
       "      <td>2.818589</td>\n",
       "      <td>2.863573</td>\n",
       "      <td>2.680006</td>\n",
       "      <td>7.317878</td>\n",
       "      <td>6.481907</td>\n",
       "      <td>-1.733432</td>\n",
       "      <td>3.951335</td>\n",
       "      <td>2.443632</td>\n",
       "      <td>0.713104</td>\n",
       "      <td>-2.108791</td>\n",
       "    </tr>\n",
       "    <tr>\n",
       "      <th>4</th>\n",
       "      <td>-10.908691</td>\n",
       "      <td>-16.287060</td>\n",
       "      <td>12.205244</td>\n",
       "      <td>-15.554781</td>\n",
       "      <td>10.269156</td>\n",
       "      <td>-5.208870</td>\n",
       "      <td>-5.974461</td>\n",
       "      <td>10.371525</td>\n",
       "      <td>13.218881</td>\n",
       "      <td>7.698857</td>\n",
       "      <td>...</td>\n",
       "      <td>-0.382288</td>\n",
       "      <td>1.992133</td>\n",
       "      <td>5.251081</td>\n",
       "      <td>-1.905744</td>\n",
       "      <td>0.638788</td>\n",
       "      <td>-0.942111</td>\n",
       "      <td>0.273424</td>\n",
       "      <td>0.723932</td>\n",
       "      <td>4.040002</td>\n",
       "      <td>5.529714</td>\n",
       "    </tr>\n",
       "  </tbody>\n",
       "</table>\n",
       "<p>5 rows × 100 columns</p>\n",
       "</div>"
      ],
      "text/plain": [
       "   shadow_feature_0  shadow_feature_1  shadow_feature_2  shadow_feature_3  \\\n",
       "0         -9.103803         -6.510469          4.012235         13.989281   \n",
       "1          8.046436         -2.790032          3.555243          7.263791   \n",
       "2          5.945580        -13.345209          9.078174         -3.024366   \n",
       "3         13.508087         -3.960814         -0.140697          9.970617   \n",
       "4        -10.908691        -16.287060         12.205244        -15.554781   \n",
       "\n",
       "   shadow_feature_4  shadow_feature_5  shadow_feature_6  shadow_feature_7  \\\n",
       "0        -12.562109          8.648470          0.291413          8.041604   \n",
       "1          3.804703          2.412002          3.925176          3.733354   \n",
       "2         -4.105406         -0.838684         15.369042         16.168455   \n",
       "3         -2.543720         -1.789342         12.176759          5.499550   \n",
       "4         10.269156         -5.208870         -5.974461         10.371525   \n",
       "\n",
       "   shadow_feature_8  shadow_feature_9  ...  shadow_feature_90  \\\n",
       "0          2.164326          3.783481  ...           1.417680   \n",
       "1          6.231635          0.938239  ...           6.350571   \n",
       "2         -1.134780         13.584621  ...           5.061237   \n",
       "3         -2.850412         -4.679179  ...           2.818589   \n",
       "4         13.218881          7.698857  ...          -0.382288   \n",
       "\n",
       "   shadow_feature_91  shadow_feature_92  shadow_feature_93  shadow_feature_94  \\\n",
       "0          -3.899675           0.856464           2.037382           2.668215   \n",
       "1          -1.579367           2.302414          -4.647766           0.751961   \n",
       "2          -1.838742           4.139956           5.189579           0.627217   \n",
       "3           2.863573           2.680006           7.317878           6.481907   \n",
       "4           1.992133           5.251081          -1.905744           0.638788   \n",
       "\n",
       "   shadow_feature_95  shadow_feature_96  shadow_feature_97  shadow_feature_98  \\\n",
       "0           2.887091           3.116444           0.143887           1.295805   \n",
       "1          10.627104           4.595147           6.639962           1.188366   \n",
       "2           4.205423           7.984847           1.105637           1.106014   \n",
       "3          -1.733432           3.951335           2.443632           0.713104   \n",
       "4          -0.942111           0.273424           0.723932           4.040002   \n",
       "\n",
       "   shadow_feature_99  \n",
       "0           7.376207  \n",
       "1          -1.784877  \n",
       "2           0.173217  \n",
       "3          -2.108791  \n",
       "4           5.529714  \n",
       "\n",
       "[5 rows x 100 columns]"
      ]
     },
     "execution_count": 19,
     "metadata": {},
     "output_type": "execute_result"
    }
   ],
   "source": [
    "shadow_x = x_train.apply(np.random.permutation)\n",
    "shadow_x.columns = ['shadow_'+col for col in shadow_x.columns]\n",
    "shadow_x.head()"
   ]
  },
  {
   "cell_type": "code",
   "execution_count": 22,
   "id": "82d8f1f2-16cf-4bb6-a15c-a86bf66b4f42",
   "metadata": {},
   "outputs": [
    {
     "data": {
      "text/html": [
       "<div>\n",
       "<style scoped>\n",
       "    .dataframe tbody tr th:only-of-type {\n",
       "        vertical-align: middle;\n",
       "    }\n",
       "\n",
       "    .dataframe tbody tr th {\n",
       "        vertical-align: top;\n",
       "    }\n",
       "\n",
       "    .dataframe thead th {\n",
       "        text-align: right;\n",
       "    }\n",
       "</style>\n",
       "<table border=\"1\" class=\"dataframe\">\n",
       "  <thead>\n",
       "    <tr style=\"text-align: right;\">\n",
       "      <th></th>\n",
       "      <th>feature_0</th>\n",
       "      <th>feature_1</th>\n",
       "      <th>feature_2</th>\n",
       "      <th>feature_3</th>\n",
       "      <th>feature_4</th>\n",
       "      <th>feature_5</th>\n",
       "      <th>feature_6</th>\n",
       "      <th>feature_7</th>\n",
       "      <th>feature_8</th>\n",
       "      <th>feature_9</th>\n",
       "      <th>...</th>\n",
       "      <th>shadow_feature_90</th>\n",
       "      <th>shadow_feature_91</th>\n",
       "      <th>shadow_feature_92</th>\n",
       "      <th>shadow_feature_93</th>\n",
       "      <th>shadow_feature_94</th>\n",
       "      <th>shadow_feature_95</th>\n",
       "      <th>shadow_feature_96</th>\n",
       "      <th>shadow_feature_97</th>\n",
       "      <th>shadow_feature_98</th>\n",
       "      <th>shadow_feature_99</th>\n",
       "    </tr>\n",
       "  </thead>\n",
       "  <tbody>\n",
       "    <tr>\n",
       "      <th>0</th>\n",
       "      <td>7.039615</td>\n",
       "      <td>3.886134</td>\n",
       "      <td>-1.881213</td>\n",
       "      <td>19.058090</td>\n",
       "      <td>7.496074</td>\n",
       "      <td>-0.846889</td>\n",
       "      <td>-12.137040</td>\n",
       "      <td>-4.423717</td>\n",
       "      <td>-14.408564</td>\n",
       "      <td>15.697875</td>\n",
       "      <td>...</td>\n",
       "      <td>1.417680</td>\n",
       "      <td>-3.899675</td>\n",
       "      <td>0.856464</td>\n",
       "      <td>2.037382</td>\n",
       "      <td>2.668215</td>\n",
       "      <td>2.887091</td>\n",
       "      <td>3.116444</td>\n",
       "      <td>0.143887</td>\n",
       "      <td>1.295805</td>\n",
       "      <td>7.376207</td>\n",
       "    </tr>\n",
       "    <tr>\n",
       "      <th>1</th>\n",
       "      <td>6.718789</td>\n",
       "      <td>-4.026466</td>\n",
       "      <td>-9.164948</td>\n",
       "      <td>-0.804444</td>\n",
       "      <td>-6.055426</td>\n",
       "      <td>8.973674</td>\n",
       "      <td>8.668155</td>\n",
       "      <td>4.150073</td>\n",
       "      <td>5.966492</td>\n",
       "      <td>2.007946</td>\n",
       "      <td>...</td>\n",
       "      <td>6.350571</td>\n",
       "      <td>-1.579367</td>\n",
       "      <td>2.302414</td>\n",
       "      <td>-4.647766</td>\n",
       "      <td>0.751961</td>\n",
       "      <td>10.627104</td>\n",
       "      <td>4.595147</td>\n",
       "      <td>6.639962</td>\n",
       "      <td>1.188366</td>\n",
       "      <td>-1.784877</td>\n",
       "    </tr>\n",
       "    <tr>\n",
       "      <th>2</th>\n",
       "      <td>-0.701885</td>\n",
       "      <td>-11.913876</td>\n",
       "      <td>0.529151</td>\n",
       "      <td>-5.238706</td>\n",
       "      <td>-3.633387</td>\n",
       "      <td>5.312086</td>\n",
       "      <td>-0.533111</td>\n",
       "      <td>0.680523</td>\n",
       "      <td>-6.577791</td>\n",
       "      <td>6.754491</td>\n",
       "      <td>...</td>\n",
       "      <td>5.061237</td>\n",
       "      <td>-1.838742</td>\n",
       "      <td>4.139956</td>\n",
       "      <td>5.189579</td>\n",
       "      <td>0.627217</td>\n",
       "      <td>4.205423</td>\n",
       "      <td>7.984847</td>\n",
       "      <td>1.105637</td>\n",
       "      <td>1.106014</td>\n",
       "      <td>0.173217</td>\n",
       "    </tr>\n",
       "    <tr>\n",
       "      <th>3</th>\n",
       "      <td>-2.693342</td>\n",
       "      <td>1.413612</td>\n",
       "      <td>5.042347</td>\n",
       "      <td>-0.107101</td>\n",
       "      <td>-1.064879</td>\n",
       "      <td>-2.523532</td>\n",
       "      <td>-0.447320</td>\n",
       "      <td>7.579628</td>\n",
       "      <td>-0.215127</td>\n",
       "      <td>7.279811</td>\n",
       "      <td>...</td>\n",
       "      <td>2.818589</td>\n",
       "      <td>2.863573</td>\n",
       "      <td>2.680006</td>\n",
       "      <td>7.317878</td>\n",
       "      <td>6.481907</td>\n",
       "      <td>-1.733432</td>\n",
       "      <td>3.951335</td>\n",
       "      <td>2.443632</td>\n",
       "      <td>0.713104</td>\n",
       "      <td>-2.108791</td>\n",
       "    </tr>\n",
       "    <tr>\n",
       "      <th>4</th>\n",
       "      <td>-1.195109</td>\n",
       "      <td>6.371532</td>\n",
       "      <td>6.317107</td>\n",
       "      <td>-3.988815</td>\n",
       "      <td>11.305561</td>\n",
       "      <td>-10.080775</td>\n",
       "      <td>-5.121705</td>\n",
       "      <td>12.060138</td>\n",
       "      <td>4.379787</td>\n",
       "      <td>7.846646</td>\n",
       "      <td>...</td>\n",
       "      <td>-0.382288</td>\n",
       "      <td>1.992133</td>\n",
       "      <td>5.251081</td>\n",
       "      <td>-1.905744</td>\n",
       "      <td>0.638788</td>\n",
       "      <td>-0.942111</td>\n",
       "      <td>0.273424</td>\n",
       "      <td>0.723932</td>\n",
       "      <td>4.040002</td>\n",
       "      <td>5.529714</td>\n",
       "    </tr>\n",
       "  </tbody>\n",
       "</table>\n",
       "<p>5 rows × 200 columns</p>\n",
       "</div>"
      ],
      "text/plain": [
       "   feature_0  feature_1  feature_2  feature_3  feature_4  feature_5  \\\n",
       "0   7.039615   3.886134  -1.881213  19.058090   7.496074  -0.846889   \n",
       "1   6.718789  -4.026466  -9.164948  -0.804444  -6.055426   8.973674   \n",
       "2  -0.701885 -11.913876   0.529151  -5.238706  -3.633387   5.312086   \n",
       "3  -2.693342   1.413612   5.042347  -0.107101  -1.064879  -2.523532   \n",
       "4  -1.195109   6.371532   6.317107  -3.988815  11.305561 -10.080775   \n",
       "\n",
       "   feature_6  feature_7  feature_8  feature_9  ...  shadow_feature_90  \\\n",
       "0 -12.137040  -4.423717 -14.408564  15.697875  ...           1.417680   \n",
       "1   8.668155   4.150073   5.966492   2.007946  ...           6.350571   \n",
       "2  -0.533111   0.680523  -6.577791   6.754491  ...           5.061237   \n",
       "3  -0.447320   7.579628  -0.215127   7.279811  ...           2.818589   \n",
       "4  -5.121705  12.060138   4.379787   7.846646  ...          -0.382288   \n",
       "\n",
       "   shadow_feature_91  shadow_feature_92  shadow_feature_93  shadow_feature_94  \\\n",
       "0          -3.899675           0.856464           2.037382           2.668215   \n",
       "1          -1.579367           2.302414          -4.647766           0.751961   \n",
       "2          -1.838742           4.139956           5.189579           0.627217   \n",
       "3           2.863573           2.680006           7.317878           6.481907   \n",
       "4           1.992133           5.251081          -1.905744           0.638788   \n",
       "\n",
       "   shadow_feature_95  shadow_feature_96  shadow_feature_97  shadow_feature_98  \\\n",
       "0           2.887091           3.116444           0.143887           1.295805   \n",
       "1          10.627104           4.595147           6.639962           1.188366   \n",
       "2           4.205423           7.984847           1.105637           1.106014   \n",
       "3          -1.733432           3.951335           2.443632           0.713104   \n",
       "4          -0.942111           0.273424           0.723932           4.040002   \n",
       "\n",
       "   shadow_feature_99  \n",
       "0           7.376207  \n",
       "1          -1.784877  \n",
       "2           0.173217  \n",
       "3          -2.108791  \n",
       "4           5.529714  \n",
       "\n",
       "[5 rows x 200 columns]"
      ]
     },
     "execution_count": 22,
     "metadata": {},
     "output_type": "execute_result"
    }
   ],
   "source": [
    "x_train_boruta = pd.concat([x_train, shadow_x], axis=1)\n",
    "x_train_boruta.head()"
   ]
  },
  {
   "cell_type": "markdown",
   "id": "dc8f465e-aa5c-4755-97bf-764bec4bac1b",
   "metadata": {},
   "source": [
    "## Обучим любую модель, которая может выдавать важности признаков на получившемся датасете"
   ]
  },
  {
   "cell_type": "code",
   "execution_count": 23,
   "id": "b6a85b75-fdd4-47e2-af89-43a3cf074605",
   "metadata": {},
   "outputs": [
    {
     "data": {
      "text/html": [
       "<style>#sk-container-id-3 {color: black;}#sk-container-id-3 pre{padding: 0;}#sk-container-id-3 div.sk-toggleable {background-color: white;}#sk-container-id-3 label.sk-toggleable__label {cursor: pointer;display: block;width: 100%;margin-bottom: 0;padding: 0.3em;box-sizing: border-box;text-align: center;}#sk-container-id-3 label.sk-toggleable__label-arrow:before {content: \"▸\";float: left;margin-right: 0.25em;color: #696969;}#sk-container-id-3 label.sk-toggleable__label-arrow:hover:before {color: black;}#sk-container-id-3 div.sk-estimator:hover label.sk-toggleable__label-arrow:before {color: black;}#sk-container-id-3 div.sk-toggleable__content {max-height: 0;max-width: 0;overflow: hidden;text-align: left;background-color: #f0f8ff;}#sk-container-id-3 div.sk-toggleable__content pre {margin: 0.2em;color: black;border-radius: 0.25em;background-color: #f0f8ff;}#sk-container-id-3 input.sk-toggleable__control:checked~div.sk-toggleable__content {max-height: 200px;max-width: 100%;overflow: auto;}#sk-container-id-3 input.sk-toggleable__control:checked~label.sk-toggleable__label-arrow:before {content: \"▾\";}#sk-container-id-3 div.sk-estimator input.sk-toggleable__control:checked~label.sk-toggleable__label {background-color: #d4ebff;}#sk-container-id-3 div.sk-label input.sk-toggleable__control:checked~label.sk-toggleable__label {background-color: #d4ebff;}#sk-container-id-3 input.sk-hidden--visually {border: 0;clip: rect(1px 1px 1px 1px);clip: rect(1px, 1px, 1px, 1px);height: 1px;margin: -1px;overflow: hidden;padding: 0;position: absolute;width: 1px;}#sk-container-id-3 div.sk-estimator {font-family: monospace;background-color: #f0f8ff;border: 1px dotted black;border-radius: 0.25em;box-sizing: border-box;margin-bottom: 0.5em;}#sk-container-id-3 div.sk-estimator:hover {background-color: #d4ebff;}#sk-container-id-3 div.sk-parallel-item::after {content: \"\";width: 100%;border-bottom: 1px solid gray;flex-grow: 1;}#sk-container-id-3 div.sk-label:hover label.sk-toggleable__label {background-color: #d4ebff;}#sk-container-id-3 div.sk-serial::before {content: \"\";position: absolute;border-left: 1px solid gray;box-sizing: border-box;top: 0;bottom: 0;left: 50%;z-index: 0;}#sk-container-id-3 div.sk-serial {display: flex;flex-direction: column;align-items: center;background-color: white;padding-right: 0.2em;padding-left: 0.2em;position: relative;}#sk-container-id-3 div.sk-item {position: relative;z-index: 1;}#sk-container-id-3 div.sk-parallel {display: flex;align-items: stretch;justify-content: center;background-color: white;position: relative;}#sk-container-id-3 div.sk-item::before, #sk-container-id-3 div.sk-parallel-item::before {content: \"\";position: absolute;border-left: 1px solid gray;box-sizing: border-box;top: 0;bottom: 0;left: 50%;z-index: -1;}#sk-container-id-3 div.sk-parallel-item {display: flex;flex-direction: column;z-index: 1;position: relative;background-color: white;}#sk-container-id-3 div.sk-parallel-item:first-child::after {align-self: flex-end;width: 50%;}#sk-container-id-3 div.sk-parallel-item:last-child::after {align-self: flex-start;width: 50%;}#sk-container-id-3 div.sk-parallel-item:only-child::after {width: 0;}#sk-container-id-3 div.sk-dashed-wrapped {border: 1px dashed gray;margin: 0 0.4em 0.5em 0.4em;box-sizing: border-box;padding-bottom: 0.4em;background-color: white;}#sk-container-id-3 div.sk-label label {font-family: monospace;font-weight: bold;display: inline-block;line-height: 1.2em;}#sk-container-id-3 div.sk-label-container {text-align: center;}#sk-container-id-3 div.sk-container {/* jupyter's `normalize.less` sets `[hidden] { display: none; }` but bootstrap.min.css set `[hidden] { display: none !important; }` so we also need the `!important` here to be able to override the default hidden behavior on the sphinx rendered scikit-learn.org. See: https://github.com/scikit-learn/scikit-learn/issues/21755 */display: inline-block !important;position: relative;}#sk-container-id-3 div.sk-text-repr-fallback {display: none;}</style><div id=\"sk-container-id-3\" class=\"sk-top-container\"><div class=\"sk-text-repr-fallback\"><pre>LGBMClassifier(learning_rate=0.05, max_depth=5, n_estimators=500, verbose=-100)</pre><b>In a Jupyter environment, please rerun this cell to show the HTML representation or trust the notebook. <br />On GitHub, the HTML representation is unable to render, please try loading this page with nbviewer.org.</b></div><div class=\"sk-container\" hidden><div class=\"sk-item\"><div class=\"sk-estimator sk-toggleable\"><input class=\"sk-toggleable__control sk-hidden--visually\" id=\"sk-estimator-id-3\" type=\"checkbox\" checked><label for=\"sk-estimator-id-3\" class=\"sk-toggleable__label sk-toggleable__label-arrow\">LGBMClassifier</label><div class=\"sk-toggleable__content\"><pre>LGBMClassifier(learning_rate=0.05, max_depth=5, n_estimators=500, verbose=-100)</pre></div></div></div></div></div>"
      ],
      "text/plain": [
       "LGBMClassifier(learning_rate=0.05, max_depth=5, n_estimators=500, verbose=-100)"
      ]
     },
     "execution_count": 23,
     "metadata": {},
     "output_type": "execute_result"
    }
   ],
   "source": [
    "model = LGBMClassifier(max_depth=5, n_estimators=500, learning_rate=0.05, verbose=-100)\n",
    "model.fit(x_train_boruta, y_train)"
   ]
  },
  {
   "cell_type": "code",
   "execution_count": 25,
   "id": "f7a26e1a-13a7-4fa5-98aa-d38c3c3b33b1",
   "metadata": {},
   "outputs": [],
   "source": [
    "# запишем важности признаков, отдельно для настоящих и для теневых\n",
    "\n",
    "feat_imps = model.feature_importances_[:x_train.shape[1]]\n",
    "feat_imps_shadow = model.feature_importances_[x_train.shape[1]:]"
   ]
  },
  {
   "cell_type": "code",
   "execution_count": 30,
   "id": "f8666256-5831-4421-8bb2-bc0bb3b827bb",
   "metadata": {},
   "outputs": [
    {
     "data": {
      "text/plain": [
       "(100, 100)"
      ]
     },
     "execution_count": 30,
     "metadata": {},
     "output_type": "execute_result"
    }
   ],
   "source": [
    "len(feat_imps), len(feat_imps_shadow)"
   ]
  },
  {
   "cell_type": "code",
   "execution_count": 43,
   "id": "004ea598-3c51-4658-bcaf-51bc53f64e61",
   "metadata": {},
   "outputs": [
    {
     "data": {
      "text/html": [
       "<div>\n",
       "<style scoped>\n",
       "    .dataframe tbody tr th:only-of-type {\n",
       "        vertical-align: middle;\n",
       "    }\n",
       "\n",
       "    .dataframe tbody tr th {\n",
       "        vertical-align: top;\n",
       "    }\n",
       "\n",
       "    .dataframe thead th {\n",
       "        text-align: right;\n",
       "    }\n",
       "</style>\n",
       "<table border=\"1\" class=\"dataframe\">\n",
       "  <thead>\n",
       "    <tr style=\"text-align: right;\">\n",
       "      <th></th>\n",
       "      <th>feature_0</th>\n",
       "      <th>feature_1</th>\n",
       "      <th>feature_2</th>\n",
       "      <th>feature_3</th>\n",
       "      <th>feature_4</th>\n",
       "      <th>feature_5</th>\n",
       "      <th>feature_6</th>\n",
       "      <th>feature_7</th>\n",
       "      <th>feature_8</th>\n",
       "      <th>feature_9</th>\n",
       "      <th>...</th>\n",
       "      <th>feature_90</th>\n",
       "      <th>feature_91</th>\n",
       "      <th>feature_92</th>\n",
       "      <th>feature_93</th>\n",
       "      <th>feature_94</th>\n",
       "      <th>feature_95</th>\n",
       "      <th>feature_96</th>\n",
       "      <th>feature_97</th>\n",
       "      <th>feature_98</th>\n",
       "      <th>feature_99</th>\n",
       "    </tr>\n",
       "  </thead>\n",
       "  <tbody>\n",
       "    <tr>\n",
       "      <th>hits</th>\n",
       "      <td>0.0</td>\n",
       "      <td>0.0</td>\n",
       "      <td>0.0</td>\n",
       "      <td>0.0</td>\n",
       "      <td>0.0</td>\n",
       "      <td>0.0</td>\n",
       "      <td>0.0</td>\n",
       "      <td>0.0</td>\n",
       "      <td>0.0</td>\n",
       "      <td>0.0</td>\n",
       "      <td>...</td>\n",
       "      <td>0.0</td>\n",
       "      <td>0.0</td>\n",
       "      <td>0.0</td>\n",
       "      <td>0.0</td>\n",
       "      <td>0.0</td>\n",
       "      <td>0.0</td>\n",
       "      <td>0.0</td>\n",
       "      <td>0.0</td>\n",
       "      <td>0.0</td>\n",
       "      <td>0.0</td>\n",
       "    </tr>\n",
       "  </tbody>\n",
       "</table>\n",
       "<p>1 rows × 100 columns</p>\n",
       "</div>"
      ],
      "text/plain": [
       "      feature_0  feature_1  feature_2  feature_3  feature_4  feature_5  \\\n",
       "hits        0.0        0.0        0.0        0.0        0.0        0.0   \n",
       "\n",
       "      feature_6  feature_7  feature_8  feature_9  ...  feature_90  feature_91  \\\n",
       "hits        0.0        0.0        0.0        0.0  ...         0.0         0.0   \n",
       "\n",
       "      feature_92  feature_93  feature_94  feature_95  feature_96  feature_97  \\\n",
       "hits         0.0         0.0         0.0         0.0         0.0         0.0   \n",
       "\n",
       "      feature_98  feature_99  \n",
       "hits         0.0         0.0  \n",
       "\n",
       "[1 rows x 100 columns]"
      ]
     },
     "execution_count": 43,
     "metadata": {},
     "output_type": "execute_result"
    }
   ],
   "source": [
    "hits_stats = pd.DataFrame(np.zeros(shape=(1, x_train.shape[1])), index=['hits'], columns=x_train.columns)\n",
    "hits_stats"
   ]
  },
  {
   "cell_type": "code",
   "execution_count": 44,
   "id": "80c46022-2d33-4f1d-a6c0-69e4bd2c32ad",
   "metadata": {},
   "outputs": [
    {
     "data": {
      "text/plain": [
       "array([ True,  True,  True,  True,  True,  True,  True,  True,  True,\n",
       "        True,  True,  True,  True,  True,  True,  True,  True,  True,\n",
       "        True,  True, False, False, False, False, False, False, False,\n",
       "       False, False, False, False, False, False, False, False, False,\n",
       "       False, False, False, False, False, False, False, False, False,\n",
       "       False, False, False,  True, False, False, False, False, False,\n",
       "       False, False, False, False, False, False, False, False, False,\n",
       "       False, False, False, False, False, False, False, False, False,\n",
       "       False, False, False, False, False, False, False, False, False,\n",
       "       False, False, False, False, False, False, False, False, False,\n",
       "       False, False, False,  True, False, False, False, False, False,\n",
       "       False])"
      ]
     },
     "execution_count": 44,
     "metadata": {},
     "output_type": "execute_result"
    }
   ],
   "source": [
    "# в качестве порога важности выбираем максимум из значений важности признаков для теневых признаков, посмотрим какие признаки попали\n",
    "\n",
    "hits = feat_imps > feat_imps_shadow.max()\n",
    "hits"
   ]
  },
  {
   "cell_type": "code",
   "execution_count": 45,
   "id": "33e652a9-2895-40ea-97f4-e1a2aeda0204",
   "metadata": {},
   "outputs": [
    {
     "data": {
      "text/html": [
       "<div>\n",
       "<style scoped>\n",
       "    .dataframe tbody tr th:only-of-type {\n",
       "        vertical-align: middle;\n",
       "    }\n",
       "\n",
       "    .dataframe tbody tr th {\n",
       "        vertical-align: top;\n",
       "    }\n",
       "\n",
       "    .dataframe thead th {\n",
       "        text-align: right;\n",
       "    }\n",
       "</style>\n",
       "<table border=\"1\" class=\"dataframe\">\n",
       "  <thead>\n",
       "    <tr style=\"text-align: right;\">\n",
       "      <th></th>\n",
       "      <th>feature_0</th>\n",
       "      <th>feature_1</th>\n",
       "      <th>feature_2</th>\n",
       "      <th>feature_3</th>\n",
       "      <th>feature_4</th>\n",
       "      <th>feature_5</th>\n",
       "      <th>feature_6</th>\n",
       "      <th>feature_7</th>\n",
       "      <th>feature_8</th>\n",
       "      <th>feature_9</th>\n",
       "      <th>...</th>\n",
       "      <th>feature_90</th>\n",
       "      <th>feature_91</th>\n",
       "      <th>feature_92</th>\n",
       "      <th>feature_93</th>\n",
       "      <th>feature_94</th>\n",
       "      <th>feature_95</th>\n",
       "      <th>feature_96</th>\n",
       "      <th>feature_97</th>\n",
       "      <th>feature_98</th>\n",
       "      <th>feature_99</th>\n",
       "    </tr>\n",
       "  </thead>\n",
       "  <tbody>\n",
       "    <tr>\n",
       "      <th>hits</th>\n",
       "      <td>1.0</td>\n",
       "      <td>1.0</td>\n",
       "      <td>1.0</td>\n",
       "      <td>1.0</td>\n",
       "      <td>1.0</td>\n",
       "      <td>1.0</td>\n",
       "      <td>1.0</td>\n",
       "      <td>1.0</td>\n",
       "      <td>1.0</td>\n",
       "      <td>1.0</td>\n",
       "      <td>...</td>\n",
       "      <td>0.0</td>\n",
       "      <td>0.0</td>\n",
       "      <td>0.0</td>\n",
       "      <td>1.0</td>\n",
       "      <td>0.0</td>\n",
       "      <td>0.0</td>\n",
       "      <td>0.0</td>\n",
       "      <td>0.0</td>\n",
       "      <td>0.0</td>\n",
       "      <td>0.0</td>\n",
       "    </tr>\n",
       "  </tbody>\n",
       "</table>\n",
       "<p>1 rows × 100 columns</p>\n",
       "</div>"
      ],
      "text/plain": [
       "      feature_0  feature_1  feature_2  feature_3  feature_4  feature_5  \\\n",
       "hits        1.0        1.0        1.0        1.0        1.0        1.0   \n",
       "\n",
       "      feature_6  feature_7  feature_8  feature_9  ...  feature_90  feature_91  \\\n",
       "hits        1.0        1.0        1.0        1.0  ...         0.0         0.0   \n",
       "\n",
       "      feature_92  feature_93  feature_94  feature_95  feature_96  feature_97  \\\n",
       "hits         0.0         1.0         0.0         0.0         0.0         0.0   \n",
       "\n",
       "      feature_98  feature_99  \n",
       "hits         0.0         0.0  \n",
       "\n",
       "[1 rows x 100 columns]"
      ]
     },
     "execution_count": 45,
     "metadata": {},
     "output_type": "execute_result"
    }
   ],
   "source": [
    "hits_stats += hits\n",
    "hits_stats"
   ]
  },
  {
   "cell_type": "code",
   "execution_count": 51,
   "id": "39ca873f-5ef4-47a1-b2f4-ef0954643bf2",
   "metadata": {},
   "outputs": [
    {
     "data": {
      "text/plain": [
       "feature_0     1.0\n",
       "feature_1     1.0\n",
       "feature_2     1.0\n",
       "feature_3     1.0\n",
       "feature_4     1.0\n",
       "feature_5     1.0\n",
       "feature_6     1.0\n",
       "feature_7     1.0\n",
       "feature_8     1.0\n",
       "feature_9     1.0\n",
       "feature_10    1.0\n",
       "feature_11    1.0\n",
       "feature_12    1.0\n",
       "feature_13    1.0\n",
       "feature_14    1.0\n",
       "feature_15    1.0\n",
       "feature_16    1.0\n",
       "feature_17    1.0\n",
       "feature_18    1.0\n",
       "feature_19    1.0\n",
       "feature_48    1.0\n",
       "feature_93    1.0\n",
       "Name: hits, dtype: float64"
      ]
     },
     "execution_count": 51,
     "metadata": {},
     "output_type": "execute_result"
    }
   ],
   "source": [
    "# получили список признаков, которые удовлетворяют условию, неплохо, но не случайность ли это?\n",
    "hits_stats.loc['hits'][hits_stats.loc['hits'] == 1]"
   ]
  },
  {
   "cell_type": "code",
   "execution_count": 53,
   "id": "0404a39d-32d1-418a-9c56-82fdcc3e6d62",
   "metadata": {},
   "outputs": [
    {
     "name": "stderr",
     "output_type": "stream",
     "text": [
      "100%|██████████████████████████████████████████████████████████████████████████████████| 50/50 [01:23<00:00,  1.68s/it]\n"
     ]
    }
   ],
   "source": [
    "# повторим всю процедуру n количество раз\n",
    "\n",
    "hits_stats = pd.DataFrame(np.zeros(shape=(1, x_train.shape[1])), index=['hits'], columns=x_train.columns)  # для записи статистики\n",
    "\n",
    "for i in tqdm(range(50)):\n",
    "    # создадим датасет\n",
    "    shadow_x = x_train.apply(np.random.permutation)\n",
    "    shadow_x.columns = ['shadow_'+col for col in shadow_x.columns]\n",
    "    x_train_boruta = pd.concat([x_train, shadow_x], axis=1)\n",
    "\n",
    "    # обучим модель\n",
    "    model = LGBMClassifier(max_depth=5, n_estimators=500, learning_rate=0.05, verbose=-100)\n",
    "    model.fit(x_train_boruta, y_train)\n",
    "\n",
    "    feat_imps = model.feature_importances_[:x_train.shape[1]]\n",
    "    feat_imps_shadow = model.feature_importances_[x_train.shape[1]:]\n",
    "\n",
    "    hits = feat_imps > feat_imps_shadow.max()\n",
    "    hits_stats += hits"
   ]
  },
  {
   "cell_type": "code",
   "execution_count": 54,
   "id": "45a0806c-1cd6-4f90-90d7-18cb0766dd81",
   "metadata": {},
   "outputs": [
    {
     "data": {
      "text/html": [
       "<div>\n",
       "<style scoped>\n",
       "    .dataframe tbody tr th:only-of-type {\n",
       "        vertical-align: middle;\n",
       "    }\n",
       "\n",
       "    .dataframe tbody tr th {\n",
       "        vertical-align: top;\n",
       "    }\n",
       "\n",
       "    .dataframe thead th {\n",
       "        text-align: right;\n",
       "    }\n",
       "</style>\n",
       "<table border=\"1\" class=\"dataframe\">\n",
       "  <thead>\n",
       "    <tr style=\"text-align: right;\">\n",
       "      <th></th>\n",
       "      <th>feature_0</th>\n",
       "      <th>feature_1</th>\n",
       "      <th>feature_2</th>\n",
       "      <th>feature_3</th>\n",
       "      <th>feature_4</th>\n",
       "      <th>feature_5</th>\n",
       "      <th>feature_6</th>\n",
       "      <th>feature_7</th>\n",
       "      <th>feature_8</th>\n",
       "      <th>feature_9</th>\n",
       "      <th>...</th>\n",
       "      <th>feature_90</th>\n",
       "      <th>feature_91</th>\n",
       "      <th>feature_92</th>\n",
       "      <th>feature_93</th>\n",
       "      <th>feature_94</th>\n",
       "      <th>feature_95</th>\n",
       "      <th>feature_96</th>\n",
       "      <th>feature_97</th>\n",
       "      <th>feature_98</th>\n",
       "      <th>feature_99</th>\n",
       "    </tr>\n",
       "  </thead>\n",
       "  <tbody>\n",
       "    <tr>\n",
       "      <th>hits</th>\n",
       "      <td>49.0</td>\n",
       "      <td>50.0</td>\n",
       "      <td>50.0</td>\n",
       "      <td>50.0</td>\n",
       "      <td>50.0</td>\n",
       "      <td>50.0</td>\n",
       "      <td>50.0</td>\n",
       "      <td>42.0</td>\n",
       "      <td>50.0</td>\n",
       "      <td>50.0</td>\n",
       "      <td>...</td>\n",
       "      <td>0.0</td>\n",
       "      <td>0.0</td>\n",
       "      <td>1.0</td>\n",
       "      <td>5.0</td>\n",
       "      <td>0.0</td>\n",
       "      <td>0.0</td>\n",
       "      <td>1.0</td>\n",
       "      <td>3.0</td>\n",
       "      <td>0.0</td>\n",
       "      <td>4.0</td>\n",
       "    </tr>\n",
       "  </tbody>\n",
       "</table>\n",
       "<p>1 rows × 100 columns</p>\n",
       "</div>"
      ],
      "text/plain": [
       "      feature_0  feature_1  feature_2  feature_3  feature_4  feature_5  \\\n",
       "hits       49.0       50.0       50.0       50.0       50.0       50.0   \n",
       "\n",
       "      feature_6  feature_7  feature_8  feature_9  ...  feature_90  feature_91  \\\n",
       "hits       50.0       42.0       50.0       50.0  ...         0.0         0.0   \n",
       "\n",
       "      feature_92  feature_93  feature_94  feature_95  feature_96  feature_97  \\\n",
       "hits         1.0         5.0         0.0         0.0         1.0         3.0   \n",
       "\n",
       "      feature_98  feature_99  \n",
       "hits         0.0         4.0  \n",
       "\n",
       "[1 rows x 100 columns]"
      ]
     },
     "execution_count": 54,
     "metadata": {},
     "output_type": "execute_result"
    }
   ],
   "source": [
    "# получили статистики по испытаниям\n",
    "\n",
    "hits_stats"
   ]
  },
  {
   "cell_type": "code",
   "execution_count": 61,
   "id": "80584ecc-a80b-45a2-97b7-c2069fdee811",
   "metadata": {},
   "outputs": [
    {
     "data": {
      "text/plain": [
       "1.8818369085238373e-09"
      ]
     },
     "execution_count": 61,
     "metadata": {},
     "output_type": "execute_result"
    }
   ],
   "source": [
    "# с какой вероятностью мы в схеме испытаний Бернулли получим ровно 5 выигрышей, если вероятность успеха 0.5?\n",
    "\n",
    "from math import comb\n",
    "\n",
    "comb(50, 5) * (0.5)**5*(0.5)**45"
   ]
  },
  {
   "cell_type": "code",
   "execution_count": 62,
   "id": "e9f10499-d025-4e3a-a7e8-0dc453d2ec2e",
   "metadata": {},
   "outputs": [
    {
     "data": {
      "text/plain": [
       "1.8818369085238336e-09"
      ]
     },
     "execution_count": 62,
     "metadata": {},
     "output_type": "execute_result"
    }
   ],
   "source": [
    "# аналогично\n",
    "from scipy import stats as sts\n",
    "sts.binom.pmf(5, 50, .5)"
   ]
  },
  {
   "cell_type": "code",
   "execution_count": 96,
   "id": "7bdacca2-bbaf-46a2-ad08-912f4eb9a017",
   "metadata": {},
   "outputs": [
    {
     "data": {
      "image/png": "[encoded data removed]",
      "text/plain": [
       "<Figure size 640x480 with 1 Axes>"
      ]
     },
     "metadata": {},
     "output_type": "display_data"
    }
   ],
   "source": [
    "# построим биномиальное распределение\n",
    "pmf = [sts.binom.pmf(x, 50, .5) for x in range(51)]\n",
    "plt.plot(pmf, '-.', lw=1)\n",
    "plt.grid(True);"
   ]
  },
  {
   "cell_type": "code",
   "execution_count": 79,
   "id": "e066ba30-b6b3-4e90-ad45-70eb0c8c08d1",
   "metadata": {},
   "outputs": [
    {
     "data": {
      "text/plain": [
       "(19.0, 31.0)"
      ]
     },
     "execution_count": 79,
     "metadata": {},
     "output_type": "execute_result"
    }
   ],
   "source": [
    "# получается те испытания, которые попали в левый хвост явно отбрасываются, те, которые в правый точно остаются, остальные непонятные\n",
    "sts.binom.ppf(0.05, 50, .5), sts.binom.ppf(0.95, 50, .5)\n",
    "\n",
    "# в нашем случае, все, что меньше 19 выкидывается, все, что больше 31 остается"
   ]
  },
  {
   "cell_type": "code",
   "execution_count": 80,
   "id": "3d5d6474-1a58-4380-9813-f13497b40f02",
   "metadata": {},
   "outputs": [
    {
     "data": {
      "text/plain": [
       "[8.881784197001225e-16,\n",
       " 4.440892098500617e-14,\n",
       " 1.0880185641326562e-12,\n",
       " 1.7408297026122545e-11,\n",
       " 2.0454749005693812e-10,\n",
       " 1.8818369085238336e-09,\n",
       " 1.4113776813928759e-08,\n",
       " 8.871516854469482e-08,\n",
       " 4.768440309277364e-07,\n",
       " 2.2252721443294427e-06,\n",
       " 9.123615791750715e-06,\n",
       " 3.317678469727518e-05,\n",
       " 0.00010782455026614458,\n",
       " 0.00031517945462411566,\n",
       " 0.0008329742729351619,\n",
       " 0.001999138255044387,\n",
       " 0.004373114932909585,\n",
       " 0.008746229865819168,\n",
       " 0.016034754754001845]"
      ]
     },
     "execution_count": 80,
     "metadata": {},
     "output_type": "execute_result"
    }
   ],
   "source": [
    "pmf[:19]"
   ]
  },
  {
   "cell_type": "code",
   "execution_count": 97,
   "id": "b95cbbb4-09eb-45ac-8210-2df6dd667a42",
   "metadata": {},
   "outputs": [
    {
     "data": {
      "image/png": "[encoded data removed]",
      "text/plain": [
       "<Figure size 640x480 with 1 Axes>"
      ]
     },
     "metadata": {},
     "output_type": "display_data"
    }
   ],
   "source": [
    "pmf = [sts.binom.pmf(x, 50, .5) for x in range(51)]\n",
    "plt.plot(pmf, '-.', lw=1, )\n",
    "plt.fill_between(range(19), pmf[:19], color='red', alpha=0.6)\n",
    "plt.fill_between(range(32, 51), pmf[32:], color='green', alpha=0.6)\n",
    "plt.grid(True);"
   ]
  },
  {
   "cell_type": "code",
   "execution_count": 101,
   "id": "c314bdcb-1fd9-44b2-bbb3-08d4aa39c06e",
   "metadata": {},
   "outputs": [
    {
     "data": {
      "text/plain": [
       "feature_0     49.0\n",
       "feature_1     50.0\n",
       "feature_2     50.0\n",
       "feature_3     50.0\n",
       "feature_4     50.0\n",
       "feature_5     50.0\n",
       "feature_6     50.0\n",
       "feature_7     42.0\n",
       "feature_8     50.0\n",
       "feature_9     50.0\n",
       "feature_10    50.0\n",
       "feature_11    50.0\n",
       "feature_12    50.0\n",
       "feature_13    50.0\n",
       "feature_14    50.0\n",
       "feature_15    50.0\n",
       "feature_16    39.0\n",
       "feature_17    45.0\n",
       "feature_19    45.0\n",
       "Name: hits, dtype: float64"
      ]
     },
     "execution_count": 101,
     "metadata": {},
     "output_type": "execute_result"
    }
   ],
   "source": [
    "hits_stats.loc['hits'][hits_stats.loc['hits'] > 31]"
   ]
  },
  {
   "cell_type": "markdown",
   "id": "3bcb0f17-2402-4bee-a9f7-312b5055f3ce",
   "metadata": {},
   "source": [
    "## Можно добавить shap для оценки фичей"
   ]
  },
  {
   "cell_type": "code",
   "execution_count": 102,
   "id": "b74177d8-df1d-4121-ae20-608e0b25a5d2",
   "metadata": {},
   "outputs": [],
   "source": [
    "explainer = shap.TreeExplainer(model, feature_perturbation='tree_path_dependent')\n",
    "shap_values = explainer.shap_values(x_train_boruta)"
   ]
  },
  {
   "cell_type": "code",
   "execution_count": 103,
   "id": "45f881e1-a107-4b77-b9ba-6d3e20b9caf1",
   "metadata": {},
   "outputs": [
    {
     "data": {
      "text/plain": [
       "array([[ 0.24784767,  0.13429119,  0.29630747, ...,  0.04963427,\n",
       "        -0.0054616 ,  0.36405583],\n",
       "       [ 0.2779601 , -0.42916663,  0.46374229, ..., -0.0054101 ,\n",
       "         0.00619482, -0.04982499],\n",
       "       [ 0.08224174, -0.36684622,  0.12509235, ...,  0.03296199,\n",
       "         0.00495216,  0.14707494],\n",
       "       ...,\n",
       "       [ 0.35895507,  0.09442468,  0.38624848, ..., -0.03387545,\n",
       "         0.0183649 ,  0.08095387],\n",
       "       [ 0.27150371, -0.3086055 , -0.53079389, ...,  0.02283386,\n",
       "         0.02745763,  0.14110543],\n",
       "       [ 0.30398005,  0.14361876, -0.27883911, ...,  0.01908974,\n",
       "        -0.00578939, -0.04710982]])"
      ]
     },
     "execution_count": 103,
     "metadata": {},
     "output_type": "execute_result"
    }
   ],
   "source": [
    "shap_values"
   ]
  },
  {
   "cell_type": "code",
   "execution_count": 104,
   "id": "7edf3611-2109-44ac-9719-7e1a478c4a5b",
   "metadata": {},
   "outputs": [],
   "source": [
    "if isinstance(shap_values, list):\n",
    "    # if shap_values in list of n_classes np.arrays of shape [n_samples, n_features]\n",
    "    importances = np.abs(shap_values[1]).mean(axis=0)\n",
    "else:\n",
    "    # if shap_values in np.array of shape [n_samples, n_features]\n",
    "    importances = np.abs(shap_values).mean(axis=0)"
   ]
  },
  {
   "cell_type": "code",
   "execution_count": 107,
   "id": "7153c98f-ee7b-4e0d-8953-44bc303b7f80",
   "metadata": {},
   "outputs": [
    {
     "data": {
      "text/plain": [
       "array([0.27736   , 0.20110711, 0.44002521, 0.11870774, 0.34193041,\n",
       "       0.16830232, 0.46003587, 0.05865834, 0.27620526, 0.1042734 ,\n",
       "       0.25165878, 0.58982436, 0.37223653, 0.17800706, 0.12991171,\n",
       "       0.18963626, 0.04917312, 0.18268604, 0.03713114, 0.049649  ,\n",
       "       0.        , 0.        , 0.        , 0.        , 0.        ,\n",
       "       0.01773777, 0.11510076, 0.02644946, 0.04708346, 0.06734934,\n",
       "       0.02003653, 0.09967782, 0.0204333 , 0.04123283, 0.01516162,\n",
       "       0.03359627, 0.04100811, 0.07045843, 0.03532053, 0.025518  ,\n",
       "       0.01723018, 0.01476085, 0.03180455, 0.02052254, 0.08331881,\n",
       "       0.04122003, 0.07074438, 0.01094692, 0.06345513, 0.01138477,\n",
       "       0.0122002 , 0.01517653, 0.01272486, 0.00656367, 0.00655065,\n",
       "       0.01591699, 0.07995116, 0.05532168, 0.03008922, 0.02593423,\n",
       "       0.0133566 , 0.03707682, 0.01514361, 0.06462586, 0.04048695,\n",
       "       0.04065875, 0.048214  , 0.01636111, 0.01700974, 0.01966135,\n",
       "       0.02432501, 0.05869373, 0.14094672, 0.03960252, 0.06049584,\n",
       "       0.009478  , 0.03851988, 0.04412489, 0.01836216, 0.03190824,\n",
       "       0.06526973, 0.01749588, 0.03180383, 0.03036125, 0.047476  ,\n",
       "       0.01705694, 0.03647489, 0.0125805 , 0.01119202, 0.12825536,\n",
       "       0.04426207, 0.06055528, 0.03363168, 0.16150768, 0.01575854,\n",
       "       0.00902382, 0.0763278 , 0.05275499, 0.07597942, 0.08331147,\n",
       "       0.07814793, 0.03961342, 0.01010571, 0.02743301, 0.02299279,\n",
       "       0.00700501, 0.02274778, 0.02639232, 0.00950717, 0.02512124,\n",
       "       0.04558291, 0.03185995, 0.03837352, 0.01800623, 0.02589687,\n",
       "       0.01698212, 0.0136279 , 0.08344879, 0.04346248, 0.05474183,\n",
       "       0.02157492, 0.01916863, 0.03649011, 0.06986936, 0.03949829,\n",
       "       0.01463525, 0.00733999, 0.04400171, 0.01334324, 0.0366563 ,\n",
       "       0.02739652, 0.02327593, 0.04846713, 0.02015187, 0.02851951,\n",
       "       0.02084748, 0.03013448, 0.03079246, 0.02628852, 0.01148591,\n",
       "       0.01627961, 0.04837589, 0.08171899, 0.02545801, 0.04157256,\n",
       "       0.05144834, 0.01509511, 0.00863072, 0.02230154, 0.00687357,\n",
       "       0.00824421, 0.04696322, 0.01605397, 0.02757588, 0.0807888 ,\n",
       "       0.04626733, 0.05783369, 0.02388697, 0.01394072, 0.013085  ,\n",
       "       0.01530197, 0.101139  , 0.0096058 , 0.00855856, 0.0336051 ,\n",
       "       0.016242  , 0.0113473 , 0.04753078, 0.01560995, 0.02327364,\n",
       "       0.03310513, 0.03957956, 0.00939127, 0.09953607, 0.02769483,\n",
       "       0.00898138, 0.09914305, 0.0407919 , 0.03520932, 0.00963794,\n",
       "       0.00967727, 0.02480683, 0.0113534 , 0.04990578, 0.01050842,\n",
       "       0.01792258, 0.10555443, 0.02694133, 0.01529739, 0.01978959,\n",
       "       0.03108562, 0.065104  , 0.03083227, 0.01444023, 0.00938454,\n",
       "       0.0113774 , 0.06122448, 0.0177588 , 0.01748466, 0.09012198])"
      ]
     },
     "execution_count": 107,
     "metadata": {},
     "output_type": "execute_result"
    }
   ],
   "source": [
    "importances"
   ]
  },
  {
   "cell_type": "code",
   "execution_count": 108,
   "id": "0aeb50c6-122c-4278-83a0-004296e89b36",
   "metadata": {},
   "outputs": [
    {
     "name": "stderr",
     "output_type": "stream",
     "text": [
      "100%|██████████████████████████████████████████████████████████████████████████████████| 50/50 [03:08<00:00,  3.76s/it]\n"
     ]
    }
   ],
   "source": [
    "# повторим всю процедуру n количество раз\n",
    "\n",
    "hits_stats = pd.DataFrame(np.zeros(shape=(1, x_train.shape[1])), index=['hits'], columns=x_train.columns)  # для записи статистики\n",
    "\n",
    "for i in tqdm(range(50)):\n",
    "    # создадим датасет\n",
    "    shadow_x = x_train.apply(np.random.permutation)\n",
    "    shadow_x.columns = ['shadow_'+col for col in shadow_x.columns]\n",
    "    x_train_boruta = pd.concat([x_train, shadow_x], axis=1)\n",
    "\n",
    "    # обучим модель\n",
    "    model = LGBMClassifier(max_depth=5, n_estimators=500, learning_rate=0.05, verbose=-100)\n",
    "    model.fit(x_train_boruta, y_train)\n",
    "\n",
    "    explainer = shap.TreeExplainer(model, feature_perturbation='tree_path_dependent')\n",
    "    shap_values = explainer.shap_values(x_train_boruta)\n",
    "\n",
    "    if isinstance(shap_values, list):\n",
    "        # if shap_values in list of n_classes np.arrays of shape [n_samples, n_features]\n",
    "        importances = np.abs(shap_values[1]).mean(axis=0)\n",
    "    else:\n",
    "        # if shap_values in np.array of shape [n_samples, n_features]\n",
    "        importances = np.abs(shap_values).mean(axis=0)\n",
    "\n",
    "    feat_imps = importances[:x_train.shape[1]]\n",
    "    feat_imps_shadow = importances[x_train.shape[1]:]\n",
    "\n",
    "    hits = feat_imps > feat_imps_shadow.max()\n",
    "    hits_stats += hits"
   ]
  },
  {
   "cell_type": "code",
   "execution_count": 109,
   "id": "99d7e7ba-f29d-40bf-bf6a-5e0e9bbacd52",
   "metadata": {},
   "outputs": [
    {
     "data": {
      "text/plain": [
       "feature_0     50.0\n",
       "feature_1     48.0\n",
       "feature_2     50.0\n",
       "feature_4     50.0\n",
       "feature_5     45.0\n",
       "feature_6     50.0\n",
       "feature_8     50.0\n",
       "feature_10    50.0\n",
       "feature_11    50.0\n",
       "feature_12    50.0\n",
       "feature_13    42.0\n",
       "feature_15    50.0\n",
       "feature_17    44.0\n",
       "Name: hits, dtype: float64"
      ]
     },
     "execution_count": 109,
     "metadata": {},
     "output_type": "execute_result"
    }
   ],
   "source": [
    "hits_stats.loc['hits'][hits_stats.loc['hits'] > 31]"
   ]
  },
  {
   "cell_type": "code",
   "execution_count": 110,
   "id": "6bc5dc37-b308-4867-b4d9-06086606a8a6",
   "metadata": {},
   "outputs": [
    {
     "data": {
      "text/plain": [
       "feature_3      3.0\n",
       "feature_7      0.0\n",
       "feature_9     14.0\n",
       "feature_14    11.0\n",
       "feature_16     0.0\n",
       "              ... \n",
       "feature_95     0.0\n",
       "feature_96     0.0\n",
       "feature_97     0.0\n",
       "feature_98     0.0\n",
       "feature_99    10.0\n",
       "Name: hits, Length: 85, dtype: float64"
      ]
     },
     "execution_count": 110,
     "metadata": {},
     "output_type": "execute_result"
    }
   ],
   "source": [
    "hits_stats.loc['hits'][hits_stats.loc['hits'] < 19]"
   ]
  },
  {
   "cell_type": "code",
   "execution_count": null,
   "id": "062ee5fe-5ad7-4f4c-97ae-93d23e216d63",
   "metadata": {},
   "outputs": [],
   "source": []
  }
 ],
 "metadata": {
  "kernelspec": {
   "display_name": "hardml",
   "language": "python",
   "name": "hardml"
  },
  "language_info": {
   "codemirror_mode": {
    "name": "ipython",
    "version": 3
   },
   "file_extension": ".py",
   "mimetype": "text/x-python",
   "name": "python",
   "nbconvert_exporter": "python",
   "pygments_lexer": "ipython3",
   "version": "3.9.13"
  }
 },
 "nbformat": 4,
 "nbformat_minor": 5
}
