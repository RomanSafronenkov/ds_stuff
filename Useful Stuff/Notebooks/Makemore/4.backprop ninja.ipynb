{
 "cells": [
  {
   "cell_type": "code",
   "execution_count": 1,
   "id": "6d0b121e-609f-452f-b630-2a06c415d65d",
   "metadata": {},
   "outputs": [],
   "source": [
    "# необходимо понимать то, как работает обратный проход по сети\n",
    "# в этом ноутбуке мы пройдем по нейросети из прошлого ноутбука №3\n",
    "\n",
    "# код нейросети и обучения будет аналогичным, за исключением того, что мы уйдем от loss.backward() и напишем все градиенты руками"
   ]
  },
  {
   "cell_type": "code",
   "execution_count": 2,
   "id": "2f26ab1f-8090-401d-a4f7-10dc48324e1c",
   "metadata": {},
   "outputs": [],
   "source": [
    "import torch\n",
    "import torch.nn.functional as F\n",
    "import matplotlib.pyplot as plt\n",
    "%matplotlib inline"
   ]
  },
  {
   "cell_type": "code",
   "execution_count": 3,
   "id": "d58fe800-2629-4fa1-a2fb-2bca51d03b7b",
   "metadata": {},
   "outputs": [
    {
     "data": {
      "text/plain": [
       "(32033,\n",
       " ['emma', 'olivia', 'ava', 'isabella', 'sophia', 'charlotte', 'mia', 'amelia'])"
      ]
     },
     "execution_count": 3,
     "metadata": {},
     "output_type": "execute_result"
    }
   ],
   "source": [
    "with open('names.txt', 'r') as f:\n",
    "    words = f.read().splitlines()\n",
    "len(words), words[:8]"
   ]
  },
  {
   "cell_type": "code",
   "execution_count": 4,
   "id": "31ebbbef-fb02-44b4-b8af-c51bfc86d8a6",
   "metadata": {},
   "outputs": [
    {
     "name": "stdout",
     "output_type": "stream",
     "text": [
      "{1: 'a', 2: 'b', 3: 'c', 4: 'd', 5: 'e', 6: 'f', 7: 'g', 8: 'h', 9: 'i', 10: 'j', 11: 'k', 12: 'l', 13: 'm', 14: 'n', 15: 'o', 16: 'p', 17: 'q', 18: 'r', 19: 's', 20: 't', 21: 'u', 22: 'v', 23: 'w', 24: 'x', 25: 'y', 26: 'z', 0: '.'}\n"
     ]
    }
   ],
   "source": [
    "# построим словарь отображения из букв в индексы\n",
    "chars = sorted(list(set(''.join(words))))\n",
    "stoi = {s:i+1 for i, s in enumerate(chars)}\n",
    "stoi['.'] = 0\n",
    "# и наоборот\n",
    "itos = {i:s for s,i in stoi.items()}\n",
    "vocab_size = len(itos)\n",
    "print(itos)"
   ]
  },
  {
   "cell_type": "code",
   "execution_count": 5,
   "id": "7fe519ee-eefd-40bd-b6a8-b147566100ed",
   "metadata": {},
   "outputs": [
    {
     "name": "stdout",
     "output_type": "stream",
     "text": [
      "torch.Size([182625, 3]) torch.Size([182625])\n",
      "torch.Size([22655, 3]) torch.Size([22655])\n",
      "torch.Size([22866, 3]) torch.Size([22866])\n"
     ]
    }
   ],
   "source": [
    "# построим датасет\n",
    "block_size = 3  # длина контекста: сколько букв учитывать при предсказании следующей буквы\n",
    "\n",
    "def build_dataset(words):\n",
    "    X, Y = [], []\n",
    "    \n",
    "    for w in words:\n",
    "        context = [0] * block_size\n",
    "        for ch in w + '.':\n",
    "            ix = stoi[ch]\n",
    "            X.append(context)\n",
    "            Y.append(ix)\n",
    "            context = context[1:] + [ix]  # обрезаем и добавляем\n",
    "    \n",
    "    X = torch.tensor(X)\n",
    "    Y = torch.tensor(Y)\n",
    "    print(X.shape, Y.shape)\n",
    "    return X, Y\n",
    "\n",
    "import random\n",
    "random.seed(42)\n",
    "random.shuffle(words)\n",
    "n1 = int(0.8*len(words))\n",
    "n2 = int(0.9*len(words))\n",
    "\n",
    "Xtr, Ytr = build_dataset(words[:n1])\n",
    "Xdev, Ydev = build_dataset(words[n1:n2])\n",
    "Xte, Yte = build_dataset(words[n2:])"
   ]
  },
  {
   "cell_type": "markdown",
   "id": "8bac9147-d5de-4f89-9e9d-3d18714fede3",
   "metadata": {},
   "source": [
    "# Вернемся к коду нейросети"
   ]
  },
  {
   "cell_type": "code",
   "execution_count": 6,
   "id": "c2dc6a8a-763a-41d4-a849-9e42dd5b8740",
   "metadata": {},
   "outputs": [],
   "source": [
    "# создадим функцию для проверки того, что мы считаем градиенты верно\n",
    "def cmp(s, dt, t):\n",
    "    ex = torch.all(dt == t.grad).item()  # сравним с тем, что считает pytorch, точное совпадение\n",
    "    app = torch.allclose(dt, t.grad)  # приближенное сравнение\n",
    "    maxdiff = (dt - t.grad).abs().max().item()\n",
    "    print(f'{s:15s} | exact: {str(ex):5s} | approximate: {str(app):5s} | maxdiff: {maxdiff}')"
   ]
  },
  {
   "cell_type": "code",
   "execution_count": 7,
   "id": "4b97fa4e-b739-4761-9731-c45d8b44589f",
   "metadata": {},
   "outputs": [
    {
     "name": "stdout",
     "output_type": "stream",
     "text": [
      "4137\n"
     ]
    }
   ],
   "source": [
    "n_embd = 10\n",
    "n_hidden = 64\n",
    "\n",
    "g = torch.Generator().manual_seed(2147483647)\n",
    "C = torch.randn((vocab_size, n_embd) , generator=g)  # embeddings\n",
    "# 1 слой\n",
    "W1 = torch.randn((n_embd*block_size, n_hidden) , generator=g) * (5/3)/((n_embd*block_size)**0.5)  # weights of 1 layer\n",
    "b1 = torch.randn(n_hidden , generator=g) * 0.1  # bias of 1 layer, с batchnorm он бесполезен, используем просто так\n",
    "# 2 слой\n",
    "W2 = torch.randn((n_hidden, vocab_size) , generator=g) * 0.1  # weights of 2 layer\n",
    "b2 = torch.randn(vocab_size , generator=g) * 0.1  # bias of 2 layer\n",
    "# bacthnorm\n",
    "bngain = torch.randn((1, n_hidden))*0.1 + 1.0  # масштаб batchnorm\n",
    "bnbias = torch.randn((1, n_hidden))*0.1  # смещение batchnorm\n",
    "\n",
    "# Инциализируем параметры нестандартно, потому что с инициализацией нулями нам будет трудно убедиться, что мы правильно посчитали градиенты\n",
    "\n",
    "parameters = [C, W1, b1, W2, b2, bngain, bnbias]  # all the parameters\n",
    "print(sum(p.nelement() for p in parameters))\n",
    "\n",
    "for p in parameters:\n",
    "    p.requires_grad = True"
   ]
  },
  {
   "cell_type": "code",
   "execution_count": 8,
   "id": "ab922826-4067-4c3a-ade1-9b01d436d75c",
   "metadata": {},
   "outputs": [],
   "source": [
    "batch_size = 32\n",
    "n = batch_size  # переменная для удобства, пригодится\n",
    "# minibatch construct\n",
    "ix = torch.randint (0, Xtr.shape[0], (batch_size,), generator=g)\n",
    "Xb, Yb = Xtr[ix], Ytr[ix]  # batch X, Y"
   ]
  },
  {
   "cell_type": "code",
   "execution_count": 9,
   "id": "5373dfb5-399d-450c-9720-87d2af502a39",
   "metadata": {},
   "outputs": [
    {
     "data": {
      "text/plain": [
       "tensor(3.3595, grad_fn=<NegBackward0>)"
      ]
     },
     "execution_count": 9,
     "metadata": {},
     "output_type": "execute_result"
    }
   ],
   "source": [
    "# forward pass\n",
    "# разрезан на более подробные кусочки, чтобы было удобно считать по каждому градиенты\n",
    "\n",
    "emb = C[Xb]  # [batch_size, block_size, embd], переводим индексы букв в векторы\n",
    "embcat = emb.view(emb.shape[0], -1)  # [batch_size, embd*block_size], соединяем все векторы букв в один\n",
    "\n",
    "# Linear layer 1\n",
    "hprebn = embcat @ W1 + b1  # преактивация скрытого слоя\n",
    "\n",
    "# BatchNorm Layer\n",
    "bnmeani = 1/n*hprebn.sum(0, keepdim=True)  # запишем среднее на i итерации\n",
    "bndiff = hprebn - bnmeani\n",
    "bndiff2 = bndiff**2\n",
    "bnvar = 1/(n-1)*(bndiff2).sum(0, keepdim=True)  # поправка на число степеней свободы n-1 не n\n",
    "bnvar_inv = (bnvar + 1e-5)**-0.5\n",
    "bnraw = bndiff * bnvar_inv\n",
    "hpreact = bngain * bnraw + bnbias\n",
    "\n",
    "# Нелинейность\n",
    "h = torch.tanh(hpreact)\n",
    "\n",
    "# Linear layer 2\n",
    "logits = h @ W2 + b2  # [batch_size, vocab_size], выходной слой\n",
    "\n",
    "# cross entropy loss\n",
    "logit_maxes = logits.max(1, keepdim=True).values  # считаем максимумы для каждого выхода\n",
    "norm_logits = logits - logit_maxes  # вычитаем максимумы, тем самым повысим высилительную стабильнось без изменения результатаэ\n",
    "counts = norm_logits.exp()\n",
    "counts_sum = counts.sum(1, keepdim=True)\n",
    "counts_sum_inv = counts_sum**-1\n",
    "probs = counts * counts_sum_inv\n",
    "logprobs = probs.log()\n",
    "loss = -logprobs[range(n), Yb].mean()\n",
    "\n",
    "# Pytorch backward pass\n",
    "for p in parameters:\n",
    "    p.grad = None\n",
    "\n",
    "# говорим торчу, что нам нужны градиенты для всех этих значений\n",
    "for t in [logprobs, probs, counts, counts_sum, counts_sum_inv,\n",
    "          norm_logits, logit_maxes, logits, h, hpreact, bnraw,\n",
    "          bnvar_inv, bnvar, bndiff2, bndiff, hprebn, bnmeani,\n",
    "          embcat, emb]:\n",
    "    t.retain_grad()\n",
    "\n",
    "loss.backward()\n",
    "loss"
   ]
  },
  {
   "cell_type": "markdown",
   "id": "d44eb672-88ed-4a19-835a-c8ca3e929cc7",
   "metadata": {},
   "source": [
    "# Упражнение 1"
   ]
  },
  {
   "cell_type": "code",
   "execution_count": 11,
   "id": "6ac07592-6fc8-41d7-96a6-9e17f5c40ebc",
   "metadata": {},
   "outputs": [],
   "source": [
    "# Пройтись по всем градиентам вручную, через все переменные, заданные в прямом проходе выше, явно\n",
    "\n",
    "# cmp('logprobs', dlogprobs, logprobs)\n",
    "# cmp('probs', dprobs, probs)\n",
    "# cmp('counts_sum_inv', dcounts_sum_inv, counts_sum_inv)\n",
    "# cmp('counts_sum', dcounts_sum, counts_sum)\n",
    "# cmp('counts', dcounts, counts)\n",
    "# cmp('norm_logits', dnorm_logits, norm_logits)\n",
    "# cmp('logit_maxes', dlogit_maxes, logit_maxes)\n",
    "# cmp('logits', dlogits, logits)\n",
    "# cmp('h', dh, h)\n",
    "# cmp('W2', dW2, W2)\n",
    "# cmp('b2', db2, b2)\n",
    "# cmp('hpreact', dhpreact, hpreact)\n",
    "# cmp('bngain', dbngain, bngain)\n",
    "# cmp('bnbias', dbnbias, bnbias)\n",
    "# cmp('bnraw', dbnraw, bnraw)\n",
    "# cmp('bnvar_inv', dbnvar_inv, bnvar_inv)\n",
    "# cmp('bnvar', dbnvar, bnvar)\n",
    "# cmp('bndiff2', dbndiff2, bndiff2)\n",
    "# cmp('bndiff', dbndiff, bndiff)\n",
    "# cmp('bnmeani', dbnmeani, bnmeani)\n",
    "# cmp('hprebn', dhprebn, hprebn)\n",
    "# cmp('embcat', dembcat, embcat)\n",
    "# cmp('W1', dW1, W1)\n",
    "# cmp('b1', db1, b1)\n",
    "# cmp('emb', demb, emb)\n",
    "# cmp('C', dC, C)"
   ]
  },
  {
   "cell_type": "markdown",
   "id": "8c232cc9-2b15-4163-81e0-f4f0400811a3",
   "metadata": {},
   "source": [
    "### dlogprobs = ???"
   ]
  },
  {
   "cell_type": "code",
   "execution_count": 12,
   "id": "9daf3fd4-ce9b-4664-9afd-4e3f3a03e14b",
   "metadata": {},
   "outputs": [
    {
     "data": {
      "text/plain": [
       "torch.Size([32, 27])"
      ]
     },
     "execution_count": 12,
     "metadata": {},
     "output_type": "execute_result"
    }
   ],
   "source": [
    "# dlogprobs = ???\n",
    "# loss = -logprobs[range(n), Yb].mean()\n",
    "logprobs.shape  # размеры переменной и ее градиента должны совпадать"
   ]
  },
  {
   "cell_type": "code",
   "execution_count": 13,
   "id": "706f5af4-b3e4-407c-acfc-5d133f89e1a3",
   "metadata": {},
   "outputs": [],
   "source": [
    "# loss = -(a +b + c) / 3\n",
    "# dloss/da = -1/3\n",
    "# dloss/da = -1/n\n",
    "\n",
    "# получается что производная будет просто -1/n для значений, которые участвуют в подсчете\n",
    "# для тех, кто не участвует интуитивно понятно, что градиенты будут 0"
   ]
  },
  {
   "cell_type": "code",
   "execution_count": 14,
   "id": "e480f102-3179-4c35-a881-aa9d8b1e7cf3",
   "metadata": {},
   "outputs": [
    {
     "data": {
      "text/plain": [
       "torch.Size([32, 27])"
      ]
     },
     "execution_count": 14,
     "metadata": {},
     "output_type": "execute_result"
    }
   ],
   "source": [
    "dlogprobs = torch.zeros(logprobs.shape)\n",
    "dlogprobs.shape"
   ]
  },
  {
   "cell_type": "code",
   "execution_count": 15,
   "id": "a2d6406d-5380-4f38-b5ab-3ec12802fcec",
   "metadata": {},
   "outputs": [
    {
     "name": "stdout",
     "output_type": "stream",
     "text": [
      "logprobs        | exact: True  | approximate: True  | maxdiff: 0.0\n"
     ]
    }
   ],
   "source": [
    "dlogprobs[range(n), Yb] = -1/n\n",
    "cmp('logprobs', dlogprobs, logprobs)"
   ]
  },
  {
   "cell_type": "markdown",
   "id": "941d4a61-bdbe-49f8-a0c3-3ddc0f95ca1a",
   "metadata": {},
   "source": [
    "### dprobs = ???"
   ]
  },
  {
   "cell_type": "code",
   "execution_count": 16,
   "id": "677f83f1-3447-49ed-956e-b51950bf5e32",
   "metadata": {},
   "outputs": [],
   "source": [
    "# logprobs = probs.log()"
   ]
  },
  {
   "cell_type": "code",
   "execution_count": 17,
   "id": "63b46774-cbd0-4ae9-8db2-b9828ee05057",
   "metadata": {},
   "outputs": [
    {
     "name": "stdout",
     "output_type": "stream",
     "text": [
      "probs           | exact: True  | approximate: True  | maxdiff: 0.0\n"
     ]
    }
   ],
   "source": [
    "# dlog(x) = 1/x + chainrule\n",
    "dprobs = 1.0 / probs * dlogprobs\n",
    "cmp('probs', dprobs, probs)"
   ]
  },
  {
   "cell_type": "markdown",
   "id": "445050e2-5dca-466f-aecb-8b1b4e7c74eb",
   "metadata": {},
   "source": [
    "### dcounts_sum_inv = ???"
   ]
  },
  {
   "cell_type": "code",
   "execution_count": 18,
   "id": "9e9ea847-ece7-4c42-a586-05fffb26d2cd",
   "metadata": {},
   "outputs": [],
   "source": [
    "# probs = counts * counts_sum_inv"
   ]
  },
  {
   "cell_type": "code",
   "execution_count": 19,
   "id": "3e24fd95-9119-4d8e-8da5-717f81447b1b",
   "metadata": {},
   "outputs": [
    {
     "data": {
      "text/plain": [
       "(torch.Size([32, 27]), torch.Size([32, 1]))"
      ]
     },
     "execution_count": 19,
     "metadata": {},
     "output_type": "execute_result"
    }
   ],
   "source": [
    "counts.shape, counts_sum_inv.shape"
   ]
  },
  {
   "cell_type": "code",
   "execution_count": 20,
   "id": "e702d36b-5675-4220-b2b5-335a50367ac9",
   "metadata": {},
   "outputs": [],
   "source": [
    "# torch неявно копирует при прямом проходе значения counts_sum_inv, чтобы получилось сделать унможение\n",
    "# c = a * b\n",
    "# a[3x3] * b [3x1] ->\n",
    "# a11*b1 a12*b1 a13*b1\n",
    "# a21*b2 a22*b2 a23*b2\n",
    "# a31*b3 a32*b3 a33*b3\n",
    "# c[3x3]"
   ]
  },
  {
   "cell_type": "code",
   "execution_count": 21,
   "id": "a7c12a82-6d63-4a35-bfcb-ac3070a08fc7",
   "metadata": {},
   "outputs": [
    {
     "name": "stdout",
     "output_type": "stream",
     "text": [
      "counts_sum_inv  | exact: True  | approximate: True  | maxdiff: 0.0\n"
     ]
    }
   ],
   "source": [
    "# здесь под капотом 2 операции, унможение и копирование по колонкам, сначала мы идем через уножение, потом через копирование\n",
    "# при использовании одной переменной несколько раз ее градиенты суммируются\n",
    "dcounts_sum_inv = (counts * dprobs).sum(1, keepdim=True)\n",
    "cmp('counts_sum_inv', dcounts_sum_inv, counts_sum_inv)"
   ]
  },
  {
   "cell_type": "markdown",
   "id": "ee335546-37ea-495b-895f-d113b5f86119",
   "metadata": {},
   "source": [
    "### dcounts = ???, but not yet"
   ]
  },
  {
   "cell_type": "code",
   "execution_count": 22,
   "id": "77f68b41-dc12-4364-b953-f246b7b8beb1",
   "metadata": {},
   "outputs": [],
   "source": [
    "# probs = counts * counts_sum_inv"
   ]
  },
  {
   "cell_type": "code",
   "execution_count": 23,
   "id": "386c9227-7301-4844-9dad-7d2cc3570d81",
   "metadata": {},
   "outputs": [],
   "source": [
    "dcounts = counts_sum_inv * dprobs"
   ]
  },
  {
   "cell_type": "code",
   "execution_count": 24,
   "id": "5a7cee95-681e-4837-a214-9bb881259259",
   "metadata": {},
   "outputs": [
    {
     "name": "stdout",
     "output_type": "stream",
     "text": [
      "counts          | exact: False | approximate: False | maxdiff: 0.00569312646985054\n"
     ]
    }
   ],
   "source": [
    "cmp('counts', dcounts, counts)"
   ]
  },
  {
   "cell_type": "code",
   "execution_count": 25,
   "id": "e86963bf-5465-4fae-a46a-bc66245bef78",
   "metadata": {},
   "outputs": [],
   "source": [
    "# мы получаем неверный результат, потому что counts_sum_inv зависит от counts_sum и зависит как следствие от counts\n",
    "# у нас есть вторая ветка, которую нужно сюда присуммировать"
   ]
  },
  {
   "cell_type": "markdown",
   "id": "4a129590-b19d-4e34-b05d-be0bccb40c4a",
   "metadata": {},
   "source": [
    "### dcounts_sum = ???"
   ]
  },
  {
   "cell_type": "code",
   "execution_count": 26,
   "id": "19737445-ad9c-4a10-9a50-0b432f0cbcde",
   "metadata": {},
   "outputs": [],
   "source": [
    "# counts_sum_inv = counts_sum**-1\n",
    "dcounts_sum = -1 * counts_sum**-2 * dcounts_sum_inv"
   ]
  },
  {
   "cell_type": "code",
   "execution_count": 27,
   "id": "a3535299-c465-4a4c-81e2-7def24a545cb",
   "metadata": {},
   "outputs": [
    {
     "name": "stdout",
     "output_type": "stream",
     "text": [
      "counts_sum      | exact: True  | approximate: True  | maxdiff: 0.0\n"
     ]
    }
   ],
   "source": [
    "cmp('counts_sum', dcounts_sum, counts_sum)"
   ]
  },
  {
   "cell_type": "markdown",
   "id": "35c19817-dc60-4ee9-b39c-fa4fb6fd7237",
   "metadata": {},
   "source": [
    "### dcounts = ???"
   ]
  },
  {
   "cell_type": "code",
   "execution_count": 28,
   "id": "13a554c1-2162-4419-8926-2f28c42409fd",
   "metadata": {},
   "outputs": [
    {
     "data": {
      "text/plain": [
       "torch.Size([32, 27])"
      ]
     },
     "execution_count": 28,
     "metadata": {},
     "output_type": "execute_result"
    }
   ],
   "source": [
    "counts.shape"
   ]
  },
  {
   "cell_type": "code",
   "execution_count": 29,
   "id": "472158fd-def6-42f7-96f2-65b39f6edba5",
   "metadata": {},
   "outputs": [],
   "source": [
    "# counts_sum = counts.sum(1, keepdim=True)\n",
    "# probs = counts * counts_sum_inv"
   ]
  },
  {
   "cell_type": "code",
   "execution_count": 30,
   "id": "7aa752c4-31ca-4d76-be37-b3ad25c521e4",
   "metadata": {},
   "outputs": [
    {
     "data": {
      "text/plain": [
       "(torch.Size([32, 27]), torch.Size([32, 1]))"
      ]
     },
     "execution_count": 30,
     "metadata": {},
     "output_type": "execute_result"
    }
   ],
   "source": [
    "(counts_sum_inv * dprobs).shape, dcounts_sum.shape"
   ]
  },
  {
   "cell_type": "code",
   "execution_count": 31,
   "id": "946b7e14-aff7-43a3-a098-43c1f06041fe",
   "metadata": {},
   "outputs": [],
   "source": [
    "# a11 a12 a13  ---> b1 (= a11 + a12 + a13)\n",
    "# a21 a22 a23  ---> b2 (= a21 + a22 + a23)\n",
    "# a31 a32 a33  ---> b3 (= a31 + a32 + a33)\n",
    "\n",
    "# когда придет градиент, он должен скопироваться на всех участников суммы, и сделает он это по горизонтали\n",
    "# то есть мы должны скопировать d_counts_sum [32x1] ---> [32, 27]"
   ]
  },
  {
   "cell_type": "code",
   "execution_count": 32,
   "id": "d5282f2a-bfee-4572-b372-3bfea5d284a3",
   "metadata": {},
   "outputs": [],
   "source": [
    "dcounts += torch.ones_like(counts) * dcounts_sum  # добавляем с другой ветки"
   ]
  },
  {
   "cell_type": "code",
   "execution_count": 33,
   "id": "86e3dacd-ce2c-4e78-9f7b-5120871c2388",
   "metadata": {},
   "outputs": [
    {
     "name": "stdout",
     "output_type": "stream",
     "text": [
      "counts          | exact: True  | approximate: True  | maxdiff: 0.0\n"
     ]
    }
   ],
   "source": [
    "cmp('counts', dcounts, counts)"
   ]
  },
  {
   "cell_type": "markdown",
   "id": "d55bfc2d-6ebf-4817-9c87-2f0d01bddc2c",
   "metadata": {},
   "source": [
    "### dnorm_logits = ???"
   ]
  },
  {
   "cell_type": "code",
   "execution_count": 34,
   "id": "6a24e813-e987-42a4-822b-07fa78cf7eb8",
   "metadata": {},
   "outputs": [],
   "source": [
    "# counts = norm_logits.exp()"
   ]
  },
  {
   "cell_type": "code",
   "execution_count": 35,
   "id": "954094d2-cef7-4141-99aa-8f1535795d23",
   "metadata": {},
   "outputs": [],
   "source": [
    "# производная экспоненты - экспонента\n",
    "dnorm_logits = norm_logits.exp() * dcounts"
   ]
  },
  {
   "cell_type": "code",
   "execution_count": 36,
   "id": "ffe4ed58-568a-4653-9a6d-23bd2cbd7489",
   "metadata": {},
   "outputs": [
    {
     "name": "stdout",
     "output_type": "stream",
     "text": [
      "norm_logits     | exact: True  | approximate: True  | maxdiff: 0.0\n"
     ]
    }
   ],
   "source": [
    "cmp('norm_logits', dnorm_logits, norm_logits)"
   ]
  },
  {
   "cell_type": "markdown",
   "id": "abe5b0c9-3340-4764-b639-07d4a6df10d5",
   "metadata": {},
   "source": [
    "### dlogit_maxes = ???"
   ]
  },
  {
   "cell_type": "code",
   "execution_count": 37,
   "id": "6a92c817-02c9-4cf6-ae2d-c5bb06939949",
   "metadata": {},
   "outputs": [
    {
     "data": {
      "text/plain": [
       "(torch.Size([32, 27]), torch.Size([32, 27]), torch.Size([32, 1]))"
      ]
     },
     "execution_count": 37,
     "metadata": {},
     "output_type": "execute_result"
    }
   ],
   "source": [
    "dnorm_logits.shape, logits.shape, logit_maxes.shape"
   ]
  },
  {
   "cell_type": "code",
   "execution_count": 38,
   "id": "56217427-73f3-44cf-b807-8dbb0b854c4f",
   "metadata": {},
   "outputs": [],
   "source": [
    "# c11 c12 c13  = a11 a12 a13   b1\n",
    "# c21 c22 c23  = a21 a22 a23 - b2\n",
    "# c31 c32 c33  = a31 a32 a33   b3\n",
    "\n",
    "# broadkasting\n",
    "# c11 c12 c13  = a11 a12 a13   b1 b1 b1\n",
    "# c21 c22 c23  = a21 a22 a23 - b2 b2 b2\n",
    "# c31 c32 c33  = a31 a32 a33   b3 b3 b3\n",
    "\n",
    "# e.g. c32 = a32 - b3"
   ]
  },
  {
   "cell_type": "code",
   "execution_count": 39,
   "id": "10c98d28-71cb-4748-a37c-23123ba83ff2",
   "metadata": {},
   "outputs": [],
   "source": [
    "# norm_logits = logits - logit_maxes\n",
    "dlogit_maxes = (-1 * dnorm_logits).sum(1, keepdim=True)\n",
    "\n",
    "# сразу посчитаем dlogits для данного выражения\n",
    "dlogits = dnorm_logits.clone()"
   ]
  },
  {
   "cell_type": "code",
   "execution_count": 40,
   "id": "51b63cd1-d914-4800-b62c-b2d1c9cbb3f6",
   "metadata": {},
   "outputs": [
    {
     "name": "stdout",
     "output_type": "stream",
     "text": [
      "logit_maxes     | exact: True  | approximate: True  | maxdiff: 0.0\n"
     ]
    }
   ],
   "source": [
    "cmp('logit_maxes', dlogit_maxes, logit_maxes)"
   ]
  },
  {
   "cell_type": "code",
   "execution_count": 41,
   "id": "6275bdff-b3e2-44fd-8655-a5cb57b80cb8",
   "metadata": {},
   "outputs": [
    {
     "data": {
      "text/plain": [
       "tensor([[ 2.3283e-10],\n",
       "        [-4.6566e-09],\n",
       "        [ 0.0000e+00],\n",
       "        [-9.3132e-10],\n",
       "        [ 5.5879e-09],\n",
       "        [-4.4238e-09],\n",
       "        [-6.5193e-09],\n",
       "        [ 2.7940e-09],\n",
       "        [ 5.1223e-09],\n",
       "        [-9.3132e-10],\n",
       "        [ 2.3283e-09],\n",
       "        [ 1.1642e-09],\n",
       "        [ 6.9849e-10],\n",
       "        [-9.3132e-10],\n",
       "        [-3.4925e-09],\n",
       "        [-5.1223e-09],\n",
       "        [-5.1223e-09],\n",
       "        [-2.0955e-09],\n",
       "        [-1.1642e-09],\n",
       "        [-2.7940e-09],\n",
       "        [ 9.3132e-10],\n",
       "        [-6.9849e-10],\n",
       "        [ 2.5611e-09],\n",
       "        [ 0.0000e+00],\n",
       "        [-1.8626e-09],\n",
       "        [-4.4238e-09],\n",
       "        [-9.3132e-10],\n",
       "        [ 5.5879e-09],\n",
       "        [-1.8626e-09],\n",
       "        [ 2.5611e-09],\n",
       "        [ 4.6566e-09],\n",
       "        [ 2.3283e-10]], grad_fn=<SumBackward1>)"
      ]
     },
     "execution_count": 41,
     "metadata": {},
     "output_type": "execute_result"
    }
   ],
   "source": [
    "# мы говорили раньше о том, что вычитание максимум из логитов не меняет никак вероятности и не меняет лосс\n",
    "# значит мы ожидаем, что градиенты через максимумы почти не пойдут, вернее даже будут нулями\n",
    "# в общем здесь мы это и видим, с точностью до вычислений чисел с плавающей точкой\n",
    "dlogit_maxes"
   ]
  },
  {
   "cell_type": "markdown",
   "id": "b5fc31eb-dadc-468c-ac87-0cbf52634291",
   "metadata": {},
   "source": [
    "### dlogits = ???"
   ]
  },
  {
   "cell_type": "code",
   "execution_count": 42,
   "id": "f8266aa0-fc48-4047-a7da-03ad0db7befc",
   "metadata": {},
   "outputs": [],
   "source": [
    "# logit_maxes = logits.max(1, keepdim=True).values\n",
    "# здесь получается так, что градиент пойдет по тем местам, откуда был взят максимум\n",
    "dlogits2 = torch.zeros_like(logits)\n",
    "dlogits2[torch.arange(n), logits.argmax(1)] = dlogit_maxes.squeeze()  # сжимаем в вектор длины n\n",
    "\n",
    "# альтернативный способ\n",
    "dlogits2 = F.one_hot(logits.max(1).indices, num_classes=logits.shape[1]) * dlogit_maxes"
   ]
  },
  {
   "cell_type": "code",
   "execution_count": 43,
   "id": "da5e03b6-37ce-4696-942b-8bc2ca900b70",
   "metadata": {},
   "outputs": [],
   "source": [
    "dlogits += dlogits2"
   ]
  },
  {
   "cell_type": "code",
   "execution_count": 44,
   "id": "ef25eb19-4adc-47fc-8fd7-65d53e9b331c",
   "metadata": {},
   "outputs": [
    {
     "name": "stdout",
     "output_type": "stream",
     "text": [
      "logits          | exact: True  | approximate: True  | maxdiff: 0.0\n"
     ]
    }
   ],
   "source": [
    "cmp('logits', dlogits, logits)"
   ]
  },
  {
   "cell_type": "markdown",
   "id": "0f76a733-48c9-4d39-bdf9-550b9febab56",
   "metadata": {},
   "source": [
    "### dh = ???"
   ]
  },
  {
   "cell_type": "code",
   "execution_count": 45,
   "id": "65a09996-926e-4f4e-b4cf-648685dad978",
   "metadata": {},
   "outputs": [
    {
     "data": {
      "text/plain": [
       "(torch.Size([32, 27]),\n",
       " torch.Size([32, 64]),\n",
       " torch.Size([64, 27]),\n",
       " torch.Size([27]))"
      ]
     },
     "execution_count": 45,
     "metadata": {},
     "output_type": "execute_result"
    }
   ],
   "source": [
    "# logits = h @ W2 + b2\n",
    "dlogits.shape, h.shape, W2.shape, b2.shape"
   ]
  },
  {
   "cell_type": "code",
   "execution_count": 46,
   "id": "cbf61794-f007-40fc-85f2-8099169d2ea6",
   "metadata": {},
   "outputs": [],
   "source": [
    "# разберем на простом примере и обобщим производные"
   ]
  },
  {
   "cell_type": "code",
   "execution_count": 47,
   "id": "ec7ca86a-a81d-487c-a6f4-237c812061ae",
   "metadata": {},
   "outputs": [],
   "source": [
    "# logits = h @ W + b\n",
    "# assume h -> [2, 3], W -> [3, 4], b -> [4]. dL/dlogits должна быть [2, 4], такой же как результат этого выражения\n",
    "# dL/dh должна быть как h 2х3, dL/dW должна быть как W 3х4\n",
    "\n",
    "# \n",
    "#     h11 h12 h13\n",
    "# h = h21 h22 h23\n",
    "\n",
    "#     W11 W12 W13 W14\n",
    "# W = W21 W22 W23 W24\n",
    "#     W31 W32 W33 W34\n",
    "\n",
    "# \n",
    "# b = b1 b2 b3 b4\n",
    "# \n",
    "#          h11*W11 + h12*W21 + h13*W31 + b1  h11*W12 + h12*W22 + h13*W32 + b2  h11*W13 + h12*W23 + h13*W33 + b3  h11*W14 + h12*W24 + h13*W34 + b4\n",
    "# logits = h21*W11 + h22*W21 + h23*W31 + b1  h21*W12 + h22*W22 + h23*W32 + b2  h21*W13 + h22*W23 + h23*W33 + b3  h21*W14 + h22*W24 + h23*W34 + b4\n",
    "# \n",
    "# нам нужно найти производную dL по dh\n",
    "# для каждого dh посмотрим, в каких местах матрицы он вообще встречается, например h11 встречается в logits11, logits12, logits13, logits14\n",
    "# производная для h11 в первом слагаемом = W11, второе слагаемое приходит с места, где еще использовался h11 - это logits12, оттуда\n",
    "# производная = W12, дальше по аналогии еще 2 слагаемых и так далее для других h\n",
    "# \n",
    "# dL/dh11 = dL/dlogits11 * W11 + dL/dlogits12 * W12 + dL/dlogits13 * W13 + dL/dlogits14 * W14\n",
    "# dL/dh12 = dL/dlogits11 * W21 + dL/dlogits12 * W22 + dL/dlogits13 * W23 + dL/dlogits14 * W24\n",
    "# dL/dh13 = dL/dlogits11 * W31 + dL/dlogits12 * W32 + dL/dlogits13 * W33 + dL/dlogits14 * W34\n",
    "\n",
    "# dL/dh21 = dL/dlogits21 * W11 + dL/dlogits22 * W12 + dL/dlogits23 * W13 + dL/dlogits24 * W14\n",
    "# dL/dh22 = dL/dlogits21 * W21 + dL/dlogits22 * W22 + dL/dlogits23 * W23 + dL/dlogits24 * W24\n",
    "# dL/dh23 = dL/dlogits21 * W31 + dL/dlogits22 * W32 + dL/dlogits23 * W33 + dL/dlogits24 * W34\n",
    "\n",
    "# получается это тоже самое что\n",
    "\n",
    "#                                                                                     W11 W21 W31\n",
    "# dL/dh11 dL/dh12 dL/dh13     dL/dlogits11 dL/dlogits12 dL/dlogits13 dL/dlogits14     W12 W22 W32\n",
    "# dL/dh21 dL/dh22 dL/dh23  =  dL/dlogits21 dL/dlogits22 dL/dlogits23 dL/dlogits24  @  W13 W23 W33\n",
    "#                                                                                     W14 W24 W34\n",
    "\n",
    "#  [2x3] = [2x4] @ [4x3]\n",
    "# а это тоже самое что\n",
    "# dL/dlogits @ W.T"
   ]
  },
  {
   "cell_type": "code",
   "execution_count": 48,
   "id": "28c5aa2e-2d09-4c61-ad9b-84816a32a68a",
   "metadata": {},
   "outputs": [],
   "source": [
    "# аналогичную картину можно получить и для W\n",
    "\n",
    "# \n",
    "#     h11 h12 h13\n",
    "# h = h21 h22 h23\n",
    "\n",
    "#     W11 W12 W13 W14\n",
    "# W = W21 W22 W23 W24\n",
    "#     W31 W32 W33 W34\n",
    "\n",
    "# \n",
    "# b = b1 b2 b3 b4\n",
    "# \n",
    "#          h11*W11 + h12*W21 + h13*W31 + b1  h11*W12 + h12*W22 + h13*W32 + b2  h11*W13 + h12*W23 + h13*W33 + b3  h11*W14 + h12*W24 + h13*W34 + b4\n",
    "# logits = h21*W11 + h22*W21 + h23*W31 + b1  h21*W12 + h22*W22 + h23*W32 + b2  h21*W13 + h22*W23 + h23*W33 + b3  h21*W14 + h22*W24 + h23*W34 + b4\n",
    "# \n",
    "# нам нужно найти производную dL по dW\n",
    "# для каждого W посмотрим, в каких местах матрицы он вообще встречается, например W11 встречается в logits11, logits21\n",
    "# производная для W11 в первом слагаемом = h11, второе слагаемое приходит с места, где еще использовался W11 - это logits21, оттуда\n",
    "# производная = h21, дальше по аналогии\n",
    "# \n",
    "# dL/dW11 = dL/dlogits11 * h11 + dL/dlogits21 * h21\n",
    "# dL/dW12 = dL/dlogits12 * h11 + dL/dlogits22 * h21\n",
    "# dL/dW13 = dL/dlogits13 * h11 + dL/dlogits23 * h21\n",
    "# dL/dW14 = dL/dlogits14 * h11 + dL/dlogits24 * h21\n",
    "\n",
    "# dL/dW21 = dL/dlogits11 * h12 + dL/dlogits21 * h22\n",
    "# dL/dW22 = dL/dlogits12 * h12 + dL/dlogits22 * h22\n",
    "# dL/dW23 = dL/dlogits13 * h12 + dL/dlogits23 * h22\n",
    "# dL/dW24 = dL/dlogits14 * h12 + dL/dlogits24 * h22\n",
    "\n",
    "# dL/dW31 = dL/dlogits11 * h13 + dL/dlogits21 * h23\n",
    "# dL/dW32 = dL/dlogits12 * h13 + dL/dlogits22 * h23\n",
    "# dL/dW33 = dL/dlogits13 * h13 + dL/dlogits23 * h23\n",
    "# dL/dW34 = dL/dlogits14 * h13 + dL/dlogits24 * h23\n",
    "\n",
    "# получается это тоже самое что\n",
    "\n",
    "#                                                                                     \n",
    "# dL/dW11 dL/dW12 dL/dW13 dL/dW14     h11 h21    dL/dlogits11 dL/dlogits12 dL/dlogits13 dL/dlogits14 \n",
    "# dL/dW21 dL/dW22 dL/dW23 dL/dW24  =  h12 h22 @  dL/dlogits21 dL/dlogits22 dL/dlogits23 dL/dlogits24 \n",
    "# dL/dW31 dL/dW32 dL/dW33 dL/dW34     h13 h23 \n",
    "\n",
    "#  [3x4] = [3x2] @ [2x4]\n",
    "# а это тоже самое что\n",
    "# h.T @ dL/dlogits"
   ]
  },
  {
   "cell_type": "code",
   "execution_count": 49,
   "id": "6b27c520-94a8-4e6e-b358-e8f5886ee4eb",
   "metadata": {},
   "outputs": [],
   "source": [
    "# аналогичную картину можно получить и для b\n",
    "\n",
    "# \n",
    "#     h11 h12 h13\n",
    "# h = h21 h22 h23\n",
    "\n",
    "#     W11 W12 W13 W14\n",
    "# W = W21 W22 W23 W24\n",
    "#     W31 W32 W33 W34\n",
    "\n",
    "# \n",
    "# b = b1 b2 b3 b4\n",
    "# \n",
    "#          h11*W11 + h12*W21 + h13*W31 + b1  h11*W12 + h12*W22 + h13*W32 + b2  h11*W13 + h12*W23 + h13*W33 + b3  h11*W14 + h12*W24 + h13*W34 + b4\n",
    "# logits = h21*W11 + h22*W21 + h23*W31 + b1  h21*W12 + h22*W22 + h23*W32 + b2  h21*W13 + h22*W23 + h23*W33 + b3  h21*W14 + h22*W24 + h23*W34 + b4\n",
    "# \n",
    "# нам нужно найти производную dL по db\n",
    "# для каждого W посмотрим, в каких местах матрицы он вообще встречается, например b1 встречается в logits11, logits21\n",
    "# производная для b1 в первом слагаемом = 1, второе слагаемое приходит с места, где еще использовался b1 - это logits21, оттуда\n",
    "# производная тоже 1, дальше по аналогии\n",
    "# \n",
    "# dL/db1 = dL/dlogits11 * 1 + dL/dlogits21 * 1\n",
    "# dL/db2 = dL/dlogits12 * 1 + dL/dlogits22 * 1\n",
    "# dL/db3 = dL/dlogits13 * 1 + dL/dlogits23 * 1\n",
    "# dL/db4 = dL/dlogits14 * 1 + dL/dlogits24 * 1\n",
    "\n",
    "# получается это тоже самое что\n",
    "\n",
    "\n",
    "#                                            dL/dlogits11 dL/dlogits12 dL/dlogits13 dL/dlogits14 \n",
    "# dL/db1 dL/db2 dL/db3 dL/db4  =      1 1 @  dL/dlogits21 dL/dlogits22 dL/dlogits23 dL/dlogits24 \n",
    "\n",
    "#  [1x4] = [1x2] @ [2x4]\n",
    "# а это тоже самое что\n",
    "# ones[1x4] @ dL/dlogits\n",
    "# или\n",
    "# dL/dlogits.sum(0), то есть сложить строки"
   ]
  },
  {
   "cell_type": "code",
   "execution_count": 50,
   "id": "c116d386-63b6-462b-97d1-6d7c0e36b703",
   "metadata": {},
   "outputs": [
    {
     "name": "stdout",
     "output_type": "stream",
     "text": [
      "h               | exact: True  | approximate: True  | maxdiff: 0.0\n"
     ]
    }
   ],
   "source": [
    "dh = dlogits @ W2.T\n",
    "cmp('h', dh, h)"
   ]
  },
  {
   "cell_type": "markdown",
   "id": "58a43acb-1aef-4d0b-88ca-001c823e3df8",
   "metadata": {},
   "source": [
    "### dW2 = ???"
   ]
  },
  {
   "cell_type": "code",
   "execution_count": 51,
   "id": "42a86bca-3093-48cd-a57e-a0d7059debfe",
   "metadata": {},
   "outputs": [],
   "source": [
    "# logits = h @ W2 + b2\n",
    "dW2 = h.T @ dlogits"
   ]
  },
  {
   "cell_type": "code",
   "execution_count": 52,
   "id": "5e8690f3-f028-4484-a4ed-ff40ce7d90b4",
   "metadata": {},
   "outputs": [
    {
     "name": "stdout",
     "output_type": "stream",
     "text": [
      "W2              | exact: True  | approximate: True  | maxdiff: 0.0\n"
     ]
    }
   ],
   "source": [
    "cmp('W2', dW2, W2)"
   ]
  },
  {
   "cell_type": "markdown",
   "id": "f0ab72f4-5b7e-4bd0-bf81-7b18b126507b",
   "metadata": {},
   "source": [
    "### db2 = ???"
   ]
  },
  {
   "cell_type": "code",
   "execution_count": 53,
   "id": "00f7d15f-daf4-47cb-a59c-9dab69e9e293",
   "metadata": {},
   "outputs": [
    {
     "name": "stdout",
     "output_type": "stream",
     "text": [
      "b2              | exact: False | approximate: True  | maxdiff: 2.9802322387695312e-08\n"
     ]
    }
   ],
   "source": [
    "# logits = h @ W2 + b2\n",
    "db2 = torch.ones([1, dlogits.shape[0]]) @ dlogits\n",
    "cmp('b2', db2, b2)"
   ]
  },
  {
   "cell_type": "code",
   "execution_count": 54,
   "id": "e01043df-ec70-4ff3-bad4-6231266bbabe",
   "metadata": {},
   "outputs": [
    {
     "name": "stdout",
     "output_type": "stream",
     "text": [
      "b2              | exact: True  | approximate: True  | maxdiff: 0.0\n"
     ]
    }
   ],
   "source": [
    "db2 = dlogits.sum(0)\n",
    "cmp('b2', db2, b2)"
   ]
  },
  {
   "cell_type": "markdown",
   "id": "adfee80a-f780-4490-9ca6-ed5c311dfc10",
   "metadata": {},
   "source": [
    "### dhpreact = ???"
   ]
  },
  {
   "cell_type": "code",
   "execution_count": 55,
   "id": "5d83ba4b-8022-43fd-94d2-a0f28ee140bd",
   "metadata": {},
   "outputs": [
    {
     "name": "stdout",
     "output_type": "stream",
     "text": [
      "hpreact         | exact: True  | approximate: True  | maxdiff: 0.0\n"
     ]
    }
   ],
   "source": [
    "# h = torch.tanh(hpreact)\n",
    "dhpreact = (1.0 - h**2) * dh\n",
    "cmp('hpreact', dhpreact, hpreact)"
   ]
  },
  {
   "cell_type": "markdown",
   "id": "18ad4c21-4db0-499e-adfc-bedf49dfaafa",
   "metadata": {},
   "source": [
    "### dbngain = ???"
   ]
  },
  {
   "cell_type": "code",
   "execution_count": 56,
   "id": "e4ad2d84-5d0f-406b-8e32-03e4e134819a",
   "metadata": {},
   "outputs": [
    {
     "data": {
      "text/plain": [
       "(torch.Size([1, 64]),\n",
       " torch.Size([32, 64]),\n",
       " torch.Size([1, 64]),\n",
       " torch.Size([32, 64]))"
      ]
     },
     "execution_count": 56,
     "metadata": {},
     "output_type": "execute_result"
    }
   ],
   "source": [
    "bngain.shape, bnraw.shape, bnbias.shape, dhpreact.shape"
   ]
  },
  {
   "cell_type": "code",
   "execution_count": 57,
   "id": "9cdc520b-9f7d-457b-a979-ac6b79a48be0",
   "metadata": {},
   "outputs": [],
   "source": [
    "# bngain множится вертикально во время прямого прохода, чтобы умножиться корректно на bnraw\n",
    "# поэтому здесь у нас получается сумма с каждой ветви графа\n",
    "# так как градиенты с мест копирования суммируются"
   ]
  },
  {
   "cell_type": "code",
   "execution_count": 58,
   "id": "ed3369c5-5411-449b-8c06-a18eb7bb8cba",
   "metadata": {},
   "outputs": [
    {
     "name": "stdout",
     "output_type": "stream",
     "text": [
      "bngain          | exact: True  | approximate: True  | maxdiff: 0.0\n"
     ]
    }
   ],
   "source": [
    "# hpreact = bngain * bnraw + bnbias\n",
    "dbngain = (bnraw * dhpreact).sum(0, keepdim=True)\n",
    "cmp('bngain', dbngain, bngain)"
   ]
  },
  {
   "cell_type": "code",
   "execution_count": 59,
   "id": "2bb24fef-cd04-4b6f-a117-7d5863c3f7c3",
   "metadata": {},
   "outputs": [
    {
     "data": {
      "text/plain": [
       "torch.Size([1, 64])"
      ]
     },
     "execution_count": 59,
     "metadata": {},
     "output_type": "execute_result"
    }
   ],
   "source": [
    "dbngain.shape"
   ]
  },
  {
   "cell_type": "markdown",
   "id": "728c7629-6676-4d65-9cad-64bbd0899750",
   "metadata": {},
   "source": [
    "### dbnraw = ???"
   ]
  },
  {
   "cell_type": "code",
   "execution_count": 60,
   "id": "a6035daa-6da0-4636-bd15-7c3ce2953c2c",
   "metadata": {},
   "outputs": [
    {
     "data": {
      "text/plain": [
       "(torch.Size([1, 64]),\n",
       " torch.Size([32, 64]),\n",
       " torch.Size([1, 64]),\n",
       " torch.Size([32, 64]))"
      ]
     },
     "execution_count": 60,
     "metadata": {},
     "output_type": "execute_result"
    }
   ],
   "source": [
    "bngain.shape, bnraw.shape, bnbias.shape, dhpreact.shape"
   ]
  },
  {
   "cell_type": "code",
   "execution_count": 61,
   "id": "e7ff8107-c844-43ab-b4fe-26491aaa2022",
   "metadata": {},
   "outputs": [
    {
     "name": "stdout",
     "output_type": "stream",
     "text": [
      "bnraw           | exact: True  | approximate: True  | maxdiff: 0.0\n"
     ]
    }
   ],
   "source": [
    "# hpreact = bngain * bnraw + bnbias\n",
    "dbnraw = bngain * dhpreact\n",
    "cmp('bnraw', dbnraw, bnraw)"
   ]
  },
  {
   "cell_type": "markdown",
   "id": "3ed34c31-b4e0-4b77-acbb-b59b5f3c88e8",
   "metadata": {},
   "source": [
    "### dbnbias = ???"
   ]
  },
  {
   "cell_type": "code",
   "execution_count": 62,
   "id": "8db12eb4-233a-4f93-abb4-d1e1f0215104",
   "metadata": {},
   "outputs": [
    {
     "name": "stdout",
     "output_type": "stream",
     "text": [
      "bnbias          | exact: True  | approximate: True  | maxdiff: 0.0\n"
     ]
    }
   ],
   "source": [
    "# hpreact = bngain * bnraw + bnbias\n",
    "dbnbias = dhpreact.sum(0, keepdim=True)\n",
    "cmp('bnbias', dbnbias, bnbias)"
   ]
  },
  {
   "cell_type": "markdown",
   "id": "058b644c-a383-46b3-b8c2-3aaddfc90b59",
   "metadata": {},
   "source": [
    "### dbnvar_inv = ???"
   ]
  },
  {
   "cell_type": "code",
   "execution_count": 63,
   "id": "bb859382-32e6-43b0-9155-26634c8bd6d8",
   "metadata": {},
   "outputs": [
    {
     "data": {
      "text/plain": [
       "(torch.Size([32, 64]), torch.Size([32, 64]), torch.Size([1, 64]))"
      ]
     },
     "execution_count": 63,
     "metadata": {},
     "output_type": "execute_result"
    }
   ],
   "source": [
    "bnraw.shape, bndiff.shape, bnvar_inv.shape"
   ]
  },
  {
   "cell_type": "code",
   "execution_count": 64,
   "id": "6ad17fcf-fa87-47c5-b3d8-feba392801c1",
   "metadata": {},
   "outputs": [
    {
     "name": "stdout",
     "output_type": "stream",
     "text": [
      "bnvar_inv       | exact: True  | approximate: True  | maxdiff: 0.0\n"
     ]
    }
   ],
   "source": [
    "# bnraw = bndiff * bnvar_inv\n",
    "# аналогичная ситуация с копией\n",
    "dbnvar_inv = (bndiff * dbnraw).sum(0, keepdim=True)\n",
    "cmp('bnvar_inv', dbnvar_inv, bnvar_inv)"
   ]
  },
  {
   "cell_type": "markdown",
   "id": "a3ed6bdb-2e0f-44a8-b217-8eeab1373713",
   "metadata": {},
   "source": [
    "### dbnvar = ???"
   ]
  },
  {
   "cell_type": "code",
   "execution_count": 65,
   "id": "f32afd04-7f41-4fcb-a9be-b10048b11af4",
   "metadata": {},
   "outputs": [
    {
     "data": {
      "text/plain": [
       "(torch.Size([1, 64]), torch.Size([1, 64]))"
      ]
     },
     "execution_count": 65,
     "metadata": {},
     "output_type": "execute_result"
    }
   ],
   "source": [
    "bnvar.shape, bnvar_inv.shape"
   ]
  },
  {
   "cell_type": "code",
   "execution_count": 66,
   "id": "0ddc35c5-71ea-463c-8157-377ec5f8d00c",
   "metadata": {},
   "outputs": [
    {
     "name": "stdout",
     "output_type": "stream",
     "text": [
      "bnvar           | exact: True  | approximate: True  | maxdiff: 0.0\n"
     ]
    }
   ],
   "source": [
    "# bnvar_inv = (bnvar + 1e-5)**-0.5\n",
    "# просто опускаем степень d(a**2) = 2 * a ** (2-1)\n",
    "dbnvar = -0.5*(bnvar + 1e-5)**-1.5 * dbnvar_inv\n",
    "cmp('bnvar', dbnvar, bnvar)"
   ]
  },
  {
   "cell_type": "markdown",
   "id": "acba9c13-c185-4083-b8bf-164438b0aaca",
   "metadata": {},
   "source": [
    "### dbndiff2 = ???"
   ]
  },
  {
   "cell_type": "code",
   "execution_count": 67,
   "id": "50411d83-c87a-4421-993f-56842807de7f",
   "metadata": {},
   "outputs": [
    {
     "data": {
      "text/plain": [
       "(torch.Size([1, 64]), torch.Size([32, 64]))"
      ]
     },
     "execution_count": 67,
     "metadata": {},
     "output_type": "execute_result"
    }
   ],
   "source": [
    "bnvar.shape, bndiff2.shape"
   ]
  },
  {
   "cell_type": "code",
   "execution_count": 68,
   "id": "40f8eb9a-b530-4d8a-9fa4-ad1e222a4699",
   "metadata": {},
   "outputs": [],
   "source": [
    "# https://math.oxford.emory.edu/site/math117/besselCorrection/\n",
    "# про несмещенную оценку дисперсии"
   ]
  },
  {
   "cell_type": "code",
   "execution_count": 69,
   "id": "0db5f036-01c5-479d-b7b3-43d09b9edfce",
   "metadata": {},
   "outputs": [
    {
     "name": "stdout",
     "output_type": "stream",
     "text": [
      "bndiff2         | exact: True  | approximate: True  | maxdiff: 0.0\n"
     ]
    }
   ],
   "source": [
    "# bnvar = 1/(n-1)*(bndiff2).sum(0, keepdim=True)\n",
    "# мы получаем в качестве производной единицы и копируем их на каждый вход, оставляем константу\n",
    "dbndiff2 = 1/(n-1) * torch.ones_like(bndiff2) * dbnvar\n",
    "cmp('bndiff2', dbndiff2, bndiff2)"
   ]
  },
  {
   "cell_type": "markdown",
   "id": "dfe7031c-0e05-43ac-b959-4ed03acf6faf",
   "metadata": {},
   "source": [
    "### dbndiff = ???"
   ]
  },
  {
   "cell_type": "code",
   "execution_count": 70,
   "id": "b7c26e67-21b9-4dc4-a0dc-62bef3ddf586",
   "metadata": {},
   "outputs": [
    {
     "data": {
      "text/plain": [
       "(torch.Size([32, 64]),\n",
       " torch.Size([32, 64]),\n",
       " torch.Size([1, 64]),\n",
       " torch.Size([32, 64]),\n",
       " torch.Size([32, 64]))"
      ]
     },
     "execution_count": 70,
     "metadata": {},
     "output_type": "execute_result"
    }
   ],
   "source": [
    "bnraw.shape, bndiff.shape, bnvar_inv.shape, bndiff2.shape, dbndiff2.shape"
   ]
  },
  {
   "cell_type": "code",
   "execution_count": 71,
   "id": "37386014-ba98-4a23-9a20-da95ade3bb33",
   "metadata": {},
   "outputs": [
    {
     "name": "stdout",
     "output_type": "stream",
     "text": [
      "bndiff          | exact: True  | approximate: True  | maxdiff: 0.0\n"
     ]
    }
   ],
   "source": [
    "# bndiff2 = bndiff**2\n",
    "# bnraw = bndiff * bnvar_inv\n",
    "# bndiff используется в двух местах, градиенты с мест копирования суммируются\n",
    "dbndiff = bnvar_inv * dbnraw + 2 * bndiff * dbndiff2\n",
    "cmp('bndiff', dbndiff, bndiff)"
   ]
  },
  {
   "cell_type": "markdown",
   "id": "af3f080c-3e4d-43aa-ba13-2a631c1bd677",
   "metadata": {},
   "source": [
    "### dbnmeani = ???"
   ]
  },
  {
   "cell_type": "code",
   "execution_count": 72,
   "id": "94b48c85-684e-4c0e-a2f4-a83c5bb236b1",
   "metadata": {},
   "outputs": [
    {
     "data": {
      "text/plain": [
       "(torch.Size([32, 64]), torch.Size([32, 64]), torch.Size([1, 64]))"
      ]
     },
     "execution_count": 72,
     "metadata": {},
     "output_type": "execute_result"
    }
   ],
   "source": [
    "bndiff.shape, hprebn.shape, bnmeani.shape"
   ]
  },
  {
   "cell_type": "code",
   "execution_count": 73,
   "id": "f0e66d01-305e-431b-826d-3a5549205b52",
   "metadata": {},
   "outputs": [
    {
     "name": "stdout",
     "output_type": "stream",
     "text": [
      "bnmeani         | exact: True  | approximate: True  | maxdiff: 0.0\n"
     ]
    }
   ],
   "source": [
    "# bndiff = hprebn - bnmeani\n",
    "dbnmeani = (-1.0 * dbndiff).sum(0, keepdim=True)\n",
    "cmp('bnmeani', dbnmeani, bnmeani)"
   ]
  },
  {
   "cell_type": "markdown",
   "id": "9a927202-da87-4c68-ad7d-09dc70530aa4",
   "metadata": {},
   "source": [
    "### dhprebn = ???"
   ]
  },
  {
   "cell_type": "code",
   "execution_count": 74,
   "id": "f3a5ab34-f7b8-44e3-99a5-f4442613135d",
   "metadata": {},
   "outputs": [
    {
     "data": {
      "text/plain": [
       "(torch.Size([32, 64]), torch.Size([32, 64]), torch.Size([1, 64]))"
      ]
     },
     "execution_count": 74,
     "metadata": {},
     "output_type": "execute_result"
    }
   ],
   "source": [
    "bndiff.shape, hprebn.shape, bnmeani.shape"
   ]
  },
  {
   "cell_type": "code",
   "execution_count": 75,
   "id": "b72b3979-38a6-47a4-a9bd-215787ae1d6b",
   "metadata": {},
   "outputs": [
    {
     "name": "stdout",
     "output_type": "stream",
     "text": [
      "hprebn          | exact: True  | approximate: True  | maxdiff: 0.0\n"
     ]
    }
   ],
   "source": [
    "# bndiff = hprebn - bnmeani\n",
    "# bnmeani = 1/n*hprebn.sum(0, keepdim=True)\n",
    "# dbnmeani в данном случае копируется n=32 раза по строкам, чтобы совпадать с размером dhprebn, поэтому дополнительно явно указывать единицы не нужно\n",
    "dhprebn = 1 * dbndiff.clone() + 1/n*dbnmeani\n",
    "cmp('hprebn', dhprebn, hprebn)"
   ]
  },
  {
   "cell_type": "markdown",
   "id": "eb982788-5ec6-4395-bcf0-c16e731a82f4",
   "metadata": {},
   "source": [
    "### dembcat = ???"
   ]
  },
  {
   "cell_type": "code",
   "execution_count": 76,
   "id": "2446884d-2a43-46c1-afec-84200867c4c8",
   "metadata": {},
   "outputs": [
    {
     "data": {
      "text/plain": [
       "(torch.Size([32, 64]),\n",
       " torch.Size([32, 30]),\n",
       " torch.Size([30, 64]),\n",
       " torch.Size([64]))"
      ]
     },
     "execution_count": 76,
     "metadata": {},
     "output_type": "execute_result"
    }
   ],
   "source": [
    "dhprebn.shape, embcat.shape, W1.shape, b1.shape"
   ]
  },
  {
   "cell_type": "code",
   "execution_count": 77,
   "id": "32891e1b-ee75-4651-ad41-f7ee5f2561e8",
   "metadata": {},
   "outputs": [
    {
     "name": "stdout",
     "output_type": "stream",
     "text": [
      "embcat          | exact: True  | approximate: True  | maxdiff: 0.0\n"
     ]
    }
   ],
   "source": [
    "# hprebn = embcat @ W1 + b1 \n",
    "# аналогично тому, что уже получали выше\n",
    "dembcat = dhprebn @ W1.T\n",
    "cmp('embcat', dembcat, embcat)"
   ]
  },
  {
   "cell_type": "markdown",
   "id": "f716c52a-20b7-4f15-814a-82dac4fb58f8",
   "metadata": {},
   "source": [
    "### dW1 = ???"
   ]
  },
  {
   "cell_type": "code",
   "execution_count": 78,
   "id": "69b4d24f-ec89-4f50-b906-5574dae63157",
   "metadata": {},
   "outputs": [
    {
     "name": "stdout",
     "output_type": "stream",
     "text": [
      "W1              | exact: True  | approximate: True  | maxdiff: 0.0\n"
     ]
    }
   ],
   "source": [
    "# hprebn = embcat @ W1 + b1 \n",
    "dW1 = embcat.T @ dhprebn\n",
    "cmp('W1', dW1, W1)"
   ]
  },
  {
   "cell_type": "markdown",
   "id": "e135ddb3-2f33-46e5-8be5-6622779fc938",
   "metadata": {},
   "source": [
    "### db1 = ???"
   ]
  },
  {
   "cell_type": "code",
   "execution_count": 79,
   "id": "2a001c88-4722-4a15-9bc7-2203e63abb1b",
   "metadata": {},
   "outputs": [
    {
     "name": "stdout",
     "output_type": "stream",
     "text": [
      "b1              | exact: True  | approximate: True  | maxdiff: 0.0\n"
     ]
    }
   ],
   "source": [
    "# hprebn = embcat @ W1 + b1 \n",
    "db1 = dhprebn.sum(0, keepdim=True)\n",
    "cmp('b1', db1, b1)"
   ]
  },
  {
   "cell_type": "markdown",
   "id": "8a775fee-6bab-4c34-83b6-714cb4ece459",
   "metadata": {},
   "source": [
    "### demb = ???"
   ]
  },
  {
   "cell_type": "code",
   "execution_count": 80,
   "id": "e8294d9e-26fe-4cfd-9256-37917d198d06",
   "metadata": {},
   "outputs": [
    {
     "data": {
      "text/plain": [
       "(torch.Size([32, 3, 10]), torch.Size([32, 30]))"
      ]
     },
     "execution_count": 80,
     "metadata": {},
     "output_type": "execute_result"
    }
   ],
   "source": [
    "emb.shape, dembcat.shape"
   ]
  },
  {
   "cell_type": "code",
   "execution_count": 81,
   "id": "486f4f05-4e4e-4d09-9933-50a9dc4b28de",
   "metadata": {},
   "outputs": [
    {
     "name": "stdout",
     "output_type": "stream",
     "text": [
      "emb             | exact: True  | approximate: True  | maxdiff: 0.0\n"
     ]
    }
   ],
   "source": [
    "# embcat = emb.view(emb.shape[0], -1)\n",
    "# возвращаем размер на место\n",
    "demb = dembcat.view(emb.shape)\n",
    "cmp('emb', demb, emb)"
   ]
  },
  {
   "cell_type": "markdown",
   "id": "c54a1852-77df-4f33-b6ea-78cbde0f5115",
   "metadata": {},
   "source": [
    "### dC = ???"
   ]
  },
  {
   "cell_type": "code",
   "execution_count": 82,
   "id": "c2993403-a7a1-4404-a697-7eb7c75b785a",
   "metadata": {},
   "outputs": [
    {
     "name": "stdout",
     "output_type": "stream",
     "text": [
      "torch.Size([32, 3, 10]) torch.Size([27, 10]) torch.Size([32, 3])\n",
      "tensor([[ 1,  1,  4],\n",
      "        [18, 14,  1],\n",
      "        [11,  5,  9],\n",
      "        [ 0,  0,  1],\n",
      "        [12, 15, 14]])\n"
     ]
    }
   ],
   "source": [
    "print(demb.shape, C.shape, Xb.shape)\n",
    "print(Xb[:5])"
   ]
  },
  {
   "cell_type": "code",
   "execution_count": 83,
   "id": "76003c98-fe18-4ac7-8b8d-11fd9d1e7b4a",
   "metadata": {},
   "outputs": [
    {
     "name": "stdout",
     "output_type": "stream",
     "text": [
      "C               | exact: True  | approximate: True  | maxdiff: 0.0\n"
     ]
    }
   ],
   "source": [
    "# emb = C[Xb]\n",
    "dC = torch.zeros_like(C)\n",
    "for k in range(Xb.shape[0]):\n",
    "    for j in range(Xb.shape[1]):\n",
    "        ix = Xb[k, j]\n",
    "        dC[ix] += demb[k, j]\n",
    "cmp('C', dC, C)"
   ]
  },
  {
   "cell_type": "markdown",
   "id": "25b01e27-162b-446e-a889-042e17131d1e",
   "metadata": {},
   "source": [
    "# Упражнение 2"
   ]
  },
  {
   "cell_type": "code",
   "execution_count": 84,
   "id": "810c803c-69ed-4799-b271-bddf0c03f0dd",
   "metadata": {},
   "outputs": [
    {
     "name": "stdout",
     "output_type": "stream",
     "text": [
      "3.3594982624053955 diff: 2.384185791015625e-07\n"
     ]
    }
   ],
   "source": [
    "# Градиент кросс энтропии\n",
    "\n",
    "# Exercise 2: backprop through cross_entropy but all in one go\n",
    "# to complete this challenge look at the mathematical expression of the loss,\n",
    "# take the derivative, simplify the expression, and just write it out\n",
    "\n",
    "# forward pass\n",
    "\n",
    "# before:\n",
    "# logit_maxes = logits.max(1, keepdim=True).values\n",
    "# norm_logits = logits - logit_maxes # subtract max for numerical stability\n",
    "# counts = norm_logits.exp()\n",
    "# counts_sum = counts.sum(1, keepdims=True)\n",
    "# counts_sum_inv = counts_sum**-1 # if I use (1.0 / counts_sum) instead then I can't get backprop to be bit exact...\n",
    "# probs = counts * counts_sum_inv\n",
    "# logprobs = probs.log()\n",
    "# loss = -logprobs[range(n), Yb].mean()\n",
    "\n",
    "# now:\n",
    "loss_fast = F.cross_entropy(logits, Yb)\n",
    "print(loss_fast.item(), 'diff:', (loss_fast - loss).item())"
   ]
  },
  {
   "cell_type": "markdown",
   "id": "fd6c13d5-0644-473d-bec7-a6363d7d7648",
   "metadata": {},
   "source": [
    "### dlogits = ???"
   ]
  },
  {
   "cell_type": "code",
   "execution_count": 85,
   "id": "192cee07-7736-4135-8649-6a7cb68718e6",
   "metadata": {},
   "outputs": [
    {
     "name": "stdout",
     "output_type": "stream",
     "text": [
      "logits          | exact: False | approximate: True  | maxdiff: 6.28642737865448e-09\n"
     ]
    }
   ],
   "source": [
    "dlogits = F.softmax(logits, dim=1)\n",
    "dlogits[range(n), Yb] -= 1\n",
    "dlogits /= n\n",
    "\n",
    "cmp('logits', dlogits, logits)"
   ]
  },
  {
   "cell_type": "code",
   "execution_count": 86,
   "id": "a20f29cc-d71c-4509-976d-f55cdf3b0bba",
   "metadata": {},
   "outputs": [
    {
     "data": {
      "text/plain": [
       "tensor([0.0764, 0.0838, 0.0175, 0.0518, 0.0190, 0.0890, 0.0236, 0.0384, 0.0183,\n",
       "        0.0300, 0.0364, 0.0353, 0.0392, 0.0293, 0.0317, 0.0126, 0.0088, 0.0187,\n",
       "        0.0152, 0.0587, 0.0454, 0.0211, 0.0273, 0.0664, 0.0588, 0.0263, 0.0212],\n",
       "       grad_fn=<SelectBackward0>)"
      ]
     },
     "execution_count": 86,
     "metadata": {},
     "output_type": "execute_result"
    }
   ],
   "source": [
    "F.softmax(logits, dim=1)[0]"
   ]
  },
  {
   "cell_type": "code",
   "execution_count": 87,
   "id": "2af42876-2638-4ddf-86c0-becf9000c380",
   "metadata": {},
   "outputs": [
    {
     "data": {
      "text/plain": [
       "tensor([ 0.0024,  0.0026,  0.0005,  0.0016,  0.0006,  0.0028,  0.0007,  0.0012,\n",
       "        -0.0307,  0.0009,  0.0011,  0.0011,  0.0012,  0.0009,  0.0010,  0.0004,\n",
       "         0.0003,  0.0006,  0.0005,  0.0018,  0.0014,  0.0007,  0.0009,  0.0021,\n",
       "         0.0018,  0.0008,  0.0007], grad_fn=<SelectBackward0>)"
      ]
     },
     "execution_count": 87,
     "metadata": {},
     "output_type": "execute_result"
    }
   ],
   "source": [
    "dlogits[0]"
   ]
  },
  {
   "cell_type": "code",
   "execution_count": 88,
   "id": "39985397-a4c6-40e1-89ce-fb57a9ba5c64",
   "metadata": {},
   "outputs": [
    {
     "data": {
      "image/png": "[encoded data removed]",
      "text/plain": [
       "<Figure size 800x800 with 1 Axes>"
      ]
     },
     "metadata": {},
     "output_type": "display_data"
    }
   ],
   "source": [
    "plt.figure(figsize=(8, 8))\n",
    "plt.imshow(dlogits.detach(), cmap='gray');\n",
    "# уменьшаем неверные вероятности, увеличиваем верную"
   ]
  },
  {
   "cell_type": "markdown",
   "id": "65c55ffb-f130-4c95-8ba4-048670d10cb0",
   "metadata": {},
   "source": [
    "# Упражнение 3"
   ]
  },
  {
   "cell_type": "code",
   "execution_count": 89,
   "id": "e069b8d8-390d-4eb4-95cd-bfd948800ee9",
   "metadata": {},
   "outputs": [
    {
     "name": "stdout",
     "output_type": "stream",
     "text": [
      "max diff: tensor(4.7684e-07, grad_fn=<MaxBackward1>)\n"
     ]
    }
   ],
   "source": [
    "# Градиенты батч нормализации\n",
    "\n",
    "# Exercise 3: backprop through batchnorm but all in one go\n",
    "# to complete this challenge look at the mathematical expression of the output of batchnorm,\n",
    "# take the derivative w.r.t. its input, simplify the expression, and just write it out\n",
    "# BatchNorm paper: https://arxiv.org/abs/1502.03167\n",
    "\n",
    "# forward pass\n",
    "\n",
    "# before:\n",
    "# bnmeani = 1/n*hprebn.sum(0, keepdim=True)\n",
    "# bndiff = hprebn - bnmeani\n",
    "# bndiff2 = bndiff**2\n",
    "# bnvar = 1/(n-1)*(bndiff2).sum(0, keepdim=True) # note: Bessel's correction (dividing by n-1, not n)\n",
    "# bnvar_inv = (bnvar + 1e-5)**-0.5\n",
    "# bnraw = bndiff * bnvar_inv\n",
    "# hpreact = bngain * bnraw + bnbias\n",
    "\n",
    "# now:\n",
    "hpreact_fast = bngain * (hprebn - hprebn.mean(0, keepdim=True)) / torch.sqrt(hprebn.var(0, keepdim=True, unbiased=True) + 1e-5) + bnbias\n",
    "print('max diff:', (hpreact_fast - hpreact).abs().max())"
   ]
  },
  {
   "cell_type": "markdown",
   "id": "f8fedcf0-a393-4240-b1b2-85087bc3d74e",
   "metadata": {},
   "source": [
    "### dhprebn = ???"
   ]
  },
  {
   "cell_type": "code",
   "execution_count": 90,
   "id": "093ba132-d9b8-40f0-aa09-f69a0a731681",
   "metadata": {},
   "outputs": [
    {
     "name": "stdout",
     "output_type": "stream",
     "text": [
      "hprebn          | exact: False | approximate: True  | maxdiff: 9.313225746154785e-10\n"
     ]
    }
   ],
   "source": [
    "# backward pass\n",
    "dhprebn = bngain*bnvar_inv/n * (n*dhpreact - dhpreact.sum(0) - n/(n-1)*bnraw*(dhpreact*bnraw).sum(0))\n",
    "# см видео за детальным объяснением\n",
    "# -----------------\n",
    "\n",
    "cmp('hprebn', dhprebn, hprebn)"
   ]
  },
  {
   "cell_type": "markdown",
   "id": "3a9cf63c-6115-447c-ba41-f709a2730f21",
   "metadata": {},
   "source": [
    "# Упражнение 4"
   ]
  },
  {
   "cell_type": "code",
   "execution_count": 91,
   "id": "7ec231b1-551f-492c-89b4-d62bdbff3255",
   "metadata": {},
   "outputs": [],
   "source": [
    "# Обучим нейронную сеть без loss.backward()"
   ]
  },
  {
   "cell_type": "code",
   "execution_count": 92,
   "id": "a98f0ada-9cbe-4f37-8838-21bb4519a488",
   "metadata": {},
   "outputs": [
    {
     "name": "stdout",
     "output_type": "stream",
     "text": [
      "12297\n"
     ]
    }
   ],
   "source": [
    "n_embd = 10\n",
    "n_hidden = 200\n",
    "\n",
    "g = torch.Generator().manual_seed(2147483647)\n",
    "C = torch.randn((vocab_size, n_embd) , generator=g)  # embeddings\n",
    "# 1 слой\n",
    "W1 = torch.randn((n_embd*block_size, n_hidden) , generator=g) * (5/3)/((n_embd*block_size)**0.5)  # weights of 1 layer\n",
    "b1 = torch.randn(n_hidden , generator=g) * 0.1  # bias of 1 layer, с batchnorm он бесполезен, используем просто так\n",
    "# 2 слой\n",
    "W2 = torch.randn((n_hidden, vocab_size) , generator=g) * 0.1  # weights of 2 layer\n",
    "b2 = torch.randn(vocab_size , generator=g) * 0.1  # bias of 2 layer\n",
    "# bacthnorm\n",
    "bngain = torch.ones((1, n_hidden))  # масштаб batchnorm\n",
    "bnbias = torch.zeros((1, n_hidden))  # смещение batchnorm\n",
    "\n",
    "# Инциализируем параметры нестандартно, потому что с инициализацией нулями нам будет трудно убедиться, что мы правильно посчитали градиенты\n",
    "\n",
    "parameters = [C, W1, b1, W2, b2, bngain, bnbias]  # all the parameters\n",
    "print(sum(p.nelement() for p in parameters))\n",
    "\n",
    "for p in parameters:\n",
    "    p.requires_grad = True"
   ]
  },
  {
   "cell_type": "code",
   "execution_count": 93,
   "id": "aa873c63-fe2a-4ef3-91bc-3510804890fb",
   "metadata": {},
   "outputs": [
    {
     "name": "stdout",
     "output_type": "stream",
     "text": [
      "      0/ 200000: 3.7377\n",
      "  10000/ 200000: 2.0695\n",
      "  20000/ 200000: 1.9583\n",
      "  30000/ 200000: 2.3761\n",
      "  40000/ 200000: 2.0244\n",
      "  50000/ 200000: 1.9043\n",
      "  60000/ 200000: 2.1818\n",
      "  70000/ 200000: 2.2578\n",
      "  80000/ 200000: 1.9693\n",
      "  90000/ 200000: 2.5467\n",
      " 100000/ 200000: 2.0870\n",
      " 110000/ 200000: 2.1258\n",
      " 120000/ 200000: 2.0843\n",
      " 130000/ 200000: 2.3504\n",
      " 140000/ 200000: 2.3494\n",
      " 150000/ 200000: 2.0417\n",
      " 160000/ 200000: 2.3458\n",
      " 170000/ 200000: 1.8615\n",
      " 180000/ 200000: 1.9776\n",
      " 190000/ 200000: 1.8469\n"
     ]
    }
   ],
   "source": [
    "max_steps = 200000\n",
    "batch_size = 64\n",
    "n = batch_size\n",
    "lossi = []\n",
    "\n",
    "with torch.no_grad():\n",
    "    for i in range(max_steps):\n",
    "        \n",
    "        # minibatch construct\n",
    "        ix = torch.randint(0, Xtr.shape[0], (batch_size, ))\n",
    "        Xb, Yb = Xtr[ix], Ytr[ix]\n",
    "        # forward pass\n",
    "        # разрезан на более подробные кусочки, чтобы было удобно считать по каждому градиенты\n",
    "        \n",
    "        emb = C[Xb]  # [batch_size, block_size, embd], переводим индексы букв в векторы\n",
    "        embcat = emb.view(emb.shape[0], -1)  # [batch_size, embd*block_size], соединяем все векторы букв в один\n",
    "        \n",
    "        # Linear layer 1\n",
    "        hprebn = embcat @ W1 + b1  # преактивация скрытого слоя\n",
    "        \n",
    "        # BatchNorm Layer\n",
    "        bnmeani = 1/n*hprebn.sum(0, keepdim=True)  # запишем среднее на i итерации\n",
    "        bndiff = hprebn - bnmeani\n",
    "        bndiff2 = bndiff**2\n",
    "        bnvar = 1/(n-1)*(bndiff2).sum(0, keepdim=True)  # поправка на число степеней свободы n-1 не n\n",
    "        bnvar_inv = (bnvar + 1e-5)**-0.5\n",
    "        bnraw = bndiff * bnvar_inv\n",
    "        hpreact = bngain * bnraw + bnbias\n",
    "        \n",
    "        # Нелинейность\n",
    "        h = torch.tanh(hpreact)\n",
    "        \n",
    "        # Linear layer 2\n",
    "        logits = h @ W2 + b2  # [batch_size, vocab_size], выходной слой\n",
    "        \n",
    "        # cross entropy loss\n",
    "        logit_maxes = logits.max(1, keepdim=True).values  # считаем максимумы для каждого выхода\n",
    "        norm_logits = logits - logit_maxes  # вычитаем максимумы, тем самым повысим высилительную стабильнось без изменения результатаэ\n",
    "        counts = norm_logits.exp()\n",
    "        counts_sum = counts.sum(1, keepdim=True)\n",
    "        counts_sum_inv = counts_sum**-1\n",
    "        probs = counts * counts_sum_inv\n",
    "        logprobs = probs.log()\n",
    "        loss = -logprobs[range(n), Yb].mean()\n",
    "        \n",
    "        # backward pass\n",
    "        # подсчет градиентов\n",
    "        dlogprobs = torch.zeros_like(logprobs)\n",
    "        dlogprobs[range(n), Yb] = -1.0/n\n",
    "        dprobs = (1.0 / probs) * dlogprobs\n",
    "        dcounts_sum_inv = (counts * dprobs).sum(1, keepdim=True)\n",
    "        dcounts = counts_sum_inv * dprobs\n",
    "        dcounts_sum = (-counts_sum**-2) * dcounts_sum_inv\n",
    "        dcounts += torch.ones_like(counts) * dcounts_sum\n",
    "        dnorm_logits = counts * dcounts\n",
    "        dlogits = dnorm_logits.clone()\n",
    "        dlogit_maxes = (-dnorm_logits).sum(1, keepdim=True)\n",
    "        dlogits += F.one_hot(logits.max(1).indices, num_classes=logits.shape[1]) * dlogit_maxes\n",
    "        dh = dlogits @ W2.T\n",
    "        dW2 = h.T @ dlogits\n",
    "        db2 = dlogits.sum(0)\n",
    "        dhpreact = (1.0 - h**2) * dh\n",
    "        dbngain = (bnraw * dhpreact).sum(0, keepdim=True)\n",
    "        dbnraw = bngain * dhpreact\n",
    "        dbnbias = dhpreact.sum(0, keepdim=True)\n",
    "        dbndiff = bnvar_inv * dbnraw\n",
    "        dbnvar_inv = (bndiff * dbnraw).sum(0, keepdim=True)\n",
    "        dbnvar = (-0.5*(bnvar + 1e-5)**-1.5) * dbnvar_inv\n",
    "        dbndiff2 = (1.0/(n-1))*torch.ones_like(bndiff2) * dbnvar\n",
    "        dbndiff += (2*bndiff) * dbndiff2\n",
    "        dhprebn = dbndiff.clone()\n",
    "        dbnmeani = (-dbndiff).sum(0)\n",
    "        dhprebn += 1.0/n * (torch.ones_like(hprebn) * dbnmeani)\n",
    "        dembcat = dhprebn @ W1.T\n",
    "        dW1 = embcat.T @ dhprebn\n",
    "        db1 = dhprebn.sum(0)\n",
    "        demb = dembcat.view(emb.shape)\n",
    "        dC = torch.zeros_like(C)\n",
    "        for k in range(Xb.shape[0]):\n",
    "          for j in range(Xb.shape[1]):\n",
    "            ix_ = Xb[k,j]\n",
    "            dC[ix_] += demb[k,j]\n",
    "        \n",
    "        grads = [dC, dW1, db1, dW2, db2, dbngain, dbnbias]\n",
    "        \n",
    "        # update\n",
    "        lr = 0.1 if i < 100000 else 0.01\n",
    "        for p, grad in zip(parameters, grads):\n",
    "            p.data += -lr * grad\n",
    "        \n",
    "        # track stats\n",
    "        if i % 10000 == 0:\n",
    "            print(f'{i:7d}/{max_steps:7d}: {loss.item():.4f}')\n",
    "        \n",
    "        lossi.append(loss.log10().item())"
   ]
  },
  {
   "cell_type": "code",
   "execution_count": 94,
   "id": "5f7f92ad-3e50-4144-ac8f-e9bd78777785",
   "metadata": {},
   "outputs": [],
   "source": [
    "# так как мы забыли про отслеживание скользящих статистик придется посчитать глобальные\n",
    "with torch.no_grad():\n",
    "    emb = C[Xtr]  # [batch_size, block_size, embd], переводим индексы букв в векторы\n",
    "    embcat = emb.view(emb.shape[0], -1)  # [batch_size, embd*block_size], соединяем все векторы букв в один\n",
    "    hprebn = embcat @ W1 + b1  # преактивация скрытого слоя\n",
    "    # замерим среднее значение и стандартное отклонение 1 раз\n",
    "    bnmean = hprebn.mean(0, keepdim=True)\n",
    "    bnvar = hprebn.var(0, keepdim=True)"
   ]
  },
  {
   "cell_type": "code",
   "execution_count": 97,
   "id": "37df5fbb-0520-4d26-80a0-1ce58e6281c8",
   "metadata": {},
   "outputs": [
    {
     "name": "stdout",
     "output_type": "stream",
     "text": [
      "train 2.045433521270752\n",
      "val 2.0989956855773926\n"
     ]
    }
   ],
   "source": [
    "@torch.no_grad()  # декоратор отключает отслеживание градиентов\n",
    "def split_loss(split):\n",
    "    x, y = {\n",
    "        'train': (Xtr, Ytr),\n",
    "        'val': (Xdev, Ydev),\n",
    "        'test': (Xte, Yte)\n",
    "    }[split]\n",
    "    emb = C[x]  # [batch_size, block_size, embd], переводим индексы букв в векторы\n",
    "    embcat = emb.view(emb.shape[0], -1)  # [batch_size, embd*block_size], соединяем все векторы букв в один\n",
    "    \n",
    "    # Linear layer 1\n",
    "    hprebn = embcat @ W1 + b1  # преактивация скрытого слоя\n",
    "    \n",
    "    # BatchNorm Layer, но используем глобальные статистики\n",
    "    bndiff = hprebn - bnmean\n",
    "    bnvar_inv = (bnvar + 1e-5)**-0.5\n",
    "    bnraw = bndiff * bnvar_inv\n",
    "    hpreact = bngain * bnraw + bnbias\n",
    "    \n",
    "    # Нелинейность\n",
    "    h = torch.tanh(hpreact)\n",
    "    \n",
    "    # Linear layer 2\n",
    "    logits = h @ W2 + b2  # [batch_size, vocab_size], выходной слой\n",
    "    \n",
    "    # cross entropy loss\n",
    "    logit_maxes = logits.max(1, keepdim=True).values  # считаем максимумы для каждого выхода\n",
    "    norm_logits = logits - logit_maxes  # вычитаем максимумы, тем самым повысим высилительную стабильнось без изменения результатаэ\n",
    "    counts = norm_logits.exp()\n",
    "    counts_sum = counts.sum(1, keepdim=True)\n",
    "    counts_sum_inv = counts_sum**-1\n",
    "    probs = counts * counts_sum_inv\n",
    "    logprobs = probs.log()\n",
    "    loss = -logprobs[range(len(x)), y].mean()\n",
    "    print(split, loss.item())\n",
    "\n",
    "split_loss('train')\n",
    "split_loss('val')"
   ]
  },
  {
   "cell_type": "code",
   "execution_count": null,
   "id": "490f0dd5-8bcd-48ad-9f14-4e3c42b6cb52",
   "metadata": {},
   "outputs": [],
   "source": []
  }
 ],
 "metadata": {
  "kernelspec": {
   "display_name": "yandex_nlp",
   "language": "python",
   "name": "yandex_nlp"
  },
  "language_info": {
   "codemirror_mode": {
    "name": "ipython",
    "version": 3
   },
   "file_extension": ".py",
   "mimetype": "text/x-python",
   "name": "python",
   "nbconvert_exporter": "python",
   "pygments_lexer": "ipython3",
   "version": "3.9.13"
  }
 },
 "nbformat": 4,
 "nbformat_minor": 5
}
