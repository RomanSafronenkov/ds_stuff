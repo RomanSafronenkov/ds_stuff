{
 "cells": [
  {
   "cell_type": "code",
   "execution_count": 1,
   "id": "1f35fabc-73e6-4967-8ba3-1cfdc724f914",
   "metadata": {},
   "outputs": [],
   "source": [
    "# вернемся к части 3 и скопируем оттуда стартовый код"
   ]
  },
  {
   "cell_type": "code",
   "execution_count": 2,
   "id": "86f1ef71-ecd3-4591-9c28-996af2d18072",
   "metadata": {},
   "outputs": [],
   "source": [
    "import torch\n",
    "import torch.nn.functional as F\n",
    "import matplotlib.pyplot as plt\n",
    "%matplotlib inline"
   ]
  },
  {
   "cell_type": "code",
   "execution_count": 3,
   "id": "f9fe1fa1-e028-4994-b9f1-622107677882",
   "metadata": {},
   "outputs": [
    {
     "data": {
      "text/plain": [
       "(32033,\n",
       " ['emma', 'olivia', 'ava', 'isabella', 'sophia', 'charlotte', 'mia', 'amelia'])"
      ]
     },
     "execution_count": 3,
     "metadata": {},
     "output_type": "execute_result"
    }
   ],
   "source": [
    "with open('names.txt', 'r') as f:\n",
    "    words = f.read().splitlines()\n",
    "len(words), words[:8]"
   ]
  },
  {
   "cell_type": "code",
   "execution_count": 4,
   "id": "c4ff361d-23a2-4a8a-ac91-1634a82796c7",
   "metadata": {},
   "outputs": [
    {
     "name": "stdout",
     "output_type": "stream",
     "text": [
      "{1: 'a', 2: 'b', 3: 'c', 4: 'd', 5: 'e', 6: 'f', 7: 'g', 8: 'h', 9: 'i', 10: 'j', 11: 'k', 12: 'l', 13: 'm', 14: 'n', 15: 'o', 16: 'p', 17: 'q', 18: 'r', 19: 's', 20: 't', 21: 'u', 22: 'v', 23: 'w', 24: 'x', 25: 'y', 26: 'z', 0: '.'}\n"
     ]
    }
   ],
   "source": [
    "# построим словарь отображения из букв в индексы\n",
    "chars = sorted(list(set(''.join(words))))\n",
    "stoi = {s:i+1 for i, s in enumerate(chars)}\n",
    "stoi['.'] = 0\n",
    "# и наоборот\n",
    "itos = {i:s for s,i in stoi.items()}\n",
    "vocab_size = len(itos)\n",
    "print(itos)"
   ]
  },
  {
   "cell_type": "code",
   "execution_count": 5,
   "id": "69395095-2311-472c-a301-6956808331d1",
   "metadata": {},
   "outputs": [],
   "source": [
    "import random\n",
    "random.seed(42)\n",
    "random.shuffle(words)"
   ]
  },
  {
   "cell_type": "code",
   "execution_count": 6,
   "id": "d8f3253a-6544-4f01-8aea-93abc771c19b",
   "metadata": {},
   "outputs": [
    {
     "name": "stdout",
     "output_type": "stream",
     "text": [
      "torch.Size([182625, 3]) torch.Size([182625])\n",
      "torch.Size([22655, 3]) torch.Size([22655])\n",
      "torch.Size([22866, 3]) torch.Size([22866])\n"
     ]
    }
   ],
   "source": [
    "# построим датасет\n",
    "block_size = 3  # длина контекста: сколько букв учитывать при предсказании следующей буквы\n",
    "\n",
    "def build_dataset(words):\n",
    "    X, Y = [], []\n",
    "    \n",
    "    for w in words:\n",
    "        context = [0] * block_size\n",
    "        for ch in w + '.':\n",
    "            ix = stoi[ch]\n",
    "            X.append(context)\n",
    "            Y.append(ix)\n",
    "            context = context[1:] + [ix]  # обрезаем и добавляем\n",
    "    \n",
    "    X = torch.tensor(X)\n",
    "    Y = torch.tensor(Y)\n",
    "    print(X.shape, Y.shape)\n",
    "    return X, Y\n",
    "\n",
    "n1 = int(0.8*len(words))\n",
    "n2 = int(0.9*len(words))\n",
    "\n",
    "Xtr, Ytr = build_dataset(words[:n1])\n",
    "Xdev, Ydev = build_dataset(words[n1:n2])\n",
    "Xte, Yte = build_dataset(words[n2:])"
   ]
  },
  {
   "cell_type": "code",
   "execution_count": 7,
   "id": "4df68fea-60e0-4068-9315-719d76a8b587",
   "metadata": {},
   "outputs": [
    {
     "name": "stdout",
     "output_type": "stream",
     "text": [
      "... --> y\n",
      "..y --> u\n",
      ".yu --> h\n",
      "yuh --> e\n",
      "uhe --> n\n",
      "hen --> g\n",
      "eng --> .\n",
      "... --> d\n",
      "..d --> i\n",
      ".di --> o\n",
      "dio --> n\n",
      "ion --> d\n",
      "ond --> r\n",
      "ndr --> e\n",
      "dre --> .\n",
      "... --> x\n",
      "..x --> a\n",
      ".xa --> v\n",
      "xav --> i\n",
      "avi --> e\n"
     ]
    }
   ],
   "source": [
    "for x, y in zip(Xtr[:20], Ytr[:20]):\n",
    "    print(''.join(itos[ix.item()] for ix in x), '-->', itos[y.item()])"
   ]
  },
  {
   "cell_type": "code",
   "execution_count": 25,
   "id": "2a2ddc9b-5f5a-4e43-b005-1784091a0d1d",
   "metadata": {},
   "outputs": [],
   "source": [
    "class Linear:\n",
    "    def __init__(self, fan_in, fan_out, bias=True):\n",
    "        self.weight = torch.randn((fan_in, fan_out)) / fan_in**0.5\n",
    "        self.bias = torch.zeros(fan_out) if bias else None\n",
    "\n",
    "    def __call__(self, x):\n",
    "        self.out = x @ self.weight\n",
    "        if self.bias is not None:\n",
    "            self.out += self.bias\n",
    "\n",
    "        return self.out\n",
    "\n",
    "    def parameters(self):\n",
    "        return [self.weight] + ([] if self.bias is None else [self.bias])\n",
    "\n",
    "\n",
    "class BatchNorm1d:\n",
    "    def __init__(self, dim, eps=1e-5, momentum=0.1):\n",
    "        self.eps = eps\n",
    "        self.momentum = momentum\n",
    "        self.training = True  # дополнительный флаг, который говорит нам, находимся ли мы сейчас в режиме обучения\n",
    "        # parameters trained with backprop\n",
    "        self.gamma = torch.ones(dim)\n",
    "        self.beta = torch.zeros(dim)\n",
    "        # buffers (trained with a running update)\n",
    "        self.running_mean = torch.zeros(dim)\n",
    "        self.running_var = torch.ones(dim)\n",
    "\n",
    "    def __call__(self, x):\n",
    "        if self.training:\n",
    "            xmean = x.mean(0, keepdim=True)  # среднее по батчу во время обучения\n",
    "            xvar = x.var(0, keepdim=True, unbiased=True)  # дисперсия по батчу во время обучения\n",
    "        else:\n",
    "            xmean = self.running_mean  # среднее, которое используем на инференсе\n",
    "            xvar = self.running_var\n",
    "\n",
    "        xhat = (x - xmean) / torch.sqrt(xvar + self.eps)  # нормализуем вход\n",
    "        self.out = self.gamma * xhat + self.beta\n",
    "        # обновим буфферы\n",
    "        if self.training:\n",
    "            with torch.no_grad():\n",
    "                self.running_mean = (1 - self.momentum) * self.running_mean + self.momentum * xmean\n",
    "                self.running_var = (1 - self.momentum) * self.running_var + self.momentum * xvar\n",
    "\n",
    "        return self.out\n",
    "\n",
    "    def parameters(self):\n",
    "        return [self.gamma, self.beta]\n",
    "\n",
    "\n",
    "class Tanh:\n",
    "    def __call__(self, x):\n",
    "        self.out = torch.tanh(x)\n",
    "        return self.out\n",
    "\n",
    "    def parameters(self):\n",
    "        return []"
   ]
  },
  {
   "cell_type": "code",
   "execution_count": 26,
   "id": "fc2c998d-d100-448b-b459-f1a126a243ac",
   "metadata": {},
   "outputs": [
    {
     "data": {
      "text/plain": [
       "<torch._C.Generator at 0x22770d86ab0>"
      ]
     },
     "execution_count": 26,
     "metadata": {},
     "output_type": "execute_result"
    }
   ],
   "source": [
    "torch.manual_seed(42)"
   ]
  },
  {
   "cell_type": "code",
   "execution_count": 27,
   "id": "ec85d217-8b1e-44cc-8b7a-f4f715662998",
   "metadata": {},
   "outputs": [
    {
     "name": "stdout",
     "output_type": "stream",
     "text": [
      "12097\n"
     ]
    }
   ],
   "source": [
    "n_embd = 10  # размер эмбеддинга\n",
    "n_hidden = 200  # число нейронов в скрытом слое сети\n",
    "\n",
    "C = torch.randn((vocab_size, n_embd))\n",
    "layers = [\n",
    "    Linear(n_embd*block_size, n_hidden, bias=False), BatchNorm1d(n_hidden), Tanh(),\n",
    "    Linear(n_hidden, vocab_size) \n",
    "]\n",
    "\n",
    "with torch.no_grad():\n",
    "    # сделать менее уверенным softmax\n",
    "    layers[-1].weight *= 0.1\n",
    "\n",
    "parameters = [C] + [p for layer in layers for p in layer.parameters()]\n",
    "print(sum(p.nelement() for p in parameters))\n",
    "for p in parameters:\n",
    "    p.requires_grad = True"
   ]
  },
  {
   "cell_type": "code",
   "execution_count": 28,
   "id": "db8cbcd0-ed34-4eb3-86a2-adf181902c65",
   "metadata": {},
   "outputs": [
    {
     "name": "stdout",
     "output_type": "stream",
     "text": [
      "      0/ 200000: 3.2966\n",
      "  10000/ 200000: 2.2322\n",
      "  20000/ 200000: 2.4111\n",
      "  30000/ 200000: 2.1004\n",
      "  40000/ 200000: 2.3157\n",
      "  50000/ 200000: 2.2104\n",
      "  60000/ 200000: 1.9653\n",
      "  70000/ 200000: 1.9767\n",
      "  80000/ 200000: 2.6738\n",
      "  90000/ 200000: 2.0837\n",
      " 100000/ 200000: 2.2730\n",
      " 110000/ 200000: 1.7491\n",
      " 120000/ 200000: 2.2891\n",
      " 130000/ 200000: 2.3443\n",
      " 140000/ 200000: 2.1731\n",
      " 150000/ 200000: 1.8246\n",
      " 160000/ 200000: 1.7614\n",
      " 170000/ 200000: 2.2419\n",
      " 180000/ 200000: 2.0803\n",
      " 190000/ 200000: 2.1326\n"
     ]
    }
   ],
   "source": [
    "max_steps = 200000\n",
    "batch_size = 32\n",
    "lossi = []\n",
    "\n",
    "for i in range(max_steps):\n",
    "\n",
    "    # minibatch construct\n",
    "    ix = torch.randint(0, Xtr.shape[0], (batch_size, ))\n",
    "    Xb, Yb = Xtr[ix], Ytr[ix]  # батчи\n",
    "\n",
    "    # forward pass\n",
    "    emb = C[Xb]  # получаем эмбеддинги букв\n",
    "    x = emb.view(emb.shape[0], -1)  # соединяем векторы букв\n",
    "    for layer in layers:\n",
    "        x = layer(x)\n",
    "    loss = F.cross_entropy(x, Yb)  # считаем лосс\n",
    "\n",
    "    # backward pass\n",
    "    for p in parameters:\n",
    "        p.grad = None\n",
    "    loss.backward()\n",
    "\n",
    "    # update\n",
    "    lr = 0.1 if i < 150000 else 0.01\n",
    "    for p in parameters:\n",
    "        p.data += -lr * p.grad\n",
    "\n",
    "    # track stats\n",
    "    if i % 10000 == 0:\n",
    "        print(f'{i:7d}/{max_steps:7d}: {loss.item():.4f}')\n",
    "    lossi.append(loss.log10().item())"
   ]
  },
  {
   "cell_type": "code",
   "execution_count": 29,
   "id": "f36db0ed-643a-4d78-b19f-c1e33b625f11",
   "metadata": {},
   "outputs": [
    {
     "data": {
      "image/png": "[encoded data removed]",
      "text/plain": [
       "<Figure size 640x480 with 1 Axes>"
      ]
     },
     "metadata": {},
     "output_type": "display_data"
    }
   ],
   "source": [
    "plt.plot(lossi);"
   ]
  },
  {
   "cell_type": "code",
   "execution_count": 30,
   "id": "dce6488e-423f-4e37-b658-86c8b9e33faf",
   "metadata": {},
   "outputs": [],
   "source": [
    "# переведем слои с режим eval, особенно необходимо для batchnorm\n",
    "for layer in layers:\n",
    "    layer.training = False"
   ]
  },
  {
   "cell_type": "code",
   "execution_count": 31,
   "id": "1a504201-13c2-4ccb-a844-d1fb8993a9a5",
   "metadata": {},
   "outputs": [
    {
     "name": "stdout",
     "output_type": "stream",
     "text": [
      "train 2.0583252906799316\n",
      "val 2.1065292358398438\n"
     ]
    }
   ],
   "source": [
    "# замерим лосс\n",
    "@torch.no_grad()  # декоратор отключает отслеживание градиентов\n",
    "def split_loss(split):\n",
    "    x, y = {\n",
    "        'train': (Xtr, Ytr),\n",
    "        'val': (Xdev, Ydev),\n",
    "        'test': (Xte, Yte)\n",
    "    }[split]\n",
    "    emb = C[x]  # получаем эмбеддинги букв\n",
    "    x = emb.view(emb.shape[0], -1)  # соединяем векторы букв\n",
    "    for layer in layers:\n",
    "        x = layer(x)\n",
    "    loss = F.cross_entropy(x, y)  # считаем лосс\n",
    "    print(split, loss.item())\n",
    "\n",
    "split_loss('train')\n",
    "split_loss('val')"
   ]
  },
  {
   "cell_type": "code",
   "execution_count": 33,
   "id": "df3b3aed-b01a-4319-bf61-4563c432f4ab",
   "metadata": {},
   "outputs": [
    {
     "name": "stdout",
     "output_type": "stream",
     "text": [
      "damiara.\n",
      "alyzah.\n",
      "fard.\n",
      "azalee.\n",
      "sayah.\n",
      "ayvi.\n",
      "reino.\n",
      "sophemuellani.\n",
      "ciaub.\n",
      "alith.\n",
      "sira.\n",
      "liza.\n",
      "jah.\n",
      "grancealynna.\n",
      "jamaur.\n",
      "ben.\n",
      "quan.\n",
      "torie.\n",
      "coria.\n",
      "cer.\n"
     ]
    }
   ],
   "source": [
    "for _ in range(20):\n",
    "\n",
    "    out = []\n",
    "    context = [0] * block_size  # сначала у нас только фиктивные буквы \"...\"\n",
    "    while True:\n",
    "        emb = C[torch.tensor([context])]  # [1, block_size, embd]\n",
    "        x = emb.view(emb.shape[0], -1)  # соединяем векторы букв\n",
    "        for layer in layers:\n",
    "            x = layer(x)\n",
    "            \n",
    "        logits = x\n",
    "        probs = F.softmax(logits, dim=1)\n",
    "        ix = torch.multinomial(probs, num_samples=1).item()\n",
    "        context = context[1:] + [ix]\n",
    "        out.append(ix)\n",
    "        if ix == 0:\n",
    "            break\n",
    "\n",
    "    print(''.join(itos[i] for i in out))"
   ]
  },
  {
   "cell_type": "markdown",
   "id": "4a7f28d3-3855-48e6-9c8b-ff038169da25",
   "metadata": {},
   "source": [
    "# Начнем исправлять модель"
   ]
  },
  {
   "cell_type": "markdown",
   "id": "57bf4d54-b1f1-4bc7-b0bb-a2518f67f52c",
   "metadata": {},
   "source": [
    "## для начала поправим график лосса, он толстый"
   ]
  },
  {
   "cell_type": "code",
   "execution_count": 35,
   "id": "26c7f84c-3cb7-414e-8110-35d70ce06e7c",
   "metadata": {},
   "outputs": [
    {
     "data": {
      "text/plain": [
       "[0.5180676579475403,\n",
       " 0.5164594054222107,\n",
       " 0.507362961769104,\n",
       " 0.507546603679657,\n",
       " 0.4992470443248749,\n",
       " 0.5014019012451172,\n",
       " 0.5049523115158081,\n",
       " 0.48866209387779236,\n",
       " 0.4999050199985504,\n",
       " 0.4899313449859619]"
      ]
     },
     "execution_count": 35,
     "metadata": {},
     "output_type": "execute_result"
    }
   ],
   "source": [
    "lossi[:10]"
   ]
  },
  {
   "cell_type": "code",
   "execution_count": 37,
   "id": "cd2d4b43-f55d-46bf-9f5c-7ebad410dc7e",
   "metadata": {},
   "outputs": [
    {
     "data": {
      "text/plain": [
       "tensor([[0, 1, 2, 3, 4],\n",
       "        [5, 6, 7, 8, 9]])"
      ]
     },
     "execution_count": 37,
     "metadata": {},
     "output_type": "execute_result"
    }
   ],
   "source": [
    "torch.arange(10).view(2, 5)"
   ]
  },
  {
   "cell_type": "code",
   "execution_count": 40,
   "id": "a1f161f5-2e1a-4b8f-aa00-33463e80ebf0",
   "metadata": {},
   "outputs": [
    {
     "data": {
      "image/png": "[encoded data removed]",
      "text/plain": [
       "<Figure size 640x480 with 1 Axes>"
      ]
     },
     "metadata": {},
     "output_type": "display_data"
    }
   ],
   "source": [
    "# берем 200000 итераций и нарезаем их по 1000, усредняем, на это графике видно, где мы уменьшили learning rate:)\n",
    "plt.plot(torch.tensor(lossi).view(-1, 1000).mean(1));"
   ]
  },
  {
   "cell_type": "markdown",
   "id": "4b0e82f6-836f-48fa-9cf2-ad77995e101c",
   "metadata": {},
   "source": [
    "## поправим слои"
   ]
  },
  {
   "cell_type": "code",
   "execution_count": 41,
   "id": "ce8d6d20-00d5-45d4-848c-4bf370349ea3",
   "metadata": {},
   "outputs": [],
   "source": [
    "# мы создали список слоев, но почему-то C и операция по конкатенации не входит в этот список"
   ]
  },
  {
   "cell_type": "code",
   "execution_count": 42,
   "id": "e7eb8ebc-a3da-4ca6-abb4-bd9ed3851966",
   "metadata": {},
   "outputs": [],
   "source": [
    "class Embedding:\n",
    "    def __init__(self, num_embeddings, embedding_dim):\n",
    "        self.weight = torch.randn((num_embeddings, embedding_dim))\n",
    "\n",
    "    def __call__(self, IX):\n",
    "        self.out = self.weight[IX]\n",
    "        return self.out\n",
    "\n",
    "    def parameters(self):\n",
    "        return [self.weight]\n",
    "\n",
    "class Flatten:\n",
    "    def __call__(self, x):\n",
    "        self.out = x.view(x.shape[0], -1)\n",
    "        return self.out\n",
    "\n",
    "    def parameters(self):\n",
    "        return []"
   ]
  },
  {
   "cell_type": "code",
   "execution_count": 43,
   "id": "50c52024-9858-477b-bbc2-02a8e7c7eba8",
   "metadata": {},
   "outputs": [
    {
     "name": "stdout",
     "output_type": "stream",
     "text": [
      "12097\n"
     ]
    }
   ],
   "source": [
    "n_embd = 10  # размер эмбеддинга\n",
    "n_hidden = 200  # число нейронов в скрытом слое сети\n",
    "\n",
    "layers = [\n",
    "    Embedding(vocab_size, n_embd),\n",
    "    Flatten(),\n",
    "    Linear(n_embd*block_size, n_hidden, bias=False), BatchNorm1d(n_hidden), Tanh(),\n",
    "    Linear(n_hidden, vocab_size) \n",
    "]\n",
    "\n",
    "with torch.no_grad():\n",
    "    # сделать менее уверенным softmax\n",
    "    layers[-1].weight *= 0.1\n",
    "\n",
    "parameters = [p for layer in layers for p in layer.parameters()]\n",
    "print(sum(p.nelement() for p in parameters))\n",
    "for p in parameters:\n",
    "    p.requires_grad = True"
   ]
  },
  {
   "cell_type": "code",
   "execution_count": 44,
   "id": "6c7ca1a7-dc6b-42d1-9ba9-0a1d8a984668",
   "metadata": {},
   "outputs": [
    {
     "name": "stdout",
     "output_type": "stream",
     "text": [
      "      0/ 200000: 3.3055\n"
     ]
    }
   ],
   "source": [
    "max_steps = 200000\n",
    "batch_size = 32\n",
    "lossi = []\n",
    "\n",
    "for i in range(max_steps):\n",
    "\n",
    "    # minibatch construct\n",
    "    ix = torch.randint(0, Xtr.shape[0], (batch_size, ))\n",
    "    Xb, Yb = Xtr[ix], Ytr[ix]  # батчи\n",
    "\n",
    "    # forward pass\n",
    "    x = Xb \n",
    "    for layer in layers:\n",
    "        x = layer(x)\n",
    "    loss = F.cross_entropy(x, Yb)  # считаем лосс\n",
    "\n",
    "    # backward pass\n",
    "    for p in parameters:\n",
    "        p.grad = None\n",
    "    loss.backward()\n",
    "\n",
    "    # update\n",
    "    lr = 0.1 if i < 150000 else 0.01\n",
    "    for p in parameters:\n",
    "        p.data += -lr * p.grad\n",
    "\n",
    "    # track stats\n",
    "    if i % 10000 == 0:\n",
    "        print(f'{i:7d}/{max_steps:7d}: {loss.item():.4f}')\n",
    "    lossi.append(loss.log10().item())\n",
    "\n",
    "    break"
   ]
  },
  {
   "cell_type": "code",
   "execution_count": 45,
   "id": "0e758896-f7f7-479f-8bc5-48d66b3b1e3d",
   "metadata": {},
   "outputs": [],
   "source": [
    "# напишем свой Sequential, чтобы вызывать всю сеть как один слой без лишних циклов"
   ]
  },
  {
   "cell_type": "code",
   "execution_count": 46,
   "id": "ec31864d-b4b6-4f6c-a1d6-c9f25df332e6",
   "metadata": {},
   "outputs": [],
   "source": [
    "class Sequential:\n",
    "    def __init__(self, layers):\n",
    "        self.layers = layers\n",
    "\n",
    "    def __call__(self, x):\n",
    "        for layer in self.layers:\n",
    "            x = layer(x)\n",
    "\n",
    "        self.out = x\n",
    "        return self.out\n",
    "\n",
    "    def parameters(self):\n",
    "        return [p for layer in self.layers for p in layer.parameters()]"
   ]
  },
  {
   "cell_type": "code",
   "execution_count": 53,
   "id": "239769d7-290f-4266-8ce9-5f6bff327ee6",
   "metadata": {},
   "outputs": [
    {
     "name": "stdout",
     "output_type": "stream",
     "text": [
      "12097\n"
     ]
    }
   ],
   "source": [
    "n_embd = 10  # размер эмбеддинга\n",
    "n_hidden = 200  # число нейронов в скрытом слое сети\n",
    "\n",
    "model = Sequential([\n",
    "    Embedding(vocab_size, n_embd),\n",
    "    Flatten(),\n",
    "    Linear(n_embd*block_size, n_hidden, bias=False), BatchNorm1d(n_hidden), Tanh(),\n",
    "    Linear(n_hidden, vocab_size) \n",
    "])\n",
    "\n",
    "with torch.no_grad():\n",
    "    # сделать менее уверенным softmax\n",
    "    layers[-1].weight *= 0.1\n",
    "\n",
    "parameters = model.parameters()\n",
    "print(sum(p.nelement() for p in parameters))\n",
    "for p in parameters:\n",
    "    p.requires_grad = True"
   ]
  },
  {
   "cell_type": "code",
   "execution_count": 54,
   "id": "73ca3025-0fd1-4955-9a0f-e25d0489c685",
   "metadata": {},
   "outputs": [
    {
     "name": "stdout",
     "output_type": "stream",
     "text": [
      "      0/ 200000: 3.4268\n",
      "  10000/ 200000: 2.6704\n",
      "  20000/ 200000: 2.1433\n",
      "  30000/ 200000: 2.2168\n",
      "  40000/ 200000: 2.0847\n",
      "  50000/ 200000: 2.1472\n",
      "  60000/ 200000: 2.1448\n",
      "  70000/ 200000: 2.4502\n",
      "  80000/ 200000: 2.0554\n",
      "  90000/ 200000: 2.0288\n",
      " 100000/ 200000: 1.8362\n",
      " 110000/ 200000: 2.4535\n",
      " 120000/ 200000: 2.5425\n",
      " 130000/ 200000: 2.0663\n",
      " 140000/ 200000: 2.2757\n",
      " 150000/ 200000: 2.2964\n",
      " 160000/ 200000: 2.2345\n",
      " 170000/ 200000: 1.9848\n",
      " 180000/ 200000: 2.0163\n",
      " 190000/ 200000: 2.3230\n"
     ]
    }
   ],
   "source": [
    "max_steps = 200000\n",
    "batch_size = 32\n",
    "lossi = []\n",
    "\n",
    "for i in range(max_steps):\n",
    "\n",
    "    # minibatch construct\n",
    "    ix = torch.randint(0, Xtr.shape[0], (batch_size, ))\n",
    "    Xb, Yb = Xtr[ix], Ytr[ix]  # батчи\n",
    "\n",
    "    # forward pass\n",
    "    logits = model(Xb)\n",
    "    loss = F.cross_entropy(logits, Yb)  # считаем лосс\n",
    "\n",
    "    # backward pass\n",
    "    for p in parameters:\n",
    "        p.grad = None\n",
    "    loss.backward()\n",
    "\n",
    "    # update\n",
    "    lr = 0.1 if i < 150000 else 0.01\n",
    "    for p in parameters:\n",
    "        p.data += -lr * p.grad\n",
    "\n",
    "    # track stats\n",
    "    if i % 10000 == 0:\n",
    "        print(f'{i:7d}/{max_steps:7d}: {loss.item():.4f}')\n",
    "    lossi.append(loss.log10().item())"
   ]
  },
  {
   "cell_type": "code",
   "execution_count": 55,
   "id": "eadbf77f-6fa4-4cc9-9d28-ae19599a0af1",
   "metadata": {},
   "outputs": [
    {
     "data": {
      "image/png": "[encoded data removed]",
      "text/plain": [
       "<Figure size 640x480 with 1 Axes>"
      ]
     },
     "metadata": {},
     "output_type": "display_data"
    }
   ],
   "source": [
    "plt.plot(torch.tensor(lossi).view(-1, 1000).mean(1));"
   ]
  },
  {
   "cell_type": "code",
   "execution_count": 56,
   "id": "495d3f2f-80f8-481e-8c9f-3f93d3eb3888",
   "metadata": {},
   "outputs": [],
   "source": [
    "# все упрощается"
   ]
  },
  {
   "cell_type": "code",
   "execution_count": 57,
   "id": "225ec4ec-c2a6-4dca-be94-76acc3ff4d15",
   "metadata": {},
   "outputs": [],
   "source": [
    "# переведем слои с режим eval, особенно необходимо для batchnorm\n",
    "for layer in model.layers:\n",
    "    layer.training = False"
   ]
  },
  {
   "cell_type": "code",
   "execution_count": 58,
   "id": "e86e34a3-206a-4fdb-9436-6d8c70ca7a65",
   "metadata": {},
   "outputs": [
    {
     "name": "stdout",
     "output_type": "stream",
     "text": [
      "train 2.0593767166137695\n",
      "val 2.1061389446258545\n"
     ]
    }
   ],
   "source": [
    "# замерим лосс\n",
    "@torch.no_grad()  # декоратор отключает отслеживание градиентов\n",
    "def split_loss(split):\n",
    "    x, y = {\n",
    "        'train': (Xtr, Ytr),\n",
    "        'val': (Xdev, Ydev),\n",
    "        'test': (Xte, Yte)\n",
    "    }[split]\n",
    "    logits = model(x)\n",
    "    loss = F.cross_entropy(logits, y)  # считаем лосс\n",
    "    print(split, loss.item())\n",
    "\n",
    "split_loss('train')\n",
    "split_loss('val')"
   ]
  },
  {
   "cell_type": "code",
   "execution_count": 59,
   "id": "d9d0d791-793a-4084-8b08-df550a079b84",
   "metadata": {},
   "outputs": [
    {
     "name": "stdout",
     "output_type": "stream",
     "text": [
      "nee.\n",
      "damayana.\n",
      "radhy.\n",
      "sir.\n",
      "clea.\n",
      "amonzliny.\n",
      "robeysia.\n",
      "kasia.\n",
      "sorelyn.\n",
      "haeledicaedricky.\n",
      "nay.\n",
      "amaycee.\n",
      "pesco.\n",
      "jayoud.\n",
      "niyashmurionatheer.\n",
      "ryn.\n",
      "sebal.\n",
      "jourittessydie.\n",
      "nakha.\n",
      "zakley.\n"
     ]
    }
   ],
   "source": [
    "for _ in range(20):\n",
    "\n",
    "    out = []\n",
    "    context = [0] * block_size  # сначала у нас только фиктивные буквы \"...\"\n",
    "    while True:\n",
    "        logits = model(torch.tensor([context]))\n",
    "        probs = F.softmax(logits, dim=1)\n",
    "        ix = torch.multinomial(probs, num_samples=1).item()\n",
    "        context = context[1:] + [ix]\n",
    "        out.append(ix)\n",
    "        if ix == 0:\n",
    "            break\n",
    "\n",
    "    print(''.join(itos[i] for i in out))"
   ]
  },
  {
   "cell_type": "markdown",
   "id": "9156d696-c2ec-46b2-a337-9c56f587bd3c",
   "metadata": {},
   "source": [
    "# Строим WaveNet"
   ]
  },
  {
   "cell_type": "code",
   "execution_count": 60,
   "id": "d8833797-6a0b-470b-ad04-c9e13c8bdadf",
   "metadata": {},
   "outputs": [],
   "source": [
    "# пытаемся не пихать сразу все буквы в первый слой и потом строить из этого сеть"
   ]
  },
  {
   "cell_type": "code",
   "execution_count": 61,
   "id": "2c5f0ed7-4608-4f80-b3af-44310ed764f8",
   "metadata": {},
   "outputs": [],
   "source": [
    "# теперь возьмем 8 букв, а не 3, перестроим датасет\n",
    "# но все 8 букв мы не хотим сразу конкатенировать и пихать в первый слой, надо изменить подход"
   ]
  },
  {
   "cell_type": "code",
   "execution_count": 62,
   "id": "256e8538-4792-4129-a35a-5bbb2246fa83",
   "metadata": {},
   "outputs": [
    {
     "name": "stdout",
     "output_type": "stream",
     "text": [
      "torch.Size([182625, 8]) torch.Size([182625])\n",
      "torch.Size([22655, 8]) torch.Size([22655])\n",
      "torch.Size([22866, 8]) torch.Size([22866])\n"
     ]
    }
   ],
   "source": [
    "# построим датасет\n",
    "block_size = 8  # длина контекста: сколько букв учитывать при предсказании следующей буквы\n",
    "\n",
    "def build_dataset(words):\n",
    "    X, Y = [], []\n",
    "    \n",
    "    for w in words:\n",
    "        context = [0] * block_size\n",
    "        for ch in w + '.':\n",
    "            ix = stoi[ch]\n",
    "            X.append(context)\n",
    "            Y.append(ix)\n",
    "            context = context[1:] + [ix]  # обрезаем и добавляем\n",
    "    \n",
    "    X = torch.tensor(X)\n",
    "    Y = torch.tensor(Y)\n",
    "    print(X.shape, Y.shape)\n",
    "    return X, Y\n",
    "\n",
    "n1 = int(0.8*len(words))\n",
    "n2 = int(0.9*len(words))\n",
    "\n",
    "Xtr, Ytr = build_dataset(words[:n1])\n",
    "Xdev, Ydev = build_dataset(words[n1:n2])\n",
    "Xte, Yte = build_dataset(words[n2:])"
   ]
  },
  {
   "cell_type": "code",
   "execution_count": 63,
   "id": "6e3fdb8a-618a-4430-b90b-c28e29e1c0c5",
   "metadata": {},
   "outputs": [],
   "source": [
    "# но перед тем как мы попробуем менять архитектуру, что если мы просто возбмем и обучим текущую, будет ли лучше?"
   ]
  },
  {
   "cell_type": "code",
   "execution_count": 64,
   "id": "5ecffe95-d8c4-44cb-96bb-b1f1240118dd",
   "metadata": {},
   "outputs": [
    {
     "name": "stdout",
     "output_type": "stream",
     "text": [
      "22097\n"
     ]
    }
   ],
   "source": [
    "n_embd = 10  # размер эмбеддинга\n",
    "n_hidden = 200  # число нейронов в скрытом слое сети\n",
    "\n",
    "model = Sequential([\n",
    "    Embedding(vocab_size, n_embd),\n",
    "    Flatten(),\n",
    "    Linear(n_embd*block_size, n_hidden, bias=False), BatchNorm1d(n_hidden), Tanh(),\n",
    "    Linear(n_hidden, vocab_size) \n",
    "])\n",
    "\n",
    "with torch.no_grad():\n",
    "    # сделать менее уверенным softmax\n",
    "    layers[-1].weight *= 0.1\n",
    "\n",
    "parameters = model.parameters()\n",
    "print(sum(p.nelement() for p in parameters))\n",
    "for p in parameters:\n",
    "    p.requires_grad = True"
   ]
  },
  {
   "cell_type": "code",
   "execution_count": 65,
   "id": "e83eb3b7-6e44-495c-803f-96386bc5eb09",
   "metadata": {},
   "outputs": [
    {
     "name": "stdout",
     "output_type": "stream",
     "text": [
      "      0/ 200000: 3.3796\n",
      "  10000/ 200000: 2.2009\n",
      "  20000/ 200000: 2.0528\n",
      "  30000/ 200000: 2.0324\n",
      "  40000/ 200000: 1.8629\n",
      "  50000/ 200000: 1.9926\n",
      "  60000/ 200000: 2.3152\n",
      "  70000/ 200000: 1.9843\n",
      "  80000/ 200000: 1.5300\n",
      "  90000/ 200000: 2.0214\n",
      " 100000/ 200000: 2.1819\n",
      " 110000/ 200000: 1.7210\n",
      " 120000/ 200000: 1.5531\n",
      " 130000/ 200000: 1.7101\n",
      " 140000/ 200000: 2.2392\n",
      " 150000/ 200000: 2.0091\n",
      " 160000/ 200000: 2.0276\n",
      " 170000/ 200000: 1.5637\n",
      " 180000/ 200000: 2.0677\n",
      " 190000/ 200000: 1.9927\n"
     ]
    }
   ],
   "source": [
    "max_steps = 200000\n",
    "batch_size = 32\n",
    "lossi = []\n",
    "\n",
    "for i in range(max_steps):\n",
    "\n",
    "    # minibatch construct\n",
    "    ix = torch.randint(0, Xtr.shape[0], (batch_size, ))\n",
    "    Xb, Yb = Xtr[ix], Ytr[ix]  # батчи\n",
    "\n",
    "    # forward pass\n",
    "    logits = model(Xb)\n",
    "    loss = F.cross_entropy(logits, Yb)  # считаем лосс\n",
    "\n",
    "    # backward pass\n",
    "    for p in parameters:\n",
    "        p.grad = None\n",
    "    loss.backward()\n",
    "\n",
    "    # update\n",
    "    lr = 0.1 if i < 150000 else 0.01\n",
    "    for p in parameters:\n",
    "        p.data += -lr * p.grad\n",
    "\n",
    "    # track stats\n",
    "    if i % 10000 == 0:\n",
    "        print(f'{i:7d}/{max_steps:7d}: {loss.item():.4f}')\n",
    "    lossi.append(loss.log10().item())"
   ]
  },
  {
   "cell_type": "code",
   "execution_count": 66,
   "id": "8be8e71a-bf97-411a-ad07-349400304291",
   "metadata": {},
   "outputs": [
    {
     "data": {
      "image/png": "[encoded data removed]",
      "text/plain": [
       "<Figure size 640x480 with 1 Axes>"
      ]
     },
     "metadata": {},
     "output_type": "display_data"
    }
   ],
   "source": [
    "plt.plot(torch.tensor(lossi).view(-1, 1000).mean(1));"
   ]
  },
  {
   "cell_type": "code",
   "execution_count": 67,
   "id": "2dbce0ca-0880-4988-bfaf-efabe1cebb9f",
   "metadata": {},
   "outputs": [],
   "source": [
    "for layer in model.layers:\n",
    "    layer.training = False"
   ]
  },
  {
   "cell_type": "code",
   "execution_count": 68,
   "id": "13d312df-8a7f-4064-b4c0-05fce35fed8a",
   "metadata": {},
   "outputs": [
    {
     "name": "stdout",
     "output_type": "stream",
     "text": [
      "train 1.9162566661834717\n",
      "val 2.0248525142669678\n"
     ]
    }
   ],
   "source": [
    "split_loss('train')\n",
    "split_loss('val')"
   ]
  },
  {
   "cell_type": "code",
   "execution_count": 69,
   "id": "a8c858bf-21fb-40eb-ac23-fa0e6de6d6ac",
   "metadata": {},
   "outputs": [
    {
     "name": "stdout",
     "output_type": "stream",
     "text": [
      "navaya.\n",
      "joylani.\n",
      "arenn.\n",
      "zayda.\n",
      "isley.\n",
      "jona.\n",
      "lei.\n",
      "lygdon.\n",
      "matoi.\n",
      "pheozianne.\n",
      "zyon.\n",
      "atrimi.\n",
      "mari.\n",
      "gwen.\n",
      "muhamii.\n",
      "zystee.\n",
      "lionni.\n",
      "anai.\n",
      "dawsyn.\n",
      "zelih.\n"
     ]
    }
   ],
   "source": [
    "for _ in range(20):\n",
    "\n",
    "    out = []\n",
    "    context = [0] * block_size  # сначала у нас только фиктивные буквы \"...\"\n",
    "    while True:\n",
    "        logits = model(torch.tensor([context]))\n",
    "        probs = F.softmax(logits, dim=1)\n",
    "        ix = torch.multinomial(probs, num_samples=1).item()\n",
    "        context = context[1:] + [ix]\n",
    "        out.append(ix)\n",
    "        if ix == 0:\n",
    "            break\n",
    "\n",
    "    print(''.join(itos[i] for i in out))"
   ]
  },
  {
   "cell_type": "code",
   "execution_count": 70,
   "id": "25e1cfbe-c67c-4855-90b8-8cc138923973",
   "metadata": {},
   "outputs": [],
   "source": [
    "# стало немного лучше, будем отталкиваться от этого качества"
   ]
  },
  {
   "cell_type": "markdown",
   "id": "f2caacfc-2205-4eff-95df-873fbf6003eb",
   "metadata": {},
   "source": [
    "## проанализируем прямой проход"
   ]
  },
  {
   "cell_type": "code",
   "execution_count": 71,
   "id": "d11072a2-0350-4184-8a2e-930e67755b5e",
   "metadata": {},
   "outputs": [
    {
     "name": "stdout",
     "output_type": "stream",
     "text": [
      "torch.Size([4, 8])\n"
     ]
    },
    {
     "data": {
      "text/plain": [
       "tensor([[ 0,  0,  0,  0, 10,  1, 14,  5],\n",
       "        [ 0,  7,  5, 14, 20, 18,  5,  5],\n",
       "        [ 0,  0,  0,  8,  1, 18, 20,  1],\n",
       "        [ 0,  0,  0,  0,  0,  0, 19,  8]])"
      ]
     },
     "execution_count": 71,
     "metadata": {},
     "output_type": "execute_result"
    }
   ],
   "source": [
    "ix = torch.randint(0, Xtr.shape[0], (4,))  # посмотрим на батч из 4\n",
    "Xb, Yb = Xtr[ix], Ytr[ix]\n",
    "logits = model(Xb)\n",
    "print(Xb.shape)\n",
    "Xb"
   ]
  },
  {
   "cell_type": "code",
   "execution_count": 73,
   "id": "6050723a-3365-4966-8be2-bf9241b059ac",
   "metadata": {},
   "outputs": [
    {
     "data": {
      "text/plain": [
       "(torch.Size([4, 8, 10]), torch.Size([4, 80]), torch.Size([4, 200]))"
      ]
     },
     "execution_count": 73,
     "metadata": {},
     "output_type": "execute_result"
    }
   ],
   "source": [
    "# берем вход из 4 примеров длины 8\n",
    "# слой эмбеддинга выдает для каждого числа из 8 для каждого примера вектор длины 10\n",
    "# потом 8 эмбеддингов конкатенируются один за другим в последовательность длины 80\n",
    "# и линейный слой превращает это все в 200\n",
    "model.layers[0].out.shape, model.layers[1].out.shape, model.layers[2].out.shape"
   ]
  },
  {
   "cell_type": "code",
   "execution_count": 74,
   "id": "19af721f-2759-439c-af6d-631b3b619fa1",
   "metadata": {},
   "outputs": [
    {
     "data": {
      "text/plain": [
       "torch.Size([4, 200])"
      ]
     },
     "execution_count": 74,
     "metadata": {},
     "output_type": "execute_result"
    }
   ],
   "source": [
    "# в линейном слое происходит примерно так\n",
    "(torch.randn(4, 80) @ torch.randn(80, 200) + torch.randn(200)).shape"
   ]
  },
  {
   "cell_type": "code",
   "execution_count": 76,
   "id": "fcab30ea-8997-4d27-a7f4-0d2181e971cd",
   "metadata": {},
   "outputs": [
    {
     "data": {
      "text/plain": [
       "torch.Size([4, 5, 10, 200])"
      ]
     },
     "execution_count": 76,
     "metadata": {},
     "output_type": "execute_result"
    }
   ],
   "source": [
    "# но линейный слой мощнее, чем кажется, он работает не только с 2D входами\n",
    "(torch.randn(4, 5, 10, 80) @ torch.randn(80, 200) + torch.randn(200)).shape\n",
    "# магия в том, что линейный слой работает только с последней размерностью, остальные остаются неизменными\n",
    "# слой воспринимает все остальные размерности как просто размерность батча"
   ]
  },
  {
   "cell_type": "code",
   "execution_count": 77,
   "id": "4bbf0a7f-7a04-4a54-8517-a5a22aeef20f",
   "metadata": {},
   "outputs": [],
   "source": [
    "xx = torch.randn(4, 5, 10, 80)\n",
    "ww = torch.randn(80, 200)\n",
    "bb = torch.randn(200)\n",
    "oo = xx @ ww + bb"
   ]
  },
  {
   "cell_type": "code",
   "execution_count": 82,
   "id": "786f75b2-c7c9-40f0-ab95-4f13ae2e7395",
   "metadata": {},
   "outputs": [
    {
     "data": {
      "text/plain": [
       "(torch.Size([10, 200]), torch.Size([10, 80]))"
      ]
     },
     "execution_count": 82,
     "metadata": {},
     "output_type": "execute_result"
    }
   ],
   "source": [
    "oo[0, 0].shape, xx[0, 0].shape"
   ]
  },
  {
   "cell_type": "code",
   "execution_count": 87,
   "id": "0742f471-8b9a-40c9-8b1c-64c9529159af",
   "metadata": {},
   "outputs": [
    {
     "data": {
      "text/plain": [
       "tensor(True)"
      ]
     },
     "execution_count": 87,
     "metadata": {},
     "output_type": "execute_result"
    }
   ],
   "source": [
    "torch.all(xx[0, 0] @ ww + bb == oo[0, 0])\n",
    "# считается параллельно"
   ]
  },
  {
   "cell_type": "code",
   "execution_count": 88,
   "id": "b464c2b5-f1dd-441c-aa6f-62f5c7c35a82",
   "metadata": {},
   "outputs": [],
   "source": [
    "# это очень удобно, ведь мы не хотим загружать в сеть длинную склеенную последовательность\n",
    "# 1 2 3 4 5 6 7 8\n",
    "# теперь мы можем ввести новую размерность и подавать так\n",
    "# (1 2) (3 4) (5 6) (7 8)\n",
    "# и обработать параллельно эти группы"
   ]
  },
  {
   "cell_type": "code",
   "execution_count": 89,
   "id": "5a6b22bb-548b-4ba6-b3a0-56062545eb1e",
   "metadata": {},
   "outputs": [
    {
     "data": {
      "text/plain": [
       "torch.Size([4, 4, 200])"
      ]
     },
     "execution_count": 89,
     "metadata": {},
     "output_type": "execute_result"
    }
   ],
   "source": [
    "# теперь линейный вход принимает по 2 буквы (10 - размер эмбеддинга), но 4 группами\n",
    "(torch.randn(4, 4, 20) @ torch.randn(20, 200) + torch.randn(200)).shape"
   ]
  },
  {
   "cell_type": "code",
   "execution_count": 90,
   "id": "6cf3f307-9701-42bd-bed5-b257b05e044e",
   "metadata": {},
   "outputs": [],
   "source": [
    "# надо поменять линейный слой и Flatten слой"
   ]
  },
  {
   "cell_type": "code",
   "execution_count": 91,
   "id": "5de64cf5-2d4d-4b30-b820-aa57421ed5fa",
   "metadata": {},
   "outputs": [
    {
     "data": {
      "text/plain": [
       "([0, 2, 4, 6, 8], [1, 3, 5, 7, 9])"
      ]
     },
     "execution_count": 91,
     "metadata": {},
     "output_type": "execute_result"
    }
   ],
   "source": [
    "list(range(10))[::2], list(range(10))[1::2]"
   ]
  },
  {
   "cell_type": "code",
   "execution_count": 92,
   "id": "8b2f944a-110c-4171-bb17-959d1d3fc4ca",
   "metadata": {},
   "outputs": [
    {
     "data": {
      "text/plain": [
       "torch.Size([4, 4, 20])"
      ]
     },
     "execution_count": 92,
     "metadata": {},
     "output_type": "execute_result"
    }
   ],
   "source": [
    "e = torch.randn(4, 8, 10)  # хотим [4, 4, 20]\n",
    "torch.cat([e[:, ::2, :], e[:, 1::2, :]], dim=2).shape"
   ]
  },
  {
   "cell_type": "code",
   "execution_count": 95,
   "id": "a7287077-0cbf-41a1-aa26-9bb81411d83f",
   "metadata": {},
   "outputs": [
    {
     "data": {
      "text/plain": [
       "tensor(True)"
      ]
     },
     "execution_count": 95,
     "metadata": {},
     "output_type": "execute_result"
    }
   ],
   "source": [
    "(torch.cat([e[:, ::2, :], e[:, 1::2, :]], dim=2) == e.view(4, 4, 20)).all()"
   ]
  },
  {
   "cell_type": "code",
   "execution_count": 96,
   "id": "9a853ba2-e6d3-438c-81e5-82f5c61bebdf",
   "metadata": {},
   "outputs": [],
   "source": [
    "class FlattenConsecutive:\n",
    "    def __init__(self, n):\n",
    "        self.n = n\n",
    "        \n",
    "    def __call__(self, x):\n",
    "        B, T, C = x.shape\n",
    "        x = x.view(B, T//self.n, C*self.n)\n",
    "        if x.shape[1] == 1:\n",
    "            x = x.squeeze(1)\n",
    "        \n",
    "        self.out = x\n",
    "        return self.out\n",
    "\n",
    "    def parameters(self):\n",
    "        return []"
   ]
  },
  {
   "cell_type": "code",
   "execution_count": 101,
   "id": "baa9e150-6ede-42fe-b635-ad9cdb515fd9",
   "metadata": {},
   "outputs": [],
   "source": [
    "# проанализируем, что слой работает также как раньше при таких условиях"
   ]
  },
  {
   "cell_type": "code",
   "execution_count": 98,
   "id": "0345d1da-bfef-4589-9fb1-2cba7a619e78",
   "metadata": {},
   "outputs": [
    {
     "name": "stdout",
     "output_type": "stream",
     "text": [
      "22097\n"
     ]
    }
   ],
   "source": [
    "n_embd = 10  # размер эмбеддинга\n",
    "n_hidden = 200  # число нейронов в скрытом слое сети\n",
    "\n",
    "model = Sequential([\n",
    "    Embedding(vocab_size, n_embd),\n",
    "    FlattenConsecutive(block_size),\n",
    "    Linear(n_embd*block_size, n_hidden, bias=False), BatchNorm1d(n_hidden), Tanh(),\n",
    "    Linear(n_hidden, vocab_size) \n",
    "])\n",
    "\n",
    "with torch.no_grad():\n",
    "    # сделать менее уверенным softmax\n",
    "    layers[-1].weight *= 0.1\n",
    "\n",
    "parameters = model.parameters()\n",
    "print(sum(p.nelement() for p in parameters))\n",
    "for p in parameters:\n",
    "    p.requires_grad = True"
   ]
  },
  {
   "cell_type": "code",
   "execution_count": 99,
   "id": "161c6bd8-5e21-4d80-98c5-754e2b359453",
   "metadata": {},
   "outputs": [
    {
     "name": "stdout",
     "output_type": "stream",
     "text": [
      "torch.Size([4, 8])\n"
     ]
    },
    {
     "data": {
      "text/plain": [
       "tensor([[ 0,  0,  0,  0,  0,  0,  0,  2],\n",
       "        [14, 19, 20,  1, 14, 20,  9, 14],\n",
       "        [ 0,  0,  0,  0,  1, 14, 19,  8],\n",
       "        [ 0,  0,  0,  0,  1, 14,  9, 12]])"
      ]
     },
     "execution_count": 99,
     "metadata": {},
     "output_type": "execute_result"
    }
   ],
   "source": [
    "ix = torch.randint(0, Xtr.shape[0], (4,))  # посмотрим на батч из 4\n",
    "Xb, Yb = Xtr[ix], Ytr[ix]\n",
    "logits = model(Xb)\n",
    "print(Xb.shape)\n",
    "Xb"
   ]
  },
  {
   "cell_type": "code",
   "execution_count": 100,
   "id": "0a828f06-89a7-4ed6-9994-5973102cfbf6",
   "metadata": {},
   "outputs": [
    {
     "name": "stdout",
     "output_type": "stream",
     "text": [
      "Embedding : (4, 8, 10)\n",
      "FlattenConsecutive : (4, 80)\n",
      "Linear : (4, 200)\n",
      "BatchNorm1d : (4, 200)\n",
      "Tanh : (4, 200)\n",
      "Linear : (4, 27)\n"
     ]
    }
   ],
   "source": [
    "for layer in model.layers:\n",
    "    print(layer.__class__.__name__, ':', tuple(layer.out.shape))"
   ]
  },
  {
   "cell_type": "code",
   "execution_count": 102,
   "id": "2784b4d5-bb8d-4d3a-990f-d98a719d3206",
   "metadata": {},
   "outputs": [],
   "source": [
    "# поменяем теперь на нашу идею"
   ]
  },
  {
   "cell_type": "code",
   "execution_count": 106,
   "id": "f96c085e-170d-41e5-bbe1-29d03fff6b21",
   "metadata": {},
   "outputs": [
    {
     "name": "stdout",
     "output_type": "stream",
     "text": [
      "22397\n"
     ]
    }
   ],
   "source": [
    "n_embd = 10  # размер эмбеддинга\n",
    "n_hidden = 68  # число нейронов в скрытом слое сети\n",
    "\n",
    "model = Sequential([\n",
    "    Embedding(vocab_size, n_embd),\n",
    "    FlattenConsecutive(2), Linear(n_embd*2, n_hidden, bias=False), BatchNorm1d(n_hidden), Tanh(),\n",
    "    FlattenConsecutive(2), Linear(n_hidden*2, n_hidden, bias=False), BatchNorm1d(n_hidden), Tanh(),\n",
    "    FlattenConsecutive(2), Linear(n_hidden*2, n_hidden, bias=False), BatchNorm1d(n_hidden), Tanh(),\n",
    "    Linear(n_hidden, vocab_size) \n",
    "])\n",
    "\n",
    "with torch.no_grad():\n",
    "    # сделать менее уверенным softmax\n",
    "    layers[-1].weight *= 0.1\n",
    "\n",
    "parameters = model.parameters()\n",
    "print(sum(p.nelement() for p in parameters))\n",
    "for p in parameters:\n",
    "    p.requires_grad = True"
   ]
  },
  {
   "cell_type": "code",
   "execution_count": 107,
   "id": "8a93a4df-667d-42db-8150-dbc700ac3f84",
   "metadata": {},
   "outputs": [
    {
     "name": "stdout",
     "output_type": "stream",
     "text": [
      "torch.Size([4, 8])\n"
     ]
    },
    {
     "data": {
      "text/plain": [
       "tensor([[ 0,  0,  0,  0,  0,  0,  0,  5],\n",
       "        [ 0,  0,  0,  0,  0, 22,  9,  1],\n",
       "        [ 0,  0,  0,  0, 11, 14, 15, 24],\n",
       "        [ 0,  0,  1,  1, 18, 25,  1,  8]])"
      ]
     },
     "execution_count": 107,
     "metadata": {},
     "output_type": "execute_result"
    }
   ],
   "source": [
    "ix = torch.randint(0, Xtr.shape[0], (4,))  # посмотрим на батч из 4\n",
    "Xb, Yb = Xtr[ix], Ytr[ix]\n",
    "logits = model(Xb)\n",
    "print(Xb.shape)\n",
    "Xb"
   ]
  },
  {
   "cell_type": "code",
   "execution_count": 108,
   "id": "da722ca7-5e8c-4b6e-9cb6-45753b26c67f",
   "metadata": {},
   "outputs": [
    {
     "name": "stdout",
     "output_type": "stream",
     "text": [
      "Embedding : (4, 8, 10)\n",
      "FlattenConsecutive : (4, 4, 20)\n",
      "Linear : (4, 4, 68)\n",
      "BatchNorm1d : (4, 4, 68)\n",
      "Tanh : (4, 4, 68)\n",
      "FlattenConsecutive : (4, 2, 136)\n",
      "Linear : (4, 2, 68)\n",
      "BatchNorm1d : (4, 2, 68)\n",
      "Tanh : (4, 2, 68)\n",
      "FlattenConsecutive : (4, 136)\n",
      "Linear : (4, 68)\n",
      "BatchNorm1d : (4, 68)\n",
      "Tanh : (4, 68)\n",
      "Linear : (4, 27)\n"
     ]
    }
   ],
   "source": [
    "for layer in model.layers:\n",
    "    print(layer.__class__.__name__, ':', tuple(layer.out.shape))"
   ]
  },
  {
   "cell_type": "code",
   "execution_count": 109,
   "id": "941c9e02-5a30-4f48-8453-4bd2dfe41379",
   "metadata": {},
   "outputs": [
    {
     "name": "stdout",
     "output_type": "stream",
     "text": [
      "      0/ 200000: 3.3952\n",
      "  10000/ 200000: 2.0366\n",
      "  20000/ 200000: 2.2920\n",
      "  30000/ 200000: 2.2559\n",
      "  40000/ 200000: 2.2216\n",
      "  50000/ 200000: 1.9411\n",
      "  60000/ 200000: 2.0966\n",
      "  70000/ 200000: 2.0113\n",
      "  80000/ 200000: 2.3477\n",
      "  90000/ 200000: 1.9293\n",
      " 100000/ 200000: 2.1300\n",
      " 110000/ 200000: 2.0340\n",
      " 120000/ 200000: 2.0336\n",
      " 130000/ 200000: 2.4064\n",
      " 140000/ 200000: 2.2896\n",
      " 150000/ 200000: 1.8975\n",
      " 160000/ 200000: 1.8809\n",
      " 170000/ 200000: 1.9548\n",
      " 180000/ 200000: 1.7827\n",
      " 190000/ 200000: 1.8959\n"
     ]
    }
   ],
   "source": [
    "max_steps = 200000\n",
    "batch_size = 32\n",
    "lossi = []\n",
    "\n",
    "for i in range(max_steps):\n",
    "\n",
    "    # minibatch construct\n",
    "    ix = torch.randint(0, Xtr.shape[0], (batch_size, ))\n",
    "    Xb, Yb = Xtr[ix], Ytr[ix]  # батчи\n",
    "\n",
    "    # forward pass\n",
    "    logits = model(Xb)\n",
    "    loss = F.cross_entropy(logits, Yb)  # считаем лосс\n",
    "\n",
    "    # backward pass\n",
    "    for p in parameters:\n",
    "        p.grad = None\n",
    "    loss.backward()\n",
    "\n",
    "    # update\n",
    "    lr = 0.1 if i < 150000 else 0.01\n",
    "    for p in parameters:\n",
    "        p.data += -lr * p.grad\n",
    "\n",
    "    # track stats\n",
    "    if i % 10000 == 0:\n",
    "        print(f'{i:7d}/{max_steps:7d}: {loss.item():.4f}')\n",
    "    lossi.append(loss.log10().item())"
   ]
  },
  {
   "cell_type": "code",
   "execution_count": 110,
   "id": "7215f7cf-ff16-4505-b95c-a81d8f87199d",
   "metadata": {},
   "outputs": [
    {
     "data": {
      "image/png": "[encoded data removed]",
      "text/plain": [
       "<Figure size 640x480 with 1 Axes>"
      ]
     },
     "metadata": {},
     "output_type": "display_data"
    }
   ],
   "source": [
    "plt.plot(torch.tensor(lossi).view(-1, 1000).mean(1));"
   ]
  },
  {
   "cell_type": "code",
   "execution_count": 111,
   "id": "385333ea-2392-4816-a0a3-0fdd084d8796",
   "metadata": {},
   "outputs": [],
   "source": [
    "for layer in model.layers:\n",
    "    layer.training = False"
   ]
  },
  {
   "cell_type": "code",
   "execution_count": 112,
   "id": "32a7ddbc-842b-4e7e-874a-e5ecb154be90",
   "metadata": {},
   "outputs": [
    {
     "name": "stdout",
     "output_type": "stream",
     "text": [
      "train 1.9409512281417847\n",
      "val 2.0314455032348633\n"
     ]
    }
   ],
   "source": [
    "split_loss('train')\n",
    "split_loss('val')"
   ]
  },
  {
   "cell_type": "code",
   "execution_count": 113,
   "id": "776cc402-1119-4211-a93a-2b00a5561dd2",
   "metadata": {},
   "outputs": [
    {
     "name": "stdout",
     "output_type": "stream",
     "text": [
      "trivion.\n",
      "jayton.\n",
      "malvy.\n",
      "hanne.\n",
      "syla.\n",
      "derion.\n",
      "zyresie.\n",
      "daliia.\n",
      "arelzie.\n",
      "catisa.\n",
      "emmari.\n",
      "slayar.\n",
      "guhfiahair.\n",
      "joeeslee.\n",
      "mardowie.\n",
      "evonesia.\n",
      "callys.\n",
      "kameiah.\n",
      "jaylin.\n",
      "saylah.\n"
     ]
    }
   ],
   "source": [
    "for _ in range(20):\n",
    "\n",
    "    out = []\n",
    "    context = [0] * block_size  # сначала у нас только фиктивные буквы \"...\"\n",
    "    while True:\n",
    "        logits = model(torch.tensor([context]))\n",
    "        probs = F.softmax(logits, dim=1)\n",
    "        ix = torch.multinomial(probs, num_samples=1).item()\n",
    "        context = context[1:] + [ix]\n",
    "        out.append(ix)\n",
    "        if ix == 0:\n",
    "            break\n",
    "\n",
    "    print(''.join(itos[i] for i in out))"
   ]
  },
  {
   "cell_type": "markdown",
   "id": "83986466-5d75-4f75-a2a0-c2239deb3799",
   "metadata": {},
   "source": [
    "## batchnorm bug"
   ]
  },
  {
   "cell_type": "code",
   "execution_count": 115,
   "id": "7ee762a3-fde8-4c11-b9c6-32443ff79f42",
   "metadata": {},
   "outputs": [],
   "source": [
    "# у нас есть баг в батчнорме\n",
    "# сейчас он ожидает, что вход будет двумерным и мы берем статистики по 0 оси\n",
    "# и все не ломается благодаря broadcasting в pytorch"
   ]
  },
  {
   "cell_type": "code",
   "execution_count": 116,
   "id": "6e752903-7189-4cb9-863d-fea68eb5229b",
   "metadata": {},
   "outputs": [
    {
     "data": {
      "text/plain": [
       "torch.Size([32, 4, 68])"
      ]
     },
     "execution_count": 116,
     "metadata": {},
     "output_type": "execute_result"
    }
   ],
   "source": [
    "# что происходит внутри?\n",
    "e = torch.randn(32, 4, 68)\n",
    "emean = e.mean(0, keepdim=True)  # 1, 4, 68\n",
    "evar = e.var(0, keepdim=True)  # 1, 4, 68\n",
    "ehat = (e - emean) / torch.sqrt(evar + 1e-5)  # 32, 4, 68\n",
    "ehat.shape"
   ]
  },
  {
   "cell_type": "code",
   "execution_count": 119,
   "id": "f1780a26-a4d3-4685-8c56-b7a47397f3f2",
   "metadata": {},
   "outputs": [
    {
     "data": {
      "text/plain": [
       "torch.Size([1, 4, 68])"
      ]
     },
     "execution_count": 119,
     "metadata": {},
     "output_type": "execute_result"
    }
   ],
   "source": [
    "model.layers[3].running_mean.shape  # мы ожидаем 68 в качестве длины\n",
    "# получается батчнорм сейчас работает параллельно для 4\n",
    "# на самом деле мы хотим, чтобы и 32 и 4 были для нас батчевыми размерностями"
   ]
  },
  {
   "cell_type": "code",
   "execution_count": 120,
   "id": "870c6455-d075-4ae6-953d-3037fb9852b5",
   "metadata": {},
   "outputs": [
    {
     "data": {
      "text/plain": [
       "torch.Size([32, 4, 68])"
      ]
     },
     "execution_count": 120,
     "metadata": {},
     "output_type": "execute_result"
    }
   ],
   "source": [
    "# что происходит внутри?\n",
    "e = torch.randn(32, 4, 68)\n",
    "emean = e.mean((0, 1), keepdim=True)  # 1, 1, 68\n",
    "evar = e.var((0, 1), keepdim=True)  # 1, 1, 68\n",
    "ehat = (e - emean) / torch.sqrt(evar + 1e-5)  # 32, 4, 68\n",
    "ehat.shape"
   ]
  },
  {
   "cell_type": "code",
   "execution_count": 121,
   "id": "aa4f8b7b-5871-4ccb-a07f-3f3eb38660de",
   "metadata": {},
   "outputs": [
    {
     "data": {
      "text/plain": [
       "torch.Size([1, 1, 68])"
      ]
     },
     "execution_count": 121,
     "metadata": {},
     "output_type": "execute_result"
    }
   ],
   "source": [
    "emean.shape"
   ]
  },
  {
   "cell_type": "code",
   "execution_count": 122,
   "id": "77436157-605b-44d1-849d-1ec6b5385ba5",
   "metadata": {},
   "outputs": [],
   "source": [
    "class BatchNorm1d:\n",
    "    def __init__(self, dim, eps=1e-5, momentum=0.1):\n",
    "        self.eps = eps\n",
    "        self.momentum = momentum\n",
    "        self.training = True  # дополнительный флаг, который говорит нам, находимся ли мы сейчас в режиме обучения\n",
    "        # parameters trained with backprop\n",
    "        self.gamma = torch.ones(dim)\n",
    "        self.beta = torch.zeros(dim)\n",
    "        # buffers (trained with a running update)\n",
    "        self.running_mean = torch.zeros(dim)\n",
    "        self.running_var = torch.ones(dim)\n",
    "\n",
    "    def __call__(self, x):\n",
    "        if self.training:\n",
    "            \n",
    "            if x.ndim == 2:\n",
    "                dim = 0\n",
    "            elif x.ndim == 3:\n",
    "                dim = (0, 1)\n",
    "                \n",
    "            xmean = x.mean(dim, keepdim=True)  # среднее по батчу во время обучения\n",
    "            xvar = x.var(dim, keepdim=True, unbiased=True)  # дисперсия по батчу во время обучения\n",
    "        else:\n",
    "            xmean = self.running_mean  # среднее, которое используем на инференсе\n",
    "            xvar = self.running_var\n",
    "\n",
    "        xhat = (x - xmean) / torch.sqrt(xvar + self.eps)  # нормализуем вход\n",
    "        self.out = self.gamma * xhat + self.beta\n",
    "        # обновим буфферы\n",
    "        if self.training:\n",
    "            with torch.no_grad():\n",
    "                self.running_mean = (1 - self.momentum) * self.running_mean + self.momentum * xmean\n",
    "                self.running_var = (1 - self.momentum) * self.running_var + self.momentum * xvar\n",
    "\n",
    "        return self.out\n",
    "\n",
    "    def parameters(self):\n",
    "        return [self.gamma, self.beta]"
   ]
  },
  {
   "cell_type": "markdown",
   "id": "24313daa-b8ad-422e-bbe6-f178457dcf9f",
   "metadata": {},
   "source": [
    "## переобучим"
   ]
  },
  {
   "cell_type": "code",
   "execution_count": 123,
   "id": "fe5a0998-f70c-4f7b-a04e-8e93b9cd74f9",
   "metadata": {},
   "outputs": [
    {
     "name": "stdout",
     "output_type": "stream",
     "text": [
      "22397\n"
     ]
    }
   ],
   "source": [
    "n_embd = 10  # размер эмбеддинга\n",
    "n_hidden = 68  # число нейронов в скрытом слое сети\n",
    "\n",
    "model = Sequential([\n",
    "    Embedding(vocab_size, n_embd),\n",
    "    FlattenConsecutive(2), Linear(n_embd*2, n_hidden, bias=False), BatchNorm1d(n_hidden), Tanh(),\n",
    "    FlattenConsecutive(2), Linear(n_hidden*2, n_hidden, bias=False), BatchNorm1d(n_hidden), Tanh(),\n",
    "    FlattenConsecutive(2), Linear(n_hidden*2, n_hidden, bias=False), BatchNorm1d(n_hidden), Tanh(),\n",
    "    Linear(n_hidden, vocab_size) \n",
    "])\n",
    "\n",
    "with torch.no_grad():\n",
    "    # сделать менее уверенным softmax\n",
    "    layers[-1].weight *= 0.1\n",
    "\n",
    "parameters = model.parameters()\n",
    "print(sum(p.nelement() for p in parameters))\n",
    "for p in parameters:\n",
    "    p.requires_grad = True"
   ]
  },
  {
   "cell_type": "code",
   "execution_count": 124,
   "id": "97614f8b-facf-440f-8900-b850e637efd6",
   "metadata": {},
   "outputs": [
    {
     "name": "stdout",
     "output_type": "stream",
     "text": [
      "torch.Size([4, 8])\n"
     ]
    },
    {
     "data": {
      "text/plain": [
       "tensor([[ 0,  0,  0,  0,  0,  0,  0,  1],\n",
       "        [ 0,  0,  2, 18,  9, 20, 20,  1],\n",
       "        [ 0,  3,  8,  1, 19,  9, 20, 25],\n",
       "        [ 0,  0,  0,  0,  0,  4, 15, 19]])"
      ]
     },
     "execution_count": 124,
     "metadata": {},
     "output_type": "execute_result"
    }
   ],
   "source": [
    "ix = torch.randint(0, Xtr.shape[0], (4,))  # посмотрим на батч из 4\n",
    "Xb, Yb = Xtr[ix], Ytr[ix]\n",
    "logits = model(Xb)\n",
    "print(Xb.shape)\n",
    "Xb"
   ]
  },
  {
   "cell_type": "code",
   "execution_count": 125,
   "id": "36f05d6f-948a-43a3-a05e-45de7405a417",
   "metadata": {},
   "outputs": [
    {
     "name": "stdout",
     "output_type": "stream",
     "text": [
      "Embedding : (4, 8, 10)\n",
      "FlattenConsecutive : (4, 4, 20)\n",
      "Linear : (4, 4, 68)\n",
      "BatchNorm1d : (4, 4, 68)\n",
      "Tanh : (4, 4, 68)\n",
      "FlattenConsecutive : (4, 2, 136)\n",
      "Linear : (4, 2, 68)\n",
      "BatchNorm1d : (4, 2, 68)\n",
      "Tanh : (4, 2, 68)\n",
      "FlattenConsecutive : (4, 136)\n",
      "Linear : (4, 68)\n",
      "BatchNorm1d : (4, 68)\n",
      "Tanh : (4, 68)\n",
      "Linear : (4, 27)\n"
     ]
    }
   ],
   "source": [
    "for layer in model.layers:\n",
    "    print(layer.__class__.__name__, ':', tuple(layer.out.shape))"
   ]
  },
  {
   "cell_type": "code",
   "execution_count": 126,
   "id": "bfd83c75-e2b8-4554-80cc-40031131b01c",
   "metadata": {},
   "outputs": [
    {
     "data": {
      "text/plain": [
       "torch.Size([1, 1, 68])"
      ]
     },
     "execution_count": 126,
     "metadata": {},
     "output_type": "execute_result"
    }
   ],
   "source": [
    "model.layers[3].running_mean.shape"
   ]
  },
  {
   "cell_type": "code",
   "execution_count": 127,
   "id": "31341027-1752-4d01-be26-3b78751bd76c",
   "metadata": {},
   "outputs": [
    {
     "name": "stdout",
     "output_type": "stream",
     "text": [
      "      0/ 200000: 3.3245\n",
      "  10000/ 200000: 2.0789\n",
      "  20000/ 200000: 1.7799\n",
      "  30000/ 200000: 2.2346\n",
      "  40000/ 200000: 2.0894\n",
      "  50000/ 200000: 1.8455\n",
      "  60000/ 200000: 2.1566\n",
      "  70000/ 200000: 2.1311\n",
      "  80000/ 200000: 1.8887\n",
      "  90000/ 200000: 2.1950\n",
      " 100000/ 200000: 1.7845\n",
      " 110000/ 200000: 1.7650\n",
      " 120000/ 200000: 1.9728\n",
      " 130000/ 200000: 1.6999\n",
      " 140000/ 200000: 1.9007\n",
      " 150000/ 200000: 1.8938\n",
      " 160000/ 200000: 1.8640\n",
      " 170000/ 200000: 1.8100\n",
      " 180000/ 200000: 1.6752\n",
      " 190000/ 200000: 1.9155\n"
     ]
    }
   ],
   "source": [
    "max_steps = 200000\n",
    "batch_size = 32\n",
    "lossi = []\n",
    "\n",
    "for i in range(max_steps):\n",
    "\n",
    "    # minibatch construct\n",
    "    ix = torch.randint(0, Xtr.shape[0], (batch_size, ))\n",
    "    Xb, Yb = Xtr[ix], Ytr[ix]  # батчи\n",
    "\n",
    "    # forward pass\n",
    "    logits = model(Xb)\n",
    "    loss = F.cross_entropy(logits, Yb)  # считаем лосс\n",
    "\n",
    "    # backward pass\n",
    "    for p in parameters:\n",
    "        p.grad = None\n",
    "    loss.backward()\n",
    "\n",
    "    # update\n",
    "    lr = 0.1 if i < 150000 else 0.01\n",
    "    for p in parameters:\n",
    "        p.data += -lr * p.grad\n",
    "\n",
    "    # track stats\n",
    "    if i % 10000 == 0:\n",
    "        print(f'{i:7d}/{max_steps:7d}: {loss.item():.4f}')\n",
    "    lossi.append(loss.log10().item())"
   ]
  },
  {
   "cell_type": "code",
   "execution_count": 128,
   "id": "d917209a-91b0-4a2e-bdde-22bfc0f82db1",
   "metadata": {},
   "outputs": [
    {
     "data": {
      "image/png": "[encoded data removed]",
      "text/plain": [
       "<Figure size 640x480 with 1 Axes>"
      ]
     },
     "metadata": {},
     "output_type": "display_data"
    }
   ],
   "source": [
    "plt.plot(torch.tensor(lossi).view(-1, 1000).mean(1));"
   ]
  },
  {
   "cell_type": "code",
   "execution_count": 129,
   "id": "a629fa89-035f-4139-a763-3ff5eafb4ecd",
   "metadata": {},
   "outputs": [],
   "source": [
    "for layer in model.layers:\n",
    "    layer.training = False"
   ]
  },
  {
   "cell_type": "code",
   "execution_count": 130,
   "id": "a4918616-1000-415c-8771-763c521902a8",
   "metadata": {},
   "outputs": [
    {
     "name": "stdout",
     "output_type": "stream",
     "text": [
      "train 1.9146116971969604\n",
      "val 2.0153582096099854\n"
     ]
    }
   ],
   "source": [
    "split_loss('train')\n",
    "split_loss('val')\n",
    "# исправление бага немного улучшило картину"
   ]
  },
  {
   "cell_type": "markdown",
   "id": "ead0b26f-358b-49f0-857a-3e204e58cdad",
   "metadata": {},
   "source": [
    "## добавим модели параметров"
   ]
  },
  {
   "cell_type": "code",
   "execution_count": 133,
   "id": "5e2d3c69-7b05-40ff-9213-116c28e6f7fd",
   "metadata": {},
   "outputs": [
    {
     "name": "stdout",
     "output_type": "stream",
     "text": [
      "76579\n"
     ]
    }
   ],
   "source": [
    "n_embd = 24  # размер эмбеддинга\n",
    "n_hidden = 128  # число нейронов в скрытом слое сети\n",
    "\n",
    "model = Sequential([\n",
    "    Embedding(vocab_size, n_embd),\n",
    "    FlattenConsecutive(2), Linear(n_embd*2, n_hidden, bias=False), BatchNorm1d(n_hidden), Tanh(),\n",
    "    FlattenConsecutive(2), Linear(n_hidden*2, n_hidden, bias=False), BatchNorm1d(n_hidden), Tanh(),\n",
    "    FlattenConsecutive(2), Linear(n_hidden*2, n_hidden, bias=False), BatchNorm1d(n_hidden), Tanh(),\n",
    "    Linear(n_hidden, vocab_size) \n",
    "])\n",
    "\n",
    "with torch.no_grad():\n",
    "    # сделать менее уверенным softmax\n",
    "    layers[-1].weight *= 0.1\n",
    "\n",
    "parameters = model.parameters()\n",
    "print(sum(p.nelement() for p in parameters))\n",
    "for p in parameters:\n",
    "    p.requires_grad = True"
   ]
  },
  {
   "cell_type": "code",
   "execution_count": 134,
   "id": "57c95066-5fcd-4e58-98d6-a3150c7579b5",
   "metadata": {},
   "outputs": [
    {
     "name": "stdout",
     "output_type": "stream",
     "text": [
      "      0/ 200000: 3.5204\n",
      "  10000/ 200000: 2.2145\n",
      "  20000/ 200000: 2.0569\n",
      "  30000/ 200000: 1.9700\n",
      "  40000/ 200000: 2.2990\n",
      "  50000/ 200000: 1.7731\n",
      "  60000/ 200000: 1.9625\n",
      "  70000/ 200000: 1.6672\n",
      "  80000/ 200000: 2.1167\n",
      "  90000/ 200000: 1.9601\n",
      " 100000/ 200000: 2.1853\n",
      " 110000/ 200000: 2.0207\n",
      " 120000/ 200000: 1.7150\n",
      " 130000/ 200000: 1.9536\n",
      " 140000/ 200000: 1.6416\n",
      " 150000/ 200000: 2.2536\n",
      " 160000/ 200000: 1.7138\n",
      " 170000/ 200000: 1.5363\n",
      " 180000/ 200000: 1.5227\n",
      " 190000/ 200000: 1.4754\n"
     ]
    }
   ],
   "source": [
    "max_steps = 200000\n",
    "batch_size = 32\n",
    "lossi = []\n",
    "\n",
    "for i in range(max_steps):\n",
    "\n",
    "    # minibatch construct\n",
    "    ix = torch.randint(0, Xtr.shape[0], (batch_size, ))\n",
    "    Xb, Yb = Xtr[ix], Ytr[ix]  # батчи\n",
    "\n",
    "    # forward pass\n",
    "    logits = model(Xb)\n",
    "    loss = F.cross_entropy(logits, Yb)  # считаем лосс\n",
    "\n",
    "    # backward pass\n",
    "    for p in parameters:\n",
    "        p.grad = None\n",
    "    loss.backward()\n",
    "\n",
    "    # update\n",
    "    lr = 0.1 if i < 150000 else 0.01\n",
    "    for p in parameters:\n",
    "        p.data += -lr * p.grad\n",
    "\n",
    "    # track stats\n",
    "    if i % 10000 == 0:\n",
    "        print(f'{i:7d}/{max_steps:7d}: {loss.item():.4f}')\n",
    "    lossi.append(loss.log10().item())"
   ]
  },
  {
   "cell_type": "code",
   "execution_count": 135,
   "id": "8a4fdd90-0671-4d17-8f37-c38645becda6",
   "metadata": {},
   "outputs": [
    {
     "data": {
      "image/png": "[encoded data removed]",
      "text/plain": [
       "<Figure size 640x480 with 1 Axes>"
      ]
     },
     "metadata": {},
     "output_type": "display_data"
    }
   ],
   "source": [
    "plt.plot(torch.tensor(lossi).view(-1, 1000).mean(1));"
   ]
  },
  {
   "cell_type": "code",
   "execution_count": 136,
   "id": "8b686344-195a-477d-ad28-5378a9ae4402",
   "metadata": {},
   "outputs": [],
   "source": [
    "for layer in model.layers:\n",
    "    layer.training = False"
   ]
  },
  {
   "cell_type": "code",
   "execution_count": 137,
   "id": "62bd7ec0-7fbd-4f98-a01f-e56e7eb9290a",
   "metadata": {},
   "outputs": [
    {
     "name": "stdout",
     "output_type": "stream",
     "text": [
      "train 1.768920660018921\n",
      "val 1.986614465713501\n"
     ]
    }
   ],
   "source": [
    "split_loss('train')\n",
    "split_loss('val')\n",
    "# получили еще улучшение"
   ]
  },
  {
   "cell_type": "markdown",
   "id": "1ad48b67-d312-4ed9-9548-11e314d7ff5d",
   "metadata": {},
   "source": [
    "## Свертки?"
   ]
  },
  {
   "cell_type": "code",
   "execution_count": 138,
   "id": "92031c00-8a88-4d12-9c57-7397e7ab78e2",
   "metadata": {},
   "outputs": [
    {
     "name": "stdout",
     "output_type": "stream",
     "text": [
      "........ --> d\n",
      ".......d --> i\n",
      "......di --> o\n",
      ".....dio --> n\n",
      "....dion --> d\n",
      "...diond --> r\n",
      "..diondr --> e\n",
      ".diondre --> .\n"
     ]
    }
   ],
   "source": [
    "for x, y in zip(Xtr[7:15], Ytr[7:15]):\n",
    "    print(''.join(itos[ix.item()] for ix in x), '-->', itos[y.item()])"
   ]
  },
  {
   "cell_type": "code",
   "execution_count": 139,
   "id": "09d6b290-cb72-4216-8558-5ded1c7ee521",
   "metadata": {},
   "outputs": [
    {
     "data": {
      "text/plain": [
       "torch.Size([1, 27])"
      ]
     },
     "execution_count": 139,
     "metadata": {},
     "output_type": "execute_result"
    }
   ],
   "source": [
    "# прямой проход по 1 примеру\n",
    "logits = model(Xtr[[7]])\n",
    "logits.shape"
   ]
  },
  {
   "cell_type": "code",
   "execution_count": 140,
   "id": "7c5ef3c0-4416-4bba-9d85-af1ab5bfe3c0",
   "metadata": {},
   "outputs": [
    {
     "data": {
      "text/plain": [
       "torch.Size([8, 27])"
      ]
     },
     "execution_count": 140,
     "metadata": {},
     "output_type": "execute_result"
    }
   ],
   "source": [
    "# прямой проход по всем\n",
    "logits = torch.zeros(8, 27)\n",
    "for i in range(8):\n",
    "    logits[i] = model(Xtr[[7+i]])\n",
    "logits.shape"
   ]
  },
  {
   "cell_type": "code",
   "execution_count": 141,
   "id": "b0b636fa-4f28-40d3-9d54-3f051aa9776b",
   "metadata": {},
   "outputs": [],
   "source": [
    "# со свертками нам не нужно таким способом формировать данные\n",
    "# свертка по сути это цикл"
   ]
  },
  {
   "cell_type": "code",
   "execution_count": null,
   "id": "60bc3054-d32f-4c42-86f2-0b4823c853ef",
   "metadata": {},
   "outputs": [],
   "source": []
  }
 ],
 "metadata": {
  "kernelspec": {
   "display_name": "yandex_nlp",
   "language": "python",
   "name": "yandex_nlp"
  },
  "language_info": {
   "codemirror_mode": {
    "name": "ipython",
    "version": 3
   },
   "file_extension": ".py",
   "mimetype": "text/x-python",
   "name": "python",
   "nbconvert_exporter": "python",
   "pygments_lexer": "ipython3",
   "version": "3.9.13"
  }
 },
 "nbformat": 4,
 "nbformat_minor": 5
}
