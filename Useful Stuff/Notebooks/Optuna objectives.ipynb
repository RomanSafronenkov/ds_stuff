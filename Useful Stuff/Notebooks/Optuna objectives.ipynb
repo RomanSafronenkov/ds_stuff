{
 "cells": [
  {
   "cell_type": "markdown",
   "id": "9d0dd5eb",
   "metadata": {},
   "source": [
    "# Ноутбук со стандартными наборами параметров для оптимизации с помощью optuna"
   ]
  },
  {
   "cell_type": "code",
   "execution_count": 4,
   "id": "70b62b75",
   "metadata": {},
   "outputs": [],
   "source": [
    "from functools import partial\n",
    "\n",
    "import optuna\n",
    "\n",
    "from sklearn.datasets import make_classification\n",
    "from sklearn.metrics import f1_score\n",
    "from sklearn.model_selection import train_test_split"
   ]
  },
  {
   "cell_type": "code",
   "execution_count": 5,
   "id": "607edec7",
   "metadata": {},
   "outputs": [],
   "source": [
    "metric = partial(f1_score, average='macro')"
   ]
  },
  {
   "cell_type": "code",
   "execution_count": 7,
   "id": "b3b7f4ac",
   "metadata": {},
   "outputs": [],
   "source": [
    "x, y = make_classification(n_samples=300, n_features=7, n_informative=4, n_classes=3)"
   ]
  },
  {
   "cell_type": "code",
   "execution_count": 11,
   "id": "0737ef23",
   "metadata": {},
   "outputs": [],
   "source": [
    "x_train, x_val, y_train, y_val = train_test_split(x, y, test_size=0.3)"
   ]
  },
  {
   "cell_type": "markdown",
   "id": "3273518d",
   "metadata": {},
   "source": [
    "# LightGBM"
   ]
  },
  {
   "cell_type": "code",
   "execution_count": 10,
   "id": "60ce813c",
   "metadata": {},
   "outputs": [],
   "source": [
    "from lightgbm import LGBMClassifier\n",
    "from lightgbm.callback import early_stopping"
   ]
  },
  {
   "cell_type": "code",
   "execution_count": 14,
   "id": "83b28b7f",
   "metadata": {},
   "outputs": [
    {
     "data": {
      "text/html": [
       "<style>#sk-container-id-2 {color: black;}#sk-container-id-2 pre{padding: 0;}#sk-container-id-2 div.sk-toggleable {background-color: white;}#sk-container-id-2 label.sk-toggleable__label {cursor: pointer;display: block;width: 100%;margin-bottom: 0;padding: 0.3em;box-sizing: border-box;text-align: center;}#sk-container-id-2 label.sk-toggleable__label-arrow:before {content: \"▸\";float: left;margin-right: 0.25em;color: #696969;}#sk-container-id-2 label.sk-toggleable__label-arrow:hover:before {color: black;}#sk-container-id-2 div.sk-estimator:hover label.sk-toggleable__label-arrow:before {color: black;}#sk-container-id-2 div.sk-toggleable__content {max-height: 0;max-width: 0;overflow: hidden;text-align: left;background-color: #f0f8ff;}#sk-container-id-2 div.sk-toggleable__content pre {margin: 0.2em;color: black;border-radius: 0.25em;background-color: #f0f8ff;}#sk-container-id-2 input.sk-toggleable__control:checked~div.sk-toggleable__content {max-height: 200px;max-width: 100%;overflow: auto;}#sk-container-id-2 input.sk-toggleable__control:checked~label.sk-toggleable__label-arrow:before {content: \"▾\";}#sk-container-id-2 div.sk-estimator input.sk-toggleable__control:checked~label.sk-toggleable__label {background-color: #d4ebff;}#sk-container-id-2 div.sk-label input.sk-toggleable__control:checked~label.sk-toggleable__label {background-color: #d4ebff;}#sk-container-id-2 input.sk-hidden--visually {border: 0;clip: rect(1px 1px 1px 1px);clip: rect(1px, 1px, 1px, 1px);height: 1px;margin: -1px;overflow: hidden;padding: 0;position: absolute;width: 1px;}#sk-container-id-2 div.sk-estimator {font-family: monospace;background-color: #f0f8ff;border: 1px dotted black;border-radius: 0.25em;box-sizing: border-box;margin-bottom: 0.5em;}#sk-container-id-2 div.sk-estimator:hover {background-color: #d4ebff;}#sk-container-id-2 div.sk-parallel-item::after {content: \"\";width: 100%;border-bottom: 1px solid gray;flex-grow: 1;}#sk-container-id-2 div.sk-label:hover label.sk-toggleable__label {background-color: #d4ebff;}#sk-container-id-2 div.sk-serial::before {content: \"\";position: absolute;border-left: 1px solid gray;box-sizing: border-box;top: 0;bottom: 0;left: 50%;z-index: 0;}#sk-container-id-2 div.sk-serial {display: flex;flex-direction: column;align-items: center;background-color: white;padding-right: 0.2em;padding-left: 0.2em;position: relative;}#sk-container-id-2 div.sk-item {position: relative;z-index: 1;}#sk-container-id-2 div.sk-parallel {display: flex;align-items: stretch;justify-content: center;background-color: white;position: relative;}#sk-container-id-2 div.sk-item::before, #sk-container-id-2 div.sk-parallel-item::before {content: \"\";position: absolute;border-left: 1px solid gray;box-sizing: border-box;top: 0;bottom: 0;left: 50%;z-index: -1;}#sk-container-id-2 div.sk-parallel-item {display: flex;flex-direction: column;z-index: 1;position: relative;background-color: white;}#sk-container-id-2 div.sk-parallel-item:first-child::after {align-self: flex-end;width: 50%;}#sk-container-id-2 div.sk-parallel-item:last-child::after {align-self: flex-start;width: 50%;}#sk-container-id-2 div.sk-parallel-item:only-child::after {width: 0;}#sk-container-id-2 div.sk-dashed-wrapped {border: 1px dashed gray;margin: 0 0.4em 0.5em 0.4em;box-sizing: border-box;padding-bottom: 0.4em;background-color: white;}#sk-container-id-2 div.sk-label label {font-family: monospace;font-weight: bold;display: inline-block;line-height: 1.2em;}#sk-container-id-2 div.sk-label-container {text-align: center;}#sk-container-id-2 div.sk-container {/* jupyter's `normalize.less` sets `[hidden] { display: none; }` but bootstrap.min.css set `[hidden] { display: none !important; }` so we also need the `!important` here to be able to override the default hidden behavior on the sphinx rendered scikit-learn.org. See: https://github.com/scikit-learn/scikit-learn/issues/21755 */display: inline-block !important;position: relative;}#sk-container-id-2 div.sk-text-repr-fallback {display: none;}</style><div id=\"sk-container-id-2\" class=\"sk-top-container\"><div class=\"sk-text-repr-fallback\"><pre>LGBMClassifier(verbose=-100)</pre><b>In a Jupyter environment, please rerun this cell to show the HTML representation or trust the notebook. <br />On GitHub, the HTML representation is unable to render, please try loading this page with nbviewer.org.</b></div><div class=\"sk-container\" hidden><div class=\"sk-item\"><div class=\"sk-estimator sk-toggleable\"><input class=\"sk-toggleable__control sk-hidden--visually\" id=\"sk-estimator-id-2\" type=\"checkbox\" checked><label for=\"sk-estimator-id-2\" class=\"sk-toggleable__label sk-toggleable__label-arrow\">LGBMClassifier</label><div class=\"sk-toggleable__content\"><pre>LGBMClassifier(verbose=-100)</pre></div></div></div></div></div>"
      ],
      "text/plain": [
       "LGBMClassifier(verbose=-100)"
      ]
     },
     "execution_count": 14,
     "metadata": {},
     "output_type": "execute_result"
    }
   ],
   "source": [
    "model = LGBMClassifier(verbose=-100)\n",
    "model.fit(x_train, y_train)"
   ]
  },
  {
   "cell_type": "code",
   "execution_count": 15,
   "id": "1e5bb889",
   "metadata": {},
   "outputs": [
    {
     "data": {
      "text/plain": [
       "0.7863621317444555"
      ]
     },
     "execution_count": 15,
     "metadata": {},
     "output_type": "execute_result"
    }
   ],
   "source": [
    "metric(y_val, model.predict(x_val))"
   ]
  },
  {
   "cell_type": "code",
   "execution_count": 16,
   "id": "e9894dda",
   "metadata": {},
   "outputs": [],
   "source": [
    "def objective(trial):\n",
    "    params = {\n",
    "        'lambda_l1': trial.suggest_float('lambda_l1', 1e-8, 10.0, log=True),\n",
    "        'lambda_l2': trial.suggest_float('lambda_l2', 1e-8, 10.0, log=True),\n",
    "        'num_leaves': trial.suggest_int('num_leaves', 2, 256),\n",
    "        'max_depth': trial.suggest_int('max_depth', 2, 16),\n",
    "        'n_estimators': trial.suggest_int('n_estimators', 100, 1500),\n",
    "        'learning_rate': trial.suggest_float('learning_rate', 0.01, 0.2),\n",
    "        'feature_fraction': trial.suggest_float('feature_fraction', 0.4, 1.0),\n",
    "        'bagging_fraction': trial.suggest_float('bagging_fraction', 0.4, 1.0),\n",
    "        'bagging_freq': trial.suggest_int('bagging_freq', 1, 7),\n",
    "        'min_child_samples': trial.suggest_int('min_child_samples', 5, 100),\n",
    "        'class_weight': trial.suggest_categorical('class_weight', ['balanced', None]),\n",
    "        'verbose': -100\n",
    "    }\n",
    "    \n",
    "    model = LGBMClassifier(**params)\n",
    "    model.fit(x_train, y_train, eval_set=(x_val, y_val), callbacks=[early_stopping(stopping_rounds=30)])\n",
    "    \n",
    "    preds = model.predict(x_val)\n",
    "    \n",
    "    return metric(y_val, preds)"
   ]
  },
  {
   "cell_type": "code",
   "execution_count": 18,
   "id": "9dc350f3",
   "metadata": {},
   "outputs": [
    {
     "name": "stderr",
     "output_type": "stream",
     "text": [
      "[I 2024-09-04 09:14:30,848] A new study created in memory with name: no-name-6212068f-919b-441d-8bc9-05f2557a6b29\n",
      "[I 2024-09-04 09:14:31,033] Trial 0 finished with value: 0.7966070202621419 and parameters: {'lambda_l1': 0.010629158465864163, 'lambda_l2': 2.130156276803011e-06, 'num_leaves': 106, 'max_depth': 4, 'n_estimators': 252, 'learning_rate': 0.016290992935986334, 'feature_fraction': 0.47363608985210615, 'bagging_fraction': 0.9719450349856082, 'bagging_freq': 2, 'min_child_samples': 16, 'class_weight': None}. Best is trial 0 with value: 0.7966070202621419.\n"
     ]
    },
    {
     "name": "stdout",
     "output_type": "stream",
     "text": [
      "Training until validation scores don't improve for 30 rounds\n",
      "Did not meet early stopping. Best iteration is:\n",
      "[251]\tvalid_0's multi_logloss: 0.53276\n",
      "Training until validation scores don't improve for 30 rounds\n"
     ]
    },
    {
     "name": "stderr",
     "output_type": "stream",
     "text": [
      "[I 2024-09-04 09:14:31,099] Trial 1 finished with value: 0.8094124802797894 and parameters: {'lambda_l1': 0.4425748172313832, 'lambda_l2': 1.6472745645217657e-06, 'num_leaves': 123, 'max_depth': 8, 'n_estimators': 1297, 'learning_rate': 0.046451820838650064, 'feature_fraction': 0.5011118614717749, 'bagging_fraction': 0.6074057381355334, 'bagging_freq': 6, 'min_child_samples': 45, 'class_weight': None}. Best is trial 1 with value: 0.8094124802797894.\n",
      "[I 2024-09-04 09:14:31,156] Trial 2 finished with value: 0.7761392208379241 and parameters: {'lambda_l1': 0.0003676330883213585, 'lambda_l2': 9.08706831955392e-08, 'num_leaves': 183, 'max_depth': 7, 'n_estimators': 1332, 'learning_rate': 0.09858900357600621, 'feature_fraction': 0.5291877205978096, 'bagging_fraction': 0.7702043947758143, 'bagging_freq': 4, 'min_child_samples': 27, 'class_weight': 'balanced'}. Best is trial 1 with value: 0.8094124802797894.\n",
      "[I 2024-09-04 09:14:31,267] Trial 3 finished with value: 0.8166603511431099 and parameters: {'lambda_l1': 1.1159078356168167e-06, 'lambda_l2': 4.39526731783674e-07, 'num_leaves': 91, 'max_depth': 7, 'n_estimators': 606, 'learning_rate': 0.04148072943841337, 'feature_fraction': 0.6614027371161184, 'bagging_fraction': 0.9441601927221143, 'bagging_freq': 1, 'min_child_samples': 36, 'class_weight': 'balanced'}. Best is trial 3 with value: 0.8166603511431099.\n",
      "[I 2024-09-04 09:14:31,288] Trial 4 finished with value: 0.18666666666666668 and parameters: {'lambda_l1': 0.009633718026632316, 'lambda_l2': 0.0020027596356961253, 'num_leaves': 255, 'max_depth': 3, 'n_estimators': 1311, 'learning_rate': 0.04852623975678412, 'feature_fraction': 0.6581504385143695, 'bagging_fraction': 0.8007424484333888, 'bagging_freq': 6, 'min_child_samples': 92, 'class_weight': 'balanced'}. Best is trial 3 with value: 0.8166603511431099.\n"
     ]
    },
    {
     "name": "stdout",
     "output_type": "stream",
     "text": [
      "Early stopping, best iteration is:\n",
      "[142]\tvalid_0's multi_logloss: 0.567912\n",
      "Training until validation scores don't improve for 30 rounds\n",
      "Early stopping, best iteration is:\n",
      "[60]\tvalid_0's multi_logloss: 0.518496\n",
      "Training until validation scores don't improve for 30 rounds\n",
      "Early stopping, best iteration is:\n",
      "[152]\tvalid_0's multi_logloss: 0.52404\n",
      "Training until validation scores don't improve for 30 rounds\n",
      "Early stopping, best iteration is:\n",
      "[1]\tvalid_0's multi_logloss: 1.09861\n"
     ]
    },
    {
     "name": "stderr",
     "output_type": "stream",
     "text": [
      "[I 2024-09-04 09:14:31,340] Trial 5 finished with value: 0.8106581814012155 and parameters: {'lambda_l1': 0.14564224022534603, 'lambda_l2': 0.06315846063739922, 'num_leaves': 245, 'max_depth': 8, 'n_estimators': 888, 'learning_rate': 0.06195177710254759, 'feature_fraction': 0.8107416177782591, 'bagging_fraction': 0.9922806159875843, 'bagging_freq': 1, 'min_child_samples': 78, 'class_weight': None}. Best is trial 3 with value: 0.8166603511431099.\n",
      "[I 2024-09-04 09:14:31,361] Trial 6 finished with value: 0.14492753623188406 and parameters: {'lambda_l1': 0.01109694678787842, 'lambda_l2': 1.7242860636548276, 'num_leaves': 79, 'max_depth': 4, 'n_estimators': 750, 'learning_rate': 0.08660529911730644, 'feature_fraction': 0.8903081204723464, 'bagging_fraction': 0.508420470140318, 'bagging_freq': 7, 'min_child_samples': 63, 'class_weight': None}. Best is trial 3 with value: 0.8166603511431099.\n",
      "[I 2024-09-04 09:14:31,403] Trial 7 finished with value: 0.8093317071645245 and parameters: {'lambda_l1': 1.962522569708289e-05, 'lambda_l2': 0.24823278650860267, 'num_leaves': 28, 'max_depth': 6, 'n_estimators': 1012, 'learning_rate': 0.14928437355179416, 'feature_fraction': 0.43315251680941685, 'bagging_fraction': 0.9547566726455671, 'bagging_freq': 4, 'min_child_samples': 45, 'class_weight': None}. Best is trial 3 with value: 0.8166603511431099.\n",
      "[I 2024-09-04 09:14:31,418] Trial 8 finished with value: 0.14492753623188406 and parameters: {'lambda_l1': 6.903880617666988e-06, 'lambda_l2': 1.6117891079553322e-06, 'num_leaves': 76, 'max_depth': 9, 'n_estimators': 730, 'learning_rate': 0.05321967356714832, 'feature_fraction': 0.9128876708750034, 'bagging_fraction': 0.6395493877251138, 'bagging_freq': 6, 'min_child_samples': 87, 'class_weight': None}. Best is trial 3 with value: 0.8166603511431099.\n",
      "[I 2024-09-04 09:14:31,451] Trial 9 finished with value: 0.8330369302251062 and parameters: {'lambda_l1': 7.751014327640048e-08, 'lambda_l2': 6.807141496128008e-06, 'num_leaves': 53, 'max_depth': 4, 'n_estimators': 866, 'learning_rate': 0.12058757048217106, 'feature_fraction': 0.822707686896436, 'bagging_fraction': 0.48984331163335115, 'bagging_freq': 1, 'min_child_samples': 26, 'class_weight': 'balanced'}. Best is trial 9 with value: 0.8330369302251062.\n"
     ]
    },
    {
     "name": "stdout",
     "output_type": "stream",
     "text": [
      "Training until validation scores don't improve for 30 rounds\n",
      "Early stopping, best iteration is:\n",
      "[95]\tvalid_0's multi_logloss: 0.595299\n",
      "Training until validation scores don't improve for 30 rounds\n",
      "Early stopping, best iteration is:\n",
      "[1]\tvalid_0's multi_logloss: 1.11201\n",
      "Training until validation scores don't improve for 30 rounds\n",
      "Early stopping, best iteration is:\n",
      "[49]\tvalid_0's multi_logloss: 0.546954\n",
      "Training until validation scores don't improve for 30 rounds\n",
      "Early stopping, best iteration is:\n",
      "[1]\tvalid_0's multi_logloss: 1.11201\n",
      "Training until validation scores don't improve for 30 rounds\n",
      "Early stopping, best iteration is:\n",
      "[25]\tvalid_0's multi_logloss: 0.525109\n"
     ]
    },
    {
     "name": "stderr",
     "output_type": "stream",
     "text": [
      "[I 2024-09-04 09:14:31,552] Trial 10 finished with value: 0.8085680066718085 and parameters: {'lambda_l1': 1.294294340842645e-08, 'lambda_l2': 0.00010261246683401273, 'num_leaves': 6, 'max_depth': 13, 'n_estimators': 298, 'learning_rate': 0.1965162987498914, 'feature_fraction': 0.9995306720882209, 'bagging_fraction': 0.4137622694168525, 'bagging_freq': 3, 'min_child_samples': 12, 'class_weight': 'balanced'}. Best is trial 9 with value: 0.8330369302251062.\n",
      "[I 2024-09-04 09:14:31,641] Trial 11 finished with value: 0.7995277855958971 and parameters: {'lambda_l1': 1.254415399312489e-08, 'lambda_l2': 1.4579354466523206e-08, 'num_leaves': 50, 'max_depth': 13, 'n_estimators': 521, 'learning_rate': 0.1422024844334176, 'feature_fraction': 0.6963000631890764, 'bagging_fraction': 0.8033154833345609, 'bagging_freq': 1, 'min_child_samples': 32, 'class_weight': 'balanced'}. Best is trial 9 with value: 0.8330369302251062.\n"
     ]
    },
    {
     "name": "stdout",
     "output_type": "stream",
     "text": [
      "Training until validation scores don't improve for 30 rounds\n",
      "Early stopping, best iteration is:\n",
      "[23]\tvalid_0's multi_logloss: 0.527913\n",
      "Training until validation scores don't improve for 30 rounds\n",
      "Early stopping, best iteration is:\n",
      "[26]\tvalid_0's multi_logloss: 0.521852\n",
      "Training until validation scores don't improve for 30 rounds\n",
      "Early stopping, best iteration is:\n",
      "[50]\tvalid_0's multi_logloss: 0.543152\n"
     ]
    },
    {
     "name": "stderr",
     "output_type": "stream",
     "text": [
      "[I 2024-09-04 09:14:31,728] Trial 12 finished with value: 0.8073453101349672 and parameters: {'lambda_l1': 6.205055492016463e-07, 'lambda_l2': 0.0001030550374861248, 'num_leaves': 167, 'max_depth': 2, 'n_estimators': 541, 'learning_rate': 0.13189202676004316, 'feature_fraction': 0.7643480143943643, 'bagging_fraction': 0.4015849695915358, 'bagging_freq': 2, 'min_child_samples': 30, 'class_weight': 'balanced'}. Best is trial 9 with value: 0.8330369302251062.\n"
     ]
    },
    {
     "name": "stdout",
     "output_type": "stream",
     "text": [
      "Training until validation scores don't improve for 30 rounds\n",
      "Did not meet early stopping. Best iteration is:\n",
      "[987]\tvalid_0's multi_logloss: 0.575423\n"
     ]
    },
    {
     "name": "stderr",
     "output_type": "stream",
     "text": [
      "[I 2024-09-04 09:14:32,026] Trial 13 finished with value: 0.8095077955852773 and parameters: {'lambda_l1': 6.297884454372765e-07, 'lambda_l2': 1.185800530771941e-05, 'num_leaves': 67, 'max_depth': 16, 'n_estimators': 992, 'learning_rate': 0.015284596995882978, 'feature_fraction': 0.6063856425115455, 'bagging_fraction': 0.5393538271369573, 'bagging_freq': 2, 'min_child_samples': 59, 'class_weight': 'balanced'}. Best is trial 9 with value: 0.8330369302251062.\n",
      "[I 2024-09-04 09:14:32,264] Trial 14 finished with value: 0.8169557566616389 and parameters: {'lambda_l1': 3.2084749924583797e-07, 'lambda_l2': 9.642355528973157e-08, 'num_leaves': 164, 'max_depth': 11, 'n_estimators': 531, 'learning_rate': 0.1238880714643702, 'feature_fraction': 0.780556787115458, 'bagging_fraction': 0.8687491721052194, 'bagging_freq': 1, 'min_child_samples': 5, 'class_weight': 'balanced'}. Best is trial 9 with value: 0.8330369302251062.\n"
     ]
    },
    {
     "name": "stdout",
     "output_type": "stream",
     "text": [
      "Training until validation scores don't improve for 30 rounds\n",
      "Early stopping, best iteration is:\n",
      "[21]\tvalid_0's multi_logloss: 0.536074\n"
     ]
    },
    {
     "name": "stderr",
     "output_type": "stream",
     "text": [
      "[I 2024-09-04 09:14:32,466] Trial 15 finished with value: 0.8106581814012155 and parameters: {'lambda_l1': 8.661128630962704, 'lambda_l2': 1.0565679918067149e-08, 'num_leaves': 162, 'max_depth': 11, 'n_estimators': 1111, 'learning_rate': 0.18628125600810153, 'feature_fraction': 0.8336322508220667, 'bagging_fraction': 0.8807052701859035, 'bagging_freq': 3, 'min_child_samples': 10, 'class_weight': 'balanced'}. Best is trial 9 with value: 0.8330369302251062.\n"
     ]
    },
    {
     "name": "stdout",
     "output_type": "stream",
     "text": [
      "Training until validation scores don't improve for 30 rounds\n",
      "Early stopping, best iteration is:\n",
      "[281]\tvalid_0's multi_logloss: 0.617989\n",
      "Training until validation scores don't improve for 30 rounds\n"
     ]
    },
    {
     "name": "stderr",
     "output_type": "stream",
     "text": [
      "[I 2024-09-04 09:14:32,601] Trial 16 finished with value: 0.8633484162895928 and parameters: {'lambda_l1': 7.681816698813154e-08, 'lambda_l2': 0.003105842906499414, 'num_leaves': 213, 'max_depth': 11, 'n_estimators': 424, 'learning_rate': 0.1243535960980597, 'feature_fraction': 0.762436288524388, 'bagging_fraction': 0.6774588423737005, 'bagging_freq': 3, 'min_child_samples': 7, 'class_weight': 'balanced'}. Best is trial 16 with value: 0.8633484162895928.\n",
      "[I 2024-09-04 09:14:32,763] Trial 17 finished with value: 0.8287512045802391 and parameters: {'lambda_l1': 0.00024049425740613593, 'lambda_l2': 0.007607608573768052, 'num_leaves': 212, 'max_depth': 11, 'n_estimators': 121, 'learning_rate': 0.1620908225716436, 'feature_fraction': 0.8947907850056288, 'bagging_fraction': 0.7016895449214733, 'bagging_freq': 3, 'min_child_samples': 19, 'class_weight': 'balanced'}. Best is trial 16 with value: 0.8633484162895928.\n"
     ]
    },
    {
     "name": "stdout",
     "output_type": "stream",
     "text": [
      "Early stopping, best iteration is:\n",
      "[19]\tvalid_0's multi_logloss: 0.492962\n",
      "Training until validation scores don't improve for 30 rounds\n",
      "Early stopping, best iteration is:\n",
      "[22]\tvalid_0's multi_logloss: 0.513281\n"
     ]
    },
    {
     "name": "stderr",
     "output_type": "stream",
     "text": [
      "[I 2024-09-04 09:14:32,863] Trial 18 finished with value: 0.8071365416193004 and parameters: {'lambda_l1': 6.219051661896211e-08, 'lambda_l2': 0.0010719797832445337, 'num_leaves': 211, 'max_depth': 16, 'n_estimators': 399, 'learning_rate': 0.11341997364228877, 'feature_fraction': 0.9806502401578612, 'bagging_fraction': 0.5060205793264876, 'bagging_freq': 5, 'min_child_samples': 22, 'class_weight': 'balanced'}. Best is trial 16 with value: 0.8633484162895928.\n",
      "[I 2024-09-04 09:14:33,027] Trial 19 finished with value: 0.8207269681109034 and parameters: {'lambda_l1': 2.3815534615812715e-05, 'lambda_l2': 1.9560463356435105e-05, 'num_leaves': 134, 'max_depth': 5, 'n_estimators': 1134, 'learning_rate': 0.08388686674019169, 'feature_fraction': 0.7397453284270463, 'bagging_fraction': 0.6789542560640972, 'bagging_freq': 2, 'min_child_samples': 45, 'class_weight': 'balanced'}. Best is trial 16 with value: 0.8633484162895928.\n"
     ]
    },
    {
     "name": "stdout",
     "output_type": "stream",
     "text": [
      "Training until validation scores don't improve for 30 rounds\n",
      "Early stopping, best iteration is:\n",
      "[27]\tvalid_0's multi_logloss: 0.509895\n",
      "Training until validation scores don't improve for 30 rounds\n",
      "Early stopping, best iteration is:\n",
      "[102]\tvalid_0's multi_logloss: 0.544926\n"
     ]
    },
    {
     "name": "stderr",
     "output_type": "stream",
     "text": [
      "[I 2024-09-04 09:14:33,198] Trial 20 finished with value: 0.8314136954216714 and parameters: {'lambda_l1': 6.862961348023737e-08, 'lambda_l2': 0.010883298609259363, 'num_leaves': 39, 'max_depth': 13, 'n_estimators': 1500, 'learning_rate': 0.16486318947075615, 'feature_fraction': 0.5724585940394158, 'bagging_fraction': 0.5752659387869539, 'bagging_freq': 5, 'min_child_samples': 38, 'class_weight': 'balanced'}. Best is trial 16 with value: 0.8633484162895928.\n",
      "[I 2024-09-04 09:14:33,314] Trial 21 finished with value: 0.818897414038079 and parameters: {'lambda_l1': 1.683079886657748e-07, 'lambda_l2': 0.025957295368454283, 'num_leaves': 33, 'max_depth': 14, 'n_estimators': 1388, 'learning_rate': 0.17165230973724036, 'feature_fraction': 0.5690043855861145, 'bagging_fraction': 0.5886542475338404, 'bagging_freq': 5, 'min_child_samples': 37, 'class_weight': 'balanced'}. Best is trial 16 with value: 0.8633484162895928.\n"
     ]
    },
    {
     "name": "stdout",
     "output_type": "stream",
     "text": [
      "Training until validation scores don't improve for 30 rounds\n",
      "Early stopping, best iteration is:\n",
      "[60]\tvalid_0's multi_logloss: 0.532025\n",
      "Training until validation scores don't improve for 30 rounds\n",
      "Early stopping, best iteration is:\n",
      "[75]\tvalid_0's multi_logloss: 0.532112\n"
     ]
    },
    {
     "name": "stderr",
     "output_type": "stream",
     "text": [
      "[I 2024-09-04 09:14:33,473] Trial 22 finished with value: 0.8001955671447197 and parameters: {'lambda_l1': 5.543207199417699e-08, 'lambda_l2': 0.000484754551351681, 'num_leaves': 43, 'max_depth': 10, 'n_estimators': 1461, 'learning_rate': 0.15667262677836913, 'feature_fraction': 0.6015639786909018, 'bagging_fraction': 0.48411925934511935, 'bagging_freq': 5, 'min_child_samples': 7, 'class_weight': 'balanced'}. Best is trial 16 with value: 0.8633484162895928.\n",
      "[I 2024-09-04 09:14:33,618] Trial 23 finished with value: 0.8209543027228525 and parameters: {'lambda_l1': 4.390547863437089e-06, 'lambda_l2': 5.475550061545005, 'num_leaves': 6, 'max_depth': 14, 'n_estimators': 103, 'learning_rate': 0.10930632935848174, 'feature_fraction': 0.7010189757154109, 'bagging_fraction': 0.574304444404779, 'bagging_freq': 4, 'min_child_samples': 22, 'class_weight': 'balanced'}. Best is trial 16 with value: 0.8633484162895928.\n"
     ]
    },
    {
     "name": "stdout",
     "output_type": "stream",
     "text": [
      "Training until validation scores don't improve for 30 rounds\n",
      "Early stopping, best iteration is:\n",
      "[22]\tvalid_0's multi_logloss: 0.545672\n",
      "Training until validation scores don't improve for 30 rounds\n",
      "Early stopping, best iteration is:\n",
      "[69]\tvalid_0's multi_logloss: 0.510282\n"
     ]
    },
    {
     "name": "stderr",
     "output_type": "stream",
     "text": [
      "[I 2024-09-04 09:14:33,759] Trial 24 finished with value: 0.7408789386401325 and parameters: {'lambda_l1': 1.0162305732532089e-08, 'lambda_l2': 0.0066165288047873565, 'num_leaves': 133, 'max_depth': 12, 'n_estimators': 844, 'learning_rate': 0.17402004629459467, 'feature_fraction': 0.8475691567926368, 'bagging_fraction': 0.4551431675104993, 'bagging_freq': 3, 'min_child_samples': 58, 'class_weight': 'balanced'}. Best is trial 16 with value: 0.8633484162895928.\n",
      "[I 2024-09-04 09:14:33,881] Trial 25 finished with value: 0.8095077955852773 and parameters: {'lambda_l1': 7.476335640238921e-08, 'lambda_l2': 0.109329109042374, 'num_leaves': 62, 'max_depth': 9, 'n_estimators': 1171, 'learning_rate': 0.13613610645366261, 'feature_fraction': 0.7114271662263407, 'bagging_fraction': 0.7038434046802098, 'bagging_freq': 5, 'min_child_samples': 71, 'class_weight': 'balanced'}. Best is trial 16 with value: 0.8633484162895928.\n"
     ]
    },
    {
     "name": "stdout",
     "output_type": "stream",
     "text": [
      "Training until validation scores don't improve for 30 rounds\n",
      "Early stopping, best iteration is:\n",
      "[38]\tvalid_0's multi_logloss: 0.809007\n",
      "Training until validation scores don't improve for 30 rounds\n",
      "Early stopping, best iteration is:\n",
      "[56]\tvalid_0's multi_logloss: 0.553602\n"
     ]
    },
    {
     "name": "stderr",
     "output_type": "stream",
     "text": [
      "[I 2024-09-04 09:14:34,008] Trial 26 finished with value: 0.830484371180883 and parameters: {'lambda_l1': 0.00014246924636159353, 'lambda_l2': 7.280007999996975e-05, 'num_leaves': 104, 'max_depth': 15, 'n_estimators': 695, 'learning_rate': 0.12086141514328277, 'feature_fraction': 0.6518558828718467, 'bagging_fraction': 0.6391859735337057, 'bagging_freq': 7, 'min_child_samples': 39, 'class_weight': 'balanced'}. Best is trial 16 with value: 0.8633484162895928.\n"
     ]
    },
    {
     "name": "stdout",
     "output_type": "stream",
     "text": [
      "Training until validation scores don't improve for 30 rounds\n",
      "Early stopping, best iteration is:\n",
      "[48]\tvalid_0's multi_logloss: 0.523076\n",
      "Training until validation scores don't improve for 30 rounds\n"
     ]
    },
    {
     "name": "stderr",
     "output_type": "stream",
     "text": [
      "[I 2024-09-04 09:14:34,240] Trial 27 finished with value: 0.8278656095206444 and parameters: {'lambda_l1': 2.9555154906852005e-06, 'lambda_l2': 0.5572329410223102, 'num_leaves': 215, 'max_depth': 12, 'n_estimators': 368, 'learning_rate': 0.10031996180287786, 'feature_fraction': 0.8067478123179381, 'bagging_fraction': 0.5462345631211346, 'bagging_freq': 4, 'min_child_samples': 26, 'class_weight': 'balanced'}. Best is trial 16 with value: 0.8633484162895928.\n"
     ]
    },
    {
     "name": "stdout",
     "output_type": "stream",
     "text": [
      "Early stopping, best iteration is:\n",
      "[68]\tvalid_0's multi_logloss: 0.518353\n",
      "Training until validation scores don't improve for 30 rounds\n"
     ]
    },
    {
     "name": "stderr",
     "output_type": "stream",
     "text": [
      "[I 2024-09-04 09:14:34,562] Trial 28 finished with value: 0.8087797060075627 and parameters: {'lambda_l1': 1.4967974059665492e-07, 'lambda_l2': 0.01210694808554322, 'num_leaves': 18, 'max_depth': 10, 'n_estimators': 907, 'learning_rate': 0.06956756306998252, 'feature_fraction': 0.9422226901634457, 'bagging_fraction': 0.7473391208713424, 'bagging_freq': 3, 'min_child_samples': 15, 'class_weight': 'balanced'}. Best is trial 16 with value: 0.8633484162895928.\n"
     ]
    },
    {
     "name": "stdout",
     "output_type": "stream",
     "text": [
      "Early stopping, best iteration is:\n",
      "[57]\tvalid_0's multi_logloss: 0.529748\n",
      "Training until validation scores don't improve for 30 rounds\n"
     ]
    },
    {
     "name": "stderr",
     "output_type": "stream",
     "text": [
      "[I 2024-09-04 09:14:34,788] Trial 29 finished with value: 0.8206439393939394 and parameters: {'lambda_l1': 6.985209908074467e-05, 'lambda_l2': 1.1313247027544226e-05, 'num_leaves': 100, 'max_depth': 2, 'n_estimators': 202, 'learning_rate': 0.14823842061168202, 'feature_fraction': 0.4217737940219695, 'bagging_fraction': 0.4438174597307629, 'bagging_freq': 2, 'min_child_samples': 51, 'class_weight': None}. Best is trial 16 with value: 0.8633484162895928.\n",
      "[I 2024-09-04 09:14:34,900] Trial 30 finished with value: 0.8330687830687831 and parameters: {'lambda_l1': 0.0010356240205735465, 'lambda_l2': 0.001704945780911706, 'num_leaves': 48, 'max_depth': 13, 'n_estimators': 394, 'learning_rate': 0.1690016188096811, 'feature_fraction': 0.850361239642469, 'bagging_fraction': 0.6404882131979649, 'bagging_freq': 4, 'min_child_samples': 16, 'class_weight': 'balanced'}. Best is trial 16 with value: 0.8633484162895928.\n"
     ]
    },
    {
     "name": "stdout",
     "output_type": "stream",
     "text": [
      "Early stopping, best iteration is:\n",
      "[114]\tvalid_0's multi_logloss: 0.626998\n",
      "Training until validation scores don't improve for 30 rounds\n",
      "Early stopping, best iteration is:\n",
      "[18]\tvalid_0's multi_logloss: 0.51648\n"
     ]
    },
    {
     "name": "stderr",
     "output_type": "stream",
     "text": [
      "[I 2024-09-04 09:14:35,021] Trial 31 finished with value: 0.8324460580522585 and parameters: {'lambda_l1': 0.0028183900396264133, 'lambda_l2': 0.0021083311666979777, 'num_leaves': 47, 'max_depth': 13, 'n_estimators': 436, 'learning_rate': 0.1818359734337874, 'feature_fraction': 0.8504827225924989, 'bagging_fraction': 0.634569458380842, 'bagging_freq': 4, 'min_child_samples': 17, 'class_weight': 'balanced'}. Best is trial 16 with value: 0.8633484162895928.\n"
     ]
    },
    {
     "name": "stdout",
     "output_type": "stream",
     "text": [
      "Training until validation scores don't improve for 30 rounds\n",
      "Early stopping, best iteration is:\n",
      "[20]\tvalid_0's multi_logloss: 0.514506\n",
      "Training until validation scores don't improve for 30 rounds\n"
     ]
    },
    {
     "name": "stderr",
     "output_type": "stream",
     "text": [
      "[I 2024-09-04 09:14:35,227] Trial 32 finished with value: 0.7863621317444555 and parameters: {'lambda_l1': 0.0026772944668725196, 'lambda_l2': 0.0009823040998689825, 'num_leaves': 51, 'max_depth': 14, 'n_estimators': 425, 'learning_rate': 0.18458825156013964, 'feature_fraction': 0.866168642341345, 'bagging_fraction': 0.6367850971820344, 'bagging_freq': 4, 'min_child_samples': 16, 'class_weight': 'balanced'}. Best is trial 16 with value: 0.8633484162895928.\n",
      "[I 2024-09-04 09:14:35,404] Trial 33 finished with value: 0.8527081573265747 and parameters: {'lambda_l1': 0.006244802664601332, 'lambda_l2': 0.0022945638067384346, 'num_leaves': 117, 'max_depth': 12, 'n_estimators': 647, 'learning_rate': 0.18978503968378282, 'feature_fraction': 0.9364458884044413, 'bagging_fraction': 0.6762159207045838, 'bagging_freq': 4, 'min_child_samples': 11, 'class_weight': 'balanced'}. Best is trial 16 with value: 0.8633484162895928.\n"
     ]
    },
    {
     "name": "stdout",
     "output_type": "stream",
     "text": [
      "Early stopping, best iteration is:\n",
      "[20]\tvalid_0's multi_logloss: 0.526429\n",
      "Training until validation scores don't improve for 30 rounds\n",
      "Early stopping, best iteration is:\n",
      "[20]\tvalid_0's multi_logloss: 0.520364\n"
     ]
    },
    {
     "name": "stderr",
     "output_type": "stream",
     "text": [
      "[I 2024-09-04 09:14:35,634] Trial 34 finished with value: 0.8201007178827816 and parameters: {'lambda_l1': 0.0018351560837507888, 'lambda_l2': 0.00022590462395397925, 'num_leaves': 115, 'max_depth': 12, 'n_estimators': 645, 'learning_rate': 0.1971467229410153, 'feature_fraction': 0.9445980566590556, 'bagging_fraction': 0.7357229312302593, 'bagging_freq': 3, 'min_child_samples': 12, 'class_weight': 'balanced'}. Best is trial 16 with value: 0.8633484162895928.\n"
     ]
    },
    {
     "name": "stdout",
     "output_type": "stream",
     "text": [
      "Training until validation scores don't improve for 30 rounds\n",
      "Early stopping, best iteration is:\n",
      "[15]\tvalid_0's multi_logloss: 0.53762\n",
      "Training until validation scores don't improve for 30 rounds\n"
     ]
    },
    {
     "name": "stderr",
     "output_type": "stream",
     "text": [
      "[I 2024-09-04 09:14:35,796] Trial 35 finished with value: 0.8062688560109342 and parameters: {'lambda_l1': 0.05638116989752911, 'lambda_l2': 3.6108233089908973e-06, 'num_leaves': 144, 'max_depth': 10, 'n_estimators': 317, 'learning_rate': 0.12452944007387748, 'feature_fraction': 0.9389670752073725, 'bagging_fraction': 0.6698099738059272, 'bagging_freq': 6, 'min_child_samples': 5, 'class_weight': 'balanced'}. Best is trial 16 with value: 0.8633484162895928.\n",
      "[I 2024-09-04 09:14:35,964] Trial 36 finished with value: 0.7880778225605812 and parameters: {'lambda_l1': 0.7289518155200203, 'lambda_l2': 3.744839529583834e-05, 'num_leaves': 195, 'max_depth': 7, 'n_estimators': 598, 'learning_rate': 0.08843981279954566, 'feature_fraction': 0.7930399437676457, 'bagging_fraction': 0.799770149791766, 'bagging_freq': 4, 'min_child_samples': 25, 'class_weight': None}. Best is trial 16 with value: 0.8633484162895928.\n"
     ]
    },
    {
     "name": "stdout",
     "output_type": "stream",
     "text": [
      "Early stopping, best iteration is:\n",
      "[19]\tvalid_0's multi_logloss: 0.540393\n",
      "Training until validation scores don't improve for 30 rounds\n",
      "Early stopping, best iteration is:\n",
      "[60]\tvalid_0's multi_logloss: 0.527195\n"
     ]
    },
    {
     "name": "stderr",
     "output_type": "stream",
     "text": [
      "[I 2024-09-04 09:14:36,088] Trial 37 finished with value: 0.8512929809605002 and parameters: {'lambda_l1': 0.0216370048994159, 'lambda_l2': 0.0003202084546736609, 'num_leaves': 84, 'max_depth': 8, 'n_estimators': 800, 'learning_rate': 0.15367913909987851, 'feature_fraction': 0.7409245122235976, 'bagging_fraction': 0.7370589709790446, 'bagging_freq': 1, 'min_child_samples': 10, 'class_weight': 'balanced'}. Best is trial 16 with value: 0.8633484162895928.\n"
     ]
    },
    {
     "name": "stdout",
     "output_type": "stream",
     "text": [
      "Training until validation scores don't improve for 30 rounds\n",
      "Early stopping, best iteration is:\n",
      "[20]\tvalid_0's multi_logloss: 0.500187\n",
      "Training until validation scores don't improve for 30 rounds\n"
     ]
    },
    {
     "name": "stderr",
     "output_type": "stream",
     "text": [
      "[I 2024-09-04 09:14:36,278] Trial 38 finished with value: 0.8172955588911862 and parameters: {'lambda_l1': 0.0009568226584649502, 'lambda_l2': 0.0037936036608752863, 'num_leaves': 78, 'max_depth': 9, 'n_estimators': 471, 'learning_rate': 0.03275816109939618, 'feature_fraction': 0.7393168041684697, 'bagging_fraction': 0.7364531911254735, 'bagging_freq': 2, 'min_child_samples': 10, 'class_weight': None}. Best is trial 16 with value: 0.8633484162895928.\n",
      "[I 2024-09-04 09:14:36,435] Trial 39 finished with value: 0.8295238095238094 and parameters: {'lambda_l1': 0.03695520132162878, 'lambda_l2': 0.00033717209451342346, 'num_leaves': 92, 'max_depth': 7, 'n_estimators': 796, 'learning_rate': 0.15508480613095335, 'feature_fraction': 0.8836574266115143, 'bagging_fraction': 0.843857840790847, 'bagging_freq': 3, 'min_child_samples': 21, 'class_weight': 'balanced'}. Best is trial 16 with value: 0.8633484162895928.\n"
     ]
    },
    {
     "name": "stdout",
     "output_type": "stream",
     "text": [
      "Early stopping, best iteration is:\n",
      "[102]\tvalid_0's multi_logloss: 0.51147\n",
      "Training until validation scores don't improve for 30 rounds\n",
      "Early stopping, best iteration is:\n",
      "[15]\tvalid_0's multi_logloss: 0.526368\n"
     ]
    },
    {
     "name": "stderr",
     "output_type": "stream",
     "text": [
      "[I 2024-09-04 09:14:36,574] Trial 40 finished with value: 0.8295706727843064 and parameters: {'lambda_l1': 0.01782137117908838, 'lambda_l2': 0.03729682633380461, 'num_leaves': 232, 'max_depth': 8, 'n_estimators': 208, 'learning_rate': 0.16743960851322653, 'feature_fraction': 0.7587375484047494, 'bagging_fraction': 0.6757599362730747, 'bagging_freq': 4, 'min_child_samples': 14, 'class_weight': None}. Best is trial 16 with value: 0.8633484162895928.\n",
      "[I 2024-09-04 09:14:36,687] Trial 41 finished with value: 0.8314513073133764 and parameters: {'lambda_l1': 0.27206057421458396, 'lambda_l2': 0.0008055813307121533, 'num_leaves': 117, 'max_depth': 4, 'n_estimators': 665, 'learning_rate': 0.1385073988303246, 'feature_fraction': 0.8055508039861001, 'bagging_fraction': 0.7743958537542903, 'bagging_freq': 1, 'min_child_samples': 31, 'class_weight': 'balanced'}. Best is trial 16 with value: 0.8633484162895928.\n"
     ]
    },
    {
     "name": "stdout",
     "output_type": "stream",
     "text": [
      "Training until validation scores don't improve for 30 rounds\n",
      "Early stopping, best iteration is:\n",
      "[25]\tvalid_0's multi_logloss: 0.482369\n",
      "Training until validation scores don't improve for 30 rounds\n",
      "Early stopping, best iteration is:\n",
      "[29]\tvalid_0's multi_logloss: 0.514644\n"
     ]
    },
    {
     "name": "stderr",
     "output_type": "stream",
     "text": [
      "[I 2024-09-04 09:14:36,815] Trial 42 finished with value: 0.8183417999968349 and parameters: {'lambda_l1': 0.0007136630561425786, 'lambda_l2': 5.784747692290351e-07, 'num_leaves': 66, 'max_depth': 5, 'n_estimators': 976, 'learning_rate': 0.14824064570316833, 'feature_fraction': 0.8303568349915937, 'bagging_fraction': 0.7172207419533926, 'bagging_freq': 1, 'min_child_samples': 9, 'class_weight': 'balanced'}. Best is trial 16 with value: 0.8633484162895928.\n",
      "[I 2024-09-04 09:14:36,912] Trial 43 finished with value: 0.8318070818070818 and parameters: {'lambda_l1': 0.008165466721978893, 'lambda_l2': 0.00020263832592539745, 'num_leaves': 88, 'max_depth': 3, 'n_estimators': 773, 'learning_rate': 0.1795439229954917, 'feature_fraction': 0.9170287039730307, 'bagging_fraction': 0.607975468606095, 'bagging_freq': 1, 'min_child_samples': 19, 'class_weight': 'balanced'}. Best is trial 16 with value: 0.8633484162895928.\n"
     ]
    },
    {
     "name": "stdout",
     "output_type": "stream",
     "text": [
      "Training until validation scores don't improve for 30 rounds\n",
      "Early stopping, best iteration is:\n",
      "[19]\tvalid_0's multi_logloss: 0.514688\n",
      "Training until validation scores don't improve for 30 rounds\n",
      "Early stopping, best iteration is:\n",
      "[17]\tvalid_0's multi_logloss: 0.512895\n"
     ]
    },
    {
     "name": "stderr",
     "output_type": "stream",
     "text": [
      "[I 2024-09-04 09:14:37,026] Trial 44 finished with value: 0.8202739588811259 and parameters: {'lambda_l1': 0.006954661939598138, 'lambda_l2': 0.0017398848437745293, 'num_leaves': 22, 'max_depth': 12, 'n_estimators': 890, 'learning_rate': 0.1907799767336813, 'feature_fraction': 0.6645447545248773, 'bagging_fraction': 0.6738309096285167, 'bagging_freq': 2, 'min_child_samples': 27, 'class_weight': 'balanced'}. Best is trial 16 with value: 0.8633484162895928.\n",
      "[I 2024-09-04 09:14:37,191] Trial 45 finished with value: 0.8407239819004525 and parameters: {'lambda_l1': 0.09927887659238659, 'lambda_l2': 3.409588385717942e-06, 'num_leaves': 58, 'max_depth': 6, 'n_estimators': 631, 'learning_rate': 0.13011422444742995, 'feature_fraction': 0.9688827567187144, 'bagging_fraction': 0.7661215805661957, 'bagging_freq': 1, 'min_child_samples': 5, 'class_weight': 'balanced'}. Best is trial 16 with value: 0.8633484162895928.\n"
     ]
    },
    {
     "name": "stdout",
     "output_type": "stream",
     "text": [
      "Training until validation scores don't improve for 30 rounds\n",
      "Early stopping, best iteration is:\n",
      "[23]\tvalid_0's multi_logloss: 0.518849\n",
      "Training until validation scores don't improve for 30 rounds\n",
      "Early stopping, best iteration is:\n",
      "[18]\tvalid_0's multi_logloss: 0.537513\n"
     ]
    },
    {
     "name": "stderr",
     "output_type": "stream",
     "text": [
      "[I 2024-09-04 09:14:37,282] Trial 46 finished with value: 0.18666666666666668 and parameters: {'lambda_l1': 0.06831805695118089, 'lambda_l2': 0.0029235889094718984, 'num_leaves': 91, 'max_depth': 6, 'n_estimators': 595, 'learning_rate': 0.13013965670936226, 'feature_fraction': 0.9710035517865995, 'bagging_fraction': 0.7648233439814904, 'bagging_freq': 1, 'min_child_samples': 99, 'class_weight': 'balanced'}. Best is trial 16 with value: 0.8633484162895928.\n",
      "[I 2024-09-04 09:14:37,408] Trial 47 finished with value: 0.8196408529741864 and parameters: {'lambda_l1': 0.7067467690809544, 'lambda_l2': 6.576891072412961e-05, 'num_leaves': 63, 'max_depth': 6, 'n_estimators': 492, 'learning_rate': 0.1443603156870756, 'feature_fraction': 0.9981150159023768, 'bagging_fraction': 0.8173310162911016, 'bagging_freq': 4, 'min_child_samples': 6, 'class_weight': 'balanced'}. Best is trial 16 with value: 0.8633484162895928.\n"
     ]
    },
    {
     "name": "stdout",
     "output_type": "stream",
     "text": [
      "Training until validation scores don't improve for 30 rounds\n",
      "Early stopping, best iteration is:\n",
      "[1]\tvalid_0's multi_logloss: 1.09861\n",
      "Training until validation scores don't improve for 30 rounds\n",
      "Early stopping, best iteration is:\n",
      "[22]\tvalid_0's multi_logloss: 0.527628\n"
     ]
    },
    {
     "name": "stderr",
     "output_type": "stream",
     "text": [
      "[I 2024-09-04 09:14:37,610] Trial 48 finished with value: 0.8291204758050855 and parameters: {'lambda_l1': 2.139674747149346, 'lambda_l2': 7.918061064060112e-08, 'num_leaves': 178, 'max_depth': 8, 'n_estimators': 713, 'learning_rate': 0.15807251228944805, 'feature_fraction': 0.9071836373839529, 'bagging_fraction': 0.7665269057025205, 'bagging_freq': 2, 'min_child_samples': 13, 'class_weight': 'balanced'}. Best is trial 16 with value: 0.8633484162895928.\n"
     ]
    },
    {
     "name": "stdout",
     "output_type": "stream",
     "text": [
      "Training until validation scores don't improve for 30 rounds\n",
      "Early stopping, best iteration is:\n",
      "[46]\tvalid_0's multi_logloss: 0.509358\n",
      "Training until validation scores don't improve for 30 rounds\n"
     ]
    },
    {
     "name": "stderr",
     "output_type": "stream",
     "text": [
      "[I 2024-09-04 09:14:37,777] Trial 49 finished with value: 0.8208754208754209 and parameters: {'lambda_l1': 0.15613509424685365, 'lambda_l2': 0.020000841420821775, 'num_leaves': 144, 'max_depth': 11, 'n_estimators': 337, 'learning_rate': 0.17403026516711984, 'feature_fraction': 0.9564667496034305, 'bagging_fraction': 0.72283499903246, 'bagging_freq': 3, 'min_child_samples': 9, 'class_weight': None}. Best is trial 16 with value: 0.8633484162895928.\n"
     ]
    },
    {
     "name": "stdout",
     "output_type": "stream",
     "text": [
      "Early stopping, best iteration is:\n",
      "[16]\tvalid_0's multi_logloss: 0.531885\n"
     ]
    }
   ],
   "source": [
    "study = optuna.create_study(direction='maximize')\n",
    "study.optimize(objective, n_trials=50)"
   ]
  },
  {
   "cell_type": "code",
   "execution_count": 19,
   "id": "dd7913ee",
   "metadata": {},
   "outputs": [
    {
     "data": {
      "text/plain": [
       "{'lambda_l1': 7.681816698813154e-08,\n",
       " 'lambda_l2': 0.003105842906499414,\n",
       " 'num_leaves': 213,\n",
       " 'max_depth': 11,\n",
       " 'n_estimators': 424,\n",
       " 'learning_rate': 0.1243535960980597,\n",
       " 'feature_fraction': 0.762436288524388,\n",
       " 'bagging_fraction': 0.6774588423737005,\n",
       " 'bagging_freq': 3,\n",
       " 'min_child_samples': 7,\n",
       " 'class_weight': 'balanced'}"
      ]
     },
     "execution_count": 19,
     "metadata": {},
     "output_type": "execute_result"
    }
   ],
   "source": [
    "study.best_params"
   ]
  },
  {
   "cell_type": "code",
   "execution_count": 24,
   "id": "ca065c10",
   "metadata": {},
   "outputs": [
    {
     "name": "stdout",
     "output_type": "stream",
     "text": [
      "Training until validation scores don't improve for 30 rounds\n",
      "Early stopping, best iteration is:\n",
      "[19]\tvalid_0's multi_logloss: 0.492962\n"
     ]
    },
    {
     "data": {
      "text/html": [
       "<style>#sk-container-id-5 {color: black;}#sk-container-id-5 pre{padding: 0;}#sk-container-id-5 div.sk-toggleable {background-color: white;}#sk-container-id-5 label.sk-toggleable__label {cursor: pointer;display: block;width: 100%;margin-bottom: 0;padding: 0.3em;box-sizing: border-box;text-align: center;}#sk-container-id-5 label.sk-toggleable__label-arrow:before {content: \"▸\";float: left;margin-right: 0.25em;color: #696969;}#sk-container-id-5 label.sk-toggleable__label-arrow:hover:before {color: black;}#sk-container-id-5 div.sk-estimator:hover label.sk-toggleable__label-arrow:before {color: black;}#sk-container-id-5 div.sk-toggleable__content {max-height: 0;max-width: 0;overflow: hidden;text-align: left;background-color: #f0f8ff;}#sk-container-id-5 div.sk-toggleable__content pre {margin: 0.2em;color: black;border-radius: 0.25em;background-color: #f0f8ff;}#sk-container-id-5 input.sk-toggleable__control:checked~div.sk-toggleable__content {max-height: 200px;max-width: 100%;overflow: auto;}#sk-container-id-5 input.sk-toggleable__control:checked~label.sk-toggleable__label-arrow:before {content: \"▾\";}#sk-container-id-5 div.sk-estimator input.sk-toggleable__control:checked~label.sk-toggleable__label {background-color: #d4ebff;}#sk-container-id-5 div.sk-label input.sk-toggleable__control:checked~label.sk-toggleable__label {background-color: #d4ebff;}#sk-container-id-5 input.sk-hidden--visually {border: 0;clip: rect(1px 1px 1px 1px);clip: rect(1px, 1px, 1px, 1px);height: 1px;margin: -1px;overflow: hidden;padding: 0;position: absolute;width: 1px;}#sk-container-id-5 div.sk-estimator {font-family: monospace;background-color: #f0f8ff;border: 1px dotted black;border-radius: 0.25em;box-sizing: border-box;margin-bottom: 0.5em;}#sk-container-id-5 div.sk-estimator:hover {background-color: #d4ebff;}#sk-container-id-5 div.sk-parallel-item::after {content: \"\";width: 100%;border-bottom: 1px solid gray;flex-grow: 1;}#sk-container-id-5 div.sk-label:hover label.sk-toggleable__label {background-color: #d4ebff;}#sk-container-id-5 div.sk-serial::before {content: \"\";position: absolute;border-left: 1px solid gray;box-sizing: border-box;top: 0;bottom: 0;left: 50%;z-index: 0;}#sk-container-id-5 div.sk-serial {display: flex;flex-direction: column;align-items: center;background-color: white;padding-right: 0.2em;padding-left: 0.2em;position: relative;}#sk-container-id-5 div.sk-item {position: relative;z-index: 1;}#sk-container-id-5 div.sk-parallel {display: flex;align-items: stretch;justify-content: center;background-color: white;position: relative;}#sk-container-id-5 div.sk-item::before, #sk-container-id-5 div.sk-parallel-item::before {content: \"\";position: absolute;border-left: 1px solid gray;box-sizing: border-box;top: 0;bottom: 0;left: 50%;z-index: -1;}#sk-container-id-5 div.sk-parallel-item {display: flex;flex-direction: column;z-index: 1;position: relative;background-color: white;}#sk-container-id-5 div.sk-parallel-item:first-child::after {align-self: flex-end;width: 50%;}#sk-container-id-5 div.sk-parallel-item:last-child::after {align-self: flex-start;width: 50%;}#sk-container-id-5 div.sk-parallel-item:only-child::after {width: 0;}#sk-container-id-5 div.sk-dashed-wrapped {border: 1px dashed gray;margin: 0 0.4em 0.5em 0.4em;box-sizing: border-box;padding-bottom: 0.4em;background-color: white;}#sk-container-id-5 div.sk-label label {font-family: monospace;font-weight: bold;display: inline-block;line-height: 1.2em;}#sk-container-id-5 div.sk-label-container {text-align: center;}#sk-container-id-5 div.sk-container {/* jupyter's `normalize.less` sets `[hidden] { display: none; }` but bootstrap.min.css set `[hidden] { display: none !important; }` so we also need the `!important` here to be able to override the default hidden behavior on the sphinx rendered scikit-learn.org. See: https://github.com/scikit-learn/scikit-learn/issues/21755 */display: inline-block !important;position: relative;}#sk-container-id-5 div.sk-text-repr-fallback {display: none;}</style><div id=\"sk-container-id-5\" class=\"sk-top-container\"><div class=\"sk-text-repr-fallback\"><pre>LGBMClassifier(bagging_fraction=0.6774588423737005, bagging_freq=3,\n",
       "               class_weight=&#x27;balanced&#x27;, feature_fraction=0.762436288524388,\n",
       "               lambda_l1=7.681816698813154e-08, lambda_l2=0.003105842906499414,\n",
       "               learning_rate=0.1243535960980597, max_depth=11,\n",
       "               min_child_samples=7, n_estimators=424, num_leaves=213,\n",
       "               verbose=-100)</pre><b>In a Jupyter environment, please rerun this cell to show the HTML representation or trust the notebook. <br />On GitHub, the HTML representation is unable to render, please try loading this page with nbviewer.org.</b></div><div class=\"sk-container\" hidden><div class=\"sk-item\"><div class=\"sk-estimator sk-toggleable\"><input class=\"sk-toggleable__control sk-hidden--visually\" id=\"sk-estimator-id-5\" type=\"checkbox\" checked><label for=\"sk-estimator-id-5\" class=\"sk-toggleable__label sk-toggleable__label-arrow\">LGBMClassifier</label><div class=\"sk-toggleable__content\"><pre>LGBMClassifier(bagging_fraction=0.6774588423737005, bagging_freq=3,\n",
       "               class_weight=&#x27;balanced&#x27;, feature_fraction=0.762436288524388,\n",
       "               lambda_l1=7.681816698813154e-08, lambda_l2=0.003105842906499414,\n",
       "               learning_rate=0.1243535960980597, max_depth=11,\n",
       "               min_child_samples=7, n_estimators=424, num_leaves=213,\n",
       "               verbose=-100)</pre></div></div></div></div></div>"
      ],
      "text/plain": [
       "LGBMClassifier(bagging_fraction=0.6774588423737005, bagging_freq=3,\n",
       "               class_weight='balanced', feature_fraction=0.762436288524388,\n",
       "               lambda_l1=7.681816698813154e-08, lambda_l2=0.003105842906499414,\n",
       "               learning_rate=0.1243535960980597, max_depth=11,\n",
       "               min_child_samples=7, n_estimators=424, num_leaves=213,\n",
       "               verbose=-100)"
      ]
     },
     "execution_count": 24,
     "metadata": {},
     "output_type": "execute_result"
    }
   ],
   "source": [
    "model = LGBMClassifier(**study.best_params, verbose=-100)\n",
    "model.fit(x_train, y_train, eval_set=(x_val, y_val), callbacks=[early_stopping(stopping_rounds=30)])"
   ]
  },
  {
   "cell_type": "code",
   "execution_count": 25,
   "id": "c0de8e3a",
   "metadata": {},
   "outputs": [
    {
     "data": {
      "text/plain": [
       "0.8633484162895928"
      ]
     },
     "execution_count": 25,
     "metadata": {},
     "output_type": "execute_result"
    }
   ],
   "source": [
    "metric(y_val, model.predict(x_val))"
   ]
  },
  {
   "cell_type": "markdown",
   "id": "0bc21ae6",
   "metadata": {},
   "source": [
    "# CatBoost"
   ]
  },
  {
   "cell_type": "code",
   "execution_count": 26,
   "id": "f22b059f",
   "metadata": {},
   "outputs": [],
   "source": [
    "from catboost import CatBoostClassifier"
   ]
  },
  {
   "cell_type": "code",
   "execution_count": 29,
   "id": "e82e0404",
   "metadata": {},
   "outputs": [],
   "source": [
    "def objective(trial):\n",
    "    params = {\n",
    "        'l2_leaf_reg': trial.suggest_float('l2_leaf_reg', 1e-8, 10.0, log=True),\n",
    "#         'num_leaves': trial.suggest_int('num_leaves', 2, 256),\n",
    "        'max_depth': trial.suggest_int('max_depth', 2, 10),\n",
    "        'iterations': trial.suggest_int('iterations', 100, 1200),\n",
    "        'learning_rate': trial.suggest_float('learning_rate', 0.001, 0.5),\n",
    "        'rsm': trial.suggest_float('rsm', 0.4, 1.0),\n",
    "#         'bagging_temperature': trial.suggest_float('bagging_temperature', 0., 1.0),  # for Bayessian bootstrap\n",
    "        'subsample': trial.suggest_float('subsample', 0.2, 1.0),  # for Bernoulli bootstrap\n",
    "        'min_data_in_leaf': trial.suggest_int('min_data_in_leaf', 1, 250),\n",
    "        'auto_class_weights': trial.suggest_categorical('auto_class_weights', ['Balanced', 'SqrtBalanced', None]),\n",
    "        'bootstrap_type': \"Bernoulli\"\n",
    "    }\n",
    "    \n",
    "    model = CatBoostClassifier(**params)\n",
    "    model.fit(x_train, y_train, eval_set=(x_val, y_val), early_stopping_rounds=30, verbose=100)\n",
    "    \n",
    "    preds = model.predict(x_val)\n",
    "    \n",
    "    return metric(y_val, preds)"
   ]
  },
  {
   "cell_type": "code",
   "execution_count": 30,
   "id": "577459c6",
   "metadata": {},
   "outputs": [
    {
     "name": "stderr",
     "output_type": "stream",
     "text": [
      "[I 2024-09-04 09:22:57,152] A new study created in memory with name: no-name-f1af6121-b684-416c-8378-936d9d1e9770\n",
      "[I 2024-09-04 09:22:57,406] Trial 0 finished with value: 0.8076504271097344 and parameters: {'l2_leaf_reg': 2.347067041802901, 'max_depth': 4, 'iterations': 898, 'learning_rate': 0.1707138613343889, 'rsm': 0.5247607285223304, 'subsample': 0.26377622076109897, 'min_data_in_leaf': 160, 'auto_class_weights': 'Balanced'}. Best is trial 0 with value: 0.8076504271097344.\n"
     ]
    },
    {
     "name": "stdout",
     "output_type": "stream",
     "text": [
      "0:\tlearn: 0.9875681\ttest: 0.9769801\tbest: 0.9769801 (0)\ttotal: 52.3ms\tremaining: 46.9s\n",
      "100:\tlearn: 0.2003772\ttest: 0.5133677\tbest: 0.5008378 (76)\ttotal: 151ms\tremaining: 1.19s\n",
      "Stopped by overfitting detector  (30 iterations wait)\n",
      "\n",
      "bestTest = 0.5008377634\n",
      "bestIteration = 76\n",
      "\n",
      "Shrink model to first 77 iterations.\n",
      "0:\tlearn: 0.7090393\ttest: 0.7944009\tbest: 0.7944009 (0)\ttotal: 12.7ms\tremaining: 13.2s\n"
     ]
    },
    {
     "name": "stderr",
     "output_type": "stream",
     "text": [
      "[I 2024-09-04 09:22:58,676] Trial 1 finished with value: 0.8104072398190046 and parameters: {'l2_leaf_reg': 0.11499441832907728, 'max_depth': 10, 'iterations': 1041, 'learning_rate': 0.4622282992226346, 'rsm': 0.5921691446146322, 'subsample': 0.38080018149115535, 'min_data_in_leaf': 68, 'auto_class_weights': None}. Best is trial 1 with value: 0.8104072398190046.\n"
     ]
    },
    {
     "name": "stdout",
     "output_type": "stream",
     "text": [
      "Stopped by overfitting detector  (30 iterations wait)\n",
      "\n",
      "bestTest = 0.5642011884\n",
      "bestIteration = 14\n",
      "\n",
      "Shrink model to first 15 iterations.\n",
      "0:\tlearn: 1.0730787\ttest: 1.0820356\tbest: 1.0820356 (0)\ttotal: 12.9ms\tremaining: 7.33s\n",
      "100:\tlearn: 0.2896638\ttest: 0.5342133\tbest: 0.5329564 (99)\ttotal: 1.04s\tremaining: 4.84s\n",
      "200:\tlearn: 0.1439101\ttest: 0.4918741\tbest: 0.4913355 (195)\ttotal: 2.17s\tremaining: 3.98s\n",
      "300:\tlearn: 0.0904373\ttest: 0.4866737\tbest: 0.4861167 (298)\ttotal: 3.25s\tremaining: 2.89s\n"
     ]
    },
    {
     "name": "stderr",
     "output_type": "stream",
     "text": [
      "[I 2024-09-04 09:23:02,372] Trial 2 finished with value: 0.8382703730102162 and parameters: {'l2_leaf_reg': 1.4625044862694558, 'max_depth': 8, 'iterations': 569, 'learning_rate': 0.045520048423099035, 'rsm': 0.7530665875819506, 'subsample': 0.25499045368445405, 'min_data_in_leaf': 228, 'auto_class_weights': 'SqrtBalanced'}. Best is trial 2 with value: 0.8382703730102162.\n"
     ]
    },
    {
     "name": "stdout",
     "output_type": "stream",
     "text": [
      "Stopped by overfitting detector  (30 iterations wait)\n",
      "\n",
      "bestTest = 0.4861167303\n",
      "bestIteration = 298\n",
      "\n",
      "Shrink model to first 299 iterations.\n",
      "0:\tlearn: 0.7286610\ttest: 0.8756495\tbest: 0.8756495 (0)\ttotal: 46.9ms\tremaining: 20.8s\n"
     ]
    },
    {
     "name": "stderr",
     "output_type": "stream",
     "text": [
      "[I 2024-09-04 09:23:04,345] Trial 3 finished with value: 0.7965285515209809 and parameters: {'l2_leaf_reg': 3.135186137462808e-05, 'max_depth': 10, 'iterations': 445, 'learning_rate': 0.29690536881180585, 'rsm': 0.8929567931646974, 'subsample': 0.4606039945306517, 'min_data_in_leaf': 74, 'auto_class_weights': 'SqrtBalanced'}. Best is trial 2 with value: 0.8382703730102162.\n"
     ]
    },
    {
     "name": "stdout",
     "output_type": "stream",
     "text": [
      "Stopped by overfitting detector  (30 iterations wait)\n",
      "\n",
      "bestTest = 0.518755745\n",
      "bestIteration = 16\n",
      "\n",
      "Shrink model to first 17 iterations.\n",
      "0:\tlearn: 0.9945507\ttest: 1.0154113\tbest: 1.0154113 (0)\ttotal: 2.04ms\tremaining: 960ms\n"
     ]
    },
    {
     "name": "stderr",
     "output_type": "stream",
     "text": [
      "[I 2024-09-04 09:23:04,584] Trial 4 finished with value: 0.796881433497088 and parameters: {'l2_leaf_reg': 1.517111414659842e-05, 'max_depth': 5, 'iterations': 472, 'learning_rate': 0.12759773733496396, 'rsm': 0.9215036547441602, 'subsample': 0.7910520901610236, 'min_data_in_leaf': 37, 'auto_class_weights': None}. Best is trial 2 with value: 0.8382703730102162.\n",
      "[I 2024-09-04 09:23:04,702] Trial 5 finished with value: 0.8325889526929439 and parameters: {'l2_leaf_reg': 1.2901670718267133e-07, 'max_depth': 5, 'iterations': 280, 'learning_rate': 0.3372480221417226, 'rsm': 0.8615330505402191, 'subsample': 0.8228702222021902, 'min_data_in_leaf': 15, 'auto_class_weights': 'SqrtBalanced'}. Best is trial 2 with value: 0.8382703730102162.\n"
     ]
    },
    {
     "name": "stdout",
     "output_type": "stream",
     "text": [
      "Stopped by overfitting detector  (30 iterations wait)\n",
      "\n",
      "bestTest = 0.5226505483\n",
      "bestIteration = 31\n",
      "\n",
      "Shrink model to first 32 iterations.\n",
      "0:\tlearn: 0.8251236\ttest: 0.8356541\tbest: 0.8356541 (0)\ttotal: 3.19ms\tremaining: 892ms\n",
      "Stopped by overfitting detector  (30 iterations wait)\n",
      "\n",
      "bestTest = 0.5387623032\n",
      "bestIteration = 13\n",
      "\n",
      "Shrink model to first 14 iterations.\n",
      "0:\tlearn: 1.0500420\ttest: 1.0454861\tbest: 1.0454861 (0)\ttotal: 1.88ms\tremaining: 1.12s\n"
     ]
    },
    {
     "name": "stderr",
     "output_type": "stream",
     "text": [
      "[I 2024-09-04 09:23:05,021] Trial 6 finished with value: 0.8180995475113123 and parameters: {'l2_leaf_reg': 3.698054115738356, 'max_depth': 5, 'iterations': 597, 'learning_rate': 0.08049752206839927, 'rsm': 0.5407292955653111, 'subsample': 0.6966620037452211, 'min_data_in_leaf': 207, 'auto_class_weights': 'Balanced'}. Best is trial 2 with value: 0.8382703730102162.\n"
     ]
    },
    {
     "name": "stdout",
     "output_type": "stream",
     "text": [
      "100:\tlearn: 0.3188009\ttest: 0.5067595\tbest: 0.5067595 (100)\ttotal: 140ms\tremaining: 687ms\n",
      "Stopped by overfitting detector  (30 iterations wait)\n",
      "\n",
      "bestTest = 0.4981244238\n",
      "bestIteration = 154\n",
      "\n",
      "Shrink model to first 155 iterations.\n",
      "0:\tlearn: 0.8626639\ttest: 0.9171799\tbest: 0.9171799 (0)\ttotal: 23.8ms\tremaining: 8.36s\n"
     ]
    },
    {
     "name": "stderr",
     "output_type": "stream",
     "text": [
      "[I 2024-09-04 09:23:05,995] Trial 7 finished with value: 0.7725883796141408 and parameters: {'l2_leaf_reg': 5.677802496106193e-05, 'max_depth': 9, 'iterations': 352, 'learning_rate': 0.2042029983272471, 'rsm': 0.6939659785943904, 'subsample': 0.3796562619115097, 'min_data_in_leaf': 223, 'auto_class_weights': 'Balanced'}. Best is trial 2 with value: 0.8382703730102162.\n"
     ]
    },
    {
     "name": "stdout",
     "output_type": "stream",
     "text": [
      "Stopped by overfitting detector  (30 iterations wait)\n",
      "\n",
      "bestTest = 0.5682412472\n",
      "bestIteration = 13\n",
      "\n",
      "Shrink model to first 14 iterations.\n",
      "0:\tlearn: 0.9228223\ttest: 0.9247723\tbest: 0.9247723 (0)\ttotal: 7.79ms\tremaining: 6.76s\n"
     ]
    },
    {
     "name": "stderr",
     "output_type": "stream",
     "text": [
      "[I 2024-09-04 09:23:06,349] Trial 8 finished with value: 0.7971845148315738 and parameters: {'l2_leaf_reg': 2.278432870041965, 'max_depth': 8, 'iterations': 869, 'learning_rate': 0.3380445735517005, 'rsm': 0.47895709133201836, 'subsample': 0.8556116783156995, 'min_data_in_leaf': 83, 'auto_class_weights': 'SqrtBalanced'}. Best is trial 2 with value: 0.8382703730102162.\n"
     ]
    },
    {
     "name": "stdout",
     "output_type": "stream",
     "text": [
      "Stopped by overfitting detector  (30 iterations wait)\n",
      "\n",
      "bestTest = 0.5288643012\n",
      "bestIteration = 24\n",
      "\n",
      "Shrink model to first 25 iterations.\n",
      "0:\tlearn: 0.7712098\ttest: 0.8512556\tbest: 0.8512556 (0)\ttotal: 7.24ms\tremaining: 6.64s\n"
     ]
    },
    {
     "name": "stderr",
     "output_type": "stream",
     "text": [
      "[I 2024-09-04 09:23:06,617] Trial 9 finished with value: 0.8179421990648997 and parameters: {'l2_leaf_reg': 0.0006713178419880998, 'max_depth': 7, 'iterations': 918, 'learning_rate': 0.4289182058381054, 'rsm': 0.6172266115543025, 'subsample': 0.383110251393504, 'min_data_in_leaf': 182, 'auto_class_weights': 'Balanced'}. Best is trial 2 with value: 0.8382703730102162.\n",
      "[I 2024-09-04 09:23:06,743] Trial 10 finished with value: 0.8214530118564495 and parameters: {'l2_leaf_reg': 0.019316704109695902, 'max_depth': 2, 'iterations': 108, 'learning_rate': 0.018020935902299612, 'rsm': 0.759369402551169, 'subsample': 0.20200476788757626, 'min_data_in_leaf': 131, 'auto_class_weights': 'SqrtBalanced'}. Best is trial 2 with value: 0.8382703730102162.\n"
     ]
    },
    {
     "name": "stdout",
     "output_type": "stream",
     "text": [
      "Stopped by overfitting detector  (30 iterations wait)\n",
      "\n",
      "bestTest = 0.4641633555\n",
      "bestIteration = 10\n",
      "\n",
      "Shrink model to first 11 iterations.\n",
      "0:\tlearn: 1.0885808\ttest: 1.0859635\tbest: 1.0859635 (0)\ttotal: 431us\tremaining: 46.2ms\n",
      "100:\tlearn: 0.7480273\ttest: 0.7336689\tbest: 0.7336689 (100)\ttotal: 36.5ms\tremaining: 2.53ms\n",
      "107:\tlearn: 0.7341921\ttest: 0.7203238\tbest: 0.7203238 (107)\ttotal: 39ms\tremaining: 0us\n",
      "\n",
      "bestTest = 0.7203237715\n",
      "bestIteration = 107\n",
      "\n",
      "0:\tlearn: 0.8095660\ttest: 0.8401563\tbest: 0.8401563 (0)\ttotal: 2.9ms\tremaining: 553ms\n"
     ]
    },
    {
     "name": "stderr",
     "output_type": "stream",
     "text": [
      "[I 2024-09-04 09:23:06,950] Trial 11 finished with value: 0.8387675816247245 and parameters: {'l2_leaf_reg': 6.725431622003188e-08, 'max_depth': 6, 'iterations': 192, 'learning_rate': 0.35601461924767946, 'rsm': 0.7965712097537553, 'subsample': 0.9903862500354335, 'min_data_in_leaf': 14, 'auto_class_weights': 'SqrtBalanced'}. Best is trial 11 with value: 0.8387675816247245.\n"
     ]
    },
    {
     "name": "stdout",
     "output_type": "stream",
     "text": [
      "Stopped by overfitting detector  (30 iterations wait)\n",
      "\n",
      "bestTest = 0.5581359842\n",
      "bestIteration = 18\n",
      "\n",
      "Shrink model to first 19 iterations.\n",
      "0:\tlearn: 0.8222960\ttest: 0.8845461\tbest: 0.8845461 (0)\ttotal: 7.24ms\tremaining: 4.95s\n"
     ]
    },
    {
     "name": "stderr",
     "output_type": "stream",
     "text": [
      "[I 2024-09-04 09:23:07,400] Trial 12 finished with value: 0.8072017884366552 and parameters: {'l2_leaf_reg': 1.4102912742758601e-08, 'max_depth': 7, 'iterations': 685, 'learning_rate': 0.2497981507893942, 'rsm': 0.7759305428111338, 'subsample': 0.9864139324046187, 'min_data_in_leaf': 248, 'auto_class_weights': 'SqrtBalanced'}. Best is trial 11 with value: 0.8387675816247245.\n"
     ]
    },
    {
     "name": "stdout",
     "output_type": "stream",
     "text": [
      "Stopped by overfitting detector  (30 iterations wait)\n",
      "\n",
      "bestTest = 0.5618500736\n",
      "bestIteration = 23\n",
      "\n",
      "Shrink model to first 24 iterations.\n",
      "0:\tlearn: 0.7180084\ttest: 0.9155640\tbest: 0.9155640 (0)\ttotal: 7.17ms\tremaining: 918ms\n"
     ]
    },
    {
     "name": "stderr",
     "output_type": "stream",
     "text": [
      "[I 2024-09-04 09:23:07,731] Trial 13 finished with value: 0.8092805568834027 and parameters: {'l2_leaf_reg': 8.091515124438186e-07, 'max_depth': 7, 'iterations': 129, 'learning_rate': 0.4066315706780198, 'rsm': 0.9855933088296949, 'subsample': 0.5604253366411032, 'min_data_in_leaf': 126, 'auto_class_weights': 'SqrtBalanced'}. Best is trial 11 with value: 0.8387675816247245.\n"
     ]
    },
    {
     "name": "stdout",
     "output_type": "stream",
     "text": [
      "Stopped by overfitting detector  (30 iterations wait)\n",
      "\n",
      "bestTest = 0.5585502717\n",
      "bestIteration = 9\n",
      "\n",
      "Shrink model to first 10 iterations.\n",
      "0:\tlearn: 1.0751461\ttest: 1.0760053\tbest: 1.0760053 (0)\ttotal: 665us\tremaining: 445ms\n",
      "100:\tlearn: 0.4759281\ttest: 0.5507232\tbest: 0.5507232 (100)\ttotal: 54.7ms\tremaining: 308ms\n",
      "200:\tlearn: 0.3254995\ttest: 0.5149001\tbest: 0.5131212 (195)\ttotal: 108ms\tremaining: 251ms\n"
     ]
    },
    {
     "name": "stderr",
     "output_type": "stream",
     "text": [
      "[I 2024-09-04 09:23:07,951] Trial 14 finished with value: 0.8407239819004525 and parameters: {'l2_leaf_reg': 0.007636701004229624, 'max_depth': 3, 'iterations': 670, 'learning_rate': 0.03317268908564669, 'rsm': 0.790892763685301, 'subsample': 0.6064461438528361, 'min_data_in_leaf': 162, 'auto_class_weights': 'SqrtBalanced'}. Best is trial 14 with value: 0.8407239819004525.\n",
      "[I 2024-09-04 09:23:08,035] Trial 15 finished with value: 0.7977165738470409 and parameters: {'l2_leaf_reg': 0.002565135452870741, 'max_depth': 2, 'iterations': 742, 'learning_rate': 0.49928750204532524, 'rsm': 0.8329532618688117, 'subsample': 0.9401636342706963, 'min_data_in_leaf': 101, 'auto_class_weights': 'SqrtBalanced'}. Best is trial 14 with value: 0.8407239819004525.\n"
     ]
    },
    {
     "name": "stdout",
     "output_type": "stream",
     "text": [
      "Stopped by overfitting detector  (30 iterations wait)\n",
      "\n",
      "bestTest = 0.5123661096\n",
      "bestIteration = 210\n",
      "\n",
      "Shrink model to first 211 iterations.\n",
      "0:\tlearn: 0.8688333\ttest: 0.8055728\tbest: 0.8055728 (0)\ttotal: 494us\tremaining: 366ms\n",
      "Stopped by overfitting detector  (30 iterations wait)\n",
      "\n",
      "bestTest = 0.6046997202\n",
      "bestIteration = 4\n",
      "\n",
      "Shrink model to first 5 iterations.\n",
      "0:\tlearn: 0.8410666\ttest: 0.8093729\tbest: 0.8093729 (0)\ttotal: 585us\tremaining: 156ms\n",
      "Stopped by overfitting detector  (30 iterations wait)\n",
      "\n",
      "bestTest = 0.5624391271\n",
      "bestIteration = 12\n",
      "\n",
      "Shrink model to first 13 iterations.\n"
     ]
    },
    {
     "name": "stderr",
     "output_type": "stream",
     "text": [
      "[I 2024-09-04 09:23:08,132] Trial 16 finished with value: 0.8057519407950183 and parameters: {'l2_leaf_reg': 1.0954663678820239e-06, 'max_depth': 3, 'iterations': 267, 'learning_rate': 0.3799896603571399, 'rsm': 0.6424484858317638, 'subsample': 0.6587175366809719, 'min_data_in_leaf': 160, 'auto_class_weights': None}. Best is trial 14 with value: 0.8407239819004525.\n",
      "[I 2024-09-04 09:23:08,296] Trial 17 finished with value: 0.8309200603318251 and parameters: {'l2_leaf_reg': 0.012185544360411507, 'max_depth': 4, 'iterations': 756, 'learning_rate': 0.2498737063352358, 'rsm': 0.8211731756064078, 'subsample': 0.5546415182928672, 'min_data_in_leaf': 9, 'auto_class_weights': 'SqrtBalanced'}. Best is trial 14 with value: 0.8407239819004525.\n"
     ]
    },
    {
     "name": "stdout",
     "output_type": "stream",
     "text": [
      "0:\tlearn: 0.8806611\ttest: 0.9067412\tbest: 0.9067412 (0)\ttotal: 960us\tremaining: 725ms\n",
      "Stopped by overfitting detector  (30 iterations wait)\n",
      "\n",
      "bestTest = 0.5502165134\n",
      "bestIteration = 24\n",
      "\n",
      "Shrink model to first 25 iterations.\n",
      "0:\tlearn: 0.9216363\ttest: 0.9491114\tbest: 0.9491114 (0)\ttotal: 2.14ms\tremaining: 2.53s\n"
     ]
    },
    {
     "name": "stderr",
     "output_type": "stream",
     "text": [
      "[I 2024-09-04 09:23:08,541] Trial 18 finished with value: 0.816908581614464 and parameters: {'l2_leaf_reg': 0.0006015182910412114, 'max_depth': 6, 'iterations': 1184, 'learning_rate': 0.16947763738792268, 'rsm': 0.6846793996489269, 'subsample': 0.7251484965192885, 'min_data_in_leaf': 48, 'auto_class_weights': 'SqrtBalanced'}. Best is trial 14 with value: 0.8407239819004525.\n",
      "[I 2024-09-04 09:23:08,714] Trial 19 finished with value: 0.8066395969621777 and parameters: {'l2_leaf_reg': 1.2511816356768531e-08, 'max_depth': 4, 'iterations': 485, 'learning_rate': 0.08119488098494923, 'rsm': 0.40038112648121266, 'subsample': 0.8892831740598954, 'min_data_in_leaf': 161, 'auto_class_weights': None}. Best is trial 14 with value: 0.8407239819004525.\n"
     ]
    },
    {
     "name": "stdout",
     "output_type": "stream",
     "text": [
      "Stopped by overfitting detector  (30 iterations wait)\n",
      "\n",
      "bestTest = 0.5271937258\n",
      "bestIteration = 24\n",
      "\n",
      "Shrink model to first 25 iterations.\n",
      "0:\tlearn: 1.0296247\ttest: 1.0259912\tbest: 1.0259912 (0)\ttotal: 769us\tremaining: 373ms\n",
      "100:\tlearn: 0.1986116\ttest: 0.5233180\tbest: 0.5172342 (85)\ttotal: 59.3ms\tremaining: 226ms\n",
      "Stopped by overfitting detector  (30 iterations wait)\n",
      "\n",
      "bestTest = 0.5131192658\n",
      "bestIteration = 113\n",
      "\n",
      "Shrink model to first 114 iterations.\n"
     ]
    },
    {
     "name": "stderr",
     "output_type": "stream",
     "text": [
      "[I 2024-09-04 09:23:08,832] Trial 20 finished with value: 0.819089368831447 and parameters: {'l2_leaf_reg': 0.039563050842878866, 'max_depth': 3, 'iterations': 221, 'learning_rate': 0.29082199382891116, 'rsm': 0.959628919141887, 'subsample': 0.4836752913720461, 'min_data_in_leaf': 114, 'auto_class_weights': 'SqrtBalanced'}. Best is trial 14 with value: 0.8407239819004525.\n"
     ]
    },
    {
     "name": "stdout",
     "output_type": "stream",
     "text": [
      "0:\tlearn: 0.9722853\ttest: 0.9629754\tbest: 0.9629754 (0)\ttotal: 707us\tremaining: 156ms\n",
      "Stopped by overfitting detector  (30 iterations wait)\n",
      "\n",
      "bestTest = 0.5189315151\n",
      "bestIteration = 22\n",
      "\n",
      "Shrink model to first 23 iterations.\n",
      "0:\tlearn: 1.0885165\ttest: 1.0901692\tbest: 1.0901692 (0)\ttotal: 6.81ms\tremaining: 3.9s\n",
      "100:\tlearn: 0.5764589\ttest: 0.7058564\tbest: 0.7058564 (100)\ttotal: 873ms\tremaining: 4.08s\n",
      "200:\tlearn: 0.3682629\ttest: 0.5860583\tbest: 0.5860583 (200)\ttotal: 1.71s\tremaining: 3.16s\n",
      "300:\tlearn: 0.2573555\ttest: 0.5343229\tbest: 0.5343229 (300)\ttotal: 2.52s\tremaining: 2.28s\n",
      "400:\tlearn: 0.1892445\ttest: 0.5103466\tbest: 0.5100009 (398)\ttotal: 3.37s\tremaining: 1.44s\n",
      "500:\tlearn: 0.1439005\ttest: 0.5006603\tbest: 0.5006577 (499)\ttotal: 4.18s\tremaining: 601ms\n"
     ]
    },
    {
     "name": "stderr",
     "output_type": "stream",
     "text": [
      "[I 2024-09-04 09:23:13,769] Trial 21 finished with value: 0.8390476190476189 and parameters: {'l2_leaf_reg': 0.31108526514979695, 'max_depth': 8, 'iterations': 573, 'learning_rate': 0.00935640833371601, 'rsm': 0.7655087155689975, 'subsample': 0.6369076091156192, 'min_data_in_leaf': 250, 'auto_class_weights': 'SqrtBalanced'}. Best is trial 14 with value: 0.8407239819004525.\n"
     ]
    },
    {
     "name": "stdout",
     "output_type": "stream",
     "text": [
      "572:\tlearn: 0.1202943\ttest: 0.4960659\tbest: 0.4960659 (572)\ttotal: 4.77s\tremaining: 0us\n",
      "\n",
      "bestTest = 0.4960658728\n",
      "bestIteration = 572\n",
      "\n",
      "0:\tlearn: 1.0806264\ttest: 1.0840235\tbest: 1.0840235 (0)\ttotal: 8.43ms\tremaining: 3.36s\n",
      "100:\tlearn: 0.3543859\ttest: 0.5822504\tbest: 0.5822504 (100)\ttotal: 863ms\tremaining: 2.55s\n",
      "200:\tlearn: 0.1786056\ttest: 0.5055670\tbest: 0.5055670 (200)\ttotal: 1.69s\tremaining: 1.67s\n",
      "300:\tlearn: 0.1036849\ttest: 0.4914402\tbest: 0.4899177 (293)\ttotal: 2.51s\tremaining: 825ms\n",
      "Stopped by overfitting detector  (30 iterations wait)\n",
      "\n",
      "bestTest = 0.4899177018\n",
      "bestIteration = 293\n",
      "\n",
      "Shrink model to first 294 iterations.\n"
     ]
    },
    {
     "name": "stderr",
     "output_type": "stream",
     "text": [
      "[I 2024-09-04 09:23:16,620] Trial 22 finished with value: 0.8277617057752064 and parameters: {'l2_leaf_reg': 0.2683760413898536, 'max_depth': 8, 'iterations': 400, 'learning_rate': 0.018578263905504988, 'rsm': 0.7904594702961041, 'subsample': 0.6166915692263468, 'min_data_in_leaf': 190, 'auto_class_weights': 'SqrtBalanced'}. Best is trial 14 with value: 0.8407239819004525.\n"
     ]
    },
    {
     "name": "stdout",
     "output_type": "stream",
     "text": [
      "0:\tlearn: 0.9947690\ttest: 0.9923442\tbest: 0.9923442 (0)\ttotal: 3.13ms\tremaining: 1.87s\n"
     ]
    },
    {
     "name": "stderr",
     "output_type": "stream",
     "text": [
      "[I 2024-09-04 09:23:16,985] Trial 23 finished with value: 0.8384721024560059 and parameters: {'l2_leaf_reg': 0.0038372471813920097, 'max_depth': 6, 'iterations': 599, 'learning_rate': 0.09794269000928754, 'rsm': 0.7242354223334411, 'subsample': 0.7385901321740984, 'min_data_in_leaf': 238, 'auto_class_weights': 'SqrtBalanced'}. Best is trial 14 with value: 0.8407239819004525.\n"
     ]
    },
    {
     "name": "stdout",
     "output_type": "stream",
     "text": [
      "Stopped by overfitting detector  (30 iterations wait)\n",
      "\n",
      "bestTest = 0.4914758525\n",
      "bestIteration = 55\n",
      "\n",
      "Shrink model to first 56 iterations.\n",
      "0:\tlearn: 1.0918011\ttest: 1.0941524\tbest: 1.0941524 (0)\ttotal: 18.1ms\tremaining: 9.52s\n",
      "100:\tlearn: 0.6865986\ttest: 0.8094069\tbest: 0.8094069 (100)\ttotal: 1.78s\tremaining: 7.52s\n",
      "200:\tlearn: 0.4763096\ttest: 0.6717294\tbest: 0.6717294 (200)\ttotal: 3.5s\tremaining: 5.7s\n",
      "300:\tlearn: 0.3532875\ttest: 0.6016851\tbest: 0.6016851 (300)\ttotal: 5.26s\tremaining: 3.97s\n",
      "400:\tlearn: 0.2707843\ttest: 0.5614145\tbest: 0.5612815 (399)\ttotal: 6.99s\tremaining: 2.21s\n",
      "500:\tlearn: 0.2157712\ttest: 0.5367694\tbest: 0.5367694 (500)\ttotal: 8.7s\tremaining: 469ms\n"
     ]
    },
    {
     "name": "stderr",
     "output_type": "stream",
     "text": [
      "[I 2024-09-04 09:23:26,359] Trial 24 finished with value: 0.8286085372614239 and parameters: {'l2_leaf_reg': 0.29501415134604936, 'max_depth': 9, 'iterations': 528, 'learning_rate': 0.0060042249041377515, 'rsm': 0.8614126413265988, 'subsample': 0.5060734977946122, 'min_data_in_leaf': 139, 'auto_class_weights': 'SqrtBalanced'}. Best is trial 14 with value: 0.8407239819004525.\n"
     ]
    },
    {
     "name": "stdout",
     "output_type": "stream",
     "text": [
      "527:\tlearn: 0.2027612\ttest: 0.5323595\tbest: 0.5323595 (527)\ttotal: 9.18s\tremaining: 0us\n",
      "\n",
      "bestTest = 0.5323594721\n",
      "bestIteration = 527\n",
      "\n",
      "0:\tlearn: 1.0346595\ttest: 1.0517476\tbest: 1.0517476 (0)\ttotal: 9.02ms\tremaining: 7.21s\n"
     ]
    },
    {
     "name": "stderr",
     "output_type": "stream",
     "text": [
      "[I 2024-09-04 09:23:27,892] Trial 25 finished with value: 0.8190681811070434 and parameters: {'l2_leaf_reg': 8.593916121877427e-05, 'max_depth': 9, 'iterations': 800, 'learning_rate': 0.04924943563654206, 'rsm': 0.6681559463954859, 'subsample': 0.6310515399423556, 'min_data_in_leaf': 197, 'auto_class_weights': 'SqrtBalanced'}. Best is trial 14 with value: 0.8407239819004525.\n"
     ]
    },
    {
     "name": "stdout",
     "output_type": "stream",
     "text": [
      "100:\tlearn: 0.0584065\ttest: 0.4977296\tbest: 0.4841099 (75)\ttotal: 1.35s\tremaining: 9.32s\n",
      "Stopped by overfitting detector  (30 iterations wait)\n",
      "\n",
      "bestTest = 0.4841099326\n",
      "bestIteration = 75\n",
      "\n",
      "Shrink model to first 76 iterations.\n",
      "0:\tlearn: 0.9836099\ttest: 0.9701408\tbest: 0.9701408 (0)\ttotal: 672us\tremaining: 691ms\n"
     ]
    },
    {
     "name": "stderr",
     "output_type": "stream",
     "text": [
      "[I 2024-09-04 09:23:28,036] Trial 26 finished with value: 0.8381868435599779 and parameters: {'l2_leaf_reg': 6.03967696966518e-06, 'max_depth': 3, 'iterations': 1028, 'learning_rate': 0.14809509861606837, 'rsm': 0.731813827269029, 'subsample': 0.7606335144660602, 'min_data_in_leaf': 99, 'auto_class_weights': 'SqrtBalanced'}. Best is trial 14 with value: 0.8407239819004525.\n"
     ]
    },
    {
     "name": "stdout",
     "output_type": "stream",
     "text": [
      "Stopped by overfitting detector  (30 iterations wait)\n",
      "\n",
      "bestTest = 0.4993340434\n",
      "bestIteration = 48\n",
      "\n",
      "Shrink model to first 49 iterations.\n",
      "0:\tlearn: 0.9891871\ttest: 1.0079829\tbest: 1.0079829 (0)\ttotal: 3.06ms\tremaining: 2s\n"
     ]
    },
    {
     "name": "stderr",
     "output_type": "stream",
     "text": [
      "[I 2024-09-04 09:23:28,302] Trial 27 finished with value: 0.8188468830155013 and parameters: {'l2_leaf_reg': 0.0025383340798951137, 'max_depth': 6, 'iterations': 653, 'learning_rate': 0.10772791911967386, 'rsm': 0.817095862738805, 'subsample': 0.907541110669515, 'min_data_in_leaf': 211, 'auto_class_weights': 'SqrtBalanced'}. Best is trial 14 with value: 0.8407239819004525.\n"
     ]
    },
    {
     "name": "stdout",
     "output_type": "stream",
     "text": [
      "Stopped by overfitting detector  (30 iterations wait)\n",
      "\n",
      "bestTest = 0.5138447701\n",
      "bestIteration = 38\n",
      "\n",
      "Shrink model to first 39 iterations.\n",
      "0:\tlearn: 0.7529370\ttest: 0.8500494\tbest: 0.8500494 (0)\ttotal: 4.9ms\tremaining: 897ms\n"
     ]
    },
    {
     "name": "stderr",
     "output_type": "stream",
     "text": [
      "[I 2024-09-04 09:23:28,689] Trial 28 finished with value: 0.7868686868686869 and parameters: {'l2_leaf_reg': 0.07565545435487843, 'max_depth': 7, 'iterations': 184, 'learning_rate': 0.3585724100090449, 'rsm': 0.915952652297085, 'subsample': 0.9997852985596609, 'min_data_in_leaf': 173, 'auto_class_weights': 'Balanced'}. Best is trial 14 with value: 0.8407239819004525.\n",
      "[I 2024-09-04 09:23:28,859] Trial 29 finished with value: 0.7957460950481888 and parameters: {'l2_leaf_reg': 0.4629731173254944, 'max_depth': 5, 'iterations': 341, 'learning_rate': 0.2150444339284462, 'rsm': 0.7811380365919628, 'subsample': 0.4334153172248558, 'min_data_in_leaf': 150, 'auto_class_weights': None}. Best is trial 14 with value: 0.8407239819004525.\n"
     ]
    },
    {
     "name": "stdout",
     "output_type": "stream",
     "text": [
      "Stopped by overfitting detector  (30 iterations wait)\n",
      "\n",
      "bestTest = 0.5556046111\n",
      "bestIteration = 14\n",
      "\n",
      "Shrink model to first 15 iterations.\n",
      "0:\tlearn: 0.9270299\ttest: 0.9285466\tbest: 0.9285466 (0)\ttotal: 1.38ms\tremaining: 469ms\n",
      "Stopped by overfitting detector  (30 iterations wait)\n",
      "\n",
      "bestTest = 0.5174932572\n",
      "bestIteration = 38\n",
      "\n",
      "Shrink model to first 39 iterations.\n"
     ]
    },
    {
     "name": "stderr",
     "output_type": "stream",
     "text": [
      "[I 2024-09-04 09:23:28,997] Trial 30 finished with value: 0.8174481386757603 and parameters: {'l2_leaf_reg': 0.0003256031574852205, 'max_depth': 4, 'iterations': 892, 'learning_rate': 0.29653325627706906, 'rsm': 0.7137899662105388, 'subsample': 0.583175127984016, 'min_data_in_leaf': 32, 'auto_class_weights': 'Balanced'}. Best is trial 14 with value: 0.8407239819004525.\n"
     ]
    },
    {
     "name": "stdout",
     "output_type": "stream",
     "text": [
      "0:\tlearn: 0.8616324\ttest: 0.8519209\tbest: 0.8519209 (0)\ttotal: 971us\tremaining: 866ms\n",
      "Stopped by overfitting detector  (30 iterations wait)\n",
      "\n",
      "bestTest = 0.5481598278\n",
      "bestIteration = 28\n",
      "\n",
      "Shrink model to first 29 iterations.\n",
      "0:\tlearn: 1.0208937\ttest: 1.0298237\tbest: 1.0298237 (0)\ttotal: 2.57ms\tremaining: 1.58s\n"
     ]
    },
    {
     "name": "stderr",
     "output_type": "stream",
     "text": [
      "[I 2024-09-04 09:23:29,444] Trial 31 finished with value: 0.8070423649685864 and parameters: {'l2_leaf_reg': 0.003906999541550279, 'max_depth': 6, 'iterations': 616, 'learning_rate': 0.06605611945586994, 'rsm': 0.732506078790895, 'subsample': 0.692441454727188, 'min_data_in_leaf': 236, 'auto_class_weights': 'SqrtBalanced'}. Best is trial 14 with value: 0.8407239819004525.\n"
     ]
    },
    {
     "name": "stdout",
     "output_type": "stream",
     "text": [
      "100:\tlearn: 0.0914690\ttest: 0.5022061\tbest: 0.4911388 (90)\ttotal: 302ms\tremaining: 1.54s\n",
      "Stopped by overfitting detector  (30 iterations wait)\n",
      "\n",
      "bestTest = 0.4911387679\n",
      "bestIteration = 90\n",
      "\n",
      "Shrink model to first 91 iterations.\n",
      "0:\tlearn: 1.0581391\ttest: 1.0678061\tbest: 1.0678061 (0)\ttotal: 2.75ms\tremaining: 1.43s\n"
     ]
    },
    {
     "name": "stderr",
     "output_type": "stream",
     "text": [
      "[I 2024-09-04 09:23:29,948] Trial 32 finished with value: 0.7976127320954909 and parameters: {'l2_leaf_reg': 0.007935869249803915, 'max_depth': 6, 'iterations': 521, 'learning_rate': 0.03785863303233192, 'rsm': 0.8506596172955398, 'subsample': 0.7537119731563755, 'min_data_in_leaf': 249, 'auto_class_weights': 'SqrtBalanced'}. Best is trial 14 with value: 0.8407239819004525.\n"
     ]
    },
    {
     "name": "stdout",
     "output_type": "stream",
     "text": [
      "100:\tlearn: 0.1984922\ttest: 0.4935358\tbest: 0.4935358 (100)\ttotal: 271ms\tremaining: 1.13s\n",
      "Stopped by overfitting detector  (30 iterations wait)\n",
      "\n",
      "bestTest = 0.4912515877\n",
      "bestIteration = 124\n",
      "\n",
      "Shrink model to first 125 iterations.\n",
      "0:\tlearn: 0.9942255\ttest: 1.0202519\tbest: 1.0202519 (0)\ttotal: 8.28ms\tremaining: 6s\n"
     ]
    },
    {
     "name": "stderr",
     "output_type": "stream",
     "text": [
      "[I 2024-09-04 09:23:30,707] Trial 33 finished with value: 0.8387223276407337 and parameters: {'l2_leaf_reg': 0.07088986895596941, 'max_depth': 8, 'iterations': 726, 'learning_rate': 0.09773788927461699, 'rsm': 0.8082944229910133, 'subsample': 0.6515072405438276, 'min_data_in_leaf': 216, 'auto_class_weights': 'SqrtBalanced'}. Best is trial 14 with value: 0.8407239819004525.\n"
     ]
    },
    {
     "name": "stdout",
     "output_type": "stream",
     "text": [
      "Stopped by overfitting detector  (30 iterations wait)\n",
      "\n",
      "bestTest = 0.5162417153\n",
      "bestIteration = 48\n",
      "\n",
      "Shrink model to first 49 iterations.\n",
      "0:\tlearn: 1.0982708\ttest: 1.0983298\tbest: 1.0983298 (0)\ttotal: 36.8ms\tremaining: 25.8s\n",
      "100:\tlearn: 1.0605588\ttest: 1.0695693\tbest: 1.0695693 (100)\ttotal: 3.42s\tremaining: 20.3s\n",
      "200:\tlearn: 1.0259178\ttest: 1.0438416\tbest: 1.0438416 (200)\ttotal: 7.17s\tremaining: 17.8s\n",
      "300:\tlearn: 0.9930914\ttest: 1.0184636\tbest: 1.0184636 (300)\ttotal: 11.1s\tremaining: 14.7s\n",
      "400:\tlearn: 0.9619534\ttest: 0.9953220\tbest: 0.9953220 (400)\ttotal: 14.9s\tremaining: 11.1s\n",
      "500:\tlearn: 0.9323359\ttest: 0.9737886\tbest: 0.9737886 (500)\ttotal: 19.3s\tremaining: 7.67s\n",
      "600:\tlearn: 0.9036235\ttest: 0.9522341\tbest: 0.9522341 (600)\ttotal: 23.4s\tremaining: 3.86s\n"
     ]
    },
    {
     "name": "stderr",
     "output_type": "stream",
     "text": [
      "[I 2024-09-04 09:23:58,067] Trial 34 finished with value: 0.8303888038596957 and parameters: {'l2_leaf_reg': 6.717105980318864, 'max_depth': 10, 'iterations': 700, 'learning_rate': 0.001530341866843905, 'rsm': 0.8953203462674673, 'subsample': 0.524031531856891, 'min_data_in_leaf': 217, 'auto_class_weights': 'SqrtBalanced'}. Best is trial 14 with value: 0.8407239819004525.\n"
     ]
    },
    {
     "name": "stdout",
     "output_type": "stream",
     "text": [
      "699:\tlearn: 0.8776616\ttest: 0.9328343\tbest: 0.9328343 (699)\ttotal: 27.1s\tremaining: 0us\n",
      "\n",
      "bestTest = 0.9328343279\n",
      "bestIteration = 699\n",
      "\n",
      "0:\tlearn: 1.0116594\ttest: 1.0090128\tbest: 1.0090128 (0)\ttotal: 6.39ms\tremaining: 5.32s\n",
      "100:\tlearn: 0.0694137\ttest: 0.5038860\tbest: 0.5006817 (76)\ttotal: 971ms\tremaining: 7.03s\n"
     ]
    },
    {
     "name": "stderr",
     "output_type": "stream",
     "text": [
      "[I 2024-09-04 09:23:59,532] Trial 35 finished with value: 0.8510703912442845 and parameters: {'l2_leaf_reg': 1.287998582576072, 'max_depth': 8, 'iterations': 833, 'learning_rate': 0.13427444108187384, 'rsm': 0.7999348996814081, 'subsample': 0.6590987107818918, 'min_data_in_leaf': 205, 'auto_class_weights': 'SqrtBalanced'}. Best is trial 35 with value: 0.8510703912442845.\n"
     ]
    },
    {
     "name": "stdout",
     "output_type": "stream",
     "text": [
      "Stopped by overfitting detector  (30 iterations wait)\n",
      "\n",
      "bestTest = 0.4993713684\n",
      "bestIteration = 106\n",
      "\n",
      "Shrink model to first 107 iterations.\n",
      "0:\tlearn: 0.9956876\ttest: 1.0297236\tbest: 1.0297236 (0)\ttotal: 18.1ms\tremaining: 17.9s\n"
     ]
    },
    {
     "name": "stderr",
     "output_type": "stream",
     "text": [
      "[I 2024-09-04 09:24:01,419] Trial 36 finished with value: 0.8175682910391829 and parameters: {'l2_leaf_reg': 0.9326795635994374, 'max_depth': 9, 'iterations': 991, 'learning_rate': 0.13933898193228123, 'rsm': 0.7541901977956329, 'subsample': 0.810606821537215, 'min_data_in_leaf': 170, 'auto_class_weights': None}. Best is trial 35 with value: 0.8510703912442845.\n"
     ]
    },
    {
     "name": "stdout",
     "output_type": "stream",
     "text": [
      "100:\tlearn: 0.0401373\ttest: 0.5123703\tbest: 0.5027071 (74)\ttotal: 1.65s\tremaining: 14.6s\n",
      "Stopped by overfitting detector  (30 iterations wait)\n",
      "\n",
      "bestTest = 0.5027071108\n",
      "bestIteration = 74\n",
      "\n",
      "Shrink model to first 75 iterations.\n",
      "0:\tlearn: 0.9617474\ttest: 0.9889612\tbest: 0.9889612 (0)\ttotal: 13.4ms\tremaining: 11s\n"
     ]
    },
    {
     "name": "stderr",
     "output_type": "stream",
     "text": [
      "[I 2024-09-04 09:24:02,582] Trial 37 finished with value: 0.8174481386757603 and parameters: {'l2_leaf_reg': 1.2348262081468433, 'max_depth': 8, 'iterations': 819, 'learning_rate': 0.20693100429458153, 'rsm': 0.8898070955132672, 'subsample': 0.3267342246990636, 'min_data_in_leaf': 201, 'auto_class_weights': 'SqrtBalanced'}. Best is trial 35 with value: 0.8510703912442845.\n"
     ]
    },
    {
     "name": "stdout",
     "output_type": "stream",
     "text": [
      "100:\tlearn: 0.0443005\ttest: 0.5588029\tbest: 0.5447834 (77)\ttotal: 948ms\tremaining: 6.74s\n",
      "Stopped by overfitting detector  (30 iterations wait)\n",
      "\n",
      "bestTest = 0.5447834413\n",
      "bestIteration = 77\n",
      "\n",
      "Shrink model to first 78 iterations.\n",
      "0:\tlearn: 1.0367602\ttest: 1.0462237\tbest: 1.0462237 (0)\ttotal: 20.7ms\tremaining: 19.6s\n",
      "100:\tlearn: 0.0624826\ttest: 0.5162335\tbest: 0.5156710 (89)\ttotal: 2.51s\tremaining: 21.1s\n"
     ]
    },
    {
     "name": "stderr",
     "output_type": "stream",
     "text": [
      "[I 2024-09-04 09:24:06,460] Trial 38 finished with value: 0.8290192187206814 and parameters: {'l2_leaf_reg': 0.19540285680771652, 'max_depth': 10, 'iterations': 951, 'learning_rate': 0.058060924395365546, 'rsm': 0.5751503136543983, 'subsample': 0.6862446872574827, 'min_data_in_leaf': 61, 'auto_class_weights': 'SqrtBalanced'}. Best is trial 35 with value: 0.8510703912442845.\n"
     ]
    },
    {
     "name": "stdout",
     "output_type": "stream",
     "text": [
      "Stopped by overfitting detector  (30 iterations wait)\n",
      "\n",
      "bestTest = 0.5118364274\n",
      "bestIteration = 124\n",
      "\n",
      "Shrink model to first 125 iterations.\n",
      "0:\tlearn: 1.0625006\ttest: 1.0702384\tbest: 1.0702384 (0)\ttotal: 5.49ms\tremaining: 4.6s\n",
      "100:\tlearn: 0.2296300\ttest: 0.5026838\tbest: 0.5022220 (91)\ttotal: 522ms\tremaining: 3.82s\n"
     ]
    },
    {
     "name": "stderr",
     "output_type": "stream",
     "text": [
      "[I 2024-09-04 09:24:07,604] Trial 39 finished with value: 0.8172786759769878 and parameters: {'l2_leaf_reg': 9.786229002555896, 'max_depth': 7, 'iterations': 840, 'learning_rate': 0.18236125412353754, 'rsm': 0.6604061951531588, 'subsample': 0.5916084505321768, 'min_data_in_leaf': 146, 'auto_class_weights': 'SqrtBalanced'}. Best is trial 35 with value: 0.8510703912442845.\n"
     ]
    },
    {
     "name": "stdout",
     "output_type": "stream",
     "text": [
      "Stopped by overfitting detector  (30 iterations wait)\n",
      "\n",
      "bestTest = 0.4963870566\n",
      "bestIteration = 165\n",
      "\n",
      "Shrink model to first 166 iterations.\n",
      "0:\tlearn: 1.0672423\ttest: 1.0650269\tbest: 1.0650269 (0)\ttotal: 1.59ms\tremaining: 1.73s\n"
     ]
    },
    {
     "name": "stderr",
     "output_type": "stream",
     "text": [
      "[I 2024-09-04 09:24:07,996] Trial 40 finished with value: 0.8285592497868713 and parameters: {'l2_leaf_reg': 9.152045490501196e-08, 'max_depth': 5, 'iterations': 1091, 'learning_rate': 0.03653014675504883, 'rsm': 0.7920686585155565, 'subsample': 0.4518344056254835, 'min_data_in_leaf': 179, 'auto_class_weights': 'Balanced'}. Best is trial 35 with value: 0.8510703912442845.\n"
     ]
    },
    {
     "name": "stdout",
     "output_type": "stream",
     "text": [
      "100:\tlearn: 0.2935784\ttest: 0.5205437\tbest: 0.5205437 (100)\ttotal: 154ms\tremaining: 1.51s\n",
      "Stopped by overfitting detector  (30 iterations wait)\n",
      "\n",
      "bestTest = 0.4995377158\n",
      "bestIteration = 163\n",
      "\n",
      "Shrink model to first 164 iterations.\n",
      "0:\tlearn: 0.9832713\ttest: 1.0123308\tbest: 1.0123308 (0)\ttotal: 7.41ms\tremaining: 5.39s\n"
     ]
    },
    {
     "name": "stderr",
     "output_type": "stream",
     "text": [
      "[I 2024-09-04 09:24:08,866] Trial 41 finished with value: 0.8048858887817424 and parameters: {'l2_leaf_reg': 0.0647882431140991, 'max_depth': 8, 'iterations': 729, 'learning_rate': 0.10825904989322208, 'rsm': 0.8102394554829646, 'subsample': 0.6433096371828743, 'min_data_in_leaf': 222, 'auto_class_weights': 'SqrtBalanced'}. Best is trial 35 with value: 0.8510703912442845.\n"
     ]
    },
    {
     "name": "stdout",
     "output_type": "stream",
     "text": [
      "Stopped by overfitting detector  (30 iterations wait)\n",
      "\n",
      "bestTest = 0.5276896272\n",
      "bestIteration = 50\n",
      "\n",
      "Shrink model to first 51 iterations.\n",
      "0:\tlearn: 0.9896999\ttest: 1.0081839\tbest: 1.0081839 (0)\ttotal: 17.7ms\tremaining: 14s\n"
     ]
    },
    {
     "name": "stderr",
     "output_type": "stream",
     "text": [
      "[I 2024-09-04 09:24:10,466] Trial 42 finished with value: 0.828808784912867 and parameters: {'l2_leaf_reg': 0.6283583161649188, 'max_depth': 9, 'iterations': 794, 'learning_rate': 0.12227668660382739, 'rsm': 0.8529196644939387, 'subsample': 0.6681215263122335, 'min_data_in_leaf': 235, 'auto_class_weights': 'SqrtBalanced'}. Best is trial 35 with value: 0.8510703912442845.\n"
     ]
    },
    {
     "name": "stdout",
     "output_type": "stream",
     "text": [
      "Stopped by overfitting detector  (30 iterations wait)\n",
      "\n",
      "bestTest = 0.4887847488\n",
      "bestIteration = 53\n",
      "\n",
      "Shrink model to first 54 iterations.\n",
      "0:\tlearn: 1.0107696\ttest: 1.0283321\tbest: 1.0283321 (0)\ttotal: 7.6ms\tremaining: 4.95s\n"
     ]
    },
    {
     "name": "stderr",
     "output_type": "stream",
     "text": [
      "[I 2024-09-04 09:24:11,381] Trial 43 finished with value: 0.8277617057752064 and parameters: {'l2_leaf_reg': 0.03023417411407709, 'max_depth': 8, 'iterations': 652, 'learning_rate': 0.08156259806172625, 'rsm': 0.8061471234474178, 'subsample': 0.5366011542036045, 'min_data_in_leaf': 191, 'auto_class_weights': 'SqrtBalanced'}. Best is trial 35 with value: 0.8510703912442845.\n"
     ]
    },
    {
     "name": "stdout",
     "output_type": "stream",
     "text": [
      "Stopped by overfitting detector  (30 iterations wait)\n",
      "\n",
      "bestTest = 0.4894069356\n",
      "bestIteration = 59\n",
      "\n",
      "Shrink model to first 60 iterations.\n",
      "0:\tlearn: 1.0830564\ttest: 1.0840149\tbest: 1.0840149 (0)\ttotal: 7.05ms\tremaining: 2.83s\n",
      "100:\tlearn: 0.4567069\ttest: 0.6139347\tbest: 0.6139347 (100)\ttotal: 944ms\tremaining: 2.81s\n",
      "200:\tlearn: 0.2785949\ttest: 0.5289759\tbest: 0.5289759 (200)\ttotal: 1.77s\tremaining: 1.77s\n",
      "300:\tlearn: 0.1902164\ttest: 0.5056248\tbest: 0.5056248 (300)\ttotal: 2.6s\tremaining: 874ms\n"
     ]
    },
    {
     "name": "stderr",
     "output_type": "stream",
     "text": [
      "[I 2024-09-04 09:24:15,052] Trial 44 finished with value: 0.8285592497868713 and parameters: {'l2_leaf_reg': 2.988767582742507, 'max_depth': 8, 'iterations': 402, 'learning_rate': 0.029518119004977125, 'rsm': 0.7593501880478457, 'subsample': 0.7941912483355207, 'min_data_in_leaf': 210, 'auto_class_weights': 'SqrtBalanced'}. Best is trial 35 with value: 0.8510703912442845.\n"
     ]
    },
    {
     "name": "stdout",
     "output_type": "stream",
     "text": [
      "400:\tlearn: 0.1441927\ttest: 0.4956822\tbest: 0.4944481 (376)\ttotal: 3.48s\tremaining: 8.67ms\n",
      "401:\tlearn: 0.1435757\ttest: 0.4958932\tbest: 0.4944481 (376)\ttotal: 3.49s\tremaining: 0us\n",
      "\n",
      "bestTest = 0.4944481025\n",
      "bestIteration = 376\n",
      "\n",
      "Shrink model to first 377 iterations.\n",
      "0:\tlearn: 1.0237716\ttest: 1.0350729\tbest: 1.0350729 (0)\ttotal: 7.93ms\tremaining: 4.52s\n"
     ]
    },
    {
     "name": "stderr",
     "output_type": "stream",
     "text": [
      "[I 2024-09-04 09:24:15,874] Trial 45 finished with value: 0.8295238095238094 and parameters: {'l2_leaf_reg': 0.10770889302297769, 'max_depth': 7, 'iterations': 571, 'learning_rate': 0.06821620436583681, 'rsm': 0.8911809669601128, 'subsample': 0.8564191201664152, 'min_data_in_leaf': 225, 'auto_class_weights': 'SqrtBalanced'}. Best is trial 35 with value: 0.8510703912442845.\n"
     ]
    },
    {
     "name": "stdout",
     "output_type": "stream",
     "text": [
      "100:\tlearn: 0.0686138\ttest: 0.4941170\tbest: 0.4899409 (74)\ttotal: 673ms\tremaining: 3.13s\n",
      "Stopped by overfitting detector  (30 iterations wait)\n",
      "\n",
      "bestTest = 0.4899409115\n",
      "bestIteration = 74\n",
      "\n",
      "Shrink model to first 75 iterations.\n",
      "0:\tlearn: 1.0206579\ttest: 1.0412231\tbest: 1.0412231 (0)\ttotal: 30.3ms\tremaining: 26.6s\n"
     ]
    },
    {
     "name": "stderr",
     "output_type": "stream",
     "text": [
      "[I 2024-09-04 09:24:19,731] Trial 46 finished with value: 0.8285592497868713 and parameters: {'l2_leaf_reg': 1.7308926197446366, 'max_depth': 10, 'iterations': 879, 'learning_rate': 0.1670338149421554, 'rsm': 0.8385692066046435, 'subsample': 0.6068585350749813, 'min_data_in_leaf': 23, 'auto_class_weights': 'SqrtBalanced'}. Best is trial 35 with value: 0.8510703912442845.\n"
     ]
    },
    {
     "name": "stdout",
     "output_type": "stream",
     "text": [
      "100:\tlearn: 0.0525184\ttest: 0.5169299\tbest: 0.5124289 (74)\ttotal: 3.6s\tremaining: 27.8s\n",
      "Stopped by overfitting detector  (30 iterations wait)\n",
      "\n",
      "bestTest = 0.5124288525\n",
      "bestIteration = 74\n",
      "\n",
      "Shrink model to first 75 iterations.\n",
      "0:\tlearn: 0.9836330\ttest: 1.0086279\tbest: 1.0086279 (0)\ttotal: 12.9ms\tremaining: 10s\n"
     ]
    },
    {
     "name": "stderr",
     "output_type": "stream",
     "text": [
      "[I 2024-09-04 09:24:20,835] Trial 47 finished with value: 0.8303888038596957 and parameters: {'l2_leaf_reg': 0.0012809483430947428, 'max_depth': 9, 'iterations': 774, 'learning_rate': 0.09168238297418571, 'rsm': 0.6955115661070053, 'subsample': 0.7116632537317986, 'min_data_in_leaf': 242, 'auto_class_weights': 'SqrtBalanced'}. Best is trial 35 with value: 0.8510703912442845.\n"
     ]
    },
    {
     "name": "stdout",
     "output_type": "stream",
     "text": [
      "Stopped by overfitting detector  (30 iterations wait)\n",
      "\n",
      "bestTest = 0.5018984995\n",
      "bestIteration = 38\n",
      "\n",
      "Shrink model to first 39 iterations.\n",
      "0:\tlearn: 0.7774858\ttest: 0.9082126\tbest: 0.9082126 (0)\ttotal: 11.8ms\tremaining: 8.14s\n"
     ]
    },
    {
     "name": "stderr",
     "output_type": "stream",
     "text": [
      "[I 2024-09-04 09:24:21,452] Trial 48 finished with value: 0.7967019405312014 and parameters: {'l2_leaf_reg': 0.00015926364140405073, 'max_depth': 8, 'iterations': 693, 'learning_rate': 0.2753200348021803, 'rsm': 0.9418680034894809, 'subsample': 0.39749937361938137, 'min_data_in_leaf': 229, 'auto_class_weights': None}. Best is trial 35 with value: 0.8510703912442845.\n",
      "[I 2024-09-04 09:24:21,565] Trial 49 finished with value: 0.8384241717672204 and parameters: {'l2_leaf_reg': 0.012982796782222016, 'max_depth': 2, 'iterations': 949, 'learning_rate': 0.4220551725298476, 'rsm': 0.73530559428117, 'subsample': 0.5776860696296989, 'min_data_in_leaf': 204, 'auto_class_weights': 'Balanced'}. Best is trial 35 with value: 0.8510703912442845.\n"
     ]
    },
    {
     "name": "stdout",
     "output_type": "stream",
     "text": [
      "Stopped by overfitting detector  (30 iterations wait)\n",
      "\n",
      "bestTest = 0.5290441696\n",
      "bestIteration = 20\n",
      "\n",
      "Shrink model to first 21 iterations.\n",
      "0:\tlearn: 0.8309503\ttest: 0.7820299\tbest: 0.7820299 (0)\ttotal: 475us\tremaining: 451ms\n",
      "Stopped by overfitting detector  (30 iterations wait)\n",
      "\n",
      "bestTest = 0.5311589969\n",
      "bestIteration = 25\n",
      "\n",
      "Shrink model to first 26 iterations.\n"
     ]
    }
   ],
   "source": [
    "study = optuna.create_study(direction='maximize')\n",
    "study.optimize(objective, n_trials=50)"
   ]
  },
  {
   "cell_type": "code",
   "execution_count": 31,
   "id": "10092964",
   "metadata": {},
   "outputs": [
    {
     "data": {
      "text/plain": [
       "{'l2_leaf_reg': 1.287998582576072,\n",
       " 'max_depth': 8,\n",
       " 'iterations': 833,\n",
       " 'learning_rate': 0.13427444108187384,\n",
       " 'rsm': 0.7999348996814081,\n",
       " 'subsample': 0.6590987107818918,\n",
       " 'min_data_in_leaf': 205,\n",
       " 'auto_class_weights': 'SqrtBalanced'}"
      ]
     },
     "execution_count": 31,
     "metadata": {},
     "output_type": "execute_result"
    }
   ],
   "source": [
    "study.best_params"
   ]
  },
  {
   "cell_type": "code",
   "execution_count": 33,
   "id": "fdae8f49",
   "metadata": {},
   "outputs": [
    {
     "name": "stdout",
     "output_type": "stream",
     "text": [
      "0:\tlearn: 1.0116594\ttest: 1.0090128\tbest: 1.0090128 (0)\ttotal: 15.4ms\tremaining: 12.8s\n",
      "100:\tlearn: 0.0694137\ttest: 0.5038860\tbest: 0.5006817 (76)\ttotal: 872ms\tremaining: 6.32s\n",
      "Stopped by overfitting detector  (30 iterations wait)\n",
      "\n",
      "bestTest = 0.4993713684\n",
      "bestIteration = 106\n",
      "\n",
      "Shrink model to first 107 iterations.\n"
     ]
    },
    {
     "data": {
      "text/plain": [
       "<catboost.core.CatBoostClassifier at 0x7f25bc347130>"
      ]
     },
     "execution_count": 33,
     "metadata": {},
     "output_type": "execute_result"
    }
   ],
   "source": [
    "model = CatBoostClassifier(**study.best_params, bootstrap_type='Bernoulli')\n",
    "model.fit(x_train, y_train, eval_set=(x_val, y_val), early_stopping_rounds=30, verbose=100)"
   ]
  },
  {
   "cell_type": "code",
   "execution_count": 34,
   "id": "ed18fc0b",
   "metadata": {},
   "outputs": [
    {
     "data": {
      "text/plain": [
       "0.8510703912442845"
      ]
     },
     "execution_count": 34,
     "metadata": {},
     "output_type": "execute_result"
    }
   ],
   "source": [
    "metric(y_val, model.predict(x_val))"
   ]
  },
  {
   "cell_type": "markdown",
   "id": "7deeca2c",
   "metadata": {},
   "source": [
    "# SGD"
   ]
  },
  {
   "cell_type": "code",
   "execution_count": 35,
   "id": "4ba2aeb9",
   "metadata": {},
   "outputs": [],
   "source": [
    "from sklearn.linear_model import SGDClassifier"
   ]
  },
  {
   "cell_type": "code",
   "execution_count": 42,
   "id": "959a9835",
   "metadata": {},
   "outputs": [],
   "source": [
    "def objective(trial):\n",
    "    params = {\n",
    "        'loss': 'log_loss',\n",
    "        'penalty': 'l2',\n",
    "        'alpha': trial.suggest_float('alpha', 1e-8, 10.0, log=True),\n",
    "        'max_iter': trial.suggest_int('max_iter', 100, 2000),\n",
    "        'learning_rate': trial.suggest_categorical('learning_rate', ['constant', 'optimal', 'invscaling', 'adaptive']),\n",
    "        'class_weight': trial.suggest_categorical('class_weight', ['balanced', None]),\n",
    "        'eta0': trial.suggest_float('eta0', 1e-8, 10.0, log=True),\n",
    "        'early_stopping': True,\n",
    "        'random_state': 42\n",
    "    }\n",
    "    \n",
    "    model = SGDClassifier(**params)\n",
    "    model.fit(x_train, y_train)\n",
    "    \n",
    "    preds = model.predict(x_val)\n",
    "    \n",
    "    return metric(y_val, preds)"
   ]
  },
  {
   "cell_type": "code",
   "execution_count": 43,
   "id": "a5bdc7f6",
   "metadata": {},
   "outputs": [
    {
     "name": "stderr",
     "output_type": "stream",
     "text": [
      "[I 2024-09-04 09:34:21,250] A new study created in memory with name: no-name-c63ff930-f5d6-4df9-b954-e6bc895cd8c7\n",
      "[I 2024-09-04 09:34:21,281] Trial 0 finished with value: 0.6344234079173838 and parameters: {'alpha': 0.00022832222963530113, 'max_iter': 1559, 'learning_rate': 'optimal', 'class_weight': None, 'eta0': 0.00021084023337233581}. Best is trial 0 with value: 0.6344234079173838.\n",
      "[I 2024-09-04 09:34:21,396] Trial 1 finished with value: 0.4625322162635596 and parameters: {'alpha': 4.715661429581094, 'max_iter': 649, 'learning_rate': 'adaptive', 'class_weight': None, 'eta0': 0.7409506388681651}. Best is trial 0 with value: 0.6344234079173838.\n",
      "[I 2024-09-04 09:34:21,421] Trial 2 finished with value: 0.8079570699959323 and parameters: {'alpha': 0.025404330456478122, 'max_iter': 1497, 'learning_rate': 'constant', 'class_weight': 'balanced', 'eta0': 0.004597468184550306}. Best is trial 2 with value: 0.8079570699959323.\n",
      "[I 2024-09-04 09:34:21,452] Trial 3 finished with value: 0.7656482861400894 and parameters: {'alpha': 0.0012858542789281604, 'max_iter': 1135, 'learning_rate': 'invscaling', 'class_weight': None, 'eta0': 0.011988538358678729}. Best is trial 2 with value: 0.8079570699959323.\n",
      "[I 2024-09-04 09:34:21,476] Trial 4 finished with value: 0.6634768740031897 and parameters: {'alpha': 1.0072490874124494e-08, 'max_iter': 1885, 'learning_rate': 'constant', 'class_weight': 'balanced', 'eta0': 3.018888621433292e-07}. Best is trial 2 with value: 0.8079570699959323.\n",
      "[I 2024-09-04 09:34:21,508] Trial 5 finished with value: 0.776547880373017 and parameters: {'alpha': 0.0005450184577703182, 'max_iter': 1545, 'learning_rate': 'constant', 'class_weight': None, 'eta0': 0.000593201500610516}. Best is trial 2 with value: 0.8079570699959323.\n",
      "[I 2024-09-04 09:34:21,535] Trial 6 finished with value: 0.6515043828476664 and parameters: {'alpha': 0.003461128425978255, 'max_iter': 1458, 'learning_rate': 'constant', 'class_weight': None, 'eta0': 1.2348482530698263e-06}. Best is trial 2 with value: 0.8079570699959323.\n",
      "[I 2024-09-04 09:34:21,559] Trial 7 finished with value: 0.6984126984126985 and parameters: {'alpha': 0.0021067158533631327, 'max_iter': 1607, 'learning_rate': 'constant', 'class_weight': 'balanced', 'eta0': 3.642916167650635e-05}. Best is trial 2 with value: 0.8079570699959323.\n",
      "[I 2024-09-04 09:34:21,590] Trial 8 finished with value: 0.7656641604010025 and parameters: {'alpha': 0.000524405576328501, 'max_iter': 1992, 'learning_rate': 'constant', 'class_weight': None, 'eta0': 0.003268074606289279}. Best is trial 2 with value: 0.8079570699959323.\n",
      "[I 2024-09-04 09:34:21,617] Trial 9 finished with value: 0.6634768740031897 and parameters: {'alpha': 9.855287556875641e-05, 'max_iter': 637, 'learning_rate': 'invscaling', 'class_weight': 'balanced', 'eta0': 0.0001545410531026605}. Best is trial 2 with value: 0.8079570699959323.\n",
      "[I 2024-09-04 09:34:21,741] Trial 10 finished with value: 0.7540174053835257 and parameters: {'alpha': 1.121819670175734, 'max_iter': 1122, 'learning_rate': 'adaptive', 'class_weight': 'balanced', 'eta0': 1.1463399273347439}. Best is trial 2 with value: 0.8079570699959323.\n",
      "[I 2024-09-04 09:34:21,788] Trial 11 finished with value: 0.7654985261778879 and parameters: {'alpha': 0.06313704361676752, 'max_iter': 1396, 'learning_rate': 'constant', 'class_weight': 'balanced', 'eta0': 0.018361936388932746}. Best is trial 2 with value: 0.8079570699959323.\n",
      "[I 2024-09-04 09:34:21,833] Trial 12 finished with value: 0.6727735101196113 and parameters: {'alpha': 4.339289903790484e-06, 'max_iter': 293, 'learning_rate': 'optimal', 'class_weight': 'balanced', 'eta0': 8.63153189789186e-06}. Best is trial 2 with value: 0.8079570699959323.\n",
      "[I 2024-09-04 09:34:21,890] Trial 13 finished with value: 0.6515043828476664 and parameters: {'alpha': 0.1113256359003231, 'max_iter': 1753, 'learning_rate': 'constant', 'class_weight': None, 'eta0': 1.3051820004238487e-08}. Best is trial 2 with value: 0.8079570699959323.\n",
      "[I 2024-09-04 09:34:21,937] Trial 14 finished with value: 0.7868686868686869 and parameters: {'alpha': 3.426983206634229e-06, 'max_iter': 1287, 'learning_rate': 'constant', 'class_weight': None, 'eta0': 0.002394842930392946}. Best is trial 2 with value: 0.8079570699959323.\n",
      "[I 2024-09-04 09:34:21,983] Trial 15 finished with value: 0.6918077534487014 and parameters: {'alpha': 1.0591988829686958e-06, 'max_iter': 897, 'learning_rate': 'constant', 'class_weight': 'balanced', 'eta0': 0.07724731557721022}. Best is trial 2 with value: 0.8079570699959323.\n",
      "[I 2024-09-04 09:34:22,029] Trial 16 finished with value: 0.6754807692307692 and parameters: {'alpha': 7.462576012228113e-06, 'max_iter': 1252, 'learning_rate': 'optimal', 'class_weight': 'balanced', 'eta0': 5.931765445562805}. Best is trial 2 with value: 0.8079570699959323.\n",
      "[I 2024-09-04 09:34:22,081] Trial 17 finished with value: 0.6515043828476664 and parameters: {'alpha': 6.631024225788986e-08, 'max_iter': 852, 'learning_rate': 'invscaling', 'class_weight': None, 'eta0': 0.002005114133189517}. Best is trial 2 with value: 0.8079570699959323.\n",
      "[I 2024-09-04 09:34:22,191] Trial 18 finished with value: 0.7762369457284711 and parameters: {'alpha': 0.022857537477162623, 'max_iter': 1311, 'learning_rate': 'adaptive', 'class_weight': 'balanced', 'eta0': 0.13218473866868258}. Best is trial 2 with value: 0.8079570699959323.\n",
      "[I 2024-09-04 09:34:22,242] Trial 19 finished with value: 0.6515043828476664 and parameters: {'alpha': 4.2210252044169265e-05, 'max_iter': 1721, 'learning_rate': 'constant', 'class_weight': None, 'eta0': 1.6170468403393403e-05}. Best is trial 2 with value: 0.8079570699959323.\n",
      "[I 2024-09-04 09:34:22,311] Trial 20 finished with value: 0.7766122766122766 and parameters: {'alpha': 4.1933355748138997e-07, 'max_iter': 159, 'learning_rate': 'constant', 'class_weight': None, 'eta0': 0.012089094141627295}. Best is trial 2 with value: 0.8079570699959323.\n",
      "[I 2024-09-04 09:34:22,389] Trial 21 finished with value: 0.7766122766122766 and parameters: {'alpha': 3.608084937646717e-07, 'max_iter': 468, 'learning_rate': 'constant', 'class_weight': None, 'eta0': 0.01367300762193507}. Best is trial 2 with value: 0.8079570699959323.\n",
      "[I 2024-09-04 09:34:22,491] Trial 22 finished with value: 0.7974186307519641 and parameters: {'alpha': 1.1970047867917177e-05, 'max_iter': 232, 'learning_rate': 'constant', 'class_weight': None, 'eta0': 0.0017741440934151095}. Best is trial 2 with value: 0.8079570699959323.\n",
      "[I 2024-09-04 09:34:22,591] Trial 23 finished with value: 0.7980068212397136 and parameters: {'alpha': 1.8950482976796648e-05, 'max_iter': 942, 'learning_rate': 'constant', 'class_weight': None, 'eta0': 0.0008447975684809843}. Best is trial 2 with value: 0.8079570699959323.\n",
      "[I 2024-09-04 09:34:22,651] Trial 24 finished with value: 0.7657307845479889 and parameters: {'alpha': 4.335883368922434e-05, 'max_iter': 934, 'learning_rate': 'constant', 'class_weight': None, 'eta0': 0.0005271492164314596}. Best is trial 2 with value: 0.8079570699959323.\n",
      "[I 2024-09-04 09:34:22,711] Trial 25 finished with value: 0.7097949350725661 and parameters: {'alpha': 0.010320587269873047, 'max_iter': 635, 'learning_rate': 'constant', 'class_weight': None, 'eta0': 6.867893341647371e-05}. Best is trial 2 with value: 0.8079570699959323.\n",
      "[I 2024-09-04 09:34:22,872] Trial 26 finished with value: 0.7673402868318123 and parameters: {'alpha': 2.1605780295299657e-05, 'max_iter': 391, 'learning_rate': 'adaptive', 'class_weight': 'balanced', 'eta0': 0.06447377604312342}. Best is trial 2 with value: 0.8079570699959323.\n",
      "[I 2024-09-04 09:34:22,934] Trial 27 finished with value: 0.6515043828476664 and parameters: {'alpha': 0.0001591141565506959, 'max_iter': 737, 'learning_rate': 'invscaling', 'class_weight': None, 'eta0': 2.6091440566268555e-06}. Best is trial 2 with value: 0.8079570699959323.\n",
      "[I 2024-09-04 09:34:22,998] Trial 28 finished with value: 0.7766122766122766 and parameters: {'alpha': 0.5582624127224661, 'max_iter': 149, 'learning_rate': 'optimal', 'class_weight': 'balanced', 'eta0': 0.0014780550286904203}. Best is trial 2 with value: 0.8079570699959323.\n",
      "[I 2024-09-04 09:34:23,076] Trial 29 finished with value: 0.5730500554029966 and parameters: {'alpha': 1.5874657865128178e-05, 'max_iter': 1049, 'learning_rate': 'optimal', 'class_weight': None, 'eta0': 0.00014008000495573024}. Best is trial 2 with value: 0.8079570699959323.\n"
     ]
    },
    {
     "name": "stderr",
     "output_type": "stream",
     "text": [
      "[I 2024-09-04 09:34:23,137] Trial 30 finished with value: 0.6813492063492063 and parameters: {'alpha': 0.007673091736983274, 'max_iter': 502, 'learning_rate': 'constant', 'class_weight': None, 'eta0': 0.2977509158909941}. Best is trial 2 with value: 0.8079570699959323.\n",
      "[I 2024-09-04 09:34:23,197] Trial 31 finished with value: 0.7868686868686869 and parameters: {'alpha': 2.1836063824005125e-06, 'max_iter': 1254, 'learning_rate': 'constant', 'class_weight': None, 'eta0': 0.002828831986119102}. Best is trial 2 with value: 0.8079570699959323.\n",
      "[I 2024-09-04 09:34:23,264] Trial 32 finished with value: 0.7548500881834216 and parameters: {'alpha': 1.4250297347311692e-07, 'max_iter': 1419, 'learning_rate': 'constant', 'class_weight': None, 'eta0': 0.00044831618706430354}. Best is trial 2 with value: 0.8079570699959323.\n",
      "[I 2024-09-04 09:34:23,344] Trial 33 finished with value: 0.7656641604010025 and parameters: {'alpha': 7.470954548475915e-06, 'max_iter': 1023, 'learning_rate': 'constant', 'class_weight': None, 'eta0': 0.006217147958638401}. Best is trial 2 with value: 0.8079570699959323.\n",
      "[I 2024-09-04 09:34:23,428] Trial 34 finished with value: 0.776547880373017 and parameters: {'alpha': 2.1360955159274842e-06, 'max_iter': 1667, 'learning_rate': 'constant', 'class_weight': None, 'eta0': 0.0007231708075845863}. Best is trial 2 with value: 0.8079570699959323.\n",
      "[I 2024-09-04 09:34:23,568] Trial 35 finished with value: 0.7668004757656854 and parameters: {'alpha': 2.763224029086174e-08, 'max_iter': 1172, 'learning_rate': 'adaptive', 'class_weight': None, 'eta0': 0.04889195705150047}. Best is trial 2 with value: 0.8079570699959323.\n",
      "[I 2024-09-04 09:34:23,645] Trial 36 finished with value: 0.6984126984126985 and parameters: {'alpha': 0.0002701851330093032, 'max_iter': 746, 'learning_rate': 'constant', 'class_weight': None, 'eta0': 0.0002020888640973687}. Best is trial 2 with value: 0.8079570699959323.\n",
      "[I 2024-09-04 09:34:23,715] Trial 37 finished with value: 0.8079570699959323 and parameters: {'alpha': 0.001168570201432732, 'max_iter': 1519, 'learning_rate': 'invscaling', 'class_weight': None, 'eta0': 0.024885438106878637}. Best is trial 2 with value: 0.8079570699959323.\n",
      "[I 2024-09-04 09:34:23,786] Trial 38 finished with value: 0.7670425302952323 and parameters: {'alpha': 0.0009540085351294623, 'max_iter': 1854, 'learning_rate': 'invscaling', 'class_weight': 'balanced', 'eta0': 0.49243176616087625}. Best is trial 2 with value: 0.8079570699959323.\n",
      "[I 2024-09-04 09:34:23,888] Trial 39 finished with value: 0.7321536993668142 and parameters: {'alpha': 0.002326804556042963, 'max_iter': 1561, 'learning_rate': 'invscaling', 'class_weight': None, 'eta0': 0.0069736409573738145}. Best is trial 2 with value: 0.8079570699959323.\n",
      "[I 2024-09-04 09:34:23,958] Trial 40 finished with value: 0.4320142059868088 and parameters: {'alpha': 9.950878542678995, 'max_iter': 1487, 'learning_rate': 'invscaling', 'class_weight': None, 'eta0': 0.024687890141625663}. Best is trial 2 with value: 0.8079570699959323.\n",
      "[I 2024-09-04 09:34:24,032] Trial 41 finished with value: 0.6515043828476664 and parameters: {'alpha': 5.051159873232399e-05, 'max_iter': 1385, 'learning_rate': 'invscaling', 'class_weight': None, 'eta0': 0.0011804653832736777}. Best is trial 2 with value: 0.8079570699959323.\n",
      "[I 2024-09-04 09:34:24,089] Trial 42 finished with value: 0.7656641604010025 and parameters: {'alpha': 0.00013974764632158473, 'max_iter': 1608, 'learning_rate': 'constant', 'class_weight': None, 'eta0': 0.004756076009390956}. Best is trial 2 with value: 0.8079570699959323.\n",
      "[I 2024-09-04 09:34:24,143] Trial 43 finished with value: 0.7241130516992585 and parameters: {'alpha': 0.07770606490229073, 'max_iter': 1315, 'learning_rate': 'constant', 'class_weight': None, 'eta0': 0.026440279983408827}. Best is trial 2 with value: 0.8079570699959323.\n",
      "[I 2024-09-04 09:34:24,193] Trial 44 finished with value: 0.7762896825396827 and parameters: {'alpha': 0.0006580373242167671, 'max_iter': 1510, 'learning_rate': 'invscaling', 'class_weight': None, 'eta0': 0.2081010670813264}. Best is trial 2 with value: 0.8079570699959323.\n",
      "[I 2024-09-04 09:34:24,255] Trial 45 finished with value: 0.7097949350725661 and parameters: {'alpha': 0.47995926268234457, 'max_iter': 1806, 'learning_rate': 'constant', 'class_weight': 'balanced', 'eta0': 3.2437423426555965e-05}. Best is trial 2 with value: 0.8079570699959323.\n",
      "[I 2024-09-04 09:34:24,370] Trial 46 finished with value: 0.5223776223776224 and parameters: {'alpha': 0.005468321197455719, 'max_iter': 1192, 'learning_rate': 'constant', 'class_weight': None, 'eta0': 0.9822827125207229}. Best is trial 2 with value: 0.8079570699959323.\n",
      "[I 2024-09-04 09:34:24,437] Trial 47 finished with value: 0.6836788942052099 and parameters: {'alpha': 1.8398310338025374e-05, 'max_iter': 1933, 'learning_rate': 'optimal', 'class_weight': 'balanced', 'eta0': 0.0012924603361946939}. Best is trial 2 with value: 0.8079570699959323.\n",
      "[I 2024-09-04 09:34:24,555] Trial 48 finished with value: 0.6987379651314077 and parameters: {'alpha': 1.64490475264659e-06, 'max_iter': 1348, 'learning_rate': 'adaptive', 'class_weight': None, 'eta0': 0.0003195895954316322}. Best is trial 2 with value: 0.8079570699959323.\n",
      "[I 2024-09-04 09:34:24,645] Trial 49 finished with value: 0.6584870135537849 and parameters: {'alpha': 0.021072098044233482, 'max_iter': 1655, 'learning_rate': 'constant', 'class_weight': 'balanced', 'eta0': 4.095232301264703}. Best is trial 2 with value: 0.8079570699959323.\n"
     ]
    }
   ],
   "source": [
    "study = optuna.create_study(direction='maximize')\n",
    "study.optimize(objective, n_trials=50)"
   ]
  },
  {
   "cell_type": "code",
   "execution_count": 44,
   "id": "1a848c3b",
   "metadata": {},
   "outputs": [
    {
     "data": {
      "text/plain": [
       "{'alpha': 0.025404330456478122,\n",
       " 'max_iter': 1497,\n",
       " 'learning_rate': 'constant',\n",
       " 'class_weight': 'balanced',\n",
       " 'eta0': 0.004597468184550306}"
      ]
     },
     "execution_count": 44,
     "metadata": {},
     "output_type": "execute_result"
    }
   ],
   "source": [
    "study.best_params"
   ]
  },
  {
   "cell_type": "code",
   "execution_count": 45,
   "id": "412f82b3",
   "metadata": {},
   "outputs": [
    {
     "data": {
      "text/html": [
       "<style>#sk-container-id-7 {color: black;}#sk-container-id-7 pre{padding: 0;}#sk-container-id-7 div.sk-toggleable {background-color: white;}#sk-container-id-7 label.sk-toggleable__label {cursor: pointer;display: block;width: 100%;margin-bottom: 0;padding: 0.3em;box-sizing: border-box;text-align: center;}#sk-container-id-7 label.sk-toggleable__label-arrow:before {content: \"▸\";float: left;margin-right: 0.25em;color: #696969;}#sk-container-id-7 label.sk-toggleable__label-arrow:hover:before {color: black;}#sk-container-id-7 div.sk-estimator:hover label.sk-toggleable__label-arrow:before {color: black;}#sk-container-id-7 div.sk-toggleable__content {max-height: 0;max-width: 0;overflow: hidden;text-align: left;background-color: #f0f8ff;}#sk-container-id-7 div.sk-toggleable__content pre {margin: 0.2em;color: black;border-radius: 0.25em;background-color: #f0f8ff;}#sk-container-id-7 input.sk-toggleable__control:checked~div.sk-toggleable__content {max-height: 200px;max-width: 100%;overflow: auto;}#sk-container-id-7 input.sk-toggleable__control:checked~label.sk-toggleable__label-arrow:before {content: \"▾\";}#sk-container-id-7 div.sk-estimator input.sk-toggleable__control:checked~label.sk-toggleable__label {background-color: #d4ebff;}#sk-container-id-7 div.sk-label input.sk-toggleable__control:checked~label.sk-toggleable__label {background-color: #d4ebff;}#sk-container-id-7 input.sk-hidden--visually {border: 0;clip: rect(1px 1px 1px 1px);clip: rect(1px, 1px, 1px, 1px);height: 1px;margin: -1px;overflow: hidden;padding: 0;position: absolute;width: 1px;}#sk-container-id-7 div.sk-estimator {font-family: monospace;background-color: #f0f8ff;border: 1px dotted black;border-radius: 0.25em;box-sizing: border-box;margin-bottom: 0.5em;}#sk-container-id-7 div.sk-estimator:hover {background-color: #d4ebff;}#sk-container-id-7 div.sk-parallel-item::after {content: \"\";width: 100%;border-bottom: 1px solid gray;flex-grow: 1;}#sk-container-id-7 div.sk-label:hover label.sk-toggleable__label {background-color: #d4ebff;}#sk-container-id-7 div.sk-serial::before {content: \"\";position: absolute;border-left: 1px solid gray;box-sizing: border-box;top: 0;bottom: 0;left: 50%;z-index: 0;}#sk-container-id-7 div.sk-serial {display: flex;flex-direction: column;align-items: center;background-color: white;padding-right: 0.2em;padding-left: 0.2em;position: relative;}#sk-container-id-7 div.sk-item {position: relative;z-index: 1;}#sk-container-id-7 div.sk-parallel {display: flex;align-items: stretch;justify-content: center;background-color: white;position: relative;}#sk-container-id-7 div.sk-item::before, #sk-container-id-7 div.sk-parallel-item::before {content: \"\";position: absolute;border-left: 1px solid gray;box-sizing: border-box;top: 0;bottom: 0;left: 50%;z-index: -1;}#sk-container-id-7 div.sk-parallel-item {display: flex;flex-direction: column;z-index: 1;position: relative;background-color: white;}#sk-container-id-7 div.sk-parallel-item:first-child::after {align-self: flex-end;width: 50%;}#sk-container-id-7 div.sk-parallel-item:last-child::after {align-self: flex-start;width: 50%;}#sk-container-id-7 div.sk-parallel-item:only-child::after {width: 0;}#sk-container-id-7 div.sk-dashed-wrapped {border: 1px dashed gray;margin: 0 0.4em 0.5em 0.4em;box-sizing: border-box;padding-bottom: 0.4em;background-color: white;}#sk-container-id-7 div.sk-label label {font-family: monospace;font-weight: bold;display: inline-block;line-height: 1.2em;}#sk-container-id-7 div.sk-label-container {text-align: center;}#sk-container-id-7 div.sk-container {/* jupyter's `normalize.less` sets `[hidden] { display: none; }` but bootstrap.min.css set `[hidden] { display: none !important; }` so we also need the `!important` here to be able to override the default hidden behavior on the sphinx rendered scikit-learn.org. See: https://github.com/scikit-learn/scikit-learn/issues/21755 */display: inline-block !important;position: relative;}#sk-container-id-7 div.sk-text-repr-fallback {display: none;}</style><div id=\"sk-container-id-7\" class=\"sk-top-container\"><div class=\"sk-text-repr-fallback\"><pre>SGDClassifier(alpha=0.025404330456478122, class_weight=&#x27;balanced&#x27;,\n",
       "              early_stopping=True, eta0=0.004597468184550306,\n",
       "              learning_rate=&#x27;constant&#x27;, loss=&#x27;log_loss&#x27;, max_iter=1497,\n",
       "              random_state=42)</pre><b>In a Jupyter environment, please rerun this cell to show the HTML representation or trust the notebook. <br />On GitHub, the HTML representation is unable to render, please try loading this page with nbviewer.org.</b></div><div class=\"sk-container\" hidden><div class=\"sk-item\"><div class=\"sk-estimator sk-toggleable\"><input class=\"sk-toggleable__control sk-hidden--visually\" id=\"sk-estimator-id-7\" type=\"checkbox\" checked><label for=\"sk-estimator-id-7\" class=\"sk-toggleable__label sk-toggleable__label-arrow\">SGDClassifier</label><div class=\"sk-toggleable__content\"><pre>SGDClassifier(alpha=0.025404330456478122, class_weight=&#x27;balanced&#x27;,\n",
       "              early_stopping=True, eta0=0.004597468184550306,\n",
       "              learning_rate=&#x27;constant&#x27;, loss=&#x27;log_loss&#x27;, max_iter=1497,\n",
       "              random_state=42)</pre></div></div></div></div></div>"
      ],
      "text/plain": [
       "SGDClassifier(alpha=0.025404330456478122, class_weight='balanced',\n",
       "              early_stopping=True, eta0=0.004597468184550306,\n",
       "              learning_rate='constant', loss='log_loss', max_iter=1497,\n",
       "              random_state=42)"
      ]
     },
     "execution_count": 45,
     "metadata": {},
     "output_type": "execute_result"
    }
   ],
   "source": [
    "model = SGDClassifier(**study.best_params, loss='log_loss', penalty='l2', early_stopping=True, random_state=42)\n",
    "model.fit(x_train, y_train)"
   ]
  },
  {
   "cell_type": "code",
   "execution_count": 46,
   "id": "e4ba7337",
   "metadata": {},
   "outputs": [
    {
     "data": {
      "text/plain": [
       "0.8079570699959323"
      ]
     },
     "execution_count": 46,
     "metadata": {},
     "output_type": "execute_result"
    }
   ],
   "source": [
    "metric(y_val, model.predict(x_val))"
   ]
  },
  {
   "cell_type": "markdown",
   "id": "1882e751",
   "metadata": {},
   "source": [
    "# XGBoost"
   ]
  },
  {
   "cell_type": "code",
   "execution_count": 47,
   "id": "82615fd4",
   "metadata": {},
   "outputs": [],
   "source": [
    "from xgboost import XGBClassifier\n",
    "from sklearn.utils import compute_sample_weight"
   ]
  },
  {
   "cell_type": "code",
   "execution_count": 48,
   "id": "2f89598c",
   "metadata": {},
   "outputs": [],
   "source": [
    "balanced_weights = compute_sample_weight(class_weight='balanced', y=y_train)"
   ]
  },
  {
   "cell_type": "code",
   "execution_count": 49,
   "id": "13cc9eb4",
   "metadata": {},
   "outputs": [],
   "source": [
    "def objective(trial):\n",
    "    params = {\n",
    "        'reg_alpha': trial.suggest_float('reg_alpha', 1e-8, 10.0, log=True),\n",
    "        'reg_lambda': trial.suggest_float('reg_lambda', 1e-8, 10.0, log=True),\n",
    "        'num_leaves': trial.suggest_int('num_leaves', 2, 256),\n",
    "        'max_depth': trial.suggest_int('max_depth', 2, 10),\n",
    "        'n_estimators': trial.suggest_int('n_estimators', 100, 1200),\n",
    "        'learning_rate': trial.suggest_float('learning_rate', 0.001, 0.5),\n",
    "        'colsample_bytree': trial.suggest_float('colsample_bytree', 0.1, 1.0),\n",
    "        'subsample': trial.suggest_float('subsample', 0.2, 1.0),\n",
    "        'booster': trial.suggest_categorical('booster', ['gbtree', 'gblinear', 'dart']),\n",
    "        'sample_weight': trial.suggest_categorical('sample_weight', ['balanced', None]),\n",
    "        'early_stopping_rounds': 30,\n",
    "        'verbosity': 0\n",
    "    }\n",
    "    \n",
    "    if params['sample_weight'] == 'balanced':\n",
    "        params['sample_weight'] = balanced_weights\n",
    "        \n",
    "    model = XGBClassifier(**params)\n",
    "    model.fit(x_train, y_train, eval_set=[(x_val, y_val)], verbose=False)\n",
    "    \n",
    "    preds = model.predict(x_val)\n",
    "    \n",
    "    return metric(y_val, preds)"
   ]
  },
  {
   "cell_type": "code",
   "execution_count": 50,
   "id": "ed43135e",
   "metadata": {},
   "outputs": [
    {
     "name": "stderr",
     "output_type": "stream",
     "text": [
      "[I 2024-09-04 09:44:18,937] A new study created in memory with name: no-name-48379cad-f1c7-4da1-b83a-7e14e3e86b9b\n",
      "[I 2024-09-04 09:44:20,012] Trial 0 finished with value: 0.7966751918158569 and parameters: {'reg_alpha': 0.2531289614160166, 'reg_lambda': 0.010169999610824767, 'num_leaves': 93, 'max_depth': 7, 'n_estimators': 734, 'learning_rate': 0.2165510412695304, 'colsample_bytree': 0.44352875188151397, 'subsample': 0.4483604928565383, 'booster': 'dart', 'sample_weight': None}. Best is trial 0 with value: 0.7966751918158569.\n",
      "[I 2024-09-04 09:44:20,193] Trial 1 finished with value: 0.7859177859177859 and parameters: {'reg_alpha': 2.821094501469935e-08, 'reg_lambda': 0.00011185642242501595, 'num_leaves': 219, 'max_depth': 2, 'n_estimators': 399, 'learning_rate': 0.26827883571002775, 'colsample_bytree': 0.896436711847661, 'subsample': 0.4526667854457149, 'booster': 'gbtree', 'sample_weight': None}. Best is trial 0 with value: 0.7966751918158569.\n",
      "[I 2024-09-04 09:44:22,842] Trial 2 finished with value: 0.797979797979798 and parameters: {'reg_alpha': 0.012582253252371311, 'reg_lambda': 0.0485319348230014, 'num_leaves': 72, 'max_depth': 6, 'n_estimators': 943, 'learning_rate': 0.48817775300960387, 'colsample_bytree': 0.9353079069957968, 'subsample': 0.23638117913133325, 'booster': 'dart', 'sample_weight': None}. Best is trial 2 with value: 0.797979797979798.\n",
      "[I 2024-09-04 09:44:24,637] Trial 3 finished with value: 0.6234563857826854 and parameters: {'reg_alpha': 8.988949598658705e-07, 'reg_lambda': 0.0008135918634890842, 'num_leaves': 191, 'max_depth': 9, 'n_estimators': 870, 'learning_rate': 0.4882409050966572, 'colsample_bytree': 0.2773330160226436, 'subsample': 0.6726649518124941, 'booster': 'gbtree', 'sample_weight': 'balanced'}. Best is trial 2 with value: 0.797979797979798.\n",
      "[I 2024-09-04 09:44:25,060] Trial 4 finished with value: 0.7145833136657007 and parameters: {'reg_alpha': 0.04618183079882576, 'reg_lambda': 0.009433348559291664, 'num_leaves': 58, 'max_depth': 7, 'n_estimators': 776, 'learning_rate': 0.3441844680233316, 'colsample_bytree': 0.4052716644056501, 'subsample': 0.3956895172486, 'booster': 'dart', 'sample_weight': None}. Best is trial 2 with value: 0.797979797979798.\n",
      "[I 2024-09-04 09:44:25,187] Trial 5 finished with value: 0.5759733036707453 and parameters: {'reg_alpha': 3.104485805953039e-05, 'reg_lambda': 1.8988181383175267e-06, 'num_leaves': 58, 'max_depth': 10, 'n_estimators': 204, 'learning_rate': 0.173276412484193, 'colsample_bytree': 0.28229065503769124, 'subsample': 0.7342539629986158, 'booster': 'gbtree', 'sample_weight': None}. Best is trial 2 with value: 0.797979797979798.\n",
      "[I 2024-09-04 09:44:25,219] Trial 6 finished with value: 0.14492753623188406 and parameters: {'reg_alpha': 1.5978772741710516, 'reg_lambda': 1.0950729187152127e-06, 'num_leaves': 4, 'max_depth': 8, 'n_estimators': 266, 'learning_rate': 0.3298785274364592, 'colsample_bytree': 0.5946946973885311, 'subsample': 0.9171006534627668, 'booster': 'gblinear', 'sample_weight': 'balanced'}. Best is trial 2 with value: 0.797979797979798.\n",
      "[I 2024-09-04 09:44:25,293] Trial 7 finished with value: 0.7674282966478975 and parameters: {'reg_alpha': 0.00047675055160927243, 'reg_lambda': 7.486084452833164e-07, 'num_leaves': 56, 'max_depth': 6, 'n_estimators': 277, 'learning_rate': 0.3045931490075948, 'colsample_bytree': 0.6649905146864974, 'subsample': 0.23510819241737596, 'booster': 'gbtree', 'sample_weight': None}. Best is trial 2 with value: 0.797979797979798.\n",
      "[I 2024-09-04 09:44:25,413] Trial 8 finished with value: 0.7549883067124447 and parameters: {'reg_alpha': 0.3857980180493172, 'reg_lambda': 5.6890961191512866e-08, 'num_leaves': 56, 'max_depth': 3, 'n_estimators': 1151, 'learning_rate': 0.4576375656120365, 'colsample_bytree': 0.31271037359849785, 'subsample': 0.9774357745886042, 'booster': 'gbtree', 'sample_weight': None}. Best is trial 2 with value: 0.797979797979798.\n",
      "[I 2024-09-04 09:44:25,505] Trial 9 finished with value: 0.6965385533540225 and parameters: {'reg_alpha': 0.0007985243033245009, 'reg_lambda': 1.1044382480356119, 'num_leaves': 97, 'max_depth': 5, 'n_estimators': 409, 'learning_rate': 0.39516893063785524, 'colsample_bytree': 0.19230510094697428, 'subsample': 0.22155431942436332, 'booster': 'gbtree', 'sample_weight': 'balanced'}. Best is trial 2 with value: 0.797979797979798.\n",
      "[I 2024-09-04 09:44:30,232] Trial 10 finished with value: 0.8301792922181547 and parameters: {'reg_alpha': 0.007553942506026667, 'reg_lambda': 4.19259678383579, 'num_leaves': 163, 'max_depth': 4, 'n_estimators': 1070, 'learning_rate': 0.04864828558197065, 'colsample_bytree': 0.9833604171147613, 'subsample': 0.5960026281744346, 'booster': 'dart', 'sample_weight': 'balanced'}. Best is trial 10 with value: 0.8301792922181547.\n",
      "[I 2024-09-04 09:45:14,275] Trial 11 finished with value: 0.8198674417000572 and parameters: {'reg_alpha': 0.007714552383542017, 'reg_lambda': 7.138615611259191, 'num_leaves': 166, 'max_depth': 4, 'n_estimators': 1109, 'learning_rate': 0.012643166460782868, 'colsample_bytree': 0.9875839438841647, 'subsample': 0.5724949591954859, 'booster': 'dart', 'sample_weight': 'balanced'}. Best is trial 10 with value: 0.8301792922181547.\n",
      "[I 2024-09-04 09:45:45,748] Trial 12 finished with value: 0.8301792922181547 and parameters: {'reg_alpha': 0.004040097636495474, 'reg_lambda': 5.2798694009501475, 'num_leaves': 158, 'max_depth': 4, 'n_estimators': 1193, 'learning_rate': 0.018470625975293302, 'colsample_bytree': 0.7796934110604723, 'subsample': 0.5718433780281331, 'booster': 'dart', 'sample_weight': 'balanced'}. Best is trial 10 with value: 0.8301792922181547.\n",
      "[I 2024-09-04 09:47:38,750] Trial 13 finished with value: 0.8211247969507438 and parameters: {'reg_alpha': 9.600823177263404, 'reg_lambda': 0.33760986619907846, 'num_leaves': 141, 'max_depth': 4, 'n_estimators': 1021, 'learning_rate': 0.004736141372393948, 'colsample_bytree': 0.7684310355377107, 'subsample': 0.8065492243012389, 'booster': 'dart', 'sample_weight': 'balanced'}. Best is trial 10 with value: 0.8301792922181547.\n",
      "[I 2024-09-04 09:47:38,838] Trial 14 finished with value: 0.4661372136388791 and parameters: {'reg_alpha': 2.1514915361339814e-05, 'reg_lambda': 5.47662067631315, 'num_leaves': 248, 'max_depth': 2, 'n_estimators': 1192, 'learning_rate': 0.10782875045578691, 'colsample_bytree': 0.7818122010322485, 'subsample': 0.5573087635948343, 'booster': 'gblinear', 'sample_weight': 'balanced'}. Best is trial 10 with value: 0.8301792922181547.\n",
      "[I 2024-09-04 09:47:39,819] Trial 15 finished with value: 0.8285592497868713 and parameters: {'reg_alpha': 0.0022690469195193693, 'reg_lambda': 0.15856824249723717, 'num_leaves': 148, 'max_depth': 4, 'n_estimators': 1008, 'learning_rate': 0.0904595042308495, 'colsample_bytree': 0.7797134171974696, 'subsample': 0.654919331637206, 'booster': 'dart', 'sample_weight': 'balanced'}. Best is trial 10 with value: 0.8301792922181547.\n",
      "[I 2024-09-04 09:47:40,863] Trial 16 finished with value: 0.8517625629486768 and parameters: {'reg_alpha': 5.343267100695218e-05, 'reg_lambda': 0.0001822072939479471, 'num_leaves': 182, 'max_depth': 5, 'n_estimators': 627, 'learning_rate': 0.06972132916589005, 'colsample_bytree': 0.8605585856220815, 'subsample': 0.792730808376586, 'booster': 'dart', 'sample_weight': 'balanced'}. Best is trial 16 with value: 0.8517625629486768.\n",
      "[I 2024-09-04 09:47:40,942] Trial 17 finished with value: 0.7769454613723835 and parameters: {'reg_alpha': 1.0214374880560226e-05, 'reg_lambda': 6.044155168371885e-05, 'num_leaves': 194, 'max_depth': 5, 'n_estimators': 580, 'learning_rate': 0.09471577696067986, 'colsample_bytree': 0.8797737222691612, 'subsample': 0.826807930835167, 'booster': 'gblinear', 'sample_weight': 'balanced'}. Best is trial 16 with value: 0.8517625629486768.\n",
      "[I 2024-09-04 09:47:41,535] Trial 18 finished with value: 0.8161904761904761 and parameters: {'reg_alpha': 8.614972053419029e-07, 'reg_lambda': 0.0006155417010414372, 'num_leaves': 187, 'max_depth': 5, 'n_estimators': 579, 'learning_rate': 0.16115510777180578, 'colsample_bytree': 0.9910083190787552, 'subsample': 0.8091868058459195, 'booster': 'dart', 'sample_weight': 'balanced'}. Best is trial 16 with value: 0.8517625629486768.\n"
     ]
    },
    {
     "name": "stderr",
     "output_type": "stream",
     "text": [
      "[I 2024-09-04 09:47:43,678] Trial 19 finished with value: 0.8183417999968349 and parameters: {'reg_alpha': 1.19167699368429e-08, 'reg_lambda': 1.4377050082848331e-05, 'num_leaves': 122, 'max_depth': 3, 'n_estimators': 482, 'learning_rate': 0.06292790425869609, 'colsample_bytree': 0.682997960096475, 'subsample': 0.710772954632176, 'booster': 'dart', 'sample_weight': 'balanced'}. Best is trial 16 with value: 0.8517625629486768.\n",
      "[I 2024-09-04 09:47:46,161] Trial 20 finished with value: 0.7966070202621419 and parameters: {'reg_alpha': 0.00015187202793707081, 'reg_lambda': 0.005388148956866303, 'num_leaves': 229, 'max_depth': 7, 'n_estimators': 711, 'learning_rate': 0.15715363439416186, 'colsample_bytree': 0.4817808445836964, 'subsample': 0.34415274312794303, 'booster': 'dart', 'sample_weight': 'balanced'}. Best is trial 16 with value: 0.8517625629486768.\n",
      "[I 2024-09-04 09:47:54,841] Trial 21 finished with value: 0.8183417999968349 and parameters: {'reg_alpha': 0.034813218596817935, 'reg_lambda': 0.6673273505814182, 'num_leaves': 161, 'max_depth': 3, 'n_estimators': 869, 'learning_rate': 0.03136625834573261, 'colsample_bytree': 0.8349759839721778, 'subsample': 0.522284616161534, 'booster': 'dart', 'sample_weight': 'balanced'}. Best is trial 16 with value: 0.8517625629486768.\n",
      "[I 2024-09-04 09:47:56,623] Trial 22 finished with value: 0.8285592497868713 and parameters: {'reg_alpha': 0.003849124777114189, 'reg_lambda': 0.054223290117505665, 'num_leaves': 126, 'max_depth': 5, 'n_estimators': 1064, 'learning_rate': 0.05901072685358408, 'colsample_bytree': 0.6891418999486084, 'subsample': 0.6191988054058245, 'booster': 'dart', 'sample_weight': 'balanced'}. Best is trial 16 with value: 0.8517625629486768.\n",
      "[I 2024-09-04 09:47:57,364] Trial 23 finished with value: 0.8416311452117079 and parameters: {'reg_alpha': 0.0006228589072016788, 'reg_lambda': 1.2500857812286507e-05, 'num_leaves': 168, 'max_depth': 4, 'n_estimators': 1199, 'learning_rate': 0.12417196325484281, 'colsample_bytree': 0.8411661599000089, 'subsample': 0.501305096087801, 'booster': 'dart', 'sample_weight': 'balanced'}. Best is trial 16 with value: 0.8517625629486768.\n",
      "[I 2024-09-04 09:47:57,742] Trial 24 finished with value: 0.820114260393423 and parameters: {'reg_alpha': 0.00017349952671935292, 'reg_lambda': 1.394933705932138e-05, 'num_leaves': 206, 'max_depth': 3, 'n_estimators': 846, 'learning_rate': 0.1263092691303637, 'colsample_bytree': 0.8802018731353405, 'subsample': 0.48815191450916334, 'booster': 'dart', 'sample_weight': 'balanced'}. Best is trial 16 with value: 0.8517625629486768.\n",
      "[I 2024-09-04 09:47:57,816] Trial 25 finished with value: 0.7661054994388329 and parameters: {'reg_alpha': 2.8571220954604305e-06, 'reg_lambda': 6.554383379807228e-08, 'num_leaves': 170, 'max_depth': 6, 'n_estimators': 633, 'learning_rate': 0.21390909024938448, 'colsample_bytree': 0.5900518606028032, 'subsample': 0.3268390048694311, 'booster': 'gblinear', 'sample_weight': 'balanced'}. Best is trial 16 with value: 0.8517625629486768.\n",
      "[I 2024-09-04 09:47:59,121] Trial 26 finished with value: 0.8407239819004525 and parameters: {'reg_alpha': 6.222554398779034e-05, 'reg_lambda': 1.8454972662307573e-05, 'num_leaves': 180, 'max_depth': 4, 'n_estimators': 956, 'learning_rate': 0.05936256108920622, 'colsample_bytree': 0.9444349133027821, 'subsample': 0.7734345460253249, 'booster': 'dart', 'sample_weight': 'balanced'}. Best is trial 16 with value: 0.8517625629486768.\n",
      "[I 2024-09-04 09:47:59,519] Trial 27 finished with value: 0.796399465472135 and parameters: {'reg_alpha': 7.02429693876213e-05, 'reg_lambda': 6.606211689340804e-06, 'num_leaves': 252, 'max_depth': 5, 'n_estimators': 963, 'learning_rate': 0.19593550058028517, 'colsample_bytree': 0.8318096236517678, 'subsample': 0.8987028225420752, 'booster': 'dart', 'sample_weight': 'balanced'}. Best is trial 16 with value: 0.8517625629486768.\n",
      "[I 2024-09-04 09:48:00,029] Trial 28 finished with value: 0.8191702270488667 and parameters: {'reg_alpha': 2.3560188459355556e-07, 'reg_lambda': 0.00011149803291789818, 'num_leaves': 225, 'max_depth': 6, 'n_estimators': 808, 'learning_rate': 0.1337231712881619, 'colsample_bytree': 0.7244378150436085, 'subsample': 0.7634800707988603, 'booster': 'dart', 'sample_weight': 'balanced'}. Best is trial 16 with value: 0.8517625629486768.\n",
      "[I 2024-09-04 09:48:00,834] Trial 29 finished with value: 0.8183417999968349 and parameters: {'reg_alpha': 7.474105247091135e-06, 'reg_lambda': 0.001488607838087119, 'num_leaves': 112, 'max_depth': 2, 'n_estimators': 681, 'learning_rate': 0.243255951620928, 'colsample_bytree': 0.91217459602573, 'subsample': 0.8418694173655958, 'booster': 'dart', 'sample_weight': 'balanced'}. Best is trial 16 with value: 0.8517625629486768.\n",
      "[I 2024-09-04 09:48:00,918] Trial 30 finished with value: 0.7769454613723835 and parameters: {'reg_alpha': 7.503549242551242e-05, 'reg_lambda': 2.148650934528962e-07, 'num_leaves': 181, 'max_depth': 8, 'n_estimators': 919, 'learning_rate': 0.0774173425876248, 'colsample_bytree': 0.8415763716833801, 'subsample': 0.9996542340254081, 'booster': 'gblinear', 'sample_weight': 'balanced'}. Best is trial 16 with value: 0.8517625629486768.\n",
      "[I 2024-09-04 09:48:02,909] Trial 31 finished with value: 0.8407239819004525 and parameters: {'reg_alpha': 0.0010128575909257916, 'reg_lambda': 4.0097657996097915e-05, 'num_leaves': 203, 'max_depth': 4, 'n_estimators': 1095, 'learning_rate': 0.04727679610548751, 'colsample_bytree': 0.9568666947948047, 'subsample': 0.6314193051622621, 'booster': 'dart', 'sample_weight': 'balanced'}. Best is trial 16 with value: 0.8517625629486768.\n",
      "[I 2024-09-04 09:48:03,576] Trial 32 finished with value: 0.8183417999968349 and parameters: {'reg_alpha': 0.0007706718805271413, 'reg_lambda': 4.1119723280813873e-05, 'num_leaves': 218, 'max_depth': 4, 'n_estimators': 1107, 'learning_rate': 0.12984648159519188, 'colsample_bytree': 0.9338170495872773, 'subsample': 0.6837562368204875, 'booster': 'dart', 'sample_weight': 'balanced'}. Best is trial 16 with value: 0.8517625629486768.\n",
      "[I 2024-09-04 09:48:05,902] Trial 33 finished with value: 0.8296128707893414 and parameters: {'reg_alpha': 0.001105017069932622, 'reg_lambda': 0.00019763205101945672, 'num_leaves': 204, 'max_depth': 3, 'n_estimators': 1004, 'learning_rate': 0.048278011248241895, 'colsample_bytree': 0.9594050889124414, 'subsample': 0.7657693560433492, 'booster': 'dart', 'sample_weight': 'balanced'}. Best is trial 16 with value: 0.8517625629486768.\n",
      "[I 2024-09-04 09:48:06,667] Trial 34 finished with value: 0.8301792922181547 and parameters: {'reg_alpha': 0.0002272111236273587, 'reg_lambda': 5.96376791926518e-06, 'num_leaves': 139, 'max_depth': 5, 'n_estimators': 517, 'learning_rate': 0.09326252833410555, 'colsample_bytree': 0.8874477852192297, 'subsample': 0.45444138181932564, 'booster': 'dart', 'sample_weight': None}. Best is trial 16 with value: 0.8517625629486768.\n",
      "[I 2024-09-04 09:48:09,986] Trial 35 finished with value: 0.8183417999968349 and parameters: {'reg_alpha': 2.304351251745993e-06, 'reg_lambda': 0.0019392270632728572, 'num_leaves': 175, 'max_depth': 4, 'n_estimators': 937, 'learning_rate': 0.03500500126397341, 'colsample_bytree': 0.9259884593457829, 'subsample': 0.8899596963571799, 'booster': 'dart', 'sample_weight': 'balanced'}. Best is trial 16 with value: 0.8517625629486768.\n",
      "[I 2024-09-04 09:48:11,100] Trial 36 finished with value: 0.8199570544398131 and parameters: {'reg_alpha': 0.055786464793913595, 'reg_lambda': 3.465874190692577e-05, 'num_leaves': 210, 'max_depth': 2, 'n_estimators': 760, 'learning_rate': 0.1123740691712084, 'colsample_bytree': 0.8464260240811536, 'subsample': 0.6352167661061897, 'booster': 'dart', 'sample_weight': None}. Best is trial 16 with value: 0.8517625629486768.\n",
      "[I 2024-09-04 09:48:11,921] Trial 37 finished with value: 0.6429644293614882 and parameters: {'reg_alpha': 3.160201161391177e-05, 'reg_lambda': 1.0763908349716956e-08, 'num_leaves': 196, 'max_depth': 6, 'n_estimators': 1122, 'learning_rate': 0.2583981120310835, 'colsample_bytree': 0.10105025056580108, 'subsample': 0.40276247984899727, 'booster': 'dart', 'sample_weight': 'balanced'}. Best is trial 16 with value: 0.8517625629486768.\n"
     ]
    },
    {
     "name": "stderr",
     "output_type": "stream",
     "text": [
      "[I 2024-09-04 09:48:12,095] Trial 38 finished with value: 0.8161904761904761 and parameters: {'reg_alpha': 2.887395276624162e-07, 'reg_lambda': 0.00032076645055382466, 'num_leaves': 237, 'max_depth': 3, 'n_estimators': 1065, 'learning_rate': 0.07575153354428628, 'colsample_bytree': 0.734917868054002, 'subsample': 0.7363073509521034, 'booster': 'gbtree', 'sample_weight': None}. Best is trial 16 with value: 0.8517625629486768.\n",
      "[I 2024-09-04 09:48:12,699] Trial 39 finished with value: 0.7947144075021312 and parameters: {'reg_alpha': 0.027935387156988754, 'reg_lambda': 2.4939447365960207e-06, 'num_leaves': 183, 'max_depth': 6, 'n_estimators': 1199, 'learning_rate': 0.14353159696826412, 'colsample_bytree': 0.4680280815123454, 'subsample': 0.5188080721837331, 'booster': 'dart', 'sample_weight': 'balanced'}. Best is trial 16 with value: 0.8517625629486768.\n",
      "[I 2024-09-04 09:48:12,828] Trial 40 finished with value: 0.7870133560670646 and parameters: {'reg_alpha': 6.884857648139545e-05, 'reg_lambda': 6.90237899743866e-07, 'num_leaves': 237, 'max_depth': 5, 'n_estimators': 120, 'learning_rate': 0.19011732754909894, 'colsample_bytree': 0.6299690547394763, 'subsample': 0.6910039023945682, 'booster': 'gbtree', 'sample_weight': 'balanced'}. Best is trial 16 with value: 0.8517625629486768.\n",
      "[I 2024-09-04 09:48:14,847] Trial 41 finished with value: 0.8407239819004525 and parameters: {'reg_alpha': 0.20068626741063564, 'reg_lambda': 1.7588005079952675e-05, 'num_leaves': 153, 'max_depth': 4, 'n_estimators': 1097, 'learning_rate': 0.04381317657663038, 'colsample_bytree': 0.9956425018086543, 'subsample': 0.6300953790460977, 'booster': 'dart', 'sample_weight': 'balanced'}. Best is trial 16 with value: 0.8517625629486768.\n",
      "[I 2024-09-04 09:50:48,518] Trial 42 finished with value: 0.819089368831447 and parameters: {'reg_alpha': 1.4210632875797822, 'reg_lambda': 1.863586494826957e-05, 'num_leaves': 151, 'max_depth': 4, 'n_estimators': 1146, 'learning_rate': 0.002225597766423476, 'colsample_bytree': 0.9488833086019898, 'subsample': 0.7801780016369775, 'booster': 'dart', 'sample_weight': 'balanced'}. Best is trial 16 with value: 0.8517625629486768.\n",
      "[I 2024-09-04 09:50:49,893] Trial 43 finished with value: 0.8179577842065789 and parameters: {'reg_alpha': 0.0004465210936950951, 'reg_lambda': 4.356796854096135e-06, 'num_leaves': 138, 'max_depth': 5, 'n_estimators': 1048, 'learning_rate': 0.04923074455203499, 'colsample_bytree': 0.9076346811384423, 'subsample': 0.9379178526190902, 'booster': 'dart', 'sample_weight': 'balanced'}. Best is trial 16 with value: 0.8517625629486768.\n",
      "[I 2024-09-04 09:50:54,846] Trial 44 finished with value: 0.8407239819004525 and parameters: {'reg_alpha': 0.0014344903619141723, 'reg_lambda': 0.00011281614546496304, 'num_leaves': 175, 'max_depth': 3, 'n_estimators': 980, 'learning_rate': 0.028379103064794832, 'colsample_bytree': 0.966574701066491, 'subsample': 0.7236315023098081, 'booster': 'dart', 'sample_weight': 'balanced'}. Best is trial 16 with value: 0.8517625629486768.\n",
      "[I 2024-09-04 09:50:56,124] Trial 45 finished with value: 0.8277617057752064 and parameters: {'reg_alpha': 0.21533296014553505, 'reg_lambda': 0.0003776171120902915, 'num_leaves': 100, 'max_depth': 4, 'n_estimators': 917, 'learning_rate': 0.07224633753679015, 'colsample_bytree': 0.8173667509299319, 'subsample': 0.867246930096587, 'booster': 'dart', 'sample_weight': None}. Best is trial 16 with value: 0.8517625629486768.\n",
      "[I 2024-09-04 09:50:56,880] Trial 46 finished with value: 0.8301792922181547 and parameters: {'reg_alpha': 0.2933455319378272, 'reg_lambda': 8.261107182908142e-05, 'num_leaves': 81, 'max_depth': 7, 'n_estimators': 1135, 'learning_rate': 0.10496332443655348, 'colsample_bytree': 0.9988179031310385, 'subsample': 0.6134319138588932, 'booster': 'dart', 'sample_weight': 'balanced'}. Best is trial 16 with value: 0.8517625629486768.\n",
      "[I 2024-09-04 09:50:56,959] Trial 47 finished with value: 0.776799787755357 and parameters: {'reg_alpha': 0.016640745126547125, 'reg_lambda': 3.802817057826157e-07, 'num_leaves': 197, 'max_depth': 4, 'n_estimators': 381, 'learning_rate': 0.3092349856962274, 'colsample_bytree': 0.37102649604743654, 'subsample': 0.5460974604590824, 'booster': 'gblinear', 'sample_weight': 'balanced'}. Best is trial 16 with value: 0.8517625629486768.\n",
      "[I 2024-09-04 09:50:57,296] Trial 48 finished with value: 0.8285592497868713 and parameters: {'reg_alpha': 0.07984256462051013, 'reg_lambda': 2.056508666805927e-06, 'num_leaves': 157, 'max_depth': 10, 'n_estimators': 1090, 'learning_rate': 0.031693105358303914, 'colsample_bytree': 0.8696825171861852, 'subsample': 0.6692211586097786, 'booster': 'gbtree', 'sample_weight': 'balanced'}. Best is trial 16 with value: 0.8517625629486768.\n",
      "[I 2024-09-04 09:51:27,375] Trial 49 finished with value: 0.8199174406604747 and parameters: {'reg_alpha': 8.114864130119706, 'reg_lambda': 2.6400382276146137e-05, 'num_leaves': 213, 'max_depth': 5, 'n_estimators': 800, 'learning_rate': 0.07767455123688227, 'colsample_bytree': 0.8070940780321441, 'subsample': 0.5870358790793616, 'booster': 'dart', 'sample_weight': None}. Best is trial 16 with value: 0.8517625629486768.\n"
     ]
    }
   ],
   "source": [
    "study = optuna.create_study(direction='maximize')\n",
    "study.optimize(objective, n_trials=50)"
   ]
  },
  {
   "cell_type": "code",
   "execution_count": 51,
   "id": "9764dcbf",
   "metadata": {},
   "outputs": [
    {
     "data": {
      "text/plain": [
       "{'reg_alpha': 5.343267100695218e-05,\n",
       " 'reg_lambda': 0.0001822072939479471,\n",
       " 'num_leaves': 182,\n",
       " 'max_depth': 5,\n",
       " 'n_estimators': 627,\n",
       " 'learning_rate': 0.06972132916589005,\n",
       " 'colsample_bytree': 0.8605585856220815,\n",
       " 'subsample': 0.792730808376586,\n",
       " 'booster': 'dart',\n",
       " 'sample_weight': 'balanced'}"
      ]
     },
     "execution_count": 51,
     "metadata": {},
     "output_type": "execute_result"
    }
   ],
   "source": [
    "study.best_params"
   ]
  },
  {
   "cell_type": "code",
   "execution_count": 55,
   "id": "e5771af2",
   "metadata": {},
   "outputs": [
    {
     "data": {
      "text/html": [
       "<style>#sk-container-id-8 {color: black;}#sk-container-id-8 pre{padding: 0;}#sk-container-id-8 div.sk-toggleable {background-color: white;}#sk-container-id-8 label.sk-toggleable__label {cursor: pointer;display: block;width: 100%;margin-bottom: 0;padding: 0.3em;box-sizing: border-box;text-align: center;}#sk-container-id-8 label.sk-toggleable__label-arrow:before {content: \"▸\";float: left;margin-right: 0.25em;color: #696969;}#sk-container-id-8 label.sk-toggleable__label-arrow:hover:before {color: black;}#sk-container-id-8 div.sk-estimator:hover label.sk-toggleable__label-arrow:before {color: black;}#sk-container-id-8 div.sk-toggleable__content {max-height: 0;max-width: 0;overflow: hidden;text-align: left;background-color: #f0f8ff;}#sk-container-id-8 div.sk-toggleable__content pre {margin: 0.2em;color: black;border-radius: 0.25em;background-color: #f0f8ff;}#sk-container-id-8 input.sk-toggleable__control:checked~div.sk-toggleable__content {max-height: 200px;max-width: 100%;overflow: auto;}#sk-container-id-8 input.sk-toggleable__control:checked~label.sk-toggleable__label-arrow:before {content: \"▾\";}#sk-container-id-8 div.sk-estimator input.sk-toggleable__control:checked~label.sk-toggleable__label {background-color: #d4ebff;}#sk-container-id-8 div.sk-label input.sk-toggleable__control:checked~label.sk-toggleable__label {background-color: #d4ebff;}#sk-container-id-8 input.sk-hidden--visually {border: 0;clip: rect(1px 1px 1px 1px);clip: rect(1px, 1px, 1px, 1px);height: 1px;margin: -1px;overflow: hidden;padding: 0;position: absolute;width: 1px;}#sk-container-id-8 div.sk-estimator {font-family: monospace;background-color: #f0f8ff;border: 1px dotted black;border-radius: 0.25em;box-sizing: border-box;margin-bottom: 0.5em;}#sk-container-id-8 div.sk-estimator:hover {background-color: #d4ebff;}#sk-container-id-8 div.sk-parallel-item::after {content: \"\";width: 100%;border-bottom: 1px solid gray;flex-grow: 1;}#sk-container-id-8 div.sk-label:hover label.sk-toggleable__label {background-color: #d4ebff;}#sk-container-id-8 div.sk-serial::before {content: \"\";position: absolute;border-left: 1px solid gray;box-sizing: border-box;top: 0;bottom: 0;left: 50%;z-index: 0;}#sk-container-id-8 div.sk-serial {display: flex;flex-direction: column;align-items: center;background-color: white;padding-right: 0.2em;padding-left: 0.2em;position: relative;}#sk-container-id-8 div.sk-item {position: relative;z-index: 1;}#sk-container-id-8 div.sk-parallel {display: flex;align-items: stretch;justify-content: center;background-color: white;position: relative;}#sk-container-id-8 div.sk-item::before, #sk-container-id-8 div.sk-parallel-item::before {content: \"\";position: absolute;border-left: 1px solid gray;box-sizing: border-box;top: 0;bottom: 0;left: 50%;z-index: -1;}#sk-container-id-8 div.sk-parallel-item {display: flex;flex-direction: column;z-index: 1;position: relative;background-color: white;}#sk-container-id-8 div.sk-parallel-item:first-child::after {align-self: flex-end;width: 50%;}#sk-container-id-8 div.sk-parallel-item:last-child::after {align-self: flex-start;width: 50%;}#sk-container-id-8 div.sk-parallel-item:only-child::after {width: 0;}#sk-container-id-8 div.sk-dashed-wrapped {border: 1px dashed gray;margin: 0 0.4em 0.5em 0.4em;box-sizing: border-box;padding-bottom: 0.4em;background-color: white;}#sk-container-id-8 div.sk-label label {font-family: monospace;font-weight: bold;display: inline-block;line-height: 1.2em;}#sk-container-id-8 div.sk-label-container {text-align: center;}#sk-container-id-8 div.sk-container {/* jupyter's `normalize.less` sets `[hidden] { display: none; }` but bootstrap.min.css set `[hidden] { display: none !important; }` so we also need the `!important` here to be able to override the default hidden behavior on the sphinx rendered scikit-learn.org. See: https://github.com/scikit-learn/scikit-learn/issues/21755 */display: inline-block !important;position: relative;}#sk-container-id-8 div.sk-text-repr-fallback {display: none;}</style><div id=\"sk-container-id-8\" class=\"sk-top-container\"><div class=\"sk-text-repr-fallback\"><pre>XGBClassifier(base_score=None, booster=&#x27;dart&#x27;, callbacks=None,\n",
       "              colsample_bylevel=None, colsample_bynode=None,\n",
       "              colsample_bytree=0.8605585856220815, device=None,\n",
       "              early_stopping_rounds=30, enable_categorical=False,\n",
       "              eval_metric=None, feature_types=None, gamma=None,\n",
       "              grow_policy=None, importance_type=None,\n",
       "              interaction_constraints=None, learning_rate=0.06972132916589005,\n",
       "              max_bin=None, max_cat_threshold=None, max_cat_to_onehot=None,\n",
       "              max_delta_step=None, max_depth=5, max_leaves=None,\n",
       "              min_child_weight=None, missing=nan, monotone_constraints=None,\n",
       "              multi_strategy=None, n_estimators=627, n_jobs=None,\n",
       "              num_leaves=182, num_parallel_tree=None, ...)</pre><b>In a Jupyter environment, please rerun this cell to show the HTML representation or trust the notebook. <br />On GitHub, the HTML representation is unable to render, please try loading this page with nbviewer.org.</b></div><div class=\"sk-container\" hidden><div class=\"sk-item\"><div class=\"sk-estimator sk-toggleable\"><input class=\"sk-toggleable__control sk-hidden--visually\" id=\"sk-estimator-id-8\" type=\"checkbox\" checked><label for=\"sk-estimator-id-8\" class=\"sk-toggleable__label sk-toggleable__label-arrow\">XGBClassifier</label><div class=\"sk-toggleable__content\"><pre>XGBClassifier(base_score=None, booster=&#x27;dart&#x27;, callbacks=None,\n",
       "              colsample_bylevel=None, colsample_bynode=None,\n",
       "              colsample_bytree=0.8605585856220815, device=None,\n",
       "              early_stopping_rounds=30, enable_categorical=False,\n",
       "              eval_metric=None, feature_types=None, gamma=None,\n",
       "              grow_policy=None, importance_type=None,\n",
       "              interaction_constraints=None, learning_rate=0.06972132916589005,\n",
       "              max_bin=None, max_cat_threshold=None, max_cat_to_onehot=None,\n",
       "              max_delta_step=None, max_depth=5, max_leaves=None,\n",
       "              min_child_weight=None, missing=nan, monotone_constraints=None,\n",
       "              multi_strategy=None, n_estimators=627, n_jobs=None,\n",
       "              num_leaves=182, num_parallel_tree=None, ...)</pre></div></div></div></div></div>"
      ],
      "text/plain": [
       "XGBClassifier(base_score=None, booster='dart', callbacks=None,\n",
       "              colsample_bylevel=None, colsample_bynode=None,\n",
       "              colsample_bytree=0.8605585856220815, device=None,\n",
       "              early_stopping_rounds=30, enable_categorical=False,\n",
       "              eval_metric=None, feature_types=None, gamma=None,\n",
       "              grow_policy=None, importance_type=None,\n",
       "              interaction_constraints=None, learning_rate=0.06972132916589005,\n",
       "              max_bin=None, max_cat_threshold=None, max_cat_to_onehot=None,\n",
       "              max_delta_step=None, max_depth=5, max_leaves=None,\n",
       "              min_child_weight=None, missing=nan, monotone_constraints=None,\n",
       "              multi_strategy=None, n_estimators=627, n_jobs=None,\n",
       "              num_leaves=182, num_parallel_tree=None, ...)"
      ]
     },
     "execution_count": 55,
     "metadata": {},
     "output_type": "execute_result"
    }
   ],
   "source": [
    "params = study.best_params\n",
    "params['sample_weight'] = balanced_weights\n",
    "params['verbosity'] = 0\n",
    "params['early_stopping_rounds'] = 30\n",
    "\n",
    "model = XGBClassifier(**params)\n",
    "model.fit(x_train, y_train, eval_set=[(x_val, y_val)], verbose=False)"
   ]
  },
  {
   "cell_type": "code",
   "execution_count": 56,
   "id": "35155602",
   "metadata": {},
   "outputs": [
    {
     "data": {
      "text/plain": [
       "0.8517625629486768"
      ]
     },
     "execution_count": 56,
     "metadata": {},
     "output_type": "execute_result"
    }
   ],
   "source": [
    "metric(y_val, model.predict(x_val))"
   ]
  },
  {
   "cell_type": "code",
   "execution_count": null,
   "id": "56661feb",
   "metadata": {},
   "outputs": [],
   "source": []
  }
 ],
 "metadata": {
  "kernelspec": {
   "display_name": "uplift",
   "language": "python",
   "name": "uplift"
  },
  "language_info": {
   "codemirror_mode": {
    "name": "ipython",
    "version": 3
   },
   "file_extension": ".py",
   "mimetype": "text/x-python",
   "name": "python",
   "nbconvert_exporter": "python",
   "pygments_lexer": "ipython3",
   "version": "3.10.12"
  }
 },
 "nbformat": 4,
 "nbformat_minor": 5
}
