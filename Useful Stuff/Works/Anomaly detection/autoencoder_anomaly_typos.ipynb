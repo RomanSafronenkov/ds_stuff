{
 "cells": [
  {
   "cell_type": "code",
   "execution_count": 1,
   "id": "af6b7369-22a3-48d8-ac43-60f4bdce28ac",
   "metadata": {},
   "outputs": [],
   "source": [
    "import pandas as pd\n",
    "import numpy as np\n",
    "import matplotlib.pyplot as plt\n",
    "\n",
    "import torch\n",
    "import torch.nn as nn\n",
    "import torch.nn.functional as F\n",
    "\n",
    "import random\n",
    "from random import sample\n",
    "\n",
    "seed = 42\n",
    "random.seed(seed)\n",
    "np.random.seed(seed)\n",
    "torch.manual_seed(seed)\n",
    "torch.cuda.manual_seed(seed)\n",
    "torch.backends.cudnn.deterministic = True\n",
    "\n",
    "%matplotlib inline"
   ]
  },
  {
   "cell_type": "code",
   "execution_count": 2,
   "id": "595dca73-a525-4f65-8e92-f7e02e72a759",
   "metadata": {},
   "outputs": [
    {
     "data": {
      "text/html": [
       "<div>\n",
       "<style scoped>\n",
       "    .dataframe tbody tr th:only-of-type {\n",
       "        vertical-align: middle;\n",
       "    }\n",
       "\n",
       "    .dataframe tbody tr th {\n",
       "        vertical-align: top;\n",
       "    }\n",
       "\n",
       "    .dataframe thead th {\n",
       "        text-align: right;\n",
       "    }\n",
       "</style>\n",
       "<table border=\"1\" class=\"dataframe\">\n",
       "  <thead>\n",
       "    <tr style=\"text-align: right;\">\n",
       "      <th></th>\n",
       "      <th>CORRECT</th>\n",
       "      <th>MISTAKE</th>\n",
       "      <th>WEIGHT</th>\n",
       "    </tr>\n",
       "  </thead>\n",
       "  <tbody>\n",
       "    <tr>\n",
       "      <th>0</th>\n",
       "      <td>болото</td>\n",
       "      <td>болотл</td>\n",
       "      <td>0.3333</td>\n",
       "    </tr>\n",
       "    <tr>\n",
       "      <th>1</th>\n",
       "      <td>болото</td>\n",
       "      <td>болотао</td>\n",
       "      <td>0.2500</td>\n",
       "    </tr>\n",
       "    <tr>\n",
       "      <th>2</th>\n",
       "      <td>болото</td>\n",
       "      <td>балото</td>\n",
       "      <td>0.1219</td>\n",
       "    </tr>\n",
       "    <tr>\n",
       "      <th>3</th>\n",
       "      <td>болото</td>\n",
       "      <td>болто</td>\n",
       "      <td>0.0562</td>\n",
       "    </tr>\n",
       "    <tr>\n",
       "      <th>4</th>\n",
       "      <td>болото</td>\n",
       "      <td>болотаъ</td>\n",
       "      <td>0.0526</td>\n",
       "    </tr>\n",
       "  </tbody>\n",
       "</table>\n",
       "</div>"
      ],
      "text/plain": [
       "  CORRECT  MISTAKE  WEIGHT\n",
       "0  болото   болотл  0.3333\n",
       "1  болото  болотао  0.2500\n",
       "2  болото   балото  0.1219\n",
       "3  болото    болто  0.0562\n",
       "4  болото  болотаъ  0.0526"
      ]
     },
     "execution_count": 2,
     "metadata": {},
     "output_type": "execute_result"
    }
   ],
   "source": [
    "data = pd.read_csv('./data/orphos.txt', sep=';')\n",
    "data.head()"
   ]
  },
  {
   "cell_type": "code",
   "execution_count": 3,
   "id": "1fbeb1e3-1210-4585-ad9d-c4b497132092",
   "metadata": {},
   "outputs": [
    {
     "data": {
      "text/plain": [
       "(85550, 3)"
      ]
     },
     "execution_count": 3,
     "metadata": {},
     "output_type": "execute_result"
    }
   ],
   "source": [
    "data.shape"
   ]
  },
  {
   "cell_type": "code",
   "execution_count": 4,
   "id": "78883f6a-d671-4fe6-93fe-c5d8688afca7",
   "metadata": {},
   "outputs": [
    {
     "data": {
      "text/plain": [
       "21749"
      ]
     },
     "execution_count": 4,
     "metadata": {},
     "output_type": "execute_result"
    }
   ],
   "source": [
    "correct_words = data['CORRECT'].unique().tolist()\n",
    "len(correct_words)"
   ]
  },
  {
   "cell_type": "code",
   "execution_count": 5,
   "id": "44e443be-5bc5-4da5-9498-6967828a16e6",
   "metadata": {},
   "outputs": [
    {
     "data": {
      "text/plain": [
       "21008"
      ]
     },
     "execution_count": 5,
     "metadata": {},
     "output_type": "execute_result"
    }
   ],
   "source": [
    "correct_words = list(filter(lambda x: len(x) >= 4, correct_words))\n",
    "len(correct_words)"
   ]
  },
  {
   "cell_type": "code",
   "execution_count": 6,
   "id": "97ff6d58-ee72-440d-89d4-6e04d25df266",
   "metadata": {},
   "outputs": [],
   "source": [
    "all_letters = list('абвгдеёжзийклмнопрстуфхцчшщъыьэюя')"
   ]
  },
  {
   "cell_type": "code",
   "execution_count": 7,
   "id": "c184cecf-ddeb-418e-b123-12fb2320de8c",
   "metadata": {},
   "outputs": [
    {
     "name": "stdout",
     "output_type": "stream",
     "text": [
      "Initial word: ['л', 'ь', 'в', 'и', 'ц', 'а']\n",
      "Chosen letter: ы\n",
      "Chosen idx: 2\n",
      "Corrected word: ['л', 'ь', 'ы', 'и', 'ц', 'а']\n"
     ]
    }
   ],
   "source": [
    "# пример\n",
    "word = list(np.random.choice(correct_words))\n",
    "print('Initial word:', word)\n",
    "\n",
    "sub_letter = np.random.choice(all_letters)\n",
    "print('Chosen letter:', sub_letter)\n",
    "\n",
    "place = np.random.randint(0, len(word))\n",
    "print('Chosen idx:', place)\n",
    "\n",
    "word[place] = sub_letter\n",
    "print('Corrected word:', word)"
   ]
  },
  {
   "cell_type": "code",
   "execution_count": 8,
   "id": "53c46999-ae57-44c0-ad69-c76e5f2eb953",
   "metadata": {},
   "outputs": [],
   "source": [
    "# def generate_dataset(words, p=0.2):\n",
    "#     dataset = []\n",
    "#     for word in words:\n",
    "#         dataset.append(word)\n",
    "#         if np.random.random() < p:\n",
    "#             word_ = list(word)\n",
    "#             sub_letter = np.random.choice(all_letters)\n",
    "#             place = np.random.randint(0, len(word_))\n",
    "#             word_[place] = sub_letter\n",
    "#             word_ = ''.join(word_)\n",
    "#             dataset.append(word_)\n",
    "#     return dataset"
   ]
  },
  {
   "cell_type": "code",
   "execution_count": 9,
   "id": "51062795-9c45-49fa-836f-4b806f277bb5",
   "metadata": {},
   "outputs": [],
   "source": [
    "# generated_dataset = generate_dataset(correct_words)"
   ]
  },
  {
   "cell_type": "code",
   "execution_count": 10,
   "id": "15aeeaa6-9c0f-40a8-915f-aafa433ae191",
   "metadata": {},
   "outputs": [],
   "source": [
    "# len(generated_dataset), len(correct_words) # words with typos added"
   ]
  },
  {
   "cell_type": "code",
   "execution_count": 11,
   "id": "174fa5b5-61fa-4545-b613-579cdd0da9c9",
   "metadata": {},
   "outputs": [
    {
     "data": {
      "text/html": [
       "<div>\n",
       "<style scoped>\n",
       "    .dataframe tbody tr th:only-of-type {\n",
       "        vertical-align: middle;\n",
       "    }\n",
       "\n",
       "    .dataframe tbody tr th {\n",
       "        vertical-align: top;\n",
       "    }\n",
       "\n",
       "    .dataframe thead th {\n",
       "        text-align: right;\n",
       "    }\n",
       "</style>\n",
       "<table border=\"1\" class=\"dataframe\">\n",
       "  <thead>\n",
       "    <tr style=\"text-align: right;\">\n",
       "      <th></th>\n",
       "      <th>CORRECT</th>\n",
       "      <th>MISTAKE</th>\n",
       "      <th>WEIGHT</th>\n",
       "    </tr>\n",
       "  </thead>\n",
       "  <tbody>\n",
       "    <tr>\n",
       "      <th>0</th>\n",
       "      <td>болото</td>\n",
       "      <td>болотл</td>\n",
       "      <td>0.3333</td>\n",
       "    </tr>\n",
       "    <tr>\n",
       "      <th>1</th>\n",
       "      <td>болото</td>\n",
       "      <td>болотао</td>\n",
       "      <td>0.2500</td>\n",
       "    </tr>\n",
       "    <tr>\n",
       "      <th>2</th>\n",
       "      <td>болото</td>\n",
       "      <td>балото</td>\n",
       "      <td>0.1219</td>\n",
       "    </tr>\n",
       "    <tr>\n",
       "      <th>3</th>\n",
       "      <td>болото</td>\n",
       "      <td>болто</td>\n",
       "      <td>0.0562</td>\n",
       "    </tr>\n",
       "    <tr>\n",
       "      <th>4</th>\n",
       "      <td>болото</td>\n",
       "      <td>болотаъ</td>\n",
       "      <td>0.0526</td>\n",
       "    </tr>\n",
       "    <tr>\n",
       "      <th>...</th>\n",
       "      <td>...</td>\n",
       "      <td>...</td>\n",
       "      <td>...</td>\n",
       "    </tr>\n",
       "    <tr>\n",
       "      <th>85545</th>\n",
       "      <td>догадливый</td>\n",
       "      <td>догадливвый</td>\n",
       "      <td>0.5000</td>\n",
       "    </tr>\n",
       "    <tr>\n",
       "      <th>85546</th>\n",
       "      <td>пуховый</td>\n",
       "      <td>пуховык</td>\n",
       "      <td>0.5000</td>\n",
       "    </tr>\n",
       "    <tr>\n",
       "      <th>85547</th>\n",
       "      <td>ослица</td>\n",
       "      <td>ослиа</td>\n",
       "      <td>0.2500</td>\n",
       "    </tr>\n",
       "    <tr>\n",
       "      <th>85548</th>\n",
       "      <td>ослик</td>\n",
       "      <td>ослиа</td>\n",
       "      <td>0.5000</td>\n",
       "    </tr>\n",
       "    <tr>\n",
       "      <th>85549</th>\n",
       "      <td>славянин</td>\n",
       "      <td>славяние</td>\n",
       "      <td>0.5000</td>\n",
       "    </tr>\n",
       "  </tbody>\n",
       "</table>\n",
       "<p>85550 rows × 3 columns</p>\n",
       "</div>"
      ],
      "text/plain": [
       "          CORRECT      MISTAKE  WEIGHT\n",
       "0          болото       болотл  0.3333\n",
       "1          болото      болотао  0.2500\n",
       "2          болото       балото  0.1219\n",
       "3          болото        болто  0.0562\n",
       "4          болото      болотаъ  0.0526\n",
       "...           ...          ...     ...\n",
       "85545  догадливый  догадливвый  0.5000\n",
       "85546     пуховый      пуховык  0.5000\n",
       "85547      ослица        ослиа  0.2500\n",
       "85548       ослик        ослиа  0.5000\n",
       "85549    славянин     славяние  0.5000\n",
       "\n",
       "[85550 rows x 3 columns]"
      ]
     },
     "execution_count": 11,
     "metadata": {},
     "output_type": "execute_result"
    }
   ],
   "source": [
    "data"
   ]
  },
  {
   "cell_type": "code",
   "execution_count": 12,
   "id": "91b8cab4-3821-4b06-ba47-58df247670a5",
   "metadata": {},
   "outputs": [
    {
     "data": {
      "text/plain": [
       "CORRECT\n",
       "6     13610\n",
       "7     13423\n",
       "5     11652\n",
       "4     10749\n",
       "8      9727\n",
       "3      7632\n",
       "9      6836\n",
       "10     4507\n",
       "11     2938\n",
       "12     1783\n",
       "13     1067\n",
       "14      559\n",
       "1       336\n",
       "15      255\n",
       "2       250\n",
       "16      120\n",
       "17       54\n",
       "18       38\n",
       "19        7\n",
       "21        6\n",
       "20        1\n",
       "Name: count, dtype: int64"
      ]
     },
     "execution_count": 12,
     "metadata": {},
     "output_type": "execute_result"
    }
   ],
   "source": [
    "data['CORRECT'].apply(len).value_counts()"
   ]
  },
  {
   "cell_type": "code",
   "execution_count": 13,
   "id": "07ef2598-48e4-4444-817f-1c6c3224ebfd",
   "metadata": {},
   "outputs": [],
   "source": [
    "# data = data[data['CORRECT'].apply(len) == 10]"
   ]
  },
  {
   "cell_type": "code",
   "execution_count": 14,
   "id": "452d8435-7063-473d-8e3a-01885becffa9",
   "metadata": {},
   "outputs": [],
   "source": [
    "correct_df = data[['CORRECT']].copy()\n",
    "mistake_df = data[['MISTAKE']].copy().sample(frac=0.1).reset_index(drop=True) # only 10%\n",
    "\n",
    "correct_df['is_error'] = 0\n",
    "mistake_df['is_error'] = 1\n",
    "\n",
    "correct_df.rename({'CORRECT': 'word'}, axis=1, inplace=True)\n",
    "mistake_df.rename({'MISTAKE': 'word'}, axis=1, inplace=True)\n",
    "\n",
    "df = pd.concat([correct_df, mistake_df], axis=0, ignore_index=True)"
   ]
  },
  {
   "cell_type": "code",
   "execution_count": 15,
   "id": "013dc437-261a-49f4-83ce-2ac90a331fb4",
   "metadata": {},
   "outputs": [
    {
     "data": {
      "text/plain": [
       "is_error\n",
       "0    85550\n",
       "1     8555\n",
       "Name: count, dtype: int64"
      ]
     },
     "execution_count": 15,
     "metadata": {},
     "output_type": "execute_result"
    }
   ],
   "source": [
    "df['is_error'].value_counts()"
   ]
  },
  {
   "cell_type": "code",
   "execution_count": 16,
   "id": "0b8652f5-51e0-4d79-b136-b18cd2b769db",
   "metadata": {},
   "outputs": [],
   "source": [
    "df = df.sample(frac=1).reset_index(drop=True) # random shuffle"
   ]
  },
  {
   "cell_type": "code",
   "execution_count": 17,
   "id": "abaab0ef-c69b-4484-9b44-dad6c98a1d8e",
   "metadata": {},
   "outputs": [],
   "source": [
    "# BOS, EOS = '_BOS_', '_EOS_'\n",
    "# generated_dataset = np.random.permutation(data['CORRECT'].values.tolist() + data['MISTAKE'].values.tolist())\n",
    "\n",
    "# lines = [[BOS] + list(line) + [EOS] for line in generated_dataset]\n",
    "\n",
    "# lines[:3]"
   ]
  },
  {
   "cell_type": "code",
   "execution_count": 18,
   "id": "b3ad94e9-98fa-424c-9424-f690c85dbfc0",
   "metadata": {},
   "outputs": [
    {
     "data": {
      "text/plain": [
       "[['_BOS_', 'п', 'о', '_EOS_'],\n",
       " ['_BOS_', 'в', 'с', 'е', 'м', '_EOS_'],\n",
       " ['_BOS_', 'п', 'о', 'л', 'у', 'ч', 'и', 'т', 'ь', '_EOS_']]"
      ]
     },
     "execution_count": 18,
     "metadata": {},
     "output_type": "execute_result"
    }
   ],
   "source": [
    "BOS, EOS = '_BOS_', '_EOS_'\n",
    "generated_dataset = df['word'].tolist()\n",
    "\n",
    "lines = [[BOS] + list(line) + [EOS] for line in generated_dataset]\n",
    "\n",
    "lines[:3]"
   ]
  },
  {
   "cell_type": "code",
   "execution_count": 19,
   "id": "35558df5-41eb-441f-8567-21c696a22723",
   "metadata": {},
   "outputs": [],
   "source": [
    "tokens = []\n",
    "for text in lines:\n",
    "    tokens.extend(text)\n",
    "tokens = list(set(tokens))"
   ]
  },
  {
   "cell_type": "code",
   "execution_count": 20,
   "id": "a6f67fd9-4015-4172-a852-2da30374b3a6",
   "metadata": {},
   "outputs": [
    {
     "name": "stdout",
     "output_type": "stream",
     "text": [
      "n_tokens = 36\n"
     ]
    },
    {
     "data": {
      "text/plain": [
       "{'-': 0,\n",
       " '_BOS_': 1,\n",
       " '_EOS_': 2,\n",
       " 'а': 3,\n",
       " 'б': 4,\n",
       " 'в': 5,\n",
       " 'г': 6,\n",
       " 'д': 7,\n",
       " 'е': 8,\n",
       " 'ж': 9,\n",
       " 'з': 10,\n",
       " 'и': 11,\n",
       " 'й': 12,\n",
       " 'к': 13,\n",
       " 'л': 14,\n",
       " 'м': 15,\n",
       " 'н': 16,\n",
       " 'о': 17,\n",
       " 'п': 18,\n",
       " 'р': 19,\n",
       " 'с': 20,\n",
       " 'т': 21,\n",
       " 'у': 22,\n",
       " 'ф': 23,\n",
       " 'х': 24,\n",
       " 'ц': 25,\n",
       " 'ч': 26,\n",
       " 'ш': 27,\n",
       " 'щ': 28,\n",
       " 'ъ': 29,\n",
       " 'ы': 30,\n",
       " 'ь': 31,\n",
       " 'э': 32,\n",
       " 'ю': 33,\n",
       " 'я': 34,\n",
       " 'ё': 35}"
      ]
     },
     "execution_count": 20,
     "metadata": {},
     "output_type": "execute_result"
    }
   ],
   "source": [
    "tokens = sorted(tokens)\n",
    "n_tokens = len(tokens)\n",
    "print('n_tokens =', n_tokens)\n",
    "token_to_id = {token: id for id, token in enumerate(tokens)}\n",
    "token_to_id"
   ]
  },
  {
   "cell_type": "code",
   "execution_count": 21,
   "id": "2542370d-3e3b-4024-9408-8e8b08062ce6",
   "metadata": {},
   "outputs": [
    {
     "name": "stdout",
     "output_type": "stream",
     "text": [
      "[[ 3  4  5  2  2  2  2  2  2]\n",
      " [ 3  4  5  6  7  8  2  2  2]\n",
      " [ 3  4  5  6  7  8 10  9 30]]\n"
     ]
    }
   ],
   "source": [
    "def to_matrix(lines, max_len=None, pad=token_to_id[EOS], dtype=np.int64):\n",
    "    \"\"\"Casts a list of lines into torch-digestable matrix\"\"\"\n",
    "    max_len = max_len or max(map(len, lines))\n",
    "    lines_ix = np.full([len(lines), max_len], pad, dtype=dtype)\n",
    "    for i in range(len(lines)):\n",
    "        line_ix = list(map(token_to_id.get, lines[i][:max_len]))\n",
    "        lines_ix[i, :len(line_ix)] = line_ix\n",
    "    return lines_ix\n",
    "\n",
    "dummy_lines = [\n",
    "    'абв',\n",
    "    'абвгде',\n",
    "    'абвгдезжы',\n",
    "]\n",
    "print(to_matrix(dummy_lines))"
   ]
  },
  {
   "cell_type": "code",
   "execution_count": 22,
   "id": "c2b06b0b-246c-4d78-8311-6777a0e165a1",
   "metadata": {},
   "outputs": [],
   "source": [
    "def compute_mask(input_ix, eos_ix=token_to_id[EOS]):\n",
    "    \"\"\" compute a boolean mask that equals \"1\" until first EOS (including that EOS) \"\"\"\n",
    "    return F.pad(torch.cumsum(input_ix == eos_ix, dim=-1)[..., :-1] < 1, pad=(1, 0, 0, 0), value=True)\n",
    "\n",
    "def compute_loss(model, input_ix, check_ix):\n",
    "    \"\"\"\n",
    "    autoencoder, reconstruction loss\n",
    "    \"\"\"\n",
    "    input_ix = torch.as_tensor(input_ix, dtype=torch.int64, device=device)\n",
    "    check_ix = torch.as_tensor(check_ix, dtype=torch.int64, device=device)\n",
    "    \n",
    "    logits = model(input_ix)\n",
    "    reference_answers = check_ix\n",
    "\n",
    "    logits = -F.log_softmax(logits, -1)\n",
    "    \n",
    "    mask = compute_mask(input_ix)\n",
    "    loss = torch.mean(torch.gather(logits, dim=2, index=reference_answers[:,:,None])[mask])\n",
    "    return loss "
   ]
  },
  {
   "cell_type": "code",
   "execution_count": 23,
   "id": "09e78b87-d039-457d-a041-e716208a42d6",
   "metadata": {},
   "outputs": [
    {
     "data": {
      "text/plain": [
       "[['_BOS_', 'п', 'о', '_EOS_'],\n",
       " ['_BOS_', 'в', 'с', 'е', 'м', '_EOS_'],\n",
       " ['_BOS_', 'п', 'о', 'л', 'у', 'ч', 'и', 'т', 'ь', '_EOS_']]"
      ]
     },
     "execution_count": 23,
     "metadata": {},
     "output_type": "execute_result"
    }
   ],
   "source": [
    "lines[:3]"
   ]
  },
  {
   "cell_type": "code",
   "execution_count": 24,
   "id": "83c8ae4f-ae11-45bc-a8ff-0aea1ca778e0",
   "metadata": {},
   "outputs": [
    {
     "data": {
      "text/plain": [
       "array([[ 1, 18, 17,  2,  2,  2,  2,  2,  2,  2],\n",
       "       [ 1,  5, 20,  8, 15,  2,  2,  2,  2,  2],\n",
       "       [ 1, 18, 17, 14, 22, 26, 11, 21, 31,  2]], dtype=int64)"
      ]
     },
     "execution_count": 24,
     "metadata": {},
     "output_type": "execute_result"
    }
   ],
   "source": [
    "to_matrix(lines[:3])"
   ]
  },
  {
   "cell_type": "code",
   "execution_count": 25,
   "id": "2748dabb-cc5d-464e-a592-bf80d228273e",
   "metadata": {},
   "outputs": [
    {
     "data": {
      "text/plain": [
       "tensor([[ True,  True,  True,  True, False, False, False, False, False, False],\n",
       "        [ True,  True,  True,  True,  True,  True, False, False, False, False],\n",
       "        [ True,  True,  True,  True,  True,  True,  True,  True,  True,  True]])"
      ]
     },
     "execution_count": 25,
     "metadata": {},
     "output_type": "execute_result"
    }
   ],
   "source": [
    "compute_mask(torch.as_tensor(to_matrix(lines[:3])))"
   ]
  },
  {
   "cell_type": "code",
   "execution_count": 26,
   "id": "68449429-5f53-4ab0-aeb7-3774e5f0b46c",
   "metadata": {},
   "outputs": [],
   "source": [
    "def score_lines(model, dev_lines, batch_size):\n",
    "    \"\"\" computes average loss over the entire dataset \"\"\"\n",
    "    dev_loss_num, dev_loss_len = 0., 0.\n",
    "    with torch.no_grad():\n",
    "        for i in range(0, len(dev_lines), batch_size):\n",
    "            batch_ix = to_matrix(dev_lines[i: i + batch_size])\n",
    "            dev_loss_num += compute_loss(model, batch_ix, batch_ix).item() * len(batch_ix)\n",
    "            dev_loss_len += len(batch_ix)\n",
    "    return dev_loss_num / dev_loss_len"
   ]
  },
  {
   "cell_type": "markdown",
   "id": "40443f03-bf87-4767-b343-6155b74af834",
   "metadata": {},
   "source": [
    "# Autoencoder"
   ]
  },
  {
   "cell_type": "code",
   "execution_count": 27,
   "id": "2ae42bcf-aba3-493a-9408-fee372610215",
   "metadata": {},
   "outputs": [],
   "source": [
    "class Encoder(nn.Module):\n",
    "    def __init__(self, inp_voc, hid_size, EOS=EOS):\n",
    "        super().__init__()\n",
    "        n_tokens = len(inp_voc)\n",
    "        self.inp_voc = inp_voc\n",
    "        self.eos = inp_voc[EOS]\n",
    "\n",
    "        self.emb = nn.Embedding(num_embeddings=n_tokens, embedding_dim=hid_size, device=device)\n",
    "        self.layernorm = nn.LayerNorm(hid_size)\n",
    "        self.rnn1 = nn.LSTM(input_size=hid_size, hidden_size=hid_size//2, num_layers=1, batch_first=True, device=device)\n",
    "        self.rnn2 = nn.LSTM(input_size=hid_size//2, hidden_size=hid_size//4, num_layers=1, batch_first=True, device=device)\n",
    "\n",
    "        # self.bottleneck = nn.Linear(hid_size//4, hid_size//8)\n",
    "\n",
    "    def __call__(self, input_ix):\n",
    "        input_ix = input_ix.to(device)\n",
    "        x = self.emb(input_ix)\n",
    "        x = self.layernorm(x)\n",
    "\n",
    "        output, _ = self.rnn1(x)\n",
    "        output, _ = self.rnn2(output)\n",
    "        \n",
    "        lengths = (input_ix != self.eos).to(torch.int64).sum(dim=1).clamp_max(input_ix.shape[1]-1)\n",
    "        last_state = output[torch.arange(len(output)), lengths]\n",
    "\n",
    "        # last_state = self.bottleneck(last_state)\n",
    "        return last_state"
   ]
  },
  {
   "cell_type": "code",
   "execution_count": 28,
   "id": "43c78e3a-1f94-4a85-bf8e-4b04d1a4d7e1",
   "metadata": {},
   "outputs": [],
   "source": [
    "class Decoder(nn.Module):\n",
    "    def __init__(self, n_tokens, hid_size):\n",
    "        super().__init__()\n",
    "\n",
    "        # self.unbottleneck = nn.Linear(hid_size//8, hid_size//4)\n",
    "\n",
    "        self.rnn1 = nn.LSTM(input_size=hid_size//4, hidden_size=hid_size//2, num_layers=1, batch_first=True, device=device)\n",
    "        self.rnn2 = nn.LSTM(input_size=hid_size//2, hidden_size=hid_size, num_layers=1, batch_first=True, device=device)\n",
    "\n",
    "        self.classifier = nn.Linear(hid_size, n_tokens)\n",
    "\n",
    "    def __call__(self, encoded_inp, seq_len):\n",
    "        x = encoded_inp.to(device)\n",
    "        batch_size, enc_dim = x.shape\n",
    "        \n",
    "        # x = self.unbottleneck(x)\n",
    "\n",
    "        x = x.repeat(seq_len, 1, 1).permute(1, 0, 2)\n",
    "\n",
    "        output, _ = self.rnn1(x)\n",
    "        output, _ = self.rnn2(output)\n",
    "\n",
    "        output = self.classifier(output)\n",
    "        \n",
    "        return output"
   ]
  },
  {
   "cell_type": "code",
   "execution_count": 29,
   "id": "8a49b2ad-024f-4b04-943f-5e80148cc4ec",
   "metadata": {},
   "outputs": [],
   "source": [
    "class Autoencoder(nn.Module):\n",
    "    def __init__(self, tokens, inp_voc, hid_size=128):\n",
    "        super().__init__()\n",
    "\n",
    "        self.tokens = tokens\n",
    "        n_tokens = len(tokens)\n",
    "\n",
    "        self.encoder = Encoder(inp_voc, hid_size)\n",
    "        self.decoder = Decoder(n_tokens, hid_size)\n",
    "\n",
    "        self._init_weights()\n",
    "\n",
    "    def __call__(self, input_ix):\n",
    "        x = input_ix.to(device)\n",
    "        seq_len = x.shape[1]\n",
    "\n",
    "        output = self.encoder(x)\n",
    "        output = self.decoder(output, seq_len)\n",
    "        \n",
    "        return output\n",
    "\n",
    "    def _init_weights(self):\n",
    "        for name, param in self.named_parameters():\n",
    "            if 'weight' in name and 'layernorm' not in name:\n",
    "                nn.init.xavier_uniform_(param)\n",
    "\n",
    "    def get_tokens_probs(self, input_ix):\n",
    "        prefix_ix = torch.as_tensor(to_matrix([input_ix]), dtype=torch.int64, device=device)\n",
    "        result_probs = []\n",
    "        with torch.no_grad():\n",
    "            probs = torch.softmax(self(prefix_ix), dim=-1).cpu().numpy()\n",
    "            for idx in list(zip(range(len(input_ix)), prefix_ix[0])):\n",
    "                result_probs.append(probs[0][idx])\n",
    "        return result_probs, list(zip(input_ix, result_probs))"
   ]
  },
  {
   "cell_type": "code",
   "execution_count": 30,
   "id": "e662fd08-61df-47d9-9ad0-0a2224a885c6",
   "metadata": {},
   "outputs": [
    {
     "data": {
      "text/plain": [
       "'cuda'"
      ]
     },
     "execution_count": 30,
     "metadata": {},
     "output_type": "execute_result"
    }
   ],
   "source": [
    "device = 'cuda' if torch.cuda.is_available() else 'cpu'\n",
    "# device = 'cpu'\n",
    "device"
   ]
  },
  {
   "cell_type": "code",
   "execution_count": 31,
   "id": "34cc9854-6d71-4d14-b71b-54c4a1a53b5c",
   "metadata": {},
   "outputs": [
    {
     "name": "stderr",
     "output_type": "stream",
     "text": [
      "D:\\Dev\\jupyter\\projects\\Data Science\\venvs\\venv_yandex_nlp\\lib\\site-packages\\tqdm\\auto.py:21: TqdmWarning: IProgress not found. Please update jupyter and ipywidgets. See https://ipywidgets.readthedocs.io/en/stable/user_install.html\n",
      "  from .autonotebook import tqdm as notebook_tqdm\n"
     ]
    }
   ],
   "source": [
    "from sklearn.model_selection import train_test_split\n",
    "train_lines, val_lines = train_test_split(lines, test_size=0.25, random_state=seed)\n",
    "\n",
    "batch_size = 64\n",
    "score_val_every = 1000\n",
    "train_history, val_history = [], []\n",
    "\n",
    "model = Autoencoder(tokens=tokens, inp_voc=token_to_id, hid_size=64)\n",
    "opt = torch.optim.Adam(model.parameters(), lr=1e-3)\n",
    "\n",
    "model.to(device)\n",
    "\n",
    "# score untrained model\n",
    "val_history.append((0, score_lines(model, val_lines, batch_size)))"
   ]
  },
  {
   "cell_type": "code",
   "execution_count": 32,
   "id": "d5729aed-73bb-4e9c-91e0-9f8bda4263ef",
   "metadata": {},
   "outputs": [
    {
     "data": {
      "text/plain": [
       "Autoencoder(\n",
       "  (encoder): Encoder(\n",
       "    (emb): Embedding(36, 64)\n",
       "    (layernorm): LayerNorm((64,), eps=1e-05, elementwise_affine=True)\n",
       "    (rnn1): LSTM(64, 32, batch_first=True)\n",
       "    (rnn2): LSTM(32, 16, batch_first=True)\n",
       "  )\n",
       "  (decoder): Decoder(\n",
       "    (rnn1): LSTM(16, 32, batch_first=True)\n",
       "    (rnn2): LSTM(32, 64, batch_first=True)\n",
       "    (classifier): Linear(in_features=64, out_features=36, bias=True)\n",
       "  )\n",
       ")"
      ]
     },
     "execution_count": 32,
     "metadata": {},
     "output_type": "execute_result"
    }
   ],
   "source": [
    "model"
   ]
  },
  {
   "cell_type": "code",
   "execution_count": 33,
   "id": "99b015d8-75a2-4075-a5eb-c4fa66ed2005",
   "metadata": {},
   "outputs": [],
   "source": [
    "tokens_to_choose = list(filter(lambda x: x not in [EOS, BOS], tokens))"
   ]
  },
  {
   "cell_type": "code",
   "execution_count": 34,
   "id": "a2a1bcda-1d48-4307-96bc-8edd54aafde8",
   "metadata": {},
   "outputs": [],
   "source": [
    "def augment_batch(batch, p=0.2, tokens_to_choose=tokens_to_choose):\n",
    "    batch = batch.copy()\n",
    "    for line_i in range(len(batch)):\n",
    "        if random.random() < p:\n",
    "            place = np.random.randint(1, len(batch[line_i][:-1]))\n",
    "            chosen_token = np.random.choice(tokens_to_choose)\n",
    "            batch[line_i][place] = token_to_id[chosen_token]\n",
    "        else:\n",
    "            continue\n",
    "    return batch"
   ]
  },
  {
   "cell_type": "code",
   "execution_count": 35,
   "id": "166917b0-895f-403d-b445-d982aacdcf91",
   "metadata": {},
   "outputs": [
    {
     "data": {
      "image/png": "[encoded data removed]",
      "text/plain": [
       "<Figure size 640x480 with 1 Axes>"
      ]
     },
     "metadata": {},
     "output_type": "display_data"
    },
    {
     "name": "stdout",
     "output_type": "stream",
     "text": [
      "Scoring val...\n"
     ]
    },
    {
     "name": "stderr",
     "output_type": "stream",
     "text": [
      "100%|████████████████████████████████████████████████████████████████████████████| 50000/50000 [13:48<00:00, 60.33it/s]"
     ]
    },
    {
     "name": "stdout",
     "output_type": "stream",
     "text": [
      "#49999 Val loss: 0.287\n"
     ]
    },
    {
     "name": "stderr",
     "output_type": "stream",
     "text": [
      "\n"
     ]
    }
   ],
   "source": [
    "from IPython.display import clear_output\n",
    "from random import sample\n",
    "from tqdm import trange\n",
    "\n",
    "for i in trange(len(train_history), 50000):\n",
    "    batch = to_matrix(sample(train_lines, batch_size))\n",
    "    augmented_batch = augment_batch(batch, p=0.5)\n",
    "    \n",
    "    loss_i = compute_loss(model, batch, augmented_batch)\n",
    "    \n",
    "    opt.zero_grad()\n",
    "    loss_i.backward()\n",
    "    opt.step()\n",
    "        \n",
    "    train_history.append((i, loss_i.item()))\n",
    "    \n",
    "    if (i + 1) % 50 == 0:\n",
    "        clear_output(True)\n",
    "        plt.scatter(*zip(*train_history), alpha=0.1, label='train_loss')\n",
    "        if len(val_history):\n",
    "            plt.plot(*zip(*val_history), color='red', label='val_loss')\n",
    "        plt.legend(); plt.grid(); plt.show()\n",
    "    \n",
    "    if (i + 1) % score_val_every == 0:\n",
    "        print(\"Scoring val...\")\n",
    "        val_history.append((i, score_lines(model, val_lines, batch_size)))\n",
    "        print('#%i Val loss: %.3f' % val_history[-1])"
   ]
  },
  {
   "cell_type": "code",
   "execution_count": 36,
   "id": "85ce2d11-d110-4dcb-adea-3b4221856a6e",
   "metadata": {},
   "outputs": [
    {
     "data": {
      "text/plain": [
       "Autoencoder(\n",
       "  (encoder): Encoder(\n",
       "    (emb): Embedding(36, 64)\n",
       "    (layernorm): LayerNorm((64,), eps=1e-05, elementwise_affine=True)\n",
       "    (rnn1): LSTM(64, 32, batch_first=True)\n",
       "    (rnn2): LSTM(32, 16, batch_first=True)\n",
       "  )\n",
       "  (decoder): Decoder(\n",
       "    (rnn1): LSTM(16, 32, batch_first=True)\n",
       "    (rnn2): LSTM(32, 64, batch_first=True)\n",
       "    (classifier): Linear(in_features=64, out_features=36, bias=True)\n",
       "  )\n",
       ")"
      ]
     },
     "execution_count": 36,
     "metadata": {},
     "output_type": "execute_result"
    }
   ],
   "source": [
    "torch.save(model.state_dict(), './autoencoder.pth')\n",
    "model.load_state_dict(torch.load('./autoencoder.pth'))\n",
    "\n",
    "device = 'cpu'\n",
    "\n",
    "model.to(device)\n",
    "model.eval()"
   ]
  },
  {
   "cell_type": "code",
   "execution_count": 37,
   "id": "7888c21e-8f91-4f12-b752-f8757a027a36",
   "metadata": {},
   "outputs": [
    {
     "data": {
      "text/plain": [
       "([1.0, 0.9582392, 0.98396933, 0.9419135],\n",
       " [('_BOS_', 1.0), ('п', 0.9582392), ('о', 0.98396933), ('_EOS_', 0.9419135)])"
      ]
     },
     "execution_count": 37,
     "metadata": {},
     "output_type": "execute_result"
    }
   ],
   "source": [
    "model.get_tokens_probs(lines[0])"
   ]
  },
  {
   "cell_type": "code",
   "execution_count": 38,
   "id": "dc67ac79-b614-4b7f-affb-c5e467e77021",
   "metadata": {},
   "outputs": [],
   "source": [
    "id_to_token = {value: key for key, value in token_to_id.items()}"
   ]
  },
  {
   "cell_type": "code",
   "execution_count": 39,
   "id": "a6e40687-a4ee-43e3-bcd5-82e45bcec13d",
   "metadata": {},
   "outputs": [
    {
     "name": "stdout",
     "output_type": "stream",
     "text": [
      "[['_BOS_', 'в', 'а', 'д', 'а', '_EOS_'], ['_BOS_', 'р', 'и', 'т', 'ь', '_EOS_'], ['_BOS_', 'и', 'с', 'п', 'о', 'в', 'е', 'д', 'о', 'в', 'а', 'т', 'ь', '_EOS_'], ['_BOS_', 'р', 'о', 'т', '_EOS_'], ['_BOS_', 'м', 'е', 'т', 'а', 'л', 'л', '_EOS_'], ['_BOS_', 'п', 'р', 'е', 'д', 'л', 'м', 'е', 'т', '_EOS_'], ['_BOS_', 'а', 'к', 'у', 'л', 'а', '_EOS_'], ['_BOS_', 'п', 'и', 'н', 'р', 'о', '_EOS_'], ['_BOS_', 'р', 'о', 'г', 'а', 'ч', '_EOS_'], ['_BOS_', 'т', 'а', 'р', 'и', 'ф', '_EOS_'], ['_BOS_', 'г', 'л', 'и', 'н', 'я', 'н', 'ы', 'й', '_EOS_']]\n"
     ]
    }
   ],
   "source": [
    "print(lines[4:15])"
   ]
  },
  {
   "cell_type": "code",
   "execution_count": 40,
   "id": "e5591ca4-baad-4a2e-b044-cc6f1eccc583",
   "metadata": {},
   "outputs": [
    {
     "name": "stdout",
     "output_type": "stream",
     "text": [
      "_BOS_вада_EOS__EOS__EOS__EOS__EOS__EOS__EOS__EOS__EOS_\n",
      "_BOS_рить_EOS__EOS__EOS__EOS__EOS__EOS__EOS__EOS__EOS_\n",
      "_BOS_ссповедовать_EOS_\n",
      "_BOS_рот_EOS__EOS__EOS__EOS__EOS__EOS__EOS__EOS__EOS__EOS_\n",
      "_BOS_металл_EOS__EOS__EOS__EOS__EOS__EOS__EOS_\n",
      "_BOS_предамет_EOS__EOS__EOS__EOS__EOS_\n",
      "_BOS_акула_EOS__EOS__EOS__EOS__EOS__EOS__EOS__EOS_\n",
      "_BOS_пинро_EOS__EOS__EOS__EOS__EOS__EOS__EOS__EOS_\n",
      "_BOS_рогач_EOS__EOS__EOS__EOS__EOS__EOS__EOS__EOS_\n",
      "_BOS_тариз_EOS__EOS__EOS__EOS__EOS__EOS__EOS__EOS_\n",
      "_BOS_глининый_EOS__EOS__EOS__EOS__EOS_\n"
     ]
    }
   ],
   "source": [
    "for num in torch.argmax(model(torch.as_tensor(to_matrix(lines[4:15]))), dim=-1):\n",
    "    word = ''\n",
    "    for token in num:\n",
    "        word += id_to_token[token.item()]\n",
    "    print(word)"
   ]
  },
  {
   "cell_type": "code",
   "execution_count": 41,
   "id": "297fc5c1-e461-4b76-85e7-712b3e270c95",
   "metadata": {},
   "outputs": [],
   "source": [
    "def perplexity(model, line, min_logprob=np.log(10**-50.)):\n",
    "    N = len(line)\n",
    "\n",
    "    clear_probs, _ = model.get_tokens_probs(line)\n",
    "    clear_probs = np.maximum(np.log(clear_probs), min_logprob)\n",
    "\n",
    "    log_prob = np.sum(clear_probs)\n",
    "\n",
    "    return np.exp(-log_prob / N)"
   ]
  },
  {
   "cell_type": "code",
   "execution_count": 42,
   "id": "3884c442-4bbf-4b34-ac21-ddaf183a0e4a",
   "metadata": {},
   "outputs": [
    {
     "data": {
      "text/plain": [
       "1.0301094554952246"
      ]
     },
     "execution_count": 42,
     "metadata": {},
     "output_type": "execute_result"
    }
   ],
   "source": [
    "perplexity(model, lines[0])"
   ]
  },
  {
   "cell_type": "code",
   "execution_count": 43,
   "id": "ba976ea9-be67-4d50-b85a-081e243510a7",
   "metadata": {},
   "outputs": [
    {
     "data": {
      "text/html": [
       "<div>\n",
       "<style scoped>\n",
       "    .dataframe tbody tr th:only-of-type {\n",
       "        vertical-align: middle;\n",
       "    }\n",
       "\n",
       "    .dataframe tbody tr th {\n",
       "        vertical-align: top;\n",
       "    }\n",
       "\n",
       "    .dataframe thead th {\n",
       "        text-align: right;\n",
       "    }\n",
       "</style>\n",
       "<table border=\"1\" class=\"dataframe\">\n",
       "  <thead>\n",
       "    <tr style=\"text-align: right;\">\n",
       "      <th></th>\n",
       "      <th>word</th>\n",
       "      <th>is_error</th>\n",
       "    </tr>\n",
       "  </thead>\n",
       "  <tbody>\n",
       "    <tr>\n",
       "      <th>0</th>\n",
       "      <td>по</td>\n",
       "      <td>0</td>\n",
       "    </tr>\n",
       "    <tr>\n",
       "      <th>1</th>\n",
       "      <td>всем</td>\n",
       "      <td>0</td>\n",
       "    </tr>\n",
       "    <tr>\n",
       "      <th>2</th>\n",
       "      <td>получить</td>\n",
       "      <td>0</td>\n",
       "    </tr>\n",
       "    <tr>\n",
       "      <th>3</th>\n",
       "      <td>думать</td>\n",
       "      <td>0</td>\n",
       "    </tr>\n",
       "    <tr>\n",
       "      <th>4</th>\n",
       "      <td>вада</td>\n",
       "      <td>0</td>\n",
       "    </tr>\n",
       "  </tbody>\n",
       "</table>\n",
       "</div>"
      ],
      "text/plain": [
       "       word  is_error\n",
       "0        по         0\n",
       "1      всем         0\n",
       "2  получить         0\n",
       "3    думать         0\n",
       "4      вада         0"
      ]
     },
     "execution_count": 43,
     "metadata": {},
     "output_type": "execute_result"
    }
   ],
   "source": [
    "frame = df.copy()\n",
    "frame.head()"
   ]
  },
  {
   "cell_type": "code",
   "execution_count": 44,
   "id": "736596e2-5f29-469a-8c06-332ebab85f96",
   "metadata": {},
   "outputs": [],
   "source": [
    "frame['tokenized'] = lines"
   ]
  },
  {
   "cell_type": "code",
   "execution_count": 45,
   "id": "541b6e1a-d271-4ecc-a39b-646b5a8614b7",
   "metadata": {},
   "outputs": [
    {
     "name": "stdout",
     "output_type": "stream",
     "text": [
      "CPU times: total: 9min 34s\n",
      "Wall time: 1min 35s\n"
     ]
    }
   ],
   "source": [
    "%%time\n",
    "\n",
    "frame['perplexity'] = frame['tokenized'].apply(lambda x: perplexity(model, x))"
   ]
  },
  {
   "cell_type": "code",
   "execution_count": 46,
   "id": "f1c7a327-8df4-44fa-91d1-0cd5dc2e8c97",
   "metadata": {},
   "outputs": [
    {
     "data": {
      "text/html": [
       "<div>\n",
       "<style scoped>\n",
       "    .dataframe tbody tr th:only-of-type {\n",
       "        vertical-align: middle;\n",
       "    }\n",
       "\n",
       "    .dataframe tbody tr th {\n",
       "        vertical-align: top;\n",
       "    }\n",
       "\n",
       "    .dataframe thead th {\n",
       "        text-align: right;\n",
       "    }\n",
       "</style>\n",
       "<table border=\"1\" class=\"dataframe\">\n",
       "  <thead>\n",
       "    <tr style=\"text-align: right;\">\n",
       "      <th></th>\n",
       "      <th>word</th>\n",
       "      <th>is_error</th>\n",
       "      <th>tokenized</th>\n",
       "      <th>perplexity</th>\n",
       "    </tr>\n",
       "  </thead>\n",
       "  <tbody>\n",
       "    <tr>\n",
       "      <th>13868</th>\n",
       "      <td>юстиции</td>\n",
       "      <td>0</td>\n",
       "      <td>[_BOS_, ю, с, т, и, ц, и, и, _EOS_]</td>\n",
       "      <td>20.613655</td>\n",
       "    </tr>\n",
       "    <tr>\n",
       "      <th>93496</th>\n",
       "      <td>юстиции</td>\n",
       "      <td>0</td>\n",
       "      <td>[_BOS_, ю, с, т, и, ц, и, и, _EOS_]</td>\n",
       "      <td>20.613655</td>\n",
       "    </tr>\n",
       "    <tr>\n",
       "      <th>65812</th>\n",
       "      <td>захватывающая</td>\n",
       "      <td>0</td>\n",
       "      <td>[_BOS_, з, а, х, в, а, т, ы, в, а, ю, щ, а, я,...</td>\n",
       "      <td>10.046451</td>\n",
       "    </tr>\n",
       "    <tr>\n",
       "      <th>8832</th>\n",
       "      <td>чрезвычайное</td>\n",
       "      <td>0</td>\n",
       "      <td>[_BOS_, ч, р, е, з, в, ы, ч, а, й, н, о, е, _E...</td>\n",
       "      <td>9.843800</td>\n",
       "    </tr>\n",
       "    <tr>\n",
       "      <th>41426</th>\n",
       "      <td>принадлежностей</td>\n",
       "      <td>0</td>\n",
       "      <td>[_BOS_, п, р, и, н, а, д, л, е, ж, н, о, с, т,...</td>\n",
       "      <td>9.798770</td>\n",
       "    </tr>\n",
       "    <tr>\n",
       "      <th>24602</th>\n",
       "      <td>джинсф</td>\n",
       "      <td>1</td>\n",
       "      <td>[_BOS_, д, ж, и, н, с, ф, _EOS_]</td>\n",
       "      <td>9.297827</td>\n",
       "    </tr>\n",
       "    <tr>\n",
       "      <th>58919</th>\n",
       "      <td>ясновидяший</td>\n",
       "      <td>1</td>\n",
       "      <td>[_BOS_, я, с, н, о, в, и, д, я, ш, и, й, _EOS_]</td>\n",
       "      <td>8.819493</td>\n",
       "    </tr>\n",
       "    <tr>\n",
       "      <th>64338</th>\n",
       "      <td>ьриллер</td>\n",
       "      <td>1</td>\n",
       "      <td>[_BOS_, ь, р, и, л, л, е, р, _EOS_]</td>\n",
       "      <td>8.798635</td>\n",
       "    </tr>\n",
       "    <tr>\n",
       "      <th>13975</th>\n",
       "      <td>вглубь</td>\n",
       "      <td>0</td>\n",
       "      <td>[_BOS_, в, г, л, у, б, ь, _EOS_]</td>\n",
       "      <td>8.600812</td>\n",
       "    </tr>\n",
       "    <tr>\n",
       "      <th>71493</th>\n",
       "      <td>администрайия</td>\n",
       "      <td>1</td>\n",
       "      <td>[_BOS_, а, д, м, и, н, и, с, т, р, а, й, и, я,...</td>\n",
       "      <td>8.547315</td>\n",
       "    </tr>\n",
       "    <tr>\n",
       "      <th>39816</th>\n",
       "      <td>перпендикуляр</td>\n",
       "      <td>0</td>\n",
       "      <td>[_BOS_, п, е, р, п, е, н, д, и, к, у, л, я, р,...</td>\n",
       "      <td>8.320895</td>\n",
       "    </tr>\n",
       "    <tr>\n",
       "      <th>70208</th>\n",
       "      <td>террамису</td>\n",
       "      <td>1</td>\n",
       "      <td>[_BOS_, т, е, р, р, а, м, и, с, у, _EOS_]</td>\n",
       "      <td>8.304648</td>\n",
       "    </tr>\n",
       "    <tr>\n",
       "      <th>70859</th>\n",
       "      <td>бифидобактерии</td>\n",
       "      <td>0</td>\n",
       "      <td>[_BOS_, б, и, ф, и, д, о, б, а, к, т, е, р, и,...</td>\n",
       "      <td>8.101669</td>\n",
       "    </tr>\n",
       "    <tr>\n",
       "      <th>42726</th>\n",
       "      <td>бифидобактерии</td>\n",
       "      <td>0</td>\n",
       "      <td>[_BOS_, б, и, ф, и, д, о, б, а, к, т, е, р, и,...</td>\n",
       "      <td>8.101669</td>\n",
       "    </tr>\n",
       "    <tr>\n",
       "      <th>18301</th>\n",
       "      <td>энерджайзер</td>\n",
       "      <td>0</td>\n",
       "      <td>[_BOS_, э, н, е, р, д, ж, а, й, з, е, р, _EOS_]</td>\n",
       "      <td>8.046551</td>\n",
       "    </tr>\n",
       "    <tr>\n",
       "      <th>66868</th>\n",
       "      <td>офтальмолог</td>\n",
       "      <td>0</td>\n",
       "      <td>[_BOS_, о, ф, т, а, л, ь, м, о, л, о, г, _EOS_]</td>\n",
       "      <td>7.998361</td>\n",
       "    </tr>\n",
       "    <tr>\n",
       "      <th>26324</th>\n",
       "      <td>офтальмолог</td>\n",
       "      <td>0</td>\n",
       "      <td>[_BOS_, о, ф, т, а, л, ь, м, о, л, о, г, _EOS_]</td>\n",
       "      <td>7.998361</td>\n",
       "    </tr>\n",
       "    <tr>\n",
       "      <th>63377</th>\n",
       "      <td>чревоугодие</td>\n",
       "      <td>0</td>\n",
       "      <td>[_BOS_, ч, р, е, в, о, у, г, о, д, и, е, _EOS_]</td>\n",
       "      <td>7.995886</td>\n",
       "    </tr>\n",
       "    <tr>\n",
       "      <th>77871</th>\n",
       "      <td>чревоугодие</td>\n",
       "      <td>0</td>\n",
       "      <td>[_BOS_, ч, р, е, в, о, у, г, о, д, и, е, _EOS_]</td>\n",
       "      <td>7.995886</td>\n",
       "    </tr>\n",
       "    <tr>\n",
       "      <th>32901</th>\n",
       "      <td>мнструмент</td>\n",
       "      <td>1</td>\n",
       "      <td>[_BOS_, м, н, с, т, р, у, м, е, н, т, _EOS_]</td>\n",
       "      <td>7.955304</td>\n",
       "    </tr>\n",
       "  </tbody>\n",
       "</table>\n",
       "</div>"
      ],
      "text/plain": [
       "                  word  is_error  \\\n",
       "13868          юстиции         0   \n",
       "93496          юстиции         0   \n",
       "65812    захватывающая         0   \n",
       "8832      чрезвычайное         0   \n",
       "41426  принадлежностей         0   \n",
       "24602           джинсф         1   \n",
       "58919      ясновидяший         1   \n",
       "64338          ьриллер         1   \n",
       "13975           вглубь         0   \n",
       "71493    администрайия         1   \n",
       "39816    перпендикуляр         0   \n",
       "70208        террамису         1   \n",
       "70859   бифидобактерии         0   \n",
       "42726   бифидобактерии         0   \n",
       "18301      энерджайзер         0   \n",
       "66868      офтальмолог         0   \n",
       "26324      офтальмолог         0   \n",
       "63377      чревоугодие         0   \n",
       "77871      чревоугодие         0   \n",
       "32901       мнструмент         1   \n",
       "\n",
       "                                               tokenized  perplexity  \n",
       "13868                [_BOS_, ю, с, т, и, ц, и, и, _EOS_]   20.613655  \n",
       "93496                [_BOS_, ю, с, т, и, ц, и, и, _EOS_]   20.613655  \n",
       "65812  [_BOS_, з, а, х, в, а, т, ы, в, а, ю, щ, а, я,...   10.046451  \n",
       "8832   [_BOS_, ч, р, е, з, в, ы, ч, а, й, н, о, е, _E...    9.843800  \n",
       "41426  [_BOS_, п, р, и, н, а, д, л, е, ж, н, о, с, т,...    9.798770  \n",
       "24602                   [_BOS_, д, ж, и, н, с, ф, _EOS_]    9.297827  \n",
       "58919    [_BOS_, я, с, н, о, в, и, д, я, ш, и, й, _EOS_]    8.819493  \n",
       "64338                [_BOS_, ь, р, и, л, л, е, р, _EOS_]    8.798635  \n",
       "13975                   [_BOS_, в, г, л, у, б, ь, _EOS_]    8.600812  \n",
       "71493  [_BOS_, а, д, м, и, н, и, с, т, р, а, й, и, я,...    8.547315  \n",
       "39816  [_BOS_, п, е, р, п, е, н, д, и, к, у, л, я, р,...    8.320895  \n",
       "70208          [_BOS_, т, е, р, р, а, м, и, с, у, _EOS_]    8.304648  \n",
       "70859  [_BOS_, б, и, ф, и, д, о, б, а, к, т, е, р, и,...    8.101669  \n",
       "42726  [_BOS_, б, и, ф, и, д, о, б, а, к, т, е, р, и,...    8.101669  \n",
       "18301    [_BOS_, э, н, е, р, д, ж, а, й, з, е, р, _EOS_]    8.046551  \n",
       "66868    [_BOS_, о, ф, т, а, л, ь, м, о, л, о, г, _EOS_]    7.998361  \n",
       "26324    [_BOS_, о, ф, т, а, л, ь, м, о, л, о, г, _EOS_]    7.998361  \n",
       "63377    [_BOS_, ч, р, е, в, о, у, г, о, д, и, е, _EOS_]    7.995886  \n",
       "77871    [_BOS_, ч, р, е, в, о, у, г, о, д, и, е, _EOS_]    7.995886  \n",
       "32901       [_BOS_, м, н, с, т, р, у, м, е, н, т, _EOS_]    7.955304  "
      ]
     },
     "execution_count": 46,
     "metadata": {},
     "output_type": "execute_result"
    }
   ],
   "source": [
    "frame.sort_values('perplexity', ascending=False)[:20]"
   ]
  },
  {
   "cell_type": "code",
   "execution_count": 47,
   "id": "6a177e67-3a35-4acd-9de8-6a04fda5e3bc",
   "metadata": {},
   "outputs": [
    {
     "data": {
      "text/plain": [
       "<Axes: >"
      ]
     },
     "execution_count": 47,
     "metadata": {},
     "output_type": "execute_result"
    },
    {
     "data": {
      "image/png": "[encoded data removed]",
      "text/plain": [
       "<Figure size 1920x1080 with 1 Axes>"
      ]
     },
     "metadata": {},
     "output_type": "display_data"
    }
   ],
   "source": [
    "np.log(frame['perplexity']).hist(bins=500, figsize=(19.20, 10.80))"
   ]
  },
  {
   "cell_type": "code",
   "execution_count": 50,
   "id": "f8072f23-09c2-4715-82e4-7f1baebb8f53",
   "metadata": {},
   "outputs": [
    {
     "data": {
      "text/html": [
       "<div>\n",
       "<style scoped>\n",
       "    .dataframe tbody tr th:only-of-type {\n",
       "        vertical-align: middle;\n",
       "    }\n",
       "\n",
       "    .dataframe tbody tr th {\n",
       "        vertical-align: top;\n",
       "    }\n",
       "\n",
       "    .dataframe thead th {\n",
       "        text-align: right;\n",
       "    }\n",
       "</style>\n",
       "<table border=\"1\" class=\"dataframe\">\n",
       "  <thead>\n",
       "    <tr style=\"text-align: right;\">\n",
       "      <th></th>\n",
       "      <th>word</th>\n",
       "      <th>is_error</th>\n",
       "      <th>tokenized</th>\n",
       "      <th>perplexity</th>\n",
       "      <th>anomaly</th>\n",
       "    </tr>\n",
       "  </thead>\n",
       "  <tbody>\n",
       "    <tr>\n",
       "      <th>28097</th>\n",
       "      <td>мышеловка</td>\n",
       "      <td>0</td>\n",
       "      <td>[_BOS_, м, ы, ш, е, л, о, в, к, а, _EOS_]</td>\n",
       "      <td>1.530005</td>\n",
       "      <td>0</td>\n",
       "    </tr>\n",
       "    <tr>\n",
       "      <th>2356</th>\n",
       "      <td>собирать</td>\n",
       "      <td>0</td>\n",
       "      <td>[_BOS_, с, о, б, и, р, а, т, ь, _EOS_]</td>\n",
       "      <td>1.067328</td>\n",
       "      <td>0</td>\n",
       "    </tr>\n",
       "    <tr>\n",
       "      <th>10809</th>\n",
       "      <td>серийный</td>\n",
       "      <td>0</td>\n",
       "      <td>[_BOS_, с, е, р, и, й, н, ы, й, _EOS_]</td>\n",
       "      <td>1.778928</td>\n",
       "      <td>0</td>\n",
       "    </tr>\n",
       "    <tr>\n",
       "      <th>56150</th>\n",
       "      <td>животное</td>\n",
       "      <td>0</td>\n",
       "      <td>[_BOS_, ж, и, в, о, т, н, о, е, _EOS_]</td>\n",
       "      <td>1.092929</td>\n",
       "      <td>0</td>\n",
       "    </tr>\n",
       "    <tr>\n",
       "      <th>40040</th>\n",
       "      <td>руки</td>\n",
       "      <td>0</td>\n",
       "      <td>[_BOS_, р, у, к, и, _EOS_]</td>\n",
       "      <td>1.044618</td>\n",
       "      <td>0</td>\n",
       "    </tr>\n",
       "  </tbody>\n",
       "</table>\n",
       "</div>"
      ],
      "text/plain": [
       "            word  is_error                                  tokenized  \\\n",
       "28097  мышеловка         0  [_BOS_, м, ы, ш, е, л, о, в, к, а, _EOS_]   \n",
       "2356    собирать         0     [_BOS_, с, о, б, и, р, а, т, ь, _EOS_]   \n",
       "10809   серийный         0     [_BOS_, с, е, р, и, й, н, ы, й, _EOS_]   \n",
       "56150   животное         0     [_BOS_, ж, и, в, о, т, н, о, е, _EOS_]   \n",
       "40040       руки         0                 [_BOS_, р, у, к, и, _EOS_]   \n",
       "\n",
       "       perplexity  anomaly  \n",
       "28097    1.530005        0  \n",
       "2356     1.067328        0  \n",
       "10809    1.778928        0  \n",
       "56150    1.092929        0  \n",
       "40040    1.044618        0  "
      ]
     },
     "execution_count": 50,
     "metadata": {},
     "output_type": "execute_result"
    }
   ],
   "source": [
    "threshold = 1.5\n",
    "frame['anomaly'] = 0\n",
    "\n",
    "frame.loc[np.log(frame['perplexity']) > threshold, 'anomaly'] = 1\n",
    "frame.sample(5)"
   ]
  },
  {
   "cell_type": "code",
   "execution_count": 51,
   "id": "d9a24aff-5607-4b72-a060-27301940830f",
   "metadata": {},
   "outputs": [
    {
     "name": "stdout",
     "output_type": "stream",
     "text": [
      "              precision    recall  f1-score   support\n",
      "\n",
      "           0       0.91      1.00      0.95     85550\n",
      "           1       0.30      0.01      0.02      8555\n",
      "\n",
      "    accuracy                           0.91     94105\n",
      "   macro avg       0.61      0.50      0.49     94105\n",
      "weighted avg       0.85      0.91      0.87     94105\n",
      "\n"
     ]
    }
   ],
   "source": [
    "from sklearn.metrics import classification_report\n",
    "print(classification_report(frame['is_error'], frame['anomaly']))"
   ]
  },
  {
   "cell_type": "markdown",
   "id": "46ef842a-5263-44a1-a58a-38597875c429",
   "metadata": {},
   "source": [
    "# False Positive Reducer"
   ]
  },
  {
   "cell_type": "code",
   "execution_count": 713,
   "id": "d9057f34-4e1d-4207-b5fb-daade021e238",
   "metadata": {},
   "outputs": [],
   "source": [
    "device = 'cuda' if torch.cuda.is_available() else 'cpu'"
   ]
  },
  {
   "cell_type": "code",
   "execution_count": 714,
   "id": "ac544572-6ed2-4539-a724-694fbae430db",
   "metadata": {},
   "outputs": [],
   "source": [
    "class AnomalyDetector(nn.Module):\n",
    "    def __init__(self, n_tokens, emb_size, hid_size, eos_ix):\n",
    "        super().__init__()\n",
    "        self.eos = eos_ix\n",
    "\n",
    "        self.emb = nn.Embedding(num_embeddings=n_tokens, embedding_dim=emb_size, device=device)\n",
    "        self.rnn = nn.LSTM(input_size=emb_size, hidden_size=hid_size, num_layers=1, batch_first=True, bidirectional=True, device=device)\n",
    "\n",
    "        self.classifier = nn.Linear(hid_size*2, 2)\n",
    "\n",
    "    def __call__(self, input_ix):\n",
    "        input_ix = input_ix.to(device)\n",
    "        x = self.emb(input_ix)\n",
    "\n",
    "        _, (last_h, _) = self.rnn(x)\n",
    "        last_h = torch.cat((last_h[0], last_h[1]), dim=-1)\n",
    "\n",
    "        output = self.classifier(last_h)\n",
    "        return output"
   ]
  },
  {
   "cell_type": "code",
   "execution_count": 715,
   "id": "b0421daa-edb7-46ee-8c8f-c9f8b37df386",
   "metadata": {},
   "outputs": [],
   "source": [
    "def score_val(model, val_dataloader, loss):\n",
    "    val_loss_num, val_loss_len = 0., 0.\n",
    "    with torch.no_grad():\n",
    "        for i, (batch_x, batch_y) in enumerate(val_dataloader):\n",
    "            outputs = model(batch_x)\n",
    "            val_loss_num += loss(outputs, batch_y).item() * len(batch_x)\n",
    "            val_loss_len += len(batch_x)\n",
    "\n",
    "    return val_loss_num / val_loss_len"
   ]
  },
  {
   "cell_type": "code",
   "execution_count": 716,
   "id": "2452b73a-b700-4abb-8cd4-5bf3d7a9e91c",
   "metadata": {},
   "outputs": [
    {
     "data": {
      "text/plain": [
       "AnomalyDetector(\n",
       "  (emb): Embedding(36, 16)\n",
       "  (rnn): LSTM(16, 64, batch_first=True, bidirectional=True)\n",
       "  (classifier): Linear(in_features=128, out_features=2, bias=True)\n",
       ")"
      ]
     },
     "execution_count": 716,
     "metadata": {},
     "output_type": "execute_result"
    }
   ],
   "source": [
    "x_train, x_val, y_train, y_val = train_test_split(frame['tokenized'], frame['anomaly'], stratify=frame['anomaly'], test_size=0.25, random_state=seed)\n",
    "\n",
    "batch_size = 64\n",
    "score_val_every = 500\n",
    "train_history, val_history = [], []\n",
    "\n",
    "detector = AnomalyDetector(n_tokens=n_tokens, emb_size=16, hid_size=64, eos_ix=token_to_id[EOS])\n",
    "opt = torch.optim.Adam(detector.parameters(), lr=1e-3)\n",
    "\n",
    "detector.to(device)"
   ]
  },
  {
   "cell_type": "code",
   "execution_count": 717,
   "id": "91f945c6-e39e-45b2-a240-55ed6a2a7a82",
   "metadata": {},
   "outputs": [
    {
     "data": {
      "text/plain": [
       "array([1.20596678, 0.85412431])"
      ]
     },
     "execution_count": 717,
     "metadata": {},
     "output_type": "execute_result"
    }
   ],
   "source": [
    "from sklearn.utils.class_weight import compute_class_weight\n",
    "\n",
    "compute_class_weight('balanced', classes=[0, 1], y=y_train)"
   ]
  },
  {
   "cell_type": "code",
   "execution_count": 718,
   "id": "03c93d6e-ec78-412c-bfb1-a05126d2faf3",
   "metadata": {},
   "outputs": [],
   "source": [
    "class_weights = torch.tensor(compute_class_weight('balanced', classes=[0, 1], y=y_train), dtype=torch.float, device=device)\n",
    "loss = nn.CrossEntropyLoss(weight=class_weights)"
   ]
  },
  {
   "cell_type": "code",
   "execution_count": 719,
   "id": "6d9a14f1-9f38-45b3-ad7f-b2aea98fa8c8",
   "metadata": {},
   "outputs": [],
   "source": [
    "class AnomalyDataset(torch.utils.data.Dataset):\n",
    "    def __init__(self, x, y):\n",
    "        self.x = x\n",
    "        self.y = y\n",
    "\n",
    "    def __len__(self):\n",
    "        return len(self.x)\n",
    "\n",
    "    def __getitem__(self, i):\n",
    "        x_i = torch.as_tensor(self.x[i], dtype=torch.int64, device=device)\n",
    "        y_i = torch.as_tensor(self.y[i], dtype=torch.int64, device=device)\n",
    "        return x_i, y_i"
   ]
  },
  {
   "cell_type": "code",
   "execution_count": 720,
   "id": "003f8bd1-5d54-41b0-9409-88772dcb541d",
   "metadata": {},
   "outputs": [],
   "source": [
    "train_dataset = AnomalyDataset(to_matrix(x_train.tolist()), y_train.values)\n",
    "val_dataset = AnomalyDataset(to_matrix(x_val.tolist()), y_val.values)\n",
    "\n",
    "train_dataloader = torch.utils.data.DataLoader(train_dataset, batch_size=batch_size, shuffle=True)\n",
    "val_dataloader = torch.utils.data.DataLoader(val_dataset, batch_size=batch_size, shuffle=False)"
   ]
  },
  {
   "cell_type": "code",
   "execution_count": 721,
   "id": "5476cb44-bff7-422a-a1be-3c379acbe3d8",
   "metadata": {},
   "outputs": [
    {
     "data": {
      "image/png": "[encoded data removed]",
      "text/plain": [
       "<Figure size 640x480 with 1 Axes>"
      ]
     },
     "metadata": {},
     "output_type": "display_data"
    }
   ],
   "source": [
    "for epoch in range(5):\n",
    "    train_history, val_history = [], []\n",
    "    if epoch == 0:\n",
    "        detector.eval()\n",
    "        val_history.append((0, score_val(detector, val_dataloader, loss)))\n",
    "    for i, (batch_x, batch_y) in enumerate(train_dataloader):\n",
    "        detector.train()\n",
    "        outputs = detector(batch_x)\n",
    "        loss_i = loss(outputs, batch_y.flatten())\n",
    "        \n",
    "        opt.zero_grad()\n",
    "        loss_i.backward()\n",
    "        opt.step()\n",
    "            \n",
    "        train_history.append((i, loss_i.item()))\n",
    "        \n",
    "        if (i + 1) % 50 == 0:\n",
    "            clear_output(True)\n",
    "            plt.scatter(*zip(*train_history), alpha=0.1, label='train_loss')\n",
    "            if len(val_history):\n",
    "                plt.plot(*zip(*val_history), color='red', label='val_loss')\n",
    "            plt.legend(); plt.grid(); plt.show()\n",
    "        \n",
    "        if (i + 1) % score_val_every == 0:\n",
    "            print(\"Scoring val...\")\n",
    "            detector.eval()\n",
    "            val_history.append((i, score_val(detector, val_dataloader, loss)))\n",
    "            print('#%i Val loss: %.3f' % val_history[-1])"
   ]
  },
  {
   "cell_type": "code",
   "execution_count": 722,
   "id": "3dd406d3-eaee-4904-ab76-dce37eb03e27",
   "metadata": {},
   "outputs": [
    {
     "data": {
      "text/plain": [
       "AnomalyDetector(\n",
       "  (emb): Embedding(36, 16)\n",
       "  (rnn): LSTM(16, 64, batch_first=True, bidirectional=True)\n",
       "  (classifier): Linear(in_features=128, out_features=2, bias=True)\n",
       ")"
      ]
     },
     "execution_count": 722,
     "metadata": {},
     "output_type": "execute_result"
    }
   ],
   "source": [
    "torch.save(detector.state_dict(), './detector.pth')\n",
    "detector.load_state_dict(torch.load('./detector.pth'))\n",
    "\n",
    "device = 'cpu'\n",
    "\n",
    "detector.to(device)\n",
    "detector.eval()"
   ]
  },
  {
   "cell_type": "code",
   "execution_count": 723,
   "id": "9bdb8fb1-6a46-4a9c-9dac-cf95f70503fa",
   "metadata": {},
   "outputs": [],
   "source": [
    "train_dataloader = torch.utils.data.DataLoader(train_dataset, batch_size=batch_size, shuffle=False)\n",
    "val_dataloader = torch.utils.data.DataLoader(val_dataset, batch_size=batch_size, shuffle=False)"
   ]
  },
  {
   "cell_type": "code",
   "execution_count": 724,
   "id": "b3d602d1-1d5d-413a-9f1e-98a283ae4a18",
   "metadata": {},
   "outputs": [],
   "source": [
    "val_results = []\n",
    "with torch.no_grad():\n",
    "    for batch_x, batch_y in val_dataloader:\n",
    "        outputs = F.softmax(detector(batch_x), dim=-1)\n",
    "        val_results.extend(outputs[:, 1].cpu().tolist())\n",
    "\n",
    "val_results = np.array(val_results)"
   ]
  },
  {
   "cell_type": "code",
   "execution_count": 725,
   "id": "2f60cfba-c4f1-4ca9-94b7-69512ae10605",
   "metadata": {},
   "outputs": [
    {
     "data": {
      "image/png": "[encoded data removed]",
      "text/plain": [
       "<Figure size 640x480 with 1 Axes>"
      ]
     },
     "metadata": {},
     "output_type": "display_data"
    }
   ],
   "source": [
    "plt.hist(np.log(val_results), bins=50);"
   ]
  },
  {
   "cell_type": "code",
   "execution_count": 726,
   "id": "834f4ce6-b7ae-4dcf-84f1-fcc32749b977",
   "metadata": {},
   "outputs": [
    {
     "data": {
      "text/html": [
       "<div>\n",
       "<style scoped>\n",
       "    .dataframe tbody tr th:only-of-type {\n",
       "        vertical-align: middle;\n",
       "    }\n",
       "\n",
       "    .dataframe tbody tr th {\n",
       "        vertical-align: top;\n",
       "    }\n",
       "\n",
       "    .dataframe thead th {\n",
       "        text-align: right;\n",
       "    }\n",
       "</style>\n",
       "<table border=\"1\" class=\"dataframe\">\n",
       "  <thead>\n",
       "    <tr style=\"text-align: right;\">\n",
       "      <th></th>\n",
       "      <th>word</th>\n",
       "      <th>is_error</th>\n",
       "      <th>tokenized</th>\n",
       "      <th>perplexity</th>\n",
       "      <th>anomaly</th>\n",
       "      <th>verified_anomaly</th>\n",
       "    </tr>\n",
       "  </thead>\n",
       "  <tbody>\n",
       "    <tr>\n",
       "      <th>3</th>\n",
       "      <td>повелитель</td>\n",
       "      <td>0</td>\n",
       "      <td>[_BOS_, п, о, в, е, л, и, т, е, л, ь, _EOS_]</td>\n",
       "      <td>2.416254</td>\n",
       "      <td>1</td>\n",
       "      <td>1</td>\n",
       "    </tr>\n",
       "    <tr>\n",
       "      <th>5</th>\n",
       "      <td>сапожник</td>\n",
       "      <td>0</td>\n",
       "      <td>[_BOS_, с, а, п, о, ж, н, и, к, _EOS_]</td>\n",
       "      <td>1.973474</td>\n",
       "      <td>1</td>\n",
       "      <td>1</td>\n",
       "    </tr>\n",
       "    <tr>\n",
       "      <th>9</th>\n",
       "      <td>тяжёлое</td>\n",
       "      <td>0</td>\n",
       "      <td>[_BOS_, т, я, ж, ё, л, о, е, _EOS_]</td>\n",
       "      <td>3.685275</td>\n",
       "      <td>1</td>\n",
       "      <td>1</td>\n",
       "    </tr>\n",
       "    <tr>\n",
       "      <th>17</th>\n",
       "      <td>инстркуктор</td>\n",
       "      <td>1</td>\n",
       "      <td>[_BOS_, и, н, с, т, р, к, у, к, т, о, р, _EOS_]</td>\n",
       "      <td>3.903158</td>\n",
       "      <td>1</td>\n",
       "      <td>1</td>\n",
       "    </tr>\n",
       "    <tr>\n",
       "      <th>27</th>\n",
       "      <td>мультиук</td>\n",
       "      <td>1</td>\n",
       "      <td>[_BOS_, м, у, л, ь, т, и, у, к, _EOS_]</td>\n",
       "      <td>3.419496</td>\n",
       "      <td>1</td>\n",
       "      <td>1</td>\n",
       "    </tr>\n",
       "    <tr>\n",
       "      <th>...</th>\n",
       "      <td>...</td>\n",
       "      <td>...</td>\n",
       "      <td>...</td>\n",
       "      <td>...</td>\n",
       "      <td>...</td>\n",
       "      <td>...</td>\n",
       "    </tr>\n",
       "    <tr>\n",
       "      <th>93994</th>\n",
       "      <td>преступление</td>\n",
       "      <td>0</td>\n",
       "      <td>[_BOS_, п, р, е, с, т, у, п, л, е, н, и, е, _E...</td>\n",
       "      <td>2.307308</td>\n",
       "      <td>1</td>\n",
       "      <td>1</td>\n",
       "    </tr>\n",
       "    <tr>\n",
       "      <th>94069</th>\n",
       "      <td>интервью</td>\n",
       "      <td>0</td>\n",
       "      <td>[_BOS_, и, н, т, е, р, в, ь, ю, _EOS_]</td>\n",
       "      <td>2.691027</td>\n",
       "      <td>1</td>\n",
       "      <td>1</td>\n",
       "    </tr>\n",
       "    <tr>\n",
       "      <th>94081</th>\n",
       "      <td>повторяемость</td>\n",
       "      <td>0</td>\n",
       "      <td>[_BOS_, п, о, в, т, о, р, я, е, м, о, с, т, ь,...</td>\n",
       "      <td>3.909179</td>\n",
       "      <td>1</td>\n",
       "      <td>1</td>\n",
       "    </tr>\n",
       "    <tr>\n",
       "      <th>94087</th>\n",
       "      <td>аппрат</td>\n",
       "      <td>1</td>\n",
       "      <td>[_BOS_, а, п, п, р, а, т, _EOS_]</td>\n",
       "      <td>1.982720</td>\n",
       "      <td>1</td>\n",
       "      <td>1</td>\n",
       "    </tr>\n",
       "    <tr>\n",
       "      <th>94098</th>\n",
       "      <td>чистюля</td>\n",
       "      <td>0</td>\n",
       "      <td>[_BOS_, ч, и, с, т, ю, л, я, _EOS_]</td>\n",
       "      <td>3.292989</td>\n",
       "      <td>1</td>\n",
       "      <td>1</td>\n",
       "    </tr>\n",
       "  </tbody>\n",
       "</table>\n",
       "<p>8178 rows × 6 columns</p>\n",
       "</div>"
      ],
      "text/plain": [
       "                word  is_error  \\\n",
       "3         повелитель         0   \n",
       "5           сапожник         0   \n",
       "9            тяжёлое         0   \n",
       "17       инстркуктор         1   \n",
       "27          мультиук         1   \n",
       "...              ...       ...   \n",
       "93994   преступление         0   \n",
       "94069       интервью         0   \n",
       "94081  повторяемость         0   \n",
       "94087         аппрат         1   \n",
       "94098        чистюля         0   \n",
       "\n",
       "                                               tokenized  perplexity  anomaly  \\\n",
       "3           [_BOS_, п, о, в, е, л, и, т, е, л, ь, _EOS_]    2.416254        1   \n",
       "5                 [_BOS_, с, а, п, о, ж, н, и, к, _EOS_]    1.973474        1   \n",
       "9                    [_BOS_, т, я, ж, ё, л, о, е, _EOS_]    3.685275        1   \n",
       "17       [_BOS_, и, н, с, т, р, к, у, к, т, о, р, _EOS_]    3.903158        1   \n",
       "27                [_BOS_, м, у, л, ь, т, и, у, к, _EOS_]    3.419496        1   \n",
       "...                                                  ...         ...      ...   \n",
       "93994  [_BOS_, п, р, е, с, т, у, п, л, е, н, и, е, _E...    2.307308        1   \n",
       "94069             [_BOS_, и, н, т, е, р, в, ь, ю, _EOS_]    2.691027        1   \n",
       "94081  [_BOS_, п, о, в, т, о, р, я, е, м, о, с, т, ь,...    3.909179        1   \n",
       "94087                   [_BOS_, а, п, п, р, а, т, _EOS_]    1.982720        1   \n",
       "94098                [_BOS_, ч, и, с, т, ю, л, я, _EOS_]    3.292989        1   \n",
       "\n",
       "       verified_anomaly  \n",
       "3                     1  \n",
       "5                     1  \n",
       "9                     1  \n",
       "17                    1  \n",
       "27                    1  \n",
       "...                 ...  \n",
       "93994                 1  \n",
       "94069                 1  \n",
       "94081                 1  \n",
       "94087                 1  \n",
       "94098                 1  \n",
       "\n",
       "[8178 rows x 6 columns]"
      ]
     },
     "execution_count": 726,
     "metadata": {},
     "output_type": "execute_result"
    }
   ],
   "source": [
    "thr = 0.99\n",
    "\n",
    "frame['verified_anomaly'] = 0\n",
    "frame.loc[x_val.iloc[np.where(val_results>thr)[0]].index, 'verified_anomaly'] = 1\n",
    "frame[frame['verified_anomaly'] == 1]"
   ]
  },
  {
   "cell_type": "code",
   "execution_count": 727,
   "id": "330a5c2e-8b58-40a8-94e9-753371be423e",
   "metadata": {},
   "outputs": [
    {
     "name": "stdout",
     "output_type": "stream",
     "text": [
      "              precision    recall  f1-score   support\n",
      "\n",
      "           0       0.63      1.00      0.78      9754\n",
      "           1       1.00      0.59      0.74     13773\n",
      "\n",
      "    accuracy                           0.76     23527\n",
      "   macro avg       0.82      0.80      0.76     23527\n",
      "weighted avg       0.85      0.76      0.76     23527\n",
      "\n"
     ]
    }
   ],
   "source": [
    "from sklearn.metrics import classification_report\n",
    "y_val_pred = (val_results > thr).astype(int)\n",
    "\n",
    "print(classification_report(y_val, y_val_pred))"
   ]
  },
  {
   "cell_type": "code",
   "execution_count": 728,
   "id": "489533b4-0041-4f23-9210-ca8b1bd97e99",
   "metadata": {},
   "outputs": [],
   "source": [
    "train_results = []\n",
    "with torch.no_grad():\n",
    "    for batch_x, batch_y in train_dataloader:\n",
    "        outputs = F.softmax(detector(batch_x), dim=-1)\n",
    "        train_results.extend(outputs[:, 1].cpu().tolist())\n",
    "\n",
    "train_results = np.array(train_results)"
   ]
  },
  {
   "cell_type": "code",
   "execution_count": 729,
   "id": "3cb03804-432c-47c7-a812-e06ce52b1cdc",
   "metadata": {},
   "outputs": [
    {
     "data": {
      "image/png": "[encoded data removed]",
      "text/plain": [
       "<Figure size 640x480 with 1 Axes>"
      ]
     },
     "metadata": {},
     "output_type": "display_data"
    }
   ],
   "source": [
    "plt.hist(np.log(train_results), bins=50);"
   ]
  },
  {
   "cell_type": "code",
   "execution_count": 730,
   "id": "cb798d85-ed07-4a5b-a73a-ff38c434549c",
   "metadata": {},
   "outputs": [
    {
     "data": {
      "text/html": [
       "<div>\n",
       "<style scoped>\n",
       "    .dataframe tbody tr th:only-of-type {\n",
       "        vertical-align: middle;\n",
       "    }\n",
       "\n",
       "    .dataframe tbody tr th {\n",
       "        vertical-align: top;\n",
       "    }\n",
       "\n",
       "    .dataframe thead th {\n",
       "        text-align: right;\n",
       "    }\n",
       "</style>\n",
       "<table border=\"1\" class=\"dataframe\">\n",
       "  <thead>\n",
       "    <tr style=\"text-align: right;\">\n",
       "      <th></th>\n",
       "      <th>word</th>\n",
       "      <th>is_error</th>\n",
       "      <th>tokenized</th>\n",
       "      <th>perplexity</th>\n",
       "      <th>anomaly</th>\n",
       "      <th>verified_anomaly</th>\n",
       "    </tr>\n",
       "  </thead>\n",
       "  <tbody>\n",
       "    <tr>\n",
       "      <th>3</th>\n",
       "      <td>повелитель</td>\n",
       "      <td>0</td>\n",
       "      <td>[_BOS_, п, о, в, е, л, и, т, е, л, ь, _EOS_]</td>\n",
       "      <td>2.416254</td>\n",
       "      <td>1</td>\n",
       "      <td>1</td>\n",
       "    </tr>\n",
       "    <tr>\n",
       "      <th>5</th>\n",
       "      <td>сапожник</td>\n",
       "      <td>0</td>\n",
       "      <td>[_BOS_, с, а, п, о, ж, н, и, к, _EOS_]</td>\n",
       "      <td>1.973474</td>\n",
       "      <td>1</td>\n",
       "      <td>1</td>\n",
       "    </tr>\n",
       "    <tr>\n",
       "      <th>9</th>\n",
       "      <td>тяжёлое</td>\n",
       "      <td>0</td>\n",
       "      <td>[_BOS_, т, я, ж, ё, л, о, е, _EOS_]</td>\n",
       "      <td>3.685275</td>\n",
       "      <td>1</td>\n",
       "      <td>1</td>\n",
       "    </tr>\n",
       "    <tr>\n",
       "      <th>12</th>\n",
       "      <td>подъезда</td>\n",
       "      <td>0</td>\n",
       "      <td>[_BOS_, п, о, д, ъ, е, з, д, а, _EOS_]</td>\n",
       "      <td>2.025314</td>\n",
       "      <td>1</td>\n",
       "      <td>1</td>\n",
       "    </tr>\n",
       "    <tr>\n",
       "      <th>13</th>\n",
       "      <td>мансарда</td>\n",
       "      <td>0</td>\n",
       "      <td>[_BOS_, м, а, н, с, а, р, д, а, _EOS_]</td>\n",
       "      <td>2.066318</td>\n",
       "      <td>1</td>\n",
       "      <td>1</td>\n",
       "    </tr>\n",
       "    <tr>\n",
       "      <th>...</th>\n",
       "      <td>...</td>\n",
       "      <td>...</td>\n",
       "      <td>...</td>\n",
       "      <td>...</td>\n",
       "      <td>...</td>\n",
       "      <td>...</td>\n",
       "    </tr>\n",
       "    <tr>\n",
       "      <th>94085</th>\n",
       "      <td>поцелуй</td>\n",
       "      <td>0</td>\n",
       "      <td>[_BOS_, п, о, ц, е, л, у, й, _EOS_]</td>\n",
       "      <td>2.095206</td>\n",
       "      <td>1</td>\n",
       "      <td>1</td>\n",
       "    </tr>\n",
       "    <tr>\n",
       "      <th>94087</th>\n",
       "      <td>аппрат</td>\n",
       "      <td>1</td>\n",
       "      <td>[_BOS_, а, п, п, р, а, т, _EOS_]</td>\n",
       "      <td>1.982720</td>\n",
       "      <td>1</td>\n",
       "      <td>1</td>\n",
       "    </tr>\n",
       "    <tr>\n",
       "      <th>94098</th>\n",
       "      <td>чистюля</td>\n",
       "      <td>0</td>\n",
       "      <td>[_BOS_, ч, и, с, т, ю, л, я, _EOS_]</td>\n",
       "      <td>3.292989</td>\n",
       "      <td>1</td>\n",
       "      <td>1</td>\n",
       "    </tr>\n",
       "    <tr>\n",
       "      <th>94101</th>\n",
       "      <td>телевидение</td>\n",
       "      <td>0</td>\n",
       "      <td>[_BOS_, т, е, л, е, в, и, д, е, н, и, е, _EOS_]</td>\n",
       "      <td>1.917382</td>\n",
       "      <td>1</td>\n",
       "      <td>1</td>\n",
       "    </tr>\n",
       "    <tr>\n",
       "      <th>94103</th>\n",
       "      <td>шампанское</td>\n",
       "      <td>0</td>\n",
       "      <td>[_BOS_, ш, а, м, п, а, н, с, к, о, е, _EOS_]</td>\n",
       "      <td>3.721664</td>\n",
       "      <td>1</td>\n",
       "      <td>1</td>\n",
       "    </tr>\n",
       "  </tbody>\n",
       "</table>\n",
       "<p>32900 rows × 6 columns</p>\n",
       "</div>"
      ],
      "text/plain": [
       "              word  is_error                                        tokenized  \\\n",
       "3       повелитель         0     [_BOS_, п, о, в, е, л, и, т, е, л, ь, _EOS_]   \n",
       "5         сапожник         0           [_BOS_, с, а, п, о, ж, н, и, к, _EOS_]   \n",
       "9          тяжёлое         0              [_BOS_, т, я, ж, ё, л, о, е, _EOS_]   \n",
       "12        подъезда         0           [_BOS_, п, о, д, ъ, е, з, д, а, _EOS_]   \n",
       "13        мансарда         0           [_BOS_, м, а, н, с, а, р, д, а, _EOS_]   \n",
       "...            ...       ...                                              ...   \n",
       "94085      поцелуй         0              [_BOS_, п, о, ц, е, л, у, й, _EOS_]   \n",
       "94087       аппрат         1                 [_BOS_, а, п, п, р, а, т, _EOS_]   \n",
       "94098      чистюля         0              [_BOS_, ч, и, с, т, ю, л, я, _EOS_]   \n",
       "94101  телевидение         0  [_BOS_, т, е, л, е, в, и, д, е, н, и, е, _EOS_]   \n",
       "94103   шампанское         0     [_BOS_, ш, а, м, п, а, н, с, к, о, е, _EOS_]   \n",
       "\n",
       "       perplexity  anomaly  verified_anomaly  \n",
       "3        2.416254        1                 1  \n",
       "5        1.973474        1                 1  \n",
       "9        3.685275        1                 1  \n",
       "12       2.025314        1                 1  \n",
       "13       2.066318        1                 1  \n",
       "...           ...      ...               ...  \n",
       "94085    2.095206        1                 1  \n",
       "94087    1.982720        1                 1  \n",
       "94098    3.292989        1                 1  \n",
       "94101    1.917382        1                 1  \n",
       "94103    3.721664        1                 1  \n",
       "\n",
       "[32900 rows x 6 columns]"
      ]
     },
     "execution_count": 730,
     "metadata": {},
     "output_type": "execute_result"
    }
   ],
   "source": [
    "frame.loc[x_train.iloc[np.where(train_results>thr)[0]].index, 'verified_anomaly'] = 1\n",
    "frame[frame['verified_anomaly'] == 1]"
   ]
  },
  {
   "cell_type": "code",
   "execution_count": 731,
   "id": "ecd00353-a0a9-4511-ad4f-079ac6b6c196",
   "metadata": {},
   "outputs": [
    {
     "name": "stdout",
     "output_type": "stream",
     "text": [
      "              precision    recall  f1-score   support\n",
      "\n",
      "           0       0.64      1.00      0.78     29262\n",
      "           1       1.00      0.60      0.75     41316\n",
      "\n",
      "    accuracy                           0.76     70578\n",
      "   macro avg       0.82      0.80      0.76     70578\n",
      "weighted avg       0.85      0.76      0.76     70578\n",
      "\n"
     ]
    }
   ],
   "source": [
    "y_train_pred = (train_results > thr).astype(int)\n",
    "\n",
    "print(classification_report(y_train, y_train_pred))"
   ]
  },
  {
   "cell_type": "code",
   "execution_count": 732,
   "id": "558ee758-1a1b-40aa-8684-e349399903bf",
   "metadata": {},
   "outputs": [
    {
     "name": "stdout",
     "output_type": "stream",
     "text": [
      "              precision    recall  f1-score   support\n",
      "\n",
      "           0       0.91      0.65      0.76     85550\n",
      "           1       0.10      0.37      0.15      8555\n",
      "\n",
      "    accuracy                           0.63     94105\n",
      "   macro avg       0.50      0.51      0.46     94105\n",
      "weighted avg       0.84      0.63      0.71     94105\n",
      "\n"
     ]
    }
   ],
   "source": [
    "print(classification_report(frame['is_error'], frame['verified_anomaly']))"
   ]
  },
  {
   "cell_type": "code",
   "execution_count": null,
   "id": "242e842a-08f8-4dad-b511-607728a85688",
   "metadata": {},
   "outputs": [],
   "source": []
  }
 ],
 "metadata": {
  "kernelspec": {
   "display_name": "yandex_nlp",
   "language": "python",
   "name": "yandex_nlp"
  },
  "language_info": {
   "codemirror_mode": {
    "name": "ipython",
    "version": 3
   },
   "file_extension": ".py",
   "mimetype": "text/x-python",
   "name": "python",
   "nbconvert_exporter": "python",
   "pygments_lexer": "ipython3",
   "version": "3.9.13"
  }
 },
 "nbformat": 4,
 "nbformat_minor": 5
}
