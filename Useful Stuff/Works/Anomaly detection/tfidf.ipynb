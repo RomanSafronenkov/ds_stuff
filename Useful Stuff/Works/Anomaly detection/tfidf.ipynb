{
 "cells": [
  {
   "cell_type": "code",
   "execution_count": 1,
   "id": "ec10a9f4-cff7-458d-abb2-33bd8efba09e",
   "metadata": {},
   "outputs": [],
   "source": [
    "import pandas as pd\n",
    "import numpy as np\n",
    "import matplotlib.pyplot as plt\n",
    "\n",
    "import torch\n",
    "import torch.nn as nn\n",
    "import torch.nn.functional as F\n",
    "\n",
    "import random\n",
    "from random import sample\n",
    "\n",
    "from typing import List\n",
    "\n",
    "seed = 42\n",
    "random.seed(seed)\n",
    "np.random.seed(seed)\n",
    "torch.manual_seed(seed)\n",
    "torch.cuda.manual_seed(seed)\n",
    "torch.backends.cudnn.deterministic = True\n",
    "\n",
    "%matplotlib inline"
   ]
  },
  {
   "cell_type": "code",
   "execution_count": 2,
   "id": "918e67c6-c086-4134-9da2-2926a71bc792",
   "metadata": {},
   "outputs": [
    {
     "data": {
      "text/html": [
       "<div>\n",
       "<style scoped>\n",
       "    .dataframe tbody tr th:only-of-type {\n",
       "        vertical-align: middle;\n",
       "    }\n",
       "\n",
       "    .dataframe tbody tr th {\n",
       "        vertical-align: top;\n",
       "    }\n",
       "\n",
       "    .dataframe thead th {\n",
       "        text-align: right;\n",
       "    }\n",
       "</style>\n",
       "<table border=\"1\" class=\"dataframe\">\n",
       "  <thead>\n",
       "    <tr style=\"text-align: right;\">\n",
       "      <th></th>\n",
       "      <th>CORRECT</th>\n",
       "      <th>MISTAKE</th>\n",
       "      <th>WEIGHT</th>\n",
       "    </tr>\n",
       "  </thead>\n",
       "  <tbody>\n",
       "    <tr>\n",
       "      <th>0</th>\n",
       "      <td>болото</td>\n",
       "      <td>болотл</td>\n",
       "      <td>0.3333</td>\n",
       "    </tr>\n",
       "    <tr>\n",
       "      <th>1</th>\n",
       "      <td>болото</td>\n",
       "      <td>болотао</td>\n",
       "      <td>0.2500</td>\n",
       "    </tr>\n",
       "    <tr>\n",
       "      <th>2</th>\n",
       "      <td>болото</td>\n",
       "      <td>балото</td>\n",
       "      <td>0.1219</td>\n",
       "    </tr>\n",
       "    <tr>\n",
       "      <th>3</th>\n",
       "      <td>болото</td>\n",
       "      <td>болто</td>\n",
       "      <td>0.0562</td>\n",
       "    </tr>\n",
       "    <tr>\n",
       "      <th>4</th>\n",
       "      <td>болото</td>\n",
       "      <td>болотаъ</td>\n",
       "      <td>0.0526</td>\n",
       "    </tr>\n",
       "  </tbody>\n",
       "</table>\n",
       "</div>"
      ],
      "text/plain": [
       "  CORRECT  MISTAKE  WEIGHT\n",
       "0  болото   болотл  0.3333\n",
       "1  болото  болотао  0.2500\n",
       "2  болото   балото  0.1219\n",
       "3  болото    болто  0.0562\n",
       "4  болото  болотаъ  0.0526"
      ]
     },
     "execution_count": 2,
     "metadata": {},
     "output_type": "execute_result"
    }
   ],
   "source": [
    "data = pd.read_csv('./data/orphos.txt', sep=';')\n",
    "data.head()"
   ]
  },
  {
   "cell_type": "code",
   "execution_count": 3,
   "id": "d91a8b34-bee1-4f5c-b657-9add0c87853b",
   "metadata": {},
   "outputs": [],
   "source": [
    "correct_df = data[['CORRECT']].copy()\n",
    "mistake_df = data[['MISTAKE']].copy().sample(frac=0.1).reset_index(drop=True) # only 10%\n",
    "\n",
    "correct_df['is_error'] = 0\n",
    "mistake_df['is_error'] = 1\n",
    "\n",
    "correct_df.rename({'CORRECT': 'word'}, axis=1, inplace=True)\n",
    "mistake_df.rename({'MISTAKE': 'word'}, axis=1, inplace=True)\n",
    "\n",
    "df = pd.concat([correct_df, mistake_df], axis=0, ignore_index=True)"
   ]
  },
  {
   "cell_type": "code",
   "execution_count": 4,
   "id": "791274da-da0d-4fd6-9af6-25cc07b3a13b",
   "metadata": {},
   "outputs": [],
   "source": [
    "df = df.sample(frac=1).reset_index(drop=True) # random shuffle"
   ]
  },
  {
   "cell_type": "code",
   "execution_count": 5,
   "id": "21f0c578-5992-4198-b3cd-75b169ba75bb",
   "metadata": {},
   "outputs": [
    {
     "data": {
      "text/plain": [
       "['м з д а', 'б е з д е н е ж ь е', 'з д а ч а']"
      ]
     },
     "execution_count": 5,
     "metadata": {},
     "output_type": "execute_result"
    }
   ],
   "source": [
    "generated_dataset = df['word'].tolist()\n",
    "\n",
    "lines = [' '.join(list(line)) for line in generated_dataset]\n",
    "\n",
    "lines[:3]"
   ]
  },
  {
   "cell_type": "code",
   "execution_count": 6,
   "id": "6ebc050e-2933-4211-aab7-c74b193d65ad",
   "metadata": {},
   "outputs": [],
   "source": [
    "tokens = []\n",
    "for text in lines:\n",
    "    tokens.extend(text)\n",
    "tokens = list(set(tokens))"
   ]
  },
  {
   "cell_type": "code",
   "execution_count": 7,
   "id": "3684c5d8-c6df-4a94-970c-e2411c9b5099",
   "metadata": {},
   "outputs": [],
   "source": [
    "from sklearn.model_selection import train_test_split\n",
    "train_lines, val_lines, y_train, y_val = train_test_split(lines, df['is_error'],  test_size=0.25, random_state=seed)"
   ]
  },
  {
   "cell_type": "code",
   "execution_count": 8,
   "id": "a8317433-6d8e-426e-a26d-6de52527d1d5",
   "metadata": {},
   "outputs": [],
   "source": [
    "from sklearn.feature_extraction.text import CountVectorizer, TfidfTransformer\n",
    "from sklearn.pipeline import Pipeline\n",
    "\n",
    "pipe = Pipeline([('count', CountVectorizer(vocabulary=tokens, tokenizer=lambda x: x.split(' '), token_pattern=None)),\n",
    "                  ('tfidf', TfidfTransformer())]).fit(train_lines)"
   ]
  },
  {
   "cell_type": "code",
   "execution_count": 9,
   "id": "9e61c424-ac64-450a-ba74-fdad481da111",
   "metadata": {},
   "outputs": [
    {
     "data": {
      "text/plain": [
       "35"
      ]
     },
     "execution_count": 9,
     "metadata": {},
     "output_type": "execute_result"
    }
   ],
   "source": [
    "len(tokens)"
   ]
  },
  {
   "cell_type": "markdown",
   "id": "5ba19a13-2159-4812-bc8b-046aae73b51d",
   "metadata": {},
   "source": [
    "# RSRAE"
   ]
  },
  {
   "cell_type": "code",
   "execution_count": 15,
   "id": "f77de934-91ce-453a-a9ff-3f337a598ba1",
   "metadata": {},
   "outputs": [],
   "source": [
    "class RSRAutoEncoder(nn.Module):\n",
    "    def __init__(self, input_dim, d, D):\n",
    "        super().__init__()\n",
    "        self.encoder = nn.Sequential(\n",
    "          nn.Linear(input_dim, input_dim // 2),\n",
    "          nn.LeakyReLU(),\n",
    "          nn.Linear(input_dim // 2, input_dim // 4),\n",
    "          nn.LeakyReLU(),\n",
    "          nn.Linear(input_dim // 4, D)\n",
    "        )\n",
    "\n",
    "        self.rsr = RSRLayer(d, D)\n",
    "\n",
    "        self.decoder = nn.Sequential(\n",
    "          nn.Linear(d, D),\n",
    "          nn.LeakyReLU(),\n",
    "          nn.Linear(D, input_dim // 2),\n",
    "          nn.LeakyReLU(),\n",
    "          nn.Linear(input_dim // 2, input_dim)\n",
    "        )\n",
    "    \n",
    "    def forward(self, x):\n",
    "        enc = self.encoder(x) # obtain the embedding from the encoder\n",
    "        latent = self.rsr(enc) # RSR manifold\n",
    "        dec = self.decoder(latent) # obtain the representation in the input space\n",
    "        return enc, dec, latent, self.rsr.A"
   ]
  },
  {
   "cell_type": "code",
   "execution_count": 16,
   "id": "7315bd1c-fff2-4db9-951a-2903dd24e0af",
   "metadata": {},
   "outputs": [],
   "source": [
    "class RSRLayer(nn.Module):\n",
    "    def __init__(self, d: int, D: int):\n",
    "        super().__init__()\n",
    "        self.d = d\n",
    "        self.D = D\n",
    "        self.A = nn.Parameter(torch.nn.init.orthogonal_(torch.empty(d, D)))\n",
    "\n",
    "    def forward(self, z):\n",
    "        z_hat = self.A @ z.view(z.size(0), self.D, 1)\n",
    "        return z_hat.squeeze(2)"
   ]
  },
  {
   "cell_type": "code",
   "execution_count": 17,
   "id": "403f5a71-1554-4176-afee-6209a2e0744f",
   "metadata": {},
   "outputs": [],
   "source": [
    "class RSRLoss(nn.Module):\n",
    "    def __init__(self, lambda1, lambda2, d, D):\n",
    "        super().__init__()\n",
    "        self.lambda1 = lambda1\n",
    "        self.lambda2 = lambda2\n",
    "        self.d = d\n",
    "        self.D = D\n",
    "        self.register_buffer(\n",
    "            \"Id\", torch.eye(d)\n",
    "        )\n",
    "\n",
    "    def forward(self, z, A):\n",
    "        z_hat = A @ z.view(z.size(0), self.D, 1)\n",
    "        AtAz = (A.T @ z_hat).squeeze(2)\n",
    "        term1 = torch.sum(\n",
    "            torch.norm(z - AtAz, p=2)\n",
    "        )\n",
    "\n",
    "        term2 = torch.norm(\n",
    "            A @ A.T - self.Id, p=2\n",
    "        ) ** 2\n",
    "\n",
    "        return self.lambda1 * term1 + self.lambda2 * term2"
   ]
  },
  {
   "cell_type": "code",
   "execution_count": 18,
   "id": "ad73bbdf-84d6-4d15-9e1e-b13a6a737f45",
   "metadata": {},
   "outputs": [],
   "source": [
    "class L2p_Loss(nn.Module):\n",
    "    def __init__(self, p=1.0):\n",
    "        super().__init__()\n",
    "        self.p = p\n",
    "  \n",
    "    def forward(self, y_hat, y):\n",
    "        return torch.sum(\n",
    "            torch.pow(\n",
    "                torch.norm(y - y_hat, p=2), self.p\n",
    "            )\n",
    "        )"
   ]
  },
  {
   "cell_type": "code",
   "execution_count": 19,
   "id": "91222480-319c-40f0-8d95-be803b057ee4",
   "metadata": {},
   "outputs": [],
   "source": [
    "device = 'cuda' if torch.cuda.is_available() else 'cpu'\n",
    "# device = 'cpu'"
   ]
  },
  {
   "cell_type": "code",
   "execution_count": 94,
   "id": "9f9d3b33-c94b-439d-a563-6c394c672f0c",
   "metadata": {},
   "outputs": [
    {
     "data": {
      "text/plain": [
       "RSRAutoEncoder(\n",
       "  (encoder): Sequential(\n",
       "    (0): Linear(in_features=35, out_features=17, bias=True)\n",
       "    (1): LeakyReLU(negative_slope=0.01)\n",
       "    (2): Linear(in_features=17, out_features=8, bias=True)\n",
       "    (3): LeakyReLU(negative_slope=0.01)\n",
       "    (4): Linear(in_features=8, out_features=16, bias=True)\n",
       "  )\n",
       "  (rsr): RSRLayer()\n",
       "  (decoder): Sequential(\n",
       "    (0): Linear(in_features=8, out_features=16, bias=True)\n",
       "    (1): LeakyReLU(negative_slope=0.01)\n",
       "    (2): Linear(in_features=16, out_features=17, bias=True)\n",
       "    (3): LeakyReLU(negative_slope=0.01)\n",
       "    (4): Linear(in_features=17, out_features=35, bias=True)\n",
       "  )\n",
       ")"
      ]
     },
     "execution_count": 94,
     "metadata": {},
     "output_type": "execute_result"
    }
   ],
   "source": [
    "batch_size = 128\n",
    "score_val_every = 1000\n",
    "\n",
    "input_dim = 35\n",
    "d = 8\n",
    "D = 16\n",
    "\n",
    "model = RSRAutoEncoder(input_dim, d, D)\n",
    "\n",
    "reconctruction_loss = L2p_Loss().to(device)\n",
    "rsr_loss = RSRLoss(1, 1, d, D).to(device)\n",
    "opt = torch.optim.Adam(model.parameters(), lr=1e-4)\n",
    "\n",
    "model.to(device)"
   ]
  },
  {
   "cell_type": "code",
   "execution_count": 95,
   "id": "afd2be5b-9694-4600-9524-6f3673dba127",
   "metadata": {},
   "outputs": [],
   "source": [
    "class TypoDataset(torch.utils.data.Dataset):\n",
    "    def __init__(self, data):\n",
    "        self.data = data\n",
    "\n",
    "    def __len__(self):\n",
    "        return len(self.data)\n",
    "\n",
    "    def __getitem__(self, i):\n",
    "        return torch.as_tensor(self.data[i]).to(torch.float32).to(device)"
   ]
  },
  {
   "cell_type": "code",
   "execution_count": 96,
   "id": "18a2386f-2f2d-4686-bd2d-6c6f06b8665c",
   "metadata": {},
   "outputs": [],
   "source": [
    "tfidf_train = pipe.transform(train_lines).toarray()\n",
    "tfidf_val = pipe.transform(val_lines).toarray()\n",
    "\n",
    "train_dataset = TypoDataset(tfidf_train)\n",
    "val_dataset = TypoDataset(tfidf_val)"
   ]
  },
  {
   "cell_type": "code",
   "execution_count": 97,
   "id": "5432c510-d3f6-4802-a407-fd508fac7a78",
   "metadata": {},
   "outputs": [],
   "source": [
    "train_dataloader = torch.utils.data.DataLoader(train_dataset, batch_size=64, shuffle=True)\n",
    "val_dataloader = torch.utils.data.DataLoader(val_dataset, batch_size=64, shuffle=False)"
   ]
  },
  {
   "cell_type": "code",
   "execution_count": 98,
   "id": "9eb18737-58ec-4618-a77c-7c52bb43c9f7",
   "metadata": {},
   "outputs": [],
   "source": [
    "def score_val(model, dataloader):\n",
    "    loss = 0\n",
    "    batches = 0\n",
    "    for batch in dataloader:\n",
    "        batches += 1\n",
    "        \n",
    "        enc, dec, latent, A = model(batch)\n",
    "        rec_loss_i = reconctruction_loss(torch.sigmoid(dec), batch)\n",
    "        rsr_loss_i = rsr_loss(enc, A)\n",
    "\n",
    "        loss += rec_loss_i + rsr_loss_i\n",
    "\n",
    "    return loss / batches"
   ]
  },
  {
   "cell_type": "code",
   "execution_count": 99,
   "id": "db2ea11d-a260-46a1-969c-872ca344f5db",
   "metadata": {},
   "outputs": [
    {
     "data": {
      "text/plain": [
       "tensor(27.2158, device='cuda:0', grad_fn=<DivBackward0>)"
      ]
     },
     "execution_count": 99,
     "metadata": {},
     "output_type": "execute_result"
    }
   ],
   "source": [
    "score_val(model, val_dataloader)"
   ]
  },
  {
   "cell_type": "code",
   "execution_count": 100,
   "id": "0aae2009-66d5-4bc7-849d-215063bc21c7",
   "metadata": {},
   "outputs": [
    {
     "data": {
      "image/png": "[encoded data removed]",
      "text/plain": [
       "<Figure size 640x480 with 1 Axes>"
      ]
     },
     "metadata": {},
     "output_type": "display_data"
    }
   ],
   "source": [
    "from IPython.display import clear_output\n",
    "\n",
    "train_history, val_history = [], []\n",
    "\n",
    "for epoch in range(50):\n",
    "    model.eval()\n",
    "    val_history.append((len(train_dataloader)*epoch, score_val(model, val_dataloader).item()))\n",
    "    model.train()\n",
    "    for i, batch in enumerate(train_dataloader):\n",
    "        enc, dec, latent, A = model(batch)\n",
    "    \n",
    "        rec_loss_i = reconctruction_loss(torch.sigmoid(dec), batch)\n",
    "        rsr_loss_i = rsr_loss(enc, A)\n",
    "        \n",
    "        loss_i = rec_loss_i + rsr_loss_i\n",
    "        \n",
    "        opt.zero_grad()\n",
    "        loss_i.backward()\n",
    "        opt.step()\n",
    "            \n",
    "        train_history.append((len(train_dataloader)*epoch+i, loss_i.item()))\n",
    "        \n",
    "        if (i + 1) % 50 == 0:\n",
    "            clear_output(True)\n",
    "            plt.scatter(*zip(*train_history), alpha=0.1, label='train_loss')\n",
    "            if len(val_history):\n",
    "                plt.plot(*zip(*val_history), color='red', label='val_loss')\n",
    "            plt.legend(); plt.grid(); plt.show()\n",
    "        \n",
    "        # if (i + 1) % score_val_every == 0:\n",
    "        #     print(\"Scoring val...\")\n",
    "        #     val_history.append((i, score_lines(model, val_lines, batch_size)))\n",
    "        #     print('#%i Val loss: %.3f' % val_history[-1])"
   ]
  },
  {
   "cell_type": "code",
   "execution_count": 90,
   "id": "46a446b1-c11c-4c35-bf0c-68aae38cd2ae",
   "metadata": {},
   "outputs": [
    {
     "data": {
      "text/plain": [
       "tensor([[ 1.6352e-03,  1.2317e-01,  7.9851e-02,  1.5550e-02,  1.7416e-01,\n",
       "         -2.1251e-04,  3.2071e-02,  6.3848e-02, -5.6177e-06,  1.2635e-02,\n",
       "          6.0250e-02,  9.6397e-02,  2.5088e-02,  5.8560e-02,  9.2450e-02,\n",
       "          1.7610e-02,  8.3234e-03,  1.4989e-01,  1.5126e-01,  4.0506e-02,\n",
       "          3.8879e-02,  2.7580e-02,  1.2096e-01,  7.8505e-02,  2.7291e-02,\n",
       "          5.7117e-02,  7.4201e-02,  1.1020e-01,  1.0421e-01,  8.1423e-02,\n",
       "          5.2942e-02,  5.6717e-02,  1.5568e-02,  1.2470e-01,  1.3322e-01]],\n",
       "       device='cuda:0', grad_fn=<AddmmBackward0>)"
      ]
     },
     "execution_count": 90,
     "metadata": {},
     "output_type": "execute_result"
    }
   ],
   "source": []
  },
  {
   "cell_type": "code",
   "execution_count": 91,
   "id": "890f429b-f10b-4c59-bc61-6f7f8a1a34eb",
   "metadata": {},
   "outputs": [
    {
     "data": {
      "text/plain": [
       "tensor(0.7999, device='cuda:0', grad_fn=<SumBackward0>)"
      ]
     },
     "execution_count": 91,
     "metadata": {},
     "output_type": "execute_result"
    }
   ],
   "source": [
    "reconctruction_loss(model(train_dataset[0:1])[1], train_dataset[0:1])"
   ]
  },
  {
   "cell_type": "code",
   "execution_count": null,
   "id": "9a3e82b0-4575-4547-80db-301f829e8ee5",
   "metadata": {},
   "outputs": [],
   "source": []
  }
 ],
 "metadata": {
  "kernelspec": {
   "display_name": "yandex_nlp",
   "language": "python",
   "name": "yandex_nlp"
  },
  "language_info": {
   "codemirror_mode": {
    "name": "ipython",
    "version": 3
   },
   "file_extension": ".py",
   "mimetype": "text/x-python",
   "name": "python",
   "nbconvert_exporter": "python",
   "pygments_lexer": "ipython3",
   "version": "3.9.13"
  }
 },
 "nbformat": 4,
 "nbformat_minor": 5
}
