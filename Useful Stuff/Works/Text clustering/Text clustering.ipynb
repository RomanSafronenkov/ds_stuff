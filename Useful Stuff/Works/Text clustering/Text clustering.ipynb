{
 "cells": [
  {
   "cell_type": "code",
   "execution_count": 1,
   "id": "5d373f82-29f1-4ea6-ae9b-57dea8ff01ce",
   "metadata": {},
   "outputs": [],
   "source": [
    "import re\n",
    "\n",
    "from tqdm import tqdm\n",
    "\n",
    "import pandas as pd\n",
    "import numpy as np\n",
    "from gensim.models import Word2Vec\n",
    "import matplotlib.pyplot as plt\n",
    "plt.style.use('ggplot')\n",
    "\n",
    "from nltk.tokenize import TweetTokenizer\n",
    "%matplotlib inline"
   ]
  },
  {
   "cell_type": "markdown",
   "id": "8f3efe7e-5a89-4dd8-b107-f7868a50f6a1",
   "metadata": {},
   "source": [
    "# Load Data"
   ]
  },
  {
   "cell_type": "code",
   "execution_count": 2,
   "id": "e053da19-78cb-4642-8003-3e13034dad1a",
   "metadata": {},
   "outputs": [
    {
     "name": "stdout",
     "output_type": "stream",
     "text": [
      "(159571, 8)\n"
     ]
    },
    {
     "data": {
      "text/html": [
       "<div>\n",
       "<style scoped>\n",
       "    .dataframe tbody tr th:only-of-type {\n",
       "        vertical-align: middle;\n",
       "    }\n",
       "\n",
       "    .dataframe tbody tr th {\n",
       "        vertical-align: top;\n",
       "    }\n",
       "\n",
       "    .dataframe thead th {\n",
       "        text-align: right;\n",
       "    }\n",
       "</style>\n",
       "<table border=\"1\" class=\"dataframe\">\n",
       "  <thead>\n",
       "    <tr style=\"text-align: right;\">\n",
       "      <th></th>\n",
       "      <th>id</th>\n",
       "      <th>comment_text</th>\n",
       "      <th>toxic</th>\n",
       "      <th>severe_toxic</th>\n",
       "      <th>obscene</th>\n",
       "      <th>threat</th>\n",
       "      <th>insult</th>\n",
       "      <th>identity_hate</th>\n",
       "    </tr>\n",
       "  </thead>\n",
       "  <tbody>\n",
       "    <tr>\n",
       "      <th>0</th>\n",
       "      <td>0000997932d777bf</td>\n",
       "      <td>Explanation\\nWhy the edits made under my usern...</td>\n",
       "      <td>0</td>\n",
       "      <td>0</td>\n",
       "      <td>0</td>\n",
       "      <td>0</td>\n",
       "      <td>0</td>\n",
       "      <td>0</td>\n",
       "    </tr>\n",
       "    <tr>\n",
       "      <th>1</th>\n",
       "      <td>000103f0d9cfb60f</td>\n",
       "      <td>D'aww! He matches this background colour I'm s...</td>\n",
       "      <td>0</td>\n",
       "      <td>0</td>\n",
       "      <td>0</td>\n",
       "      <td>0</td>\n",
       "      <td>0</td>\n",
       "      <td>0</td>\n",
       "    </tr>\n",
       "    <tr>\n",
       "      <th>2</th>\n",
       "      <td>000113f07ec002fd</td>\n",
       "      <td>Hey man, I'm really not trying to edit war. It...</td>\n",
       "      <td>0</td>\n",
       "      <td>0</td>\n",
       "      <td>0</td>\n",
       "      <td>0</td>\n",
       "      <td>0</td>\n",
       "      <td>0</td>\n",
       "    </tr>\n",
       "    <tr>\n",
       "      <th>3</th>\n",
       "      <td>0001b41b1c6bb37e</td>\n",
       "      <td>\"\\nMore\\nI can't make any real suggestions on ...</td>\n",
       "      <td>0</td>\n",
       "      <td>0</td>\n",
       "      <td>0</td>\n",
       "      <td>0</td>\n",
       "      <td>0</td>\n",
       "      <td>0</td>\n",
       "    </tr>\n",
       "    <tr>\n",
       "      <th>4</th>\n",
       "      <td>0001d958c54c6e35</td>\n",
       "      <td>You, sir, are my hero. Any chance you remember...</td>\n",
       "      <td>0</td>\n",
       "      <td>0</td>\n",
       "      <td>0</td>\n",
       "      <td>0</td>\n",
       "      <td>0</td>\n",
       "      <td>0</td>\n",
       "    </tr>\n",
       "  </tbody>\n",
       "</table>\n",
       "</div>"
      ],
      "text/plain": [
       "                 id                                       comment_text  toxic  \\\n",
       "0  0000997932d777bf  Explanation\\nWhy the edits made under my usern...      0   \n",
       "1  000103f0d9cfb60f  D'aww! He matches this background colour I'm s...      0   \n",
       "2  000113f07ec002fd  Hey man, I'm really not trying to edit war. It...      0   \n",
       "3  0001b41b1c6bb37e  \"\\nMore\\nI can't make any real suggestions on ...      0   \n",
       "4  0001d958c54c6e35  You, sir, are my hero. Any chance you remember...      0   \n",
       "\n",
       "   severe_toxic  obscene  threat  insult  identity_hate  \n",
       "0             0        0       0       0              0  \n",
       "1             0        0       0       0              0  \n",
       "2             0        0       0       0              0  \n",
       "3             0        0       0       0              0  \n",
       "4             0        0       0       0              0  "
      ]
     },
     "execution_count": 2,
     "metadata": {},
     "output_type": "execute_result"
    }
   ],
   "source": [
    "data = pd.read_csv('./data/train.csv')\n",
    "print(data.shape)\n",
    "data.head()"
   ]
  },
  {
   "cell_type": "code",
   "execution_count": 3,
   "id": "194521e6-4e17-499f-9172-f92b55d977b6",
   "metadata": {},
   "outputs": [
    {
     "data": {
      "image/png": "[encoded data removed]",
      "text/plain": [
       "<Figure size 640x480 with 1 Axes>"
      ]
     },
     "metadata": {},
     "output_type": "display_data"
    }
   ],
   "source": [
    "plt.hist(data['comment_text'].apply(len), bins=50);  # hist of len in symbols"
   ]
  },
  {
   "cell_type": "markdown",
   "id": "4e7ad5d3-1174-4719-8524-43c6927e5918",
   "metadata": {},
   "source": [
    "# Tokenizing"
   ]
  },
  {
   "cell_type": "code",
   "execution_count": 4,
   "id": "cf730195-64b9-4403-9d51-649f4baab559",
   "metadata": {},
   "outputs": [],
   "source": [
    "# simple example\n",
    "def tokenizer(text):\n",
    "    return re.findall(r'[\\w]+', text)"
   ]
  },
  {
   "cell_type": "code",
   "execution_count": 5,
   "id": "d102d0b5-474b-484e-a9e4-fbd32a3c3021",
   "metadata": {},
   "outputs": [
    {
     "data": {
      "text/plain": [
       "['Your',\n",
       " 'vandalism',\n",
       " 'to',\n",
       " 'the',\n",
       " 'Matt',\n",
       " 'Shirvington',\n",
       " 'article',\n",
       " 'has',\n",
       " 'been',\n",
       " 'reverted',\n",
       " 'Please',\n",
       " 'don',\n",
       " 't',\n",
       " 'do',\n",
       " 'it',\n",
       " 'again',\n",
       " 'or',\n",
       " 'you',\n",
       " 'will',\n",
       " 'be',\n",
       " 'banned']"
      ]
     },
     "execution_count": 5,
     "metadata": {},
     "output_type": "execute_result"
    }
   ],
   "source": [
    "tokenizer(data['comment_text'][7])"
   ]
  },
  {
   "cell_type": "code",
   "execution_count": 6,
   "id": "3fefc730-1747-4187-af93-16998440a8b5",
   "metadata": {},
   "outputs": [
    {
     "data": {
      "text/plain": [
       "['your',\n",
       " 'vandalism',\n",
       " 'to',\n",
       " 'the',\n",
       " 'matt',\n",
       " 'shirvington',\n",
       " 'article',\n",
       " 'has',\n",
       " 'been',\n",
       " 'reverted',\n",
       " '.',\n",
       " 'please',\n",
       " \"don't\",\n",
       " 'do',\n",
       " 'it',\n",
       " 'again',\n",
       " ',',\n",
       " 'or',\n",
       " 'you',\n",
       " 'will',\n",
       " 'be',\n",
       " 'banned',\n",
       " '.']"
      ]
     },
     "execution_count": 6,
     "metadata": {},
     "output_type": "execute_result"
    }
   ],
   "source": [
    "tokenizer = TweetTokenizer()\n",
    "tokenizer.tokenize(data['comment_text'][7].lower())"
   ]
  },
  {
   "cell_type": "code",
   "execution_count": 7,
   "id": "a3ed5a84-76ac-401a-87c4-d9f10c1ec3f7",
   "metadata": {},
   "outputs": [
    {
     "name": "stderr",
     "output_type": "stream",
     "text": [
      "100%|████████████████████████████████████████████████████████████████████████| 159571/159571 [00:50<00:00, 3172.89it/s]\n"
     ]
    },
    {
     "data": {
      "text/plain": [
       "159571"
      ]
     },
     "execution_count": 7,
     "metadata": {},
     "output_type": "execute_result"
    }
   ],
   "source": [
    "tokenized_corpus = [tokenizer.tokenize(text.lower()) for text in tqdm(data['comment_text'].values)]  # lowercase\n",
    "len(tokenized_corpus)"
   ]
  },
  {
   "cell_type": "code",
   "execution_count": 8,
   "id": "70d61efa-9fb6-4738-95a9-67e5b5d8b31f",
   "metadata": {},
   "outputs": [
    {
     "data": {
      "image/png": "[encoded data removed]",
      "text/plain": [
       "<Figure size 640x480 with 1 Axes>"
      ]
     },
     "metadata": {},
     "output_type": "display_data"
    }
   ],
   "source": [
    "plt.hist(list(map(len, tokenized_corpus)), bins=50);  # hist of len in tokens"
   ]
  },
  {
   "cell_type": "markdown",
   "id": "092eccd6-1764-41af-a23e-773b23f16881",
   "metadata": {},
   "source": [
    "# Lemmatization/stemming"
   ]
  },
  {
   "cell_type": "code",
   "execution_count": 9,
   "id": "38deb274-6725-42fc-b635-20b7233085bb",
   "metadata": {},
   "outputs": [],
   "source": [
    "# from pymorphy2 import MorphAnalyzer  # for russian\n",
    "\n",
    "# cache = {}\n",
    "# lemmatizer = MorphAnalyzer()\n",
    "\n",
    "# def lemmatize(word):\n",
    "#     if word in cache.keys():\n",
    "#         return cache[word]\n",
    "#     else:\n",
    "#         lemmatized = lemmatizer.parse(word)[0].normal_form\n",
    "#         cache[word] = lemmatized\n",
    "#         return lemmatized\n",
    "\n",
    "# lemmatize('прошел')"
   ]
  },
  {
   "cell_type": "code",
   "execution_count": 10,
   "id": "cae29474-1d1a-401f-ad5d-6a75a290afac",
   "metadata": {},
   "outputs": [],
   "source": [
    "# import nltk\n",
    "# nltk.download('wordnet')\n",
    "# from nltk.stem import WordNetLemmatizer\n",
    "\n",
    "# cache = {}\n",
    "# lemmatizer = WordNetLemmatizer()\n",
    "\n",
    "# def lemmatize(word):\n",
    "#     if word in cache.keys():\n",
    "#         return cache[word]\n",
    "#     else:\n",
    "#         lemmatized = lemmatizer.lemmatize(word, pos='v')\n",
    "#         cache[word] = lemmatized\n",
    "#         return lemmatized\n",
    "\n",
    "# lemmatize('went')  # requires pos"
   ]
  },
  {
   "cell_type": "code",
   "execution_count": 11,
   "id": "5589a218-17ea-4285-ae99-1fb49d64d09b",
   "metadata": {},
   "outputs": [],
   "source": [
    "# import spacy\n",
    "\n",
    "# nlp = spacy.load('en_core_web_sm')\n",
    "# doc = nlp('Some text with loaded buns and so on...')\n",
    "# print([token.lemma_ for token in doc])\n",
    "\n",
    "# # it is not that useful in real cases, because it takes time\n",
    "\n",
    "# preprocessed_corpus = [[token.lemma_ for token in nlp(text)] for text in tqdm(data['comment_text'].values, position=0, leave=True)]"
   ]
  },
  {
   "cell_type": "code",
   "execution_count": 12,
   "id": "ec9865f5-e8f6-4ad6-901d-85e2abd39b4d",
   "metadata": {},
   "outputs": [
    {
     "name": "stdout",
     "output_type": "stream",
     "text": [
      "load\n"
     ]
    },
    {
     "name": "stderr",
     "output_type": "stream",
     "text": [
      "100%|███████████████████████████████████████████████████████████████████████| 159571/159571 [00:05<00:00, 28483.77it/s]\n"
     ]
    }
   ],
   "source": [
    "# for english texts it is ok to use stemmer instead of lemmatizer\n",
    "from nltk.stem.snowball import SnowballStemmer\n",
    "\n",
    "cache = {}\n",
    "stemmer = SnowballStemmer(language='english')\n",
    "\n",
    "def stem(word):\n",
    "    if word in cache.keys():\n",
    "        return cache[word]\n",
    "    else:\n",
    "        stemmed = stemmer.stem(word)\n",
    "        cache[word] = stemmed\n",
    "        return stemmed\n",
    "\n",
    "print(stem('loaded'))\n",
    "preprocessed_corpus = [[stem(word) for word in tokenized_text] for tokenized_text in tqdm(tokenized_corpus)]"
   ]
  },
  {
   "cell_type": "markdown",
   "id": "6618ff97-2689-4dd6-863e-bc218713f133",
   "metadata": {},
   "source": [
    "# Look at statistics + stopwords"
   ]
  },
  {
   "cell_type": "code",
   "execution_count": 13,
   "id": "46f88b96-64f9-4830-b6fb-97751b8f2d3c",
   "metadata": {},
   "outputs": [],
   "source": [
    "from collections import Counter\n",
    "\n",
    "counter = Counter()\n",
    "for text in preprocessed_corpus:\n",
    "    for word in text:\n",
    "        counter[word] += 1"
   ]
  },
  {
   "cell_type": "code",
   "execution_count": 14,
   "id": "4321db7f-6c68-4dfc-ba04-5b7a64afebde",
   "metadata": {},
   "outputs": [
    {
     "data": {
      "text/plain": [
       "[('.', 545636),\n",
       " ('the', 496136),\n",
       " (',', 472129),\n",
       " ('\"', 392047),\n",
       " ('to', 296973),\n",
       " ('of', 224072),\n",
       " ('and', 223665),\n",
       " ('a', 215343),\n",
       " ('you', 206018),\n",
       " ('i', 204703)]"
      ]
     },
     "execution_count": 14,
     "metadata": {},
     "output_type": "execute_result"
    }
   ],
   "source": [
    "counter.most_common(10)  # typically garbage"
   ]
  },
  {
   "cell_type": "code",
   "execution_count": 15,
   "id": "8afb8ee8-a015-403d-bdaf-7a7805421083",
   "metadata": {},
   "outputs": [
    {
     "data": {
      "text/plain": [
       "188896"
      ]
     },
     "execution_count": 15,
     "metadata": {},
     "output_type": "execute_result"
    }
   ],
   "source": [
    "len(counter)"
   ]
  },
  {
   "cell_type": "code",
   "execution_count": 16,
   "id": "f454a6e8-10b4-4ae9-ba53-6514420857ef",
   "metadata": {},
   "outputs": [
    {
     "data": {
      "image/png": "[encoded data removed]",
      "text/plain": [
       "<Figure size 800x800 with 1 Axes>"
      ]
     },
     "metadata": {},
     "output_type": "display_data"
    }
   ],
   "source": [
    "# https://en.wikipedia.org/wiki/Zipf%27s_law\n",
    "fig, ax = plt.subplots(figsize = (8,8))\n",
    "ax.scatter(range(len(counter)), sorted(counter.values(), reverse=True))\n",
    "\n",
    "# Set logarithmic scale on the y variable\n",
    "ax.set_yscale(\"log\");"
   ]
  },
  {
   "cell_type": "code",
   "execution_count": 17,
   "id": "16bfd9a8-e69a-4105-9549-1367692471db",
   "metadata": {},
   "outputs": [
    {
     "name": "stderr",
     "output_type": "stream",
     "text": [
      "[nltk_data] Downloading package stopwords to\n",
      "[nltk_data]     C:\\Users\\Роман\\AppData\\Roaming\\nltk_data...\n",
      "[nltk_data]   Package stopwords is already up-to-date!\n"
     ]
    }
   ],
   "source": [
    "import nltk\n",
    "from nltk.corpus import stopwords\n",
    " \n",
    "nltk.download('stopwords')\n",
    "stoplist = stopwords.words('english')"
   ]
  },
  {
   "cell_type": "code",
   "execution_count": 18,
   "id": "30b2745e-05b8-41e5-be22-9a9c6623df1f",
   "metadata": {},
   "outputs": [
    {
     "data": {
      "text/plain": [
       "['i',\n",
       " 'me',\n",
       " 'my',\n",
       " 'myself',\n",
       " 'we',\n",
       " 'our',\n",
       " 'ours',\n",
       " 'ourselves',\n",
       " 'you',\n",
       " \"you're\",\n",
       " \"you've\",\n",
       " \"you'll\",\n",
       " \"you'd\",\n",
       " 'your',\n",
       " 'yours',\n",
       " 'yourself',\n",
       " 'yourselves',\n",
       " 'he',\n",
       " 'him',\n",
       " 'his',\n",
       " 'himself',\n",
       " 'she',\n",
       " \"she's\",\n",
       " 'her',\n",
       " 'hers',\n",
       " 'herself',\n",
       " 'it',\n",
       " \"it's\",\n",
       " 'its',\n",
       " 'itself',\n",
       " 'they',\n",
       " 'them',\n",
       " 'their',\n",
       " 'theirs',\n",
       " 'themselves',\n",
       " 'what',\n",
       " 'which',\n",
       " 'who',\n",
       " 'whom',\n",
       " 'this',\n",
       " 'that',\n",
       " \"that'll\",\n",
       " 'these',\n",
       " 'those',\n",
       " 'am',\n",
       " 'is',\n",
       " 'are',\n",
       " 'was',\n",
       " 'were',\n",
       " 'be',\n",
       " 'been',\n",
       " 'being',\n",
       " 'have',\n",
       " 'has',\n",
       " 'had',\n",
       " 'having',\n",
       " 'do',\n",
       " 'does',\n",
       " 'did',\n",
       " 'doing',\n",
       " 'a',\n",
       " 'an',\n",
       " 'the',\n",
       " 'and',\n",
       " 'but',\n",
       " 'if',\n",
       " 'or',\n",
       " 'because',\n",
       " 'as',\n",
       " 'until',\n",
       " 'while',\n",
       " 'of',\n",
       " 'at',\n",
       " 'by',\n",
       " 'for',\n",
       " 'with',\n",
       " 'about',\n",
       " 'against',\n",
       " 'between',\n",
       " 'into',\n",
       " 'through',\n",
       " 'during',\n",
       " 'before',\n",
       " 'after',\n",
       " 'above',\n",
       " 'below',\n",
       " 'to',\n",
       " 'from',\n",
       " 'up',\n",
       " 'down',\n",
       " 'in',\n",
       " 'out',\n",
       " 'on',\n",
       " 'off',\n",
       " 'over',\n",
       " 'under',\n",
       " 'again',\n",
       " 'further',\n",
       " 'then',\n",
       " 'once',\n",
       " 'here',\n",
       " 'there',\n",
       " 'when',\n",
       " 'where',\n",
       " 'why',\n",
       " 'how',\n",
       " 'all',\n",
       " 'any',\n",
       " 'both',\n",
       " 'each',\n",
       " 'few',\n",
       " 'more',\n",
       " 'most',\n",
       " 'other',\n",
       " 'some',\n",
       " 'such',\n",
       " 'no',\n",
       " 'nor',\n",
       " 'not',\n",
       " 'only',\n",
       " 'own',\n",
       " 'same',\n",
       " 'so',\n",
       " 'than',\n",
       " 'too',\n",
       " 'very',\n",
       " 's',\n",
       " 't',\n",
       " 'can',\n",
       " 'will',\n",
       " 'just',\n",
       " 'don',\n",
       " \"don't\",\n",
       " 'should',\n",
       " \"should've\",\n",
       " 'now',\n",
       " 'd',\n",
       " 'll',\n",
       " 'm',\n",
       " 'o',\n",
       " 're',\n",
       " 've',\n",
       " 'y',\n",
       " 'ain',\n",
       " 'aren',\n",
       " \"aren't\",\n",
       " 'couldn',\n",
       " \"couldn't\",\n",
       " 'didn',\n",
       " \"didn't\",\n",
       " 'doesn',\n",
       " \"doesn't\",\n",
       " 'hadn',\n",
       " \"hadn't\",\n",
       " 'hasn',\n",
       " \"hasn't\",\n",
       " 'haven',\n",
       " \"haven't\",\n",
       " 'isn',\n",
       " \"isn't\",\n",
       " 'ma',\n",
       " 'mightn',\n",
       " \"mightn't\",\n",
       " 'mustn',\n",
       " \"mustn't\",\n",
       " 'needn',\n",
       " \"needn't\",\n",
       " 'shan',\n",
       " \"shan't\",\n",
       " 'shouldn',\n",
       " \"shouldn't\",\n",
       " 'wasn',\n",
       " \"wasn't\",\n",
       " 'weren',\n",
       " \"weren't\",\n",
       " 'won',\n",
       " \"won't\",\n",
       " 'wouldn',\n",
       " \"wouldn't\",\n",
       " '\"',\n",
       " '.',\n",
       " ',',\n",
       " \"'\"]"
      ]
     },
     "execution_count": 18,
     "metadata": {},
     "output_type": "execute_result"
    }
   ],
   "source": [
    "stoplist += ['\"', '.', ',', \"'\"]\n",
    "stoplist"
   ]
  },
  {
   "cell_type": "code",
   "execution_count": 19,
   "id": "25399f63-48fb-435a-a2ae-0cb89029a71f",
   "metadata": {},
   "outputs": [
    {
     "name": "stderr",
     "output_type": "stream",
     "text": [
      "100%|████████████████████████████████████████████████████████████████████████| 159571/159571 [00:18<00:00, 8440.41it/s]\n"
     ]
    }
   ],
   "source": [
    "preprocessed_corpus = [[word for word in text if word not in stoplist] for text in tqdm(preprocessed_corpus)]"
   ]
  },
  {
   "cell_type": "code",
   "execution_count": 20,
   "id": "c3b3aef0-b8b0-42cf-82af-8d9c3589b98f",
   "metadata": {},
   "outputs": [
    {
     "data": {
      "text/plain": [
       "[(')', 86535),\n",
       " ('(', 84421),\n",
       " ('articl', 73879),\n",
       " ('?', 68013),\n",
       " (':', 66582),\n",
       " ('!', 64200),\n",
       " ('page', 56721),\n",
       " ('wikipedia', 45818),\n",
       " ('edit', 40832),\n",
       " ('talk', 39332)]"
      ]
     },
     "execution_count": 20,
     "metadata": {},
     "output_type": "execute_result"
    }
   ],
   "source": [
    "counter = Counter()\n",
    "\n",
    "for text in preprocessed_corpus:\n",
    "    for word in text:\n",
    "        counter[word] += 1\n",
    "\n",
    "counter.most_common(10)"
   ]
  },
  {
   "cell_type": "code",
   "execution_count": 21,
   "id": "d8fc0e98-19c0-4235-bf18-94757c152785",
   "metadata": {},
   "outputs": [
    {
     "data": {
      "text/plain": [
       "[(')', 46952),\n",
       " ('(', 46127),\n",
       " ('?', 39619),\n",
       " ('articl', 37453),\n",
       " (':', 33323),\n",
       " ('page', 31435),\n",
       " ('talk', 28433),\n",
       " ('wikipedia', 25745),\n",
       " ('edit', 24304),\n",
       " ('!', 22807)]"
      ]
     },
     "execution_count": 21,
     "metadata": {},
     "output_type": "execute_result"
    }
   ],
   "source": [
    "# let's count amount of docs where word occurs\n",
    "counter = Counter()\n",
    "doc_n = 0\n",
    "\n",
    "for text in preprocessed_corpus:\n",
    "    doc_n += 1\n",
    "    unique_words = set(text)\n",
    "    for word in unique_words:\n",
    "        counter[word] += 1\n",
    "\n",
    "counter.most_common(10)"
   ]
  },
  {
   "cell_type": "markdown",
   "id": "c2ef8de0-23b9-432d-b3c6-b2e77d81a11a",
   "metadata": {},
   "source": [
    "# Building vocab"
   ]
  },
  {
   "cell_type": "code",
   "execution_count": 22,
   "id": "6f3c2f77-f6a0-48fa-ac87-7573560ab2f4",
   "metadata": {},
   "outputs": [
    {
     "name": "stdout",
     "output_type": "stream",
     "text": [
      "188737\n",
      "28614\n"
     ]
    }
   ],
   "source": [
    "min_count = 5  # min number of texts where word occured\n",
    "max_doc_freq = 0.95  # max word/document ratio\n",
    "\n",
    "print(len(counter))\n",
    "token2id = {word: count for word, count in counter.items() if count >= min_count and count/doc_n <= max_doc_freq}\n",
    "print(len(token2id))\n",
    "\n",
    "token_counts = sorted(token2id.items(), key=lambda x: x[1], reverse=True)\n",
    "token2id = {word: i for i, (word, _) in enumerate(token_counts)}"
   ]
  },
  {
   "cell_type": "code",
   "execution_count": 23,
   "id": "92994363-1275-4109-a537-60a3d6381ae2",
   "metadata": {},
   "outputs": [
    {
     "data": {
      "text/plain": [
       "28614"
      ]
     },
     "execution_count": 23,
     "metadata": {},
     "output_type": "execute_result"
    }
   ],
   "source": [
    "len(token2id)"
   ]
  },
  {
   "cell_type": "code",
   "execution_count": 40,
   "id": "3f6b2b95-3271-408f-bff1-4e13d91448c1",
   "metadata": {},
   "outputs": [
    {
     "data": {
      "text/plain": [
       "[0.2942389281260379,\n",
       " 0.28906881576226257,\n",
       " 0.24828446271565635,\n",
       " 0.23471056770967155,\n",
       " 0.20882867187646878]"
      ]
     },
     "execution_count": 40,
     "metadata": {},
     "output_type": "execute_result"
    }
   ],
   "source": [
    "document_freq = [word_cnt/doc_n for _, word_cnt in token_counts]\n",
    "document_freq[:5]"
   ]
  },
  {
   "cell_type": "markdown",
   "id": "0f6e336a-7e2f-48c8-9e95-102139a1cacd",
   "metadata": {},
   "source": [
    "# Vectorizing texts"
   ]
  },
  {
   "cell_type": "code",
   "execution_count": 63,
   "id": "eaf6a028-3833-4da4-aa3f-de33d38b3a80",
   "metadata": {},
   "outputs": [],
   "source": [
    "from sklearn.feature_extraction.text import CountVectorizer, TfidfTransformer"
   ]
  },
  {
   "cell_type": "code",
   "execution_count": 64,
   "id": "207c6d1f-bcdd-4156-86c9-b5f33bbce44e",
   "metadata": {},
   "outputs": [],
   "source": [
    "count_vect = CountVectorizer(\n",
    "    lowercase=False,\n",
    "    tokenizer=lambda x: x,\n",
    "    vocabulary=token2id\n",
    ")"
   ]
  },
  {
   "cell_type": "code",
   "execution_count": 65,
   "id": "d79c1989-5e55-4723-bfb8-10f8cf75f21f",
   "metadata": {},
   "outputs": [
    {
     "name": "stderr",
     "output_type": "stream",
     "text": [
      "D:\\Dev\\jupyter\\projects\\Data Science\\venvs\\venv_yandex_nlp\\lib\\site-packages\\sklearn\\feature_extraction\\text.py:525: UserWarning: The parameter 'token_pattern' will not be used since 'tokenizer' is not None'\n",
      "  warnings.warn(\n"
     ]
    }
   ],
   "source": [
    "vectorized_corpus = count_vect.fit_transform(preprocessed_corpus)"
   ]
  },
  {
   "cell_type": "code",
   "execution_count": 66,
   "id": "8256ca35-9a58-47e3-be5f-48cf36da8544",
   "metadata": {},
   "outputs": [
    {
     "data": {
      "text/plain": [
       "array([[0, 0, 1, ..., 0, 0, 0]], dtype=int64)"
      ]
     },
     "execution_count": 66,
     "metadata": {},
     "output_type": "execute_result"
    }
   ],
   "source": [
    "vectorized_corpus[0].toarray()"
   ]
  },
  {
   "cell_type": "code",
   "execution_count": 69,
   "id": "168b7dc2-56b7-4bb5-a9bd-d78cb6b19fe5",
   "metadata": {},
   "outputs": [
    {
     "data": {
      "text/plain": [
       "array([   0,    1,    8,   37,   98,  133,  993, 2858, 2971], dtype=int64)"
      ]
     },
     "execution_count": 69,
     "metadata": {},
     "output_type": "execute_result"
    }
   ],
   "source": [
    "np.where(vectorized_corpus[100].toarray() != 0)[1]"
   ]
  },
  {
   "cell_type": "code",
   "execution_count": 42,
   "id": "10f45ba6-96db-4e1d-a5a7-f9412536bea7",
   "metadata": {},
   "outputs": [],
   "source": [
    "id2token = {i: token for token, i in token2id.items()}"
   ]
  },
  {
   "cell_type": "code",
   "execution_count": 70,
   "id": "4cebed73-59e6-4ec2-bc0a-20bf05be9fee",
   "metadata": {},
   "outputs": [
    {
     "name": "stdout",
     "output_type": "stream",
     "text": [
      "1 1\n"
     ]
    },
    {
     "name": "stderr",
     "output_type": "stream",
     "text": [
      "100%|████████████████████████████████████████████████████████████████████████████████| 100/100 [00:01<00:00, 51.45it/s]\n"
     ]
    }
   ],
   "source": [
    "# just for checking expected behaviour of countvectorizer, takes time\n",
    "row_i = 0\n",
    "token_i = 2\n",
    "print(preprocessed_corpus[row_i].count(id2token[token_i]), vectorized_corpus[row_i].toarray()[0][token_i])\n",
    "\n",
    "for row_i in tqdm(range(100, 200)):\n",
    "    check_row = vectorized_corpus[row_i].toarray()[0]\n",
    "    check_text = preprocessed_corpus[row_i]\n",
    "    for i, elem in enumerate(check_row):\n",
    "        assert elem == check_text.count(id2token[i]), f'{elem}, {id2token[i]}, {check_text.count(id2token[i])}'"
   ]
  },
  {
   "cell_type": "code",
   "execution_count": 27,
   "id": "8c31f2f3-ce1e-4ab9-8955-9b9c34a53804",
   "metadata": {},
   "outputs": [],
   "source": [
    "tfidf_transf = TfidfTransformer()"
   ]
  },
  {
   "cell_type": "code",
   "execution_count": 28,
   "id": "14b8d4dd-8aa3-4cbd-a6f0-3411d438044b",
   "metadata": {},
   "outputs": [],
   "source": [
    "tfidf_corpus = tfidf_transf.fit_transform(vectorized_corpus)"
   ]
  },
  {
   "cell_type": "markdown",
   "id": "8a160812-a753-48e9-9555-b27639a81436",
   "metadata": {},
   "source": [
    "# LSA"
   ]
  },
  {
   "cell_type": "code",
   "execution_count": 29,
   "id": "c7ac3322-4fb2-428f-94e9-15501113276c",
   "metadata": {},
   "outputs": [],
   "source": [
    "from sklearn.decomposition import TruncatedSVD"
   ]
  },
  {
   "cell_type": "code",
   "execution_count": 30,
   "id": "c885ccbe-5bac-4287-b13b-1f2ae2317749",
   "metadata": {},
   "outputs": [
    {
     "data": {
      "text/html": [
       "<style>#sk-container-id-1 {color: black;}#sk-container-id-1 pre{padding: 0;}#sk-container-id-1 div.sk-toggleable {background-color: white;}#sk-container-id-1 label.sk-toggleable__label {cursor: pointer;display: block;width: 100%;margin-bottom: 0;padding: 0.3em;box-sizing: border-box;text-align: center;}#sk-container-id-1 label.sk-toggleable__label-arrow:before {content: \"▸\";float: left;margin-right: 0.25em;color: #696969;}#sk-container-id-1 label.sk-toggleable__label-arrow:hover:before {color: black;}#sk-container-id-1 div.sk-estimator:hover label.sk-toggleable__label-arrow:before {color: black;}#sk-container-id-1 div.sk-toggleable__content {max-height: 0;max-width: 0;overflow: hidden;text-align: left;background-color: #f0f8ff;}#sk-container-id-1 div.sk-toggleable__content pre {margin: 0.2em;color: black;border-radius: 0.25em;background-color: #f0f8ff;}#sk-container-id-1 input.sk-toggleable__control:checked~div.sk-toggleable__content {max-height: 200px;max-width: 100%;overflow: auto;}#sk-container-id-1 input.sk-toggleable__control:checked~label.sk-toggleable__label-arrow:before {content: \"▾\";}#sk-container-id-1 div.sk-estimator input.sk-toggleable__control:checked~label.sk-toggleable__label {background-color: #d4ebff;}#sk-container-id-1 div.sk-label input.sk-toggleable__control:checked~label.sk-toggleable__label {background-color: #d4ebff;}#sk-container-id-1 input.sk-hidden--visually {border: 0;clip: rect(1px 1px 1px 1px);clip: rect(1px, 1px, 1px, 1px);height: 1px;margin: -1px;overflow: hidden;padding: 0;position: absolute;width: 1px;}#sk-container-id-1 div.sk-estimator {font-family: monospace;background-color: #f0f8ff;border: 1px dotted black;border-radius: 0.25em;box-sizing: border-box;margin-bottom: 0.5em;}#sk-container-id-1 div.sk-estimator:hover {background-color: #d4ebff;}#sk-container-id-1 div.sk-parallel-item::after {content: \"\";width: 100%;border-bottom: 1px solid gray;flex-grow: 1;}#sk-container-id-1 div.sk-label:hover label.sk-toggleable__label {background-color: #d4ebff;}#sk-container-id-1 div.sk-serial::before {content: \"\";position: absolute;border-left: 1px solid gray;box-sizing: border-box;top: 0;bottom: 0;left: 50%;z-index: 0;}#sk-container-id-1 div.sk-serial {display: flex;flex-direction: column;align-items: center;background-color: white;padding-right: 0.2em;padding-left: 0.2em;position: relative;}#sk-container-id-1 div.sk-item {position: relative;z-index: 1;}#sk-container-id-1 div.sk-parallel {display: flex;align-items: stretch;justify-content: center;background-color: white;position: relative;}#sk-container-id-1 div.sk-item::before, #sk-container-id-1 div.sk-parallel-item::before {content: \"\";position: absolute;border-left: 1px solid gray;box-sizing: border-box;top: 0;bottom: 0;left: 50%;z-index: -1;}#sk-container-id-1 div.sk-parallel-item {display: flex;flex-direction: column;z-index: 1;position: relative;background-color: white;}#sk-container-id-1 div.sk-parallel-item:first-child::after {align-self: flex-end;width: 50%;}#sk-container-id-1 div.sk-parallel-item:last-child::after {align-self: flex-start;width: 50%;}#sk-container-id-1 div.sk-parallel-item:only-child::after {width: 0;}#sk-container-id-1 div.sk-dashed-wrapped {border: 1px dashed gray;margin: 0 0.4em 0.5em 0.4em;box-sizing: border-box;padding-bottom: 0.4em;background-color: white;}#sk-container-id-1 div.sk-label label {font-family: monospace;font-weight: bold;display: inline-block;line-height: 1.2em;}#sk-container-id-1 div.sk-label-container {text-align: center;}#sk-container-id-1 div.sk-container {/* jupyter's `normalize.less` sets `[hidden] { display: none; }` but bootstrap.min.css set `[hidden] { display: none !important; }` so we also need the `!important` here to be able to override the default hidden behavior on the sphinx rendered scikit-learn.org. See: https://github.com/scikit-learn/scikit-learn/issues/21755 */display: inline-block !important;position: relative;}#sk-container-id-1 div.sk-text-repr-fallback {display: none;}</style><div id=\"sk-container-id-1\" class=\"sk-top-container\"><div class=\"sk-text-repr-fallback\"><pre>TruncatedSVD(n_components=10)</pre><b>In a Jupyter environment, please rerun this cell to show the HTML representation or trust the notebook. <br />On GitHub, the HTML representation is unable to render, please try loading this page with nbviewer.org.</b></div><div class=\"sk-container\" hidden><div class=\"sk-item\"><div class=\"sk-estimator sk-toggleable\"><input class=\"sk-toggleable__control sk-hidden--visually\" id=\"sk-estimator-id-1\" type=\"checkbox\" checked><label for=\"sk-estimator-id-1\" class=\"sk-toggleable__label sk-toggleable__label-arrow\">TruncatedSVD</label><div class=\"sk-toggleable__content\"><pre>TruncatedSVD(n_components=10)</pre></div></div></div></div></div>"
      ],
      "text/plain": [
       "TruncatedSVD(n_components=10)"
      ]
     },
     "execution_count": 30,
     "metadata": {},
     "output_type": "execute_result"
    }
   ],
   "source": [
    "svd = TruncatedSVD(n_components=10)\n",
    "svd.fit(tfidf_corpus)"
   ]
  },
  {
   "cell_type": "code",
   "execution_count": 31,
   "id": "6b923e3d-0631-4578-9305-bcef741a4a07",
   "metadata": {},
   "outputs": [
    {
     "name": "stdout",
     "output_type": "stream",
     "text": [
      "Topic 0:  ['page', 'articl', ')', '!', '?']\n",
      "Topic 1:  ['!', '?', 'fuck', 'thank', '...']\n",
      "Topic 2:  ['edit', 'page', 'pleas', 'vandal', 'block']\n",
      "Topic 3:  ['?', 'edit', 'block', 'vandal', 'continu']\n",
      "Topic 4:  [')', '(', 'talk', 'edit', 'block']\n",
      "Topic 5:  ['=', '|', '?', ':', '}']\n",
      "Topic 6:  ['?', 'talk', 'page', 'imag', '(']\n",
      "Topic 7:  ['thank', 'welcom', 'test', 'use', 'page']\n",
      "Topic 8:  ['imag', ':', 'use', 'copyright', 'upload']\n",
      "Topic 9:  ['thank', ')', '(', '=', 'test']\n"
     ]
    }
   ],
   "source": [
    "terms = count_vect.get_feature_names_out()\n",
    "\n",
    "for index, component in enumerate(svd.components_):\n",
    "    zipped = zip(terms, component)\n",
    "    top_terms_key=sorted(zipped, key = lambda t: t[1], reverse=True)[:5]\n",
    "    top_terms_list=list(dict(top_terms_key).keys())\n",
    "    print(\"Topic \"+str(index)+\": \",top_terms_list)"
   ]
  },
  {
   "cell_type": "markdown",
   "id": "d1f86410-e435-4290-923b-beefca7e5365",
   "metadata": {},
   "source": [
    "# Clustering"
   ]
  },
  {
   "cell_type": "code",
   "execution_count": 32,
   "id": "e639a3c5-b3a8-4874-bdc2-a6252386c8b1",
   "metadata": {},
   "outputs": [],
   "source": [
    "from sklearn.cluster import KMeans\n",
    "from sklearn.metrics import silhouette_score"
   ]
  },
  {
   "cell_type": "code",
   "execution_count": 33,
   "id": "cf0f7909-420b-49b5-8670-d07e64c61027",
   "metadata": {},
   "outputs": [],
   "source": [
    "subset = np.random.choice(tfidf_corpus.shape[0], replace=False, size=int(tfidf_corpus.shape[0]*0.1))\n",
    "subset = tfidf_corpus[subset]"
   ]
  },
  {
   "cell_type": "code",
   "execution_count": 34,
   "id": "cc97987b-3b55-41ef-b701-7d47aa024008",
   "metadata": {},
   "outputs": [
    {
     "name": "stderr",
     "output_type": "stream",
     "text": [
      "  0%|                                                                                           | 0/23 [00:00<?, ?it/s]D:\\Dev\\jupyter\\projects\\Data Science\\venvs\\venv_yandex_nlp\\lib\\site-packages\\sklearn\\cluster\\_kmeans.py:1416: FutureWarning: The default value of `n_init` will change from 10 to 'auto' in 1.4. Set the value of `n_init` explicitly to suppress the warning\n",
      "  super()._check_params_vs_input(X, default_n_init=10)\n",
      "  4%|███▌                                                                               | 1/23 [00:22<08:20, 22.77s/it]D:\\Dev\\jupyter\\projects\\Data Science\\venvs\\venv_yandex_nlp\\lib\\site-packages\\sklearn\\cluster\\_kmeans.py:1416: FutureWarning: The default value of `n_init` will change from 10 to 'auto' in 1.4. Set the value of `n_init` explicitly to suppress the warning\n",
      "  super()._check_params_vs_input(X, default_n_init=10)\n",
      "  9%|███████▏                                                                           | 2/23 [00:45<08:01, 22.95s/it]D:\\Dev\\jupyter\\projects\\Data Science\\venvs\\venv_yandex_nlp\\lib\\site-packages\\sklearn\\cluster\\_kmeans.py:1416: FutureWarning: The default value of `n_init` will change from 10 to 'auto' in 1.4. Set the value of `n_init` explicitly to suppress the warning\n",
      "  super()._check_params_vs_input(X, default_n_init=10)\n",
      " 13%|██████████▊                                                                        | 3/23 [01:09<07:42, 23.11s/it]D:\\Dev\\jupyter\\projects\\Data Science\\venvs\\venv_yandex_nlp\\lib\\site-packages\\sklearn\\cluster\\_kmeans.py:1416: FutureWarning: The default value of `n_init` will change from 10 to 'auto' in 1.4. Set the value of `n_init` explicitly to suppress the warning\n",
      "  super()._check_params_vs_input(X, default_n_init=10)\n",
      " 17%|██████████████▍                                                                    | 4/23 [01:33<07:28, 23.62s/it]D:\\Dev\\jupyter\\projects\\Data Science\\venvs\\venv_yandex_nlp\\lib\\site-packages\\sklearn\\cluster\\_kmeans.py:1416: FutureWarning: The default value of `n_init` will change from 10 to 'auto' in 1.4. Set the value of `n_init` explicitly to suppress the warning\n",
      "  super()._check_params_vs_input(X, default_n_init=10)\n",
      " 22%|██████████████████                                                                 | 5/23 [01:58<07:13, 24.09s/it]D:\\Dev\\jupyter\\projects\\Data Science\\venvs\\venv_yandex_nlp\\lib\\site-packages\\sklearn\\cluster\\_kmeans.py:1416: FutureWarning: The default value of `n_init` will change from 10 to 'auto' in 1.4. Set the value of `n_init` explicitly to suppress the warning\n",
      "  super()._check_params_vs_input(X, default_n_init=10)\n",
      " 26%|█████████████████████▋                                                             | 6/23 [02:23<06:57, 24.55s/it]D:\\Dev\\jupyter\\projects\\Data Science\\venvs\\venv_yandex_nlp\\lib\\site-packages\\sklearn\\cluster\\_kmeans.py:1416: FutureWarning: The default value of `n_init` will change from 10 to 'auto' in 1.4. Set the value of `n_init` explicitly to suppress the warning\n",
      "  super()._check_params_vs_input(X, default_n_init=10)\n",
      " 30%|█████████████████████████▎                                                         | 7/23 [02:50<06:45, 25.36s/it]D:\\Dev\\jupyter\\projects\\Data Science\\venvs\\venv_yandex_nlp\\lib\\site-packages\\sklearn\\cluster\\_kmeans.py:1416: FutureWarning: The default value of `n_init` will change from 10 to 'auto' in 1.4. Set the value of `n_init` explicitly to suppress the warning\n",
      "  super()._check_params_vs_input(X, default_n_init=10)\n",
      " 35%|████████████████████████████▊                                                      | 8/23 [03:17<06:24, 25.62s/it]D:\\Dev\\jupyter\\projects\\Data Science\\venvs\\venv_yandex_nlp\\lib\\site-packages\\sklearn\\cluster\\_kmeans.py:1416: FutureWarning: The default value of `n_init` will change from 10 to 'auto' in 1.4. Set the value of `n_init` explicitly to suppress the warning\n",
      "  super()._check_params_vs_input(X, default_n_init=10)\n",
      " 39%|████████████████████████████████▍                                                  | 9/23 [03:44<06:04, 26.07s/it]D:\\Dev\\jupyter\\projects\\Data Science\\venvs\\venv_yandex_nlp\\lib\\site-packages\\sklearn\\cluster\\_kmeans.py:1416: FutureWarning: The default value of `n_init` will change from 10 to 'auto' in 1.4. Set the value of `n_init` explicitly to suppress the warning\n",
      "  super()._check_params_vs_input(X, default_n_init=10)\n",
      " 43%|███████████████████████████████████▋                                              | 10/23 [04:11<05:43, 26.45s/it]D:\\Dev\\jupyter\\projects\\Data Science\\venvs\\venv_yandex_nlp\\lib\\site-packages\\sklearn\\cluster\\_kmeans.py:1416: FutureWarning: The default value of `n_init` will change from 10 to 'auto' in 1.4. Set the value of `n_init` explicitly to suppress the warning\n",
      "  super()._check_params_vs_input(X, default_n_init=10)\n",
      " 48%|███████████████████████████████████████▏                                          | 11/23 [04:40<05:27, 27.33s/it]D:\\Dev\\jupyter\\projects\\Data Science\\venvs\\venv_yandex_nlp\\lib\\site-packages\\sklearn\\cluster\\_kmeans.py:1416: FutureWarning: The default value of `n_init` will change from 10 to 'auto' in 1.4. Set the value of `n_init` explicitly to suppress the warning\n",
      "  super()._check_params_vs_input(X, default_n_init=10)\n",
      " 52%|██████████████████████████████████████████▊                                       | 12/23 [05:11<05:12, 28.42s/it]D:\\Dev\\jupyter\\projects\\Data Science\\venvs\\venv_yandex_nlp\\lib\\site-packages\\sklearn\\cluster\\_kmeans.py:1416: FutureWarning: The default value of `n_init` will change from 10 to 'auto' in 1.4. Set the value of `n_init` explicitly to suppress the warning\n",
      "  super()._check_params_vs_input(X, default_n_init=10)\n",
      " 57%|██████████████████████████████████████████████▎                                   | 13/23 [05:42<04:51, 29.16s/it]D:\\Dev\\jupyter\\projects\\Data Science\\venvs\\venv_yandex_nlp\\lib\\site-packages\\sklearn\\cluster\\_kmeans.py:1416: FutureWarning: The default value of `n_init` will change from 10 to 'auto' in 1.4. Set the value of `n_init` explicitly to suppress the warning\n",
      "  super()._check_params_vs_input(X, default_n_init=10)\n",
      " 61%|█████████████████████████████████████████████████▉                                | 14/23 [06:13<04:27, 29.67s/it]D:\\Dev\\jupyter\\projects\\Data Science\\venvs\\venv_yandex_nlp\\lib\\site-packages\\sklearn\\cluster\\_kmeans.py:1416: FutureWarning: The default value of `n_init` will change from 10 to 'auto' in 1.4. Set the value of `n_init` explicitly to suppress the warning\n",
      "  super()._check_params_vs_input(X, default_n_init=10)\n",
      " 65%|█████████████████████████████████████████████████████▍                            | 15/23 [06:44<04:01, 30.18s/it]D:\\Dev\\jupyter\\projects\\Data Science\\venvs\\venv_yandex_nlp\\lib\\site-packages\\sklearn\\cluster\\_kmeans.py:1416: FutureWarning: The default value of `n_init` will change from 10 to 'auto' in 1.4. Set the value of `n_init` explicitly to suppress the warning\n",
      "  super()._check_params_vs_input(X, default_n_init=10)\n",
      " 70%|█████████████████████████████████████████████████████████                         | 16/23 [07:14<03:30, 30.02s/it]D:\\Dev\\jupyter\\projects\\Data Science\\venvs\\venv_yandex_nlp\\lib\\site-packages\\sklearn\\cluster\\_kmeans.py:1416: FutureWarning: The default value of `n_init` will change from 10 to 'auto' in 1.4. Set the value of `n_init` explicitly to suppress the warning\n",
      "  super()._check_params_vs_input(X, default_n_init=10)\n",
      " 74%|████████████████████████████████████████████████████████████▌                     | 17/23 [07:44<02:59, 29.90s/it]D:\\Dev\\jupyter\\projects\\Data Science\\venvs\\venv_yandex_nlp\\lib\\site-packages\\sklearn\\cluster\\_kmeans.py:1416: FutureWarning: The default value of `n_init` will change from 10 to 'auto' in 1.4. Set the value of `n_init` explicitly to suppress the warning\n",
      "  super()._check_params_vs_input(X, default_n_init=10)\n",
      " 78%|████████████████████████████████████████████████████████████████▏                 | 18/23 [08:16<02:32, 30.56s/it]D:\\Dev\\jupyter\\projects\\Data Science\\venvs\\venv_yandex_nlp\\lib\\site-packages\\sklearn\\cluster\\_kmeans.py:1416: FutureWarning: The default value of `n_init` will change from 10 to 'auto' in 1.4. Set the value of `n_init` explicitly to suppress the warning\n",
      "  super()._check_params_vs_input(X, default_n_init=10)\n",
      " 83%|███████████████████████████████████████████████████████████████████▋              | 19/23 [08:48<02:04, 31.06s/it]D:\\Dev\\jupyter\\projects\\Data Science\\venvs\\venv_yandex_nlp\\lib\\site-packages\\sklearn\\cluster\\_kmeans.py:1416: FutureWarning: The default value of `n_init` will change from 10 to 'auto' in 1.4. Set the value of `n_init` explicitly to suppress the warning\n",
      "  super()._check_params_vs_input(X, default_n_init=10)\n",
      " 87%|███████████████████████████████████████████████████████████████████████▎          | 20/23 [09:19<01:33, 31.07s/it]D:\\Dev\\jupyter\\projects\\Data Science\\venvs\\venv_yandex_nlp\\lib\\site-packages\\sklearn\\cluster\\_kmeans.py:1416: FutureWarning: The default value of `n_init` will change from 10 to 'auto' in 1.4. Set the value of `n_init` explicitly to suppress the warning\n",
      "  super()._check_params_vs_input(X, default_n_init=10)\n",
      " 91%|██████████████████████████████████████████████████████████████████████████▊       | 21/23 [09:53<01:04, 32.10s/it]D:\\Dev\\jupyter\\projects\\Data Science\\venvs\\venv_yandex_nlp\\lib\\site-packages\\sklearn\\cluster\\_kmeans.py:1416: FutureWarning: The default value of `n_init` will change from 10 to 'auto' in 1.4. Set the value of `n_init` explicitly to suppress the warning\n",
      "  super()._check_params_vs_input(X, default_n_init=10)\n",
      " 96%|██████████████████████████████████████████████████████████████████████████████▍   | 22/23 [10:28<00:32, 32.87s/it]D:\\Dev\\jupyter\\projects\\Data Science\\venvs\\venv_yandex_nlp\\lib\\site-packages\\sklearn\\cluster\\_kmeans.py:1416: FutureWarning: The default value of `n_init` will change from 10 to 'auto' in 1.4. Set the value of `n_init` explicitly to suppress the warning\n",
      "  super()._check_params_vs_input(X, default_n_init=10)\n",
      "100%|██████████████████████████████████████████████████████████████████████████████████| 23/23 [11:05<00:00, 28.92s/it]\n"
     ]
    }
   ],
   "source": [
    "n_clusters_list = range(2, 25)\n",
    "scores = []\n",
    "sulhouettes = []\n",
    "\n",
    "for n_clusters in tqdm(n_clusters_list):\n",
    "    kmeans = KMeans(n_clusters=n_clusters)\n",
    "    kmeans.fit(subset)\n",
    "    labels = kmeans.predict(subset)\n",
    "    scores.append(kmeans.inertia_)\n",
    "    sulhouettes.append(silhouette_score(subset, labels))"
   ]
  },
  {
   "cell_type": "code",
   "execution_count": 35,
   "id": "c62a9f7a-6ffc-4ab7-97fe-0d1d8d92b91f",
   "metadata": {},
   "outputs": [
    {
     "data": {
      "text/plain": [
       "[<matplotlib.lines.Line2D at 0x1dc33a9af10>]"
      ]
     },
     "execution_count": 35,
     "metadata": {},
     "output_type": "execute_result"
    },
    {
     "data": {
      "image/png": "[encoded data removed]",
      "text/plain": [
       "<Figure size 640x480 with 1 Axes>"
      ]
     },
     "metadata": {},
     "output_type": "display_data"
    }
   ],
   "source": [
    "plt.plot(n_clusters_list, scores)"
   ]
  },
  {
   "cell_type": "code",
   "execution_count": 36,
   "id": "c3e8a3d3-4ffb-4d9f-a118-1fe07494a9ef",
   "metadata": {},
   "outputs": [
    {
     "data": {
      "text/plain": [
       "[<matplotlib.lines.Line2D at 0x1dc325509a0>]"
      ]
     },
     "execution_count": 36,
     "metadata": {},
     "output_type": "execute_result"
    },
    {
     "data": {
      "image/png": "[encoded data removed]",
      "text/plain": [
       "<Figure size 640x480 with 1 Axes>"
      ]
     },
     "metadata": {},
     "output_type": "display_data"
    }
   ],
   "source": [
    "plt.plot(n_clusters_list, sulhouettes)"
   ]
  },
  {
   "cell_type": "code",
   "execution_count": 72,
   "id": "e3a54899-479d-4102-8c05-99accc7e78b5",
   "metadata": {},
   "outputs": [
    {
     "name": "stderr",
     "output_type": "stream",
     "text": [
      "D:\\Dev\\jupyter\\projects\\Data Science\\venvs\\venv_yandex_nlp\\lib\\site-packages\\sklearn\\cluster\\_kmeans.py:1416: FutureWarning: The default value of `n_init` will change from 10 to 'auto' in 1.4. Set the value of `n_init` explicitly to suppress the warning\n",
      "  super()._check_params_vs_input(X, default_n_init=10)\n"
     ]
    },
    {
     "data": {
      "text/html": [
       "<style>#sk-container-id-2 {color: black;}#sk-container-id-2 pre{padding: 0;}#sk-container-id-2 div.sk-toggleable {background-color: white;}#sk-container-id-2 label.sk-toggleable__label {cursor: pointer;display: block;width: 100%;margin-bottom: 0;padding: 0.3em;box-sizing: border-box;text-align: center;}#sk-container-id-2 label.sk-toggleable__label-arrow:before {content: \"▸\";float: left;margin-right: 0.25em;color: #696969;}#sk-container-id-2 label.sk-toggleable__label-arrow:hover:before {color: black;}#sk-container-id-2 div.sk-estimator:hover label.sk-toggleable__label-arrow:before {color: black;}#sk-container-id-2 div.sk-toggleable__content {max-height: 0;max-width: 0;overflow: hidden;text-align: left;background-color: #f0f8ff;}#sk-container-id-2 div.sk-toggleable__content pre {margin: 0.2em;color: black;border-radius: 0.25em;background-color: #f0f8ff;}#sk-container-id-2 input.sk-toggleable__control:checked~div.sk-toggleable__content {max-height: 200px;max-width: 100%;overflow: auto;}#sk-container-id-2 input.sk-toggleable__control:checked~label.sk-toggleable__label-arrow:before {content: \"▾\";}#sk-container-id-2 div.sk-estimator input.sk-toggleable__control:checked~label.sk-toggleable__label {background-color: #d4ebff;}#sk-container-id-2 div.sk-label input.sk-toggleable__control:checked~label.sk-toggleable__label {background-color: #d4ebff;}#sk-container-id-2 input.sk-hidden--visually {border: 0;clip: rect(1px 1px 1px 1px);clip: rect(1px, 1px, 1px, 1px);height: 1px;margin: -1px;overflow: hidden;padding: 0;position: absolute;width: 1px;}#sk-container-id-2 div.sk-estimator {font-family: monospace;background-color: #f0f8ff;border: 1px dotted black;border-radius: 0.25em;box-sizing: border-box;margin-bottom: 0.5em;}#sk-container-id-2 div.sk-estimator:hover {background-color: #d4ebff;}#sk-container-id-2 div.sk-parallel-item::after {content: \"\";width: 100%;border-bottom: 1px solid gray;flex-grow: 1;}#sk-container-id-2 div.sk-label:hover label.sk-toggleable__label {background-color: #d4ebff;}#sk-container-id-2 div.sk-serial::before {content: \"\";position: absolute;border-left: 1px solid gray;box-sizing: border-box;top: 0;bottom: 0;left: 50%;z-index: 0;}#sk-container-id-2 div.sk-serial {display: flex;flex-direction: column;align-items: center;background-color: white;padding-right: 0.2em;padding-left: 0.2em;position: relative;}#sk-container-id-2 div.sk-item {position: relative;z-index: 1;}#sk-container-id-2 div.sk-parallel {display: flex;align-items: stretch;justify-content: center;background-color: white;position: relative;}#sk-container-id-2 div.sk-item::before, #sk-container-id-2 div.sk-parallel-item::before {content: \"\";position: absolute;border-left: 1px solid gray;box-sizing: border-box;top: 0;bottom: 0;left: 50%;z-index: -1;}#sk-container-id-2 div.sk-parallel-item {display: flex;flex-direction: column;z-index: 1;position: relative;background-color: white;}#sk-container-id-2 div.sk-parallel-item:first-child::after {align-self: flex-end;width: 50%;}#sk-container-id-2 div.sk-parallel-item:last-child::after {align-self: flex-start;width: 50%;}#sk-container-id-2 div.sk-parallel-item:only-child::after {width: 0;}#sk-container-id-2 div.sk-dashed-wrapped {border: 1px dashed gray;margin: 0 0.4em 0.5em 0.4em;box-sizing: border-box;padding-bottom: 0.4em;background-color: white;}#sk-container-id-2 div.sk-label label {font-family: monospace;font-weight: bold;display: inline-block;line-height: 1.2em;}#sk-container-id-2 div.sk-label-container {text-align: center;}#sk-container-id-2 div.sk-container {/* jupyter's `normalize.less` sets `[hidden] { display: none; }` but bootstrap.min.css set `[hidden] { display: none !important; }` so we also need the `!important` here to be able to override the default hidden behavior on the sphinx rendered scikit-learn.org. See: https://github.com/scikit-learn/scikit-learn/issues/21755 */display: inline-block !important;position: relative;}#sk-container-id-2 div.sk-text-repr-fallback {display: none;}</style><div id=\"sk-container-id-2\" class=\"sk-top-container\"><div class=\"sk-text-repr-fallback\"><pre>KMeans(n_clusters=14)</pre><b>In a Jupyter environment, please rerun this cell to show the HTML representation or trust the notebook. <br />On GitHub, the HTML representation is unable to render, please try loading this page with nbviewer.org.</b></div><div class=\"sk-container\" hidden><div class=\"sk-item\"><div class=\"sk-estimator sk-toggleable\"><input class=\"sk-toggleable__control sk-hidden--visually\" id=\"sk-estimator-id-2\" type=\"checkbox\" checked><label for=\"sk-estimator-id-2\" class=\"sk-toggleable__label sk-toggleable__label-arrow\">KMeans</label><div class=\"sk-toggleable__content\"><pre>KMeans(n_clusters=14)</pre></div></div></div></div></div>"
      ],
      "text/plain": [
       "KMeans(n_clusters=14)"
      ]
     },
     "execution_count": 72,
     "metadata": {},
     "output_type": "execute_result"
    }
   ],
   "source": [
    "kmeans = KMeans(n_clusters=14)\n",
    "kmeans.fit(tfidf_corpus)"
   ]
  },
  {
   "cell_type": "code",
   "execution_count": 73,
   "id": "4d19929f-4e65-4edd-a0bf-f5d46345e815",
   "metadata": {},
   "outputs": [],
   "source": [
    "labels = kmeans.predict(tfidf_corpus)"
   ]
  },
  {
   "cell_type": "code",
   "execution_count": 74,
   "id": "9b9b5db4-f37c-4a92-97ce-a1cc48557ebf",
   "metadata": {},
   "outputs": [
    {
     "name": "stderr",
     "output_type": "stream",
     "text": [
      "159571it [00:01, 92992.69it/s]"
     ]
    },
    {
     "name": "stdout",
     "output_type": "stream",
     "text": [
      "Cluster 0\n",
      "[('pleas', 1515), ('test', 1390), ('wikipedia', 1234), ('sandbox', 1169), ('use', 1133)]\n",
      "Cluster 1\n",
      "[('=', 17060), ('|', 8179), (':', 5979), (';', 3683), ('•', 2694)]\n",
      "Cluster 2\n",
      "[('thank', 7172), ('!', 1836), (')', 1135), ('page', 904), ('talk', 852)]\n",
      "Cluster 3\n",
      "[('...', 9693), ('?', 2002), (')', 1775), ('(', 1661), ('!', 1469)]\n",
      "Cluster 4\n",
      "[('imag', 10464), ('use', 5541), (':', 4553), ('copyright', 3266), ('page', 2892)]\n",
      "Cluster 5\n",
      "[(')', 42807), ('(', 41466), (':', 8723), ('talk', 7032), ('?', 6867)]\n",
      "Cluster 6\n",
      "[('?', 13026), (')', 12708), ('(', 12380), ('-', 12158), (':', 11892)]\n",
      "Cluster 7\n",
      "[('?', 27918), ('whi', 4377), ('articl', 2385), ('page', 2134), (')', 2095)]\n",
      "Cluster 8\n",
      "[('articl', 41116), ('sourc', 12616), (')', 12553), ('(', 12209), ('wikipedia', 10814)]\n",
      "Cluster 9\n",
      "[('!', 36407), ('fuck', 5133), ('?', 2869), ('wikipedia', 1832), ('go', 1789)]\n",
      "Cluster 10\n",
      "[('edit', 4717), ('block', 4091), ('vandal', 2568), ('pleas', 2411), ('continu', 2036)]\n",
      "Cluster 11\n",
      "[(':', 17543), ('page', 17165), ('talk', 12779), ('user', 8016), ('edit', 6870)]\n",
      "Cluster 12\n",
      "[('page', 5102), ('wikipedia', 4026), ('!', 3520), ('~', 3109), ('help', 2739)]\n",
      "Cluster 13\n",
      "[('delet', 8291), ('articl', 5820), ('speedi', 3505), ('tag', 2986), ('page', 2950)]\n"
     ]
    },
    {
     "name": "stderr",
     "output_type": "stream",
     "text": [
      "\n"
     ]
    }
   ],
   "source": [
    "counters = [Counter() for _ in range(14)]\n",
    "\n",
    "for i, text in tqdm(enumerate(preprocessed_corpus)):\n",
    "    label = labels[i]\n",
    "    for word in text:\n",
    "        counters[label][word] += 1\n",
    "\n",
    "for i, counter in enumerate(counters):\n",
    "    print(f\"Cluster {i}\")\n",
    "    print(counter.most_common(5))"
   ]
  },
  {
   "cell_type": "markdown",
   "id": "aab85c9f-705a-46a2-9ec5-09b58e0f5151",
   "metadata": {},
   "source": [
    "# Word2vec"
   ]
  },
  {
   "cell_type": "code",
   "execution_count": 75,
   "id": "b7626bbd-a68d-45f1-b23a-abf26dbffb34",
   "metadata": {},
   "outputs": [
    {
     "name": "stdout",
     "output_type": "stream",
     "text": [
      "CPU times: total: 3min 27s\n",
      "Wall time: 1min 11s\n"
     ]
    },
    {
     "data": {
      "text/plain": [
       "(27968431, 31647825)"
      ]
     },
     "execution_count": 75,
     "metadata": {},
     "output_type": "execute_result"
    }
   ],
   "source": [
    "%%time\n",
    "w2v = Word2Vec(preprocessed_corpus, min_count=min_count, vector_size=100, epochs=5, window=7, negative=20)\n",
    "w2v.build_vocab(preprocessed_corpus)\n",
    "\n",
    "w2v.train(preprocessed_corpus, total_examples=w2v.corpus_count, epochs=w2v.epochs)"
   ]
  },
  {
   "cell_type": "code",
   "execution_count": 86,
   "id": "9a4d9897-306e-45e0-a91b-1136a666c1fb",
   "metadata": {},
   "outputs": [
    {
     "data": {
      "text/plain": [
       "[('editor', 0.6294787526130676),\n",
       " ('admin', 0.5670689940452576),\n",
       " ('sockpuppet', 0.552596926689148),\n",
       " ('anon', 0.5353742241859436),\n",
       " ('userpag', 0.5353530645370483),\n",
       " ('account', 0.4989020526409149),\n",
       " ('administr', 0.4910821318626404),\n",
       " ('harass', 0.4860386550426483),\n",
       " ('wikipedia', 0.47863471508026123),\n",
       " ('ip', 0.4766395390033722)]"
      ]
     },
     "execution_count": 86,
     "metadata": {},
     "output_type": "execute_result"
    }
   ],
   "source": [
    "w2v_vectors = w2v.wv\n",
    "w2v_vectors.most_similar('user')"
   ]
  },
  {
   "cell_type": "code",
   "execution_count": 87,
   "id": "eb126355-269c-4843-ad33-402e6516832f",
   "metadata": {},
   "outputs": [
    {
     "name": "stderr",
     "output_type": "stream",
     "text": [
      "100%|███████████████████████████████████████████████████████████████████████| 159571/159571 [00:12<00:00, 12729.60it/s]\n"
     ]
    }
   ],
   "source": [
    "vectorized_texts = []\n",
    "\n",
    "for text in tqdm(preprocessed_corpus):\n",
    "    text_vectors = np.zeros((100))\n",
    "    n_words = len(text)\n",
    "    for word in text:\n",
    "        try:\n",
    "            text_vectors += w2v_vectors[word]\n",
    "        except KeyError:\n",
    "            pass\n",
    "\n",
    "    vectorized_texts.append(text_vectors/(n_words+1))\n",
    "vectorized_texts = np.array(vectorized_texts)"
   ]
  },
  {
   "cell_type": "code",
   "execution_count": 88,
   "id": "b3006959-a149-43ff-b41e-224e22a057f2",
   "metadata": {},
   "outputs": [
    {
     "data": {
      "text/plain": [
       "(159571, 100)"
      ]
     },
     "execution_count": 88,
     "metadata": {},
     "output_type": "execute_result"
    }
   ],
   "source": [
    "vectorized_texts.shape"
   ]
  },
  {
   "cell_type": "code",
   "execution_count": 89,
   "id": "af5d5317-27de-4477-a0a0-53df0080b5f5",
   "metadata": {},
   "outputs": [],
   "source": [
    "# normalize rows\n",
    "vectorized_texts = vectorized_texts / (np.linalg.norm(vectorized_texts, axis=1, keepdims=True) + 1e-6)"
   ]
  },
  {
   "cell_type": "code",
   "execution_count": 90,
   "id": "d2b282c3-3627-475e-96e7-5dbfcc9c4208",
   "metadata": {},
   "outputs": [],
   "source": [
    "subset = np.random.choice(vectorized_texts.shape[0], replace=False, size=int(vectorized_texts.shape[0]*0.1))\n",
    "subset = vectorized_texts[subset]"
   ]
  },
  {
   "cell_type": "code",
   "execution_count": 91,
   "id": "1c83a3b2-ae87-4ae4-a482-cecabdc74b2f",
   "metadata": {},
   "outputs": [
    {
     "name": "stderr",
     "output_type": "stream",
     "text": [
      "  0%|                                                                                           | 0/23 [00:00<?, ?it/s]D:\\Dev\\jupyter\\projects\\Data Science\\venvs\\venv_yandex_nlp\\lib\\site-packages\\sklearn\\cluster\\_kmeans.py:1416: FutureWarning: The default value of `n_init` will change from 10 to 'auto' in 1.4. Set the value of `n_init` explicitly to suppress the warning\n",
      "  super()._check_params_vs_input(X, default_n_init=10)\n",
      "  4%|███▌                                                                               | 1/23 [00:02<00:59,  2.69s/it]D:\\Dev\\jupyter\\projects\\Data Science\\venvs\\venv_yandex_nlp\\lib\\site-packages\\sklearn\\cluster\\_kmeans.py:1416: FutureWarning: The default value of `n_init` will change from 10 to 'auto' in 1.4. Set the value of `n_init` explicitly to suppress the warning\n",
      "  super()._check_params_vs_input(X, default_n_init=10)\n",
      "  9%|███████▏                                                                           | 2/23 [00:05<00:56,  2.67s/it]D:\\Dev\\jupyter\\projects\\Data Science\\venvs\\venv_yandex_nlp\\lib\\site-packages\\sklearn\\cluster\\_kmeans.py:1416: FutureWarning: The default value of `n_init` will change from 10 to 'auto' in 1.4. Set the value of `n_init` explicitly to suppress the warning\n",
      "  super()._check_params_vs_input(X, default_n_init=10)\n",
      " 13%|██████████▊                                                                        | 3/23 [00:07<00:53,  2.66s/it]D:\\Dev\\jupyter\\projects\\Data Science\\venvs\\venv_yandex_nlp\\lib\\site-packages\\sklearn\\cluster\\_kmeans.py:1416: FutureWarning: The default value of `n_init` will change from 10 to 'auto' in 1.4. Set the value of `n_init` explicitly to suppress the warning\n",
      "  super()._check_params_vs_input(X, default_n_init=10)\n",
      " 17%|██████████████▍                                                                    | 4/23 [00:10<00:50,  2.63s/it]D:\\Dev\\jupyter\\projects\\Data Science\\venvs\\venv_yandex_nlp\\lib\\site-packages\\sklearn\\cluster\\_kmeans.py:1416: FutureWarning: The default value of `n_init` will change from 10 to 'auto' in 1.4. Set the value of `n_init` explicitly to suppress the warning\n",
      "  super()._check_params_vs_input(X, default_n_init=10)\n",
      " 22%|██████████████████                                                                 | 5/23 [00:13<00:47,  2.64s/it]D:\\Dev\\jupyter\\projects\\Data Science\\venvs\\venv_yandex_nlp\\lib\\site-packages\\sklearn\\cluster\\_kmeans.py:1416: FutureWarning: The default value of `n_init` will change from 10 to 'auto' in 1.4. Set the value of `n_init` explicitly to suppress the warning\n",
      "  super()._check_params_vs_input(X, default_n_init=10)\n",
      " 26%|█████████████████████▋                                                             | 6/23 [00:15<00:45,  2.66s/it]D:\\Dev\\jupyter\\projects\\Data Science\\venvs\\venv_yandex_nlp\\lib\\site-packages\\sklearn\\cluster\\_kmeans.py:1416: FutureWarning: The default value of `n_init` will change from 10 to 'auto' in 1.4. Set the value of `n_init` explicitly to suppress the warning\n",
      "  super()._check_params_vs_input(X, default_n_init=10)\n",
      " 30%|█████████████████████████▎                                                         | 7/23 [00:18<00:42,  2.65s/it]D:\\Dev\\jupyter\\projects\\Data Science\\venvs\\venv_yandex_nlp\\lib\\site-packages\\sklearn\\cluster\\_kmeans.py:1416: FutureWarning: The default value of `n_init` will change from 10 to 'auto' in 1.4. Set the value of `n_init` explicitly to suppress the warning\n",
      "  super()._check_params_vs_input(X, default_n_init=10)\n",
      " 35%|████████████████████████████▊                                                      | 8/23 [00:21<00:40,  2.68s/it]D:\\Dev\\jupyter\\projects\\Data Science\\venvs\\venv_yandex_nlp\\lib\\site-packages\\sklearn\\cluster\\_kmeans.py:1416: FutureWarning: The default value of `n_init` will change from 10 to 'auto' in 1.4. Set the value of `n_init` explicitly to suppress the warning\n",
      "  super()._check_params_vs_input(X, default_n_init=10)\n",
      " 39%|████████████████████████████████▍                                                  | 9/23 [00:24<00:38,  2.72s/it]D:\\Dev\\jupyter\\projects\\Data Science\\venvs\\venv_yandex_nlp\\lib\\site-packages\\sklearn\\cluster\\_kmeans.py:1416: FutureWarning: The default value of `n_init` will change from 10 to 'auto' in 1.4. Set the value of `n_init` explicitly to suppress the warning\n",
      "  super()._check_params_vs_input(X, default_n_init=10)\n",
      " 43%|███████████████████████████████████▋                                              | 10/23 [00:27<00:36,  2.81s/it]D:\\Dev\\jupyter\\projects\\Data Science\\venvs\\venv_yandex_nlp\\lib\\site-packages\\sklearn\\cluster\\_kmeans.py:1416: FutureWarning: The default value of `n_init` will change from 10 to 'auto' in 1.4. Set the value of `n_init` explicitly to suppress the warning\n",
      "  super()._check_params_vs_input(X, default_n_init=10)\n",
      " 48%|███████████████████████████████████████▏                                          | 11/23 [00:30<00:34,  2.88s/it]D:\\Dev\\jupyter\\projects\\Data Science\\venvs\\venv_yandex_nlp\\lib\\site-packages\\sklearn\\cluster\\_kmeans.py:1416: FutureWarning: The default value of `n_init` will change from 10 to 'auto' in 1.4. Set the value of `n_init` explicitly to suppress the warning\n",
      "  super()._check_params_vs_input(X, default_n_init=10)\n",
      " 52%|██████████████████████████████████████████▊                                       | 12/23 [00:33<00:32,  2.93s/it]D:\\Dev\\jupyter\\projects\\Data Science\\venvs\\venv_yandex_nlp\\lib\\site-packages\\sklearn\\cluster\\_kmeans.py:1416: FutureWarning: The default value of `n_init` will change from 10 to 'auto' in 1.4. Set the value of `n_init` explicitly to suppress the warning\n",
      "  super()._check_params_vs_input(X, default_n_init=10)\n",
      " 57%|██████████████████████████████████████████████▎                                   | 13/23 [00:36<00:29,  2.96s/it]D:\\Dev\\jupyter\\projects\\Data Science\\venvs\\venv_yandex_nlp\\lib\\site-packages\\sklearn\\cluster\\_kmeans.py:1416: FutureWarning: The default value of `n_init` will change from 10 to 'auto' in 1.4. Set the value of `n_init` explicitly to suppress the warning\n",
      "  super()._check_params_vs_input(X, default_n_init=10)\n",
      " 61%|█████████████████████████████████████████████████▉                                | 14/23 [00:39<00:27,  3.01s/it]D:\\Dev\\jupyter\\projects\\Data Science\\venvs\\venv_yandex_nlp\\lib\\site-packages\\sklearn\\cluster\\_kmeans.py:1416: FutureWarning: The default value of `n_init` will change from 10 to 'auto' in 1.4. Set the value of `n_init` explicitly to suppress the warning\n",
      "  super()._check_params_vs_input(X, default_n_init=10)\n",
      " 65%|█████████████████████████████████████████████████████▍                            | 15/23 [00:42<00:23,  3.00s/it]D:\\Dev\\jupyter\\projects\\Data Science\\venvs\\venv_yandex_nlp\\lib\\site-packages\\sklearn\\cluster\\_kmeans.py:1416: FutureWarning: The default value of `n_init` will change from 10 to 'auto' in 1.4. Set the value of `n_init` explicitly to suppress the warning\n",
      "  super()._check_params_vs_input(X, default_n_init=10)\n",
      " 70%|█████████████████████████████████████████████████████████                         | 16/23 [00:45<00:21,  3.03s/it]D:\\Dev\\jupyter\\projects\\Data Science\\venvs\\venv_yandex_nlp\\lib\\site-packages\\sklearn\\cluster\\_kmeans.py:1416: FutureWarning: The default value of `n_init` will change from 10 to 'auto' in 1.4. Set the value of `n_init` explicitly to suppress the warning\n",
      "  super()._check_params_vs_input(X, default_n_init=10)\n",
      " 74%|████████████████████████████████████████████████████████████▌                     | 17/23 [00:48<00:18,  3.13s/it]D:\\Dev\\jupyter\\projects\\Data Science\\venvs\\venv_yandex_nlp\\lib\\site-packages\\sklearn\\cluster\\_kmeans.py:1416: FutureWarning: The default value of `n_init` will change from 10 to 'auto' in 1.4. Set the value of `n_init` explicitly to suppress the warning\n",
      "  super()._check_params_vs_input(X, default_n_init=10)\n",
      " 78%|████████████████████████████████████████████████████████████████▏                 | 18/23 [00:52<00:15,  3.18s/it]D:\\Dev\\jupyter\\projects\\Data Science\\venvs\\venv_yandex_nlp\\lib\\site-packages\\sklearn\\cluster\\_kmeans.py:1416: FutureWarning: The default value of `n_init` will change from 10 to 'auto' in 1.4. Set the value of `n_init` explicitly to suppress the warning\n",
      "  super()._check_params_vs_input(X, default_n_init=10)\n",
      " 83%|███████████████████████████████████████████████████████████████████▋              | 19/23 [00:55<00:12,  3.25s/it]D:\\Dev\\jupyter\\projects\\Data Science\\venvs\\venv_yandex_nlp\\lib\\site-packages\\sklearn\\cluster\\_kmeans.py:1416: FutureWarning: The default value of `n_init` will change from 10 to 'auto' in 1.4. Set the value of `n_init` explicitly to suppress the warning\n",
      "  super()._check_params_vs_input(X, default_n_init=10)\n",
      " 87%|███████████████████████████████████████████████████████████████████████▎          | 20/23 [00:58<00:09,  3.24s/it]D:\\Dev\\jupyter\\projects\\Data Science\\venvs\\venv_yandex_nlp\\lib\\site-packages\\sklearn\\cluster\\_kmeans.py:1416: FutureWarning: The default value of `n_init` will change from 10 to 'auto' in 1.4. Set the value of `n_init` explicitly to suppress the warning\n",
      "  super()._check_params_vs_input(X, default_n_init=10)\n",
      " 91%|██████████████████████████████████████████████████████████████████████████▊       | 21/23 [01:02<00:06,  3.27s/it]D:\\Dev\\jupyter\\projects\\Data Science\\venvs\\venv_yandex_nlp\\lib\\site-packages\\sklearn\\cluster\\_kmeans.py:1416: FutureWarning: The default value of `n_init` will change from 10 to 'auto' in 1.4. Set the value of `n_init` explicitly to suppress the warning\n",
      "  super()._check_params_vs_input(X, default_n_init=10)\n",
      " 96%|██████████████████████████████████████████████████████████████████████████████▍   | 22/23 [01:05<00:03,  3.26s/it]D:\\Dev\\jupyter\\projects\\Data Science\\venvs\\venv_yandex_nlp\\lib\\site-packages\\sklearn\\cluster\\_kmeans.py:1416: FutureWarning: The default value of `n_init` will change from 10 to 'auto' in 1.4. Set the value of `n_init` explicitly to suppress the warning\n",
      "  super()._check_params_vs_input(X, default_n_init=10)\n",
      "100%|██████████████████████████████████████████████████████████████████████████████████| 23/23 [01:08<00:00,  2.99s/it]\n"
     ]
    }
   ],
   "source": [
    "n_clusters_list = range(2, 25)\n",
    "scores = []\n",
    "sulhouettes = []\n",
    "\n",
    "for n_clusters in tqdm(n_clusters_list):\n",
    "    kmeans = KMeans(n_clusters=n_clusters)\n",
    "    kmeans.fit(subset)\n",
    "    labels = kmeans.predict(subset)\n",
    "    scores.append(kmeans.inertia_)\n",
    "    sulhouettes.append(silhouette_score(subset, labels))"
   ]
  },
  {
   "cell_type": "code",
   "execution_count": 94,
   "id": "f08c2d92-78a7-4e12-9f25-8cd688732f0f",
   "metadata": {},
   "outputs": [
    {
     "data": {
      "text/plain": [
       "[<matplotlib.lines.Line2D at 0x1dc8469e220>]"
      ]
     },
     "execution_count": 94,
     "metadata": {},
     "output_type": "execute_result"
    },
    {
     "data": {
      "image/png": "[encoded data removed]",
      "text/plain": [
       "<Figure size 640x480 with 1 Axes>"
      ]
     },
     "metadata": {},
     "output_type": "display_data"
    }
   ],
   "source": [
    "plt.plot(n_clusters_list, scores)"
   ]
  },
  {
   "cell_type": "code",
   "execution_count": 95,
   "id": "4145ac22-7a8e-4661-92d0-b4e8d5e08801",
   "metadata": {},
   "outputs": [
    {
     "data": {
      "text/plain": [
       "[<matplotlib.lines.Line2D at 0x1dc845fe340>]"
      ]
     },
     "execution_count": 95,
     "metadata": {},
     "output_type": "execute_result"
    },
    {
     "data": {
      "image/png": "[encoded data removed]",
      "text/plain": [
       "<Figure size 640x480 with 1 Axes>"
      ]
     },
     "metadata": {},
     "output_type": "display_data"
    }
   ],
   "source": [
    "plt.plot(n_clusters_list, sulhouettes)"
   ]
  },
  {
   "cell_type": "code",
   "execution_count": 96,
   "id": "9c1bc532-f2da-47fe-936b-529d0c477a76",
   "metadata": {},
   "outputs": [
    {
     "name": "stderr",
     "output_type": "stream",
     "text": [
      "D:\\Dev\\jupyter\\projects\\Data Science\\venvs\\venv_yandex_nlp\\lib\\site-packages\\sklearn\\cluster\\_kmeans.py:1416: FutureWarning: The default value of `n_init` will change from 10 to 'auto' in 1.4. Set the value of `n_init` explicitly to suppress the warning\n",
      "  super()._check_params_vs_input(X, default_n_init=10)\n"
     ]
    },
    {
     "data": {
      "text/html": [
       "<style>#sk-container-id-3 {color: black;}#sk-container-id-3 pre{padding: 0;}#sk-container-id-3 div.sk-toggleable {background-color: white;}#sk-container-id-3 label.sk-toggleable__label {cursor: pointer;display: block;width: 100%;margin-bottom: 0;padding: 0.3em;box-sizing: border-box;text-align: center;}#sk-container-id-3 label.sk-toggleable__label-arrow:before {content: \"▸\";float: left;margin-right: 0.25em;color: #696969;}#sk-container-id-3 label.sk-toggleable__label-arrow:hover:before {color: black;}#sk-container-id-3 div.sk-estimator:hover label.sk-toggleable__label-arrow:before {color: black;}#sk-container-id-3 div.sk-toggleable__content {max-height: 0;max-width: 0;overflow: hidden;text-align: left;background-color: #f0f8ff;}#sk-container-id-3 div.sk-toggleable__content pre {margin: 0.2em;color: black;border-radius: 0.25em;background-color: #f0f8ff;}#sk-container-id-3 input.sk-toggleable__control:checked~div.sk-toggleable__content {max-height: 200px;max-width: 100%;overflow: auto;}#sk-container-id-3 input.sk-toggleable__control:checked~label.sk-toggleable__label-arrow:before {content: \"▾\";}#sk-container-id-3 div.sk-estimator input.sk-toggleable__control:checked~label.sk-toggleable__label {background-color: #d4ebff;}#sk-container-id-3 div.sk-label input.sk-toggleable__control:checked~label.sk-toggleable__label {background-color: #d4ebff;}#sk-container-id-3 input.sk-hidden--visually {border: 0;clip: rect(1px 1px 1px 1px);clip: rect(1px, 1px, 1px, 1px);height: 1px;margin: -1px;overflow: hidden;padding: 0;position: absolute;width: 1px;}#sk-container-id-3 div.sk-estimator {font-family: monospace;background-color: #f0f8ff;border: 1px dotted black;border-radius: 0.25em;box-sizing: border-box;margin-bottom: 0.5em;}#sk-container-id-3 div.sk-estimator:hover {background-color: #d4ebff;}#sk-container-id-3 div.sk-parallel-item::after {content: \"\";width: 100%;border-bottom: 1px solid gray;flex-grow: 1;}#sk-container-id-3 div.sk-label:hover label.sk-toggleable__label {background-color: #d4ebff;}#sk-container-id-3 div.sk-serial::before {content: \"\";position: absolute;border-left: 1px solid gray;box-sizing: border-box;top: 0;bottom: 0;left: 50%;z-index: 0;}#sk-container-id-3 div.sk-serial {display: flex;flex-direction: column;align-items: center;background-color: white;padding-right: 0.2em;padding-left: 0.2em;position: relative;}#sk-container-id-3 div.sk-item {position: relative;z-index: 1;}#sk-container-id-3 div.sk-parallel {display: flex;align-items: stretch;justify-content: center;background-color: white;position: relative;}#sk-container-id-3 div.sk-item::before, #sk-container-id-3 div.sk-parallel-item::before {content: \"\";position: absolute;border-left: 1px solid gray;box-sizing: border-box;top: 0;bottom: 0;left: 50%;z-index: -1;}#sk-container-id-3 div.sk-parallel-item {display: flex;flex-direction: column;z-index: 1;position: relative;background-color: white;}#sk-container-id-3 div.sk-parallel-item:first-child::after {align-self: flex-end;width: 50%;}#sk-container-id-3 div.sk-parallel-item:last-child::after {align-self: flex-start;width: 50%;}#sk-container-id-3 div.sk-parallel-item:only-child::after {width: 0;}#sk-container-id-3 div.sk-dashed-wrapped {border: 1px dashed gray;margin: 0 0.4em 0.5em 0.4em;box-sizing: border-box;padding-bottom: 0.4em;background-color: white;}#sk-container-id-3 div.sk-label label {font-family: monospace;font-weight: bold;display: inline-block;line-height: 1.2em;}#sk-container-id-3 div.sk-label-container {text-align: center;}#sk-container-id-3 div.sk-container {/* jupyter's `normalize.less` sets `[hidden] { display: none; }` but bootstrap.min.css set `[hidden] { display: none !important; }` so we also need the `!important` here to be able to override the default hidden behavior on the sphinx rendered scikit-learn.org. See: https://github.com/scikit-learn/scikit-learn/issues/21755 */display: inline-block !important;position: relative;}#sk-container-id-3 div.sk-text-repr-fallback {display: none;}</style><div id=\"sk-container-id-3\" class=\"sk-top-container\"><div class=\"sk-text-repr-fallback\"><pre>KMeans(n_clusters=4)</pre><b>In a Jupyter environment, please rerun this cell to show the HTML representation or trust the notebook. <br />On GitHub, the HTML representation is unable to render, please try loading this page with nbviewer.org.</b></div><div class=\"sk-container\" hidden><div class=\"sk-item\"><div class=\"sk-estimator sk-toggleable\"><input class=\"sk-toggleable__control sk-hidden--visually\" id=\"sk-estimator-id-3\" type=\"checkbox\" checked><label for=\"sk-estimator-id-3\" class=\"sk-toggleable__label sk-toggleable__label-arrow\">KMeans</label><div class=\"sk-toggleable__content\"><pre>KMeans(n_clusters=4)</pre></div></div></div></div></div>"
      ],
      "text/plain": [
       "KMeans(n_clusters=4)"
      ]
     },
     "execution_count": 96,
     "metadata": {},
     "output_type": "execute_result"
    }
   ],
   "source": [
    "kmeans = KMeans(n_clusters=4)\n",
    "kmeans.fit(vectorized_texts)"
   ]
  },
  {
   "cell_type": "code",
   "execution_count": 97,
   "id": "5819f20c-e1b5-48d9-94ee-e327877e6440",
   "metadata": {},
   "outputs": [],
   "source": [
    "labels = kmeans.predict(vectorized_texts)"
   ]
  },
  {
   "cell_type": "code",
   "execution_count": 98,
   "id": "abc42ad9-9eb1-40ea-bf77-cfa472810681",
   "metadata": {},
   "outputs": [
    {
     "name": "stderr",
     "output_type": "stream",
     "text": [
      "159571it [00:01, 96702.80it/s]"
     ]
    },
    {
     "name": "stdout",
     "output_type": "stream",
     "text": [
      "Cluster 0\n",
      "[(')', 19377), ('(', 19216), (':', 11531), ('=', 9863), ('|', 8192)]\n",
      "Cluster 1\n",
      "[('!', 39751), ('?', 15639), ('fuck', 12259), ('...', 5716), ('like', 5566)]\n",
      "Cluster 2\n",
      "[('page', 38348), (':', 30625), ('articl', 29387), ('edit', 27252), ('wikipedia', 26565)]\n",
      "Cluster 3\n",
      "[(')', 41719), ('articl', 40696), ('(', 40533), ('?', 34944), (':', 22639)]\n"
     ]
    },
    {
     "name": "stderr",
     "output_type": "stream",
     "text": [
      "\n"
     ]
    }
   ],
   "source": [
    "counters = [Counter() for _ in range(4)]\n",
    "\n",
    "for i, text in tqdm(enumerate(preprocessed_corpus)):\n",
    "    label = labels[i]\n",
    "    for word in text:\n",
    "        counters[label][word] += 1\n",
    "\n",
    "for i, counter in enumerate(counters):\n",
    "    print(f\"Cluster {i}\")\n",
    "    print(counter.most_common(5))"
   ]
  },
  {
   "cell_type": "code",
   "execution_count": null,
   "id": "6c2f1375-9ff1-469d-a3af-ee579e297569",
   "metadata": {},
   "outputs": [],
   "source": []
  }
 ],
 "metadata": {
  "kernelspec": {
   "display_name": "yandex_nlp",
   "language": "python",
   "name": "yandex_nlp"
  },
  "language_info": {
   "codemirror_mode": {
    "name": "ipython",
    "version": 3
   },
   "file_extension": ".py",
   "mimetype": "text/x-python",
   "name": "python",
   "nbconvert_exporter": "python",
   "pygments_lexer": "ipython3",
   "version": "3.9.13"
  }
 },
 "nbformat": 4,
 "nbformat_minor": 5
}
