{
 "cells": [
  {
   "cell_type": "code",
   "execution_count": 47,
   "metadata": {
    "collapsed": true
   },
   "outputs": [],
   "source": [
    "import pandas as pd\n",
    "import numpy as np\n",
    "\n",
    "import scipy.stats as sts\n",
    "from statsmodels.stats.multitest import multipletests\n",
    "import matplotlib.pyplot as plt\n",
    "import seaborn as sns\n",
    "\n",
    "%matplotlib inline\n",
    "\n",
    "plt.rcParams['figure.figsize'] = (10, 8)\n",
    "plt.style.use('seaborn')"
   ]
  },
  {
   "cell_type": "code",
   "execution_count": 2,
   "metadata": {
    "collapsed": true
   },
   "outputs": [],
   "source": [
    "ALPHA=0.05"
   ]
  },
  {
   "cell_type": "code",
   "execution_count": 3,
   "metadata": {},
   "outputs": [
    {
     "data": {
      "text/html": [
       "<div>\n",
       "<style>\n",
       "    .dataframe thead tr:only-child th {\n",
       "        text-align: right;\n",
       "    }\n",
       "\n",
       "    .dataframe thead th {\n",
       "        text-align: left;\n",
       "    }\n",
       "\n",
       "    .dataframe tbody tr th {\n",
       "        vertical-align: top;\n",
       "    }\n",
       "</style>\n",
       "<table border=\"1\" class=\"dataframe\">\n",
       "  <thead>\n",
       "    <tr style=\"text-align: right;\">\n",
       "      <th></th>\n",
       "      <th>userID</th>\n",
       "      <th>browser</th>\n",
       "      <th>slot</th>\n",
       "      <th>n_clicks</th>\n",
       "      <th>n_queries</th>\n",
       "      <th>n_nonclk_queries</th>\n",
       "    </tr>\n",
       "  </thead>\n",
       "  <tbody>\n",
       "    <tr>\n",
       "      <th>0</th>\n",
       "      <td>1</td>\n",
       "      <td>Browser #2</td>\n",
       "      <td>exp</td>\n",
       "      <td>23</td>\n",
       "      <td>32</td>\n",
       "      <td>19</td>\n",
       "    </tr>\n",
       "    <tr>\n",
       "      <th>1</th>\n",
       "      <td>3</td>\n",
       "      <td>Browser #4</td>\n",
       "      <td>exp</td>\n",
       "      <td>3</td>\n",
       "      <td>4</td>\n",
       "      <td>2</td>\n",
       "    </tr>\n",
       "    <tr>\n",
       "      <th>2</th>\n",
       "      <td>5</td>\n",
       "      <td>Browser #4</td>\n",
       "      <td>exp</td>\n",
       "      <td>29</td>\n",
       "      <td>35</td>\n",
       "      <td>16</td>\n",
       "    </tr>\n",
       "    <tr>\n",
       "      <th>3</th>\n",
       "      <td>6</td>\n",
       "      <td>Browser #4</td>\n",
       "      <td>control</td>\n",
       "      <td>12</td>\n",
       "      <td>6</td>\n",
       "      <td>0</td>\n",
       "    </tr>\n",
       "    <tr>\n",
       "      <th>4</th>\n",
       "      <td>7</td>\n",
       "      <td>Browser #4</td>\n",
       "      <td>exp</td>\n",
       "      <td>54</td>\n",
       "      <td>68</td>\n",
       "      <td>30</td>\n",
       "    </tr>\n",
       "  </tbody>\n",
       "</table>\n",
       "</div>"
      ],
      "text/plain": [
       "   userID     browser     slot  n_clicks  n_queries  n_nonclk_queries\n",
       "0       1  Browser #2      exp        23         32                19\n",
       "1       3  Browser #4      exp         3          4                 2\n",
       "2       5  Browser #4      exp        29         35                16\n",
       "3       6  Browser #4  control        12          6                 0\n",
       "4       7  Browser #4      exp        54         68                30"
      ]
     },
     "execution_count": 3,
     "metadata": {},
     "output_type": "execute_result"
    }
   ],
   "source": [
    "data = pd.read_csv('ab_browser_test.csv')\n",
    "data.head()"
   ]
  },
  {
   "cell_type": "code",
   "execution_count": 4,
   "metadata": {},
   "outputs": [
    {
     "name": "stdout",
     "output_type": "stream",
     "text": [
      "<class 'pandas.core.frame.DataFrame'>\n",
      "RangeIndex: 566134 entries, 0 to 566133\n",
      "Data columns (total 6 columns):\n",
      "userID              566134 non-null int64\n",
      "browser             566134 non-null object\n",
      "slot                566134 non-null object\n",
      "n_clicks            566134 non-null int64\n",
      "n_queries           566134 non-null int64\n",
      "n_nonclk_queries    566134 non-null int64\n",
      "dtypes: int64(4), object(2)\n",
      "memory usage: 25.9+ MB\n"
     ]
    }
   ],
   "source": [
    "data.info()"
   ]
  },
  {
   "cell_type": "code",
   "execution_count": 5,
   "metadata": {
    "collapsed": true
   },
   "outputs": [],
   "source": [
    "control = data[data['slot'] == 'control']\n",
    "exp = data[data['slot'] == 'exp']"
   ]
  },
  {
   "cell_type": "code",
   "execution_count": 6,
   "metadata": {
    "collapsed": true
   },
   "outputs": [],
   "source": [
    "clicks_control = control.n_clicks.values\n",
    "clicks_exp = exp.n_clicks.values"
   ]
  },
  {
   "cell_type": "code",
   "execution_count": 7,
   "metadata": {},
   "outputs": [
    {
     "data": {
      "text/plain": [
       "1.6135689824415809"
      ]
     },
     "execution_count": 7,
     "metadata": {},
     "output_type": "execute_result"
    }
   ],
   "source": [
    "(clicks_exp.sum() - clicks_control.sum()) / clicks_control.sum() * 100"
   ]
  },
  {
   "cell_type": "code",
   "execution_count": 8,
   "metadata": {
    "collapsed": true
   },
   "outputs": [],
   "source": [
    "def get_bootstrap_samples(x, B_sample=1):\n",
    "    N = x.size \n",
    "    sample = np.random.choice(x, size=(N, B_sample), replace=True)\n",
    "    \n",
    "    if B_sample == 1:\n",
    "        sample = sample.T[0]\n",
    "    return sample\n",
    "\n",
    "def efron_ci(x, alpha=ALPHA):\n",
    "    left = np.quantile(x, alpha/2)\n",
    "    right = np.quantile(x, 1-alpha/2)\n",
    "    return left, right"
   ]
  },
  {
   "cell_type": "code",
   "execution_count": 9,
   "metadata": {},
   "outputs": [
    {
     "data": {
      "text/plain": [
       "<matplotlib.axes._subplots.AxesSubplot at 0x2360002aeb8>"
      ]
     },
     "execution_count": 9,
     "metadata": {},
     "output_type": "execute_result"
    },
    {
     "data": {
      "image/png": "[encoded data removed]",
      "text/plain": [
       "<matplotlib.figure.Figure at 0x2361aa897f0>"
      ]
     },
     "metadata": {},
     "output_type": "display_data"
    }
   ],
   "source": [
    "sns.violinplot(x=data['n_clicks'], y=data['slot'])"
   ]
  },
  {
   "cell_type": "code",
   "execution_count": 10,
   "metadata": {},
   "outputs": [
    {
     "name": "stdout",
     "output_type": "stream",
     "text": [
      "Wall time: 27.5 s\n"
     ]
    }
   ],
   "source": [
    "%%time\n",
    "bootstrap_control = get_bootstrap_samples(clicks_control, 1000)\n",
    "bootstrap_exp = get_bootstrap_samples(clicks_exp, 1000)\n",
    "\n",
    "means_clicks_control = np.mean(bootstrap_control, axis=0)\n",
    "means_clicks_exp = np.mean(bootstrap_exp, axis=0)\n",
    "\n",
    "medians_clicks_control = np.median(bootstrap_control, axis=0)\n",
    "medians_clicks_exp = np.median(bootstrap_exp, axis=0)"
   ]
  },
  {
   "cell_type": "code",
   "execution_count": 11,
   "metadata": {},
   "outputs": [
    {
     "data": {
      "text/plain": [
       "((11.205962400809687, 11.352852270570787),\n",
       " (11.509072022160666, 11.66004306058669),\n",
       " (-0.4128437074133754, -0.19778405710970837))"
      ]
     },
     "execution_count": 11,
     "metadata": {},
     "output_type": "execute_result"
    }
   ],
   "source": [
    "efron_ci(means_clicks_control), efron_ci(means_clicks_exp), efron_ci(means_clicks_control-means_clicks_exp)"
   ]
  },
  {
   "cell_type": "code",
   "execution_count": 12,
   "metadata": {},
   "outputs": [
    {
     "data": {
      "text/plain": [
       "((4.0, 4.0), (5.0, 5.0), (-1.0, -1.0))"
      ]
     },
     "execution_count": 12,
     "metadata": {},
     "output_type": "execute_result"
    }
   ],
   "source": [
    "efron_ci(medians_clicks_control), efron_ci(medians_clicks_exp), efron_ci(medians_clicks_control-medians_clicks_exp)"
   ]
  },
  {
   "cell_type": "code",
   "execution_count": 13,
   "metadata": {},
   "outputs": [
    {
     "data": {
      "image/png": "[encoded data removed]",
      "text/plain": [
       "<matplotlib.figure.Figure at 0x2367ebde390>"
      ]
     },
     "metadata": {},
     "output_type": "display_data"
    }
   ],
   "source": [
    "plt.hist(means_clicks_control-means_clicks_exp, bins=50);"
   ]
  },
  {
   "cell_type": "code",
   "execution_count": 14,
   "metadata": {
    "collapsed": true
   },
   "outputs": [],
   "source": [
    "n_boot_samples = 500\n",
    "np.random.seed(0)\n",
    "\n",
    "t_task_boot_samples = get_bootstrap_samples(clicks_control, n_boot_samples)"
   ]
  },
  {
   "cell_type": "code",
   "execution_count": 22,
   "metadata": {},
   "outputs": [],
   "source": [
    "mean_t_task = np.mean(t_task_boot_samples, axis=0)\n",
    "control_boot_chi_squared = np.sum((t_task_boot_samples - mean_t_task) ** 2, axis=0)"
   ]
  },
  {
   "cell_type": "code",
   "execution_count": 38,
   "metadata": {},
   "outputs": [
    {
     "data": {
      "image/png": "[encoded data removed]",
      "text/plain": [
       "<matplotlib.figure.Figure at 0x23603778048>"
      ]
     },
     "metadata": {},
     "output_type": "display_data"
    }
   ],
   "source": [
    "sts.probplot(mean_t_task, dist=\"norm\", plot=plt);"
   ]
  },
  {
   "cell_type": "code",
   "execution_count": 37,
   "metadata": {
    "scrolled": false
   },
   "outputs": [
    {
     "data": {
      "image/png": "[encoded data removed]",
      "text/plain": [
       "<matplotlib.figure.Figure at 0x236038852e8>"
      ]
     },
     "metadata": {},
     "output_type": "display_data"
    }
   ],
   "source": [
    "n = len(clicks_control)\n",
    "sts.probplot(control_boot_chi_squared, dist=\"chi2\", sparams=(n-1), plot=plt);"
   ]
  },
  {
   "cell_type": "code",
   "execution_count": 35,
   "metadata": {},
   "outputs": [],
   "source": [
    "unique_clicks_control = control.groupby('userID', as_index=False).n_clicks.sum().n_clicks.values\n",
    "unique_clicks_exp = exp.groupby('userID', as_index=False).n_clicks.sum().n_clicks.values"
   ]
  },
  {
   "cell_type": "code",
   "execution_count": 36,
   "metadata": {},
   "outputs": [
    {
     "data": {
      "text/plain": [
       "MannwhitneyuResult(statistic=38901259929.0, pvalue=4.3471471887604393e-75)"
      ]
     },
     "execution_count": 36,
     "metadata": {},
     "output_type": "execute_result"
    }
   ],
   "source": [
    "sts.mannwhitneyu(unique_clicks_control, unique_clicks_exp)"
   ]
  },
  {
   "cell_type": "code",
   "execution_count": 59,
   "metadata": {},
   "outputs": [
    {
     "name": "stdout",
     "output_type": "stream",
     "text": [
      "Browser: Browser #2\n",
      "P-value: 0.0272438604197241\n",
      "Browser: Browser #4\n",
      "P-value: 0.40760617658454984\n",
      "Browser: Browser #14\n",
      "P-value: 0.0\n",
      "Browser: Browser #17\n",
      "P-value: 0.03740060143010802\n",
      "Browser: Browser #20\n",
      "P-value: 0.45366656388735377\n",
      "Browser: Browser #22\n",
      "P-value: 0.2574055152210032\n"
     ]
    }
   ],
   "source": [
    "pvals = []\n",
    "\n",
    "for browser in data.browser.unique():\n",
    "    print(f'Browser: {browser}')\n",
    "    subset_control = control[control['browser'] == browser]\n",
    "    subset_exp = exp[exp['browser'] == browser]\n",
    "    \n",
    "    sample1 = subset_control.groupby('userID', as_index=False).n_clicks.sum().n_clicks.values\n",
    "    sample2 = subset_exp.groupby('userID', as_index=False).n_clicks.sum().n_clicks.values\n",
    "    \n",
    "    pvalue = sts.mannwhitneyu(sample1, sample2)[1]\n",
    "    print(f'P-value: {pvalue}')\n",
    "    pvals.append(pvalue)\n",
    "    \n",
    "pvals = np.array(pvals)"
   ]
  },
  {
   "cell_type": "code",
   "execution_count": 60,
   "metadata": {},
   "outputs": [
    {
     "data": {
      "text/plain": [
       "array([ True, False,  True,  True, False, False])"
      ]
     },
     "execution_count": 60,
     "metadata": {},
     "output_type": "execute_result"
    }
   ],
   "source": [
    "pvals < ALPHA"
   ]
  },
  {
   "cell_type": "code",
   "execution_count": 61,
   "metadata": {},
   "outputs": [],
   "source": [
    "pvals_corrected = multipletests(pvals, method='holm')[1]"
   ]
  },
  {
   "cell_type": "code",
   "execution_count": 62,
   "metadata": {},
   "outputs": [
    {
     "data": {
      "text/plain": [
       "array([False, False,  True, False, False, False])"
      ]
     },
     "execution_count": 62,
     "metadata": {},
     "output_type": "execute_result"
    }
   ],
   "source": [
    "pvals_corrected < 0.05"
   ]
  },
  {
   "cell_type": "code",
   "execution_count": 63,
   "metadata": {},
   "outputs": [
    {
     "name": "stdout",
     "output_type": "stream",
     "text": [
      "Browser: Browser #2\n",
      "P-value: 6.366408598081653e-06\n",
      "Browser: Browser #4\n",
      "P-value: 3.80268649077308e-27\n",
      "Browser: Browser #14\n",
      "P-value: 0.0\n",
      "Browser: Browser #17\n",
      "P-value: 0.48277014538327934\n",
      "Browser: Browser #20\n",
      "P-value: 3.227096009257119e-05\n",
      "Browser: Browser #22\n",
      "P-value: 0.003382804264919783\n"
     ]
    }
   ],
   "source": [
    "pvals = []\n",
    "\n",
    "for browser in data.browser.unique():\n",
    "    print(f'Browser: {browser}')\n",
    "    subset_control = control[control['browser'] == browser]\n",
    "    subset_exp = exp[exp['browser'] == browser]\n",
    "    \n",
    "    grouped_control = subset_control.groupby('userID', as_index=False).sum()\n",
    "    grouped_exp = subset_exp.groupby('userID', as_index=False).sum()\n",
    "    \n",
    "    sample1 = (grouped_control.n_nonclk_queries / grouped_control.n_queries * 100).values\n",
    "    sample2 = (grouped_exp.n_nonclk_queries / grouped_exp.n_queries * 100).values\n",
    "    \n",
    "    pvalue = sts.mannwhitneyu(sample1, sample2)[1]\n",
    "    print(f'P-value: {pvalue}')\n",
    "    pvals.append(pvalue)\n",
    "    \n",
    "pvals = np.array(pvals)"
   ]
  },
  {
   "cell_type": "code",
   "execution_count": 64,
   "metadata": {},
   "outputs": [
    {
     "data": {
      "text/plain": [
       "array([ True,  True,  True, False,  True,  True])"
      ]
     },
     "execution_count": 64,
     "metadata": {},
     "output_type": "execute_result"
    }
   ],
   "source": [
    "pvals < ALPHA"
   ]
  },
  {
   "cell_type": "code",
   "execution_count": 65,
   "metadata": {
    "collapsed": true
   },
   "outputs": [],
   "source": [
    "pvals_corrected = multipletests(pvals, method='holm')[1]"
   ]
  },
  {
   "cell_type": "code",
   "execution_count": 66,
   "metadata": {},
   "outputs": [
    {
     "data": {
      "text/plain": [
       "array([ True,  True,  True, False,  True,  True])"
      ]
     },
     "execution_count": 66,
     "metadata": {},
     "output_type": "execute_result"
    }
   ],
   "source": [
    "pvals_corrected < 0.05"
   ]
  },
  {
   "cell_type": "code",
   "execution_count": 68,
   "metadata": {},
   "outputs": [
    {
     "name": "stdout",
     "output_type": "stream",
     "text": [
      "Browser: Browser #2\n",
      "Control: 45.96274717919465\n",
      "Exp: 44.982746948554706\n",
      "Browser: Browser #4\n",
      "Control: 46.97092963514274\n",
      "Exp: 45.14294190358467\n",
      "Browser: Browser #14\n",
      "Control: 57.59041136008114\n",
      "Exp: 43.755617361273295\n",
      "Browser: Browser #17\n",
      "Control: 36.29936674628208\n",
      "Exp: 36.93741284866483\n",
      "Browser: Browser #20\n",
      "Control: 40.540484743383296\n",
      "Exp: 38.97737648371716\n",
      "Browser: Browser #22\n",
      "Control: 40.593976593513354\n",
      "Exp: 39.85394721969546\n"
     ]
    }
   ],
   "source": [
    "for browser in data.browser.unique():\n",
    "    print(f'Browser: {browser}')\n",
    "    subset_control = control[control['browser'] == browser]\n",
    "    subset_exp = exp[exp['browser'] == browser]\n",
    "    \n",
    "    print('Control:', (subset_control.n_nonclk_queries.sum() / subset_control.n_queries.sum()) * 100)\n",
    "    print('Exp:', (subset_exp.n_nonclk_queries.sum() / subset_exp.n_queries.sum()) * 100)"
   ]
  },
  {
   "cell_type": "code",
   "execution_count": null,
   "metadata": {
    "collapsed": true
   },
   "outputs": [],
   "source": []
  }
 ],
 "metadata": {
  "kernelspec": {
   "display_name": "Python 3",
   "language": "python",
   "name": "python3"
  },
  "language_info": {
   "codemirror_mode": {
    "name": "ipython",
    "version": 3
   },
   "file_extension": ".py",
   "mimetype": "text/x-python",
   "name": "python",
   "nbconvert_exporter": "python",
   "pygments_lexer": "ipython3",
   "version": "3.6.10"
  }
 },
 "nbformat": 4,
 "nbformat_minor": 2
}
