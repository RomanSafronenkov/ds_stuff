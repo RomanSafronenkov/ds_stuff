{
 "cells": [
  {
   "cell_type": "code",
   "execution_count": 5,
   "metadata": {
    "collapsed": true
   },
   "outputs": [],
   "source": [
    "from abc import ABC, abstractmethod\n",
    "\n",
    "import numpy as np\n",
    "from sklearn.datasets import load_digits\n",
    "from sklearn.ensemble import RandomForestClassifier\n",
    "from sklearn.model_selection import train_test_split"
   ]
  },
  {
   "cell_type": "code",
   "execution_count": 6,
   "metadata": {
    "collapsed": true
   },
   "outputs": [],
   "source": [
    "data = load_digits()\n",
    "x = data['data']\n",
    "y = data['target']\n",
    "\n",
    "x_train, x_test, y_train, y_test = train_test_split(x, y, test_size=0.25, shuffle=False)"
   ]
  },
  {
   "cell_type": "code",
   "execution_count": 7,
   "metadata": {},
   "outputs": [],
   "source": [
    "class BaseKNN(ABC):\n",
    "    def __init__(self, k, metric='minkowski', p=2):\n",
    "        assert metric in ['euclidean', 'minkowski'], 'Wrong metric'\n",
    "        self.k = k\n",
    "        self.p = p\n",
    "        if metric == 'euclidean':\n",
    "            self.metric = self._euclidean\n",
    "        elif metric == 'minkowski':\n",
    "            self.metric = self._minkowski\n",
    "            \n",
    "    @staticmethod\n",
    "    def _euclidean(x, y):\n",
    "        return np.sqrt(np.sum((x - y)**2, axis=1))\n",
    "    \n",
    "    def _minkowski(self, x, y):\n",
    "        diff = np.abs(x - y)\n",
    "        return np.sum(diff**self.p, axis=1)**(1/self.p)\n",
    "    \n",
    "    @abstractmethod\n",
    "    def fit(self, x, y):\n",
    "        pass\n",
    "    \n",
    "    @abstractmethod\n",
    "    def predict(self, x):\n",
    "        pass\n",
    "    \n",
    "class KNNClassifier(BaseKNN):\n",
    "    def fit(self, x, y):\n",
    "        self._x = x\n",
    "        self._y = y.reshape(-1, 1)\n",
    "        self.unique_classes = np.unique(y)\n",
    "        return self\n",
    "    \n",
    "    def predict(self, x):\n",
    "        self.result = []\n",
    "        for sample in x:\n",
    "            metrics = self.metric(sample, self._x).reshape(-1, 1)\n",
    "            metrics_with_target = np.hstack((metrics, self._y))\n",
    "            idxs = np.argsort(metrics_with_target[:, 0])\n",
    "            metrics_with_target = metrics_with_target[idxs]\n",
    "            \n",
    "            k_neib = metrics_with_target[:self.k, 1]\n",
    "            amount_of_classes = []\n",
    "            for cls in self.unique_classes:\n",
    "                n_of_the_class = np.sum(k_neib == cls)\n",
    "                amount_of_classes.append(n_of_the_class)\n",
    "                \n",
    "            self.result.append(np.argmax(amount_of_classes))\n",
    "        return np.array(self.result)\n",
    "    \n",
    "    def __repr__(self):\n",
    "        return f'KNNClassifier(k={self.k})'"
   ]
  },
  {
   "cell_type": "code",
   "execution_count": 8,
   "metadata": {
    "collapsed": true
   },
   "outputs": [],
   "source": [
    "knn = KNNClassifier(k=1)"
   ]
  },
  {
   "cell_type": "code",
   "execution_count": 9,
   "metadata": {},
   "outputs": [
    {
     "data": {
      "text/plain": [
       "KNNClassifier(k=1)"
      ]
     },
     "execution_count": 9,
     "metadata": {},
     "output_type": "execute_result"
    }
   ],
   "source": [
    "knn.fit(x_train, y_train)"
   ]
  },
  {
   "cell_type": "code",
   "execution_count": 13,
   "metadata": {},
   "outputs": [
    {
     "data": {
      "text/plain": [
       "0.03777777777777778"
      ]
     },
     "execution_count": 13,
     "metadata": {},
     "output_type": "execute_result"
    }
   ],
   "source": [
    "(~(knn.predict(x_test) == y_test)).sum() / len(y_test)"
   ]
  },
  {
   "cell_type": "code",
   "execution_count": 14,
   "metadata": {
    "collapsed": true
   },
   "outputs": [],
   "source": [
    "def write_answer(answer, n):\n",
    "    with open(f'knn_vs_rf_{n}.txt', 'w') as f:\n",
    "        f.write(str(answer))"
   ]
  },
  {
   "cell_type": "code",
   "execution_count": 15,
   "metadata": {
    "collapsed": true
   },
   "outputs": [],
   "source": [
    "write_answer(0.03777777777777778, 1)"
   ]
  },
  {
   "cell_type": "code",
   "execution_count": 16,
   "metadata": {},
   "outputs": [
    {
     "data": {
      "text/plain": [
       "RandomForestClassifier(n_estimators=1000)"
      ]
     },
     "execution_count": 16,
     "metadata": {},
     "output_type": "execute_result"
    }
   ],
   "source": [
    "rf = RandomForestClassifier(n_estimators=1000)\n",
    "rf.fit(x_train, y_train)"
   ]
  },
  {
   "cell_type": "code",
   "execution_count": 17,
   "metadata": {},
   "outputs": [
    {
     "data": {
      "text/plain": [
       "0.06888888888888889"
      ]
     },
     "execution_count": 17,
     "metadata": {},
     "output_type": "execute_result"
    }
   ],
   "source": [
    "(~(rf.predict(x_test) == y_test)).sum() / len(y_test)"
   ]
  },
  {
   "cell_type": "code",
   "execution_count": 18,
   "metadata": {
    "collapsed": true
   },
   "outputs": [],
   "source": [
    "write_answer(0.06888888888888889, 2)"
   ]
  },
  {
   "cell_type": "code",
   "execution_count": null,
   "metadata": {
    "collapsed": true
   },
   "outputs": [],
   "source": []
  }
 ],
 "metadata": {
  "kernelspec": {
   "display_name": "Python 3",
   "language": "python",
   "name": "python3"
  },
  "language_info": {
   "codemirror_mode": {
    "name": "ipython",
    "version": 3
   },
   "file_extension": ".py",
   "mimetype": "text/x-python",
   "name": "python",
   "nbconvert_exporter": "python",
   "pygments_lexer": "ipython3",
   "version": "3.6.10"
  }
 },
 "nbformat": 4,
 "nbformat_minor": 2
}
