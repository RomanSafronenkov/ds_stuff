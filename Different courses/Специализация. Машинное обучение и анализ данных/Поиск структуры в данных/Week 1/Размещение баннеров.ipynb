{
 "cells": [
  {
   "cell_type": "code",
   "execution_count": 77,
   "metadata": {},
   "outputs": [],
   "source": [
    "import pandas as pd\n",
    "import numpy as np\n",
    "import matplotlib.pyplot as plt\n",
    "\n",
    "from sklearn.cluster import MeanShift\n",
    "from sklearn.metrics import euclidean_distances\n",
    "%matplotlib inline"
   ]
  },
  {
   "cell_type": "code",
   "execution_count": 61,
   "metadata": {},
   "outputs": [
    {
     "name": "stderr",
     "output_type": "stream",
     "text": [
      "C:\\Program Files\\Anaconda3\\envs\\myEnv\\lib\\site-packages\\IPython\\core\\interactiveshell.py:2717: DtypeWarning: Columns (0) have mixed types. Specify dtype option on import or set low_memory=False.\n",
      "  interactivity=interactivity, compiler=compiler, result=result)\n"
     ]
    },
    {
     "name": "stdout",
     "output_type": "stream",
     "text": [
      "<class 'pandas.core.frame.DataFrame'>\n",
      "RangeIndex: 396634 entries, 0 to 396633\n",
      "Data columns (total 2 columns):\n",
      "latitude     396634 non-null float64\n",
      "longitude    396634 non-null float64\n",
      "dtypes: float64(2)\n",
      "memory usage: 6.1 MB\n"
     ]
    }
   ],
   "source": [
    "data = pd.read_csv('checkins.csv', sep='|').iloc[1:-1].reset_index(drop=True)\n",
    "data.columns = list(map(lambda x: x.strip(), data.columns))\n",
    "data = data[['latitude', 'longitude']]\n",
    "data = data.applymap(lambda x: x.strip())\n",
    "data = data[~(data.latitude.apply(len) == 0)].astype(float).reset_index(drop=True)\n",
    "data.info()"
   ]
  },
  {
   "cell_type": "code",
   "execution_count": 62,
   "metadata": {},
   "outputs": [
    {
     "data": {
      "text/html": [
       "<div>\n",
       "<style>\n",
       "    .dataframe thead tr:only-child th {\n",
       "        text-align: right;\n",
       "    }\n",
       "\n",
       "    .dataframe thead th {\n",
       "        text-align: left;\n",
       "    }\n",
       "\n",
       "    .dataframe tbody tr th {\n",
       "        vertical-align: top;\n",
       "    }\n",
       "</style>\n",
       "<table border=\"1\" class=\"dataframe\">\n",
       "  <thead>\n",
       "    <tr style=\"text-align: right;\">\n",
       "      <th></th>\n",
       "      <th>latitude</th>\n",
       "      <th>longitude</th>\n",
       "    </tr>\n",
       "  </thead>\n",
       "  <tbody>\n",
       "    <tr>\n",
       "      <th>0</th>\n",
       "      <td>38.895112</td>\n",
       "      <td>-77.036366</td>\n",
       "    </tr>\n",
       "    <tr>\n",
       "      <th>1</th>\n",
       "      <td>33.800745</td>\n",
       "      <td>-84.410520</td>\n",
       "    </tr>\n",
       "    <tr>\n",
       "      <th>2</th>\n",
       "      <td>45.523452</td>\n",
       "      <td>-122.676207</td>\n",
       "    </tr>\n",
       "    <tr>\n",
       "      <th>3</th>\n",
       "      <td>40.764462</td>\n",
       "      <td>-111.904565</td>\n",
       "    </tr>\n",
       "    <tr>\n",
       "      <th>4</th>\n",
       "      <td>33.448377</td>\n",
       "      <td>-112.074037</td>\n",
       "    </tr>\n",
       "  </tbody>\n",
       "</table>\n",
       "</div>"
      ],
      "text/plain": [
       "    latitude   longitude\n",
       "0  38.895112  -77.036366\n",
       "1  33.800745  -84.410520\n",
       "2  45.523452 -122.676207\n",
       "3  40.764462 -111.904565\n",
       "4  33.448377 -112.074037"
      ]
     },
     "execution_count": 62,
     "metadata": {},
     "output_type": "execute_result"
    }
   ],
   "source": [
    "data.head()"
   ]
  },
  {
   "cell_type": "code",
   "execution_count": 64,
   "metadata": {
    "collapsed": true
   },
   "outputs": [],
   "source": [
    "meanshift = MeanShift(bandwidth=0.1)"
   ]
  },
  {
   "cell_type": "code",
   "execution_count": 65,
   "metadata": {
    "collapsed": true
   },
   "outputs": [],
   "source": [
    "x_train = data.values[:100000]"
   ]
  },
  {
   "cell_type": "code",
   "execution_count": 67,
   "metadata": {},
   "outputs": [
    {
     "name": "stdout",
     "output_type": "stream",
     "text": [
      "Wall time: 1min 55s\n"
     ]
    },
    {
     "data": {
      "text/plain": [
       "MeanShift(bandwidth=0.1)"
      ]
     },
     "execution_count": 67,
     "metadata": {},
     "output_type": "execute_result"
    }
   ],
   "source": [
    "%%time\n",
    "meanshift.fit(x_train)"
   ]
  },
  {
   "cell_type": "code",
   "execution_count": 71,
   "metadata": {},
   "outputs": [],
   "source": [
    "result = np.hstack((x_train, meanshift.labels_.reshape(-1, 1)))"
   ]
  },
  {
   "cell_type": "code",
   "execution_count": 72,
   "metadata": {},
   "outputs": [
    {
     "data": {
      "text/plain": [
       "array([[  38.8951118,  -77.0363658,    5.       ],\n",
       "       [  33.800745 ,  -84.41052  ,    7.       ],\n",
       "       [  45.5234515, -122.6762071,   30.       ],\n",
       "       ...,\n",
       "       [  29.7628844,  -95.3830615,   25.       ],\n",
       "       [  32.802955 ,  -96.769923 ,   19.       ],\n",
       "       [  37.7749295, -122.4194155,    4.       ]])"
      ]
     },
     "execution_count": 72,
     "metadata": {},
     "output_type": "execute_result"
    }
   ],
   "source": [
    "result"
   ]
  },
  {
   "cell_type": "code",
   "execution_count": 87,
   "metadata": {},
   "outputs": [],
   "source": [
    "clusters = np.unique(result[:, -1])"
   ]
  },
  {
   "cell_type": "code",
   "execution_count": 135,
   "metadata": {},
   "outputs": [],
   "source": [
    "best_clusters = []\n",
    "for cluster in clusters:\n",
    "    if len(np.where(result[:, -1] == cluster)[0]) > 15:\n",
    "        best_clusters.append(cluster)\n",
    "best_clusters = np.array(best_clusters, dtype=int)"
   ]
  },
  {
   "cell_type": "code",
   "execution_count": 136,
   "metadata": {},
   "outputs": [
    {
     "data": {
      "text/plain": [
       "(592, 3231)"
      ]
     },
     "execution_count": 136,
     "metadata": {},
     "output_type": "execute_result"
    }
   ],
   "source": [
    "len(best_clusters), len(clusters)"
   ]
  },
  {
   "cell_type": "code",
   "execution_count": 137,
   "metadata": {},
   "outputs": [
    {
     "data": {
      "image/png": "[encoded data removed]",
      "text/plain": [
       "<matplotlib.figure.Figure at 0x1c941b565f8>"
      ]
     },
     "metadata": {},
     "output_type": "display_data"
    }
   ],
   "source": [
    "plt.figure(figsize=(19.20, 10.80))\n",
    "for cluster in best_clusters:\n",
    "    slice_idx = result[:, -1].ravel() == cluster\n",
    "    subset = result[slice_idx]\n",
    "    plt.scatter(subset[:, 0], subset[:, 1], s=10)"
   ]
  },
  {
   "cell_type": "code",
   "execution_count": 138,
   "metadata": {},
   "outputs": [],
   "source": [
    "best_clusters_centers = meanshift.cluster_centers_[best_clusters]"
   ]
  },
  {
   "cell_type": "code",
   "execution_count": 139,
   "metadata": {},
   "outputs": [
    {
     "data": {
      "text/plain": [
       "array([[  40.7177164 ,  -73.99183542],\n",
       "       [  33.44943805, -112.00213969],\n",
       "       [  33.44638027, -111.90188756],\n",
       "       ...,\n",
       "       [  41.61853175,  -88.44556818],\n",
       "       [  39.2494686 ,  -77.1821271 ],\n",
       "       [  38.65877915,  -76.8856871 ]])"
      ]
     },
     "execution_count": 139,
     "metadata": {},
     "output_type": "execute_result"
    }
   ],
   "source": [
    "best_clusters_centers"
   ]
  },
  {
   "cell_type": "code",
   "execution_count": 140,
   "metadata": {
    "collapsed": true
   },
   "outputs": [],
   "source": [
    "offices = {\n",
    "    'Los Angeles': np.array([33.751277, -118.188740]),\n",
    "    'Miami': np.array([25.867736, -80.324116]),\n",
    "    'London': np.array([51.503016, -0.075479]),\n",
    "    'Amsterdam': np.array([52.378894, 4.885084]),\n",
    "    'Beijing': np.array([39.366487, 117.036146]),\n",
    "    'Sydney': np.array([-33.868457, 151.205134])\n",
    "}"
   ]
  },
  {
   "cell_type": "code",
   "execution_count": 141,
   "metadata": {},
   "outputs": [
    {
     "data": {
      "text/plain": [
       "{'Amsterdam': array([52.378894,  4.885084]),\n",
       " 'Beijing': array([ 39.366487, 117.036146]),\n",
       " 'London': array([51.503016, -0.075479]),\n",
       " 'Los Angeles': array([  33.751277, -118.18874 ]),\n",
       " 'Miami': array([ 25.867736, -80.324116]),\n",
       " 'Sydney': array([-33.868457, 151.205134])}"
      ]
     },
     "execution_count": 141,
     "metadata": {},
     "output_type": "execute_result"
    }
   ],
   "source": [
    "offices"
   ]
  },
  {
   "cell_type": "code",
   "execution_count": 147,
   "metadata": {},
   "outputs": [
    {
     "name": "stdout",
     "output_type": "stream",
     "text": [
      "Los Angeles\n",
      "[ 51  87  42 291 119  27  11  32  17  47  64  24  35  50 100  90  75 224\n",
      " 284 398]\n",
      "[  33.80987796 -118.14892381]\n",
      "distance 0.07084773242102914\n",
      "Miami\n",
      "[419  29 167  92 320  55 159 144 293 257 537 382 269 332 401 402 268 319\n",
      " 124 251]\n",
      "[ 25.84567226 -80.3188906 ]\n",
      "distance 0.022674066135797352\n",
      "London\n",
      "[ 58 188 370 522 573 546 557 306 572 474 278 482 358 103 217 409 449 657\n",
      " 471 249]\n",
      "[51.50299126 -0.12553729]\n",
      "distance 0.0500582948278314\n",
      "Amsterdam\n",
      "[370 188 573  58 557 306 522 546 572 474 278 482 358 103 217 409 449 657\n",
      " 471 249]\n",
      "[52.37296399  4.89231722]\n",
      "distance 0.00935331618447212\n",
      "Beijing\n",
      "[432 223 538 213 383 261 210 294 369 160 333 556  33 510 211 252 156 447\n",
      " 359 358]\n",
      "[ 31.230393 121.473704]\n",
      "distance 9.26757501076729\n",
      "Sydney\n",
      "[420 483 359 252 447 333 156 556 211  33 510 383 160 294 369 538 261 210\n",
      " 213 432]\n",
      "[-33.86063043 151.20477593]\n",
      "distance 0.007834758333930724\n"
     ]
    }
   ],
   "source": [
    "for city, center in offices.items():\n",
    "    center = center.reshape(1, -1)\n",
    "    d = euclidean_distances(center, best_clusters_centers).ravel()\n",
    "    sort_idx = np.argsort(d)[:20]\n",
    "    closest_clusters = best_clusters[sort_idx]\n",
    "    closest_cluster_coords = best_clusters_centers[sort_idx[0]]\n",
    "    distance_to_closest_cluster = d[sort_idx][0]\n",
    "    print(city)\n",
    "    print(closest_clusters)\n",
    "    print(closest_cluster_coords)\n",
    "    print('distance', distance_to_closest_cluster)"
   ]
  },
  {
   "cell_type": "markdown",
   "metadata": {},
   "source": [
    "Сидней ближайший"
   ]
  }
 ],
 "metadata": {
  "kernelspec": {
   "display_name": "Python 3",
   "language": "python",
   "name": "python3"
  },
  "language_info": {
   "codemirror_mode": {
    "name": "ipython",
    "version": 3
   },
   "file_extension": ".py",
   "mimetype": "text/x-python",
   "name": "python",
   "nbconvert_exporter": "python",
   "pygments_lexer": "ipython3",
   "version": "3.6.10"
  }
 },
 "nbformat": 4,
 "nbformat_minor": 2
}
