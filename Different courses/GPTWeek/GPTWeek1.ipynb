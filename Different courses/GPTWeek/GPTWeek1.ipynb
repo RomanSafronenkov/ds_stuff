{
 "cells": [
  {
   "cell_type": "code",
   "execution_count": null,
   "id": "f9f97b6e",
   "metadata": {},
   "outputs": [],
   "source": [
    "import json\n",
    "import numpy as np\n",
    "import pandas as pd\n",
    "import math\n",
    "import re"
   ]
  },
  {
   "cell_type": "markdown",
   "id": "fa8a2758",
   "metadata": {},
   "source": [
    "## Готовим данные"
   ]
  },
  {
   "cell_type": "code",
   "execution_count": null,
   "id": "cd5b7cb9",
   "metadata": {},
   "outputs": [],
   "source": [
    "fields = [\n",
    "    l for l in open('data_description.txt', 'r').read().split('\\n')\n",
    "    if len(l.strip()) > 0\n",
    "]"
   ]
  },
  {
   "cell_type": "code",
   "execution_count": null,
   "id": "ae7f5897",
   "metadata": {},
   "outputs": [],
   "source": [
    "columns = [f.strip().split(': ') for f in fields if not f.startswith(' ')]\n",
    "col_names = {c[0]: f\"{c[0]}: {c[1]}\" for c in columns}\n",
    "col_names['SalePrice'] = 'SalePrice'"
   ]
  },
  {
   "cell_type": "code",
   "execution_count": null,
   "id": "dfc011f0",
   "metadata": {},
   "outputs": [],
   "source": [
    "last_key = None\n",
    "fv = {}\n",
    "\n",
    "for f in fields:\n",
    "    if not f.startswith(' '):\n",
    "        last_key = f.split(': ')[0]\n",
    "        continue\n",
    "    value_pair = f.strip().split('\\t')\n",
    "    fv[(last_key, value_pair[0])] = value_pair[1]"
   ]
  },
  {
   "cell_type": "code",
   "execution_count": null,
   "id": "78ec06d9",
   "metadata": {},
   "outputs": [],
   "source": [
    "s = pd.read_csv('train.csv')"
   ]
  },
  {
   "cell_type": "code",
   "execution_count": null,
   "id": "d2972446",
   "metadata": {},
   "outputs": [],
   "source": [
    "row_dict = s.iloc[0]\n",
    "\n",
    "facts = []\n",
    "for k in row_dict.keys():\n",
    "    if k not in col_names:\n",
    "        continue\n",
    "    if str(row_dict[k]) == 'nan':\n",
    "        continue\n",
    "    facts.append(col_names[k])\n",
    "    if (k, str(row_dict[k])) in fv:\n",
    "        facts.append(f'- {fv[(k, str(row_dict[k]))]}')\n",
    "    else:\n",
    "        facts.append(f'- {row_dict[k]}')\n",
    "request = '\\n'.join(facts).replace('\\n- ', ': ')\n",
    "request = re.sub('\\n[^:]+: (?:Identifies )?', '\\n', request)\n",
    "request = re.sub('\\n(\\d+)', '\\nPrice: $\\\\1', request)"
   ]
  },
  {
   "cell_type": "code",
   "execution_count": null,
   "id": "77cbd5bc",
   "metadata": {},
   "outputs": [],
   "source": [
    "print(request)"
   ]
  },
  {
   "cell_type": "markdown",
   "id": "f9b1577b",
   "metadata": {},
   "source": [
    "## Делаем запросы в АПИ"
   ]
  },
  {
   "cell_type": "raw",
   "id": "960ab12f",
   "metadata": {},
   "source": [
    "oauth_token = \"***\""
   ]
  },
  {
   "cell_type": "raw",
   "id": "3749ee3c",
   "metadata": {},
   "source": [
    "!curl -d \"{\\\"yandexPassportOauthToken\\\":\\\"***\\\"}\" \"https://iam.api.cloud.yandex.net/iam/v1/tokens\"\n"
   ]
  },
  {
   "cell_type": "raw",
   "id": "89906c92",
   "metadata": {},
   "source": [
    "iamtoken = \"***\""
   ]
  },
  {
   "cell_type": "raw",
   "id": "a10a93bc",
   "metadata": {},
   "source": [
    "dir_id = \"***\""
   ]
  },
  {
   "cell_type": "code",
   "execution_count": null,
   "id": "cab54cfe",
   "metadata": {},
   "outputs": [],
   "source": [
    "import requests"
   ]
  },
  {
   "cell_type": "code",
   "execution_count": null,
   "id": "ea481c02",
   "metadata": {},
   "outputs": [],
   "source": [
    "result = requests.post(\n",
    "    url='https://llm.api.cloud.yandex.net/llm/v1alpha/instruct',\n",
    "    headers={'Authorization': f'Bearer {iamtoken}', 'x-folder-id': dir_id},\n",
    "    json={\n",
    "      \"model\": \"general\",\n",
    "      \"instruction_text\": \"Ниже перечислены характеристики недвижимости.\",\n",
    "      \"request_text\": f\"{request}\\n\\nНа основании этой информации о недвижимости ниже напиши продающий текст на русском. Текст не должен содержать лжи и полностью соответствовать данным из характеристик.\",\n",
    "      \"generation_options\": {\n",
    "        \"max_tokens\": 1500,  \n",
    "        \"temperature\": 0.5\n",
    "      }\n",
    "    }\n",
    ")"
   ]
  },
  {
   "cell_type": "code",
   "execution_count": null,
   "id": "168c0ec3",
   "metadata": {},
   "outputs": [],
   "source": [
    "print(request)"
   ]
  },
  {
   "cell_type": "code",
   "execution_count": null,
   "id": "ea18ca2a",
   "metadata": {},
   "outputs": [],
   "source": [
    "print(result.json()['result']['alternatives'][0]['text'])"
   ]
  },
  {
   "cell_type": "markdown",
   "id": "9b2f0a38",
   "metadata": {},
   "source": [
    "## Fewshot"
   ]
  },
  {
   "cell_type": "code",
   "execution_count": 1,
   "id": "16bccd6f",
   "metadata": {},
   "outputs": [],
   "source": [
    "import pickle\n",
    "train_dataset = pickle.load(open('fewshot.pkl', 'rb'))"
   ]
  },
  {
   "cell_type": "code",
   "execution_count": 2,
   "id": "da8b51e4",
   "metadata": {},
   "outputs": [
    {
     "name": "stdout",
     "output_type": "stream",
     "text": [
      "Ниже перечислены характеристики недвижимости.\n",
      "MSSubClass: Identifies the type of dwelling involved in the sale.: 1-1/2 STORY FINISHED ALL AGES\n",
      "the general zoning classification of the sale.: Residential Low Density\n",
      "Linear feet of street connected to property: 85.0\n",
      "Lot size in square feet: 14115\n",
      "Type of road access to property: Paved\n",
      "General shape of property: Slightly irregular\n",
      "Flatness of the property: Near Flat/Level\n",
      "Type of utilities available: All public Utilities (E,G,W,& S)\n",
      "Lot configuration: Inside lot\n",
      "Slope of property: Gentle slope\n",
      "Physical locations within Ames city limits: Mitchell\n",
      "Proximity to various conditions: Normal\n",
      "Proximity to various conditions (if more than one is present): Normal\n",
      "Type of dwelling: Single-family Detached\n",
      "Style of dwelling: One and one-half story: 2nd level finished\n",
      "Rates the overall material and finish of the house: Average\n",
      "Rates the overall condition of the house: Average\n",
      "Original construction date: 1993\n",
      "Remodel date (same as construction date if no remodeling or additions): 1995\n",
      "Type of roof: Gable\n",
      "Roof material: Standard (Composite) Shingle\n",
      "Exterior covering on house: Vinyl Siding\n",
      "Exterior covering on house (if more than one material): Vinyl Siding\n",
      "Masonry veneer area in square feet: 0.0\n",
      "Evaluates the quality of the material on the exterior: Average/Typical\n",
      "Evaluates the present condition of the material on the exterior: Average/Typical\n",
      "Type of foundation: Wood\n",
      "Evaluates the height of the basement: Good (90-99 inches)\n",
      "Evaluates the general condition of the basement: Typical - slight dampness allowed\n",
      "Refers to walkout or garden level walls: No Exposure\n",
      "Rating of basement finished area: Good Living Quarters\n",
      "Type 1 finished square feet: 732\n",
      "Rating of basement finished area (if multiple types): Unfinshed\n",
      "Type 2 finished square feet: 0\n",
      "Unfinished square feet of basement area: 64\n",
      "Total square feet of basement area: 796\n",
      "Type of heating: Gas forced warm air furnace\n",
      "Heating quality and condition: Excellent\n",
      "Central air conditioning: Yes\n",
      "Electrical system: Standard Circuit Breakers & Romex\n",
      "First Floor square feet: 796\n",
      "Second floor square feet: 566\n",
      "Low quality finished square feet (all floors): 0\n",
      "Above grade (ground) living area square feet: 1362\n",
      "Basement full bathrooms: 1\n",
      "Basement half bathrooms: 0\n",
      "Full bathrooms above grade: 1\n",
      "Half baths above grade: 1\n",
      "Kitchen quality: Typical/Average\n",
      "Total rooms above grade (does not include bathrooms): 5\n",
      "Home functionality (Assume typical unless deductions are warranted): Typical Functionality\n",
      "Number of fireplaces: 0\n",
      "Garage location: Attached to home\n",
      "Year garage was built: 1993.0\n",
      "Interior finish of the garage: Unfinished\n",
      "Size of garage in car capacity: 2\n",
      "Size of garage in square feet: 480\n",
      "Garage quality: Typical/Average\n",
      "Garage condition: Typical/Average\n",
      "Paved driveway: Paved\n",
      "Wood deck area in square feet: 40\n",
      "Open porch area in square feet: 30\n",
      "Enclosed porch area in square feet: 0\n",
      "Three season porch area in square feet: 320\n",
      "Screen porch area in square feet: 0\n",
      "Pool area in square feet: 0\n",
      "Fence quality: Minimum Privacy\n",
      "Miscellaneous feature not covered in other categories: Shed (over 100 SF)\n",
      "$Value of miscellaneous feature: 700\n",
      "Month Sold (MM): 10\n",
      "Year Sold (YYYY): 2009\n",
      "Type of sale: WD\n",
      "Condition of sale: Normal Sale\n",
      "Price: $143000\n",
      "\n",
      "На основании этой информации о недвижимости ниже напиши продающий текст на русском. Текст не должен содержать лжи и должен полностью соответствовать данным из характеристик и состоять из двух абзацев.\n",
      "-----\n",
      "Представляем вашему вниманию уютный односемейный дом с полностью отделанным вторым этажем, построенный в 1993 году и с частичной отделкой в 1995 году, расположенный в тихом жилом районе Mitchell с низкой плотностью застройки. Участок, площадью 14115 кв.футов (около 1310 кв.м.), имеет слегка нерегулярную форму и незначительный склон. Дом оснащён всеми городскими коммуникациями и газовым отоплением с принудительным обращением воздуха. Общая жилая площадь составляет 1362 кв.фута (около 126 кв.м.) и включает 5 комнат, 3 санузла (1 полный в подвале, 1 полный и 1 полуторный над землей), а также стандартную кухню.\n",
      "\n",
      "Для вашего автомобиля имеется пристроенный гараж на две машины площадью 480 кв.футов (около 45 кв.м.). На придомовой территории расположены небольшая открытая веранда площадью 30 кв.футов, деревянная терраса площадью 40 кв.футов и закрытая трёхсезонная веранда с множеством возможностей использования пространства площадью 320 кв.футов. Также имеется сарай площадью свыше 100 кв.футов и ограда по периметру с минимальной степенью приватности. Месяц продажи – октябрь 2009 года. Продажа осуществляется через стандартное соглашение WD с условиями обычной сделки. Цена составляет 143 000 долларов. Не упустите возможность приобрести уютный дом для своей семьи в зелёном и тихом районе!\n",
      "\n",
      "------\n",
      "\n",
      "Ниже перечислены характеристики недвижимости.\n",
      "MSSubClass: Identifies the type of dwelling involved in the sale.: 2-STORY 1946 & NEWER\n",
      "the general zoning classification of the sale.: Residential Low Density\n",
      "Linear feet of street connected to property: 84.0\n",
      "Lot size in square feet: 14260\n",
      "Type of road access to property: Paved\n",
      "General shape of property: Slightly irregular\n",
      "Flatness of the property: Near Flat/Level\n",
      "Type of utilities available: All public Utilities (E,G,W,& S)\n",
      "Lot configuration: Frontage on 2 sides of property\n",
      "Slope of property: Gentle slope\n",
      "Physical locations within Ames city limits: Northridge\n",
      "Proximity to various conditions: Normal\n",
      "Proximity to various conditions (if more than one is present): Normal\n",
      "Type of dwelling: Single-family Detached\n",
      "Style of dwelling: Two story\n",
      "Rates the overall material and finish of the house: Very Good\n",
      "Rates the overall condition of the house: Average\n",
      "Original construction date: 2000\n",
      "Remodel date (same as construction date if no remodeling or additions): 2000\n",
      "Type of roof: Gable\n",
      "Roof material: Standard (Composite) Shingle\n",
      "Exterior covering on house: Vinyl Siding\n",
      "Exterior covering on house (if more than one material): Vinyl Siding\n",
      "Masonry veneer type: Brick Face\n",
      "Masonry veneer area in square feet: 350.0\n",
      "Evaluates the quality of the material on the exterior: Good\n",
      "Evaluates the present condition of the material on the exterior: Average/Typical\n",
      "Type of foundation: Poured Contrete\n",
      "Evaluates the height of the basement: Good (90-99 inches)\n",
      "Evaluates the general condition of the basement: Typical - slight dampness allowed\n",
      "Refers to walkout or garden level walls: Average Exposure (split levels or foyers typically score average or above)\n",
      "Rating of basement finished area: Good Living Quarters\n",
      "Type 1 finished square feet: 655\n",
      "Rating of basement finished area (if multiple types): Unfinshed\n",
      "Type 2 finished square feet: 0\n",
      "Unfinished square feet of basement area: 490\n",
      "Total square feet of basement area: 1145\n",
      "Type of heating: Gas forced warm air furnace\n",
      "Heating quality and condition: Excellent\n",
      "Central air conditioning: Yes\n",
      "Electrical system: Standard Circuit Breakers & Romex\n",
      "First Floor square feet: 1145\n",
      "Second floor square feet: 1053\n",
      "Low quality finished square feet (all floors): 0\n",
      "Above grade (ground) living area square feet: 2198\n",
      "Basement full bathrooms: 1\n",
      "Basement half bathrooms: 0\n",
      "Full bathrooms above grade: 2\n",
      "Half baths above grade: 1\n",
      "Kitchen quality: Good\n",
      "Total rooms above grade (does not include bathrooms): 9\n",
      "Home functionality (Assume typical unless deductions are warranted): Typical Functionality\n",
      "Number of fireplaces: 1\n",
      "Fireplace quality: Average - Prefabricated Fireplace in main living area or Masonry Fireplace in basement\n",
      "Garage location: Attached to home\n",
      "Year garage was built: 2000.0\n",
      "Interior finish of the garage: Rough Finished\n",
      "Size of garage in car capacity: 3\n",
      "Size of garage in square feet: 836\n",
      "Garage quality: Typical/Average\n",
      "Garage condition: Typical/Average\n",
      "Paved driveway: Paved\n",
      "Wood deck area in square feet: 192\n",
      "Open porch area in square feet: 84\n",
      "Enclosed porch area in square feet: 0\n",
      "Three season porch area in square feet: 0\n",
      "Screen porch area in square feet: 0\n",
      "Pool area in square feet: 0\n",
      "$Value of miscellaneous feature: 0\n",
      "Month Sold (MM): 12\n",
      "Year Sold (YYYY): 2008\n",
      "Type of sale: WD\n",
      "Condition of sale: Normal Sale\n",
      "Price: $250000\n",
      "\n",
      "На основании этой информации о недвижимости ниже напиши продающий текст на русском. Текст не должен содержать лжи и должен полностью соответствовать данным из характеристик и состоять из двух абзацев.\n",
      "-----\n",
      "К вашему вниманию предлагается просторный двухэтажный дом, построенный в 2000 году, расположенный в спокойном районе с низкой плотностью застройки - Northridge. Общая площадь участка составляет 14260 кв.футов (около 1325 кв.м.), с небольшим склоном и слегка нерегулярной формой. Дом оборудован всеми коммуникациями, газовым отоплением и кондиционером. Общая жилая площадь составляет 2198 кв.футов (около 204 кв.м.). Внутри дома вы обнаружите отделку очень хорошего качества, 9 комнат сверху, 4 санузла (1 полный в подвале, 2 полных и 1 полуторный над землей), и качественную кухню.\n",
      "\n",
      "Гараж на три машины площадью 836 кв.футов (примерно 78 кв.м.) пристроен к дому и имеет стандартную отделку. На территории участка расположены деревянная терраса площадью 192 кв.футов и открытая веранда площадью 84 кв.фута. Этот дом продаётся через стандартное соглашение WD, с условием обычной продажи. Цена составляет 250 000 долларов. Обязательно приходите на осмотр и увидите всеми преимуществами этого замечательного дома своими глазами!\n",
      "\n",
      "------\n",
      "\n",
      "Ниже перечислены характеристики недвижимости.\n",
      "MSSubClass: Identifies the type of dwelling involved in the sale.: 2-STORY 1945 & OLDER\n",
      "the general zoning classification of the sale.: Residential Low Density\n",
      "Linear feet of street connected to property: 60.0\n",
      "Lot size in square feet: 9550\n",
      "Type of road access to property: Paved\n",
      "General shape of property: Slightly irregular\n",
      "Flatness of the property: Near Flat/Level\n",
      "Type of utilities available: All public Utilities (E,G,W,& S)\n",
      "Lot configuration: Corner lot\n",
      "Slope of property: Gentle slope\n",
      "Physical locations within Ames city limits: Crawford\n",
      "Proximity to various conditions: Normal\n",
      "Proximity to various conditions (if more than one is present): Normal\n",
      "Type of dwelling: Single-family Detached\n",
      "Style of dwelling: Two story\n",
      "Rates the overall material and finish of the house: Good\n",
      "Rates the overall condition of the house: Average\n",
      "Original construction date: 1915\n",
      "Remodel date (same as construction date if no remodeling or additions): 1970\n",
      "Type of roof: Gable\n",
      "Roof material: Standard (Composite) Shingle\n",
      "Exterior covering on house: Wood Siding\n",
      "Exterior covering on house (if more than one material): Wd Shng\n",
      "Masonry veneer area in square feet: 0.0\n",
      "Evaluates the quality of the material on the exterior: Average/Typical\n",
      "Evaluates the present condition of the material on the exterior: Average/Typical\n",
      "Type of foundation: Brick & Tile\n",
      "Evaluates the height of the basement: Typical (80-89 inches)\n",
      "Evaluates the general condition of the basement: Good\n",
      "Refers to walkout or garden level walls: No Exposure\n",
      "Rating of basement finished area: Average Living Quarters\n",
      "Type 1 finished square feet: 216\n",
      "Rating of basement finished area (if multiple types): Unfinshed\n",
      "Type 2 finished square feet: 0\n",
      "Unfinished square feet of basement area: 540\n",
      "Total square feet of basement area: 756\n",
      "Type of heating: Gas forced warm air furnace\n",
      "Heating quality and condition: Good\n",
      "Central air conditioning: Yes\n",
      "Electrical system: Standard Circuit Breakers & Romex\n",
      "First Floor square feet: 961\n",
      "Second floor square feet: 756\n",
      "Low quality finished square feet (all floors): 0\n",
      "Above grade (ground) living area square feet: 1717\n",
      "Basement full bathrooms: 1\n",
      "Basement half bathrooms: 0\n",
      "Full bathrooms above grade: 1\n",
      "Half baths above grade: 0\n",
      "Kitchen quality: Good\n",
      "Total rooms above grade (does not include bathrooms): 7\n",
      "Home functionality (Assume typical unless deductions are warranted): Typical Functionality\n",
      "Number of fireplaces: 1\n",
      "Fireplace quality: Good - Masonry Fireplace in main level\n",
      "Garage location: Detached from home\n",
      "Year garage was built: 1998.0\n",
      "Interior finish of the garage: Unfinished\n",
      "Size of garage in car capacity: 3\n",
      "Size of garage in square feet: 642\n",
      "Garage quality: Typical/Average\n",
      "Garage condition: Typical/Average\n",
      "Paved driveway: Paved\n",
      "Wood deck area in square feet: 0\n",
      "Open porch area in square feet: 35\n",
      "Enclosed porch area in square feet: 272\n",
      "Three season porch area in square feet: 0\n",
      "Screen porch area in square feet: 0\n",
      "Pool area in square feet: 0\n",
      "$Value of miscellaneous feature: 0\n",
      "Month Sold (MM): 2\n",
      "Year Sold (YYYY): 2006\n",
      "Type of sale: WD\n",
      "Condition of sale: Abnormal Sale -  trade, foreclosure, short sale\n",
      "Price: $140000\n",
      "\n",
      "На основании этой информации о недвижимости ниже напиши продающий текст на русском. Текст не должен содержать лжи и должен полностью соответствовать данным из характеристик и состоять из двух абзацев.\n",
      "-----\n",
      "Продаётся уютный двухэтажный дом старой постройки 1915 года, с ремонтом в 1970 году, расположенный в районе с низкой плотностью застройки - Crawford. Участок общей площадью 9550 кв.футов (примерно 887 кв.м.) находится на углу, имеет небольшой наклон и нерегулярную форму. Дом оснащен всеми коммуникациями и газовой системой отопления, общая площадь жилья составляет 1717 кв.футов (примерно 159 кв.м.). Внутри дома вы найдете средней качества отделку, 7 комнат над землей, 2 полных санузла (1 в подвале, 1 над землей), хорошую кухню и красивый камин из натурального камня на первом этаже.\n",
      "\n",
      "Для вашего автомобиля предусмотрен отдельно стоящий гараж, построенный в 1998 году, который вмещает до 3 машин и имеет площадь 642 кв.фута (примерно 60 кв.м.). Вокруг дома есть открытая веранда площадью 35 кв.футов и крытая веранда площадью 272 кв.фута. Месяц продажи - февраль 2006 года, продажа носит абнормальный характер из-за обмена, оформление ипотеки, ликвидации имущества. Цена дома составляет 140 000 долларов. Не упустите шанс стать счастливым владельцем этой уютной недвижимости с прекрасным сочетанием цены и качества!\n",
      "\n",
      "------\n",
      "\n",
      "Ниже перечислены характеристики недвижимости.\n",
      "MSSubClass: Identifies the type of dwelling involved in the sale.: 2-STORY 1946 & NEWER\n",
      "the general zoning classification of the sale.: Residential Low Density\n",
      "Linear feet of street connected to property: 68.0\n",
      "Lot size in square feet: 11250\n",
      "Type of road access to property: Paved\n",
      "General shape of property: Slightly irregular\n",
      "Flatness of the property: Near Flat/Level\n",
      "Type of utilities available: All public Utilities (E,G,W,& S)\n",
      "Lot configuration: Inside lot\n",
      "Slope of property: Gentle slope\n",
      "Physical locations within Ames city limits: College Creek\n",
      "Proximity to various conditions: Normal\n",
      "Proximity to various conditions (if more than one is present): Normal\n",
      "Type of dwelling: Single-family Detached\n",
      "Style of dwelling: Two story\n",
      "Rates the overall material and finish of the house: Good\n",
      "Rates the overall condition of the house: Average\n",
      "Original construction date: 2001\n",
      "Remodel date (same as construction date if no remodeling or additions): 2002\n",
      "Type of roof: Gable\n",
      "Roof material: Standard (Composite) Shingle\n",
      "Exterior covering on house: Vinyl Siding\n",
      "Exterior covering on house (if more than one material): Vinyl Siding\n",
      "Masonry veneer type: Brick Face\n",
      "Masonry veneer area in square feet: 162.0\n",
      "Evaluates the quality of the material on the exterior: Good\n",
      "Evaluates the present condition of the material on the exterior: Average/Typical\n",
      "Type of foundation: Poured Contrete\n",
      "Evaluates the height of the basement: Good (90-99 inches)\n",
      "Evaluates the general condition of the basement: Typical - slight dampness allowed\n",
      "Refers to walkout or garden level walls: Mimimum Exposure\n",
      "Rating of basement finished area: Good Living Quarters\n",
      "Type 1 finished square feet: 486\n",
      "Rating of basement finished area (if multiple types): Unfinshed\n",
      "Type 2 finished square feet: 0\n",
      "Unfinished square feet of basement area: 434\n",
      "Total square feet of basement area: 920\n",
      "Type of heating: Gas forced warm air furnace\n",
      "Heating quality and condition: Excellent\n",
      "Central air conditioning: Yes\n",
      "Electrical system: Standard Circuit Breakers & Romex\n",
      "First Floor square feet: 920\n",
      "Second floor square feet: 866\n",
      "Low quality finished square feet (all floors): 0\n",
      "Above grade (ground) living area square feet: 1786\n",
      "Basement full bathrooms: 1\n",
      "Basement half bathrooms: 0\n",
      "Full bathrooms above grade: 2\n",
      "Half baths above grade: 1\n",
      "Kitchen quality: Good\n",
      "Total rooms above grade (does not include bathrooms): 6\n",
      "Home functionality (Assume typical unless deductions are warranted): Typical Functionality\n",
      "Number of fireplaces: 1\n",
      "Fireplace quality: Average - Prefabricated Fireplace in main living area or Masonry Fireplace in basement\n",
      "Garage location: Attached to home\n",
      "Year garage was built: 2001.0\n",
      "Interior finish of the garage: Rough Finished\n",
      "Size of garage in car capacity: 2\n",
      "Size of garage in square feet: 608\n",
      "Garage quality: Typical/Average\n",
      "Garage condition: Typical/Average\n",
      "Paved driveway: Paved\n",
      "Wood deck area in square feet: 0\n",
      "Open porch area in square feet: 42\n",
      "Enclosed porch area in square feet: 0\n",
      "Three season porch area in square feet: 0\n",
      "Screen porch area in square feet: 0\n",
      "Pool area in square feet: 0\n",
      "$Value of miscellaneous feature: 0\n",
      "Month Sold (MM): 9\n",
      "Year Sold (YYYY): 2008\n",
      "Type of sale: WD\n",
      "Condition of sale: Normal Sale\n",
      "Price: $223500\n",
      "\n",
      "На основании этой информации о недвижимости ниже напиши продающий текст на русском. Текст не должен содержать лжи и должен полностью соответствовать данным из характеристик и состоять из двух абзацев.\n",
      "-----\n",
      "Продаётся двухэтажный дом с индивидуальным дизайном, построенный в 2001 году, расположенный в тихом и уютном районе с низкой плотностью застройки - College Creek. Участок площадью 11250 кв.футов (примерно 1045 кв.м.), с легким наклоном и небольшой нерегулярностью формы. Дом имеет подключение ко всем городским коммуникациям и современное отопление с газовой установкой. Общая площадь жилья составляет 1786 кв.футов (примерно 166 кв.м.). В доме имеется хорошая отделка, 6 комнат над землей, 3 санузла (1 полный в подвале, 2 полных и 1 полуторный над землей), качественная кухня и уютный гостиный с камином.\n",
      "\n",
      "Для вашего удобства предусмотрен гараж на две машины площадью 608 кв.футов (примерно 56 кв.м.), пристроенный к дому, с внутренней отделкой и хорошим качеством и состоянием. Также на территории имеется открытая веранда площадью 42 кв.фута, дорожки и двор выложены брусчаткой. Продажа осуществляется через стандартное соглашение WD, обычная продажа. Цена дома составляет 223 500 долларов. Приезжайте на просмотр и возможно, именно здесь вы найдете своё идеальное место для жизни и счастья!\n",
      "\n"
     ]
    }
   ],
   "source": [
    "print(\"\\n------\\n\\n\".join(v['request'] + \"\\n-----\\n\" + v['response'] for v in train_dataset))"
   ]
  },
  {
   "cell_type": "markdown",
   "id": "f5bdee5c",
   "metadata": {},
   "source": [
    "## Finetune"
   ]
  },
  {
   "cell_type": "code",
   "execution_count": null,
   "id": "abaf8b67",
   "metadata": {},
   "outputs": [],
   "source": [
    "df = pd.read_json('../squad.json', lines=True)"
   ]
  },
  {
   "cell_type": "code",
   "execution_count": null,
   "id": "e2ac9ece",
   "metadata": {},
   "outputs": [],
   "source": [
    "df"
   ]
  },
  {
   "cell_type": "code",
   "execution_count": null,
   "id": "c128da44",
   "metadata": {},
   "outputs": [],
   "source": [
    "df['request'] = df.context + '\\n\\nQuestion: ' + df.question"
   ]
  },
  {
   "cell_type": "code",
   "execution_count": null,
   "id": "52d2ddbd",
   "metadata": {},
   "outputs": [],
   "source": [
    "df['response'] = df.ans_texts.str[0]"
   ]
  },
  {
   "cell_type": "code",
   "execution_count": null,
   "id": "261704c2",
   "metadata": {},
   "outputs": [],
   "source": [
    "df = df.sample(df.shape[0])"
   ]
  },
  {
   "cell_type": "code",
   "execution_count": null,
   "id": "cf802175",
   "metadata": {},
   "outputs": [],
   "source": [
    "data = [{'request': t.request, 'response': t.response} for t in df[['request', 'response']].itertuples()]"
   ]
  },
  {
   "cell_type": "code",
   "execution_count": null,
   "id": "925f6ae2",
   "metadata": {},
   "outputs": [],
   "source": [
    "train = data[:400]"
   ]
  },
  {
   "cell_type": "raw",
   "id": "71d9abcc",
   "metadata": {},
   "source": [
    "\n",
    "json.dump(train, open('train.json', 'w'))"
   ]
  },
  {
   "cell_type": "code",
   "execution_count": null,
   "id": "54224712",
   "metadata": {},
   "outputs": [],
   "source": [
    "train = json.load(open('train.json', 'r'))"
   ]
  },
  {
   "cell_type": "code",
   "execution_count": null,
   "id": "504ba079",
   "metadata": {},
   "outputs": [],
   "source": [
    "sample = df[~df.request.isin([t['request'] for t in train])].sample().iloc[0]\n",
    "print(sample['request'])\n",
    "print('-----')\n",
    "print(sample['response'])"
   ]
  },
  {
   "cell_type": "code",
   "execution_count": null,
   "id": "c37a2339",
   "metadata": {},
   "outputs": [],
   "source": []
  }
 ],
 "metadata": {
  "kernelspec": {
   "display_name": "Python 3 (ipykernel)",
   "language": "python",
   "name": "python3"
  },
  "language_info": {
   "codemirror_mode": {
    "name": "ipython",
    "version": 3
   },
   "file_extension": ".py",
   "mimetype": "text/x-python",
   "name": "python",
   "nbconvert_exporter": "python",
   "pygments_lexer": "ipython3",
   "version": "3.9.13"
  }
 },
 "nbformat": 4,
 "nbformat_minor": 5
}
