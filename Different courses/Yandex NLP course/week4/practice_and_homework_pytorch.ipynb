{
 "cells": [
  {
   "cell_type": "markdown",
   "metadata": {
    "colab_type": "text",
    "id": "HmsFABwClrsS"
   },
   "source": [
    "## Seminar and homework (10 points total)\n",
    "\n",
    "Today we shall compose encoder-decoder neural networks and apply them to the task of machine translation.\n",
    "\n",
    "![img](https://esciencegroup.files.wordpress.com/2016/03/seq2seq.jpg)\n",
    "_(img: esciencegroup.files.wordpress.com)_\n",
    "\n",
    "\n",
    "Encoder-decoder architectures are about converting anything to anything, including\n",
    " * Machine translation and spoken dialogue systems\n",
    " * [Image captioning](http://mscoco.org/dataset/#captions-challenge2015) and [image2latex](https://openai.com/requests-for-research/#im2latex) (convolutional encoder, recurrent decoder)\n",
    " * Generating [images by captions](https://arxiv.org/abs/1511.02793) (recurrent encoder, convolutional decoder)\n",
    " * Grapheme2phoneme - convert words to transcripts"
   ]
  },
  {
   "cell_type": "markdown",
   "metadata": {
    "colab_type": "text",
    "id": "R4N9AD2dlrsU"
   },
   "source": [
    "## Our task: machine translation\n",
    "\n",
    "We gonna try our encoder-decoder models on russian to english machine translation problem. More specifically, we'll translate hotel and hostel descriptions. This task shows the scale of machine translation while not requiring you to train your model for weeks if you don't use GPU.\n",
    "\n",
    "Before we get to the architecture, there's some preprocessing to be done. ~~Go tokenize~~ Alright, this time we've done preprocessing for you. As usual, the data will be tokenized with WordPunctTokenizer.\n",
    "\n",
    "However, there's one more thing to do. Our data lines contain unique rare words. If we operate on a word level, we will have to deal with large vocabulary size. If instead we use character-level models, it would take lots of iterations to process a sequence. This time we're gonna pick something inbetween.\n",
    "\n",
    "One popular approach is called [Byte Pair Encoding](https://github.com/rsennrich/subword-nmt) aka __BPE__. The algorithm starts with a character-level tokenization and then iteratively merges most frequent pairs for N iterations. This results in frequent words being merged into a single token and rare words split into syllables or even characters.\n",
    "\n"
   ]
  },
  {
   "cell_type": "code",
   "execution_count": 1,
   "metadata": {
    "colab": {},
    "colab_type": "code",
    "id": "CfvojjHQlrsU"
   },
   "outputs": [],
   "source": [
    "# !pip3 install torch>=1.3.0\n",
    "# !pip3 install subword-nmt &> log\n",
    "# !wget https://www.dropbox.com/s/yy2zqh34dyhv07i/data.txt?dl=1 -O data.txt\n",
    "# !wget https://raw.githubusercontent.com/yandexdataschool/nlp_course/2020/week04_seq2seq/vocab.py -O vocab.py\n",
    "# thanks to tilda and deephack teams for the data, Dmitry Emelyanenko for the code :)"
   ]
  },
  {
   "cell_type": "code",
   "execution_count": 2,
   "metadata": {
    "colab": {},
    "colab_type": "code",
    "id": "g9kP0SdxlrsY"
   },
   "outputs": [
    {
     "name": "stderr",
     "output_type": "stream",
     "text": [
      "100%|████████████████████████████████████████████████████████████████████████████| 8000/8000 [00:06<00:00, 1237.98it/s]\n",
      "100%|████████████████████████████████████████████████████████████████████████████| 8000/8000 [00:06<00:00, 1162.96it/s]\n"
     ]
    }
   ],
   "source": [
    "from nltk.tokenize import WordPunctTokenizer\n",
    "from subword_nmt.learn_bpe import learn_bpe\n",
    "from subword_nmt.apply_bpe import BPE\n",
    "tokenizer = WordPunctTokenizer()\n",
    "def tokenize(x):\n",
    "    return ' '.join(tokenizer.tokenize(x.lower()))\n",
    "\n",
    "# split and tokenize the data\n",
    "with open('train.en', 'w', encoding='utf-8') as f_src,  open('train.ru', 'w', encoding='utf-8') as f_dst:\n",
    "    for line in open('data.txt', encoding='utf-8'):\n",
    "        src_line, dst_line = line.strip().split('\\t')\n",
    "        f_src.write(tokenize(src_line) + '\\n')\n",
    "        f_dst.write(tokenize(dst_line) + '\\n')\n",
    "\n",
    "# build and apply bpe vocs\n",
    "bpe = {}\n",
    "for lang in ['en', 'ru']:\n",
    "    learn_bpe(open('./train.' + lang, encoding='utf-8'), open('bpe_rules.' + lang, 'w', encoding='utf-8'), num_symbols=8000)\n",
    "    bpe[lang] = BPE(open('./bpe_rules.' + lang))\n",
    "    \n",
    "    with open('train.bpe.' + lang, 'w', encoding='utf-8') as f_out:\n",
    "        for line in open('train.' + lang, encoding='utf-8'):\n",
    "            f_out.write(bpe[lang].process_line(line.strip()) + '\\n')"
   ]
  },
  {
   "cell_type": "markdown",
   "metadata": {
    "colab_type": "text",
    "id": "0UPW3sV8lrsb"
   },
   "source": [
    "### Building vocabularies\n",
    "\n",
    "We now need to build vocabularies that map strings to token ids and vice versa. We're gonna need these fellas when we feed training data into model or convert output matrices into words."
   ]
  },
  {
   "cell_type": "code",
   "execution_count": 3,
   "metadata": {
    "colab": {},
    "colab_type": "code",
    "id": "CmTy_m_olrsb"
   },
   "outputs": [],
   "source": [
    "import numpy as np\n",
    "import matplotlib.pyplot as plt\n",
    "%matplotlib inline"
   ]
  },
  {
   "cell_type": "code",
   "execution_count": 4,
   "metadata": {
    "colab": {},
    "colab_type": "code",
    "id": "8PskgBSxlrsd"
   },
   "outputs": [
    {
     "name": "stdout",
     "output_type": "stream",
     "text": [
      "inp: н@@ а т@@ е@@ р@@ р@@ и@@ т@@ о@@ р@@ и@@ и о@@ б@@ у@@ с@@ т@@ р@@ о@@ е@@ н@@ а б@@ е@@ с@@ п@@ л@@ а@@ т@@ н@@ а@@ я ч@@ а@@ с@@ т@@ н@@ а@@ я п@@ а@@ р@@ к@@ о@@ в@@ к@@ а .\n",
      "out: free private parking is available on site .\n",
      "\n",
      "inp: к@@ р@@ о@@ м@@ е т@@ о@@ г@@ о , в 5 м@@ и@@ н@@ у@@ т@@ а@@ х х@@ о@@ д@@ ь@@ б@@ ы р@@ а@@ б@@ о@@ т@@ а@@ ю@@ т м@@ н@@ о@@ г@@ о@@ ч@@ и@@ с@@ л@@ е@@ н@@ н@@ ы@@ е б@@ а@@ р@@ ы и р@@ е@@ с@@ т@@ о@@ р@@ а@@ н@@ ы .\n",
      "out: guests can find many bars and restaurants within a 5 - minute walk .\n",
      "\n",
      "inp: о@@ т@@ е@@ л@@ ь san mi@@ gu@@ el р@@ а@@ с@@ п@@ о@@ л@@ о@@ ж@@ е@@ н в ц@@ е@@ н@@ т@@ р@@ е м@@ о@@ р@@ е@@ л@@ и@@ и , в 750 м@@ е@@ т@@ р@@ а@@ х о@@ т г@@ л@@ а@@ в@@ н@@ о@@ й п@@ л@@ о@@ щ@@ а@@ д@@ и г@@ о@@ р@@ о@@ д@@ а и к@@ а@@ ф@@ е@@ д@@ р@@ а@@ л@@ ь@@ н@@ о@@ г@@ о с@@ о@@ б@@ о@@ р@@ а .\n",
      "out: hotel san miguel is located in central more@@ lia , 750 metres from the city ’ s main square and cathedral .\n",
      "\n"
     ]
    }
   ],
   "source": [
    "data_inp = np.array(open('./train.bpe.ru', encoding='utf-8').read().split('\\n'))\n",
    "data_out = np.array(open('./train.bpe.en', encoding='utf-8').read().split('\\n'))\n",
    "\n",
    "from sklearn.model_selection import train_test_split\n",
    "train_inp, dev_inp, train_out, dev_out = train_test_split(data_inp, data_out, test_size=3000,\n",
    "                                                          random_state=42)\n",
    "for i in range(3):\n",
    "    print('inp:', train_inp[i])\n",
    "    print('out:', train_out[i], end='\\n\\n')"
   ]
  },
  {
   "cell_type": "code",
   "execution_count": 5,
   "metadata": {
    "colab": {},
    "colab_type": "code",
    "id": "vipg4O61lrsg"
   },
   "outputs": [],
   "source": [
    "from vocab import Vocab\n",
    "inp_voc = Vocab.from_lines(train_inp)\n",
    "out_voc = Vocab.from_lines(train_out)"
   ]
  },
  {
   "cell_type": "code",
   "execution_count": 6,
   "metadata": {
    "colab": {},
    "colab_type": "code",
    "id": "cwOoHfuhlrsi"
   },
   "outputs": [
    {
     "name": "stdout",
     "output_type": "stream",
     "text": [
      "lines\n",
      "['о@@ т@@ к@@ р@@ ы@@ т б@@ а@@ р .', 'д@@ о ш@@ у@@ о@@ л@@ я - 27 к@@ м .', 'д@@ о т@@ у@@ а@@ п@@ с@@ е 19 к@@ м .', 'д@@ о л@@ у@@ в@@ р@@ а — 1 , 8 к@@ м .', 'д@@ о р@@ а@@ в@@ е@@ н@@ н@@ ы 29 к@@ м .']\n",
      "\n",
      "words to ids (0 = bos, 1 = eos):\n",
      "tensor([[   0, 1626, 1634, 1618, 1630, 1652, 1633, 1600, 1598, 1629,   29,    1,\n",
      "            1,    1,    1,    1],\n",
      "        [   0, 1606, 1625, 1646, 1636, 1626, 1620, 1659,   27,   69, 1618, 1621,\n",
      "           29,    1,    1,    1],\n",
      "        [   0, 1606, 1625, 1634, 1636, 1598, 1628, 1632, 1607,   55, 1618, 1621,\n",
      "           29,    1,    1,    1],\n",
      "        [   0, 1606, 1625, 1620, 1636, 1602, 1630, 1597, 1665,   37,   25,  135,\n",
      "         1618, 1621,   29,    1],\n",
      "        [   0, 1606, 1625, 1630, 1598, 1602, 1608, 1624, 1624, 1651,   71, 1618,\n",
      "         1621,   29,    1,    1]])\n",
      "\n",
      "back to words\n",
      "['о@@ т@@ к@@ р@@ ы@@ т б@@ а@@ р .', 'д@@ о ш@@ у@@ о@@ л@@ я - 27 к@@ м .', 'д@@ о т@@ у@@ а@@ п@@ с@@ е 19 к@@ м .', 'д@@ о л@@ у@@ в@@ р@@ а — 1 , 8 к@@ м .', 'д@@ о р@@ а@@ в@@ е@@ н@@ н@@ ы 29 к@@ м .']\n"
     ]
    }
   ],
   "source": [
    "# Here's how you cast lines into ids and backwards.\n",
    "batch_lines = sorted(train_inp, key=len)[5:10]\n",
    "batch_ids = inp_voc.to_matrix(batch_lines)\n",
    "batch_lines_restored = inp_voc.to_lines(batch_ids)\n",
    "\n",
    "print(\"lines\")\n",
    "print(batch_lines)\n",
    "print(\"\\nwords to ids (0 = bos, 1 = eos):\")\n",
    "print(batch_ids)\n",
    "print(\"\\nback to words\")\n",
    "print(batch_lines_restored)"
   ]
  },
  {
   "cell_type": "code",
   "execution_count": 7,
   "metadata": {},
   "outputs": [
    {
     "data": {
      "text/plain": [
       "['р@@']"
      ]
     },
     "execution_count": 7,
     "metadata": {},
     "output_type": "execute_result"
    }
   ],
   "source": [
    "inp_voc.to_lines([[1630]])"
   ]
  },
  {
   "cell_type": "markdown",
   "metadata": {
    "colab_type": "text",
    "id": "gSYu-MkElrsk"
   },
   "source": [
    "Draw source and translation length distributions to estimate the scope of the task."
   ]
  },
  {
   "cell_type": "code",
   "execution_count": 8,
   "metadata": {
    "colab": {},
    "colab_type": "code",
    "id": "TLLl9cSNlrsl"
   },
   "outputs": [
    {
     "data": {
      "image/png": "[encoded data removed]",
      "text/plain": [
       "<Figure size 800x400 with 2 Axes>"
      ]
     },
     "metadata": {},
     "output_type": "display_data"
    }
   ],
   "source": [
    "plt.figure(figsize=[8, 4])\n",
    "plt.subplot(1, 2, 1)\n",
    "plt.title(\"source length\")\n",
    "plt.hist(list(map(len, map(str.split, train_inp))), bins=20);\n",
    "\n",
    "plt.subplot(1, 2, 2)\n",
    "plt.title(\"translation length\")\n",
    "plt.hist(list(map(len, map(str.split, train_out))), bins=20);"
   ]
  },
  {
   "cell_type": "markdown",
   "metadata": {
    "colab_type": "text",
    "id": "BHWgx34flrsn"
   },
   "source": [
    "### Encoder-decoder model\n",
    "\n",
    "The code below contains a template for a simple encoder-decoder model: single GRU encoder/decoder, no attention or anything. This model is implemented for you as a reference and a baseline for your homework assignment."
   ]
  },
  {
   "cell_type": "code",
   "execution_count": 9,
   "metadata": {
    "colab": {},
    "colab_type": "code",
    "id": "pd_rDRm9lrso"
   },
   "outputs": [],
   "source": [
    "import torch\n",
    "import torch.nn as nn\n",
    "import torch.nn.functional as F\n",
    "device = 'cuda' if torch.cuda.is_available() else 'cpu'"
   ]
  },
  {
   "cell_type": "code",
   "execution_count": 10,
   "metadata": {
    "colab": {},
    "colab_type": "code",
    "id": "wgfN5-F7lrst"
   },
   "outputs": [],
   "source": [
    "class BasicModel(nn.Module):\n",
    "    def __init__(self, inp_voc, out_voc, emb_size=64, hid_size=128):\n",
    "        \"\"\"\n",
    "        A simple encoder-decoder seq2seq model\n",
    "        \"\"\"\n",
    "        super().__init__() # initialize base class to track sub-layers, parameters, etc.\n",
    "\n",
    "        self.inp_voc, self.out_voc = inp_voc, out_voc\n",
    "        self.hid_size = hid_size\n",
    "        \n",
    "        self.emb_inp = nn.Embedding(len(inp_voc), emb_size)\n",
    "        self.emb_out = nn.Embedding(len(out_voc), emb_size)\n",
    "        self.enc0 = nn.GRU(emb_size, hid_size, batch_first=True)\n",
    "\n",
    "        self.dec_start = nn.Linear(hid_size, hid_size)\n",
    "        self.dec0 = nn.GRUCell(emb_size, hid_size)\n",
    "        self.logits = nn.Linear(hid_size, len(out_voc))\n",
    "        \n",
    "    def forward(self, inp, out):\n",
    "        \"\"\" Apply model in training mode \"\"\"\n",
    "        initial_state = self.encode(inp)\n",
    "        return self.decode(initial_state, out)\n",
    "\n",
    "    def encode(self, inp, **flags):\n",
    "        \"\"\"\n",
    "        Takes symbolic input sequence, computes initial state\n",
    "        :param inp: matrix of input tokens [batch, time]\n",
    "        :returns: initial decoder state tensors, one or many\n",
    "        \"\"\"\n",
    "        inp_emb = self.emb_inp(inp)\n",
    "        batch_size = inp.shape[0]\n",
    "        \n",
    "        enc_seq, [last_state_but_not_really] = self.enc0(inp_emb)\n",
    "        # enc_seq: [batch, time, hid_size], last_state: [batch, hid_size]\n",
    "        \n",
    "        # note: last_state is not _actually_ last because of padding, let's find the real last_state\n",
    "        lengths = (inp != self.inp_voc.eos_ix).to(torch.int64).sum(dim=1).clamp_max(inp.shape[1] - 1)\n",
    "        last_state = enc_seq[torch.arange(len(enc_seq)), lengths]\n",
    "        # ^-- shape: [batch_size, hid_size]\n",
    "        \n",
    "        dec_start = self.dec_start(last_state)\n",
    "        return [dec_start]\n",
    "\n",
    "    def decode_step(self, prev_state, prev_tokens, **flags):\n",
    "        \"\"\"\n",
    "        Takes previous decoder state and tokens, returns new state and logits for next tokens\n",
    "        :param prev_state: a list of previous decoder state tensors, same as returned by encode(...)\n",
    "        :param prev_tokens: previous output tokens, an int vector of [batch_size]\n",
    "        :return: a list of next decoder state tensors, a tensor of logits [batch, len(out_voc)]\n",
    "        \"\"\"\n",
    "        prev_gru0_state = prev_state[0]\n",
    "\n",
    "        prev_token_embs = self.emb_out(prev_tokens)\n",
    "        \n",
    "        new_gru_activations = self.dec0(prev_token_embs, prev_gru0_state)\n",
    "        new_dec_state = [new_gru_activations]\n",
    "        output_logits = self.logits(new_gru_activations)\n",
    "        \n",
    "        return new_dec_state, output_logits\n",
    "\n",
    "    def decode(self, initial_state, out_tokens, **flags):\n",
    "        \"\"\" Iterate over reference tokens (out_tokens) with decode_step \"\"\"\n",
    "        batch_size = out_tokens.shape[0]\n",
    "        state = initial_state\n",
    "        \n",
    "        # initial logits: always predict BOS\n",
    "        onehot_bos = F.one_hot(torch.full([batch_size], self.out_voc.bos_ix, dtype=torch.int64),\n",
    "                               num_classes=len(self.out_voc)).to(device=out_tokens.device)\n",
    "        first_logits = torch.log(onehot_bos.to(torch.float32) + 1e-9)\n",
    "        \n",
    "        logits_sequence = [first_logits]\n",
    "        for i in range(out_tokens.shape[1] - 1):\n",
    "            state, logits = self.decode_step(state, out_tokens[:, i])\n",
    "            logits_sequence.append(logits)\n",
    "        return torch.stack(logits_sequence, dim=1)\n",
    "\n",
    "    def decode_inference(self, initial_state, max_len=100, **flags):\n",
    "        \"\"\" Generate translations from model (greedy version) \"\"\"\n",
    "        batch_size, device = len(initial_state[0]), initial_state[0].device\n",
    "        state = initial_state\n",
    "        outputs = [torch.full([batch_size], self.out_voc.bos_ix, dtype=torch.int64, \n",
    "                              device=device)]\n",
    "        all_states = [initial_state]\n",
    "\n",
    "        for i in range(max_len):\n",
    "            state, logits = self.decode_step(state, outputs[-1])\n",
    "            outputs.append(logits.argmax(dim=-1))\n",
    "            all_states.append(state)\n",
    "        \n",
    "        return torch.stack(outputs, dim=1), all_states\n",
    "\n",
    "    def translate_lines(self, inp_lines, **kwargs):\n",
    "        inp = self.inp_voc.to_matrix(inp_lines).to(device)\n",
    "        initial_state = self.encode(inp)\n",
    "        out_ids, states = self.decode_inference(initial_state, **kwargs)\n",
    "        return self.out_voc.to_lines(out_ids.cpu().numpy()), states\n"
   ]
  },
  {
   "cell_type": "code",
   "execution_count": 11,
   "metadata": {},
   "outputs": [],
   "source": [
    "# debugging area\n",
    "model = BasicModel(inp_voc, out_voc).to(device)\n",
    "\n",
    "dummy_inp_tokens = inp_voc.to_matrix(sorted(train_inp, key=len)[5:10]).to(device)\n",
    "dummy_out_tokens = out_voc.to_matrix(sorted(train_out, key=len)[5:10]).to(device)\n",
    "\n",
    "h0 = model.encode(dummy_inp_tokens)\n",
    "h1, logits1 = model.decode_step(h0, torch.arange(len(dummy_inp_tokens), device=device))\n",
    "\n",
    "assert isinstance(h1, list) and len(h1) == len(h0)\n",
    "assert h1[0].shape == h0[0].shape and not torch.allclose(h1[0], h0[0])\n",
    "assert logits1.shape == (len(dummy_inp_tokens), len(out_voc))\n",
    "\n",
    "logits_seq = model.decode(h0, dummy_out_tokens)\n",
    "assert logits_seq.shape == (dummy_out_tokens.shape[0], dummy_out_tokens.shape[1], len(out_voc))\n",
    "\n",
    "# full forward\n",
    "logits_seq2 = model(dummy_inp_tokens, dummy_out_tokens)\n",
    "assert logits_seq2.shape == logits_seq.shape"
   ]
  },
  {
   "cell_type": "code",
   "execution_count": 12,
   "metadata": {},
   "outputs": [
    {
     "data": {
      "text/plain": [
       "tensor([[   0, 1626, 1634, 1618, 1630, 1652, 1633, 1600, 1598, 1629,   29,    1,\n",
       "            1,    1,    1,    1],\n",
       "        [   0, 1606, 1625, 1646, 1636, 1626, 1620, 1659,   27,   69, 1618, 1621,\n",
       "           29,    1,    1,    1],\n",
       "        [   0, 1606, 1625, 1634, 1636, 1598, 1628, 1632, 1607,   55, 1618, 1621,\n",
       "           29,    1,    1,    1],\n",
       "        [   0, 1606, 1625, 1620, 1636, 1602, 1630, 1597, 1665,   37,   25,  135,\n",
       "         1618, 1621,   29,    1],\n",
       "        [   0, 1606, 1625, 1630, 1598, 1602, 1608, 1624, 1624, 1651,   71, 1618,\n",
       "         1621,   29,    1,    1]], device='cuda:0')"
      ]
     },
     "execution_count": 12,
     "metadata": {},
     "output_type": "execute_result"
    }
   ],
   "source": [
    "dummy_inp_tokens"
   ]
  },
  {
   "cell_type": "code",
   "execution_count": 13,
   "metadata": {},
   "outputs": [
    {
     "name": "stdout",
     "output_type": "stream",
     "text": [
      "Translations without training:\n",
      "moskovsky les ika indian fashion fashion fashion fashion fashion fashion fashion fashion fashion fashion fashion fashion fashion fashion fashion fashion fashion fashion fashion fashion fashion\n",
      "moskovsky les ika indian fashion fashion fashion fashion fashion fashion fashion fashion fashion fashion fashion fashion fashion fashion fashion fashion fashion fashion fashion fashion fashion\n",
      "moskovsky les ika indian fashion fashion fashion fashion fashion fashion fashion fashion fashion fashion fashion fashion fashion fashion fashion fashion fashion fashion fashion fashion fashion\n"
     ]
    }
   ],
   "source": [
    "dummy_translations, dummy_states = model.translate_lines(train_inp[:3], max_len=25)\n",
    "print(\"Translations without training:\")\n",
    "print('\\n'.join([line for line in dummy_translations]))"
   ]
  },
  {
   "cell_type": "markdown",
   "metadata": {
    "colab_type": "text",
    "id": "_wuv1-aVlrs0"
   },
   "source": [
    "### Training loss (2 points)\n",
    "\n",
    "Our training objective is almost the same as it was for neural language models:\n",
    "$$ L = {\\frac1{|D|}} \\sum_{X, Y \\in D} \\sum_{y_t \\in Y} - \\log p(y_t \\mid y_1, \\dots, y_{t-1}, X, \\theta) $$\n",
    "\n",
    "where $|D|$ is the __total length of all sequences__, including BOS and first EOS, but excluding PAD."
   ]
  },
  {
   "cell_type": "code",
   "execution_count": 14,
   "metadata": {
    "colab": {},
    "colab_type": "code",
    "id": "c8XPV8sWlrs5",
    "scrolled": true
   },
   "outputs": [],
   "source": [
    "def compute_loss(model, inp, out, **flags):\n",
    "    \"\"\"\n",
    "    Compute loss (float32 scalar) as in the formula above\n",
    "    :param inp: input tokens matrix, int32[batch, time]\n",
    "    :param out: reference tokens matrix, int32[batch, time]\n",
    "    \n",
    "    In order to pass the tests, your function should\n",
    "    * include loss at first EOS but not the subsequent ones\n",
    "    * divide sum of losses by a sum of input lengths (use voc.compute_mask)\n",
    "    \"\"\"\n",
    "    mask = model.out_voc.compute_mask(out) # [batch_size, out_len]\n",
    "    targets_1hot = F.one_hot(out, len(model.out_voc)).to(torch.float32)\n",
    "    \n",
    "    # outputs of the model, [batch_size, out_len, num_tokens]\n",
    "    logits_seq = model(inp, out)\n",
    "\n",
    "    # log-probabilities of all tokens at all steps, [batch_size, out_len, num_tokens]\n",
    "    logprobs_seq = F.log_softmax(logits_seq, dim=-1)\n",
    "   \n",
    "    # log-probabilities of correct outputs, [batch_size, out_len]\n",
    "    logp_out = (logprobs_seq * targets_1hot).sum(dim=-1) * mask\n",
    "    # ^-- this will select the probability of the actual next token.\n",
    "    # Note: you can compute loss more efficiently using using F.cross_entropy\n",
    "\n",
    "    # average cross-entropy over tokens where mask == True\n",
    "    return -logp_out.mean() # <YOUR CODE HERE> # average loss, scalar"
   ]
  },
  {
   "cell_type": "code",
   "execution_count": 15,
   "metadata": {
    "colab": {},
    "colab_type": "code",
    "id": "ME_LWUeklrs7"
   },
   "outputs": [
    {
     "name": "stdout",
     "output_type": "stream",
     "text": [
      "Loss: tensor(6.6774, device='cuda:0', grad_fn=<NegBackward0>)\n"
     ]
    }
   ],
   "source": [
    "dummy_loss = compute_loss(model, dummy_inp_tokens, dummy_out_tokens)\n",
    "print(\"Loss:\", dummy_loss)\n",
    "assert np.allclose(dummy_loss.item(), 7.5, rtol=0.1, atol=0.1), \"We're sorry for your loss\"\n",
    "\n",
    "# test autograd\n",
    "dummy_loss.backward()\n",
    "for name, param in model.named_parameters():\n",
    "    assert param.grad is not None and abs(param.grad.max()) != 0, f\"Param {name} received no gradients\""
   ]
  },
  {
   "cell_type": "markdown",
   "metadata": {
    "colab_type": "text",
    "id": "HpbaBpW7lrs-"
   },
   "source": [
    "### Evaluation: BLEU\n",
    "\n",
    "Machine translation is commonly evaluated with [BLEU](https://en.wikipedia.org/wiki/BLEU) score. This metric simply computes which fraction of predicted n-grams is actually present in the reference translation. It does so for n=1,2,3 and 4 and computes the geometric average with penalty if translation is shorter than reference.\n",
    "\n",
    "While BLEU [has many drawbacks](http://www.cs.jhu.edu/~ccb/publications/re-evaluating-the-role-of-bleu-in-mt-research.pdf), it still remains the most commonly used metric and one of the simplest to compute."
   ]
  },
  {
   "cell_type": "code",
   "execution_count": 16,
   "metadata": {
    "colab": {},
    "colab_type": "code",
    "id": "Gb1-PhKIlrs-"
   },
   "outputs": [],
   "source": [
    "from nltk.translate.bleu_score import corpus_bleu\n",
    "def compute_bleu(model, inp_lines, out_lines, bpe_sep='@@ ', **flags):\n",
    "    \"\"\"\n",
    "    Estimates corpora-level BLEU score of model's translations given inp and reference out\n",
    "    Note: if you're serious about reporting your results, use https://pypi.org/project/sacrebleu\n",
    "    \"\"\"\n",
    "    with torch.no_grad():\n",
    "        translations, _ = model.translate_lines(inp_lines, **flags)\n",
    "        translations = [line.replace(bpe_sep, '') for line in translations]\n",
    "        actual = [line.replace(bpe_sep, '') for line in out_lines]\n",
    "        return corpus_bleu(\n",
    "            [[ref.split()] for ref in actual],\n",
    "            [trans.split() for trans in translations],\n",
    "            smoothing_function=lambda precisions, **kw: [p + 1.0 / p.denominator for p in precisions]\n",
    "            ) * 100"
   ]
  },
  {
   "cell_type": "code",
   "execution_count": 17,
   "metadata": {
    "colab": {},
    "colab_type": "code",
    "id": "gZvfid1RlrtA"
   },
   "outputs": [
    {
     "data": {
      "text/plain": [
       "0.0009680122434304117"
      ]
     },
     "execution_count": 17,
     "metadata": {},
     "output_type": "execute_result"
    }
   ],
   "source": [
    "compute_bleu(model, dev_inp, dev_out)"
   ]
  },
  {
   "cell_type": "markdown",
   "metadata": {
    "colab_type": "text",
    "id": "nQDhGwg4lrtC"
   },
   "source": [
    "### Training loop\n",
    "\n",
    "Training encoder-decoder models isn't that different from any other models: sample batches, compute loss, backprop and update"
   ]
  },
  {
   "cell_type": "code",
   "execution_count": 18,
   "metadata": {
    "colab": {},
    "colab_type": "code",
    "id": "yfwIaixHlrtI"
   },
   "outputs": [],
   "source": [
    "from IPython.display import clear_output\n",
    "from tqdm import tqdm, trange\n",
    "metrics = {'train_loss': [], 'dev_bleu': [] }\n",
    "\n",
    "model = BasicModel(inp_voc, out_voc).to(device)\n",
    "opt = torch.optim.Adam(model.parameters(), lr=1e-3)\n",
    "batch_size = 32"
   ]
  },
  {
   "cell_type": "code",
   "execution_count": 19,
   "metadata": {
    "colab": {},
    "colab_type": "code",
    "id": "LlDT6eDUlrtL"
   },
   "outputs": [
    {
     "data": {
      "image/png": "[encoded data removed]",
      "text/plain": [
       "<Figure size 1200x400 with 2 Axes>"
      ]
     },
     "metadata": {},
     "output_type": "display_data"
    },
    {
     "name": "stdout",
     "output_type": "stream",
     "text": [
      "Mean loss=0.893\n"
     ]
    },
    {
     "name": "stderr",
     "output_type": "stream",
     "text": [
      "100%|████████████████████████████████████████████████████████████████████████████| 25000/25000 [21:42<00:00, 19.19it/s]\n"
     ]
    }
   ],
   "source": [
    "for _ in trange(25000):\n",
    "    step = len(metrics['train_loss']) + 1\n",
    "    batch_ix = np.random.randint(len(train_inp), size=batch_size)\n",
    "    batch_inp = inp_voc.to_matrix(train_inp[batch_ix]).to(device)\n",
    "    batch_out = out_voc.to_matrix(train_out[batch_ix]).to(device)\n",
    "    \n",
    "    loss_t = compute_loss(model, batch_inp, batch_out)\n",
    "    opt.zero_grad()\n",
    "    loss_t.backward()\n",
    "    opt.step()\n",
    "    \n",
    "    metrics['train_loss'].append((step, loss_t.item()))\n",
    "    \n",
    "    if step % 100 == 0:\n",
    "        metrics['dev_bleu'].append((step, compute_bleu(model, dev_inp, dev_out)))\n",
    "        \n",
    "        clear_output(True)\n",
    "        plt.figure(figsize=(12,4))\n",
    "        for i, (name, history) in enumerate(sorted(metrics.items())):\n",
    "            plt.subplot(1, len(metrics), i + 1)\n",
    "            plt.title(name)\n",
    "            plt.plot(*zip(*history))\n",
    "            plt.grid()\n",
    "        plt.show()\n",
    "        print(\"Mean loss=%.3f\" % np.mean(metrics['train_loss'][-10:], axis=0)[1], flush=True)\n",
    "        \n",
    "# Note: it's okay if bleu oscillates up and down as long as it gets better on average over long term (e.g. 5k batches)"
   ]
  },
  {
   "cell_type": "code",
   "execution_count": 20,
   "metadata": {
    "colab": {},
    "colab_type": "code",
    "id": "2ahuhKVhlrtP"
   },
   "outputs": [],
   "source": [
    "assert np.mean(metrics['dev_bleu'][-10:], axis=0)[1] > 15, \"We kind of need a higher bleu BLEU from you. Kind of right now.\""
   ]
  },
  {
   "cell_type": "code",
   "execution_count": 21,
   "metadata": {
    "colab": {},
    "colab_type": "code",
    "id": "KyaHOpealrtS"
   },
   "outputs": [
    {
     "name": "stdout",
     "output_type": "stream",
     "text": [
      "в р@@ а@@ с@@ п@@ о@@ р@@ я@@ ж@@ е@@ н@@ и@@ и г@@ о@@ с@@ т@@ е@@ й о@@ б@@ щ@@ а@@ я к@@ у@@ х@@ н@@ я и о@@ б@@ щ@@ а@@ я г@@ о@@ с@@ т@@ и@@ н@@ а@@ я .\n",
      "there is a shared kitchen and a shared kitchen at the property .\n",
      "\n",
      "к@@ р@@ о@@ м@@ е т@@ о@@ г@@ о , п@@ р@@ е@@ д@@ о@@ с@@ т@@ а@@ в@@ л@@ я@@ е@@ т@@ с@@ я п@@ р@@ о@@ к@@ а@@ т в@@ е@@ л@@ о@@ с@@ и@@ п@@ е@@ д@@ о@@ в , у@@ с@@ л@@ у@@ г@@ и т@@ р@@ а@@ н@@ с@@ ф@@ е@@ р@@ а и б@@ е@@ с@@ п@@ л@@ а@@ т@@ н@@ а@@ я п@@ а@@ р@@ к@@ о@@ в@@ к@@ а .\n",
      "other facilities offered , and free parking is available on site .\n",
      "\n",
      "р@@ а@@ с@@ с@@ т@@ о@@ я@@ н@@ и@@ е д@@ о г@@ о@@ р@@ о@@ д@@ а к@@ и@@ с@@ с@@ и@@ м@@ м@@ и с@@ о@@ с@@ т@@ а@@ в@@ л@@ я@@ е@@ т 26 к@@ м .\n",
      "latina is 26 km away .\n",
      "\n",
      "а@@ п@@ а@@ р@@ т@@ а@@ м@@ е@@ н@@ т@@ ы в п@@ е@@ н@@ т@@ х@@ а@@ у@@ с@@ е с о@@ б@@ щ@@ и@@ м о@@ т@@ к@@ р@@ ы@@ т@@ ы@@ м б@@ а@@ с@@ с@@ е@@ й@@ н@@ о@@ м , с@@ а@@ д@@ о@@ м , к@@ о@@ н@@ д@@ и@@ ц@@ и@@ о@@ н@@ е@@ р@@ о@@ м и т@@ е@@ р@@ р@@ а@@ с@@ о@@ й д@@ л@@ я з@@ а@@ г@@ а@@ р@@ а р@@ а@@ с@@ п@@ о@@ л@@ о@@ ж@@ е@@ н@@ ы в 5 м@@ и@@ н@@ у@@ т@@ а@@ х х@@ о@@ д@@ ь@@ б@@ ы о@@ т п@@ л@@ я@@ ж@@ а н@@ а к@@ у@@ р@@ о@@ р@@ т@@ е к@@ а@@ б@@ о - р@@ о@@ й .\n",
      "located in the centre of cal@@ ella , this apartment features a balcony overlooking the sea and the gardens .\n",
      "\n",
      "а@@ п@@ а@@ р@@ т@@ а@@ м@@ е@@ н@@ т@@ ы mo@@ s@@ co@@ w point - loft red square н@@ а@@ х@@ о@@ д@@ я@@ т@@ с@@ я в м@@ о@@ с@@ к@@ в@@ е , в 200 м@@ е@@ т@@ р@@ а@@ х о@@ т б@@ о@@ л@@ ь@@ ш@@ о@@ г@@ о т@@ е@@ а@@ т@@ р@@ а .\n",
      "the freedom square is located just 400 metres from the nearest beach .\n",
      "\n",
      "в в@@ а@@ ш@@ е@@ м р@@ а@@ с@@ п@@ о@@ р@@ я@@ ж@@ е@@ н@@ и@@ и с@@ о@@ б@@ с@@ т@@ в@@ е@@ н@@ н@@ а@@ я в@@ а@@ н@@ н@@ а@@ я к@@ о@@ м@@ н@@ а@@ т@@ а с д@@ у@@ ш@@ е@@ м и п@@ о@@ л@@ о@@ т@@ е@@ н@@ ц@@ а@@ м@@ и .\n",
      "featuring a shower , private bathrooms also come with towels .\n",
      "\n"
     ]
    }
   ],
   "source": [
    "for inp_line, trans_line in zip(dev_inp[::500], model.translate_lines(dev_inp[::500])[0]):\n",
    "    print(inp_line)\n",
    "    print(trans_line)\n",
    "    print()"
   ]
  },
  {
   "cell_type": "markdown",
   "metadata": {
    "colab_type": "text",
    "id": "edk_oVg0lrtW"
   },
   "source": [
    "### Your Attention Required\n",
    "\n",
    "In this section we want you to improve over the basic model by implementing a simple attention mechanism.\n",
    "\n",
    "This is gonna be a two-parter: building the __attention layer__ and using it for an __attentive seq2seq model__."
   ]
  },
  {
   "cell_type": "markdown",
   "metadata": {
    "colab_type": "text",
    "id": "Qz9aROAIlrtX"
   },
   "source": [
    "### Attention layer (3 points)\n",
    "\n",
    "Here you will have to implement a layer that computes a simple additive attention:\n",
    "\n",
    "Given encoder sequence $ h^e_0, h^e_1, h^e_2, ..., h^e_T$ and a single decoder state $h^d$,\n",
    "\n",
    "* Compute logits with a 2-layer neural network\n",
    "$$a_t = linear_{out}(tanh(linear_{e}(h^e_t) + linear_{d}(h_d)))$$\n",
    "* Get probabilities from logits, \n",
    "$$ p_t = {{e ^ {a_t}} \\over { \\sum_\\tau e^{a_\\tau} }} $$\n",
    "\n",
    "* Add up encoder states with probabilities to get __attention response__\n",
    "$$ attn = \\sum_t p_t \\cdot h^e_t $$\n",
    "\n",
    "You can learn more about attention layers in the lecture slides or [from this post](https://distill.pub/2016/augmented-rnns/)."
   ]
  },
  {
   "cell_type": "code",
   "execution_count": 19,
   "metadata": {},
   "outputs": [],
   "source": [
    "class AttentionLayer(nn.Module):\n",
    "    def __init__(self, name, enc_size, dec_size, hid_size, activ=torch.tanh):\n",
    "        \"\"\" A layer that computes additive attention response and weights \"\"\"\n",
    "        super().__init__()\n",
    "        self.name = name\n",
    "        self.enc_size = enc_size # num units in encoder state\n",
    "        self.dec_size = dec_size # num units in decoder state\n",
    "        self.hid_size = hid_size # attention layer hidden units\n",
    "        self.activ = activ       # attention layer hidden nonlinearity\n",
    "        \n",
    "        # create trainable paramteres like this:\n",
    "        # self.w_e = nn.Parameter(<INITIAL_VALUES>, requires_grad=True)\n",
    "        # <...>  # you will need a couple of these\n",
    "\n",
    "        self.linear_e = nn.Linear(enc_size, hid_size)\n",
    "        self.linear_d = nn.Linear(dec_size, hid_size)\n",
    "        self.linear_out = nn.Linear(hid_size, 1, bias=False)\n",
    "        \n",
    "\n",
    "    def forward(self, enc, dec, inp_mask=None):\n",
    "        \"\"\"\n",
    "        Computes attention response and weights\n",
    "        :param enc: encoder activation sequence, float32[batch_size, ninp, enc_size]\n",
    "        :param dec: single decoder state used as \"query\", float32[batch_size, dec_size]\n",
    "        :param inp_mask: mask on enc activatons (0 after first eos), float32 [batch_size, ninp]\n",
    "        :returns: attn[batch_size, enc_size], probs[batch_size, ninp]\n",
    "            - attn - attention response vector (weighted sum of enc)\n",
    "            - probs - attention weights after softmax\n",
    "        \"\"\"\n",
    "\n",
    "        # Compute logits\n",
    "        enc_out = self.linear_e(enc)\n",
    "        a = self.linear_out(self.activ(enc_out + self.linear_d(dec)[:, None, :].expand_as(enc_out))).squeeze(-1)\n",
    "\n",
    "        # Apply mask - if mask is 0, logits should be -inf or -1e9\n",
    "        # You may need torch.where\n",
    "        if inp_mask is not None:\n",
    "            a = torch.where(inp_mask, a, float('-inf'))\n",
    "\n",
    "        # Compute attention probabilities (softmax)\n",
    "        probs = F.softmax(a, dim=-1)\n",
    "\n",
    "        # Compute attention response using enc and probs\n",
    "        attn = torch.sum(enc * probs[:, :, None].expand_as(enc), dim=1)\n",
    "\n",
    "        return attn, probs"
   ]
  },
  {
   "cell_type": "code",
   "execution_count": 33,
   "metadata": {},
   "outputs": [],
   "source": [
    "batch_size, ninp, enc_size = 32, 10, 16\n",
    "dec_size = 12\n",
    "enc_sample = torch.rand(batch_size, ninp, enc_size)\n",
    "dec_sample = torch.rand(batch_size, dec_size)\n",
    "mask_sample = torch.tril(torch.ones(batch_size, ninp, dtype=bool))\n",
    "\n",
    "dec_sample2 = torch.rand(batch_size, ninp, dec_size)\n",
    "probs_sample = torch.rand(batch_size, ninp)"
   ]
  },
  {
   "cell_type": "code",
   "execution_count": 38,
   "metadata": {},
   "outputs": [
    {
     "data": {
      "text/plain": [
       "tensor(True)"
      ]
     },
     "execution_count": 38,
     "metadata": {},
     "output_type": "execute_result"
    }
   ],
   "source": [
    "torch.all(dec_sample[:, None, :].expand_as(dec_sample2) == dec_sample.unsqueeze(1).repeat(1, 10, 1))"
   ]
  },
  {
   "cell_type": "code",
   "execution_count": 35,
   "metadata": {},
   "outputs": [
    {
     "data": {
      "text/plain": [
       "tensor([[[0.4649, 0.6680, 0.5142,  ..., 0.7003, 0.9251, 0.0678],\n",
       "         [0.4649, 0.6680, 0.5142,  ..., 0.7003, 0.9251, 0.0678],\n",
       "         [0.4649, 0.6680, 0.5142,  ..., 0.7003, 0.9251, 0.0678],\n",
       "         ...,\n",
       "         [0.4649, 0.6680, 0.5142,  ..., 0.7003, 0.9251, 0.0678],\n",
       "         [0.4649, 0.6680, 0.5142,  ..., 0.7003, 0.9251, 0.0678],\n",
       "         [0.4649, 0.6680, 0.5142,  ..., 0.7003, 0.9251, 0.0678]],\n",
       "\n",
       "        [[0.4037, 0.6171, 0.7330,  ..., 0.8588, 0.7945, 0.5480],\n",
       "         [0.4037, 0.6171, 0.7330,  ..., 0.8588, 0.7945, 0.5480],\n",
       "         [0.4037, 0.6171, 0.7330,  ..., 0.8588, 0.7945, 0.5480],\n",
       "         ...,\n",
       "         [0.4037, 0.6171, 0.7330,  ..., 0.8588, 0.7945, 0.5480],\n",
       "         [0.4037, 0.6171, 0.7330,  ..., 0.8588, 0.7945, 0.5480],\n",
       "         [0.4037, 0.6171, 0.7330,  ..., 0.8588, 0.7945, 0.5480]],\n",
       "\n",
       "        [[0.8480, 0.6161, 0.1813,  ..., 0.4794, 0.3983, 0.8221],\n",
       "         [0.8480, 0.6161, 0.1813,  ..., 0.4794, 0.3983, 0.8221],\n",
       "         [0.8480, 0.6161, 0.1813,  ..., 0.4794, 0.3983, 0.8221],\n",
       "         ...,\n",
       "         [0.8480, 0.6161, 0.1813,  ..., 0.4794, 0.3983, 0.8221],\n",
       "         [0.8480, 0.6161, 0.1813,  ..., 0.4794, 0.3983, 0.8221],\n",
       "         [0.8480, 0.6161, 0.1813,  ..., 0.4794, 0.3983, 0.8221]],\n",
       "\n",
       "        ...,\n",
       "\n",
       "        [[0.0714, 0.7316, 0.9267,  ..., 0.1832, 0.8147, 0.8896],\n",
       "         [0.0714, 0.7316, 0.9267,  ..., 0.1832, 0.8147, 0.8896],\n",
       "         [0.0714, 0.7316, 0.9267,  ..., 0.1832, 0.8147, 0.8896],\n",
       "         ...,\n",
       "         [0.0714, 0.7316, 0.9267,  ..., 0.1832, 0.8147, 0.8896],\n",
       "         [0.0714, 0.7316, 0.9267,  ..., 0.1832, 0.8147, 0.8896],\n",
       "         [0.0714, 0.7316, 0.9267,  ..., 0.1832, 0.8147, 0.8896]],\n",
       "\n",
       "        [[0.7957, 0.1107, 0.1698,  ..., 0.9033, 0.1145, 0.6140],\n",
       "         [0.7957, 0.1107, 0.1698,  ..., 0.9033, 0.1145, 0.6140],\n",
       "         [0.7957, 0.1107, 0.1698,  ..., 0.9033, 0.1145, 0.6140],\n",
       "         ...,\n",
       "         [0.7957, 0.1107, 0.1698,  ..., 0.9033, 0.1145, 0.6140],\n",
       "         [0.7957, 0.1107, 0.1698,  ..., 0.9033, 0.1145, 0.6140],\n",
       "         [0.7957, 0.1107, 0.1698,  ..., 0.9033, 0.1145, 0.6140]],\n",
       "\n",
       "        [[0.4367, 0.1751, 0.3582,  ..., 0.7243, 0.8244, 0.6365],\n",
       "         [0.4367, 0.1751, 0.3582,  ..., 0.7243, 0.8244, 0.6365],\n",
       "         [0.4367, 0.1751, 0.3582,  ..., 0.7243, 0.8244, 0.6365],\n",
       "         ...,\n",
       "         [0.4367, 0.1751, 0.3582,  ..., 0.7243, 0.8244, 0.6365],\n",
       "         [0.4367, 0.1751, 0.3582,  ..., 0.7243, 0.8244, 0.6365],\n",
       "         [0.4367, 0.1751, 0.3582,  ..., 0.7243, 0.8244, 0.6365]]])"
      ]
     },
     "execution_count": 35,
     "metadata": {},
     "output_type": "execute_result"
    }
   ],
   "source": [
    "dec_sample.unsqueeze(1).repeat(1, 10, 1)"
   ]
  },
  {
   "cell_type": "code",
   "execution_count": 55,
   "metadata": {},
   "outputs": [
    {
     "data": {
      "text/plain": [
       "tensor([2.5083, 3.1511, 2.9799, 2.0185, 2.2375, 1.7627, 1.8901, 2.9003, 2.6466,\n",
       "        1.8883, 2.9359, 2.0536, 2.5784, 1.8638, 2.0126, 2.1677])"
      ]
     },
     "execution_count": 55,
     "metadata": {},
     "output_type": "execute_result"
    }
   ],
   "source": [
    "torch.sum(probs_sample[:, :, None].expand_as(enc_sample)[0] * enc_sample[0], dim=0)"
   ]
  },
  {
   "cell_type": "code",
   "execution_count": 56,
   "metadata": {},
   "outputs": [
    {
     "data": {
      "text/plain": [
       "tensor([2.5083, 3.1511, 2.9799, 2.0185, 2.2375, 1.7627, 1.8901, 2.9003, 2.6466,\n",
       "        1.8883, 2.9359, 2.0536, 2.5784, 1.8638, 2.0126, 2.1677])"
      ]
     },
     "execution_count": 56,
     "metadata": {},
     "output_type": "execute_result"
    }
   ],
   "source": [
    "(torch.sum(probs_sample[:, :, None].expand_as(enc_sample) * enc_sample, dim=1))[0]"
   ]
  },
  {
   "cell_type": "code",
   "execution_count": 26,
   "metadata": {},
   "outputs": [
    {
     "data": {
      "text/plain": [
       "tensor([[ True, False, False, False, False, False, False, False, False, False],\n",
       "        [ True,  True, False, False, False, False, False, False, False, False],\n",
       "        [ True,  True,  True, False, False, False, False, False, False, False],\n",
       "        [ True,  True,  True,  True, False, False, False, False, False, False],\n",
       "        [ True,  True,  True,  True,  True, False, False, False, False, False],\n",
       "        [ True,  True,  True,  True,  True,  True, False, False, False, False],\n",
       "        [ True,  True,  True,  True,  True,  True,  True, False, False, False],\n",
       "        [ True,  True,  True,  True,  True,  True,  True,  True, False, False],\n",
       "        [ True,  True,  True,  True,  True,  True,  True,  True,  True, False],\n",
       "        [ True,  True,  True,  True,  True,  True,  True,  True,  True,  True],\n",
       "        [ True,  True,  True,  True,  True,  True,  True,  True,  True,  True],\n",
       "        [ True,  True,  True,  True,  True,  True,  True,  True,  True,  True],\n",
       "        [ True,  True,  True,  True,  True,  True,  True,  True,  True,  True],\n",
       "        [ True,  True,  True,  True,  True,  True,  True,  True,  True,  True],\n",
       "        [ True,  True,  True,  True,  True,  True,  True,  True,  True,  True],\n",
       "        [ True,  True,  True,  True,  True,  True,  True,  True,  True,  True],\n",
       "        [ True,  True,  True,  True,  True,  True,  True,  True,  True,  True],\n",
       "        [ True,  True,  True,  True,  True,  True,  True,  True,  True,  True],\n",
       "        [ True,  True,  True,  True,  True,  True,  True,  True,  True,  True],\n",
       "        [ True,  True,  True,  True,  True,  True,  True,  True,  True,  True],\n",
       "        [ True,  True,  True,  True,  True,  True,  True,  True,  True,  True],\n",
       "        [ True,  True,  True,  True,  True,  True,  True,  True,  True,  True],\n",
       "        [ True,  True,  True,  True,  True,  True,  True,  True,  True,  True],\n",
       "        [ True,  True,  True,  True,  True,  True,  True,  True,  True,  True],\n",
       "        [ True,  True,  True,  True,  True,  True,  True,  True,  True,  True],\n",
       "        [ True,  True,  True,  True,  True,  True,  True,  True,  True,  True],\n",
       "        [ True,  True,  True,  True,  True,  True,  True,  True,  True,  True],\n",
       "        [ True,  True,  True,  True,  True,  True,  True,  True,  True,  True],\n",
       "        [ True,  True,  True,  True,  True,  True,  True,  True,  True,  True],\n",
       "        [ True,  True,  True,  True,  True,  True,  True,  True,  True,  True],\n",
       "        [ True,  True,  True,  True,  True,  True,  True,  True,  True,  True],\n",
       "        [ True,  True,  True,  True,  True,  True,  True,  True,  True,  True]])"
      ]
     },
     "execution_count": 26,
     "metadata": {},
     "output_type": "execute_result"
    }
   ],
   "source": [
    "mask_sample"
   ]
  },
  {
   "cell_type": "code",
   "execution_count": 57,
   "metadata": {},
   "outputs": [
    {
     "name": "stdout",
     "output_type": "stream",
     "text": [
      "(tensor([[0.0310, 0.6362, 0.6257, 0.1146, 0.9982, 0.0196, 0.4472, 0.6913, 0.4571,\n",
      "         0.1282, 0.8023, 0.3353, 0.4302, 0.5676, 0.0247, 0.9877],\n",
      "        [0.3752, 0.4393, 0.6222, 0.3359, 0.5231, 0.5307, 0.4034, 0.5966, 0.5277,\n",
      "         0.3846, 0.6791, 0.2829, 0.4189, 0.3625, 0.5604, 0.4759],\n",
      "        [0.5614, 0.7532, 0.8257, 0.5090, 0.4360, 0.6591, 0.7166, 0.3732, 0.5922,\n",
      "         0.5920, 0.3887, 0.3649, 0.4157, 0.6308, 0.3699, 0.7286],\n",
      "        [0.4058, 0.6425, 0.5020, 0.7659, 0.4872, 0.5254, 0.6324, 0.6678, 0.4575,\n",
      "         0.5935, 0.4534, 0.3957, 0.7899, 0.7187, 0.6756, 0.4880],\n",
      "        [0.3091, 0.5954, 0.2979, 0.3555, 0.6469, 0.3952, 0.4297, 0.6195, 0.3784,\n",
      "         0.3865, 0.4884, 0.3345, 0.6680, 0.3675, 0.4030, 0.4436],\n",
      "        [0.6478, 0.5298, 0.6807, 0.5346, 0.2714, 0.6364, 0.4854, 0.5386, 0.4365,\n",
      "         0.3543, 0.3368, 0.5065, 0.5022, 0.3168, 0.4486, 0.5077],\n",
      "        [0.6360, 0.6107, 0.4463, 0.4468, 0.4849, 0.3500, 0.5651, 0.4712, 0.5018,\n",
      "         0.2809, 0.5335, 0.4412, 0.6628, 0.5937, 0.5277, 0.5704],\n",
      "        [0.5557, 0.5216, 0.5814, 0.4964, 0.4482, 0.6400, 0.4504, 0.4679, 0.5517,\n",
      "         0.5115, 0.3931, 0.4049, 0.4794, 0.5311, 0.5024, 0.5764],\n",
      "        [0.5020, 0.6393, 0.6196, 0.3867, 0.4698, 0.6281, 0.5370, 0.4793, 0.5970,\n",
      "         0.5657, 0.4848, 0.5504, 0.5246, 0.3942, 0.5812, 0.3248],\n",
      "        [0.4935, 0.4605, 0.3976, 0.3982, 0.6201, 0.4661, 0.5289, 0.4559, 0.5302,\n",
      "         0.5971, 0.5324, 0.6263, 0.6099, 0.4370, 0.4548, 0.5265],\n",
      "        [0.5874, 0.3903, 0.4002, 0.6167, 0.5162, 0.5694, 0.5197, 0.5603, 0.7061,\n",
      "         0.5932, 0.4284, 0.5563, 0.5547, 0.4622, 0.4962, 0.4281],\n",
      "        [0.4352, 0.5907, 0.4647, 0.4051, 0.4320, 0.5861, 0.4308, 0.5829, 0.5063,\n",
      "         0.4614, 0.5180, 0.5948, 0.5185, 0.5977, 0.5345, 0.4782],\n",
      "        [0.3839, 0.4826, 0.4852, 0.7055, 0.6049, 0.5039, 0.4759, 0.5060, 0.6225,\n",
      "         0.5680, 0.4399, 0.4955, 0.4213, 0.3434, 0.5645, 0.5490],\n",
      "        [0.5365, 0.6649, 0.7183, 0.4740, 0.3666, 0.3368, 0.6109, 0.5465, 0.5348,\n",
      "         0.5627, 0.4744, 0.6656, 0.5078, 0.3827, 0.5367, 0.6574],\n",
      "        [0.5677, 0.4156, 0.4458, 0.5560, 0.6360, 0.5921, 0.6149, 0.4082, 0.4871,\n",
      "         0.4835, 0.5645, 0.6200, 0.3817, 0.5263, 0.4029, 0.5553],\n",
      "        [0.5217, 0.4481, 0.4803, 0.4982, 0.4150, 0.4343, 0.5051, 0.5236, 0.5808,\n",
      "         0.4761, 0.4983, 0.5097, 0.6776, 0.5180, 0.4335, 0.4190],\n",
      "        [0.5163, 0.4954, 0.5123, 0.4524, 0.4372, 0.5007, 0.5321, 0.3963, 0.5544,\n",
      "         0.4005, 0.4452, 0.5297, 0.5977, 0.4443, 0.6954, 0.3820],\n",
      "        [0.6615, 0.5323, 0.3735, 0.3625, 0.5803, 0.3847, 0.3963, 0.5828, 0.5162,\n",
      "         0.3745, 0.5842, 0.4918, 0.4370, 0.3438, 0.4150, 0.4262],\n",
      "        [0.4529, 0.4796, 0.5119, 0.5277, 0.4753, 0.6761, 0.4787, 0.4843, 0.4834,\n",
      "         0.4713, 0.4114, 0.4416, 0.4048, 0.4774, 0.5256, 0.5293],\n",
      "        [0.4580, 0.3567, 0.6154, 0.5214, 0.3243, 0.4239, 0.5381, 0.5902, 0.3854,\n",
      "         0.4434, 0.3937, 0.4877, 0.2777, 0.3046, 0.1786, 0.4693],\n",
      "        [0.3611, 0.4521, 0.4781, 0.4548, 0.5179, 0.4709, 0.4670, 0.3696, 0.5582,\n",
      "         0.5758, 0.5395, 0.5304, 0.4704, 0.5926, 0.4366, 0.4715],\n",
      "        [0.5757, 0.5838, 0.4338, 0.3323, 0.4544, 0.4998, 0.5164, 0.4725, 0.4831,\n",
      "         0.4120, 0.4949, 0.5702, 0.3548, 0.5837, 0.3842, 0.4519],\n",
      "        [0.4924, 0.4567, 0.6208, 0.3649, 0.4298, 0.5361, 0.5179, 0.5744, 0.5937,\n",
      "         0.5693, 0.3952, 0.4807, 0.4135, 0.4284, 0.3001, 0.4792],\n",
      "        [0.6732, 0.6577, 0.5283, 0.4677, 0.4553, 0.4283, 0.4957, 0.4708, 0.6146,\n",
      "         0.3279, 0.5244, 0.3911, 0.4405, 0.6890, 0.3604, 0.4735],\n",
      "        [0.4911, 0.5718, 0.4442, 0.4887, 0.5086, 0.3843, 0.5851, 0.5196, 0.4612,\n",
      "         0.6209, 0.4870, 0.4456, 0.4659, 0.3915, 0.5072, 0.6780],\n",
      "        [0.3719, 0.6519, 0.3746, 0.5153, 0.3588, 0.4744, 0.5311, 0.5558, 0.6837,\n",
      "         0.4829, 0.5718, 0.5930, 0.4646, 0.5458, 0.4709, 0.4448],\n",
      "        [0.5062, 0.5417, 0.5395, 0.5962, 0.6164, 0.5354, 0.5096, 0.6735, 0.5393,\n",
      "         0.4707, 0.5352, 0.5006, 0.4660, 0.5685, 0.4914, 0.2980],\n",
      "        [0.4528, 0.4849, 0.6627, 0.5965, 0.4230, 0.4701, 0.3918, 0.5497, 0.5450,\n",
      "         0.4692, 0.5568, 0.5729, 0.3459, 0.6311, 0.6386, 0.5523],\n",
      "        [0.5500, 0.5408, 0.5252, 0.4568, 0.4186, 0.4900, 0.3802, 0.5845, 0.5927,\n",
      "         0.5053, 0.5268, 0.3238, 0.4693, 0.4576, 0.3751, 0.4644],\n",
      "        [0.4748, 0.3822, 0.3224, 0.4740, 0.3934, 0.4859, 0.5197, 0.6089, 0.6055,\n",
      "         0.5670, 0.5069, 0.5362, 0.5940, 0.4072, 0.3361, 0.3638],\n",
      "        [0.4295, 0.4010, 0.6741, 0.4744, 0.5635, 0.5983, 0.5256, 0.4344, 0.5141,\n",
      "         0.5421, 0.4808, 0.5817, 0.4864, 0.4720, 0.4642, 0.5710],\n",
      "        [0.3734, 0.6015, 0.5251, 0.5762, 0.6220, 0.5662, 0.3824, 0.6633, 0.5177,\n",
      "         0.4910, 0.4856, 0.3606, 0.4868, 0.5372, 0.4571, 0.4056]],\n",
      "       grad_fn=<SumBackward1>), tensor([[1.0000, 0.0000, 0.0000, 0.0000, 0.0000, 0.0000, 0.0000, 0.0000, 0.0000,\n",
      "         0.0000],\n",
      "        [0.4796, 0.5204, 0.0000, 0.0000, 0.0000, 0.0000, 0.0000, 0.0000, 0.0000,\n",
      "         0.0000],\n",
      "        [0.3289, 0.3428, 0.3283, 0.0000, 0.0000, 0.0000, 0.0000, 0.0000, 0.0000,\n",
      "         0.0000],\n",
      "        [0.2275, 0.2578, 0.2843, 0.2305, 0.0000, 0.0000, 0.0000, 0.0000, 0.0000,\n",
      "         0.0000],\n",
      "        [0.1914, 0.2148, 0.1963, 0.1851, 0.2124, 0.0000, 0.0000, 0.0000, 0.0000,\n",
      "         0.0000],\n",
      "        [0.1551, 0.1722, 0.1783, 0.1547, 0.1823, 0.1573, 0.0000, 0.0000, 0.0000,\n",
      "         0.0000],\n",
      "        [0.1413, 0.1447, 0.1345, 0.1555, 0.1410, 0.1466, 0.1364, 0.0000, 0.0000,\n",
      "         0.0000],\n",
      "        [0.1268, 0.1413, 0.1168, 0.1148, 0.1239, 0.1277, 0.1299, 0.1187, 0.0000,\n",
      "         0.0000],\n",
      "        [0.1138, 0.1162, 0.1153, 0.1127, 0.1103, 0.1058, 0.1002, 0.1114, 0.1142,\n",
      "         0.0000],\n",
      "        [0.0906, 0.0928, 0.1083, 0.0967, 0.1002, 0.1043, 0.0980, 0.0968, 0.0983,\n",
      "         0.1140],\n",
      "        [0.0861, 0.1004, 0.1036, 0.0963, 0.1069, 0.0921, 0.0863, 0.1115, 0.1168,\n",
      "         0.1001],\n",
      "        [0.1048, 0.0883, 0.1029, 0.0931, 0.1064, 0.1067, 0.0925, 0.0957, 0.1157,\n",
      "         0.0938],\n",
      "        [0.0935, 0.0984, 0.1030, 0.1009, 0.1011, 0.0874, 0.1006, 0.0837, 0.1090,\n",
      "         0.1224],\n",
      "        [0.1115, 0.1024, 0.0915, 0.1027, 0.0980, 0.0934, 0.1016, 0.0860, 0.0992,\n",
      "         0.1138],\n",
      "        [0.0948, 0.0946, 0.0969, 0.1048, 0.0972, 0.0998, 0.1073, 0.1046, 0.0981,\n",
      "         0.1019],\n",
      "        [0.1015, 0.1028, 0.1081, 0.0939, 0.1019, 0.0938, 0.0907, 0.1032, 0.1043,\n",
      "         0.0998],\n",
      "        [0.0828, 0.1011, 0.1098, 0.1055, 0.1036, 0.1085, 0.0989, 0.0867, 0.0943,\n",
      "         0.1089],\n",
      "        [0.1042, 0.1017, 0.0936, 0.1079, 0.1117, 0.0921, 0.0960, 0.1005, 0.0993,\n",
      "         0.0930],\n",
      "        [0.0959, 0.1105, 0.1035, 0.0937, 0.0953, 0.1052, 0.1119, 0.0983, 0.0953,\n",
      "         0.0904],\n",
      "        [0.0957, 0.1076, 0.0919, 0.0978, 0.0989, 0.0964, 0.1071, 0.0999, 0.1059,\n",
      "         0.0988],\n",
      "        [0.1007, 0.1066, 0.1003, 0.0951, 0.1032, 0.1068, 0.1045, 0.0913, 0.0857,\n",
      "         0.1059],\n",
      "        [0.1003, 0.1181, 0.0974, 0.0929, 0.0961, 0.1055, 0.0986, 0.0989, 0.0897,\n",
      "         0.1025],\n",
      "        [0.0976, 0.0990, 0.0993, 0.1058, 0.1027, 0.0941, 0.0995, 0.0941, 0.0905,\n",
      "         0.1174],\n",
      "        [0.0999, 0.1005, 0.0964, 0.0922, 0.1094, 0.0893, 0.1038, 0.1113, 0.0997,\n",
      "         0.0975],\n",
      "        [0.1069, 0.0867, 0.0956, 0.1073, 0.0915, 0.1029, 0.1080, 0.1018, 0.0984,\n",
      "         0.1009],\n",
      "        [0.0988, 0.1014, 0.1044, 0.0991, 0.0958, 0.1034, 0.0969, 0.0991, 0.0970,\n",
      "         0.1041],\n",
      "        [0.1082, 0.1064, 0.0977, 0.0971, 0.0970, 0.0999, 0.0906, 0.1021, 0.1052,\n",
      "         0.0957],\n",
      "        [0.1056, 0.0944, 0.1117, 0.1056, 0.0971, 0.0939, 0.0922, 0.0976, 0.1004,\n",
      "         0.1014],\n",
      "        [0.1094, 0.0980, 0.1012, 0.0912, 0.0905, 0.0979, 0.1134, 0.0934, 0.1011,\n",
      "         0.1040],\n",
      "        [0.1011, 0.1004, 0.1008, 0.0817, 0.0932, 0.1017, 0.1124, 0.1100, 0.0886,\n",
      "         0.1101],\n",
      "        [0.1127, 0.0907, 0.0977, 0.0978, 0.1134, 0.1083, 0.0945, 0.0958, 0.0910,\n",
      "         0.0981],\n",
      "        [0.1078, 0.1027, 0.1005, 0.0930, 0.1025, 0.0842, 0.1094, 0.0997, 0.0968,\n",
      "         0.1033]], grad_fn=<SoftmaxBackward0>))\n"
     ]
    }
   ],
   "source": [
    "attn = AttentionLayer('name', enc_size, dec_size, 14)\n",
    "\n",
    "print(attn(enc_sample, dec_sample, mask_sample))"
   ]
  },
  {
   "cell_type": "markdown",
   "metadata": {
    "colab_type": "text",
    "id": "IalfpdAelrtb"
   },
   "source": [
    "### Seq2seq model with attention (3 points)\n",
    "\n",
    "You can now use the attention layer to build a network. The simplest way to implement attention is to use it in decoder phase:\n",
    "![img](https://i.imgur.com/6fKHlHb.png)\n",
    "_image from distill.pub [article](https://distill.pub/2016/augmented-rnns/)_\n",
    "\n",
    "On every step, use __previous__ decoder state to obtain attention response. Then feed concat this response to the inputs of next attention layer.\n",
    "\n",
    "The key implementation detail here is __model state__. Put simply, you can add any tensor into the list of `encode` outputs. You will then have access to them at each `decode` step. This may include:\n",
    "* Last RNN hidden states (as in basic model)\n",
    "* The whole sequence of encoder outputs (to attend to) and mask\n",
    "* Attention probabilities (to visualize)\n",
    "\n",
    "_There are, of course, alternative ways to wire attention into your network and different kinds of attention. Take a look at [this](https://arxiv.org/abs/1609.08144), [this](https://arxiv.org/abs/1706.03762) and [this](https://arxiv.org/abs/1808.03867) for ideas. And for image captioning/im2latex there's [visual attention](https://arxiv.org/abs/1502.03044)_"
   ]
  },
  {
   "cell_type": "code",
   "execution_count": 97,
   "metadata": {
    "colab": {},
    "colab_type": "code",
    "id": "NCKPB5JmcE6j"
   },
   "outputs": [],
   "source": [
    "class AttentiveModel(BasicModel):\n",
    "    def __init__(self, name, inp_voc, out_voc,\n",
    "                 emb_size=64, hid_size=128, attn_size=128):\n",
    "        \"\"\" Translation model that uses attention. See instructions above. \"\"\"\n",
    "        nn.Module.__init__(self)  # initialize base class to track sub-layers, trainable variables, etc.\n",
    "        self.inp_voc, self.out_voc = inp_voc, out_voc\n",
    "        self.hid_size = hid_size\n",
    "        \n",
    "        self.emb_inp = nn.Embedding(len(inp_voc), emb_size)\n",
    "        self.emb_out = nn.Embedding(len(out_voc), emb_size)\n",
    "        self.enc0 = nn.GRU(emb_size, hid_size, batch_first=True)\n",
    "\n",
    "        self.attention = AttentionLayer(name, hid_size, hid_size, attn_size)\n",
    "\n",
    "        self.dec_start = nn.Linear(hid_size, hid_size)\n",
    "        self.dec0 = nn.GRUCell(emb_size+hid_size, hid_size)\n",
    "        self.logits = nn.Linear(hid_size, len(out_voc))\n",
    "\n",
    "    def encode(self, inp, **flags):\n",
    "        \"\"\"\n",
    "        Takes symbolic input sequence, computes initial state\n",
    "        :param inp: matrix of input tokens [batch, time]\n",
    "        :return: a list of initial decoder state tensors\n",
    "        \"\"\"\n",
    "        # encode input sequence, create initial decoder states\n",
    "        inp_emb = self.emb_inp(inp)\n",
    "        batch_size = inp.shape[0]\n",
    "\n",
    "        # избавляемся от паддингов, чтобы передавать реальные токены в декодер\n",
    "        enc_seq, [last_state_but_not_really] = self.enc0(inp_emb)\n",
    "        lengths = (inp != self.inp_voc.eos_ix).to(torch.int64).sum(dim=1).clamp_max(inp.shape[1] - 1)\n",
    "        last_state = enc_seq[torch.arange(len(enc_seq)), lengths]\n",
    "\n",
    "        # маска, чтобы при внимании не обращать внимания на паддинги\n",
    "        mask = (inp != self.inp_voc.eos_ix).to(bool)\n",
    "\n",
    "        # enc_seq, [last_state] = self.enc0(inp_emb)\n",
    "\n",
    "        dec_start = self.dec_start(last_state)\n",
    "        \n",
    "        # apply attention layer from initial decoder hidden state\n",
    "        dec_start_attentive, first_attn_probas = self.attention(enc_seq, dec_start, mask)\n",
    "        \n",
    "        # Build first state: include\n",
    "        # * initial states for decoder recurrent layers\n",
    "        # * encoder sequence and encoder attn mask (for attention)\n",
    "        # * make sure that last state item is attention probabilities tensor\n",
    "        \n",
    "        first_state = [enc_seq, first_attn_probas, dec_start, dec_start_attentive, mask]\n",
    "        return first_state\n",
    "   \n",
    "    def decode_step(self, prev_state, prev_tokens, **flags):\n",
    "        \"\"\"\n",
    "        Takes previous decoder state and tokens, returns new state and logits for next tokens\n",
    "        :param prev_state: a list of previous decoder state tensors\n",
    "        :param prev_tokens: previous output tokens, an int vector of [batch_size]\n",
    "        :return: a list of next decoder state tensors, a tensor of logits [batch, n_tokens]\n",
    "        \"\"\"\n",
    "        enc_seq, attn_probas, prev_gru0_state, prev_attentive, mask = prev_state\n",
    "        prev_token_embs = self.emb_out(prev_tokens)\n",
    "\n",
    "        # конкатенируем выход внимания и эмбеддинги токенов предыдущих\n",
    "        rnn_input = torch.cat([prev_token_embs, prev_attentive], dim=1)\n",
    "        new_gru_activations = self.dec0(rnn_input, prev_gru0_state)\n",
    "\n",
    "        # считаем новые выходы внимания\n",
    "        new_dec_attentive, new_attn_probas = self.attention(enc_seq, new_gru_activations, mask)\n",
    "\n",
    "        # записываем новое состояния для следующего шага декодера\n",
    "        new_dec_state = [enc_seq, new_attn_probas, new_gru_activations, new_dec_attentive, mask]\n",
    "        \n",
    "        output_logits = self.logits(new_gru_activations)\n",
    "        \n",
    "        return [new_dec_state, output_logits]\n"
   ]
  },
  {
   "cell_type": "markdown",
   "metadata": {
    "colab_type": "text",
    "id": "ryZCOTEslrtf"
   },
   "source": [
    "### Training attentive model\n",
    "\n",
    "Please reuse the infrastructure you've built for the regular model. I hope you didn't hard-code anything :)"
   ]
  },
  {
   "cell_type": "code",
   "execution_count": 98,
   "metadata": {
    "colab": {},
    "colab_type": "code",
    "id": "-YMHPgZxcFaQ"
   },
   "outputs": [],
   "source": [
    "metrics = {'train_loss': [], 'dev_bleu': [] }\n",
    "\n",
    "model = AttentiveModel('attentive_model', inp_voc, out_voc).to(device)\n",
    "opt = torch.optim.Adam(model.parameters(), lr=1e-3)\n",
    "batch_size = 32"
   ]
  },
  {
   "cell_type": "code",
   "execution_count": 99,
   "metadata": {},
   "outputs": [
    {
     "data": {
      "image/png": "[encoded data removed]",
      "text/plain": [
       "<Figure size 1200x400 with 2 Axes>"
      ]
     },
     "metadata": {},
     "output_type": "display_data"
    },
    {
     "name": "stdout",
     "output_type": "stream",
     "text": [
      "Mean loss=0.744\n"
     ]
    },
    {
     "name": "stderr",
     "output_type": "stream",
     "text": [
      "100%|████████████████████████████████████████████████████████████████████████████| 25000/25000 [39:21<00:00, 10.59it/s]\n"
     ]
    }
   ],
   "source": [
    "for _ in trange(25000):\n",
    "    step = len(metrics['train_loss']) + 1\n",
    "    batch_ix = np.random.randint(len(train_inp), size=batch_size)\n",
    "    batch_inp = inp_voc.to_matrix(train_inp[batch_ix]).to(device)\n",
    "    batch_out = out_voc.to_matrix(train_out[batch_ix]).to(device)\n",
    "    \n",
    "    loss_t = compute_loss(model, batch_inp, batch_out)\n",
    "    opt.zero_grad()\n",
    "    loss_t.backward()\n",
    "    opt.step()\n",
    "    \n",
    "    metrics['train_loss'].append((step, loss_t.item()))\n",
    "    \n",
    "    if step % 100 == 0:\n",
    "        # metrics['dev_bleu'].append((step, compute_bleu(model, dev_inp, dev_out)))\n",
    "        \n",
    "        clear_output(True)\n",
    "        plt.figure(figsize=(12,4))\n",
    "        for i, (name, history) in enumerate(sorted(metrics.items())):\n",
    "            plt.subplot(1, len(metrics), i + 1)\n",
    "            plt.title(name)\n",
    "            plt.plot(*zip(*history))\n",
    "            plt.grid()\n",
    "        plt.show()\n",
    "        print(\"Mean loss=%.3f\" % np.mean(metrics['train_loss'][-10:], axis=0)[1], flush=True)\n",
    "        \n",
    "# Note: it's okay if bleu oscillates up and down as long as it gets better on average over long term (e.g. 5k batches)"
   ]
  },
  {
   "cell_type": "code",
   "execution_count": 100,
   "metadata": {},
   "outputs": [
    {
     "name": "stdout",
     "output_type": "stream",
     "text": [
      "в р@@ а@@ с@@ п@@ о@@ р@@ я@@ ж@@ е@@ н@@ и@@ и г@@ о@@ с@@ т@@ е@@ й о@@ б@@ щ@@ а@@ я к@@ у@@ х@@ н@@ я и о@@ б@@ щ@@ а@@ я г@@ о@@ с@@ т@@ и@@ н@@ а@@ я .\n",
      "other facilities offered at the property include a shared kitchen and a shared kitchen .\n",
      "\n",
      "к@@ р@@ о@@ м@@ е т@@ о@@ г@@ о , п@@ р@@ е@@ д@@ о@@ с@@ т@@ а@@ в@@ л@@ я@@ е@@ т@@ с@@ я п@@ р@@ о@@ к@@ а@@ т в@@ е@@ л@@ о@@ с@@ и@@ п@@ е@@ д@@ о@@ в , у@@ с@@ л@@ у@@ г@@ и т@@ р@@ а@@ н@@ с@@ ф@@ е@@ р@@ а и б@@ е@@ с@@ п@@ л@@ а@@ т@@ н@@ а@@ я п@@ а@@ р@@ к@@ о@@ в@@ к@@ а .\n",
      "bicycle rental and parking are available .\n",
      "\n",
      "р@@ а@@ с@@ с@@ т@@ о@@ я@@ н@@ и@@ е д@@ о г@@ о@@ р@@ о@@ д@@ а к@@ и@@ с@@ с@@ и@@ м@@ м@@ и с@@ о@@ с@@ т@@ а@@ в@@ л@@ я@@ е@@ т 26 к@@ м .\n",
      "the city of thessaloniki is 26 km away .\n",
      "\n",
      "а@@ п@@ а@@ р@@ т@@ а@@ м@@ е@@ н@@ т@@ ы в п@@ е@@ н@@ т@@ х@@ а@@ у@@ с@@ е с о@@ б@@ щ@@ и@@ м о@@ т@@ к@@ р@@ ы@@ т@@ ы@@ м б@@ а@@ с@@ с@@ е@@ й@@ н@@ о@@ м , с@@ а@@ д@@ о@@ м , к@@ о@@ н@@ д@@ и@@ ц@@ и@@ о@@ н@@ е@@ р@@ о@@ м и т@@ е@@ р@@ р@@ а@@ с@@ о@@ й д@@ л@@ я з@@ а@@ г@@ а@@ р@@ а р@@ а@@ с@@ п@@ о@@ л@@ о@@ ж@@ е@@ н@@ ы в 5 м@@ и@@ н@@ у@@ т@@ а@@ х х@@ о@@ д@@ ь@@ б@@ ы о@@ т п@@ л@@ я@@ ж@@ а н@@ а к@@ у@@ р@@ о@@ р@@ т@@ е к@@ а@@ б@@ о - р@@ о@@ й .\n",
      "located in a large seafront , apartment features a barbecue , a large garden and a terrace . the apartment is 5 minutes ’ walk from the beach in the centre of the beach .\n",
      "\n",
      "а@@ п@@ а@@ р@@ т@@ а@@ м@@ е@@ н@@ т@@ ы mo@@ s@@ co@@ w point - loft red square н@@ а@@ х@@ о@@ д@@ я@@ т@@ с@@ я в м@@ о@@ с@@ к@@ в@@ е , в 200 м@@ е@@ т@@ р@@ а@@ х о@@ т б@@ о@@ л@@ ь@@ ш@@ о@@ г@@ о т@@ е@@ а@@ т@@ р@@ а .\n",
      "located in moscow , this apartment - le la real offers self - catering accommodation 200 metres from the property .\n",
      "\n",
      "в в@@ а@@ ш@@ е@@ м р@@ а@@ с@@ п@@ о@@ р@@ я@@ ж@@ е@@ н@@ и@@ и с@@ о@@ б@@ с@@ т@@ в@@ е@@ н@@ н@@ а@@ я в@@ а@@ н@@ н@@ а@@ я к@@ о@@ м@@ н@@ а@@ т@@ а с д@@ у@@ ш@@ е@@ м и п@@ о@@ л@@ о@@ т@@ е@@ н@@ ц@@ а@@ м@@ и .\n",
      "the private bathroom includes a shower and towels .\n",
      "\n"
     ]
    }
   ],
   "source": [
    "for inp_line, trans_line in zip(dev_inp[::500], model.translate_lines(dev_inp[::500])[0]):\n",
    "    print(inp_line)\n",
    "    print(trans_line)\n",
    "    print()"
   ]
  },
  {
   "cell_type": "code",
   "execution_count": 101,
   "metadata": {},
   "outputs": [
    {
     "data": {
      "text/plain": [
       "23.81876365387634"
      ]
     },
     "execution_count": 101,
     "metadata": {},
     "output_type": "execute_result"
    }
   ],
   "source": [
    "compute_bleu(model, dev_inp, dev_out)"
   ]
  },
  {
   "cell_type": "markdown",
   "metadata": {},
   "source": [
    "### Visualizing model attention (2 points)\n",
    "\n",
    "After training the attentive translation model, you can check it's sanity by visualizing its attention weights.\n",
    "\n",
    "We provided you with a function that draws attention maps using [`Bokeh`](https://bokeh.pydata.org/en/latest/index.html). Once you managed to produce something better than random noise, please save at least 3 attention maps and __submit them to anytask__ alongside this notebook to get the max grade. Saving bokeh figures as __cell outputs is not enough!__ (TAs can't see saved bokeh figures in anytask). You can save bokeh images as screenshots or using this button:\n",
    "\n",
    "![bokeh_panel](https://github.com/yandexdataschool/nlp_course/raw/2019/resources/bokeh_panel.png)\n",
    "\n",
    "__Note:__ you're not locked into using bokeh. If you prefer a different visualization method, feel free to use that instead of bokeh."
   ]
  },
  {
   "cell_type": "code",
   "execution_count": 102,
   "metadata": {},
   "outputs": [
    {
     "data": {
      "text/html": [
       "    <style>\n",
       "        .bk-notebook-logo {\n",
       "            display: block;\n",
       "            width: 20px;\n",
       "            height: 20px;\n",
       "            background-image: url(data:image/png;base64,iVBORw0KGgoAAAANSUhEUgAAABQAAAAUCAYAAACNiR0NAAAABHNCSVQICAgIfAhkiAAAAAlwSFlzAAALEgAACxIB0t1+/AAAABx0RVh0U29mdHdhcmUAQWRvYmUgRmlyZXdvcmtzIENTNui8sowAAAOkSURBVDiNjZRtaJVlGMd/1/08zzln5zjP1LWcU9N0NkN8m2CYjpgQYQXqSs0I84OLIC0hkEKoPtiH3gmKoiJDU7QpLgoLjLIQCpEsNJ1vqUOdO7ppbuec5+V+rj4ctwzd8IIbbi6u+8f1539dt3A78eXC7QizUF7gyV1fD1Yqg4JWz84yffhm0qkFqBogB9rM8tZdtwVsPUhWhGcFJngGeWrPzHm5oaMmkfEg1usvLFyc8jLRqDOMru7AyC8saQr7GG7f5fvDeH7Ej8CM66nIF+8yngt6HWaKh7k49Soy9nXurCi1o3qUbS3zWfrYeQDTB/Qj6kX6Ybhw4B+bOYoLKCC9H3Nu/leUTZ1JdRWkkn2ldcCamzrcf47KKXdAJllSlxAOkRgyHsGC/zRday5Qld9DyoM4/q/rUoy/CXh3jzOu3bHUVZeU+DEn8FInkPBFlu3+nW3Nw0mk6vCDiWg8CeJaxEwuHS3+z5RgY+YBR6V1Z1nxSOfoaPa4LASWxxdNp+VWTk7+4vzaou8v8PN+xo+KY2xsw6une2frhw05CTYOmQvsEhjhWjn0bmXPjpE1+kplmmkP3suftwTubK9Vq22qKmrBhpY4jvd5afdRA3wGjFAgcnTK2s4hY0/GPNIb0nErGMCRxWOOX64Z8RAC4oCXdklmEvcL8o0BfkNK4lUg9HTl+oPlQxdNo3Mg4Nv175e/1LDGzZen30MEjRUtmXSfiTVu1kK8W4txyV6BMKlbgk3lMwYCiusNy9fVfvvwMxv8Ynl6vxoByANLTWplvuj/nF9m2+PDtt1eiHPBr1oIfhCChQMBw6Aw0UulqTKZdfVvfG7VcfIqLG9bcldL/+pdWTLxLUy8Qq38heUIjh4XlzZxzQm19lLFlr8vdQ97rjZVOLf8nclzckbcD4wxXMidpX30sFd37Fv/GtwwhzhxGVAprjbg0gCAEeIgwCZyTV2Z1REEW8O4py0wsjeloKoMr6iCY6dP92H6Vw/oTyICIthibxjm/DfN9lVz8IqtqKYLUXfoKVMVQVVJOElGjrnnUt9T9wbgp8AyYKaGlqingHZU/uG2NTZSVqwHQTWkx9hxjkpWDaCg6Ckj5qebgBVbT3V3NNXMSiWSDdGV3hrtzla7J+duwPOToIg42ChPQOQjspnSlp1V+Gjdged7+8UN5CRAV7a5EdFNwCjEaBR27b3W890TE7g24NAP/mMDXRWrGoFPQI9ls/MWO2dWFAar/xcOIImbbpA3zgAAAABJRU5ErkJggg==);\n",
       "        }\n",
       "    </style>\n",
       "    <div>\n",
       "        <a href=\"https://bokeh.org\" target=\"_blank\" class=\"bk-notebook-logo\"></a>\n",
       "        <span id=\"de9dc8a8-a848-4590-b2c7-608114461cf2\">Loading BokehJS ...</span>\n",
       "    </div>\n"
      ]
     },
     "metadata": {},
     "output_type": "display_data"
    },
    {
     "data": {
      "application/javascript": [
       "(function(root) {\n",
       "  function now() {\n",
       "    return new Date();\n",
       "  }\n",
       "\n",
       "  const force = true;\n",
       "\n",
       "  if (typeof root._bokeh_onload_callbacks === \"undefined\" || force === true) {\n",
       "    root._bokeh_onload_callbacks = [];\n",
       "    root._bokeh_is_loading = undefined;\n",
       "  }\n",
       "\n",
       "const JS_MIME_TYPE = 'application/javascript';\n",
       "  const HTML_MIME_TYPE = 'text/html';\n",
       "  const EXEC_MIME_TYPE = 'application/vnd.bokehjs_exec.v0+json';\n",
       "  const CLASS_NAME = 'output_bokeh rendered_html';\n",
       "\n",
       "  /**\n",
       "   * Render data to the DOM node\n",
       "   */\n",
       "  function render(props, node) {\n",
       "    const script = document.createElement(\"script\");\n",
       "    node.appendChild(script);\n",
       "  }\n",
       "\n",
       "  /**\n",
       "   * Handle when an output is cleared or removed\n",
       "   */\n",
       "  function handleClearOutput(event, handle) {\n",
       "    function drop(id) {\n",
       "      const view = Bokeh.index.get_by_id(id)\n",
       "      if (view != null) {\n",
       "        view.model.document.clear()\n",
       "        Bokeh.index.delete(view)\n",
       "      }\n",
       "    }\n",
       "\n",
       "    const cell = handle.cell;\n",
       "\n",
       "    const id = cell.output_area._bokeh_element_id;\n",
       "    const server_id = cell.output_area._bokeh_server_id;\n",
       "\n",
       "    // Clean up Bokeh references\n",
       "    if (id != null) {\n",
       "      drop(id)\n",
       "    }\n",
       "\n",
       "    if (server_id !== undefined) {\n",
       "      // Clean up Bokeh references\n",
       "      const cmd_clean = \"from bokeh.io.state import curstate; print(curstate().uuid_to_server['\" + server_id + \"'].get_sessions()[0].document.roots[0]._id)\";\n",
       "      cell.notebook.kernel.execute(cmd_clean, {\n",
       "        iopub: {\n",
       "          output: function(msg) {\n",
       "            const id = msg.content.text.trim()\n",
       "            drop(id)\n",
       "          }\n",
       "        }\n",
       "      });\n",
       "      // Destroy server and session\n",
       "      const cmd_destroy = \"import bokeh.io.notebook as ion; ion.destroy_server('\" + server_id + \"')\";\n",
       "      cell.notebook.kernel.execute(cmd_destroy);\n",
       "    }\n",
       "  }\n",
       "\n",
       "  /**\n",
       "   * Handle when a new output is added\n",
       "   */\n",
       "  function handleAddOutput(event, handle) {\n",
       "    const output_area = handle.output_area;\n",
       "    const output = handle.output;\n",
       "\n",
       "    // limit handleAddOutput to display_data with EXEC_MIME_TYPE content only\n",
       "    if ((output.output_type != \"display_data\") || (!Object.prototype.hasOwnProperty.call(output.data, EXEC_MIME_TYPE))) {\n",
       "      return\n",
       "    }\n",
       "\n",
       "    const toinsert = output_area.element.find(\".\" + CLASS_NAME.split(' ')[0]);\n",
       "\n",
       "    if (output.metadata[EXEC_MIME_TYPE][\"id\"] !== undefined) {\n",
       "      toinsert[toinsert.length - 1].firstChild.textContent = output.data[JS_MIME_TYPE];\n",
       "      // store reference to embed id on output_area\n",
       "      output_area._bokeh_element_id = output.metadata[EXEC_MIME_TYPE][\"id\"];\n",
       "    }\n",
       "    if (output.metadata[EXEC_MIME_TYPE][\"server_id\"] !== undefined) {\n",
       "      const bk_div = document.createElement(\"div\");\n",
       "      bk_div.innerHTML = output.data[HTML_MIME_TYPE];\n",
       "      const script_attrs = bk_div.children[0].attributes;\n",
       "      for (let i = 0; i < script_attrs.length; i++) {\n",
       "        toinsert[toinsert.length - 1].firstChild.setAttribute(script_attrs[i].name, script_attrs[i].value);\n",
       "        toinsert[toinsert.length - 1].firstChild.textContent = bk_div.children[0].textContent\n",
       "      }\n",
       "      // store reference to server id on output_area\n",
       "      output_area._bokeh_server_id = output.metadata[EXEC_MIME_TYPE][\"server_id\"];\n",
       "    }\n",
       "  }\n",
       "\n",
       "  function register_renderer(events, OutputArea) {\n",
       "\n",
       "    function append_mime(data, metadata, element) {\n",
       "      // create a DOM node to render to\n",
       "      const toinsert = this.create_output_subarea(\n",
       "        metadata,\n",
       "        CLASS_NAME,\n",
       "        EXEC_MIME_TYPE\n",
       "      );\n",
       "      this.keyboard_manager.register_events(toinsert);\n",
       "      // Render to node\n",
       "      const props = {data: data, metadata: metadata[EXEC_MIME_TYPE]};\n",
       "      render(props, toinsert[toinsert.length - 1]);\n",
       "      element.append(toinsert);\n",
       "      return toinsert\n",
       "    }\n",
       "\n",
       "    /* Handle when an output is cleared or removed */\n",
       "    events.on('clear_output.CodeCell', handleClearOutput);\n",
       "    events.on('delete.Cell', handleClearOutput);\n",
       "\n",
       "    /* Handle when a new output is added */\n",
       "    events.on('output_added.OutputArea', handleAddOutput);\n",
       "\n",
       "    /**\n",
       "     * Register the mime type and append_mime function with output_area\n",
       "     */\n",
       "    OutputArea.prototype.register_mime_type(EXEC_MIME_TYPE, append_mime, {\n",
       "      /* Is output safe? */\n",
       "      safe: true,\n",
       "      /* Index of renderer in `output_area.display_order` */\n",
       "      index: 0\n",
       "    });\n",
       "  }\n",
       "\n",
       "  // register the mime type if in Jupyter Notebook environment and previously unregistered\n",
       "  if (root.Jupyter !== undefined) {\n",
       "    const events = require('base/js/events');\n",
       "    const OutputArea = require('notebook/js/outputarea').OutputArea;\n",
       "\n",
       "    if (OutputArea.prototype.mime_types().indexOf(EXEC_MIME_TYPE) == -1) {\n",
       "      register_renderer(events, OutputArea);\n",
       "    }\n",
       "  }\n",
       "  if (typeof (root._bokeh_timeout) === \"undefined\" || force === true) {\n",
       "    root._bokeh_timeout = Date.now() + 5000;\n",
       "    root._bokeh_failed_load = false;\n",
       "  }\n",
       "\n",
       "  const NB_LOAD_WARNING = {'data': {'text/html':\n",
       "     \"<div style='background-color: #fdd'>\\n\"+\n",
       "     \"<p>\\n\"+\n",
       "     \"BokehJS does not appear to have successfully loaded. If loading BokehJS from CDN, this \\n\"+\n",
       "     \"may be due to a slow or bad network connection. Possible fixes:\\n\"+\n",
       "     \"</p>\\n\"+\n",
       "     \"<ul>\\n\"+\n",
       "     \"<li>re-rerun `output_notebook()` to attempt to load from CDN again, or</li>\\n\"+\n",
       "     \"<li>use INLINE resources instead, as so:</li>\\n\"+\n",
       "     \"</ul>\\n\"+\n",
       "     \"<code>\\n\"+\n",
       "     \"from bokeh.resources import INLINE\\n\"+\n",
       "     \"output_notebook(resources=INLINE)\\n\"+\n",
       "     \"</code>\\n\"+\n",
       "     \"</div>\"}};\n",
       "\n",
       "  function display_loaded() {\n",
       "    const el = document.getElementById(\"de9dc8a8-a848-4590-b2c7-608114461cf2\");\n",
       "    if (el != null) {\n",
       "      el.textContent = \"BokehJS is loading...\";\n",
       "    }\n",
       "    if (root.Bokeh !== undefined) {\n",
       "      if (el != null) {\n",
       "        el.textContent = \"BokehJS \" + root.Bokeh.version + \" successfully loaded.\";\n",
       "      }\n",
       "    } else if (Date.now() < root._bokeh_timeout) {\n",
       "      setTimeout(display_loaded, 100)\n",
       "    }\n",
       "  }\n",
       "\n",
       "  function run_callbacks() {\n",
       "    try {\n",
       "      root._bokeh_onload_callbacks.forEach(function(callback) {\n",
       "        if (callback != null)\n",
       "          callback();\n",
       "      });\n",
       "    } finally {\n",
       "      delete root._bokeh_onload_callbacks\n",
       "    }\n",
       "    console.debug(\"Bokeh: all callbacks have finished\");\n",
       "  }\n",
       "\n",
       "  function load_libs(css_urls, js_urls, callback) {\n",
       "    if (css_urls == null) css_urls = [];\n",
       "    if (js_urls == null) js_urls = [];\n",
       "\n",
       "    root._bokeh_onload_callbacks.push(callback);\n",
       "    if (root._bokeh_is_loading > 0) {\n",
       "      console.debug(\"Bokeh: BokehJS is being loaded, scheduling callback at\", now());\n",
       "      return null;\n",
       "    }\n",
       "    if (js_urls == null || js_urls.length === 0) {\n",
       "      run_callbacks();\n",
       "      return null;\n",
       "    }\n",
       "    console.debug(\"Bokeh: BokehJS not loaded, scheduling load and callback at\", now());\n",
       "    root._bokeh_is_loading = css_urls.length + js_urls.length;\n",
       "\n",
       "    function on_load() {\n",
       "      root._bokeh_is_loading--;\n",
       "      if (root._bokeh_is_loading === 0) {\n",
       "        console.debug(\"Bokeh: all BokehJS libraries/stylesheets loaded\");\n",
       "        run_callbacks()\n",
       "      }\n",
       "    }\n",
       "\n",
       "    function on_error(url) {\n",
       "      console.error(\"failed to load \" + url);\n",
       "    }\n",
       "\n",
       "    for (let i = 0; i < css_urls.length; i++) {\n",
       "      const url = css_urls[i];\n",
       "      const element = document.createElement(\"link\");\n",
       "      element.onload = on_load;\n",
       "      element.onerror = on_error.bind(null, url);\n",
       "      element.rel = \"stylesheet\";\n",
       "      element.type = \"text/css\";\n",
       "      element.href = url;\n",
       "      console.debug(\"Bokeh: injecting link tag for BokehJS stylesheet: \", url);\n",
       "      document.body.appendChild(element);\n",
       "    }\n",
       "\n",
       "    for (let i = 0; i < js_urls.length; i++) {\n",
       "      const url = js_urls[i];\n",
       "      const element = document.createElement('script');\n",
       "      element.onload = on_load;\n",
       "      element.onerror = on_error.bind(null, url);\n",
       "      element.async = false;\n",
       "      element.src = url;\n",
       "      console.debug(\"Bokeh: injecting script tag for BokehJS library: \", url);\n",
       "      document.head.appendChild(element);\n",
       "    }\n",
       "  };\n",
       "\n",
       "  function inject_raw_css(css) {\n",
       "    const element = document.createElement(\"style\");\n",
       "    element.appendChild(document.createTextNode(css));\n",
       "    document.body.appendChild(element);\n",
       "  }\n",
       "\n",
       "  const js_urls = [\"https://cdn.bokeh.org/bokeh/release/bokeh-3.3.1.min.js\", \"https://cdn.bokeh.org/bokeh/release/bokeh-gl-3.3.1.min.js\", \"https://cdn.bokeh.org/bokeh/release/bokeh-widgets-3.3.1.min.js\", \"https://cdn.bokeh.org/bokeh/release/bokeh-tables-3.3.1.min.js\", \"https://cdn.bokeh.org/bokeh/release/bokeh-mathjax-3.3.1.min.js\"];\n",
       "  const css_urls = [];\n",
       "\n",
       "  const inline_js = [    function(Bokeh) {\n",
       "      Bokeh.set_log_level(\"info\");\n",
       "    },\n",
       "function(Bokeh) {\n",
       "    }\n",
       "  ];\n",
       "\n",
       "  function run_inline_js() {\n",
       "    if (root.Bokeh !== undefined || force === true) {\n",
       "          for (let i = 0; i < inline_js.length; i++) {\n",
       "      inline_js[i].call(root, root.Bokeh);\n",
       "    }\n",
       "if (force === true) {\n",
       "        display_loaded();\n",
       "      }} else if (Date.now() < root._bokeh_timeout) {\n",
       "      setTimeout(run_inline_js, 100);\n",
       "    } else if (!root._bokeh_failed_load) {\n",
       "      console.log(\"Bokeh: BokehJS failed to load within specified timeout.\");\n",
       "      root._bokeh_failed_load = true;\n",
       "    } else if (force !== true) {\n",
       "      const cell = $(document.getElementById(\"de9dc8a8-a848-4590-b2c7-608114461cf2\")).parents('.cell').data().cell;\n",
       "      cell.output_area.append_execute_result(NB_LOAD_WARNING)\n",
       "    }\n",
       "  }\n",
       "\n",
       "  if (root._bokeh_is_loading === 0) {\n",
       "    console.debug(\"Bokeh: BokehJS loaded, going straight to plotting\");\n",
       "    run_inline_js();\n",
       "  } else {\n",
       "    load_libs(css_urls, js_urls, function() {\n",
       "      console.debug(\"Bokeh: BokehJS plotting callback run at\", now());\n",
       "      run_inline_js();\n",
       "    });\n",
       "  }\n",
       "}(window));"
      ],
      "application/vnd.bokehjs_load.v0+json": "(function(root) {\n  function now() {\n    return new Date();\n  }\n\n  const force = true;\n\n  if (typeof root._bokeh_onload_callbacks === \"undefined\" || force === true) {\n    root._bokeh_onload_callbacks = [];\n    root._bokeh_is_loading = undefined;\n  }\n\n\n  if (typeof (root._bokeh_timeout) === \"undefined\" || force === true) {\n    root._bokeh_timeout = Date.now() + 5000;\n    root._bokeh_failed_load = false;\n  }\n\n  const NB_LOAD_WARNING = {'data': {'text/html':\n     \"<div style='background-color: #fdd'>\\n\"+\n     \"<p>\\n\"+\n     \"BokehJS does not appear to have successfully loaded. If loading BokehJS from CDN, this \\n\"+\n     \"may be due to a slow or bad network connection. Possible fixes:\\n\"+\n     \"</p>\\n\"+\n     \"<ul>\\n\"+\n     \"<li>re-rerun `output_notebook()` to attempt to load from CDN again, or</li>\\n\"+\n     \"<li>use INLINE resources instead, as so:</li>\\n\"+\n     \"</ul>\\n\"+\n     \"<code>\\n\"+\n     \"from bokeh.resources import INLINE\\n\"+\n     \"output_notebook(resources=INLINE)\\n\"+\n     \"</code>\\n\"+\n     \"</div>\"}};\n\n  function display_loaded() {\n    const el = document.getElementById(\"de9dc8a8-a848-4590-b2c7-608114461cf2\");\n    if (el != null) {\n      el.textContent = \"BokehJS is loading...\";\n    }\n    if (root.Bokeh !== undefined) {\n      if (el != null) {\n        el.textContent = \"BokehJS \" + root.Bokeh.version + \" successfully loaded.\";\n      }\n    } else if (Date.now() < root._bokeh_timeout) {\n      setTimeout(display_loaded, 100)\n    }\n  }\n\n  function run_callbacks() {\n    try {\n      root._bokeh_onload_callbacks.forEach(function(callback) {\n        if (callback != null)\n          callback();\n      });\n    } finally {\n      delete root._bokeh_onload_callbacks\n    }\n    console.debug(\"Bokeh: all callbacks have finished\");\n  }\n\n  function load_libs(css_urls, js_urls, callback) {\n    if (css_urls == null) css_urls = [];\n    if (js_urls == null) js_urls = [];\n\n    root._bokeh_onload_callbacks.push(callback);\n    if (root._bokeh_is_loading > 0) {\n      console.debug(\"Bokeh: BokehJS is being loaded, scheduling callback at\", now());\n      return null;\n    }\n    if (js_urls == null || js_urls.length === 0) {\n      run_callbacks();\n      return null;\n    }\n    console.debug(\"Bokeh: BokehJS not loaded, scheduling load and callback at\", now());\n    root._bokeh_is_loading = css_urls.length + js_urls.length;\n\n    function on_load() {\n      root._bokeh_is_loading--;\n      if (root._bokeh_is_loading === 0) {\n        console.debug(\"Bokeh: all BokehJS libraries/stylesheets loaded\");\n        run_callbacks()\n      }\n    }\n\n    function on_error(url) {\n      console.error(\"failed to load \" + url);\n    }\n\n    for (let i = 0; i < css_urls.length; i++) {\n      const url = css_urls[i];\n      const element = document.createElement(\"link\");\n      element.onload = on_load;\n      element.onerror = on_error.bind(null, url);\n      element.rel = \"stylesheet\";\n      element.type = \"text/css\";\n      element.href = url;\n      console.debug(\"Bokeh: injecting link tag for BokehJS stylesheet: \", url);\n      document.body.appendChild(element);\n    }\n\n    for (let i = 0; i < js_urls.length; i++) {\n      const url = js_urls[i];\n      const element = document.createElement('script');\n      element.onload = on_load;\n      element.onerror = on_error.bind(null, url);\n      element.async = false;\n      element.src = url;\n      console.debug(\"Bokeh: injecting script tag for BokehJS library: \", url);\n      document.head.appendChild(element);\n    }\n  };\n\n  function inject_raw_css(css) {\n    const element = document.createElement(\"style\");\n    element.appendChild(document.createTextNode(css));\n    document.body.appendChild(element);\n  }\n\n  const js_urls = [\"https://cdn.bokeh.org/bokeh/release/bokeh-3.3.1.min.js\", \"https://cdn.bokeh.org/bokeh/release/bokeh-gl-3.3.1.min.js\", \"https://cdn.bokeh.org/bokeh/release/bokeh-widgets-3.3.1.min.js\", \"https://cdn.bokeh.org/bokeh/release/bokeh-tables-3.3.1.min.js\", \"https://cdn.bokeh.org/bokeh/release/bokeh-mathjax-3.3.1.min.js\"];\n  const css_urls = [];\n\n  const inline_js = [    function(Bokeh) {\n      Bokeh.set_log_level(\"info\");\n    },\nfunction(Bokeh) {\n    }\n  ];\n\n  function run_inline_js() {\n    if (root.Bokeh !== undefined || force === true) {\n          for (let i = 0; i < inline_js.length; i++) {\n      inline_js[i].call(root, root.Bokeh);\n    }\nif (force === true) {\n        display_loaded();\n      }} else if (Date.now() < root._bokeh_timeout) {\n      setTimeout(run_inline_js, 100);\n    } else if (!root._bokeh_failed_load) {\n      console.log(\"Bokeh: BokehJS failed to load within specified timeout.\");\n      root._bokeh_failed_load = true;\n    } else if (force !== true) {\n      const cell = $(document.getElementById(\"de9dc8a8-a848-4590-b2c7-608114461cf2\")).parents('.cell').data().cell;\n      cell.output_area.append_execute_result(NB_LOAD_WARNING)\n    }\n  }\n\n  if (root._bokeh_is_loading === 0) {\n    console.debug(\"Bokeh: BokehJS loaded, going straight to plotting\");\n    run_inline_js();\n  } else {\n    load_libs(css_urls, js_urls, function() {\n      console.debug(\"Bokeh: BokehJS plotting callback run at\", now());\n      run_inline_js();\n    });\n  }\n}(window));"
     },
     "metadata": {},
     "output_type": "display_data"
    }
   ],
   "source": [
    "import bokeh.plotting as pl\n",
    "import bokeh.models as bm\n",
    "from bokeh.io import output_notebook, show\n",
    "output_notebook()\n",
    "\n",
    "def draw_attention(inp_line, translation, probs):\n",
    "    \"\"\" An intentionally ambiguous function to visualize attention weights \"\"\"\n",
    "    inp_tokens = inp_voc.tokenize(inp_line)\n",
    "    trans_tokens = out_voc.tokenize(translation)\n",
    "    probs = probs[:len(trans_tokens), :len(inp_tokens)]\n",
    "    \n",
    "    fig = pl.figure(x_range=(0, len(inp_tokens)), y_range=(0, len(trans_tokens)),\n",
    "                    x_axis_type=None, y_axis_type=None, tools=[])\n",
    "    fig.image([probs[::-1]], 0, 0, len(inp_tokens), len(trans_tokens))\n",
    "\n",
    "    fig.add_layout(bm.LinearAxis(axis_label='source tokens'), 'above')\n",
    "    fig.xaxis.ticker = np.arange(len(inp_tokens)) + 0.5\n",
    "    fig.xaxis.major_label_overrides = dict(zip(np.arange(len(inp_tokens)) + 0.5, inp_tokens))\n",
    "    fig.xaxis.major_label_orientation = 45\n",
    "\n",
    "    fig.add_layout(bm.LinearAxis(axis_label='translation tokens'), 'left')\n",
    "    fig.yaxis.ticker = np.arange(len(trans_tokens)) + 0.5\n",
    "    fig.yaxis.major_label_overrides = dict(zip(np.arange(len(trans_tokens)) + 0.5, trans_tokens[::-1]))\n",
    "\n",
    "    show(fig)"
   ]
  },
  {
   "cell_type": "code",
   "execution_count": 103,
   "metadata": {},
   "outputs": [],
   "source": [
    "inp = dev_inp[::500]\n",
    "\n",
    "trans, states = model.translate_lines(inp)\n",
    "\n",
    "# select attention probs from model state (you may need to change this for your custom model)\n",
    "# attention_probs below must have shape [batch_size, translation_length, input_length], extracted from states\n",
    "# e.g. if attention probs are at the end of each state, use np.stack([state[-1] for state in states], axis=1)\n",
    "attention_probs = np.stack([state[1].cpu().detach().numpy() for state in states])"
   ]
  },
  {
   "cell_type": "code",
   "execution_count": 104,
   "metadata": {},
   "outputs": [
    {
     "data": {
      "text/html": [
       "\n",
       "  <div id=\"a81a5458-bf8a-4dc9-9ca4-d3f756b5bf96\" data-root-id=\"p1411\" style=\"display: contents;\"></div>\n"
      ]
     },
     "metadata": {},
     "output_type": "display_data"
    },
    {
     "data": {
      "application/javascript": [
       "(function(root) {\n",
       "  function embed_document(root) {\n",
       "  const docs_json = {\"c88cb1b3-92bb-4520-b52c-2e33fc56b79d\":{\"version\":\"3.3.1\",\"title\":\"Bokeh Application\",\"roots\":[{\"type\":\"object\",\"name\":\"Figure\",\"id\":\"p1411\",\"attributes\":{\"x_range\":{\"type\":\"object\",\"name\":\"Range1d\",\"id\":\"p1420\",\"attributes\":{\"end\":46}},\"y_range\":{\"type\":\"object\",\"name\":\"Range1d\",\"id\":\"p1421\",\"attributes\":{\"end\":17}},\"x_scale\":{\"type\":\"object\",\"name\":\"LinearScale\",\"id\":\"p1422\"},\"y_scale\":{\"type\":\"object\",\"name\":\"LinearScale\",\"id\":\"p1423\"},\"title\":{\"type\":\"object\",\"name\":\"Title\",\"id\":\"p1418\"},\"renderers\":[{\"type\":\"object\",\"name\":\"GlyphRenderer\",\"id\":\"p1436\",\"attributes\":{\"data_source\":{\"type\":\"object\",\"name\":\"ColumnDataSource\",\"id\":\"p1424\",\"attributes\":{\"selected\":{\"type\":\"object\",\"name\":\"Selection\",\"id\":\"p1425\",\"attributes\":{\"indices\":[],\"line_indices\":[]}},\"selection_policy\":{\"type\":\"object\",\"name\":\"UnionRenderers\",\"id\":\"p1426\"},\"data\":{\"type\":\"map\",\"entries\":[[\"image\",[{\"type\":\"ndarray\",\"array\":{\"type\":\"bytes\",\"data\":\"EABzO4q0OTtgu7U8B3iTOkAXZj0MNrI6mBeNO/CsYTxedRU7LlnNOnX1hTp84UU6pPJUOwsKNTzYQoE8aKsNOv2ZfzxPnSo68913PLlkhzoIBCk6jI6hOun5IzuDypk76MWCPE9HATzBXu88PoNRPnBHnzteZ7M81NofPb3IrTs2Zoc9MVfFPRwbqjtQ+KY8f8UNPPHj2TwLvc08PyrWPY6mrTtPZAc8PLXgPFXqPDxuRSY7NkgvO+MlDTqca286MpUTOuLQDzk7N0Q7EnrqOuk5WzlJ7z86Xz4uOshKizuNcTA6mrk6PQPg7z3VB2I+HdnMPJrgJz24I7w8ZPG4PbmdBz1NIEs98wOnPX6+ITuDyj05vKuXOmcTOzlnSlY6eTpRPLJL/Dlv+FU60v0IPMZwJz2DX2k7Py8vO2XzCzpMwuM53KLFPGY1pz2ZmN07Lw36Oi89szxCA4I5HvPpOASRNTkLw8k68aJeOSdqBTyrnoY7yOmvO5Wwlzux0cg5w+c5PP2BBDw16yg6KFVFOwpamTsCv0I8ynRQO9OdSD3DACI861HGPEQRjzu9Rps7QK+dO8L3bT3JLLo5VDWZOkP6CTv9MSs97GfxPF/ciDvW4Wg7p2iwPUkinzl8XkY8/ULoOZ8RfTrff4w5bYgxPFs1KD2k4xM97ityPQewyTxWQ+U79xfQO7+1Ajy8Q6s7oM3JOSsUlz0Nkl87t0zvOQVgjDyhdZ88xQWJOQ5PSTvD6W460S/qOoRKjDro5+g71vOlOj5nhTq1UoE6e36UOEQEETscmJg6nTEDPIjNFTyXw1M7rZL+PW/ABjxwLBw9JBajPbVRmzr3ox08D68CPBJ83jt3ugQ6vwo9PB9eNTyK1PA+n1S4O0Wsejn60CQ77lelO7w9rzspiRw8HAw2OgF1UT1Mcuk6DgkGPcDO3jwt3i06bfAePUpUAzwAAAAAAAAAAAAAAAAAAAAAAAAAAKZFlDpMYYM6g8ktPA9KgjrKrC479OG5PAptyjqzg7k5GWo3OtA7YzuKNz88UkAHOTfO2jn5Qgg5vX+BOtIVbjlDN7Q4fWpKO1jFEDnsGhc7ZRgrOfnZLjzbcMc4h+fEOTIxiDrQZjM8WM8eOw3dOju41zY6jjezOs5UGztMaDE90A3gPqpHezpsE4U6xb2cOpXXkTn6nJM46kW2Ooj4yTgWfAk7sNzRORlzFT2xz/I9+R77OjECnzk7IRM7JfCSOw4R5Dsk1+I6VIVIO8xGvzoD2R46NcqXO35fOzyHaKI8pVD6OdKKUDx+OwA6AoWOPAqWOTwKqo06jc2ZOj8yozv+FTM7dvgfPIW1ijtau2w7bBjLPlmhVzvGJv48kS2ROzkGRzw8SqQ9FnqPPAoFRTvdzXE9NsM+O1lAFTu3yVM+HSxBOoeiADz1H8Q73IhuOgcUMzp/ny076RBsOr+1pDyFLEo6sk5BO57YLjwAAAAA\"},\"shape\":[6,46],\"dtype\":\"float32\",\"order\":\"little\"}]]]}}},\"view\":{\"type\":\"object\",\"name\":\"CDSView\",\"id\":\"p1437\",\"attributes\":{\"filter\":{\"type\":\"object\",\"name\":\"AllIndices\",\"id\":\"p1438\"}}},\"glyph\":{\"type\":\"object\",\"name\":\"Image\",\"id\":\"p1427\",\"attributes\":{\"x\":{\"type\":\"value\",\"value\":0},\"y\":{\"type\":\"value\",\"value\":0},\"dw\":{\"type\":\"value\",\"value\":46},\"dh\":{\"type\":\"value\",\"value\":17},\"image\":{\"type\":\"field\",\"field\":\"image\"},\"color_mapper\":{\"type\":\"object\",\"name\":\"LinearColorMapper\",\"id\":\"p1428\",\"attributes\":{\"palette\":[\"#000000\",\"#252525\",\"#525252\",\"#737373\",\"#969696\",\"#bdbdbd\",\"#d9d9d9\",\"#f0f0f0\",\"#ffffff\"]}}}},\"nonselection_glyph\":{\"type\":\"object\",\"name\":\"Image\",\"id\":\"p1430\",\"attributes\":{\"x\":{\"type\":\"value\",\"value\":0},\"y\":{\"type\":\"value\",\"value\":0},\"dw\":{\"type\":\"value\",\"value\":46},\"dh\":{\"type\":\"value\",\"value\":17},\"global_alpha\":{\"type\":\"value\",\"value\":0.1},\"image\":{\"type\":\"field\",\"field\":\"image\"},\"color_mapper\":{\"type\":\"object\",\"name\":\"LinearColorMapper\",\"id\":\"p1431\",\"attributes\":{\"palette\":[\"#000000\",\"#252525\",\"#525252\",\"#737373\",\"#969696\",\"#bdbdbd\",\"#d9d9d9\",\"#f0f0f0\",\"#ffffff\"]}}}},\"muted_glyph\":{\"type\":\"object\",\"name\":\"Image\",\"id\":\"p1433\",\"attributes\":{\"x\":{\"type\":\"value\",\"value\":0},\"y\":{\"type\":\"value\",\"value\":0},\"dw\":{\"type\":\"value\",\"value\":46},\"dh\":{\"type\":\"value\",\"value\":17},\"global_alpha\":{\"type\":\"value\",\"value\":0.2},\"image\":{\"type\":\"field\",\"field\":\"image\"},\"color_mapper\":{\"type\":\"object\",\"name\":\"LinearColorMapper\",\"id\":\"p1434\",\"attributes\":{\"palette\":[\"#000000\",\"#252525\",\"#525252\",\"#737373\",\"#969696\",\"#bdbdbd\",\"#d9d9d9\",\"#f0f0f0\",\"#ffffff\"]}}}}}}],\"toolbar\":{\"type\":\"object\",\"name\":\"Toolbar\",\"id\":\"p1419\"},\"left\":[{\"type\":\"object\",\"name\":\"LinearAxis\",\"id\":\"p1444\",\"attributes\":{\"ticker\":{\"type\":\"object\",\"name\":\"FixedTicker\",\"id\":\"p1448\",\"attributes\":{\"ticks\":{\"type\":\"ndarray\",\"array\":{\"type\":\"bytes\",\"data\":\"AAAAAAAA4D8AAAAAAAD4PwAAAAAAAARAAAAAAAAADEAAAAAAAAASQAAAAAAAABZAAAAAAAAAGkAAAAAAAAAeQAAAAAAAACFAAAAAAAAAI0AAAAAAAAAlQAAAAAAAACdAAAAAAAAAKUAAAAAAAAArQAAAAAAAAC1AAAAAAAAAL0AAAAAAAIAwQA==\"},\"shape\":[17],\"dtype\":\"float64\",\"order\":\"little\"},\"minor_ticks\":[]}},\"formatter\":{\"type\":\"object\",\"name\":\"BasicTickFormatter\",\"id\":\"p1446\"},\"axis_label\":\"translation tokens\",\"major_label_overrides\":{\"type\":\"map\",\"entries\":[[0.5,\"_EOS_\"],[1.5,\".\"],[2.5,\"kitchen\"],[3.5,\"shared\"],[4.5,\"a\"],[5.5,\"and\"],[6.5,\"kitchen\"],[7.5,\"shared\"],[8.5,\"a\"],[9.5,\"include\"],[10.5,\"property\"],[11.5,\"the\"],[12.5,\"at\"],[13.5,\"offered\"],[14.5,\"facilities\"],[15.5,\"other\"],[16.5,\"_BOS_\"]]},\"major_label_policy\":{\"type\":\"object\",\"name\":\"AllLabels\",\"id\":\"p1447\"}}}],\"above\":[{\"type\":\"object\",\"name\":\"LinearAxis\",\"id\":\"p1439\",\"attributes\":{\"ticker\":{\"type\":\"object\",\"name\":\"FixedTicker\",\"id\":\"p1443\",\"attributes\":{\"ticks\":{\"type\":\"ndarray\",\"array\":{\"type\":\"bytes\",\"data\":\"AAAAAAAA4D8AAAAAAAD4PwAAAAAAAARAAAAAAAAADEAAAAAAAAASQAAAAAAAABZAAAAAAAAAGkAAAAAAAAAeQAAAAAAAACFAAAAAAAAAI0AAAAAAAAAlQAAAAAAAACdAAAAAAAAAKUAAAAAAAAArQAAAAAAAAC1AAAAAAAAAL0AAAAAAAIAwQAAAAAAAgDFAAAAAAACAMkAAAAAAAIAzQAAAAAAAgDRAAAAAAACANUAAAAAAAIA2QAAAAAAAgDdAAAAAAACAOEAAAAAAAIA5QAAAAAAAgDpAAAAAAACAO0AAAAAAAIA8QAAAAAAAgD1AAAAAAACAPkAAAAAAAIA/QAAAAAAAQEBAAAAAAADAQEAAAAAAAEBBQAAAAAAAwEFAAAAAAABAQkAAAAAAAMBCQAAAAAAAQENAAAAAAADAQ0AAAAAAAEBEQAAAAAAAwERAAAAAAABARUAAAAAAAMBFQAAAAAAAQEZAAAAAAADARkA=\"},\"shape\":[46],\"dtype\":\"float64\",\"order\":\"little\"},\"minor_ticks\":[]}},\"formatter\":{\"type\":\"object\",\"name\":\"BasicTickFormatter\",\"id\":\"p1441\"},\"axis_label\":\"source tokens\",\"major_label_orientation\":45,\"major_label_overrides\":{\"type\":\"map\",\"entries\":[[0.5,\"_BOS_\"],[1.5,\"\\u0432\"],[2.5,\"\\u0440@@\"],[3.5,\"\\u0430@@\"],[4.5,\"\\u0441@@\"],[5.5,\"\\u043f@@\"],[6.5,\"\\u043e@@\"],[7.5,\"\\u0440@@\"],[8.5,\"\\u044f@@\"],[9.5,\"\\u0436@@\"],[10.5,\"\\u0435@@\"],[11.5,\"\\u043d@@\"],[12.5,\"\\u0438@@\"],[13.5,\"\\u0438\"],[14.5,\"\\u0433@@\"],[15.5,\"\\u043e@@\"],[16.5,\"\\u0441@@\"],[17.5,\"\\u0442@@\"],[18.5,\"\\u0435@@\"],[19.5,\"\\u0439\"],[20.5,\"\\u043e@@\"],[21.5,\"\\u0431@@\"],[22.5,\"\\u0449@@\"],[23.5,\"\\u0430@@\"],[24.5,\"\\u044f\"],[25.5,\"\\u043a@@\"],[26.5,\"\\u0443@@\"],[27.5,\"\\u0445@@\"],[28.5,\"\\u043d@@\"],[29.5,\"\\u044f\"],[30.5,\"\\u0438\"],[31.5,\"\\u043e@@\"],[32.5,\"\\u0431@@\"],[33.5,\"\\u0449@@\"],[34.5,\"\\u0430@@\"],[35.5,\"\\u044f\"],[36.5,\"\\u0433@@\"],[37.5,\"\\u043e@@\"],[38.5,\"\\u0441@@\"],[39.5,\"\\u0442@@\"],[40.5,\"\\u0438@@\"],[41.5,\"\\u043d@@\"],[42.5,\"\\u0430@@\"],[43.5,\"\\u044f\"],[44.5,\".\"],[45.5,\"_EOS_\"]]},\"major_label_policy\":{\"type\":\"object\",\"name\":\"AllLabels\",\"id\":\"p1442\"}}}]}}]}};\n",
       "  const render_items = [{\"docid\":\"c88cb1b3-92bb-4520-b52c-2e33fc56b79d\",\"roots\":{\"p1411\":\"a81a5458-bf8a-4dc9-9ca4-d3f756b5bf96\"},\"root_ids\":[\"p1411\"]}];\n",
       "  root.Bokeh.embed.embed_items_notebook(docs_json, render_items);\n",
       "  }\n",
       "  if (root.Bokeh !== undefined) {\n",
       "    embed_document(root);\n",
       "  } else {\n",
       "    let attempts = 0;\n",
       "    const timer = setInterval(function(root) {\n",
       "      if (root.Bokeh !== undefined) {\n",
       "        clearInterval(timer);\n",
       "        embed_document(root);\n",
       "      } else {\n",
       "        attempts++;\n",
       "        if (attempts > 100) {\n",
       "          clearInterval(timer);\n",
       "          console.log(\"Bokeh: ERROR: Unable to run BokehJS code because BokehJS library is missing\");\n",
       "        }\n",
       "      }\n",
       "    }, 10, root)\n",
       "  }\n",
       "})(window);"
      ],
      "application/vnd.bokehjs_exec.v0+json": ""
     },
     "metadata": {
      "application/vnd.bokehjs_exec.v0+json": {
       "id": "p1411"
      }
     },
     "output_type": "display_data"
    },
    {
     "data": {
      "text/html": [
       "\n",
       "  <div id=\"de33d3aa-133a-47c4-869d-d345294d102a\" data-root-id=\"p1452\" style=\"display: contents;\"></div>\n"
      ]
     },
     "metadata": {},
     "output_type": "display_data"
    },
    {
     "data": {
      "application/javascript": [
       "(function(root) {\n",
       "  function embed_document(root) {\n",
       "  const docs_json = {\"cd4a5ff5-2c00-417e-a565-fbf54afcf7a0\":{\"version\":\"3.3.1\",\"title\":\"Bokeh Application\",\"roots\":[{\"type\":\"object\",\"name\":\"Figure\",\"id\":\"p1452\",\"attributes\":{\"x_range\":{\"type\":\"object\",\"name\":\"Range1d\",\"id\":\"p1461\",\"attributes\":{\"end\":80}},\"y_range\":{\"type\":\"object\",\"name\":\"Range1d\",\"id\":\"p1462\",\"attributes\":{\"end\":9}},\"x_scale\":{\"type\":\"object\",\"name\":\"LinearScale\",\"id\":\"p1463\"},\"y_scale\":{\"type\":\"object\",\"name\":\"LinearScale\",\"id\":\"p1464\"},\"title\":{\"type\":\"object\",\"name\":\"Title\",\"id\":\"p1459\"},\"renderers\":[{\"type\":\"object\",\"name\":\"GlyphRenderer\",\"id\":\"p1477\",\"attributes\":{\"data_source\":{\"type\":\"object\",\"name\":\"ColumnDataSource\",\"id\":\"p1465\",\"attributes\":{\"selected\":{\"type\":\"object\",\"name\":\"Selection\",\"id\":\"p1466\",\"attributes\":{\"indices\":[],\"line_indices\":[]}},\"selection_policy\":{\"type\":\"object\",\"name\":\"UnionRenderers\",\"id\":\"p1467\"},\"data\":{\"type\":\"map\",\"entries\":[[\"image\",[{\"type\":\"ndarray\",\"array\":{\"type\":\"bytes\",\"data\":\"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\"},\"shape\":[6,80],\"dtype\":\"float32\",\"order\":\"little\"}]]]}}},\"view\":{\"type\":\"object\",\"name\":\"CDSView\",\"id\":\"p1478\",\"attributes\":{\"filter\":{\"type\":\"object\",\"name\":\"AllIndices\",\"id\":\"p1479\"}}},\"glyph\":{\"type\":\"object\",\"name\":\"Image\",\"id\":\"p1468\",\"attributes\":{\"x\":{\"type\":\"value\",\"value\":0},\"y\":{\"type\":\"value\",\"value\":0},\"dw\":{\"type\":\"value\",\"value\":80},\"dh\":{\"type\":\"value\",\"value\":9},\"image\":{\"type\":\"field\",\"field\":\"image\"},\"color_mapper\":{\"type\":\"object\",\"name\":\"LinearColorMapper\",\"id\":\"p1469\",\"attributes\":{\"palette\":[\"#000000\",\"#252525\",\"#525252\",\"#737373\",\"#969696\",\"#bdbdbd\",\"#d9d9d9\",\"#f0f0f0\",\"#ffffff\"]}}}},\"nonselection_glyph\":{\"type\":\"object\",\"name\":\"Image\",\"id\":\"p1471\",\"attributes\":{\"x\":{\"type\":\"value\",\"value\":0},\"y\":{\"type\":\"value\",\"value\":0},\"dw\":{\"type\":\"value\",\"value\":80},\"dh\":{\"type\":\"value\",\"value\":9},\"global_alpha\":{\"type\":\"value\",\"value\":0.1},\"image\":{\"type\":\"field\",\"field\":\"image\"},\"color_mapper\":{\"type\":\"object\",\"name\":\"LinearColorMapper\",\"id\":\"p1472\",\"attributes\":{\"palette\":[\"#000000\",\"#252525\",\"#525252\",\"#737373\",\"#969696\",\"#bdbdbd\",\"#d9d9d9\",\"#f0f0f0\",\"#ffffff\"]}}}},\"muted_glyph\":{\"type\":\"object\",\"name\":\"Image\",\"id\":\"p1474\",\"attributes\":{\"x\":{\"type\":\"value\",\"value\":0},\"y\":{\"type\":\"value\",\"value\":0},\"dw\":{\"type\":\"value\",\"value\":80},\"dh\":{\"type\":\"value\",\"value\":9},\"global_alpha\":{\"type\":\"value\",\"value\":0.2},\"image\":{\"type\":\"field\",\"field\":\"image\"},\"color_mapper\":{\"type\":\"object\",\"name\":\"LinearColorMapper\",\"id\":\"p1475\",\"attributes\":{\"palette\":[\"#000000\",\"#252525\",\"#525252\",\"#737373\",\"#969696\",\"#bdbdbd\",\"#d9d9d9\",\"#f0f0f0\",\"#ffffff\"]}}}}}}],\"toolbar\":{\"type\":\"object\",\"name\":\"Toolbar\",\"id\":\"p1460\"},\"left\":[{\"type\":\"object\",\"name\":\"LinearAxis\",\"id\":\"p1485\",\"attributes\":{\"ticker\":{\"type\":\"object\",\"name\":\"FixedTicker\",\"id\":\"p1489\",\"attributes\":{\"ticks\":{\"type\":\"ndarray\",\"array\":{\"type\":\"bytes\",\"data\":\"AAAAAAAA4D8AAAAAAAD4PwAAAAAAAARAAAAAAAAADEAAAAAAAAASQAAAAAAAABZAAAAAAAAAGkAAAAAAAAAeQAAAAAAAACFA\"},\"shape\":[9],\"dtype\":\"float64\",\"order\":\"little\"},\"minor_ticks\":[]}},\"formatter\":{\"type\":\"object\",\"name\":\"BasicTickFormatter\",\"id\":\"p1487\"},\"axis_label\":\"translation tokens\",\"major_label_overrides\":{\"type\":\"map\",\"entries\":[[0.5,\"_EOS_\"],[1.5,\".\"],[2.5,\"available\"],[3.5,\"are\"],[4.5,\"parking\"],[5.5,\"and\"],[6.5,\"rental\"],[7.5,\"bicycle\"],[8.5,\"_BOS_\"]]},\"major_label_policy\":{\"type\":\"object\",\"name\":\"AllLabels\",\"id\":\"p1488\"}}}],\"above\":[{\"type\":\"object\",\"name\":\"LinearAxis\",\"id\":\"p1480\",\"attributes\":{\"ticker\":{\"type\":\"object\",\"name\":\"FixedTicker\",\"id\":\"p1484\",\"attributes\":{\"ticks\":{\"type\":\"ndarray\",\"array\":{\"type\":\"bytes\",\"data\":\"AAAAAAAA4D8AAAAAAAD4PwAAAAAAAARAAAAAAAAADEAAAAAAAAASQAAAAAAAABZAAAAAAAAAGkAAAAAAAAAeQAAAAAAAACFAAAAAAAAAI0AAAAAAAAAlQAAAAAAAACdAAAAAAAAAKUAAAAAAAAArQAAAAAAAAC1AAAAAAAAAL0AAAAAAAIAwQAAAAAAAgDFAAAAAAACAMkAAAAAAAIAzQAAAAAAAgDRAAAAAAACANUAAAAAAAIA2QAAAAAAAgDdAAAAAAACAOEAAAAAAAIA5QAAAAAAAgDpAAAAAAACAO0AAAAAAAIA8QAAAAAAAgD1AAAAAAACAPkAAAAAAAIA/QAAAAAAAQEBAAAAAAADAQEAAAAAAAEBBQAAAAAAAwEFAAAAAAABAQkAAAAAAAMBCQAAAAAAAQENAAAAAAADAQ0AAAAAAAEBEQAAAAAAAwERAAAAAAABARUAAAAAAAMBFQAAAAAAAQEZAAAAAAADARkAAAAAAAEBHQAAAAAAAwEdAAAAAAABASEAAAAAAAMBIQAAAAAAAQElAAAAAAADASUAAAAAAAEBKQAAAAAAAwEpAAAAAAABAS0AAAAAAAMBLQAAAAAAAQExAAAAAAADATEAAAAAAAEBNQAAAAAAAwE1AAAAAAABATkAAAAAAAMBOQAAAAAAAQE9AAAAAAADAT0AAAAAAACBQQAAAAAAAYFBAAAAAAACgUEAAAAAAAOBQQAAAAAAAIFFAAAAAAABgUUAAAAAAAKBRQAAAAAAA4FFAAAAAAAAgUkAAAAAAAGBSQAAAAAAAoFJAAAAAAADgUkAAAAAAACBTQAAAAAAAYFNAAAAAAACgU0AAAAAAAOBTQA==\"},\"shape\":[80],\"dtype\":\"float64\",\"order\":\"little\"},\"minor_ticks\":[]}},\"formatter\":{\"type\":\"object\",\"name\":\"BasicTickFormatter\",\"id\":\"p1482\"},\"axis_label\":\"source tokens\",\"major_label_orientation\":45,\"major_label_overrides\":{\"type\":\"map\",\"entries\":[[0.5,\"_BOS_\"],[1.5,\"\\u043a@@\"],[2.5,\"\\u0440@@\"],[3.5,\"\\u043e@@\"],[4.5,\"\\u043c@@\"],[5.5,\"\\u0435\"],[6.5,\"\\u0442@@\"],[7.5,\"\\u043e@@\"],[8.5,\"\\u0433@@\"],[9.5,\"\\u043e\"],[10.5,\",\"],[11.5,\"\\u043f@@\"],[12.5,\"\\u0440@@\"],[13.5,\"\\u0435@@\"],[14.5,\"\\u0434@@\"],[15.5,\"\\u043e@@\"],[16.5,\"\\u0441@@\"],[17.5,\"\\u0442@@\"],[18.5,\"\\u0430@@\"],[19.5,\"\\u0432@@\"],[20.5,\"\\u043b@@\"],[21.5,\"\\u044f@@\"],[22.5,\"\\u0435@@\"],[23.5,\"\\u0442@@\"],[24.5,\"\\u0441@@\"],[25.5,\"\\u044f\"],[26.5,\"\\u043f@@\"],[27.5,\"\\u0440@@\"],[28.5,\"\\u043e@@\"],[29.5,\"\\u043a@@\"],[30.5,\"\\u0430@@\"],[31.5,\"\\u0442\"],[32.5,\"\\u0432@@\"],[33.5,\"\\u0435@@\"],[34.5,\"\\u043b@@\"],[35.5,\"\\u043e@@\"],[36.5,\"\\u0441@@\"],[37.5,\"\\u0438@@\"],[38.5,\"\\u043f@@\"],[39.5,\"\\u0435@@\"],[40.5,\"\\u0434@@\"],[41.5,\"\\u043e@@\"],[42.5,\"\\u0432\"],[43.5,\",\"],[44.5,\"\\u0443@@\"],[45.5,\"\\u0441@@\"],[46.5,\"\\u043b@@\"],[47.5,\"\\u0443@@\"],[48.5,\"\\u0433@@\"],[49.5,\"\\u0438\"],[50.5,\"\\u0442@@\"],[51.5,\"\\u0440@@\"],[52.5,\"\\u0430@@\"],[53.5,\"\\u043d@@\"],[54.5,\"\\u0441@@\"],[55.5,\"\\u0444@@\"],[56.5,\"\\u0435@@\"],[57.5,\"\\u0440@@\"],[58.5,\"\\u0430\"],[59.5,\"\\u0438\"],[60.5,\"\\u0431@@\"],[61.5,\"\\u0435@@\"],[62.5,\"\\u0441@@\"],[63.5,\"\\u043f@@\"],[64.5,\"\\u043b@@\"],[65.5,\"\\u0430@@\"],[66.5,\"\\u0442@@\"],[67.5,\"\\u043d@@\"],[68.5,\"\\u0430@@\"],[69.5,\"\\u044f\"],[70.5,\"\\u043f@@\"],[71.5,\"\\u0430@@\"],[72.5,\"\\u0440@@\"],[73.5,\"\\u043a@@\"],[74.5,\"\\u043e@@\"],[75.5,\"\\u0432@@\"],[76.5,\"\\u043a@@\"],[77.5,\"\\u0430\"],[78.5,\".\"],[79.5,\"_EOS_\"]]},\"major_label_policy\":{\"type\":\"object\",\"name\":\"AllLabels\",\"id\":\"p1483\"}}}]}}]}};\n",
       "  const render_items = [{\"docid\":\"cd4a5ff5-2c00-417e-a565-fbf54afcf7a0\",\"roots\":{\"p1452\":\"de33d3aa-133a-47c4-869d-d345294d102a\"},\"root_ids\":[\"p1452\"]}];\n",
       "  root.Bokeh.embed.embed_items_notebook(docs_json, render_items);\n",
       "  }\n",
       "  if (root.Bokeh !== undefined) {\n",
       "    embed_document(root);\n",
       "  } else {\n",
       "    let attempts = 0;\n",
       "    const timer = setInterval(function(root) {\n",
       "      if (root.Bokeh !== undefined) {\n",
       "        clearInterval(timer);\n",
       "        embed_document(root);\n",
       "      } else {\n",
       "        attempts++;\n",
       "        if (attempts > 100) {\n",
       "          clearInterval(timer);\n",
       "          console.log(\"Bokeh: ERROR: Unable to run BokehJS code because BokehJS library is missing\");\n",
       "        }\n",
       "      }\n",
       "    }, 10, root)\n",
       "  }\n",
       "})(window);"
      ],
      "application/vnd.bokehjs_exec.v0+json": ""
     },
     "metadata": {
      "application/vnd.bokehjs_exec.v0+json": {
       "id": "p1452"
      }
     },
     "output_type": "display_data"
    },
    {
     "data": {
      "text/html": [
       "\n",
       "  <div id=\"b4d7e81e-029c-4cf5-b370-cd796f8c3289\" data-root-id=\"p1493\" style=\"display: contents;\"></div>\n"
      ]
     },
     "metadata": {},
     "output_type": "display_data"
    },
    {
     "data": {
      "application/javascript": [
       "(function(root) {\n",
       "  function embed_document(root) {\n",
       "  const docs_json = {\"1cacd15f-9d5a-4d2b-84b4-1262fbdf97bf\":{\"version\":\"3.3.1\",\"title\":\"Bokeh Application\",\"roots\":[{\"type\":\"object\",\"name\":\"Figure\",\"id\":\"p1493\",\"attributes\":{\"x_range\":{\"type\":\"object\",\"name\":\"Range1d\",\"id\":\"p1502\",\"attributes\":{\"end\":42}},\"y_range\":{\"type\":\"object\",\"name\":\"Range1d\",\"id\":\"p1503\",\"attributes\":{\"end\":11}},\"x_scale\":{\"type\":\"object\",\"name\":\"LinearScale\",\"id\":\"p1504\"},\"y_scale\":{\"type\":\"object\",\"name\":\"LinearScale\",\"id\":\"p1505\"},\"title\":{\"type\":\"object\",\"name\":\"Title\",\"id\":\"p1500\"},\"renderers\":[{\"type\":\"object\",\"name\":\"GlyphRenderer\",\"id\":\"p1518\",\"attributes\":{\"data_source\":{\"type\":\"object\",\"name\":\"ColumnDataSource\",\"id\":\"p1506\",\"attributes\":{\"selected\":{\"type\":\"object\",\"name\":\"Selection\",\"id\":\"p1507\",\"attributes\":{\"indices\":[],\"line_indices\":[]}},\"selection_policy\":{\"type\":\"object\",\"name\":\"UnionRenderers\",\"id\":\"p1508\"},\"data\":{\"type\":\"map\",\"entries\":[[\"image\",[{\"type\":\"ndarray\",\"array\":{\"type\":\"bytes\",\"data\":\"PXERO7rGfjvD6Fg8ImX2OvWWnTxZQLA5TTs0PNbWuDv71Kk721UpOyPLcDuDLIc6aEPKO2NLaTyfbD48c+jLOQoiXTz5Sjk6EF4VPMxaiTqtR0o602PRO5mVjzvwKgA7bMreO+ot8ztAaA89z4CjPcQRZzuw2Tk8Y/VzPHuDdDssN+o9MWnTPZcTdDsw0RM85N13OyBlYz3OLZA87lnEPbe8Nzu6mtQ6LHNGOSxxBDrpRE85lrv2OMn9NTrfQnU6WjOnOf+FUDnuK4g5oWG7OiFGcTnyraM713UnPdDHRD3FJp47PZ1iPD19yztsCR09HRoWPAf3qDy2FEM9oT4FO/HhAzmp4xQ6xQm8N74vUTqSADA8WjrSOdAEWjrVDas7UmgKPenWvDybF1o7si8AOyyEeTq9C2491nX8PXJvRD6/6uw8fgfRPd4vITszmHU60wjxOenyqDqxDq85NifbOTgI5TrYqas6IpxCOglmgTqAyzg6VUwPO0fCXzoLFMY7pPNgOxHihDsnXng6HcH+OnSz/Dq/PmA8YPa8OrdapTpx6PQ6WAg9PGzYKTwWtag6JmnHOwP8Nj6TFWg6gE/nPJ6DmjnW6h06H7uAOl78uTskMz895kSPPJohwTxgbsA8HkRzOwBAVjubuqE6F42MOqhhKDlNZsM8fL/NOgDfOztLj7k6p8AUOicFHDoS7m06lAszOkSFxDpftjM666slOI8sKTtqvtw8NWL8PPrsRDxpE7Q6q6lwPa2fCDsagI89xlRPPnv1hTwXRXI8ZG9aPJAEDDwHans7mrCGPGtjJzz/HnE+psvuO53cijpsTbg7LoHuO2gxgztC9Xo7TRsMOxcEID2Zk9k6qTMLPX/y1D3OexE8lmcFPbsAQDwAAAAAYU0XOmZucTlmxY07DpqTOb/XBTqTk1I76+5IOoiiQDn8zmY5R+U4OoRgXjvbV4Q59c+oOYwQjzkyzxo67h4OOfgwmTgxun46QJDFOWvftjp+bOk3AmS6OiwzvzijWCI6UjI9OkDKiDtOx446fxEvOgJdrTkQn4I5uhiTOvDObjvgl808mkypOdRIWTncQcA5U4x4OOwvYDj2ngw6JSaGOE8mcDpKh6Y4MzFyO8MH7jtD3kU89466OkkO1zpL8SQ7hwRwOvWmxTqk5gY8s0oWPHzyUzlqy907T5KIOc1H0Dt7OS480WhNOys11TpxTnE7KQ02O/4jMjybhIs7BT8HPHUaqj5X4CY7NJvUPOKExjtrvMI8OD9RPlYndD2aggY8S7OxPce++TqQ8hg7mrOYPRi8HTrpVkc8Zm8IPFbaTDp0y485mgs5O+fEyjk4hsM8\"},\"shape\":[6,42],\"dtype\":\"float32\",\"order\":\"little\"}]]]}}},\"view\":{\"type\":\"object\",\"name\":\"CDSView\",\"id\":\"p1519\",\"attributes\":{\"filter\":{\"type\":\"object\",\"name\":\"AllIndices\",\"id\":\"p1520\"}}},\"glyph\":{\"type\":\"object\",\"name\":\"Image\",\"id\":\"p1509\",\"attributes\":{\"x\":{\"type\":\"value\",\"value\":0},\"y\":{\"type\":\"value\",\"value\":0},\"dw\":{\"type\":\"value\",\"value\":42},\"dh\":{\"type\":\"value\",\"value\":11},\"image\":{\"type\":\"field\",\"field\":\"image\"},\"color_mapper\":{\"type\":\"object\",\"name\":\"LinearColorMapper\",\"id\":\"p1510\",\"attributes\":{\"palette\":[\"#000000\",\"#252525\",\"#525252\",\"#737373\",\"#969696\",\"#bdbdbd\",\"#d9d9d9\",\"#f0f0f0\",\"#ffffff\"]}}}},\"nonselection_glyph\":{\"type\":\"object\",\"name\":\"Image\",\"id\":\"p1512\",\"attributes\":{\"x\":{\"type\":\"value\",\"value\":0},\"y\":{\"type\":\"value\",\"value\":0},\"dw\":{\"type\":\"value\",\"value\":42},\"dh\":{\"type\":\"value\",\"value\":11},\"global_alpha\":{\"type\":\"value\",\"value\":0.1},\"image\":{\"type\":\"field\",\"field\":\"image\"},\"color_mapper\":{\"type\":\"object\",\"name\":\"LinearColorMapper\",\"id\":\"p1513\",\"attributes\":{\"palette\":[\"#000000\",\"#252525\",\"#525252\",\"#737373\",\"#969696\",\"#bdbdbd\",\"#d9d9d9\",\"#f0f0f0\",\"#ffffff\"]}}}},\"muted_glyph\":{\"type\":\"object\",\"name\":\"Image\",\"id\":\"p1515\",\"attributes\":{\"x\":{\"type\":\"value\",\"value\":0},\"y\":{\"type\":\"value\",\"value\":0},\"dw\":{\"type\":\"value\",\"value\":42},\"dh\":{\"type\":\"value\",\"value\":11},\"global_alpha\":{\"type\":\"value\",\"value\":0.2},\"image\":{\"type\":\"field\",\"field\":\"image\"},\"color_mapper\":{\"type\":\"object\",\"name\":\"LinearColorMapper\",\"id\":\"p1516\",\"attributes\":{\"palette\":[\"#000000\",\"#252525\",\"#525252\",\"#737373\",\"#969696\",\"#bdbdbd\",\"#d9d9d9\",\"#f0f0f0\",\"#ffffff\"]}}}}}}],\"toolbar\":{\"type\":\"object\",\"name\":\"Toolbar\",\"id\":\"p1501\"},\"left\":[{\"type\":\"object\",\"name\":\"LinearAxis\",\"id\":\"p1526\",\"attributes\":{\"ticker\":{\"type\":\"object\",\"name\":\"FixedTicker\",\"id\":\"p1530\",\"attributes\":{\"ticks\":{\"type\":\"ndarray\",\"array\":{\"type\":\"bytes\",\"data\":\"AAAAAAAA4D8AAAAAAAD4PwAAAAAAAARAAAAAAAAADEAAAAAAAAASQAAAAAAAABZAAAAAAAAAGkAAAAAAAAAeQAAAAAAAACFAAAAAAAAAI0AAAAAAAAAlQA==\"},\"shape\":[11],\"dtype\":\"float64\",\"order\":\"little\"},\"minor_ticks\":[]}},\"formatter\":{\"type\":\"object\",\"name\":\"BasicTickFormatter\",\"id\":\"p1528\"},\"axis_label\":\"translation tokens\",\"major_label_overrides\":{\"type\":\"map\",\"entries\":[[0.5,\"_EOS_\"],[1.5,\".\"],[2.5,\"away\"],[3.5,\"km\"],[4.5,\"26\"],[5.5,\"is\"],[6.5,\"thessaloniki\"],[7.5,\"of\"],[8.5,\"city\"],[9.5,\"the\"],[10.5,\"_BOS_\"]]},\"major_label_policy\":{\"type\":\"object\",\"name\":\"AllLabels\",\"id\":\"p1529\"}}}],\"above\":[{\"type\":\"object\",\"name\":\"LinearAxis\",\"id\":\"p1521\",\"attributes\":{\"ticker\":{\"type\":\"object\",\"name\":\"FixedTicker\",\"id\":\"p1525\",\"attributes\":{\"ticks\":{\"type\":\"ndarray\",\"array\":{\"type\":\"bytes\",\"data\":\"AAAAAAAA4D8AAAAAAAD4PwAAAAAAAARAAAAAAAAADEAAAAAAAAASQAAAAAAAABZAAAAAAAAAGkAAAAAAAAAeQAAAAAAAACFAAAAAAAAAI0AAAAAAAAAlQAAAAAAAACdAAAAAAAAAKUAAAAAAAAArQAAAAAAAAC1AAAAAAAAAL0AAAAAAAIAwQAAAAAAAgDFAAAAAAACAMkAAAAAAAIAzQAAAAAAAgDRAAAAAAACANUAAAAAAAIA2QAAAAAAAgDdAAAAAAACAOEAAAAAAAIA5QAAAAAAAgDpAAAAAAACAO0AAAAAAAIA8QAAAAAAAgD1AAAAAAACAPkAAAAAAAIA/QAAAAAAAQEBAAAAAAADAQEAAAAAAAEBBQAAAAAAAwEFAAAAAAABAQkAAAAAAAMBCQAAAAAAAQENAAAAAAADAQ0AAAAAAAEBEQAAAAAAAwERA\"},\"shape\":[42],\"dtype\":\"float64\",\"order\":\"little\"},\"minor_ticks\":[]}},\"formatter\":{\"type\":\"object\",\"name\":\"BasicTickFormatter\",\"id\":\"p1523\"},\"axis_label\":\"source tokens\",\"major_label_orientation\":45,\"major_label_overrides\":{\"type\":\"map\",\"entries\":[[0.5,\"_BOS_\"],[1.5,\"\\u0440@@\"],[2.5,\"\\u0430@@\"],[3.5,\"\\u0441@@\"],[4.5,\"\\u0441@@\"],[5.5,\"\\u0442@@\"],[6.5,\"\\u043e@@\"],[7.5,\"\\u044f@@\"],[8.5,\"\\u043d@@\"],[9.5,\"\\u0438@@\"],[10.5,\"\\u0435\"],[11.5,\"\\u0434@@\"],[12.5,\"\\u043e\"],[13.5,\"\\u0433@@\"],[14.5,\"\\u043e@@\"],[15.5,\"\\u0440@@\"],[16.5,\"\\u043e@@\"],[17.5,\"\\u0434@@\"],[18.5,\"\\u0430\"],[19.5,\"\\u043a@@\"],[20.5,\"\\u0438@@\"],[21.5,\"\\u0441@@\"],[22.5,\"\\u0441@@\"],[23.5,\"\\u0438@@\"],[24.5,\"\\u043c@@\"],[25.5,\"\\u043c@@\"],[26.5,\"\\u0438\"],[27.5,\"\\u0441@@\"],[28.5,\"\\u043e@@\"],[29.5,\"\\u0441@@\"],[30.5,\"\\u0442@@\"],[31.5,\"\\u0430@@\"],[32.5,\"\\u0432@@\"],[33.5,\"\\u043b@@\"],[34.5,\"\\u044f@@\"],[35.5,\"\\u0435@@\"],[36.5,\"\\u0442\"],[37.5,\"26\"],[38.5,\"\\u043a@@\"],[39.5,\"\\u043c\"],[40.5,\".\"],[41.5,\"_EOS_\"]]},\"major_label_policy\":{\"type\":\"object\",\"name\":\"AllLabels\",\"id\":\"p1524\"}}}]}}]}};\n",
       "  const render_items = [{\"docid\":\"1cacd15f-9d5a-4d2b-84b4-1262fbdf97bf\",\"roots\":{\"p1493\":\"b4d7e81e-029c-4cf5-b370-cd796f8c3289\"},\"root_ids\":[\"p1493\"]}];\n",
       "  root.Bokeh.embed.embed_items_notebook(docs_json, render_items);\n",
       "  }\n",
       "  if (root.Bokeh !== undefined) {\n",
       "    embed_document(root);\n",
       "  } else {\n",
       "    let attempts = 0;\n",
       "    const timer = setInterval(function(root) {\n",
       "      if (root.Bokeh !== undefined) {\n",
       "        clearInterval(timer);\n",
       "        embed_document(root);\n",
       "      } else {\n",
       "        attempts++;\n",
       "        if (attempts > 100) {\n",
       "          clearInterval(timer);\n",
       "          console.log(\"Bokeh: ERROR: Unable to run BokehJS code because BokehJS library is missing\");\n",
       "        }\n",
       "      }\n",
       "    }, 10, root)\n",
       "  }\n",
       "})(window);"
      ],
      "application/vnd.bokehjs_exec.v0+json": ""
     },
     "metadata": {
      "application/vnd.bokehjs_exec.v0+json": {
       "id": "p1493"
      }
     },
     "output_type": "display_data"
    },
    {
     "data": {
      "text/html": [
       "\n",
       "  <div id=\"bfc943fc-f66d-474b-9f3c-b7c02565f898\" data-root-id=\"p1534\" style=\"display: contents;\"></div>\n"
      ]
     },
     "metadata": {},
     "output_type": "display_data"
    },
    {
     "data": {
      "application/javascript": [
       "(function(root) {\n",
       "  function embed_document(root) {\n",
       "  const docs_json = {\"68073804-58f4-480a-9e80-ff95ba375376\":{\"version\":\"3.3.1\",\"title\":\"Bokeh Application\",\"roots\":[{\"type\":\"object\",\"name\":\"Figure\",\"id\":\"p1534\",\"attributes\":{\"x_range\":{\"type\":\"object\",\"name\":\"Range1d\",\"id\":\"p1543\",\"attributes\":{\"end\":135}},\"y_range\":{\"type\":\"object\",\"name\":\"Range1d\",\"id\":\"p1544\",\"attributes\":{\"end\":37}},\"x_scale\":{\"type\":\"object\",\"name\":\"LinearScale\",\"id\":\"p1545\"},\"y_scale\":{\"type\":\"object\",\"name\":\"LinearScale\",\"id\":\"p1546\"},\"title\":{\"type\":\"object\",\"name\":\"Title\",\"id\":\"p1541\"},\"renderers\":[{\"type\":\"object\",\"name\":\"GlyphRenderer\",\"id\":\"p1559\",\"attributes\":{\"data_source\":{\"type\":\"object\",\"name\":\"ColumnDataSource\",\"id\":\"p1547\",\"attributes\":{\"selected\":{\"type\":\"object\",\"name\":\"Selection\",\"id\":\"p1548\",\"attributes\":{\"indices\":[],\"line_indices\":[]}},\"selection_policy\":{\"type\":\"object\",\"name\":\"UnionRenderers\",\"id\":\"p1549\"},\"data\":{\"type\":\"map\",\"entries\":[[\"image\",[{\"type\":\"ndarray\",\"array\":{\"type\":\"bytes\",\"data\":\"0yWqOjrCoDq1l707NReQO7/ZJTxnvoA64TeRO6JDBzwqRK870amtO/KfjjvV9bs66woXPMX4azyY7ac7EaS9OmSuIzwigPY6kCVFPEKBSDtI4kk6bRkSPCy2XzyurzU8vLEXPGE7YTwRw7k8wwYOPRyUCDyMBGA8QqxgPPMuuztSEbo8ra9KPeh9hjvrG/I7pNBtO7EPqzvIEtI7wNlKPUv0gjtZOqo6OcL8O8gPeT2prcI8n4C4PCiExT2s5Mo7deZAPZFKZD257xw883K3OvhoKztsliM8KL6cOwJjbTshMgA8xUbIPRrDHjwJ25A7ivRVPcwlZD0AAAAAAAAAAAAAAAAAAAAAAAAAAAAAAAAAAAAAAAAAAAAAAAAAAAAAAAAAAAAAAAAAAAAAAAAAAAAAAAAAAAAAAAAAAAAAAAAAAAAAAAAAAAAAAAAAAAAAAAAAAAAAAAAAAAAAAAAAAAAAAAAAAAAAAAAAAAAAAAAAAAAAAAAAAAAAAAAAAAAAAAAAAAAAAAAAAAAAAAAAAAAAAAAAAAAAAAAAAAAAAAAAAAAAAAAAAAAAAAAAAAAAAAAAAAAAAAAAAAAAAAAAAAAAAAAAAAAAAAAAAAAAAAAAAAAAAAAAAAAAAAAAAAAAAAAAAAAAAAAAAAAAAAAAAAAAAAAAAAAAAAAAAAAAAAAAAAAAAAAAAAAAAAAAAAAAAAAAAAAAAAAAAAAAml1KOGJKXDqrPJE5vCjLOW0g9DrXbZM7JOi8OoOr3Tk13mI6ElpBPIUqRTp7Fh08KJ+FPJRMPDwW03U61RuXO6eFITtEgj09TlI6O5PdTTw1inU9ZOWEPD5qiDqWIgk7KS+lOa3M9jrjfhU8WQRNOyDDfDvjCXE8w7vBO06npTqlI308fGGxO7YzuDpITYk9YZ84PiC5Lj5h6os6Zo47PZT1vToiOAE7eJiIO/mPgzwP69g7FXQpPNk2RTouDUo9m6SgOvTvZDudGQs7LQXCOlMIbD0DHqE73disPHkJ1jzcElc74ZVIO7uy5zrJwMs67sixOwZzBz33y8o7AAAAAAAAAAAAAAAAAAAAAAAAAAAAAAAAAAAAAAAAAAAAAAAAAAAAAAAAAAAAAAAAAAAAAAAAAAAAAAAAAAAAAAAAAAAAAAAAAAAAAAAAAAAAAAAAAAAAAAAAAAAAAAAAAAAAAAAAAAAAAAAAAAAAAAAAAAAAAAAAAAAAAAAAAAAAAAAAAAAAAAAAAAAAAAAAAAAAAAAAAAAAAAAAAAAAAAAAAAAAAAAAAAAAAAAAAAAAAAAAAAAAAAAAAAAAAAAAAAAAAAAAAAAAAAAAAAAAAAAAAAAAAAAAAAAAAAAAAAAAAAAAAAAAAAAAAAAAAAAAAAAAAAAAAAAAAAAAAAAAAAAAAAAAAAAAAAAAAAAAAAAAAAAAAAAAAAAAAAAAAAAA1ip9OfVnJjuFtQ06JK+MOne2RjuMpZc78uFyO/EJmzpfYfk6ZhrPPFwQBztnTOY84uQOOkByGDwt8y07h4vlPCvzwztdhB09LkXZOdzcdDvSdTY8wQuLPOQ8UDzg0Xg7fXFFO6YMhT11ox87Te+8PcZphTrRcr86lfLnOgIqhzxQL/E7UWQZPOCUtDt5FPg697cfO+ooTTseuR47ouJROw2R5Dnx0+081jZGO0TiIzrx42U7TSlnPG9+lDlDhX05eyuoOoMeXjplOII6FoajO6XmATlVvJE5zH+1OnhvOzllib84yz73Oiw0iDlH8EY6Zs9EO/D1czmPVRE75pJAOUv2Wjv+ZiA6v+0YN993HjjBZE05BKcWOsa6pTkHCEc5A6d2N7LDGjlfXGI5xNEsOYnGrzpYd7A6RBF5OfQepjqB0JU5GgtjOlJ76jpdhk07suu/OUBZATrxIS84vgUuOBvziTgFIcQ4xGmZObJvkjgpNjw5ATD3OcK5ljvWb4o9+Se7OyIzJjrB0Tk7D0LmOqYCEjrEpbA5s78GOjWahTyk7B07hHMRO9Ax6zkKjCo7G2UVPQ5nEToY2LE8XvCTOQbibTgJPfU8SimaPGOR9TzsXsw65aWrPEj0SzsPrxA81qpuPaBOxjoijIA88xP6O9t9IT33yHc7eY+/OxTkQzw68348nzn7PGhmvDs/IAg6E42IO9iwZDsAAAAAi6wvO11bhDt01zo6NULfOSDI6jnsPp86rVUTOqI7oDoGRJI6yEE3OcLIvTshk6U7Mz9+PIYCbzvCQwA6iXx/PKasYDqM01M8r+tFPTuAZTv3fgI843NNO0eRSzsE9sw6djv3O3zSoTuzL6Y9R13yO49L/Tn7AJQ79xC4OyPELjx/ir48SoMXOmRXVT1Ux3w7x/AHPbIz4D7V1dg8gl4IPhMo3jwAAAAAAAAAAAAAAAAAAAAAAAAAAAAAAAAAAAAAAAAAAAAAAAAAAAAAAAAAAAAAAAAAAAAAAAAAAAAAAAAAAAAAAAAAAAAAAAAAAAAAAAAAAAAAAAAAAAAAAAAAAAAAAAAAAAAAAAAAAAAAAAAAAAAAAAAAAAAAAAAAAAAAAAAAAAAAAAAAAAAAAAAAAAAAAAAAAAAAAAAAAAAAAAAAAAAAAAAAAAAAAAAAAAAAAAAAAAAAAAAAAAAAAAAAAAAAAAAAAAAAAAAAAAAAAAAAAAAAAAAAAAAAAAAAAAAAAAAAAAAAAAAAAAAAAAAAAAAAAAAAAAAAAAAAAAAAAAAAAAAAAAAAAAAAAAAAAAAAAAAAAAAAAAAAAAAAAAAAAAAAAAAAAAAAAAAAAAAAAAAAAAAAAAAAAAAAAAAAAAAAAAAAAAAAAAAAAAAAAAAAAAAAAAAAAAAAAAAAAAAAAAAAAAAAAAAAAAAAAAAAAAAAAAAAAAAAAAAAAAAA2kcxOt9xuDign4Y7ljSUOarRCTrgTqc6h3R5OgPrfjlYpYY5pxAVOjVHazv6srI4jwUnOkxmATqywVs6uEngOS9zeDhLz1Y6d6lxOaAvsjniXIk33gAnO1XOAjlcTcE5558NOm68XDvDNyo69tcUO7RAKToJEsQ5g6ApOmJR0TvoywU8Pm6BOSn8EjnUIqw63Q8vOOInsDcPV/A5x8hDOO33dzrPvgc5b4oKO9sJtjywEYU76YIdOijUhThWYto6yAGSPHWv8Tz6K347GGLXO++dBjzD6kA8TOwSO9wFuz2GOcY5RB/ZO8re5DzHGto9XthpPRntbzzpGKc8JpkhPJ1ypDqqD+47M+a5POVX7D1FRxk74JVnPeHKljuoUGM7uw4nPTBKNDvLOcc748HYPIjn1Tuuny0+kHUvPQAAAAAAAAAAAAAAAAAAAAAAAAAAAAAAAAAAAAAAAAAAAAAAAAAAAAAAAAAAAAAAAAAAAAAAAAAAAAAAAAAAAAAAAAAAAAAAAAAAAAAAAAAAAAAAAAAAAAAAAAAAAAAAAAAAAAAAAAAAAAAAAAAAAAAAAAAAAAAAAAAAAAAAAAAAAAAAAAAAAAAAAAAAAAAAAAAAAAAAAAAAAAAAAAAAAAAAAAAAAAAAAAAAAAAAAAAAAAAAAAAAAAAAAAAAAAAAAAAAAAAAAAAAAAAAAAAAAAAAAAAAAAAAAAAAAAAAAAAAMvBBOgIdiDuGOpw7awAnOpOT5jo0IfU6shkYOflp9zrw0As8FD4uPKw5IDnmuuM7Gc6gOAp9XDyRKEI8I5LNOsg0yTmtwYc7Aka9OpVLYjxB7/w6gh0VO/PyhT6HoiU7KHgpPcmKfztt3QE8/71TPgglhD3+oSo7JFCxPaU76jo5u+g6L5AbPpuvVTqYe4Y8viMzPKW3lTp8V5Q5o19ZO5R0yjniROs8EgsmOeKdfjtPbPQ7AAAAAAAAAAAAAAAAAAAAAAAAAAAAAAAAAAAAAAAAAAAAAAAAAAAAAAAAAAAAAAAAAAAAAAAAAAAAAAAAAAAAAAAAAAAAAAAAAAAAAAAAAAAAAAAAAAAAAAAAAAAAAAAAAAAAAAAAAAAAAAAAAAAAAAAAAAAAAAAAAAAAAAAAAAAAAAAAAAAAAAAAAAAAAAAAAAAAAAAAAAAAAAAAAAAAAAAAAAAAAAAAAAAAAAAAAAAAAAAAAAAAAAAAAAAAAAAAAAAAAAAAAAAAAAAAAAAAAAAAAAAAAAAAAAAAAAAAAAAAAAAAAAAAAAAAAAAAAAAAAAAAAAAAAAAAAAAAAAAAAAAAAAAAAAAAAAAAAAAAAAAAAAAAAAAAAAAAAAAAAAAAAAAAAAAAAAAAAAAAAAAAAAAAAAAAAAAAAAAAAAAAAAAAAAAAAAAAAAAAAAAAAAAAAAAAAAAAAAAAAAAAAAAAAAAAAAAAAAAA\"},\"shape\":[6,135],\"dtype\":\"float32\",\"order\":\"little\"}]]]}}},\"view\":{\"type\":\"object\",\"name\":\"CDSView\",\"id\":\"p1560\",\"attributes\":{\"filter\":{\"type\":\"object\",\"name\":\"AllIndices\",\"id\":\"p1561\"}}},\"glyph\":{\"type\":\"object\",\"name\":\"Image\",\"id\":\"p1550\",\"attributes\":{\"x\":{\"type\":\"value\",\"value\":0},\"y\":{\"type\":\"value\",\"value\":0},\"dw\":{\"type\":\"value\",\"value\":135},\"dh\":{\"type\":\"value\",\"value\":37},\"image\":{\"type\":\"field\",\"field\":\"image\"},\"color_mapper\":{\"type\":\"object\",\"name\":\"LinearColorMapper\",\"id\":\"p1551\",\"attributes\":{\"palette\":[\"#000000\",\"#252525\",\"#525252\",\"#737373\",\"#969696\",\"#bdbdbd\",\"#d9d9d9\",\"#f0f0f0\",\"#ffffff\"]}}}},\"nonselection_glyph\":{\"type\":\"object\",\"name\":\"Image\",\"id\":\"p1553\",\"attributes\":{\"x\":{\"type\":\"value\",\"value\":0},\"y\":{\"type\":\"value\",\"value\":0},\"dw\":{\"type\":\"value\",\"value\":135},\"dh\":{\"type\":\"value\",\"value\":37},\"global_alpha\":{\"type\":\"value\",\"value\":0.1},\"image\":{\"type\":\"field\",\"field\":\"image\"},\"color_mapper\":{\"type\":\"object\",\"name\":\"LinearColorMapper\",\"id\":\"p1554\",\"attributes\":{\"palette\":[\"#000000\",\"#252525\",\"#525252\",\"#737373\",\"#969696\",\"#bdbdbd\",\"#d9d9d9\",\"#f0f0f0\",\"#ffffff\"]}}}},\"muted_glyph\":{\"type\":\"object\",\"name\":\"Image\",\"id\":\"p1556\",\"attributes\":{\"x\":{\"type\":\"value\",\"value\":0},\"y\":{\"type\":\"value\",\"value\":0},\"dw\":{\"type\":\"value\",\"value\":135},\"dh\":{\"type\":\"value\",\"value\":37},\"global_alpha\":{\"type\":\"value\",\"value\":0.2},\"image\":{\"type\":\"field\",\"field\":\"image\"},\"color_mapper\":{\"type\":\"object\",\"name\":\"LinearColorMapper\",\"id\":\"p1557\",\"attributes\":{\"palette\":[\"#000000\",\"#252525\",\"#525252\",\"#737373\",\"#969696\",\"#bdbdbd\",\"#d9d9d9\",\"#f0f0f0\",\"#ffffff\"]}}}}}}],\"toolbar\":{\"type\":\"object\",\"name\":\"Toolbar\",\"id\":\"p1542\"},\"left\":[{\"type\":\"object\",\"name\":\"LinearAxis\",\"id\":\"p1567\",\"attributes\":{\"ticker\":{\"type\":\"object\",\"name\":\"FixedTicker\",\"id\":\"p1571\",\"attributes\":{\"ticks\":{\"type\":\"ndarray\",\"array\":{\"type\":\"bytes\",\"data\":\"AAAAAAAA4D8AAAAAAAD4PwAAAAAAAARAAAAAAAAADEAAAAAAAAASQAAAAAAAABZAAAAAAAAAGkAAAAAAAAAeQAAAAAAAACFAAAAAAAAAI0AAAAAAAAAlQAAAAAAAACdAAAAAAAAAKUAAAAAAAAArQAAAAAAAAC1AAAAAAAAAL0AAAAAAAIAwQAAAAAAAgDFAAAAAAACAMkAAAAAAAIAzQAAAAAAAgDRAAAAAAACANUAAAAAAAIA2QAAAAAAAgDdAAAAAAACAOEAAAAAAAIA5QAAAAAAAgDpAAAAAAACAO0AAAAAAAIA8QAAAAAAAgD1AAAAAAACAPkAAAAAAAIA/QAAAAAAAQEBAAAAAAADAQEAAAAAAAEBBQAAAAAAAwEFAAAAAAABAQkA=\"},\"shape\":[37],\"dtype\":\"float64\",\"order\":\"little\"},\"minor_ticks\":[]}},\"formatter\":{\"type\":\"object\",\"name\":\"BasicTickFormatter\",\"id\":\"p1569\"},\"axis_label\":\"translation tokens\",\"major_label_overrides\":{\"type\":\"map\",\"entries\":[[0.5,\"_EOS_\"],[1.5,\".\"],[2.5,\"beach\"],[3.5,\"the\"],[4.5,\"of\"],[5.5,\"centre\"],[6.5,\"the\"],[7.5,\"in\"],[8.5,\"beach\"],[9.5,\"the\"],[10.5,\"from\"],[11.5,\"walk\"],[12.5,\"\\u2019\"],[13.5,\"minutes\"],[14.5,\"5\"],[15.5,\"is\"],[16.5,\"apartment\"],[17.5,\"the\"],[18.5,\".\"],[19.5,\"terrace\"],[20.5,\"a\"],[21.5,\"and\"],[22.5,\"garden\"],[23.5,\"large\"],[24.5,\"a\"],[25.5,\",\"],[26.5,\"barbecue\"],[27.5,\"a\"],[28.5,\"features\"],[29.5,\"apartment\"],[30.5,\",\"],[31.5,\"seafront\"],[32.5,\"large\"],[33.5,\"a\"],[34.5,\"in\"],[35.5,\"located\"],[36.5,\"_BOS_\"]]},\"major_label_policy\":{\"type\":\"object\",\"name\":\"AllLabels\",\"id\":\"p1570\"}}}],\"above\":[{\"type\":\"object\",\"name\":\"LinearAxis\",\"id\":\"p1562\",\"attributes\":{\"ticker\":{\"type\":\"object\",\"name\":\"FixedTicker\",\"id\":\"p1566\",\"attributes\":{\"ticks\":{\"type\":\"ndarray\",\"array\":{\"type\":\"bytes\",\"data\":\"AAAAAAAA4D8AAAAAAAD4PwAAAAAAAARAAAAAAAAADEAAAAAAAAASQAAAAAAAABZAAAAAAAAAGkAAAAAAAAAeQAAAAAAAACFAAAAAAAAAI0AAAAAAAAAlQAAAAAAAACdAAAAAAAAAKUAAAAAAAAArQAAAAAAAAC1AAAAAAAAAL0AAAAAAAIAwQAAAAAAAgDFAAAAAAACAMkAAAAAAAIAzQAAAAAAAgDRAAAAAAACANUAAAAAAAIA2QAAAAAAAgDdAAAAAAACAOEAAAAAAAIA5QAAAAAAAgDpAAAAAAACAO0AAAAAAAIA8QAAAAAAAgD1AAAAAAACAPkAAAAAAAIA/QAAAAAAAQEBAAAAAAADAQEAAAAAAAEBBQAAAAAAAwEFAAAAAAABAQkAAAAAAAMBCQAAAAAAAQENAAAAAAADAQ0AAAAAAAEBEQAAAAAAAwERAAAAAAABARUAAAAAAAMBFQAAAAAAAQEZAAAAAAADARkAAAAAAAEBHQAAAAAAAwEdAAAAAAABASEAAAAAAAMBIQAAAAAAAQElAAAAAAADASUAAAAAAAEBKQAAAAAAAwEpAAAAAAABAS0AAAAAAAMBLQAAAAAAAQExAAAAAAADATEAAAAAAAEBNQAAAAAAAwE1AAAAAAABATkAAAAAAAMBOQAAAAAAAQE9AAAAAAADAT0AAAAAAACBQQAAAAAAAYFBAAAAAAACgUEAAAAAAAOBQQAAAAAAAIFFAAAAAAABgUUAAAAAAAKBRQAAAAAAA4FFAAAAAAAAgUkAAAAAAAGBSQAAAAAAAoFJAAAAAAADgUkAAAAAAACBTQAAAAAAAYFNAAAAAAACgU0AAAAAAAOBTQAAAAAAAIFRAAAAAAABgVEAAAAAAAKBUQAAAAAAA4FRAAAAAAAAgVUAAAAAAAGBVQAAAAAAAoFVAAAAAAADgVUAAAAAAACBWQAAAAAAAYFZAAAAAAACgVkAAAAAAAOBWQAAAAAAAIFdAAAAAAABgV0AAAAAAAKBXQAAAAAAA4FdAAAAAAAAgWEAAAAAAAGBYQAAAAAAAoFhAAAAAAADgWEAAAAAAACBZQAAAAAAAYFlAAAAAAACgWUAAAAAAAOBZQAAAAAAAIFpAAAAAAABgWkAAAAAAAKBaQAAAAAAA4FpAAAAAAAAgW0AAAAAAAGBbQAAAAAAAoFtAAAAAAADgW0AAAAAAACBcQAAAAAAAYFxAAAAAAACgXEAAAAAAAOBcQAAAAAAAIF1AAAAAAABgXUAAAAAAAKBdQAAAAAAA4F1AAAAAAAAgXkAAAAAAAGBeQAAAAAAAoF5AAAAAAADgXkAAAAAAACBfQAAAAAAAYF9AAAAAAACgX0AAAAAAAOBfQAAAAAAAEGBAAAAAAAAwYEAAAAAAAFBgQAAAAAAAcGBAAAAAAACQYEAAAAAAALBgQAAAAAAA0GBA\"},\"shape\":[135],\"dtype\":\"float64\",\"order\":\"little\"},\"minor_ticks\":[]}},\"formatter\":{\"type\":\"object\",\"name\":\"BasicTickFormatter\",\"id\":\"p1564\"},\"axis_label\":\"source tokens\",\"major_label_orientation\":45,\"major_label_overrides\":{\"type\":\"map\",\"entries\":[[0.5,\"_BOS_\"],[1.5,\"\\u0430@@\"],[2.5,\"\\u043f@@\"],[3.5,\"\\u0430@@\"],[4.5,\"\\u0440@@\"],[5.5,\"\\u0442@@\"],[6.5,\"\\u0430@@\"],[7.5,\"\\u043c@@\"],[8.5,\"\\u0435@@\"],[9.5,\"\\u043d@@\"],[10.5,\"\\u0442@@\"],[11.5,\"\\u044b\"],[12.5,\"\\u0432\"],[13.5,\"\\u043f@@\"],[14.5,\"\\u0435@@\"],[15.5,\"\\u043d@@\"],[16.5,\"\\u0442@@\"],[17.5,\"\\u0445@@\"],[18.5,\"\\u0430@@\"],[19.5,\"\\u0443@@\"],[20.5,\"\\u0441@@\"],[21.5,\"\\u0435\"],[22.5,\"\\u0441\"],[23.5,\"\\u043e@@\"],[24.5,\"\\u0431@@\"],[25.5,\"\\u0449@@\"],[26.5,\"\\u0438@@\"],[27.5,\"\\u043c\"],[28.5,\"\\u043e@@\"],[29.5,\"\\u0442@@\"],[30.5,\"\\u043a@@\"],[31.5,\"\\u0440@@\"],[32.5,\"\\u044b@@\"],[33.5,\"\\u0442@@\"],[34.5,\"\\u044b@@\"],[35.5,\"\\u043c\"],[36.5,\"\\u0431@@\"],[37.5,\"\\u0430@@\"],[38.5,\"\\u0441@@\"],[39.5,\"\\u0441@@\"],[40.5,\"\\u0435@@\"],[41.5,\"\\u0439@@\"],[42.5,\"\\u043d@@\"],[43.5,\"\\u043e@@\"],[44.5,\"\\u043c\"],[45.5,\",\"],[46.5,\"\\u0441@@\"],[47.5,\"\\u0430@@\"],[48.5,\"\\u0434@@\"],[49.5,\"\\u043e@@\"],[50.5,\"\\u043c\"],[51.5,\",\"],[52.5,\"\\u043a@@\"],[53.5,\"\\u043e@@\"],[54.5,\"\\u043d@@\"],[55.5,\"\\u0434@@\"],[56.5,\"\\u0438@@\"],[57.5,\"\\u0446@@\"],[58.5,\"\\u0438@@\"],[59.5,\"\\u043e@@\"],[60.5,\"\\u043d@@\"],[61.5,\"\\u0435@@\"],[62.5,\"\\u0440@@\"],[63.5,\"\\u043e@@\"],[64.5,\"\\u043c\"],[65.5,\"\\u0438\"],[66.5,\"\\u0442@@\"],[67.5,\"\\u0435@@\"],[68.5,\"\\u0440@@\"],[69.5,\"\\u0440@@\"],[70.5,\"\\u0430@@\"],[71.5,\"\\u0441@@\"],[72.5,\"\\u043e@@\"],[73.5,\"\\u0439\"],[74.5,\"\\u0434@@\"],[75.5,\"\\u043b@@\"],[76.5,\"\\u044f\"],[77.5,\"\\u0437@@\"],[78.5,\"\\u0430@@\"],[79.5,\"\\u0433@@\"],[80.5,\"\\u0430@@\"],[81.5,\"\\u0440@@\"],[82.5,\"\\u0430\"],[83.5,\"\\u0440@@\"],[84.5,\"\\u0430@@\"],[85.5,\"\\u0441@@\"],[86.5,\"\\u043f@@\"],[87.5,\"\\u043e@@\"],[88.5,\"\\u043b@@\"],[89.5,\"\\u043e@@\"],[90.5,\"\\u0436@@\"],[91.5,\"\\u0435@@\"],[92.5,\"\\u043d@@\"],[93.5,\"\\u044b\"],[94.5,\"\\u0432\"],[95.5,\"5\"],[96.5,\"\\u043c@@\"],[97.5,\"\\u0438@@\"],[98.5,\"\\u043d@@\"],[99.5,\"\\u0443@@\"],[100.5,\"\\u0442@@\"],[101.5,\"\\u0430@@\"],[102.5,\"\\u0445\"],[103.5,\"\\u0445@@\"],[104.5,\"\\u043e@@\"],[105.5,\"\\u0434@@\"],[106.5,\"\\u044c@@\"],[107.5,\"\\u0431@@\"],[108.5,\"\\u044b\"],[109.5,\"\\u043e@@\"],[110.5,\"\\u0442\"],[111.5,\"\\u043f@@\"],[112.5,\"\\u043b@@\"],[113.5,\"\\u044f@@\"],[114.5,\"\\u0436@@\"],[115.5,\"\\u0430\"],[116.5,\"\\u043d@@\"],[117.5,\"\\u0430\"],[118.5,\"\\u043a@@\"],[119.5,\"\\u0443@@\"],[120.5,\"\\u0440@@\"],[121.5,\"\\u043e@@\"],[122.5,\"\\u0440@@\"],[123.5,\"\\u0442@@\"],[124.5,\"\\u0435\"],[125.5,\"\\u043a@@\"],[126.5,\"\\u0430@@\"],[127.5,\"\\u0431@@\"],[128.5,\"\\u043e\"],[129.5,\"-\"],[130.5,\"\\u0440@@\"],[131.5,\"\\u043e@@\"],[132.5,\"\\u0439\"],[133.5,\".\"],[134.5,\"_EOS_\"]]},\"major_label_policy\":{\"type\":\"object\",\"name\":\"AllLabels\",\"id\":\"p1565\"}}}]}}]}};\n",
       "  const render_items = [{\"docid\":\"68073804-58f4-480a-9e80-ff95ba375376\",\"roots\":{\"p1534\":\"bfc943fc-f66d-474b-9f3c-b7c02565f898\"},\"root_ids\":[\"p1534\"]}];\n",
       "  root.Bokeh.embed.embed_items_notebook(docs_json, render_items);\n",
       "  }\n",
       "  if (root.Bokeh !== undefined) {\n",
       "    embed_document(root);\n",
       "  } else {\n",
       "    let attempts = 0;\n",
       "    const timer = setInterval(function(root) {\n",
       "      if (root.Bokeh !== undefined) {\n",
       "        clearInterval(timer);\n",
       "        embed_document(root);\n",
       "      } else {\n",
       "        attempts++;\n",
       "        if (attempts > 100) {\n",
       "          clearInterval(timer);\n",
       "          console.log(\"Bokeh: ERROR: Unable to run BokehJS code because BokehJS library is missing\");\n",
       "        }\n",
       "      }\n",
       "    }, 10, root)\n",
       "  }\n",
       "})(window);"
      ],
      "application/vnd.bokehjs_exec.v0+json": ""
     },
     "metadata": {
      "application/vnd.bokehjs_exec.v0+json": {
       "id": "p1534"
      }
     },
     "output_type": "display_data"
    },
    {
     "data": {
      "text/html": [
       "\n",
       "  <div id=\"c55ee33a-ee6d-475b-8482-201391fae623\" data-root-id=\"p1575\" style=\"display: contents;\"></div>\n"
      ]
     },
     "metadata": {},
     "output_type": "display_data"
    },
    {
     "data": {
      "application/javascript": [
       "(function(root) {\n",
       "  function embed_document(root) {\n",
       "  const docs_json = {\"d904b735-b1f1-48f0-b318-6a35b6b329ec\":{\"version\":\"3.3.1\",\"title\":\"Bokeh Application\",\"roots\":[{\"type\":\"object\",\"name\":\"Figure\",\"id\":\"p1575\",\"attributes\":{\"x_range\":{\"type\":\"object\",\"name\":\"Range1d\",\"id\":\"p1584\",\"attributes\":{\"end\":64}},\"y_range\":{\"type\":\"object\",\"name\":\"Range1d\",\"id\":\"p1585\",\"attributes\":{\"end\":23}},\"x_scale\":{\"type\":\"object\",\"name\":\"LinearScale\",\"id\":\"p1586\"},\"y_scale\":{\"type\":\"object\",\"name\":\"LinearScale\",\"id\":\"p1587\"},\"title\":{\"type\":\"object\",\"name\":\"Title\",\"id\":\"p1582\"},\"renderers\":[{\"type\":\"object\",\"name\":\"GlyphRenderer\",\"id\":\"p1600\",\"attributes\":{\"data_source\":{\"type\":\"object\",\"name\":\"ColumnDataSource\",\"id\":\"p1588\",\"attributes\":{\"selected\":{\"type\":\"object\",\"name\":\"Selection\",\"id\":\"p1589\",\"attributes\":{\"indices\":[],\"line_indices\":[]}},\"selection_policy\":{\"type\":\"object\",\"name\":\"UnionRenderers\",\"id\":\"p1590\"},\"data\":{\"type\":\"map\",\"entries\":[[\"image\",[{\"type\":\"ndarray\",\"array\":{\"type\":\"bytes\",\"data\":\"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\"},\"shape\":[6,64],\"dtype\":\"float32\",\"order\":\"little\"}]]]}}},\"view\":{\"type\":\"object\",\"name\":\"CDSView\",\"id\":\"p1601\",\"attributes\":{\"filter\":{\"type\":\"object\",\"name\":\"AllIndices\",\"id\":\"p1602\"}}},\"glyph\":{\"type\":\"object\",\"name\":\"Image\",\"id\":\"p1591\",\"attributes\":{\"x\":{\"type\":\"value\",\"value\":0},\"y\":{\"type\":\"value\",\"value\":0},\"dw\":{\"type\":\"value\",\"value\":64},\"dh\":{\"type\":\"value\",\"value\":23},\"image\":{\"type\":\"field\",\"field\":\"image\"},\"color_mapper\":{\"type\":\"object\",\"name\":\"LinearColorMapper\",\"id\":\"p1592\",\"attributes\":{\"palette\":[\"#000000\",\"#252525\",\"#525252\",\"#737373\",\"#969696\",\"#bdbdbd\",\"#d9d9d9\",\"#f0f0f0\",\"#ffffff\"]}}}},\"nonselection_glyph\":{\"type\":\"object\",\"name\":\"Image\",\"id\":\"p1594\",\"attributes\":{\"x\":{\"type\":\"value\",\"value\":0},\"y\":{\"type\":\"value\",\"value\":0},\"dw\":{\"type\":\"value\",\"value\":64},\"dh\":{\"type\":\"value\",\"value\":23},\"global_alpha\":{\"type\":\"value\",\"value\":0.1},\"image\":{\"type\":\"field\",\"field\":\"image\"},\"color_mapper\":{\"type\":\"object\",\"name\":\"LinearColorMapper\",\"id\":\"p1595\",\"attributes\":{\"palette\":[\"#000000\",\"#252525\",\"#525252\",\"#737373\",\"#969696\",\"#bdbdbd\",\"#d9d9d9\",\"#f0f0f0\",\"#ffffff\"]}}}},\"muted_glyph\":{\"type\":\"object\",\"name\":\"Image\",\"id\":\"p1597\",\"attributes\":{\"x\":{\"type\":\"value\",\"value\":0},\"y\":{\"type\":\"value\",\"value\":0},\"dw\":{\"type\":\"value\",\"value\":64},\"dh\":{\"type\":\"value\",\"value\":23},\"global_alpha\":{\"type\":\"value\",\"value\":0.2},\"image\":{\"type\":\"field\",\"field\":\"image\"},\"color_mapper\":{\"type\":\"object\",\"name\":\"LinearColorMapper\",\"id\":\"p1598\",\"attributes\":{\"palette\":[\"#000000\",\"#252525\",\"#525252\",\"#737373\",\"#969696\",\"#bdbdbd\",\"#d9d9d9\",\"#f0f0f0\",\"#ffffff\"]}}}}}}],\"toolbar\":{\"type\":\"object\",\"name\":\"Toolbar\",\"id\":\"p1583\"},\"left\":[{\"type\":\"object\",\"name\":\"LinearAxis\",\"id\":\"p1608\",\"attributes\":{\"ticker\":{\"type\":\"object\",\"name\":\"FixedTicker\",\"id\":\"p1612\",\"attributes\":{\"ticks\":{\"type\":\"ndarray\",\"array\":{\"type\":\"bytes\",\"data\":\"AAAAAAAA4D8AAAAAAAD4PwAAAAAAAARAAAAAAAAADEAAAAAAAAASQAAAAAAAABZAAAAAAAAAGkAAAAAAAAAeQAAAAAAAACFAAAAAAAAAI0AAAAAAAAAlQAAAAAAAACdAAAAAAAAAKUAAAAAAAAArQAAAAAAAAC1AAAAAAAAAL0AAAAAAAIAwQAAAAAAAgDFAAAAAAACAMkAAAAAAAIAzQAAAAAAAgDRAAAAAAACANUAAAAAAAIA2QA==\"},\"shape\":[23],\"dtype\":\"float64\",\"order\":\"little\"},\"minor_ticks\":[]}},\"formatter\":{\"type\":\"object\",\"name\":\"BasicTickFormatter\",\"id\":\"p1610\"},\"axis_label\":\"translation tokens\",\"major_label_overrides\":{\"type\":\"map\",\"entries\":[[0.5,\"_EOS_\"],[1.5,\".\"],[2.5,\"property\"],[3.5,\"the\"],[4.5,\"from\"],[5.5,\"metres\"],[6.5,\"200\"],[7.5,\"accommodation\"],[8.5,\"catering\"],[9.5,\"-\"],[10.5,\"self\"],[11.5,\"offers\"],[12.5,\"real\"],[13.5,\"la\"],[14.5,\"le\"],[15.5,\"-\"],[16.5,\"apartment\"],[17.5,\"this\"],[18.5,\",\"],[19.5,\"moscow\"],[20.5,\"in\"],[21.5,\"located\"],[22.5,\"_BOS_\"]]},\"major_label_policy\":{\"type\":\"object\",\"name\":\"AllLabels\",\"id\":\"p1611\"}}}],\"above\":[{\"type\":\"object\",\"name\":\"LinearAxis\",\"id\":\"p1603\",\"attributes\":{\"ticker\":{\"type\":\"object\",\"name\":\"FixedTicker\",\"id\":\"p1607\",\"attributes\":{\"ticks\":{\"type\":\"ndarray\",\"array\":{\"type\":\"bytes\",\"data\":\"AAAAAAAA4D8AAAAAAAD4PwAAAAAAAARAAAAAAAAADEAAAAAAAAASQAAAAAAAABZAAAAAAAAAGkAAAAAAAAAeQAAAAAAAACFAAAAAAAAAI0AAAAAAAAAlQAAAAAAAACdAAAAAAAAAKUAAAAAAAAArQAAAAAAAAC1AAAAAAAAAL0AAAAAAAIAwQAAAAAAAgDFAAAAAAACAMkAAAAAAAIAzQAAAAAAAgDRAAAAAAACANUAAAAAAAIA2QAAAAAAAgDdAAAAAAACAOEAAAAAAAIA5QAAAAAAAgDpAAAAAAACAO0AAAAAAAIA8QAAAAAAAgD1AAAAAAACAPkAAAAAAAIA/QAAAAAAAQEBAAAAAAADAQEAAAAAAAEBBQAAAAAAAwEFAAAAAAABAQkAAAAAAAMBCQAAAAAAAQENAAAAAAADAQ0AAAAAAAEBEQAAAAAAAwERAAAAAAABARUAAAAAAAMBFQAAAAAAAQEZAAAAAAADARkAAAAAAAEBHQAAAAAAAwEdAAAAAAABASEAAAAAAAMBIQAAAAAAAQElAAAAAAADASUAAAAAAAEBKQAAAAAAAwEpAAAAAAABAS0AAAAAAAMBLQAAAAAAAQExAAAAAAADATEAAAAAAAEBNQAAAAAAAwE1AAAAAAABATkAAAAAAAMBOQAAAAAAAQE9AAAAAAADAT0A=\"},\"shape\":[64],\"dtype\":\"float64\",\"order\":\"little\"},\"minor_ticks\":[]}},\"formatter\":{\"type\":\"object\",\"name\":\"BasicTickFormatter\",\"id\":\"p1605\"},\"axis_label\":\"source tokens\",\"major_label_orientation\":45,\"major_label_overrides\":{\"type\":\"map\",\"entries\":[[0.5,\"_BOS_\"],[1.5,\"\\u0430@@\"],[2.5,\"\\u043f@@\"],[3.5,\"\\u0430@@\"],[4.5,\"\\u0440@@\"],[5.5,\"\\u0442@@\"],[6.5,\"\\u0430@@\"],[7.5,\"\\u043c@@\"],[8.5,\"\\u0435@@\"],[9.5,\"\\u043d@@\"],[10.5,\"\\u0442@@\"],[11.5,\"\\u044b\"],[12.5,\"mo@@\"],[13.5,\"s@@\"],[14.5,\"co@@\"],[15.5,\"w\"],[16.5,\"point\"],[17.5,\"-\"],[18.5,\"loft\"],[19.5,\"red\"],[20.5,\"square\"],[21.5,\"\\u043d@@\"],[22.5,\"\\u0430@@\"],[23.5,\"\\u0445@@\"],[24.5,\"\\u043e@@\"],[25.5,\"\\u0434@@\"],[26.5,\"\\u044f@@\"],[27.5,\"\\u0442@@\"],[28.5,\"\\u0441@@\"],[29.5,\"\\u044f\"],[30.5,\"\\u0432\"],[31.5,\"\\u043c@@\"],[32.5,\"\\u043e@@\"],[33.5,\"\\u0441@@\"],[34.5,\"\\u043a@@\"],[35.5,\"\\u0432@@\"],[36.5,\"\\u0435\"],[37.5,\",\"],[38.5,\"\\u0432\"],[39.5,\"200\"],[40.5,\"\\u043c@@\"],[41.5,\"\\u0435@@\"],[42.5,\"\\u0442@@\"],[43.5,\"\\u0440@@\"],[44.5,\"\\u0430@@\"],[45.5,\"\\u0445\"],[46.5,\"\\u043e@@\"],[47.5,\"\\u0442\"],[48.5,\"\\u0431@@\"],[49.5,\"\\u043e@@\"],[50.5,\"\\u043b@@\"],[51.5,\"\\u044c@@\"],[52.5,\"\\u0448@@\"],[53.5,\"\\u043e@@\"],[54.5,\"\\u0433@@\"],[55.5,\"\\u043e\"],[56.5,\"\\u0442@@\"],[57.5,\"\\u0435@@\"],[58.5,\"\\u0430@@\"],[59.5,\"\\u0442@@\"],[60.5,\"\\u0440@@\"],[61.5,\"\\u0430\"],[62.5,\".\"],[63.5,\"_EOS_\"]]},\"major_label_policy\":{\"type\":\"object\",\"name\":\"AllLabels\",\"id\":\"p1606\"}}}]}}]}};\n",
       "  const render_items = [{\"docid\":\"d904b735-b1f1-48f0-b318-6a35b6b329ec\",\"roots\":{\"p1575\":\"c55ee33a-ee6d-475b-8482-201391fae623\"},\"root_ids\":[\"p1575\"]}];\n",
       "  root.Bokeh.embed.embed_items_notebook(docs_json, render_items);\n",
       "  }\n",
       "  if (root.Bokeh !== undefined) {\n",
       "    embed_document(root);\n",
       "  } else {\n",
       "    let attempts = 0;\n",
       "    const timer = setInterval(function(root) {\n",
       "      if (root.Bokeh !== undefined) {\n",
       "        clearInterval(timer);\n",
       "        embed_document(root);\n",
       "      } else {\n",
       "        attempts++;\n",
       "        if (attempts > 100) {\n",
       "          clearInterval(timer);\n",
       "          console.log(\"Bokeh: ERROR: Unable to run BokehJS code because BokehJS library is missing\");\n",
       "        }\n",
       "      }\n",
       "    }, 10, root)\n",
       "  }\n",
       "})(window);"
      ],
      "application/vnd.bokehjs_exec.v0+json": ""
     },
     "metadata": {
      "application/vnd.bokehjs_exec.v0+json": {
       "id": "p1575"
      }
     },
     "output_type": "display_data"
    }
   ],
   "source": [
    "for i in range(5):\n",
    "    draw_attention(inp[i], trans[i], attention_probs[i])\n",
    "    \n",
    "# Does it look fine already? don't forget to save images for anytask!"
   ]
  },
  {
   "cell_type": "markdown",
   "metadata": {},
   "source": [
    "__Note 1:__ If the attention maps are not iterpretable, try starting encoder from zeros (instead of dec_start), forcing model to use attention.\n",
    "\n",
    "__Note 2:__ If you're studying this course as a YSDA student, please submit __attention screenshots__ alongside your notebook."
   ]
  },
  {
   "cell_type": "markdown",
   "metadata": {
    "colab_type": "text",
    "id": "pbIIngNVlrtt"
   },
   "source": [
    "## Goind deeper (2++ points each)\n",
    "\n",
    "We want you to find the best model for the task. Use everything you know.\n",
    "\n",
    "* different recurrent units: rnn/gru/lstm; deeper architectures\n",
    "* bidirectional encoder, different attention methods for decoder (additive, dot-product, multi-head)\n",
    "* word dropout, training schedules, anything you can imagine\n",
    "* replace greedy inference with beam search\n",
    "\n",
    "For a better grasp of seq2seq We recommend you to conduct at least one experiment from one of the bullet-points or your alternative ideas. As usual, describe what you tried and what results you obtained in a short report."
   ]
  },
  {
   "cell_type": "markdown",
   "metadata": {
    "colab_type": "text",
    "collapsed": true,
    "id": "2rzAj_xtlrtt",
    "jupyter": {
     "outputs_hidden": true
    }
   },
   "source": [
    "`[your report/log here or anywhere you please]`"
   ]
  }
 ],
 "metadata": {
  "accelerator": "GPU",
  "colab": {
   "collapsed_sections": [
    "edk_oVg0lrtW"
   ],
   "name": "practice.ipynb",
   "provenance": []
  },
  "kernelspec": {
   "display_name": "yandex_nlp",
   "language": "python",
   "name": "yandex_nlp"
  },
  "language_info": {
   "codemirror_mode": {
    "name": "ipython",
    "version": 3
   },
   "file_extension": ".py",
   "mimetype": "text/x-python",
   "name": "python",
   "nbconvert_exporter": "python",
   "pygments_lexer": "ipython3",
   "version": "3.9.13"
  }
 },
 "nbformat": 4,
 "nbformat_minor": 4
}
