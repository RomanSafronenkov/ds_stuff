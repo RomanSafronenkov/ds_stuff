{
  "cells": [
    {
      "cell_type": "markdown",
      "metadata": {
        "id": "NvhPa7a59AIG"
      },
      "source": [
        "<font color=red>**Danger zone:**</font> you'll be fine-tuning a model to generate positive, negative or even toxic reviews. We'll be doing this for fun, but this is also the technique for [review bombing](https://en.wikipedia.org/wiki/Review_bomb), bot farms on social media and other less than dignified stuff. It is ultimately your decision how you apply this knowledge, but before you choose, ask yourself: is this why you chose to learn ML?\n",
        "\n",
        "\n",
        "# LLMs Alignment with Reinforcement Learning from human feedback (RLHF).\n",
        "\n",
        "_based on the [original notebook](https://github.com/antndlcrx/oxford-llms-workshop/blob/main/materials/seminars/day_3/8_LLMs%20alignment%20with%20RLHF.ipynb) by Ilya Boytsov for the Oxford LLMs workshop_\n",
        "\n"
      ]
    },
    {
      "cell_type": "markdown",
      "metadata": {
        "id": "bgfL4bSSAXan"
      },
      "source": [
        "In this session, you're gonna fine-tune a language model with reinforcement learning to make it generate good (or bad) reviews.\n",
        "\n",
        "To perform RL-based fine-tuning, we'll use a new (in this course) library called [Transformer Reinforcement Learning (TRL)](https://huggingface.co/docs/trl). TRL implements the main reinforcement learning components of RLHF: reward modeling and fine-tuning with PPO.\n",
        "\n",
        "![img](https://huggingface.co/datasets/trl-internal-testing/example-images/resolve/main/images/TRL-readme.png)"
      ]
    },
    {
      "cell_type": "code",
      "execution_count": 1,
      "metadata": {
        "colab": {
          "base_uri": "https://localhost:8080/"
        },
        "id": "uADkArNHQDW6",
        "outputId": "e2ec6b01-d8f5-49ae-8503-0c23fb04d5e9"
      },
      "outputs": [
        {
          "output_type": "stream",
          "name": "stdout",
          "text": [
            "\u001b[2K     \u001b[90m━━━━━━━━━━━━━━━━━━━━━━━━━━━━━━━━━━━━━━━━\u001b[0m \u001b[32m133.9/133.9 kB\u001b[0m \u001b[31m1.2 MB/s\u001b[0m eta \u001b[36m0:00:00\u001b[0m\n",
            "\u001b[2K     \u001b[90m━━━━━━━━━━━━━━━━━━━━━━━━━━━━━━━━━━━━━━━━\u001b[0m \u001b[32m7.6/7.6 MB\u001b[0m \u001b[31m44.7 MB/s\u001b[0m eta \u001b[36m0:00:00\u001b[0m\n",
            "\u001b[2K     \u001b[90m━━━━━━━━━━━━━━━━━━━━━━━━━━━━━━━━━━━━━━━━\u001b[0m \u001b[32m519.3/519.3 kB\u001b[0m \u001b[31m10.0 MB/s\u001b[0m eta \u001b[36m0:00:00\u001b[0m\n",
            "\u001b[2K     \u001b[90m━━━━━━━━━━━━━━━━━━━━━━━━━━━━━━━━━━━━━━━━\u001b[0m \u001b[32m85.6/85.6 kB\u001b[0m \u001b[31m9.0 MB/s\u001b[0m eta \u001b[36m0:00:00\u001b[0m\n",
            "\u001b[2K     \u001b[90m━━━━━━━━━━━━━━━━━━━━━━━━━━━━━━━━━━━━━━━━\u001b[0m \u001b[32m290.1/290.1 kB\u001b[0m \u001b[31m25.5 MB/s\u001b[0m eta \u001b[36m0:00:00\u001b[0m\n",
            "\u001b[2K     \u001b[90m━━━━━━━━━━━━━━━━━━━━━━━━━━━━━━━━━━━━━━━━\u001b[0m \u001b[32m79.8/79.8 kB\u001b[0m \u001b[31m7.8 MB/s\u001b[0m eta \u001b[36m0:00:00\u001b[0m\n",
            "\u001b[2K     \u001b[90m━━━━━━━━━━━━━━━━━━━━━━━━━━━━━━━━━━━━━━━━\u001b[0m \u001b[32m7.8/7.8 MB\u001b[0m \u001b[31m48.3 MB/s\u001b[0m eta \u001b[36m0:00:00\u001b[0m\n",
            "\u001b[2K     \u001b[90m━━━━━━━━━━━━━━━━━━━━━━━━━━━━━━━━━━━━━━━━\u001b[0m \u001b[32m115.3/115.3 kB\u001b[0m \u001b[31m12.6 MB/s\u001b[0m eta \u001b[36m0:00:00\u001b[0m\n",
            "\u001b[2K     \u001b[90m━━━━━━━━━━━━━━━━━━━━━━━━━━━━━━━━━━━━━━━━\u001b[0m \u001b[32m194.1/194.1 kB\u001b[0m \u001b[31m20.5 MB/s\u001b[0m eta \u001b[36m0:00:00\u001b[0m\n",
            "\u001b[2K     \u001b[90m━━━━━━━━━━━━━━━━━━━━━━━━━━━━━━━━━━━━━━━━\u001b[0m \u001b[32m134.8/134.8 kB\u001b[0m \u001b[31m15.6 MB/s\u001b[0m eta \u001b[36m0:00:00\u001b[0m\n",
            "\u001b[2K     \u001b[90m━━━━━━━━━━━━━━━━━━━━━━━━━━━━━━━━━━━━━━━━\u001b[0m \u001b[32m23.7/23.7 MB\u001b[0m \u001b[31m43.8 MB/s\u001b[0m eta \u001b[36m0:00:00\u001b[0m\n",
            "\u001b[2K     \u001b[90m━━━━━━━━━━━━━━━━━━━━━━━━━━━━━━━━━━━━━━━━\u001b[0m \u001b[32m823.6/823.6 kB\u001b[0m \u001b[31m34.4 MB/s\u001b[0m eta \u001b[36m0:00:00\u001b[0m\n",
            "\u001b[2K     \u001b[90m━━━━━━━━━━━━━━━━━━━━━━━━━━━━━━━━━━━━━━━━\u001b[0m \u001b[32m14.1/14.1 MB\u001b[0m \u001b[31m66.2 MB/s\u001b[0m eta \u001b[36m0:00:00\u001b[0m\n",
            "\u001b[2K     \u001b[90m━━━━━━━━━━━━━━━━━━━━━━━━━━━━━━━━━━━━━━━━\u001b[0m \u001b[32m731.7/731.7 MB\u001b[0m \u001b[31m2.3 MB/s\u001b[0m eta \u001b[36m0:00:00\u001b[0m\n",
            "\u001b[2K     \u001b[90m━━━━━━━━━━━━━━━━━━━━━━━━━━━━━━━━━━━━━━━━\u001b[0m \u001b[32m410.6/410.6 MB\u001b[0m \u001b[31m1.9 MB/s\u001b[0m eta \u001b[36m0:00:00\u001b[0m\n",
            "\u001b[2K     \u001b[90m━━━━━━━━━━━━━━━━━━━━━━━━━━━━━━━━━━━━━━━━\u001b[0m \u001b[32m121.6/121.6 MB\u001b[0m \u001b[31m8.8 MB/s\u001b[0m eta \u001b[36m0:00:00\u001b[0m\n",
            "\u001b[2K     \u001b[90m━━━━━━━━━━━━━━━━━━━━━━━━━━━━━━━━━━━━━━━━\u001b[0m \u001b[32m56.5/56.5 MB\u001b[0m \u001b[31m11.7 MB/s\u001b[0m eta \u001b[36m0:00:00\u001b[0m\n",
            "\u001b[2K     \u001b[90m━━━━━━━━━━━━━━━━━━━━━━━━━━━━━━━━━━━━━━━━\u001b[0m \u001b[32m124.2/124.2 MB\u001b[0m \u001b[31m8.2 MB/s\u001b[0m eta \u001b[36m0:00:00\u001b[0m\n",
            "\u001b[2K     \u001b[90m━━━━━━━━━━━━━━━━━━━━━━━━━━━━━━━━━━━━━━━━\u001b[0m \u001b[32m196.0/196.0 MB\u001b[0m \u001b[31m6.7 MB/s\u001b[0m eta \u001b[36m0:00:00\u001b[0m\n",
            "\u001b[2K     \u001b[90m━━━━━━━━━━━━━━━━━━━━━━━━━━━━━━━━━━━━━━━━\u001b[0m \u001b[32m166.0/166.0 MB\u001b[0m \u001b[31m7.3 MB/s\u001b[0m eta \u001b[36m0:00:00\u001b[0m\n",
            "\u001b[2K     \u001b[90m━━━━━━━━━━━━━━━━━━━━━━━━━━━━━━━━━━━━━━━━\u001b[0m \u001b[32m99.1/99.1 kB\u001b[0m \u001b[31m12.0 MB/s\u001b[0m eta \u001b[36m0:00:00\u001b[0m\n",
            "\u001b[2K     \u001b[90m━━━━━━━━━━━━━━━━━━━━━━━━━━━━━━━━━━━━━━━━\u001b[0m \u001b[32m21.1/21.1 MB\u001b[0m \u001b[31m56.8 MB/s\u001b[0m eta \u001b[36m0:00:00\u001b[0m\n",
            "\u001b[2K     \u001b[90m━━━━━━━━━━━━━━━━━━━━━━━━━━━━━━━━━━━━━━━━\u001b[0m \u001b[32m134.8/134.8 kB\u001b[0m \u001b[31m17.9 MB/s\u001b[0m eta \u001b[36m0:00:00\u001b[0m\n",
            "\u001b[?25h"
          ]
        }
      ],
      "source": [
        "# %pip install -q trl==0.7.4 transformers==4.33.1 datasets==2.14.4 peft==0.5.0"
      ]
    },
    {
      "cell_type": "code",
      "source": [
        "%pip install -U trl transformers datasets peft"
      ],
      "metadata": {
        "colab": {
          "base_uri": "https://localhost:8080/"
        },
        "id": "qbQgHbb08B8H",
        "outputId": "41fb1fa7-6447-478a-fef9-f40bc9aae999"
      },
      "execution_count": 1,
      "outputs": [
        {
          "output_type": "stream",
          "name": "stdout",
          "text": [
            "Requirement already satisfied: trl in /usr/local/lib/python3.10/dist-packages (0.8.1)\n",
            "Requirement already satisfied: transformers in /usr/local/lib/python3.10/dist-packages (4.38.2)\n",
            "Requirement already satisfied: datasets in /usr/local/lib/python3.10/dist-packages (2.18.0)\n",
            "Requirement already satisfied: peft in /usr/local/lib/python3.10/dist-packages (0.9.0)\n",
            "Requirement already satisfied: torch>=1.4.0 in /usr/local/lib/python3.10/dist-packages (from trl) (2.2.1+cu121)\n",
            "Requirement already satisfied: numpy>=1.18.2 in /usr/local/lib/python3.10/dist-packages (from trl) (1.25.2)\n",
            "Requirement already satisfied: accelerate in /usr/local/lib/python3.10/dist-packages (from trl) (0.28.0)\n",
            "Requirement already satisfied: tyro>=0.5.11 in /usr/local/lib/python3.10/dist-packages (from trl) (0.7.3)\n",
            "Requirement already satisfied: filelock in /usr/local/lib/python3.10/dist-packages (from transformers) (3.13.1)\n",
            "Requirement already satisfied: huggingface-hub<1.0,>=0.19.3 in /usr/local/lib/python3.10/dist-packages (from transformers) (0.20.3)\n",
            "Requirement already satisfied: packaging>=20.0 in /usr/local/lib/python3.10/dist-packages (from transformers) (24.0)\n",
            "Requirement already satisfied: pyyaml>=5.1 in /usr/local/lib/python3.10/dist-packages (from transformers) (6.0.1)\n",
            "Requirement already satisfied: regex!=2019.12.17 in /usr/local/lib/python3.10/dist-packages (from transformers) (2023.12.25)\n",
            "Requirement already satisfied: requests in /usr/local/lib/python3.10/dist-packages (from transformers) (2.31.0)\n",
            "Requirement already satisfied: tokenizers<0.19,>=0.14 in /usr/local/lib/python3.10/dist-packages (from transformers) (0.15.2)\n",
            "Requirement already satisfied: safetensors>=0.4.1 in /usr/local/lib/python3.10/dist-packages (from transformers) (0.4.2)\n",
            "Requirement already satisfied: tqdm>=4.27 in /usr/local/lib/python3.10/dist-packages (from transformers) (4.66.2)\n",
            "Requirement already satisfied: pyarrow>=12.0.0 in /usr/local/lib/python3.10/dist-packages (from datasets) (14.0.2)\n",
            "Requirement already satisfied: pyarrow-hotfix in /usr/local/lib/python3.10/dist-packages (from datasets) (0.6)\n",
            "Requirement already satisfied: dill<0.3.9,>=0.3.0 in /usr/local/lib/python3.10/dist-packages (from datasets) (0.3.7)\n",
            "Requirement already satisfied: pandas in /usr/local/lib/python3.10/dist-packages (from datasets) (1.5.3)\n",
            "Requirement already satisfied: xxhash in /usr/local/lib/python3.10/dist-packages (from datasets) (3.4.1)\n",
            "Requirement already satisfied: multiprocess in /usr/local/lib/python3.10/dist-packages (from datasets) (0.70.15)\n",
            "Requirement already satisfied: fsspec[http]<=2024.2.0,>=2023.1.0 in /usr/local/lib/python3.10/dist-packages (from datasets) (2023.6.0)\n",
            "Requirement already satisfied: aiohttp in /usr/local/lib/python3.10/dist-packages (from datasets) (3.9.3)\n",
            "Requirement already satisfied: psutil in /usr/local/lib/python3.10/dist-packages (from peft) (5.9.5)\n",
            "Requirement already satisfied: aiosignal>=1.1.2 in /usr/local/lib/python3.10/dist-packages (from aiohttp->datasets) (1.3.1)\n",
            "Requirement already satisfied: attrs>=17.3.0 in /usr/local/lib/python3.10/dist-packages (from aiohttp->datasets) (23.2.0)\n",
            "Requirement already satisfied: frozenlist>=1.1.1 in /usr/local/lib/python3.10/dist-packages (from aiohttp->datasets) (1.4.1)\n",
            "Requirement already satisfied: multidict<7.0,>=4.5 in /usr/local/lib/python3.10/dist-packages (from aiohttp->datasets) (6.0.5)\n",
            "Requirement already satisfied: yarl<2.0,>=1.0 in /usr/local/lib/python3.10/dist-packages (from aiohttp->datasets) (1.9.4)\n",
            "Requirement already satisfied: async-timeout<5.0,>=4.0 in /usr/local/lib/python3.10/dist-packages (from aiohttp->datasets) (4.0.3)\n",
            "Requirement already satisfied: typing-extensions>=3.7.4.3 in /usr/local/lib/python3.10/dist-packages (from huggingface-hub<1.0,>=0.19.3->transformers) (4.10.0)\n",
            "Requirement already satisfied: charset-normalizer<4,>=2 in /usr/local/lib/python3.10/dist-packages (from requests->transformers) (3.3.2)\n",
            "Requirement already satisfied: idna<4,>=2.5 in /usr/local/lib/python3.10/dist-packages (from requests->transformers) (3.6)\n",
            "Requirement already satisfied: urllib3<3,>=1.21.1 in /usr/local/lib/python3.10/dist-packages (from requests->transformers) (2.0.7)\n",
            "Requirement already satisfied: certifi>=2017.4.17 in /usr/local/lib/python3.10/dist-packages (from requests->transformers) (2024.2.2)\n",
            "Requirement already satisfied: sympy in /usr/local/lib/python3.10/dist-packages (from torch>=1.4.0->trl) (1.12)\n",
            "Requirement already satisfied: networkx in /usr/local/lib/python3.10/dist-packages (from torch>=1.4.0->trl) (3.2.1)\n",
            "Requirement already satisfied: jinja2 in /usr/local/lib/python3.10/dist-packages (from torch>=1.4.0->trl) (3.1.3)\n",
            "Requirement already satisfied: nvidia-cuda-nvrtc-cu12==12.1.105 in /usr/local/lib/python3.10/dist-packages (from torch>=1.4.0->trl) (12.1.105)\n",
            "Requirement already satisfied: nvidia-cuda-runtime-cu12==12.1.105 in /usr/local/lib/python3.10/dist-packages (from torch>=1.4.0->trl) (12.1.105)\n",
            "Requirement already satisfied: nvidia-cuda-cupti-cu12==12.1.105 in /usr/local/lib/python3.10/dist-packages (from torch>=1.4.0->trl) (12.1.105)\n",
            "Requirement already satisfied: nvidia-cudnn-cu12==8.9.2.26 in /usr/local/lib/python3.10/dist-packages (from torch>=1.4.0->trl) (8.9.2.26)\n",
            "Requirement already satisfied: nvidia-cublas-cu12==12.1.3.1 in /usr/local/lib/python3.10/dist-packages (from torch>=1.4.0->trl) (12.1.3.1)\n",
            "Requirement already satisfied: nvidia-cufft-cu12==11.0.2.54 in /usr/local/lib/python3.10/dist-packages (from torch>=1.4.0->trl) (11.0.2.54)\n",
            "Requirement already satisfied: nvidia-curand-cu12==10.3.2.106 in /usr/local/lib/python3.10/dist-packages (from torch>=1.4.0->trl) (10.3.2.106)\n",
            "Requirement already satisfied: nvidia-cusolver-cu12==11.4.5.107 in /usr/local/lib/python3.10/dist-packages (from torch>=1.4.0->trl) (11.4.5.107)\n",
            "Requirement already satisfied: nvidia-cusparse-cu12==12.1.0.106 in /usr/local/lib/python3.10/dist-packages (from torch>=1.4.0->trl) (12.1.0.106)\n",
            "Requirement already satisfied: nvidia-nccl-cu12==2.19.3 in /usr/local/lib/python3.10/dist-packages (from torch>=1.4.0->trl) (2.19.3)\n",
            "Requirement already satisfied: nvidia-nvtx-cu12==12.1.105 in /usr/local/lib/python3.10/dist-packages (from torch>=1.4.0->trl) (12.1.105)\n",
            "Requirement already satisfied: triton==2.2.0 in /usr/local/lib/python3.10/dist-packages (from torch>=1.4.0->trl) (2.2.0)\n",
            "Requirement already satisfied: nvidia-nvjitlink-cu12 in /usr/local/lib/python3.10/dist-packages (from nvidia-cusolver-cu12==11.4.5.107->torch>=1.4.0->trl) (12.4.99)\n",
            "Requirement already satisfied: docstring-parser>=0.14.1 in /usr/local/lib/python3.10/dist-packages (from tyro>=0.5.11->trl) (0.16)\n",
            "Requirement already satisfied: rich>=11.1.0 in /usr/local/lib/python3.10/dist-packages (from tyro>=0.5.11->trl) (13.7.1)\n",
            "Requirement already satisfied: shtab>=1.5.6 in /usr/local/lib/python3.10/dist-packages (from tyro>=0.5.11->trl) (1.7.1)\n",
            "Requirement already satisfied: python-dateutil>=2.8.1 in /usr/local/lib/python3.10/dist-packages (from pandas->datasets) (2.8.2)\n",
            "Requirement already satisfied: pytz>=2020.1 in /usr/local/lib/python3.10/dist-packages (from pandas->datasets) (2023.4)\n",
            "Requirement already satisfied: six>=1.5 in /usr/local/lib/python3.10/dist-packages (from python-dateutil>=2.8.1->pandas->datasets) (1.16.0)\n",
            "Requirement already satisfied: markdown-it-py>=2.2.0 in /usr/local/lib/python3.10/dist-packages (from rich>=11.1.0->tyro>=0.5.11->trl) (3.0.0)\n",
            "Requirement already satisfied: pygments<3.0.0,>=2.13.0 in /usr/local/lib/python3.10/dist-packages (from rich>=11.1.0->tyro>=0.5.11->trl) (2.16.1)\n",
            "Requirement already satisfied: MarkupSafe>=2.0 in /usr/local/lib/python3.10/dist-packages (from jinja2->torch>=1.4.0->trl) (2.1.5)\n",
            "Requirement already satisfied: mpmath>=0.19 in /usr/local/lib/python3.10/dist-packages (from sympy->torch>=1.4.0->trl) (1.3.0)\n",
            "Requirement already satisfied: mdurl~=0.1 in /usr/local/lib/python3.10/dist-packages (from markdown-it-py>=2.2.0->rich>=11.1.0->tyro>=0.5.11->trl) (0.1.2)\n"
          ]
        }
      ]
    },
    {
      "cell_type": "markdown",
      "metadata": {
        "id": "8cJfrTbFYAx8"
      },
      "source": [
        "### Tutorial: align the model to generate positive movie reviews\n",
        "\n",
        "To see how TRL works, we'll use it to align GPT2 on IMDB dataset to generate positive (or negative) movie reviews. In fact, __it's your choice whether you want positive or negative reviews.__\n",
        "\n",
        "But before you choose, let's take a look at the baseline model: a GPT-2 fine-tuned on generating arbitrary movie reviews."
      ]
    },
    {
      "cell_type": "code",
      "execution_count": 2,
      "metadata": {
        "id": "pHs22MXdPify",
        "colab": {
          "base_uri": "https://localhost:8080/"
        },
        "outputId": "016718bb-a7e7-4f04-94de-81c9364c6deb"
      },
      "outputs": [
        {
          "output_type": "stream",
          "name": "stderr",
          "text": [
            "/usr/local/lib/python3.10/dist-packages/huggingface_hub/utils/_token.py:88: UserWarning: \n",
            "The secret `HF_TOKEN` does not exist in your Colab secrets.\n",
            "To authenticate with the Hugging Face Hub, create a token in your settings tab (https://huggingface.co/settings/tokens), set it as secret in your Google Colab and restart your session.\n",
            "You will be able to reuse this secret in all of your notebooks.\n",
            "Please note that authentication is recommended but still optional to access public models or datasets.\n",
            "  warnings.warn(\n"
          ]
        }
      ],
      "source": [
        "import torch\n",
        "import transformers\n",
        "device = torch.device('cuda' if torch.cuda.is_available() else 'cpu')\n",
        "main_tokenizer = transformers.AutoTokenizer.from_pretrained(\"lvwerra/gpt2-imdb\")\n",
        "main_model = transformers.AutoModelForCausalLM.from_pretrained(\"lvwerra/gpt2-imdb\", device_map=device)"
      ]
    },
    {
      "cell_type": "code",
      "execution_count": 3,
      "metadata": {
        "id": "KE3jo7uhQrvK",
        "colab": {
          "base_uri": "https://localhost:8080/"
        },
        "outputId": "daaf5720-362b-4307-9fae-3d63a538ab31"
      },
      "outputs": [
        {
          "output_type": "stream",
          "name": "stderr",
          "text": [
            "Setting `pad_token_id` to `eos_token_id`:50256 for open-end generation.\n"
          ]
        },
        {
          "output_type": "stream",
          "name": "stdout",
          "text": [
            "\n",
            "Generated text: The movie, which should have been made during the 80s was a total disaster and ended with me watching it. I can only assume that it was meant to be so serious that they decided to send me to watch it even though I had told the editor I\n"
          ]
        }
      ],
      "source": [
        "inputs = main_tokenizer(\"The movie\", return_tensors='pt').to(device)\n",
        "generated_ids = main_model.generate(**inputs, max_new_tokens=50, do_sample=True)\n",
        "print(\"\\nGenerated text:\", main_tokenizer.decode(generated_ids.flatten().cpu().numpy().tolist()))"
      ]
    },
    {
      "cell_type": "markdown",
      "metadata": {
        "id": "dJbfhMEpR4Sz"
      },
      "source": [
        "If you run this cell a couple of times, you'll see that the model generates both positive, negative and neutral reviews in some proportion. What we're gonna do next is teach the model to generate more positive (or negative) reviews.\n",
        "\n",
        "Similarly to InstructGPT, we're gonna do that in 2 stages:\n",
        "- **train a reward model** to assign higher values to positive (or negative) reviews\n",
        "- fine-tune the language model to **maximize that reward using [proximal policy optimization](https://openai.com/research/openai-baselines-ppo)**\n",
        "\n"
      ]
    },
    {
      "cell_type": "markdown",
      "metadata": {
        "id": "Bcv4uC7xb26Z"
      },
      "source": [
        "## Stage 1: train a reward model\n",
        "\n",
        "First, we'll train a BERT-like model as our reward model. We'll generate a synthetic pairwise rankings to emulate human rankings.\n",
        "\n",
        "__Q:__ why do I need a reward model? Can I just use a pre-trained sentiment classifier? <br> __A:__ Yes, you can - but that only works for movie reviews. But this tutorial will teach you how to do RLHF for any kind objective.\n",
        "\n",
        "\n",
        "__If you actually want to maximize sentiment (or other \"label\") instead of human preferences, train reward model as a classifier! (see week5)__\n"
      ]
    },
    {
      "cell_type": "code",
      "execution_count": 4,
      "metadata": {
        "id": "WeOdZ_ayc9dy",
        "colab": {
          "base_uri": "https://localhost:8080/"
        },
        "outputId": "04820bb9-709c-49cd-deae-6c09ce896d7c"
      },
      "outputs": [
        {
          "output_type": "stream",
          "name": "stderr",
          "text": [
            "Some weights of DistilBertForSequenceClassification were not initialized from the model checkpoint at distilbert-base-cased and are newly initialized: ['classifier.bias', 'classifier.weight', 'pre_classifier.bias', 'pre_classifier.weight']\n",
            "You should probably TRAIN this model on a down-stream task to be able to use it for predictions and inference.\n"
          ]
        }
      ],
      "source": [
        "# We'll be fine-tuning a small BERT-like model for now. Please try other models for the main assignment.\n",
        "reward_model = transformers.AutoModelForSequenceClassification.from_pretrained(\"distilbert-base-cased\", device_map=device)\n",
        "reward_tokenizer = transformers.AutoTokenizer.from_pretrained(\"distilbert-base-cased\")"
      ]
    },
    {
      "cell_type": "markdown",
      "metadata": {
        "id": "_ZUUNQo-d11b"
      },
      "source": [
        "__Note that__ the reward model has a separate tokenizer, different from the main model. They don't need to be the same for RLHF fine-tuning."
      ]
    },
    {
      "cell_type": "code",
      "execution_count": 5,
      "metadata": {
        "id": "TTWR-48ZXQX6"
      },
      "outputs": [],
      "source": [
        "# To train a reward model, you need a dataset (or generator) of positive-negative pairs.\n",
        "# Each training sample should be a dict with 4 keys:\n",
        "#  - input_ids_chosen, attention_mask_chosen = tokenizer(\"A sentence that human labeler likes more\")\n",
        "#  - input_ids_rejected, attention_mask_rejected = tokenizer(\"A sentence that human labeler likes less\")\n",
        "\n",
        "import torch\n",
        "import datasets\n",
        "\n",
        "class IMDBPairwiseDataset(torch.utils.data.Dataset):\n",
        "    \"\"\" A dataset of all possible pairs of chosen and texts in TRT reward training format \"\"\"\n",
        "    def __init__(self, imdb, tokenizer, accepted_label: int):\n",
        "        super().__init__()\n",
        "        self.tokenizer = tokenizer\n",
        "        self.chosen_texts = [row['text'] for row in imdb if row['label'] == accepted_label]\n",
        "        self.rejected_texts = [row['text'] for row in imdb if row['label'] != accepted_label]\n",
        "        assert self.chosen_texts, f\"no texts with label {accepted_label}\"\n",
        "        print(f\"Found {len(self.chosen_texts)} chosen and {len(self.rejected_texts)} rejected texts, {len(self)} pairs\")\n",
        "\n",
        "    def __len__(self):\n",
        "        return len(self.chosen_texts) * len(self.rejected_texts)  # all pairs\n",
        "\n",
        "    def __getitem__(self, index: int):\n",
        "        chosen = self.tokenizer(self.chosen_texts[index // len(self.chosen_texts)], truncation=True)\n",
        "        rejected = self.tokenizer(self.rejected_texts[index % len(self.chosen_texts)], truncation=True)\n",
        "        return dict(input_ids_chosen=chosen['input_ids'], attention_mask_chosen=chosen['attention_mask'],\n",
        "                    input_ids_rejected=rejected['input_ids'], attention_mask_rejected=rejected['attention_mask'])"
      ]
    },
    {
      "cell_type": "code",
      "execution_count": 6,
      "metadata": {
        "id": "olo-bvgNcwEC",
        "colab": {
          "base_uri": "https://localhost:8080/",
          "height": 185,
          "referenced_widgets": [
            "4630b364746947c4b45a338ea6bbdb55",
            "efeb8b3450c94d4d9433b50f13ade18f",
            "d4815933495c4a16a9fd92ed446c79c0",
            "9e944069f7324cf6bcacd43f5c36ad16",
            "4af0ae91ebc74f199204a1ba356111d5",
            "c2a640425da1415480c228746eca98d9",
            "a44d10cd7daa4c159e3c92f54d7bd441",
            "8f4369c61d754340b88c46c471033f1f",
            "d9cd40c15ef646c1864be8fc0ca2c6f5",
            "748bd240f05e4f348e34c2468ba42aed",
            "ad27b2a5da154f16b1e61764b549b072",
            "1319f0620a1f4ea6a9ba4ef8e36ee785",
            "bc6aef998ddf41278aab7fe42b108a4a",
            "8ecfe8fd584546d284f97fbba503a55e",
            "49b784f096bc4bef820ab3ee0ad46fb9",
            "4a02bb2d32374c9c9e9c93226a63315e",
            "a1fe2403659f4a38866a817963290661",
            "e8c8298cdcbf491aa6426f1ffeca0be7",
            "a86919b9e777401691aefb91d79538e7",
            "376c62c3ce214c4fb6c0cbc6db982527",
            "4d5418d5402a4185b7a3d8791f4b78f6",
            "cb5fccf4475c401e83c4bbbb3f55b9db",
            "b00c51085d5d46ce8f66e44178fa23c5",
            "33c5e9d4f5ae4b008e0b3cdfbec196e8",
            "9a54967233f6450abd2ea756fa414436",
            "ce87cd7f147c4d77b311ecc703fb2cfe",
            "fdde2d58076d41d5b3f3a62c963506cc",
            "081adae6574e478487846965a0ba0bb3",
            "c6f1acf69f5a4973948394711b75cf63",
            "d3873ee06454413084a994668db47c6c",
            "f8ae0ae8d77b4c858cecf30b19e6418c",
            "f1917f56a194420d8d69a0d837a411f0",
            "9faa3bfcb2264caa8cab7c751c22275a"
          ]
        },
        "outputId": "6d386ac7-c7e2-4d05-e20b-82da202810f0"
      },
      "outputs": [
        {
          "output_type": "display_data",
          "data": {
            "text/plain": [
              "Generating train split:   0%|          | 0/25000 [00:00<?, ? examples/s]"
            ],
            "application/vnd.jupyter.widget-view+json": {
              "version_major": 2,
              "version_minor": 0,
              "model_id": "4630b364746947c4b45a338ea6bbdb55"
            }
          },
          "metadata": {}
        },
        {
          "output_type": "display_data",
          "data": {
            "text/plain": [
              "Generating test split:   0%|          | 0/25000 [00:00<?, ? examples/s]"
            ],
            "application/vnd.jupyter.widget-view+json": {
              "version_major": 2,
              "version_minor": 0,
              "model_id": "1319f0620a1f4ea6a9ba4ef8e36ee785"
            }
          },
          "metadata": {}
        },
        {
          "output_type": "display_data",
          "data": {
            "text/plain": [
              "Generating unsupervised split:   0%|          | 0/50000 [00:00<?, ? examples/s]"
            ],
            "application/vnd.jupyter.widget-view+json": {
              "version_major": 2,
              "version_minor": 0,
              "model_id": "b00c51085d5d46ce8f66e44178fa23c5"
            }
          },
          "metadata": {}
        },
        {
          "output_type": "stream",
          "name": "stdout",
          "text": [
            "Found 12500 chosen and 12500 rejected texts, 156250000 pairs\n",
            "CHOSEN: [CLS] If only to avoid making this type of film in the future. This film is interesting as an experiment but tells no cogent story. < br / > < br / > One might feel virtuous for sitting thru it because it touches on so many IMPORTANT issues but it does so without any discernable motive. The viewer comes away with no new perspectives ( unless one comes up with one while one's mind wanders, as it will invariably do during this pointless film ). < br / > < br / > One might better spend one's time staring out a window at a tree growing. < br / > < br / > [SEP]\n",
            "REJECTED: [CLS] This movie has some things that are pretty amazing. First, it is supposed to be based on a true story. That, in itself, is amazing that multiple tornadoes would hit the same town at night in the fall - in Nebraska. I wonder if the real town's name was close to \" Blainsworth \" ( which is the town's name in the movie ). There is an Ainsworth, Nebraska, but there is also a town that starts with Blains - something. < br / > < br / > It does show the slowest moving tornadoes on record in the the seen where the boys are in the house. On the other hand, the scene where the TV goes fuzzy is based in fact. Before Doppler radar and weather radio, we were taught that if you turned your TV to a particular channel ( not on cable ) and tuned the brightness just right, you could tell if there was a tornado coming. The problem was that by then you would be able to hear it. < br / > < br / > Since I know something about midwest tornadoes, it made this movie fun for me. I enjoy it more than Twister. I mean, give me a break - there is no way you could make it through and F5 by chaining yourself to a pipe in a well house. [SEP]\n"
          ]
        }
      ],
      "source": [
        "TARGET_LABEL = 0   # and make sure it works by reviewing the sample printed below\n",
        "imdb = datasets.load_dataset(\"imdb\", split='train')\n",
        "reward_data = IMDBPairwiseDataset(imdb, reward_tokenizer, accepted_label=TARGET_LABEL)\n",
        "\n",
        "sample = reward_data[31337]\n",
        "print('CHOSEN:', reward_tokenizer.decode(sample['input_ids_chosen']))\n",
        "print('REJECTED:', reward_tokenizer.decode(sample['input_ids_rejected']))"
      ]
    },
    {
      "cell_type": "markdown",
      "metadata": {
        "id": "kZRczyofiSl0"
      },
      "source": [
        "We'll be using `trl.RewardTrainer` - a special case of `transformers.Trainer` that you used in the past. `RewardTrainer` accepts the same format of training arguments (e.g. batch size, gradient checkpointing) as before, except that it trains the model for the pairwise reward objective from [the InstructGPT paper](https://arxiv.org/pdf/2203.02155.pdf):\n",
        "\n",
        "![img](https://i.imgur.com/2JzNAPs.png)\n",
        "\n",
        "Note that the model itself does not score pairs: it processes chosen ($y_w$) and rejected ($y_l$) samples independently. To minimize this loss, the reward model needs to score chosen sample higher than the rejected one. Note that the formula also assumes some context $x$, which is useful for seq2seq tasks. In our case of movie reviews, $x$ is empty."
      ]
    },
    {
      "cell_type": "code",
      "execution_count": 9,
      "metadata": {
        "id": "oaQ_-JAzakJs",
        "colab": {
          "base_uri": "https://localhost:8080/",
          "height": 1000
        },
        "outputId": "7c60bd50-d8f2-47b1-c6c1-67872e42f12b"
      },
      "outputs": [
        {
          "output_type": "stream",
          "name": "stderr",
          "text": [
            "/usr/local/lib/python3.10/dist-packages/trl/trainer/ppo_config.py:141: UserWarning: The `optimize_cuda_cache` arguement will be deprecated soon, please use `optimize_device_cache` instead.\n",
            "  warnings.warn(\n",
            "/usr/local/lib/python3.10/dist-packages/trl/trainer/reward_trainer.py:174: UserWarning: When using RewardDataCollatorWithPadding, you should set `max_length` in RewardConfig. It will be set to `512` by default, but you should do it yourself in the future.\n",
            "  warnings.warn(\n",
            "/usr/local/lib/python3.10/dist-packages/trl/trainer/reward_trainer.py:191: UserWarning: When using RewardDataCollatorWithPadding, you should set `remove_unused_columns=False` in your RewardConfig we have set it for you, but you should do it yourself in the future.\n",
            "  warnings.warn(\n",
            "/usr/local/lib/python3.10/dist-packages/accelerate/accelerator.py:432: FutureWarning: Passing the following arguments to `Accelerator` is deprecated and will be removed in version 1.0 of Accelerate: dict_keys(['dispatch_batches']). Please pass an `accelerate.DataLoaderConfiguration` instead: \n",
            "dataloader_config = DataLoaderConfiguration(dispatch_batches=None)\n",
            "  warnings.warn(\n",
            "You're using a DistilBertTokenizerFast tokenizer. Please note that with a fast tokenizer, using the `__call__` method is faster than using a method to encode the text followed by a call to the `pad` method to get a padded encoding.\n",
            "/usr/local/lib/python3.10/dist-packages/transformers/tokenization_utils_base.py:2436: UserWarning: `max_length` is ignored when `padding`=`True` and there is no truncation strategy. To pad to max length, use `padding='max_length'`.\n",
            "  warnings.warn(\n",
            "/usr/local/lib/python3.10/dist-packages/torch/utils/checkpoint.py:460: UserWarning: torch.utils.checkpoint: please pass in use_reentrant=True or use_reentrant=False explicitly. The default value of use_reentrant will be updated to be False in the future. To maintain current behavior, pass use_reentrant=True. It is recommended that you use use_reentrant=False. Refer to docs for more details on the differences between the two variants.\n",
            "  warnings.warn(\n",
            "Could not estimate the number of tokens of the input, floating-point operations will not be computed\n"
          ]
        },
        {
          "output_type": "display_data",
          "data": {
            "text/plain": [
              "<IPython.core.display.HTML object>"
            ],
            "text/html": [
              "\n",
              "    <div>\n",
              "      \n",
              "      <progress value='1000' max='1000' style='width:300px; height:20px; vertical-align: middle;'></progress>\n",
              "      [1000/1000 25:24, Epoch 0/1]\n",
              "    </div>\n",
              "    <table border=\"1\" class=\"dataframe\">\n",
              "  <thead>\n",
              " <tr style=\"text-align: left;\">\n",
              "      <th>Step</th>\n",
              "      <th>Training Loss</th>\n",
              "    </tr>\n",
              "  </thead>\n",
              "  <tbody>\n",
              "    <tr>\n",
              "      <td>50</td>\n",
              "      <td>0.487400</td>\n",
              "    </tr>\n",
              "    <tr>\n",
              "      <td>100</td>\n",
              "      <td>0.166000</td>\n",
              "    </tr>\n",
              "    <tr>\n",
              "      <td>150</td>\n",
              "      <td>0.135600</td>\n",
              "    </tr>\n",
              "    <tr>\n",
              "      <td>200</td>\n",
              "      <td>0.127800</td>\n",
              "    </tr>\n",
              "    <tr>\n",
              "      <td>250</td>\n",
              "      <td>0.110100</td>\n",
              "    </tr>\n",
              "    <tr>\n",
              "      <td>300</td>\n",
              "      <td>0.112800</td>\n",
              "    </tr>\n",
              "    <tr>\n",
              "      <td>350</td>\n",
              "      <td>0.080400</td>\n",
              "    </tr>\n",
              "    <tr>\n",
              "      <td>400</td>\n",
              "      <td>0.080000</td>\n",
              "    </tr>\n",
              "    <tr>\n",
              "      <td>450</td>\n",
              "      <td>0.071100</td>\n",
              "    </tr>\n",
              "    <tr>\n",
              "      <td>500</td>\n",
              "      <td>0.069600</td>\n",
              "    </tr>\n",
              "    <tr>\n",
              "      <td>550</td>\n",
              "      <td>0.070400</td>\n",
              "    </tr>\n",
              "    <tr>\n",
              "      <td>600</td>\n",
              "      <td>0.065300</td>\n",
              "    </tr>\n",
              "    <tr>\n",
              "      <td>650</td>\n",
              "      <td>0.066100</td>\n",
              "    </tr>\n",
              "    <tr>\n",
              "      <td>700</td>\n",
              "      <td>0.068800</td>\n",
              "    </tr>\n",
              "    <tr>\n",
              "      <td>750</td>\n",
              "      <td>0.075500</td>\n",
              "    </tr>\n",
              "    <tr>\n",
              "      <td>800</td>\n",
              "      <td>0.072800</td>\n",
              "    </tr>\n",
              "    <tr>\n",
              "      <td>850</td>\n",
              "      <td>0.073900</td>\n",
              "    </tr>\n",
              "    <tr>\n",
              "      <td>900</td>\n",
              "      <td>0.055700</td>\n",
              "    </tr>\n",
              "    <tr>\n",
              "      <td>950</td>\n",
              "      <td>0.067000</td>\n",
              "    </tr>\n",
              "    <tr>\n",
              "      <td>1000</td>\n",
              "      <td>0.072100</td>\n",
              "    </tr>\n",
              "  </tbody>\n",
              "</table><p>"
            ]
          },
          "metadata": {}
        },
        {
          "output_type": "stream",
          "name": "stderr",
          "text": [
            "/usr/local/lib/python3.10/dist-packages/transformers/tokenization_utils_base.py:2436: UserWarning: `max_length` is ignored when `padding`=`True` and there is no truncation strategy. To pad to max length, use `padding='max_length'`.\n",
            "  warnings.warn(\n",
            "/usr/local/lib/python3.10/dist-packages/torch/utils/checkpoint.py:460: UserWarning: torch.utils.checkpoint: please pass in use_reentrant=True or use_reentrant=False explicitly. The default value of use_reentrant will be updated to be False in the future. To maintain current behavior, pass use_reentrant=True. It is recommended that you use use_reentrant=False. Refer to docs for more details on the differences between the two variants.\n",
            "  warnings.warn(\n"
          ]
        },
        {
          "output_type": "execute_result",
          "data": {
            "text/plain": [
              "TrainOutput(global_step=1000, training_loss=0.1064205687046051, metrics={'train_runtime': 1547.9286, 'train_samples_per_second': 20.673, 'train_steps_per_second': 0.646, 'total_flos': 0.0, 'train_loss': 0.1064205687046051, 'epoch': 0.0})"
            ]
          },
          "metadata": {},
          "execution_count": 9
        }
      ],
      "source": [
        "import trl\n",
        "\n",
        "training_args = trl.RewardConfig(  # like transformers.TrainingArguments\n",
        "    output_dir=\"reward_model\",\n",
        "    per_device_train_batch_size=32,\n",
        "    gradient_accumulation_steps=1,\n",
        "    learning_rate=1.41e-5,\n",
        "    max_steps=1_000,              # note: training may need more than 1k steps\n",
        "    logging_steps=50,\n",
        "    gradient_checkpointing=True,  # reduce memory usage but train ~30% slower\n",
        "    gradient_checkpointing_kwargs={\"use_reentrant\": False},\n",
        "    fp16=True                     # disable this on CPU or on very old GPUs\n",
        "    # you may add any other hyperparameters that you found useful in weeks 5-7\n",
        ")\n",
        "\n",
        "trainer = trl.RewardTrainer(\n",
        "    model=reward_model,\n",
        "    args=training_args,\n",
        "    tokenizer=reward_tokenizer,\n",
        "    train_dataset=reward_data,\n",
        "    peft_config=None,  # optionally, you may tune with LoRA, prompt-tuning, etc\n",
        ")\n",
        "\n",
        "trainer.train()"
      ]
    },
    {
      "cell_type": "code",
      "execution_count": 10,
      "metadata": {
        "id": "CRk7z-2r4C-A",
        "colab": {
          "base_uri": "https://localhost:8080/"
        },
        "outputId": "8ee4f209-173c-4cec-b0ee-efe572cb062c"
      },
      "outputs": [
        {
          "output_type": "execute_result",
          "data": {
            "text/plain": [
              "DistilBertForSequenceClassification(\n",
              "  (distilbert): DistilBertModel(\n",
              "    (embeddings): Embeddings(\n",
              "      (word_embeddings): Embedding(28996, 768, padding_idx=0)\n",
              "      (position_embeddings): Embedding(512, 768)\n",
              "      (LayerNorm): LayerNorm((768,), eps=1e-12, elementwise_affine=True)\n",
              "      (dropout): Dropout(p=0.1, inplace=False)\n",
              "    )\n",
              "    (transformer): Transformer(\n",
              "      (layer): ModuleList(\n",
              "        (0-5): 6 x TransformerBlock(\n",
              "          (attention): MultiHeadSelfAttention(\n",
              "            (dropout): Dropout(p=0.1, inplace=False)\n",
              "            (q_lin): Linear(in_features=768, out_features=768, bias=True)\n",
              "            (k_lin): Linear(in_features=768, out_features=768, bias=True)\n",
              "            (v_lin): Linear(in_features=768, out_features=768, bias=True)\n",
              "            (out_lin): Linear(in_features=768, out_features=768, bias=True)\n",
              "          )\n",
              "          (sa_layer_norm): LayerNorm((768,), eps=1e-12, elementwise_affine=True)\n",
              "          (ffn): FFN(\n",
              "            (dropout): Dropout(p=0.1, inplace=False)\n",
              "            (lin1): Linear(in_features=768, out_features=3072, bias=True)\n",
              "            (lin2): Linear(in_features=3072, out_features=768, bias=True)\n",
              "            (activation): GELUActivation()\n",
              "          )\n",
              "          (output_layer_norm): LayerNorm((768,), eps=1e-12, elementwise_affine=True)\n",
              "        )\n",
              "      )\n",
              "    )\n",
              "  )\n",
              "  (pre_classifier): Linear(in_features=768, out_features=768, bias=True)\n",
              "  (classifier): Linear(in_features=768, out_features=2, bias=True)\n",
              "  (dropout): Dropout(p=0.2, inplace=False)\n",
              ")"
            ]
          },
          "metadata": {},
          "execution_count": 10
        }
      ],
      "source": [
        "reward_model.gradient_checkpointing_disable()\n",
        "reward_model.eval()"
      ]
    },
    {
      "cell_type": "markdown",
      "metadata": {
        "id": "wZIaS-gRo8yc"
      },
      "source": [
        "### Sanity-check the reward model (1 point)\n",
        "\n",
        "Let's check how our reward model performs.\n",
        "\n",
        "__Your task__ is to measure how often does your reward model can rank a pair of (chosen and rejected) reviews correctly. Please measure this separately for train data (`imdb`) and a separate test set loaded below."
      ]
    },
    {
      "cell_type": "code",
      "execution_count": 11,
      "metadata": {
        "id": "IeQ108nOZ7nO",
        "colab": {
          "base_uri": "https://localhost:8080/"
        },
        "outputId": "ddebde04-9791-4344-a909-48b355ba6ec6"
      },
      "outputs": [
        {
          "output_type": "stream",
          "name": "stdout",
          "text": [
            "TEXT: This movie sucked. It really was a waste of my life. The acting was atrocious, the plot completely implausible. Long, long story short, these people get \"terrorized\" by this pathetic \"crazed killer\", but completely fail to fight back in any manner. And this is after they take a raft on a camping trip, with no gear, and show up at a campsite that is already assembled and completely stocked with food and clothes and the daughters headphones. Additionally, after their boat goes missing, they panic that they're stuck in the woods, but then the daughters boyfriend just shows up and they apparently never consider that they could just hike out of the woods like he did to get to them. Like I said, this movie sucks. A complete joke. Don't let your girlfriend talk you into watching it.\n",
            "REWARD: 4.86328125\n",
            "LABEL: 0\n",
            "\n",
            "TEXT: Good: Engaging cinematic firefights, great presentation, vehicles are actually fun to drive, fairly appealing multiplayer, faithful to the movie, and the list goes on.<br /><br />Bad: Main missions are a bit short.<br /><br />This game defines what a \"good\" third person shooter(not necessarily a spy-game) is. Great firefights carry on the story and make you want to complete EVERY single mission through, and unlock all the genuine bonuses the game has to offer. The hype this game had, was lived up to, and I personally think you should buy it, and hook up with a couple of friends and play this one. Loads of fun. <br /><br />The sound in this game, is a rip-roaring achievement from a few previous bond games, and firing a weapon, really feels like you're firing a weapon. It ties in with the aspect that you are a deadly and ruthless spy.<br /><br />All in all, this game makes you excited and satisfied after you make it through, and some multiplayer that can compete with the standards of the crafty James Bond \"Nightfire\" game for gamecube.\n",
            "REWARD: -5.01171875\n",
            "LABEL: 1\n",
            "\n"
          ]
        }
      ],
      "source": [
        "\n",
        "for sample_index in 45, 16000:\n",
        "  print('TEXT:', imdb[sample_index]['text'])\n",
        "  inputs = reward_tokenizer(\n",
        "      imdb[sample_index]['text'], truncation=True, return_tensors='pt').to(device)\n",
        "  with torch.no_grad():\n",
        "    reward = reward_model(**inputs).logits[0, 0].item()\n",
        "    print(\"REWARD:\", reward)\n",
        "  print('LABEL:', imdb[sample_index]['label'])\n",
        "  print()\n",
        "\n",
        "# note: your reward model may produce different absolute rewards.\n",
        "# This is fine as long as the rewards are ordered correctly (most of the time)"
      ]
    },
    {
      "cell_type": "code",
      "execution_count": 12,
      "metadata": {
        "id": "YgIEElgjjAtY",
        "colab": {
          "base_uri": "https://localhost:8080/"
        },
        "outputId": "5bc7a813-d22b-4e62-ab23-96ac5fb50001"
      },
      "outputs": [
        {
          "output_type": "stream",
          "name": "stderr",
          "text": [
            "100%|██████████| 25000/25000 [03:45<00:00, 110.73it/s]\n"
          ]
        }
      ],
      "source": [
        "from tqdm import tqdm\n",
        "scores = []\n",
        "labels = []\n",
        "\n",
        "for index in tqdm(range(len(imdb))):\n",
        "    inputs = reward_tokenizer(\n",
        "      imdb[index]['text'], truncation=True, return_tensors='pt').to(device)\n",
        "\n",
        "    labels.append(imdb[index]['label'])\n",
        "\n",
        "    with torch.no_grad():\n",
        "      reward = reward_model(**inputs).logits[0, 0].item()\n",
        "    scores.append(reward)"
      ]
    },
    {
      "cell_type": "code",
      "execution_count": 13,
      "metadata": {
        "id": "QOpLMzBCpsZm",
        "colab": {
          "base_uri": "https://localhost:8080/"
        },
        "outputId": "0a8fb336-4f6a-4f0a-8a7e-1bba0f2387fb"
      },
      "outputs": [
        {
          "output_type": "execute_result",
          "data": {
            "text/plain": [
              "1"
            ]
          },
          "metadata": {},
          "execution_count": 13
        }
      ],
      "source": [
        "sum(labels[:12501])"
      ]
    },
    {
      "cell_type": "code",
      "execution_count": 14,
      "metadata": {
        "id": "WvlJeTnIqZ7I"
      },
      "outputs": [],
      "source": [
        "import numpy as np"
      ]
    },
    {
      "cell_type": "code",
      "execution_count": 15,
      "metadata": {
        "id": "QlPi3fgcqb4H",
        "colab": {
          "base_uri": "https://localhost:8080/"
        },
        "outputId": "47736610-ad5e-462e-f1a8-60b2cedb1c88"
      },
      "outputs": [
        {
          "output_type": "execute_result",
          "data": {
            "text/plain": [
              "12010"
            ]
          },
          "metadata": {},
          "execution_count": 15
        }
      ],
      "source": [
        "sum(np.array(scores[12500:]) < scores[0])"
      ]
    },
    {
      "cell_type": "code",
      "execution_count": 16,
      "metadata": {
        "id": "0qe1H2dJk6QP"
      },
      "outputs": [],
      "source": [
        "all_scores = 12500 * 12500\n",
        "total_higher = 0\n",
        "for score_i in range(len(scores[:12500])):\n",
        "    total_higher += sum(np.array(scores[12500:]) < scores[score_i])"
      ]
    },
    {
      "cell_type": "code",
      "execution_count": 17,
      "metadata": {
        "id": "Ekb4Tb5BrGNe",
        "colab": {
          "base_uri": "https://localhost:8080/"
        },
        "outputId": "c854886e-e242-48dc-d827-bc01971283ff"
      },
      "outputs": [
        {
          "output_type": "execute_result",
          "data": {
            "text/plain": [
              "0.9815944832"
            ]
          },
          "metadata": {},
          "execution_count": 17
        }
      ],
      "source": [
        "total_higher / all_scores"
      ]
    },
    {
      "cell_type": "code",
      "execution_count": 18,
      "metadata": {
        "id": "aEevUrfqavnb",
        "colab": {
          "base_uri": "https://localhost:8080/"
        },
        "outputId": "3b13fabf-bea5-41d3-b8c0-3000211ed528"
      },
      "outputs": [
        {
          "output_type": "stream",
          "name": "stderr",
          "text": [
            "100%|██████████| 25000/25000 [03:43<00:00, 111.82it/s]\n"
          ]
        }
      ],
      "source": [
        "imdb_test = datasets.load_dataset(\"imdb\", split='test')\n",
        "\n",
        "scores_test = []\n",
        "labels_test = []\n",
        "\n",
        "for index in tqdm(range(len(imdb_test))):\n",
        "    inputs = reward_tokenizer(\n",
        "      imdb_test[index]['text'], truncation=True, return_tensors='pt').to(device)\n",
        "\n",
        "    labels_test.append(imdb_test[index]['label'])\n",
        "\n",
        "    with torch.no_grad():\n",
        "      reward = reward_model(**inputs).logits[0, 0].item()\n",
        "    scores_test.append(reward)"
      ]
    },
    {
      "cell_type": "code",
      "execution_count": 19,
      "metadata": {
        "id": "1F67w2h7reI-",
        "colab": {
          "base_uri": "https://localhost:8080/"
        },
        "outputId": "c7887175-a575-414e-d585-933d63f37c14"
      },
      "outputs": [
        {
          "output_type": "execute_result",
          "data": {
            "text/plain": [
              "1"
            ]
          },
          "metadata": {},
          "execution_count": 19
        }
      ],
      "source": [
        "sum(labels_test[:12501])"
      ]
    },
    {
      "cell_type": "code",
      "execution_count": 20,
      "metadata": {
        "id": "Lgw7qvaGropG"
      },
      "outputs": [],
      "source": [
        "total_higher_test = 0\n",
        "for score_i in range(len(scores_test[:12500])):\n",
        "    total_higher_test += sum(np.array(scores_test[12500:]) < scores_test[score_i])"
      ]
    },
    {
      "cell_type": "code",
      "execution_count": 21,
      "metadata": {
        "id": "-WqLpuQ5tAyG",
        "colab": {
          "base_uri": "https://localhost:8080/"
        },
        "outputId": "3a7c1c39-2ef0-4156-86b4-b63c21b82e63"
      },
      "outputs": [
        {
          "output_type": "execute_result",
          "data": {
            "text/plain": [
              "0.9722995968"
            ]
          },
          "metadata": {},
          "execution_count": 21
        }
      ],
      "source": [
        "total_higher_test / all_scores"
      ]
    },
    {
      "cell_type": "markdown",
      "metadata": {
        "id": "NHCWHMyRw2-k"
      },
      "source": [
        "### Reward-guided generation (1 point)\n",
        "\n",
        "If you did everything right, by now you should have a decent reward model. Before we use it for reinforcement learning, let's see if we can align model samples without any training.\n",
        "\n",
        "To do so, you can use reward-guided inference: __generate N=16 samples, then select the one with the highest reward__ (according to your reward model).\n",
        "\n",
        "For this problem, it's on you to demonstrate whether or not your code works. Find at least 5 neutral prompts such as \"This movie is\" (...), generate samples, rank them based on reward and show which samples get the highest reward.\n",
        "\n",
        "Note: it is faster to generate samples in parallel, rather than sequentially, as follows:\n",
        "\n",
        "\n"
      ]
    },
    {
      "cell_type": "code",
      "execution_count": 22,
      "metadata": {
        "id": "8BRsyb2cq5dR",
        "colab": {
          "base_uri": "https://localhost:8080/"
        },
        "outputId": "30ec43bf-84cf-4653-e695-60e59d5c8d42"
      },
      "outputs": [
        {
          "output_type": "stream",
          "name": "stderr",
          "text": [
            "Setting `pad_token_id` to `eos_token_id`:50256 for open-end generation.\n"
          ]
        },
        {
          "output_type": "stream",
          "name": "stdout",
          "text": [
            "Sample: It was the greatest film of all time and I will never forget it.<br /><br />Best film I have ever seen; this is one of the finest works of cinema. I highly recommend this movie!<|endoftext|><|endoftext|><|endoftext|><|endoftext|><|endoftext|><|endoftext|><|endoftext|><|endoftext|><|endoftext|>\n",
            "Score: -4.9296875\n",
            "==============================\n",
            "Sample: It was a great start. I hope to see some new directors/writers out there.<|endoftext|><|endoftext|><|endoftext|><|endoftext|><|endoftext|><|endoftext|><|endoftext|><|endoftext|><|endoftext|><|endoftext|><|endoftext|><|endoftext|><|endoftext|><|endoftext|><|endoftext|><|endoftext|><|endoftext|><|endoftext|><|endoftext|><|endoftext|><|endoftext|><|endoftext|><|endoftext|><|endoftext|><|endoftext|><|endoftext|><|endoftext|><|endoftext|><|endoftext|><|endoftext|><|endoftext|><|endoftext|><|endoftext|><|endoftext|>\n",
            "Score: -4.1015625\n",
            "==============================\n",
            "Sample: It was a great show! The actors did a beautiful job, my favourite actress and the script was so very accurate it makes you question how you read a TV script.<br /><br />4/10<|endoftext|><|endoftext|><|endoftext|><|endoftext|><|endoftext|><|endoftext|><|endoftext|><|endoftext|><|endoftext|><|endoftext|>\n",
            "Score: -4.96484375\n",
            "==============================\n",
            "Sample: It was not a comedy, but a drama! It will only get better through the years as we move into more contemporary times, so it will get better.<br /><br />I think it's a worthy way to end another film, but I'm\n",
            "Score: -1.5751953125\n",
            "==============================\n",
            "Sample: It was the first show that brought us big laughs. It's been a long time since I've watched some of these shows. I still watch them, I mean I was expecting everything in them to come out of nowhere. <br /><br />As\n",
            "Score: -3.357421875\n",
            "==============================\n"
          ]
        }
      ],
      "source": [
        "inputs = main_tokenizer([\"It was\"] * 5, return_tensors='pt').to(device)\n",
        "for candidate in main_model.generate(**inputs, max_new_tokens=50, do_sample=True):\n",
        "    sample = main_tokenizer.decode(candidate.flatten().cpu().numpy().tolist())\n",
        "    print(\"Sample:\", sample)\n",
        "    sam = reward_tokenizer(\n",
        "        sample, truncation=True, return_tensors='pt').to(device)\n",
        "\n",
        "    with torch.no_grad():\n",
        "      reward = reward_model(**sam).logits[0, 0].item()\n",
        "    print(\"Score:\", reward)\n",
        "    print('='*30)"
      ]
    },
    {
      "cell_type": "code",
      "execution_count": 23,
      "metadata": {
        "id": "r08F4lz7yxE1",
        "colab": {
          "base_uri": "https://localhost:8080/"
        },
        "outputId": "57a7ac2e-83da-4945-90bb-c43d2d9c2fed"
      },
      "outputs": [
        {
          "output_type": "stream",
          "name": "stderr",
          "text": [
            "Setting `pad_token_id` to `eos_token_id`:50256 for open-end generation.\n"
          ]
        },
        {
          "output_type": "stream",
          "name": "stdout",
          "text": [
            "Sample: This movie is based upon real-life facts that have never been repeated in a movie. What makes the movie so interesting is how it is shot in real-life. It is shot in 2D so it's easier to see. It's shot in the city\n",
            "Score: -3.8203125\n",
            "==============================\n",
            "Sample: This movie is a mess of clichés, and it has never been a good one. It's only one of 10 things that make the film an embarrassment in my opinion. If you're a fan of any of the aforementioned films and are looking for a quick laugh\n",
            "Score: 4.4296875\n",
            "==============================\n",
            "Sample: This movie is great with a little special effects to it and a good, gritty, suspenseful movie style. It is a slow film with lots of little details and scenes that make up an easy \"plot\". It is also the least scary movie out there. However\n",
            "Score: -0.358642578125\n",
            "==============================\n",
            "Sample: This movie is so boring, i feel terrible for the people who made it. I thought maybe some people were mad this one was made because of a bad script, or a lame direction. Either way, it's just another excuse to watch another bad movie like,\n",
            "Score: 4.7265625\n",
            "==============================\n",
            "Sample: This movie is a masterpiece in my opinion. There is no story, there is no one, there is no story line, there is no end, there is no end! This movie was better than \"The Sopranos\", \"Reign\", \"Nightmare\n",
            "Score: -4.1328125\n",
            "==============================\n",
            "Sample: This movie is so simple, it's so cool. The film is about two boys trying to go on a mission to destroy a bunch of bad guys which starts by killing three soldiers after one of them kills two of them instead of killing two different soldiers and he says\n",
            "Score: -4.10546875\n",
            "==============================\n",
            "Sample: This movie is awful, and for its time the writer didn't really understand what his fans wanted.<br /><br />I gave the film 2 out of 5 stars, because I don't think it's worth watching once in it; as you probably will,\n",
            "Score: 4.65625\n",
            "==============================\n",
            "Sample: This movie is a masterpiece, that i loved, it reminds me of 'Citizen Kane'. It is a great, beautiful movie. What others think, is that it is one of my favorites. But, i think that I might be wrong. I like these\n",
            "Score: -5.03125\n",
            "==============================\n",
            "Sample: This movie is boring even when the \"big bad guy\" is pretty good.<br /><br />This is NOT a good horror movie. I have seen this movie a dozen times and there is nothing that can make me stop watching it. I had to get\n",
            "Score: 3.48046875\n",
            "==============================\n",
            "Sample: This movie is boring and over-done. The only thing saving the film from being dull is the direction the producers gave it. \"Replace your face with the body of a corpse\" is very boring and over-done. The only improvement is the production value\n",
            "Score: 4.82421875\n",
            "==============================\n",
            "Sample: This movie is great.<|endoftext|><|endoftext|><|endoftext|><|endoftext|><|endoftext|><|endoftext|><|endoftext|><|endoftext|><|endoftext|><|endoftext|><|endoftext|><|endoftext|><|endoftext|><|endoftext|><|endoftext|><|endoftext|><|endoftext|><|endoftext|><|endoftext|><|endoftext|><|endoftext|><|endoftext|><|endoftext|><|endoftext|><|endoftext|><|endoftext|><|endoftext|><|endoftext|><|endoftext|><|endoftext|><|endoftext|><|endoftext|><|endoftext|><|endoftext|><|endoftext|><|endoftext|><|endoftext|><|endoftext|><|endoftext|><|endoftext|><|endoftext|><|endoftext|><|endoftext|><|endoftext|><|endoftext|><|endoftext|><|endoftext|><|endoftext|>\n",
            "Score: -3.494140625\n",
            "==============================\n",
            "Sample: This movie is supposed to be a soap opera about a girl called S.O,\" and I love what they went with it and why not. I don't care the genre, because this is nothing but a piece of garbage. <br /><br />S\n",
            "Score: 3.64453125\n",
            "==============================\n",
            "Sample: This movie is very exciting. It is an incredibly interesting and imaginative thriller as well as the most imaginative of thrillers. I wish I was still watching it today. Its certainly worth the rent.<br /><br />If you are looking for something quite different then\n",
            "Score: -5.11328125\n",
            "==============================\n",
            "Sample: This movie is so lame! It must be a bunch of losers working in a coffee shop, the same two people who run a local bookstore, the same person with two jobs, and a guy with a big ass hair! It comes right up against the most fun\n",
            "Score: 4.45703125\n",
            "==============================\n",
            "Sample: This movie is made so many times I don't really know what to get excited about.<br /><br />I know I'm biased but if you read any books on this topic I would find them very entertaining.<br /><br />The plot could be\n",
            "Score: -1.732421875\n",
            "==============================\n",
            "Sample: This movie is a movie I really don't care for. I feel like I know what the hell I'm looking at. But I won't waste any more time on this one, as we're supposed to be talking about movie about a guy who gets in a\n",
            "Score: -0.193603515625\n",
            "==============================\n"
          ]
        }
      ],
      "source": [
        "# <YOUR CODE HERE> - feel free to organize it as you see fit\n",
        "inputs = main_tokenizer([\"This movie is\"] * 16, return_tensors='pt').to(device)\n",
        "for candidate in main_model.generate(**inputs, max_new_tokens=50, do_sample=True):\n",
        "    sample = main_tokenizer.decode(candidate.flatten().cpu().numpy().tolist())\n",
        "    print(\"Sample:\", sample)\n",
        "    sam = reward_tokenizer(\n",
        "        sample, truncation=True, return_tensors='pt').to(device)\n",
        "\n",
        "    with torch.no_grad():\n",
        "      reward = reward_model(**sam).logits[0, 0].item()\n",
        "    print(\"Score:\", reward)\n",
        "    print('='*30)"
      ]
    },
    {
      "cell_type": "code",
      "execution_count": 24,
      "metadata": {
        "id": "m6fcLaOsyLg_",
        "colab": {
          "base_uri": "https://localhost:8080/"
        },
        "outputId": "9bf73385-44f5-441e-95d5-e79b02ddef7b"
      },
      "outputs": [
        {
          "output_type": "stream",
          "name": "stderr",
          "text": [
            "Setting `pad_token_id` to `eos_token_id`:50256 for open-end generation.\n"
          ]
        },
        {
          "output_type": "stream",
          "name": "stdout",
          "text": [
            "Sample: The movie is also a wonderful example of the type of character that films can get to you in a very short period of time. The acting is so good, but the story is so unrealistic that only some of the characters act like they can. But the movie\n",
            "Score: -4.640625\n",
            "==============================\n",
            "Sample: The movie is a clever satire of the old way of going about life with the family. I think the film is so much deeper than the TV show to me, with it's deep thoughts. Like all of the movies that have shown me \"What makes a\n",
            "Score: -4.828125\n",
            "==============================\n",
            "Sample: The movie, directed by David Reay, did try and show you the movie when you were a kid in the 70s and 80s. It doesn't take much work to make a decent movie. It took many hard-working people to make a decent\n",
            "Score: 1.4609375\n",
            "==============================\n",
            "Sample: The movie should have been on DVD as well, so we can safely say that it really is awful. This is still one of my only recommendations at this point.<|endoftext|><|endoftext|><|endoftext|><|endoftext|><|endoftext|><|endoftext|><|endoftext|><|endoftext|><|endoftext|><|endoftext|><|endoftext|><|endoftext|><|endoftext|><|endoftext|><|endoftext|><|endoftext|><|endoftext|><|endoftext|><|endoftext|>\n",
            "Score: 3.029296875\n",
            "==============================\n",
            "Sample: The movie has been shown in video stores for ages, and in print for several more years.<br /><br />This movie was in a movie titled \"The Lost Children of the Desert,\" produced by \"The Lost Children of the Desert\" production company,\n",
            "Score: -0.8544921875\n",
            "==============================\n",
            "Sample: The movie tries to capture a bit of the essence of the movie. With the great characters, the realistic dialogue, and the realistic situations. I hope that everyone who watched this is prepared and able to enjoy it. No matter your preference, I would give it\n",
            "Score: -5.00390625\n",
            "==============================\n",
            "Sample: The movie is a bit of a comedy, but not terribly funny even. It is certainly not funny in the least but it has many very funny scenes in it. The only reason to watch this movie is to make some fresh friends!<|endoftext|><|endoftext|><|endoftext|><|endoftext|><|endoftext|>\n",
            "Score: 0.755859375\n",
            "==============================\n",
            "Sample: The movie was not that good, but at least the acting was decent. The film is about six girls who all come from the same neighborhood. At age 8-9 the girls live there with 2 friends and only 2 women. They don't have a house\n",
            "Score: -1.2880859375\n",
            "==============================\n",
            "Sample: The movie starts, with the director attempting to explain \"I'm not that famous\", as shown in the credits. Nothing really explained about the title character's motivations. Some are interesting, some are stupid and some just stupid.<br /><br />Now I\n",
            "Score: 3.609375\n",
            "==============================\n",
            "Sample: The movie was so bad, I gave it 2 out of 10 for the bad acting and bad story. I felt like the script would have been better on any sequel with another story and a good actress to bring the action to the audience. But what the hell\n",
            "Score: 4.78125\n",
            "==============================\n",
            "Sample: The movie is also quite a lot longer than it was originally intended but I suppose they could have gotten away with it and put the whole thing together without breaking the bank as one would expect. I think that I would have gotten more involved with the movie - especially\n",
            "Score: 1.736328125\n",
            "==============================\n",
            "Sample: The movie was filmed in the 1970's and the first three minutes is truly eerie...the whole world seems to turn to white to hear this terrible song. Then the song starts moving, and with a strange voice all your thoughts start spinning...well, you just\n",
            "Score: 2.72265625\n",
            "==============================\n",
            "Sample: The movie has some funny moments and some nudity, but that never really takes away it from the rest of the movie. The acting is solid, the jokes are funny, and the script is excellent as well. I'd love to see it again. And as\n",
            "Score: -4.96484375\n",
            "==============================\n",
            "Sample: The movie has lots of nudity, even though they aren't going to tell you the plot, because it might confuse you. You don't hear any other dialogue or character growth, save the occasional rape scene. Even the main heroine, a mute girl with a\n",
            "Score: 1.9130859375\n",
            "==============================\n",
            "Sample: The movie was not nearly as intense as the one with the other. It tried to be realistic with both of the characters but it seemed to be falling flat on its face like it was about to do its thing.<br /><br />I felt like I\n",
            "Score: 2.26171875\n",
            "==============================\n",
            "Sample: The movie starts pretty well (not bad), but the \"twist\" is annoying, and the ending doesn't deliver as advertised. The acting in the movie isn't so impressive, as you might think. My rating is zero.<|endoftext|><|endoftext|><|endoftext|><|endoftext|><|endoftext|>\n",
            "Score: 3.794921875\n",
            "==============================\n"
          ]
        }
      ],
      "source": [
        "# <YOUR CODE HERE> - feel free to organize it as you see fit\n",
        "inputs = main_tokenizer([\"The movie\"] * 16, return_tensors='pt').to(device)\n",
        "for candidate in main_model.generate(**inputs, max_new_tokens=50, do_sample=True):\n",
        "    sample = main_tokenizer.decode(candidate.flatten().cpu().numpy().tolist())\n",
        "    print(\"Sample:\", sample)\n",
        "    sam = reward_tokenizer(\n",
        "        sample, truncation=True, return_tensors='pt').to(device)\n",
        "\n",
        "    with torch.no_grad():\n",
        "      reward = reward_model(**sam).logits[0, 0].item()\n",
        "    print(\"Score:\", reward)\n",
        "    print('='*30)"
      ]
    },
    {
      "cell_type": "markdown",
      "metadata": {
        "id": "8NjQ40BRoH5f"
      },
      "source": [
        "# Stage 2: fine-tune the main model with RL\n",
        "\n",
        "\n",
        "For this tutorial, we will optimize GPT2 to produce positive IMDB movie reviews using the reward model you trained above.\n",
        "\n",
        "Unlike supervised fine-tuning, RL allows model to generate it's own sentences on each training step. Then, it calculates the reward of those specific sentences, and finally, updates the model to increase the probability of sentences with high reward.\n",
        "\n",
        "Thus, each RLHF consists of three stages: __Rollout__, __Evaluation__ and __Update__\n",
        "\n",
        "<div style=\"text-align: center\">\n",
        "<img src='https://huggingface.co/datasets/trl-internal-testing/example-images/resolve/main/images/gpt2_bert_training.png' width='600'>\n",
        "\n",
        "The update stage depends on the specific RL algorithm. We'll be using Proximal Policy Optimization, or [PPO](https://arxiv.org/abs/1707.06347), similarly to what was used for InstructGPT.\n",
        "\n",
        "Before we run those 3 stages, however, we need to create a dataset of \"queries\" - partial reviews in our case."
      ]
    },
    {
      "cell_type": "code",
      "execution_count": 8,
      "metadata": {
        "id": "jm5IUrer0xd_",
        "colab": {
          "base_uri": "https://localhost:8080/",
          "height": 98,
          "referenced_widgets": [
            "61ad0ffa0cf64efea77c38df049bb6f1",
            "594d5c459b5e4f1597c6873ac39f2309",
            "422b69b94b5d4917aa77ea9503600fe6",
            "3e14d97610d44213a71aaae757c4163e",
            "090368b3d82a4af59030f71eab443ab5",
            "fbc8f392c3d244d8b0839366291a6be9",
            "6a7968930ec34352bccf4b60a3f3fc4a",
            "f78385b0190d4c5f835fa598bb912b64",
            "10f4aa756efa490e936d068cd0ae8677",
            "a94179a047ed458c9c4a4711a0123e67",
            "f502f78606df4c7f9da28a95a19f4e53",
            "88bec38ea3564c09823335e12309c898",
            "8a101af6b76241f4bdccc5a439c49a4c",
            "a160236028de446a8194db688063680e",
            "a58f402db689490bb3deaded3e939929",
            "6b2d4445101944329ead23058fd7bda8",
            "8d9759e463d54055a55e660bcd558075",
            "a7e00b69727547e2a8724408785944eb",
            "732809c9e47f482c8a3335b87acce689",
            "145ee989aa97478eaa358f0c52ba4292",
            "b4ede90bd68c48d3befd2776166a18fb",
            "45195b3ba4e8426e8db489b0701cf637"
          ]
        },
        "outputId": "aea5f3c9-b9f8-41bd-89b4-7db1d53fd3f8"
      },
      "outputs": [
        {
          "output_type": "display_data",
          "data": {
            "text/plain": [
              "Filter:   0%|          | 0/25000 [00:00<?, ? examples/s]"
            ],
            "application/vnd.jupyter.widget-view+json": {
              "version_major": 2,
              "version_minor": 0,
              "model_id": "61ad0ffa0cf64efea77c38df049bb6f1"
            }
          },
          "metadata": {}
        },
        {
          "output_type": "display_data",
          "data": {
            "text/plain": [
              "Map:   0%|          | 0/24895 [00:00<?, ? examples/s]"
            ],
            "application/vnd.jupyter.widget-view+json": {
              "version_major": 2,
              "version_minor": 0,
              "model_id": "88bec38ea3564c09823335e12309c898"
            }
          },
          "metadata": {}
        },
        {
          "output_type": "stream",
          "name": "stderr",
          "text": [
            "Token indices sequence length is longer than the specified maximum sequence length for this model (1168 > 1024). Running this sequence through the model will result in indexing errors\n"
          ]
        }
      ],
      "source": [
        "# Note: this code is specific to IMDB; you will need to re-write it for other tasks\n",
        "imdb_for_rlhf = imdb.filter(lambda row: len(row['text']) > 200, batched=False)\n",
        "imdb_for_rlhf = imdb_for_rlhf.remove_columns(['label'])\n",
        "sample_length = trl.core.LengthSampler(2, 8)  # use the first 2-8 tokens as query\n",
        "\n",
        "def select_query_and_tokenize(sample):\n",
        "    query_ids = main_tokenizer.encode(sample[\"text\"])[: sample_length()]\n",
        "    sample[\"query\"] = main_tokenizer.decode(query_ids)  # query is the only required column\n",
        "    sample[\"input_ids\"] = query_ids  # to avoid re-tokenizing later\n",
        "    return sample  # we do not need the rest - it will be generated by the model\n",
        "\n",
        "imdb_for_rlhf = imdb_for_rlhf.map(select_query_and_tokenize, batched=False)\n",
        "imdb_for_rlhf.set_format(type=\"torch\")"
      ]
    },
    {
      "cell_type": "markdown",
      "metadata": {
        "id": "lKIAyilP3Bf1"
      },
      "source": [
        "Next, let's prepare your reward model to predict rewards on whatever reviews were generated. Note that we use plaintext reviews because main model uses a different tokenizer from the reward model."
      ]
    },
    {
      "cell_type": "code",
      "execution_count": 26,
      "metadata": {
        "id": "kkm4MLOr20Jk"
      },
      "outputs": [],
      "source": [
        "from typing import List\n",
        "def compute_reward(texts: List[str]) -> torch.Tensor:\n",
        "  inputs = reward_tokenizer(texts, truncation=True, padding=True, return_tensors='pt').to(device)\n",
        "  with torch.no_grad():\n",
        "    return reward_model(**inputs).logits[:, 0]"
      ]
    },
    {
      "cell_type": "code",
      "execution_count": 27,
      "metadata": {
        "id": "7wJto13M3vWu",
        "colab": {
          "base_uri": "https://localhost:8080/"
        },
        "outputId": "5e6d25ea-0bee-4d01-9c0b-8cbe6b5aae76"
      },
      "outputs": [
        {
          "output_type": "execute_result",
          "data": {
            "text/plain": [
              "tensor([ 4.8633, -5.0117], device='cuda:0')"
            ]
          },
          "metadata": {},
          "execution_count": 27
        }
      ],
      "source": [
        "compute_reward([imdb[45]['text'], imdb[16000]['text']])  # test on human-written reviews"
      ]
    },
    {
      "cell_type": "markdown",
      "metadata": {
        "id": "U3buACYV4QLJ"
      },
      "source": [
        "Finally, we move to RL training. In this tutorial, we'll train LoRA adapters and not the full model."
      ]
    },
    {
      "cell_type": "code",
      "execution_count": 9,
      "metadata": {
        "id": "nar1yXgl4KQa",
        "colab": {
          "base_uri": "https://localhost:8080/"
        },
        "outputId": "97dba7b6-a403-4b63-8132-1e3203903e1a"
      },
      "outputs": [
        {
          "output_type": "stream",
          "name": "stdout",
          "text": [
            "trainable params: 1,179,648 || all params: 125,620,225 || trainable%: 0.9390589771670923\n"
          ]
        },
        {
          "output_type": "stream",
          "name": "stderr",
          "text": [
            "/usr/local/lib/python3.10/dist-packages/peft/tuners/lora/layer.py:861: UserWarning: fan_in_fan_out is set to False but the target module is `Conv1D`. Setting fan_in_fan_out to True.\n",
            "  warnings.warn(\n"
          ]
        }
      ],
      "source": [
        "import peft\n",
        "peft_config = peft.LoraConfig(\n",
        "    task_type=peft.TaskType.CAUSAL_LM, r=32, lora_alpha=32, lora_dropout=0.0, inference_mode=False\n",
        ")\n",
        "\n",
        "# reload main model as AutoModelForCausalLMWithValueHead - with an extra head needed for PPO\n",
        "main_tokenizer = transformers.AutoTokenizer.from_pretrained(\"lvwerra/gpt2-imdb\")\n",
        "main_tokenizer.pad_token = main_tokenizer.eos_token\n",
        "\n",
        "main_model = trl.AutoModelForCausalLMWithValueHead.from_pretrained(\"lvwerra/gpt2-imdb\", device_map=device)\n",
        "main_model = peft.get_peft_model(main_model, peft_config, adapter_name='default')\n",
        "main_model.print_trainable_parameters()"
      ]
    },
    {
      "cell_type": "markdown",
      "metadata": {
        "id": "qIQK5bcpCPZ6"
      },
      "source": [
        "Same as before, trl has a special type of trainer that minimize PPO-specific pseudo-loss. You can read more on this trainer [here](https://huggingface.co/docs/trl/main/en/ppo_trainer)."
      ]
    },
    {
      "cell_type": "code",
      "execution_count": 13,
      "metadata": {
        "id": "EvTtiLs94txE"
      },
      "outputs": [],
      "source": [
        "training_args = trl.PPOConfig(\n",
        "    model_name=main_model.config._name_or_path,\n",
        "    gradient_accumulation_steps=1,\n",
        "    learning_rate=1.41e-5,\n",
        "    batch_size=128,\n",
        "    ppo_epochs=4,                 # PPO performs this many updates per training batch\n",
        ")\n",
        "\n",
        "ppo_trainer = trl.PPOTrainer(\n",
        "    training_args, model=main_model.model, tokenizer=main_tokenizer,\n",
        "    dataset=imdb_for_rlhf, data_collator=lambda data: dict((key, [d[key] for d in data]) for key in data[0])\n",
        ")  # note: we pass main_model.model because PPOTrainer checks for one of several supported model types ...\n",
        "# ... main_model.model is a model with adapters, which is supported. main_model itself is a wrapper that is not supported"
      ]
    },
    {
      "cell_type": "code",
      "execution_count": 30,
      "metadata": {
        "id": "eYr-w666-QfK",
        "colab": {
          "base_uri": "https://localhost:8080/",
          "height": 1000,
          "referenced_widgets": [
            "a93b54c4105542d9a5650f184179f228",
            "3550bdfbe84249a6bd29174b28ab5578",
            "b73612e07650496488c9c6420a17dbb0",
            "abde10bfe08442b4955852831c2e69c1",
            "b97a87c806cf44b5aa1869084e0c1cf9",
            "822610d0f69b44d98fa34904a375c535",
            "7f6e2536704043cdb8f799879c6bf07d",
            "4bc97d95ffd644769f4aacf2f8e321df",
            "c97c816a53dd471abc68d8f5c5402137",
            "61fefc58949644998da6d4ac2224a416",
            "03a539798bdb46599f7dd20e47644f29"
          ]
        },
        "outputId": "bcd6d31a-0bad-4e5a-e794-6d430bbea852"
      },
      "outputs": [
        {
          "output_type": "display_data",
          "data": {
            "text/plain": [
              "  0%|          | 0/50 [00:00<?, ?it/s]"
            ],
            "application/vnd.jupyter.widget-view+json": {
              "version_major": 2,
              "version_minor": 0,
              "model_id": "a93b54c4105542d9a5650f184179f228"
            }
          },
          "metadata": {}
        },
        {
          "output_type": "stream",
          "name": "stderr",
          "text": [
            "You're using a GPT2TokenizerFast tokenizer. Please note that with a fast tokenizer, using the `__call__` method is faster than using a method to encode the text followed by a call to the `pad` method to get a padded encoding.\n"
          ]
        },
        {
          "output_type": "stream",
          "name": "stdout",
          "text": [
            "------------------------------ STEP 0 ------------------------------\n",
            "rewards/mean:\t-0.088967800\t<---- average reward over this batch (higher=better, noisy)\n",
            "ppo/returns/mean:\t-0.477680326\t<---- model-estimated average discounted reward\n",
            "objective/kl:\t0.000000000\t<---- how far we are from the original model (regularizer)\n",
            "\n",
            "------------------------------ STEP 1 ------------------------------\n",
            "rewards/mean:\t0.166835785\t<---- average reward over this batch (higher=better, noisy)\n",
            "ppo/returns/mean:\t-0.348822236\t<---- model-estimated average discounted reward\n",
            "objective/kl:\t0.277455658\t<---- how far we are from the original model (regularizer)\n",
            "\n",
            "------------------------------ STEP 2 ------------------------------\n",
            "rewards/mean:\t-0.286517620\t<---- average reward over this batch (higher=better, noisy)\n",
            "ppo/returns/mean:\t-0.422613740\t<---- model-estimated average discounted reward\n",
            "objective/kl:\t1.018700123\t<---- how far we are from the original model (regularizer)\n",
            "\n",
            "------------------------------ STEP 3 ------------------------------\n",
            "rewards/mean:\t-0.059345245\t<---- average reward over this batch (higher=better, noisy)\n",
            "ppo/returns/mean:\t-0.391587138\t<---- model-estimated average discounted reward\n",
            "objective/kl:\t1.148194551\t<---- how far we are from the original model (regularizer)\n",
            "\n",
            "------------------------------ STEP 4 ------------------------------\n",
            "rewards/mean:\t-0.518209457\t<---- average reward over this batch (higher=better, noisy)\n",
            "ppo/returns/mean:\t-0.496922225\t<---- model-estimated average discounted reward\n",
            "objective/kl:\t2.422991514\t<---- how far we are from the original model (regularizer)\n",
            "\n",
            "------------------------------ STEP 5 ------------------------------\n",
            "rewards/mean:\t0.218596458\t<---- average reward over this batch (higher=better, noisy)\n",
            "ppo/returns/mean:\t-0.440329969\t<---- model-estimated average discounted reward\n",
            "objective/kl:\t3.100878239\t<---- how far we are from the original model (regularizer)\n",
            "\n",
            "------------------------------ STEP 6 ------------------------------\n",
            "rewards/mean:\t0.251943588\t<---- average reward over this batch (higher=better, noisy)\n",
            "ppo/returns/mean:\t-0.340609372\t<---- model-estimated average discounted reward\n",
            "objective/kl:\t3.419199944\t<---- how far we are from the original model (regularizer)\n",
            "\n",
            "------------------------------ STEP 7 ------------------------------\n",
            "rewards/mean:\t0.350298882\t<---- average reward over this batch (higher=better, noisy)\n",
            "ppo/returns/mean:\t-0.294533432\t<---- model-estimated average discounted reward\n",
            "objective/kl:\t5.586573601\t<---- how far we are from the original model (regularizer)\n",
            "\n",
            "------------------------------ STEP 8 ------------------------------\n",
            "rewards/mean:\t0.009948254\t<---- average reward over this batch (higher=better, noisy)\n",
            "ppo/returns/mean:\t-0.406679958\t<---- model-estimated average discounted reward\n",
            "objective/kl:\t5.575538635\t<---- how far we are from the original model (regularizer)\n",
            "\n",
            "------------------------------ STEP 9 ------------------------------\n",
            "rewards/mean:\t0.852405787\t<---- average reward over this batch (higher=better, noisy)\n",
            "ppo/returns/mean:\t-0.187974304\t<---- model-estimated average discounted reward\n",
            "objective/kl:\t6.776105404\t<---- how far we are from the original model (regularizer)\n",
            "\n",
            "------------------------------ STEP 10 ------------------------------\n",
            "rewards/mean:\t0.980456352\t<---- average reward over this batch (higher=better, noisy)\n",
            "ppo/returns/mean:\t-0.198689371\t<---- model-estimated average discounted reward\n",
            "objective/kl:\t7.656588554\t<---- how far we are from the original model (regularizer)\n",
            "\n",
            "------------------------------ STEP 11 ------------------------------\n",
            "rewards/mean:\t0.668237209\t<---- average reward over this batch (higher=better, noisy)\n",
            "ppo/returns/mean:\t-0.212970436\t<---- model-estimated average discounted reward\n",
            "objective/kl:\t8.273160934\t<---- how far we are from the original model (regularizer)\n",
            "\n",
            "------------------------------ STEP 12 ------------------------------\n",
            "rewards/mean:\t0.762243271\t<---- average reward over this batch (higher=better, noisy)\n",
            "ppo/returns/mean:\t-0.191291347\t<---- model-estimated average discounted reward\n",
            "objective/kl:\t7.962152958\t<---- how far we are from the original model (regularizer)\n",
            "\n",
            "------------------------------ STEP 13 ------------------------------\n",
            "rewards/mean:\t0.364720821\t<---- average reward over this batch (higher=better, noisy)\n",
            "ppo/returns/mean:\t-0.216762096\t<---- model-estimated average discounted reward\n",
            "objective/kl:\t7.152786732\t<---- how far we are from the original model (regularizer)\n",
            "\n",
            "------------------------------ STEP 14 ------------------------------\n",
            "rewards/mean:\t1.602868080\t<---- average reward over this batch (higher=better, noisy)\n",
            "ppo/returns/mean:\t-0.034430191\t<---- model-estimated average discounted reward\n",
            "objective/kl:\t8.303914070\t<---- how far we are from the original model (regularizer)\n",
            "\n",
            "------------------------------ STEP 15 ------------------------------\n",
            "rewards/mean:\t1.438092232\t<---- average reward over this batch (higher=better, noisy)\n",
            "ppo/returns/mean:\t0.082312323\t<---- model-estimated average discounted reward\n",
            "objective/kl:\t7.390928268\t<---- how far we are from the original model (regularizer)\n",
            "\n",
            "------------------------------ STEP 16 ------------------------------\n",
            "rewards/mean:\t1.231238604\t<---- average reward over this batch (higher=better, noisy)\n",
            "ppo/returns/mean:\t0.143869698\t<---- model-estimated average discounted reward\n",
            "objective/kl:\t7.498074532\t<---- how far we are from the original model (regularizer)\n",
            "\n",
            "------------------------------ STEP 17 ------------------------------\n",
            "rewards/mean:\t1.679870605\t<---- average reward over this batch (higher=better, noisy)\n",
            "ppo/returns/mean:\t0.304765880\t<---- model-estimated average discounted reward\n",
            "objective/kl:\t7.949598789\t<---- how far we are from the original model (regularizer)\n",
            "\n",
            "------------------------------ STEP 18 ------------------------------\n",
            "rewards/mean:\t1.470933914\t<---- average reward over this batch (higher=better, noisy)\n",
            "ppo/returns/mean:\t0.361072719\t<---- model-estimated average discounted reward\n",
            "objective/kl:\t8.799825668\t<---- how far we are from the original model (regularizer)\n",
            "\n",
            "------------------------------ STEP 19 ------------------------------\n",
            "rewards/mean:\t1.153264999\t<---- average reward over this batch (higher=better, noisy)\n",
            "ppo/returns/mean:\t0.292383909\t<---- model-estimated average discounted reward\n",
            "objective/kl:\t8.205924988\t<---- how far we are from the original model (regularizer)\n",
            "\n",
            "------------------------------ STEP 20 ------------------------------\n",
            "rewards/mean:\t0.745473862\t<---- average reward over this batch (higher=better, noisy)\n",
            "ppo/returns/mean:\t0.250349671\t<---- model-estimated average discounted reward\n",
            "objective/kl:\t7.930587769\t<---- how far we are from the original model (regularizer)\n",
            "\n",
            "------------------------------ STEP 21 ------------------------------\n",
            "rewards/mean:\t0.923672676\t<---- average reward over this batch (higher=better, noisy)\n",
            "ppo/returns/mean:\t0.343756229\t<---- model-estimated average discounted reward\n",
            "objective/kl:\t7.822735786\t<---- how far we are from the original model (regularizer)\n",
            "\n",
            "------------------------------ STEP 22 ------------------------------\n",
            "rewards/mean:\t1.832332611\t<---- average reward over this batch (higher=better, noisy)\n",
            "ppo/returns/mean:\t0.569028616\t<---- model-estimated average discounted reward\n",
            "objective/kl:\t7.306910515\t<---- how far we are from the original model (regularizer)\n",
            "\n",
            "------------------------------ STEP 23 ------------------------------\n",
            "rewards/mean:\t0.569335938\t<---- average reward over this batch (higher=better, noisy)\n",
            "ppo/returns/mean:\t0.275368810\t<---- model-estimated average discounted reward\n",
            "objective/kl:\t8.529793739\t<---- how far we are from the original model (regularizer)\n",
            "\n",
            "------------------------------ STEP 24 ------------------------------\n",
            "rewards/mean:\t1.599905014\t<---- average reward over this batch (higher=better, noisy)\n",
            "ppo/returns/mean:\t0.524504781\t<---- model-estimated average discounted reward\n",
            "objective/kl:\t8.511307716\t<---- how far we are from the original model (regularizer)\n",
            "\n",
            "------------------------------ STEP 25 ------------------------------\n",
            "rewards/mean:\t1.398403168\t<---- average reward over this batch (higher=better, noisy)\n",
            "ppo/returns/mean:\t0.505537629\t<---- model-estimated average discounted reward\n",
            "objective/kl:\t8.426067352\t<---- how far we are from the original model (regularizer)\n",
            "\n",
            "------------------------------ STEP 26 ------------------------------\n",
            "rewards/mean:\t2.223851204\t<---- average reward over this batch (higher=better, noisy)\n",
            "ppo/returns/mean:\t0.736556888\t<---- model-estimated average discounted reward\n",
            "objective/kl:\t9.198411942\t<---- how far we are from the original model (regularizer)\n",
            "\n",
            "------------------------------ STEP 27 ------------------------------\n",
            "rewards/mean:\t1.292702675\t<---- average reward over this batch (higher=better, noisy)\n",
            "ppo/returns/mean:\t0.592841625\t<---- model-estimated average discounted reward\n",
            "objective/kl:\t8.761663437\t<---- how far we are from the original model (regularizer)\n",
            "\n",
            "------------------------------ STEP 28 ------------------------------\n",
            "rewards/mean:\t1.903993130\t<---- average reward over this batch (higher=better, noisy)\n",
            "ppo/returns/mean:\t0.693272829\t<---- model-estimated average discounted reward\n",
            "objective/kl:\t7.883515835\t<---- how far we are from the original model (regularizer)\n",
            "\n",
            "------------------------------ STEP 29 ------------------------------\n",
            "rewards/mean:\t2.005494118\t<---- average reward over this batch (higher=better, noisy)\n",
            "ppo/returns/mean:\t0.865750253\t<---- model-estimated average discounted reward\n",
            "objective/kl:\t8.931703568\t<---- how far we are from the original model (regularizer)\n",
            "\n",
            "------------------------------ STEP 30 ------------------------------\n",
            "rewards/mean:\t2.087222576\t<---- average reward over this batch (higher=better, noisy)\n",
            "ppo/returns/mean:\t0.870693386\t<---- model-estimated average discounted reward\n",
            "objective/kl:\t9.492649078\t<---- how far we are from the original model (regularizer)\n",
            "\n",
            "------------------------------ STEP 31 ------------------------------\n",
            "rewards/mean:\t1.834331512\t<---- average reward over this batch (higher=better, noisy)\n",
            "ppo/returns/mean:\t0.751569748\t<---- model-estimated average discounted reward\n",
            "objective/kl:\t9.045578003\t<---- how far we are from the original model (regularizer)\n",
            "\n",
            "------------------------------ STEP 32 ------------------------------\n",
            "rewards/mean:\t2.519310951\t<---- average reward over this batch (higher=better, noisy)\n",
            "ppo/returns/mean:\t1.155556440\t<---- model-estimated average discounted reward\n",
            "objective/kl:\t10.882064819\t<---- how far we are from the original model (regularizer)\n",
            "\n",
            "------------------------------ STEP 33 ------------------------------\n",
            "rewards/mean:\t2.155066013\t<---- average reward over this batch (higher=better, noisy)\n",
            "ppo/returns/mean:\t1.063394308\t<---- model-estimated average discounted reward\n",
            "objective/kl:\t10.246614456\t<---- how far we are from the original model (regularizer)\n",
            "\n",
            "------------------------------ STEP 34 ------------------------------\n",
            "rewards/mean:\t2.373577118\t<---- average reward over this batch (higher=better, noisy)\n",
            "ppo/returns/mean:\t1.046688318\t<---- model-estimated average discounted reward\n",
            "objective/kl:\t10.603300095\t<---- how far we are from the original model (regularizer)\n",
            "\n",
            "------------------------------ STEP 35 ------------------------------\n",
            "rewards/mean:\t2.491455078\t<---- average reward over this batch (higher=better, noisy)\n",
            "ppo/returns/mean:\t1.319253445\t<---- model-estimated average discounted reward\n",
            "objective/kl:\t9.794837952\t<---- how far we are from the original model (regularizer)\n",
            "\n",
            "------------------------------ STEP 36 ------------------------------\n",
            "rewards/mean:\t2.685713768\t<---- average reward over this batch (higher=better, noisy)\n",
            "ppo/returns/mean:\t1.400109291\t<---- model-estimated average discounted reward\n",
            "objective/kl:\t11.258446693\t<---- how far we are from the original model (regularizer)\n",
            "\n",
            "------------------------------ STEP 37 ------------------------------\n",
            "rewards/mean:\t2.051977158\t<---- average reward over this batch (higher=better, noisy)\n",
            "ppo/returns/mean:\t1.191244364\t<---- model-estimated average discounted reward\n",
            "objective/kl:\t10.469902039\t<---- how far we are from the original model (regularizer)\n",
            "\n",
            "------------------------------ STEP 38 ------------------------------\n",
            "rewards/mean:\t2.291658401\t<---- average reward over this batch (higher=better, noisy)\n",
            "ppo/returns/mean:\t1.305835247\t<---- model-estimated average discounted reward\n",
            "objective/kl:\t11.807487488\t<---- how far we are from the original model (regularizer)\n",
            "\n",
            "------------------------------ STEP 39 ------------------------------\n",
            "rewards/mean:\t1.416594982\t<---- average reward over this batch (higher=better, noisy)\n",
            "ppo/returns/mean:\t0.957083702\t<---- model-estimated average discounted reward\n",
            "objective/kl:\t10.466865540\t<---- how far we are from the original model (regularizer)\n",
            "\n",
            "------------------------------ STEP 40 ------------------------------\n",
            "rewards/mean:\t2.784036160\t<---- average reward over this batch (higher=better, noisy)\n",
            "ppo/returns/mean:\t1.252954006\t<---- model-estimated average discounted reward\n",
            "objective/kl:\t10.953540802\t<---- how far we are from the original model (regularizer)\n",
            "\n",
            "------------------------------ STEP 41 ------------------------------\n",
            "rewards/mean:\t2.417144775\t<---- average reward over this batch (higher=better, noisy)\n",
            "ppo/returns/mean:\t1.385693073\t<---- model-estimated average discounted reward\n",
            "objective/kl:\t10.496753693\t<---- how far we are from the original model (regularizer)\n",
            "\n",
            "------------------------------ STEP 42 ------------------------------\n",
            "rewards/mean:\t2.700546741\t<---- average reward over this batch (higher=better, noisy)\n",
            "ppo/returns/mean:\t1.524078131\t<---- model-estimated average discounted reward\n",
            "objective/kl:\t11.470077515\t<---- how far we are from the original model (regularizer)\n",
            "\n",
            "------------------------------ STEP 43 ------------------------------\n",
            "rewards/mean:\t2.726576328\t<---- average reward over this batch (higher=better, noisy)\n",
            "ppo/returns/mean:\t1.538133383\t<---- model-estimated average discounted reward\n",
            "objective/kl:\t11.788520813\t<---- how far we are from the original model (regularizer)\n",
            "\n",
            "------------------------------ STEP 44 ------------------------------\n",
            "rewards/mean:\t1.919795036\t<---- average reward over this batch (higher=better, noisy)\n",
            "ppo/returns/mean:\t1.301019907\t<---- model-estimated average discounted reward\n",
            "objective/kl:\t10.018426895\t<---- how far we are from the original model (regularizer)\n",
            "\n",
            "------------------------------ STEP 45 ------------------------------\n",
            "rewards/mean:\t3.060396194\t<---- average reward over this batch (higher=better, noisy)\n",
            "ppo/returns/mean:\t1.485684633\t<---- model-estimated average discounted reward\n",
            "objective/kl:\t12.654832840\t<---- how far we are from the original model (regularizer)\n",
            "\n",
            "------------------------------ STEP 46 ------------------------------\n",
            "rewards/mean:\t2.699909210\t<---- average reward over this batch (higher=better, noisy)\n",
            "ppo/returns/mean:\t1.521521807\t<---- model-estimated average discounted reward\n",
            "objective/kl:\t13.377669334\t<---- how far we are from the original model (regularizer)\n",
            "\n",
            "------------------------------ STEP 47 ------------------------------\n",
            "rewards/mean:\t2.989944458\t<---- average reward over this batch (higher=better, noisy)\n",
            "ppo/returns/mean:\t1.591909885\t<---- model-estimated average discounted reward\n",
            "objective/kl:\t11.618723869\t<---- how far we are from the original model (regularizer)\n",
            "\n",
            "------------------------------ STEP 48 ------------------------------\n",
            "rewards/mean:\t3.541664124\t<---- average reward over this batch (higher=better, noisy)\n",
            "ppo/returns/mean:\t1.808604002\t<---- model-estimated average discounted reward\n",
            "objective/kl:\t13.209559441\t<---- how far we are from the original model (regularizer)\n",
            "\n",
            "------------------------------ STEP 49 ------------------------------\n",
            "rewards/mean:\t2.948738098\t<---- average reward over this batch (higher=better, noisy)\n",
            "ppo/returns/mean:\t1.710565329\t<---- model-estimated average discounted reward\n",
            "objective/kl:\t11.719237328\t<---- how far we are from the original model (regularizer)\n",
            "\n"
          ]
        }
      ],
      "source": [
        "from tqdm.auto import tqdm\n",
        "max_steps = 50   # can be insufficient for some tasks - watch your learning curves\n",
        "generation_kwargs = dict(\n",
        "    min_length=-1, max_new_tokens=128, do_sample=True, top_k=0, top_p=1.0, pad_token_id=main_tokenizer.eos_token_id)\n",
        "#                                  ^-- task-specific parameter!\n",
        "with tqdm(enumerate(ppo_trainer.dataloader), total=max_steps) as progressbar:\n",
        "  # note: ppo_trainer.dataloader is just a regular dataloader of queries, no RL-specific magic :)\n",
        "  for epoch, batch in progressbar:\n",
        "    if epoch >= max_steps:\n",
        "        break\n",
        "\n",
        "    # Rollout stage: generate continuations from batch queries using main_model\n",
        "    response_tensors = ppo_trainer.generate(batch['input_ids'], **generation_kwargs)\n",
        "    # ^-- list of tensors of token ids from main model tokenizer\n",
        "\n",
        "    # de-tokenize responses to strings (since reward model uses a different tokenizer)\n",
        "    batch[\"response\"] = [main_tokenizer.decode(response.squeeze()) for response in response_tensors]\n",
        "    # note: response_tensors already contain query tokens, so we don't need to add queries manually.\n",
        "    # This may not be true for other tasks: check this manually by viewing batch[\"response\"] and batch[\"query\"]\n",
        "\n",
        "\n",
        "    # Evaluation stage\n",
        "    rewards = compute_reward(batch['response'])\n",
        "\n",
        "    # Update stage\n",
        "    stats = ppo_trainer.step(batch['input_ids'], response_tensors, list(rewards.split(1)))\n",
        "    stats['rewards/mean'] = rewards.mean().item()\n",
        "\n",
        "    print(\"-\" * 30, 'STEP', epoch, '-' * 30)\n",
        "    print(f'rewards/mean:\\t{stats[\"rewards/mean\"]:.9f}\\t<---- average reward over this batch (higher=better, noisy)')\n",
        "    print(f'ppo/returns/mean:\\t{stats[\"ppo/returns/mean\"]:.9f}\\t<---- model-estimated average discounted reward')\n",
        "    print(f'objective/kl:\\t{stats[\"objective/kl\"]:.9f}\\t<---- how far we are from the original model (regularizer)')\n",
        "    print()\n",
        "\n",
        "    ppo_trainer.log_stats(stats, batch, list(rewards.split(1)))"
      ]
    },
    {
      "cell_type": "code",
      "execution_count": 14,
      "metadata": {
        "id": "ez9rJD-yOo4S"
      },
      "outputs": [],
      "source": [
        "# save pretrained model\n",
        "ppo_trainer.model.save_pretrained(\"./gpt_2_negative\", from_pt=True)"
      ]
    },
    {
      "cell_type": "code",
      "source": [
        "main_model.save_pretrained(\"./gpt_2_negative\", save_adapter=True, save_config=True)"
      ],
      "metadata": {
        "colab": {
          "base_uri": "https://localhost:8080/",
          "height": 287
        },
        "id": "1kb4IIo362ZA",
        "outputId": "ea7ad3fe-af7c-4386-e954-0f9517864a80"
      },
      "execution_count": 16,
      "outputs": [
        {
          "output_type": "error",
          "ename": "RuntimeError",
          "evalue": "OrderedDict mutated during iteration",
          "traceback": [
            "\u001b[0;31m---------------------------------------------------------------------------\u001b[0m",
            "\u001b[0;31mRuntimeError\u001b[0m                              Traceback (most recent call last)",
            "\u001b[0;32m<ipython-input-16-a90348a598e9>\u001b[0m in \u001b[0;36m<cell line: 1>\u001b[0;34m()\u001b[0m\n\u001b[0;32m----> 1\u001b[0;31m \u001b[0mmain_model\u001b[0m\u001b[0;34m.\u001b[0m\u001b[0msave_pretrained\u001b[0m\u001b[0;34m(\u001b[0m\u001b[0;34m\"./gpt_2_negative\"\u001b[0m\u001b[0;34m,\u001b[0m \u001b[0msave_adapter\u001b[0m\u001b[0;34m=\u001b[0m\u001b[0;32mTrue\u001b[0m\u001b[0;34m,\u001b[0m \u001b[0msave_config\u001b[0m\u001b[0;34m=\u001b[0m\u001b[0;32mTrue\u001b[0m\u001b[0;34m)\u001b[0m\u001b[0;34m\u001b[0m\u001b[0;34m\u001b[0m\u001b[0m\n\u001b[0m",
            "\u001b[0;32m/usr/local/lib/python3.10/dist-packages/peft/peft_model.py\u001b[0m in \u001b[0;36msave_pretrained\u001b[0;34m(self, save_directory, safe_serialization, selected_adapters, save_embedding_layers, is_main_process, **kwargs)\u001b[0m\n\u001b[1;32m    213\u001b[0m             \u001b[0mpeft_config\u001b[0m \u001b[0;34m=\u001b[0m \u001b[0mself\u001b[0m\u001b[0;34m.\u001b[0m\u001b[0mpeft_config\u001b[0m\u001b[0;34m[\u001b[0m\u001b[0madapter_name\u001b[0m\u001b[0;34m]\u001b[0m\u001b[0;34m\u001b[0m\u001b[0;34m\u001b[0m\u001b[0m\n\u001b[1;32m    214\u001b[0m             \u001b[0;31m# save only the trainable weights\u001b[0m\u001b[0;34m\u001b[0m\u001b[0;34m\u001b[0m\u001b[0m\n\u001b[0;32m--> 215\u001b[0;31m             output_state_dict = get_peft_model_state_dict(\n\u001b[0m\u001b[1;32m    216\u001b[0m                 \u001b[0mself\u001b[0m\u001b[0;34m,\u001b[0m\u001b[0;34m\u001b[0m\u001b[0;34m\u001b[0m\u001b[0m\n\u001b[1;32m    217\u001b[0m                 \u001b[0mstate_dict\u001b[0m\u001b[0;34m=\u001b[0m\u001b[0mkwargs\u001b[0m\u001b[0;34m.\u001b[0m\u001b[0mget\u001b[0m\u001b[0;34m(\u001b[0m\u001b[0;34m\"state_dict\"\u001b[0m\u001b[0;34m,\u001b[0m \u001b[0;32mNone\u001b[0m\u001b[0;34m)\u001b[0m\u001b[0;34m,\u001b[0m\u001b[0;34m\u001b[0m\u001b[0;34m\u001b[0m\u001b[0m\n",
            "\u001b[0;32m/usr/local/lib/python3.10/dist-packages/peft/utils/save_and_load.py\u001b[0m in \u001b[0;36mget_peft_model_state_dict\u001b[0;34m(model, state_dict, adapter_name, unwrap_compiled, save_embedding_layers)\u001b[0m\n\u001b[1;32m     69\u001b[0m     \u001b[0mconfig\u001b[0m \u001b[0;34m=\u001b[0m \u001b[0mmodel\u001b[0m\u001b[0;34m.\u001b[0m\u001b[0mpeft_config\u001b[0m\u001b[0;34m[\u001b[0m\u001b[0madapter_name\u001b[0m\u001b[0;34m]\u001b[0m\u001b[0;34m\u001b[0m\u001b[0;34m\u001b[0m\u001b[0m\n\u001b[1;32m     70\u001b[0m     \u001b[0;32mif\u001b[0m \u001b[0mstate_dict\u001b[0m \u001b[0;32mis\u001b[0m \u001b[0;32mNone\u001b[0m\u001b[0;34m:\u001b[0m\u001b[0;34m\u001b[0m\u001b[0;34m\u001b[0m\u001b[0m\n\u001b[0;32m---> 71\u001b[0;31m         \u001b[0mstate_dict\u001b[0m \u001b[0;34m=\u001b[0m \u001b[0mmodel\u001b[0m\u001b[0;34m.\u001b[0m\u001b[0mstate_dict\u001b[0m\u001b[0;34m(\u001b[0m\u001b[0;34m)\u001b[0m\u001b[0;34m\u001b[0m\u001b[0;34m\u001b[0m\u001b[0m\n\u001b[0m\u001b[1;32m     72\u001b[0m     \u001b[0;32mif\u001b[0m \u001b[0mconfig\u001b[0m\u001b[0;34m.\u001b[0m\u001b[0mpeft_type\u001b[0m \u001b[0;32min\u001b[0m \u001b[0;34m(\u001b[0m\u001b[0mPeftType\u001b[0m\u001b[0;34m.\u001b[0m\u001b[0mLORA\u001b[0m\u001b[0;34m,\u001b[0m \u001b[0mPeftType\u001b[0m\u001b[0;34m.\u001b[0m\u001b[0mADALORA\u001b[0m\u001b[0;34m)\u001b[0m\u001b[0;34m:\u001b[0m\u001b[0;34m\u001b[0m\u001b[0;34m\u001b[0m\u001b[0m\n\u001b[1;32m     73\u001b[0m         \u001b[0;31m# to_return = lora_state_dict(model, bias=model.peft_config.bias)\u001b[0m\u001b[0;34m\u001b[0m\u001b[0;34m\u001b[0m\u001b[0m\n",
            "\u001b[0;32m/usr/local/lib/python3.10/dist-packages/torch/nn/modules/module.py\u001b[0m in \u001b[0;36mstate_dict\u001b[0;34m(self, destination, prefix, keep_vars, *args)\u001b[0m\n\u001b[1;32m   1893\u001b[0m         \u001b[0;32mfor\u001b[0m \u001b[0mname\u001b[0m\u001b[0;34m,\u001b[0m \u001b[0mmodule\u001b[0m \u001b[0;32min\u001b[0m \u001b[0mself\u001b[0m\u001b[0;34m.\u001b[0m\u001b[0m_modules\u001b[0m\u001b[0;34m.\u001b[0m\u001b[0mitems\u001b[0m\u001b[0;34m(\u001b[0m\u001b[0;34m)\u001b[0m\u001b[0;34m:\u001b[0m\u001b[0;34m\u001b[0m\u001b[0;34m\u001b[0m\u001b[0m\n\u001b[1;32m   1894\u001b[0m             \u001b[0;32mif\u001b[0m \u001b[0mmodule\u001b[0m \u001b[0;32mis\u001b[0m \u001b[0;32mnot\u001b[0m \u001b[0;32mNone\u001b[0m\u001b[0;34m:\u001b[0m\u001b[0;34m\u001b[0m\u001b[0;34m\u001b[0m\u001b[0m\n\u001b[0;32m-> 1895\u001b[0;31m                 \u001b[0mmodule\u001b[0m\u001b[0;34m.\u001b[0m\u001b[0mstate_dict\u001b[0m\u001b[0;34m(\u001b[0m\u001b[0mdestination\u001b[0m\u001b[0;34m=\u001b[0m\u001b[0mdestination\u001b[0m\u001b[0;34m,\u001b[0m \u001b[0mprefix\u001b[0m\u001b[0;34m=\u001b[0m\u001b[0mprefix\u001b[0m \u001b[0;34m+\u001b[0m \u001b[0mname\u001b[0m \u001b[0;34m+\u001b[0m \u001b[0;34m'.'\u001b[0m\u001b[0;34m,\u001b[0m \u001b[0mkeep_vars\u001b[0m\u001b[0;34m=\u001b[0m\u001b[0mkeep_vars\u001b[0m\u001b[0;34m)\u001b[0m\u001b[0;34m\u001b[0m\u001b[0;34m\u001b[0m\u001b[0m\n\u001b[0m\u001b[1;32m   1896\u001b[0m         \u001b[0;32mfor\u001b[0m \u001b[0mhook\u001b[0m \u001b[0;32min\u001b[0m \u001b[0mself\u001b[0m\u001b[0;34m.\u001b[0m\u001b[0m_state_dict_hooks\u001b[0m\u001b[0;34m.\u001b[0m\u001b[0mvalues\u001b[0m\u001b[0;34m(\u001b[0m\u001b[0;34m)\u001b[0m\u001b[0;34m:\u001b[0m\u001b[0;34m\u001b[0m\u001b[0;34m\u001b[0m\u001b[0m\n\u001b[1;32m   1897\u001b[0m             \u001b[0mhook_result\u001b[0m \u001b[0;34m=\u001b[0m \u001b[0mhook\u001b[0m\u001b[0;34m(\u001b[0m\u001b[0mself\u001b[0m\u001b[0;34m,\u001b[0m \u001b[0mdestination\u001b[0m\u001b[0;34m,\u001b[0m \u001b[0mprefix\u001b[0m\u001b[0;34m,\u001b[0m \u001b[0mlocal_metadata\u001b[0m\u001b[0;34m)\u001b[0m\u001b[0;34m\u001b[0m\u001b[0;34m\u001b[0m\u001b[0m\n",
            "\u001b[0;32m/usr/local/lib/python3.10/dist-packages/torch/nn/modules/module.py\u001b[0m in \u001b[0;36mstate_dict\u001b[0;34m(self, destination, prefix, keep_vars, *args)\u001b[0m\n\u001b[1;32m   1893\u001b[0m         \u001b[0;32mfor\u001b[0m \u001b[0mname\u001b[0m\u001b[0;34m,\u001b[0m \u001b[0mmodule\u001b[0m \u001b[0;32min\u001b[0m \u001b[0mself\u001b[0m\u001b[0;34m.\u001b[0m\u001b[0m_modules\u001b[0m\u001b[0;34m.\u001b[0m\u001b[0mitems\u001b[0m\u001b[0;34m(\u001b[0m\u001b[0;34m)\u001b[0m\u001b[0;34m:\u001b[0m\u001b[0;34m\u001b[0m\u001b[0;34m\u001b[0m\u001b[0m\n\u001b[1;32m   1894\u001b[0m             \u001b[0;32mif\u001b[0m \u001b[0mmodule\u001b[0m \u001b[0;32mis\u001b[0m \u001b[0;32mnot\u001b[0m \u001b[0;32mNone\u001b[0m\u001b[0;34m:\u001b[0m\u001b[0;34m\u001b[0m\u001b[0;34m\u001b[0m\u001b[0m\n\u001b[0;32m-> 1895\u001b[0;31m                 \u001b[0mmodule\u001b[0m\u001b[0;34m.\u001b[0m\u001b[0mstate_dict\u001b[0m\u001b[0;34m(\u001b[0m\u001b[0mdestination\u001b[0m\u001b[0;34m=\u001b[0m\u001b[0mdestination\u001b[0m\u001b[0;34m,\u001b[0m \u001b[0mprefix\u001b[0m\u001b[0;34m=\u001b[0m\u001b[0mprefix\u001b[0m \u001b[0;34m+\u001b[0m \u001b[0mname\u001b[0m \u001b[0;34m+\u001b[0m \u001b[0;34m'.'\u001b[0m\u001b[0;34m,\u001b[0m \u001b[0mkeep_vars\u001b[0m\u001b[0;34m=\u001b[0m\u001b[0mkeep_vars\u001b[0m\u001b[0;34m)\u001b[0m\u001b[0;34m\u001b[0m\u001b[0;34m\u001b[0m\u001b[0m\n\u001b[0m\u001b[1;32m   1896\u001b[0m         \u001b[0;32mfor\u001b[0m \u001b[0mhook\u001b[0m \u001b[0;32min\u001b[0m \u001b[0mself\u001b[0m\u001b[0;34m.\u001b[0m\u001b[0m_state_dict_hooks\u001b[0m\u001b[0;34m.\u001b[0m\u001b[0mvalues\u001b[0m\u001b[0;34m(\u001b[0m\u001b[0;34m)\u001b[0m\u001b[0;34m:\u001b[0m\u001b[0;34m\u001b[0m\u001b[0;34m\u001b[0m\u001b[0m\n\u001b[1;32m   1897\u001b[0m             \u001b[0mhook_result\u001b[0m \u001b[0;34m=\u001b[0m \u001b[0mhook\u001b[0m\u001b[0;34m(\u001b[0m\u001b[0mself\u001b[0m\u001b[0;34m,\u001b[0m \u001b[0mdestination\u001b[0m\u001b[0;34m,\u001b[0m \u001b[0mprefix\u001b[0m\u001b[0;34m,\u001b[0m \u001b[0mlocal_metadata\u001b[0m\u001b[0;34m)\u001b[0m\u001b[0;34m\u001b[0m\u001b[0;34m\u001b[0m\u001b[0m\n",
            "\u001b[0;32m/usr/local/lib/python3.10/dist-packages/trl/models/modeling_value_head.py\u001b[0m in \u001b[0;36mstate_dict\u001b[0;34m(self, *args, **kwargs)\u001b[0m\n\u001b[1;32m    215\u001b[0m         \u001b[0mprint\u001b[0m\u001b[0;34m(\u001b[0m\u001b[0;34m'hhh'\u001b[0m\u001b[0;34m)\u001b[0m\u001b[0;34m\u001b[0m\u001b[0;34m\u001b[0m\u001b[0m\n\u001b[1;32m    216\u001b[0m \u001b[0;34m\u001b[0m\u001b[0m\n\u001b[0;32m--> 217\u001b[0;31m         \u001b[0mv_head_state_dict\u001b[0m \u001b[0;34m=\u001b[0m \u001b[0mself\u001b[0m\u001b[0;34m.\u001b[0m\u001b[0mv_head\u001b[0m\u001b[0;34m.\u001b[0m\u001b[0mstate_dict\u001b[0m\u001b[0;34m(\u001b[0m\u001b[0;34m*\u001b[0m\u001b[0margs\u001b[0m\u001b[0;34m,\u001b[0m \u001b[0;34m**\u001b[0m\u001b[0mkwargs\u001b[0m\u001b[0;34m)\u001b[0m\u001b[0;34m\u001b[0m\u001b[0;34m\u001b[0m\u001b[0m\n\u001b[0m\u001b[1;32m    218\u001b[0m         \u001b[0;32mfor\u001b[0m \u001b[0mk\u001b[0m\u001b[0;34m,\u001b[0m \u001b[0mv\u001b[0m \u001b[0;32min\u001b[0m \u001b[0mv_head_state_dict\u001b[0m\u001b[0;34m.\u001b[0m\u001b[0mitems\u001b[0m\u001b[0;34m(\u001b[0m\u001b[0;34m)\u001b[0m\u001b[0;34m:\u001b[0m\u001b[0;34m\u001b[0m\u001b[0;34m\u001b[0m\u001b[0m\n\u001b[1;32m    219\u001b[0m             \u001b[0mpretrained_model_state_dict\u001b[0m\u001b[0;34m[\u001b[0m\u001b[0;34mf\"v_head.{k}\"\u001b[0m\u001b[0;34m]\u001b[0m \u001b[0;34m=\u001b[0m \u001b[0mv\u001b[0m\u001b[0;34m\u001b[0m\u001b[0;34m\u001b[0m\u001b[0m\n",
            "\u001b[0;31mRuntimeError\u001b[0m: OrderedDict mutated during iteration"
          ]
        }
      ]
    },
    {
      "cell_type": "code",
      "source": [
        "model = transformers.AutoModelForCausalLM.from_pretrained(\"./gpt_2_negative/\", device_map=device)"
      ],
      "metadata": {
        "colab": {
          "base_uri": "https://localhost:8080/"
        },
        "id": "8K1e8MUf2C82",
        "outputId": "c677598a-f113-4829-d6b1-939d000df72a"
      },
      "execution_count": 49,
      "outputs": [
        {
          "output_type": "stream",
          "name": "stderr",
          "text": [
            "Some weights of the model checkpoint at ./gpt_2_negative/ were not used when initializing GPT2LMHeadModel: ['transformer.h.7.attn.c_attn.lora_A.default.weight', 'transformer.h.2.attn.c_attn.lora_B.default.weight', 'transformer.h.1.attn.c_attn.lora_A.default.weight', 'transformer.h.4.attn.c_attn.lora_A.default.weight', 'transformer.h.8.attn.c_attn.lora_B.default.weight', 'transformer.h.11.attn.c_attn.lora_A.default.weight', 'v_head.summary.bias', 'transformer.h.6.attn.c_attn.lora_B.default.weight', 'transformer.h.9.attn.c_attn.lora_B.default.weight', 'transformer.h.3.attn.c_attn.lora_B.default.weight', 'transformer.h.11.attn.c_attn.lora_B.default.weight', 'transformer.h.10.attn.c_attn.lora_B.default.weight', 'transformer.h.0.attn.c_attn.lora_A.default.weight', 'transformer.h.10.attn.c_attn.lora_A.default.weight', 'transformer.h.5.attn.c_attn.lora_B.default.weight', 'transformer.h.9.attn.c_attn.lora_A.default.weight', 'transformer.h.1.attn.c_attn.lora_B.default.weight', 'transformer.h.8.attn.c_attn.lora_A.default.weight', 'transformer.h.7.attn.c_attn.lora_B.default.weight', 'transformer.h.6.attn.c_attn.lora_A.default.weight', 'v_head.summary.weight', 'transformer.h.5.attn.c_attn.lora_A.default.weight', 'transformer.h.2.attn.c_attn.lora_A.default.weight', 'transformer.h.0.attn.c_attn.lora_B.default.weight', 'transformer.h.4.attn.c_attn.lora_B.default.weight', 'transformer.h.3.attn.c_attn.lora_A.default.weight']\n",
            "- This IS expected if you are initializing GPT2LMHeadModel from the checkpoint of a model trained on another task or with another architecture (e.g. initializing a BertForSequenceClassification model from a BertForPreTraining model).\n",
            "- This IS NOT expected if you are initializing GPT2LMHeadModel from the checkpoint of a model that you expect to be exactly identical (initializing a BertForSequenceClassification model from a BertForSequenceClassification model).\n"
          ]
        }
      ]
    },
    {
      "cell_type": "code",
      "execution_count": null,
      "metadata": {
        "id": "wKUxfkeyFN-k"
      },
      "outputs": [],
      "source": [
        "inputs = main_tokenizer([\"The movie\"] * 16, return_tensors='pt').to(device)\n",
        "for candidate in model.generate(**inputs, max_new_tokens=50, do_sample=True):\n",
        "    sample = main_tokenizer.decode(candidate.flatten().cpu().numpy().tolist())\n",
        "    print(\"Sample:\", sample)\n",
        "    sam = reward_tokenizer(\n",
        "        sample, truncation=True, return_tensors='pt').to(device)\n",
        "\n",
        "    with torch.no_grad():\n",
        "      reward = reward_model(**sam).logits[0, 0].item()\n",
        "    print(\"Score:\", reward)\n",
        "    print('='*30)"
      ]
    },
    {
      "cell_type": "markdown",
      "metadata": {
        "id": "Hgtmjtilq6T8"
      },
      "source": [
        "## Main assignment - <u>actually</u> train the model (8 points)\n",
        "\n",
        "\n",
        "Your main task for this week is to use the RLHF pipeline to train a model for a reward of your choice. Here's what you can choose from:\n",
        "\n",
        "__A. Toxicity fine-tuning:__ train the model to be less (or more!) toxic. For this task, you may use the data from [jigsaw toxic comments](https://www.kaggle.com/c/jigsaw-toxic-comment-classification-challenge) and [lmsys/toxic-chat](https://huggingface.co/datasets/lmsys/toxic-chat),  or any other source. Alternatively, you may use toxicity scores from [oasst1](https://huggingface.co/datasets/OpenAssistant/oasst1).\n",
        "\n",
        "\n",
        "__B. Actual human feedback:__ use one of the existing datasets with pairwise human feedback to align your langauge model. You may use [anthropic's hh-rlhf](https://huggingface.co/datasets/Anthropic/hh-rlhf), [OpenAssistant dataset](https://huggingface.co/datasets/OpenAssistant/oasst1) or any other data you see fit. You may also turn the tables and train the model to [minimize](https://habrastorage.org/getpro/geektimes/post_images/ac7/2ad/827/ac72ad82767d4132164a4b6b76196c42.jpg) human preferences, as long as your model does not degrade to gibberish.\n",
        "\n",
        "__C. Controlled generation:__ Instead of training a reward model from human feedback, you may define the reward function as the text length (longer or shorter) or number of times the model uses specific words (e.g. \"sorry\", \"apologize\"). If you choose specific words, make sure the model generates them at least sometimes.\n",
        "\n",
        "__Alternatively,__ you may choose a different task. However, unless your task is very similar to one of the above, there is a chance that it will be **significantly** harder to solve, requiring orders of magnitude more compute and tuning. If you are in doubt, please ask the course staff. If they are AFK (again >.<), please prefer one of the recommended tasks.\n",
        "\n",
        "\n",
        "#### General tips & tricks\n",
        "\n",
        "\n",
        "Things to look out for:\n",
        "- during PPO stage, the reward model should be in eval mode (dropout disabled)\n",
        "- make sure max_length and max_new_tokens are enough for your chosen dataset - at least most of the time\n",
        "- when in doubt, view the data manually or inspect how the model performs on a few samples\n",
        "\n",
        "\n",
        "We highly recommend that you manually check the performance after each sub-stage:\n",
        "1. when you assembled the pairwise dataset, inspect a couple of from of *your* dataset class and detokenize them. Make sure that you-the-human understand why one sample was accepted and the other - rejected. At least most of the time. This also lets you spot tokenization/truncation errors.\n",
        "2. after you trained a reward model, measure how accurate this model is in isolation. If your reward model is poor, any subsequent RLHF will also fail.\n",
        "3. once you've trained the main model with RL, ask it to generate examples and explore how well it does. If it produces an obviously bad output, check if the reward model assigns high reward to that output. If yes, reward model is the culprit; if no, it's a question of better/longer PPO training.\n",
        "\n",
        "__It is also a good idea to periodically print samples during training.__\n",
        "\n",
        "__When stuck, simplify the problem.__ If you've spent a several hours enchanting the reward model but it still won't budge, try switching to a simple subtask. For instance, if you're training on hh-rlhf, try limiting it the dataset to 10% of the shortest sequences - they are typically easier to learn.\n",
        "\n",
        "\n",
        "## Assignment stages (and grading)\n",
        "\n",
        "Regardless of the specific task you chose, your solution needs to contain several parts that will be graded separately.\n",
        "\n",
        "\n",
        "#### Stage 1: reward model (4 points)\n",
        "\n",
        "Construct a dataset for training the reward model on your problem. Then, train a reward model on that dataset and evaluate how well can your model predict preferences on a hold-out (test) subset of your data.\n",
        "\n",
        "Please make sure that the part of your notebook where you evaluate reward model is clearly visible and reasonably easy to read. And for all that is holy, do not call it IMDB unless it actually **is** data of imdb movie reviews :)\n",
        "\n",
        "__Not all tasks require a reward model for later PPO fine-tuning.__ For instance, there's no reason to train a reward model if your reward equals sentence length. Likewise, toxicity reward can be estimated with a pre-trained toxicity classifier. __If your task does not require training a reward model, please train an unrelated model on [hh-rlhf](https://huggingface.co/datasets/Anthropic/hh-rlhf) as though you were solving assignment version B.__ This is for grading purposes only, you won't use this model for stage 2.\n",
        "\n",
        "\n",
        "#### Stage 2: RL fine-tuning (4 points)\n",
        "\n",
        "Once the reward model is ready - or you can compute rewards without a model - it is time to maximize that reward with PPO. Optionally, you may replace PPO with another RL algorithm (or unlikelihood learning scheme), but only if you're feeling adventurous.\n",
        "\n",
        "\n",
        "First, you need to choose a language model to be fine-tuned. You may choose any model, but make sure that your model **can** generate the data in your format. For instance, [Mistral-7B](https://huggingface.co/mistralai/Mistral-7B-v0.1) is a general purpose LM and may (or may not) need prompt engineering to generate chat assistant responses. For that reason, it is best if you **do not use `\"lvwerra/gpt2-imdb\"` unless you're generating only movie reviews**.\n",
        "\n",
        "\n",
        "\n",
        "There are two \"difficulty modes\" for this task:\n",
        "For the **easy mode**, use [gpt2-large](https://huggingface.co/gpt2-large) or [opt-1.3b](https://huggingface.co/facebook/opt-1.3b) with minimal code changes.\n",
        "If you want the **Hard mode:** use a larger (e.g. 7B) model in combination with `load_in_4bit` and LoRA, the same way we did last week.\n",
        "Some reasonable model choices are [LLaMA-7B](https://huggingface.co/Enoch/llama-7b-hf), [Falcon-7b](https://huggingface.co/tiiuae/falcon-7b), [Mistral-7B](https://huggingface.co/mistralai/Mistral-7B-v0.1) for general-purpose LM or [guanaco-7b](https://huggingface.co/timdettmers/guanaco-7b), [vicuna-7b](https://huggingface.co/lmsys/vicuna-7b-v1.5) for chat-based tasks, though there are many more (see [leaderboard](https://huggingface.co/spaces/HuggingFaceH4/open_llm_leaderboard)). In the hard mode, you will need to modify the training arguments to enable 4-bit fine-tuning. Furthermore, your experiments will take somewhat longer to complete. On the plus side, your model will produce significantly better results.\n",
        "\n",
        "__High reward is not enough!__ RL algorithms are famous for [cheating their reward functions](https://openai.com/research/faulty-reward-functions). To ensure that your model is actually doing what you want it to do, you will need some additional evaluation. To get the full grade, provide at least 20 side-by-side examples of your fine-tuned model vs original model predictions and a short summary.\n",
        "\n",
        "Alternatively, you may provide 5 examples and some extrinsic evaluation metric over many examples. For instance, you may use a different pre-trained toxicity score for option A. When dealing with human preferences, you may choose to [enlist actual humans](https://toloka.ai/) or [ask GPT4/Claude](https://arxiv.org/pdf/2304.03277.pdf) to compare your model's predictions. For task C, when optimizing for simple rewards like sentence lengths, it is enough to compare histograms of rewards (e.g. average lengths).\n",
        "\n",
        "\n",
        "\n",
        "\n",
        "\n",
        "\n",
        "\n",
        "\n",
        "\n",
        "\n"
      ]
    },
    {
      "cell_type": "code",
      "execution_count": null,
      "metadata": {
        "id": "3Vb6aFFR0Fwy"
      },
      "outputs": [],
      "source": []
    }
  ],
  "metadata": {
    "accelerator": "GPU",
    "colab": {
      "gpuType": "T4",
      "provenance": []
    },
    "kernelspec": {
      "display_name": "Python 3",
      "name": "python3"
    },
    "language_info": {
      "codemirror_mode": {
        "name": "ipython",
        "version": 3
      },
      "file_extension": ".py",
      "mimetype": "text/x-python",
      "name": "python",
      "nbconvert_exporter": "python",
      "pygments_lexer": "ipython3",
      "version": "3.9.12 (main, Mar 26 2022, 15:51:15) \n[Clang 13.1.6 (clang-1316.0.21.2)]"
    },
    "vscode": {
      "interpreter": {
        "hash": "4c8ff454cd947027f86954d72bf940c689a97dcc494eb53cfe4813862c6065fe"
      }
    },
    "widgets": {
      "application/vnd.jupyter.widget-state+json": {
        "4630b364746947c4b45a338ea6bbdb55": {
          "model_module": "@jupyter-widgets/controls",
          "model_name": "HBoxModel",
          "model_module_version": "1.5.0",
          "state": {
            "_dom_classes": [],
            "_model_module": "@jupyter-widgets/controls",
            "_model_module_version": "1.5.0",
            "_model_name": "HBoxModel",
            "_view_count": null,
            "_view_module": "@jupyter-widgets/controls",
            "_view_module_version": "1.5.0",
            "_view_name": "HBoxView",
            "box_style": "",
            "children": [
              "IPY_MODEL_efeb8b3450c94d4d9433b50f13ade18f",
              "IPY_MODEL_d4815933495c4a16a9fd92ed446c79c0",
              "IPY_MODEL_9e944069f7324cf6bcacd43f5c36ad16"
            ],
            "layout": "IPY_MODEL_4af0ae91ebc74f199204a1ba356111d5"
          }
        },
        "efeb8b3450c94d4d9433b50f13ade18f": {
          "model_module": "@jupyter-widgets/controls",
          "model_name": "HTMLModel",
          "model_module_version": "1.5.0",
          "state": {
            "_dom_classes": [],
            "_model_module": "@jupyter-widgets/controls",
            "_model_module_version": "1.5.0",
            "_model_name": "HTMLModel",
            "_view_count": null,
            "_view_module": "@jupyter-widgets/controls",
            "_view_module_version": "1.5.0",
            "_view_name": "HTMLView",
            "description": "",
            "description_tooltip": null,
            "layout": "IPY_MODEL_c2a640425da1415480c228746eca98d9",
            "placeholder": "​",
            "style": "IPY_MODEL_a44d10cd7daa4c159e3c92f54d7bd441",
            "value": "Generating train split: 100%"
          }
        },
        "d4815933495c4a16a9fd92ed446c79c0": {
          "model_module": "@jupyter-widgets/controls",
          "model_name": "FloatProgressModel",
          "model_module_version": "1.5.0",
          "state": {
            "_dom_classes": [],
            "_model_module": "@jupyter-widgets/controls",
            "_model_module_version": "1.5.0",
            "_model_name": "FloatProgressModel",
            "_view_count": null,
            "_view_module": "@jupyter-widgets/controls",
            "_view_module_version": "1.5.0",
            "_view_name": "ProgressView",
            "bar_style": "success",
            "description": "",
            "description_tooltip": null,
            "layout": "IPY_MODEL_8f4369c61d754340b88c46c471033f1f",
            "max": 25000,
            "min": 0,
            "orientation": "horizontal",
            "style": "IPY_MODEL_d9cd40c15ef646c1864be8fc0ca2c6f5",
            "value": 25000
          }
        },
        "9e944069f7324cf6bcacd43f5c36ad16": {
          "model_module": "@jupyter-widgets/controls",
          "model_name": "HTMLModel",
          "model_module_version": "1.5.0",
          "state": {
            "_dom_classes": [],
            "_model_module": "@jupyter-widgets/controls",
            "_model_module_version": "1.5.0",
            "_model_name": "HTMLModel",
            "_view_count": null,
            "_view_module": "@jupyter-widgets/controls",
            "_view_module_version": "1.5.0",
            "_view_name": "HTMLView",
            "description": "",
            "description_tooltip": null,
            "layout": "IPY_MODEL_748bd240f05e4f348e34c2468ba42aed",
            "placeholder": "​",
            "style": "IPY_MODEL_ad27b2a5da154f16b1e61764b549b072",
            "value": " 25000/25000 [00:00&lt;00:00, 106099.34 examples/s]"
          }
        },
        "4af0ae91ebc74f199204a1ba356111d5": {
          "model_module": "@jupyter-widgets/base",
          "model_name": "LayoutModel",
          "model_module_version": "1.2.0",
          "state": {
            "_model_module": "@jupyter-widgets/base",
            "_model_module_version": "1.2.0",
            "_model_name": "LayoutModel",
            "_view_count": null,
            "_view_module": "@jupyter-widgets/base",
            "_view_module_version": "1.2.0",
            "_view_name": "LayoutView",
            "align_content": null,
            "align_items": null,
            "align_self": null,
            "border": null,
            "bottom": null,
            "display": null,
            "flex": null,
            "flex_flow": null,
            "grid_area": null,
            "grid_auto_columns": null,
            "grid_auto_flow": null,
            "grid_auto_rows": null,
            "grid_column": null,
            "grid_gap": null,
            "grid_row": null,
            "grid_template_areas": null,
            "grid_template_columns": null,
            "grid_template_rows": null,
            "height": null,
            "justify_content": null,
            "justify_items": null,
            "left": null,
            "margin": null,
            "max_height": null,
            "max_width": null,
            "min_height": null,
            "min_width": null,
            "object_fit": null,
            "object_position": null,
            "order": null,
            "overflow": null,
            "overflow_x": null,
            "overflow_y": null,
            "padding": null,
            "right": null,
            "top": null,
            "visibility": null,
            "width": null
          }
        },
        "c2a640425da1415480c228746eca98d9": {
          "model_module": "@jupyter-widgets/base",
          "model_name": "LayoutModel",
          "model_module_version": "1.2.0",
          "state": {
            "_model_module": "@jupyter-widgets/base",
            "_model_module_version": "1.2.0",
            "_model_name": "LayoutModel",
            "_view_count": null,
            "_view_module": "@jupyter-widgets/base",
            "_view_module_version": "1.2.0",
            "_view_name": "LayoutView",
            "align_content": null,
            "align_items": null,
            "align_self": null,
            "border": null,
            "bottom": null,
            "display": null,
            "flex": null,
            "flex_flow": null,
            "grid_area": null,
            "grid_auto_columns": null,
            "grid_auto_flow": null,
            "grid_auto_rows": null,
            "grid_column": null,
            "grid_gap": null,
            "grid_row": null,
            "grid_template_areas": null,
            "grid_template_columns": null,
            "grid_template_rows": null,
            "height": null,
            "justify_content": null,
            "justify_items": null,
            "left": null,
            "margin": null,
            "max_height": null,
            "max_width": null,
            "min_height": null,
            "min_width": null,
            "object_fit": null,
            "object_position": null,
            "order": null,
            "overflow": null,
            "overflow_x": null,
            "overflow_y": null,
            "padding": null,
            "right": null,
            "top": null,
            "visibility": null,
            "width": null
          }
        },
        "a44d10cd7daa4c159e3c92f54d7bd441": {
          "model_module": "@jupyter-widgets/controls",
          "model_name": "DescriptionStyleModel",
          "model_module_version": "1.5.0",
          "state": {
            "_model_module": "@jupyter-widgets/controls",
            "_model_module_version": "1.5.0",
            "_model_name": "DescriptionStyleModel",
            "_view_count": null,
            "_view_module": "@jupyter-widgets/base",
            "_view_module_version": "1.2.0",
            "_view_name": "StyleView",
            "description_width": ""
          }
        },
        "8f4369c61d754340b88c46c471033f1f": {
          "model_module": "@jupyter-widgets/base",
          "model_name": "LayoutModel",
          "model_module_version": "1.2.0",
          "state": {
            "_model_module": "@jupyter-widgets/base",
            "_model_module_version": "1.2.0",
            "_model_name": "LayoutModel",
            "_view_count": null,
            "_view_module": "@jupyter-widgets/base",
            "_view_module_version": "1.2.0",
            "_view_name": "LayoutView",
            "align_content": null,
            "align_items": null,
            "align_self": null,
            "border": null,
            "bottom": null,
            "display": null,
            "flex": null,
            "flex_flow": null,
            "grid_area": null,
            "grid_auto_columns": null,
            "grid_auto_flow": null,
            "grid_auto_rows": null,
            "grid_column": null,
            "grid_gap": null,
            "grid_row": null,
            "grid_template_areas": null,
            "grid_template_columns": null,
            "grid_template_rows": null,
            "height": null,
            "justify_content": null,
            "justify_items": null,
            "left": null,
            "margin": null,
            "max_height": null,
            "max_width": null,
            "min_height": null,
            "min_width": null,
            "object_fit": null,
            "object_position": null,
            "order": null,
            "overflow": null,
            "overflow_x": null,
            "overflow_y": null,
            "padding": null,
            "right": null,
            "top": null,
            "visibility": null,
            "width": null
          }
        },
        "d9cd40c15ef646c1864be8fc0ca2c6f5": {
          "model_module": "@jupyter-widgets/controls",
          "model_name": "ProgressStyleModel",
          "model_module_version": "1.5.0",
          "state": {
            "_model_module": "@jupyter-widgets/controls",
            "_model_module_version": "1.5.0",
            "_model_name": "ProgressStyleModel",
            "_view_count": null,
            "_view_module": "@jupyter-widgets/base",
            "_view_module_version": "1.2.0",
            "_view_name": "StyleView",
            "bar_color": null,
            "description_width": ""
          }
        },
        "748bd240f05e4f348e34c2468ba42aed": {
          "model_module": "@jupyter-widgets/base",
          "model_name": "LayoutModel",
          "model_module_version": "1.2.0",
          "state": {
            "_model_module": "@jupyter-widgets/base",
            "_model_module_version": "1.2.0",
            "_model_name": "LayoutModel",
            "_view_count": null,
            "_view_module": "@jupyter-widgets/base",
            "_view_module_version": "1.2.0",
            "_view_name": "LayoutView",
            "align_content": null,
            "align_items": null,
            "align_self": null,
            "border": null,
            "bottom": null,
            "display": null,
            "flex": null,
            "flex_flow": null,
            "grid_area": null,
            "grid_auto_columns": null,
            "grid_auto_flow": null,
            "grid_auto_rows": null,
            "grid_column": null,
            "grid_gap": null,
            "grid_row": null,
            "grid_template_areas": null,
            "grid_template_columns": null,
            "grid_template_rows": null,
            "height": null,
            "justify_content": null,
            "justify_items": null,
            "left": null,
            "margin": null,
            "max_height": null,
            "max_width": null,
            "min_height": null,
            "min_width": null,
            "object_fit": null,
            "object_position": null,
            "order": null,
            "overflow": null,
            "overflow_x": null,
            "overflow_y": null,
            "padding": null,
            "right": null,
            "top": null,
            "visibility": null,
            "width": null
          }
        },
        "ad27b2a5da154f16b1e61764b549b072": {
          "model_module": "@jupyter-widgets/controls",
          "model_name": "DescriptionStyleModel",
          "model_module_version": "1.5.0",
          "state": {
            "_model_module": "@jupyter-widgets/controls",
            "_model_module_version": "1.5.0",
            "_model_name": "DescriptionStyleModel",
            "_view_count": null,
            "_view_module": "@jupyter-widgets/base",
            "_view_module_version": "1.2.0",
            "_view_name": "StyleView",
            "description_width": ""
          }
        },
        "1319f0620a1f4ea6a9ba4ef8e36ee785": {
          "model_module": "@jupyter-widgets/controls",
          "model_name": "HBoxModel",
          "model_module_version": "1.5.0",
          "state": {
            "_dom_classes": [],
            "_model_module": "@jupyter-widgets/controls",
            "_model_module_version": "1.5.0",
            "_model_name": "HBoxModel",
            "_view_count": null,
            "_view_module": "@jupyter-widgets/controls",
            "_view_module_version": "1.5.0",
            "_view_name": "HBoxView",
            "box_style": "",
            "children": [
              "IPY_MODEL_bc6aef998ddf41278aab7fe42b108a4a",
              "IPY_MODEL_8ecfe8fd584546d284f97fbba503a55e",
              "IPY_MODEL_49b784f096bc4bef820ab3ee0ad46fb9"
            ],
            "layout": "IPY_MODEL_4a02bb2d32374c9c9e9c93226a63315e"
          }
        },
        "bc6aef998ddf41278aab7fe42b108a4a": {
          "model_module": "@jupyter-widgets/controls",
          "model_name": "HTMLModel",
          "model_module_version": "1.5.0",
          "state": {
            "_dom_classes": [],
            "_model_module": "@jupyter-widgets/controls",
            "_model_module_version": "1.5.0",
            "_model_name": "HTMLModel",
            "_view_count": null,
            "_view_module": "@jupyter-widgets/controls",
            "_view_module_version": "1.5.0",
            "_view_name": "HTMLView",
            "description": "",
            "description_tooltip": null,
            "layout": "IPY_MODEL_a1fe2403659f4a38866a817963290661",
            "placeholder": "​",
            "style": "IPY_MODEL_e8c8298cdcbf491aa6426f1ffeca0be7",
            "value": "Generating test split: 100%"
          }
        },
        "8ecfe8fd584546d284f97fbba503a55e": {
          "model_module": "@jupyter-widgets/controls",
          "model_name": "FloatProgressModel",
          "model_module_version": "1.5.0",
          "state": {
            "_dom_classes": [],
            "_model_module": "@jupyter-widgets/controls",
            "_model_module_version": "1.5.0",
            "_model_name": "FloatProgressModel",
            "_view_count": null,
            "_view_module": "@jupyter-widgets/controls",
            "_view_module_version": "1.5.0",
            "_view_name": "ProgressView",
            "bar_style": "success",
            "description": "",
            "description_tooltip": null,
            "layout": "IPY_MODEL_a86919b9e777401691aefb91d79538e7",
            "max": 25000,
            "min": 0,
            "orientation": "horizontal",
            "style": "IPY_MODEL_376c62c3ce214c4fb6c0cbc6db982527",
            "value": 25000
          }
        },
        "49b784f096bc4bef820ab3ee0ad46fb9": {
          "model_module": "@jupyter-widgets/controls",
          "model_name": "HTMLModel",
          "model_module_version": "1.5.0",
          "state": {
            "_dom_classes": [],
            "_model_module": "@jupyter-widgets/controls",
            "_model_module_version": "1.5.0",
            "_model_name": "HTMLModel",
            "_view_count": null,
            "_view_module": "@jupyter-widgets/controls",
            "_view_module_version": "1.5.0",
            "_view_name": "HTMLView",
            "description": "",
            "description_tooltip": null,
            "layout": "IPY_MODEL_4d5418d5402a4185b7a3d8791f4b78f6",
            "placeholder": "​",
            "style": "IPY_MODEL_cb5fccf4475c401e83c4bbbb3f55b9db",
            "value": " 25000/25000 [00:00&lt;00:00, 132025.49 examples/s]"
          }
        },
        "4a02bb2d32374c9c9e9c93226a63315e": {
          "model_module": "@jupyter-widgets/base",
          "model_name": "LayoutModel",
          "model_module_version": "1.2.0",
          "state": {
            "_model_module": "@jupyter-widgets/base",
            "_model_module_version": "1.2.0",
            "_model_name": "LayoutModel",
            "_view_count": null,
            "_view_module": "@jupyter-widgets/base",
            "_view_module_version": "1.2.0",
            "_view_name": "LayoutView",
            "align_content": null,
            "align_items": null,
            "align_self": null,
            "border": null,
            "bottom": null,
            "display": null,
            "flex": null,
            "flex_flow": null,
            "grid_area": null,
            "grid_auto_columns": null,
            "grid_auto_flow": null,
            "grid_auto_rows": null,
            "grid_column": null,
            "grid_gap": null,
            "grid_row": null,
            "grid_template_areas": null,
            "grid_template_columns": null,
            "grid_template_rows": null,
            "height": null,
            "justify_content": null,
            "justify_items": null,
            "left": null,
            "margin": null,
            "max_height": null,
            "max_width": null,
            "min_height": null,
            "min_width": null,
            "object_fit": null,
            "object_position": null,
            "order": null,
            "overflow": null,
            "overflow_x": null,
            "overflow_y": null,
            "padding": null,
            "right": null,
            "top": null,
            "visibility": null,
            "width": null
          }
        },
        "a1fe2403659f4a38866a817963290661": {
          "model_module": "@jupyter-widgets/base",
          "model_name": "LayoutModel",
          "model_module_version": "1.2.0",
          "state": {
            "_model_module": "@jupyter-widgets/base",
            "_model_module_version": "1.2.0",
            "_model_name": "LayoutModel",
            "_view_count": null,
            "_view_module": "@jupyter-widgets/base",
            "_view_module_version": "1.2.0",
            "_view_name": "LayoutView",
            "align_content": null,
            "align_items": null,
            "align_self": null,
            "border": null,
            "bottom": null,
            "display": null,
            "flex": null,
            "flex_flow": null,
            "grid_area": null,
            "grid_auto_columns": null,
            "grid_auto_flow": null,
            "grid_auto_rows": null,
            "grid_column": null,
            "grid_gap": null,
            "grid_row": null,
            "grid_template_areas": null,
            "grid_template_columns": null,
            "grid_template_rows": null,
            "height": null,
            "justify_content": null,
            "justify_items": null,
            "left": null,
            "margin": null,
            "max_height": null,
            "max_width": null,
            "min_height": null,
            "min_width": null,
            "object_fit": null,
            "object_position": null,
            "order": null,
            "overflow": null,
            "overflow_x": null,
            "overflow_y": null,
            "padding": null,
            "right": null,
            "top": null,
            "visibility": null,
            "width": null
          }
        },
        "e8c8298cdcbf491aa6426f1ffeca0be7": {
          "model_module": "@jupyter-widgets/controls",
          "model_name": "DescriptionStyleModel",
          "model_module_version": "1.5.0",
          "state": {
            "_model_module": "@jupyter-widgets/controls",
            "_model_module_version": "1.5.0",
            "_model_name": "DescriptionStyleModel",
            "_view_count": null,
            "_view_module": "@jupyter-widgets/base",
            "_view_module_version": "1.2.0",
            "_view_name": "StyleView",
            "description_width": ""
          }
        },
        "a86919b9e777401691aefb91d79538e7": {
          "model_module": "@jupyter-widgets/base",
          "model_name": "LayoutModel",
          "model_module_version": "1.2.0",
          "state": {
            "_model_module": "@jupyter-widgets/base",
            "_model_module_version": "1.2.0",
            "_model_name": "LayoutModel",
            "_view_count": null,
            "_view_module": "@jupyter-widgets/base",
            "_view_module_version": "1.2.0",
            "_view_name": "LayoutView",
            "align_content": null,
            "align_items": null,
            "align_self": null,
            "border": null,
            "bottom": null,
            "display": null,
            "flex": null,
            "flex_flow": null,
            "grid_area": null,
            "grid_auto_columns": null,
            "grid_auto_flow": null,
            "grid_auto_rows": null,
            "grid_column": null,
            "grid_gap": null,
            "grid_row": null,
            "grid_template_areas": null,
            "grid_template_columns": null,
            "grid_template_rows": null,
            "height": null,
            "justify_content": null,
            "justify_items": null,
            "left": null,
            "margin": null,
            "max_height": null,
            "max_width": null,
            "min_height": null,
            "min_width": null,
            "object_fit": null,
            "object_position": null,
            "order": null,
            "overflow": null,
            "overflow_x": null,
            "overflow_y": null,
            "padding": null,
            "right": null,
            "top": null,
            "visibility": null,
            "width": null
          }
        },
        "376c62c3ce214c4fb6c0cbc6db982527": {
          "model_module": "@jupyter-widgets/controls",
          "model_name": "ProgressStyleModel",
          "model_module_version": "1.5.0",
          "state": {
            "_model_module": "@jupyter-widgets/controls",
            "_model_module_version": "1.5.0",
            "_model_name": "ProgressStyleModel",
            "_view_count": null,
            "_view_module": "@jupyter-widgets/base",
            "_view_module_version": "1.2.0",
            "_view_name": "StyleView",
            "bar_color": null,
            "description_width": ""
          }
        },
        "4d5418d5402a4185b7a3d8791f4b78f6": {
          "model_module": "@jupyter-widgets/base",
          "model_name": "LayoutModel",
          "model_module_version": "1.2.0",
          "state": {
            "_model_module": "@jupyter-widgets/base",
            "_model_module_version": "1.2.0",
            "_model_name": "LayoutModel",
            "_view_count": null,
            "_view_module": "@jupyter-widgets/base",
            "_view_module_version": "1.2.0",
            "_view_name": "LayoutView",
            "align_content": null,
            "align_items": null,
            "align_self": null,
            "border": null,
            "bottom": null,
            "display": null,
            "flex": null,
            "flex_flow": null,
            "grid_area": null,
            "grid_auto_columns": null,
            "grid_auto_flow": null,
            "grid_auto_rows": null,
            "grid_column": null,
            "grid_gap": null,
            "grid_row": null,
            "grid_template_areas": null,
            "grid_template_columns": null,
            "grid_template_rows": null,
            "height": null,
            "justify_content": null,
            "justify_items": null,
            "left": null,
            "margin": null,
            "max_height": null,
            "max_width": null,
            "min_height": null,
            "min_width": null,
            "object_fit": null,
            "object_position": null,
            "order": null,
            "overflow": null,
            "overflow_x": null,
            "overflow_y": null,
            "padding": null,
            "right": null,
            "top": null,
            "visibility": null,
            "width": null
          }
        },
        "cb5fccf4475c401e83c4bbbb3f55b9db": {
          "model_module": "@jupyter-widgets/controls",
          "model_name": "DescriptionStyleModel",
          "model_module_version": "1.5.0",
          "state": {
            "_model_module": "@jupyter-widgets/controls",
            "_model_module_version": "1.5.0",
            "_model_name": "DescriptionStyleModel",
            "_view_count": null,
            "_view_module": "@jupyter-widgets/base",
            "_view_module_version": "1.2.0",
            "_view_name": "StyleView",
            "description_width": ""
          }
        },
        "b00c51085d5d46ce8f66e44178fa23c5": {
          "model_module": "@jupyter-widgets/controls",
          "model_name": "HBoxModel",
          "model_module_version": "1.5.0",
          "state": {
            "_dom_classes": [],
            "_model_module": "@jupyter-widgets/controls",
            "_model_module_version": "1.5.0",
            "_model_name": "HBoxModel",
            "_view_count": null,
            "_view_module": "@jupyter-widgets/controls",
            "_view_module_version": "1.5.0",
            "_view_name": "HBoxView",
            "box_style": "",
            "children": [
              "IPY_MODEL_33c5e9d4f5ae4b008e0b3cdfbec196e8",
              "IPY_MODEL_9a54967233f6450abd2ea756fa414436",
              "IPY_MODEL_ce87cd7f147c4d77b311ecc703fb2cfe"
            ],
            "layout": "IPY_MODEL_fdde2d58076d41d5b3f3a62c963506cc"
          }
        },
        "33c5e9d4f5ae4b008e0b3cdfbec196e8": {
          "model_module": "@jupyter-widgets/controls",
          "model_name": "HTMLModel",
          "model_module_version": "1.5.0",
          "state": {
            "_dom_classes": [],
            "_model_module": "@jupyter-widgets/controls",
            "_model_module_version": "1.5.0",
            "_model_name": "HTMLModel",
            "_view_count": null,
            "_view_module": "@jupyter-widgets/controls",
            "_view_module_version": "1.5.0",
            "_view_name": "HTMLView",
            "description": "",
            "description_tooltip": null,
            "layout": "IPY_MODEL_081adae6574e478487846965a0ba0bb3",
            "placeholder": "​",
            "style": "IPY_MODEL_c6f1acf69f5a4973948394711b75cf63",
            "value": "Generating unsupervised split: 100%"
          }
        },
        "9a54967233f6450abd2ea756fa414436": {
          "model_module": "@jupyter-widgets/controls",
          "model_name": "FloatProgressModel",
          "model_module_version": "1.5.0",
          "state": {
            "_dom_classes": [],
            "_model_module": "@jupyter-widgets/controls",
            "_model_module_version": "1.5.0",
            "_model_name": "FloatProgressModel",
            "_view_count": null,
            "_view_module": "@jupyter-widgets/controls",
            "_view_module_version": "1.5.0",
            "_view_name": "ProgressView",
            "bar_style": "success",
            "description": "",
            "description_tooltip": null,
            "layout": "IPY_MODEL_d3873ee06454413084a994668db47c6c",
            "max": 50000,
            "min": 0,
            "orientation": "horizontal",
            "style": "IPY_MODEL_f8ae0ae8d77b4c858cecf30b19e6418c",
            "value": 50000
          }
        },
        "ce87cd7f147c4d77b311ecc703fb2cfe": {
          "model_module": "@jupyter-widgets/controls",
          "model_name": "HTMLModel",
          "model_module_version": "1.5.0",
          "state": {
            "_dom_classes": [],
            "_model_module": "@jupyter-widgets/controls",
            "_model_module_version": "1.5.0",
            "_model_name": "HTMLModel",
            "_view_count": null,
            "_view_module": "@jupyter-widgets/controls",
            "_view_module_version": "1.5.0",
            "_view_name": "HTMLView",
            "description": "",
            "description_tooltip": null,
            "layout": "IPY_MODEL_f1917f56a194420d8d69a0d837a411f0",
            "placeholder": "​",
            "style": "IPY_MODEL_9faa3bfcb2264caa8cab7c751c22275a",
            "value": " 50000/50000 [00:00&lt;00:00, 128305.22 examples/s]"
          }
        },
        "fdde2d58076d41d5b3f3a62c963506cc": {
          "model_module": "@jupyter-widgets/base",
          "model_name": "LayoutModel",
          "model_module_version": "1.2.0",
          "state": {
            "_model_module": "@jupyter-widgets/base",
            "_model_module_version": "1.2.0",
            "_model_name": "LayoutModel",
            "_view_count": null,
            "_view_module": "@jupyter-widgets/base",
            "_view_module_version": "1.2.0",
            "_view_name": "LayoutView",
            "align_content": null,
            "align_items": null,
            "align_self": null,
            "border": null,
            "bottom": null,
            "display": null,
            "flex": null,
            "flex_flow": null,
            "grid_area": null,
            "grid_auto_columns": null,
            "grid_auto_flow": null,
            "grid_auto_rows": null,
            "grid_column": null,
            "grid_gap": null,
            "grid_row": null,
            "grid_template_areas": null,
            "grid_template_columns": null,
            "grid_template_rows": null,
            "height": null,
            "justify_content": null,
            "justify_items": null,
            "left": null,
            "margin": null,
            "max_height": null,
            "max_width": null,
            "min_height": null,
            "min_width": null,
            "object_fit": null,
            "object_position": null,
            "order": null,
            "overflow": null,
            "overflow_x": null,
            "overflow_y": null,
            "padding": null,
            "right": null,
            "top": null,
            "visibility": null,
            "width": null
          }
        },
        "081adae6574e478487846965a0ba0bb3": {
          "model_module": "@jupyter-widgets/base",
          "model_name": "LayoutModel",
          "model_module_version": "1.2.0",
          "state": {
            "_model_module": "@jupyter-widgets/base",
            "_model_module_version": "1.2.0",
            "_model_name": "LayoutModel",
            "_view_count": null,
            "_view_module": "@jupyter-widgets/base",
            "_view_module_version": "1.2.0",
            "_view_name": "LayoutView",
            "align_content": null,
            "align_items": null,
            "align_self": null,
            "border": null,
            "bottom": null,
            "display": null,
            "flex": null,
            "flex_flow": null,
            "grid_area": null,
            "grid_auto_columns": null,
            "grid_auto_flow": null,
            "grid_auto_rows": null,
            "grid_column": null,
            "grid_gap": null,
            "grid_row": null,
            "grid_template_areas": null,
            "grid_template_columns": null,
            "grid_template_rows": null,
            "height": null,
            "justify_content": null,
            "justify_items": null,
            "left": null,
            "margin": null,
            "max_height": null,
            "max_width": null,
            "min_height": null,
            "min_width": null,
            "object_fit": null,
            "object_position": null,
            "order": null,
            "overflow": null,
            "overflow_x": null,
            "overflow_y": null,
            "padding": null,
            "right": null,
            "top": null,
            "visibility": null,
            "width": null
          }
        },
        "c6f1acf69f5a4973948394711b75cf63": {
          "model_module": "@jupyter-widgets/controls",
          "model_name": "DescriptionStyleModel",
          "model_module_version": "1.5.0",
          "state": {
            "_model_module": "@jupyter-widgets/controls",
            "_model_module_version": "1.5.0",
            "_model_name": "DescriptionStyleModel",
            "_view_count": null,
            "_view_module": "@jupyter-widgets/base",
            "_view_module_version": "1.2.0",
            "_view_name": "StyleView",
            "description_width": ""
          }
        },
        "d3873ee06454413084a994668db47c6c": {
          "model_module": "@jupyter-widgets/base",
          "model_name": "LayoutModel",
          "model_module_version": "1.2.0",
          "state": {
            "_model_module": "@jupyter-widgets/base",
            "_model_module_version": "1.2.0",
            "_model_name": "LayoutModel",
            "_view_count": null,
            "_view_module": "@jupyter-widgets/base",
            "_view_module_version": "1.2.0",
            "_view_name": "LayoutView",
            "align_content": null,
            "align_items": null,
            "align_self": null,
            "border": null,
            "bottom": null,
            "display": null,
            "flex": null,
            "flex_flow": null,
            "grid_area": null,
            "grid_auto_columns": null,
            "grid_auto_flow": null,
            "grid_auto_rows": null,
            "grid_column": null,
            "grid_gap": null,
            "grid_row": null,
            "grid_template_areas": null,
            "grid_template_columns": null,
            "grid_template_rows": null,
            "height": null,
            "justify_content": null,
            "justify_items": null,
            "left": null,
            "margin": null,
            "max_height": null,
            "max_width": null,
            "min_height": null,
            "min_width": null,
            "object_fit": null,
            "object_position": null,
            "order": null,
            "overflow": null,
            "overflow_x": null,
            "overflow_y": null,
            "padding": null,
            "right": null,
            "top": null,
            "visibility": null,
            "width": null
          }
        },
        "f8ae0ae8d77b4c858cecf30b19e6418c": {
          "model_module": "@jupyter-widgets/controls",
          "model_name": "ProgressStyleModel",
          "model_module_version": "1.5.0",
          "state": {
            "_model_module": "@jupyter-widgets/controls",
            "_model_module_version": "1.5.0",
            "_model_name": "ProgressStyleModel",
            "_view_count": null,
            "_view_module": "@jupyter-widgets/base",
            "_view_module_version": "1.2.0",
            "_view_name": "StyleView",
            "bar_color": null,
            "description_width": ""
          }
        },
        "f1917f56a194420d8d69a0d837a411f0": {
          "model_module": "@jupyter-widgets/base",
          "model_name": "LayoutModel",
          "model_module_version": "1.2.0",
          "state": {
            "_model_module": "@jupyter-widgets/base",
            "_model_module_version": "1.2.0",
            "_model_name": "LayoutModel",
            "_view_count": null,
            "_view_module": "@jupyter-widgets/base",
            "_view_module_version": "1.2.0",
            "_view_name": "LayoutView",
            "align_content": null,
            "align_items": null,
            "align_self": null,
            "border": null,
            "bottom": null,
            "display": null,
            "flex": null,
            "flex_flow": null,
            "grid_area": null,
            "grid_auto_columns": null,
            "grid_auto_flow": null,
            "grid_auto_rows": null,
            "grid_column": null,
            "grid_gap": null,
            "grid_row": null,
            "grid_template_areas": null,
            "grid_template_columns": null,
            "grid_template_rows": null,
            "height": null,
            "justify_content": null,
            "justify_items": null,
            "left": null,
            "margin": null,
            "max_height": null,
            "max_width": null,
            "min_height": null,
            "min_width": null,
            "object_fit": null,
            "object_position": null,
            "order": null,
            "overflow": null,
            "overflow_x": null,
            "overflow_y": null,
            "padding": null,
            "right": null,
            "top": null,
            "visibility": null,
            "width": null
          }
        },
        "9faa3bfcb2264caa8cab7c751c22275a": {
          "model_module": "@jupyter-widgets/controls",
          "model_name": "DescriptionStyleModel",
          "model_module_version": "1.5.0",
          "state": {
            "_model_module": "@jupyter-widgets/controls",
            "_model_module_version": "1.5.0",
            "_model_name": "DescriptionStyleModel",
            "_view_count": null,
            "_view_module": "@jupyter-widgets/base",
            "_view_module_version": "1.2.0",
            "_view_name": "StyleView",
            "description_width": ""
          }
        },
        "61ad0ffa0cf64efea77c38df049bb6f1": {
          "model_module": "@jupyter-widgets/controls",
          "model_name": "HBoxModel",
          "model_module_version": "1.5.0",
          "state": {
            "_dom_classes": [],
            "_model_module": "@jupyter-widgets/controls",
            "_model_module_version": "1.5.0",
            "_model_name": "HBoxModel",
            "_view_count": null,
            "_view_module": "@jupyter-widgets/controls",
            "_view_module_version": "1.5.0",
            "_view_name": "HBoxView",
            "box_style": "",
            "children": [
              "IPY_MODEL_594d5c459b5e4f1597c6873ac39f2309",
              "IPY_MODEL_422b69b94b5d4917aa77ea9503600fe6",
              "IPY_MODEL_3e14d97610d44213a71aaae757c4163e"
            ],
            "layout": "IPY_MODEL_090368b3d82a4af59030f71eab443ab5"
          }
        },
        "594d5c459b5e4f1597c6873ac39f2309": {
          "model_module": "@jupyter-widgets/controls",
          "model_name": "HTMLModel",
          "model_module_version": "1.5.0",
          "state": {
            "_dom_classes": [],
            "_model_module": "@jupyter-widgets/controls",
            "_model_module_version": "1.5.0",
            "_model_name": "HTMLModel",
            "_view_count": null,
            "_view_module": "@jupyter-widgets/controls",
            "_view_module_version": "1.5.0",
            "_view_name": "HTMLView",
            "description": "",
            "description_tooltip": null,
            "layout": "IPY_MODEL_fbc8f392c3d244d8b0839366291a6be9",
            "placeholder": "​",
            "style": "IPY_MODEL_6a7968930ec34352bccf4b60a3f3fc4a",
            "value": "Filter: 100%"
          }
        },
        "422b69b94b5d4917aa77ea9503600fe6": {
          "model_module": "@jupyter-widgets/controls",
          "model_name": "FloatProgressModel",
          "model_module_version": "1.5.0",
          "state": {
            "_dom_classes": [],
            "_model_module": "@jupyter-widgets/controls",
            "_model_module_version": "1.5.0",
            "_model_name": "FloatProgressModel",
            "_view_count": null,
            "_view_module": "@jupyter-widgets/controls",
            "_view_module_version": "1.5.0",
            "_view_name": "ProgressView",
            "bar_style": "success",
            "description": "",
            "description_tooltip": null,
            "layout": "IPY_MODEL_f78385b0190d4c5f835fa598bb912b64",
            "max": 25000,
            "min": 0,
            "orientation": "horizontal",
            "style": "IPY_MODEL_10f4aa756efa490e936d068cd0ae8677",
            "value": 25000
          }
        },
        "3e14d97610d44213a71aaae757c4163e": {
          "model_module": "@jupyter-widgets/controls",
          "model_name": "HTMLModel",
          "model_module_version": "1.5.0",
          "state": {
            "_dom_classes": [],
            "_model_module": "@jupyter-widgets/controls",
            "_model_module_version": "1.5.0",
            "_model_name": "HTMLModel",
            "_view_count": null,
            "_view_module": "@jupyter-widgets/controls",
            "_view_module_version": "1.5.0",
            "_view_name": "HTMLView",
            "description": "",
            "description_tooltip": null,
            "layout": "IPY_MODEL_a94179a047ed458c9c4a4711a0123e67",
            "placeholder": "​",
            "style": "IPY_MODEL_f502f78606df4c7f9da28a95a19f4e53",
            "value": " 25000/25000 [00:00&lt;00:00, 168114.15 examples/s]"
          }
        },
        "090368b3d82a4af59030f71eab443ab5": {
          "model_module": "@jupyter-widgets/base",
          "model_name": "LayoutModel",
          "model_module_version": "1.2.0",
          "state": {
            "_model_module": "@jupyter-widgets/base",
            "_model_module_version": "1.2.0",
            "_model_name": "LayoutModel",
            "_view_count": null,
            "_view_module": "@jupyter-widgets/base",
            "_view_module_version": "1.2.0",
            "_view_name": "LayoutView",
            "align_content": null,
            "align_items": null,
            "align_self": null,
            "border": null,
            "bottom": null,
            "display": null,
            "flex": null,
            "flex_flow": null,
            "grid_area": null,
            "grid_auto_columns": null,
            "grid_auto_flow": null,
            "grid_auto_rows": null,
            "grid_column": null,
            "grid_gap": null,
            "grid_row": null,
            "grid_template_areas": null,
            "grid_template_columns": null,
            "grid_template_rows": null,
            "height": null,
            "justify_content": null,
            "justify_items": null,
            "left": null,
            "margin": null,
            "max_height": null,
            "max_width": null,
            "min_height": null,
            "min_width": null,
            "object_fit": null,
            "object_position": null,
            "order": null,
            "overflow": null,
            "overflow_x": null,
            "overflow_y": null,
            "padding": null,
            "right": null,
            "top": null,
            "visibility": null,
            "width": null
          }
        },
        "fbc8f392c3d244d8b0839366291a6be9": {
          "model_module": "@jupyter-widgets/base",
          "model_name": "LayoutModel",
          "model_module_version": "1.2.0",
          "state": {
            "_model_module": "@jupyter-widgets/base",
            "_model_module_version": "1.2.0",
            "_model_name": "LayoutModel",
            "_view_count": null,
            "_view_module": "@jupyter-widgets/base",
            "_view_module_version": "1.2.0",
            "_view_name": "LayoutView",
            "align_content": null,
            "align_items": null,
            "align_self": null,
            "border": null,
            "bottom": null,
            "display": null,
            "flex": null,
            "flex_flow": null,
            "grid_area": null,
            "grid_auto_columns": null,
            "grid_auto_flow": null,
            "grid_auto_rows": null,
            "grid_column": null,
            "grid_gap": null,
            "grid_row": null,
            "grid_template_areas": null,
            "grid_template_columns": null,
            "grid_template_rows": null,
            "height": null,
            "justify_content": null,
            "justify_items": null,
            "left": null,
            "margin": null,
            "max_height": null,
            "max_width": null,
            "min_height": null,
            "min_width": null,
            "object_fit": null,
            "object_position": null,
            "order": null,
            "overflow": null,
            "overflow_x": null,
            "overflow_y": null,
            "padding": null,
            "right": null,
            "top": null,
            "visibility": null,
            "width": null
          }
        },
        "6a7968930ec34352bccf4b60a3f3fc4a": {
          "model_module": "@jupyter-widgets/controls",
          "model_name": "DescriptionStyleModel",
          "model_module_version": "1.5.0",
          "state": {
            "_model_module": "@jupyter-widgets/controls",
            "_model_module_version": "1.5.0",
            "_model_name": "DescriptionStyleModel",
            "_view_count": null,
            "_view_module": "@jupyter-widgets/base",
            "_view_module_version": "1.2.0",
            "_view_name": "StyleView",
            "description_width": ""
          }
        },
        "f78385b0190d4c5f835fa598bb912b64": {
          "model_module": "@jupyter-widgets/base",
          "model_name": "LayoutModel",
          "model_module_version": "1.2.0",
          "state": {
            "_model_module": "@jupyter-widgets/base",
            "_model_module_version": "1.2.0",
            "_model_name": "LayoutModel",
            "_view_count": null,
            "_view_module": "@jupyter-widgets/base",
            "_view_module_version": "1.2.0",
            "_view_name": "LayoutView",
            "align_content": null,
            "align_items": null,
            "align_self": null,
            "border": null,
            "bottom": null,
            "display": null,
            "flex": null,
            "flex_flow": null,
            "grid_area": null,
            "grid_auto_columns": null,
            "grid_auto_flow": null,
            "grid_auto_rows": null,
            "grid_column": null,
            "grid_gap": null,
            "grid_row": null,
            "grid_template_areas": null,
            "grid_template_columns": null,
            "grid_template_rows": null,
            "height": null,
            "justify_content": null,
            "justify_items": null,
            "left": null,
            "margin": null,
            "max_height": null,
            "max_width": null,
            "min_height": null,
            "min_width": null,
            "object_fit": null,
            "object_position": null,
            "order": null,
            "overflow": null,
            "overflow_x": null,
            "overflow_y": null,
            "padding": null,
            "right": null,
            "top": null,
            "visibility": null,
            "width": null
          }
        },
        "10f4aa756efa490e936d068cd0ae8677": {
          "model_module": "@jupyter-widgets/controls",
          "model_name": "ProgressStyleModel",
          "model_module_version": "1.5.0",
          "state": {
            "_model_module": "@jupyter-widgets/controls",
            "_model_module_version": "1.5.0",
            "_model_name": "ProgressStyleModel",
            "_view_count": null,
            "_view_module": "@jupyter-widgets/base",
            "_view_module_version": "1.2.0",
            "_view_name": "StyleView",
            "bar_color": null,
            "description_width": ""
          }
        },
        "a94179a047ed458c9c4a4711a0123e67": {
          "model_module": "@jupyter-widgets/base",
          "model_name": "LayoutModel",
          "model_module_version": "1.2.0",
          "state": {
            "_model_module": "@jupyter-widgets/base",
            "_model_module_version": "1.2.0",
            "_model_name": "LayoutModel",
            "_view_count": null,
            "_view_module": "@jupyter-widgets/base",
            "_view_module_version": "1.2.0",
            "_view_name": "LayoutView",
            "align_content": null,
            "align_items": null,
            "align_self": null,
            "border": null,
            "bottom": null,
            "display": null,
            "flex": null,
            "flex_flow": null,
            "grid_area": null,
            "grid_auto_columns": null,
            "grid_auto_flow": null,
            "grid_auto_rows": null,
            "grid_column": null,
            "grid_gap": null,
            "grid_row": null,
            "grid_template_areas": null,
            "grid_template_columns": null,
            "grid_template_rows": null,
            "height": null,
            "justify_content": null,
            "justify_items": null,
            "left": null,
            "margin": null,
            "max_height": null,
            "max_width": null,
            "min_height": null,
            "min_width": null,
            "object_fit": null,
            "object_position": null,
            "order": null,
            "overflow": null,
            "overflow_x": null,
            "overflow_y": null,
            "padding": null,
            "right": null,
            "top": null,
            "visibility": null,
            "width": null
          }
        },
        "f502f78606df4c7f9da28a95a19f4e53": {
          "model_module": "@jupyter-widgets/controls",
          "model_name": "DescriptionStyleModel",
          "model_module_version": "1.5.0",
          "state": {
            "_model_module": "@jupyter-widgets/controls",
            "_model_module_version": "1.5.0",
            "_model_name": "DescriptionStyleModel",
            "_view_count": null,
            "_view_module": "@jupyter-widgets/base",
            "_view_module_version": "1.2.0",
            "_view_name": "StyleView",
            "description_width": ""
          }
        },
        "88bec38ea3564c09823335e12309c898": {
          "model_module": "@jupyter-widgets/controls",
          "model_name": "HBoxModel",
          "model_module_version": "1.5.0",
          "state": {
            "_dom_classes": [],
            "_model_module": "@jupyter-widgets/controls",
            "_model_module_version": "1.5.0",
            "_model_name": "HBoxModel",
            "_view_count": null,
            "_view_module": "@jupyter-widgets/controls",
            "_view_module_version": "1.5.0",
            "_view_name": "HBoxView",
            "box_style": "",
            "children": [
              "IPY_MODEL_8a101af6b76241f4bdccc5a439c49a4c",
              "IPY_MODEL_a160236028de446a8194db688063680e",
              "IPY_MODEL_a58f402db689490bb3deaded3e939929"
            ],
            "layout": "IPY_MODEL_6b2d4445101944329ead23058fd7bda8"
          }
        },
        "8a101af6b76241f4bdccc5a439c49a4c": {
          "model_module": "@jupyter-widgets/controls",
          "model_name": "HTMLModel",
          "model_module_version": "1.5.0",
          "state": {
            "_dom_classes": [],
            "_model_module": "@jupyter-widgets/controls",
            "_model_module_version": "1.5.0",
            "_model_name": "HTMLModel",
            "_view_count": null,
            "_view_module": "@jupyter-widgets/controls",
            "_view_module_version": "1.5.0",
            "_view_name": "HTMLView",
            "description": "",
            "description_tooltip": null,
            "layout": "IPY_MODEL_8d9759e463d54055a55e660bcd558075",
            "placeholder": "​",
            "style": "IPY_MODEL_a7e00b69727547e2a8724408785944eb",
            "value": "Map: 100%"
          }
        },
        "a160236028de446a8194db688063680e": {
          "model_module": "@jupyter-widgets/controls",
          "model_name": "FloatProgressModel",
          "model_module_version": "1.5.0",
          "state": {
            "_dom_classes": [],
            "_model_module": "@jupyter-widgets/controls",
            "_model_module_version": "1.5.0",
            "_model_name": "FloatProgressModel",
            "_view_count": null,
            "_view_module": "@jupyter-widgets/controls",
            "_view_module_version": "1.5.0",
            "_view_name": "ProgressView",
            "bar_style": "success",
            "description": "",
            "description_tooltip": null,
            "layout": "IPY_MODEL_732809c9e47f482c8a3335b87acce689",
            "max": 24895,
            "min": 0,
            "orientation": "horizontal",
            "style": "IPY_MODEL_145ee989aa97478eaa358f0c52ba4292",
            "value": 24895
          }
        },
        "a58f402db689490bb3deaded3e939929": {
          "model_module": "@jupyter-widgets/controls",
          "model_name": "HTMLModel",
          "model_module_version": "1.5.0",
          "state": {
            "_dom_classes": [],
            "_model_module": "@jupyter-widgets/controls",
            "_model_module_version": "1.5.0",
            "_model_name": "HTMLModel",
            "_view_count": null,
            "_view_module": "@jupyter-widgets/controls",
            "_view_module_version": "1.5.0",
            "_view_name": "HTMLView",
            "description": "",
            "description_tooltip": null,
            "layout": "IPY_MODEL_b4ede90bd68c48d3befd2776166a18fb",
            "placeholder": "​",
            "style": "IPY_MODEL_45195b3ba4e8426e8db489b0701cf637",
            "value": " 24895/24895 [00:44&lt;00:00, 649.93 examples/s]"
          }
        },
        "6b2d4445101944329ead23058fd7bda8": {
          "model_module": "@jupyter-widgets/base",
          "model_name": "LayoutModel",
          "model_module_version": "1.2.0",
          "state": {
            "_model_module": "@jupyter-widgets/base",
            "_model_module_version": "1.2.0",
            "_model_name": "LayoutModel",
            "_view_count": null,
            "_view_module": "@jupyter-widgets/base",
            "_view_module_version": "1.2.0",
            "_view_name": "LayoutView",
            "align_content": null,
            "align_items": null,
            "align_self": null,
            "border": null,
            "bottom": null,
            "display": null,
            "flex": null,
            "flex_flow": null,
            "grid_area": null,
            "grid_auto_columns": null,
            "grid_auto_flow": null,
            "grid_auto_rows": null,
            "grid_column": null,
            "grid_gap": null,
            "grid_row": null,
            "grid_template_areas": null,
            "grid_template_columns": null,
            "grid_template_rows": null,
            "height": null,
            "justify_content": null,
            "justify_items": null,
            "left": null,
            "margin": null,
            "max_height": null,
            "max_width": null,
            "min_height": null,
            "min_width": null,
            "object_fit": null,
            "object_position": null,
            "order": null,
            "overflow": null,
            "overflow_x": null,
            "overflow_y": null,
            "padding": null,
            "right": null,
            "top": null,
            "visibility": null,
            "width": null
          }
        },
        "8d9759e463d54055a55e660bcd558075": {
          "model_module": "@jupyter-widgets/base",
          "model_name": "LayoutModel",
          "model_module_version": "1.2.0",
          "state": {
            "_model_module": "@jupyter-widgets/base",
            "_model_module_version": "1.2.0",
            "_model_name": "LayoutModel",
            "_view_count": null,
            "_view_module": "@jupyter-widgets/base",
            "_view_module_version": "1.2.0",
            "_view_name": "LayoutView",
            "align_content": null,
            "align_items": null,
            "align_self": null,
            "border": null,
            "bottom": null,
            "display": null,
            "flex": null,
            "flex_flow": null,
            "grid_area": null,
            "grid_auto_columns": null,
            "grid_auto_flow": null,
            "grid_auto_rows": null,
            "grid_column": null,
            "grid_gap": null,
            "grid_row": null,
            "grid_template_areas": null,
            "grid_template_columns": null,
            "grid_template_rows": null,
            "height": null,
            "justify_content": null,
            "justify_items": null,
            "left": null,
            "margin": null,
            "max_height": null,
            "max_width": null,
            "min_height": null,
            "min_width": null,
            "object_fit": null,
            "object_position": null,
            "order": null,
            "overflow": null,
            "overflow_x": null,
            "overflow_y": null,
            "padding": null,
            "right": null,
            "top": null,
            "visibility": null,
            "width": null
          }
        },
        "a7e00b69727547e2a8724408785944eb": {
          "model_module": "@jupyter-widgets/controls",
          "model_name": "DescriptionStyleModel",
          "model_module_version": "1.5.0",
          "state": {
            "_model_module": "@jupyter-widgets/controls",
            "_model_module_version": "1.5.0",
            "_model_name": "DescriptionStyleModel",
            "_view_count": null,
            "_view_module": "@jupyter-widgets/base",
            "_view_module_version": "1.2.0",
            "_view_name": "StyleView",
            "description_width": ""
          }
        },
        "732809c9e47f482c8a3335b87acce689": {
          "model_module": "@jupyter-widgets/base",
          "model_name": "LayoutModel",
          "model_module_version": "1.2.0",
          "state": {
            "_model_module": "@jupyter-widgets/base",
            "_model_module_version": "1.2.0",
            "_model_name": "LayoutModel",
            "_view_count": null,
            "_view_module": "@jupyter-widgets/base",
            "_view_module_version": "1.2.0",
            "_view_name": "LayoutView",
            "align_content": null,
            "align_items": null,
            "align_self": null,
            "border": null,
            "bottom": null,
            "display": null,
            "flex": null,
            "flex_flow": null,
            "grid_area": null,
            "grid_auto_columns": null,
            "grid_auto_flow": null,
            "grid_auto_rows": null,
            "grid_column": null,
            "grid_gap": null,
            "grid_row": null,
            "grid_template_areas": null,
            "grid_template_columns": null,
            "grid_template_rows": null,
            "height": null,
            "justify_content": null,
            "justify_items": null,
            "left": null,
            "margin": null,
            "max_height": null,
            "max_width": null,
            "min_height": null,
            "min_width": null,
            "object_fit": null,
            "object_position": null,
            "order": null,
            "overflow": null,
            "overflow_x": null,
            "overflow_y": null,
            "padding": null,
            "right": null,
            "top": null,
            "visibility": null,
            "width": null
          }
        },
        "145ee989aa97478eaa358f0c52ba4292": {
          "model_module": "@jupyter-widgets/controls",
          "model_name": "ProgressStyleModel",
          "model_module_version": "1.5.0",
          "state": {
            "_model_module": "@jupyter-widgets/controls",
            "_model_module_version": "1.5.0",
            "_model_name": "ProgressStyleModel",
            "_view_count": null,
            "_view_module": "@jupyter-widgets/base",
            "_view_module_version": "1.2.0",
            "_view_name": "StyleView",
            "bar_color": null,
            "description_width": ""
          }
        },
        "b4ede90bd68c48d3befd2776166a18fb": {
          "model_module": "@jupyter-widgets/base",
          "model_name": "LayoutModel",
          "model_module_version": "1.2.0",
          "state": {
            "_model_module": "@jupyter-widgets/base",
            "_model_module_version": "1.2.0",
            "_model_name": "LayoutModel",
            "_view_count": null,
            "_view_module": "@jupyter-widgets/base",
            "_view_module_version": "1.2.0",
            "_view_name": "LayoutView",
            "align_content": null,
            "align_items": null,
            "align_self": null,
            "border": null,
            "bottom": null,
            "display": null,
            "flex": null,
            "flex_flow": null,
            "grid_area": null,
            "grid_auto_columns": null,
            "grid_auto_flow": null,
            "grid_auto_rows": null,
            "grid_column": null,
            "grid_gap": null,
            "grid_row": null,
            "grid_template_areas": null,
            "grid_template_columns": null,
            "grid_template_rows": null,
            "height": null,
            "justify_content": null,
            "justify_items": null,
            "left": null,
            "margin": null,
            "max_height": null,
            "max_width": null,
            "min_height": null,
            "min_width": null,
            "object_fit": null,
            "object_position": null,
            "order": null,
            "overflow": null,
            "overflow_x": null,
            "overflow_y": null,
            "padding": null,
            "right": null,
            "top": null,
            "visibility": null,
            "width": null
          }
        },
        "45195b3ba4e8426e8db489b0701cf637": {
          "model_module": "@jupyter-widgets/controls",
          "model_name": "DescriptionStyleModel",
          "model_module_version": "1.5.0",
          "state": {
            "_model_module": "@jupyter-widgets/controls",
            "_model_module_version": "1.5.0",
            "_model_name": "DescriptionStyleModel",
            "_view_count": null,
            "_view_module": "@jupyter-widgets/base",
            "_view_module_version": "1.2.0",
            "_view_name": "StyleView",
            "description_width": ""
          }
        },
        "a93b54c4105542d9a5650f184179f228": {
          "model_module": "@jupyter-widgets/controls",
          "model_name": "HBoxModel",
          "model_module_version": "1.5.0",
          "state": {
            "_dom_classes": [],
            "_model_module": "@jupyter-widgets/controls",
            "_model_module_version": "1.5.0",
            "_model_name": "HBoxModel",
            "_view_count": null,
            "_view_module": "@jupyter-widgets/controls",
            "_view_module_version": "1.5.0",
            "_view_name": "HBoxView",
            "box_style": "",
            "children": [
              "IPY_MODEL_3550bdfbe84249a6bd29174b28ab5578",
              "IPY_MODEL_b73612e07650496488c9c6420a17dbb0",
              "IPY_MODEL_abde10bfe08442b4955852831c2e69c1"
            ],
            "layout": "IPY_MODEL_b97a87c806cf44b5aa1869084e0c1cf9"
          }
        },
        "3550bdfbe84249a6bd29174b28ab5578": {
          "model_module": "@jupyter-widgets/controls",
          "model_name": "HTMLModel",
          "model_module_version": "1.5.0",
          "state": {
            "_dom_classes": [],
            "_model_module": "@jupyter-widgets/controls",
            "_model_module_version": "1.5.0",
            "_model_name": "HTMLModel",
            "_view_count": null,
            "_view_module": "@jupyter-widgets/controls",
            "_view_module_version": "1.5.0",
            "_view_name": "HTMLView",
            "description": "",
            "description_tooltip": null,
            "layout": "IPY_MODEL_822610d0f69b44d98fa34904a375c535",
            "placeholder": "​",
            "style": "IPY_MODEL_7f6e2536704043cdb8f799879c6bf07d",
            "value": "100%"
          }
        },
        "b73612e07650496488c9c6420a17dbb0": {
          "model_module": "@jupyter-widgets/controls",
          "model_name": "FloatProgressModel",
          "model_module_version": "1.5.0",
          "state": {
            "_dom_classes": [],
            "_model_module": "@jupyter-widgets/controls",
            "_model_module_version": "1.5.0",
            "_model_name": "FloatProgressModel",
            "_view_count": null,
            "_view_module": "@jupyter-widgets/controls",
            "_view_module_version": "1.5.0",
            "_view_name": "ProgressView",
            "bar_style": "danger",
            "description": "",
            "description_tooltip": null,
            "layout": "IPY_MODEL_4bc97d95ffd644769f4aacf2f8e321df",
            "max": 50,
            "min": 0,
            "orientation": "horizontal",
            "style": "IPY_MODEL_c97c816a53dd471abc68d8f5c5402137",
            "value": 50
          }
        },
        "abde10bfe08442b4955852831c2e69c1": {
          "model_module": "@jupyter-widgets/controls",
          "model_name": "HTMLModel",
          "model_module_version": "1.5.0",
          "state": {
            "_dom_classes": [],
            "_model_module": "@jupyter-widgets/controls",
            "_model_module_version": "1.5.0",
            "_model_name": "HTMLModel",
            "_view_count": null,
            "_view_module": "@jupyter-widgets/controls",
            "_view_module_version": "1.5.0",
            "_view_name": "HTMLView",
            "description": "",
            "description_tooltip": null,
            "layout": "IPY_MODEL_61fefc58949644998da6d4ac2224a416",
            "placeholder": "​",
            "style": "IPY_MODEL_03a539798bdb46599f7dd20e47644f29",
            "value": " 50/50 [39:50&lt;00:00, 44.64s/it]"
          }
        },
        "b97a87c806cf44b5aa1869084e0c1cf9": {
          "model_module": "@jupyter-widgets/base",
          "model_name": "LayoutModel",
          "model_module_version": "1.2.0",
          "state": {
            "_model_module": "@jupyter-widgets/base",
            "_model_module_version": "1.2.0",
            "_model_name": "LayoutModel",
            "_view_count": null,
            "_view_module": "@jupyter-widgets/base",
            "_view_module_version": "1.2.0",
            "_view_name": "LayoutView",
            "align_content": null,
            "align_items": null,
            "align_self": null,
            "border": null,
            "bottom": null,
            "display": null,
            "flex": null,
            "flex_flow": null,
            "grid_area": null,
            "grid_auto_columns": null,
            "grid_auto_flow": null,
            "grid_auto_rows": null,
            "grid_column": null,
            "grid_gap": null,
            "grid_row": null,
            "grid_template_areas": null,
            "grid_template_columns": null,
            "grid_template_rows": null,
            "height": null,
            "justify_content": null,
            "justify_items": null,
            "left": null,
            "margin": null,
            "max_height": null,
            "max_width": null,
            "min_height": null,
            "min_width": null,
            "object_fit": null,
            "object_position": null,
            "order": null,
            "overflow": null,
            "overflow_x": null,
            "overflow_y": null,
            "padding": null,
            "right": null,
            "top": null,
            "visibility": null,
            "width": null
          }
        },
        "822610d0f69b44d98fa34904a375c535": {
          "model_module": "@jupyter-widgets/base",
          "model_name": "LayoutModel",
          "model_module_version": "1.2.0",
          "state": {
            "_model_module": "@jupyter-widgets/base",
            "_model_module_version": "1.2.0",
            "_model_name": "LayoutModel",
            "_view_count": null,
            "_view_module": "@jupyter-widgets/base",
            "_view_module_version": "1.2.0",
            "_view_name": "LayoutView",
            "align_content": null,
            "align_items": null,
            "align_self": null,
            "border": null,
            "bottom": null,
            "display": null,
            "flex": null,
            "flex_flow": null,
            "grid_area": null,
            "grid_auto_columns": null,
            "grid_auto_flow": null,
            "grid_auto_rows": null,
            "grid_column": null,
            "grid_gap": null,
            "grid_row": null,
            "grid_template_areas": null,
            "grid_template_columns": null,
            "grid_template_rows": null,
            "height": null,
            "justify_content": null,
            "justify_items": null,
            "left": null,
            "margin": null,
            "max_height": null,
            "max_width": null,
            "min_height": null,
            "min_width": null,
            "object_fit": null,
            "object_position": null,
            "order": null,
            "overflow": null,
            "overflow_x": null,
            "overflow_y": null,
            "padding": null,
            "right": null,
            "top": null,
            "visibility": null,
            "width": null
          }
        },
        "7f6e2536704043cdb8f799879c6bf07d": {
          "model_module": "@jupyter-widgets/controls",
          "model_name": "DescriptionStyleModel",
          "model_module_version": "1.5.0",
          "state": {
            "_model_module": "@jupyter-widgets/controls",
            "_model_module_version": "1.5.0",
            "_model_name": "DescriptionStyleModel",
            "_view_count": null,
            "_view_module": "@jupyter-widgets/base",
            "_view_module_version": "1.2.0",
            "_view_name": "StyleView",
            "description_width": ""
          }
        },
        "4bc97d95ffd644769f4aacf2f8e321df": {
          "model_module": "@jupyter-widgets/base",
          "model_name": "LayoutModel",
          "model_module_version": "1.2.0",
          "state": {
            "_model_module": "@jupyter-widgets/base",
            "_model_module_version": "1.2.0",
            "_model_name": "LayoutModel",
            "_view_count": null,
            "_view_module": "@jupyter-widgets/base",
            "_view_module_version": "1.2.0",
            "_view_name": "LayoutView",
            "align_content": null,
            "align_items": null,
            "align_self": null,
            "border": null,
            "bottom": null,
            "display": null,
            "flex": null,
            "flex_flow": null,
            "grid_area": null,
            "grid_auto_columns": null,
            "grid_auto_flow": null,
            "grid_auto_rows": null,
            "grid_column": null,
            "grid_gap": null,
            "grid_row": null,
            "grid_template_areas": null,
            "grid_template_columns": null,
            "grid_template_rows": null,
            "height": null,
            "justify_content": null,
            "justify_items": null,
            "left": null,
            "margin": null,
            "max_height": null,
            "max_width": null,
            "min_height": null,
            "min_width": null,
            "object_fit": null,
            "object_position": null,
            "order": null,
            "overflow": null,
            "overflow_x": null,
            "overflow_y": null,
            "padding": null,
            "right": null,
            "top": null,
            "visibility": null,
            "width": null
          }
        },
        "c97c816a53dd471abc68d8f5c5402137": {
          "model_module": "@jupyter-widgets/controls",
          "model_name": "ProgressStyleModel",
          "model_module_version": "1.5.0",
          "state": {
            "_model_module": "@jupyter-widgets/controls",
            "_model_module_version": "1.5.0",
            "_model_name": "ProgressStyleModel",
            "_view_count": null,
            "_view_module": "@jupyter-widgets/base",
            "_view_module_version": "1.2.0",
            "_view_name": "StyleView",
            "bar_color": null,
            "description_width": ""
          }
        },
        "61fefc58949644998da6d4ac2224a416": {
          "model_module": "@jupyter-widgets/base",
          "model_name": "LayoutModel",
          "model_module_version": "1.2.0",
          "state": {
            "_model_module": "@jupyter-widgets/base",
            "_model_module_version": "1.2.0",
            "_model_name": "LayoutModel",
            "_view_count": null,
            "_view_module": "@jupyter-widgets/base",
            "_view_module_version": "1.2.0",
            "_view_name": "LayoutView",
            "align_content": null,
            "align_items": null,
            "align_self": null,
            "border": null,
            "bottom": null,
            "display": null,
            "flex": null,
            "flex_flow": null,
            "grid_area": null,
            "grid_auto_columns": null,
            "grid_auto_flow": null,
            "grid_auto_rows": null,
            "grid_column": null,
            "grid_gap": null,
            "grid_row": null,
            "grid_template_areas": null,
            "grid_template_columns": null,
            "grid_template_rows": null,
            "height": null,
            "justify_content": null,
            "justify_items": null,
            "left": null,
            "margin": null,
            "max_height": null,
            "max_width": null,
            "min_height": null,
            "min_width": null,
            "object_fit": null,
            "object_position": null,
            "order": null,
            "overflow": null,
            "overflow_x": null,
            "overflow_y": null,
            "padding": null,
            "right": null,
            "top": null,
            "visibility": null,
            "width": null
          }
        },
        "03a539798bdb46599f7dd20e47644f29": {
          "model_module": "@jupyter-widgets/controls",
          "model_name": "DescriptionStyleModel",
          "model_module_version": "1.5.0",
          "state": {
            "_model_module": "@jupyter-widgets/controls",
            "_model_module_version": "1.5.0",
            "_model_name": "DescriptionStyleModel",
            "_view_count": null,
            "_view_module": "@jupyter-widgets/base",
            "_view_module_version": "1.2.0",
            "_view_name": "StyleView",
            "description_width": ""
          }
        }
      }
    }
  },
  "nbformat": 4,
  "nbformat_minor": 0
}