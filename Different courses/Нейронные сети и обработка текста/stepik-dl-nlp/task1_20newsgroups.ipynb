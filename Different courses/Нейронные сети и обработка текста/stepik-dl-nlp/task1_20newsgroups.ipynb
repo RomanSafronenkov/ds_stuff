{
 "cells": [
  {
   "cell_type": "markdown",
   "metadata": {},
   "source": [
    "# Тематическая классификация длинных текстов - TFIDF и LogReg"
   ]
  },
  {
   "cell_type": "code",
   "execution_count": 1,
   "metadata": {},
   "outputs": [],
   "source": [
    "# Если Вы запускаете ноутбук на colab или kaggle,\n",
    "# выполните следующие строчки, чтобы подгрузить библиотеку dlnlputils:\n",
    "\n",
    "# !git clone https://github.com/Samsung-IT-Academy/stepik-dl-nlp.git && pip install -r stepik-dl-nlp/requirements.txt\n",
    "# import sys; sys.path.append('./stepik-dl-nlp')"
   ]
  },
  {
   "cell_type": "code",
   "execution_count": 2,
   "metadata": {
    "ExecuteTime": {
     "end_time": "2019-09-12T12:42:57.265628Z",
     "start_time": "2019-09-12T12:42:55.188211Z"
    }
   },
   "outputs": [],
   "source": [
    "import warnings\n",
    "warnings.filterwarnings('ignore')\n",
    "\n",
    "from sklearn.datasets import fetch_20newsgroups\n",
    "from sklearn.metrics import accuracy_score\n",
    "\n",
    "import numpy as np\n",
    "\n",
    "import matplotlib.pyplot as plt\n",
    "%matplotlib inline\n",
    "\n",
    "import collections\n",
    "\n",
    "import torch\n",
    "from torch import nn\n",
    "from torch.nn import functional as F\n",
    "\n",
    "import dlnlputils\n",
    "from dlnlputils.data import tokenize_text_simple_regex, tokenize_corpus, build_vocabulary, \\\n",
    "    vectorize_texts, SparseFeaturesDataset\n",
    "from dlnlputils.pipeline import train_eval_loop, predict_with_model, init_random_seed\n",
    "\n",
    "init_random_seed()"
   ]
  },
  {
   "cell_type": "markdown",
   "metadata": {},
   "source": [
    "## Предобработка текстов и подготовка признаков"
   ]
  },
  {
   "cell_type": "code",
   "execution_count": 3,
   "metadata": {
    "ExecuteTime": {
     "end_time": "2019-09-12T12:42:57.847399Z",
     "start_time": "2019-09-12T12:42:57.268037Z"
    }
   },
   "outputs": [
    {
     "name": "stdout",
     "output_type": "stream",
     "text": [
      "Количество обучающих текстов 11314\n",
      "Количество тестовых текстов 7532\n",
      "\n",
      "From: lerxst@wam.umd.edu (where's my thing)\n",
      "Subject: WHAT car is this!?\n",
      "Nntp-Posting-Host: rac3.wam.umd.edu\n",
      "Organization: University of Maryland, College Park\n",
      "Lines: 15\n",
      "\n",
      " I was wondering if anyone out there could enlighten me on this car I saw\n",
      "the other day. It was a 2-door sports car, looked to be from the late 60s/\n",
      "early 70s. It was called a Bricklin. The doors were really small. In addition,\n",
      "the front bumper was separate from the rest of the body. This is \n",
      "all I know. If anyone can tellme a model name, engine specs, years\n",
      "of production, where this car is made, history, or whatever info you\n",
      "have on this funky looking car, please e-mail.\n",
      "\n",
      "Thanks,\n",
      "- IL\n",
      "   ---- brought to you by your neighborhood Lerxst ----\n",
      "\n",
      "Метка 7\n"
     ]
    }
   ],
   "source": [
    "train_source = fetch_20newsgroups(subset='train')\n",
    "test_source = fetch_20newsgroups(subset='test')\n",
    "\n",
    "print('Количество обучающих текстов', len(train_source['data']))\n",
    "print('Количество тестовых текстов', len(test_source['data']))\n",
    "print()\n",
    "print(train_source['data'][0].strip())\n",
    "\n",
    "print()\n",
    "print('Метка', train_source['target'][0])"
   ]
  },
  {
   "cell_type": "markdown",
   "metadata": {},
   "source": [
    "### Подготовка признаков"
   ]
  },
  {
   "cell_type": "code",
   "execution_count": 57,
   "metadata": {
    "ExecuteTime": {
     "end_time": "2019-09-12T12:43:00.294422Z",
     "start_time": "2019-09-12T12:42:57.849386Z"
    }
   },
   "outputs": [
    {
     "name": "stdout",
     "output_type": "stream",
     "text": [
      "from lerxst where thing subject what this nntp posting host rac3 organization university maryland college park lines wondering anyone there could enlighten this other door sports looked from late early called bricklin doors were really small addition front bumper separate from rest body this know anyone tellme model name engine specs years production where this made history whatever info have this funky looking please mail thanks brought your neighborhood lerxst\n"
     ]
    }
   ],
   "source": [
    "train_tokenized = tokenize_corpus(train_source['data'])\n",
    "test_tokenized = tokenize_corpus(test_source['data'])\n",
    "\n",
    "print(' '.join(train_tokenized[0]))"
   ]
  },
  {
   "cell_type": "code",
   "execution_count": 80,
   "metadata": {},
   "outputs": [
    {
     "name": "stderr",
     "output_type": "stream",
     "text": [
      "[nltk_data] Downloading package stopwords to\n",
      "[nltk_data]     C:\\Users\\Роман\\AppData\\Roaming\\nltk_data...\n",
      "[nltk_data]   Package stopwords is already up-to-date!\n"
     ]
    }
   ],
   "source": [
    "import nltk\n",
    "from nltk.stem.snowball import SnowballStemmer\n",
    "from nltk.corpus import stopwords\n",
    "nltk.download('stopwords')\n",
    "\n",
    "stemmer = SnowballStemmer(language='english', ignore_stopwords=True)\n",
    "stopwords_set = stopwords.words('english')\n",
    "\n",
    "def stem_corpus(tokenized_data):\n",
    "    return [[stemmer.stem(token) for token in text] for text in tokenized_data]"
   ]
  },
  {
   "cell_type": "code",
   "execution_count": 82,
   "metadata": {},
   "outputs": [
    {
     "name": "stdout",
     "output_type": "stream",
     "text": [
      "CPU times: total: 27 s\n",
      "Wall time: 27 s\n"
     ]
    }
   ],
   "source": [
    "%%time\n",
    "\n",
    "train_tokenized = stem_corpus(train_tokenized)\n",
    "test_tokenized = stem_corpus(test_tokenized)\n",
    "\n",
    "train_tokenized = [[token for token in text if token not in stopwords_set] for text in train_tokenized]\n",
    "test_tokenized = [[token for token in text if token not in stopwords_set] for text in test_tokenized]"
   ]
  },
  {
   "cell_type": "code",
   "execution_count": 83,
   "metadata": {
    "ExecuteTime": {
     "end_time": "2019-09-12T12:43:00.825372Z",
     "start_time": "2019-09-12T12:43:00.297392Z"
    }
   },
   "outputs": [
    {
     "name": "stdout",
     "output_type": "stream",
     "text": [
      "Количество уникальных токенов 15672\n",
      "[('write', 0), ('post', 1), ('articl', 2), ('univ', 3), ('host', 4), ('nntp', 5), ('would', 6), ('like', 7), ('know', 8), ('think', 9)]\n"
     ]
    }
   ],
   "source": [
    "MAX_DF = 0.8\n",
    "MIN_COUNT = 5\n",
    "vocabulary, word_doc_freq = build_vocabulary(train_tokenized, max_doc_freq=MAX_DF, min_count=MIN_COUNT)\n",
    "UNIQUE_WORDS_N = len(vocabulary)\n",
    "print('Количество уникальных токенов', UNIQUE_WORDS_N)\n",
    "print(list(vocabulary.items())[:10])"
   ]
  },
  {
   "cell_type": "code",
   "execution_count": 84,
   "metadata": {
    "ExecuteTime": {
     "end_time": "2019-09-12T12:43:01.524600Z",
     "start_time": "2019-09-12T12:43:00.829107Z"
    }
   },
   "outputs": [
    {
     "data": {
      "image/png": "[encoded data removed]",
      "text/plain": [
       "<Figure size 640x480 with 1 Axes>"
      ]
     },
     "metadata": {},
     "output_type": "display_data"
    }
   ],
   "source": [
    "plt.hist(word_doc_freq, bins=20)\n",
    "plt.title('Распределение относительных частот слов')\n",
    "plt.yscale('log');"
   ]
  },
  {
   "cell_type": "code",
   "execution_count": 85,
   "metadata": {
    "ExecuteTime": {
     "end_time": "2019-09-12T12:44:16.094816Z",
     "start_time": "2019-09-12T12:43:01.526554Z"
    }
   },
   "outputs": [
    {
     "name": "stdout",
     "output_type": "stream",
     "text": [
      "Размерность матрицы признаков обучающей выборки (11314, 15672)\n",
      "Размерность матрицы признаков тестовой выборки (7532, 15672)\n",
      "\n",
      "Количество ненулевых элементов в обучающей выборке 941778\n",
      "Процент заполненности матрицы признаков 0.53%\n",
      "\n",
      "Количество ненулевых элементов в тестовой выборке 604061\n",
      "Процент заполненности матрицы признаков 0.51%\n"
     ]
    }
   ],
   "source": [
    "VECTORIZATION_MODE = 'tf'\n",
    "train_vectors = vectorize_texts(train_tokenized, vocabulary, word_doc_freq, mode=VECTORIZATION_MODE)\n",
    "test_vectors = vectorize_texts(test_tokenized, vocabulary, word_doc_freq, mode=VECTORIZATION_MODE)\n",
    "\n",
    "print('Размерность матрицы признаков обучающей выборки', train_vectors.shape)\n",
    "print('Размерность матрицы признаков тестовой выборки', test_vectors.shape)\n",
    "print()\n",
    "print('Количество ненулевых элементов в обучающей выборке', train_vectors.nnz)\n",
    "print('Процент заполненности матрицы признаков {:.2f}%'.format(train_vectors.nnz * 100 / (train_vectors.shape[0] * train_vectors.shape[1])))\n",
    "print()\n",
    "print('Количество ненулевых элементов в тестовой выборке', test_vectors.nnz)\n",
    "print('Процент заполненности матрицы признаков {:.2f}%'.format(test_vectors.nnz * 100 / (test_vectors.shape[0] * test_vectors.shape[1])))"
   ]
  },
  {
   "cell_type": "code",
   "execution_count": 86,
   "metadata": {
    "ExecuteTime": {
     "end_time": "2019-09-12T12:44:16.857114Z",
     "start_time": "2019-09-12T12:44:16.098773Z"
    }
   },
   "outputs": [
    {
     "data": {
      "image/png": "[encoded data removed]",
      "text/plain": [
       "<Figure size 640x480 with 1 Axes>"
      ]
     },
     "metadata": {},
     "output_type": "display_data"
    }
   ],
   "source": [
    "plt.hist(train_vectors.data, bins=20)\n",
    "plt.title('Распределение весов признаков')\n",
    "plt.yscale('log');"
   ]
  },
  {
   "cell_type": "markdown",
   "metadata": {},
   "source": [
    "### Распределение классов"
   ]
  },
  {
   "cell_type": "code",
   "execution_count": 87,
   "metadata": {
    "ExecuteTime": {
     "end_time": "2019-09-12T12:44:16.864960Z",
     "start_time": "2019-09-12T12:44:16.859476Z"
    }
   },
   "outputs": [
    {
     "name": "stdout",
     "output_type": "stream",
     "text": [
      "Количество уникальных меток 20\n"
     ]
    }
   ],
   "source": [
    "UNIQUE_LABELS_N = len(set(train_source['target']))\n",
    "print('Количество уникальных меток', UNIQUE_LABELS_N)"
   ]
  },
  {
   "cell_type": "code",
   "execution_count": 88,
   "metadata": {
    "ExecuteTime": {
     "end_time": "2019-09-12T12:44:17.106036Z",
     "start_time": "2019-09-12T12:44:16.867310Z"
    }
   },
   "outputs": [
    {
     "data": {
      "image/png": "[encoded data removed]",
      "text/plain": [
       "<Figure size 640x480 with 1 Axes>"
      ]
     },
     "metadata": {},
     "output_type": "display_data"
    }
   ],
   "source": [
    "plt.hist(train_source['target'], bins=np.arange(0, 21))\n",
    "plt.title('Распределение меток в обучающей выборке');"
   ]
  },
  {
   "cell_type": "code",
   "execution_count": 89,
   "metadata": {
    "ExecuteTime": {
     "end_time": "2019-09-12T12:44:17.312198Z",
     "start_time": "2019-09-12T12:44:17.109884Z"
    },
    "scrolled": true
   },
   "outputs": [
    {
     "data": {
      "image/png": "[encoded data removed]",
      "text/plain": [
       "<Figure size 640x480 with 1 Axes>"
      ]
     },
     "metadata": {},
     "output_type": "display_data"
    }
   ],
   "source": [
    "plt.hist(test_source['target'], bins=np.arange(0, 21))\n",
    "plt.title('Распределение меток в тестовой выборке');"
   ]
  },
  {
   "cell_type": "markdown",
   "metadata": {},
   "source": [
    "### PyTorch Dataset"
   ]
  },
  {
   "cell_type": "code",
   "execution_count": 90,
   "metadata": {
    "ExecuteTime": {
     "end_time": "2019-09-12T12:44:17.319292Z",
     "start_time": "2019-09-12T12:44:17.315074Z"
    }
   },
   "outputs": [],
   "source": [
    "train_dataset = SparseFeaturesDataset(train_vectors, train_source['target'])\n",
    "test_dataset = SparseFeaturesDataset(test_vectors, test_source['target'])"
   ]
  },
  {
   "cell_type": "markdown",
   "metadata": {},
   "source": [
    "## Обучение модели на PyTorch"
   ]
  },
  {
   "cell_type": "code",
   "execution_count": 91,
   "metadata": {
    "ExecuteTime": {
     "end_time": "2019-09-12T12:46:22.371272Z",
     "start_time": "2019-09-12T12:44:17.322178Z"
    },
    "scrolled": false
   },
   "outputs": [
    {
     "name": "stdout",
     "output_type": "stream",
     "text": [
      "Эпоха 0\n",
      "Эпоха: 354 итераций, 2.37 сек\n",
      "Среднее значение функции потерь на обучении 2.9776998778521\n",
      "Среднее значение функции потерь на валидации 2.9569433149644886\n",
      "Новая лучшая модель!\n",
      "\n",
      "Эпоха 1\n",
      "Эпоха: 354 итераций, 2.34 сек\n",
      "Среднее значение функции потерь на обучении 2.878460001137297\n",
      "Среднее значение функции потерь на валидации 2.839824103702933\n",
      "Новая лучшая модель!\n",
      "\n",
      "Эпоха 2\n",
      "Эпоха: 354 итераций, 2.35 сек\n",
      "Среднее значение функции потерь на обучении 2.674840205133298\n",
      "Среднее значение функции потерь на валидации 2.6512712694830816\n",
      "Новая лучшая модель!\n",
      "\n",
      "Эпоха 3\n",
      "Эпоха: 354 итераций, 2.36 сек\n",
      "Среднее значение функции потерь на обучении 2.4015206819200245\n",
      "Среднее значение функции потерь на валидации 2.4277927067320224\n",
      "Новая лучшая модель!\n",
      "\n",
      "Эпоха 4\n",
      "Эпоха: 354 итераций, 2.37 сек\n",
      "Среднее значение функции потерь на обучении 2.103313376337795\n",
      "Среднее значение функции потерь на валидации 2.199764918472807\n",
      "Новая лучшая модель!\n",
      "\n",
      "Эпоха 5\n",
      "Эпоха: 354 итераций, 2.35 сек\n",
      "Среднее значение функции потерь на обучении 1.8167810945187586\n",
      "Среднее значение функции потерь на валидации 1.9864067319086043\n",
      "Новая лучшая модель!\n",
      "\n",
      "Эпоха 6\n",
      "Эпоха: 354 итераций, 2.34 сек\n",
      "Среднее значение функции потерь на обучении 1.5622996091842651\n",
      "Среднее значение функции потерь на валидации 1.7987056869571492\n",
      "Новая лучшая модель!\n",
      "\n",
      "Эпоха 7\n",
      "Эпоха: 354 итераций, 2.37 сек\n",
      "Среднее значение функции потерь на обучении 1.3464937533362438\n",
      "Среднее значение функции потерь на валидации 1.637945499460576\n",
      "Новая лучшая модель!\n",
      "\n",
      "Эпоха 8\n",
      "Эпоха: 354 итераций, 2.37 сек\n",
      "Среднее значение функции потерь на обучении 1.1671606489157274\n",
      "Среднее значение функции потерь на валидации 1.5008371098566864\n",
      "Новая лучшая модель!\n",
      "\n",
      "Эпоха 9\n",
      "Эпоха: 354 итераций, 2.33 сек\n",
      "Среднее значение функции потерь на обучении 1.0185838858623288\n",
      "Среднее значение функции потерь на валидации 1.385573083566407\n",
      "Новая лучшая модель!\n",
      "\n",
      "Эпоха 10\n",
      "Эпоха: 354 итераций, 2.37 сек\n",
      "Среднее значение функции потерь на обучении 0.8949967004821799\n",
      "Среднее значение функции потерь на валидации 1.286851096961458\n",
      "Новая лучшая модель!\n",
      "\n",
      "Эпоха 11\n",
      "Эпоха: 354 итераций, 2.35 сек\n",
      "Среднее значение функции потерь на обучении 0.7912082121533862\n",
      "Среднее значение функции потерь на валидации 1.2031945891804614\n",
      "Новая лучшая модель!\n",
      "\n",
      "Эпоха 12\n",
      "Эпоха: 354 итераций, 2.34 сек\n",
      "Среднее значение функции потерь на обучении 0.7042458958208224\n",
      "Среднее значение функции потерь на валидации 1.1309847700393807\n",
      "Новая лучшая модель!\n",
      "\n",
      "Эпоха 13\n",
      "Эпоха: 354 итераций, 2.36 сек\n",
      "Среднее значение функции потерь на обучении 0.6295289566456261\n",
      "Среднее значение функции потерь на валидации 1.0680853065292715\n",
      "Новая лучшая модель!\n",
      "\n",
      "Эпоха 14\n",
      "Эпоха: 354 итераций, 2.34 сек\n",
      "Среднее значение функции потерь на обучении 0.5657851153847862\n",
      "Среднее значение функции потерь на валидации 1.0150741025552912\n",
      "Новая лучшая модель!\n",
      "\n",
      "Эпоха 15\n",
      "Эпоха: 354 итераций, 2.36 сек\n",
      "Среднее значение функции потерь на обучении 0.5101563368981841\n",
      "Среднее значение функции потерь на валидации 0.967941963066489\n",
      "Новая лучшая модель!\n",
      "\n",
      "Эпоха 16\n",
      "Эпоха: 354 итераций, 2.35 сек\n",
      "Среднее значение функции потерь на обучении 0.4620487583895861\n",
      "Среднее значение функции потерь на валидации 0.9251376948619293\n",
      "Новая лучшая модель!\n",
      "\n",
      "Эпоха 17\n",
      "Эпоха: 354 итераций, 2.34 сек\n",
      "Среднее значение функции потерь на обучении 0.41956200307540303\n",
      "Среднее значение функции потерь на валидации 0.8897714357254869\n",
      "Новая лучшая модель!\n",
      "\n",
      "Эпоха 18\n",
      "Эпоха: 354 итераций, 2.33 сек\n",
      "Среднее значение функции потерь на обучении 0.38200677964983687\n",
      "Среднее значение функции потерь на валидации 0.8569976671014802\n",
      "Новая лучшая модель!\n",
      "\n",
      "Эпоха 19\n",
      "Эпоха: 354 итераций, 2.36 сек\n",
      "Среднее значение функции потерь на обучении 0.34857323134349566\n",
      "Среднее значение функции потерь на валидации 0.8274814880500405\n",
      "Новая лучшая модель!\n",
      "\n",
      "Эпоха 20\n",
      "Эпоха: 354 итераций, 2.34 сек\n",
      "Среднее значение функции потерь на обучении 0.3189494196893805\n",
      "Среднее значение функции потерь на валидации 0.8022200808686725\n",
      "Новая лучшая модель!\n",
      "\n",
      "Эпоха 21\n",
      "Эпоха: 354 итераций, 2.33 сек\n",
      "Среднее значение функции потерь на обучении 0.2922513961034306\n",
      "Среднее значение функции потерь на валидации 0.7772501369906684\n",
      "Новая лучшая модель!\n",
      "\n",
      "Эпоха 22\n",
      "Эпоха: 354 итераций, 2.37 сек\n",
      "Среднее значение функции потерь на обучении 0.26808283524324666\n",
      "Среднее значение функции потерь на валидации 0.7567289025854256\n",
      "Новая лучшая модель!\n",
      "\n",
      "Эпоха 23\n",
      "Эпоха: 354 итераций, 2.35 сек\n",
      "Среднее значение функции потерь на обучении 0.246525022564298\n",
      "Среднее значение функции потерь на валидации 0.7372115495598922\n",
      "Новая лучшая модель!\n",
      "\n",
      "Эпоха 24\n",
      "Эпоха: 354 итераций, 2.33 сек\n",
      "Среднее значение функции потерь на обучении 0.22669991627756486\n",
      "Среднее значение функции потерь на валидации 0.7197362785622224\n",
      "Новая лучшая модель!\n",
      "\n",
      "Эпоха 25\n",
      "Эпоха: 354 итераций, 2.33 сек\n",
      "Среднее значение функции потерь на обучении 0.2086426094174385\n",
      "Среднее значение функции потерь на валидации 0.7046263200246682\n",
      "Новая лучшая модель!\n",
      "\n",
      "Эпоха 26\n",
      "Эпоха: 354 итераций, 2.38 сек\n",
      "Среднее значение функции потерь на обучении 0.19243071461885664\n",
      "Среднее значение функции потерь на валидации 0.6901090177944151\n",
      "Новая лучшая модель!\n",
      "\n",
      "Эпоха 27\n",
      "Эпоха: 354 итераций, 2.35 сек\n",
      "Среднее значение функции потерь на обучении 0.17736565521628844\n",
      "Среднее значение функции потерь на валидации 0.6773495320546425\n",
      "Новая лучшая модель!\n",
      "\n",
      "Эпоха 28\n",
      "Эпоха: 354 итераций, 2.36 сек\n",
      "Среднее значение функции потерь на обучении 0.1635873413902555\n",
      "Среднее значение функции потерь на валидации 0.6648941302703599\n",
      "Новая лучшая модель!\n",
      "\n",
      "Эпоха 29\n",
      "Эпоха: 354 итераций, 2.37 сек\n",
      "Среднее значение функции потерь на обучении 0.1511411047251211\n",
      "Среднее значение функции потерь на валидации 0.6535191465232332\n",
      "Новая лучшая модель!\n",
      "\n",
      "Эпоха 30\n",
      "Эпоха: 354 итераций, 2.37 сек\n",
      "Среднее значение функции потерь на обучении 0.13938585661435868\n",
      "Среднее значение функции потерь на валидации 0.6435157284140587\n",
      "Новая лучшая модель!\n",
      "\n",
      "Эпоха 31\n",
      "Эпоха: 354 итераций, 2.37 сек\n",
      "Среднее значение функции потерь на обучении 0.12876625642138348\n",
      "Среднее значение функции потерь на валидации 0.6349715327812453\n",
      "Новая лучшая модель!\n",
      "\n",
      "Эпоха 32\n",
      "Эпоха: 354 итераций, 2.37 сек\n",
      "Среднее значение функции потерь на обучении 0.11899587635140298\n",
      "Среднее значение функции потерь на валидации 0.6257398081785541\n",
      "Новая лучшая модель!\n",
      "\n",
      "Эпоха 33\n",
      "Эпоха: 354 итераций, 2.33 сек\n",
      "Среднее значение функции потерь на обучении 0.10979456338231679\n",
      "Среднее значение функции потерь на валидации 0.6183507471519002\n",
      "Новая лучшая модель!\n",
      "\n",
      "Эпоха 34\n",
      "Эпоха: 354 итераций, 2.36 сек\n",
      "Среднее значение функции потерь на обучении 0.10157747053157139\n",
      "Среднее значение функции потерь на валидации 0.6115706408301652\n",
      "Новая лучшая модель!\n",
      "\n",
      "Эпоха 35\n",
      "Эпоха: 354 итераций, 2.40 сек\n",
      "Среднее значение функции потерь на обучении 0.09375079987981057\n",
      "Среднее значение функции потерь на валидации 0.6039802553921433\n",
      "Новая лучшая модель!\n",
      "\n",
      "Эпоха 36\n",
      "Эпоха: 354 итераций, 2.39 сек\n",
      "Среднее значение функции потерь на обучении 0.08685639062317582\n",
      "Среднее значение функции потерь на валидации 0.5984190901962377\n",
      "Новая лучшая модель!\n",
      "\n",
      "Эпоха 37\n",
      "Эпоха: 354 итераций, 2.38 сек\n",
      "Среднее значение функции потерь на обучении 0.0798711610726465\n",
      "Среднее значение функции потерь на валидации 0.5925938645535607\n",
      "Новая лучшая модель!\n",
      "\n",
      "Эпоха 38\n",
      "Эпоха: 354 итераций, 2.17 сек\n",
      "Среднее значение функции потерь на обучении 0.07383593309165562\n",
      "Среднее значение функции потерь на валидации 0.5874842224737346\n",
      "Новая лучшая модель!\n",
      "\n",
      "Эпоха 39\n",
      "Эпоха: 354 итераций, 2.36 сек\n",
      "Среднее значение функции потерь на обучении 0.06829031224830845\n",
      "Среднее значение функции потерь на валидации 0.5828845573557635\n",
      "Новая лучшая модель!\n",
      "\n",
      "Эпоха 40\n",
      "Эпоха: 354 итераций, 2.37 сек\n",
      "Среднее значение функции потерь на обучении 0.0629729859999218\n",
      "Среднее значение функции потерь на валидации 0.5788914443830312\n",
      "Новая лучшая модель!\n",
      "\n",
      "Эпоха 41\n",
      "Эпоха: 354 итераций, 2.37 сек\n",
      "Среднее значение функции потерь на обучении 0.05817739680504142\n",
      "Среднее значение функции потерь на валидации 0.5752143842815343\n",
      "Новая лучшая модель!\n",
      "\n",
      "Эпоха 42\n",
      "Эпоха: 354 итераций, 2.36 сек\n",
      "Среднее значение функции потерь на обучении 0.05372880094047994\n",
      "Среднее значение функции потерь на валидации 0.5716158337259697\n",
      "Новая лучшая модель!\n",
      "\n",
      "Эпоха 43\n",
      "Эпоха: 354 итераций, 2.41 сек\n",
      "Среднее значение функции потерь на обучении 0.04949286455909411\n",
      "Среднее значение функции потерь на валидации 0.5681680858261504\n",
      "Новая лучшая модель!\n",
      "\n",
      "Эпоха 44\n"
     ]
    },
    {
     "name": "stdout",
     "output_type": "stream",
     "text": [
      "Эпоха: 354 итераций, 2.41 сек\n",
      "Среднее значение функции потерь на обучении 0.045732713096622524\n",
      "Среднее значение функции потерь на валидации 0.5655938763234575\n",
      "Новая лучшая модель!\n",
      "\n",
      "Эпоха 45\n",
      "Эпоха: 354 итераций, 2.41 сек\n",
      "Среднее значение функции потерь на обучении 0.04214605239698779\n",
      "Среднее значение функции потерь на валидации 0.5624707618381007\n",
      "Новая лучшая модель!\n",
      "\n",
      "Эпоха 46\n",
      "Эпоха: 354 итераций, 2.10 сек\n",
      "Среднее значение функции потерь на обучении 0.03891754563303275\n",
      "Среднее значение функции потерь на валидации 0.5601513788609181\n",
      "Новая лучшая модель!\n",
      "\n",
      "Эпоха 47\n",
      "Эпоха: 354 итераций, 2.27 сек\n",
      "Среднее значение функции потерь на обучении 0.03588276680843052\n",
      "Среднее значение функции потерь на валидации 0.5589479581152988\n",
      "Новая лучшая модель!\n",
      "\n",
      "Эпоха 48\n",
      "Эпоха: 354 итераций, 2.32 сек\n",
      "Среднее значение функции потерь на обучении 0.03308413523949136\n",
      "Среднее значение функции потерь на валидации 0.5557692873023324\n",
      "Новая лучшая модель!\n",
      "\n",
      "Эпоха 49\n",
      "Эпоха: 354 итераций, 2.37 сек\n",
      "Среднее значение функции потерь на обучении 0.0305168605909425\n",
      "Среднее значение функции потерь на валидации 0.555263538544966\n",
      "Новая лучшая модель!\n",
      "\n",
      "Эпоха 50\n",
      "Эпоха: 354 итераций, 2.35 сек\n",
      "Среднее значение функции потерь на обучении 0.028169554201780824\n",
      "Среднее значение функции потерь на валидации 0.5539198496963008\n",
      "Новая лучшая модель!\n",
      "\n",
      "Эпоха 51\n",
      "Эпоха: 354 итераций, 2.35 сек\n",
      "Среднее значение функции потерь на обучении 0.0259083316906087\n",
      "Среднее значение функции потерь на валидации 0.551430025280027\n",
      "Новая лучшая модель!\n",
      "\n",
      "Эпоха 52\n",
      "Эпоха: 354 итераций, 2.34 сек\n",
      "Среднее значение функции потерь на обучении 0.023891356281704655\n",
      "Среднее значение функции потерь на валидации 0.551269300345142\n",
      "Новая лучшая модель!\n",
      "\n",
      "Эпоха 53\n",
      "Эпоха: 354 итераций, 2.35 сек\n",
      "Среднее значение функции потерь на обучении 0.02199874614433801\n",
      "Среднее значение функции потерь на валидации 0.5511053763329983\n",
      "Новая лучшая модель!\n",
      "\n",
      "Эпоха 54\n",
      "Эпоха: 354 итераций, 2.37 сек\n",
      "Среднее значение функции потерь на обучении 0.020346985380744066\n",
      "Среднее значение функции потерь на валидации 0.5496842720372191\n",
      "Новая лучшая модель!\n",
      "\n",
      "Эпоха 55\n",
      "Эпоха: 354 итераций, 2.35 сек\n",
      "Среднее значение функции потерь на обучении 0.018713097899657607\n",
      "Среднее значение функции потерь на валидации 0.5491998823264898\n",
      "Новая лучшая модель!\n",
      "\n",
      "Эпоха 56\n",
      "Эпоха: 354 итераций, 2.34 сек\n",
      "Среднее значение функции потерь на обучении 0.01725688795782731\n",
      "Среднее значение функции потерь на валидации 0.5503738013617063\n",
      "\n",
      "Эпоха 57\n",
      "Эпоха: 354 итераций, 2.38 сек\n",
      "Среднее значение функции потерь на обучении 0.015920799608358134\n",
      "Среднее значение функции потерь на валидации 0.5502269499130168\n",
      "\n",
      "Эпоха 58\n",
      "Эпоха: 354 итераций, 2.35 сек\n",
      "Среднее значение функции потерь на обучении 0.014681798345435643\n",
      "Среднее значение функции потерь на валидации 0.5490560601070776\n",
      "Новая лучшая модель!\n",
      "\n",
      "Эпоха 59\n",
      "Эпоха: 354 итераций, 2.35 сек\n",
      "Среднее значение функции потерь на обучении 0.013558034277994627\n",
      "Среднее значение функции потерь на валидации 0.5500313142093561\n",
      "\n",
      "Эпоха 60\n",
      "Эпоха: 354 итераций, 2.37 сек\n",
      "Среднее значение функции потерь на обучении 0.012514754649025446\n",
      "Среднее значение функции потерь на валидации 0.5505621477456416\n",
      "\n",
      "Эпоха 61\n",
      "Эпоха: 354 итераций, 2.37 сек\n",
      "Среднее значение функции потерь на обучении 0.011532409400758097\n",
      "Среднее значение функции потерь на валидации 0.5521811672754712\n",
      "\n",
      "Эпоха 62\n",
      "Эпоха: 354 итераций, 2.32 сек\n",
      "Среднее значение функции потерь на обучении 0.010672699962611084\n",
      "Среднее значение функции потерь на валидации 0.5521127039219363\n",
      "\n",
      "Эпоха 63\n",
      "Эпоха: 354 итераций, 2.36 сек\n",
      "Среднее значение функции потерь на обучении 0.009859350761188204\n",
      "Среднее значение функции потерь на валидации 0.5537749304736065\n",
      "\n",
      "Эпоха 64\n",
      "Эпоха: 354 итераций, 2.36 сек\n",
      "Среднее значение функции потерь на обучении 0.00912022276644695\n",
      "Среднее значение функции потерь на валидации 0.5539002957738052\n",
      "Epoch 00065: reducing learning rate of group 0 to 5.0000e-05.\n",
      "\n",
      "Эпоха 65\n",
      "Эпоха: 354 итераций, 2.35 сек\n",
      "Среднее значение функции потерь на обучении 0.008398561842350216\n",
      "Среднее значение функции потерь на валидации 0.5541134309023619\n",
      "\n",
      "Эпоха 66\n",
      "Эпоха: 354 итераций, 2.37 сек\n",
      "Среднее значение функции потерь на обучении 0.008088782337286358\n",
      "Среднее значение функции потерь на валидации 0.5548580263315116\n",
      "\n",
      "Эпоха 67\n",
      "Эпоха: 354 итераций, 2.39 сек\n",
      "Среднее значение функции потерь на обучении 0.007779482038465386\n",
      "Среднее значение функции потерь на валидации 0.5558143535281642\n",
      "\n",
      "Эпоха 68\n",
      "Эпоха: 354 итераций, 2.31 сек\n",
      "Среднее значение функции потерь на обучении 0.007471953184570128\n",
      "Среднее значение функции потерь на валидации 0.5565158400242611\n",
      "\n",
      "Эпоха 69\n",
      "Эпоха: 354 итераций, 2.37 сек\n",
      "Среднее значение функции потерь на обучении 0.007167649787513929\n",
      "Среднее значение функции потерь на валидации 0.5563913346978567\n",
      "Модель не улучшилась за последние 10 эпох, прекращаем обучение\n"
     ]
    }
   ],
   "source": [
    "# model = nn.Linear(UNIQUE_WORDS_N, UNIQUE_LABELS_N)\n",
    "model = nn.Sequential(\n",
    "    nn.Linear(UNIQUE_WORDS_N, 256),\n",
    "    nn.ReLU(),\n",
    "    nn.Linear(256, UNIQUE_LABELS_N)\n",
    ")\n",
    "\n",
    "scheduler = lambda optim: \\\n",
    "    torch.optim.lr_scheduler.ReduceLROnPlateau(optim, patience=5, factor=0.5, verbose=True)\n",
    "\n",
    "best_val_loss, best_model = train_eval_loop(model=model,\n",
    "                                            train_dataset=train_dataset,\n",
    "                                            val_dataset=test_dataset,\n",
    "                                            criterion=F.cross_entropy,\n",
    "                                            lr=0.0001,\n",
    "                                            epoch_n=200,\n",
    "                                            device='cuda',\n",
    "                                            batch_size=32,\n",
    "                                            l2_reg_alpha=0,\n",
    "                                            lr_scheduler_ctor=scheduler)"
   ]
  },
  {
   "cell_type": "markdown",
   "metadata": {},
   "source": [
    "## Оценка качества"
   ]
  },
  {
   "cell_type": "code",
   "execution_count": 92,
   "metadata": {
    "ExecuteTime": {
     "end_time": "2019-09-12T12:46:25.105663Z",
     "start_time": "2019-09-12T12:46:22.373012Z"
    }
   },
   "outputs": [
    {
     "name": "stderr",
     "output_type": "stream",
     "text": [
      "100%|██████████████████████████████████████████████████████████████████████████| 354/353.5625 [00:01<00:00, 232.60it/s]\n"
     ]
    },
    {
     "name": "stdout",
     "output_type": "stream",
     "text": [
      "Среднее значение функции потерь на обучении 0.013538988307118416\n",
      "Доля верных ответов 0.9991161392964468\n",
      "\n"
     ]
    },
    {
     "name": "stderr",
     "output_type": "stream",
     "text": [
      "236it [00:01, 223.65it/s]                                                                                              "
     ]
    },
    {
     "name": "stdout",
     "output_type": "stream",
     "text": [
      "Среднее значение функции потерь на валидации 0.5483399033546448\n",
      "Доля верных ответов 0.8421402018056293\n"
     ]
    },
    {
     "name": "stderr",
     "output_type": "stream",
     "text": [
      "\n"
     ]
    }
   ],
   "source": [
    "train_pred = predict_with_model(best_model, train_dataset)\n",
    "\n",
    "train_loss = F.cross_entropy(torch.from_numpy(train_pred),\n",
    "                             torch.from_numpy(train_source['target']).long())\n",
    "\n",
    "print('Среднее значение функции потерь на обучении', float(train_loss))\n",
    "print('Доля верных ответов', accuracy_score(train_source['target'], train_pred.argmax(-1)))\n",
    "print()\n",
    "\n",
    "\n",
    "\n",
    "test_pred = predict_with_model(best_model, test_dataset)\n",
    "\n",
    "test_loss = F.cross_entropy(torch.from_numpy(test_pred),\n",
    "                            torch.from_numpy(test_source['target']).long())\n",
    "\n",
    "print('Среднее значение функции потерь на валидации', float(test_loss))\n",
    "print('Доля верных ответов', accuracy_score(test_source['target'], test_pred.argmax(-1)))"
   ]
  },
  {
   "cell_type": "markdown",
   "metadata": {},
   "source": [
    "# Альтернативная реализация на scikit-learn"
   ]
  },
  {
   "cell_type": "code",
   "execution_count": 15,
   "metadata": {
    "ExecuteTime": {
     "end_time": "2019-09-12T12:46:31.791405Z",
     "start_time": "2019-09-12T12:46:25.107897Z"
    },
    "scrolled": false
   },
   "outputs": [],
   "source": [
    "from sklearn.feature_extraction.text import TfidfVectorizer\n",
    "from sklearn.pipeline import Pipeline\n",
    "from sklearn.linear_model import LogisticRegression\n",
    "\n",
    "sklearn_pipeline = Pipeline((('vect', TfidfVectorizer(tokenizer=tokenize_text_simple_regex,\n",
    "                                                      max_df=MAX_DF,\n",
    "                                                      min_df=MIN_COUNT)),\n",
    "                             ('cls', LogisticRegression())))\n",
    "sklearn_pipeline.fit(train_source['data'], train_source['target']);"
   ]
  },
  {
   "cell_type": "markdown",
   "metadata": {},
   "source": [
    "## Оценка качества"
   ]
  },
  {
   "cell_type": "code",
   "execution_count": 19,
   "metadata": {
    "ExecuteTime": {
     "end_time": "2019-09-12T12:46:35.454567Z",
     "start_time": "2019-09-12T12:46:31.792832Z"
    }
   },
   "outputs": [
    {
     "name": "stdout",
     "output_type": "stream",
     "text": [
      "Среднее значение функции потерь на обучении 2.4954788918555657\n",
      "Доля верных ответов 0.9716280714159449\n",
      "\n",
      "Среднее значение функции потерь на валидации 2.65390225823174\n",
      "Доля верных ответов 0.8190387679235263\n"
     ]
    }
   ],
   "source": [
    "sklearn_train_pred = sklearn_pipeline.predict_proba(train_source['data'])\n",
    "sklearn_train_loss = F.cross_entropy(torch.from_numpy(sklearn_train_pred),\n",
    "                                                 torch.from_numpy(train_source['target']).type(torch.LongTensor))\n",
    "print('Среднее значение функции потерь на обучении', float(sklearn_train_loss))\n",
    "print('Доля верных ответов', accuracy_score(train_source['target'], sklearn_train_pred.argmax(-1)))\n",
    "print()\n",
    "\n",
    "sklearn_test_pred = sklearn_pipeline.predict_proba(test_source['data'])\n",
    "sklearn_test_loss = F.cross_entropy(torch.from_numpy(sklearn_test_pred),\n",
    "                                                torch.from_numpy(test_source['target']).type(torch.LongTensor))\n",
    "print('Среднее значение функции потерь на валидации', float(sklearn_test_loss))\n",
    "print('Доля верных ответов', accuracy_score(test_source['target'], sklearn_test_pred.argmax(-1)))"
   ]
  },
  {
   "cell_type": "code",
   "execution_count": null,
   "metadata": {},
   "outputs": [],
   "source": []
  }
 ],
 "metadata": {
  "kernelspec": {
   "display_name": "samsung_nlp",
   "language": "python",
   "name": "samsung_nlp"
  },
  "language_info": {
   "codemirror_mode": {
    "name": "ipython",
    "version": 3
   },
   "file_extension": ".py",
   "mimetype": "text/x-python",
   "name": "python",
   "nbconvert_exporter": "python",
   "pygments_lexer": "ipython3",
   "version": "3.9.13"
  },
  "latex_envs": {
   "LaTeX_envs_menu_present": true,
   "autoclose": false,
   "autocomplete": true,
   "bibliofile": "biblio.bib",
   "cite_by": "apalike",
   "current_citInitial": 1,
   "eqLabelWithNumbers": true,
   "eqNumInitial": 1,
   "hotkeys": {
    "equation": "Ctrl-E",
    "itemize": "Ctrl-I"
   },
   "labels_anchors": false,
   "latex_user_defs": false,
   "report_style_numbering": false,
   "user_envs_cfg": false
  },
  "toc": {
   "base_numbering": 1,
   "nav_menu": {},
   "number_sections": true,
   "sideBar": true,
   "skip_h1_title": false,
   "title_cell": "Table of Contents",
   "title_sidebar": "Contents",
   "toc_cell": false,
   "toc_position": {},
   "toc_section_display": true,
   "toc_window_display": true
  }
 },
 "nbformat": 4,
 "nbformat_minor": 2
}
